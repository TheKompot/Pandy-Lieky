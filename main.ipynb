{
 "metadata": {
  "language_info": {
   "codemirror_mode": {
    "name": "ipython",
    "version": 3
   },
   "file_extension": ".py",
   "mimetype": "text/x-python",
   "name": "python",
   "nbconvert_exporter": "python",
   "pygments_lexer": "ipython3",
   "version": "3.9.1-final"
  },
  "orig_nbformat": 2,
  "kernelspec": {
   "name": "python3",
   "display_name": "Python 3.9.1 64-bit",
   "metadata": {
    "interpreter": {
     "hash": "d153afc154f55f63edb29ab3b8e0ef98f4223ee04c2a602f3a0cf8c8ffe67f14"
    }
   }
  }
 },
 "nbformat": 4,
 "nbformat_minor": 2,
 "cells": [
  {
   "cell_type": "code",
   "execution_count": 87,
   "metadata": {},
   "outputs": [],
   "source": [
    "import pandas as pd \n",
    "import numpy as np \n",
    "import matplotlib.pyplot as plt \n",
    "%run tables.py\n",
    "table = import_table('all',2020)"
   ]
  },
  {
   "cell_type": "code",
   "execution_count": 88,
   "metadata": {},
   "outputs": [
    {
     "output_type": "display_data",
     "data": {
      "text/plain": "  Rok spracovania Kód lieku  \\\n0            2020    C91102   \n1            2020    C86052   \n2            2020    C24857   \n3            2020    C15457   \n4            2020    C15308   \n\n                                         Popis lieku 1. štvrťrok 2020  \\\n0                             Drytec gen rnk 2,5 GBq       2129525.77   \n1            PARALEN 500 tbl 24x500 mg (blis.Al/PVC)       1294283.02   \n2                  NOVALGIN 500 mg tbl flm 20x500 mg         365402.7   \n3                            Drytec gen rnk 10,0 GBq           330411   \n4  Ultra-TechneKow FM (99mTC-generátor) inj 10,63...           345408   \n\n  2. štvrťrok 2020 3. štvrťrok 2020  \n0       1763804.34        2047677.2  \n1         286056.2        510606.63  \n2         349131.6         396005.9  \n3           259444           317756  \n4           284721           303788  ",
      "text/html": "<div>\n<style scoped>\n    .dataframe tbody tr th:only-of-type {\n        vertical-align: middle;\n    }\n\n    .dataframe tbody tr th {\n        vertical-align: top;\n    }\n\n    .dataframe thead th {\n        text-align: right;\n    }\n</style>\n<table border=\"1\" class=\"dataframe\">\n  <thead>\n    <tr style=\"text-align: right;\">\n      <th></th>\n      <th>Rok spracovania</th>\n      <th>Kód lieku</th>\n      <th>Popis lieku</th>\n      <th>1. štvrťrok 2020</th>\n      <th>2. štvrťrok 2020</th>\n      <th>3. štvrťrok 2020</th>\n    </tr>\n  </thead>\n  <tbody>\n    <tr>\n      <th>0</th>\n      <td>2020</td>\n      <td>C91102</td>\n      <td>Drytec gen rnk 2,5 GBq</td>\n      <td>2129525.77</td>\n      <td>1763804.34</td>\n      <td>2047677.2</td>\n    </tr>\n    <tr>\n      <th>1</th>\n      <td>2020</td>\n      <td>C86052</td>\n      <td>PARALEN 500 tbl 24x500 mg (blis.Al/PVC)</td>\n      <td>1294283.02</td>\n      <td>286056.2</td>\n      <td>510606.63</td>\n    </tr>\n    <tr>\n      <th>2</th>\n      <td>2020</td>\n      <td>C24857</td>\n      <td>NOVALGIN 500 mg tbl flm 20x500 mg</td>\n      <td>365402.7</td>\n      <td>349131.6</td>\n      <td>396005.9</td>\n    </tr>\n    <tr>\n      <th>3</th>\n      <td>2020</td>\n      <td>C15457</td>\n      <td>Drytec gen rnk 10,0 GBq</td>\n      <td>330411</td>\n      <td>259444</td>\n      <td>317756</td>\n    </tr>\n    <tr>\n      <th>4</th>\n      <td>2020</td>\n      <td>C15308</td>\n      <td>Ultra-TechneKow FM (99mTC-generátor) inj 10,63...</td>\n      <td>345408</td>\n      <td>284721</td>\n      <td>303788</td>\n    </tr>\n  </tbody>\n</table>\n</div>"
     },
     "metadata": {}
    }
   ],
   "source": [
    "display(table.head())"
   ]
  },
  {
   "cell_type": "code",
   "execution_count": null,
   "metadata": {},
   "outputs": [],
   "source": []
  }
 ]
}