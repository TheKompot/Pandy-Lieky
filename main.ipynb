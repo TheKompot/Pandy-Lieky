{
 "metadata": {
  "language_info": {
   "codemirror_mode": {
    "name": "ipython",
    "version": 3
   },
   "file_extension": ".py",
   "mimetype": "text/x-python",
   "name": "python",
   "nbconvert_exporter": "python",
   "pygments_lexer": "ipython3",
   "version": "3.9.1"
  },
  "orig_nbformat": 2,
  "kernelspec": {
   "name": "python391jvsc74a57bd0d153afc154f55f63edb29ab3b8e0ef98f4223ee04c2a602f3a0cf8c8ffe67f14",
   "display_name": "Python 3.9.1 64-bit"
  },
  "metadata": {
   "interpreter": {
    "hash": "d153afc154f55f63edb29ab3b8e0ef98f4223ee04c2a602f3a0cf8c8ffe67f14"
   }
  }
 },
 "nbformat": 4,
 "nbformat_minor": 2,
 "cells": [
  {
   "cell_type": "code",
   "execution_count": 5,
   "metadata": {},
   "outputs": [],
   "source": [
    "import pandas as pd \n",
    "import numpy as np \n",
    "import matplotlib.pyplot as plt \n",
    "%run tables.py\n",
    "table = import_table('detailed',2019)"
   ]
  },
  {
   "cell_type": "code",
   "execution_count": 7,
   "metadata": {},
   "outputs": [
    {
     "output_type": "display_data",
     "data": {
      "text/plain": "0        ELMEX FLUID sol dnt 1x50 ml\n1        ELMEX FLUID sol dnt 1x50 ml\n2         ELMEX gelee gel dnt 1x25 g\n3         ELMEX gelee gel dnt 1x25 g\n4         ELMEX gelee gel dnt 1x25 g\n                    ...             \n32304         KÓD NIE JE V ČÍSELNÍKU\n32305         KÓD NIE JE V ČÍSELNÍKU\n32306         KÓD NIE JE V ČÍSELNÍKU\n32307         KÓD NIE JE V ČÍSELNÍKU\n32308         KÓD NIE JE V ČÍSELNÍKU\nName: LIEK_popis, Length: 32309, dtype: object"
     },
     "metadata": {}
    }
   ],
   "source": [
    "display(table['LIEK_popis'])"
   ]
  },
  {
   "cell_type": "code",
   "execution_count": null,
   "metadata": {},
   "outputs": [],
   "source": []
  }
 ]
}