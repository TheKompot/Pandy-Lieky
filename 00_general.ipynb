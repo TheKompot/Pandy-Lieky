{
 "metadata": {
  "language_info": {
   "codemirror_mode": {
    "name": "ipython",
    "version": 3
   },
   "file_extension": ".py",
   "mimetype": "text/x-python",
   "name": "python",
   "nbconvert_exporter": "python",
   "pygments_lexer": "ipython3",
   "version": "3.9.4"
  },
  "orig_nbformat": 2,
  "kernelspec": {
   "name": "python394jvsc74a57bd0d1ad74d1eaa0c069cf094060e3cdc63c95adf6f18ea0e0bdcae578badfa1e0f6",
   "display_name": "Python 3.9.4 64-bit"
  },
  "metadata": {
   "interpreter": {
    "hash": "d1ad74d1eaa0c069cf094060e3cdc63c95adf6f18ea0e0bdcae578badfa1e0f6"
   }
  }
 },
 "nbformat": 4,
 "nbformat_minor": 2,
 "cells": [
  {
   "source": [
    "# General plot of Slovak drugs\n",
    "\n",
    "## How did our data change between 2018 and 2020 "
   ],
   "cell_type": "markdown",
   "metadata": {}
  },
  {
   "cell_type": "code",
   "execution_count": 1,
   "metadata": {},
   "outputs": [],
   "source": [
    "import numpy as np \n",
    "import matplotlib.pyplot as plt \n",
    "import pandas as pd \n",
    "import plotly.graph_objects as go\n",
    "\n",
    "from sklearn.linear_model import LinearRegression\n",
    "\n",
    "%run tables.py"
   ]
  },
  {
   "cell_type": "code",
   "execution_count": 2,
   "metadata": {},
   "outputs": [
    {
     "output_type": "stream",
     "name": "stdout",
     "text": [
      "2018 Q1\n"
     ]
    },
    {
     "output_type": "display_data",
     "data": {
      "text/plain": "   ROK_SPRAC KOD_PRODUKT                                    KOD_PRODUKT_POP  \\\n0       2018      C91102                             Drytec gen rnk 2,5 GBq   \n1       2018      C86052            PARALEN 500 tbl 24x500 mg (blis.Al/PVC)   \n2       2018      C37743  0,9% SODIUM CHL.IN W.F.I.FRESENIUS sol inf 1x1...   \n3       2018      C24857                  NOVALGIN 500 mg tbl flm 20x500 mg   \n4       2018      C15457                            Drytec gen rnk 10,0 GBq   \n\n   POCET_BALENI_Q1  UHRADA_ZP_Q1  UHRADA_PAC_Q1  UHRADA_SP_Q1  CENA_Q1  \n0      2019133.650     135526.09           0.00     135526.09     0.07  \n1       753191.183      10410.23     1117373.81    1127784.04     1.50  \n2       466966.390     330047.34        1376.94     331424.28     0.71  \n3       377239.190     567014.18      440663.55    1007677.73     2.67  \n4       405014.000      29469.16           0.00      29469.16     0.07  ",
      "text/html": "<div>\n<style scoped>\n    .dataframe tbody tr th:only-of-type {\n        vertical-align: middle;\n    }\n\n    .dataframe tbody tr th {\n        vertical-align: top;\n    }\n\n    .dataframe thead th {\n        text-align: right;\n    }\n</style>\n<table border=\"1\" class=\"dataframe\">\n  <thead>\n    <tr style=\"text-align: right;\">\n      <th></th>\n      <th>ROK_SPRAC</th>\n      <th>KOD_PRODUKT</th>\n      <th>KOD_PRODUKT_POP</th>\n      <th>POCET_BALENI_Q1</th>\n      <th>UHRADA_ZP_Q1</th>\n      <th>UHRADA_PAC_Q1</th>\n      <th>UHRADA_SP_Q1</th>\n      <th>CENA_Q1</th>\n    </tr>\n  </thead>\n  <tbody>\n    <tr>\n      <th>0</th>\n      <td>2018</td>\n      <td>C91102</td>\n      <td>Drytec gen rnk 2,5 GBq</td>\n      <td>2019133.650</td>\n      <td>135526.09</td>\n      <td>0.00</td>\n      <td>135526.09</td>\n      <td>0.07</td>\n    </tr>\n    <tr>\n      <th>1</th>\n      <td>2018</td>\n      <td>C86052</td>\n      <td>PARALEN 500 tbl 24x500 mg (blis.Al/PVC)</td>\n      <td>753191.183</td>\n      <td>10410.23</td>\n      <td>1117373.81</td>\n      <td>1127784.04</td>\n      <td>1.50</td>\n    </tr>\n    <tr>\n      <th>2</th>\n      <td>2018</td>\n      <td>C37743</td>\n      <td>0,9% SODIUM CHL.IN W.F.I.FRESENIUS sol inf 1x1...</td>\n      <td>466966.390</td>\n      <td>330047.34</td>\n      <td>1376.94</td>\n      <td>331424.28</td>\n      <td>0.71</td>\n    </tr>\n    <tr>\n      <th>3</th>\n      <td>2018</td>\n      <td>C24857</td>\n      <td>NOVALGIN 500 mg tbl flm 20x500 mg</td>\n      <td>377239.190</td>\n      <td>567014.18</td>\n      <td>440663.55</td>\n      <td>1007677.73</td>\n      <td>2.67</td>\n    </tr>\n    <tr>\n      <th>4</th>\n      <td>2018</td>\n      <td>C15457</td>\n      <td>Drytec gen rnk 10,0 GBq</td>\n      <td>405014.000</td>\n      <td>29469.16</td>\n      <td>0.00</td>\n      <td>29469.16</td>\n      <td>0.07</td>\n    </tr>\n  </tbody>\n</table>\n</div>"
     },
     "metadata": {}
    },
    {
     "output_type": "stream",
     "name": "stdout",
     "text": [
      "2018 Q2\n"
     ]
    },
    {
     "output_type": "display_data",
     "data": {
      "text/plain": "   ROK_SPRAC KOD_PRODUKT                                    KOD_PRODUKT_POP  \\\n0       2018      C91102                             Drytec gen rnk 2,5 GBq   \n1       2018      C86052            PARALEN 500 tbl 24x500 mg (blis.Al/PVC)   \n2       2018      C37743  0,9% SODIUM CHL.IN W.F.I.FRESENIUS sol inf 1x1...   \n3       2018      C24857                  NOVALGIN 500 mg tbl flm 20x500 mg   \n4       2018      C15457                            Drytec gen rnk 10,0 GBq   \n\n   POCET_BALENI_Q2  UHRADA_ZP_Q2  UHRADA_PAC_Q2  UHRADA_SP_Q2  CENA_Q2  \n0      2059538.730     135591.38           0.00     135591.38     0.07  \n1       399195.314       7466.80      597460.25     604927.05     1.52  \n2       432223.160     310427.85         700.03     311127.88     0.72  \n3       383341.280     574896.52      438554.98    1013451.50     2.64  \n4       392620.000      29583.56           0.00      29583.56     0.08  ",
      "text/html": "<div>\n<style scoped>\n    .dataframe tbody tr th:only-of-type {\n        vertical-align: middle;\n    }\n\n    .dataframe tbody tr th {\n        vertical-align: top;\n    }\n\n    .dataframe thead th {\n        text-align: right;\n    }\n</style>\n<table border=\"1\" class=\"dataframe\">\n  <thead>\n    <tr style=\"text-align: right;\">\n      <th></th>\n      <th>ROK_SPRAC</th>\n      <th>KOD_PRODUKT</th>\n      <th>KOD_PRODUKT_POP</th>\n      <th>POCET_BALENI_Q2</th>\n      <th>UHRADA_ZP_Q2</th>\n      <th>UHRADA_PAC_Q2</th>\n      <th>UHRADA_SP_Q2</th>\n      <th>CENA_Q2</th>\n    </tr>\n  </thead>\n  <tbody>\n    <tr>\n      <th>0</th>\n      <td>2018</td>\n      <td>C91102</td>\n      <td>Drytec gen rnk 2,5 GBq</td>\n      <td>2059538.730</td>\n      <td>135591.38</td>\n      <td>0.00</td>\n      <td>135591.38</td>\n      <td>0.07</td>\n    </tr>\n    <tr>\n      <th>1</th>\n      <td>2018</td>\n      <td>C86052</td>\n      <td>PARALEN 500 tbl 24x500 mg (blis.Al/PVC)</td>\n      <td>399195.314</td>\n      <td>7466.80</td>\n      <td>597460.25</td>\n      <td>604927.05</td>\n      <td>1.52</td>\n    </tr>\n    <tr>\n      <th>2</th>\n      <td>2018</td>\n      <td>C37743</td>\n      <td>0,9% SODIUM CHL.IN W.F.I.FRESENIUS sol inf 1x1...</td>\n      <td>432223.160</td>\n      <td>310427.85</td>\n      <td>700.03</td>\n      <td>311127.88</td>\n      <td>0.72</td>\n    </tr>\n    <tr>\n      <th>3</th>\n      <td>2018</td>\n      <td>C24857</td>\n      <td>NOVALGIN 500 mg tbl flm 20x500 mg</td>\n      <td>383341.280</td>\n      <td>574896.52</td>\n      <td>438554.98</td>\n      <td>1013451.50</td>\n      <td>2.64</td>\n    </tr>\n    <tr>\n      <th>4</th>\n      <td>2018</td>\n      <td>C15457</td>\n      <td>Drytec gen rnk 10,0 GBq</td>\n      <td>392620.000</td>\n      <td>29583.56</td>\n      <td>0.00</td>\n      <td>29583.56</td>\n      <td>0.08</td>\n    </tr>\n  </tbody>\n</table>\n</div>"
     },
     "metadata": {}
    },
    {
     "output_type": "stream",
     "name": "stdout",
     "text": [
      "2018 Q3\n"
     ]
    },
    {
     "output_type": "display_data",
     "data": {
      "text/plain": "   ROK_SPRAC KOD_PRODUKT                                    KOD_PRODUKT_POP  \\\n0       2018      C91102                             Drytec gen rnk 2,5 GBq   \n1       2018      C86052            PARALEN 500 tbl 24x500 mg (blis.Al/PVC)   \n2       2018      C37743  0,9% SODIUM CHL.IN W.F.I.FRESENIUS sol inf 1x1...   \n3       2018      C24857                  NOVALGIN 500 mg tbl flm 20x500 mg   \n4       2018      C15457                            Drytec gen rnk 10,0 GBq   \n\n   POCET_BALENI_Q3  UHRADA_ZP_Q3  UHRADA_PAC_Q3  UHRADA_SP_Q3  CENA_Q3  \n0      1910131.590     123459.07           0.00     123459.07     0.06  \n1       444452.808       7937.61      651142.24     659079.85     1.48  \n2       348123.840     250159.63         565.90     250725.53     0.72  \n3       376470.450     563208.96      434479.09     997688.05     2.65  \n4       354322.000      25372.56           0.00      25372.56     0.07  ",
      "text/html": "<div>\n<style scoped>\n    .dataframe tbody tr th:only-of-type {\n        vertical-align: middle;\n    }\n\n    .dataframe tbody tr th {\n        vertical-align: top;\n    }\n\n    .dataframe thead th {\n        text-align: right;\n    }\n</style>\n<table border=\"1\" class=\"dataframe\">\n  <thead>\n    <tr style=\"text-align: right;\">\n      <th></th>\n      <th>ROK_SPRAC</th>\n      <th>KOD_PRODUKT</th>\n      <th>KOD_PRODUKT_POP</th>\n      <th>POCET_BALENI_Q3</th>\n      <th>UHRADA_ZP_Q3</th>\n      <th>UHRADA_PAC_Q3</th>\n      <th>UHRADA_SP_Q3</th>\n      <th>CENA_Q3</th>\n    </tr>\n  </thead>\n  <tbody>\n    <tr>\n      <th>0</th>\n      <td>2018</td>\n      <td>C91102</td>\n      <td>Drytec gen rnk 2,5 GBq</td>\n      <td>1910131.590</td>\n      <td>123459.07</td>\n      <td>0.00</td>\n      <td>123459.07</td>\n      <td>0.06</td>\n    </tr>\n    <tr>\n      <th>1</th>\n      <td>2018</td>\n      <td>C86052</td>\n      <td>PARALEN 500 tbl 24x500 mg (blis.Al/PVC)</td>\n      <td>444452.808</td>\n      <td>7937.61</td>\n      <td>651142.24</td>\n      <td>659079.85</td>\n      <td>1.48</td>\n    </tr>\n    <tr>\n      <th>2</th>\n      <td>2018</td>\n      <td>C37743</td>\n      <td>0,9% SODIUM CHL.IN W.F.I.FRESENIUS sol inf 1x1...</td>\n      <td>348123.840</td>\n      <td>250159.63</td>\n      <td>565.90</td>\n      <td>250725.53</td>\n      <td>0.72</td>\n    </tr>\n    <tr>\n      <th>3</th>\n      <td>2018</td>\n      <td>C24857</td>\n      <td>NOVALGIN 500 mg tbl flm 20x500 mg</td>\n      <td>376470.450</td>\n      <td>563208.96</td>\n      <td>434479.09</td>\n      <td>997688.05</td>\n      <td>2.65</td>\n    </tr>\n    <tr>\n      <th>4</th>\n      <td>2018</td>\n      <td>C15457</td>\n      <td>Drytec gen rnk 10,0 GBq</td>\n      <td>354322.000</td>\n      <td>25372.56</td>\n      <td>0.00</td>\n      <td>25372.56</td>\n      <td>0.07</td>\n    </tr>\n  </tbody>\n</table>\n</div>"
     },
     "metadata": {}
    },
    {
     "output_type": "stream",
     "name": "stdout",
     "text": [
      "2018 Q4\n"
     ]
    },
    {
     "output_type": "display_data",
     "data": {
      "text/plain": "   ROK_SPRAC KOD_PRODUKT                                    KOD_PRODUKT_POP  \\\n0       2018      C91102                             Drytec gen rnk 2,5 GBq   \n1       2018      C86052            PARALEN 500 tbl 24x500 mg (blis.Al/PVC)   \n2       2018      C37743  0,9% SODIUM CHL.IN W.F.I.FRESENIUS sol inf 1x1...   \n3       2018      C24857                  NOVALGIN 500 mg tbl flm 20x500 mg   \n4       2018      C15457                            Drytec gen rnk 10,0 GBq   \n\n   POCET_BALENI_Q4  UHRADA_ZP_Q4  UHRADA_PAC_Q4  UHRADA_SP_Q4  CENA_Q4  \n0       1781338.52     113796.18           0.00     113796.18     0.06  \n1        714101.75      10062.30     1096390.94    1106453.24     1.55  \n2        379718.62     270718.69         457.52     271176.21     0.71  \n3        404611.00     605627.79      467233.14    1072860.93     2.65  \n4        340192.00      27968.88           0.00      27968.88     0.08  ",
      "text/html": "<div>\n<style scoped>\n    .dataframe tbody tr th:only-of-type {\n        vertical-align: middle;\n    }\n\n    .dataframe tbody tr th {\n        vertical-align: top;\n    }\n\n    .dataframe thead th {\n        text-align: right;\n    }\n</style>\n<table border=\"1\" class=\"dataframe\">\n  <thead>\n    <tr style=\"text-align: right;\">\n      <th></th>\n      <th>ROK_SPRAC</th>\n      <th>KOD_PRODUKT</th>\n      <th>KOD_PRODUKT_POP</th>\n      <th>POCET_BALENI_Q4</th>\n      <th>UHRADA_ZP_Q4</th>\n      <th>UHRADA_PAC_Q4</th>\n      <th>UHRADA_SP_Q4</th>\n      <th>CENA_Q4</th>\n    </tr>\n  </thead>\n  <tbody>\n    <tr>\n      <th>0</th>\n      <td>2018</td>\n      <td>C91102</td>\n      <td>Drytec gen rnk 2,5 GBq</td>\n      <td>1781338.52</td>\n      <td>113796.18</td>\n      <td>0.00</td>\n      <td>113796.18</td>\n      <td>0.06</td>\n    </tr>\n    <tr>\n      <th>1</th>\n      <td>2018</td>\n      <td>C86052</td>\n      <td>PARALEN 500 tbl 24x500 mg (blis.Al/PVC)</td>\n      <td>714101.75</td>\n      <td>10062.30</td>\n      <td>1096390.94</td>\n      <td>1106453.24</td>\n      <td>1.55</td>\n    </tr>\n    <tr>\n      <th>2</th>\n      <td>2018</td>\n      <td>C37743</td>\n      <td>0,9% SODIUM CHL.IN W.F.I.FRESENIUS sol inf 1x1...</td>\n      <td>379718.62</td>\n      <td>270718.69</td>\n      <td>457.52</td>\n      <td>271176.21</td>\n      <td>0.71</td>\n    </tr>\n    <tr>\n      <th>3</th>\n      <td>2018</td>\n      <td>C24857</td>\n      <td>NOVALGIN 500 mg tbl flm 20x500 mg</td>\n      <td>404611.00</td>\n      <td>605627.79</td>\n      <td>467233.14</td>\n      <td>1072860.93</td>\n      <td>2.65</td>\n    </tr>\n    <tr>\n      <th>4</th>\n      <td>2018</td>\n      <td>C15457</td>\n      <td>Drytec gen rnk 10,0 GBq</td>\n      <td>340192.00</td>\n      <td>27968.88</td>\n      <td>0.00</td>\n      <td>27968.88</td>\n      <td>0.08</td>\n    </tr>\n  </tbody>\n</table>\n</div>"
     },
     "metadata": {}
    },
    {
     "output_type": "stream",
     "name": "stdout",
     "text": [
      "2019 Q1\n"
     ]
    },
    {
     "output_type": "display_data",
     "data": {
      "text/plain": "   ROK_SPRAC LIEK_KOD                               LIEK_popis  \\\n0       2019   C91102                   Drytec gen rnk 2,5 GBq   \n1       2019   C86052  PARALEN 500 tbl 24x500 mg (blis.Al/PVC)   \n2       2019   C15457                  Drytec gen rnk 10,0 GBq   \n3       2019   C24857        NOVALGIN 500 mg tbl flm 20x500 mg   \n4       2019   C26797           MUCONASAL PLUS sol neb 1x10 ml   \n\n   Počet balení_Q1  Úhrada_ZP_Q1  Úhrada_PAC_Q1  Úhrada_SPOLU_Q1  \n0      1847088.300     116822.96           0.00        116822.96  \n1       697868.355      11208.69     1140852.40       1152061.09  \n2       395020.000      24987.43           0.00         24987.43  \n3       325839.700     490200.33      379690.30        869890.63  \n4       324369.400       9060.29     1563782.36       1572842.65  ",
      "text/html": "<div>\n<style scoped>\n    .dataframe tbody tr th:only-of-type {\n        vertical-align: middle;\n    }\n\n    .dataframe tbody tr th {\n        vertical-align: top;\n    }\n\n    .dataframe thead th {\n        text-align: right;\n    }\n</style>\n<table border=\"1\" class=\"dataframe\">\n  <thead>\n    <tr style=\"text-align: right;\">\n      <th></th>\n      <th>ROK_SPRAC</th>\n      <th>LIEK_KOD</th>\n      <th>LIEK_popis</th>\n      <th>Počet balení_Q1</th>\n      <th>Úhrada_ZP_Q1</th>\n      <th>Úhrada_PAC_Q1</th>\n      <th>Úhrada_SPOLU_Q1</th>\n    </tr>\n  </thead>\n  <tbody>\n    <tr>\n      <th>0</th>\n      <td>2019</td>\n      <td>C91102</td>\n      <td>Drytec gen rnk 2,5 GBq</td>\n      <td>1847088.300</td>\n      <td>116822.96</td>\n      <td>0.00</td>\n      <td>116822.96</td>\n    </tr>\n    <tr>\n      <th>1</th>\n      <td>2019</td>\n      <td>C86052</td>\n      <td>PARALEN 500 tbl 24x500 mg (blis.Al/PVC)</td>\n      <td>697868.355</td>\n      <td>11208.69</td>\n      <td>1140852.40</td>\n      <td>1152061.09</td>\n    </tr>\n    <tr>\n      <th>2</th>\n      <td>2019</td>\n      <td>C15457</td>\n      <td>Drytec gen rnk 10,0 GBq</td>\n      <td>395020.000</td>\n      <td>24987.43</td>\n      <td>0.00</td>\n      <td>24987.43</td>\n    </tr>\n    <tr>\n      <th>3</th>\n      <td>2019</td>\n      <td>C24857</td>\n      <td>NOVALGIN 500 mg tbl flm 20x500 mg</td>\n      <td>325839.700</td>\n      <td>490200.33</td>\n      <td>379690.30</td>\n      <td>869890.63</td>\n    </tr>\n    <tr>\n      <th>4</th>\n      <td>2019</td>\n      <td>C26797</td>\n      <td>MUCONASAL PLUS sol neb 1x10 ml</td>\n      <td>324369.400</td>\n      <td>9060.29</td>\n      <td>1563782.36</td>\n      <td>1572842.65</td>\n    </tr>\n  </tbody>\n</table>\n</div>"
     },
     "metadata": {}
    },
    {
     "output_type": "stream",
     "name": "stdout",
     "text": [
      "2019 Q2\n"
     ]
    },
    {
     "output_type": "display_data",
     "data": {
      "text/plain": "   ROK_SPRAC LIEK_KOD                               LIEK_popis  \\\n0       2019   C91102                   Drytec gen rnk 2,5 GBq   \n1       2019   C86052  PARALEN 500 tbl 24x500 mg (blis.Al/PVC)   \n2       2019   C15457                  Drytec gen rnk 10,0 GBq   \n3       2019   C24857        NOVALGIN 500 mg tbl flm 20x500 mg   \n4       2019   C26797           MUCONASAL PLUS sol neb 1x10 ml   \n\n   Počet balení_Q2  Úhrada_ZP_Q2  Úhrada_PAC_Q2  Úhrada_SPOLU_Q2  \n0      1708695.460     108390.64           0.00        108390.64  \n1       423526.725       7271.48      710686.91        717958.39  \n2       354756.000      17190.24           0.00         17190.24  \n3       380034.590     572348.07      441133.66       1013481.73  \n4       224699.050       6800.01     1139971.63       1146771.64  ",
      "text/html": "<div>\n<style scoped>\n    .dataframe tbody tr th:only-of-type {\n        vertical-align: middle;\n    }\n\n    .dataframe tbody tr th {\n        vertical-align: top;\n    }\n\n    .dataframe thead th {\n        text-align: right;\n    }\n</style>\n<table border=\"1\" class=\"dataframe\">\n  <thead>\n    <tr style=\"text-align: right;\">\n      <th></th>\n      <th>ROK_SPRAC</th>\n      <th>LIEK_KOD</th>\n      <th>LIEK_popis</th>\n      <th>Počet balení_Q2</th>\n      <th>Úhrada_ZP_Q2</th>\n      <th>Úhrada_PAC_Q2</th>\n      <th>Úhrada_SPOLU_Q2</th>\n    </tr>\n  </thead>\n  <tbody>\n    <tr>\n      <th>0</th>\n      <td>2019</td>\n      <td>C91102</td>\n      <td>Drytec gen rnk 2,5 GBq</td>\n      <td>1708695.460</td>\n      <td>108390.64</td>\n      <td>0.00</td>\n      <td>108390.64</td>\n    </tr>\n    <tr>\n      <th>1</th>\n      <td>2019</td>\n      <td>C86052</td>\n      <td>PARALEN 500 tbl 24x500 mg (blis.Al/PVC)</td>\n      <td>423526.725</td>\n      <td>7271.48</td>\n      <td>710686.91</td>\n      <td>717958.39</td>\n    </tr>\n    <tr>\n      <th>2</th>\n      <td>2019</td>\n      <td>C15457</td>\n      <td>Drytec gen rnk 10,0 GBq</td>\n      <td>354756.000</td>\n      <td>17190.24</td>\n      <td>0.00</td>\n      <td>17190.24</td>\n    </tr>\n    <tr>\n      <th>3</th>\n      <td>2019</td>\n      <td>C24857</td>\n      <td>NOVALGIN 500 mg tbl flm 20x500 mg</td>\n      <td>380034.590</td>\n      <td>572348.07</td>\n      <td>441133.66</td>\n      <td>1013481.73</td>\n    </tr>\n    <tr>\n      <th>4</th>\n      <td>2019</td>\n      <td>C26797</td>\n      <td>MUCONASAL PLUS sol neb 1x10 ml</td>\n      <td>224699.050</td>\n      <td>6800.01</td>\n      <td>1139971.63</td>\n      <td>1146771.64</td>\n    </tr>\n  </tbody>\n</table>\n</div>"
     },
     "metadata": {}
    },
    {
     "output_type": "stream",
     "name": "stdout",
     "text": [
      "2019 Q3\n"
     ]
    },
    {
     "output_type": "display_data",
     "data": {
      "text/plain": "   ROK_SPRAC LIEK_KOD                               LIEK_popis  \\\n0       2019   C91102                   Drytec gen rnk 2,5 GBq   \n1       2019   C86052  PARALEN 500 tbl 24x500 mg (blis.Al/PVC)   \n2       2019   C15457                  Drytec gen rnk 10,0 GBq   \n3       2019   C24857        NOVALGIN 500 mg tbl flm 20x500 mg   \n4       2019   C26797           MUCONASAL PLUS sol neb 1x10 ml   \n\n   Počet balení_Q3  Úhrada_ZP_Q3  Úhrada_PAC_Q3  Úhrada_SPOLU_Q3  \n0       1637238.02     103979.68           0.00        103979.68  \n1        462486.20      10021.31      766662.02        776683.33  \n2        397306.00      19252.20           0.00         19252.20  \n3        330306.01     496026.97      394968.97        890995.94  \n4        218678.71       7095.08     1086020.43       1093115.51  ",
      "text/html": "<div>\n<style scoped>\n    .dataframe tbody tr th:only-of-type {\n        vertical-align: middle;\n    }\n\n    .dataframe tbody tr th {\n        vertical-align: top;\n    }\n\n    .dataframe thead th {\n        text-align: right;\n    }\n</style>\n<table border=\"1\" class=\"dataframe\">\n  <thead>\n    <tr style=\"text-align: right;\">\n      <th></th>\n      <th>ROK_SPRAC</th>\n      <th>LIEK_KOD</th>\n      <th>LIEK_popis</th>\n      <th>Počet balení_Q3</th>\n      <th>Úhrada_ZP_Q3</th>\n      <th>Úhrada_PAC_Q3</th>\n      <th>Úhrada_SPOLU_Q3</th>\n    </tr>\n  </thead>\n  <tbody>\n    <tr>\n      <th>0</th>\n      <td>2019</td>\n      <td>C91102</td>\n      <td>Drytec gen rnk 2,5 GBq</td>\n      <td>1637238.02</td>\n      <td>103979.68</td>\n      <td>0.00</td>\n      <td>103979.68</td>\n    </tr>\n    <tr>\n      <th>1</th>\n      <td>2019</td>\n      <td>C86052</td>\n      <td>PARALEN 500 tbl 24x500 mg (blis.Al/PVC)</td>\n      <td>462486.20</td>\n      <td>10021.31</td>\n      <td>766662.02</td>\n      <td>776683.33</td>\n    </tr>\n    <tr>\n      <th>2</th>\n      <td>2019</td>\n      <td>C15457</td>\n      <td>Drytec gen rnk 10,0 GBq</td>\n      <td>397306.00</td>\n      <td>19252.20</td>\n      <td>0.00</td>\n      <td>19252.20</td>\n    </tr>\n    <tr>\n      <th>3</th>\n      <td>2019</td>\n      <td>C24857</td>\n      <td>NOVALGIN 500 mg tbl flm 20x500 mg</td>\n      <td>330306.01</td>\n      <td>496026.97</td>\n      <td>394968.97</td>\n      <td>890995.94</td>\n    </tr>\n    <tr>\n      <th>4</th>\n      <td>2019</td>\n      <td>C26797</td>\n      <td>MUCONASAL PLUS sol neb 1x10 ml</td>\n      <td>218678.71</td>\n      <td>7095.08</td>\n      <td>1086020.43</td>\n      <td>1093115.51</td>\n    </tr>\n  </tbody>\n</table>\n</div>"
     },
     "metadata": {}
    },
    {
     "output_type": "stream",
     "name": "stdout",
     "text": [
      "2019 Q4\n"
     ]
    },
    {
     "output_type": "display_data",
     "data": {
      "text/plain": "   ROK_SPRAC LIEK_KOD                               LIEK_popis  \\\n0       2019   C91102                   Drytec gen rnk 2,5 GBq   \n1       2019   C86052  PARALEN 500 tbl 24x500 mg (blis.Al/PVC)   \n2       2019   C15457                  Drytec gen rnk 10,0 GBq   \n3       2019   C24857        NOVALGIN 500 mg tbl flm 20x500 mg   \n4       2019   C26797           MUCONASAL PLUS sol neb 1x10 ml   \n\n   Počet balení_Q4  Úhrada_ZP_Q4  Úhrada_PAC_Q4  Úhrada_SPOLU_Q4  \n0      1495891.720      94256.77           0.00         94256.77  \n1       716244.804      15493.35     1208053.35       1223546.70  \n2       322788.000      15452.79           0.00         15452.79  \n3       306037.010     454886.16      358350.28        813236.44  \n4       367565.689      19524.38     1759041.35       1778565.73  ",
      "text/html": "<div>\n<style scoped>\n    .dataframe tbody tr th:only-of-type {\n        vertical-align: middle;\n    }\n\n    .dataframe tbody tr th {\n        vertical-align: top;\n    }\n\n    .dataframe thead th {\n        text-align: right;\n    }\n</style>\n<table border=\"1\" class=\"dataframe\">\n  <thead>\n    <tr style=\"text-align: right;\">\n      <th></th>\n      <th>ROK_SPRAC</th>\n      <th>LIEK_KOD</th>\n      <th>LIEK_popis</th>\n      <th>Počet balení_Q4</th>\n      <th>Úhrada_ZP_Q4</th>\n      <th>Úhrada_PAC_Q4</th>\n      <th>Úhrada_SPOLU_Q4</th>\n    </tr>\n  </thead>\n  <tbody>\n    <tr>\n      <th>0</th>\n      <td>2019</td>\n      <td>C91102</td>\n      <td>Drytec gen rnk 2,5 GBq</td>\n      <td>1495891.720</td>\n      <td>94256.77</td>\n      <td>0.00</td>\n      <td>94256.77</td>\n    </tr>\n    <tr>\n      <th>1</th>\n      <td>2019</td>\n      <td>C86052</td>\n      <td>PARALEN 500 tbl 24x500 mg (blis.Al/PVC)</td>\n      <td>716244.804</td>\n      <td>15493.35</td>\n      <td>1208053.35</td>\n      <td>1223546.70</td>\n    </tr>\n    <tr>\n      <th>2</th>\n      <td>2019</td>\n      <td>C15457</td>\n      <td>Drytec gen rnk 10,0 GBq</td>\n      <td>322788.000</td>\n      <td>15452.79</td>\n      <td>0.00</td>\n      <td>15452.79</td>\n    </tr>\n    <tr>\n      <th>3</th>\n      <td>2019</td>\n      <td>C24857</td>\n      <td>NOVALGIN 500 mg tbl flm 20x500 mg</td>\n      <td>306037.010</td>\n      <td>454886.16</td>\n      <td>358350.28</td>\n      <td>813236.44</td>\n    </tr>\n    <tr>\n      <th>4</th>\n      <td>2019</td>\n      <td>C26797</td>\n      <td>MUCONASAL PLUS sol neb 1x10 ml</td>\n      <td>367565.689</td>\n      <td>19524.38</td>\n      <td>1759041.35</td>\n      <td>1778565.73</td>\n    </tr>\n  </tbody>\n</table>\n</div>"
     },
     "metadata": {}
    },
    {
     "output_type": "stream",
     "name": "stdout",
     "text": [
      "2020\n"
     ]
    },
    {
     "output_type": "display_data",
     "data": {
      "text/plain": "  Rok spracovania Kód lieku  \\\n0            2020    C91102   \n1            2020    C86052   \n2            2020    M01000   \n3            2020    C24857   \n4            2020    C15308   \n\n                                         Popis lieku 1. štvrťrok 2020  \\\n0                             Drytec gen rnk 2,5 GBq       2129525.77   \n1            PARALEN 500 tbl 24x500 mg (blis.Al/PVC)       1297988.02   \n2                   INDIVIDUÁLNY PRÍPRAVOK DO 0,33 €       537669.492   \n3                  NOVALGIN 500 mg tbl flm 20x500 mg         365523.7   \n4  Ultra-TechneKow FM (99mTC-generátor) inj 10,63...           345408   \n\n  2. štvrťrok 2020 3. štvrťrok 2020 4. štvrťrok 2020        Spolu  \n0       1763804.34        2047677.2       1734666.03   7675673.34  \n1         288778.7        518805.63       859394.065  2964966.415  \n2       467438.163       442845.217       608335.872  2056288.744  \n3         349370.6         396649.4         410915.9    1522459.6  \n4           284721           303788           289729      1223646  ",
      "text/html": "<div>\n<style scoped>\n    .dataframe tbody tr th:only-of-type {\n        vertical-align: middle;\n    }\n\n    .dataframe tbody tr th {\n        vertical-align: top;\n    }\n\n    .dataframe thead th {\n        text-align: right;\n    }\n</style>\n<table border=\"1\" class=\"dataframe\">\n  <thead>\n    <tr style=\"text-align: right;\">\n      <th></th>\n      <th>Rok spracovania</th>\n      <th>Kód lieku</th>\n      <th>Popis lieku</th>\n      <th>1. štvrťrok 2020</th>\n      <th>2. štvrťrok 2020</th>\n      <th>3. štvrťrok 2020</th>\n      <th>4. štvrťrok 2020</th>\n      <th>Spolu</th>\n    </tr>\n  </thead>\n  <tbody>\n    <tr>\n      <th>0</th>\n      <td>2020</td>\n      <td>C91102</td>\n      <td>Drytec gen rnk 2,5 GBq</td>\n      <td>2129525.77</td>\n      <td>1763804.34</td>\n      <td>2047677.2</td>\n      <td>1734666.03</td>\n      <td>7675673.34</td>\n    </tr>\n    <tr>\n      <th>1</th>\n      <td>2020</td>\n      <td>C86052</td>\n      <td>PARALEN 500 tbl 24x500 mg (blis.Al/PVC)</td>\n      <td>1297988.02</td>\n      <td>288778.7</td>\n      <td>518805.63</td>\n      <td>859394.065</td>\n      <td>2964966.415</td>\n    </tr>\n    <tr>\n      <th>2</th>\n      <td>2020</td>\n      <td>M01000</td>\n      <td>INDIVIDUÁLNY PRÍPRAVOK DO 0,33 €</td>\n      <td>537669.492</td>\n      <td>467438.163</td>\n      <td>442845.217</td>\n      <td>608335.872</td>\n      <td>2056288.744</td>\n    </tr>\n    <tr>\n      <th>3</th>\n      <td>2020</td>\n      <td>C24857</td>\n      <td>NOVALGIN 500 mg tbl flm 20x500 mg</td>\n      <td>365523.7</td>\n      <td>349370.6</td>\n      <td>396649.4</td>\n      <td>410915.9</td>\n      <td>1522459.6</td>\n    </tr>\n    <tr>\n      <th>4</th>\n      <td>2020</td>\n      <td>C15308</td>\n      <td>Ultra-TechneKow FM (99mTC-generátor) inj 10,63...</td>\n      <td>345408</td>\n      <td>284721</td>\n      <td>303788</td>\n      <td>289729</td>\n      <td>1223646</td>\n    </tr>\n  </tbody>\n</table>\n</div>"
     },
     "metadata": {}
    }
   ],
   "source": [
    "tabs = {}\n",
    "for i in range(2018,2021):\n",
    "    tabs[i] = import_table('all',i)\n",
    "    if i == 2020:\n",
    "        print(i)\n",
    "        display(tabs[i].head())\n",
    "    else:\n",
    "        for j in 'Q1','Q2','Q3','Q4':\n",
    "            print(i,j)\n",
    "            display(tabs[i][j].head())"
   ]
  },
  {
   "cell_type": "code",
   "execution_count": 3,
   "metadata": {},
   "outputs": [
    {
     "output_type": "display_data",
     "data": {
      "text/plain": "                     pocet\nrok  kvartal              \n2018 1        4.251285e+07\n     2        3.966772e+07\n     3        3.638490e+07\n     4        4.249731e+07\n2019 1        4.139022e+07\n     2        3.770191e+07\n     3        3.620482e+07\n     4        4.124280e+07\n2020 1        4.376721e+07\n     2        3.198545e+07\n     3        3.558945e+07\n     4        3.748308e+07",
      "text/html": "<div>\n<style scoped>\n    .dataframe tbody tr th:only-of-type {\n        vertical-align: middle;\n    }\n\n    .dataframe tbody tr th {\n        vertical-align: top;\n    }\n\n    .dataframe thead th {\n        text-align: right;\n    }\n</style>\n<table border=\"1\" class=\"dataframe\">\n  <thead>\n    <tr style=\"text-align: right;\">\n      <th></th>\n      <th></th>\n      <th>pocet</th>\n    </tr>\n    <tr>\n      <th>rok</th>\n      <th>kvartal</th>\n      <th></th>\n    </tr>\n  </thead>\n  <tbody>\n    <tr>\n      <th rowspan=\"4\" valign=\"top\">2018</th>\n      <th>1</th>\n      <td>4.251285e+07</td>\n    </tr>\n    <tr>\n      <th>2</th>\n      <td>3.966772e+07</td>\n    </tr>\n    <tr>\n      <th>3</th>\n      <td>3.638490e+07</td>\n    </tr>\n    <tr>\n      <th>4</th>\n      <td>4.249731e+07</td>\n    </tr>\n    <tr>\n      <th rowspan=\"4\" valign=\"top\">2019</th>\n      <th>1</th>\n      <td>4.139022e+07</td>\n    </tr>\n    <tr>\n      <th>2</th>\n      <td>3.770191e+07</td>\n    </tr>\n    <tr>\n      <th>3</th>\n      <td>3.620482e+07</td>\n    </tr>\n    <tr>\n      <th>4</th>\n      <td>4.124280e+07</td>\n    </tr>\n    <tr>\n      <th rowspan=\"4\" valign=\"top\">2020</th>\n      <th>1</th>\n      <td>4.376721e+07</td>\n    </tr>\n    <tr>\n      <th>2</th>\n      <td>3.198545e+07</td>\n    </tr>\n    <tr>\n      <th>3</th>\n      <td>3.558945e+07</td>\n    </tr>\n    <tr>\n      <th>4</th>\n      <td>3.748308e+07</td>\n    </tr>\n  </tbody>\n</table>\n</div>"
     },
     "metadata": {}
    }
   ],
   "source": [
    "info = {}\n",
    "\n",
    "info['rok'] = (2018,)\n",
    "info['kvartal'] = (1,)\n",
    "info['pocet'] = (tabs[2018]['Q1']['POCET_BALENI_Q1'].sum(),)\n",
    "for i in range(3):\n",
    "    info['rok'] += (2018,)\n",
    "    info['kvartal'] += (i+2,)\n",
    "    info['pocet'] += (tabs[2018][f'Q{i+2}'][f'POCET_BALENI_Q{i+2}'].sum(),)\n",
    "\n",
    "for i in range(4):\n",
    "    info['rok'] += (2019,)\n",
    "    info['kvartal'] += (i+1,)\n",
    "    info['pocet'] += (tabs[2019][f'Q{i+1}'][f'Počet balení_Q{i+1}'].sum(),)\n",
    "\n",
    "for i in range(4):\n",
    "    info['rok'] += (2020,)\n",
    "    info['kvartal'] += (i+1,)\n",
    "    info['pocet'] += (tabs[2020][f'{i+1}. štvrťrok 2020'].sum(),)\n",
    "long_tab = pd.DataFrame(info).set_index(['rok','kvartal'])\n",
    "display(long_tab)"
   ]
  },
  {
   "cell_type": "code",
   "execution_count": 5,
   "metadata": {},
   "outputs": [
    {
     "output_type": "display_data",
     "data": {
      "text/plain": "<Figure size 960x400 with 1 Axes>",
      "image/svg+xml": "<?xml version=\"1.0\" encoding=\"utf-8\" standalone=\"no\"?>\r\n<!DOCTYPE svg PUBLIC \"-//W3C//DTD SVG 1.1//EN\"\r\n  \"http://www.w3.org/Graphics/SVG/1.1/DTD/svg11.dtd\">\r\n<svg height=\"313.476562pt\" version=\"1.1\" viewBox=\"0 0 706.903125 313.476562\" width=\"706.903125pt\" xmlns=\"http://www.w3.org/2000/svg\" xmlns:xlink=\"http://www.w3.org/1999/xlink\">\r\n <metadata>\r\n  <rdf:RDF xmlns:cc=\"http://creativecommons.org/ns#\" xmlns:dc=\"http://purl.org/dc/elements/1.1/\" xmlns:rdf=\"http://www.w3.org/1999/02/22-rdf-syntax-ns#\">\r\n   <cc:Work>\r\n    <dc:type rdf:resource=\"http://purl.org/dc/dcmitype/StillImage\"/>\r\n    <dc:date>2021-05-06T20:41:32.973345</dc:date>\r\n    <dc:format>image/svg+xml</dc:format>\r\n    <dc:creator>\r\n     <cc:Agent>\r\n      <dc:title>Matplotlib v3.4.1, https://matplotlib.org/</dc:title>\r\n     </cc:Agent>\r\n    </dc:creator>\r\n   </cc:Work>\r\n  </rdf:RDF>\r\n </metadata>\r\n <defs>\r\n  <style type=\"text/css\">*{stroke-linecap:butt;stroke-linejoin:round;}</style>\r\n </defs>\r\n <g id=\"figure_1\">\r\n  <g id=\"patch_1\">\r\n   <path d=\"M 0 313.476562 \r\nL 706.903125 313.476562 \r\nL 706.903125 0 \r\nL 0 0 \r\nz\r\n\" style=\"fill:none;\"/>\r\n  </g>\r\n  <g id=\"axes_1\">\r\n   <g id=\"patch_2\">\r\n    <path d=\"M 30.103125 289.598437 \r\nL 699.703125 289.598437 \r\nL 699.703125 17.798437 \r\nL 30.103125 17.798437 \r\nz\r\n\" style=\"fill:#ffffff;\"/>\r\n   </g>\r\n   <g id=\"PathCollection_1\">\r\n    <defs>\r\n     <path d=\"M 0 3 \r\nC 0.795609 3 1.55874 2.683901 2.12132 2.12132 \r\nC 2.683901 1.55874 3 0.795609 3 0 \r\nC 3 -0.795609 2.683901 -1.55874 2.12132 -2.12132 \r\nC 1.55874 -2.683901 0.795609 -3 0 -3 \r\nC -0.795609 -3 -1.55874 -2.683901 -2.12132 -2.12132 \r\nC -2.683901 -1.55874 -3 -0.795609 -3 0 \r\nC -3 0.795609 -2.683901 1.55874 -2.12132 2.12132 \r\nC -1.55874 2.683901 -0.795609 3 0 3 \r\nz\r\n\" id=\"mf103442ab3\" style=\"stroke:#1f77b4;\"/>\r\n    </defs>\r\n    <g clip-path=\"url(#p065deb7450)\">\r\n     <use style=\"fill:#1f77b4;stroke:#1f77b4;\" x=\"60.539489\" xlink:href=\"#mf103442ab3\" y=\"56.459995\"/>\r\n     <use style=\"fill:#1f77b4;stroke:#1f77b4;\" x=\"115.878332\" xlink:href=\"#mf103442ab3\" y=\"116.128933\"/>\r\n     <use style=\"fill:#1f77b4;stroke:#1f77b4;\" x=\"171.217175\" xlink:href=\"#mf103442ab3\" y=\"184.977293\"/>\r\n     <use style=\"fill:#1f77b4;stroke:#1f77b4;\" x=\"226.556018\" xlink:href=\"#mf103442ab3\" y=\"56.785876\"/>\r\n     <use style=\"fill:#1f77b4;stroke:#1f77b4;\" x=\"281.894861\" xlink:href=\"#mf103442ab3\" y=\"80.004158\"/>\r\n     <use style=\"fill:#1f77b4;stroke:#1f77b4;\" x=\"337.233704\" xlink:href=\"#mf103442ab3\" y=\"157.356517\"/>\r\n     <use style=\"fill:#1f77b4;stroke:#1f77b4;\" x=\"392.572546\" xlink:href=\"#mf103442ab3\" y=\"188.753972\"/>\r\n     <use style=\"fill:#1f77b4;stroke:#1f77b4;\" x=\"447.911389\" xlink:href=\"#mf103442ab3\" y=\"83.095883\"/>\r\n     <use style=\"fill:#1f77b4;stroke:#1f77b4;\" x=\"503.250232\" xlink:href=\"#mf103442ab3\" y=\"30.152983\"/>\r\n     <use style=\"fill:#1f77b4;stroke:#1f77b4;\" x=\"558.589075\" xlink:href=\"#mf103442ab3\" y=\"277.243892\"/>\r\n     <use style=\"fill:#1f77b4;stroke:#1f77b4;\" x=\"613.927918\" xlink:href=\"#mf103442ab3\" y=\"201.659674\"/>\r\n     <use style=\"fill:#1f77b4;stroke:#1f77b4;\" x=\"669.266761\" xlink:href=\"#mf103442ab3\" y=\"161.945795\"/>\r\n    </g>\r\n   </g>\r\n   <g id=\"matplotlib.axis_1\">\r\n    <g id=\"xtick_1\">\r\n     <g id=\"line2d_1\">\r\n      <defs>\r\n       <path d=\"M 0 0 \r\nL 0 3.5 \r\n\" id=\"m15ff3b375b\" style=\"stroke:#000000;stroke-width:0.8;\"/>\r\n      </defs>\r\n      <g>\r\n       <use style=\"stroke:#000000;stroke-width:0.8;\" x=\"60.539489\" xlink:href=\"#m15ff3b375b\" y=\"289.598437\"/>\r\n      </g>\r\n     </g>\r\n     <g id=\"text_1\">\r\n      <!-- 2018 Q1 -->\r\n      <g transform=\"translate(39.108239 304.196875)scale(0.1 -0.1)\">\r\n       <defs>\r\n        <path d=\"M 1228 531 \r\nL 3431 531 \r\nL 3431 0 \r\nL 469 0 \r\nL 469 531 \r\nQ 828 903 1448 1529 \r\nQ 2069 2156 2228 2338 \r\nQ 2531 2678 2651 2914 \r\nQ 2772 3150 2772 3378 \r\nQ 2772 3750 2511 3984 \r\nQ 2250 4219 1831 4219 \r\nQ 1534 4219 1204 4116 \r\nQ 875 4013 500 3803 \r\nL 500 4441 \r\nQ 881 4594 1212 4672 \r\nQ 1544 4750 1819 4750 \r\nQ 2544 4750 2975 4387 \r\nQ 3406 4025 3406 3419 \r\nQ 3406 3131 3298 2873 \r\nQ 3191 2616 2906 2266 \r\nQ 2828 2175 2409 1742 \r\nQ 1991 1309 1228 531 \r\nz\r\n\" id=\"DejaVuSans-32\" transform=\"scale(0.015625)\"/>\r\n        <path d=\"M 2034 4250 \r\nQ 1547 4250 1301 3770 \r\nQ 1056 3291 1056 2328 \r\nQ 1056 1369 1301 889 \r\nQ 1547 409 2034 409 \r\nQ 2525 409 2770 889 \r\nQ 3016 1369 3016 2328 \r\nQ 3016 3291 2770 3770 \r\nQ 2525 4250 2034 4250 \r\nz\r\nM 2034 4750 \r\nQ 2819 4750 3233 4129 \r\nQ 3647 3509 3647 2328 \r\nQ 3647 1150 3233 529 \r\nQ 2819 -91 2034 -91 \r\nQ 1250 -91 836 529 \r\nQ 422 1150 422 2328 \r\nQ 422 3509 836 4129 \r\nQ 1250 4750 2034 4750 \r\nz\r\n\" id=\"DejaVuSans-30\" transform=\"scale(0.015625)\"/>\r\n        <path d=\"M 794 531 \r\nL 1825 531 \r\nL 1825 4091 \r\nL 703 3866 \r\nL 703 4441 \r\nL 1819 4666 \r\nL 2450 4666 \r\nL 2450 531 \r\nL 3481 531 \r\nL 3481 0 \r\nL 794 0 \r\nL 794 531 \r\nz\r\n\" id=\"DejaVuSans-31\" transform=\"scale(0.015625)\"/>\r\n        <path d=\"M 2034 2216 \r\nQ 1584 2216 1326 1975 \r\nQ 1069 1734 1069 1313 \r\nQ 1069 891 1326 650 \r\nQ 1584 409 2034 409 \r\nQ 2484 409 2743 651 \r\nQ 3003 894 3003 1313 \r\nQ 3003 1734 2745 1975 \r\nQ 2488 2216 2034 2216 \r\nz\r\nM 1403 2484 \r\nQ 997 2584 770 2862 \r\nQ 544 3141 544 3541 \r\nQ 544 4100 942 4425 \r\nQ 1341 4750 2034 4750 \r\nQ 2731 4750 3128 4425 \r\nQ 3525 4100 3525 3541 \r\nQ 3525 3141 3298 2862 \r\nQ 3072 2584 2669 2484 \r\nQ 3125 2378 3379 2068 \r\nQ 3634 1759 3634 1313 \r\nQ 3634 634 3220 271 \r\nQ 2806 -91 2034 -91 \r\nQ 1263 -91 848 271 \r\nQ 434 634 434 1313 \r\nQ 434 1759 690 2068 \r\nQ 947 2378 1403 2484 \r\nz\r\nM 1172 3481 \r\nQ 1172 3119 1398 2916 \r\nQ 1625 2713 2034 2713 \r\nQ 2441 2713 2670 2916 \r\nQ 2900 3119 2900 3481 \r\nQ 2900 3844 2670 4047 \r\nQ 2441 4250 2034 4250 \r\nQ 1625 4250 1398 4047 \r\nQ 1172 3844 1172 3481 \r\nz\r\n\" id=\"DejaVuSans-38\" transform=\"scale(0.015625)\"/>\r\n        <path id=\"DejaVuSans-20\" transform=\"scale(0.015625)\"/>\r\n        <path d=\"M 2522 4238 \r\nQ 1834 4238 1429 3725 \r\nQ 1025 3213 1025 2328 \r\nQ 1025 1447 1429 934 \r\nQ 1834 422 2522 422 \r\nQ 3209 422 3611 934 \r\nQ 4013 1447 4013 2328 \r\nQ 4013 3213 3611 3725 \r\nQ 3209 4238 2522 4238 \r\nz\r\nM 3406 84 \r\nL 4238 -825 \r\nL 3475 -825 \r\nL 2784 -78 \r\nQ 2681 -84 2626 -87 \r\nQ 2572 -91 2522 -91 \r\nQ 1538 -91 948 567 \r\nQ 359 1225 359 2328 \r\nQ 359 3434 948 4092 \r\nQ 1538 4750 2522 4750 \r\nQ 3503 4750 4090 4092 \r\nQ 4678 3434 4678 2328 \r\nQ 4678 1516 4351 937 \r\nQ 4025 359 3406 84 \r\nz\r\n\" id=\"DejaVuSans-51\" transform=\"scale(0.015625)\"/>\r\n       </defs>\r\n       <use xlink:href=\"#DejaVuSans-32\"/>\r\n       <use x=\"63.623047\" xlink:href=\"#DejaVuSans-30\"/>\r\n       <use x=\"127.246094\" xlink:href=\"#DejaVuSans-31\"/>\r\n       <use x=\"190.869141\" xlink:href=\"#DejaVuSans-38\"/>\r\n       <use x=\"254.492188\" xlink:href=\"#DejaVuSans-20\"/>\r\n       <use x=\"286.279297\" xlink:href=\"#DejaVuSans-51\"/>\r\n       <use x=\"364.990234\" xlink:href=\"#DejaVuSans-31\"/>\r\n      </g>\r\n     </g>\r\n    </g>\r\n    <g id=\"xtick_2\">\r\n     <g id=\"line2d_2\">\r\n      <g>\r\n       <use style=\"stroke:#000000;stroke-width:0.8;\" x=\"115.878332\" xlink:href=\"#m15ff3b375b\" y=\"289.598437\"/>\r\n      </g>\r\n     </g>\r\n     <g id=\"text_2\">\r\n      <!-- 2018 Q2 -->\r\n      <g transform=\"translate(94.447082 304.196875)scale(0.1 -0.1)\">\r\n       <use xlink:href=\"#DejaVuSans-32\"/>\r\n       <use x=\"63.623047\" xlink:href=\"#DejaVuSans-30\"/>\r\n       <use x=\"127.246094\" xlink:href=\"#DejaVuSans-31\"/>\r\n       <use x=\"190.869141\" xlink:href=\"#DejaVuSans-38\"/>\r\n       <use x=\"254.492188\" xlink:href=\"#DejaVuSans-20\"/>\r\n       <use x=\"286.279297\" xlink:href=\"#DejaVuSans-51\"/>\r\n       <use x=\"364.990234\" xlink:href=\"#DejaVuSans-32\"/>\r\n      </g>\r\n     </g>\r\n    </g>\r\n    <g id=\"xtick_3\">\r\n     <g id=\"line2d_3\">\r\n      <g>\r\n       <use style=\"stroke:#000000;stroke-width:0.8;\" x=\"171.217175\" xlink:href=\"#m15ff3b375b\" y=\"289.598437\"/>\r\n      </g>\r\n     </g>\r\n     <g id=\"text_3\">\r\n      <!-- 2018 Q3 -->\r\n      <g transform=\"translate(149.785925 304.196875)scale(0.1 -0.1)\">\r\n       <defs>\r\n        <path d=\"M 2597 2516 \r\nQ 3050 2419 3304 2112 \r\nQ 3559 1806 3559 1356 \r\nQ 3559 666 3084 287 \r\nQ 2609 -91 1734 -91 \r\nQ 1441 -91 1130 -33 \r\nQ 819 25 488 141 \r\nL 488 750 \r\nQ 750 597 1062 519 \r\nQ 1375 441 1716 441 \r\nQ 2309 441 2620 675 \r\nQ 2931 909 2931 1356 \r\nQ 2931 1769 2642 2001 \r\nQ 2353 2234 1838 2234 \r\nL 1294 2234 \r\nL 1294 2753 \r\nL 1863 2753 \r\nQ 2328 2753 2575 2939 \r\nQ 2822 3125 2822 3475 \r\nQ 2822 3834 2567 4026 \r\nQ 2313 4219 1838 4219 \r\nQ 1578 4219 1281 4162 \r\nQ 984 4106 628 3988 \r\nL 628 4550 \r\nQ 988 4650 1302 4700 \r\nQ 1616 4750 1894 4750 \r\nQ 2613 4750 3031 4423 \r\nQ 3450 4097 3450 3541 \r\nQ 3450 3153 3228 2886 \r\nQ 3006 2619 2597 2516 \r\nz\r\n\" id=\"DejaVuSans-33\" transform=\"scale(0.015625)\"/>\r\n       </defs>\r\n       <use xlink:href=\"#DejaVuSans-32\"/>\r\n       <use x=\"63.623047\" xlink:href=\"#DejaVuSans-30\"/>\r\n       <use x=\"127.246094\" xlink:href=\"#DejaVuSans-31\"/>\r\n       <use x=\"190.869141\" xlink:href=\"#DejaVuSans-38\"/>\r\n       <use x=\"254.492188\" xlink:href=\"#DejaVuSans-20\"/>\r\n       <use x=\"286.279297\" xlink:href=\"#DejaVuSans-51\"/>\r\n       <use x=\"364.990234\" xlink:href=\"#DejaVuSans-33\"/>\r\n      </g>\r\n     </g>\r\n    </g>\r\n    <g id=\"xtick_4\">\r\n     <g id=\"line2d_4\">\r\n      <g>\r\n       <use style=\"stroke:#000000;stroke-width:0.8;\" x=\"226.556018\" xlink:href=\"#m15ff3b375b\" y=\"289.598437\"/>\r\n      </g>\r\n     </g>\r\n     <g id=\"text_4\">\r\n      <!-- 2018 Q4 -->\r\n      <g transform=\"translate(205.124768 304.196875)scale(0.1 -0.1)\">\r\n       <defs>\r\n        <path d=\"M 2419 4116 \r\nL 825 1625 \r\nL 2419 1625 \r\nL 2419 4116 \r\nz\r\nM 2253 4666 \r\nL 3047 4666 \r\nL 3047 1625 \r\nL 3713 1625 \r\nL 3713 1100 \r\nL 3047 1100 \r\nL 3047 0 \r\nL 2419 0 \r\nL 2419 1100 \r\nL 313 1100 \r\nL 313 1709 \r\nL 2253 4666 \r\nz\r\n\" id=\"DejaVuSans-34\" transform=\"scale(0.015625)\"/>\r\n       </defs>\r\n       <use xlink:href=\"#DejaVuSans-32\"/>\r\n       <use x=\"63.623047\" xlink:href=\"#DejaVuSans-30\"/>\r\n       <use x=\"127.246094\" xlink:href=\"#DejaVuSans-31\"/>\r\n       <use x=\"190.869141\" xlink:href=\"#DejaVuSans-38\"/>\r\n       <use x=\"254.492188\" xlink:href=\"#DejaVuSans-20\"/>\r\n       <use x=\"286.279297\" xlink:href=\"#DejaVuSans-51\"/>\r\n       <use x=\"364.990234\" xlink:href=\"#DejaVuSans-34\"/>\r\n      </g>\r\n     </g>\r\n    </g>\r\n    <g id=\"xtick_5\">\r\n     <g id=\"line2d_5\">\r\n      <g>\r\n       <use style=\"stroke:#000000;stroke-width:0.8;\" x=\"281.894861\" xlink:href=\"#m15ff3b375b\" y=\"289.598437\"/>\r\n      </g>\r\n     </g>\r\n     <g id=\"text_5\">\r\n      <!-- 2019 Q1 -->\r\n      <g transform=\"translate(260.463611 304.196875)scale(0.1 -0.1)\">\r\n       <defs>\r\n        <path d=\"M 703 97 \r\nL 703 672 \r\nQ 941 559 1184 500 \r\nQ 1428 441 1663 441 \r\nQ 2288 441 2617 861 \r\nQ 2947 1281 2994 2138 \r\nQ 2813 1869 2534 1725 \r\nQ 2256 1581 1919 1581 \r\nQ 1219 1581 811 2004 \r\nQ 403 2428 403 3163 \r\nQ 403 3881 828 4315 \r\nQ 1253 4750 1959 4750 \r\nQ 2769 4750 3195 4129 \r\nQ 3622 3509 3622 2328 \r\nQ 3622 1225 3098 567 \r\nQ 2575 -91 1691 -91 \r\nQ 1453 -91 1209 -44 \r\nQ 966 3 703 97 \r\nz\r\nM 1959 2075 \r\nQ 2384 2075 2632 2365 \r\nQ 2881 2656 2881 3163 \r\nQ 2881 3666 2632 3958 \r\nQ 2384 4250 1959 4250 \r\nQ 1534 4250 1286 3958 \r\nQ 1038 3666 1038 3163 \r\nQ 1038 2656 1286 2365 \r\nQ 1534 2075 1959 2075 \r\nz\r\n\" id=\"DejaVuSans-39\" transform=\"scale(0.015625)\"/>\r\n       </defs>\r\n       <use xlink:href=\"#DejaVuSans-32\"/>\r\n       <use x=\"63.623047\" xlink:href=\"#DejaVuSans-30\"/>\r\n       <use x=\"127.246094\" xlink:href=\"#DejaVuSans-31\"/>\r\n       <use x=\"190.869141\" xlink:href=\"#DejaVuSans-39\"/>\r\n       <use x=\"254.492188\" xlink:href=\"#DejaVuSans-20\"/>\r\n       <use x=\"286.279297\" xlink:href=\"#DejaVuSans-51\"/>\r\n       <use x=\"364.990234\" xlink:href=\"#DejaVuSans-31\"/>\r\n      </g>\r\n     </g>\r\n    </g>\r\n    <g id=\"xtick_6\">\r\n     <g id=\"line2d_6\">\r\n      <g>\r\n       <use style=\"stroke:#000000;stroke-width:0.8;\" x=\"337.233704\" xlink:href=\"#m15ff3b375b\" y=\"289.598437\"/>\r\n      </g>\r\n     </g>\r\n     <g id=\"text_6\">\r\n      <!-- 2019 Q2 -->\r\n      <g transform=\"translate(315.802454 304.196875)scale(0.1 -0.1)\">\r\n       <use xlink:href=\"#DejaVuSans-32\"/>\r\n       <use x=\"63.623047\" xlink:href=\"#DejaVuSans-30\"/>\r\n       <use x=\"127.246094\" xlink:href=\"#DejaVuSans-31\"/>\r\n       <use x=\"190.869141\" xlink:href=\"#DejaVuSans-39\"/>\r\n       <use x=\"254.492188\" xlink:href=\"#DejaVuSans-20\"/>\r\n       <use x=\"286.279297\" xlink:href=\"#DejaVuSans-51\"/>\r\n       <use x=\"364.990234\" xlink:href=\"#DejaVuSans-32\"/>\r\n      </g>\r\n     </g>\r\n    </g>\r\n    <g id=\"xtick_7\">\r\n     <g id=\"line2d_7\">\r\n      <g>\r\n       <use style=\"stroke:#000000;stroke-width:0.8;\" x=\"392.572546\" xlink:href=\"#m15ff3b375b\" y=\"289.598437\"/>\r\n      </g>\r\n     </g>\r\n     <g id=\"text_7\">\r\n      <!-- 2019 Q3 -->\r\n      <g transform=\"translate(371.141296 304.196875)scale(0.1 -0.1)\">\r\n       <use xlink:href=\"#DejaVuSans-32\"/>\r\n       <use x=\"63.623047\" xlink:href=\"#DejaVuSans-30\"/>\r\n       <use x=\"127.246094\" xlink:href=\"#DejaVuSans-31\"/>\r\n       <use x=\"190.869141\" xlink:href=\"#DejaVuSans-39\"/>\r\n       <use x=\"254.492188\" xlink:href=\"#DejaVuSans-20\"/>\r\n       <use x=\"286.279297\" xlink:href=\"#DejaVuSans-51\"/>\r\n       <use x=\"364.990234\" xlink:href=\"#DejaVuSans-33\"/>\r\n      </g>\r\n     </g>\r\n    </g>\r\n    <g id=\"xtick_8\">\r\n     <g id=\"line2d_8\">\r\n      <g>\r\n       <use style=\"stroke:#000000;stroke-width:0.8;\" x=\"447.911389\" xlink:href=\"#m15ff3b375b\" y=\"289.598437\"/>\r\n      </g>\r\n     </g>\r\n     <g id=\"text_8\">\r\n      <!-- 2019 Q4 -->\r\n      <g transform=\"translate(426.480139 304.196875)scale(0.1 -0.1)\">\r\n       <use xlink:href=\"#DejaVuSans-32\"/>\r\n       <use x=\"63.623047\" xlink:href=\"#DejaVuSans-30\"/>\r\n       <use x=\"127.246094\" xlink:href=\"#DejaVuSans-31\"/>\r\n       <use x=\"190.869141\" xlink:href=\"#DejaVuSans-39\"/>\r\n       <use x=\"254.492188\" xlink:href=\"#DejaVuSans-20\"/>\r\n       <use x=\"286.279297\" xlink:href=\"#DejaVuSans-51\"/>\r\n       <use x=\"364.990234\" xlink:href=\"#DejaVuSans-34\"/>\r\n      </g>\r\n     </g>\r\n    </g>\r\n    <g id=\"xtick_9\">\r\n     <g id=\"line2d_9\">\r\n      <g>\r\n       <use style=\"stroke:#000000;stroke-width:0.8;\" x=\"503.250232\" xlink:href=\"#m15ff3b375b\" y=\"289.598437\"/>\r\n      </g>\r\n     </g>\r\n     <g id=\"text_9\">\r\n      <!-- 2020 Q1 -->\r\n      <g transform=\"translate(481.818982 304.196875)scale(0.1 -0.1)\">\r\n       <use xlink:href=\"#DejaVuSans-32\"/>\r\n       <use x=\"63.623047\" xlink:href=\"#DejaVuSans-30\"/>\r\n       <use x=\"127.246094\" xlink:href=\"#DejaVuSans-32\"/>\r\n       <use x=\"190.869141\" xlink:href=\"#DejaVuSans-30\"/>\r\n       <use x=\"254.492188\" xlink:href=\"#DejaVuSans-20\"/>\r\n       <use x=\"286.279297\" xlink:href=\"#DejaVuSans-51\"/>\r\n       <use x=\"364.990234\" xlink:href=\"#DejaVuSans-31\"/>\r\n      </g>\r\n     </g>\r\n    </g>\r\n    <g id=\"xtick_10\">\r\n     <g id=\"line2d_10\">\r\n      <g>\r\n       <use style=\"stroke:#000000;stroke-width:0.8;\" x=\"558.589075\" xlink:href=\"#m15ff3b375b\" y=\"289.598437\"/>\r\n      </g>\r\n     </g>\r\n     <g id=\"text_10\">\r\n      <!-- 2020 Q2 -->\r\n      <g transform=\"translate(537.157825 304.196875)scale(0.1 -0.1)\">\r\n       <use xlink:href=\"#DejaVuSans-32\"/>\r\n       <use x=\"63.623047\" xlink:href=\"#DejaVuSans-30\"/>\r\n       <use x=\"127.246094\" xlink:href=\"#DejaVuSans-32\"/>\r\n       <use x=\"190.869141\" xlink:href=\"#DejaVuSans-30\"/>\r\n       <use x=\"254.492188\" xlink:href=\"#DejaVuSans-20\"/>\r\n       <use x=\"286.279297\" xlink:href=\"#DejaVuSans-51\"/>\r\n       <use x=\"364.990234\" xlink:href=\"#DejaVuSans-32\"/>\r\n      </g>\r\n     </g>\r\n    </g>\r\n    <g id=\"xtick_11\">\r\n     <g id=\"line2d_11\">\r\n      <g>\r\n       <use style=\"stroke:#000000;stroke-width:0.8;\" x=\"613.927918\" xlink:href=\"#m15ff3b375b\" y=\"289.598437\"/>\r\n      </g>\r\n     </g>\r\n     <g id=\"text_11\">\r\n      <!-- 2020 Q3 -->\r\n      <g transform=\"translate(592.496668 304.196875)scale(0.1 -0.1)\">\r\n       <use xlink:href=\"#DejaVuSans-32\"/>\r\n       <use x=\"63.623047\" xlink:href=\"#DejaVuSans-30\"/>\r\n       <use x=\"127.246094\" xlink:href=\"#DejaVuSans-32\"/>\r\n       <use x=\"190.869141\" xlink:href=\"#DejaVuSans-30\"/>\r\n       <use x=\"254.492188\" xlink:href=\"#DejaVuSans-20\"/>\r\n       <use x=\"286.279297\" xlink:href=\"#DejaVuSans-51\"/>\r\n       <use x=\"364.990234\" xlink:href=\"#DejaVuSans-33\"/>\r\n      </g>\r\n     </g>\r\n    </g>\r\n    <g id=\"xtick_12\">\r\n     <g id=\"line2d_12\">\r\n      <g>\r\n       <use style=\"stroke:#000000;stroke-width:0.8;\" x=\"669.266761\" xlink:href=\"#m15ff3b375b\" y=\"289.598437\"/>\r\n      </g>\r\n     </g>\r\n     <g id=\"text_12\">\r\n      <!-- 2020 Q4 -->\r\n      <g transform=\"translate(647.835511 304.196875)scale(0.1 -0.1)\">\r\n       <use xlink:href=\"#DejaVuSans-32\"/>\r\n       <use x=\"63.623047\" xlink:href=\"#DejaVuSans-30\"/>\r\n       <use x=\"127.246094\" xlink:href=\"#DejaVuSans-32\"/>\r\n       <use x=\"190.869141\" xlink:href=\"#DejaVuSans-30\"/>\r\n       <use x=\"254.492188\" xlink:href=\"#DejaVuSans-20\"/>\r\n       <use x=\"286.279297\" xlink:href=\"#DejaVuSans-51\"/>\r\n       <use x=\"364.990234\" xlink:href=\"#DejaVuSans-34\"/>\r\n      </g>\r\n     </g>\r\n    </g>\r\n   </g>\r\n   <g id=\"matplotlib.axis_2\">\r\n    <g id=\"ytick_1\">\r\n     <g id=\"line2d_13\">\r\n      <defs>\r\n       <path d=\"M 0 0 \r\nL -3.5 0 \r\n\" id=\"mba9c39f149\" style=\"stroke:#000000;stroke-width:0.8;\"/>\r\n      </defs>\r\n      <g>\r\n       <use style=\"stroke:#000000;stroke-width:0.8;\" x=\"30.103125\" xlink:href=\"#mba9c39f149\" y=\"276.938789\"/>\r\n      </g>\r\n     </g>\r\n     <g id=\"text_13\">\r\n      <!-- 3.2 -->\r\n      <g transform=\"translate(7.2 280.738008)scale(0.1 -0.1)\">\r\n       <defs>\r\n        <path d=\"M 684 794 \r\nL 1344 794 \r\nL 1344 0 \r\nL 684 0 \r\nL 684 794 \r\nz\r\n\" id=\"DejaVuSans-2e\" transform=\"scale(0.015625)\"/>\r\n       </defs>\r\n       <use xlink:href=\"#DejaVuSans-33\"/>\r\n       <use x=\"63.623047\" xlink:href=\"#DejaVuSans-2e\"/>\r\n       <use x=\"95.410156\" xlink:href=\"#DejaVuSans-32\"/>\r\n      </g>\r\n     </g>\r\n    </g>\r\n    <g id=\"ytick_2\">\r\n     <g id=\"line2d_14\">\r\n      <g>\r\n       <use style=\"stroke:#000000;stroke-width:0.8;\" x=\"30.103125\" xlink:href=\"#mba9c39f149\" y=\"234.994144\"/>\r\n      </g>\r\n     </g>\r\n     <g id=\"text_14\">\r\n      <!-- 3.4 -->\r\n      <g transform=\"translate(7.2 238.793362)scale(0.1 -0.1)\">\r\n       <use xlink:href=\"#DejaVuSans-33\"/>\r\n       <use x=\"63.623047\" xlink:href=\"#DejaVuSans-2e\"/>\r\n       <use x=\"95.410156\" xlink:href=\"#DejaVuSans-34\"/>\r\n      </g>\r\n     </g>\r\n    </g>\r\n    <g id=\"ytick_3\">\r\n     <g id=\"line2d_15\">\r\n      <g>\r\n       <use style=\"stroke:#000000;stroke-width:0.8;\" x=\"30.103125\" xlink:href=\"#mba9c39f149\" y=\"193.049498\"/>\r\n      </g>\r\n     </g>\r\n     <g id=\"text_15\">\r\n      <!-- 3.6 -->\r\n      <g transform=\"translate(7.2 196.848717)scale(0.1 -0.1)\">\r\n       <defs>\r\n        <path d=\"M 2113 2584 \r\nQ 1688 2584 1439 2293 \r\nQ 1191 2003 1191 1497 \r\nQ 1191 994 1439 701 \r\nQ 1688 409 2113 409 \r\nQ 2538 409 2786 701 \r\nQ 3034 994 3034 1497 \r\nQ 3034 2003 2786 2293 \r\nQ 2538 2584 2113 2584 \r\nz\r\nM 3366 4563 \r\nL 3366 3988 \r\nQ 3128 4100 2886 4159 \r\nQ 2644 4219 2406 4219 \r\nQ 1781 4219 1451 3797 \r\nQ 1122 3375 1075 2522 \r\nQ 1259 2794 1537 2939 \r\nQ 1816 3084 2150 3084 \r\nQ 2853 3084 3261 2657 \r\nQ 3669 2231 3669 1497 \r\nQ 3669 778 3244 343 \r\nQ 2819 -91 2113 -91 \r\nQ 1303 -91 875 529 \r\nQ 447 1150 447 2328 \r\nQ 447 3434 972 4092 \r\nQ 1497 4750 2381 4750 \r\nQ 2619 4750 2861 4703 \r\nQ 3103 4656 3366 4563 \r\nz\r\n\" id=\"DejaVuSans-36\" transform=\"scale(0.015625)\"/>\r\n       </defs>\r\n       <use xlink:href=\"#DejaVuSans-33\"/>\r\n       <use x=\"63.623047\" xlink:href=\"#DejaVuSans-2e\"/>\r\n       <use x=\"95.410156\" xlink:href=\"#DejaVuSans-36\"/>\r\n      </g>\r\n     </g>\r\n    </g>\r\n    <g id=\"ytick_4\">\r\n     <g id=\"line2d_16\">\r\n      <g>\r\n       <use style=\"stroke:#000000;stroke-width:0.8;\" x=\"30.103125\" xlink:href=\"#mba9c39f149\" y=\"151.104853\"/>\r\n      </g>\r\n     </g>\r\n     <g id=\"text_16\">\r\n      <!-- 3.8 -->\r\n      <g transform=\"translate(7.2 154.904072)scale(0.1 -0.1)\">\r\n       <use xlink:href=\"#DejaVuSans-33\"/>\r\n       <use x=\"63.623047\" xlink:href=\"#DejaVuSans-2e\"/>\r\n       <use x=\"95.410156\" xlink:href=\"#DejaVuSans-38\"/>\r\n      </g>\r\n     </g>\r\n    </g>\r\n    <g id=\"ytick_5\">\r\n     <g id=\"line2d_17\">\r\n      <g>\r\n       <use style=\"stroke:#000000;stroke-width:0.8;\" x=\"30.103125\" xlink:href=\"#mba9c39f149\" y=\"109.160208\"/>\r\n      </g>\r\n     </g>\r\n     <g id=\"text_17\">\r\n      <!-- 4.0 -->\r\n      <g transform=\"translate(7.2 112.959426)scale(0.1 -0.1)\">\r\n       <use xlink:href=\"#DejaVuSans-34\"/>\r\n       <use x=\"63.623047\" xlink:href=\"#DejaVuSans-2e\"/>\r\n       <use x=\"95.410156\" xlink:href=\"#DejaVuSans-30\"/>\r\n      </g>\r\n     </g>\r\n    </g>\r\n    <g id=\"ytick_6\">\r\n     <g id=\"line2d_18\">\r\n      <g>\r\n       <use style=\"stroke:#000000;stroke-width:0.8;\" x=\"30.103125\" xlink:href=\"#mba9c39f149\" y=\"67.215562\"/>\r\n      </g>\r\n     </g>\r\n     <g id=\"text_18\">\r\n      <!-- 4.2 -->\r\n      <g transform=\"translate(7.2 71.014781)scale(0.1 -0.1)\">\r\n       <use xlink:href=\"#DejaVuSans-34\"/>\r\n       <use x=\"63.623047\" xlink:href=\"#DejaVuSans-2e\"/>\r\n       <use x=\"95.410156\" xlink:href=\"#DejaVuSans-32\"/>\r\n      </g>\r\n     </g>\r\n    </g>\r\n    <g id=\"ytick_7\">\r\n     <g id=\"line2d_19\">\r\n      <g>\r\n       <use style=\"stroke:#000000;stroke-width:0.8;\" x=\"30.103125\" xlink:href=\"#mba9c39f149\" y=\"25.270917\"/>\r\n      </g>\r\n     </g>\r\n     <g id=\"text_19\">\r\n      <!-- 4.4 -->\r\n      <g transform=\"translate(7.2 29.070136)scale(0.1 -0.1)\">\r\n       <use xlink:href=\"#DejaVuSans-34\"/>\r\n       <use x=\"63.623047\" xlink:href=\"#DejaVuSans-2e\"/>\r\n       <use x=\"95.410156\" xlink:href=\"#DejaVuSans-34\"/>\r\n      </g>\r\n     </g>\r\n    </g>\r\n    <g id=\"text_20\">\r\n     <!-- 1e7 -->\r\n     <g transform=\"translate(30.103125 14.798437)scale(0.1 -0.1)\">\r\n      <defs>\r\n       <path d=\"M 3597 1894 \r\nL 3597 1613 \r\nL 953 1613 \r\nQ 991 1019 1311 708 \r\nQ 1631 397 2203 397 \r\nQ 2534 397 2845 478 \r\nQ 3156 559 3463 722 \r\nL 3463 178 \r\nQ 3153 47 2828 -22 \r\nQ 2503 -91 2169 -91 \r\nQ 1331 -91 842 396 \r\nQ 353 884 353 1716 \r\nQ 353 2575 817 3079 \r\nQ 1281 3584 2069 3584 \r\nQ 2775 3584 3186 3129 \r\nQ 3597 2675 3597 1894 \r\nz\r\nM 3022 2063 \r\nQ 3016 2534 2758 2815 \r\nQ 2500 3097 2075 3097 \r\nQ 1594 3097 1305 2825 \r\nQ 1016 2553 972 2059 \r\nL 3022 2063 \r\nz\r\n\" id=\"DejaVuSans-65\" transform=\"scale(0.015625)\"/>\r\n       <path d=\"M 525 4666 \r\nL 3525 4666 \r\nL 3525 4397 \r\nL 1831 0 \r\nL 1172 0 \r\nL 2766 4134 \r\nL 525 4134 \r\nL 525 4666 \r\nz\r\n\" id=\"DejaVuSans-37\" transform=\"scale(0.015625)\"/>\r\n      </defs>\r\n      <use xlink:href=\"#DejaVuSans-31\"/>\r\n      <use x=\"63.623047\" xlink:href=\"#DejaVuSans-65\"/>\r\n      <use x=\"125.146484\" xlink:href=\"#DejaVuSans-37\"/>\r\n     </g>\r\n    </g>\r\n   </g>\r\n   <g id=\"line2d_20\">\r\n    <path clip-path=\"url(#p065deb7450)\" d=\"M 60.539489 85.120898 \r\nL 115.878332 93.804447 \r\nL 171.217175 102.487995 \r\nL 226.556018 111.171543 \r\nL 281.894861 119.855092 \r\nL 337.233704 128.53864 \r\nL 392.572546 137.222188 \r\nL 447.911389 145.905737 \r\nL 503.250232 154.589285 \r\nL 558.589075 163.272833 \r\nL 613.927918 171.956382 \r\nL 669.266761 180.63993 \r\n\" style=\"fill:none;stroke:#1f77b4;stroke-linecap:square;stroke-width:1.5;\"/>\r\n   </g>\r\n   <g id=\"patch_3\">\r\n    <path d=\"M 30.103125 289.598437 \r\nL 30.103125 17.798437 \r\n\" style=\"fill:none;stroke:#000000;stroke-linecap:square;stroke-linejoin:miter;stroke-width:0.8;\"/>\r\n   </g>\r\n   <g id=\"patch_4\">\r\n    <path d=\"M 699.703125 289.598437 \r\nL 699.703125 17.798437 \r\n\" style=\"fill:none;stroke:#000000;stroke-linecap:square;stroke-linejoin:miter;stroke-width:0.8;\"/>\r\n   </g>\r\n   <g id=\"patch_5\">\r\n    <path d=\"M 30.103125 289.598437 \r\nL 699.703125 289.598437 \r\n\" style=\"fill:none;stroke:#000000;stroke-linecap:square;stroke-linejoin:miter;stroke-width:0.8;\"/>\r\n   </g>\r\n   <g id=\"patch_6\">\r\n    <path d=\"M 30.103125 17.798437 \r\nL 699.703125 17.798437 \r\n\" style=\"fill:none;stroke:#000000;stroke-linecap:square;stroke-linejoin:miter;stroke-width:0.8;\"/>\r\n   </g>\r\n  </g>\r\n </g>\r\n <defs>\r\n  <clipPath id=\"p065deb7450\">\r\n   <rect height=\"271.8\" width=\"669.6\" x=\"30.103125\" y=\"17.798437\"/>\r\n  </clipPath>\r\n </defs>\r\n</svg>\r\n",
      "image/png": "[encoded data removed]"
     },
     "metadata": {
      "needs_background": "light"
     }
    }
   ],
   "source": [
    "regr = LinearRegression()\n",
    "regr.fit(np.array(range(12)).reshape(-1,1), long_tab['pocet'])\n",
    "y_pred = regr.predict(np.array(range(12)).reshape(-1,1))\n",
    "\n",
    "plt.figure(figsize=(12, 5), dpi=80)\n",
    "plt.scatter([f'{i} {j}' for i in range(2018,2021) for j in ('Q1','Q2','Q3','Q4')], long_tab['pocet'])\n",
    "\n",
    "plt.plot([f'{i} {j}' for i in range(2018,2021) for j in ('Q1','Q2','Q3','Q4')], y_pred)\n",
    "\n",
    "plt.show()"
   ]
  },
  {
   "cell_type": "code",
   "execution_count": 6,
   "metadata": {},
   "outputs": [
    {
     "output_type": "display_data",
     "data": {
      "application/vnd.plotly.v1+json": {
       "config": {
        "plotlyServerURL": "https://plot.ly"
       },
       "data": [
        {
         "marker": {
          "color": "#4B6AAB"
         },
         "mode": "markers",
         "type": "scatter",
         "x": [
          "2018 Q1",
          "2018 Q2",
          "2018 Q3",
          "2018 Q4",
          "2019 Q1",
          "2019 Q2",
          "2019 Q3",
          "2019 Q4",
          "2020 Q1",
          "2020 Q2",
          "2020 Q3",
          "2020 Q4"
         ],
         "y": [
          42512845.79299999,
          39667717.991000004,
          36384898.029,
          42497307.171000004,
          41390215.580000006,
          37701908.858,
          36204818.819000006,
          41242796.26600001,
          43767213.87300013,
          31985452.09999985,
          35589450.535999894,
          37483083.40399992
         ]
        },
        {
         "marker": {
          "color": "#B75B9E"
         },
         "mode": "lines",
         "type": "scatter",
         "x": [
          "2018 Q1",
          "2018 Q2",
          "2018 Q3",
          "2018 Q4",
          "2019 Q1",
          "2019 Q2",
          "2019 Q3",
          "2019 Q4",
          "2020 Q1",
          "2020 Q2",
          "2020 Q3",
          "2020 Q4"
         ],
         "y": [
          41146239.72758976,
          40732191.72287647,
          40318143.71816318,
          39904095.71344988,
          39490047.70873658,
          39075999.704023294,
          38661951.69931,
          38247903.69459671,
          37833855.68988341,
          37419807.685170114,
          37005759.680456825,
          36591711.67574353
         ]
        }
       ],
       "layout": {
        "showlegend": false,
        "template": {
         "data": {
          "bar": [
           {
            "error_x": {
             "color": "#2a3f5f"
            },
            "error_y": {
             "color": "#2a3f5f"
            },
            "marker": {
             "line": {
              "color": "#E5ECF6",
              "width": 0.5
             }
            },
            "type": "bar"
           }
          ],
          "barpolar": [
           {
            "marker": {
             "line": {
              "color": "#E5ECF6",
              "width": 0.5
             }
            },
            "type": "barpolar"
           }
          ],
          "carpet": [
           {
            "aaxis": {
             "endlinecolor": "#2a3f5f",
             "gridcolor": "white",
             "linecolor": "white",
             "minorgridcolor": "white",
             "startlinecolor": "#2a3f5f"
            },
            "baxis": {
             "endlinecolor": "#2a3f5f",
             "gridcolor": "white",
             "linecolor": "white",
             "minorgridcolor": "white",
             "startlinecolor": "#2a3f5f"
            },
            "type": "carpet"
           }
          ],
          "choropleth": [
           {
            "colorbar": {
             "outlinewidth": 0,
             "ticks": ""
            },
            "type": "choropleth"
           }
          ],
          "contour": [
           {
            "colorbar": {
             "outlinewidth": 0,
             "ticks": ""
            },
            "colorscale": [
             [
              0,
              "#0d0887"
             ],
             [
              0.1111111111111111,
              "#46039f"
             ],
             [
              0.2222222222222222,
              "#7201a8"
             ],
             [
              0.3333333333333333,
              "#9c179e"
             ],
             [
              0.4444444444444444,
              "#bd3786"
             ],
             [
              0.5555555555555556,
              "#d8576b"
             ],
             [
              0.6666666666666666,
              "#ed7953"
             ],
             [
              0.7777777777777778,
              "#fb9f3a"
             ],
             [
              0.8888888888888888,
              "#fdca26"
             ],
             [
              1,
              "#f0f921"
             ]
            ],
            "type": "contour"
           }
          ],
          "contourcarpet": [
           {
            "colorbar": {
             "outlinewidth": 0,
             "ticks": ""
            },
            "type": "contourcarpet"
           }
          ],
          "heatmap": [
           {
            "colorbar": {
             "outlinewidth": 0,
             "ticks": ""
            },
            "colorscale": [
             [
              0,
              "#0d0887"
             ],
             [
              0.1111111111111111,
              "#46039f"
             ],
             [
              0.2222222222222222,
              "#7201a8"
             ],
             [
              0.3333333333333333,
              "#9c179e"
             ],
             [
              0.4444444444444444,
              "#bd3786"
             ],
             [
              0.5555555555555556,
              "#d8576b"
             ],
             [
              0.6666666666666666,
              "#ed7953"
             ],
             [
              0.7777777777777778,
              "#fb9f3a"
             ],
             [
              0.8888888888888888,
              "#fdca26"
             ],
             [
              1,
              "#f0f921"
             ]
            ],
            "type": "heatmap"
           }
          ],
          "heatmapgl": [
           {
            "colorbar": {
             "outlinewidth": 0,
             "ticks": ""
            },
            "colorscale": [
             [
              0,
              "#0d0887"
             ],
             [
              0.1111111111111111,
              "#46039f"
             ],
             [
              0.2222222222222222,
              "#7201a8"
             ],
             [
              0.3333333333333333,
              "#9c179e"
             ],
             [
              0.4444444444444444,
              "#bd3786"
             ],
             [
              0.5555555555555556,
              "#d8576b"
             ],
             [
              0.6666666666666666,
              "#ed7953"
             ],
             [
              0.7777777777777778,
              "#fb9f3a"
             ],
             [
              0.8888888888888888,
              "#fdca26"
             ],
             [
              1,
              "#f0f921"
             ]
            ],
            "type": "heatmapgl"
           }
          ],
          "histogram": [
           {
            "marker": {
             "colorbar": {
              "outlinewidth": 0,
              "ticks": ""
             }
            },
            "type": "histogram"
           }
          ],
          "histogram2d": [
           {
            "colorbar": {
             "outlinewidth": 0,
             "ticks": ""
            },
            "colorscale": [
             [
              0,
              "#0d0887"
             ],
             [
              0.1111111111111111,
              "#46039f"
             ],
             [
              0.2222222222222222,
              "#7201a8"
             ],
             [
              0.3333333333333333,
              "#9c179e"
             ],
             [
              0.4444444444444444,
              "#bd3786"
             ],
             [
              0.5555555555555556,
              "#d8576b"
             ],
             [
              0.6666666666666666,
              "#ed7953"
             ],
             [
              0.7777777777777778,
              "#fb9f3a"
             ],
             [
              0.8888888888888888,
              "#fdca26"
             ],
             [
              1,
              "#f0f921"
             ]
            ],
            "type": "histogram2d"
           }
          ],
          "histogram2dcontour": [
           {
            "colorbar": {
             "outlinewidth": 0,
             "ticks": ""
            },
            "colorscale": [
             [
              0,
              "#0d0887"
             ],
             [
              0.1111111111111111,
              "#46039f"
             ],
             [
              0.2222222222222222,
              "#7201a8"
             ],
             [
              0.3333333333333333,
              "#9c179e"
             ],
             [
              0.4444444444444444,
              "#bd3786"
             ],
             [
              0.5555555555555556,
              "#d8576b"
             ],
             [
              0.6666666666666666,
              "#ed7953"
             ],
             [
              0.7777777777777778,
              "#fb9f3a"
             ],
             [
              0.8888888888888888,
              "#fdca26"
             ],
             [
              1,
              "#f0f921"
             ]
            ],
            "type": "histogram2dcontour"
           }
          ],
          "mesh3d": [
           {
            "colorbar": {
             "outlinewidth": 0,
             "ticks": ""
            },
            "type": "mesh3d"
           }
          ],
          "parcoords": [
           {
            "line": {
             "colorbar": {
              "outlinewidth": 0,
              "ticks": ""
             }
            },
            "type": "parcoords"
           }
          ],
          "pie": [
           {
            "automargin": true,
            "type": "pie"
           }
          ],
          "scatter": [
           {
            "marker": {
             "colorbar": {
              "outlinewidth": 0,
              "ticks": ""
             }
            },
            "type": "scatter"
           }
          ],
          "scatter3d": [
           {
            "line": {
             "colorbar": {
              "outlinewidth": 0,
              "ticks": ""
             }
            },
            "marker": {
             "colorbar": {
              "outlinewidth": 0,
              "ticks": ""
             }
            },
            "type": "scatter3d"
           }
          ],
          "scattercarpet": [
           {
            "marker": {
             "colorbar": {
              "outlinewidth": 0,
              "ticks": ""
             }
            },
            "type": "scattercarpet"
           }
          ],
          "scattergeo": [
           {
            "marker": {
             "colorbar": {
              "outlinewidth": 0,
              "ticks": ""
             }
            },
            "type": "scattergeo"
           }
          ],
          "scattergl": [
           {
            "marker": {
             "colorbar": {
              "outlinewidth": 0,
              "ticks": ""
             }
            },
            "type": "scattergl"
           }
          ],
          "scattermapbox": [
           {
            "marker": {
             "colorbar": {
              "outlinewidth": 0,
              "ticks": ""
             }
            },
            "type": "scattermapbox"
           }
          ],
          "scatterpolar": [
           {
            "marker": {
             "colorbar": {
              "outlinewidth": 0,
              "ticks": ""
             }
            },
            "type": "scatterpolar"
           }
          ],
          "scatterpolargl": [
           {
            "marker": {
             "colorbar": {
              "outlinewidth": 0,
              "ticks": ""
             }
            },
            "type": "scatterpolargl"
           }
          ],
          "scatterternary": [
           {
            "marker": {
             "colorbar": {
              "outlinewidth": 0,
              "ticks": ""
             }
            },
            "type": "scatterternary"
           }
          ],
          "surface": [
           {
            "colorbar": {
             "outlinewidth": 0,
             "ticks": ""
            },
            "colorscale": [
             [
              0,
              "#0d0887"
             ],
             [
              0.1111111111111111,
              "#46039f"
             ],
             [
              0.2222222222222222,
              "#7201a8"
             ],
             [
              0.3333333333333333,
              "#9c179e"
             ],
             [
              0.4444444444444444,
              "#bd3786"
             ],
             [
              0.5555555555555556,
              "#d8576b"
             ],
             [
              0.6666666666666666,
              "#ed7953"
             ],
             [
              0.7777777777777778,
              "#fb9f3a"
             ],
             [
              0.8888888888888888,
              "#fdca26"
             ],
             [
              1,
              "#f0f921"
             ]
            ],
            "type": "surface"
           }
          ],
          "table": [
           {
            "cells": {
             "fill": {
              "color": "#EBF0F8"
             },
             "line": {
              "color": "white"
             }
            },
            "header": {
             "fill": {
              "color": "#C8D4E3"
             },
             "line": {
              "color": "white"
             }
            },
            "type": "table"
           }
          ]
         },
         "layout": {
          "annotationdefaults": {
           "arrowcolor": "#2a3f5f",
           "arrowhead": 0,
           "arrowwidth": 1
          },
          "autotypenumbers": "strict",
          "coloraxis": {
           "colorbar": {
            "outlinewidth": 0,
            "ticks": ""
           }
          },
          "colorscale": {
           "diverging": [
            [
             0,
             "#8e0152"
            ],
            [
             0.1,
             "#c51b7d"
            ],
            [
             0.2,
             "#de77ae"
            ],
            [
             0.3,
             "#f1b6da"
            ],
            [
             0.4,
             "#fde0ef"
            ],
            [
             0.5,
             "#f7f7f7"
            ],
            [
             0.6,
             "#e6f5d0"
            ],
            [
             0.7,
             "#b8e186"
            ],
            [
             0.8,
             "#7fbc41"
            ],
            [
             0.9,
             "#4d9221"
            ],
            [
             1,
             "#276419"
            ]
           ],
           "sequential": [
            [
             0,
             "#0d0887"
            ],
            [
             0.1111111111111111,
             "#46039f"
            ],
            [
             0.2222222222222222,
             "#7201a8"
            ],
            [
             0.3333333333333333,
             "#9c179e"
            ],
            [
             0.4444444444444444,
             "#bd3786"
            ],
            [
             0.5555555555555556,
             "#d8576b"
            ],
            [
             0.6666666666666666,
             "#ed7953"
            ],
            [
             0.7777777777777778,
             "#fb9f3a"
            ],
            [
             0.8888888888888888,
             "#fdca26"
            ],
            [
             1,
             "#f0f921"
            ]
           ],
           "sequentialminus": [
            [
             0,
             "#0d0887"
            ],
            [
             0.1111111111111111,
             "#46039f"
            ],
            [
             0.2222222222222222,
             "#7201a8"
            ],
            [
             0.3333333333333333,
             "#9c179e"
            ],
            [
             0.4444444444444444,
             "#bd3786"
            ],
            [
             0.5555555555555556,
             "#d8576b"
            ],
            [
             0.6666666666666666,
             "#ed7953"
            ],
            [
             0.7777777777777778,
             "#fb9f3a"
            ],
            [
             0.8888888888888888,
             "#fdca26"
            ],
            [
             1,
             "#f0f921"
            ]
           ]
          },
          "colorway": [
           "#636efa",
           "#EF553B",
           "#00cc96",
           "#ab63fa",
           "#FFA15A",
           "#19d3f3",
           "#FF6692",
           "#B6E880",
           "#FF97FF",
           "#FECB52"
          ],
          "font": {
           "color": "#2a3f5f"
          },
          "geo": {
           "bgcolor": "white",
           "lakecolor": "white",
           "landcolor": "#E5ECF6",
           "showlakes": true,
           "showland": true,
           "subunitcolor": "white"
          },
          "hoverlabel": {
           "align": "left"
          },
          "hovermode": "closest",
          "mapbox": {
           "style": "light"
          },
          "paper_bgcolor": "white",
          "plot_bgcolor": "#E5ECF6",
          "polar": {
           "angularaxis": {
            "gridcolor": "white",
            "linecolor": "white",
            "ticks": ""
           },
           "bgcolor": "#E5ECF6",
           "radialaxis": {
            "gridcolor": "white",
            "linecolor": "white",
            "ticks": ""
           }
          },
          "scene": {
           "xaxis": {
            "backgroundcolor": "#E5ECF6",
            "gridcolor": "white",
            "gridwidth": 2,
            "linecolor": "white",
            "showbackground": true,
            "ticks": "",
            "zerolinecolor": "white"
           },
           "yaxis": {
            "backgroundcolor": "#E5ECF6",
            "gridcolor": "white",
            "gridwidth": 2,
            "linecolor": "white",
            "showbackground": true,
            "ticks": "",
            "zerolinecolor": "white"
           },
           "zaxis": {
            "backgroundcolor": "#E5ECF6",
            "gridcolor": "white",
            "gridwidth": 2,
            "linecolor": "white",
            "showbackground": true,
            "ticks": "",
            "zerolinecolor": "white"
           }
          },
          "shapedefaults": {
           "line": {
            "color": "#2a3f5f"
           }
          },
          "ternary": {
           "aaxis": {
            "gridcolor": "white",
            "linecolor": "white",
            "ticks": ""
           },
           "baxis": {
            "gridcolor": "white",
            "linecolor": "white",
            "ticks": ""
           },
           "bgcolor": "#E5ECF6",
           "caxis": {
            "gridcolor": "white",
            "linecolor": "white",
            "ticks": ""
           }
          },
          "title": {
           "x": 0.05
          },
          "xaxis": {
           "automargin": true,
           "gridcolor": "white",
           "linecolor": "white",
           "ticks": "",
           "title": {
            "standoff": 15
           },
           "zerolinecolor": "white",
           "zerolinewidth": 2
          },
          "yaxis": {
           "automargin": true,
           "gridcolor": "white",
           "linecolor": "white",
           "ticks": "",
           "title": {
            "standoff": 15
           },
           "zerolinecolor": "white",
           "zerolinewidth": 2
          }
         }
        },
        "title": {
         "text": "Spotreba liekov na Slovensku (2018 Q1 - 2020 Q4)"
        },
        "yaxis": {
         "title": {
          "text": "Počet balení"
         }
        }
       }
      }
     },
     "metadata": {}
    }
   ],
   "source": [
    "modra = '#4B6AAB'\n",
    "zelena = '#73B5AB'\n",
    "zlta = '#F1C75B'\n",
    "oranzova = '#D8764C'\n",
    "ruzova = '#B75B9E'\n",
    "fig = go.Figure()\n",
    "fig.add_trace(go.Scatter(x=[f'{i} {j}' for i in range(2018,2021) for j in ('Q1','Q2','Q3','Q4')], y=long_tab['pocet'],mode='markers', marker_color=modra))\n",
    "fig.add_trace(go.Scatter(x=[f'{i} {j}' for i in range(2018,2021) for j in ('Q1','Q2','Q3','Q4')], y= y_pred, mode='lines', marker_color=ruzova))\n",
    "fig.update_layout(\n",
    "    title=\"Spotreba liekov na Slovensku (2018 Q1 - 2020 Q4)\",\n",
    "    yaxis_title=\"Počet balení\")\n",
    "fig.update_layout(showlegend=False)\n",
    "fig.show()"
   ]
  },
  {
   "source": [
    "## Pozorovanie"
   ],
   "cell_type": "markdown",
   "metadata": {}
  },
  {
   "cell_type": "code",
   "execution_count": 13,
   "metadata": {},
   "outputs": [
    {
     "output_type": "stream",
     "name": "stdout",
     "text": [
      "2015\n",
      "<class 'pandas.core.frame.DataFrame'>\n",
      "RangeIndex: 33520 entries, 0 to 33519\n",
      "Data columns (total 20 columns):\n",
      " #   Column         Non-Null Count  Dtype  \n",
      "---  ------         --------------  -----  \n",
      " 0   ROK SPRAC      33520 non-null  int64  \n",
      " 1   ATC1_KOD       33520 non-null  object \n",
      " 2   ATC1_popis     33520 non-null  object \n",
      " 3   ATC2_KOD       33520 non-null  object \n",
      " 4   ATC2_popis     33520 non-null  object \n",
      " 5   ATC7_KOD       33520 non-null  object \n",
      " 6   ATC7_popis     33520 non-null  object \n",
      " 7   LIEK_KOD       33520 non-null  object \n",
      " 8   LIEK_popis     33520 non-null  object \n",
      " 9   STAT_KOD       33520 non-null  object \n",
      " 10  STAT_popis     33520 non-null  object \n",
      " 11  VYROBCA_KOD    33520 non-null  object \n",
      " 12  VYROBCA_popis  33520 non-null  object \n",
      " 13  TYP_VYDAJ      33520 non-null  object \n",
      " 14  TYP_VYDAJ_POP  33520 non-null  object \n",
      " 15  Počet balení   33520 non-null  float64\n",
      " 16  Úhrada_ZP      20056 non-null  float64\n",
      " 17  Úhrada_PAC     18442 non-null  float64\n",
      " 18  Úhrada_SPOLU   33520 non-null  float64\n",
      " 19  CENA           32351 non-null  float64\n",
      "dtypes: float64(5), int64(1), object(14)\n",
      "memory usage: 5.1+ MB\n",
      "2016\n",
      "<class 'pandas.core.frame.DataFrame'>\n",
      "RangeIndex: 33047 entries, 0 to 33046\n",
      "Data columns (total 20 columns):\n",
      " #   Column         Non-Null Count  Dtype  \n",
      "---  ------         --------------  -----  \n",
      " 0   ROK SPRAC      33047 non-null  int64  \n",
      " 1   ATC1_KOD       33047 non-null  object \n",
      " 2   ATC1_popis     33047 non-null  object \n",
      " 3   ATC2_KOD       33047 non-null  object \n",
      " 4   ATC2_popis     33047 non-null  object \n",
      " 5   ATC7_KOD       33047 non-null  object \n",
      " 6   ATC7_popis     33047 non-null  object \n",
      " 7   LIEK_KOD       33047 non-null  object \n",
      " 8   LIEK_popis     33047 non-null  object \n",
      " 9   STAT_KOD       33047 non-null  object \n",
      " 10  STAT_popis     33047 non-null  object \n",
      " 11  VYROBCA_KOD    33047 non-null  object \n",
      " 12  VYROBCA_popis  33047 non-null  object \n",
      " 13  TYP_VYDAJ      33047 non-null  object \n",
      " 14  TYP_VYDAJ_POP  33047 non-null  object \n",
      " 15  Počet balení   33047 non-null  float64\n",
      " 16  Úhrada_ZP      19848 non-null  float64\n",
      " 17  Úhrada_PAC     18218 non-null  float64\n",
      " 18  Úhrada_SPOLU   33047 non-null  float64\n",
      " 19  CENA           31973 non-null  float64\n",
      "dtypes: float64(5), int64(1), object(14)\n",
      "memory usage: 5.0+ MB\n",
      "2017\n",
      "<class 'pandas.core.frame.DataFrame'>\n",
      "RangeIndex: 32380 entries, 0 to 32379\n",
      "Data columns (total 20 columns):\n",
      " #   Column         Non-Null Count  Dtype  \n",
      "---  ------         --------------  -----  \n",
      " 0   ROK SPRAC      32380 non-null  int64  \n",
      " 1   ATC1_KOD       32380 non-null  object \n",
      " 2   ATC1_popis     32380 non-null  object \n",
      " 3   ATC2_KOD       32380 non-null  object \n",
      " 4   ATC2_popis     32380 non-null  object \n",
      " 5   ATC7_KOD       32380 non-null  object \n",
      " 6   ATC7_popis     32380 non-null  object \n",
      " 7   LIEK_KOD       32380 non-null  object \n",
      " 8   LIEK_popis     32380 non-null  object \n",
      " 9   STAT_KOD       32380 non-null  object \n",
      " 10  STAT_popis     32380 non-null  object \n",
      " 11  VYROBCA_KOD    32380 non-null  object \n",
      " 12  VYROBCA_popis  32380 non-null  object \n",
      " 13  TYP_VYDAJ      32380 non-null  object \n",
      " 14  TYP_VYDAJ_POP  32380 non-null  object \n",
      " 15  Počet balení   32380 non-null  float64\n",
      " 16  Úhrada_ZP      19442 non-null  float64\n",
      " 17  Úhrada_PAC     18225 non-null  float64\n",
      " 18  Úhrada_SPOLU   32380 non-null  float64\n",
      " 19  CENA           31506 non-null  float64\n",
      "dtypes: float64(5), int64(1), object(14)\n",
      "memory usage: 4.9+ MB\n",
      "2018\n",
      "<class 'pandas.core.frame.DataFrame'>\n",
      "RangeIndex: 31812 entries, 0 to 31811\n",
      "Data columns (total 20 columns):\n",
      " #   Column         Non-Null Count  Dtype  \n",
      "---  ------         --------------  -----  \n",
      " 0   ROK SPRAC      31812 non-null  int64  \n",
      " 1   ATC1_KOD       31812 non-null  object \n",
      " 2   ATC1_popis     31812 non-null  object \n",
      " 3   ATC2_KOD       31812 non-null  object \n",
      " 4   ATC2_popis     31812 non-null  object \n",
      " 5   ATC7_KOD       31812 non-null  object \n",
      " 6   ATC7_popis     31812 non-null  object \n",
      " 7   LIEK_KOD       31812 non-null  object \n",
      " 8   LIEK_popis     31812 non-null  object \n",
      " 9   STAT_KOD       31812 non-null  object \n",
      " 10  STAT_popis     31812 non-null  object \n",
      " 11  VYROBCA_KOD    31812 non-null  object \n",
      " 12  VYROBCA_popis  31812 non-null  object \n",
      " 13  TYP_VYDAJ      31812 non-null  object \n",
      " 14  TYP_VYDAJ_POP  31812 non-null  object \n",
      " 15  Počet balení   31812 non-null  float64\n",
      " 16  Úhrada_ZP      18779 non-null  float64\n",
      " 17  Úhrada_PAC     17933 non-null  float64\n",
      " 18  Úhrada_SPOLU   31812 non-null  float64\n",
      " 19  CENA           31812 non-null  float64\n",
      "dtypes: float64(5), int64(1), object(14)\n",
      "memory usage: 4.9+ MB\n",
      "2019\n",
      "<class 'pandas.core.frame.DataFrame'>\n",
      "RangeIndex: 32309 entries, 0 to 32308\n",
      "Data columns (total 19 columns):\n",
      " #   Column         Non-Null Count  Dtype  \n",
      "---  ------         --------------  -----  \n",
      " 0   ROK SPRAC      32309 non-null  int64  \n",
      " 1   ATC1_KOD       32309 non-null  object \n",
      " 2   ATC1_popis     32309 non-null  object \n",
      " 3   ATC2_KOD       32309 non-null  object \n",
      " 4   ATC2_popis     32309 non-null  object \n",
      " 5   ATC7_KOD       32309 non-null  object \n",
      " 6   ATC7_popis     32309 non-null  object \n",
      " 7   LIEK_KOD       32309 non-null  object \n",
      " 8   LIEK_popis     32309 non-null  object \n",
      " 9   STAT_KOD       32309 non-null  object \n",
      " 10  STAT_popis     32309 non-null  object \n",
      " 11  VYROBCA_KOD    32309 non-null  object \n",
      " 12  VYROBCA_popis  32309 non-null  object \n",
      " 13  TYP_VYDAJ      32309 non-null  object \n",
      " 14  TYP_VYDAJ_POP  32309 non-null  object \n",
      " 15  Počet balení   32309 non-null  float64\n",
      " 16  Úhrada_ZP      32309 non-null  float64\n",
      " 17  Úhrada_PAC     32309 non-null  float64\n",
      " 18  Úhrada_SPOLU   32309 non-null  float64\n",
      "dtypes: float64(4), int64(1), object(14)\n",
      "memory usage: 4.7+ MB\n"
     ]
    }
   ],
   "source": [
    "tabs = {}\n",
    "\n",
    "for i in range(2015,2020):\n",
    "    tabs[i] = import_table('detailed',i)\n",
    "    print(i)\n",
    "    tabs[i].info()\n",
    "tabs[2020] = import_table('all',2020)"
   ]
  },
  {
   "cell_type": "code",
   "execution_count": 14,
   "metadata": {},
   "outputs": [
    {
     "output_type": "display_data",
     "data": {
      "text/plain": "             pocet\nrok               \n2015  1.630054e+08\n2016  1.625869e+08\n2017  1.599606e+08\n2018  1.610628e+08\n2019  1.565397e+08\n2020  1.488252e+08",
      "text/html": "<div>\n<style scoped>\n    .dataframe tbody tr th:only-of-type {\n        vertical-align: middle;\n    }\n\n    .dataframe tbody tr th {\n        vertical-align: top;\n    }\n\n    .dataframe thead th {\n        text-align: right;\n    }\n</style>\n<table border=\"1\" class=\"dataframe\">\n  <thead>\n    <tr style=\"text-align: right;\">\n      <th></th>\n      <th>pocet</th>\n    </tr>\n    <tr>\n      <th>rok</th>\n      <th></th>\n    </tr>\n  </thead>\n  <tbody>\n    <tr>\n      <th>2015</th>\n      <td>1.630054e+08</td>\n    </tr>\n    <tr>\n      <th>2016</th>\n      <td>1.625869e+08</td>\n    </tr>\n    <tr>\n      <th>2017</th>\n      <td>1.599606e+08</td>\n    </tr>\n    <tr>\n      <th>2018</th>\n      <td>1.610628e+08</td>\n    </tr>\n    <tr>\n      <th>2019</th>\n      <td>1.565397e+08</td>\n    </tr>\n    <tr>\n      <th>2020</th>\n      <td>1.488252e+08</td>\n    </tr>\n  </tbody>\n</table>\n</div>"
     },
     "metadata": {}
    }
   ],
   "source": [
    "info = {}\n",
    "\n",
    "for i in range(2015,2021):\n",
    "    if i == 2015:\n",
    "        info['rok'] = (i,)\n",
    "        info['pocet'] = (tabs[i]['Počet balení'].sum(),)\n",
    "    elif i == 2020:\n",
    "        info['rok'] += (i,)\n",
    "        info['pocet'] += (tabs[i]['Spolu'].sum(),)\n",
    "    else:\n",
    "        info['rok'] += (i,)\n",
    "        info['pocet'] += (tabs[i]['Počet balení'].sum(),)\n",
    "\n",
    "long_tab = pd.DataFrame(info).set_index('rok')\n",
    "display(long_tab)"
   ]
  },
  {
   "cell_type": "code",
   "execution_count": 15,
   "metadata": {},
   "outputs": [
    {
     "output_type": "display_data",
     "data": {
      "text/plain": "<Figure size 432x288 with 1 Axes>",
      "image/svg+xml": "<?xml version=\"1.0\" encoding=\"utf-8\" standalone=\"no\"?>\r\n<!DOCTYPE svg PUBLIC \"-//W3C//DTD SVG 1.1//EN\"\r\n  \"http://www.w3.org/Graphics/SVG/1.1/DTD/svg11.dtd\">\r\n<svg height=\"259.116562pt\" version=\"1.1\" viewBox=\"0 0 378.465625 259.116562\" width=\"378.465625pt\" xmlns=\"http://www.w3.org/2000/svg\" xmlns:xlink=\"http://www.w3.org/1999/xlink\">\r\n <metadata>\r\n  <rdf:RDF xmlns:cc=\"http://creativecommons.org/ns#\" xmlns:dc=\"http://purl.org/dc/elements/1.1/\" xmlns:rdf=\"http://www.w3.org/1999/02/22-rdf-syntax-ns#\">\r\n   <cc:Work>\r\n    <dc:type rdf:resource=\"http://purl.org/dc/dcmitype/StillImage\"/>\r\n    <dc:date>2021-05-06T20:47:58.569345</dc:date>\r\n    <dc:format>image/svg+xml</dc:format>\r\n    <dc:creator>\r\n     <cc:Agent>\r\n      <dc:title>Matplotlib v3.4.1, https://matplotlib.org/</dc:title>\r\n     </cc:Agent>\r\n    </dc:creator>\r\n   </cc:Work>\r\n  </rdf:RDF>\r\n </metadata>\r\n <defs>\r\n  <style type=\"text/css\">*{stroke-linecap:butt;stroke-linejoin:round;}</style>\r\n </defs>\r\n <g id=\"figure_1\">\r\n  <g id=\"patch_1\">\r\n   <path d=\"M 0 259.116562 \r\nL 378.465625 259.116562 \r\nL 378.465625 0 \r\nL 0 0 \r\nz\r\n\" style=\"fill:none;\"/>\r\n  </g>\r\n  <g id=\"axes_1\">\r\n   <g id=\"patch_2\">\r\n    <path d=\"M 36.465625 235.238437 \r\nL 371.265625 235.238437 \r\nL 371.265625 17.798437 \r\nL 36.465625 17.798437 \r\nz\r\n\" style=\"fill:#ffffff;\"/>\r\n   </g>\r\n   <g id=\"PathCollection_1\">\r\n    <defs>\r\n     <path d=\"M 0 3 \r\nC 0.795609 3 1.55874 2.683901 2.12132 2.12132 \r\nC 2.683901 1.55874 3 0.795609 3 0 \r\nC 3 -0.795609 2.683901 -1.55874 2.12132 -2.12132 \r\nC 1.55874 -2.683901 0.795609 -3 0 -3 \r\nC -0.795609 -3 -1.55874 -2.683901 -2.12132 -2.12132 \r\nC -2.683901 -1.55874 -3 -0.795609 -3 0 \r\nC -3 0.795609 -2.683901 1.55874 -2.12132 2.12132 \r\nC -1.55874 2.683901 -0.795609 3 0 3 \r\nz\r\n\" id=\"m58729af97b\" style=\"stroke:#1f77b4;\"/>\r\n    </defs>\r\n    <g clip-path=\"url(#p7f3482a77c)\">\r\n     <use style=\"fill:#1f77b4;stroke:#1f77b4;\" x=\"51.683807\" xlink:href=\"#m58729af97b\" y=\"51.465419\"/>\r\n     <use style=\"fill:#1f77b4;stroke:#1f77b4;\" x=\"112.556534\" xlink:href=\"#m58729af97b\" y=\"56.598031\"/>\r\n     <use style=\"fill:#1f77b4;stroke:#1f77b4;\" x=\"173.429261\" xlink:href=\"#m58729af97b\" y=\"88.803195\"/>\r\n     <use style=\"fill:#1f77b4;stroke:#1f77b4;\" x=\"234.301989\" xlink:href=\"#m58729af97b\" y=\"75.287928\"/>\r\n     <use style=\"fill:#1f77b4;stroke:#1f77b4;\" x=\"295.174716\" xlink:href=\"#m58729af97b\" y=\"130.752938\"/>\r\n     <use style=\"fill:#1f77b4;stroke:#1f77b4;\" x=\"356.047443\" xlink:href=\"#m58729af97b\" y=\"225.354801\"/>\r\n    </g>\r\n   </g>\r\n   <g id=\"matplotlib.axis_1\">\r\n    <g id=\"xtick_1\">\r\n     <g id=\"line2d_1\">\r\n      <defs>\r\n       <path d=\"M 0 0 \r\nL 0 3.5 \r\n\" id=\"m498d0d2f28\" style=\"stroke:#000000;stroke-width:0.8;\"/>\r\n      </defs>\r\n      <g>\r\n       <use style=\"stroke:#000000;stroke-width:0.8;\" x=\"51.683807\" xlink:href=\"#m498d0d2f28\" y=\"235.238437\"/>\r\n      </g>\r\n     </g>\r\n     <g id=\"text_1\">\r\n      <!-- 2015 -->\r\n      <g transform=\"translate(38.958807 249.836875)scale(0.1 -0.1)\">\r\n       <defs>\r\n        <path d=\"M 1228 531 \r\nL 3431 531 \r\nL 3431 0 \r\nL 469 0 \r\nL 469 531 \r\nQ 828 903 1448 1529 \r\nQ 2069 2156 2228 2338 \r\nQ 2531 2678 2651 2914 \r\nQ 2772 3150 2772 3378 \r\nQ 2772 3750 2511 3984 \r\nQ 2250 4219 1831 4219 \r\nQ 1534 4219 1204 4116 \r\nQ 875 4013 500 3803 \r\nL 500 4441 \r\nQ 881 4594 1212 4672 \r\nQ 1544 4750 1819 4750 \r\nQ 2544 4750 2975 4387 \r\nQ 3406 4025 3406 3419 \r\nQ 3406 3131 3298 2873 \r\nQ 3191 2616 2906 2266 \r\nQ 2828 2175 2409 1742 \r\nQ 1991 1309 1228 531 \r\nz\r\n\" id=\"DejaVuSans-32\" transform=\"scale(0.015625)\"/>\r\n        <path d=\"M 2034 4250 \r\nQ 1547 4250 1301 3770 \r\nQ 1056 3291 1056 2328 \r\nQ 1056 1369 1301 889 \r\nQ 1547 409 2034 409 \r\nQ 2525 409 2770 889 \r\nQ 3016 1369 3016 2328 \r\nQ 3016 3291 2770 3770 \r\nQ 2525 4250 2034 4250 \r\nz\r\nM 2034 4750 \r\nQ 2819 4750 3233 4129 \r\nQ 3647 3509 3647 2328 \r\nQ 3647 1150 3233 529 \r\nQ 2819 -91 2034 -91 \r\nQ 1250 -91 836 529 \r\nQ 422 1150 422 2328 \r\nQ 422 3509 836 4129 \r\nQ 1250 4750 2034 4750 \r\nz\r\n\" id=\"DejaVuSans-30\" transform=\"scale(0.015625)\"/>\r\n        <path d=\"M 794 531 \r\nL 1825 531 \r\nL 1825 4091 \r\nL 703 3866 \r\nL 703 4441 \r\nL 1819 4666 \r\nL 2450 4666 \r\nL 2450 531 \r\nL 3481 531 \r\nL 3481 0 \r\nL 794 0 \r\nL 794 531 \r\nz\r\n\" id=\"DejaVuSans-31\" transform=\"scale(0.015625)\"/>\r\n        <path d=\"M 691 4666 \r\nL 3169 4666 \r\nL 3169 4134 \r\nL 1269 4134 \r\nL 1269 2991 \r\nQ 1406 3038 1543 3061 \r\nQ 1681 3084 1819 3084 \r\nQ 2600 3084 3056 2656 \r\nQ 3513 2228 3513 1497 \r\nQ 3513 744 3044 326 \r\nQ 2575 -91 1722 -91 \r\nQ 1428 -91 1123 -41 \r\nQ 819 9 494 109 \r\nL 494 744 \r\nQ 775 591 1075 516 \r\nQ 1375 441 1709 441 \r\nQ 2250 441 2565 725 \r\nQ 2881 1009 2881 1497 \r\nQ 2881 1984 2565 2268 \r\nQ 2250 2553 1709 2553 \r\nQ 1456 2553 1204 2497 \r\nQ 953 2441 691 2322 \r\nL 691 4666 \r\nz\r\n\" id=\"DejaVuSans-35\" transform=\"scale(0.015625)\"/>\r\n       </defs>\r\n       <use xlink:href=\"#DejaVuSans-32\"/>\r\n       <use x=\"63.623047\" xlink:href=\"#DejaVuSans-30\"/>\r\n       <use x=\"127.246094\" xlink:href=\"#DejaVuSans-31\"/>\r\n       <use x=\"190.869141\" xlink:href=\"#DejaVuSans-35\"/>\r\n      </g>\r\n     </g>\r\n    </g>\r\n    <g id=\"xtick_2\">\r\n     <g id=\"line2d_2\">\r\n      <g>\r\n       <use style=\"stroke:#000000;stroke-width:0.8;\" x=\"112.556534\" xlink:href=\"#m498d0d2f28\" y=\"235.238437\"/>\r\n      </g>\r\n     </g>\r\n     <g id=\"text_2\">\r\n      <!-- 2016 -->\r\n      <g transform=\"translate(99.831534 249.836875)scale(0.1 -0.1)\">\r\n       <defs>\r\n        <path d=\"M 2113 2584 \r\nQ 1688 2584 1439 2293 \r\nQ 1191 2003 1191 1497 \r\nQ 1191 994 1439 701 \r\nQ 1688 409 2113 409 \r\nQ 2538 409 2786 701 \r\nQ 3034 994 3034 1497 \r\nQ 3034 2003 2786 2293 \r\nQ 2538 2584 2113 2584 \r\nz\r\nM 3366 4563 \r\nL 3366 3988 \r\nQ 3128 4100 2886 4159 \r\nQ 2644 4219 2406 4219 \r\nQ 1781 4219 1451 3797 \r\nQ 1122 3375 1075 2522 \r\nQ 1259 2794 1537 2939 \r\nQ 1816 3084 2150 3084 \r\nQ 2853 3084 3261 2657 \r\nQ 3669 2231 3669 1497 \r\nQ 3669 778 3244 343 \r\nQ 2819 -91 2113 -91 \r\nQ 1303 -91 875 529 \r\nQ 447 1150 447 2328 \r\nQ 447 3434 972 4092 \r\nQ 1497 4750 2381 4750 \r\nQ 2619 4750 2861 4703 \r\nQ 3103 4656 3366 4563 \r\nz\r\n\" id=\"DejaVuSans-36\" transform=\"scale(0.015625)\"/>\r\n       </defs>\r\n       <use xlink:href=\"#DejaVuSans-32\"/>\r\n       <use x=\"63.623047\" xlink:href=\"#DejaVuSans-30\"/>\r\n       <use x=\"127.246094\" xlink:href=\"#DejaVuSans-31\"/>\r\n       <use x=\"190.869141\" xlink:href=\"#DejaVuSans-36\"/>\r\n      </g>\r\n     </g>\r\n    </g>\r\n    <g id=\"xtick_3\">\r\n     <g id=\"line2d_3\">\r\n      <g>\r\n       <use style=\"stroke:#000000;stroke-width:0.8;\" x=\"173.429261\" xlink:href=\"#m498d0d2f28\" y=\"235.238437\"/>\r\n      </g>\r\n     </g>\r\n     <g id=\"text_3\">\r\n      <!-- 2017 -->\r\n      <g transform=\"translate(160.704261 249.836875)scale(0.1 -0.1)\">\r\n       <defs>\r\n        <path d=\"M 525 4666 \r\nL 3525 4666 \r\nL 3525 4397 \r\nL 1831 0 \r\nL 1172 0 \r\nL 2766 4134 \r\nL 525 4134 \r\nL 525 4666 \r\nz\r\n\" id=\"DejaVuSans-37\" transform=\"scale(0.015625)\"/>\r\n       </defs>\r\n       <use xlink:href=\"#DejaVuSans-32\"/>\r\n       <use x=\"63.623047\" xlink:href=\"#DejaVuSans-30\"/>\r\n       <use x=\"127.246094\" xlink:href=\"#DejaVuSans-31\"/>\r\n       <use x=\"190.869141\" xlink:href=\"#DejaVuSans-37\"/>\r\n      </g>\r\n     </g>\r\n    </g>\r\n    <g id=\"xtick_4\">\r\n     <g id=\"line2d_4\">\r\n      <g>\r\n       <use style=\"stroke:#000000;stroke-width:0.8;\" x=\"234.301989\" xlink:href=\"#m498d0d2f28\" y=\"235.238437\"/>\r\n      </g>\r\n     </g>\r\n     <g id=\"text_4\">\r\n      <!-- 2018 -->\r\n      <g transform=\"translate(221.576989 249.836875)scale(0.1 -0.1)\">\r\n       <defs>\r\n        <path d=\"M 2034 2216 \r\nQ 1584 2216 1326 1975 \r\nQ 1069 1734 1069 1313 \r\nQ 1069 891 1326 650 \r\nQ 1584 409 2034 409 \r\nQ 2484 409 2743 651 \r\nQ 3003 894 3003 1313 \r\nQ 3003 1734 2745 1975 \r\nQ 2488 2216 2034 2216 \r\nz\r\nM 1403 2484 \r\nQ 997 2584 770 2862 \r\nQ 544 3141 544 3541 \r\nQ 544 4100 942 4425 \r\nQ 1341 4750 2034 4750 \r\nQ 2731 4750 3128 4425 \r\nQ 3525 4100 3525 3541 \r\nQ 3525 3141 3298 2862 \r\nQ 3072 2584 2669 2484 \r\nQ 3125 2378 3379 2068 \r\nQ 3634 1759 3634 1313 \r\nQ 3634 634 3220 271 \r\nQ 2806 -91 2034 -91 \r\nQ 1263 -91 848 271 \r\nQ 434 634 434 1313 \r\nQ 434 1759 690 2068 \r\nQ 947 2378 1403 2484 \r\nz\r\nM 1172 3481 \r\nQ 1172 3119 1398 2916 \r\nQ 1625 2713 2034 2713 \r\nQ 2441 2713 2670 2916 \r\nQ 2900 3119 2900 3481 \r\nQ 2900 3844 2670 4047 \r\nQ 2441 4250 2034 4250 \r\nQ 1625 4250 1398 4047 \r\nQ 1172 3844 1172 3481 \r\nz\r\n\" id=\"DejaVuSans-38\" transform=\"scale(0.015625)\"/>\r\n       </defs>\r\n       <use xlink:href=\"#DejaVuSans-32\"/>\r\n       <use x=\"63.623047\" xlink:href=\"#DejaVuSans-30\"/>\r\n       <use x=\"127.246094\" xlink:href=\"#DejaVuSans-31\"/>\r\n       <use x=\"190.869141\" xlink:href=\"#DejaVuSans-38\"/>\r\n      </g>\r\n     </g>\r\n    </g>\r\n    <g id=\"xtick_5\">\r\n     <g id=\"line2d_5\">\r\n      <g>\r\n       <use style=\"stroke:#000000;stroke-width:0.8;\" x=\"295.174716\" xlink:href=\"#m498d0d2f28\" y=\"235.238437\"/>\r\n      </g>\r\n     </g>\r\n     <g id=\"text_5\">\r\n      <!-- 2019 -->\r\n      <g transform=\"translate(282.449716 249.836875)scale(0.1 -0.1)\">\r\n       <defs>\r\n        <path d=\"M 703 97 \r\nL 703 672 \r\nQ 941 559 1184 500 \r\nQ 1428 441 1663 441 \r\nQ 2288 441 2617 861 \r\nQ 2947 1281 2994 2138 \r\nQ 2813 1869 2534 1725 \r\nQ 2256 1581 1919 1581 \r\nQ 1219 1581 811 2004 \r\nQ 403 2428 403 3163 \r\nQ 403 3881 828 4315 \r\nQ 1253 4750 1959 4750 \r\nQ 2769 4750 3195 4129 \r\nQ 3622 3509 3622 2328 \r\nQ 3622 1225 3098 567 \r\nQ 2575 -91 1691 -91 \r\nQ 1453 -91 1209 -44 \r\nQ 966 3 703 97 \r\nz\r\nM 1959 2075 \r\nQ 2384 2075 2632 2365 \r\nQ 2881 2656 2881 3163 \r\nQ 2881 3666 2632 3958 \r\nQ 2384 4250 1959 4250 \r\nQ 1534 4250 1286 3958 \r\nQ 1038 3666 1038 3163 \r\nQ 1038 2656 1286 2365 \r\nQ 1534 2075 1959 2075 \r\nz\r\n\" id=\"DejaVuSans-39\" transform=\"scale(0.015625)\"/>\r\n       </defs>\r\n       <use xlink:href=\"#DejaVuSans-32\"/>\r\n       <use x=\"63.623047\" xlink:href=\"#DejaVuSans-30\"/>\r\n       <use x=\"127.246094\" xlink:href=\"#DejaVuSans-31\"/>\r\n       <use x=\"190.869141\" xlink:href=\"#DejaVuSans-39\"/>\r\n      </g>\r\n     </g>\r\n    </g>\r\n    <g id=\"xtick_6\">\r\n     <g id=\"line2d_6\">\r\n      <g>\r\n       <use style=\"stroke:#000000;stroke-width:0.8;\" x=\"356.047443\" xlink:href=\"#m498d0d2f28\" y=\"235.238437\"/>\r\n      </g>\r\n     </g>\r\n     <g id=\"text_6\">\r\n      <!-- 2020 -->\r\n      <g transform=\"translate(343.322443 249.836875)scale(0.1 -0.1)\">\r\n       <use xlink:href=\"#DejaVuSans-32\"/>\r\n       <use x=\"63.623047\" xlink:href=\"#DejaVuSans-30\"/>\r\n       <use x=\"127.246094\" xlink:href=\"#DejaVuSans-32\"/>\r\n       <use x=\"190.869141\" xlink:href=\"#DejaVuSans-30\"/>\r\n      </g>\r\n     </g>\r\n    </g>\r\n   </g>\r\n   <g id=\"matplotlib.axis_2\">\r\n    <g id=\"ytick_1\">\r\n     <g id=\"line2d_7\">\r\n      <defs>\r\n       <path d=\"M 0 0 \r\nL -3.5 0 \r\n\" id=\"md5823f8057\" style=\"stroke:#000000;stroke-width:0.8;\"/>\r\n      </defs>\r\n      <g>\r\n       <use style=\"stroke:#000000;stroke-width:0.8;\" x=\"36.465625\" xlink:href=\"#md5823f8057\" y=\"210.948462\"/>\r\n      </g>\r\n     </g>\r\n     <g id=\"text_7\">\r\n      <!-- 1.50 -->\r\n      <g transform=\"translate(7.2 214.74768)scale(0.1 -0.1)\">\r\n       <defs>\r\n        <path d=\"M 684 794 \r\nL 1344 794 \r\nL 1344 0 \r\nL 684 0 \r\nL 684 794 \r\nz\r\n\" id=\"DejaVuSans-2e\" transform=\"scale(0.015625)\"/>\r\n       </defs>\r\n       <use xlink:href=\"#DejaVuSans-31\"/>\r\n       <use x=\"63.623047\" xlink:href=\"#DejaVuSans-2e\"/>\r\n       <use x=\"95.410156\" xlink:href=\"#DejaVuSans-35\"/>\r\n       <use x=\"159.033203\" xlink:href=\"#DejaVuSans-30\"/>\r\n      </g>\r\n     </g>\r\n    </g>\r\n    <g id=\"ytick_2\">\r\n     <g id=\"line2d_8\">\r\n      <g>\r\n       <use style=\"stroke:#000000;stroke-width:0.8;\" x=\"36.465625\" xlink:href=\"#md5823f8057\" y=\"186.42286\"/>\r\n      </g>\r\n     </g>\r\n     <g id=\"text_8\">\r\n      <!-- 1.52 -->\r\n      <g transform=\"translate(7.2 190.222078)scale(0.1 -0.1)\">\r\n       <use xlink:href=\"#DejaVuSans-31\"/>\r\n       <use x=\"63.623047\" xlink:href=\"#DejaVuSans-2e\"/>\r\n       <use x=\"95.410156\" xlink:href=\"#DejaVuSans-35\"/>\r\n       <use x=\"159.033203\" xlink:href=\"#DejaVuSans-32\"/>\r\n      </g>\r\n     </g>\r\n    </g>\r\n    <g id=\"ytick_3\">\r\n     <g id=\"line2d_9\">\r\n      <g>\r\n       <use style=\"stroke:#000000;stroke-width:0.8;\" x=\"36.465625\" xlink:href=\"#md5823f8057\" y=\"161.897258\"/>\r\n      </g>\r\n     </g>\r\n     <g id=\"text_9\">\r\n      <!-- 1.54 -->\r\n      <g transform=\"translate(7.2 165.696477)scale(0.1 -0.1)\">\r\n       <defs>\r\n        <path d=\"M 2419 4116 \r\nL 825 1625 \r\nL 2419 1625 \r\nL 2419 4116 \r\nz\r\nM 2253 4666 \r\nL 3047 4666 \r\nL 3047 1625 \r\nL 3713 1625 \r\nL 3713 1100 \r\nL 3047 1100 \r\nL 3047 0 \r\nL 2419 0 \r\nL 2419 1100 \r\nL 313 1100 \r\nL 313 1709 \r\nL 2253 4666 \r\nz\r\n\" id=\"DejaVuSans-34\" transform=\"scale(0.015625)\"/>\r\n       </defs>\r\n       <use xlink:href=\"#DejaVuSans-31\"/>\r\n       <use x=\"63.623047\" xlink:href=\"#DejaVuSans-2e\"/>\r\n       <use x=\"95.410156\" xlink:href=\"#DejaVuSans-35\"/>\r\n       <use x=\"159.033203\" xlink:href=\"#DejaVuSans-34\"/>\r\n      </g>\r\n     </g>\r\n    </g>\r\n    <g id=\"ytick_4\">\r\n     <g id=\"line2d_10\">\r\n      <g>\r\n       <use style=\"stroke:#000000;stroke-width:0.8;\" x=\"36.465625\" xlink:href=\"#md5823f8057\" y=\"137.371656\"/>\r\n      </g>\r\n     </g>\r\n     <g id=\"text_10\">\r\n      <!-- 1.56 -->\r\n      <g transform=\"translate(7.2 141.170875)scale(0.1 -0.1)\">\r\n       <use xlink:href=\"#DejaVuSans-31\"/>\r\n       <use x=\"63.623047\" xlink:href=\"#DejaVuSans-2e\"/>\r\n       <use x=\"95.410156\" xlink:href=\"#DejaVuSans-35\"/>\r\n       <use x=\"159.033203\" xlink:href=\"#DejaVuSans-36\"/>\r\n      </g>\r\n     </g>\r\n    </g>\r\n    <g id=\"ytick_5\">\r\n     <g id=\"line2d_11\">\r\n      <g>\r\n       <use style=\"stroke:#000000;stroke-width:0.8;\" x=\"36.465625\" xlink:href=\"#md5823f8057\" y=\"112.846054\"/>\r\n      </g>\r\n     </g>\r\n     <g id=\"text_11\">\r\n      <!-- 1.58 -->\r\n      <g transform=\"translate(7.2 116.645273)scale(0.1 -0.1)\">\r\n       <use xlink:href=\"#DejaVuSans-31\"/>\r\n       <use x=\"63.623047\" xlink:href=\"#DejaVuSans-2e\"/>\r\n       <use x=\"95.410156\" xlink:href=\"#DejaVuSans-35\"/>\r\n       <use x=\"159.033203\" xlink:href=\"#DejaVuSans-38\"/>\r\n      </g>\r\n     </g>\r\n    </g>\r\n    <g id=\"ytick_6\">\r\n     <g id=\"line2d_12\">\r\n      <g>\r\n       <use style=\"stroke:#000000;stroke-width:0.8;\" x=\"36.465625\" xlink:href=\"#md5823f8057\" y=\"88.320452\"/>\r\n      </g>\r\n     </g>\r\n     <g id=\"text_12\">\r\n      <!-- 1.60 -->\r\n      <g transform=\"translate(7.2 92.119671)scale(0.1 -0.1)\">\r\n       <use xlink:href=\"#DejaVuSans-31\"/>\r\n       <use x=\"63.623047\" xlink:href=\"#DejaVuSans-2e\"/>\r\n       <use x=\"95.410156\" xlink:href=\"#DejaVuSans-36\"/>\r\n       <use x=\"159.033203\" xlink:href=\"#DejaVuSans-30\"/>\r\n      </g>\r\n     </g>\r\n    </g>\r\n    <g id=\"ytick_7\">\r\n     <g id=\"line2d_13\">\r\n      <g>\r\n       <use style=\"stroke:#000000;stroke-width:0.8;\" x=\"36.465625\" xlink:href=\"#md5823f8057\" y=\"63.79485\"/>\r\n      </g>\r\n     </g>\r\n     <g id=\"text_13\">\r\n      <!-- 1.62 -->\r\n      <g transform=\"translate(7.2 67.594069)scale(0.1 -0.1)\">\r\n       <use xlink:href=\"#DejaVuSans-31\"/>\r\n       <use x=\"63.623047\" xlink:href=\"#DejaVuSans-2e\"/>\r\n       <use x=\"95.410156\" xlink:href=\"#DejaVuSans-36\"/>\r\n       <use x=\"159.033203\" xlink:href=\"#DejaVuSans-32\"/>\r\n      </g>\r\n     </g>\r\n    </g>\r\n    <g id=\"ytick_8\">\r\n     <g id=\"line2d_14\">\r\n      <g>\r\n       <use style=\"stroke:#000000;stroke-width:0.8;\" x=\"36.465625\" xlink:href=\"#md5823f8057\" y=\"39.269248\"/>\r\n      </g>\r\n     </g>\r\n     <g id=\"text_14\">\r\n      <!-- 1.64 -->\r\n      <g transform=\"translate(7.2 43.068467)scale(0.1 -0.1)\">\r\n       <use xlink:href=\"#DejaVuSans-31\"/>\r\n       <use x=\"63.623047\" xlink:href=\"#DejaVuSans-2e\"/>\r\n       <use x=\"95.410156\" xlink:href=\"#DejaVuSans-36\"/>\r\n       <use x=\"159.033203\" xlink:href=\"#DejaVuSans-34\"/>\r\n      </g>\r\n     </g>\r\n    </g>\r\n    <g id=\"text_15\">\r\n     <!-- 1e8 -->\r\n     <g transform=\"translate(36.465625 14.798437)scale(0.1 -0.1)\">\r\n      <defs>\r\n       <path d=\"M 3597 1894 \r\nL 3597 1613 \r\nL 953 1613 \r\nQ 991 1019 1311 708 \r\nQ 1631 397 2203 397 \r\nQ 2534 397 2845 478 \r\nQ 3156 559 3463 722 \r\nL 3463 178 \r\nQ 3153 47 2828 -22 \r\nQ 2503 -91 2169 -91 \r\nQ 1331 -91 842 396 \r\nQ 353 884 353 1716 \r\nQ 353 2575 817 3079 \r\nQ 1281 3584 2069 3584 \r\nQ 2775 3584 3186 3129 \r\nQ 3597 2675 3597 1894 \r\nz\r\nM 3022 2063 \r\nQ 3016 2534 2758 2815 \r\nQ 2500 3097 2075 3097 \r\nQ 1594 3097 1305 2825 \r\nQ 1016 2553 972 2059 \r\nL 3022 2063 \r\nz\r\n\" id=\"DejaVuSans-65\" transform=\"scale(0.015625)\"/>\r\n      </defs>\r\n      <use xlink:href=\"#DejaVuSans-31\"/>\r\n      <use x=\"63.623047\" xlink:href=\"#DejaVuSans-65\"/>\r\n      <use x=\"125.146484\" xlink:href=\"#DejaVuSans-38\"/>\r\n     </g>\r\n    </g>\r\n   </g>\r\n   <g id=\"line2d_15\">\r\n    <path clip-path=\"url(#p7f3482a77c)\" d=\"M 51.683807 27.682074 \r\nL 112.556534 58.493398 \r\nL 173.429261 89.304723 \r\nL 234.301989 120.116048 \r\nL 295.174716 150.927372 \r\nL 356.047443 181.738697 \r\n\" style=\"fill:none;stroke:#1f77b4;stroke-linecap:square;stroke-width:1.5;\"/>\r\n   </g>\r\n   <g id=\"patch_3\">\r\n    <path d=\"M 36.465625 235.238438 \r\nL 36.465625 17.798438 \r\n\" style=\"fill:none;stroke:#000000;stroke-linecap:square;stroke-linejoin:miter;stroke-width:0.8;\"/>\r\n   </g>\r\n   <g id=\"patch_4\">\r\n    <path d=\"M 371.265625 235.238438 \r\nL 371.265625 17.798438 \r\n\" style=\"fill:none;stroke:#000000;stroke-linecap:square;stroke-linejoin:miter;stroke-width:0.8;\"/>\r\n   </g>\r\n   <g id=\"patch_5\">\r\n    <path d=\"M 36.465625 235.238437 \r\nL 371.265625 235.238437 \r\n\" style=\"fill:none;stroke:#000000;stroke-linecap:square;stroke-linejoin:miter;stroke-width:0.8;\"/>\r\n   </g>\r\n   <g id=\"patch_6\">\r\n    <path d=\"M 36.465625 17.798437 \r\nL 371.265625 17.798437 \r\n\" style=\"fill:none;stroke:#000000;stroke-linecap:square;stroke-linejoin:miter;stroke-width:0.8;\"/>\r\n   </g>\r\n  </g>\r\n </g>\r\n <defs>\r\n  <clipPath id=\"p7f3482a77c\">\r\n   <rect height=\"217.44\" width=\"334.8\" x=\"36.465625\" y=\"17.798437\"/>\r\n  </clipPath>\r\n </defs>\r\n</svg>\r\n",
      "image/png": "[encoded data removed]"
     },
     "metadata": {
      "needs_background": "light"
     }
    }
   ],
   "source": [
    "regr = LinearRegression()\n",
    "regr.fit(np.array(range(2015,2021)).reshape(-1,1), long_tab['pocet'])\n",
    "y_pred = regr.predict(np.array(range(2015,2021)).reshape(-1,1))\n",
    "\n",
    "plt.scatter([str(i) for i in long_tab.index], long_tab['pocet'])\n",
    "\n",
    "plt.plot([str(i) for i in long_tab.index], y_pred)\n",
    "\n",
    "plt.show()"
   ]
  },
  {
   "cell_type": "code",
   "execution_count": 16,
   "metadata": {},
   "outputs": [
    {
     "output_type": "display_data",
     "data": {
      "application/vnd.plotly.v1+json": {
       "config": {
        "plotlyServerURL": "https://plot.ly"
       },
       "data": [
        {
         "marker": {
          "color": "#4B6AAB"
         },
         "mode": "markers",
         "type": "scatter",
         "x": [
          "2015",
          "2016",
          "2017",
          "2018",
          "2019",
          "2020"
         ],
         "y": [
          163005433.522,
          162586882.141,
          159960633.52600002,
          161062768.98400003,
          156539739.523,
          148825199.91300002
         ]
        },
        {
         "marker": {
          "color": "#B75B9E"
         },
         "mode": "lines",
         "type": "scatter",
         "x": [
          "2015",
          "2016",
          "2017",
          "2018",
          "2019",
          "2020"
         ],
         "y": [
          164944904.3949051,
          162432319.81087685,
          159919735.2268486,
          157407150.6428194,
          154894566.05879116,
          152381981.47476292
         ]
        }
       ],
       "layout": {
        "showlegend": false,
        "template": {
         "data": {
          "bar": [
           {
            "error_x": {
             "color": "#2a3f5f"
            },
            "error_y": {
             "color": "#2a3f5f"
            },
            "marker": {
             "line": {
              "color": "#E5ECF6",
              "width": 0.5
             }
            },
            "type": "bar"
           }
          ],
          "barpolar": [
           {
            "marker": {
             "line": {
              "color": "#E5ECF6",
              "width": 0.5
             }
            },
            "type": "barpolar"
           }
          ],
          "carpet": [
           {
            "aaxis": {
             "endlinecolor": "#2a3f5f",
             "gridcolor": "white",
             "linecolor": "white",
             "minorgridcolor": "white",
             "startlinecolor": "#2a3f5f"
            },
            "baxis": {
             "endlinecolor": "#2a3f5f",
             "gridcolor": "white",
             "linecolor": "white",
             "minorgridcolor": "white",
             "startlinecolor": "#2a3f5f"
            },
            "type": "carpet"
           }
          ],
          "choropleth": [
           {
            "colorbar": {
             "outlinewidth": 0,
             "ticks": ""
            },
            "type": "choropleth"
           }
          ],
          "contour": [
           {
            "colorbar": {
             "outlinewidth": 0,
             "ticks": ""
            },
            "colorscale": [
             [
              0,
              "#0d0887"
             ],
             [
              0.1111111111111111,
              "#46039f"
             ],
             [
              0.2222222222222222,
              "#7201a8"
             ],
             [
              0.3333333333333333,
              "#9c179e"
             ],
             [
              0.4444444444444444,
              "#bd3786"
             ],
             [
              0.5555555555555556,
              "#d8576b"
             ],
             [
              0.6666666666666666,
              "#ed7953"
             ],
             [
              0.7777777777777778,
              "#fb9f3a"
             ],
             [
              0.8888888888888888,
              "#fdca26"
             ],
             [
              1,
              "#f0f921"
             ]
            ],
            "type": "contour"
           }
          ],
          "contourcarpet": [
           {
            "colorbar": {
             "outlinewidth": 0,
             "ticks": ""
            },
            "type": "contourcarpet"
           }
          ],
          "heatmap": [
           {
            "colorbar": {
             "outlinewidth": 0,
             "ticks": ""
            },
            "colorscale": [
             [
              0,
              "#0d0887"
             ],
             [
              0.1111111111111111,
              "#46039f"
             ],
             [
              0.2222222222222222,
              "#7201a8"
             ],
             [
              0.3333333333333333,
              "#9c179e"
             ],
             [
              0.4444444444444444,
              "#bd3786"
             ],
             [
              0.5555555555555556,
              "#d8576b"
             ],
             [
              0.6666666666666666,
              "#ed7953"
             ],
             [
              0.7777777777777778,
              "#fb9f3a"
             ],
             [
              0.8888888888888888,
              "#fdca26"
             ],
             [
              1,
              "#f0f921"
             ]
            ],
            "type": "heatmap"
           }
          ],
          "heatmapgl": [
           {
            "colorbar": {
             "outlinewidth": 0,
             "ticks": ""
            },
            "colorscale": [
             [
              0,
              "#0d0887"
             ],
             [
              0.1111111111111111,
              "#46039f"
             ],
             [
              0.2222222222222222,
              "#7201a8"
             ],
             [
              0.3333333333333333,
              "#9c179e"
             ],
             [
              0.4444444444444444,
              "#bd3786"
             ],
             [
              0.5555555555555556,
              "#d8576b"
             ],
             [
              0.6666666666666666,
              "#ed7953"
             ],
             [
              0.7777777777777778,
              "#fb9f3a"
             ],
             [
              0.8888888888888888,
              "#fdca26"
             ],
             [
              1,
              "#f0f921"
             ]
            ],
            "type": "heatmapgl"
           }
          ],
          "histogram": [
           {
            "marker": {
             "colorbar": {
              "outlinewidth": 0,
              "ticks": ""
             }
            },
            "type": "histogram"
           }
          ],
          "histogram2d": [
           {
            "colorbar": {
             "outlinewidth": 0,
             "ticks": ""
            },
            "colorscale": [
             [
              0,
              "#0d0887"
             ],
             [
              0.1111111111111111,
              "#46039f"
             ],
             [
              0.2222222222222222,
              "#7201a8"
             ],
             [
              0.3333333333333333,
              "#9c179e"
             ],
             [
              0.4444444444444444,
              "#bd3786"
             ],
             [
              0.5555555555555556,
              "#d8576b"
             ],
             [
              0.6666666666666666,
              "#ed7953"
             ],
             [
              0.7777777777777778,
              "#fb9f3a"
             ],
             [
              0.8888888888888888,
              "#fdca26"
             ],
             [
              1,
              "#f0f921"
             ]
            ],
            "type": "histogram2d"
           }
          ],
          "histogram2dcontour": [
           {
            "colorbar": {
             "outlinewidth": 0,
             "ticks": ""
            },
            "colorscale": [
             [
              0,
              "#0d0887"
             ],
             [
              0.1111111111111111,
              "#46039f"
             ],
             [
              0.2222222222222222,
              "#7201a8"
             ],
             [
              0.3333333333333333,
              "#9c179e"
             ],
             [
              0.4444444444444444,
              "#bd3786"
             ],
             [
              0.5555555555555556,
              "#d8576b"
             ],
             [
              0.6666666666666666,
              "#ed7953"
             ],
             [
              0.7777777777777778,
              "#fb9f3a"
             ],
             [
              0.8888888888888888,
              "#fdca26"
             ],
             [
              1,
              "#f0f921"
             ]
            ],
            "type": "histogram2dcontour"
           }
          ],
          "mesh3d": [
           {
            "colorbar": {
             "outlinewidth": 0,
             "ticks": ""
            },
            "type": "mesh3d"
           }
          ],
          "parcoords": [
           {
            "line": {
             "colorbar": {
              "outlinewidth": 0,
              "ticks": ""
             }
            },
            "type": "parcoords"
           }
          ],
          "pie": [
           {
            "automargin": true,
            "type": "pie"
           }
          ],
          "scatter": [
           {
            "marker": {
             "colorbar": {
              "outlinewidth": 0,
              "ticks": ""
             }
            },
            "type": "scatter"
           }
          ],
          "scatter3d": [
           {
            "line": {
             "colorbar": {
              "outlinewidth": 0,
              "ticks": ""
             }
            },
            "marker": {
             "colorbar": {
              "outlinewidth": 0,
              "ticks": ""
             }
            },
            "type": "scatter3d"
           }
          ],
          "scattercarpet": [
           {
            "marker": {
             "colorbar": {
              "outlinewidth": 0,
              "ticks": ""
             }
            },
            "type": "scattercarpet"
           }
          ],
          "scattergeo": [
           {
            "marker": {
             "colorbar": {
              "outlinewidth": 0,
              "ticks": ""
             }
            },
            "type": "scattergeo"
           }
          ],
          "scattergl": [
           {
            "marker": {
             "colorbar": {
              "outlinewidth": 0,
              "ticks": ""
             }
            },
            "type": "scattergl"
           }
          ],
          "scattermapbox": [
           {
            "marker": {
             "colorbar": {
              "outlinewidth": 0,
              "ticks": ""
             }
            },
            "type": "scattermapbox"
           }
          ],
          "scatterpolar": [
           {
            "marker": {
             "colorbar": {
              "outlinewidth": 0,
              "ticks": ""
             }
            },
            "type": "scatterpolar"
           }
          ],
          "scatterpolargl": [
           {
            "marker": {
             "colorbar": {
              "outlinewidth": 0,
              "ticks": ""
             }
            },
            "type": "scatterpolargl"
           }
          ],
          "scatterternary": [
           {
            "marker": {
             "colorbar": {
              "outlinewidth": 0,
              "ticks": ""
             }
            },
            "type": "scatterternary"
           }
          ],
          "surface": [
           {
            "colorbar": {
             "outlinewidth": 0,
             "ticks": ""
            },
            "colorscale": [
             [
              0,
              "#0d0887"
             ],
             [
              0.1111111111111111,
              "#46039f"
             ],
             [
              0.2222222222222222,
              "#7201a8"
             ],
             [
              0.3333333333333333,
              "#9c179e"
             ],
             [
              0.4444444444444444,
              "#bd3786"
             ],
             [
              0.5555555555555556,
              "#d8576b"
             ],
             [
              0.6666666666666666,
              "#ed7953"
             ],
             [
              0.7777777777777778,
              "#fb9f3a"
             ],
             [
              0.8888888888888888,
              "#fdca26"
             ],
             [
              1,
              "#f0f921"
             ]
            ],
            "type": "surface"
           }
          ],
          "table": [
           {
            "cells": {
             "fill": {
              "color": "#EBF0F8"
             },
             "line": {
              "color": "white"
             }
            },
            "header": {
             "fill": {
              "color": "#C8D4E3"
             },
             "line": {
              "color": "white"
             }
            },
            "type": "table"
           }
          ]
         },
         "layout": {
          "annotationdefaults": {
           "arrowcolor": "#2a3f5f",
           "arrowhead": 0,
           "arrowwidth": 1
          },
          "autotypenumbers": "strict",
          "coloraxis": {
           "colorbar": {
            "outlinewidth": 0,
            "ticks": ""
           }
          },
          "colorscale": {
           "diverging": [
            [
             0,
             "#8e0152"
            ],
            [
             0.1,
             "#c51b7d"
            ],
            [
             0.2,
             "#de77ae"
            ],
            [
             0.3,
             "#f1b6da"
            ],
            [
             0.4,
             "#fde0ef"
            ],
            [
             0.5,
             "#f7f7f7"
            ],
            [
             0.6,
             "#e6f5d0"
            ],
            [
             0.7,
             "#b8e186"
            ],
            [
             0.8,
             "#7fbc41"
            ],
            [
             0.9,
             "#4d9221"
            ],
            [
             1,
             "#276419"
            ]
           ],
           "sequential": [
            [
             0,
             "#0d0887"
            ],
            [
             0.1111111111111111,
             "#46039f"
            ],
            [
             0.2222222222222222,
             "#7201a8"
            ],
            [
             0.3333333333333333,
             "#9c179e"
            ],
            [
             0.4444444444444444,
             "#bd3786"
            ],
            [
             0.5555555555555556,
             "#d8576b"
            ],
            [
             0.6666666666666666,
             "#ed7953"
            ],
            [
             0.7777777777777778,
             "#fb9f3a"
            ],
            [
             0.8888888888888888,
             "#fdca26"
            ],
            [
             1,
             "#f0f921"
            ]
           ],
           "sequentialminus": [
            [
             0,
             "#0d0887"
            ],
            [
             0.1111111111111111,
             "#46039f"
            ],
            [
             0.2222222222222222,
             "#7201a8"
            ],
            [
             0.3333333333333333,
             "#9c179e"
            ],
            [
             0.4444444444444444,
             "#bd3786"
            ],
            [
             0.5555555555555556,
             "#d8576b"
            ],
            [
             0.6666666666666666,
             "#ed7953"
            ],
            [
             0.7777777777777778,
             "#fb9f3a"
            ],
            [
             0.8888888888888888,
             "#fdca26"
            ],
            [
             1,
             "#f0f921"
            ]
           ]
          },
          "colorway": [
           "#636efa",
           "#EF553B",
           "#00cc96",
           "#ab63fa",
           "#FFA15A",
           "#19d3f3",
           "#FF6692",
           "#B6E880",
           "#FF97FF",
           "#FECB52"
          ],
          "font": {
           "color": "#2a3f5f"
          },
          "geo": {
           "bgcolor": "white",
           "lakecolor": "white",
           "landcolor": "#E5ECF6",
           "showlakes": true,
           "showland": true,
           "subunitcolor": "white"
          },
          "hoverlabel": {
           "align": "left"
          },
          "hovermode": "closest",
          "mapbox": {
           "style": "light"
          },
          "paper_bgcolor": "white",
          "plot_bgcolor": "#E5ECF6",
          "polar": {
           "angularaxis": {
            "gridcolor": "white",
            "linecolor": "white",
            "ticks": ""
           },
           "bgcolor": "#E5ECF6",
           "radialaxis": {
            "gridcolor": "white",
            "linecolor": "white",
            "ticks": ""
           }
          },
          "scene": {
           "xaxis": {
            "backgroundcolor": "#E5ECF6",
            "gridcolor": "white",
            "gridwidth": 2,
            "linecolor": "white",
            "showbackground": true,
            "ticks": "",
            "zerolinecolor": "white"
           },
           "yaxis": {
            "backgroundcolor": "#E5ECF6",
            "gridcolor": "white",
            "gridwidth": 2,
            "linecolor": "white",
            "showbackground": true,
            "ticks": "",
            "zerolinecolor": "white"
           },
           "zaxis": {
            "backgroundcolor": "#E5ECF6",
            "gridcolor": "white",
            "gridwidth": 2,
            "linecolor": "white",
            "showbackground": true,
            "ticks": "",
            "zerolinecolor": "white"
           }
          },
          "shapedefaults": {
           "line": {
            "color": "#2a3f5f"
           }
          },
          "ternary": {
           "aaxis": {
            "gridcolor": "white",
            "linecolor": "white",
            "ticks": ""
           },
           "baxis": {
            "gridcolor": "white",
            "linecolor": "white",
            "ticks": ""
           },
           "bgcolor": "#E5ECF6",
           "caxis": {
            "gridcolor": "white",
            "linecolor": "white",
            "ticks": ""
           }
          },
          "title": {
           "x": 0.05
          },
          "xaxis": {
           "automargin": true,
           "gridcolor": "white",
           "linecolor": "white",
           "ticks": "",
           "title": {
            "standoff": 15
           },
           "zerolinecolor": "white",
           "zerolinewidth": 2
          },
          "yaxis": {
           "automargin": true,
           "gridcolor": "white",
           "linecolor": "white",
           "ticks": "",
           "title": {
            "standoff": 15
           },
           "zerolinecolor": "white",
           "zerolinewidth": 2
          }
         }
        },
        "title": {
         "text": "Spotreba liekov na Slovensku (2015 - 2019)"
        },
        "yaxis": {
         "title": {
          "text": "Počet balení"
         }
        }
       }
      }
     },
     "metadata": {}
    }
   ],
   "source": [
    "fig = go.Figure()\n",
    "fig.add_trace(go.Scatter(x=[str(i) for i in long_tab.index], y=long_tab['pocet'],mode='markers', marker_color=modra))\n",
    "fig.add_trace(go.Scatter(x=[str(i) for i in long_tab.index], y=y_pred, mode='lines', marker_color=ruzova))\n",
    "fig.update_layout(showlegend=False)\n",
    "fig.update_layout(\n",
    "    title=\"Spotreba liekov na Slovensku (2015 - 2019)\",\n",
    "    yaxis_title=\"Počet balení\")\n",
    "fig.show()"
   ]
  },
  {
   "source": [
    "## Pozorovanie"
   ],
   "cell_type": "markdown",
   "metadata": {}
  }
 ]
}