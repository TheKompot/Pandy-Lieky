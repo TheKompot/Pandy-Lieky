{
 "metadata": {
  "language_info": {
   "codemirror_mode": {
    "name": "ipython",
    "version": 3
   },
   "file_extension": ".py",
   "mimetype": "text/x-python",
   "name": "python",
   "nbconvert_exporter": "python",
   "pygments_lexer": "ipython3",
   "version": "3.8.9"
  },
  "orig_nbformat": 2,
  "kernelspec": {
   "name": "python389jvsc74a57bd01017e7ef34bc9880a6d739757632ec67a1d07c02b92348625323b240429e2599",
   "display_name": "Python 3.8.9 64-bit (windows store)"
  },
  "metadata": {
   "interpreter": {
    "hash": "1017e7ef34bc9880a6d739757632ec67a1d07c02b92348625323b240429e2599"
   }
  }
 },
 "nbformat": 4,
 "nbformat_minor": 2,
 "cells": [
  {
   "source": [
    "# Analyza udajov podla krajin\n",
    " * Ktore krajiny maju najvacsi podiel liekov na trhu?\n",
    " * Z ktorych krajin su lieky najviac predavane?"
   ],
   "cell_type": "markdown",
   "metadata": {}
  },
  {
   "cell_type": "code",
   "execution_count": 2,
   "metadata": {},
   "outputs": [],
   "source": [
    "import pandas as pd \n",
    "import numpy as np \n",
    "import matplotlib.pyplot as plt \n",
    "import plotly.express as px\n",
    "%run tables.py"
   ]
  },
  {
   "source": [
    "## Z ktorych krajin su lieky najviac predavane? (2019)"
   ],
   "cell_type": "markdown",
   "metadata": {}
  },
  {
   "cell_type": "code",
   "execution_count": 3,
   "metadata": {},
   "outputs": [
    {
     "output_type": "display_data",
     "data": {
      "text/plain": "             STAT_popis                        VYROBCA_popis  Počet balení\n429           Slovensko       sanofi-aventis Slovakia s.r.o.  1.454958e+07\n572               Česko                        Zentiva, k.s.  9.707070e+06\n121           Holandsko                   GE Healthcare B.V.  8.627532e+06\n434           Slovinsko                KRKA d.d., Novo mesto  7.542110e+06\n426           Slovensko                            ZNT-SK-2?  5.676608e+06\n..                  ...                                  ...           ...\n395           Slovensko                                 FMI?  1.000000e+00\n119           Holandsko           Emergent Netherlands B.V.   1.000000e+00\n470  Spojené štáty, USA                               CHIRON  1.000000e+00\n471  Spojené štáty, USA                   NYCOMED IMAGING AS  1.000000e+00\n227             Nemecko  Dr. R.Pfleger Chemische Fabrik GmbH  1.000000e+00\n\n[663 rows x 3 columns]",
      "text/html": "<div>\n<style scoped>\n    .dataframe tbody tr th:only-of-type {\n        vertical-align: middle;\n    }\n\n    .dataframe tbody tr th {\n        vertical-align: top;\n    }\n\n    .dataframe thead th {\n        text-align: right;\n    }\n</style>\n<table border=\"1\" class=\"dataframe\">\n  <thead>\n    <tr style=\"text-align: right;\">\n      <th></th>\n      <th>STAT_popis</th>\n      <th>VYROBCA_popis</th>\n      <th>Počet balení</th>\n    </tr>\n  </thead>\n  <tbody>\n    <tr>\n      <th>429</th>\n      <td>Slovensko</td>\n      <td>sanofi-aventis Slovakia s.r.o.</td>\n      <td>1.454958e+07</td>\n    </tr>\n    <tr>\n      <th>572</th>\n      <td>Česko</td>\n      <td>Zentiva, k.s.</td>\n      <td>9.707070e+06</td>\n    </tr>\n    <tr>\n      <th>121</th>\n      <td>Holandsko</td>\n      <td>GE Healthcare B.V.</td>\n      <td>8.627532e+06</td>\n    </tr>\n    <tr>\n      <th>434</th>\n      <td>Slovinsko</td>\n      <td>KRKA d.d., Novo mesto</td>\n      <td>7.542110e+06</td>\n    </tr>\n    <tr>\n      <th>426</th>\n      <td>Slovensko</td>\n      <td>ZNT-SK-2?</td>\n      <td>5.676608e+06</td>\n    </tr>\n    <tr>\n      <th>...</th>\n      <td>...</td>\n      <td>...</td>\n      <td>...</td>\n    </tr>\n    <tr>\n      <th>395</th>\n      <td>Slovensko</td>\n      <td>FMI?</td>\n      <td>1.000000e+00</td>\n    </tr>\n    <tr>\n      <th>119</th>\n      <td>Holandsko</td>\n      <td>Emergent Netherlands B.V.</td>\n      <td>1.000000e+00</td>\n    </tr>\n    <tr>\n      <th>470</th>\n      <td>Spojené štáty, USA</td>\n      <td>CHIRON</td>\n      <td>1.000000e+00</td>\n    </tr>\n    <tr>\n      <th>471</th>\n      <td>Spojené štáty, USA</td>\n      <td>NYCOMED IMAGING AS</td>\n      <td>1.000000e+00</td>\n    </tr>\n    <tr>\n      <th>227</th>\n      <td>Nemecko</td>\n      <td>Dr. R.Pfleger Chemische Fabrik GmbH</td>\n      <td>1.000000e+00</td>\n    </tr>\n  </tbody>\n</table>\n<p>663 rows × 3 columns</p>\n</div>"
     },
     "metadata": {}
    }
   ],
   "source": [
    "table = import_table('detailed', 2019)\n",
    "table2019 = (table.loc[:,['STAT_popis', 'VYROBCA_popis', 'Počet balení']]\n",
    "                    .query('STAT_popis != \"(prazdne)\"')\n",
    "                    .groupby(['STAT_popis', 'VYROBCA_popis'])\n",
    "                    .sum()\n",
    "                    .reset_index()\n",
    "                    .sort_values(by='Počet balení',ascending=False))\n",
    "table2019short = table2019.head(10)\n",
    "display(table2019)"
   ]
  },
  {
   "cell_type": "code",
   "execution_count": 4,
   "metadata": {},
   "outputs": [
    {
     "output_type": "display_data",
     "data": {
      "text/plain": "            STAT_popis  Počet balení\n26           Slovensko  3.582399e+07\n31               Česko  3.174257e+07\n19             Nemecko  2.112182e+07\n8            Holandsko  1.364841e+07\n27           Slovinsko  1.186531e+07\n5           Francúzsko  7.701114e+06\n32               ĺrsko  5.941371e+06\n17            Maďarsko  5.885619e+06\n30           Taliansko  4.184974e+06\n24             Rakúsko  3.091256e+06\n23              Poľsko  2.370308e+06\n20     Nešpecifikované  2.334872e+06\n0             Belgicko  2.279428e+06\n3               Cyprus  1.722025e+06\n10              Island  1.593301e+06\n4               Dánsko  1.251946e+06\n22         Portugalsko  1.006707e+06\n15         Luxembursko  9.910700e+05\n35             Švédsko  6.907419e+05\n6               Fínsko  5.563392e+05\n33          Španielsko  4.169643e+05\n1            Bulharsko  1.109833e+05\n14            Lotyšsko  8.571263e+04\n21              Nórsko  1.095127e+04\n2           Chorvátsko  1.085350e+04\n28  Spojené kráľovstvo  3.914970e+03\n7               Grécko  1.288400e+03\n34         Švajčiarsko  1.097600e+03\n13               Litva  1.260000e+02\n25            Singapur  9.400000e+01\n16               Malta  6.300000e+01\n18              Monako  1.300000e+01\n9                India  1.200000e+01\n11              Izrael  1.000000e+01\n29  Spojené štáty, USA  2.000000e+00\n12              Kanada  2.000000e+00",
      "text/html": "<div>\n<style scoped>\n    .dataframe tbody tr th:only-of-type {\n        vertical-align: middle;\n    }\n\n    .dataframe tbody tr th {\n        vertical-align: top;\n    }\n\n    .dataframe thead th {\n        text-align: right;\n    }\n</style>\n<table border=\"1\" class=\"dataframe\">\n  <thead>\n    <tr style=\"text-align: right;\">\n      <th></th>\n      <th>STAT_popis</th>\n      <th>Počet balení</th>\n    </tr>\n  </thead>\n  <tbody>\n    <tr>\n      <th>26</th>\n      <td>Slovensko</td>\n      <td>3.582399e+07</td>\n    </tr>\n    <tr>\n      <th>31</th>\n      <td>Česko</td>\n      <td>3.174257e+07</td>\n    </tr>\n    <tr>\n      <th>19</th>\n      <td>Nemecko</td>\n      <td>2.112182e+07</td>\n    </tr>\n    <tr>\n      <th>8</th>\n      <td>Holandsko</td>\n      <td>1.364841e+07</td>\n    </tr>\n    <tr>\n      <th>27</th>\n      <td>Slovinsko</td>\n      <td>1.186531e+07</td>\n    </tr>\n    <tr>\n      <th>5</th>\n      <td>Francúzsko</td>\n      <td>7.701114e+06</td>\n    </tr>\n    <tr>\n      <th>32</th>\n      <td>ĺrsko</td>\n      <td>5.941371e+06</td>\n    </tr>\n    <tr>\n      <th>17</th>\n      <td>Maďarsko</td>\n      <td>5.885619e+06</td>\n    </tr>\n    <tr>\n      <th>30</th>\n      <td>Taliansko</td>\n      <td>4.184974e+06</td>\n    </tr>\n    <tr>\n      <th>24</th>\n      <td>Rakúsko</td>\n      <td>3.091256e+06</td>\n    </tr>\n    <tr>\n      <th>23</th>\n      <td>Poľsko</td>\n      <td>2.370308e+06</td>\n    </tr>\n    <tr>\n      <th>20</th>\n      <td>Nešpecifikované</td>\n      <td>2.334872e+06</td>\n    </tr>\n    <tr>\n      <th>0</th>\n      <td>Belgicko</td>\n      <td>2.279428e+06</td>\n    </tr>\n    <tr>\n      <th>3</th>\n      <td>Cyprus</td>\n      <td>1.722025e+06</td>\n    </tr>\n    <tr>\n      <th>10</th>\n      <td>Island</td>\n      <td>1.593301e+06</td>\n    </tr>\n    <tr>\n      <th>4</th>\n      <td>Dánsko</td>\n      <td>1.251946e+06</td>\n    </tr>\n    <tr>\n      <th>22</th>\n      <td>Portugalsko</td>\n      <td>1.006707e+06</td>\n    </tr>\n    <tr>\n      <th>15</th>\n      <td>Luxembursko</td>\n      <td>9.910700e+05</td>\n    </tr>\n    <tr>\n      <th>35</th>\n      <td>Švédsko</td>\n      <td>6.907419e+05</td>\n    </tr>\n    <tr>\n      <th>6</th>\n      <td>Fínsko</td>\n      <td>5.563392e+05</td>\n    </tr>\n    <tr>\n      <th>33</th>\n      <td>Španielsko</td>\n      <td>4.169643e+05</td>\n    </tr>\n    <tr>\n      <th>1</th>\n      <td>Bulharsko</td>\n      <td>1.109833e+05</td>\n    </tr>\n    <tr>\n      <th>14</th>\n      <td>Lotyšsko</td>\n      <td>8.571263e+04</td>\n    </tr>\n    <tr>\n      <th>21</th>\n      <td>Nórsko</td>\n      <td>1.095127e+04</td>\n    </tr>\n    <tr>\n      <th>2</th>\n      <td>Chorvátsko</td>\n      <td>1.085350e+04</td>\n    </tr>\n    <tr>\n      <th>28</th>\n      <td>Spojené kráľovstvo</td>\n      <td>3.914970e+03</td>\n    </tr>\n    <tr>\n      <th>7</th>\n      <td>Grécko</td>\n      <td>1.288400e+03</td>\n    </tr>\n    <tr>\n      <th>34</th>\n      <td>Švajčiarsko</td>\n      <td>1.097600e+03</td>\n    </tr>\n    <tr>\n      <th>13</th>\n      <td>Litva</td>\n      <td>1.260000e+02</td>\n    </tr>\n    <tr>\n      <th>25</th>\n      <td>Singapur</td>\n      <td>9.400000e+01</td>\n    </tr>\n    <tr>\n      <th>16</th>\n      <td>Malta</td>\n      <td>6.300000e+01</td>\n    </tr>\n    <tr>\n      <th>18</th>\n      <td>Monako</td>\n      <td>1.300000e+01</td>\n    </tr>\n    <tr>\n      <th>9</th>\n      <td>India</td>\n      <td>1.200000e+01</td>\n    </tr>\n    <tr>\n      <th>11</th>\n      <td>Izrael</td>\n      <td>1.000000e+01</td>\n    </tr>\n    <tr>\n      <th>29</th>\n      <td>Spojené štáty, USA</td>\n      <td>2.000000e+00</td>\n    </tr>\n    <tr>\n      <th>12</th>\n      <td>Kanada</td>\n      <td>2.000000e+00</td>\n    </tr>\n  </tbody>\n</table>\n</div>"
     },
     "metadata": {}
    }
   ],
   "source": [
    "table2019stat = (table2019.groupby('STAT_popis')\n",
    "                            .sum()\n",
    "                            .reset_index()\n",
    "                            .sort_values(by='Počet balení', ascending=False))\n",
    "display(table2019stat)"
   ]
  },
  {
   "source": [
    "Lieky z krajiny mimo Europy sa takmer vobec nepredavaju, preto sme ich nezahrnuli do vizualizacie."
   ],
   "cell_type": "markdown",
   "metadata": {}
  },
  {
   "cell_type": "code",
   "execution_count": 5,
   "metadata": {},
   "outputs": [
    {
     "output_type": "display_data",
     "data": {
      "application/vnd.plotly.v1+json": {
       "config": {
        "plotlyServerURL": "https://plot.ly"
       },
       "data": [
        {
         "alignmentgroup": "True",
         "hovertemplate": "STAT_popis=%{x}<br>Počet balení=%{y}<extra></extra>",
         "legendgroup": "",
         "marker": {
          "color": "#636efa"
         },
         "name": "",
         "offsetgroup": "",
         "orientation": "v",
         "showlegend": false,
         "textposition": "auto",
         "type": "bar",
         "x": [
          "Slovensko",
          "Česko",
          "Nemecko",
          "Holandsko",
          "Slovinsko",
          "Francúzsko",
          "ĺrsko",
          "Maďarsko",
          "Taliansko",
          "Rakúsko"
         ],
         "xaxis": "x",
         "y": [
          35823989.78499999,
          31742574.873999998,
          21121816.023999996,
          13648410.597,
          11865314.913,
          7701113.824000002,
          5941370.813000001,
          5885618.8270000005,
          4184974.2259999993,
          3091256.130999999
         ],
         "yaxis": "y"
        }
       ],
       "layout": {
        "barmode": "relative",
        "legend": {
         "tracegroupgap": 0
        },
        "template": {
         "data": {
          "bar": [
           {
            "error_x": {
             "color": "#2a3f5f"
            },
            "error_y": {
             "color": "#2a3f5f"
            },
            "marker": {
             "line": {
              "color": "#E5ECF6",
              "width": 0.5
             }
            },
            "type": "bar"
           }
          ],
          "barpolar": [
           {
            "marker": {
             "line": {
              "color": "#E5ECF6",
              "width": 0.5
             }
            },
            "type": "barpolar"
           }
          ],
          "carpet": [
           {
            "aaxis": {
             "endlinecolor": "#2a3f5f",
             "gridcolor": "white",
             "linecolor": "white",
             "minorgridcolor": "white",
             "startlinecolor": "#2a3f5f"
            },
            "baxis": {
             "endlinecolor": "#2a3f5f",
             "gridcolor": "white",
             "linecolor": "white",
             "minorgridcolor": "white",
             "startlinecolor": "#2a3f5f"
            },
            "type": "carpet"
           }
          ],
          "choropleth": [
           {
            "colorbar": {
             "outlinewidth": 0,
             "ticks": ""
            },
            "type": "choropleth"
           }
          ],
          "contour": [
           {
            "colorbar": {
             "outlinewidth": 0,
             "ticks": ""
            },
            "colorscale": [
             [
              0,
              "#0d0887"
             ],
             [
              0.1111111111111111,
              "#46039f"
             ],
             [
              0.2222222222222222,
              "#7201a8"
             ],
             [
              0.3333333333333333,
              "#9c179e"
             ],
             [
              0.4444444444444444,
              "#bd3786"
             ],
             [
              0.5555555555555556,
              "#d8576b"
             ],
             [
              0.6666666666666666,
              "#ed7953"
             ],
             [
              0.7777777777777778,
              "#fb9f3a"
             ],
             [
              0.8888888888888888,
              "#fdca26"
             ],
             [
              1,
              "#f0f921"
             ]
            ],
            "type": "contour"
           }
          ],
          "contourcarpet": [
           {
            "colorbar": {
             "outlinewidth": 0,
             "ticks": ""
            },
            "type": "contourcarpet"
           }
          ],
          "heatmap": [
           {
            "colorbar": {
             "outlinewidth": 0,
             "ticks": ""
            },
            "colorscale": [
             [
              0,
              "#0d0887"
             ],
             [
              0.1111111111111111,
              "#46039f"
             ],
             [
              0.2222222222222222,
              "#7201a8"
             ],
             [
              0.3333333333333333,
              "#9c179e"
             ],
             [
              0.4444444444444444,
              "#bd3786"
             ],
             [
              0.5555555555555556,
              "#d8576b"
             ],
             [
              0.6666666666666666,
              "#ed7953"
             ],
             [
              0.7777777777777778,
              "#fb9f3a"
             ],
             [
              0.8888888888888888,
              "#fdca26"
             ],
             [
              1,
              "#f0f921"
             ]
            ],
            "type": "heatmap"
           }
          ],
          "heatmapgl": [
           {
            "colorbar": {
             "outlinewidth": 0,
             "ticks": ""
            },
            "colorscale": [
             [
              0,
              "#0d0887"
             ],
             [
              0.1111111111111111,
              "#46039f"
             ],
             [
              0.2222222222222222,
              "#7201a8"
             ],
             [
              0.3333333333333333,
              "#9c179e"
             ],
             [
              0.4444444444444444,
              "#bd3786"
             ],
             [
              0.5555555555555556,
              "#d8576b"
             ],
             [
              0.6666666666666666,
              "#ed7953"
             ],
             [
              0.7777777777777778,
              "#fb9f3a"
             ],
             [
              0.8888888888888888,
              "#fdca26"
             ],
             [
              1,
              "#f0f921"
             ]
            ],
            "type": "heatmapgl"
           }
          ],
          "histogram": [
           {
            "marker": {
             "colorbar": {
              "outlinewidth": 0,
              "ticks": ""
             }
            },
            "type": "histogram"
           }
          ],
          "histogram2d": [
           {
            "colorbar": {
             "outlinewidth": 0,
             "ticks": ""
            },
            "colorscale": [
             [
              0,
              "#0d0887"
             ],
             [
              0.1111111111111111,
              "#46039f"
             ],
             [
              0.2222222222222222,
              "#7201a8"
             ],
             [
              0.3333333333333333,
              "#9c179e"
             ],
             [
              0.4444444444444444,
              "#bd3786"
             ],
             [
              0.5555555555555556,
              "#d8576b"
             ],
             [
              0.6666666666666666,
              "#ed7953"
             ],
             [
              0.7777777777777778,
              "#fb9f3a"
             ],
             [
              0.8888888888888888,
              "#fdca26"
             ],
             [
              1,
              "#f0f921"
             ]
            ],
            "type": "histogram2d"
           }
          ],
          "histogram2dcontour": [
           {
            "colorbar": {
             "outlinewidth": 0,
             "ticks": ""
            },
            "colorscale": [
             [
              0,
              "#0d0887"
             ],
             [
              0.1111111111111111,
              "#46039f"
             ],
             [
              0.2222222222222222,
              "#7201a8"
             ],
             [
              0.3333333333333333,
              "#9c179e"
             ],
             [
              0.4444444444444444,
              "#bd3786"
             ],
             [
              0.5555555555555556,
              "#d8576b"
             ],
             [
              0.6666666666666666,
              "#ed7953"
             ],
             [
              0.7777777777777778,
              "#fb9f3a"
             ],
             [
              0.8888888888888888,
              "#fdca26"
             ],
             [
              1,
              "#f0f921"
             ]
            ],
            "type": "histogram2dcontour"
           }
          ],
          "mesh3d": [
           {
            "colorbar": {
             "outlinewidth": 0,
             "ticks": ""
            },
            "type": "mesh3d"
           }
          ],
          "parcoords": [
           {
            "line": {
             "colorbar": {
              "outlinewidth": 0,
              "ticks": ""
             }
            },
            "type": "parcoords"
           }
          ],
          "pie": [
           {
            "automargin": true,
            "type": "pie"
           }
          ],
          "scatter": [
           {
            "marker": {
             "colorbar": {
              "outlinewidth": 0,
              "ticks": ""
             }
            },
            "type": "scatter"
           }
          ],
          "scatter3d": [
           {
            "line": {
             "colorbar": {
              "outlinewidth": 0,
              "ticks": ""
             }
            },
            "marker": {
             "colorbar": {
              "outlinewidth": 0,
              "ticks": ""
             }
            },
            "type": "scatter3d"
           }
          ],
          "scattercarpet": [
           {
            "marker": {
             "colorbar": {
              "outlinewidth": 0,
              "ticks": ""
             }
            },
            "type": "scattercarpet"
           }
          ],
          "scattergeo": [
           {
            "marker": {
             "colorbar": {
              "outlinewidth": 0,
              "ticks": ""
             }
            },
            "type": "scattergeo"
           }
          ],
          "scattergl": [
           {
            "marker": {
             "colorbar": {
              "outlinewidth": 0,
              "ticks": ""
             }
            },
            "type": "scattergl"
           }
          ],
          "scattermapbox": [
           {
            "marker": {
             "colorbar": {
              "outlinewidth": 0,
              "ticks": ""
             }
            },
            "type": "scattermapbox"
           }
          ],
          "scatterpolar": [
           {
            "marker": {
             "colorbar": {
              "outlinewidth": 0,
              "ticks": ""
             }
            },
            "type": "scatterpolar"
           }
          ],
          "scatterpolargl": [
           {
            "marker": {
             "colorbar": {
              "outlinewidth": 0,
              "ticks": ""
             }
            },
            "type": "scatterpolargl"
           }
          ],
          "scatterternary": [
           {
            "marker": {
             "colorbar": {
              "outlinewidth": 0,
              "ticks": ""
             }
            },
            "type": "scatterternary"
           }
          ],
          "surface": [
           {
            "colorbar": {
             "outlinewidth": 0,
             "ticks": ""
            },
            "colorscale": [
             [
              0,
              "#0d0887"
             ],
             [
              0.1111111111111111,
              "#46039f"
             ],
             [
              0.2222222222222222,
              "#7201a8"
             ],
             [
              0.3333333333333333,
              "#9c179e"
             ],
             [
              0.4444444444444444,
              "#bd3786"
             ],
             [
              0.5555555555555556,
              "#d8576b"
             ],
             [
              0.6666666666666666,
              "#ed7953"
             ],
             [
              0.7777777777777778,
              "#fb9f3a"
             ],
             [
              0.8888888888888888,
              "#fdca26"
             ],
             [
              1,
              "#f0f921"
             ]
            ],
            "type": "surface"
           }
          ],
          "table": [
           {
            "cells": {
             "fill": {
              "color": "#EBF0F8"
             },
             "line": {
              "color": "white"
             }
            },
            "header": {
             "fill": {
              "color": "#C8D4E3"
             },
             "line": {
              "color": "white"
             }
            },
            "type": "table"
           }
          ]
         },
         "layout": {
          "annotationdefaults": {
           "arrowcolor": "#2a3f5f",
           "arrowhead": 0,
           "arrowwidth": 1
          },
          "autotypenumbers": "strict",
          "coloraxis": {
           "colorbar": {
            "outlinewidth": 0,
            "ticks": ""
           }
          },
          "colorscale": {
           "diverging": [
            [
             0,
             "#8e0152"
            ],
            [
             0.1,
             "#c51b7d"
            ],
            [
             0.2,
             "#de77ae"
            ],
            [
             0.3,
             "#f1b6da"
            ],
            [
             0.4,
             "#fde0ef"
            ],
            [
             0.5,
             "#f7f7f7"
            ],
            [
             0.6,
             "#e6f5d0"
            ],
            [
             0.7,
             "#b8e186"
            ],
            [
             0.8,
             "#7fbc41"
            ],
            [
             0.9,
             "#4d9221"
            ],
            [
             1,
             "#276419"
            ]
           ],
           "sequential": [
            [
             0,
             "#0d0887"
            ],
            [
             0.1111111111111111,
             "#46039f"
            ],
            [
             0.2222222222222222,
             "#7201a8"
            ],
            [
             0.3333333333333333,
             "#9c179e"
            ],
            [
             0.4444444444444444,
             "#bd3786"
            ],
            [
             0.5555555555555556,
             "#d8576b"
            ],
            [
             0.6666666666666666,
             "#ed7953"
            ],
            [
             0.7777777777777778,
             "#fb9f3a"
            ],
            [
             0.8888888888888888,
             "#fdca26"
            ],
            [
             1,
             "#f0f921"
            ]
           ],
           "sequentialminus": [
            [
             0,
             "#0d0887"
            ],
            [
             0.1111111111111111,
             "#46039f"
            ],
            [
             0.2222222222222222,
             "#7201a8"
            ],
            [
             0.3333333333333333,
             "#9c179e"
            ],
            [
             0.4444444444444444,
             "#bd3786"
            ],
            [
             0.5555555555555556,
             "#d8576b"
            ],
            [
             0.6666666666666666,
             "#ed7953"
            ],
            [
             0.7777777777777778,
             "#fb9f3a"
            ],
            [
             0.8888888888888888,
             "#fdca26"
            ],
            [
             1,
             "#f0f921"
            ]
           ]
          },
          "colorway": [
           "#636efa",
           "#EF553B",
           "#00cc96",
           "#ab63fa",
           "#FFA15A",
           "#19d3f3",
           "#FF6692",
           "#B6E880",
           "#FF97FF",
           "#FECB52"
          ],
          "font": {
           "color": "#2a3f5f"
          },
          "geo": {
           "bgcolor": "white",
           "lakecolor": "white",
           "landcolor": "#E5ECF6",
           "showlakes": true,
           "showland": true,
           "subunitcolor": "white"
          },
          "hoverlabel": {
           "align": "left"
          },
          "hovermode": "closest",
          "mapbox": {
           "style": "light"
          },
          "paper_bgcolor": "white",
          "plot_bgcolor": "#E5ECF6",
          "polar": {
           "angularaxis": {
            "gridcolor": "white",
            "linecolor": "white",
            "ticks": ""
           },
           "bgcolor": "#E5ECF6",
           "radialaxis": {
            "gridcolor": "white",
            "linecolor": "white",
            "ticks": ""
           }
          },
          "scene": {
           "xaxis": {
            "backgroundcolor": "#E5ECF6",
            "gridcolor": "white",
            "gridwidth": 2,
            "linecolor": "white",
            "showbackground": true,
            "ticks": "",
            "zerolinecolor": "white"
           },
           "yaxis": {
            "backgroundcolor": "#E5ECF6",
            "gridcolor": "white",
            "gridwidth": 2,
            "linecolor": "white",
            "showbackground": true,
            "ticks": "",
            "zerolinecolor": "white"
           },
           "zaxis": {
            "backgroundcolor": "#E5ECF6",
            "gridcolor": "white",
            "gridwidth": 2,
            "linecolor": "white",
            "showbackground": true,
            "ticks": "",
            "zerolinecolor": "white"
           }
          },
          "shapedefaults": {
           "line": {
            "color": "#2a3f5f"
           }
          },
          "ternary": {
           "aaxis": {
            "gridcolor": "white",
            "linecolor": "white",
            "ticks": ""
           },
           "baxis": {
            "gridcolor": "white",
            "linecolor": "white",
            "ticks": ""
           },
           "bgcolor": "#E5ECF6",
           "caxis": {
            "gridcolor": "white",
            "linecolor": "white",
            "ticks": ""
           }
          },
          "title": {
           "x": 0.05
          },
          "xaxis": {
           "automargin": true,
           "gridcolor": "white",
           "linecolor": "white",
           "ticks": "",
           "title": {
            "standoff": 15
           },
           "zerolinecolor": "white",
           "zerolinewidth": 2
          },
          "yaxis": {
           "automargin": true,
           "gridcolor": "white",
           "linecolor": "white",
           "ticks": "",
           "title": {
            "standoff": 15
           },
           "zerolinecolor": "white",
           "zerolinewidth": 2
          }
         }
        },
        "title": {
         "text": "Krajiny z ktorych sa predalo najviac baleni"
        },
        "xaxis": {
         "anchor": "y",
         "domain": [
          0,
          1
         ],
         "title": {
          "text": "STAT_popis"
         }
        },
        "yaxis": {
         "anchor": "x",
         "domain": [
          0,
          1
         ],
         "title": {
          "text": "Počet balení"
         }
        }
       }
      }
     },
     "metadata": {}
    }
   ],
   "source": [
    "px.bar(table2019stat.head(10), x='STAT_popis', y='Počet balení', title='Krajiny z ktorych sa predalo najviac baleni')"
   ]
  },
  {
   "cell_type": "code",
   "execution_count": 6,
   "metadata": {},
   "outputs": [
    {
     "output_type": "display_data",
     "data": {
      "text/plain": "            STAT_popis  number\n19             Nemecko    4947\n31               Česko    4904\n26           Slovensko    4444\n5           Francúzsko    3268\n27           Slovinsko    3010\n32               ĺrsko    1492\n8            Holandsko    1390\n17            Maďarsko    1248\n24             Rakúsko    1156\n0             Belgicko     989\n23              Poľsko     972\n10              Island     740\n3               Cyprus     718\n4               Dánsko     433\n6               Fínsko     430\n20     Nešpecifikované     401\n35             Švédsko     394\n30           Taliansko     366\n33          Španielsko     309\n15         Luxembursko     165\n22         Portugalsko     144\n28  Spojené kráľovstvo     122\n14            Lotyšsko      54\n21              Nórsko      54\n7               Grécko      46\n34         Švajčiarsko      23\n2           Chorvátsko      20\n1            Bulharsko      18\n13               Litva      15\n16               Malta      14\n9                India       5\n18              Monako       4\n25            Singapur       4\n29  Spojené štáty, USA       2\n12              Kanada       1\n11              Izrael       1",
      "text/html": "<div>\n<style scoped>\n    .dataframe tbody tr th:only-of-type {\n        vertical-align: middle;\n    }\n\n    .dataframe tbody tr th {\n        vertical-align: top;\n    }\n\n    .dataframe thead th {\n        text-align: right;\n    }\n</style>\n<table border=\"1\" class=\"dataframe\">\n  <thead>\n    <tr style=\"text-align: right;\">\n      <th></th>\n      <th>STAT_popis</th>\n      <th>number</th>\n    </tr>\n  </thead>\n  <tbody>\n    <tr>\n      <th>19</th>\n      <td>Nemecko</td>\n      <td>4947</td>\n    </tr>\n    <tr>\n      <th>31</th>\n      <td>Česko</td>\n      <td>4904</td>\n    </tr>\n    <tr>\n      <th>26</th>\n      <td>Slovensko</td>\n      <td>4444</td>\n    </tr>\n    <tr>\n      <th>5</th>\n      <td>Francúzsko</td>\n      <td>3268</td>\n    </tr>\n    <tr>\n      <th>27</th>\n      <td>Slovinsko</td>\n      <td>3010</td>\n    </tr>\n    <tr>\n      <th>32</th>\n      <td>ĺrsko</td>\n      <td>1492</td>\n    </tr>\n    <tr>\n      <th>8</th>\n      <td>Holandsko</td>\n      <td>1390</td>\n    </tr>\n    <tr>\n      <th>17</th>\n      <td>Maďarsko</td>\n      <td>1248</td>\n    </tr>\n    <tr>\n      <th>24</th>\n      <td>Rakúsko</td>\n      <td>1156</td>\n    </tr>\n    <tr>\n      <th>0</th>\n      <td>Belgicko</td>\n      <td>989</td>\n    </tr>\n    <tr>\n      <th>23</th>\n      <td>Poľsko</td>\n      <td>972</td>\n    </tr>\n    <tr>\n      <th>10</th>\n      <td>Island</td>\n      <td>740</td>\n    </tr>\n    <tr>\n      <th>3</th>\n      <td>Cyprus</td>\n      <td>718</td>\n    </tr>\n    <tr>\n      <th>4</th>\n      <td>Dánsko</td>\n      <td>433</td>\n    </tr>\n    <tr>\n      <th>6</th>\n      <td>Fínsko</td>\n      <td>430</td>\n    </tr>\n    <tr>\n      <th>20</th>\n      <td>Nešpecifikované</td>\n      <td>401</td>\n    </tr>\n    <tr>\n      <th>35</th>\n      <td>Švédsko</td>\n      <td>394</td>\n    </tr>\n    <tr>\n      <th>30</th>\n      <td>Taliansko</td>\n      <td>366</td>\n    </tr>\n    <tr>\n      <th>33</th>\n      <td>Španielsko</td>\n      <td>309</td>\n    </tr>\n    <tr>\n      <th>15</th>\n      <td>Luxembursko</td>\n      <td>165</td>\n    </tr>\n    <tr>\n      <th>22</th>\n      <td>Portugalsko</td>\n      <td>144</td>\n    </tr>\n    <tr>\n      <th>28</th>\n      <td>Spojené kráľovstvo</td>\n      <td>122</td>\n    </tr>\n    <tr>\n      <th>14</th>\n      <td>Lotyšsko</td>\n      <td>54</td>\n    </tr>\n    <tr>\n      <th>21</th>\n      <td>Nórsko</td>\n      <td>54</td>\n    </tr>\n    <tr>\n      <th>7</th>\n      <td>Grécko</td>\n      <td>46</td>\n    </tr>\n    <tr>\n      <th>34</th>\n      <td>Švajčiarsko</td>\n      <td>23</td>\n    </tr>\n    <tr>\n      <th>2</th>\n      <td>Chorvátsko</td>\n      <td>20</td>\n    </tr>\n    <tr>\n      <th>1</th>\n      <td>Bulharsko</td>\n      <td>18</td>\n    </tr>\n    <tr>\n      <th>13</th>\n      <td>Litva</td>\n      <td>15</td>\n    </tr>\n    <tr>\n      <th>16</th>\n      <td>Malta</td>\n      <td>14</td>\n    </tr>\n    <tr>\n      <th>9</th>\n      <td>India</td>\n      <td>5</td>\n    </tr>\n    <tr>\n      <th>18</th>\n      <td>Monako</td>\n      <td>4</td>\n    </tr>\n    <tr>\n      <th>25</th>\n      <td>Singapur</td>\n      <td>4</td>\n    </tr>\n    <tr>\n      <th>29</th>\n      <td>Spojené štáty, USA</td>\n      <td>2</td>\n    </tr>\n    <tr>\n      <th>12</th>\n      <td>Kanada</td>\n      <td>1</td>\n    </tr>\n    <tr>\n      <th>11</th>\n      <td>Izrael</td>\n      <td>1</td>\n    </tr>\n  </tbody>\n</table>\n</div>"
     },
     "metadata": {}
    }
   ],
   "source": [
    "table2019tab2 = (table.loc[:,['STAT_popis', 'LIEK_KOD']]\n",
    "                    .query('STAT_popis != \"(prazdne)\"')\n",
    "                    .sort_values(by='STAT_popis'))\n",
    "table2019tab2['number'] = [1 for i in range(len(table2019tab2))]\n",
    "table2019tab2 = table2019tab2.groupby('STAT_popis').sum().reset_index().sort_values(by='number',ascending=False)\n",
    "\n",
    "display(table2019tab2)"
   ]
  },
  {
   "cell_type": "code",
   "execution_count": 7,
   "metadata": {},
   "outputs": [
    {
     "output_type": "display_data",
     "data": {
      "application/vnd.plotly.v1+json": {
       "config": {
        "plotlyServerURL": "https://plot.ly"
       },
       "data": [
        {
         "alignmentgroup": "True",
         "hovertemplate": "STAT_popis=%{x}<br>number=%{y}<extra></extra>",
         "legendgroup": "",
         "marker": {
          "color": "#636efa"
         },
         "name": "",
         "offsetgroup": "",
         "orientation": "v",
         "showlegend": false,
         "textposition": "auto",
         "type": "bar",
         "x": [
          "Nemecko",
          "Česko",
          "Slovensko",
          "Francúzsko",
          "Slovinsko",
          "ĺrsko",
          "Holandsko",
          "Maďarsko",
          "Rakúsko",
          "Belgicko"
         ],
         "xaxis": "x",
         "y": [
          4947,
          4904,
          4444,
          3268,
          3010,
          1492,
          1390,
          1248,
          1156,
          989
         ],
         "yaxis": "y"
        }
       ],
       "layout": {
        "barmode": "relative",
        "legend": {
         "tracegroupgap": 0
        },
        "template": {
         "data": {
          "bar": [
           {
            "error_x": {
             "color": "#2a3f5f"
            },
            "error_y": {
             "color": "#2a3f5f"
            },
            "marker": {
             "line": {
              "color": "#E5ECF6",
              "width": 0.5
             }
            },
            "type": "bar"
           }
          ],
          "barpolar": [
           {
            "marker": {
             "line": {
              "color": "#E5ECF6",
              "width": 0.5
             }
            },
            "type": "barpolar"
           }
          ],
          "carpet": [
           {
            "aaxis": {
             "endlinecolor": "#2a3f5f",
             "gridcolor": "white",
             "linecolor": "white",
             "minorgridcolor": "white",
             "startlinecolor": "#2a3f5f"
            },
            "baxis": {
             "endlinecolor": "#2a3f5f",
             "gridcolor": "white",
             "linecolor": "white",
             "minorgridcolor": "white",
             "startlinecolor": "#2a3f5f"
            },
            "type": "carpet"
           }
          ],
          "choropleth": [
           {
            "colorbar": {
             "outlinewidth": 0,
             "ticks": ""
            },
            "type": "choropleth"
           }
          ],
          "contour": [
           {
            "colorbar": {
             "outlinewidth": 0,
             "ticks": ""
            },
            "colorscale": [
             [
              0,
              "#0d0887"
             ],
             [
              0.1111111111111111,
              "#46039f"
             ],
             [
              0.2222222222222222,
              "#7201a8"
             ],
             [
              0.3333333333333333,
              "#9c179e"
             ],
             [
              0.4444444444444444,
              "#bd3786"
             ],
             [
              0.5555555555555556,
              "#d8576b"
             ],
             [
              0.6666666666666666,
              "#ed7953"
             ],
             [
              0.7777777777777778,
              "#fb9f3a"
             ],
             [
              0.8888888888888888,
              "#fdca26"
             ],
             [
              1,
              "#f0f921"
             ]
            ],
            "type": "contour"
           }
          ],
          "contourcarpet": [
           {
            "colorbar": {
             "outlinewidth": 0,
             "ticks": ""
            },
            "type": "contourcarpet"
           }
          ],
          "heatmap": [
           {
            "colorbar": {
             "outlinewidth": 0,
             "ticks": ""
            },
            "colorscale": [
             [
              0,
              "#0d0887"
             ],
             [
              0.1111111111111111,
              "#46039f"
             ],
             [
              0.2222222222222222,
              "#7201a8"
             ],
             [
              0.3333333333333333,
              "#9c179e"
             ],
             [
              0.4444444444444444,
              "#bd3786"
             ],
             [
              0.5555555555555556,
              "#d8576b"
             ],
             [
              0.6666666666666666,
              "#ed7953"
             ],
             [
              0.7777777777777778,
              "#fb9f3a"
             ],
             [
              0.8888888888888888,
              "#fdca26"
             ],
             [
              1,
              "#f0f921"
             ]
            ],
            "type": "heatmap"
           }
          ],
          "heatmapgl": [
           {
            "colorbar": {
             "outlinewidth": 0,
             "ticks": ""
            },
            "colorscale": [
             [
              0,
              "#0d0887"
             ],
             [
              0.1111111111111111,
              "#46039f"
             ],
             [
              0.2222222222222222,
              "#7201a8"
             ],
             [
              0.3333333333333333,
              "#9c179e"
             ],
             [
              0.4444444444444444,
              "#bd3786"
             ],
             [
              0.5555555555555556,
              "#d8576b"
             ],
             [
              0.6666666666666666,
              "#ed7953"
             ],
             [
              0.7777777777777778,
              "#fb9f3a"
             ],
             [
              0.8888888888888888,
              "#fdca26"
             ],
             [
              1,
              "#f0f921"
             ]
            ],
            "type": "heatmapgl"
           }
          ],
          "histogram": [
           {
            "marker": {
             "colorbar": {
              "outlinewidth": 0,
              "ticks": ""
             }
            },
            "type": "histogram"
           }
          ],
          "histogram2d": [
           {
            "colorbar": {
             "outlinewidth": 0,
             "ticks": ""
            },
            "colorscale": [
             [
              0,
              "#0d0887"
             ],
             [
              0.1111111111111111,
              "#46039f"
             ],
             [
              0.2222222222222222,
              "#7201a8"
             ],
             [
              0.3333333333333333,
              "#9c179e"
             ],
             [
              0.4444444444444444,
              "#bd3786"
             ],
             [
              0.5555555555555556,
              "#d8576b"
             ],
             [
              0.6666666666666666,
              "#ed7953"
             ],
             [
              0.7777777777777778,
              "#fb9f3a"
             ],
             [
              0.8888888888888888,
              "#fdca26"
             ],
             [
              1,
              "#f0f921"
             ]
            ],
            "type": "histogram2d"
           }
          ],
          "histogram2dcontour": [
           {
            "colorbar": {
             "outlinewidth": 0,
             "ticks": ""
            },
            "colorscale": [
             [
              0,
              "#0d0887"
             ],
             [
              0.1111111111111111,
              "#46039f"
             ],
             [
              0.2222222222222222,
              "#7201a8"
             ],
             [
              0.3333333333333333,
              "#9c179e"
             ],
             [
              0.4444444444444444,
              "#bd3786"
             ],
             [
              0.5555555555555556,
              "#d8576b"
             ],
             [
              0.6666666666666666,
              "#ed7953"
             ],
             [
              0.7777777777777778,
              "#fb9f3a"
             ],
             [
              0.8888888888888888,
              "#fdca26"
             ],
             [
              1,
              "#f0f921"
             ]
            ],
            "type": "histogram2dcontour"
           }
          ],
          "mesh3d": [
           {
            "colorbar": {
             "outlinewidth": 0,
             "ticks": ""
            },
            "type": "mesh3d"
           }
          ],
          "parcoords": [
           {
            "line": {
             "colorbar": {
              "outlinewidth": 0,
              "ticks": ""
             }
            },
            "type": "parcoords"
           }
          ],
          "pie": [
           {
            "automargin": true,
            "type": "pie"
           }
          ],
          "scatter": [
           {
            "marker": {
             "colorbar": {
              "outlinewidth": 0,
              "ticks": ""
             }
            },
            "type": "scatter"
           }
          ],
          "scatter3d": [
           {
            "line": {
             "colorbar": {
              "outlinewidth": 0,
              "ticks": ""
             }
            },
            "marker": {
             "colorbar": {
              "outlinewidth": 0,
              "ticks": ""
             }
            },
            "type": "scatter3d"
           }
          ],
          "scattercarpet": [
           {
            "marker": {
             "colorbar": {
              "outlinewidth": 0,
              "ticks": ""
             }
            },
            "type": "scattercarpet"
           }
          ],
          "scattergeo": [
           {
            "marker": {
             "colorbar": {
              "outlinewidth": 0,
              "ticks": ""
             }
            },
            "type": "scattergeo"
           }
          ],
          "scattergl": [
           {
            "marker": {
             "colorbar": {
              "outlinewidth": 0,
              "ticks": ""
             }
            },
            "type": "scattergl"
           }
          ],
          "scattermapbox": [
           {
            "marker": {
             "colorbar": {
              "outlinewidth": 0,
              "ticks": ""
             }
            },
            "type": "scattermapbox"
           }
          ],
          "scatterpolar": [
           {
            "marker": {
             "colorbar": {
              "outlinewidth": 0,
              "ticks": ""
             }
            },
            "type": "scatterpolar"
           }
          ],
          "scatterpolargl": [
           {
            "marker": {
             "colorbar": {
              "outlinewidth": 0,
              "ticks": ""
             }
            },
            "type": "scatterpolargl"
           }
          ],
          "scatterternary": [
           {
            "marker": {
             "colorbar": {
              "outlinewidth": 0,
              "ticks": ""
             }
            },
            "type": "scatterternary"
           }
          ],
          "surface": [
           {
            "colorbar": {
             "outlinewidth": 0,
             "ticks": ""
            },
            "colorscale": [
             [
              0,
              "#0d0887"
             ],
             [
              0.1111111111111111,
              "#46039f"
             ],
             [
              0.2222222222222222,
              "#7201a8"
             ],
             [
              0.3333333333333333,
              "#9c179e"
             ],
             [
              0.4444444444444444,
              "#bd3786"
             ],
             [
              0.5555555555555556,
              "#d8576b"
             ],
             [
              0.6666666666666666,
              "#ed7953"
             ],
             [
              0.7777777777777778,
              "#fb9f3a"
             ],
             [
              0.8888888888888888,
              "#fdca26"
             ],
             [
              1,
              "#f0f921"
             ]
            ],
            "type": "surface"
           }
          ],
          "table": [
           {
            "cells": {
             "fill": {
              "color": "#EBF0F8"
             },
             "line": {
              "color": "white"
             }
            },
            "header": {
             "fill": {
              "color": "#C8D4E3"
             },
             "line": {
              "color": "white"
             }
            },
            "type": "table"
           }
          ]
         },
         "layout": {
          "annotationdefaults": {
           "arrowcolor": "#2a3f5f",
           "arrowhead": 0,
           "arrowwidth": 1
          },
          "autotypenumbers": "strict",
          "coloraxis": {
           "colorbar": {
            "outlinewidth": 0,
            "ticks": ""
           }
          },
          "colorscale": {
           "diverging": [
            [
             0,
             "#8e0152"
            ],
            [
             0.1,
             "#c51b7d"
            ],
            [
             0.2,
             "#de77ae"
            ],
            [
             0.3,
             "#f1b6da"
            ],
            [
             0.4,
             "#fde0ef"
            ],
            [
             0.5,
             "#f7f7f7"
            ],
            [
             0.6,
             "#e6f5d0"
            ],
            [
             0.7,
             "#b8e186"
            ],
            [
             0.8,
             "#7fbc41"
            ],
            [
             0.9,
             "#4d9221"
            ],
            [
             1,
             "#276419"
            ]
           ],
           "sequential": [
            [
             0,
             "#0d0887"
            ],
            [
             0.1111111111111111,
             "#46039f"
            ],
            [
             0.2222222222222222,
             "#7201a8"
            ],
            [
             0.3333333333333333,
             "#9c179e"
            ],
            [
             0.4444444444444444,
             "#bd3786"
            ],
            [
             0.5555555555555556,
             "#d8576b"
            ],
            [
             0.6666666666666666,
             "#ed7953"
            ],
            [
             0.7777777777777778,
             "#fb9f3a"
            ],
            [
             0.8888888888888888,
             "#fdca26"
            ],
            [
             1,
             "#f0f921"
            ]
           ],
           "sequentialminus": [
            [
             0,
             "#0d0887"
            ],
            [
             0.1111111111111111,
             "#46039f"
            ],
            [
             0.2222222222222222,
             "#7201a8"
            ],
            [
             0.3333333333333333,
             "#9c179e"
            ],
            [
             0.4444444444444444,
             "#bd3786"
            ],
            [
             0.5555555555555556,
             "#d8576b"
            ],
            [
             0.6666666666666666,
             "#ed7953"
            ],
            [
             0.7777777777777778,
             "#fb9f3a"
            ],
            [
             0.8888888888888888,
             "#fdca26"
            ],
            [
             1,
             "#f0f921"
            ]
           ]
          },
          "colorway": [
           "#636efa",
           "#EF553B",
           "#00cc96",
           "#ab63fa",
           "#FFA15A",
           "#19d3f3",
           "#FF6692",
           "#B6E880",
           "#FF97FF",
           "#FECB52"
          ],
          "font": {
           "color": "#2a3f5f"
          },
          "geo": {
           "bgcolor": "white",
           "lakecolor": "white",
           "landcolor": "#E5ECF6",
           "showlakes": true,
           "showland": true,
           "subunitcolor": "white"
          },
          "hoverlabel": {
           "align": "left"
          },
          "hovermode": "closest",
          "mapbox": {
           "style": "light"
          },
          "paper_bgcolor": "white",
          "plot_bgcolor": "#E5ECF6",
          "polar": {
           "angularaxis": {
            "gridcolor": "white",
            "linecolor": "white",
            "ticks": ""
           },
           "bgcolor": "#E5ECF6",
           "radialaxis": {
            "gridcolor": "white",
            "linecolor": "white",
            "ticks": ""
           }
          },
          "scene": {
           "xaxis": {
            "backgroundcolor": "#E5ECF6",
            "gridcolor": "white",
            "gridwidth": 2,
            "linecolor": "white",
            "showbackground": true,
            "ticks": "",
            "zerolinecolor": "white"
           },
           "yaxis": {
            "backgroundcolor": "#E5ECF6",
            "gridcolor": "white",
            "gridwidth": 2,
            "linecolor": "white",
            "showbackground": true,
            "ticks": "",
            "zerolinecolor": "white"
           },
           "zaxis": {
            "backgroundcolor": "#E5ECF6",
            "gridcolor": "white",
            "gridwidth": 2,
            "linecolor": "white",
            "showbackground": true,
            "ticks": "",
            "zerolinecolor": "white"
           }
          },
          "shapedefaults": {
           "line": {
            "color": "#2a3f5f"
           }
          },
          "ternary": {
           "aaxis": {
            "gridcolor": "white",
            "linecolor": "white",
            "ticks": ""
           },
           "baxis": {
            "gridcolor": "white",
            "linecolor": "white",
            "ticks": ""
           },
           "bgcolor": "#E5ECF6",
           "caxis": {
            "gridcolor": "white",
            "linecolor": "white",
            "ticks": ""
           }
          },
          "title": {
           "x": 0.05
          },
          "xaxis": {
           "automargin": true,
           "gridcolor": "white",
           "linecolor": "white",
           "ticks": "",
           "title": {
            "standoff": 15
           },
           "zerolinecolor": "white",
           "zerolinewidth": 2
          },
          "yaxis": {
           "automargin": true,
           "gridcolor": "white",
           "linecolor": "white",
           "ticks": "",
           "title": {
            "standoff": 15
           },
           "zerolinecolor": "white",
           "zerolinewidth": 2
          }
         }
        },
        "title": {
         "text": "Krajiny s najvacsim podielom na trhu"
        },
        "xaxis": {
         "anchor": "y",
         "domain": [
          0,
          1
         ],
         "title": {
          "text": "STAT_popis"
         }
        },
        "yaxis": {
         "anchor": "x",
         "domain": [
          0,
          1
         ],
         "title": {
          "text": "number"
         }
        }
       }
      }
     },
     "metadata": {}
    }
   ],
   "source": [
    "px.bar(table2019tab2.head(10), x='STAT_popis', y='number', title='Krajiny s najvacsim podielom na trhu')"
   ]
  },
  {
   "source": [
    "## Z ktorych krajin su lieky najviac predavane? (2020)"
   ],
   "cell_type": "markdown",
   "metadata": {}
  },
  {
   "cell_type": "code",
   "execution_count": 28,
   "metadata": {},
   "outputs": [
    {
     "output_type": "display_data",
     "data": {
      "text/plain": "            STAT_popis  Počet balení\n27           Slovensko  2.656218e+07\n33               Česko  1.976097e+07\n20             Nemecko  1.375259e+07\n9            Holandsko  1.218893e+07\n28           Slovinsko  8.495347e+06\n6           Francúzsko  5.313075e+06\n34               ĺrsko  4.602191e+06\n17            Maďarsko  4.369214e+06\n31           Taliansko  3.118190e+06\n21     Nešpecifikované  2.158844e+06\n24              Poľsko  1.991132e+06\n25             Rakúsko  1.773538e+06\n4               Cyprus  1.138812e+06\n11              Island  1.111589e+06\n5               Dánsko  9.474987e+05\n1             Belgicko  8.622657e+05\n15         Luxembursko  7.149877e+05\n37             Švédsko  5.019233e+05\n23         Portugalsko  4.703990e+05\n7               Fínsko  3.865638e+05\n35          Španielsko  2.772255e+05\n2            Bulharsko  7.883036e+04\n0            (prázdne)  6.658491e+04\n14            Lotyšsko  6.260930e+04\n22              Nórsko  9.711686e+03\n3           Chorvátsko  8.663000e+03\n29  Spojené kráľovstvo  4.299100e+03\n19           NEUVEDENÉ  8.608800e+02\n8               Grécko  8.590000e+02\n36         Švajčiarsko  7.296000e+02\n16               Malta  1.310000e+02\n13               Litva  7.200000e+01\n26            Singapur  5.000000e+01\n12           Jordánsko  4.700000e+01\n10               India  5.000000e+00\n18              Monako  3.000000e+00\n30  Spojené štáty, USA  1.000000e+00\n32             Turecko  1.000000e+00",
      "text/html": "<div>\n<style scoped>\n    .dataframe tbody tr th:only-of-type {\n        vertical-align: middle;\n    }\n\n    .dataframe tbody tr th {\n        vertical-align: top;\n    }\n\n    .dataframe thead th {\n        text-align: right;\n    }\n</style>\n<table border=\"1\" class=\"dataframe\">\n  <thead>\n    <tr style=\"text-align: right;\">\n      <th></th>\n      <th>STAT_popis</th>\n      <th>Počet balení</th>\n    </tr>\n  </thead>\n  <tbody>\n    <tr>\n      <th>27</th>\n      <td>Slovensko</td>\n      <td>2.656218e+07</td>\n    </tr>\n    <tr>\n      <th>33</th>\n      <td>Česko</td>\n      <td>1.976097e+07</td>\n    </tr>\n    <tr>\n      <th>20</th>\n      <td>Nemecko</td>\n      <td>1.375259e+07</td>\n    </tr>\n    <tr>\n      <th>9</th>\n      <td>Holandsko</td>\n      <td>1.218893e+07</td>\n    </tr>\n    <tr>\n      <th>28</th>\n      <td>Slovinsko</td>\n      <td>8.495347e+06</td>\n    </tr>\n    <tr>\n      <th>6</th>\n      <td>Francúzsko</td>\n      <td>5.313075e+06</td>\n    </tr>\n    <tr>\n      <th>34</th>\n      <td>ĺrsko</td>\n      <td>4.602191e+06</td>\n    </tr>\n    <tr>\n      <th>17</th>\n      <td>Maďarsko</td>\n      <td>4.369214e+06</td>\n    </tr>\n    <tr>\n      <th>31</th>\n      <td>Taliansko</td>\n      <td>3.118190e+06</td>\n    </tr>\n    <tr>\n      <th>21</th>\n      <td>Nešpecifikované</td>\n      <td>2.158844e+06</td>\n    </tr>\n    <tr>\n      <th>24</th>\n      <td>Poľsko</td>\n      <td>1.991132e+06</td>\n    </tr>\n    <tr>\n      <th>25</th>\n      <td>Rakúsko</td>\n      <td>1.773538e+06</td>\n    </tr>\n    <tr>\n      <th>4</th>\n      <td>Cyprus</td>\n      <td>1.138812e+06</td>\n    </tr>\n    <tr>\n      <th>11</th>\n      <td>Island</td>\n      <td>1.111589e+06</td>\n    </tr>\n    <tr>\n      <th>5</th>\n      <td>Dánsko</td>\n      <td>9.474987e+05</td>\n    </tr>\n    <tr>\n      <th>1</th>\n      <td>Belgicko</td>\n      <td>8.622657e+05</td>\n    </tr>\n    <tr>\n      <th>15</th>\n      <td>Luxembursko</td>\n      <td>7.149877e+05</td>\n    </tr>\n    <tr>\n      <th>37</th>\n      <td>Švédsko</td>\n      <td>5.019233e+05</td>\n    </tr>\n    <tr>\n      <th>23</th>\n      <td>Portugalsko</td>\n      <td>4.703990e+05</td>\n    </tr>\n    <tr>\n      <th>7</th>\n      <td>Fínsko</td>\n      <td>3.865638e+05</td>\n    </tr>\n    <tr>\n      <th>35</th>\n      <td>Španielsko</td>\n      <td>2.772255e+05</td>\n    </tr>\n    <tr>\n      <th>2</th>\n      <td>Bulharsko</td>\n      <td>7.883036e+04</td>\n    </tr>\n    <tr>\n      <th>0</th>\n      <td>(prázdne)</td>\n      <td>6.658491e+04</td>\n    </tr>\n    <tr>\n      <th>14</th>\n      <td>Lotyšsko</td>\n      <td>6.260930e+04</td>\n    </tr>\n    <tr>\n      <th>22</th>\n      <td>Nórsko</td>\n      <td>9.711686e+03</td>\n    </tr>\n    <tr>\n      <th>3</th>\n      <td>Chorvátsko</td>\n      <td>8.663000e+03</td>\n    </tr>\n    <tr>\n      <th>29</th>\n      <td>Spojené kráľovstvo</td>\n      <td>4.299100e+03</td>\n    </tr>\n    <tr>\n      <th>19</th>\n      <td>NEUVEDENÉ</td>\n      <td>8.608800e+02</td>\n    </tr>\n    <tr>\n      <th>8</th>\n      <td>Grécko</td>\n      <td>8.590000e+02</td>\n    </tr>\n    <tr>\n      <th>36</th>\n      <td>Švajčiarsko</td>\n      <td>7.296000e+02</td>\n    </tr>\n    <tr>\n      <th>16</th>\n      <td>Malta</td>\n      <td>1.310000e+02</td>\n    </tr>\n    <tr>\n      <th>13</th>\n      <td>Litva</td>\n      <td>7.200000e+01</td>\n    </tr>\n    <tr>\n      <th>26</th>\n      <td>Singapur</td>\n      <td>5.000000e+01</td>\n    </tr>\n    <tr>\n      <th>12</th>\n      <td>Jordánsko</td>\n      <td>4.700000e+01</td>\n    </tr>\n    <tr>\n      <th>10</th>\n      <td>India</td>\n      <td>5.000000e+00</td>\n    </tr>\n    <tr>\n      <th>18</th>\n      <td>Monako</td>\n      <td>3.000000e+00</td>\n    </tr>\n    <tr>\n      <th>30</th>\n      <td>Spojené štáty, USA</td>\n      <td>1.000000e+00</td>\n    </tr>\n    <tr>\n      <th>32</th>\n      <td>Turecko</td>\n      <td>1.000000e+00</td>\n    </tr>\n  </tbody>\n</table>\n</div>"
     },
     "metadata": {}
    }
   ],
   "source": [
    "table2020Q1 = import_table('detailed', 2020)['Q1']\n",
    "table2020Q2 = import_table('detailed', 2020)['Q2']\n",
    "table2020Q3 = import_table('detailed', 2020)['Q3']\n",
    "\n",
    "tableQ1 = (table2020Q1.loc[:,['STAT_popis', 'VYROBCA_popis', 'Počet balení']]\n",
    "                    .query('STAT_popis != \"(prazdne)\"')\n",
    "                    .groupby(['STAT_popis'])\n",
    "                    .sum()\n",
    "                    .reset_index()\n",
    "                    .sort_values(by='Počet balení',ascending=False))\n",
    "\n",
    "tableQ2 = (table2020Q2.loc[:,['STAT_popis', 'VYROBCA_popis', 'Počet balení']]\n",
    "                    .query('STAT_popis != \"(prazdne)\"')\n",
    "                    .groupby(['STAT_popis'])\n",
    "                    .sum()\n",
    "                    .reset_index()\n",
    "                    .sort_values(by='Počet balení',ascending=False))\n",
    "\n",
    "tableQ3 = (table2020Q3.loc[:,['STAT_popis', 'VYROBCA_popis', 'Počet balení']]\n",
    "                    .query('STAT_popis != \"(prazdne)\"')\n",
    "                    .groupby(['STAT_popis'])\n",
    "                    .sum()\n",
    "                    .reset_index()\n",
    "                    .sort_values(by='Počet balení',ascending=False))\n",
    "                    \n",
    "table2020 = tableQ1.append(tableQ2).append(tableQ3)\n",
    "table2020 = table2020.groupby('STAT_popis').sum().reset_index().sort_values(by='Počet balení', ascending=False)\n",
    "display(table2020)"
   ]
  },
  {
   "cell_type": "code",
   "execution_count": 29,
   "metadata": {},
   "outputs": [
    {
     "output_type": "display_data",
     "data": {
      "application/vnd.plotly.v1+json": {
       "config": {
        "plotlyServerURL": "https://plot.ly"
       },
       "data": [
        {
         "alignmentgroup": "True",
         "hovertemplate": "STAT_popis=%{x}<br>Počet balení=%{y}<extra></extra>",
         "legendgroup": "",
         "marker": {
          "color": "#636efa"
         },
         "name": "",
         "offsetgroup": "",
         "orientation": "v",
         "showlegend": false,
         "textposition": "auto",
         "type": "bar",
         "x": [
          "Slovensko",
          "Česko",
          "Nemecko",
          "Holandsko",
          "Slovinsko",
          "Francúzsko",
          "ĺrsko",
          "Maďarsko",
          "Taliansko",
          "Nešpecifikované"
         ],
         "xaxis": "x",
         "y": [
          26562179.823,
          19760973.388000008,
          13752592.412000004,
          12188931.38,
          8495346.506000001,
          5313074.954000003,
          4602191.1,
          4369214.47,
          3118189.734,
          2158844.085
         ],
         "yaxis": "y"
        }
       ],
       "layout": {
        "barmode": "relative",
        "legend": {
         "tracegroupgap": 0
        },
        "template": {
         "data": {
          "bar": [
           {
            "error_x": {
             "color": "#2a3f5f"
            },
            "error_y": {
             "color": "#2a3f5f"
            },
            "marker": {
             "line": {
              "color": "#E5ECF6",
              "width": 0.5
             }
            },
            "type": "bar"
           }
          ],
          "barpolar": [
           {
            "marker": {
             "line": {
              "color": "#E5ECF6",
              "width": 0.5
             }
            },
            "type": "barpolar"
           }
          ],
          "carpet": [
           {
            "aaxis": {
             "endlinecolor": "#2a3f5f",
             "gridcolor": "white",
             "linecolor": "white",
             "minorgridcolor": "white",
             "startlinecolor": "#2a3f5f"
            },
            "baxis": {
             "endlinecolor": "#2a3f5f",
             "gridcolor": "white",
             "linecolor": "white",
             "minorgridcolor": "white",
             "startlinecolor": "#2a3f5f"
            },
            "type": "carpet"
           }
          ],
          "choropleth": [
           {
            "colorbar": {
             "outlinewidth": 0,
             "ticks": ""
            },
            "type": "choropleth"
           }
          ],
          "contour": [
           {
            "colorbar": {
             "outlinewidth": 0,
             "ticks": ""
            },
            "colorscale": [
             [
              0,
              "#0d0887"
             ],
             [
              0.1111111111111111,
              "#46039f"
             ],
             [
              0.2222222222222222,
              "#7201a8"
             ],
             [
              0.3333333333333333,
              "#9c179e"
             ],
             [
              0.4444444444444444,
              "#bd3786"
             ],
             [
              0.5555555555555556,
              "#d8576b"
             ],
             [
              0.6666666666666666,
              "#ed7953"
             ],
             [
              0.7777777777777778,
              "#fb9f3a"
             ],
             [
              0.8888888888888888,
              "#fdca26"
             ],
             [
              1,
              "#f0f921"
             ]
            ],
            "type": "contour"
           }
          ],
          "contourcarpet": [
           {
            "colorbar": {
             "outlinewidth": 0,
             "ticks": ""
            },
            "type": "contourcarpet"
           }
          ],
          "heatmap": [
           {
            "colorbar": {
             "outlinewidth": 0,
             "ticks": ""
            },
            "colorscale": [
             [
              0,
              "#0d0887"
             ],
             [
              0.1111111111111111,
              "#46039f"
             ],
             [
              0.2222222222222222,
              "#7201a8"
             ],
             [
              0.3333333333333333,
              "#9c179e"
             ],
             [
              0.4444444444444444,
              "#bd3786"
             ],
             [
              0.5555555555555556,
              "#d8576b"
             ],
             [
              0.6666666666666666,
              "#ed7953"
             ],
             [
              0.7777777777777778,
              "#fb9f3a"
             ],
             [
              0.8888888888888888,
              "#fdca26"
             ],
             [
              1,
              "#f0f921"
             ]
            ],
            "type": "heatmap"
           }
          ],
          "heatmapgl": [
           {
            "colorbar": {
             "outlinewidth": 0,
             "ticks": ""
            },
            "colorscale": [
             [
              0,
              "#0d0887"
             ],
             [
              0.1111111111111111,
              "#46039f"
             ],
             [
              0.2222222222222222,
              "#7201a8"
             ],
             [
              0.3333333333333333,
              "#9c179e"
             ],
             [
              0.4444444444444444,
              "#bd3786"
             ],
             [
              0.5555555555555556,
              "#d8576b"
             ],
             [
              0.6666666666666666,
              "#ed7953"
             ],
             [
              0.7777777777777778,
              "#fb9f3a"
             ],
             [
              0.8888888888888888,
              "#fdca26"
             ],
             [
              1,
              "#f0f921"
             ]
            ],
            "type": "heatmapgl"
           }
          ],
          "histogram": [
           {
            "marker": {
             "colorbar": {
              "outlinewidth": 0,
              "ticks": ""
             }
            },
            "type": "histogram"
           }
          ],
          "histogram2d": [
           {
            "colorbar": {
             "outlinewidth": 0,
             "ticks": ""
            },
            "colorscale": [
             [
              0,
              "#0d0887"
             ],
             [
              0.1111111111111111,
              "#46039f"
             ],
             [
              0.2222222222222222,
              "#7201a8"
             ],
             [
              0.3333333333333333,
              "#9c179e"
             ],
             [
              0.4444444444444444,
              "#bd3786"
             ],
             [
              0.5555555555555556,
              "#d8576b"
             ],
             [
              0.6666666666666666,
              "#ed7953"
             ],
             [
              0.7777777777777778,
              "#fb9f3a"
             ],
             [
              0.8888888888888888,
              "#fdca26"
             ],
             [
              1,
              "#f0f921"
             ]
            ],
            "type": "histogram2d"
           }
          ],
          "histogram2dcontour": [
           {
            "colorbar": {
             "outlinewidth": 0,
             "ticks": ""
            },
            "colorscale": [
             [
              0,
              "#0d0887"
             ],
             [
              0.1111111111111111,
              "#46039f"
             ],
             [
              0.2222222222222222,
              "#7201a8"
             ],
             [
              0.3333333333333333,
              "#9c179e"
             ],
             [
              0.4444444444444444,
              "#bd3786"
             ],
             [
              0.5555555555555556,
              "#d8576b"
             ],
             [
              0.6666666666666666,
              "#ed7953"
             ],
             [
              0.7777777777777778,
              "#fb9f3a"
             ],
             [
              0.8888888888888888,
              "#fdca26"
             ],
             [
              1,
              "#f0f921"
             ]
            ],
            "type": "histogram2dcontour"
           }
          ],
          "mesh3d": [
           {
            "colorbar": {
             "outlinewidth": 0,
             "ticks": ""
            },
            "type": "mesh3d"
           }
          ],
          "parcoords": [
           {
            "line": {
             "colorbar": {
              "outlinewidth": 0,
              "ticks": ""
             }
            },
            "type": "parcoords"
           }
          ],
          "pie": [
           {
            "automargin": true,
            "type": "pie"
           }
          ],
          "scatter": [
           {
            "marker": {
             "colorbar": {
              "outlinewidth": 0,
              "ticks": ""
             }
            },
            "type": "scatter"
           }
          ],
          "scatter3d": [
           {
            "line": {
             "colorbar": {
              "outlinewidth": 0,
              "ticks": ""
             }
            },
            "marker": {
             "colorbar": {
              "outlinewidth": 0,
              "ticks": ""
             }
            },
            "type": "scatter3d"
           }
          ],
          "scattercarpet": [
           {
            "marker": {
             "colorbar": {
              "outlinewidth": 0,
              "ticks": ""
             }
            },
            "type": "scattercarpet"
           }
          ],
          "scattergeo": [
           {
            "marker": {
             "colorbar": {
              "outlinewidth": 0,
              "ticks": ""
             }
            },
            "type": "scattergeo"
           }
          ],
          "scattergl": [
           {
            "marker": {
             "colorbar": {
              "outlinewidth": 0,
              "ticks": ""
             }
            },
            "type": "scattergl"
           }
          ],
          "scattermapbox": [
           {
            "marker": {
             "colorbar": {
              "outlinewidth": 0,
              "ticks": ""
             }
            },
            "type": "scattermapbox"
           }
          ],
          "scatterpolar": [
           {
            "marker": {
             "colorbar": {
              "outlinewidth": 0,
              "ticks": ""
             }
            },
            "type": "scatterpolar"
           }
          ],
          "scatterpolargl": [
           {
            "marker": {
             "colorbar": {
              "outlinewidth": 0,
              "ticks": ""
             }
            },
            "type": "scatterpolargl"
           }
          ],
          "scatterternary": [
           {
            "marker": {
             "colorbar": {
              "outlinewidth": 0,
              "ticks": ""
             }
            },
            "type": "scatterternary"
           }
          ],
          "surface": [
           {
            "colorbar": {
             "outlinewidth": 0,
             "ticks": ""
            },
            "colorscale": [
             [
              0,
              "#0d0887"
             ],
             [
              0.1111111111111111,
              "#46039f"
             ],
             [
              0.2222222222222222,
              "#7201a8"
             ],
             [
              0.3333333333333333,
              "#9c179e"
             ],
             [
              0.4444444444444444,
              "#bd3786"
             ],
             [
              0.5555555555555556,
              "#d8576b"
             ],
             [
              0.6666666666666666,
              "#ed7953"
             ],
             [
              0.7777777777777778,
              "#fb9f3a"
             ],
             [
              0.8888888888888888,
              "#fdca26"
             ],
             [
              1,
              "#f0f921"
             ]
            ],
            "type": "surface"
           }
          ],
          "table": [
           {
            "cells": {
             "fill": {
              "color": "#EBF0F8"
             },
             "line": {
              "color": "white"
             }
            },
            "header": {
             "fill": {
              "color": "#C8D4E3"
             },
             "line": {
              "color": "white"
             }
            },
            "type": "table"
           }
          ]
         },
         "layout": {
          "annotationdefaults": {
           "arrowcolor": "#2a3f5f",
           "arrowhead": 0,
           "arrowwidth": 1
          },
          "autotypenumbers": "strict",
          "coloraxis": {
           "colorbar": {
            "outlinewidth": 0,
            "ticks": ""
           }
          },
          "colorscale": {
           "diverging": [
            [
             0,
             "#8e0152"
            ],
            [
             0.1,
             "#c51b7d"
            ],
            [
             0.2,
             "#de77ae"
            ],
            [
             0.3,
             "#f1b6da"
            ],
            [
             0.4,
             "#fde0ef"
            ],
            [
             0.5,
             "#f7f7f7"
            ],
            [
             0.6,
             "#e6f5d0"
            ],
            [
             0.7,
             "#b8e186"
            ],
            [
             0.8,
             "#7fbc41"
            ],
            [
             0.9,
             "#4d9221"
            ],
            [
             1,
             "#276419"
            ]
           ],
           "sequential": [
            [
             0,
             "#0d0887"
            ],
            [
             0.1111111111111111,
             "#46039f"
            ],
            [
             0.2222222222222222,
             "#7201a8"
            ],
            [
             0.3333333333333333,
             "#9c179e"
            ],
            [
             0.4444444444444444,
             "#bd3786"
            ],
            [
             0.5555555555555556,
             "#d8576b"
            ],
            [
             0.6666666666666666,
             "#ed7953"
            ],
            [
             0.7777777777777778,
             "#fb9f3a"
            ],
            [
             0.8888888888888888,
             "#fdca26"
            ],
            [
             1,
             "#f0f921"
            ]
           ],
           "sequentialminus": [
            [
             0,
             "#0d0887"
            ],
            [
             0.1111111111111111,
             "#46039f"
            ],
            [
             0.2222222222222222,
             "#7201a8"
            ],
            [
             0.3333333333333333,
             "#9c179e"
            ],
            [
             0.4444444444444444,
             "#bd3786"
            ],
            [
             0.5555555555555556,
             "#d8576b"
            ],
            [
             0.6666666666666666,
             "#ed7953"
            ],
            [
             0.7777777777777778,
             "#fb9f3a"
            ],
            [
             0.8888888888888888,
             "#fdca26"
            ],
            [
             1,
             "#f0f921"
            ]
           ]
          },
          "colorway": [
           "#636efa",
           "#EF553B",
           "#00cc96",
           "#ab63fa",
           "#FFA15A",
           "#19d3f3",
           "#FF6692",
           "#B6E880",
           "#FF97FF",
           "#FECB52"
          ],
          "font": {
           "color": "#2a3f5f"
          },
          "geo": {
           "bgcolor": "white",
           "lakecolor": "white",
           "landcolor": "#E5ECF6",
           "showlakes": true,
           "showland": true,
           "subunitcolor": "white"
          },
          "hoverlabel": {
           "align": "left"
          },
          "hovermode": "closest",
          "mapbox": {
           "style": "light"
          },
          "paper_bgcolor": "white",
          "plot_bgcolor": "#E5ECF6",
          "polar": {
           "angularaxis": {
            "gridcolor": "white",
            "linecolor": "white",
            "ticks": ""
           },
           "bgcolor": "#E5ECF6",
           "radialaxis": {
            "gridcolor": "white",
            "linecolor": "white",
            "ticks": ""
           }
          },
          "scene": {
           "xaxis": {
            "backgroundcolor": "#E5ECF6",
            "gridcolor": "white",
            "gridwidth": 2,
            "linecolor": "white",
            "showbackground": true,
            "ticks": "",
            "zerolinecolor": "white"
           },
           "yaxis": {
            "backgroundcolor": "#E5ECF6",
            "gridcolor": "white",
            "gridwidth": 2,
            "linecolor": "white",
            "showbackground": true,
            "ticks": "",
            "zerolinecolor": "white"
           },
           "zaxis": {
            "backgroundcolor": "#E5ECF6",
            "gridcolor": "white",
            "gridwidth": 2,
            "linecolor": "white",
            "showbackground": true,
            "ticks": "",
            "zerolinecolor": "white"
           }
          },
          "shapedefaults": {
           "line": {
            "color": "#2a3f5f"
           }
          },
          "ternary": {
           "aaxis": {
            "gridcolor": "white",
            "linecolor": "white",
            "ticks": ""
           },
           "baxis": {
            "gridcolor": "white",
            "linecolor": "white",
            "ticks": ""
           },
           "bgcolor": "#E5ECF6",
           "caxis": {
            "gridcolor": "white",
            "linecolor": "white",
            "ticks": ""
           }
          },
          "title": {
           "x": 0.05
          },
          "xaxis": {
           "automargin": true,
           "gridcolor": "white",
           "linecolor": "white",
           "ticks": "",
           "title": {
            "standoff": 15
           },
           "zerolinecolor": "white",
           "zerolinewidth": 2
          },
          "yaxis": {
           "automargin": true,
           "gridcolor": "white",
           "linecolor": "white",
           "ticks": "",
           "title": {
            "standoff": 15
           },
           "zerolinecolor": "white",
           "zerolinewidth": 2
          }
         }
        },
        "title": {
         "text": "Krajiny z ktorych sa predalo najviac baleni"
        },
        "xaxis": {
         "anchor": "y",
         "domain": [
          0,
          1
         ],
         "title": {
          "text": "STAT_popis"
         }
        },
        "yaxis": {
         "anchor": "x",
         "domain": [
          0,
          1
         ],
         "title": {
          "text": "Počet balení"
         }
        }
       }
      }
     },
     "metadata": {}
    }
   ],
   "source": [
    "px.bar(table2020.head(10), x='STAT_popis', y='Počet balení', title='Krajiny z ktorych sa predalo najviac baleni')"
   ]
  },
  {
   "cell_type": "code",
   "execution_count": 33,
   "metadata": {},
   "outputs": [
    {
     "output_type": "display_data",
     "data": {
      "text/plain": "            STAT_popis  Počet balení  number\n20             Nemecko  1.375259e+07    3771\n33               Česko  1.976097e+07    3512\n6           Francúzsko  5.313075e+06    3049\n27           Slovensko  2.656218e+07    3014\n28           Slovinsko  8.495347e+06    2090\n9            Holandsko  1.218893e+07    1307\n34               ĺrsko  4.602191e+06    1194\n25             Rakúsko  1.773538e+06     954\n17            Maďarsko  4.369214e+06     853\n24              Poľsko  1.991132e+06     784\n1             Belgicko  8.622657e+05     662\n21     Nešpecifikované  2.158844e+06     542\n11              Island  1.111589e+06     483\n4               Cyprus  1.138812e+06     477\n37             Švédsko  5.019233e+05     326\n7               Fínsko  3.865638e+05     315\n5               Dánsko  9.474987e+05     304\n35          Španielsko  2.772255e+05     277\n31           Taliansko  3.118190e+06     269\n29  Spojené kráľovstvo  4.299100e+03     163\n15         Luxembursko  7.149877e+05     113\n23         Portugalsko  4.703990e+05      86\n14            Lotyšsko  6.260930e+04      62\n22              Nórsko  9.711686e+03      58\n8               Grécko  8.590000e+02      55\n36         Švajčiarsko  7.296000e+02      34\n2            Bulharsko  7.883036e+04      30\n3           Chorvátsko  8.663000e+03      27\n19           NEUVEDENÉ  8.608800e+02      14\n13               Litva  7.200000e+01      14\n16               Malta  1.310000e+02      11\n26            Singapur  5.000000e+01       8\n10               India  5.000000e+00       3\n0            (prázdne)  6.658491e+04       3\n18              Monako  3.000000e+00       2\n12           Jordánsko  4.700000e+01       2\n30  Spojené štáty, USA  1.000000e+00       1\n32             Turecko  1.000000e+00       1",
      "text/html": "<div>\n<style scoped>\n    .dataframe tbody tr th:only-of-type {\n        vertical-align: middle;\n    }\n\n    .dataframe tbody tr th {\n        vertical-align: top;\n    }\n\n    .dataframe thead th {\n        text-align: right;\n    }\n</style>\n<table border=\"1\" class=\"dataframe\">\n  <thead>\n    <tr style=\"text-align: right;\">\n      <th></th>\n      <th>STAT_popis</th>\n      <th>Počet balení</th>\n      <th>number</th>\n    </tr>\n  </thead>\n  <tbody>\n    <tr>\n      <th>20</th>\n      <td>Nemecko</td>\n      <td>1.375259e+07</td>\n      <td>3771</td>\n    </tr>\n    <tr>\n      <th>33</th>\n      <td>Česko</td>\n      <td>1.976097e+07</td>\n      <td>3512</td>\n    </tr>\n    <tr>\n      <th>6</th>\n      <td>Francúzsko</td>\n      <td>5.313075e+06</td>\n      <td>3049</td>\n    </tr>\n    <tr>\n      <th>27</th>\n      <td>Slovensko</td>\n      <td>2.656218e+07</td>\n      <td>3014</td>\n    </tr>\n    <tr>\n      <th>28</th>\n      <td>Slovinsko</td>\n      <td>8.495347e+06</td>\n      <td>2090</td>\n    </tr>\n    <tr>\n      <th>9</th>\n      <td>Holandsko</td>\n      <td>1.218893e+07</td>\n      <td>1307</td>\n    </tr>\n    <tr>\n      <th>34</th>\n      <td>ĺrsko</td>\n      <td>4.602191e+06</td>\n      <td>1194</td>\n    </tr>\n    <tr>\n      <th>25</th>\n      <td>Rakúsko</td>\n      <td>1.773538e+06</td>\n      <td>954</td>\n    </tr>\n    <tr>\n      <th>17</th>\n      <td>Maďarsko</td>\n      <td>4.369214e+06</td>\n      <td>853</td>\n    </tr>\n    <tr>\n      <th>24</th>\n      <td>Poľsko</td>\n      <td>1.991132e+06</td>\n      <td>784</td>\n    </tr>\n    <tr>\n      <th>1</th>\n      <td>Belgicko</td>\n      <td>8.622657e+05</td>\n      <td>662</td>\n    </tr>\n    <tr>\n      <th>21</th>\n      <td>Nešpecifikované</td>\n      <td>2.158844e+06</td>\n      <td>542</td>\n    </tr>\n    <tr>\n      <th>11</th>\n      <td>Island</td>\n      <td>1.111589e+06</td>\n      <td>483</td>\n    </tr>\n    <tr>\n      <th>4</th>\n      <td>Cyprus</td>\n      <td>1.138812e+06</td>\n      <td>477</td>\n    </tr>\n    <tr>\n      <th>37</th>\n      <td>Švédsko</td>\n      <td>5.019233e+05</td>\n      <td>326</td>\n    </tr>\n    <tr>\n      <th>7</th>\n      <td>Fínsko</td>\n      <td>3.865638e+05</td>\n      <td>315</td>\n    </tr>\n    <tr>\n      <th>5</th>\n      <td>Dánsko</td>\n      <td>9.474987e+05</td>\n      <td>304</td>\n    </tr>\n    <tr>\n      <th>35</th>\n      <td>Španielsko</td>\n      <td>2.772255e+05</td>\n      <td>277</td>\n    </tr>\n    <tr>\n      <th>31</th>\n      <td>Taliansko</td>\n      <td>3.118190e+06</td>\n      <td>269</td>\n    </tr>\n    <tr>\n      <th>29</th>\n      <td>Spojené kráľovstvo</td>\n      <td>4.299100e+03</td>\n      <td>163</td>\n    </tr>\n    <tr>\n      <th>15</th>\n      <td>Luxembursko</td>\n      <td>7.149877e+05</td>\n      <td>113</td>\n    </tr>\n    <tr>\n      <th>23</th>\n      <td>Portugalsko</td>\n      <td>4.703990e+05</td>\n      <td>86</td>\n    </tr>\n    <tr>\n      <th>14</th>\n      <td>Lotyšsko</td>\n      <td>6.260930e+04</td>\n      <td>62</td>\n    </tr>\n    <tr>\n      <th>22</th>\n      <td>Nórsko</td>\n      <td>9.711686e+03</td>\n      <td>58</td>\n    </tr>\n    <tr>\n      <th>8</th>\n      <td>Grécko</td>\n      <td>8.590000e+02</td>\n      <td>55</td>\n    </tr>\n    <tr>\n      <th>36</th>\n      <td>Švajčiarsko</td>\n      <td>7.296000e+02</td>\n      <td>34</td>\n    </tr>\n    <tr>\n      <th>2</th>\n      <td>Bulharsko</td>\n      <td>7.883036e+04</td>\n      <td>30</td>\n    </tr>\n    <tr>\n      <th>3</th>\n      <td>Chorvátsko</td>\n      <td>8.663000e+03</td>\n      <td>27</td>\n    </tr>\n    <tr>\n      <th>19</th>\n      <td>NEUVEDENÉ</td>\n      <td>8.608800e+02</td>\n      <td>14</td>\n    </tr>\n    <tr>\n      <th>13</th>\n      <td>Litva</td>\n      <td>7.200000e+01</td>\n      <td>14</td>\n    </tr>\n    <tr>\n      <th>16</th>\n      <td>Malta</td>\n      <td>1.310000e+02</td>\n      <td>11</td>\n    </tr>\n    <tr>\n      <th>26</th>\n      <td>Singapur</td>\n      <td>5.000000e+01</td>\n      <td>8</td>\n    </tr>\n    <tr>\n      <th>10</th>\n      <td>India</td>\n      <td>5.000000e+00</td>\n      <td>3</td>\n    </tr>\n    <tr>\n      <th>0</th>\n      <td>(prázdne)</td>\n      <td>6.658491e+04</td>\n      <td>3</td>\n    </tr>\n    <tr>\n      <th>18</th>\n      <td>Monako</td>\n      <td>3.000000e+00</td>\n      <td>2</td>\n    </tr>\n    <tr>\n      <th>12</th>\n      <td>Jordánsko</td>\n      <td>4.700000e+01</td>\n      <td>2</td>\n    </tr>\n    <tr>\n      <th>30</th>\n      <td>Spojené štáty, USA</td>\n      <td>1.000000e+00</td>\n      <td>1</td>\n    </tr>\n    <tr>\n      <th>32</th>\n      <td>Turecko</td>\n      <td>1.000000e+00</td>\n      <td>1</td>\n    </tr>\n  </tbody>\n</table>\n</div>"
     },
     "metadata": {}
    }
   ],
   "source": [
    "table2020Q1 = import_table('detailed', 2020)['Q1']\n",
    "table2020Q2 = import_table('detailed', 2020)['Q2']\n",
    "table2020Q3 = import_table('detailed', 2020)['Q3']\n",
    "\n",
    "tableQ1 = (table2020Q1.loc[:,['STAT_popis', 'LIEK_KOD', 'Počet balení']]\n",
    "                    .query('STAT_popis != \"(prazdne)\"')\n",
    "                    .groupby(['STAT_popis', 'LIEK_KOD'])\n",
    "                    .sum()\n",
    "                    .reset_index()\n",
    "                    .sort_values(by='Počet balení',ascending=False))\n",
    "\n",
    "tableQ2 = (table2020Q2.loc[:,['STAT_popis', 'LIEK_KOD', 'Počet balení']]\n",
    "                    .query('STAT_popis != \"(prazdne)\"')\n",
    "                    .groupby(['STAT_popis', 'LIEK_KOD'])\n",
    "                    .sum()\n",
    "                    .reset_index()\n",
    "                    .sort_values(by='Počet balení',ascending=False))\n",
    "\n",
    "tableQ3 = (table2020Q3.loc[:,['STAT_popis', 'LIEK_KOD', 'Počet balení']]\n",
    "                    .query('STAT_popis != \"(prazdne)\"')\n",
    "                    .groupby(['STAT_popis', 'LIEK_KOD'])\n",
    "                    .sum()\n",
    "                    .reset_index()\n",
    "                    .sort_values(by='Počet balení',ascending=False))\n",
    "                    \n",
    "table2020 = tableQ1.append(tableQ2).append(tableQ3)\n",
    "\n",
    "table2020['number'] = [1 for i in range(len(table2020))]\n",
    "table2020 = table2020.groupby('STAT_popis').sum().reset_index().sort_values(by='number',ascending=False)\n",
    "display(table2020)"
   ]
  },
  {
   "cell_type": "code",
   "execution_count": 34,
   "metadata": {},
   "outputs": [
    {
     "output_type": "display_data",
     "data": {
      "application/vnd.plotly.v1+json": {
       "config": {
        "plotlyServerURL": "https://plot.ly"
       },
       "data": [
        {
         "alignmentgroup": "True",
         "hovertemplate": "STAT_popis=%{x}<br>number=%{y}<extra></extra>",
         "legendgroup": "",
         "marker": {
          "color": "#636efa"
         },
         "name": "",
         "offsetgroup": "",
         "orientation": "v",
         "showlegend": false,
         "textposition": "auto",
         "type": "bar",
         "x": [
          "Nemecko",
          "Česko",
          "Francúzsko",
          "Slovensko",
          "Slovinsko",
          "Holandsko",
          "ĺrsko",
          "Rakúsko",
          "Maďarsko",
          "Poľsko"
         ],
         "xaxis": "x",
         "y": [
          3771,
          3512,
          3049,
          3014,
          2090,
          1307,
          1194,
          954,
          853,
          784
         ],
         "yaxis": "y"
        }
       ],
       "layout": {
        "barmode": "relative",
        "legend": {
         "tracegroupgap": 0
        },
        "template": {
         "data": {
          "bar": [
           {
            "error_x": {
             "color": "#2a3f5f"
            },
            "error_y": {
             "color": "#2a3f5f"
            },
            "marker": {
             "line": {
              "color": "#E5ECF6",
              "width": 0.5
             }
            },
            "type": "bar"
           }
          ],
          "barpolar": [
           {
            "marker": {
             "line": {
              "color": "#E5ECF6",
              "width": 0.5
             }
            },
            "type": "barpolar"
           }
          ],
          "carpet": [
           {
            "aaxis": {
             "endlinecolor": "#2a3f5f",
             "gridcolor": "white",
             "linecolor": "white",
             "minorgridcolor": "white",
             "startlinecolor": "#2a3f5f"
            },
            "baxis": {
             "endlinecolor": "#2a3f5f",
             "gridcolor": "white",
             "linecolor": "white",
             "minorgridcolor": "white",
             "startlinecolor": "#2a3f5f"
            },
            "type": "carpet"
           }
          ],
          "choropleth": [
           {
            "colorbar": {
             "outlinewidth": 0,
             "ticks": ""
            },
            "type": "choropleth"
           }
          ],
          "contour": [
           {
            "colorbar": {
             "outlinewidth": 0,
             "ticks": ""
            },
            "colorscale": [
             [
              0,
              "#0d0887"
             ],
             [
              0.1111111111111111,
              "#46039f"
             ],
             [
              0.2222222222222222,
              "#7201a8"
             ],
             [
              0.3333333333333333,
              "#9c179e"
             ],
             [
              0.4444444444444444,
              "#bd3786"
             ],
             [
              0.5555555555555556,
              "#d8576b"
             ],
             [
              0.6666666666666666,
              "#ed7953"
             ],
             [
              0.7777777777777778,
              "#fb9f3a"
             ],
             [
              0.8888888888888888,
              "#fdca26"
             ],
             [
              1,
              "#f0f921"
             ]
            ],
            "type": "contour"
           }
          ],
          "contourcarpet": [
           {
            "colorbar": {
             "outlinewidth": 0,
             "ticks": ""
            },
            "type": "contourcarpet"
           }
          ],
          "heatmap": [
           {
            "colorbar": {
             "outlinewidth": 0,
             "ticks": ""
            },
            "colorscale": [
             [
              0,
              "#0d0887"
             ],
             [
              0.1111111111111111,
              "#46039f"
             ],
             [
              0.2222222222222222,
              "#7201a8"
             ],
             [
              0.3333333333333333,
              "#9c179e"
             ],
             [
              0.4444444444444444,
              "#bd3786"
             ],
             [
              0.5555555555555556,
              "#d8576b"
             ],
             [
              0.6666666666666666,
              "#ed7953"
             ],
             [
              0.7777777777777778,
              "#fb9f3a"
             ],
             [
              0.8888888888888888,
              "#fdca26"
             ],
             [
              1,
              "#f0f921"
             ]
            ],
            "type": "heatmap"
           }
          ],
          "heatmapgl": [
           {
            "colorbar": {
             "outlinewidth": 0,
             "ticks": ""
            },
            "colorscale": [
             [
              0,
              "#0d0887"
             ],
             [
              0.1111111111111111,
              "#46039f"
             ],
             [
              0.2222222222222222,
              "#7201a8"
             ],
             [
              0.3333333333333333,
              "#9c179e"
             ],
             [
              0.4444444444444444,
              "#bd3786"
             ],
             [
              0.5555555555555556,
              "#d8576b"
             ],
             [
              0.6666666666666666,
              "#ed7953"
             ],
             [
              0.7777777777777778,
              "#fb9f3a"
             ],
             [
              0.8888888888888888,
              "#fdca26"
             ],
             [
              1,
              "#f0f921"
             ]
            ],
            "type": "heatmapgl"
           }
          ],
          "histogram": [
           {
            "marker": {
             "colorbar": {
              "outlinewidth": 0,
              "ticks": ""
             }
            },
            "type": "histogram"
           }
          ],
          "histogram2d": [
           {
            "colorbar": {
             "outlinewidth": 0,
             "ticks": ""
            },
            "colorscale": [
             [
              0,
              "#0d0887"
             ],
             [
              0.1111111111111111,
              "#46039f"
             ],
             [
              0.2222222222222222,
              "#7201a8"
             ],
             [
              0.3333333333333333,
              "#9c179e"
             ],
             [
              0.4444444444444444,
              "#bd3786"
             ],
             [
              0.5555555555555556,
              "#d8576b"
             ],
             [
              0.6666666666666666,
              "#ed7953"
             ],
             [
              0.7777777777777778,
              "#fb9f3a"
             ],
             [
              0.8888888888888888,
              "#fdca26"
             ],
             [
              1,
              "#f0f921"
             ]
            ],
            "type": "histogram2d"
           }
          ],
          "histogram2dcontour": [
           {
            "colorbar": {
             "outlinewidth": 0,
             "ticks": ""
            },
            "colorscale": [
             [
              0,
              "#0d0887"
             ],
             [
              0.1111111111111111,
              "#46039f"
             ],
             [
              0.2222222222222222,
              "#7201a8"
             ],
             [
              0.3333333333333333,
              "#9c179e"
             ],
             [
              0.4444444444444444,
              "#bd3786"
             ],
             [
              0.5555555555555556,
              "#d8576b"
             ],
             [
              0.6666666666666666,
              "#ed7953"
             ],
             [
              0.7777777777777778,
              "#fb9f3a"
             ],
             [
              0.8888888888888888,
              "#fdca26"
             ],
             [
              1,
              "#f0f921"
             ]
            ],
            "type": "histogram2dcontour"
           }
          ],
          "mesh3d": [
           {
            "colorbar": {
             "outlinewidth": 0,
             "ticks": ""
            },
            "type": "mesh3d"
           }
          ],
          "parcoords": [
           {
            "line": {
             "colorbar": {
              "outlinewidth": 0,
              "ticks": ""
             }
            },
            "type": "parcoords"
           }
          ],
          "pie": [
           {
            "automargin": true,
            "type": "pie"
           }
          ],
          "scatter": [
           {
            "marker": {
             "colorbar": {
              "outlinewidth": 0,
              "ticks": ""
             }
            },
            "type": "scatter"
           }
          ],
          "scatter3d": [
           {
            "line": {
             "colorbar": {
              "outlinewidth": 0,
              "ticks": ""
             }
            },
            "marker": {
             "colorbar": {
              "outlinewidth": 0,
              "ticks": ""
             }
            },
            "type": "scatter3d"
           }
          ],
          "scattercarpet": [
           {
            "marker": {
             "colorbar": {
              "outlinewidth": 0,
              "ticks": ""
             }
            },
            "type": "scattercarpet"
           }
          ],
          "scattergeo": [
           {
            "marker": {
             "colorbar": {
              "outlinewidth": 0,
              "ticks": ""
             }
            },
            "type": "scattergeo"
           }
          ],
          "scattergl": [
           {
            "marker": {
             "colorbar": {
              "outlinewidth": 0,
              "ticks": ""
             }
            },
            "type": "scattergl"
           }
          ],
          "scattermapbox": [
           {
            "marker": {
             "colorbar": {
              "outlinewidth": 0,
              "ticks": ""
             }
            },
            "type": "scattermapbox"
           }
          ],
          "scatterpolar": [
           {
            "marker": {
             "colorbar": {
              "outlinewidth": 0,
              "ticks": ""
             }
            },
            "type": "scatterpolar"
           }
          ],
          "scatterpolargl": [
           {
            "marker": {
             "colorbar": {
              "outlinewidth": 0,
              "ticks": ""
             }
            },
            "type": "scatterpolargl"
           }
          ],
          "scatterternary": [
           {
            "marker": {
             "colorbar": {
              "outlinewidth": 0,
              "ticks": ""
             }
            },
            "type": "scatterternary"
           }
          ],
          "surface": [
           {
            "colorbar": {
             "outlinewidth": 0,
             "ticks": ""
            },
            "colorscale": [
             [
              0,
              "#0d0887"
             ],
             [
              0.1111111111111111,
              "#46039f"
             ],
             [
              0.2222222222222222,
              "#7201a8"
             ],
             [
              0.3333333333333333,
              "#9c179e"
             ],
             [
              0.4444444444444444,
              "#bd3786"
             ],
             [
              0.5555555555555556,
              "#d8576b"
             ],
             [
              0.6666666666666666,
              "#ed7953"
             ],
             [
              0.7777777777777778,
              "#fb9f3a"
             ],
             [
              0.8888888888888888,
              "#fdca26"
             ],
             [
              1,
              "#f0f921"
             ]
            ],
            "type": "surface"
           }
          ],
          "table": [
           {
            "cells": {
             "fill": {
              "color": "#EBF0F8"
             },
             "line": {
              "color": "white"
             }
            },
            "header": {
             "fill": {
              "color": "#C8D4E3"
             },
             "line": {
              "color": "white"
             }
            },
            "type": "table"
           }
          ]
         },
         "layout": {
          "annotationdefaults": {
           "arrowcolor": "#2a3f5f",
           "arrowhead": 0,
           "arrowwidth": 1
          },
          "autotypenumbers": "strict",
          "coloraxis": {
           "colorbar": {
            "outlinewidth": 0,
            "ticks": ""
           }
          },
          "colorscale": {
           "diverging": [
            [
             0,
             "#8e0152"
            ],
            [
             0.1,
             "#c51b7d"
            ],
            [
             0.2,
             "#de77ae"
            ],
            [
             0.3,
             "#f1b6da"
            ],
            [
             0.4,
             "#fde0ef"
            ],
            [
             0.5,
             "#f7f7f7"
            ],
            [
             0.6,
             "#e6f5d0"
            ],
            [
             0.7,
             "#b8e186"
            ],
            [
             0.8,
             "#7fbc41"
            ],
            [
             0.9,
             "#4d9221"
            ],
            [
             1,
             "#276419"
            ]
           ],
           "sequential": [
            [
             0,
             "#0d0887"
            ],
            [
             0.1111111111111111,
             "#46039f"
            ],
            [
             0.2222222222222222,
             "#7201a8"
            ],
            [
             0.3333333333333333,
             "#9c179e"
            ],
            [
             0.4444444444444444,
             "#bd3786"
            ],
            [
             0.5555555555555556,
             "#d8576b"
            ],
            [
             0.6666666666666666,
             "#ed7953"
            ],
            [
             0.7777777777777778,
             "#fb9f3a"
            ],
            [
             0.8888888888888888,
             "#fdca26"
            ],
            [
             1,
             "#f0f921"
            ]
           ],
           "sequentialminus": [
            [
             0,
             "#0d0887"
            ],
            [
             0.1111111111111111,
             "#46039f"
            ],
            [
             0.2222222222222222,
             "#7201a8"
            ],
            [
             0.3333333333333333,
             "#9c179e"
            ],
            [
             0.4444444444444444,
             "#bd3786"
            ],
            [
             0.5555555555555556,
             "#d8576b"
            ],
            [
             0.6666666666666666,
             "#ed7953"
            ],
            [
             0.7777777777777778,
             "#fb9f3a"
            ],
            [
             0.8888888888888888,
             "#fdca26"
            ],
            [
             1,
             "#f0f921"
            ]
           ]
          },
          "colorway": [
           "#636efa",
           "#EF553B",
           "#00cc96",
           "#ab63fa",
           "#FFA15A",
           "#19d3f3",
           "#FF6692",
           "#B6E880",
           "#FF97FF",
           "#FECB52"
          ],
          "font": {
           "color": "#2a3f5f"
          },
          "geo": {
           "bgcolor": "white",
           "lakecolor": "white",
           "landcolor": "#E5ECF6",
           "showlakes": true,
           "showland": true,
           "subunitcolor": "white"
          },
          "hoverlabel": {
           "align": "left"
          },
          "hovermode": "closest",
          "mapbox": {
           "style": "light"
          },
          "paper_bgcolor": "white",
          "plot_bgcolor": "#E5ECF6",
          "polar": {
           "angularaxis": {
            "gridcolor": "white",
            "linecolor": "white",
            "ticks": ""
           },
           "bgcolor": "#E5ECF6",
           "radialaxis": {
            "gridcolor": "white",
            "linecolor": "white",
            "ticks": ""
           }
          },
          "scene": {
           "xaxis": {
            "backgroundcolor": "#E5ECF6",
            "gridcolor": "white",
            "gridwidth": 2,
            "linecolor": "white",
            "showbackground": true,
            "ticks": "",
            "zerolinecolor": "white"
           },
           "yaxis": {
            "backgroundcolor": "#E5ECF6",
            "gridcolor": "white",
            "gridwidth": 2,
            "linecolor": "white",
            "showbackground": true,
            "ticks": "",
            "zerolinecolor": "white"
           },
           "zaxis": {
            "backgroundcolor": "#E5ECF6",
            "gridcolor": "white",
            "gridwidth": 2,
            "linecolor": "white",
            "showbackground": true,
            "ticks": "",
            "zerolinecolor": "white"
           }
          },
          "shapedefaults": {
           "line": {
            "color": "#2a3f5f"
           }
          },
          "ternary": {
           "aaxis": {
            "gridcolor": "white",
            "linecolor": "white",
            "ticks": ""
           },
           "baxis": {
            "gridcolor": "white",
            "linecolor": "white",
            "ticks": ""
           },
           "bgcolor": "#E5ECF6",
           "caxis": {
            "gridcolor": "white",
            "linecolor": "white",
            "ticks": ""
           }
          },
          "title": {
           "x": 0.05
          },
          "xaxis": {
           "automargin": true,
           "gridcolor": "white",
           "linecolor": "white",
           "ticks": "",
           "title": {
            "standoff": 15
           },
           "zerolinecolor": "white",
           "zerolinewidth": 2
          },
          "yaxis": {
           "automargin": true,
           "gridcolor": "white",
           "linecolor": "white",
           "ticks": "",
           "title": {
            "standoff": 15
           },
           "zerolinecolor": "white",
           "zerolinewidth": 2
          }
         }
        },
        "title": {
         "text": "Krajiny s najvacsim podielom na trhu 2020"
        },
        "xaxis": {
         "anchor": "y",
         "domain": [
          0,
          1
         ],
         "title": {
          "text": "STAT_popis"
         }
        },
        "yaxis": {
         "anchor": "x",
         "domain": [
          0,
          1
         ],
         "title": {
          "text": "number"
         }
        }
       }
      }
     },
     "metadata": {}
    }
   ],
   "source": [
    "px.bar(table2020.head(10), x='STAT_popis', y='number', title='Krajiny s najvacsim podielom na trhu 2020')"
   ]
  },
  {
   "cell_type": "code",
   "execution_count": null,
   "metadata": {},
   "outputs": [],
   "source": []
  }
 ]
}