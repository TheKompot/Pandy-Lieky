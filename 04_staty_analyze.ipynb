{
 "metadata": {
  "language_info": {
   "codemirror_mode": {
    "name": "ipython",
    "version": 3
   },
   "file_extension": ".py",
   "mimetype": "text/x-python",
   "name": "python",
   "nbconvert_exporter": "python",
   "pygments_lexer": "ipython3",
   "version": "3.8.9"
  },
  "orig_nbformat": 2,
  "kernelspec": {
   "name": "python389jvsc74a57bd01017e7ef34bc9880a6d739757632ec67a1d07c02b92348625323b240429e2599",
   "display_name": "Python 3.8.9 64-bit (windows store)"
  },
  "metadata": {
   "interpreter": {
    "hash": "1017e7ef34bc9880a6d739757632ec67a1d07c02b92348625323b240429e2599"
   }
  }
 },
 "nbformat": 4,
 "nbformat_minor": 2,
 "cells": [
  {
   "source": [
    "# Analyza udajov podla krajin\n",
    " * Ktore krajiny maju najvacsi podiel liekov na trhu?\n",
    " * Z ktorych krajin su lieky najviac predavane?"
   ],
   "cell_type": "markdown",
   "metadata": {}
  },
  {
   "cell_type": "code",
   "execution_count": 12,
   "metadata": {},
   "outputs": [],
   "source": [
    "import pandas as pd \n",
    "import numpy as np \n",
    "import matplotlib.pyplot as plt \n",
    "import plotly.express as px\n",
    "%run tables.py\n",
    "modra = '#4B6AAB'"
   ]
  },
  {
   "source": [
    "## Z ktorych krajin su lieky najviac predavane? (2019)"
   ],
   "cell_type": "markdown",
   "metadata": {}
  },
  {
   "cell_type": "code",
   "execution_count": 13,
   "metadata": {},
   "outputs": [
    {
     "output_type": "display_data",
     "data": {
      "text/plain": "             STAT_popis                        VYROBCA_popis  Počet balení\n429           Slovensko       sanofi-aventis Slovakia s.r.o.  1.454958e+07\n572               Česko                        Zentiva, k.s.  9.707070e+06\n121           Holandsko                   GE Healthcare B.V.  8.627532e+06\n434           Slovinsko                KRKA d.d., Novo mesto  7.542110e+06\n426           Slovensko                            ZNT-SK-2?  5.676608e+06\n..                  ...                                  ...           ...\n395           Slovensko                                 FMI?  1.000000e+00\n119           Holandsko           Emergent Netherlands B.V.   1.000000e+00\n470  Spojené štáty, USA                               CHIRON  1.000000e+00\n471  Spojené štáty, USA                   NYCOMED IMAGING AS  1.000000e+00\n227             Nemecko  Dr. R.Pfleger Chemische Fabrik GmbH  1.000000e+00\n\n[663 rows x 3 columns]",
      "text/html": "<div>\n<style scoped>\n    .dataframe tbody tr th:only-of-type {\n        vertical-align: middle;\n    }\n\n    .dataframe tbody tr th {\n        vertical-align: top;\n    }\n\n    .dataframe thead th {\n        text-align: right;\n    }\n</style>\n<table border=\"1\" class=\"dataframe\">\n  <thead>\n    <tr style=\"text-align: right;\">\n      <th></th>\n      <th>STAT_popis</th>\n      <th>VYROBCA_popis</th>\n      <th>Počet balení</th>\n    </tr>\n  </thead>\n  <tbody>\n    <tr>\n      <th>429</th>\n      <td>Slovensko</td>\n      <td>sanofi-aventis Slovakia s.r.o.</td>\n      <td>1.454958e+07</td>\n    </tr>\n    <tr>\n      <th>572</th>\n      <td>Česko</td>\n      <td>Zentiva, k.s.</td>\n      <td>9.707070e+06</td>\n    </tr>\n    <tr>\n      <th>121</th>\n      <td>Holandsko</td>\n      <td>GE Healthcare B.V.</td>\n      <td>8.627532e+06</td>\n    </tr>\n    <tr>\n      <th>434</th>\n      <td>Slovinsko</td>\n      <td>KRKA d.d., Novo mesto</td>\n      <td>7.542110e+06</td>\n    </tr>\n    <tr>\n      <th>426</th>\n      <td>Slovensko</td>\n      <td>ZNT-SK-2?</td>\n      <td>5.676608e+06</td>\n    </tr>\n    <tr>\n      <th>...</th>\n      <td>...</td>\n      <td>...</td>\n      <td>...</td>\n    </tr>\n    <tr>\n      <th>395</th>\n      <td>Slovensko</td>\n      <td>FMI?</td>\n      <td>1.000000e+00</td>\n    </tr>\n    <tr>\n      <th>119</th>\n      <td>Holandsko</td>\n      <td>Emergent Netherlands B.V.</td>\n      <td>1.000000e+00</td>\n    </tr>\n    <tr>\n      <th>470</th>\n      <td>Spojené štáty, USA</td>\n      <td>CHIRON</td>\n      <td>1.000000e+00</td>\n    </tr>\n    <tr>\n      <th>471</th>\n      <td>Spojené štáty, USA</td>\n      <td>NYCOMED IMAGING AS</td>\n      <td>1.000000e+00</td>\n    </tr>\n    <tr>\n      <th>227</th>\n      <td>Nemecko</td>\n      <td>Dr. R.Pfleger Chemische Fabrik GmbH</td>\n      <td>1.000000e+00</td>\n    </tr>\n  </tbody>\n</table>\n<p>663 rows × 3 columns</p>\n</div>"
     },
     "metadata": {}
    }
   ],
   "source": [
    "table = import_table('detailed', 2019)\n",
    "table2019 = (table.loc[:,['STAT_popis', 'VYROBCA_popis', 'Počet balení']]\n",
    "                    .query('STAT_popis != \"(prazdne)\"')\n",
    "                    .groupby(['STAT_popis', 'VYROBCA_popis'])\n",
    "                    .sum()\n",
    "                    .reset_index()\n",
    "                    .sort_values(by='Počet balení',ascending=False))\n",
    "table2019short = table2019.head(10)\n",
    "display(table2019)"
   ]
  },
  {
   "cell_type": "code",
   "execution_count": 14,
   "metadata": {},
   "outputs": [
    {
     "output_type": "display_data",
     "data": {
      "text/plain": "            STAT_popis  Počet balení\n26           Slovensko  3.582399e+07\n31               Česko  3.174257e+07\n19             Nemecko  2.112182e+07\n8            Holandsko  1.364841e+07\n27           Slovinsko  1.186531e+07\n5           Francúzsko  7.701114e+06\n32               ĺrsko  5.941371e+06\n17            Maďarsko  5.885619e+06\n30           Taliansko  4.184974e+06\n24             Rakúsko  3.091256e+06\n23              Poľsko  2.370308e+06\n20     Nešpecifikované  2.334872e+06\n0             Belgicko  2.279428e+06\n3               Cyprus  1.722025e+06\n10              Island  1.593301e+06\n4               Dánsko  1.251946e+06\n22         Portugalsko  1.006707e+06\n15         Luxembursko  9.910700e+05\n35             Švédsko  6.907419e+05\n6               Fínsko  5.563392e+05\n33          Španielsko  4.169643e+05\n1            Bulharsko  1.109833e+05\n14            Lotyšsko  8.571263e+04\n21              Nórsko  1.095127e+04\n2           Chorvátsko  1.085350e+04\n28  Spojené kráľovstvo  3.914970e+03\n7               Grécko  1.288400e+03\n34         Švajčiarsko  1.097600e+03\n13               Litva  1.260000e+02\n25            Singapur  9.400000e+01\n16               Malta  6.300000e+01\n18              Monako  1.300000e+01\n9                India  1.200000e+01\n11              Izrael  1.000000e+01\n29  Spojené štáty, USA  2.000000e+00\n12              Kanada  2.000000e+00",
      "text/html": "<div>\n<style scoped>\n    .dataframe tbody tr th:only-of-type {\n        vertical-align: middle;\n    }\n\n    .dataframe tbody tr th {\n        vertical-align: top;\n    }\n\n    .dataframe thead th {\n        text-align: right;\n    }\n</style>\n<table border=\"1\" class=\"dataframe\">\n  <thead>\n    <tr style=\"text-align: right;\">\n      <th></th>\n      <th>STAT_popis</th>\n      <th>Počet balení</th>\n    </tr>\n  </thead>\n  <tbody>\n    <tr>\n      <th>26</th>\n      <td>Slovensko</td>\n      <td>3.582399e+07</td>\n    </tr>\n    <tr>\n      <th>31</th>\n      <td>Česko</td>\n      <td>3.174257e+07</td>\n    </tr>\n    <tr>\n      <th>19</th>\n      <td>Nemecko</td>\n      <td>2.112182e+07</td>\n    </tr>\n    <tr>\n      <th>8</th>\n      <td>Holandsko</td>\n      <td>1.364841e+07</td>\n    </tr>\n    <tr>\n      <th>27</th>\n      <td>Slovinsko</td>\n      <td>1.186531e+07</td>\n    </tr>\n    <tr>\n      <th>5</th>\n      <td>Francúzsko</td>\n      <td>7.701114e+06</td>\n    </tr>\n    <tr>\n      <th>32</th>\n      <td>ĺrsko</td>\n      <td>5.941371e+06</td>\n    </tr>\n    <tr>\n      <th>17</th>\n      <td>Maďarsko</td>\n      <td>5.885619e+06</td>\n    </tr>\n    <tr>\n      <th>30</th>\n      <td>Taliansko</td>\n      <td>4.184974e+06</td>\n    </tr>\n    <tr>\n      <th>24</th>\n      <td>Rakúsko</td>\n      <td>3.091256e+06</td>\n    </tr>\n    <tr>\n      <th>23</th>\n      <td>Poľsko</td>\n      <td>2.370308e+06</td>\n    </tr>\n    <tr>\n      <th>20</th>\n      <td>Nešpecifikované</td>\n      <td>2.334872e+06</td>\n    </tr>\n    <tr>\n      <th>0</th>\n      <td>Belgicko</td>\n      <td>2.279428e+06</td>\n    </tr>\n    <tr>\n      <th>3</th>\n      <td>Cyprus</td>\n      <td>1.722025e+06</td>\n    </tr>\n    <tr>\n      <th>10</th>\n      <td>Island</td>\n      <td>1.593301e+06</td>\n    </tr>\n    <tr>\n      <th>4</th>\n      <td>Dánsko</td>\n      <td>1.251946e+06</td>\n    </tr>\n    <tr>\n      <th>22</th>\n      <td>Portugalsko</td>\n      <td>1.006707e+06</td>\n    </tr>\n    <tr>\n      <th>15</th>\n      <td>Luxembursko</td>\n      <td>9.910700e+05</td>\n    </tr>\n    <tr>\n      <th>35</th>\n      <td>Švédsko</td>\n      <td>6.907419e+05</td>\n    </tr>\n    <tr>\n      <th>6</th>\n      <td>Fínsko</td>\n      <td>5.563392e+05</td>\n    </tr>\n    <tr>\n      <th>33</th>\n      <td>Španielsko</td>\n      <td>4.169643e+05</td>\n    </tr>\n    <tr>\n      <th>1</th>\n      <td>Bulharsko</td>\n      <td>1.109833e+05</td>\n    </tr>\n    <tr>\n      <th>14</th>\n      <td>Lotyšsko</td>\n      <td>8.571263e+04</td>\n    </tr>\n    <tr>\n      <th>21</th>\n      <td>Nórsko</td>\n      <td>1.095127e+04</td>\n    </tr>\n    <tr>\n      <th>2</th>\n      <td>Chorvátsko</td>\n      <td>1.085350e+04</td>\n    </tr>\n    <tr>\n      <th>28</th>\n      <td>Spojené kráľovstvo</td>\n      <td>3.914970e+03</td>\n    </tr>\n    <tr>\n      <th>7</th>\n      <td>Grécko</td>\n      <td>1.288400e+03</td>\n    </tr>\n    <tr>\n      <th>34</th>\n      <td>Švajčiarsko</td>\n      <td>1.097600e+03</td>\n    </tr>\n    <tr>\n      <th>13</th>\n      <td>Litva</td>\n      <td>1.260000e+02</td>\n    </tr>\n    <tr>\n      <th>25</th>\n      <td>Singapur</td>\n      <td>9.400000e+01</td>\n    </tr>\n    <tr>\n      <th>16</th>\n      <td>Malta</td>\n      <td>6.300000e+01</td>\n    </tr>\n    <tr>\n      <th>18</th>\n      <td>Monako</td>\n      <td>1.300000e+01</td>\n    </tr>\n    <tr>\n      <th>9</th>\n      <td>India</td>\n      <td>1.200000e+01</td>\n    </tr>\n    <tr>\n      <th>11</th>\n      <td>Izrael</td>\n      <td>1.000000e+01</td>\n    </tr>\n    <tr>\n      <th>29</th>\n      <td>Spojené štáty, USA</td>\n      <td>2.000000e+00</td>\n    </tr>\n    <tr>\n      <th>12</th>\n      <td>Kanada</td>\n      <td>2.000000e+00</td>\n    </tr>\n  </tbody>\n</table>\n</div>"
     },
     "metadata": {}
    }
   ],
   "source": [
    "table2019stat = (table2019.groupby('STAT_popis')\n",
    "                            .sum()\n",
    "                            .reset_index()\n",
    "                            .sort_values(by='Počet balení', ascending=False))\n",
    "display(table2019stat)"
   ]
  },
  {
   "source": [
    "Lieky z krajiny mimo Europy sa takmer vobec nepredavaju, preto sme ich nezahrnuli do vizualizacie."
   ],
   "cell_type": "markdown",
   "metadata": {}
  },
  {
   "cell_type": "code",
   "execution_count": 15,
   "metadata": {},
   "outputs": [
    {
     "output_type": "display_data",
     "data": {
      "application/vnd.plotly.v1+json": {
       "config": {
        "plotlyServerURL": "https://plot.ly"
       },
       "data": [
        {
         "alignmentgroup": "True",
         "hovertemplate": "=%{x}<br>Počet balení=%{y}<extra></extra>",
         "legendgroup": "",
         "marker": {
          "color": "#4B6AAB"
         },
         "name": "",
         "offsetgroup": "",
         "orientation": "v",
         "showlegend": false,
         "textposition": "auto",
         "type": "bar",
         "x": [
          "Slovensko",
          "Česko",
          "Nemecko",
          "Holandsko",
          "Slovinsko",
          "Francúzsko",
          "ĺrsko",
          "Maďarsko",
          "Taliansko",
          "Rakúsko"
         ],
         "xaxis": "x",
         "y": [
          35823989.78499999,
          31742574.873999998,
          21121816.023999996,
          13648410.597,
          11865314.913,
          7701113.824000002,
          5941370.813000001,
          5885618.8270000005,
          4184974.2259999993,
          3091256.130999999
         ],
         "yaxis": "y"
        }
       ],
       "layout": {
        "barmode": "relative",
        "legend": {
         "tracegroupgap": 0
        },
        "template": {
         "data": {
          "bar": [
           {
            "error_x": {
             "color": "#2a3f5f"
            },
            "error_y": {
             "color": "#2a3f5f"
            },
            "marker": {
             "line": {
              "color": "#E5ECF6",
              "width": 0.5
             }
            },
            "type": "bar"
           }
          ],
          "barpolar": [
           {
            "marker": {
             "line": {
              "color": "#E5ECF6",
              "width": 0.5
             }
            },
            "type": "barpolar"
           }
          ],
          "carpet": [
           {
            "aaxis": {
             "endlinecolor": "#2a3f5f",
             "gridcolor": "white",
             "linecolor": "white",
             "minorgridcolor": "white",
             "startlinecolor": "#2a3f5f"
            },
            "baxis": {
             "endlinecolor": "#2a3f5f",
             "gridcolor": "white",
             "linecolor": "white",
             "minorgridcolor": "white",
             "startlinecolor": "#2a3f5f"
            },
            "type": "carpet"
           }
          ],
          "choropleth": [
           {
            "colorbar": {
             "outlinewidth": 0,
             "ticks": ""
            },
            "type": "choropleth"
           }
          ],
          "contour": [
           {
            "colorbar": {
             "outlinewidth": 0,
             "ticks": ""
            },
            "colorscale": [
             [
              0,
              "#0d0887"
             ],
             [
              0.1111111111111111,
              "#46039f"
             ],
             [
              0.2222222222222222,
              "#7201a8"
             ],
             [
              0.3333333333333333,
              "#9c179e"
             ],
             [
              0.4444444444444444,
              "#bd3786"
             ],
             [
              0.5555555555555556,
              "#d8576b"
             ],
             [
              0.6666666666666666,
              "#ed7953"
             ],
             [
              0.7777777777777778,
              "#fb9f3a"
             ],
             [
              0.8888888888888888,
              "#fdca26"
             ],
             [
              1,
              "#f0f921"
             ]
            ],
            "type": "contour"
           }
          ],
          "contourcarpet": [
           {
            "colorbar": {
             "outlinewidth": 0,
             "ticks": ""
            },
            "type": "contourcarpet"
           }
          ],
          "heatmap": [
           {
            "colorbar": {
             "outlinewidth": 0,
             "ticks": ""
            },
            "colorscale": [
             [
              0,
              "#0d0887"
             ],
             [
              0.1111111111111111,
              "#46039f"
             ],
             [
              0.2222222222222222,
              "#7201a8"
             ],
             [
              0.3333333333333333,
              "#9c179e"
             ],
             [
              0.4444444444444444,
              "#bd3786"
             ],
             [
              0.5555555555555556,
              "#d8576b"
             ],
             [
              0.6666666666666666,
              "#ed7953"
             ],
             [
              0.7777777777777778,
              "#fb9f3a"
             ],
             [
              0.8888888888888888,
              "#fdca26"
             ],
             [
              1,
              "#f0f921"
             ]
            ],
            "type": "heatmap"
           }
          ],
          "heatmapgl": [
           {
            "colorbar": {
             "outlinewidth": 0,
             "ticks": ""
            },
            "colorscale": [
             [
              0,
              "#0d0887"
             ],
             [
              0.1111111111111111,
              "#46039f"
             ],
             [
              0.2222222222222222,
              "#7201a8"
             ],
             [
              0.3333333333333333,
              "#9c179e"
             ],
             [
              0.4444444444444444,
              "#bd3786"
             ],
             [
              0.5555555555555556,
              "#d8576b"
             ],
             [
              0.6666666666666666,
              "#ed7953"
             ],
             [
              0.7777777777777778,
              "#fb9f3a"
             ],
             [
              0.8888888888888888,
              "#fdca26"
             ],
             [
              1,
              "#f0f921"
             ]
            ],
            "type": "heatmapgl"
           }
          ],
          "histogram": [
           {
            "marker": {
             "colorbar": {
              "outlinewidth": 0,
              "ticks": ""
             }
            },
            "type": "histogram"
           }
          ],
          "histogram2d": [
           {
            "colorbar": {
             "outlinewidth": 0,
             "ticks": ""
            },
            "colorscale": [
             [
              0,
              "#0d0887"
             ],
             [
              0.1111111111111111,
              "#46039f"
             ],
             [
              0.2222222222222222,
              "#7201a8"
             ],
             [
              0.3333333333333333,
              "#9c179e"
             ],
             [
              0.4444444444444444,
              "#bd3786"
             ],
             [
              0.5555555555555556,
              "#d8576b"
             ],
             [
              0.6666666666666666,
              "#ed7953"
             ],
             [
              0.7777777777777778,
              "#fb9f3a"
             ],
             [
              0.8888888888888888,
              "#fdca26"
             ],
             [
              1,
              "#f0f921"
             ]
            ],
            "type": "histogram2d"
           }
          ],
          "histogram2dcontour": [
           {
            "colorbar": {
             "outlinewidth": 0,
             "ticks": ""
            },
            "colorscale": [
             [
              0,
              "#0d0887"
             ],
             [
              0.1111111111111111,
              "#46039f"
             ],
             [
              0.2222222222222222,
              "#7201a8"
             ],
             [
              0.3333333333333333,
              "#9c179e"
             ],
             [
              0.4444444444444444,
              "#bd3786"
             ],
             [
              0.5555555555555556,
              "#d8576b"
             ],
             [
              0.6666666666666666,
              "#ed7953"
             ],
             [
              0.7777777777777778,
              "#fb9f3a"
             ],
             [
              0.8888888888888888,
              "#fdca26"
             ],
             [
              1,
              "#f0f921"
             ]
            ],
            "type": "histogram2dcontour"
           }
          ],
          "mesh3d": [
           {
            "colorbar": {
             "outlinewidth": 0,
             "ticks": ""
            },
            "type": "mesh3d"
           }
          ],
          "parcoords": [
           {
            "line": {
             "colorbar": {
              "outlinewidth": 0,
              "ticks": ""
             }
            },
            "type": "parcoords"
           }
          ],
          "pie": [
           {
            "automargin": true,
            "type": "pie"
           }
          ],
          "scatter": [
           {
            "marker": {
             "colorbar": {
              "outlinewidth": 0,
              "ticks": ""
             }
            },
            "type": "scatter"
           }
          ],
          "scatter3d": [
           {
            "line": {
             "colorbar": {
              "outlinewidth": 0,
              "ticks": ""
             }
            },
            "marker": {
             "colorbar": {
              "outlinewidth": 0,
              "ticks": ""
             }
            },
            "type": "scatter3d"
           }
          ],
          "scattercarpet": [
           {
            "marker": {
             "colorbar": {
              "outlinewidth": 0,
              "ticks": ""
             }
            },
            "type": "scattercarpet"
           }
          ],
          "scattergeo": [
           {
            "marker": {
             "colorbar": {
              "outlinewidth": 0,
              "ticks": ""
             }
            },
            "type": "scattergeo"
           }
          ],
          "scattergl": [
           {
            "marker": {
             "colorbar": {
              "outlinewidth": 0,
              "ticks": ""
             }
            },
            "type": "scattergl"
           }
          ],
          "scattermapbox": [
           {
            "marker": {
             "colorbar": {
              "outlinewidth": 0,
              "ticks": ""
             }
            },
            "type": "scattermapbox"
           }
          ],
          "scatterpolar": [
           {
            "marker": {
             "colorbar": {
              "outlinewidth": 0,
              "ticks": ""
             }
            },
            "type": "scatterpolar"
           }
          ],
          "scatterpolargl": [
           {
            "marker": {
             "colorbar": {
              "outlinewidth": 0,
              "ticks": ""
             }
            },
            "type": "scatterpolargl"
           }
          ],
          "scatterternary": [
           {
            "marker": {
             "colorbar": {
              "outlinewidth": 0,
              "ticks": ""
             }
            },
            "type": "scatterternary"
           }
          ],
          "surface": [
           {
            "colorbar": {
             "outlinewidth": 0,
             "ticks": ""
            },
            "colorscale": [
             [
              0,
              "#0d0887"
             ],
             [
              0.1111111111111111,
              "#46039f"
             ],
             [
              0.2222222222222222,
              "#7201a8"
             ],
             [
              0.3333333333333333,
              "#9c179e"
             ],
             [
              0.4444444444444444,
              "#bd3786"
             ],
             [
              0.5555555555555556,
              "#d8576b"
             ],
             [
              0.6666666666666666,
              "#ed7953"
             ],
             [
              0.7777777777777778,
              "#fb9f3a"
             ],
             [
              0.8888888888888888,
              "#fdca26"
             ],
             [
              1,
              "#f0f921"
             ]
            ],
            "type": "surface"
           }
          ],
          "table": [
           {
            "cells": {
             "fill": {
              "color": "#EBF0F8"
             },
             "line": {
              "color": "white"
             }
            },
            "header": {
             "fill": {
              "color": "#C8D4E3"
             },
             "line": {
              "color": "white"
             }
            },
            "type": "table"
           }
          ]
         },
         "layout": {
          "annotationdefaults": {
           "arrowcolor": "#2a3f5f",
           "arrowhead": 0,
           "arrowwidth": 1
          },
          "autotypenumbers": "strict",
          "coloraxis": {
           "colorbar": {
            "outlinewidth": 0,
            "ticks": ""
           }
          },
          "colorscale": {
           "diverging": [
            [
             0,
             "#8e0152"
            ],
            [
             0.1,
             "#c51b7d"
            ],
            [
             0.2,
             "#de77ae"
            ],
            [
             0.3,
             "#f1b6da"
            ],
            [
             0.4,
             "#fde0ef"
            ],
            [
             0.5,
             "#f7f7f7"
            ],
            [
             0.6,
             "#e6f5d0"
            ],
            [
             0.7,
             "#b8e186"
            ],
            [
             0.8,
             "#7fbc41"
            ],
            [
             0.9,
             "#4d9221"
            ],
            [
             1,
             "#276419"
            ]
           ],
           "sequential": [
            [
             0,
             "#0d0887"
            ],
            [
             0.1111111111111111,
             "#46039f"
            ],
            [
             0.2222222222222222,
             "#7201a8"
            ],
            [
             0.3333333333333333,
             "#9c179e"
            ],
            [
             0.4444444444444444,
             "#bd3786"
            ],
            [
             0.5555555555555556,
             "#d8576b"
            ],
            [
             0.6666666666666666,
             "#ed7953"
            ],
            [
             0.7777777777777778,
             "#fb9f3a"
            ],
            [
             0.8888888888888888,
             "#fdca26"
            ],
            [
             1,
             "#f0f921"
            ]
           ],
           "sequentialminus": [
            [
             0,
             "#0d0887"
            ],
            [
             0.1111111111111111,
             "#46039f"
            ],
            [
             0.2222222222222222,
             "#7201a8"
            ],
            [
             0.3333333333333333,
             "#9c179e"
            ],
            [
             0.4444444444444444,
             "#bd3786"
            ],
            [
             0.5555555555555556,
             "#d8576b"
            ],
            [
             0.6666666666666666,
             "#ed7953"
            ],
            [
             0.7777777777777778,
             "#fb9f3a"
            ],
            [
             0.8888888888888888,
             "#fdca26"
            ],
            [
             1,
             "#f0f921"
            ]
           ]
          },
          "colorway": [
           "#636efa",
           "#EF553B",
           "#00cc96",
           "#ab63fa",
           "#FFA15A",
           "#19d3f3",
           "#FF6692",
           "#B6E880",
           "#FF97FF",
           "#FECB52"
          ],
          "font": {
           "color": "#2a3f5f"
          },
          "geo": {
           "bgcolor": "white",
           "lakecolor": "white",
           "landcolor": "#E5ECF6",
           "showlakes": true,
           "showland": true,
           "subunitcolor": "white"
          },
          "hoverlabel": {
           "align": "left"
          },
          "hovermode": "closest",
          "mapbox": {
           "style": "light"
          },
          "paper_bgcolor": "white",
          "plot_bgcolor": "#E5ECF6",
          "polar": {
           "angularaxis": {
            "gridcolor": "white",
            "linecolor": "white",
            "ticks": ""
           },
           "bgcolor": "#E5ECF6",
           "radialaxis": {
            "gridcolor": "white",
            "linecolor": "white",
            "ticks": ""
           }
          },
          "scene": {
           "xaxis": {
            "backgroundcolor": "#E5ECF6",
            "gridcolor": "white",
            "gridwidth": 2,
            "linecolor": "white",
            "showbackground": true,
            "ticks": "",
            "zerolinecolor": "white"
           },
           "yaxis": {
            "backgroundcolor": "#E5ECF6",
            "gridcolor": "white",
            "gridwidth": 2,
            "linecolor": "white",
            "showbackground": true,
            "ticks": "",
            "zerolinecolor": "white"
           },
           "zaxis": {
            "backgroundcolor": "#E5ECF6",
            "gridcolor": "white",
            "gridwidth": 2,
            "linecolor": "white",
            "showbackground": true,
            "ticks": "",
            "zerolinecolor": "white"
           }
          },
          "shapedefaults": {
           "line": {
            "color": "#2a3f5f"
           }
          },
          "ternary": {
           "aaxis": {
            "gridcolor": "white",
            "linecolor": "white",
            "ticks": ""
           },
           "baxis": {
            "gridcolor": "white",
            "linecolor": "white",
            "ticks": ""
           },
           "bgcolor": "#E5ECF6",
           "caxis": {
            "gridcolor": "white",
            "linecolor": "white",
            "ticks": ""
           }
          },
          "title": {
           "x": 0.05
          },
          "xaxis": {
           "automargin": true,
           "gridcolor": "white",
           "linecolor": "white",
           "ticks": "",
           "title": {
            "standoff": 15
           },
           "zerolinecolor": "white",
           "zerolinewidth": 2
          },
          "yaxis": {
           "automargin": true,
           "gridcolor": "white",
           "linecolor": "white",
           "ticks": "",
           "title": {
            "standoff": 15
           },
           "zerolinecolor": "white",
           "zerolinewidth": 2
          }
         }
        },
        "title": {
         "text": "Krajiny, z ktorých sa predalo najviac balení 2019"
        },
        "xaxis": {
         "anchor": "y",
         "domain": [
          0,
          1
         ],
         "title": {
          "text": ""
         }
        },
        "yaxis": {
         "anchor": "x",
         "domain": [
          0,
          1
         ],
         "title": {
          "text": "Počet balení"
         }
        }
       }
      }
     },
     "metadata": {}
    }
   ],
   "source": [
    "px.bar(table2019stat.head(10), x='STAT_popis', y='Počet balení', title='Krajiny, z ktorých sa predalo najviac balení 2019', color_discrete_sequence=[modra],labels={'STAT_popis': ''})"
   ]
  },
  {
   "cell_type": "code",
   "execution_count": 16,
   "metadata": {},
   "outputs": [
    {
     "output_type": "display_data",
     "data": {
      "text/plain": "            STAT_popis  number\n19             Nemecko    4947\n31               Česko    4904\n26           Slovensko    4444\n5           Francúzsko    3268\n27           Slovinsko    3010\n32               ĺrsko    1492\n8            Holandsko    1390\n17            Maďarsko    1248\n24             Rakúsko    1156\n0             Belgicko     989\n23              Poľsko     972\n10              Island     740\n3               Cyprus     718\n4               Dánsko     433\n6               Fínsko     430\n20     Nešpecifikované     401\n35             Švédsko     394\n30           Taliansko     366\n33          Španielsko     309\n15         Luxembursko     165\n22         Portugalsko     144\n28  Spojené kráľovstvo     122\n14            Lotyšsko      54\n21              Nórsko      54\n7               Grécko      46\n34         Švajčiarsko      23\n2           Chorvátsko      20\n1            Bulharsko      18\n13               Litva      15\n16               Malta      14\n9                India       5\n18              Monako       4\n25            Singapur       4\n29  Spojené štáty, USA       2\n12              Kanada       1\n11              Izrael       1",
      "text/html": "<div>\n<style scoped>\n    .dataframe tbody tr th:only-of-type {\n        vertical-align: middle;\n    }\n\n    .dataframe tbody tr th {\n        vertical-align: top;\n    }\n\n    .dataframe thead th {\n        text-align: right;\n    }\n</style>\n<table border=\"1\" class=\"dataframe\">\n  <thead>\n    <tr style=\"text-align: right;\">\n      <th></th>\n      <th>STAT_popis</th>\n      <th>number</th>\n    </tr>\n  </thead>\n  <tbody>\n    <tr>\n      <th>19</th>\n      <td>Nemecko</td>\n      <td>4947</td>\n    </tr>\n    <tr>\n      <th>31</th>\n      <td>Česko</td>\n      <td>4904</td>\n    </tr>\n    <tr>\n      <th>26</th>\n      <td>Slovensko</td>\n      <td>4444</td>\n    </tr>\n    <tr>\n      <th>5</th>\n      <td>Francúzsko</td>\n      <td>3268</td>\n    </tr>\n    <tr>\n      <th>27</th>\n      <td>Slovinsko</td>\n      <td>3010</td>\n    </tr>\n    <tr>\n      <th>32</th>\n      <td>ĺrsko</td>\n      <td>1492</td>\n    </tr>\n    <tr>\n      <th>8</th>\n      <td>Holandsko</td>\n      <td>1390</td>\n    </tr>\n    <tr>\n      <th>17</th>\n      <td>Maďarsko</td>\n      <td>1248</td>\n    </tr>\n    <tr>\n      <th>24</th>\n      <td>Rakúsko</td>\n      <td>1156</td>\n    </tr>\n    <tr>\n      <th>0</th>\n      <td>Belgicko</td>\n      <td>989</td>\n    </tr>\n    <tr>\n      <th>23</th>\n      <td>Poľsko</td>\n      <td>972</td>\n    </tr>\n    <tr>\n      <th>10</th>\n      <td>Island</td>\n      <td>740</td>\n    </tr>\n    <tr>\n      <th>3</th>\n      <td>Cyprus</td>\n      <td>718</td>\n    </tr>\n    <tr>\n      <th>4</th>\n      <td>Dánsko</td>\n      <td>433</td>\n    </tr>\n    <tr>\n      <th>6</th>\n      <td>Fínsko</td>\n      <td>430</td>\n    </tr>\n    <tr>\n      <th>20</th>\n      <td>Nešpecifikované</td>\n      <td>401</td>\n    </tr>\n    <tr>\n      <th>35</th>\n      <td>Švédsko</td>\n      <td>394</td>\n    </tr>\n    <tr>\n      <th>30</th>\n      <td>Taliansko</td>\n      <td>366</td>\n    </tr>\n    <tr>\n      <th>33</th>\n      <td>Španielsko</td>\n      <td>309</td>\n    </tr>\n    <tr>\n      <th>15</th>\n      <td>Luxembursko</td>\n      <td>165</td>\n    </tr>\n    <tr>\n      <th>22</th>\n      <td>Portugalsko</td>\n      <td>144</td>\n    </tr>\n    <tr>\n      <th>28</th>\n      <td>Spojené kráľovstvo</td>\n      <td>122</td>\n    </tr>\n    <tr>\n      <th>14</th>\n      <td>Lotyšsko</td>\n      <td>54</td>\n    </tr>\n    <tr>\n      <th>21</th>\n      <td>Nórsko</td>\n      <td>54</td>\n    </tr>\n    <tr>\n      <th>7</th>\n      <td>Grécko</td>\n      <td>46</td>\n    </tr>\n    <tr>\n      <th>34</th>\n      <td>Švajčiarsko</td>\n      <td>23</td>\n    </tr>\n    <tr>\n      <th>2</th>\n      <td>Chorvátsko</td>\n      <td>20</td>\n    </tr>\n    <tr>\n      <th>1</th>\n      <td>Bulharsko</td>\n      <td>18</td>\n    </tr>\n    <tr>\n      <th>13</th>\n      <td>Litva</td>\n      <td>15</td>\n    </tr>\n    <tr>\n      <th>16</th>\n      <td>Malta</td>\n      <td>14</td>\n    </tr>\n    <tr>\n      <th>9</th>\n      <td>India</td>\n      <td>5</td>\n    </tr>\n    <tr>\n      <th>18</th>\n      <td>Monako</td>\n      <td>4</td>\n    </tr>\n    <tr>\n      <th>25</th>\n      <td>Singapur</td>\n      <td>4</td>\n    </tr>\n    <tr>\n      <th>29</th>\n      <td>Spojené štáty, USA</td>\n      <td>2</td>\n    </tr>\n    <tr>\n      <th>12</th>\n      <td>Kanada</td>\n      <td>1</td>\n    </tr>\n    <tr>\n      <th>11</th>\n      <td>Izrael</td>\n      <td>1</td>\n    </tr>\n  </tbody>\n</table>\n</div>"
     },
     "metadata": {}
    }
   ],
   "source": [
    "table2019tab2 = (table.loc[:,['STAT_popis', 'LIEK_KOD']]\n",
    "                    .query('STAT_popis != \"(prazdne)\"')\n",
    "                    .sort_values(by='STAT_popis'))\n",
    "table2019tab2['number'] = [1 for i in range(len(table2019tab2))]\n",
    "table2019tab2 = table2019tab2.groupby('STAT_popis').sum().reset_index().sort_values(by='number',ascending=False)\n",
    "\n",
    "display(table2019tab2)"
   ]
  },
  {
   "cell_type": "code",
   "execution_count": 17,
   "metadata": {},
   "outputs": [
    {
     "output_type": "display_data",
     "data": {
      "application/vnd.plotly.v1+json": {
       "config": {
        "plotlyServerURL": "https://plot.ly"
       },
       "data": [
        {
         "alignmentgroup": "True",
         "hovertemplate": "=%{x}<br>Počet liekov=%{y}<extra></extra>",
         "legendgroup": "",
         "marker": {
          "color": "#4B6AAB"
         },
         "name": "",
         "offsetgroup": "",
         "orientation": "v",
         "showlegend": false,
         "textposition": "auto",
         "type": "bar",
         "x": [
          "Nemecko",
          "Česko",
          "Slovensko",
          "Francúzsko",
          "Slovinsko",
          "ĺrsko",
          "Holandsko",
          "Maďarsko",
          "Rakúsko",
          "Belgicko"
         ],
         "xaxis": "x",
         "y": [
          4947,
          4904,
          4444,
          3268,
          3010,
          1492,
          1390,
          1248,
          1156,
          989
         ],
         "yaxis": "y"
        }
       ],
       "layout": {
        "barmode": "relative",
        "legend": {
         "tracegroupgap": 0
        },
        "template": {
         "data": {
          "bar": [
           {
            "error_x": {
             "color": "#2a3f5f"
            },
            "error_y": {
             "color": "#2a3f5f"
            },
            "marker": {
             "line": {
              "color": "#E5ECF6",
              "width": 0.5
             }
            },
            "type": "bar"
           }
          ],
          "barpolar": [
           {
            "marker": {
             "line": {
              "color": "#E5ECF6",
              "width": 0.5
             }
            },
            "type": "barpolar"
           }
          ],
          "carpet": [
           {
            "aaxis": {
             "endlinecolor": "#2a3f5f",
             "gridcolor": "white",
             "linecolor": "white",
             "minorgridcolor": "white",
             "startlinecolor": "#2a3f5f"
            },
            "baxis": {
             "endlinecolor": "#2a3f5f",
             "gridcolor": "white",
             "linecolor": "white",
             "minorgridcolor": "white",
             "startlinecolor": "#2a3f5f"
            },
            "type": "carpet"
           }
          ],
          "choropleth": [
           {
            "colorbar": {
             "outlinewidth": 0,
             "ticks": ""
            },
            "type": "choropleth"
           }
          ],
          "contour": [
           {
            "colorbar": {
             "outlinewidth": 0,
             "ticks": ""
            },
            "colorscale": [
             [
              0,
              "#0d0887"
             ],
             [
              0.1111111111111111,
              "#46039f"
             ],
             [
              0.2222222222222222,
              "#7201a8"
             ],
             [
              0.3333333333333333,
              "#9c179e"
             ],
             [
              0.4444444444444444,
              "#bd3786"
             ],
             [
              0.5555555555555556,
              "#d8576b"
             ],
             [
              0.6666666666666666,
              "#ed7953"
             ],
             [
              0.7777777777777778,
              "#fb9f3a"
             ],
             [
              0.8888888888888888,
              "#fdca26"
             ],
             [
              1,
              "#f0f921"
             ]
            ],
            "type": "contour"
           }
          ],
          "contourcarpet": [
           {
            "colorbar": {
             "outlinewidth": 0,
             "ticks": ""
            },
            "type": "contourcarpet"
           }
          ],
          "heatmap": [
           {
            "colorbar": {
             "outlinewidth": 0,
             "ticks": ""
            },
            "colorscale": [
             [
              0,
              "#0d0887"
             ],
             [
              0.1111111111111111,
              "#46039f"
             ],
             [
              0.2222222222222222,
              "#7201a8"
             ],
             [
              0.3333333333333333,
              "#9c179e"
             ],
             [
              0.4444444444444444,
              "#bd3786"
             ],
             [
              0.5555555555555556,
              "#d8576b"
             ],
             [
              0.6666666666666666,
              "#ed7953"
             ],
             [
              0.7777777777777778,
              "#fb9f3a"
             ],
             [
              0.8888888888888888,
              "#fdca26"
             ],
             [
              1,
              "#f0f921"
             ]
            ],
            "type": "heatmap"
           }
          ],
          "heatmapgl": [
           {
            "colorbar": {
             "outlinewidth": 0,
             "ticks": ""
            },
            "colorscale": [
             [
              0,
              "#0d0887"
             ],
             [
              0.1111111111111111,
              "#46039f"
             ],
             [
              0.2222222222222222,
              "#7201a8"
             ],
             [
              0.3333333333333333,
              "#9c179e"
             ],
             [
              0.4444444444444444,
              "#bd3786"
             ],
             [
              0.5555555555555556,
              "#d8576b"
             ],
             [
              0.6666666666666666,
              "#ed7953"
             ],
             [
              0.7777777777777778,
              "#fb9f3a"
             ],
             [
              0.8888888888888888,
              "#fdca26"
             ],
             [
              1,
              "#f0f921"
             ]
            ],
            "type": "heatmapgl"
           }
          ],
          "histogram": [
           {
            "marker": {
             "colorbar": {
              "outlinewidth": 0,
              "ticks": ""
             }
            },
            "type": "histogram"
           }
          ],
          "histogram2d": [
           {
            "colorbar": {
             "outlinewidth": 0,
             "ticks": ""
            },
            "colorscale": [
             [
              0,
              "#0d0887"
             ],
             [
              0.1111111111111111,
              "#46039f"
             ],
             [
              0.2222222222222222,
              "#7201a8"
             ],
             [
              0.3333333333333333,
              "#9c179e"
             ],
             [
              0.4444444444444444,
              "#bd3786"
             ],
             [
              0.5555555555555556,
              "#d8576b"
             ],
             [
              0.6666666666666666,
              "#ed7953"
             ],
             [
              0.7777777777777778,
              "#fb9f3a"
             ],
             [
              0.8888888888888888,
              "#fdca26"
             ],
             [
              1,
              "#f0f921"
             ]
            ],
            "type": "histogram2d"
           }
          ],
          "histogram2dcontour": [
           {
            "colorbar": {
             "outlinewidth": 0,
             "ticks": ""
            },
            "colorscale": [
             [
              0,
              "#0d0887"
             ],
             [
              0.1111111111111111,
              "#46039f"
             ],
             [
              0.2222222222222222,
              "#7201a8"
             ],
             [
              0.3333333333333333,
              "#9c179e"
             ],
             [
              0.4444444444444444,
              "#bd3786"
             ],
             [
              0.5555555555555556,
              "#d8576b"
             ],
             [
              0.6666666666666666,
              "#ed7953"
             ],
             [
              0.7777777777777778,
              "#fb9f3a"
             ],
             [
              0.8888888888888888,
              "#fdca26"
             ],
             [
              1,
              "#f0f921"
             ]
            ],
            "type": "histogram2dcontour"
           }
          ],
          "mesh3d": [
           {
            "colorbar": {
             "outlinewidth": 0,
             "ticks": ""
            },
            "type": "mesh3d"
           }
          ],
          "parcoords": [
           {
            "line": {
             "colorbar": {
              "outlinewidth": 0,
              "ticks": ""
             }
            },
            "type": "parcoords"
           }
          ],
          "pie": [
           {
            "automargin": true,
            "type": "pie"
           }
          ],
          "scatter": [
           {
            "marker": {
             "colorbar": {
              "outlinewidth": 0,
              "ticks": ""
             }
            },
            "type": "scatter"
           }
          ],
          "scatter3d": [
           {
            "line": {
             "colorbar": {
              "outlinewidth": 0,
              "ticks": ""
             }
            },
            "marker": {
             "colorbar": {
              "outlinewidth": 0,
              "ticks": ""
             }
            },
            "type": "scatter3d"
           }
          ],
          "scattercarpet": [
           {
            "marker": {
             "colorbar": {
              "outlinewidth": 0,
              "ticks": ""
             }
            },
            "type": "scattercarpet"
           }
          ],
          "scattergeo": [
           {
            "marker": {
             "colorbar": {
              "outlinewidth": 0,
              "ticks": ""
             }
            },
            "type": "scattergeo"
           }
          ],
          "scattergl": [
           {
            "marker": {
             "colorbar": {
              "outlinewidth": 0,
              "ticks": ""
             }
            },
            "type": "scattergl"
           }
          ],
          "scattermapbox": [
           {
            "marker": {
             "colorbar": {
              "outlinewidth": 0,
              "ticks": ""
             }
            },
            "type": "scattermapbox"
           }
          ],
          "scatterpolar": [
           {
            "marker": {
             "colorbar": {
              "outlinewidth": 0,
              "ticks": ""
             }
            },
            "type": "scatterpolar"
           }
          ],
          "scatterpolargl": [
           {
            "marker": {
             "colorbar": {
              "outlinewidth": 0,
              "ticks": ""
             }
            },
            "type": "scatterpolargl"
           }
          ],
          "scatterternary": [
           {
            "marker": {
             "colorbar": {
              "outlinewidth": 0,
              "ticks": ""
             }
            },
            "type": "scatterternary"
           }
          ],
          "surface": [
           {
            "colorbar": {
             "outlinewidth": 0,
             "ticks": ""
            },
            "colorscale": [
             [
              0,
              "#0d0887"
             ],
             [
              0.1111111111111111,
              "#46039f"
             ],
             [
              0.2222222222222222,
              "#7201a8"
             ],
             [
              0.3333333333333333,
              "#9c179e"
             ],
             [
              0.4444444444444444,
              "#bd3786"
             ],
             [
              0.5555555555555556,
              "#d8576b"
             ],
             [
              0.6666666666666666,
              "#ed7953"
             ],
             [
              0.7777777777777778,
              "#fb9f3a"
             ],
             [
              0.8888888888888888,
              "#fdca26"
             ],
             [
              1,
              "#f0f921"
             ]
            ],
            "type": "surface"
           }
          ],
          "table": [
           {
            "cells": {
             "fill": {
              "color": "#EBF0F8"
             },
             "line": {
              "color": "white"
             }
            },
            "header": {
             "fill": {
              "color": "#C8D4E3"
             },
             "line": {
              "color": "white"
             }
            },
            "type": "table"
           }
          ]
         },
         "layout": {
          "annotationdefaults": {
           "arrowcolor": "#2a3f5f",
           "arrowhead": 0,
           "arrowwidth": 1
          },
          "autotypenumbers": "strict",
          "coloraxis": {
           "colorbar": {
            "outlinewidth": 0,
            "ticks": ""
           }
          },
          "colorscale": {
           "diverging": [
            [
             0,
             "#8e0152"
            ],
            [
             0.1,
             "#c51b7d"
            ],
            [
             0.2,
             "#de77ae"
            ],
            [
             0.3,
             "#f1b6da"
            ],
            [
             0.4,
             "#fde0ef"
            ],
            [
             0.5,
             "#f7f7f7"
            ],
            [
             0.6,
             "#e6f5d0"
            ],
            [
             0.7,
             "#b8e186"
            ],
            [
             0.8,
             "#7fbc41"
            ],
            [
             0.9,
             "#4d9221"
            ],
            [
             1,
             "#276419"
            ]
           ],
           "sequential": [
            [
             0,
             "#0d0887"
            ],
            [
             0.1111111111111111,
             "#46039f"
            ],
            [
             0.2222222222222222,
             "#7201a8"
            ],
            [
             0.3333333333333333,
             "#9c179e"
            ],
            [
             0.4444444444444444,
             "#bd3786"
            ],
            [
             0.5555555555555556,
             "#d8576b"
            ],
            [
             0.6666666666666666,
             "#ed7953"
            ],
            [
             0.7777777777777778,
             "#fb9f3a"
            ],
            [
             0.8888888888888888,
             "#fdca26"
            ],
            [
             1,
             "#f0f921"
            ]
           ],
           "sequentialminus": [
            [
             0,
             "#0d0887"
            ],
            [
             0.1111111111111111,
             "#46039f"
            ],
            [
             0.2222222222222222,
             "#7201a8"
            ],
            [
             0.3333333333333333,
             "#9c179e"
            ],
            [
             0.4444444444444444,
             "#bd3786"
            ],
            [
             0.5555555555555556,
             "#d8576b"
            ],
            [
             0.6666666666666666,
             "#ed7953"
            ],
            [
             0.7777777777777778,
             "#fb9f3a"
            ],
            [
             0.8888888888888888,
             "#fdca26"
            ],
            [
             1,
             "#f0f921"
            ]
           ]
          },
          "colorway": [
           "#636efa",
           "#EF553B",
           "#00cc96",
           "#ab63fa",
           "#FFA15A",
           "#19d3f3",
           "#FF6692",
           "#B6E880",
           "#FF97FF",
           "#FECB52"
          ],
          "font": {
           "color": "#2a3f5f"
          },
          "geo": {
           "bgcolor": "white",
           "lakecolor": "white",
           "landcolor": "#E5ECF6",
           "showlakes": true,
           "showland": true,
           "subunitcolor": "white"
          },
          "hoverlabel": {
           "align": "left"
          },
          "hovermode": "closest",
          "mapbox": {
           "style": "light"
          },
          "paper_bgcolor": "white",
          "plot_bgcolor": "#E5ECF6",
          "polar": {
           "angularaxis": {
            "gridcolor": "white",
            "linecolor": "white",
            "ticks": ""
           },
           "bgcolor": "#E5ECF6",
           "radialaxis": {
            "gridcolor": "white",
            "linecolor": "white",
            "ticks": ""
           }
          },
          "scene": {
           "xaxis": {
            "backgroundcolor": "#E5ECF6",
            "gridcolor": "white",
            "gridwidth": 2,
            "linecolor": "white",
            "showbackground": true,
            "ticks": "",
            "zerolinecolor": "white"
           },
           "yaxis": {
            "backgroundcolor": "#E5ECF6",
            "gridcolor": "white",
            "gridwidth": 2,
            "linecolor": "white",
            "showbackground": true,
            "ticks": "",
            "zerolinecolor": "white"
           },
           "zaxis": {
            "backgroundcolor": "#E5ECF6",
            "gridcolor": "white",
            "gridwidth": 2,
            "linecolor": "white",
            "showbackground": true,
            "ticks": "",
            "zerolinecolor": "white"
           }
          },
          "shapedefaults": {
           "line": {
            "color": "#2a3f5f"
           }
          },
          "ternary": {
           "aaxis": {
            "gridcolor": "white",
            "linecolor": "white",
            "ticks": ""
           },
           "baxis": {
            "gridcolor": "white",
            "linecolor": "white",
            "ticks": ""
           },
           "bgcolor": "#E5ECF6",
           "caxis": {
            "gridcolor": "white",
            "linecolor": "white",
            "ticks": ""
           }
          },
          "title": {
           "x": 0.05
          },
          "xaxis": {
           "automargin": true,
           "gridcolor": "white",
           "linecolor": "white",
           "ticks": "",
           "title": {
            "standoff": 15
           },
           "zerolinecolor": "white",
           "zerolinewidth": 2
          },
          "yaxis": {
           "automargin": true,
           "gridcolor": "white",
           "linecolor": "white",
           "ticks": "",
           "title": {
            "standoff": 15
           },
           "zerolinecolor": "white",
           "zerolinewidth": 2
          }
         }
        },
        "title": {
         "text": "Krajiny s najväčším podielom liekov na trhu 2019"
        },
        "xaxis": {
         "anchor": "y",
         "domain": [
          0,
          1
         ],
         "title": {
          "text": ""
         }
        },
        "yaxis": {
         "anchor": "x",
         "domain": [
          0,
          1
         ],
         "title": {
          "text": "Počet liekov"
         }
        }
       }
      }
     },
     "metadata": {}
    }
   ],
   "source": [
    "px.bar(table2019tab2.head(10), x='STAT_popis', y='number', title='Krajiny s najväčším podielom liekov na trhu 2019', color_discrete_sequence=[modra],labels={'STAT_popis': '', 'number':'Počet liekov'})"
   ]
  },
  {
   "source": [
    "## Z ktorych krajin su lieky najviac predavane? (2020)"
   ],
   "cell_type": "markdown",
   "metadata": {}
  },
  {
   "cell_type": "code",
   "execution_count": 18,
   "metadata": {},
   "outputs": [
    {
     "output_type": "display_data",
     "data": {
      "text/plain": "            STAT_popis  Počet balení\n27           Slovensko  3.548566e+07\n33               Česko  2.626388e+07\n20             Nemecko  1.867719e+07\n9            Holandsko  1.600156e+07\n28           Slovinsko  1.138933e+07\n6           Francúzsko  7.346059e+06\n34               ĺrsko  6.027213e+06\n17            Maďarsko  5.813011e+06\n31           Taliansko  4.245644e+06\n21     Nešpecifikované  3.013524e+06\n24              Poľsko  2.700732e+06\n25             Rakúsko  2.339565e+06\n4               Cyprus  1.548349e+06\n11              Island  1.466907e+06\n5               Dánsko  1.304213e+06\n1             Belgicko  1.177329e+06\n15         Luxembursko  9.454438e+05\n37             Švédsko  6.443379e+05\n23         Portugalsko  6.189609e+05\n7               Fínsko  5.087154e+05\n35          Španielsko  3.690929e+05\n2            Bulharsko  1.097265e+05\n14            Lotyšsko  9.120210e+04\n0            (prázdne)  9.079471e+04\n3           Chorvátsko  1.301700e+04\n22              Nórsko  1.290500e+04\n29  Spojené kráľovstvo  5.612130e+03\n8               Grécko  1.603167e+03\n19           NEUVEDENÉ  1.141340e+03\n36         Švajčiarsko  9.046000e+02\n16               Malta  1.380000e+02\n13               Litva  1.100000e+02\n26            Singapur  7.600000e+01\n12           Jordánsko  5.400000e+01\n10               India  5.000000e+00\n18              Monako  3.000000e+00\n32             Turecko  3.000000e+00\n30  Spojené štáty, USA  2.000000e+00",
      "text/html": "<div>\n<style scoped>\n    .dataframe tbody tr th:only-of-type {\n        vertical-align: middle;\n    }\n\n    .dataframe tbody tr th {\n        vertical-align: top;\n    }\n\n    .dataframe thead th {\n        text-align: right;\n    }\n</style>\n<table border=\"1\" class=\"dataframe\">\n  <thead>\n    <tr style=\"text-align: right;\">\n      <th></th>\n      <th>STAT_popis</th>\n      <th>Počet balení</th>\n    </tr>\n  </thead>\n  <tbody>\n    <tr>\n      <th>27</th>\n      <td>Slovensko</td>\n      <td>3.548566e+07</td>\n    </tr>\n    <tr>\n      <th>33</th>\n      <td>Česko</td>\n      <td>2.626388e+07</td>\n    </tr>\n    <tr>\n      <th>20</th>\n      <td>Nemecko</td>\n      <td>1.867719e+07</td>\n    </tr>\n    <tr>\n      <th>9</th>\n      <td>Holandsko</td>\n      <td>1.600156e+07</td>\n    </tr>\n    <tr>\n      <th>28</th>\n      <td>Slovinsko</td>\n      <td>1.138933e+07</td>\n    </tr>\n    <tr>\n      <th>6</th>\n      <td>Francúzsko</td>\n      <td>7.346059e+06</td>\n    </tr>\n    <tr>\n      <th>34</th>\n      <td>ĺrsko</td>\n      <td>6.027213e+06</td>\n    </tr>\n    <tr>\n      <th>17</th>\n      <td>Maďarsko</td>\n      <td>5.813011e+06</td>\n    </tr>\n    <tr>\n      <th>31</th>\n      <td>Taliansko</td>\n      <td>4.245644e+06</td>\n    </tr>\n    <tr>\n      <th>21</th>\n      <td>Nešpecifikované</td>\n      <td>3.013524e+06</td>\n    </tr>\n    <tr>\n      <th>24</th>\n      <td>Poľsko</td>\n      <td>2.700732e+06</td>\n    </tr>\n    <tr>\n      <th>25</th>\n      <td>Rakúsko</td>\n      <td>2.339565e+06</td>\n    </tr>\n    <tr>\n      <th>4</th>\n      <td>Cyprus</td>\n      <td>1.548349e+06</td>\n    </tr>\n    <tr>\n      <th>11</th>\n      <td>Island</td>\n      <td>1.466907e+06</td>\n    </tr>\n    <tr>\n      <th>5</th>\n      <td>Dánsko</td>\n      <td>1.304213e+06</td>\n    </tr>\n    <tr>\n      <th>1</th>\n      <td>Belgicko</td>\n      <td>1.177329e+06</td>\n    </tr>\n    <tr>\n      <th>15</th>\n      <td>Luxembursko</td>\n      <td>9.454438e+05</td>\n    </tr>\n    <tr>\n      <th>37</th>\n      <td>Švédsko</td>\n      <td>6.443379e+05</td>\n    </tr>\n    <tr>\n      <th>23</th>\n      <td>Portugalsko</td>\n      <td>6.189609e+05</td>\n    </tr>\n    <tr>\n      <th>7</th>\n      <td>Fínsko</td>\n      <td>5.087154e+05</td>\n    </tr>\n    <tr>\n      <th>35</th>\n      <td>Španielsko</td>\n      <td>3.690929e+05</td>\n    </tr>\n    <tr>\n      <th>2</th>\n      <td>Bulharsko</td>\n      <td>1.097265e+05</td>\n    </tr>\n    <tr>\n      <th>14</th>\n      <td>Lotyšsko</td>\n      <td>9.120210e+04</td>\n    </tr>\n    <tr>\n      <th>0</th>\n      <td>(prázdne)</td>\n      <td>9.079471e+04</td>\n    </tr>\n    <tr>\n      <th>3</th>\n      <td>Chorvátsko</td>\n      <td>1.301700e+04</td>\n    </tr>\n    <tr>\n      <th>22</th>\n      <td>Nórsko</td>\n      <td>1.290500e+04</td>\n    </tr>\n    <tr>\n      <th>29</th>\n      <td>Spojené kráľovstvo</td>\n      <td>5.612130e+03</td>\n    </tr>\n    <tr>\n      <th>8</th>\n      <td>Grécko</td>\n      <td>1.603167e+03</td>\n    </tr>\n    <tr>\n      <th>19</th>\n      <td>NEUVEDENÉ</td>\n      <td>1.141340e+03</td>\n    </tr>\n    <tr>\n      <th>36</th>\n      <td>Švajčiarsko</td>\n      <td>9.046000e+02</td>\n    </tr>\n    <tr>\n      <th>16</th>\n      <td>Malta</td>\n      <td>1.380000e+02</td>\n    </tr>\n    <tr>\n      <th>13</th>\n      <td>Litva</td>\n      <td>1.100000e+02</td>\n    </tr>\n    <tr>\n      <th>26</th>\n      <td>Singapur</td>\n      <td>7.600000e+01</td>\n    </tr>\n    <tr>\n      <th>12</th>\n      <td>Jordánsko</td>\n      <td>5.400000e+01</td>\n    </tr>\n    <tr>\n      <th>10</th>\n      <td>India</td>\n      <td>5.000000e+00</td>\n    </tr>\n    <tr>\n      <th>18</th>\n      <td>Monako</td>\n      <td>3.000000e+00</td>\n    </tr>\n    <tr>\n      <th>32</th>\n      <td>Turecko</td>\n      <td>3.000000e+00</td>\n    </tr>\n    <tr>\n      <th>30</th>\n      <td>Spojené štáty, USA</td>\n      <td>2.000000e+00</td>\n    </tr>\n  </tbody>\n</table>\n</div>"
     },
     "metadata": {}
    }
   ],
   "source": [
    "table2020Q1 = import_table('detailed', 2020)['Q1']\n",
    "table2020Q2 = import_table('detailed', 2020)['Q2']\n",
    "table2020Q3 = import_table('detailed', 2020)['Q3']\n",
    "table2020Q4 = import_table('detailed', 2020)['Q4']\n",
    "\n",
    "tableQ1 = (table2020Q1.loc[:,['STAT_popis', 'VYROBCA_popis', 'Počet balení']]\n",
    "                    .query('STAT_popis != \"(prazdne)\"')\n",
    "                    .groupby(['STAT_popis'])\n",
    "                    .sum()\n",
    "                    .reset_index()\n",
    "                    .sort_values(by='Počet balení',ascending=False))\n",
    "\n",
    "tableQ2 = (table2020Q2.loc[:,['STAT_popis', 'VYROBCA_popis', 'Počet balení']]\n",
    "                    .query('STAT_popis != \"(prazdne)\"')\n",
    "                    .groupby(['STAT_popis'])\n",
    "                    .sum()\n",
    "                    .reset_index()\n",
    "                    .sort_values(by='Počet balení',ascending=False))\n",
    "\n",
    "tableQ3 = (table2020Q3.loc[:,['STAT_popis', 'VYROBCA_popis', 'Počet balení']]\n",
    "                    .query('STAT_popis != \"(prazdne)\"')\n",
    "                    .groupby(['STAT_popis'])\n",
    "                    .sum()\n",
    "                    .reset_index()\n",
    "                    .sort_values(by='Počet balení',ascending=False))\n",
    "\n",
    "tableQ4 = (table2020Q4.loc[:,['STAT_popis', 'VYROBCA_popis', 'Počet balení']]\n",
    "                    .query('STAT_popis != \"(prazdne)\"')\n",
    "                    .groupby(['STAT_popis'])\n",
    "                    .sum()\n",
    "                    .reset_index()\n",
    "                    .sort_values(by='Počet balení',ascending=False))\n",
    "                    \n",
    "table2020 = tableQ1.append(tableQ2).append(tableQ3).append(tableQ4)\n",
    "table2020 = table2020.groupby('STAT_popis').sum().reset_index().sort_values(by='Počet balení', ascending=False)\n",
    "display(table2020)"
   ]
  },
  {
   "cell_type": "code",
   "execution_count": 19,
   "metadata": {},
   "outputs": [
    {
     "output_type": "display_data",
     "data": {
      "application/vnd.plotly.v1+json": {
       "config": {
        "plotlyServerURL": "https://plot.ly"
       },
       "data": [
        {
         "alignmentgroup": "True",
         "hovertemplate": "=%{x}<br>Počet balení=%{y}<extra></extra>",
         "legendgroup": "",
         "marker": {
          "color": "#4B6AAB"
         },
         "name": "",
         "offsetgroup": "",
         "orientation": "v",
         "showlegend": false,
         "textposition": "auto",
         "type": "bar",
         "x": [
          "Slovensko",
          "Česko",
          "Nemecko",
          "Holandsko",
          "Slovinsko",
          "Francúzsko",
          "ĺrsko",
          "Maďarsko",
          "Taliansko",
          "Nešpecifikované"
         ],
         "xaxis": "x",
         "y": [
          35485658.643,
          26263877.00500001,
          18677191.192,
          16001559.431,
          11389332.762000002,
          7346059.496000004,
          6027213.011,
          5813010.96,
          4245643.907,
          3013523.511
         ],
         "yaxis": "y"
        }
       ],
       "layout": {
        "barmode": "relative",
        "legend": {
         "tracegroupgap": 0
        },
        "template": {
         "data": {
          "bar": [
           {
            "error_x": {
             "color": "#2a3f5f"
            },
            "error_y": {
             "color": "#2a3f5f"
            },
            "marker": {
             "line": {
              "color": "#E5ECF6",
              "width": 0.5
             }
            },
            "type": "bar"
           }
          ],
          "barpolar": [
           {
            "marker": {
             "line": {
              "color": "#E5ECF6",
              "width": 0.5
             }
            },
            "type": "barpolar"
           }
          ],
          "carpet": [
           {
            "aaxis": {
             "endlinecolor": "#2a3f5f",
             "gridcolor": "white",
             "linecolor": "white",
             "minorgridcolor": "white",
             "startlinecolor": "#2a3f5f"
            },
            "baxis": {
             "endlinecolor": "#2a3f5f",
             "gridcolor": "white",
             "linecolor": "white",
             "minorgridcolor": "white",
             "startlinecolor": "#2a3f5f"
            },
            "type": "carpet"
           }
          ],
          "choropleth": [
           {
            "colorbar": {
             "outlinewidth": 0,
             "ticks": ""
            },
            "type": "choropleth"
           }
          ],
          "contour": [
           {
            "colorbar": {
             "outlinewidth": 0,
             "ticks": ""
            },
            "colorscale": [
             [
              0,
              "#0d0887"
             ],
             [
              0.1111111111111111,
              "#46039f"
             ],
             [
              0.2222222222222222,
              "#7201a8"
             ],
             [
              0.3333333333333333,
              "#9c179e"
             ],
             [
              0.4444444444444444,
              "#bd3786"
             ],
             [
              0.5555555555555556,
              "#d8576b"
             ],
             [
              0.6666666666666666,
              "#ed7953"
             ],
             [
              0.7777777777777778,
              "#fb9f3a"
             ],
             [
              0.8888888888888888,
              "#fdca26"
             ],
             [
              1,
              "#f0f921"
             ]
            ],
            "type": "contour"
           }
          ],
          "contourcarpet": [
           {
            "colorbar": {
             "outlinewidth": 0,
             "ticks": ""
            },
            "type": "contourcarpet"
           }
          ],
          "heatmap": [
           {
            "colorbar": {
             "outlinewidth": 0,
             "ticks": ""
            },
            "colorscale": [
             [
              0,
              "#0d0887"
             ],
             [
              0.1111111111111111,
              "#46039f"
             ],
             [
              0.2222222222222222,
              "#7201a8"
             ],
             [
              0.3333333333333333,
              "#9c179e"
             ],
             [
              0.4444444444444444,
              "#bd3786"
             ],
             [
              0.5555555555555556,
              "#d8576b"
             ],
             [
              0.6666666666666666,
              "#ed7953"
             ],
             [
              0.7777777777777778,
              "#fb9f3a"
             ],
             [
              0.8888888888888888,
              "#fdca26"
             ],
             [
              1,
              "#f0f921"
             ]
            ],
            "type": "heatmap"
           }
          ],
          "heatmapgl": [
           {
            "colorbar": {
             "outlinewidth": 0,
             "ticks": ""
            },
            "colorscale": [
             [
              0,
              "#0d0887"
             ],
             [
              0.1111111111111111,
              "#46039f"
             ],
             [
              0.2222222222222222,
              "#7201a8"
             ],
             [
              0.3333333333333333,
              "#9c179e"
             ],
             [
              0.4444444444444444,
              "#bd3786"
             ],
             [
              0.5555555555555556,
              "#d8576b"
             ],
             [
              0.6666666666666666,
              "#ed7953"
             ],
             [
              0.7777777777777778,
              "#fb9f3a"
             ],
             [
              0.8888888888888888,
              "#fdca26"
             ],
             [
              1,
              "#f0f921"
             ]
            ],
            "type": "heatmapgl"
           }
          ],
          "histogram": [
           {
            "marker": {
             "colorbar": {
              "outlinewidth": 0,
              "ticks": ""
             }
            },
            "type": "histogram"
           }
          ],
          "histogram2d": [
           {
            "colorbar": {
             "outlinewidth": 0,
             "ticks": ""
            },
            "colorscale": [
             [
              0,
              "#0d0887"
             ],
             [
              0.1111111111111111,
              "#46039f"
             ],
             [
              0.2222222222222222,
              "#7201a8"
             ],
             [
              0.3333333333333333,
              "#9c179e"
             ],
             [
              0.4444444444444444,
              "#bd3786"
             ],
             [
              0.5555555555555556,
              "#d8576b"
             ],
             [
              0.6666666666666666,
              "#ed7953"
             ],
             [
              0.7777777777777778,
              "#fb9f3a"
             ],
             [
              0.8888888888888888,
              "#fdca26"
             ],
             [
              1,
              "#f0f921"
             ]
            ],
            "type": "histogram2d"
           }
          ],
          "histogram2dcontour": [
           {
            "colorbar": {
             "outlinewidth": 0,
             "ticks": ""
            },
            "colorscale": [
             [
              0,
              "#0d0887"
             ],
             [
              0.1111111111111111,
              "#46039f"
             ],
             [
              0.2222222222222222,
              "#7201a8"
             ],
             [
              0.3333333333333333,
              "#9c179e"
             ],
             [
              0.4444444444444444,
              "#bd3786"
             ],
             [
              0.5555555555555556,
              "#d8576b"
             ],
             [
              0.6666666666666666,
              "#ed7953"
             ],
             [
              0.7777777777777778,
              "#fb9f3a"
             ],
             [
              0.8888888888888888,
              "#fdca26"
             ],
             [
              1,
              "#f0f921"
             ]
            ],
            "type": "histogram2dcontour"
           }
          ],
          "mesh3d": [
           {
            "colorbar": {
             "outlinewidth": 0,
             "ticks": ""
            },
            "type": "mesh3d"
           }
          ],
          "parcoords": [
           {
            "line": {
             "colorbar": {
              "outlinewidth": 0,
              "ticks": ""
             }
            },
            "type": "parcoords"
           }
          ],
          "pie": [
           {
            "automargin": true,
            "type": "pie"
           }
          ],
          "scatter": [
           {
            "marker": {
             "colorbar": {
              "outlinewidth": 0,
              "ticks": ""
             }
            },
            "type": "scatter"
           }
          ],
          "scatter3d": [
           {
            "line": {
             "colorbar": {
              "outlinewidth": 0,
              "ticks": ""
             }
            },
            "marker": {
             "colorbar": {
              "outlinewidth": 0,
              "ticks": ""
             }
            },
            "type": "scatter3d"
           }
          ],
          "scattercarpet": [
           {
            "marker": {
             "colorbar": {
              "outlinewidth": 0,
              "ticks": ""
             }
            },
            "type": "scattercarpet"
           }
          ],
          "scattergeo": [
           {
            "marker": {
             "colorbar": {
              "outlinewidth": 0,
              "ticks": ""
             }
            },
            "type": "scattergeo"
           }
          ],
          "scattergl": [
           {
            "marker": {
             "colorbar": {
              "outlinewidth": 0,
              "ticks": ""
             }
            },
            "type": "scattergl"
           }
          ],
          "scattermapbox": [
           {
            "marker": {
             "colorbar": {
              "outlinewidth": 0,
              "ticks": ""
             }
            },
            "type": "scattermapbox"
           }
          ],
          "scatterpolar": [
           {
            "marker": {
             "colorbar": {
              "outlinewidth": 0,
              "ticks": ""
             }
            },
            "type": "scatterpolar"
           }
          ],
          "scatterpolargl": [
           {
            "marker": {
             "colorbar": {
              "outlinewidth": 0,
              "ticks": ""
             }
            },
            "type": "scatterpolargl"
           }
          ],
          "scatterternary": [
           {
            "marker": {
             "colorbar": {
              "outlinewidth": 0,
              "ticks": ""
             }
            },
            "type": "scatterternary"
           }
          ],
          "surface": [
           {
            "colorbar": {
             "outlinewidth": 0,
             "ticks": ""
            },
            "colorscale": [
             [
              0,
              "#0d0887"
             ],
             [
              0.1111111111111111,
              "#46039f"
             ],
             [
              0.2222222222222222,
              "#7201a8"
             ],
             [
              0.3333333333333333,
              "#9c179e"
             ],
             [
              0.4444444444444444,
              "#bd3786"
             ],
             [
              0.5555555555555556,
              "#d8576b"
             ],
             [
              0.6666666666666666,
              "#ed7953"
             ],
             [
              0.7777777777777778,
              "#fb9f3a"
             ],
             [
              0.8888888888888888,
              "#fdca26"
             ],
             [
              1,
              "#f0f921"
             ]
            ],
            "type": "surface"
           }
          ],
          "table": [
           {
            "cells": {
             "fill": {
              "color": "#EBF0F8"
             },
             "line": {
              "color": "white"
             }
            },
            "header": {
             "fill": {
              "color": "#C8D4E3"
             },
             "line": {
              "color": "white"
             }
            },
            "type": "table"
           }
          ]
         },
         "layout": {
          "annotationdefaults": {
           "arrowcolor": "#2a3f5f",
           "arrowhead": 0,
           "arrowwidth": 1
          },
          "autotypenumbers": "strict",
          "coloraxis": {
           "colorbar": {
            "outlinewidth": 0,
            "ticks": ""
           }
          },
          "colorscale": {
           "diverging": [
            [
             0,
             "#8e0152"
            ],
            [
             0.1,
             "#c51b7d"
            ],
            [
             0.2,
             "#de77ae"
            ],
            [
             0.3,
             "#f1b6da"
            ],
            [
             0.4,
             "#fde0ef"
            ],
            [
             0.5,
             "#f7f7f7"
            ],
            [
             0.6,
             "#e6f5d0"
            ],
            [
             0.7,
             "#b8e186"
            ],
            [
             0.8,
             "#7fbc41"
            ],
            [
             0.9,
             "#4d9221"
            ],
            [
             1,
             "#276419"
            ]
           ],
           "sequential": [
            [
             0,
             "#0d0887"
            ],
            [
             0.1111111111111111,
             "#46039f"
            ],
            [
             0.2222222222222222,
             "#7201a8"
            ],
            [
             0.3333333333333333,
             "#9c179e"
            ],
            [
             0.4444444444444444,
             "#bd3786"
            ],
            [
             0.5555555555555556,
             "#d8576b"
            ],
            [
             0.6666666666666666,
             "#ed7953"
            ],
            [
             0.7777777777777778,
             "#fb9f3a"
            ],
            [
             0.8888888888888888,
             "#fdca26"
            ],
            [
             1,
             "#f0f921"
            ]
           ],
           "sequentialminus": [
            [
             0,
             "#0d0887"
            ],
            [
             0.1111111111111111,
             "#46039f"
            ],
            [
             0.2222222222222222,
             "#7201a8"
            ],
            [
             0.3333333333333333,
             "#9c179e"
            ],
            [
             0.4444444444444444,
             "#bd3786"
            ],
            [
             0.5555555555555556,
             "#d8576b"
            ],
            [
             0.6666666666666666,
             "#ed7953"
            ],
            [
             0.7777777777777778,
             "#fb9f3a"
            ],
            [
             0.8888888888888888,
             "#fdca26"
            ],
            [
             1,
             "#f0f921"
            ]
           ]
          },
          "colorway": [
           "#636efa",
           "#EF553B",
           "#00cc96",
           "#ab63fa",
           "#FFA15A",
           "#19d3f3",
           "#FF6692",
           "#B6E880",
           "#FF97FF",
           "#FECB52"
          ],
          "font": {
           "color": "#2a3f5f"
          },
          "geo": {
           "bgcolor": "white",
           "lakecolor": "white",
           "landcolor": "#E5ECF6",
           "showlakes": true,
           "showland": true,
           "subunitcolor": "white"
          },
          "hoverlabel": {
           "align": "left"
          },
          "hovermode": "closest",
          "mapbox": {
           "style": "light"
          },
          "paper_bgcolor": "white",
          "plot_bgcolor": "#E5ECF6",
          "polar": {
           "angularaxis": {
            "gridcolor": "white",
            "linecolor": "white",
            "ticks": ""
           },
           "bgcolor": "#E5ECF6",
           "radialaxis": {
            "gridcolor": "white",
            "linecolor": "white",
            "ticks": ""
           }
          },
          "scene": {
           "xaxis": {
            "backgroundcolor": "#E5ECF6",
            "gridcolor": "white",
            "gridwidth": 2,
            "linecolor": "white",
            "showbackground": true,
            "ticks": "",
            "zerolinecolor": "white"
           },
           "yaxis": {
            "backgroundcolor": "#E5ECF6",
            "gridcolor": "white",
            "gridwidth": 2,
            "linecolor": "white",
            "showbackground": true,
            "ticks": "",
            "zerolinecolor": "white"
           },
           "zaxis": {
            "backgroundcolor": "#E5ECF6",
            "gridcolor": "white",
            "gridwidth": 2,
            "linecolor": "white",
            "showbackground": true,
            "ticks": "",
            "zerolinecolor": "white"
           }
          },
          "shapedefaults": {
           "line": {
            "color": "#2a3f5f"
           }
          },
          "ternary": {
           "aaxis": {
            "gridcolor": "white",
            "linecolor": "white",
            "ticks": ""
           },
           "baxis": {
            "gridcolor": "white",
            "linecolor": "white",
            "ticks": ""
           },
           "bgcolor": "#E5ECF6",
           "caxis": {
            "gridcolor": "white",
            "linecolor": "white",
            "ticks": ""
           }
          },
          "title": {
           "x": 0.05
          },
          "xaxis": {
           "automargin": true,
           "gridcolor": "white",
           "linecolor": "white",
           "ticks": "",
           "title": {
            "standoff": 15
           },
           "zerolinecolor": "white",
           "zerolinewidth": 2
          },
          "yaxis": {
           "automargin": true,
           "gridcolor": "white",
           "linecolor": "white",
           "ticks": "",
           "title": {
            "standoff": 15
           },
           "zerolinecolor": "white",
           "zerolinewidth": 2
          }
         }
        },
        "title": {
         "text": "Krajiny, z ktorých sa predalo najviac balení 2020"
        },
        "xaxis": {
         "anchor": "y",
         "domain": [
          0,
          1
         ],
         "title": {
          "text": ""
         }
        },
        "yaxis": {
         "anchor": "x",
         "domain": [
          0,
          1
         ],
         "title": {
          "text": "Počet balení"
         }
        }
       }
      }
     },
     "metadata": {}
    }
   ],
   "source": [
    "px.bar(table2020.head(10), x='STAT_popis', y='Počet balení', title='Krajiny, z ktorých sa predalo najviac balení 2020', color_discrete_sequence=[modra], labels={'STAT_popis': ''})"
   ]
  },
  {
   "cell_type": "code",
   "execution_count": 22,
   "metadata": {},
   "outputs": [
    {
     "output_type": "display_data",
     "data": {
      "text/plain": "            STAT_popis  Počet balení  number\n20             Nemecko  1.867719e+07    5032\n33               Česko  2.626388e+07    4678\n6           Francúzsko  7.346059e+06    4058\n27           Slovensko  3.548566e+07    3994\n28           Slovinsko  1.138933e+07    2770\n9            Holandsko  1.600156e+07    1743\n34               ĺrsko  6.027213e+06    1606\n25             Rakúsko  2.339565e+06    1277\n17            Maďarsko  5.813011e+06    1135\n24              Poľsko  2.700732e+06    1055\n1             Belgicko  1.177329e+06     875\n21     Nešpecifikované  3.013524e+06     711\n4               Cyprus  1.548349e+06     646\n11              Island  1.466907e+06     633\n37             Švédsko  6.443379e+05     433\n7               Fínsko  5.087154e+05     412\n5               Dánsko  1.304213e+06     408\n35          Španielsko  3.690929e+05     361\n31           Taliansko  4.245644e+06     359\n29  Spojené kráľovstvo  5.612130e+03     215\n15         Luxembursko  9.454438e+05     148\n23         Portugalsko  6.189609e+05     110\n14            Lotyšsko  9.120210e+04      84\n22              Nórsko  1.290500e+04      76\n8               Grécko  1.603167e+03      74\n36         Švajčiarsko  9.046000e+02      45\n2            Bulharsko  1.097265e+05      41\n3           Chorvátsko  1.301700e+04      38\n19           NEUVEDENÉ  1.141340e+03      20\n13               Litva  1.100000e+02      17\n16               Malta  1.380000e+02      14\n26            Singapur  7.600000e+01      11\n0            (prázdne)  9.079471e+04       4\n12           Jordánsko  5.400000e+01       3\n10               India  5.000000e+00       3\n30  Spojené štáty, USA  2.000000e+00       2\n18              Monako  3.000000e+00       2\n32             Turecko  3.000000e+00       2",
      "text/html": "<div>\n<style scoped>\n    .dataframe tbody tr th:only-of-type {\n        vertical-align: middle;\n    }\n\n    .dataframe tbody tr th {\n        vertical-align: top;\n    }\n\n    .dataframe thead th {\n        text-align: right;\n    }\n</style>\n<table border=\"1\" class=\"dataframe\">\n  <thead>\n    <tr style=\"text-align: right;\">\n      <th></th>\n      <th>STAT_popis</th>\n      <th>Počet balení</th>\n      <th>number</th>\n    </tr>\n  </thead>\n  <tbody>\n    <tr>\n      <th>20</th>\n      <td>Nemecko</td>\n      <td>1.867719e+07</td>\n      <td>5032</td>\n    </tr>\n    <tr>\n      <th>33</th>\n      <td>Česko</td>\n      <td>2.626388e+07</td>\n      <td>4678</td>\n    </tr>\n    <tr>\n      <th>6</th>\n      <td>Francúzsko</td>\n      <td>7.346059e+06</td>\n      <td>4058</td>\n    </tr>\n    <tr>\n      <th>27</th>\n      <td>Slovensko</td>\n      <td>3.548566e+07</td>\n      <td>3994</td>\n    </tr>\n    <tr>\n      <th>28</th>\n      <td>Slovinsko</td>\n      <td>1.138933e+07</td>\n      <td>2770</td>\n    </tr>\n    <tr>\n      <th>9</th>\n      <td>Holandsko</td>\n      <td>1.600156e+07</td>\n      <td>1743</td>\n    </tr>\n    <tr>\n      <th>34</th>\n      <td>ĺrsko</td>\n      <td>6.027213e+06</td>\n      <td>1606</td>\n    </tr>\n    <tr>\n      <th>25</th>\n      <td>Rakúsko</td>\n      <td>2.339565e+06</td>\n      <td>1277</td>\n    </tr>\n    <tr>\n      <th>17</th>\n      <td>Maďarsko</td>\n      <td>5.813011e+06</td>\n      <td>1135</td>\n    </tr>\n    <tr>\n      <th>24</th>\n      <td>Poľsko</td>\n      <td>2.700732e+06</td>\n      <td>1055</td>\n    </tr>\n    <tr>\n      <th>1</th>\n      <td>Belgicko</td>\n      <td>1.177329e+06</td>\n      <td>875</td>\n    </tr>\n    <tr>\n      <th>21</th>\n      <td>Nešpecifikované</td>\n      <td>3.013524e+06</td>\n      <td>711</td>\n    </tr>\n    <tr>\n      <th>4</th>\n      <td>Cyprus</td>\n      <td>1.548349e+06</td>\n      <td>646</td>\n    </tr>\n    <tr>\n      <th>11</th>\n      <td>Island</td>\n      <td>1.466907e+06</td>\n      <td>633</td>\n    </tr>\n    <tr>\n      <th>37</th>\n      <td>Švédsko</td>\n      <td>6.443379e+05</td>\n      <td>433</td>\n    </tr>\n    <tr>\n      <th>7</th>\n      <td>Fínsko</td>\n      <td>5.087154e+05</td>\n      <td>412</td>\n    </tr>\n    <tr>\n      <th>5</th>\n      <td>Dánsko</td>\n      <td>1.304213e+06</td>\n      <td>408</td>\n    </tr>\n    <tr>\n      <th>35</th>\n      <td>Španielsko</td>\n      <td>3.690929e+05</td>\n      <td>361</td>\n    </tr>\n    <tr>\n      <th>31</th>\n      <td>Taliansko</td>\n      <td>4.245644e+06</td>\n      <td>359</td>\n    </tr>\n    <tr>\n      <th>29</th>\n      <td>Spojené kráľovstvo</td>\n      <td>5.612130e+03</td>\n      <td>215</td>\n    </tr>\n    <tr>\n      <th>15</th>\n      <td>Luxembursko</td>\n      <td>9.454438e+05</td>\n      <td>148</td>\n    </tr>\n    <tr>\n      <th>23</th>\n      <td>Portugalsko</td>\n      <td>6.189609e+05</td>\n      <td>110</td>\n    </tr>\n    <tr>\n      <th>14</th>\n      <td>Lotyšsko</td>\n      <td>9.120210e+04</td>\n      <td>84</td>\n    </tr>\n    <tr>\n      <th>22</th>\n      <td>Nórsko</td>\n      <td>1.290500e+04</td>\n      <td>76</td>\n    </tr>\n    <tr>\n      <th>8</th>\n      <td>Grécko</td>\n      <td>1.603167e+03</td>\n      <td>74</td>\n    </tr>\n    <tr>\n      <th>36</th>\n      <td>Švajčiarsko</td>\n      <td>9.046000e+02</td>\n      <td>45</td>\n    </tr>\n    <tr>\n      <th>2</th>\n      <td>Bulharsko</td>\n      <td>1.097265e+05</td>\n      <td>41</td>\n    </tr>\n    <tr>\n      <th>3</th>\n      <td>Chorvátsko</td>\n      <td>1.301700e+04</td>\n      <td>38</td>\n    </tr>\n    <tr>\n      <th>19</th>\n      <td>NEUVEDENÉ</td>\n      <td>1.141340e+03</td>\n      <td>20</td>\n    </tr>\n    <tr>\n      <th>13</th>\n      <td>Litva</td>\n      <td>1.100000e+02</td>\n      <td>17</td>\n    </tr>\n    <tr>\n      <th>16</th>\n      <td>Malta</td>\n      <td>1.380000e+02</td>\n      <td>14</td>\n    </tr>\n    <tr>\n      <th>26</th>\n      <td>Singapur</td>\n      <td>7.600000e+01</td>\n      <td>11</td>\n    </tr>\n    <tr>\n      <th>0</th>\n      <td>(prázdne)</td>\n      <td>9.079471e+04</td>\n      <td>4</td>\n    </tr>\n    <tr>\n      <th>12</th>\n      <td>Jordánsko</td>\n      <td>5.400000e+01</td>\n      <td>3</td>\n    </tr>\n    <tr>\n      <th>10</th>\n      <td>India</td>\n      <td>5.000000e+00</td>\n      <td>3</td>\n    </tr>\n    <tr>\n      <th>30</th>\n      <td>Spojené štáty, USA</td>\n      <td>2.000000e+00</td>\n      <td>2</td>\n    </tr>\n    <tr>\n      <th>18</th>\n      <td>Monako</td>\n      <td>3.000000e+00</td>\n      <td>2</td>\n    </tr>\n    <tr>\n      <th>32</th>\n      <td>Turecko</td>\n      <td>3.000000e+00</td>\n      <td>2</td>\n    </tr>\n  </tbody>\n</table>\n</div>"
     },
     "metadata": {}
    }
   ],
   "source": [
    "table2020Q1 = import_table('detailed', 2020)['Q1']\n",
    "table2020Q2 = import_table('detailed', 2020)['Q2']\n",
    "table2020Q3 = import_table('detailed', 2020)['Q3']\n",
    "table2020Q4 = import_table('detailed', 2020)['Q4']\n",
    "\n",
    "tableQ1 = (table2020Q1.loc[:,['STAT_popis', 'LIEK_KOD', 'Počet balení']]\n",
    "                    .query('STAT_popis != \"(prazdne)\"')\n",
    "                    .groupby(['STAT_popis', 'LIEK_KOD'])\n",
    "                    .sum()\n",
    "                    .reset_index()\n",
    "                    .sort_values(by='Počet balení',ascending=False))\n",
    "\n",
    "tableQ2 = (table2020Q2.loc[:,['STAT_popis', 'LIEK_KOD', 'Počet balení']]\n",
    "                    .query('STAT_popis != \"(prazdne)\"')\n",
    "                    .groupby(['STAT_popis', 'LIEK_KOD'])\n",
    "                    .sum()\n",
    "                    .reset_index()\n",
    "                    .sort_values(by='Počet balení',ascending=False))\n",
    "\n",
    "tableQ3 = (table2020Q3.loc[:,['STAT_popis', 'LIEK_KOD', 'Počet balení']]\n",
    "                    .query('STAT_popis != \"(prazdne)\"')\n",
    "                    .groupby(['STAT_popis', 'LIEK_KOD'])\n",
    "                    .sum()\n",
    "                    .reset_index()\n",
    "                    .sort_values(by='Počet balení',ascending=False))\n",
    "\n",
    "tableQ4 = (table2020Q4.loc[:,['STAT_popis', 'LIEK_KOD', 'Počet balení']]\n",
    "                    .query('STAT_popis != \"(prazdne)\"')\n",
    "                    .groupby(['STAT_popis', 'LIEK_KOD'])\n",
    "                    .sum()\n",
    "                    .reset_index()\n",
    "                    .sort_values(by='Počet balení',ascending=False))\n",
    "                    \n",
    "table2020 = tableQ1.append(tableQ2).append(tableQ3).append(tableQ4)\n",
    "\n",
    "table2020['number'] = [1 for i in range(len(table2020))]\n",
    "table2020 = table2020.groupby('STAT_popis').sum().reset_index().sort_values(by='number',ascending=False)\n",
    "display(table2020)"
   ]
  },
  {
   "cell_type": "code",
   "execution_count": 23,
   "metadata": {},
   "outputs": [
    {
     "output_type": "display_data",
     "data": {
      "application/vnd.plotly.v1+json": {
       "config": {
        "plotlyServerURL": "https://plot.ly"
       },
       "data": [
        {
         "alignmentgroup": "True",
         "hovertemplate": "=%{x}<br>Počet liekov=%{y}<extra></extra>",
         "legendgroup": "",
         "marker": {
          "color": "#4B6AAB"
         },
         "name": "",
         "offsetgroup": "",
         "orientation": "v",
         "showlegend": false,
         "textposition": "auto",
         "type": "bar",
         "x": [
          "Nemecko",
          "Česko",
          "Francúzsko",
          "Slovensko",
          "Slovinsko",
          "Holandsko",
          "ĺrsko",
          "Rakúsko",
          "Maďarsko",
          "Poľsko"
         ],
         "xaxis": "x",
         "y": [
          5032,
          4678,
          4058,
          3994,
          2770,
          1743,
          1606,
          1277,
          1135,
          1055
         ],
         "yaxis": "y"
        }
       ],
       "layout": {
        "barmode": "relative",
        "legend": {
         "tracegroupgap": 0
        },
        "template": {
         "data": {
          "bar": [
           {
            "error_x": {
             "color": "#2a3f5f"
            },
            "error_y": {
             "color": "#2a3f5f"
            },
            "marker": {
             "line": {
              "color": "#E5ECF6",
              "width": 0.5
             }
            },
            "type": "bar"
           }
          ],
          "barpolar": [
           {
            "marker": {
             "line": {
              "color": "#E5ECF6",
              "width": 0.5
             }
            },
            "type": "barpolar"
           }
          ],
          "carpet": [
           {
            "aaxis": {
             "endlinecolor": "#2a3f5f",
             "gridcolor": "white",
             "linecolor": "white",
             "minorgridcolor": "white",
             "startlinecolor": "#2a3f5f"
            },
            "baxis": {
             "endlinecolor": "#2a3f5f",
             "gridcolor": "white",
             "linecolor": "white",
             "minorgridcolor": "white",
             "startlinecolor": "#2a3f5f"
            },
            "type": "carpet"
           }
          ],
          "choropleth": [
           {
            "colorbar": {
             "outlinewidth": 0,
             "ticks": ""
            },
            "type": "choropleth"
           }
          ],
          "contour": [
           {
            "colorbar": {
             "outlinewidth": 0,
             "ticks": ""
            },
            "colorscale": [
             [
              0,
              "#0d0887"
             ],
             [
              0.1111111111111111,
              "#46039f"
             ],
             [
              0.2222222222222222,
              "#7201a8"
             ],
             [
              0.3333333333333333,
              "#9c179e"
             ],
             [
              0.4444444444444444,
              "#bd3786"
             ],
             [
              0.5555555555555556,
              "#d8576b"
             ],
             [
              0.6666666666666666,
              "#ed7953"
             ],
             [
              0.7777777777777778,
              "#fb9f3a"
             ],
             [
              0.8888888888888888,
              "#fdca26"
             ],
             [
              1,
              "#f0f921"
             ]
            ],
            "type": "contour"
           }
          ],
          "contourcarpet": [
           {
            "colorbar": {
             "outlinewidth": 0,
             "ticks": ""
            },
            "type": "contourcarpet"
           }
          ],
          "heatmap": [
           {
            "colorbar": {
             "outlinewidth": 0,
             "ticks": ""
            },
            "colorscale": [
             [
              0,
              "#0d0887"
             ],
             [
              0.1111111111111111,
              "#46039f"
             ],
             [
              0.2222222222222222,
              "#7201a8"
             ],
             [
              0.3333333333333333,
              "#9c179e"
             ],
             [
              0.4444444444444444,
              "#bd3786"
             ],
             [
              0.5555555555555556,
              "#d8576b"
             ],
             [
              0.6666666666666666,
              "#ed7953"
             ],
             [
              0.7777777777777778,
              "#fb9f3a"
             ],
             [
              0.8888888888888888,
              "#fdca26"
             ],
             [
              1,
              "#f0f921"
             ]
            ],
            "type": "heatmap"
           }
          ],
          "heatmapgl": [
           {
            "colorbar": {
             "outlinewidth": 0,
             "ticks": ""
            },
            "colorscale": [
             [
              0,
              "#0d0887"
             ],
             [
              0.1111111111111111,
              "#46039f"
             ],
             [
              0.2222222222222222,
              "#7201a8"
             ],
             [
              0.3333333333333333,
              "#9c179e"
             ],
             [
              0.4444444444444444,
              "#bd3786"
             ],
             [
              0.5555555555555556,
              "#d8576b"
             ],
             [
              0.6666666666666666,
              "#ed7953"
             ],
             [
              0.7777777777777778,
              "#fb9f3a"
             ],
             [
              0.8888888888888888,
              "#fdca26"
             ],
             [
              1,
              "#f0f921"
             ]
            ],
            "type": "heatmapgl"
           }
          ],
          "histogram": [
           {
            "marker": {
             "colorbar": {
              "outlinewidth": 0,
              "ticks": ""
             }
            },
            "type": "histogram"
           }
          ],
          "histogram2d": [
           {
            "colorbar": {
             "outlinewidth": 0,
             "ticks": ""
            },
            "colorscale": [
             [
              0,
              "#0d0887"
             ],
             [
              0.1111111111111111,
              "#46039f"
             ],
             [
              0.2222222222222222,
              "#7201a8"
             ],
             [
              0.3333333333333333,
              "#9c179e"
             ],
             [
              0.4444444444444444,
              "#bd3786"
             ],
             [
              0.5555555555555556,
              "#d8576b"
             ],
             [
              0.6666666666666666,
              "#ed7953"
             ],
             [
              0.7777777777777778,
              "#fb9f3a"
             ],
             [
              0.8888888888888888,
              "#fdca26"
             ],
             [
              1,
              "#f0f921"
             ]
            ],
            "type": "histogram2d"
           }
          ],
          "histogram2dcontour": [
           {
            "colorbar": {
             "outlinewidth": 0,
             "ticks": ""
            },
            "colorscale": [
             [
              0,
              "#0d0887"
             ],
             [
              0.1111111111111111,
              "#46039f"
             ],
             [
              0.2222222222222222,
              "#7201a8"
             ],
             [
              0.3333333333333333,
              "#9c179e"
             ],
             [
              0.4444444444444444,
              "#bd3786"
             ],
             [
              0.5555555555555556,
              "#d8576b"
             ],
             [
              0.6666666666666666,
              "#ed7953"
             ],
             [
              0.7777777777777778,
              "#fb9f3a"
             ],
             [
              0.8888888888888888,
              "#fdca26"
             ],
             [
              1,
              "#f0f921"
             ]
            ],
            "type": "histogram2dcontour"
           }
          ],
          "mesh3d": [
           {
            "colorbar": {
             "outlinewidth": 0,
             "ticks": ""
            },
            "type": "mesh3d"
           }
          ],
          "parcoords": [
           {
            "line": {
             "colorbar": {
              "outlinewidth": 0,
              "ticks": ""
             }
            },
            "type": "parcoords"
           }
          ],
          "pie": [
           {
            "automargin": true,
            "type": "pie"
           }
          ],
          "scatter": [
           {
            "marker": {
             "colorbar": {
              "outlinewidth": 0,
              "ticks": ""
             }
            },
            "type": "scatter"
           }
          ],
          "scatter3d": [
           {
            "line": {
             "colorbar": {
              "outlinewidth": 0,
              "ticks": ""
             }
            },
            "marker": {
             "colorbar": {
              "outlinewidth": 0,
              "ticks": ""
             }
            },
            "type": "scatter3d"
           }
          ],
          "scattercarpet": [
           {
            "marker": {
             "colorbar": {
              "outlinewidth": 0,
              "ticks": ""
             }
            },
            "type": "scattercarpet"
           }
          ],
          "scattergeo": [
           {
            "marker": {
             "colorbar": {
              "outlinewidth": 0,
              "ticks": ""
             }
            },
            "type": "scattergeo"
           }
          ],
          "scattergl": [
           {
            "marker": {
             "colorbar": {
              "outlinewidth": 0,
              "ticks": ""
             }
            },
            "type": "scattergl"
           }
          ],
          "scattermapbox": [
           {
            "marker": {
             "colorbar": {
              "outlinewidth": 0,
              "ticks": ""
             }
            },
            "type": "scattermapbox"
           }
          ],
          "scatterpolar": [
           {
            "marker": {
             "colorbar": {
              "outlinewidth": 0,
              "ticks": ""
             }
            },
            "type": "scatterpolar"
           }
          ],
          "scatterpolargl": [
           {
            "marker": {
             "colorbar": {
              "outlinewidth": 0,
              "ticks": ""
             }
            },
            "type": "scatterpolargl"
           }
          ],
          "scatterternary": [
           {
            "marker": {
             "colorbar": {
              "outlinewidth": 0,
              "ticks": ""
             }
            },
            "type": "scatterternary"
           }
          ],
          "surface": [
           {
            "colorbar": {
             "outlinewidth": 0,
             "ticks": ""
            },
            "colorscale": [
             [
              0,
              "#0d0887"
             ],
             [
              0.1111111111111111,
              "#46039f"
             ],
             [
              0.2222222222222222,
              "#7201a8"
             ],
             [
              0.3333333333333333,
              "#9c179e"
             ],
             [
              0.4444444444444444,
              "#bd3786"
             ],
             [
              0.5555555555555556,
              "#d8576b"
             ],
             [
              0.6666666666666666,
              "#ed7953"
             ],
             [
              0.7777777777777778,
              "#fb9f3a"
             ],
             [
              0.8888888888888888,
              "#fdca26"
             ],
             [
              1,
              "#f0f921"
             ]
            ],
            "type": "surface"
           }
          ],
          "table": [
           {
            "cells": {
             "fill": {
              "color": "#EBF0F8"
             },
             "line": {
              "color": "white"
             }
            },
            "header": {
             "fill": {
              "color": "#C8D4E3"
             },
             "line": {
              "color": "white"
             }
            },
            "type": "table"
           }
          ]
         },
         "layout": {
          "annotationdefaults": {
           "arrowcolor": "#2a3f5f",
           "arrowhead": 0,
           "arrowwidth": 1
          },
          "autotypenumbers": "strict",
          "coloraxis": {
           "colorbar": {
            "outlinewidth": 0,
            "ticks": ""
           }
          },
          "colorscale": {
           "diverging": [
            [
             0,
             "#8e0152"
            ],
            [
             0.1,
             "#c51b7d"
            ],
            [
             0.2,
             "#de77ae"
            ],
            [
             0.3,
             "#f1b6da"
            ],
            [
             0.4,
             "#fde0ef"
            ],
            [
             0.5,
             "#f7f7f7"
            ],
            [
             0.6,
             "#e6f5d0"
            ],
            [
             0.7,
             "#b8e186"
            ],
            [
             0.8,
             "#7fbc41"
            ],
            [
             0.9,
             "#4d9221"
            ],
            [
             1,
             "#276419"
            ]
           ],
           "sequential": [
            [
             0,
             "#0d0887"
            ],
            [
             0.1111111111111111,
             "#46039f"
            ],
            [
             0.2222222222222222,
             "#7201a8"
            ],
            [
             0.3333333333333333,
             "#9c179e"
            ],
            [
             0.4444444444444444,
             "#bd3786"
            ],
            [
             0.5555555555555556,
             "#d8576b"
            ],
            [
             0.6666666666666666,
             "#ed7953"
            ],
            [
             0.7777777777777778,
             "#fb9f3a"
            ],
            [
             0.8888888888888888,
             "#fdca26"
            ],
            [
             1,
             "#f0f921"
            ]
           ],
           "sequentialminus": [
            [
             0,
             "#0d0887"
            ],
            [
             0.1111111111111111,
             "#46039f"
            ],
            [
             0.2222222222222222,
             "#7201a8"
            ],
            [
             0.3333333333333333,
             "#9c179e"
            ],
            [
             0.4444444444444444,
             "#bd3786"
            ],
            [
             0.5555555555555556,
             "#d8576b"
            ],
            [
             0.6666666666666666,
             "#ed7953"
            ],
            [
             0.7777777777777778,
             "#fb9f3a"
            ],
            [
             0.8888888888888888,
             "#fdca26"
            ],
            [
             1,
             "#f0f921"
            ]
           ]
          },
          "colorway": [
           "#636efa",
           "#EF553B",
           "#00cc96",
           "#ab63fa",
           "#FFA15A",
           "#19d3f3",
           "#FF6692",
           "#B6E880",
           "#FF97FF",
           "#FECB52"
          ],
          "font": {
           "color": "#2a3f5f"
          },
          "geo": {
           "bgcolor": "white",
           "lakecolor": "white",
           "landcolor": "#E5ECF6",
           "showlakes": true,
           "showland": true,
           "subunitcolor": "white"
          },
          "hoverlabel": {
           "align": "left"
          },
          "hovermode": "closest",
          "mapbox": {
           "style": "light"
          },
          "paper_bgcolor": "white",
          "plot_bgcolor": "#E5ECF6",
          "polar": {
           "angularaxis": {
            "gridcolor": "white",
            "linecolor": "white",
            "ticks": ""
           },
           "bgcolor": "#E5ECF6",
           "radialaxis": {
            "gridcolor": "white",
            "linecolor": "white",
            "ticks": ""
           }
          },
          "scene": {
           "xaxis": {
            "backgroundcolor": "#E5ECF6",
            "gridcolor": "white",
            "gridwidth": 2,
            "linecolor": "white",
            "showbackground": true,
            "ticks": "",
            "zerolinecolor": "white"
           },
           "yaxis": {
            "backgroundcolor": "#E5ECF6",
            "gridcolor": "white",
            "gridwidth": 2,
            "linecolor": "white",
            "showbackground": true,
            "ticks": "",
            "zerolinecolor": "white"
           },
           "zaxis": {
            "backgroundcolor": "#E5ECF6",
            "gridcolor": "white",
            "gridwidth": 2,
            "linecolor": "white",
            "showbackground": true,
            "ticks": "",
            "zerolinecolor": "white"
           }
          },
          "shapedefaults": {
           "line": {
            "color": "#2a3f5f"
           }
          },
          "ternary": {
           "aaxis": {
            "gridcolor": "white",
            "linecolor": "white",
            "ticks": ""
           },
           "baxis": {
            "gridcolor": "white",
            "linecolor": "white",
            "ticks": ""
           },
           "bgcolor": "#E5ECF6",
           "caxis": {
            "gridcolor": "white",
            "linecolor": "white",
            "ticks": ""
           }
          },
          "title": {
           "x": 0.05
          },
          "xaxis": {
           "automargin": true,
           "gridcolor": "white",
           "linecolor": "white",
           "ticks": "",
           "title": {
            "standoff": 15
           },
           "zerolinecolor": "white",
           "zerolinewidth": 2
          },
          "yaxis": {
           "automargin": true,
           "gridcolor": "white",
           "linecolor": "white",
           "ticks": "",
           "title": {
            "standoff": 15
           },
           "zerolinecolor": "white",
           "zerolinewidth": 2
          }
         }
        },
        "title": {
         "text": "Krajiny s najväčším podielom liekov na trhu 2020"
        },
        "xaxis": {
         "anchor": "y",
         "domain": [
          0,
          1
         ],
         "title": {
          "text": ""
         }
        },
        "yaxis": {
         "anchor": "x",
         "domain": [
          0,
          1
         ],
         "title": {
          "text": "Počet liekov"
         }
        }
       }
      }
     },
     "metadata": {}
    }
   ],
   "source": [
    "px.bar(table2020.head(10), x='STAT_popis', y='number', title='Krajiny s najväčším podielom liekov na trhu 2020',color_discrete_sequence=[modra], labels={'STAT_popis': '', 'number':'Počet liekov'})"
   ]
  },
  {
   "source": [
    "V roku 2020 sa celkovo predalo najviac liekov zo Slovenska, vidime ze bohate zastupenie mali aj ine krajiny strednej prip. zapadnej Europy. Co sa tyka poctu liekov, najviac ich maju na slovenskom trhu krajiny zapadnej a strednej europy, samozrejme aj Slovensko."
   ],
   "cell_type": "markdown",
   "metadata": {}
  }
 ]
}