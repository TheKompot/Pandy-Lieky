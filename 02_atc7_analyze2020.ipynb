{
 "metadata": {
  "language_info": {
   "codemirror_mode": {
    "name": "ipython",
    "version": 3
   },
   "file_extension": ".py",
   "mimetype": "text/x-python",
   "name": "python",
   "nbconvert_exporter": "python",
   "pygments_lexer": "ipython3",
   "version": "3.8.9"
  },
  "orig_nbformat": 2,
  "kernelspec": {
   "name": "python389jvsc74a57bd005a3b3982034298d50d75e3bfc7c08d24fd70828ec0bdac296ccba668c491b8c",
   "display_name": "Python 3.8.9 64-bit ('PythonSoftwareFoundation.Python.3.8_qbz5n2kfra8p0')"
  },
  "metadata": {
   "interpreter": {
    "hash": "05a3b3982034298d50d75e3bfc7c08d24fd70828ec0bdac296ccba668c491b8c"
   }
  }
 },
 "nbformat": 4,
 "nbformat_minor": 2,
 "cells": [
  {
   "source": [
    "# Analyza liekov podla skupiny ATC7 \n",
    "\n",
    "Analýzu sme robili na dátach z roku 2019, keďže je to posledný rok, z ktorého sme mali údaje za všetky štvrťroky a zároveň v tomto roku na Slovensku ešte nebola pandémia.\n",
    "Otázky:\n",
    "* Ktoré lieky s danou účinnou látkou sa predávajú viac než ostatné? Závisí predaj od krajiny výrobcu?\n",
    "\n",
    "(mozno fajn vo vsetkych grafoch krajiny rovnakou farbou)\n",
    " 1409 roznych ucinnych latok"
   ],
   "cell_type": "markdown",
   "metadata": {}
  },
  {
   "source": [
    "## Farby, ktore pouzivam"
   ],
   "cell_type": "markdown",
   "metadata": {}
  },
  {
   "cell_type": "code",
   "execution_count": 93,
   "metadata": {},
   "outputs": [],
   "source": [
    "modra = '#4B6AAB'\n",
    "zelena = '#73B5AB'\n",
    "zlta = '#F1C75B'\n",
    "oranzova = '#D8764C'\n",
    "ruzova = '#B75B9E'\n",
    "oranzova2 = '#C59A68'\n",
    "zelena2 = '#B2BE83'\n",
    "zelena3 = '#7BAE75'\n",
    "ruzova2 = '#D28992'\n",
    "siva = '#C2C2C2'\n",
    "fialova = '#967DB5'\n",
    "fialova2 ='#B6A4CB'\n",
    "modra2 = '#5F90AB'\n",
    "farby = {'Slovensko':modra, 'Česko':oranzova, 'Nemecko':zlta, 'Francúzsko':ruzova, 'Slovinsko':zelena, 'iné':siva, 'INÉ':siva, 'Iné':siva, 'Taliansko':zelena2, 'Maďarsko': ruzova2, 'Holandsko': oranzova2, 'Fínsko': fialova, 'Belgicko':fialova2, 'ĺrsko': modra2, 'Cyprus': zelena3}"
   ]
  },
  {
   "cell_type": "code",
   "execution_count": 54,
   "metadata": {},
   "outputs": [],
   "source": [
    "import pandas as pd \n",
    "import numpy as np \n",
    "import matplotlib.pyplot as plt \n",
    "import plotly.express as px\n",
    "%run tables.py"
   ]
  },
  {
   "source": [
    "# Tabulka, s ktorou pracujeme (rok 2020) s vybranymi udajmi"
   ],
   "cell_type": "markdown",
   "metadata": {}
  },
  {
   "cell_type": "code",
   "execution_count": 63,
   "metadata": {},
   "outputs": [
    {
     "output_type": "display_data",
     "data": {
      "text/plain": "     ATC7_KOD                           ATC7_popis LIEK_KOD  \\\n198   A01AA03                              Olaflur   C40630   \n199   A01AA30  Profylaxia zubného kazu, kombinácie   C40631   \n200   A01AA30  Profylaxia zubného kazu, kombinácie   C85867   \n201   A01AB03                         Chlorhexidín   C14106   \n202   A01AB03                         Chlorhexidín   C34296   \n...       ...                                  ...      ...   \n9885      V12                          Homeopatiká   C82842   \n9886      V12                          Homeopatiká   C96701   \n9887      V12                          Homeopatiká   C97944   \n9888      V12                          Homeopatiká   C99176   \n9889      V12                          Homeopatiká   C99177   \n\n                            LIEK_popis  STAT_popis  \\\n198        ELMEX FLUID sol dnt 1x50 ml     Nemecko   \n199         ELMEX gelee gel dnt 1x25 g     Nemecko   \n200        ELMEX gelee gel dnt 1x215 g     Nemecko   \n201          CORSODYL sol ora 1x600 ml       Česko   \n202   PROTEFIX ANTISEPT sol der 200 ml     Nemecko   \n...                                ...         ...   \n9885  GINKGO BILOBA plv 15 g ch2-ch200  Francúzsko   \n9886  ARNICA MONTANA ung 20 g ch2-ch30  Francúzsko   \n9887                   QUIETUDE tbl 60  Francúzsko   \n9888       BELLADONNA gra 4 g ch3-ch30  Francúzsko   \n9889   ARNICA MONTANA gra 4 g ch2-ch30  Francúzsko   \n\n                                          VYROBCA_popis  Počet balení  \n198                                           GABA GmbH        33.000  \n199                                        CP GABA GmbH     40006.217  \n200                                        CP GABA GmbH        46.000  \n201   GlaxoSmithKline Consumer Healthcare Czech Repu...       122.000  \n202                          Queisser Pharma GmbH & Co.         7.000  \n...                                                 ...           ...  \n9885                                Laboratoires BOIRON       315.000  \n9886                                Laboratoires BOIRON        11.000  \n9887                                Laboratoires BOIRON        67.000  \n9888                                Laboratoires BOIRON       162.000  \n9889                                Laboratoires BOIRON       584.000  \n\n[9692 rows x 7 columns]",
      "text/html": "<div>\n<style scoped>\n    .dataframe tbody tr th:only-of-type {\n        vertical-align: middle;\n    }\n\n    .dataframe tbody tr th {\n        vertical-align: top;\n    }\n\n    .dataframe thead th {\n        text-align: right;\n    }\n</style>\n<table border=\"1\" class=\"dataframe\">\n  <thead>\n    <tr style=\"text-align: right;\">\n      <th></th>\n      <th>ATC7_KOD</th>\n      <th>ATC7_popis</th>\n      <th>LIEK_KOD</th>\n      <th>LIEK_popis</th>\n      <th>STAT_popis</th>\n      <th>VYROBCA_popis</th>\n      <th>Počet balení</th>\n    </tr>\n  </thead>\n  <tbody>\n    <tr>\n      <th>198</th>\n      <td>A01AA03</td>\n      <td>Olaflur</td>\n      <td>C40630</td>\n      <td>ELMEX FLUID sol dnt 1x50 ml</td>\n      <td>Nemecko</td>\n      <td>GABA GmbH</td>\n      <td>33.000</td>\n    </tr>\n    <tr>\n      <th>199</th>\n      <td>A01AA30</td>\n      <td>Profylaxia zubného kazu, kombinácie</td>\n      <td>C40631</td>\n      <td>ELMEX gelee gel dnt 1x25 g</td>\n      <td>Nemecko</td>\n      <td>CP GABA GmbH</td>\n      <td>40006.217</td>\n    </tr>\n    <tr>\n      <th>200</th>\n      <td>A01AA30</td>\n      <td>Profylaxia zubného kazu, kombinácie</td>\n      <td>C85867</td>\n      <td>ELMEX gelee gel dnt 1x215 g</td>\n      <td>Nemecko</td>\n      <td>CP GABA GmbH</td>\n      <td>46.000</td>\n    </tr>\n    <tr>\n      <th>201</th>\n      <td>A01AB03</td>\n      <td>Chlorhexidín</td>\n      <td>C14106</td>\n      <td>CORSODYL sol ora 1x600 ml</td>\n      <td>Česko</td>\n      <td>GlaxoSmithKline Consumer Healthcare Czech Repu...</td>\n      <td>122.000</td>\n    </tr>\n    <tr>\n      <th>202</th>\n      <td>A01AB03</td>\n      <td>Chlorhexidín</td>\n      <td>C34296</td>\n      <td>PROTEFIX ANTISEPT sol der 200 ml</td>\n      <td>Nemecko</td>\n      <td>Queisser Pharma GmbH &amp; Co.</td>\n      <td>7.000</td>\n    </tr>\n    <tr>\n      <th>...</th>\n      <td>...</td>\n      <td>...</td>\n      <td>...</td>\n      <td>...</td>\n      <td>...</td>\n      <td>...</td>\n      <td>...</td>\n    </tr>\n    <tr>\n      <th>9885</th>\n      <td>V12</td>\n      <td>Homeopatiká</td>\n      <td>C82842</td>\n      <td>GINKGO BILOBA plv 15 g ch2-ch200</td>\n      <td>Francúzsko</td>\n      <td>Laboratoires BOIRON</td>\n      <td>315.000</td>\n    </tr>\n    <tr>\n      <th>9886</th>\n      <td>V12</td>\n      <td>Homeopatiká</td>\n      <td>C96701</td>\n      <td>ARNICA MONTANA ung 20 g ch2-ch30</td>\n      <td>Francúzsko</td>\n      <td>Laboratoires BOIRON</td>\n      <td>11.000</td>\n    </tr>\n    <tr>\n      <th>9887</th>\n      <td>V12</td>\n      <td>Homeopatiká</td>\n      <td>C97944</td>\n      <td>QUIETUDE tbl 60</td>\n      <td>Francúzsko</td>\n      <td>Laboratoires BOIRON</td>\n      <td>67.000</td>\n    </tr>\n    <tr>\n      <th>9888</th>\n      <td>V12</td>\n      <td>Homeopatiká</td>\n      <td>C99176</td>\n      <td>BELLADONNA gra 4 g ch3-ch30</td>\n      <td>Francúzsko</td>\n      <td>Laboratoires BOIRON</td>\n      <td>162.000</td>\n    </tr>\n    <tr>\n      <th>9889</th>\n      <td>V12</td>\n      <td>Homeopatiká</td>\n      <td>C99177</td>\n      <td>ARNICA MONTANA gra 4 g ch2-ch30</td>\n      <td>Francúzsko</td>\n      <td>Laboratoires BOIRON</td>\n      <td>584.000</td>\n    </tr>\n  </tbody>\n</table>\n<p>9692 rows × 7 columns</p>\n</div>"
     },
     "metadata": {}
    }
   ],
   "source": [
    "table2020Q1 = import_table('detailed', 2020)['Q1']\n",
    "table2020Q2 = import_table('detailed', 2020)['Q2']\n",
    "table2020Q3 = import_table('detailed', 2020)['Q3']\n",
    "table2020Q4 = import_table('detailed', 2020)['Q4']\n",
    "'''\n",
    "tableQ1 = (table2020Q1.loc[:,['ATC7_KOD','ATC7_popis','LIEK_KOD','LIEK_popis', 'STAT_popis', 'VYROBCA_popis', 'Počet_balení']])\n",
    "\n",
    "tableQ2 = (table2020Q2.loc[:,['ATC7_KOD','ATC7_popis','LIEK_KOD','LIEK_popis', 'STAT_popis', 'VYROBCA_popis', 'Počet_balení']])\n",
    "\n",
    "tableQ3 = (table2020Q3.loc[:,['ATC7_KOD','ATC7_popis','LIEK_KOD','LIEK_popis', 'STAT_popis', 'VYROBCA_popis', 'Počet_balení']])\n",
    "\n",
    "tableQ4 = (table2020Q4.loc[:,['ATC7_KOD','ATC7_popis','LIEK_KOD','LIEK_popis', 'STAT_popis', 'VYROBCA_popis', 'Počet_balení']])\n",
    "'''                    \n",
    "table2020 = table2020Q1.append(table2020Q2).append(table2020Q3).append(table2020Q4)\n",
    "table2020 = table2020.groupby(['ATC7_KOD','ATC7_popis','LIEK_KOD','LIEK_popis', 'STAT_popis', 'VYROBCA_popis']).sum().reset_index()\n",
    "table2020 = table2020.query('ATC7_KOD != \"(prazdne)\"').query( 'ATC7_popis != \"neznámy\"').query('ATC7_KOD != \"(prázdne)\"')\n",
    "table2020 = table2020.loc[:,['ATC7_KOD','ATC7_popis','LIEK_KOD','LIEK_popis', 'STAT_popis', 'VYROBCA_popis', 'Počet balení']]\n",
    "display(table2020)"
   ]
  },
  {
   "source": [
    "# Tabulka: 15 najpredavanejsich ucinnych latok"
   ],
   "cell_type": "markdown",
   "metadata": {}
  },
  {
   "cell_type": "code",
   "execution_count": 133,
   "metadata": {},
   "outputs": [
    {
     "output_type": "display_data",
     "data": {
      "text/plain": "   ATC7_KOD                      ATC7_popis  Počet balení  farba\n14  V09FX01                      Technécium  1.049901e+07      1\n10  N02BE01                     Paracetamol  4.048769e+06      2\n4   C07AB07                      Bisoprolol  2.670789e+06      2\n8   M01AE01                       Ibuprofén  2.490141e+06      1\n2   B05BB01                     Elektrolyty  2.267898e+06      0\n5   C08CA01                       Amlodipín  2.141328e+06      1\n11  N05BA12                      Alprazolam  2.118836e+06      1\n7   M01AB05                      Diklofenak  2.059141e+06      1\n9   N02BB02            Metamizol, sodná soľ  2.014216e+06      1\n3   C07AB02                      Metoprolol  2.008503e+06      1\n1   B01AC06       Kyselina acetylsalicylová  1.812434e+06      1\n12  N05CF02                        Zolpidém  1.601431e+06      2\n6   C10AA05                    Atorvastatín  1.582751e+06      0\n13  R01AA07                   Xylometazolín  1.428286e+06      1\n0   A11GA01  Kyselina askorbová (vitamín C)  1.364323e+06      2",
      "text/html": "<div>\n<style scoped>\n    .dataframe tbody tr th:only-of-type {\n        vertical-align: middle;\n    }\n\n    .dataframe tbody tr th {\n        vertical-align: top;\n    }\n\n    .dataframe thead th {\n        text-align: right;\n    }\n</style>\n<table border=\"1\" class=\"dataframe\">\n  <thead>\n    <tr style=\"text-align: right;\">\n      <th></th>\n      <th>ATC7_KOD</th>\n      <th>ATC7_popis</th>\n      <th>Počet balení</th>\n      <th>farba</th>\n    </tr>\n  </thead>\n  <tbody>\n    <tr>\n      <th>14</th>\n      <td>V09FX01</td>\n      <td>Technécium</td>\n      <td>1.049901e+07</td>\n      <td>1</td>\n    </tr>\n    <tr>\n      <th>10</th>\n      <td>N02BE01</td>\n      <td>Paracetamol</td>\n      <td>4.048769e+06</td>\n      <td>2</td>\n    </tr>\n    <tr>\n      <th>4</th>\n      <td>C07AB07</td>\n      <td>Bisoprolol</td>\n      <td>2.670789e+06</td>\n      <td>2</td>\n    </tr>\n    <tr>\n      <th>8</th>\n      <td>M01AE01</td>\n      <td>Ibuprofén</td>\n      <td>2.490141e+06</td>\n      <td>1</td>\n    </tr>\n    <tr>\n      <th>2</th>\n      <td>B05BB01</td>\n      <td>Elektrolyty</td>\n      <td>2.267898e+06</td>\n      <td>0</td>\n    </tr>\n    <tr>\n      <th>5</th>\n      <td>C08CA01</td>\n      <td>Amlodipín</td>\n      <td>2.141328e+06</td>\n      <td>1</td>\n    </tr>\n    <tr>\n      <th>11</th>\n      <td>N05BA12</td>\n      <td>Alprazolam</td>\n      <td>2.118836e+06</td>\n      <td>1</td>\n    </tr>\n    <tr>\n      <th>7</th>\n      <td>M01AB05</td>\n      <td>Diklofenak</td>\n      <td>2.059141e+06</td>\n      <td>1</td>\n    </tr>\n    <tr>\n      <th>9</th>\n      <td>N02BB02</td>\n      <td>Metamizol, sodná soľ</td>\n      <td>2.014216e+06</td>\n      <td>1</td>\n    </tr>\n    <tr>\n      <th>3</th>\n      <td>C07AB02</td>\n      <td>Metoprolol</td>\n      <td>2.008503e+06</td>\n      <td>1</td>\n    </tr>\n    <tr>\n      <th>1</th>\n      <td>B01AC06</td>\n      <td>Kyselina acetylsalicylová</td>\n      <td>1.812434e+06</td>\n      <td>1</td>\n    </tr>\n    <tr>\n      <th>12</th>\n      <td>N05CF02</td>\n      <td>Zolpidém</td>\n      <td>1.601431e+06</td>\n      <td>2</td>\n    </tr>\n    <tr>\n      <th>6</th>\n      <td>C10AA05</td>\n      <td>Atorvastatín</td>\n      <td>1.582751e+06</td>\n      <td>0</td>\n    </tr>\n    <tr>\n      <th>13</th>\n      <td>R01AA07</td>\n      <td>Xylometazolín</td>\n      <td>1.428286e+06</td>\n      <td>1</td>\n    </tr>\n    <tr>\n      <th>0</th>\n      <td>A11GA01</td>\n      <td>Kyselina askorbová (vitamín C)</td>\n      <td>1.364323e+06</td>\n      <td>2</td>\n    </tr>\n  </tbody>\n</table>\n</div>"
     },
     "metadata": {}
    }
   ],
   "source": [
    "atc7 = table2020.loc[:,['ATC7_KOD', 'ATC7_popis','Počet balení']].groupby(['ATC7_KOD', 'ATC7_popis']).sum().sort_values(by='Počet balení', ascending=False).reset_index().head(16)\n",
    "for i,popis in enumerate(atc7['ATC7_popis']):\n",
    "    if 'Technécium' in popis:\n",
    "        atc7.iloc[i,1] = 'Technécium'\n",
    "atc7 = atc7.groupby(['ATC7_KOD', 'ATC7_popis']).sum().reset_index().sort_values(by='Počet balení', ascending= False)\n",
    "atc7['farba'] = [1,2,2,1,0,1,1,1,1,1,1,2,0,1,2]\n",
    "display(atc7)"
   ]
  },
  {
   "cell_type": "code",
   "execution_count": 136,
   "metadata": {},
   "outputs": [
    {
     "output_type": "display_data",
     "data": {
      "application/vnd.plotly.v1+json": {
       "config": {
        "plotlyServerURL": "https://plot.ly"
       },
       "data": [
        {
         "alignmentgroup": "True",
         "hovertemplate": "Počet balení=%{text}<br>ATC7_popis=%{y}<br>farba=%{marker.color}<extra></extra>",
         "legendgroup": "",
         "marker": {
          "color": [
           2,
           1,
           0,
           2,
           1,
           1,
           1,
           1,
           1,
           1,
           0,
           1,
           2,
           2,
           1
          ],
          "coloraxis": "coloraxis"
         },
         "name": "",
         "offsetgroup": "",
         "orientation": "h",
         "showlegend": false,
         "text": [
          1364323.14,
          1428286,
          1582751.1840000001,
          1601431.319,
          1812433.905,
          2008503.2689999999,
          2014216.25,
          2059141.0749999997,
          2118835.7,
          2141327.644,
          2267898.1499999994,
          2490141.4990000003,
          2670789.387,
          4048768.745,
          10499007.34
         ],
         "textposition": "auto",
         "texttemplate": "%{text:.3s}",
         "type": "bar",
         "x": [
          1364323.14,
          1428286,
          1582751.1840000001,
          1601431.319,
          1812433.905,
          2008503.2689999999,
          2014216.25,
          2059141.0749999997,
          2118835.7,
          2141327.644,
          2267898.1499999994,
          2490141.4990000003,
          2670789.387,
          4048768.745,
          10499007.34
         ],
         "xaxis": "x",
         "y": [
          "Kyselina askorbová (vitamín C)",
          "Xylometazolín",
          "Atorvastatín",
          "Zolpidém",
          "Kyselina acetylsalicylová",
          "Metoprolol",
          "Metamizol, sodná soľ",
          "Diklofenak",
          "Alprazolam",
          "Amlodipín",
          "Elektrolyty",
          "Ibuprofén",
          "Bisoprolol",
          "Paracetamol",
          "Technécium"
         ],
         "yaxis": "y"
        }
       ],
       "layout": {
        "barmode": "relative",
        "coloraxis": {
         "colorbar": {
          "title": {
           "text": "farba"
          }
         },
         "colorscale": [
          [
           0,
           "#D28992"
          ],
          [
           0.5,
           "#C2C2C2"
          ],
          [
           1,
           "#73B5AB"
          ]
         ],
         "showscale": false
        },
        "legend": {
         "tracegroupgap": 0
        },
        "margin": {
         "t": 60
        },
        "template": {
         "data": {
          "bar": [
           {
            "error_x": {
             "color": "#2a3f5f"
            },
            "error_y": {
             "color": "#2a3f5f"
            },
            "marker": {
             "line": {
              "color": "#E5ECF6",
              "width": 0.5
             }
            },
            "type": "bar"
           }
          ],
          "barpolar": [
           {
            "marker": {
             "line": {
              "color": "#E5ECF6",
              "width": 0.5
             }
            },
            "type": "barpolar"
           }
          ],
          "carpet": [
           {
            "aaxis": {
             "endlinecolor": "#2a3f5f",
             "gridcolor": "white",
             "linecolor": "white",
             "minorgridcolor": "white",
             "startlinecolor": "#2a3f5f"
            },
            "baxis": {
             "endlinecolor": "#2a3f5f",
             "gridcolor": "white",
             "linecolor": "white",
             "minorgridcolor": "white",
             "startlinecolor": "#2a3f5f"
            },
            "type": "carpet"
           }
          ],
          "choropleth": [
           {
            "colorbar": {
             "outlinewidth": 0,
             "ticks": ""
            },
            "type": "choropleth"
           }
          ],
          "contour": [
           {
            "colorbar": {
             "outlinewidth": 0,
             "ticks": ""
            },
            "colorscale": [
             [
              0,
              "#0d0887"
             ],
             [
              0.1111111111111111,
              "#46039f"
             ],
             [
              0.2222222222222222,
              "#7201a8"
             ],
             [
              0.3333333333333333,
              "#9c179e"
             ],
             [
              0.4444444444444444,
              "#bd3786"
             ],
             [
              0.5555555555555556,
              "#d8576b"
             ],
             [
              0.6666666666666666,
              "#ed7953"
             ],
             [
              0.7777777777777778,
              "#fb9f3a"
             ],
             [
              0.8888888888888888,
              "#fdca26"
             ],
             [
              1,
              "#f0f921"
             ]
            ],
            "type": "contour"
           }
          ],
          "contourcarpet": [
           {
            "colorbar": {
             "outlinewidth": 0,
             "ticks": ""
            },
            "type": "contourcarpet"
           }
          ],
          "heatmap": [
           {
            "colorbar": {
             "outlinewidth": 0,
             "ticks": ""
            },
            "colorscale": [
             [
              0,
              "#0d0887"
             ],
             [
              0.1111111111111111,
              "#46039f"
             ],
             [
              0.2222222222222222,
              "#7201a8"
             ],
             [
              0.3333333333333333,
              "#9c179e"
             ],
             [
              0.4444444444444444,
              "#bd3786"
             ],
             [
              0.5555555555555556,
              "#d8576b"
             ],
             [
              0.6666666666666666,
              "#ed7953"
             ],
             [
              0.7777777777777778,
              "#fb9f3a"
             ],
             [
              0.8888888888888888,
              "#fdca26"
             ],
             [
              1,
              "#f0f921"
             ]
            ],
            "type": "heatmap"
           }
          ],
          "heatmapgl": [
           {
            "colorbar": {
             "outlinewidth": 0,
             "ticks": ""
            },
            "colorscale": [
             [
              0,
              "#0d0887"
             ],
             [
              0.1111111111111111,
              "#46039f"
             ],
             [
              0.2222222222222222,
              "#7201a8"
             ],
             [
              0.3333333333333333,
              "#9c179e"
             ],
             [
              0.4444444444444444,
              "#bd3786"
             ],
             [
              0.5555555555555556,
              "#d8576b"
             ],
             [
              0.6666666666666666,
              "#ed7953"
             ],
             [
              0.7777777777777778,
              "#fb9f3a"
             ],
             [
              0.8888888888888888,
              "#fdca26"
             ],
             [
              1,
              "#f0f921"
             ]
            ],
            "type": "heatmapgl"
           }
          ],
          "histogram": [
           {
            "marker": {
             "colorbar": {
              "outlinewidth": 0,
              "ticks": ""
             }
            },
            "type": "histogram"
           }
          ],
          "histogram2d": [
           {
            "colorbar": {
             "outlinewidth": 0,
             "ticks": ""
            },
            "colorscale": [
             [
              0,
              "#0d0887"
             ],
             [
              0.1111111111111111,
              "#46039f"
             ],
             [
              0.2222222222222222,
              "#7201a8"
             ],
             [
              0.3333333333333333,
              "#9c179e"
             ],
             [
              0.4444444444444444,
              "#bd3786"
             ],
             [
              0.5555555555555556,
              "#d8576b"
             ],
             [
              0.6666666666666666,
              "#ed7953"
             ],
             [
              0.7777777777777778,
              "#fb9f3a"
             ],
             [
              0.8888888888888888,
              "#fdca26"
             ],
             [
              1,
              "#f0f921"
             ]
            ],
            "type": "histogram2d"
           }
          ],
          "histogram2dcontour": [
           {
            "colorbar": {
             "outlinewidth": 0,
             "ticks": ""
            },
            "colorscale": [
             [
              0,
              "#0d0887"
             ],
             [
              0.1111111111111111,
              "#46039f"
             ],
             [
              0.2222222222222222,
              "#7201a8"
             ],
             [
              0.3333333333333333,
              "#9c179e"
             ],
             [
              0.4444444444444444,
              "#bd3786"
             ],
             [
              0.5555555555555556,
              "#d8576b"
             ],
             [
              0.6666666666666666,
              "#ed7953"
             ],
             [
              0.7777777777777778,
              "#fb9f3a"
             ],
             [
              0.8888888888888888,
              "#fdca26"
             ],
             [
              1,
              "#f0f921"
             ]
            ],
            "type": "histogram2dcontour"
           }
          ],
          "mesh3d": [
           {
            "colorbar": {
             "outlinewidth": 0,
             "ticks": ""
            },
            "type": "mesh3d"
           }
          ],
          "parcoords": [
           {
            "line": {
             "colorbar": {
              "outlinewidth": 0,
              "ticks": ""
             }
            },
            "type": "parcoords"
           }
          ],
          "pie": [
           {
            "automargin": true,
            "type": "pie"
           }
          ],
          "scatter": [
           {
            "marker": {
             "colorbar": {
              "outlinewidth": 0,
              "ticks": ""
             }
            },
            "type": "scatter"
           }
          ],
          "scatter3d": [
           {
            "line": {
             "colorbar": {
              "outlinewidth": 0,
              "ticks": ""
             }
            },
            "marker": {
             "colorbar": {
              "outlinewidth": 0,
              "ticks": ""
             }
            },
            "type": "scatter3d"
           }
          ],
          "scattercarpet": [
           {
            "marker": {
             "colorbar": {
              "outlinewidth": 0,
              "ticks": ""
             }
            },
            "type": "scattercarpet"
           }
          ],
          "scattergeo": [
           {
            "marker": {
             "colorbar": {
              "outlinewidth": 0,
              "ticks": ""
             }
            },
            "type": "scattergeo"
           }
          ],
          "scattergl": [
           {
            "marker": {
             "colorbar": {
              "outlinewidth": 0,
              "ticks": ""
             }
            },
            "type": "scattergl"
           }
          ],
          "scattermapbox": [
           {
            "marker": {
             "colorbar": {
              "outlinewidth": 0,
              "ticks": ""
             }
            },
            "type": "scattermapbox"
           }
          ],
          "scatterpolar": [
           {
            "marker": {
             "colorbar": {
              "outlinewidth": 0,
              "ticks": ""
             }
            },
            "type": "scatterpolar"
           }
          ],
          "scatterpolargl": [
           {
            "marker": {
             "colorbar": {
              "outlinewidth": 0,
              "ticks": ""
             }
            },
            "type": "scatterpolargl"
           }
          ],
          "scatterternary": [
           {
            "marker": {
             "colorbar": {
              "outlinewidth": 0,
              "ticks": ""
             }
            },
            "type": "scatterternary"
           }
          ],
          "surface": [
           {
            "colorbar": {
             "outlinewidth": 0,
             "ticks": ""
            },
            "colorscale": [
             [
              0,
              "#0d0887"
             ],
             [
              0.1111111111111111,
              "#46039f"
             ],
             [
              0.2222222222222222,
              "#7201a8"
             ],
             [
              0.3333333333333333,
              "#9c179e"
             ],
             [
              0.4444444444444444,
              "#bd3786"
             ],
             [
              0.5555555555555556,
              "#d8576b"
             ],
             [
              0.6666666666666666,
              "#ed7953"
             ],
             [
              0.7777777777777778,
              "#fb9f3a"
             ],
             [
              0.8888888888888888,
              "#fdca26"
             ],
             [
              1,
              "#f0f921"
             ]
            ],
            "type": "surface"
           }
          ],
          "table": [
           {
            "cells": {
             "fill": {
              "color": "#EBF0F8"
             },
             "line": {
              "color": "white"
             }
            },
            "header": {
             "fill": {
              "color": "#C8D4E3"
             },
             "line": {
              "color": "white"
             }
            },
            "type": "table"
           }
          ]
         },
         "layout": {
          "annotationdefaults": {
           "arrowcolor": "#2a3f5f",
           "arrowhead": 0,
           "arrowwidth": 1
          },
          "autotypenumbers": "strict",
          "coloraxis": {
           "colorbar": {
            "outlinewidth": 0,
            "ticks": ""
           }
          },
          "colorscale": {
           "diverging": [
            [
             0,
             "#8e0152"
            ],
            [
             0.1,
             "#c51b7d"
            ],
            [
             0.2,
             "#de77ae"
            ],
            [
             0.3,
             "#f1b6da"
            ],
            [
             0.4,
             "#fde0ef"
            ],
            [
             0.5,
             "#f7f7f7"
            ],
            [
             0.6,
             "#e6f5d0"
            ],
            [
             0.7,
             "#b8e186"
            ],
            [
             0.8,
             "#7fbc41"
            ],
            [
             0.9,
             "#4d9221"
            ],
            [
             1,
             "#276419"
            ]
           ],
           "sequential": [
            [
             0,
             "#0d0887"
            ],
            [
             0.1111111111111111,
             "#46039f"
            ],
            [
             0.2222222222222222,
             "#7201a8"
            ],
            [
             0.3333333333333333,
             "#9c179e"
            ],
            [
             0.4444444444444444,
             "#bd3786"
            ],
            [
             0.5555555555555556,
             "#d8576b"
            ],
            [
             0.6666666666666666,
             "#ed7953"
            ],
            [
             0.7777777777777778,
             "#fb9f3a"
            ],
            [
             0.8888888888888888,
             "#fdca26"
            ],
            [
             1,
             "#f0f921"
            ]
           ],
           "sequentialminus": [
            [
             0,
             "#0d0887"
            ],
            [
             0.1111111111111111,
             "#46039f"
            ],
            [
             0.2222222222222222,
             "#7201a8"
            ],
            [
             0.3333333333333333,
             "#9c179e"
            ],
            [
             0.4444444444444444,
             "#bd3786"
            ],
            [
             0.5555555555555556,
             "#d8576b"
            ],
            [
             0.6666666666666666,
             "#ed7953"
            ],
            [
             0.7777777777777778,
             "#fb9f3a"
            ],
            [
             0.8888888888888888,
             "#fdca26"
            ],
            [
             1,
             "#f0f921"
            ]
           ]
          },
          "colorway": [
           "#636efa",
           "#EF553B",
           "#00cc96",
           "#ab63fa",
           "#FFA15A",
           "#19d3f3",
           "#FF6692",
           "#B6E880",
           "#FF97FF",
           "#FECB52"
          ],
          "font": {
           "color": "#2a3f5f"
          },
          "geo": {
           "bgcolor": "white",
           "lakecolor": "white",
           "landcolor": "#E5ECF6",
           "showlakes": true,
           "showland": true,
           "subunitcolor": "white"
          },
          "hoverlabel": {
           "align": "left"
          },
          "hovermode": "closest",
          "mapbox": {
           "style": "light"
          },
          "paper_bgcolor": "white",
          "plot_bgcolor": "#E5ECF6",
          "polar": {
           "angularaxis": {
            "gridcolor": "white",
            "linecolor": "white",
            "ticks": ""
           },
           "bgcolor": "#E5ECF6",
           "radialaxis": {
            "gridcolor": "white",
            "linecolor": "white",
            "ticks": ""
           }
          },
          "scene": {
           "xaxis": {
            "backgroundcolor": "#E5ECF6",
            "gridcolor": "white",
            "gridwidth": 2,
            "linecolor": "white",
            "showbackground": true,
            "ticks": "",
            "zerolinecolor": "white"
           },
           "yaxis": {
            "backgroundcolor": "#E5ECF6",
            "gridcolor": "white",
            "gridwidth": 2,
            "linecolor": "white",
            "showbackground": true,
            "ticks": "",
            "zerolinecolor": "white"
           },
           "zaxis": {
            "backgroundcolor": "#E5ECF6",
            "gridcolor": "white",
            "gridwidth": 2,
            "linecolor": "white",
            "showbackground": true,
            "ticks": "",
            "zerolinecolor": "white"
           }
          },
          "shapedefaults": {
           "line": {
            "color": "#2a3f5f"
           }
          },
          "ternary": {
           "aaxis": {
            "gridcolor": "white",
            "linecolor": "white",
            "ticks": ""
           },
           "baxis": {
            "gridcolor": "white",
            "linecolor": "white",
            "ticks": ""
           },
           "bgcolor": "#E5ECF6",
           "caxis": {
            "gridcolor": "white",
            "linecolor": "white",
            "ticks": ""
           }
          },
          "title": {
           "x": 0.05
          },
          "xaxis": {
           "automargin": true,
           "gridcolor": "white",
           "linecolor": "white",
           "ticks": "",
           "title": {
            "standoff": 15
           },
           "zerolinecolor": "white",
           "zerolinewidth": 2
          },
          "yaxis": {
           "automargin": true,
           "gridcolor": "white",
           "linecolor": "white",
           "ticks": "",
           "title": {
            "standoff": 15
           },
           "zerolinecolor": "white",
           "zerolinewidth": 2
          }
         }
        },
        "title": {
         "text": "15 najpredávanejších účinných látok 2020"
        },
        "uniformtext": {
         "minsize": 8,
         "mode": "hide"
        },
        "xaxis": {
         "anchor": "y",
         "domain": [
          0,
          1
         ],
         "title": {
          "text": "Počet balení"
         }
        },
        "yaxis": {
         "anchor": "x",
         "domain": [
          0,
          1
         ],
         "title": {
          "text": " "
         }
        }
       }
      }
     },
     "metadata": {}
    }
   ],
   "source": [
    "#clrs = {'Technécium': zelena, 'Paracetamol':zelena, 'Bisoprolol':zelena, 'Ibuprofén':zelena, 'Elektrolyty':ruzova, 'Amlodipín':oranzova, 'Alprazolam':oranzova, 'Diklofenak':oranzova, 'Metamizol, sodná soľ':ruzova, 'Metoprolol':zelena, 'Kyselina acetylsalicylová':oranzova, 'Zolpidém':oranzova, 'Atorvastatín':oranzova,'Xylometazolín':oranzova, 'Kyselina askorbová (vitamín C)':zelena}\n",
    "clrs = {'1':oranzova, 2:zelena, 0:ruzova}\n",
    "fig = px.bar(atc7.sort_values(by='Počet balení'), x='Počet balení', y='ATC7_popis', orientation='h', text='Počet balení',  color='farba', color_continuous_scale=[ruzova2, siva, zelena])\n",
    "fig.update_traces(texttemplate='%{text:.3s}', textposition='auto')\n",
    "fig.update_layout(uniformtext_minsize=8, uniformtext_mode='hide', title= '15 najpredávanejších účinných látok 2020')\n",
    "fig.update_xaxes(title='Počet balení')\n",
    "fig.update_yaxes(title=' ')\n",
    "fig.update(layout_coloraxis_showscale=False)\n",
    "fig.show()"
   ]
  },
  {
   "source": [
    "Mozeme si vsimnut, ze oproti roku 2019 sa nam zvysil predaj paracetamolu (pravdepodobne kvoli covidu). Avsak do tabulky sa dostal aj vitamin C"
   ],
   "cell_type": "markdown",
   "metadata": {}
  }
 ]
}