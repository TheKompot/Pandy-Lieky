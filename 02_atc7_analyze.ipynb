{
 "metadata": {
  "language_info": {
   "codemirror_mode": {
    "name": "ipython",
    "version": 3
   },
   "file_extension": ".py",
   "mimetype": "text/x-python",
   "name": "python",
   "nbconvert_exporter": "python",
   "pygments_lexer": "ipython3",
   "version": "3.8.9"
  },
  "orig_nbformat": 2,
  "kernelspec": {
   "name": "python389jvsc74a57bd01017e7ef34bc9880a6d739757632ec67a1d07c02b92348625323b240429e2599",
   "display_name": "Python 3.8.9 64-bit (windows store)"
  },
  "metadata": {
   "interpreter": {
    "hash": "1017e7ef34bc9880a6d739757632ec67a1d07c02b92348625323b240429e2599"
   }
  }
 },
 "nbformat": 4,
 "nbformat_minor": 2,
 "cells": [
  {
   "source": [
    "# Analyza liekov podla skupiny ATC7 \n",
    "## Otazky:\n",
    "* Ktore lieky s danou ucinnou latkou sa predavaju viac ako ostatne? Zavisi to od ceny, ktoru pacient zaplati alebo od krajiny vyrobcu?\n",
    "(mozno fajn vo vsetkych grafoch krajiny rovnakou farbou)\n",
    " 1409 roznych ucinnych latok"
   ],
   "cell_type": "markdown",
   "metadata": {}
  },
  {
   "cell_type": "code",
   "execution_count": 2,
   "metadata": {},
   "outputs": [],
   "source": [
    "import pandas as pd \n",
    "import numpy as np \n",
    "import matplotlib.pyplot as plt \n",
    "import plotly.express as px\n",
    "%run tables.py"
   ]
  },
  {
   "source": [
    "# Tabulka, s ktorou pracujeme (rok 2019) s vybranymi udajmi"
   ],
   "cell_type": "markdown",
   "metadata": {}
  },
  {
   "cell_type": "code",
   "execution_count": 3,
   "metadata": {},
   "outputs": [
    {
     "output_type": "display_data",
     "data": {
      "text/plain": "  ATC7_KOD                           ATC7_popis LIEK_KOD  \\\n0  A01AA03                              Olaflur   C40630   \n1  A01AA30  Profylaxia zubného kazu, kombinácie   C40631   \n2  A01AA30  Profylaxia zubného kazu, kombinácie   C85867   \n3  A01AB03                         Chlorhexidín   C14106   \n4  A01AB03                         Chlorhexidín   C34296   \n\n                         LIEK_popis STAT_popis  \\\n0       ELMEX FLUID sol dnt 1x50 ml    Nemecko   \n1        ELMEX gelee gel dnt 1x25 g    Nemecko   \n2       ELMEX gelee gel dnt 1x215 g    Nemecko   \n3         CORSODYL sol ora 1x600 ml      Česko   \n4  PROTEFIX ANTISEPT sol der 200 ml    Nemecko   \n\n                                       VYROBCA_popis  Počet balení  Úhrada_PAC  \n0                                          GABA GmbH          40.0      135.08  \n1                                       CP GABA GmbH       43832.5   313077.14  \n2                                       CP GABA GmbH          29.0      171.85  \n3  GlaxoSmithKline Consumer Healthcare Czech Repu...          72.0      254.33  \n4                         Queisser Pharma GmbH & Co.           6.0       27.82  ",
      "text/html": "<div>\n<style scoped>\n    .dataframe tbody tr th:only-of-type {\n        vertical-align: middle;\n    }\n\n    .dataframe tbody tr th {\n        vertical-align: top;\n    }\n\n    .dataframe thead th {\n        text-align: right;\n    }\n</style>\n<table border=\"1\" class=\"dataframe\">\n  <thead>\n    <tr style=\"text-align: right;\">\n      <th></th>\n      <th>ATC7_KOD</th>\n      <th>ATC7_popis</th>\n      <th>LIEK_KOD</th>\n      <th>LIEK_popis</th>\n      <th>STAT_popis</th>\n      <th>VYROBCA_popis</th>\n      <th>Počet balení</th>\n      <th>Úhrada_PAC</th>\n    </tr>\n  </thead>\n  <tbody>\n    <tr>\n      <th>0</th>\n      <td>A01AA03</td>\n      <td>Olaflur</td>\n      <td>C40630</td>\n      <td>ELMEX FLUID sol dnt 1x50 ml</td>\n      <td>Nemecko</td>\n      <td>GABA GmbH</td>\n      <td>40.0</td>\n      <td>135.08</td>\n    </tr>\n    <tr>\n      <th>1</th>\n      <td>A01AA30</td>\n      <td>Profylaxia zubného kazu, kombinácie</td>\n      <td>C40631</td>\n      <td>ELMEX gelee gel dnt 1x25 g</td>\n      <td>Nemecko</td>\n      <td>CP GABA GmbH</td>\n      <td>43832.5</td>\n      <td>313077.14</td>\n    </tr>\n    <tr>\n      <th>2</th>\n      <td>A01AA30</td>\n      <td>Profylaxia zubného kazu, kombinácie</td>\n      <td>C85867</td>\n      <td>ELMEX gelee gel dnt 1x215 g</td>\n      <td>Nemecko</td>\n      <td>CP GABA GmbH</td>\n      <td>29.0</td>\n      <td>171.85</td>\n    </tr>\n    <tr>\n      <th>3</th>\n      <td>A01AB03</td>\n      <td>Chlorhexidín</td>\n      <td>C14106</td>\n      <td>CORSODYL sol ora 1x600 ml</td>\n      <td>Česko</td>\n      <td>GlaxoSmithKline Consumer Healthcare Czech Repu...</td>\n      <td>72.0</td>\n      <td>254.33</td>\n    </tr>\n    <tr>\n      <th>4</th>\n      <td>A01AB03</td>\n      <td>Chlorhexidín</td>\n      <td>C34296</td>\n      <td>PROTEFIX ANTISEPT sol der 200 ml</td>\n      <td>Nemecko</td>\n      <td>Queisser Pharma GmbH &amp; Co.</td>\n      <td>6.0</td>\n      <td>27.82</td>\n    </tr>\n  </tbody>\n</table>\n</div>"
     },
     "metadata": {}
    },
    {
     "output_type": "display_data",
     "data": {
      "text/plain": "     ATC7_KOD   ATC7_popis LIEK_KOD                        LIEK_popis  \\\n9813      V12  Homeopatiká   C82842  GINKGO BILOBA plv 15 g ch2-ch200   \n9814      V12  Homeopatiká   C96701  ARNICA MONTANA ung 20 g ch2-ch30   \n9815      V12  Homeopatiká   C97944                   QUIETUDE tbl 60   \n9816      V12  Homeopatiká   C99176       BELLADONNA gra 4 g ch3-ch30   \n9817      V12  Homeopatiká   C99177   ARNICA MONTANA gra 4 g ch2-ch30   \n\n      STAT_popis        VYROBCA_popis  Počet balení  Úhrada_PAC  \n9813  Francúzsko  Laboratoires BOIRON         309.0      882.18  \n9814  Francúzsko  Laboratoires BOIRON          15.0       52.29  \n9815  Francúzsko  Laboratoires BOIRON         156.0     1030.21  \n9816  Francúzsko  Laboratoires BOIRON         183.0      631.73  \n9817  Francúzsko  Laboratoires BOIRON         700.0     2375.06  ",
      "text/html": "<div>\n<style scoped>\n    .dataframe tbody tr th:only-of-type {\n        vertical-align: middle;\n    }\n\n    .dataframe tbody tr th {\n        vertical-align: top;\n    }\n\n    .dataframe thead th {\n        text-align: right;\n    }\n</style>\n<table border=\"1\" class=\"dataframe\">\n  <thead>\n    <tr style=\"text-align: right;\">\n      <th></th>\n      <th>ATC7_KOD</th>\n      <th>ATC7_popis</th>\n      <th>LIEK_KOD</th>\n      <th>LIEK_popis</th>\n      <th>STAT_popis</th>\n      <th>VYROBCA_popis</th>\n      <th>Počet balení</th>\n      <th>Úhrada_PAC</th>\n    </tr>\n  </thead>\n  <tbody>\n    <tr>\n      <th>9813</th>\n      <td>V12</td>\n      <td>Homeopatiká</td>\n      <td>C82842</td>\n      <td>GINKGO BILOBA plv 15 g ch2-ch200</td>\n      <td>Francúzsko</td>\n      <td>Laboratoires BOIRON</td>\n      <td>309.0</td>\n      <td>882.18</td>\n    </tr>\n    <tr>\n      <th>9814</th>\n      <td>V12</td>\n      <td>Homeopatiká</td>\n      <td>C96701</td>\n      <td>ARNICA MONTANA ung 20 g ch2-ch30</td>\n      <td>Francúzsko</td>\n      <td>Laboratoires BOIRON</td>\n      <td>15.0</td>\n      <td>52.29</td>\n    </tr>\n    <tr>\n      <th>9815</th>\n      <td>V12</td>\n      <td>Homeopatiká</td>\n      <td>C97944</td>\n      <td>QUIETUDE tbl 60</td>\n      <td>Francúzsko</td>\n      <td>Laboratoires BOIRON</td>\n      <td>156.0</td>\n      <td>1030.21</td>\n    </tr>\n    <tr>\n      <th>9816</th>\n      <td>V12</td>\n      <td>Homeopatiká</td>\n      <td>C99176</td>\n      <td>BELLADONNA gra 4 g ch3-ch30</td>\n      <td>Francúzsko</td>\n      <td>Laboratoires BOIRON</td>\n      <td>183.0</td>\n      <td>631.73</td>\n    </tr>\n    <tr>\n      <th>9817</th>\n      <td>V12</td>\n      <td>Homeopatiká</td>\n      <td>C99177</td>\n      <td>ARNICA MONTANA gra 4 g ch2-ch30</td>\n      <td>Francúzsko</td>\n      <td>Laboratoires BOIRON</td>\n      <td>700.0</td>\n      <td>2375.06</td>\n    </tr>\n  </tbody>\n</table>\n</div>"
     },
     "metadata": {}
    }
   ],
   "source": [
    "table = import_table('detailed', 2019)\n",
    "table2019=table.loc[:,['ATC7_KOD','ATC7_popis','LIEK_KOD','LIEK_popis', 'STAT_popis', 'VYROBCA_popis', 'Počet balení','Úhrada_PAC']]\n",
    "table2019 = table2019.query('ATC7_KOD != \"(prazdne)\"').query( 'ATC7_popis != \"neznámy\"')\n",
    "table2019sum = table2019.groupby(['ATC7_KOD','ATC7_popis','LIEK_KOD','LIEK_popis', 'STAT_popis','VYROBCA_popis']).sum().reset_index()\n",
    "display(table2019sum.head())\n",
    "display(table2019sum.tail())\n",
    "#table2019sum['Cena úhrada_PAC/bal'] = table2019sum['Úhrada_PAC'] / table2019sum['Počet balení']\n"
   ]
  },
  {
   "source": [
    "# Tabulka: 20 najpredavanejsich ucinnych latok"
   ],
   "cell_type": "markdown",
   "metadata": {}
  },
  {
   "cell_type": "code",
   "execution_count": 4,
   "metadata": {},
   "outputs": [
    {
     "output_type": "display_data",
     "data": {
      "text/plain": "   ATC7_KOD                                  ATC7_popis  Počet balení\n0   V09FX01                              Technécium - (   9618479.510\n1   B05BB01                                 Elektrolyty   5331686.852\n2   N02BE01                                 Paracetamol   3297020.107\n3   M01AE01                                   Ibuprofén   2795946.717\n4   C07AB07                                  Bisoprolol   2607372.542\n5   C08CA01                                   Amlodipín   2119340.883\n6   N05BA12                                  Alprazolam   2045121.730\n7   M01AB05                                  Diklofenak   2013726.518\n8   N02BB02                        Metamizol, sodná soľ   1946250.707\n9   C07AB02                                  Metoprolol   1873602.519\n10  B01AC06                   Kyselina acetylsalicylová   1751434.007\n11  C10AA05                                Atorvastatín   1570661.378\n12  N05CF02                                    Zolpidém   1555453.927\n13  R01AA07                               Xylometazolín   1496827.500\n14  R02AA20                 Rôzne iné krčné antiseptiká   1444293.959\n15  N02BE51  Paracetamol, kombinácie okrem psycholeptík   1322071.122\n16  M02AA15                                  Diklofenak   1185154.441\n17  A11GA01              Kyselina askorbová (vitamín C)   1167817.511\n18  A02BC02                                 Pantoprazol   1151639.605\n19  R01AA09                                  Tramazolín   1135312.849",
      "text/html": "<div>\n<style scoped>\n    .dataframe tbody tr th:only-of-type {\n        vertical-align: middle;\n    }\n\n    .dataframe tbody tr th {\n        vertical-align: top;\n    }\n\n    .dataframe thead th {\n        text-align: right;\n    }\n</style>\n<table border=\"1\" class=\"dataframe\">\n  <thead>\n    <tr style=\"text-align: right;\">\n      <th></th>\n      <th>ATC7_KOD</th>\n      <th>ATC7_popis</th>\n      <th>Počet balení</th>\n    </tr>\n  </thead>\n  <tbody>\n    <tr>\n      <th>0</th>\n      <td>V09FX01</td>\n      <td>Technécium - (</td>\n      <td>9618479.510</td>\n    </tr>\n    <tr>\n      <th>1</th>\n      <td>B05BB01</td>\n      <td>Elektrolyty</td>\n      <td>5331686.852</td>\n    </tr>\n    <tr>\n      <th>2</th>\n      <td>N02BE01</td>\n      <td>Paracetamol</td>\n      <td>3297020.107</td>\n    </tr>\n    <tr>\n      <th>3</th>\n      <td>M01AE01</td>\n      <td>Ibuprofén</td>\n      <td>2795946.717</td>\n    </tr>\n    <tr>\n      <th>4</th>\n      <td>C07AB07</td>\n      <td>Bisoprolol</td>\n      <td>2607372.542</td>\n    </tr>\n    <tr>\n      <th>5</th>\n      <td>C08CA01</td>\n      <td>Amlodipín</td>\n      <td>2119340.883</td>\n    </tr>\n    <tr>\n      <th>6</th>\n      <td>N05BA12</td>\n      <td>Alprazolam</td>\n      <td>2045121.730</td>\n    </tr>\n    <tr>\n      <th>7</th>\n      <td>M01AB05</td>\n      <td>Diklofenak</td>\n      <td>2013726.518</td>\n    </tr>\n    <tr>\n      <th>8</th>\n      <td>N02BB02</td>\n      <td>Metamizol, sodná soľ</td>\n      <td>1946250.707</td>\n    </tr>\n    <tr>\n      <th>9</th>\n      <td>C07AB02</td>\n      <td>Metoprolol</td>\n      <td>1873602.519</td>\n    </tr>\n    <tr>\n      <th>10</th>\n      <td>B01AC06</td>\n      <td>Kyselina acetylsalicylová</td>\n      <td>1751434.007</td>\n    </tr>\n    <tr>\n      <th>11</th>\n      <td>C10AA05</td>\n      <td>Atorvastatín</td>\n      <td>1570661.378</td>\n    </tr>\n    <tr>\n      <th>12</th>\n      <td>N05CF02</td>\n      <td>Zolpidém</td>\n      <td>1555453.927</td>\n    </tr>\n    <tr>\n      <th>13</th>\n      <td>R01AA07</td>\n      <td>Xylometazolín</td>\n      <td>1496827.500</td>\n    </tr>\n    <tr>\n      <th>14</th>\n      <td>R02AA20</td>\n      <td>Rôzne iné krčné antiseptiká</td>\n      <td>1444293.959</td>\n    </tr>\n    <tr>\n      <th>15</th>\n      <td>N02BE51</td>\n      <td>Paracetamol, kombinácie okrem psycholeptík</td>\n      <td>1322071.122</td>\n    </tr>\n    <tr>\n      <th>16</th>\n      <td>M02AA15</td>\n      <td>Diklofenak</td>\n      <td>1185154.441</td>\n    </tr>\n    <tr>\n      <th>17</th>\n      <td>A11GA01</td>\n      <td>Kyselina askorbová (vitamín C)</td>\n      <td>1167817.511</td>\n    </tr>\n    <tr>\n      <th>18</th>\n      <td>A02BC02</td>\n      <td>Pantoprazol</td>\n      <td>1151639.605</td>\n    </tr>\n    <tr>\n      <th>19</th>\n      <td>R01AA09</td>\n      <td>Tramazolín</td>\n      <td>1135312.849</td>\n    </tr>\n  </tbody>\n</table>\n</div>"
     },
     "metadata": {}
    }
   ],
   "source": [
    "atc7 = table2019.loc[:,['ATC7_KOD', 'ATC7_popis','Počet balení']].groupby(['ATC7_KOD', 'ATC7_popis']).sum().sort_values(by='Počet balení', ascending=False).reset_index().head(20)\n",
    "display(atc7)"
   ]
  },
  {
   "source": [
    "## Ukazky udajov jednotlivych tabuliek (podla poctu baleni)"
   ],
   "cell_type": "markdown",
   "metadata": {}
  },
  {
   "cell_type": "code",
   "execution_count": 5,
   "metadata": {},
   "outputs": [
    {
     "output_type": "display_data",
     "data": {
      "text/plain": "   index ATC7_KOD      ATC7_popis LIEK_KOD  \\\n0   9547  V09FX01  Technécium - (   C91102   \n1   9546  V09FX01  Technécium - (   C15457   \n2   9541  V09FX01  Technécium - (   C15308   \n3   9545  V09FX01  Technécium - (   C15456   \n4   9540  V09FX01  Technécium - (   C15307   \n\n                                          LIEK_popis STAT_popis  \\\n0                             Drytec gen rnk 2,5 GBq  Holandsko   \n1                            Drytec gen rnk 10,0 GBq  Holandsko   \n2  Ultra-TechneKow FM (99mTC-generátor) inj 10,63...  Holandsko   \n3                             Drytec gen rnk 9,0 GBq  Holandsko   \n4  Ultra-TechneKow FM (99mTC-generátor) inj 8,50 ...  Holandsko   \n\n             VYROBCA_popis  Počet balení  Úhrada_PAC  \n0       GE Healthcare B.V.    6688913.50         0.0  \n1       GE Healthcare B.V.    1469870.00         0.0  \n2  Curium Netherlands B.V.     991979.00         0.0  \n3       GE Healthcare B.V.     467689.01         0.0  \n4  Curium Netherlands B.V.         14.00         0.0  ",
      "text/html": "<div>\n<style scoped>\n    .dataframe tbody tr th:only-of-type {\n        vertical-align: middle;\n    }\n\n    .dataframe tbody tr th {\n        vertical-align: top;\n    }\n\n    .dataframe thead th {\n        text-align: right;\n    }\n</style>\n<table border=\"1\" class=\"dataframe\">\n  <thead>\n    <tr style=\"text-align: right;\">\n      <th></th>\n      <th>index</th>\n      <th>ATC7_KOD</th>\n      <th>ATC7_popis</th>\n      <th>LIEK_KOD</th>\n      <th>LIEK_popis</th>\n      <th>STAT_popis</th>\n      <th>VYROBCA_popis</th>\n      <th>Počet balení</th>\n      <th>Úhrada_PAC</th>\n    </tr>\n  </thead>\n  <tbody>\n    <tr>\n      <th>0</th>\n      <td>9547</td>\n      <td>V09FX01</td>\n      <td>Technécium - (</td>\n      <td>C91102</td>\n      <td>Drytec gen rnk 2,5 GBq</td>\n      <td>Holandsko</td>\n      <td>GE Healthcare B.V.</td>\n      <td>6688913.50</td>\n      <td>0.0</td>\n    </tr>\n    <tr>\n      <th>1</th>\n      <td>9546</td>\n      <td>V09FX01</td>\n      <td>Technécium - (</td>\n      <td>C15457</td>\n      <td>Drytec gen rnk 10,0 GBq</td>\n      <td>Holandsko</td>\n      <td>GE Healthcare B.V.</td>\n      <td>1469870.00</td>\n      <td>0.0</td>\n    </tr>\n    <tr>\n      <th>2</th>\n      <td>9541</td>\n      <td>V09FX01</td>\n      <td>Technécium - (</td>\n      <td>C15308</td>\n      <td>Ultra-TechneKow FM (99mTC-generátor) inj 10,63...</td>\n      <td>Holandsko</td>\n      <td>Curium Netherlands B.V.</td>\n      <td>991979.00</td>\n      <td>0.0</td>\n    </tr>\n    <tr>\n      <th>3</th>\n      <td>9545</td>\n      <td>V09FX01</td>\n      <td>Technécium - (</td>\n      <td>C15456</td>\n      <td>Drytec gen rnk 9,0 GBq</td>\n      <td>Holandsko</td>\n      <td>GE Healthcare B.V.</td>\n      <td>467689.01</td>\n      <td>0.0</td>\n    </tr>\n    <tr>\n      <th>4</th>\n      <td>9540</td>\n      <td>V09FX01</td>\n      <td>Technécium - (</td>\n      <td>C15307</td>\n      <td>Ultra-TechneKow FM (99mTC-generátor) inj 8,50 ...</td>\n      <td>Holandsko</td>\n      <td>Curium Netherlands B.V.</td>\n      <td>14.00</td>\n      <td>0.0</td>\n    </tr>\n  </tbody>\n</table>\n</div>"
     },
     "metadata": {}
    },
    {
     "output_type": "display_data",
     "data": {
      "text/plain": "   index ATC7_KOD   ATC7_popis LIEK_KOD  \\\n0   1450  B05BB01  Elektrolyty   C37743   \n1   1432  B05BB01  Elektrolyty   C33593   \n2   1431  B05BB01  Elektrolyty   C33590   \n3   1505  B05BB01  Elektrolyty   C97748   \n4   1506  B05BB01  Elektrolyty   C97749   \n\n                                          LIEK_popis STAT_popis  \\\n0  0,9% SODIUM CHL.IN W.F.I.FRESENIUS sol inf 1x1...      Česko   \n1  0,9% SODIUM ChL.IN W.F.I.FRESENIUS sol inf 1x2...      Česko   \n2  0,9% SODIUM ChL.IN W.F.I.FRESENIUS sol inf 1x5...      Česko   \n3  SODIUM CHLORIDE 0,9%W/V I.V. INF inf 1x100 ml ...  Taliansko   \n4  SODIUM CHLORIDE 0,9%W/V I.V. INF inf 1x250 ml ...  Taliansko   \n\n           VYROBCA_popis  Počet balení  Úhrada_PAC  \n0  Fresenius Kabi s.r.o.    1115466.27     1758.64  \n1  Fresenius Kabi s.r.o.     999336.36     4893.52  \n2  Fresenius Kabi s.r.o.     789546.85     1375.02  \n3  Bieffe Medital S.p.A.     418659.15     5287.02  \n4  Bieffe Medital S.p.A.     381477.64    18777.30  ",
      "text/html": "<div>\n<style scoped>\n    .dataframe tbody tr th:only-of-type {\n        vertical-align: middle;\n    }\n\n    .dataframe tbody tr th {\n        vertical-align: top;\n    }\n\n    .dataframe thead th {\n        text-align: right;\n    }\n</style>\n<table border=\"1\" class=\"dataframe\">\n  <thead>\n    <tr style=\"text-align: right;\">\n      <th></th>\n      <th>index</th>\n      <th>ATC7_KOD</th>\n      <th>ATC7_popis</th>\n      <th>LIEK_KOD</th>\n      <th>LIEK_popis</th>\n      <th>STAT_popis</th>\n      <th>VYROBCA_popis</th>\n      <th>Počet balení</th>\n      <th>Úhrada_PAC</th>\n    </tr>\n  </thead>\n  <tbody>\n    <tr>\n      <th>0</th>\n      <td>1450</td>\n      <td>B05BB01</td>\n      <td>Elektrolyty</td>\n      <td>C37743</td>\n      <td>0,9% SODIUM CHL.IN W.F.I.FRESENIUS sol inf 1x1...</td>\n      <td>Česko</td>\n      <td>Fresenius Kabi s.r.o.</td>\n      <td>1115466.27</td>\n      <td>1758.64</td>\n    </tr>\n    <tr>\n      <th>1</th>\n      <td>1432</td>\n      <td>B05BB01</td>\n      <td>Elektrolyty</td>\n      <td>C33593</td>\n      <td>0,9% SODIUM ChL.IN W.F.I.FRESENIUS sol inf 1x2...</td>\n      <td>Česko</td>\n      <td>Fresenius Kabi s.r.o.</td>\n      <td>999336.36</td>\n      <td>4893.52</td>\n    </tr>\n    <tr>\n      <th>2</th>\n      <td>1431</td>\n      <td>B05BB01</td>\n      <td>Elektrolyty</td>\n      <td>C33590</td>\n      <td>0,9% SODIUM ChL.IN W.F.I.FRESENIUS sol inf 1x5...</td>\n      <td>Česko</td>\n      <td>Fresenius Kabi s.r.o.</td>\n      <td>789546.85</td>\n      <td>1375.02</td>\n    </tr>\n    <tr>\n      <th>3</th>\n      <td>1505</td>\n      <td>B05BB01</td>\n      <td>Elektrolyty</td>\n      <td>C97748</td>\n      <td>SODIUM CHLORIDE 0,9%W/V I.V. INF inf 1x100 ml ...</td>\n      <td>Taliansko</td>\n      <td>Bieffe Medital S.p.A.</td>\n      <td>418659.15</td>\n      <td>5287.02</td>\n    </tr>\n    <tr>\n      <th>4</th>\n      <td>1506</td>\n      <td>B05BB01</td>\n      <td>Elektrolyty</td>\n      <td>C97749</td>\n      <td>SODIUM CHLORIDE 0,9%W/V I.V. INF inf 1x250 ml ...</td>\n      <td>Taliansko</td>\n      <td>Bieffe Medital S.p.A.</td>\n      <td>381477.64</td>\n      <td>18777.30</td>\n    </tr>\n  </tbody>\n</table>\n</div>"
     },
     "metadata": {}
    },
    {
     "output_type": "display_data",
     "data": {
      "text/plain": "   index ATC7_KOD   ATC7_popis LIEK_KOD  \\\n0   6299  N02BE01  Paracetamol   C86052   \n1   6298  N02BE01  Paracetamol   C86051   \n2   6287  N02BE01  Paracetamol   C27613   \n3   6290  N02BE01  Paracetamol   C57476   \n4   6281  N02BE01  Paracetamol   C26627   \n\n                                          LIEK_popis STAT_popis  \\\n0            PARALEN 500 tbl 24x500 mg (blis.Al/PVC)  Slovensko   \n1            PARALEN 500 tbl 12x500 mg (blis.Al/PVC)  Slovensko   \n2                           PARALEN 100 sup 5x100 mg  Slovensko   \n3  Panadol Paracetamolum 500 mg tbl flm 24x500 mg...      Česko   \n4                          PARALEN 125 tbl 20x125 mg  Slovensko   \n\n                                       VYROBCA_popis  Počet balení  Úhrada_PAC  \n0                     sanofi-aventis Slovakia s.r.o.   2300126.084  3826254.68  \n1                     sanofi-aventis Slovakia s.r.o.    269140.730   279950.53  \n2                     sanofi-aventis Slovakia s.r.o.    139481.200   117364.89  \n3  GlaxoSmithKline Consumer Healthcare Czech Repu...    113876.250   194443.83  \n4                     sanofi-aventis Slovakia s.r.o.    111906.328    81286.36  ",
      "text/html": "<div>\n<style scoped>\n    .dataframe tbody tr th:only-of-type {\n        vertical-align: middle;\n    }\n\n    .dataframe tbody tr th {\n        vertical-align: top;\n    }\n\n    .dataframe thead th {\n        text-align: right;\n    }\n</style>\n<table border=\"1\" class=\"dataframe\">\n  <thead>\n    <tr style=\"text-align: right;\">\n      <th></th>\n      <th>index</th>\n      <th>ATC7_KOD</th>\n      <th>ATC7_popis</th>\n      <th>LIEK_KOD</th>\n      <th>LIEK_popis</th>\n      <th>STAT_popis</th>\n      <th>VYROBCA_popis</th>\n      <th>Počet balení</th>\n      <th>Úhrada_PAC</th>\n    </tr>\n  </thead>\n  <tbody>\n    <tr>\n      <th>0</th>\n      <td>6299</td>\n      <td>N02BE01</td>\n      <td>Paracetamol</td>\n      <td>C86052</td>\n      <td>PARALEN 500 tbl 24x500 mg (blis.Al/PVC)</td>\n      <td>Slovensko</td>\n      <td>sanofi-aventis Slovakia s.r.o.</td>\n      <td>2300126.084</td>\n      <td>3826254.68</td>\n    </tr>\n    <tr>\n      <th>1</th>\n      <td>6298</td>\n      <td>N02BE01</td>\n      <td>Paracetamol</td>\n      <td>C86051</td>\n      <td>PARALEN 500 tbl 12x500 mg (blis.Al/PVC)</td>\n      <td>Slovensko</td>\n      <td>sanofi-aventis Slovakia s.r.o.</td>\n      <td>269140.730</td>\n      <td>279950.53</td>\n    </tr>\n    <tr>\n      <th>2</th>\n      <td>6287</td>\n      <td>N02BE01</td>\n      <td>Paracetamol</td>\n      <td>C27613</td>\n      <td>PARALEN 100 sup 5x100 mg</td>\n      <td>Slovensko</td>\n      <td>sanofi-aventis Slovakia s.r.o.</td>\n      <td>139481.200</td>\n      <td>117364.89</td>\n    </tr>\n    <tr>\n      <th>3</th>\n      <td>6290</td>\n      <td>N02BE01</td>\n      <td>Paracetamol</td>\n      <td>C57476</td>\n      <td>Panadol Paracetamolum 500 mg tbl flm 24x500 mg...</td>\n      <td>Česko</td>\n      <td>GlaxoSmithKline Consumer Healthcare Czech Repu...</td>\n      <td>113876.250</td>\n      <td>194443.83</td>\n    </tr>\n    <tr>\n      <th>4</th>\n      <td>6281</td>\n      <td>N02BE01</td>\n      <td>Paracetamol</td>\n      <td>C26627</td>\n      <td>PARALEN 125 tbl 20x125 mg</td>\n      <td>Slovensko</td>\n      <td>sanofi-aventis Slovakia s.r.o.</td>\n      <td>111906.328</td>\n      <td>81286.36</td>\n    </tr>\n  </tbody>\n</table>\n</div>"
     },
     "metadata": {}
    },
    {
     "output_type": "display_data",
     "data": {
      "text/plain": "   index ATC7_KOD ATC7_popis LIEK_KOD  \\\n0   5604  M01AE01  Ibuprofén   C35458   \n1   5640  M01AE01  Ibuprofén   C7880A   \n2   5651  M01AE01  Ibuprofén   C97299   \n3   5618  M01AE01  Ibuprofén   C49851   \n4   5610  M01AE01  Ibuprofén   C45451   \n\n                                          LIEK_popis  STAT_popis  \\\n0                      IBALGIN 400 tbl flm 24x400 mg   Slovensko   \n1       Ibalgin 400 tbl flm 48x400 mg (blis. PVC/Al)   Slovensko   \n2                       BRUFEN 400 tbl flm 30x400 mg  Francúzsko   \n3                          MIG-400 tbl flm 30x400 mg     Nemecko   \n4  NUROFEN pre deti Jahoda sus por 1x100 ml (PET ...       Česko   \n\n                                       VYROBCA_popis  Počet balení  Úhrada_PAC  \n0                     sanofi-aventis Slovakia s.r.o.    596621.970  1885611.99  \n1                     sanofi-aventis Slovakia s.r.o.    293384.731  1432962.47  \n2                             Mylan Laboratories SAS    232798.061   868313.80  \n3                                   Berlin-Chemie AG    205849.323   706016.17  \n4  Reckitt Benckiser (Czech Republic), spol. s r.o.     160812.710   747388.09  ",
      "text/html": "<div>\n<style scoped>\n    .dataframe tbody tr th:only-of-type {\n        vertical-align: middle;\n    }\n\n    .dataframe tbody tr th {\n        vertical-align: top;\n    }\n\n    .dataframe thead th {\n        text-align: right;\n    }\n</style>\n<table border=\"1\" class=\"dataframe\">\n  <thead>\n    <tr style=\"text-align: right;\">\n      <th></th>\n      <th>index</th>\n      <th>ATC7_KOD</th>\n      <th>ATC7_popis</th>\n      <th>LIEK_KOD</th>\n      <th>LIEK_popis</th>\n      <th>STAT_popis</th>\n      <th>VYROBCA_popis</th>\n      <th>Počet balení</th>\n      <th>Úhrada_PAC</th>\n    </tr>\n  </thead>\n  <tbody>\n    <tr>\n      <th>0</th>\n      <td>5604</td>\n      <td>M01AE01</td>\n      <td>Ibuprofén</td>\n      <td>C35458</td>\n      <td>IBALGIN 400 tbl flm 24x400 mg</td>\n      <td>Slovensko</td>\n      <td>sanofi-aventis Slovakia s.r.o.</td>\n      <td>596621.970</td>\n      <td>1885611.99</td>\n    </tr>\n    <tr>\n      <th>1</th>\n      <td>5640</td>\n      <td>M01AE01</td>\n      <td>Ibuprofén</td>\n      <td>C7880A</td>\n      <td>Ibalgin 400 tbl flm 48x400 mg (blis. PVC/Al)</td>\n      <td>Slovensko</td>\n      <td>sanofi-aventis Slovakia s.r.o.</td>\n      <td>293384.731</td>\n      <td>1432962.47</td>\n    </tr>\n    <tr>\n      <th>2</th>\n      <td>5651</td>\n      <td>M01AE01</td>\n      <td>Ibuprofén</td>\n      <td>C97299</td>\n      <td>BRUFEN 400 tbl flm 30x400 mg</td>\n      <td>Francúzsko</td>\n      <td>Mylan Laboratories SAS</td>\n      <td>232798.061</td>\n      <td>868313.80</td>\n    </tr>\n    <tr>\n      <th>3</th>\n      <td>5618</td>\n      <td>M01AE01</td>\n      <td>Ibuprofén</td>\n      <td>C49851</td>\n      <td>MIG-400 tbl flm 30x400 mg</td>\n      <td>Nemecko</td>\n      <td>Berlin-Chemie AG</td>\n      <td>205849.323</td>\n      <td>706016.17</td>\n    </tr>\n    <tr>\n      <th>4</th>\n      <td>5610</td>\n      <td>M01AE01</td>\n      <td>Ibuprofén</td>\n      <td>C45451</td>\n      <td>NUROFEN pre deti Jahoda sus por 1x100 ml (PET ...</td>\n      <td>Česko</td>\n      <td>Reckitt Benckiser (Czech Republic), spol. s r.o.</td>\n      <td>160812.710</td>\n      <td>747388.09</td>\n    </tr>\n  </tbody>\n</table>\n</div>"
     },
     "metadata": {}
    },
    {
     "output_type": "display_data",
     "data": {
      "text/plain": "   index ATC7_KOD  ATC7_popis LIEK_KOD  \\\n0   2001  C07AB07  Bisoprolol   C94164   \n1   1997  C07AB07  Bisoprolol   C90028   \n2   1974  C07AB07  Bisoprolol   C33446   \n3   1971  C07AB07  Bisoprolol   C33427   \n4   2004  C07AB07  Bisoprolol   C97761   \n\n                                          LIEK_popis STAT_popis  \\\n0                           CONCOR 5 tbl flm 30x5 mg  Slovensko   \n1  CORONAL 5 tbl flm 30x5 mg (PVC/PE/PVDC/Alu blis.)  Slovensko   \n2             BISOPROLOL-ratiopharm 5 mg tbl 30x5 mg    Nemecko   \n3                CONCOR COR 2,5 mg tbl flm 30x2,5 mg  Slovensko   \n4                       BISOMERCK  5 tbl flm 30x5 mg  Slovensko   \n\n        VYROBCA_popis  Počet balení  Úhrada_PAC  \n0  Merck spol. s.r.o.     861847.12  2312824.20  \n1           ZNT-SK-2?     439825.33   198924.15  \n2     ratiopharm GmbH     361429.00    71700.98  \n3  Merck spol. s.r.o.     174083.00   439473.10  \n4  Merck spol. s.r.o.     116380.50   156601.14  ",
      "text/html": "<div>\n<style scoped>\n    .dataframe tbody tr th:only-of-type {\n        vertical-align: middle;\n    }\n\n    .dataframe tbody tr th {\n        vertical-align: top;\n    }\n\n    .dataframe thead th {\n        text-align: right;\n    }\n</style>\n<table border=\"1\" class=\"dataframe\">\n  <thead>\n    <tr style=\"text-align: right;\">\n      <th></th>\n      <th>index</th>\n      <th>ATC7_KOD</th>\n      <th>ATC7_popis</th>\n      <th>LIEK_KOD</th>\n      <th>LIEK_popis</th>\n      <th>STAT_popis</th>\n      <th>VYROBCA_popis</th>\n      <th>Počet balení</th>\n      <th>Úhrada_PAC</th>\n    </tr>\n  </thead>\n  <tbody>\n    <tr>\n      <th>0</th>\n      <td>2001</td>\n      <td>C07AB07</td>\n      <td>Bisoprolol</td>\n      <td>C94164</td>\n      <td>CONCOR 5 tbl flm 30x5 mg</td>\n      <td>Slovensko</td>\n      <td>Merck spol. s.r.o.</td>\n      <td>861847.12</td>\n      <td>2312824.20</td>\n    </tr>\n    <tr>\n      <th>1</th>\n      <td>1997</td>\n      <td>C07AB07</td>\n      <td>Bisoprolol</td>\n      <td>C90028</td>\n      <td>CORONAL 5 tbl flm 30x5 mg (PVC/PE/PVDC/Alu blis.)</td>\n      <td>Slovensko</td>\n      <td>ZNT-SK-2?</td>\n      <td>439825.33</td>\n      <td>198924.15</td>\n    </tr>\n    <tr>\n      <th>2</th>\n      <td>1974</td>\n      <td>C07AB07</td>\n      <td>Bisoprolol</td>\n      <td>C33446</td>\n      <td>BISOPROLOL-ratiopharm 5 mg tbl 30x5 mg</td>\n      <td>Nemecko</td>\n      <td>ratiopharm GmbH</td>\n      <td>361429.00</td>\n      <td>71700.98</td>\n    </tr>\n    <tr>\n      <th>3</th>\n      <td>1971</td>\n      <td>C07AB07</td>\n      <td>Bisoprolol</td>\n      <td>C33427</td>\n      <td>CONCOR COR 2,5 mg tbl flm 30x2,5 mg</td>\n      <td>Slovensko</td>\n      <td>Merck spol. s.r.o.</td>\n      <td>174083.00</td>\n      <td>439473.10</td>\n    </tr>\n    <tr>\n      <th>4</th>\n      <td>2004</td>\n      <td>C07AB07</td>\n      <td>Bisoprolol</td>\n      <td>C97761</td>\n      <td>BISOMERCK  5 tbl flm 30x5 mg</td>\n      <td>Slovensko</td>\n      <td>Merck spol. s.r.o.</td>\n      <td>116380.50</td>\n      <td>156601.14</td>\n    </tr>\n  </tbody>\n</table>\n</div>"
     },
     "metadata": {}
    },
    {
     "output_type": "display_data",
     "data": {
      "text/plain": "   index ATC7_KOD ATC7_popis LIEK_KOD  \\\n0   2084  C08CA01  Amlodipín   C13556   \n1   2094  C08CA01  Amlodipín   C37500   \n2   2089  C08CA01  Amlodipín   C34886   \n3   2105  C08CA01  Amlodipín   C62569   \n4   2085  C08CA01  Amlodipín   C13558   \n\n                                          LIEK_popis STAT_popis  \\\n0                                 AGEN 5 tbl 30x5 mg      Česko   \n1  Amlodipin Stichting 5 mg tablety tbl 30x5 mg (...  Slovinsko   \n2              AMLODIPIN-RATIOPHARM 5 mg tbl 30x5 mg    Nemecko   \n3                                NORVASC tbl 30x5 mg   Belgicko   \n4                               AGEN 10 tbl 30x10 mg      Česko   \n\n                 VYROBCA_popis  Počet balení  Úhrada_PAC  \n0                Zentiva, k.s.    890258.100   201748.72  \n1  Sandoz Pharmaceuticals d.d.    359816.500   104900.67  \n2              ratiopharm GmbH    320902.970    78281.35  \n3        Pfizer Europe MA EEIG    101640.000   341657.38  \n4                Zentiva, k.s.     94816.326   105940.59  ",
      "text/html": "<div>\n<style scoped>\n    .dataframe tbody tr th:only-of-type {\n        vertical-align: middle;\n    }\n\n    .dataframe tbody tr th {\n        vertical-align: top;\n    }\n\n    .dataframe thead th {\n        text-align: right;\n    }\n</style>\n<table border=\"1\" class=\"dataframe\">\n  <thead>\n    <tr style=\"text-align: right;\">\n      <th></th>\n      <th>index</th>\n      <th>ATC7_KOD</th>\n      <th>ATC7_popis</th>\n      <th>LIEK_KOD</th>\n      <th>LIEK_popis</th>\n      <th>STAT_popis</th>\n      <th>VYROBCA_popis</th>\n      <th>Počet balení</th>\n      <th>Úhrada_PAC</th>\n    </tr>\n  </thead>\n  <tbody>\n    <tr>\n      <th>0</th>\n      <td>2084</td>\n      <td>C08CA01</td>\n      <td>Amlodipín</td>\n      <td>C13556</td>\n      <td>AGEN 5 tbl 30x5 mg</td>\n      <td>Česko</td>\n      <td>Zentiva, k.s.</td>\n      <td>890258.100</td>\n      <td>201748.72</td>\n    </tr>\n    <tr>\n      <th>1</th>\n      <td>2094</td>\n      <td>C08CA01</td>\n      <td>Amlodipín</td>\n      <td>C37500</td>\n      <td>Amlodipin Stichting 5 mg tablety tbl 30x5 mg (...</td>\n      <td>Slovinsko</td>\n      <td>Sandoz Pharmaceuticals d.d.</td>\n      <td>359816.500</td>\n      <td>104900.67</td>\n    </tr>\n    <tr>\n      <th>2</th>\n      <td>2089</td>\n      <td>C08CA01</td>\n      <td>Amlodipín</td>\n      <td>C34886</td>\n      <td>AMLODIPIN-RATIOPHARM 5 mg tbl 30x5 mg</td>\n      <td>Nemecko</td>\n      <td>ratiopharm GmbH</td>\n      <td>320902.970</td>\n      <td>78281.35</td>\n    </tr>\n    <tr>\n      <th>3</th>\n      <td>2105</td>\n      <td>C08CA01</td>\n      <td>Amlodipín</td>\n      <td>C62569</td>\n      <td>NORVASC tbl 30x5 mg</td>\n      <td>Belgicko</td>\n      <td>Pfizer Europe MA EEIG</td>\n      <td>101640.000</td>\n      <td>341657.38</td>\n    </tr>\n    <tr>\n      <th>4</th>\n      <td>2085</td>\n      <td>C08CA01</td>\n      <td>Amlodipín</td>\n      <td>C13558</td>\n      <td>AGEN 10 tbl 30x10 mg</td>\n      <td>Česko</td>\n      <td>Zentiva, k.s.</td>\n      <td>94816.326</td>\n      <td>105940.59</td>\n    </tr>\n  </tbody>\n</table>\n</div>"
     },
     "metadata": {}
    },
    {
     "output_type": "display_data",
     "data": {
      "text/plain": "   index ATC7_KOD  ATC7_popis LIEK_KOD                          LIEK_popis  \\\n0   7195  N05BA12  Alprazolam   C33494  NEUROL 0,5 mg tbl 30x0,5 mg (bli.)   \n1   7203  N05BA12  Alprazolam   C91788   NEUROL 0,25 tbl 30x0,25 mg (bli.)   \n2   7189  N05BA12  Alprazolam   C14596         FRONTIN 0,5MG tbl 30x0,5 mg   \n3   7199  N05BA12  Alprazolam   C86656    NEUROL 1,0 tbl 30x1,00 mg (bli.)   \n4   7187  N05BA12  Alprazolam   C14594       FRONTIN 0,25MG tbl 30x0,25 mg   \n\n  STAT_popis             VYROBCA_popis  Počet balení  Úhrada_PAC  \n0      Česko             Zentiva, k.s.      478721.0   625761.97  \n1      Česko             Zentiva, k.s.      360820.0   351477.76  \n2   Maďarsko  EGIS Pharmaceuticals PLC      256590.2   346183.19  \n3      Česko             Zentiva, k.s.      216768.5   418523.86  \n4   Maďarsko  EGIS Pharmaceuticals PLC      190090.0   180653.82  ",
      "text/html": "<div>\n<style scoped>\n    .dataframe tbody tr th:only-of-type {\n        vertical-align: middle;\n    }\n\n    .dataframe tbody tr th {\n        vertical-align: top;\n    }\n\n    .dataframe thead th {\n        text-align: right;\n    }\n</style>\n<table border=\"1\" class=\"dataframe\">\n  <thead>\n    <tr style=\"text-align: right;\">\n      <th></th>\n      <th>index</th>\n      <th>ATC7_KOD</th>\n      <th>ATC7_popis</th>\n      <th>LIEK_KOD</th>\n      <th>LIEK_popis</th>\n      <th>STAT_popis</th>\n      <th>VYROBCA_popis</th>\n      <th>Počet balení</th>\n      <th>Úhrada_PAC</th>\n    </tr>\n  </thead>\n  <tbody>\n    <tr>\n      <th>0</th>\n      <td>7195</td>\n      <td>N05BA12</td>\n      <td>Alprazolam</td>\n      <td>C33494</td>\n      <td>NEUROL 0,5 mg tbl 30x0,5 mg (bli.)</td>\n      <td>Česko</td>\n      <td>Zentiva, k.s.</td>\n      <td>478721.0</td>\n      <td>625761.97</td>\n    </tr>\n    <tr>\n      <th>1</th>\n      <td>7203</td>\n      <td>N05BA12</td>\n      <td>Alprazolam</td>\n      <td>C91788</td>\n      <td>NEUROL 0,25 tbl 30x0,25 mg (bli.)</td>\n      <td>Česko</td>\n      <td>Zentiva, k.s.</td>\n      <td>360820.0</td>\n      <td>351477.76</td>\n    </tr>\n    <tr>\n      <th>2</th>\n      <td>7189</td>\n      <td>N05BA12</td>\n      <td>Alprazolam</td>\n      <td>C14596</td>\n      <td>FRONTIN 0,5MG tbl 30x0,5 mg</td>\n      <td>Maďarsko</td>\n      <td>EGIS Pharmaceuticals PLC</td>\n      <td>256590.2</td>\n      <td>346183.19</td>\n    </tr>\n    <tr>\n      <th>3</th>\n      <td>7199</td>\n      <td>N05BA12</td>\n      <td>Alprazolam</td>\n      <td>C86656</td>\n      <td>NEUROL 1,0 tbl 30x1,00 mg (bli.)</td>\n      <td>Česko</td>\n      <td>Zentiva, k.s.</td>\n      <td>216768.5</td>\n      <td>418523.86</td>\n    </tr>\n    <tr>\n      <th>4</th>\n      <td>7187</td>\n      <td>N05BA12</td>\n      <td>Alprazolam</td>\n      <td>C14594</td>\n      <td>FRONTIN 0,25MG tbl 30x0,25 mg</td>\n      <td>Maďarsko</td>\n      <td>EGIS Pharmaceuticals PLC</td>\n      <td>190090.0</td>\n      <td>180653.82</td>\n    </tr>\n  </tbody>\n</table>\n</div>"
     },
     "metadata": {}
    },
    {
     "output_type": "display_data",
     "data": {
      "text/plain": "   index ATC7_KOD  ATC7_popis LIEK_KOD  \\\n0   5492  M01AB05  Diklofenak   C55701   \n1   5476  M01AB05  Diklofenak   C23849   \n2   5510  M01AB05  Diklofenak   C89136   \n3   5501  M01AB05  Diklofenak   C67547   \n4   5480  M01AB05  Diklofenak   C27802   \n\n                                          LIEK_popis STAT_popis  \\\n0                 FLECTOR EP RAPID 50MG gra 20x50 mg  Slovensko   \n1  Voltaren Rapid 25 mg cps mol 20x25 mg (blis.PV...      Česko   \n2    DICLOFENAC DUO PHARMAVIT 75 mg cps mod 30x75 mg      Česko   \n3                          ALMIRAL inj 10x3 ml/75 mg     Cyprus   \n4              VOLTAREN RAPID 50 mg tbl obd 20x50 mg  Slovensko   \n\n                                       VYROBCA_popis  Počet balení  Úhrada_PAC  \n0                               IBSA Slovakia s.r.o.     755843.97  2614771.88  \n1  GlaxoSmithKline Consumer Healthcare Czech Repu...     184241.68  1082657.96  \n2                 PharmaSwiss Česká republika s.r.o.     170025.01   469116.41  \n3                                    Medochemie Ltd.     167764.83   104939.22  \n4                           Novartis Slovakia s.r.o.     163277.90   145603.20  ",
      "text/html": "<div>\n<style scoped>\n    .dataframe tbody tr th:only-of-type {\n        vertical-align: middle;\n    }\n\n    .dataframe tbody tr th {\n        vertical-align: top;\n    }\n\n    .dataframe thead th {\n        text-align: right;\n    }\n</style>\n<table border=\"1\" class=\"dataframe\">\n  <thead>\n    <tr style=\"text-align: right;\">\n      <th></th>\n      <th>index</th>\n      <th>ATC7_KOD</th>\n      <th>ATC7_popis</th>\n      <th>LIEK_KOD</th>\n      <th>LIEK_popis</th>\n      <th>STAT_popis</th>\n      <th>VYROBCA_popis</th>\n      <th>Počet balení</th>\n      <th>Úhrada_PAC</th>\n    </tr>\n  </thead>\n  <tbody>\n    <tr>\n      <th>0</th>\n      <td>5492</td>\n      <td>M01AB05</td>\n      <td>Diklofenak</td>\n      <td>C55701</td>\n      <td>FLECTOR EP RAPID 50MG gra 20x50 mg</td>\n      <td>Slovensko</td>\n      <td>IBSA Slovakia s.r.o.</td>\n      <td>755843.97</td>\n      <td>2614771.88</td>\n    </tr>\n    <tr>\n      <th>1</th>\n      <td>5476</td>\n      <td>M01AB05</td>\n      <td>Diklofenak</td>\n      <td>C23849</td>\n      <td>Voltaren Rapid 25 mg cps mol 20x25 mg (blis.PV...</td>\n      <td>Česko</td>\n      <td>GlaxoSmithKline Consumer Healthcare Czech Repu...</td>\n      <td>184241.68</td>\n      <td>1082657.96</td>\n    </tr>\n    <tr>\n      <th>2</th>\n      <td>5510</td>\n      <td>M01AB05</td>\n      <td>Diklofenak</td>\n      <td>C89136</td>\n      <td>DICLOFENAC DUO PHARMAVIT 75 mg cps mod 30x75 mg</td>\n      <td>Česko</td>\n      <td>PharmaSwiss Česká republika s.r.o.</td>\n      <td>170025.01</td>\n      <td>469116.41</td>\n    </tr>\n    <tr>\n      <th>3</th>\n      <td>5501</td>\n      <td>M01AB05</td>\n      <td>Diklofenak</td>\n      <td>C67547</td>\n      <td>ALMIRAL inj 10x3 ml/75 mg</td>\n      <td>Cyprus</td>\n      <td>Medochemie Ltd.</td>\n      <td>167764.83</td>\n      <td>104939.22</td>\n    </tr>\n    <tr>\n      <th>4</th>\n      <td>5480</td>\n      <td>M01AB05</td>\n      <td>Diklofenak</td>\n      <td>C27802</td>\n      <td>VOLTAREN RAPID 50 mg tbl obd 20x50 mg</td>\n      <td>Slovensko</td>\n      <td>Novartis Slovakia s.r.o.</td>\n      <td>163277.90</td>\n      <td>145603.20</td>\n    </tr>\n  </tbody>\n</table>\n</div>"
     },
     "metadata": {}
    },
    {
     "output_type": "display_data",
     "data": {
      "text/plain": "   index ATC7_KOD            ATC7_popis LIEK_KOD  \\\n0   6248  N02BB02  Metamizol, sodná soľ   C24857   \n1   6245  N02BB02  Metamizol, sodná soľ   C24459   \n2   6257  N02BB02  Metamizol, sodná soľ   C7520A   \n3   6255  N02BB02  Metamizol, sodná soľ   C6590B   \n4   6246  N02BB02  Metamizol, sodná soľ   C24530   \n\n                                          LIEK_popis STAT_popis  \\\n0                  NOVALGIN 500 mg tbl flm 20x500 mg  Slovensko   \n1       NOVALGIN 500 mg/1 ml sol inj 10x2 ml/1000 mg  Slovensko   \n2  Metamizol Stada 500 mg/ml perorálne roztokové ...    Nemecko   \n3     METAMISTAD tablety tbl 50x500 mg (blis.PVC/Al)    Nemecko   \n4        NOVALGIN 500 mg/1 ml sol inj 5x5 ml/2500 mg  Slovensko   \n\n                    VYROBCA_popis  Počet balení  Úhrada_PAC  \n0  sanofi-aventis Slovakia s.r.o.   1342217.310  1574143.21  \n1  sanofi-aventis Slovakia s.r.o.    122225.700   119052.25  \n2           STADA Arzneimittel AG     97835.600    90901.77  \n3           STADA Arzneimittel AG     96200.357    53449.98  \n4  sanofi-aventis Slovakia s.r.o.     96195.000    43043.01  ",
      "text/html": "<div>\n<style scoped>\n    .dataframe tbody tr th:only-of-type {\n        vertical-align: middle;\n    }\n\n    .dataframe tbody tr th {\n        vertical-align: top;\n    }\n\n    .dataframe thead th {\n        text-align: right;\n    }\n</style>\n<table border=\"1\" class=\"dataframe\">\n  <thead>\n    <tr style=\"text-align: right;\">\n      <th></th>\n      <th>index</th>\n      <th>ATC7_KOD</th>\n      <th>ATC7_popis</th>\n      <th>LIEK_KOD</th>\n      <th>LIEK_popis</th>\n      <th>STAT_popis</th>\n      <th>VYROBCA_popis</th>\n      <th>Počet balení</th>\n      <th>Úhrada_PAC</th>\n    </tr>\n  </thead>\n  <tbody>\n    <tr>\n      <th>0</th>\n      <td>6248</td>\n      <td>N02BB02</td>\n      <td>Metamizol, sodná soľ</td>\n      <td>C24857</td>\n      <td>NOVALGIN 500 mg tbl flm 20x500 mg</td>\n      <td>Slovensko</td>\n      <td>sanofi-aventis Slovakia s.r.o.</td>\n      <td>1342217.310</td>\n      <td>1574143.21</td>\n    </tr>\n    <tr>\n      <th>1</th>\n      <td>6245</td>\n      <td>N02BB02</td>\n      <td>Metamizol, sodná soľ</td>\n      <td>C24459</td>\n      <td>NOVALGIN 500 mg/1 ml sol inj 10x2 ml/1000 mg</td>\n      <td>Slovensko</td>\n      <td>sanofi-aventis Slovakia s.r.o.</td>\n      <td>122225.700</td>\n      <td>119052.25</td>\n    </tr>\n    <tr>\n      <th>2</th>\n      <td>6257</td>\n      <td>N02BB02</td>\n      <td>Metamizol, sodná soľ</td>\n      <td>C7520A</td>\n      <td>Metamizol Stada 500 mg/ml perorálne roztokové ...</td>\n      <td>Nemecko</td>\n      <td>STADA Arzneimittel AG</td>\n      <td>97835.600</td>\n      <td>90901.77</td>\n    </tr>\n    <tr>\n      <th>3</th>\n      <td>6255</td>\n      <td>N02BB02</td>\n      <td>Metamizol, sodná soľ</td>\n      <td>C6590B</td>\n      <td>METAMISTAD tablety tbl 50x500 mg (blis.PVC/Al)</td>\n      <td>Nemecko</td>\n      <td>STADA Arzneimittel AG</td>\n      <td>96200.357</td>\n      <td>53449.98</td>\n    </tr>\n    <tr>\n      <th>4</th>\n      <td>6246</td>\n      <td>N02BB02</td>\n      <td>Metamizol, sodná soľ</td>\n      <td>C24530</td>\n      <td>NOVALGIN 500 mg/1 ml sol inj 5x5 ml/2500 mg</td>\n      <td>Slovensko</td>\n      <td>sanofi-aventis Slovakia s.r.o.</td>\n      <td>96195.000</td>\n      <td>43043.01</td>\n    </tr>\n  </tbody>\n</table>\n</div>"
     },
     "metadata": {}
    },
    {
     "output_type": "display_data",
     "data": {
      "text/plain": "   index ATC7_KOD  ATC7_popis LIEK_KOD  \\\n0   1945  C07AB02  Metoprolol   C28641   \n1   1937  C07AB02  Metoprolol   C14959   \n2   1941  C07AB02  Metoprolol   C25634   \n3   1944  C07AB02  Metoprolol   C28639   \n4   1954  C07AB02  Metoprolol   C69827   \n\n                                          LIEK_popis STAT_popis  \\\n0         BETALOC ZOK 50MG (blist.) tbl mod 28x50 mg  Taliansko   \n1        BETALOC ZOK 25 mg (blist.) tbl mod 28x25 mg  Taliansko   \n2          VASOCARDIN 50 tbl 50(5x10)x50 mg (blist.)  Slovensko   \n3      BETALOC ZOK 100 mg (blist.) tbl mod 28x100 mg  Taliansko   \n4  Metoprolol ratiopharm 50 mg tbl plg 30x50 mg (...    Nemecko   \n\n                                       VYROBCA_popis  Počet balení  Úhrada_PAC  \n0  Recordati Industria Chimica e Farmaceutica S.p.A.      415989.0  1335363.74  \n1  Recordati Industria Chimica e Farmaceutica S.p.A.      301260.5  1055435.89  \n2                                          ZNT-SK-2?      253627.8    11447.21  \n3  Recordati Industria Chimica e Farmaceutica S.p.A.      194362.0   600822.26  \n4                                    ratiopharm GmbH      168777.1    28732.82  ",
      "text/html": "<div>\n<style scoped>\n    .dataframe tbody tr th:only-of-type {\n        vertical-align: middle;\n    }\n\n    .dataframe tbody tr th {\n        vertical-align: top;\n    }\n\n    .dataframe thead th {\n        text-align: right;\n    }\n</style>\n<table border=\"1\" class=\"dataframe\">\n  <thead>\n    <tr style=\"text-align: right;\">\n      <th></th>\n      <th>index</th>\n      <th>ATC7_KOD</th>\n      <th>ATC7_popis</th>\n      <th>LIEK_KOD</th>\n      <th>LIEK_popis</th>\n      <th>STAT_popis</th>\n      <th>VYROBCA_popis</th>\n      <th>Počet balení</th>\n      <th>Úhrada_PAC</th>\n    </tr>\n  </thead>\n  <tbody>\n    <tr>\n      <th>0</th>\n      <td>1945</td>\n      <td>C07AB02</td>\n      <td>Metoprolol</td>\n      <td>C28641</td>\n      <td>BETALOC ZOK 50MG (blist.) tbl mod 28x50 mg</td>\n      <td>Taliansko</td>\n      <td>Recordati Industria Chimica e Farmaceutica S.p.A.</td>\n      <td>415989.0</td>\n      <td>1335363.74</td>\n    </tr>\n    <tr>\n      <th>1</th>\n      <td>1937</td>\n      <td>C07AB02</td>\n      <td>Metoprolol</td>\n      <td>C14959</td>\n      <td>BETALOC ZOK 25 mg (blist.) tbl mod 28x25 mg</td>\n      <td>Taliansko</td>\n      <td>Recordati Industria Chimica e Farmaceutica S.p.A.</td>\n      <td>301260.5</td>\n      <td>1055435.89</td>\n    </tr>\n    <tr>\n      <th>2</th>\n      <td>1941</td>\n      <td>C07AB02</td>\n      <td>Metoprolol</td>\n      <td>C25634</td>\n      <td>VASOCARDIN 50 tbl 50(5x10)x50 mg (blist.)</td>\n      <td>Slovensko</td>\n      <td>ZNT-SK-2?</td>\n      <td>253627.8</td>\n      <td>11447.21</td>\n    </tr>\n    <tr>\n      <th>3</th>\n      <td>1944</td>\n      <td>C07AB02</td>\n      <td>Metoprolol</td>\n      <td>C28639</td>\n      <td>BETALOC ZOK 100 mg (blist.) tbl mod 28x100 mg</td>\n      <td>Taliansko</td>\n      <td>Recordati Industria Chimica e Farmaceutica S.p.A.</td>\n      <td>194362.0</td>\n      <td>600822.26</td>\n    </tr>\n    <tr>\n      <th>4</th>\n      <td>1954</td>\n      <td>C07AB02</td>\n      <td>Metoprolol</td>\n      <td>C69827</td>\n      <td>Metoprolol ratiopharm 50 mg tbl plg 30x50 mg (...</td>\n      <td>Nemecko</td>\n      <td>ratiopharm GmbH</td>\n      <td>168777.1</td>\n      <td>28732.82</td>\n    </tr>\n  </tbody>\n</table>\n</div>"
     },
     "metadata": {}
    },
    {
     "output_type": "display_data",
     "data": {
      "text/plain": "   index ATC7_KOD                 ATC7_popis LIEK_KOD  \\\n0   1000  B01AC06  Kyselina acetylsalicylová   C23029   \n1   1001  B01AC06  Kyselina acetylsalicylová   C23030   \n2    996  B01AC06  Kyselina acetylsalicylová   C12460   \n3   1002  B01AC06  Kyselina acetylsalicylová   C3492A   \n4   1008  B01AC06  Kyselina acetylsalicylová   C5131A   \n\n                                          LIEK_popis STAT_popis  \\\n0        ANOPYRIN 100 mg tbl 56x100 mg (blis.PVC/Al)  Slovensko   \n1        ANOPYRIN 100 mg tbl 84x100 mg (blis.PVC/Al)  Slovensko   \n2              ASPIRIN PROTECT 100 tbl ent 50x100 mg  Slovensko   \n3  STADAPYRIN 100 mg tbl ent 60x100 mg (blis.PVC/Al)    Nemecko   \n4  STADAPYRIN 100 mg tbl ent 120x100 mg (blis.PVC...    Nemecko   \n\n           VYROBCA_popis  Počet balení  Úhrada_PAC  \n0              ZNT-SK-2?    537364.368   939250.30  \n1              ZNT-SK-2?    419356.344  1009800.82  \n2    Bayer, spol. s.r.o.    241531.880   783576.97  \n3  STADA Arzneimittel AG    105627.101   207325.82  \n4  STADA Arzneimittel AG     95864.974   346927.37  ",
      "text/html": "<div>\n<style scoped>\n    .dataframe tbody tr th:only-of-type {\n        vertical-align: middle;\n    }\n\n    .dataframe tbody tr th {\n        vertical-align: top;\n    }\n\n    .dataframe thead th {\n        text-align: right;\n    }\n</style>\n<table border=\"1\" class=\"dataframe\">\n  <thead>\n    <tr style=\"text-align: right;\">\n      <th></th>\n      <th>index</th>\n      <th>ATC7_KOD</th>\n      <th>ATC7_popis</th>\n      <th>LIEK_KOD</th>\n      <th>LIEK_popis</th>\n      <th>STAT_popis</th>\n      <th>VYROBCA_popis</th>\n      <th>Počet balení</th>\n      <th>Úhrada_PAC</th>\n    </tr>\n  </thead>\n  <tbody>\n    <tr>\n      <th>0</th>\n      <td>1000</td>\n      <td>B01AC06</td>\n      <td>Kyselina acetylsalicylová</td>\n      <td>C23029</td>\n      <td>ANOPYRIN 100 mg tbl 56x100 mg (blis.PVC/Al)</td>\n      <td>Slovensko</td>\n      <td>ZNT-SK-2?</td>\n      <td>537364.368</td>\n      <td>939250.30</td>\n    </tr>\n    <tr>\n      <th>1</th>\n      <td>1001</td>\n      <td>B01AC06</td>\n      <td>Kyselina acetylsalicylová</td>\n      <td>C23030</td>\n      <td>ANOPYRIN 100 mg tbl 84x100 mg (blis.PVC/Al)</td>\n      <td>Slovensko</td>\n      <td>ZNT-SK-2?</td>\n      <td>419356.344</td>\n      <td>1009800.82</td>\n    </tr>\n    <tr>\n      <th>2</th>\n      <td>996</td>\n      <td>B01AC06</td>\n      <td>Kyselina acetylsalicylová</td>\n      <td>C12460</td>\n      <td>ASPIRIN PROTECT 100 tbl ent 50x100 mg</td>\n      <td>Slovensko</td>\n      <td>Bayer, spol. s.r.o.</td>\n      <td>241531.880</td>\n      <td>783576.97</td>\n    </tr>\n    <tr>\n      <th>3</th>\n      <td>1002</td>\n      <td>B01AC06</td>\n      <td>Kyselina acetylsalicylová</td>\n      <td>C3492A</td>\n      <td>STADAPYRIN 100 mg tbl ent 60x100 mg (blis.PVC/Al)</td>\n      <td>Nemecko</td>\n      <td>STADA Arzneimittel AG</td>\n      <td>105627.101</td>\n      <td>207325.82</td>\n    </tr>\n    <tr>\n      <th>4</th>\n      <td>1008</td>\n      <td>B01AC06</td>\n      <td>Kyselina acetylsalicylová</td>\n      <td>C5131A</td>\n      <td>STADAPYRIN 100 mg tbl ent 120x100 mg (blis.PVC...</td>\n      <td>Nemecko</td>\n      <td>STADA Arzneimittel AG</td>\n      <td>95864.974</td>\n      <td>346927.37</td>\n    </tr>\n  </tbody>\n</table>\n</div>"
     },
     "metadata": {}
    },
    {
     "output_type": "display_data",
     "data": {
      "text/plain": "   index ATC7_KOD    ATC7_popis LIEK_KOD  \\\n0   2847  C10AA05  Atorvastatín   C3053B   \n1   2880  C10AA05  Atorvastatín   C40541   \n2   2879  C10AA05  Atorvastatín   C40538   \n3   2863  C10AA05  Atorvastatín   C38841   \n4   2864  C10AA05  Atorvastatín   C38846   \n\n                                          LIEK_popis STAT_popis  \\\n0  Torvacard Novum 20 mg tbl flm 90x20 mg (blis.O...      Česko   \n1                         ATORIS 20 tbl flm 90x20 mg  Slovinsko   \n2                         ATORIS 20 tbl flm 30x20 mg  Slovinsko   \n3  Atorvastatin Actavis 20 mg tbl flm 30x20 mg (b...     Island   \n4  Atorvastatin Actavis 20 mg tbl flm 100x20 mg (...     Island   \n\n           VYROBCA_popis  Počet balení  Úhrada_PAC  \n0          Zentiva, k.s.    137486.552   297993.59  \n1  KRKA d.d., Novo mesto    133908.820   382533.66  \n2  KRKA d.d., Novo mesto    111426.090   114511.80  \n3  Actavis Group PTC ehf     94341.990    31342.27  \n4  Actavis Group PTC ehf     91083.300    74300.28  ",
      "text/html": "<div>\n<style scoped>\n    .dataframe tbody tr th:only-of-type {\n        vertical-align: middle;\n    }\n\n    .dataframe tbody tr th {\n        vertical-align: top;\n    }\n\n    .dataframe thead th {\n        text-align: right;\n    }\n</style>\n<table border=\"1\" class=\"dataframe\">\n  <thead>\n    <tr style=\"text-align: right;\">\n      <th></th>\n      <th>index</th>\n      <th>ATC7_KOD</th>\n      <th>ATC7_popis</th>\n      <th>LIEK_KOD</th>\n      <th>LIEK_popis</th>\n      <th>STAT_popis</th>\n      <th>VYROBCA_popis</th>\n      <th>Počet balení</th>\n      <th>Úhrada_PAC</th>\n    </tr>\n  </thead>\n  <tbody>\n    <tr>\n      <th>0</th>\n      <td>2847</td>\n      <td>C10AA05</td>\n      <td>Atorvastatín</td>\n      <td>C3053B</td>\n      <td>Torvacard Novum 20 mg tbl flm 90x20 mg (blis.O...</td>\n      <td>Česko</td>\n      <td>Zentiva, k.s.</td>\n      <td>137486.552</td>\n      <td>297993.59</td>\n    </tr>\n    <tr>\n      <th>1</th>\n      <td>2880</td>\n      <td>C10AA05</td>\n      <td>Atorvastatín</td>\n      <td>C40541</td>\n      <td>ATORIS 20 tbl flm 90x20 mg</td>\n      <td>Slovinsko</td>\n      <td>KRKA d.d., Novo mesto</td>\n      <td>133908.820</td>\n      <td>382533.66</td>\n    </tr>\n    <tr>\n      <th>2</th>\n      <td>2879</td>\n      <td>C10AA05</td>\n      <td>Atorvastatín</td>\n      <td>C40538</td>\n      <td>ATORIS 20 tbl flm 30x20 mg</td>\n      <td>Slovinsko</td>\n      <td>KRKA d.d., Novo mesto</td>\n      <td>111426.090</td>\n      <td>114511.80</td>\n    </tr>\n    <tr>\n      <th>3</th>\n      <td>2863</td>\n      <td>C10AA05</td>\n      <td>Atorvastatín</td>\n      <td>C38841</td>\n      <td>Atorvastatin Actavis 20 mg tbl flm 30x20 mg (b...</td>\n      <td>Island</td>\n      <td>Actavis Group PTC ehf</td>\n      <td>94341.990</td>\n      <td>31342.27</td>\n    </tr>\n    <tr>\n      <th>4</th>\n      <td>2864</td>\n      <td>C10AA05</td>\n      <td>Atorvastatín</td>\n      <td>C38846</td>\n      <td>Atorvastatin Actavis 20 mg tbl flm 100x20 mg (...</td>\n      <td>Island</td>\n      <td>Actavis Group PTC ehf</td>\n      <td>91083.300</td>\n      <td>74300.28</td>\n    </tr>\n  </tbody>\n</table>\n</div>"
     },
     "metadata": {}
    },
    {
     "output_type": "display_data",
     "data": {
      "text/plain": "   index ATC7_KOD ATC7_popis LIEK_KOD                             LIEK_popis  \\\n0   7250  N05CF02   Zolpidém   C68902                  STILNOX 10 mg TBL FLM   \n1   7255  N05CF02   Zolpidém   C83373                  STILNOX 10 mg TBL FLM   \n2   7247  N05CF02   Zolpidém   C46861              HYPNOGEN tbl flm 15x10 mg   \n3   7245  N05CF02   Zolpidém   C14610          SANVAL 10 mg tbl flm 20x10 mg   \n4   7256  N05CF02   Zolpidém   C92955  ZOLPIDEM MERCK 10 mg tbl flm 20x10 mg   \n\n  STAT_popis                   VYROBCA_popis  Počet balení  Úhrada_PAC  \n0  Slovensko  sanofi-aventis Slovakia s.r.o.     442430.66  1012808.95  \n1  Slovensko  sanofi-aventis Slovakia s.r.o.     423611.00   437661.24  \n2    Nemecko                     Takeda GmbH     248027.35   394571.60  \n3  Slovinsko     Sandoz Pharmaceuticals d.d.     177540.10   184548.25  \n4      ĺrsko           Mylan Ireland Limited      97213.24   154214.22  ",
      "text/html": "<div>\n<style scoped>\n    .dataframe tbody tr th:only-of-type {\n        vertical-align: middle;\n    }\n\n    .dataframe tbody tr th {\n        vertical-align: top;\n    }\n\n    .dataframe thead th {\n        text-align: right;\n    }\n</style>\n<table border=\"1\" class=\"dataframe\">\n  <thead>\n    <tr style=\"text-align: right;\">\n      <th></th>\n      <th>index</th>\n      <th>ATC7_KOD</th>\n      <th>ATC7_popis</th>\n      <th>LIEK_KOD</th>\n      <th>LIEK_popis</th>\n      <th>STAT_popis</th>\n      <th>VYROBCA_popis</th>\n      <th>Počet balení</th>\n      <th>Úhrada_PAC</th>\n    </tr>\n  </thead>\n  <tbody>\n    <tr>\n      <th>0</th>\n      <td>7250</td>\n      <td>N05CF02</td>\n      <td>Zolpidém</td>\n      <td>C68902</td>\n      <td>STILNOX 10 mg TBL FLM</td>\n      <td>Slovensko</td>\n      <td>sanofi-aventis Slovakia s.r.o.</td>\n      <td>442430.66</td>\n      <td>1012808.95</td>\n    </tr>\n    <tr>\n      <th>1</th>\n      <td>7255</td>\n      <td>N05CF02</td>\n      <td>Zolpidém</td>\n      <td>C83373</td>\n      <td>STILNOX 10 mg TBL FLM</td>\n      <td>Slovensko</td>\n      <td>sanofi-aventis Slovakia s.r.o.</td>\n      <td>423611.00</td>\n      <td>437661.24</td>\n    </tr>\n    <tr>\n      <th>2</th>\n      <td>7247</td>\n      <td>N05CF02</td>\n      <td>Zolpidém</td>\n      <td>C46861</td>\n      <td>HYPNOGEN tbl flm 15x10 mg</td>\n      <td>Nemecko</td>\n      <td>Takeda GmbH</td>\n      <td>248027.35</td>\n      <td>394571.60</td>\n    </tr>\n    <tr>\n      <th>3</th>\n      <td>7245</td>\n      <td>N05CF02</td>\n      <td>Zolpidém</td>\n      <td>C14610</td>\n      <td>SANVAL 10 mg tbl flm 20x10 mg</td>\n      <td>Slovinsko</td>\n      <td>Sandoz Pharmaceuticals d.d.</td>\n      <td>177540.10</td>\n      <td>184548.25</td>\n    </tr>\n    <tr>\n      <th>4</th>\n      <td>7256</td>\n      <td>N05CF02</td>\n      <td>Zolpidém</td>\n      <td>C92955</td>\n      <td>ZOLPIDEM MERCK 10 mg tbl flm 20x10 mg</td>\n      <td>ĺrsko</td>\n      <td>Mylan Ireland Limited</td>\n      <td>97213.24</td>\n      <td>154214.22</td>\n    </tr>\n  </tbody>\n</table>\n</div>"
     },
     "metadata": {}
    },
    {
     "output_type": "display_data",
     "data": {
      "text/plain": "   index ATC7_KOD     ATC7_popis LIEK_KOD  \\\n0   7812  R01AA07  Xylometazolín   C76962   \n1   7800  R01AA07  Xylometazolín   C36097   \n2   7798  R01AA07  Xylometazolín   C2872A   \n3   7807  R01AA07  Xylometazolín   C68978   \n4   7799  R01AA07  Xylometazolín   C36096   \n\n                                          LIEK_popis STAT_popis  \\\n0                    OLYNTH 0,1 % aer nao 10 ml 0,1%      ĺrsko   \n1                    OLYNTH HA 0,1 % aer nao 1x10 ml      ĺrsko   \n2  Otrivin Menthol 0,1% aer nao 1x10 ml (fľ.HDPE ...      Česko   \n3        mar rhino 0,1% nosový sprej aer nao 1x15 ml    Nemecko   \n4                   OLYNTH HA 0,05 % aer nao 1x10 ml      ĺrsko   \n\n                                       VYROBCA_popis  Počet balení  Úhrada_PAC  \n0                McNeil Healthcare (Ireland) Limited      553939.0  2079755.78  \n1                McNeil Healthcare (Ireland) Limited      456407.0  2190324.28  \n2  GlaxoSmithKline Consumer Healthcare Czech Repu...      133135.0   681134.20  \n3                              STADA Arzneimittel AG       90071.0   339016.91  \n4                McNeil Healthcare (Ireland) Limited       72639.0   350843.34  ",
      "text/html": "<div>\n<style scoped>\n    .dataframe tbody tr th:only-of-type {\n        vertical-align: middle;\n    }\n\n    .dataframe tbody tr th {\n        vertical-align: top;\n    }\n\n    .dataframe thead th {\n        text-align: right;\n    }\n</style>\n<table border=\"1\" class=\"dataframe\">\n  <thead>\n    <tr style=\"text-align: right;\">\n      <th></th>\n      <th>index</th>\n      <th>ATC7_KOD</th>\n      <th>ATC7_popis</th>\n      <th>LIEK_KOD</th>\n      <th>LIEK_popis</th>\n      <th>STAT_popis</th>\n      <th>VYROBCA_popis</th>\n      <th>Počet balení</th>\n      <th>Úhrada_PAC</th>\n    </tr>\n  </thead>\n  <tbody>\n    <tr>\n      <th>0</th>\n      <td>7812</td>\n      <td>R01AA07</td>\n      <td>Xylometazolín</td>\n      <td>C76962</td>\n      <td>OLYNTH 0,1 % aer nao 10 ml 0,1%</td>\n      <td>ĺrsko</td>\n      <td>McNeil Healthcare (Ireland) Limited</td>\n      <td>553939.0</td>\n      <td>2079755.78</td>\n    </tr>\n    <tr>\n      <th>1</th>\n      <td>7800</td>\n      <td>R01AA07</td>\n      <td>Xylometazolín</td>\n      <td>C36097</td>\n      <td>OLYNTH HA 0,1 % aer nao 1x10 ml</td>\n      <td>ĺrsko</td>\n      <td>McNeil Healthcare (Ireland) Limited</td>\n      <td>456407.0</td>\n      <td>2190324.28</td>\n    </tr>\n    <tr>\n      <th>2</th>\n      <td>7798</td>\n      <td>R01AA07</td>\n      <td>Xylometazolín</td>\n      <td>C2872A</td>\n      <td>Otrivin Menthol 0,1% aer nao 1x10 ml (fľ.HDPE ...</td>\n      <td>Česko</td>\n      <td>GlaxoSmithKline Consumer Healthcare Czech Repu...</td>\n      <td>133135.0</td>\n      <td>681134.20</td>\n    </tr>\n    <tr>\n      <th>3</th>\n      <td>7807</td>\n      <td>R01AA07</td>\n      <td>Xylometazolín</td>\n      <td>C68978</td>\n      <td>mar rhino 0,1% nosový sprej aer nao 1x15 ml</td>\n      <td>Nemecko</td>\n      <td>STADA Arzneimittel AG</td>\n      <td>90071.0</td>\n      <td>339016.91</td>\n    </tr>\n    <tr>\n      <th>4</th>\n      <td>7799</td>\n      <td>R01AA07</td>\n      <td>Xylometazolín</td>\n      <td>C36096</td>\n      <td>OLYNTH HA 0,05 % aer nao 1x10 ml</td>\n      <td>ĺrsko</td>\n      <td>McNeil Healthcare (Ireland) Limited</td>\n      <td>72639.0</td>\n      <td>350843.34</td>\n    </tr>\n  </tbody>\n</table>\n</div>"
     },
     "metadata": {}
    },
    {
     "output_type": "display_data",
     "data": {
      "text/plain": "   index ATC7_KOD                   ATC7_popis LIEK_KOD  \\\n0   7900  R02AA20  Rôzne iné krčné antiseptiká   C26747   \n1   7925  R02AA20  Rôzne iné krčné antiseptiká   C62547   \n2   7932  R02AA20  Rôzne iné krčné antiseptiká   C67008   \n3   7936  R02AA20  Rôzne iné krčné antiseptiká   C96521   \n4   7911  R02AA20  Rôzne iné krčné antiseptiká   C44219   \n\n                          LIEK_popis STAT_popis  \\\n0             Dorithricin pas ord 20    Nemecko   \n1  STREPSILS Med a Citrón pas ord 24      Česko   \n2     NEO-ANGIN bez cukru pas ord 24    Nemecko   \n3               SEPTISAN tbl 20x5 mg  Slovensko   \n4        STREPSILS PLUS pas ora 1x24      Česko   \n\n                                       VYROBCA_popis  Počet balení  Úhrada_PAC  \n0                        Medice Pharma GmbH & Co. KG    653423.650  4647661.34  \n1  Reckitt Benckiser (Czech Republic), spol. s r.o.     149267.740   944644.61  \n2                                    Divapharma GmbH     94564.240   612499.19  \n3                     sanofi-aventis Slovakia s.r.o.     90881.000   301647.58  \n4  Reckitt Benckiser (Czech Republic), spol. s r.o.      76438.189   564480.76  ",
      "text/html": "<div>\n<style scoped>\n    .dataframe tbody tr th:only-of-type {\n        vertical-align: middle;\n    }\n\n    .dataframe tbody tr th {\n        vertical-align: top;\n    }\n\n    .dataframe thead th {\n        text-align: right;\n    }\n</style>\n<table border=\"1\" class=\"dataframe\">\n  <thead>\n    <tr style=\"text-align: right;\">\n      <th></th>\n      <th>index</th>\n      <th>ATC7_KOD</th>\n      <th>ATC7_popis</th>\n      <th>LIEK_KOD</th>\n      <th>LIEK_popis</th>\n      <th>STAT_popis</th>\n      <th>VYROBCA_popis</th>\n      <th>Počet balení</th>\n      <th>Úhrada_PAC</th>\n    </tr>\n  </thead>\n  <tbody>\n    <tr>\n      <th>0</th>\n      <td>7900</td>\n      <td>R02AA20</td>\n      <td>Rôzne iné krčné antiseptiká</td>\n      <td>C26747</td>\n      <td>Dorithricin pas ord 20</td>\n      <td>Nemecko</td>\n      <td>Medice Pharma GmbH &amp; Co. KG</td>\n      <td>653423.650</td>\n      <td>4647661.34</td>\n    </tr>\n    <tr>\n      <th>1</th>\n      <td>7925</td>\n      <td>R02AA20</td>\n      <td>Rôzne iné krčné antiseptiká</td>\n      <td>C62547</td>\n      <td>STREPSILS Med a Citrón pas ord 24</td>\n      <td>Česko</td>\n      <td>Reckitt Benckiser (Czech Republic), spol. s r.o.</td>\n      <td>149267.740</td>\n      <td>944644.61</td>\n    </tr>\n    <tr>\n      <th>2</th>\n      <td>7932</td>\n      <td>R02AA20</td>\n      <td>Rôzne iné krčné antiseptiká</td>\n      <td>C67008</td>\n      <td>NEO-ANGIN bez cukru pas ord 24</td>\n      <td>Nemecko</td>\n      <td>Divapharma GmbH</td>\n      <td>94564.240</td>\n      <td>612499.19</td>\n    </tr>\n    <tr>\n      <th>3</th>\n      <td>7936</td>\n      <td>R02AA20</td>\n      <td>Rôzne iné krčné antiseptiká</td>\n      <td>C96521</td>\n      <td>SEPTISAN tbl 20x5 mg</td>\n      <td>Slovensko</td>\n      <td>sanofi-aventis Slovakia s.r.o.</td>\n      <td>90881.000</td>\n      <td>301647.58</td>\n    </tr>\n    <tr>\n      <th>4</th>\n      <td>7911</td>\n      <td>R02AA20</td>\n      <td>Rôzne iné krčné antiseptiká</td>\n      <td>C44219</td>\n      <td>STREPSILS PLUS pas ora 1x24</td>\n      <td>Česko</td>\n      <td>Reckitt Benckiser (Czech Republic), spol. s r.o.</td>\n      <td>76438.189</td>\n      <td>564480.76</td>\n    </tr>\n  </tbody>\n</table>\n</div>"
     },
     "metadata": {}
    },
    {
     "output_type": "display_data",
     "data": {
      "text/plain": "   index ATC7_KOD                                  ATC7_popis LIEK_KOD  \\\n0   6367  N02BE51  Paracetamol, kombinácie okrem psycholeptík   C65951   \n1   6334  N02BE51  Paracetamol, kombinácie okrem psycholeptík   C30229   \n2   6342  N02BE51  Paracetamol, kombinácie okrem psycholeptík   C33813   \n3   6347  N02BE51  Paracetamol, kombinácie okrem psycholeptík   C36516   \n4   6311  N02BE51  Paracetamol, kombinácie okrem psycholeptík   C0381A   \n\n                                          LIEK_popis STAT_popis  \\\n0  TheraFlu prechladnutie a chrípka plo por 1x14 ...      Česko   \n1                            PARALEN PLUS tbl flm 24  Slovensko   \n2  THERAFLU PRECHLADNUTIE A CHRÍPKA plo por 1x10 ...      Česko   \n3             PARALEN HOT DRINK plu por 1x12 vreciek  Slovensko   \n4  PARALEN GRIP chrípka a bolesť tbl flm 1x24 (bl...  Slovensko   \n\n                                       VYROBCA_popis  Počet balení  Úhrada_PAC  \n0  GlaxoSmithKline Consumer Healthcare Czech Repu...    422718.171  3954421.86  \n1                     sanofi-aventis Slovakia s.r.o.    100459.030   589486.22  \n2  GlaxoSmithKline Consumer Healthcare Czech Repu...     81452.991   671984.16  \n3                     sanofi-aventis Slovakia s.r.o.     65515.562   481851.44  \n4                     sanofi-aventis Slovakia s.r.o.     61588.890   362517.93  ",
      "text/html": "<div>\n<style scoped>\n    .dataframe tbody tr th:only-of-type {\n        vertical-align: middle;\n    }\n\n    .dataframe tbody tr th {\n        vertical-align: top;\n    }\n\n    .dataframe thead th {\n        text-align: right;\n    }\n</style>\n<table border=\"1\" class=\"dataframe\">\n  <thead>\n    <tr style=\"text-align: right;\">\n      <th></th>\n      <th>index</th>\n      <th>ATC7_KOD</th>\n      <th>ATC7_popis</th>\n      <th>LIEK_KOD</th>\n      <th>LIEK_popis</th>\n      <th>STAT_popis</th>\n      <th>VYROBCA_popis</th>\n      <th>Počet balení</th>\n      <th>Úhrada_PAC</th>\n    </tr>\n  </thead>\n  <tbody>\n    <tr>\n      <th>0</th>\n      <td>6367</td>\n      <td>N02BE51</td>\n      <td>Paracetamol, kombinácie okrem psycholeptík</td>\n      <td>C65951</td>\n      <td>TheraFlu prechladnutie a chrípka plo por 1x14 ...</td>\n      <td>Česko</td>\n      <td>GlaxoSmithKline Consumer Healthcare Czech Repu...</td>\n      <td>422718.171</td>\n      <td>3954421.86</td>\n    </tr>\n    <tr>\n      <th>1</th>\n      <td>6334</td>\n      <td>N02BE51</td>\n      <td>Paracetamol, kombinácie okrem psycholeptík</td>\n      <td>C30229</td>\n      <td>PARALEN PLUS tbl flm 24</td>\n      <td>Slovensko</td>\n      <td>sanofi-aventis Slovakia s.r.o.</td>\n      <td>100459.030</td>\n      <td>589486.22</td>\n    </tr>\n    <tr>\n      <th>2</th>\n      <td>6342</td>\n      <td>N02BE51</td>\n      <td>Paracetamol, kombinácie okrem psycholeptík</td>\n      <td>C33813</td>\n      <td>THERAFLU PRECHLADNUTIE A CHRÍPKA plo por 1x10 ...</td>\n      <td>Česko</td>\n      <td>GlaxoSmithKline Consumer Healthcare Czech Repu...</td>\n      <td>81452.991</td>\n      <td>671984.16</td>\n    </tr>\n    <tr>\n      <th>3</th>\n      <td>6347</td>\n      <td>N02BE51</td>\n      <td>Paracetamol, kombinácie okrem psycholeptík</td>\n      <td>C36516</td>\n      <td>PARALEN HOT DRINK plu por 1x12 vreciek</td>\n      <td>Slovensko</td>\n      <td>sanofi-aventis Slovakia s.r.o.</td>\n      <td>65515.562</td>\n      <td>481851.44</td>\n    </tr>\n    <tr>\n      <th>4</th>\n      <td>6311</td>\n      <td>N02BE51</td>\n      <td>Paracetamol, kombinácie okrem psycholeptík</td>\n      <td>C0381A</td>\n      <td>PARALEN GRIP chrípka a bolesť tbl flm 1x24 (bl...</td>\n      <td>Slovensko</td>\n      <td>sanofi-aventis Slovakia s.r.o.</td>\n      <td>61588.890</td>\n      <td>362517.93</td>\n    </tr>\n  </tbody>\n</table>\n</div>"
     },
     "metadata": {}
    },
    {
     "output_type": "display_data",
     "data": {
      "text/plain": "   index ATC7_KOD  ATC7_popis LIEK_KOD  \\\n0   5780  M02AA15  Diklofenak   C11849   \n1   5781  M02AA15  Diklofenak   C11851   \n2   5785  M02AA15  Diklofenak   C18515   \n3   5784  M02AA15  Diklofenak   C18514   \n4   5808  M02AA15  Diklofenak   C84453   \n\n                                          LIEK_popis STAT_popis  \\\n0  Voltaren Forte 2,32 % gél gel der 1x100 g (tub...      Česko   \n1  Voltaren Forte 2,32 % gél gel der 1x150 g (tub...      Česko   \n2                      FLECTOR EP TISSUGEL emp tdm 5  Slovensko   \n3                             FLECTOR EP gel 1x100 g  Slovensko   \n4                              DICLOBENE gel 1x100 g  Holandsko   \n\n                                       VYROBCA_popis  Počet balení  Úhrada_PAC  \n0  GlaxoSmithKline Consumer Healthcare Czech Repu...     189743.17  2256703.40  \n1  GlaxoSmithKline Consumer Healthcare Czech Repu...     136412.90  2083185.45  \n2                               IBSA Slovakia s.r.o.     136175.20  1201954.19  \n3                               IBSA Slovakia s.r.o.     112500.25   884399.45  \n4                                          TEV-NL-4?      94815.70   515849.66  ",
      "text/html": "<div>\n<style scoped>\n    .dataframe tbody tr th:only-of-type {\n        vertical-align: middle;\n    }\n\n    .dataframe tbody tr th {\n        vertical-align: top;\n    }\n\n    .dataframe thead th {\n        text-align: right;\n    }\n</style>\n<table border=\"1\" class=\"dataframe\">\n  <thead>\n    <tr style=\"text-align: right;\">\n      <th></th>\n      <th>index</th>\n      <th>ATC7_KOD</th>\n      <th>ATC7_popis</th>\n      <th>LIEK_KOD</th>\n      <th>LIEK_popis</th>\n      <th>STAT_popis</th>\n      <th>VYROBCA_popis</th>\n      <th>Počet balení</th>\n      <th>Úhrada_PAC</th>\n    </tr>\n  </thead>\n  <tbody>\n    <tr>\n      <th>0</th>\n      <td>5780</td>\n      <td>M02AA15</td>\n      <td>Diklofenak</td>\n      <td>C11849</td>\n      <td>Voltaren Forte 2,32 % gél gel der 1x100 g (tub...</td>\n      <td>Česko</td>\n      <td>GlaxoSmithKline Consumer Healthcare Czech Repu...</td>\n      <td>189743.17</td>\n      <td>2256703.40</td>\n    </tr>\n    <tr>\n      <th>1</th>\n      <td>5781</td>\n      <td>M02AA15</td>\n      <td>Diklofenak</td>\n      <td>C11851</td>\n      <td>Voltaren Forte 2,32 % gél gel der 1x150 g (tub...</td>\n      <td>Česko</td>\n      <td>GlaxoSmithKline Consumer Healthcare Czech Repu...</td>\n      <td>136412.90</td>\n      <td>2083185.45</td>\n    </tr>\n    <tr>\n      <th>2</th>\n      <td>5785</td>\n      <td>M02AA15</td>\n      <td>Diklofenak</td>\n      <td>C18515</td>\n      <td>FLECTOR EP TISSUGEL emp tdm 5</td>\n      <td>Slovensko</td>\n      <td>IBSA Slovakia s.r.o.</td>\n      <td>136175.20</td>\n      <td>1201954.19</td>\n    </tr>\n    <tr>\n      <th>3</th>\n      <td>5784</td>\n      <td>M02AA15</td>\n      <td>Diklofenak</td>\n      <td>C18514</td>\n      <td>FLECTOR EP gel 1x100 g</td>\n      <td>Slovensko</td>\n      <td>IBSA Slovakia s.r.o.</td>\n      <td>112500.25</td>\n      <td>884399.45</td>\n    </tr>\n    <tr>\n      <th>4</th>\n      <td>5808</td>\n      <td>M02AA15</td>\n      <td>Diklofenak</td>\n      <td>C84453</td>\n      <td>DICLOBENE gel 1x100 g</td>\n      <td>Holandsko</td>\n      <td>TEV-NL-4?</td>\n      <td>94815.70</td>\n      <td>515849.66</td>\n    </tr>\n  </tbody>\n</table>\n</div>"
     },
     "metadata": {}
    },
    {
     "output_type": "display_data",
     "data": {
      "text/plain": "   index ATC7_KOD                      ATC7_popis LIEK_KOD  \\\n0    782  A11GA01  Kyselina askorbová (vitamín C)   C78278   \n1    781  A11GA01  Kyselina askorbová (vitamín C)   C78277   \n2    778  A11GA01  Kyselina askorbová (vitamín C)   C42420   \n3    777  A11GA01  Kyselina askorbová (vitamín C)   C35913   \n4    771  A11GA01  Kyselina askorbová (vitamín C)   C24836   \n\n                                          LIEK_popis STAT_popis  \\\n0                        CELASKON 250 tbl 100x250 mg  Slovensko   \n1                         CELASKON 250 tbl 30x250 mg  Slovensko   \n2  CELASKON 500 mg červený pomaranč tbl eff 30x50...  Slovensko   \n3             CELASKON LONG EFFECT cps pld 60x500 mg  Slovensko   \n4    ACIDUM ASCORBICUM BIOTIKA sol inj 5x5 ml/500 mg      Česko   \n\n                    VYROBCA_popis  Počet balení  Úhrada_PAC  \n0  sanofi-aventis Slovakia s.r.o.    396438.278  1796114.28  \n1  sanofi-aventis Slovakia s.r.o.    250880.500   389292.20  \n2  sanofi-aventis Slovakia s.r.o.    106336.777   602810.11  \n3  sanofi-aventis Slovakia s.r.o.     79906.524   654347.40  \n4                  BB Pharma a.s.     79579.400    42800.62  ",
      "text/html": "<div>\n<style scoped>\n    .dataframe tbody tr th:only-of-type {\n        vertical-align: middle;\n    }\n\n    .dataframe tbody tr th {\n        vertical-align: top;\n    }\n\n    .dataframe thead th {\n        text-align: right;\n    }\n</style>\n<table border=\"1\" class=\"dataframe\">\n  <thead>\n    <tr style=\"text-align: right;\">\n      <th></th>\n      <th>index</th>\n      <th>ATC7_KOD</th>\n      <th>ATC7_popis</th>\n      <th>LIEK_KOD</th>\n      <th>LIEK_popis</th>\n      <th>STAT_popis</th>\n      <th>VYROBCA_popis</th>\n      <th>Počet balení</th>\n      <th>Úhrada_PAC</th>\n    </tr>\n  </thead>\n  <tbody>\n    <tr>\n      <th>0</th>\n      <td>782</td>\n      <td>A11GA01</td>\n      <td>Kyselina askorbová (vitamín C)</td>\n      <td>C78278</td>\n      <td>CELASKON 250 tbl 100x250 mg</td>\n      <td>Slovensko</td>\n      <td>sanofi-aventis Slovakia s.r.o.</td>\n      <td>396438.278</td>\n      <td>1796114.28</td>\n    </tr>\n    <tr>\n      <th>1</th>\n      <td>781</td>\n      <td>A11GA01</td>\n      <td>Kyselina askorbová (vitamín C)</td>\n      <td>C78277</td>\n      <td>CELASKON 250 tbl 30x250 mg</td>\n      <td>Slovensko</td>\n      <td>sanofi-aventis Slovakia s.r.o.</td>\n      <td>250880.500</td>\n      <td>389292.20</td>\n    </tr>\n    <tr>\n      <th>2</th>\n      <td>778</td>\n      <td>A11GA01</td>\n      <td>Kyselina askorbová (vitamín C)</td>\n      <td>C42420</td>\n      <td>CELASKON 500 mg červený pomaranč tbl eff 30x50...</td>\n      <td>Slovensko</td>\n      <td>sanofi-aventis Slovakia s.r.o.</td>\n      <td>106336.777</td>\n      <td>602810.11</td>\n    </tr>\n    <tr>\n      <th>3</th>\n      <td>777</td>\n      <td>A11GA01</td>\n      <td>Kyselina askorbová (vitamín C)</td>\n      <td>C35913</td>\n      <td>CELASKON LONG EFFECT cps pld 60x500 mg</td>\n      <td>Slovensko</td>\n      <td>sanofi-aventis Slovakia s.r.o.</td>\n      <td>79906.524</td>\n      <td>654347.40</td>\n    </tr>\n    <tr>\n      <th>4</th>\n      <td>771</td>\n      <td>A11GA01</td>\n      <td>Kyselina askorbová (vitamín C)</td>\n      <td>C24836</td>\n      <td>ACIDUM ASCORBICUM BIOTIKA sol inj 5x5 ml/500 mg</td>\n      <td>Česko</td>\n      <td>BB Pharma a.s.</td>\n      <td>79579.400</td>\n      <td>42800.62</td>\n    </tr>\n  </tbody>\n</table>\n</div>"
     },
     "metadata": {}
    },
    {
     "output_type": "display_data",
     "data": {
      "text/plain": "   index ATC7_KOD   ATC7_popis LIEK_KOD  \\\n0    138  A02BC02  Pantoprazol   C43345   \n1    139  A02BC02  Pantoprazol   C43349   \n2    142  A02BC02  Pantoprazol   C43362   \n3    141  A02BC02  Pantoprazol   C43358   \n4    144  A02BC02  Pantoprazol   C43791   \n\n                                          LIEK_popis STAT_popis  \\\n0              Nolpaza 20 mg tbl ent 30x20 mg (bli.)  Slovinsko   \n1             Nolpaza 20 mg tbl ent 100x20 mg (bli.)  Slovinsko   \n2             Nolpaza 40 mg tbl ent 100x40 mg (bli.)  Slovinsko   \n3              Nolpaza 40 mg tbl ent 30x40 mg (bli.)  Slovinsko   \n4  Pantoprazol Sandoz 20 mg gastrorezistentné tab...  Slovinsko   \n\n                 VYROBCA_popis  Počet balení  Úhrada_PAC  \n0        KRKA d.d., Novo mesto    184810.510   255770.78  \n1        KRKA d.d., Novo mesto    144399.293   632243.24  \n2        KRKA d.d., Novo mesto    117848.280   648739.25  \n3        KRKA d.d., Novo mesto    107996.080   297846.23  \n4  Sandoz Pharmaceuticals d.d.     73014.340   105977.50  ",
      "text/html": "<div>\n<style scoped>\n    .dataframe tbody tr th:only-of-type {\n        vertical-align: middle;\n    }\n\n    .dataframe tbody tr th {\n        vertical-align: top;\n    }\n\n    .dataframe thead th {\n        text-align: right;\n    }\n</style>\n<table border=\"1\" class=\"dataframe\">\n  <thead>\n    <tr style=\"text-align: right;\">\n      <th></th>\n      <th>index</th>\n      <th>ATC7_KOD</th>\n      <th>ATC7_popis</th>\n      <th>LIEK_KOD</th>\n      <th>LIEK_popis</th>\n      <th>STAT_popis</th>\n      <th>VYROBCA_popis</th>\n      <th>Počet balení</th>\n      <th>Úhrada_PAC</th>\n    </tr>\n  </thead>\n  <tbody>\n    <tr>\n      <th>0</th>\n      <td>138</td>\n      <td>A02BC02</td>\n      <td>Pantoprazol</td>\n      <td>C43345</td>\n      <td>Nolpaza 20 mg tbl ent 30x20 mg (bli.)</td>\n      <td>Slovinsko</td>\n      <td>KRKA d.d., Novo mesto</td>\n      <td>184810.510</td>\n      <td>255770.78</td>\n    </tr>\n    <tr>\n      <th>1</th>\n      <td>139</td>\n      <td>A02BC02</td>\n      <td>Pantoprazol</td>\n      <td>C43349</td>\n      <td>Nolpaza 20 mg tbl ent 100x20 mg (bli.)</td>\n      <td>Slovinsko</td>\n      <td>KRKA d.d., Novo mesto</td>\n      <td>144399.293</td>\n      <td>632243.24</td>\n    </tr>\n    <tr>\n      <th>2</th>\n      <td>142</td>\n      <td>A02BC02</td>\n      <td>Pantoprazol</td>\n      <td>C43362</td>\n      <td>Nolpaza 40 mg tbl ent 100x40 mg (bli.)</td>\n      <td>Slovinsko</td>\n      <td>KRKA d.d., Novo mesto</td>\n      <td>117848.280</td>\n      <td>648739.25</td>\n    </tr>\n    <tr>\n      <th>3</th>\n      <td>141</td>\n      <td>A02BC02</td>\n      <td>Pantoprazol</td>\n      <td>C43358</td>\n      <td>Nolpaza 40 mg tbl ent 30x40 mg (bli.)</td>\n      <td>Slovinsko</td>\n      <td>KRKA d.d., Novo mesto</td>\n      <td>107996.080</td>\n      <td>297846.23</td>\n    </tr>\n    <tr>\n      <th>4</th>\n      <td>144</td>\n      <td>A02BC02</td>\n      <td>Pantoprazol</td>\n      <td>C43791</td>\n      <td>Pantoprazol Sandoz 20 mg gastrorezistentné tab...</td>\n      <td>Slovinsko</td>\n      <td>Sandoz Pharmaceuticals d.d.</td>\n      <td>73014.340</td>\n      <td>105977.50</td>\n    </tr>\n  </tbody>\n</table>\n</div>"
     },
     "metadata": {}
    },
    {
     "output_type": "display_data",
     "data": {
      "text/plain": "   index ATC7_KOD  ATC7_popis LIEK_KOD                      LIEK_popis  \\\n0   7819  R01AA09  Tramazolín   C26797  MUCONASAL PLUS sol neb 1x10 ml   \n\n  STAT_popis                   VYROBCA_popis  Počet balení  Úhrada_PAC  \n0  Slovensko  sanofi-aventis Slovakia s.r.o.   1135312.849  5548815.77  ",
      "text/html": "<div>\n<style scoped>\n    .dataframe tbody tr th:only-of-type {\n        vertical-align: middle;\n    }\n\n    .dataframe tbody tr th {\n        vertical-align: top;\n    }\n\n    .dataframe thead th {\n        text-align: right;\n    }\n</style>\n<table border=\"1\" class=\"dataframe\">\n  <thead>\n    <tr style=\"text-align: right;\">\n      <th></th>\n      <th>index</th>\n      <th>ATC7_KOD</th>\n      <th>ATC7_popis</th>\n      <th>LIEK_KOD</th>\n      <th>LIEK_popis</th>\n      <th>STAT_popis</th>\n      <th>VYROBCA_popis</th>\n      <th>Počet balení</th>\n      <th>Úhrada_PAC</th>\n    </tr>\n  </thead>\n  <tbody>\n    <tr>\n      <th>0</th>\n      <td>7819</td>\n      <td>R01AA09</td>\n      <td>Tramazolín</td>\n      <td>C26797</td>\n      <td>MUCONASAL PLUS sol neb 1x10 ml</td>\n      <td>Slovensko</td>\n      <td>sanofi-aventis Slovakia s.r.o.</td>\n      <td>1135312.849</td>\n      <td>5548815.77</td>\n    </tr>\n  </tbody>\n</table>\n</div>"
     },
     "metadata": {}
    }
   ],
   "source": [
    "nazvy = []\n",
    "for n in atc7['ATC7_KOD']:\n",
    "    if n not in nazvy:\n",
    "        nazvy.append(n)\n",
    "\n",
    "top20tab= {}\n",
    "for i in range(20):\n",
    "    top20tab[nazvy[i]] = table2019sum.query(f'ATC7_KOD == \"{nazvy[i]}\"').sort_values(by='Počet balení', ascending= False).reset_index()\n",
    "    display(top20tab[nazvy[i]].head())"
   ]
  },
  {
   "source": [
    "# Grafy pre jednotlive ucinne latky"
   ],
   "cell_type": "markdown",
   "metadata": {}
  },
  {
   "source": [
    "# 1. Technecium"
   ],
   "cell_type": "markdown",
   "metadata": {}
  },
  {
   "cell_type": "code",
   "execution_count": 6,
   "metadata": {},
   "outputs": [
    {
     "output_type": "display_data",
     "data": {
      "text/plain": "                             LIEK_popis STAT_popis            VYROBCA_popis  \\\n0                        Drytec gen rnk  Holandsko       GE Healthcare B.V.   \n1  Ultra-TechneKow FM (99mTC-generátor)  Holandsko  Curium Netherlands B.V.   \n\n   index  Počet balení  Úhrada_PAC  \n0  57267    8626479.51         0.0  \n1  38158     992000.00         0.0  ",
      "text/html": "<div>\n<style scoped>\n    .dataframe tbody tr th:only-of-type {\n        vertical-align: middle;\n    }\n\n    .dataframe tbody tr th {\n        vertical-align: top;\n    }\n\n    .dataframe thead th {\n        text-align: right;\n    }\n</style>\n<table border=\"1\" class=\"dataframe\">\n  <thead>\n    <tr style=\"text-align: right;\">\n      <th></th>\n      <th>LIEK_popis</th>\n      <th>STAT_popis</th>\n      <th>VYROBCA_popis</th>\n      <th>index</th>\n      <th>Počet balení</th>\n      <th>Úhrada_PAC</th>\n    </tr>\n  </thead>\n  <tbody>\n    <tr>\n      <th>0</th>\n      <td>Drytec gen rnk</td>\n      <td>Holandsko</td>\n      <td>GE Healthcare B.V.</td>\n      <td>57267</td>\n      <td>8626479.51</td>\n      <td>0.0</td>\n    </tr>\n    <tr>\n      <th>1</th>\n      <td>Ultra-TechneKow FM (99mTC-generátor)</td>\n      <td>Holandsko</td>\n      <td>Curium Netherlands B.V.</td>\n      <td>38158</td>\n      <td>992000.00</td>\n      <td>0.0</td>\n    </tr>\n  </tbody>\n</table>\n</div>"
     },
     "metadata": {}
    },
    {
     "output_type": "stream",
     "name": "stdout",
     "text": [
      "\nTyp vydaju:\nvýdaj z nemocničnej lekárne pre vlastnú nemocnicu    0.692308\núhrada z verejnej poisťovne                          0.307692\nName: TYP_VYDAJ_POP, dtype: float64\n"
     ]
    }
   ],
   "source": [
    "technecium = top20tab[\"V09FX01\"]\n",
    "\n",
    "for i,popis in enumerate(technecium['LIEK_popis']):\n",
    "    if 'Drytec gen' in popis:\n",
    "        technecium.iloc[i,4] = 'Drytec gen rnk'\n",
    "    elif \"Ultra-TechneKow\" in popis:\n",
    "        technecium.iloc[i,4] = 'Ultra-TechneKow FM (99mTC-generátor)'\n",
    "\n",
    "technecium = technecium.groupby(['LIEK_popis', 'STAT_popis', 'VYROBCA_popis']).sum().reset_index()\n",
    "display(technecium)\n",
    "print()\n",
    "print(\"Typ vydaju:\")\n",
    "item_counts = table.query('ATC7_KOD == \"V09FX01\"')[\"TYP_VYDAJ_POP\"].value_counts(normalize=True)\n",
    "print(item_counts)\n",
    "\n"
   ]
  },
  {
   "cell_type": "code",
   "execution_count": 7,
   "metadata": {},
   "outputs": [
    {
     "output_type": "display_data",
     "data": {
      "application/vnd.plotly.v1+json": {
       "config": {
        "plotlyServerURL": "https://plot.ly"
       },
       "data": [
        {
         "alignmentgroup": "True",
         "hovertemplate": "VYROBCA_popis=GE Healthcare B.V.<br>LIEK_popis=%{x}<br>Počet balení=%{y}<extra></extra>",
         "legendgroup": "GE Healthcare B.V.",
         "marker": {
          "color": "#636efa"
         },
         "name": "GE Healthcare B.V.",
         "offsetgroup": "GE Healthcare B.V.",
         "orientation": "v",
         "showlegend": true,
         "textposition": "auto",
         "type": "bar",
         "x": [
          "Drytec gen rnk"
         ],
         "xaxis": "x",
         "y": [
          8626479.51
         ],
         "yaxis": "y"
        },
        {
         "alignmentgroup": "True",
         "hovertemplate": "VYROBCA_popis=Curium Netherlands B.V.<br>LIEK_popis=%{x}<br>Počet balení=%{y}<extra></extra>",
         "legendgroup": "Curium Netherlands B.V.",
         "marker": {
          "color": "#EF553B"
         },
         "name": "Curium Netherlands B.V.",
         "offsetgroup": "Curium Netherlands B.V.",
         "orientation": "v",
         "showlegend": true,
         "textposition": "auto",
         "type": "bar",
         "x": [
          "Ultra-TechneKow FM (99mTC-generátor)"
         ],
         "xaxis": "x",
         "y": [
          992000
         ],
         "yaxis": "y"
        }
       ],
       "layout": {
        "barmode": "relative",
        "legend": {
         "title": {
          "text": "VYROBCA_popis"
         },
         "tracegroupgap": 0
        },
        "template": {
         "data": {
          "bar": [
           {
            "error_x": {
             "color": "#2a3f5f"
            },
            "error_y": {
             "color": "#2a3f5f"
            },
            "marker": {
             "line": {
              "color": "#E5ECF6",
              "width": 0.5
             }
            },
            "type": "bar"
           }
          ],
          "barpolar": [
           {
            "marker": {
             "line": {
              "color": "#E5ECF6",
              "width": 0.5
             }
            },
            "type": "barpolar"
           }
          ],
          "carpet": [
           {
            "aaxis": {
             "endlinecolor": "#2a3f5f",
             "gridcolor": "white",
             "linecolor": "white",
             "minorgridcolor": "white",
             "startlinecolor": "#2a3f5f"
            },
            "baxis": {
             "endlinecolor": "#2a3f5f",
             "gridcolor": "white",
             "linecolor": "white",
             "minorgridcolor": "white",
             "startlinecolor": "#2a3f5f"
            },
            "type": "carpet"
           }
          ],
          "choropleth": [
           {
            "colorbar": {
             "outlinewidth": 0,
             "ticks": ""
            },
            "type": "choropleth"
           }
          ],
          "contour": [
           {
            "colorbar": {
             "outlinewidth": 0,
             "ticks": ""
            },
            "colorscale": [
             [
              0,
              "#0d0887"
             ],
             [
              0.1111111111111111,
              "#46039f"
             ],
             [
              0.2222222222222222,
              "#7201a8"
             ],
             [
              0.3333333333333333,
              "#9c179e"
             ],
             [
              0.4444444444444444,
              "#bd3786"
             ],
             [
              0.5555555555555556,
              "#d8576b"
             ],
             [
              0.6666666666666666,
              "#ed7953"
             ],
             [
              0.7777777777777778,
              "#fb9f3a"
             ],
             [
              0.8888888888888888,
              "#fdca26"
             ],
             [
              1,
              "#f0f921"
             ]
            ],
            "type": "contour"
           }
          ],
          "contourcarpet": [
           {
            "colorbar": {
             "outlinewidth": 0,
             "ticks": ""
            },
            "type": "contourcarpet"
           }
          ],
          "heatmap": [
           {
            "colorbar": {
             "outlinewidth": 0,
             "ticks": ""
            },
            "colorscale": [
             [
              0,
              "#0d0887"
             ],
             [
              0.1111111111111111,
              "#46039f"
             ],
             [
              0.2222222222222222,
              "#7201a8"
             ],
             [
              0.3333333333333333,
              "#9c179e"
             ],
             [
              0.4444444444444444,
              "#bd3786"
             ],
             [
              0.5555555555555556,
              "#d8576b"
             ],
             [
              0.6666666666666666,
              "#ed7953"
             ],
             [
              0.7777777777777778,
              "#fb9f3a"
             ],
             [
              0.8888888888888888,
              "#fdca26"
             ],
             [
              1,
              "#f0f921"
             ]
            ],
            "type": "heatmap"
           }
          ],
          "heatmapgl": [
           {
            "colorbar": {
             "outlinewidth": 0,
             "ticks": ""
            },
            "colorscale": [
             [
              0,
              "#0d0887"
             ],
             [
              0.1111111111111111,
              "#46039f"
             ],
             [
              0.2222222222222222,
              "#7201a8"
             ],
             [
              0.3333333333333333,
              "#9c179e"
             ],
             [
              0.4444444444444444,
              "#bd3786"
             ],
             [
              0.5555555555555556,
              "#d8576b"
             ],
             [
              0.6666666666666666,
              "#ed7953"
             ],
             [
              0.7777777777777778,
              "#fb9f3a"
             ],
             [
              0.8888888888888888,
              "#fdca26"
             ],
             [
              1,
              "#f0f921"
             ]
            ],
            "type": "heatmapgl"
           }
          ],
          "histogram": [
           {
            "marker": {
             "colorbar": {
              "outlinewidth": 0,
              "ticks": ""
             }
            },
            "type": "histogram"
           }
          ],
          "histogram2d": [
           {
            "colorbar": {
             "outlinewidth": 0,
             "ticks": ""
            },
            "colorscale": [
             [
              0,
              "#0d0887"
             ],
             [
              0.1111111111111111,
              "#46039f"
             ],
             [
              0.2222222222222222,
              "#7201a8"
             ],
             [
              0.3333333333333333,
              "#9c179e"
             ],
             [
              0.4444444444444444,
              "#bd3786"
             ],
             [
              0.5555555555555556,
              "#d8576b"
             ],
             [
              0.6666666666666666,
              "#ed7953"
             ],
             [
              0.7777777777777778,
              "#fb9f3a"
             ],
             [
              0.8888888888888888,
              "#fdca26"
             ],
             [
              1,
              "#f0f921"
             ]
            ],
            "type": "histogram2d"
           }
          ],
          "histogram2dcontour": [
           {
            "colorbar": {
             "outlinewidth": 0,
             "ticks": ""
            },
            "colorscale": [
             [
              0,
              "#0d0887"
             ],
             [
              0.1111111111111111,
              "#46039f"
             ],
             [
              0.2222222222222222,
              "#7201a8"
             ],
             [
              0.3333333333333333,
              "#9c179e"
             ],
             [
              0.4444444444444444,
              "#bd3786"
             ],
             [
              0.5555555555555556,
              "#d8576b"
             ],
             [
              0.6666666666666666,
              "#ed7953"
             ],
             [
              0.7777777777777778,
              "#fb9f3a"
             ],
             [
              0.8888888888888888,
              "#fdca26"
             ],
             [
              1,
              "#f0f921"
             ]
            ],
            "type": "histogram2dcontour"
           }
          ],
          "mesh3d": [
           {
            "colorbar": {
             "outlinewidth": 0,
             "ticks": ""
            },
            "type": "mesh3d"
           }
          ],
          "parcoords": [
           {
            "line": {
             "colorbar": {
              "outlinewidth": 0,
              "ticks": ""
             }
            },
            "type": "parcoords"
           }
          ],
          "pie": [
           {
            "automargin": true,
            "type": "pie"
           }
          ],
          "scatter": [
           {
            "marker": {
             "colorbar": {
              "outlinewidth": 0,
              "ticks": ""
             }
            },
            "type": "scatter"
           }
          ],
          "scatter3d": [
           {
            "line": {
             "colorbar": {
              "outlinewidth": 0,
              "ticks": ""
             }
            },
            "marker": {
             "colorbar": {
              "outlinewidth": 0,
              "ticks": ""
             }
            },
            "type": "scatter3d"
           }
          ],
          "scattercarpet": [
           {
            "marker": {
             "colorbar": {
              "outlinewidth": 0,
              "ticks": ""
             }
            },
            "type": "scattercarpet"
           }
          ],
          "scattergeo": [
           {
            "marker": {
             "colorbar": {
              "outlinewidth": 0,
              "ticks": ""
             }
            },
            "type": "scattergeo"
           }
          ],
          "scattergl": [
           {
            "marker": {
             "colorbar": {
              "outlinewidth": 0,
              "ticks": ""
             }
            },
            "type": "scattergl"
           }
          ],
          "scattermapbox": [
           {
            "marker": {
             "colorbar": {
              "outlinewidth": 0,
              "ticks": ""
             }
            },
            "type": "scattermapbox"
           }
          ],
          "scatterpolar": [
           {
            "marker": {
             "colorbar": {
              "outlinewidth": 0,
              "ticks": ""
             }
            },
            "type": "scatterpolar"
           }
          ],
          "scatterpolargl": [
           {
            "marker": {
             "colorbar": {
              "outlinewidth": 0,
              "ticks": ""
             }
            },
            "type": "scatterpolargl"
           }
          ],
          "scatterternary": [
           {
            "marker": {
             "colorbar": {
              "outlinewidth": 0,
              "ticks": ""
             }
            },
            "type": "scatterternary"
           }
          ],
          "surface": [
           {
            "colorbar": {
             "outlinewidth": 0,
             "ticks": ""
            },
            "colorscale": [
             [
              0,
              "#0d0887"
             ],
             [
              0.1111111111111111,
              "#46039f"
             ],
             [
              0.2222222222222222,
              "#7201a8"
             ],
             [
              0.3333333333333333,
              "#9c179e"
             ],
             [
              0.4444444444444444,
              "#bd3786"
             ],
             [
              0.5555555555555556,
              "#d8576b"
             ],
             [
              0.6666666666666666,
              "#ed7953"
             ],
             [
              0.7777777777777778,
              "#fb9f3a"
             ],
             [
              0.8888888888888888,
              "#fdca26"
             ],
             [
              1,
              "#f0f921"
             ]
            ],
            "type": "surface"
           }
          ],
          "table": [
           {
            "cells": {
             "fill": {
              "color": "#EBF0F8"
             },
             "line": {
              "color": "white"
             }
            },
            "header": {
             "fill": {
              "color": "#C8D4E3"
             },
             "line": {
              "color": "white"
             }
            },
            "type": "table"
           }
          ]
         },
         "layout": {
          "annotationdefaults": {
           "arrowcolor": "#2a3f5f",
           "arrowhead": 0,
           "arrowwidth": 1
          },
          "autotypenumbers": "strict",
          "coloraxis": {
           "colorbar": {
            "outlinewidth": 0,
            "ticks": ""
           }
          },
          "colorscale": {
           "diverging": [
            [
             0,
             "#8e0152"
            ],
            [
             0.1,
             "#c51b7d"
            ],
            [
             0.2,
             "#de77ae"
            ],
            [
             0.3,
             "#f1b6da"
            ],
            [
             0.4,
             "#fde0ef"
            ],
            [
             0.5,
             "#f7f7f7"
            ],
            [
             0.6,
             "#e6f5d0"
            ],
            [
             0.7,
             "#b8e186"
            ],
            [
             0.8,
             "#7fbc41"
            ],
            [
             0.9,
             "#4d9221"
            ],
            [
             1,
             "#276419"
            ]
           ],
           "sequential": [
            [
             0,
             "#0d0887"
            ],
            [
             0.1111111111111111,
             "#46039f"
            ],
            [
             0.2222222222222222,
             "#7201a8"
            ],
            [
             0.3333333333333333,
             "#9c179e"
            ],
            [
             0.4444444444444444,
             "#bd3786"
            ],
            [
             0.5555555555555556,
             "#d8576b"
            ],
            [
             0.6666666666666666,
             "#ed7953"
            ],
            [
             0.7777777777777778,
             "#fb9f3a"
            ],
            [
             0.8888888888888888,
             "#fdca26"
            ],
            [
             1,
             "#f0f921"
            ]
           ],
           "sequentialminus": [
            [
             0,
             "#0d0887"
            ],
            [
             0.1111111111111111,
             "#46039f"
            ],
            [
             0.2222222222222222,
             "#7201a8"
            ],
            [
             0.3333333333333333,
             "#9c179e"
            ],
            [
             0.4444444444444444,
             "#bd3786"
            ],
            [
             0.5555555555555556,
             "#d8576b"
            ],
            [
             0.6666666666666666,
             "#ed7953"
            ],
            [
             0.7777777777777778,
             "#fb9f3a"
            ],
            [
             0.8888888888888888,
             "#fdca26"
            ],
            [
             1,
             "#f0f921"
            ]
           ]
          },
          "colorway": [
           "#636efa",
           "#EF553B",
           "#00cc96",
           "#ab63fa",
           "#FFA15A",
           "#19d3f3",
           "#FF6692",
           "#B6E880",
           "#FF97FF",
           "#FECB52"
          ],
          "font": {
           "color": "#2a3f5f"
          },
          "geo": {
           "bgcolor": "white",
           "lakecolor": "white",
           "landcolor": "#E5ECF6",
           "showlakes": true,
           "showland": true,
           "subunitcolor": "white"
          },
          "hoverlabel": {
           "align": "left"
          },
          "hovermode": "closest",
          "mapbox": {
           "style": "light"
          },
          "paper_bgcolor": "white",
          "plot_bgcolor": "#E5ECF6",
          "polar": {
           "angularaxis": {
            "gridcolor": "white",
            "linecolor": "white",
            "ticks": ""
           },
           "bgcolor": "#E5ECF6",
           "radialaxis": {
            "gridcolor": "white",
            "linecolor": "white",
            "ticks": ""
           }
          },
          "scene": {
           "xaxis": {
            "backgroundcolor": "#E5ECF6",
            "gridcolor": "white",
            "gridwidth": 2,
            "linecolor": "white",
            "showbackground": true,
            "ticks": "",
            "zerolinecolor": "white"
           },
           "yaxis": {
            "backgroundcolor": "#E5ECF6",
            "gridcolor": "white",
            "gridwidth": 2,
            "linecolor": "white",
            "showbackground": true,
            "ticks": "",
            "zerolinecolor": "white"
           },
           "zaxis": {
            "backgroundcolor": "#E5ECF6",
            "gridcolor": "white",
            "gridwidth": 2,
            "linecolor": "white",
            "showbackground": true,
            "ticks": "",
            "zerolinecolor": "white"
           }
          },
          "shapedefaults": {
           "line": {
            "color": "#2a3f5f"
           }
          },
          "ternary": {
           "aaxis": {
            "gridcolor": "white",
            "linecolor": "white",
            "ticks": ""
           },
           "baxis": {
            "gridcolor": "white",
            "linecolor": "white",
            "ticks": ""
           },
           "bgcolor": "#E5ECF6",
           "caxis": {
            "gridcolor": "white",
            "linecolor": "white",
            "ticks": ""
           }
          },
          "title": {
           "x": 0.05
          },
          "xaxis": {
           "automargin": true,
           "gridcolor": "white",
           "linecolor": "white",
           "ticks": "",
           "title": {
            "standoff": 15
           },
           "zerolinecolor": "white",
           "zerolinewidth": 2
          },
          "yaxis": {
           "automargin": true,
           "gridcolor": "white",
           "linecolor": "white",
           "ticks": "",
           "title": {
            "standoff": 15
           },
           "zerolinecolor": "white",
           "zerolinewidth": 2
          }
         }
        },
        "title": {
         "text": "Technecium"
        },
        "xaxis": {
         "anchor": "y",
         "domain": [
          0,
          1
         ],
         "title": {
          "text": "LIEK_popis"
         }
        },
        "yaxis": {
         "anchor": "x",
         "domain": [
          0,
          1
         ],
         "title": {
          "text": "Počet balení"
         }
        }
       }
      }
     },
     "metadata": {}
    }
   ],
   "source": [
    "fig = px.bar(technecium, x='LIEK_popis', y='Počet balení', color='VYROBCA_popis', title='Technecium')\n",
    "fig.show()"
   ]
  },
  {
   "source": [
    " Na vizualizaciu ucinnej latky technecium nam bolo najvyhodnejsie pouzit barplot. \n",
    " Nakolko sa jedna o diagnosticke radiofarmaka, podla vypisu Series vidime ze tieto lieky boli poskytovane nemocnicou alebo ich\n",
    " pacientom hradila zdravotna poistovna. V oboch pripadoch pacient neplatil nic, a tak udaje o cene nemame ako zakomponovat. Obe radiofarmaka su vyrabane Holandskymi vyrobcami, preto v grafe nie su rozlisene na zaklade krajiny ale vyrobcu."
   ],
   "cell_type": "markdown",
   "metadata": {}
  },
  {
   "source": [
    "# 2. Elektrolyty: ZLE treba prerobit"
   ],
   "cell_type": "markdown",
   "metadata": {}
  },
  {
   "cell_type": "code",
   "execution_count": 8,
   "metadata": {},
   "outputs": [
    {
     "output_type": "execute_result",
     "data": {
      "text/plain": [
       "'\\nelektrolyty = top20tab[\"B05BB01\"].head(30)\\n\\nfor i,popis in enumerate(elektrolyty[\\'LIEK_popis\\']):\\n    if \\'0,9% SODIUM CHL.IN\\' in popis or \\'0,9% SODIUM ChL.IN\\' in popis:\\n        elektrolyty.iloc[i,3] = \\'0,9% SODIUM CHL.IN W.F.I.FRESENIUS sol inf\\'\\n    elif \"SODIUM CHLORIDE 0,9%W/V I.V. INF\" in popis:\\n        elektrolyty.iloc[i,3] = \\'SODIUM CHLORIDE 0,9%W/V I.V. INF\\'\\n    elif \"0,9% W/V SODIUM CHLORIDE I.V.\" in popis:\\n        elektrolyty.iloc[i,3] = \\'0,9% W/V SODIUM CHLORIDE I.V.\\'\\n    elif \"PLASMALYTE sol inf\" in popis:\\n        elektrolyty.iloc[i,3] = \\'PLASMALYTE sol inf\\'\\n    elif \"INFUSIO NATRII CHLORATI ISOTONICA IMUNA sol inf\" in popis:\\n        elektrolyty.iloc[i,3] = \\'INFUSIO NATRII CHLORATI ISOTONICA IMUNA sol inf\\'\\n    elif \"RINGER\\'S INJECTION \\'FRESENIUS\\' sol inf\" in popis:\\n        elektrolyty.iloc[i,3] = \"RINGER\\'S INJECTION \\'FRESENIUS\\' sol inf\"\\n    elif \"HARTMANN\\'S SOLUTION BP FRESENIUS\" in popis:\\n        elektrolyty.iloc[i,3] = \"HARTMANN\\'S SOLUTION BP FRESENIUS sol inf\"\\n    elif \\'Chlorid sodný 0,9 % IMUNA ENVIBAG sol inf\\' in popis:\\n        elektrolyty.iloc[i,3] = \\'Chlorid sodný 0,9 % IMUNA ENVIBAG sol inf\\'\\n    elif \\'Isolyte sol inf\\' in popis:\\n        elektrolyty.iloc[i,3] = \\'Isolyte sol inf\\'\\n    elif \\'RINGEROV ROZTOK BAXTER-VIAFLO sol inf\\' in popis:\\n        elektrolyty.iloc[i,3] = \\'RINGEROV ROZTOK BAXTER-VIAFLO sol inf\\'\\n    elif \"SOLUTION BP\" in popis:\\n        elektrolyty.iloc[i,3] = \"HARTMANN\\'S SOLUTION BP Fresenius\"\\n    elif \"RINGER\\'S INJECTION \\'FRESENIUS\\' sol inf\" in popis:\\n        elektrolyty.iloc[i,3] = \"RINGER\\'S INJECTION \\'FRESENIUS\\' sol inf\"\\n    elif \\'INJECTION FRESENIUS\"\"\"\"\"\\' in popis:\\n        elektrolyty.iloc[i,3] = \"RINGER\\'S INJECTION \\'FRESENIUS\\' sol inf\"\\n      \\nelektrolyty = elektrolyty.groupby([\\'LIEK_KOD\\',\\'LIEK_popis\\', \\'STAT_popis\\', \\'VYROBCA_popis\\']).sum().reset_index().query(\\'Počet balení > 80000\\')\\ndisplay(elektrolyty.sort_values(by=\\'LIEK_popis\\'))\\nfig = px.scatter(elektrolyty, x=\\'LIEK_KOD\\', y=\\'Počet balení\\', size=\\'Cena úhrada_PAC/bal\\', color=\\'STAT_popis\\', title=\\'Elektrolyty\\')\\nfig.show()\\n'"
      ]
     },
     "metadata": {},
     "execution_count": 8
    }
   ],
   "source": [
    "'''\n",
    "elektrolyty = top20tab[\"B05BB01\"].head(30)\n",
    "\n",
    "for i,popis in enumerate(elektrolyty['LIEK_popis']):\n",
    "    if '0,9% SODIUM CHL.IN' in popis or '0,9% SODIUM ChL.IN' in popis:\n",
    "        elektrolyty.iloc[i,3] = '0,9% SODIUM CHL.IN W.F.I.FRESENIUS sol inf'\n",
    "    elif \"SODIUM CHLORIDE 0,9%W/V I.V. INF\" in popis:\n",
    "        elektrolyty.iloc[i,3] = 'SODIUM CHLORIDE 0,9%W/V I.V. INF'\n",
    "    elif \"0,9% W/V SODIUM CHLORIDE I.V.\" in popis:\n",
    "        elektrolyty.iloc[i,3] = '0,9% W/V SODIUM CHLORIDE I.V.'\n",
    "    elif \"PLASMALYTE sol inf\" in popis:\n",
    "        elektrolyty.iloc[i,3] = 'PLASMALYTE sol inf'\n",
    "    elif \"INFUSIO NATRII CHLORATI ISOTONICA IMUNA sol inf\" in popis:\n",
    "        elektrolyty.iloc[i,3] = 'INFUSIO NATRII CHLORATI ISOTONICA IMUNA sol inf'\n",
    "    elif \"RINGER'S INJECTION 'FRESENIUS' sol inf\" in popis:\n",
    "        elektrolyty.iloc[i,3] = \"RINGER'S INJECTION 'FRESENIUS' sol inf\"\n",
    "    elif \"HARTMANN'S SOLUTION BP FRESENIUS\" in popis:\n",
    "        elektrolyty.iloc[i,3] = \"HARTMANN'S SOLUTION BP FRESENIUS sol inf\"\n",
    "    elif 'Chlorid sodný 0,9 % IMUNA ENVIBAG sol inf' in popis:\n",
    "        elektrolyty.iloc[i,3] = 'Chlorid sodný 0,9 % IMUNA ENVIBAG sol inf'\n",
    "    elif 'Isolyte sol inf' in popis:\n",
    "        elektrolyty.iloc[i,3] = 'Isolyte sol inf'\n",
    "    elif 'RINGEROV ROZTOK BAXTER-VIAFLO sol inf' in popis:\n",
    "        elektrolyty.iloc[i,3] = 'RINGEROV ROZTOK BAXTER-VIAFLO sol inf'\n",
    "    elif \"SOLUTION BP\" in popis:\n",
    "        elektrolyty.iloc[i,3] = \"HARTMANN'S SOLUTION BP Fresenius\"\n",
    "    elif \"RINGER'S INJECTION 'FRESENIUS' sol inf\" in popis:\n",
    "        elektrolyty.iloc[i,3] = \"RINGER'S INJECTION 'FRESENIUS' sol inf\"\n",
    "    elif 'INJECTION FRESENIUS\"\"\"\"\"' in popis:\n",
    "        elektrolyty.iloc[i,3] = \"RINGER'S INJECTION 'FRESENIUS' sol inf\"\n",
    "      \n",
    "elektrolyty = elektrolyty.groupby(['LIEK_KOD','LIEK_popis', 'STAT_popis', 'VYROBCA_popis']).sum().reset_index().query('Počet balení > 80000')\n",
    "display(elektrolyty.sort_values(by='LIEK_popis'))\n",
    "fig = px.scatter(elektrolyty, x='LIEK_KOD', y='Počet balení', size='Cena úhrada_PAC/bal', color='STAT_popis', title='Elektrolyty')\n",
    "fig.show()\n",
    "'''\n"
   ]
  },
  {
   "source": [
    "# 3. Paracetamol (30 najpredavanejsich)"
   ],
   "cell_type": "markdown",
   "metadata": {}
  },
  {
   "cell_type": "code",
   "execution_count": 9,
   "metadata": {},
   "outputs": [
    {
     "output_type": "display_data",
     "data": {
      "text/plain": "                    LIEK_popis  STAT_popis  \\\n0                MEDIPYRIN tbl       Česko   \n1                 PANADOL BABY       Česko   \n2      PANADOL BABY (+odmerka)       Česko   \n3   PANADOL BABY (+striekačka)  Francúzsko   \n4               PANADOL JUNIOR       Česko   \n5             PANADOL PRE DETI       Česko   \n6                  PANADOL tbl       Česko   \n7                PARALEN nápoj   Slovensko   \n8                  PARALEN sup   Slovensko   \n9                  PARALEN sus   Slovensko   \n10                 PARALEN tbl   Slovensko   \n11           Panadol Novum tbl       Česko   \n12   Panadol Paracetamolum tbl       Česko   \n13        Paracetamol B. Braun     Nemecko   \n14            Paracetamol Kabi       Česko   \n15         Paracetamol Kappler     Nemecko   \n16      Paracetamol Vitabalans      Fínsko   \n\n                                        VYROBCA_popis  index  Počet balení  \\\n0                     Glenmark Pharmaceuticals s.r.o.  18807     21920.890   \n1   GlaxoSmithKline Consumer Healthcare Czech Repu...   6283     50394.000   \n2   GlaxoSmithKline Consumer Healthcare Czech Repu...   6305       839.000   \n3               SmithKline Beecham Liquides Industrie   6300       285.000   \n4   GlaxoSmithKline Consumer Healthcare Czech Repu...   6285     30460.500   \n5   GlaxoSmithKline Consumer Healthcare Czech Repu...  12579     37895.000   \n6   GlaxoSmithKline Consumer Healthcare Czech Repu...  12580       553.000   \n7                      sanofi-aventis Slovakia s.r.o.   6271       482.170   \n8                      sanofi-aventis Slovakia s.r.o.  12565    161406.210   \n9                      sanofi-aventis Slovakia s.r.o.   6292     74950.000   \n10                     sanofi-aventis Slovakia s.r.o.  25139   2683311.142   \n11  GlaxoSmithKline Consumer Healthcare Czech Repu...  12592     77893.815   \n12  GlaxoSmithKline Consumer Healthcare Czech Repu...  12579    114351.250   \n13                               B.Braun Melsungen AG  12519       900.500   \n14                              Fresenius Kabi s.r.o.  12548     34926.290   \n15                              STADA Arzneimittel AG   6288       663.330   \n16                                      Vitabalans Oy  12529      5493.010   \n\n    Úhrada_PAC  Cena úhrada_PAC/bal  \n0     36758.59             1.676875  \n1    100522.52             1.994732  \n2      2862.69             3.412026  \n3      1012.17             3.551474  \n4     77105.53             2.531328  \n5    140531.82             3.708453  \n6       942.77             1.704828  \n7      1673.49             3.470747  \n8    153352.77             0.950105  \n9    270530.14             3.609475  \n10  4190200.04             1.561578  \n11   159034.24             2.041680  \n12   195206.01             1.707074  \n13       55.58             0.061721  \n14    15860.05             0.454101  \n15     3072.16             4.631420  \n16      633.44             0.115317  ",
      "text/html": "<div>\n<style scoped>\n    .dataframe tbody tr th:only-of-type {\n        vertical-align: middle;\n    }\n\n    .dataframe tbody tr th {\n        vertical-align: top;\n    }\n\n    .dataframe thead th {\n        text-align: right;\n    }\n</style>\n<table border=\"1\" class=\"dataframe\">\n  <thead>\n    <tr style=\"text-align: right;\">\n      <th></th>\n      <th>LIEK_popis</th>\n      <th>STAT_popis</th>\n      <th>VYROBCA_popis</th>\n      <th>index</th>\n      <th>Počet balení</th>\n      <th>Úhrada_PAC</th>\n      <th>Cena úhrada_PAC/bal</th>\n    </tr>\n  </thead>\n  <tbody>\n    <tr>\n      <th>0</th>\n      <td>MEDIPYRIN tbl</td>\n      <td>Česko</td>\n      <td>Glenmark Pharmaceuticals s.r.o.</td>\n      <td>18807</td>\n      <td>21920.890</td>\n      <td>36758.59</td>\n      <td>1.676875</td>\n    </tr>\n    <tr>\n      <th>1</th>\n      <td>PANADOL BABY</td>\n      <td>Česko</td>\n      <td>GlaxoSmithKline Consumer Healthcare Czech Repu...</td>\n      <td>6283</td>\n      <td>50394.000</td>\n      <td>100522.52</td>\n      <td>1.994732</td>\n    </tr>\n    <tr>\n      <th>2</th>\n      <td>PANADOL BABY (+odmerka)</td>\n      <td>Česko</td>\n      <td>GlaxoSmithKline Consumer Healthcare Czech Repu...</td>\n      <td>6305</td>\n      <td>839.000</td>\n      <td>2862.69</td>\n      <td>3.412026</td>\n    </tr>\n    <tr>\n      <th>3</th>\n      <td>PANADOL BABY (+striekačka)</td>\n      <td>Francúzsko</td>\n      <td>SmithKline Beecham Liquides Industrie</td>\n      <td>6300</td>\n      <td>285.000</td>\n      <td>1012.17</td>\n      <td>3.551474</td>\n    </tr>\n    <tr>\n      <th>4</th>\n      <td>PANADOL JUNIOR</td>\n      <td>Česko</td>\n      <td>GlaxoSmithKline Consumer Healthcare Czech Repu...</td>\n      <td>6285</td>\n      <td>30460.500</td>\n      <td>77105.53</td>\n      <td>2.531328</td>\n    </tr>\n    <tr>\n      <th>5</th>\n      <td>PANADOL PRE DETI</td>\n      <td>Česko</td>\n      <td>GlaxoSmithKline Consumer Healthcare Czech Repu...</td>\n      <td>12579</td>\n      <td>37895.000</td>\n      <td>140531.82</td>\n      <td>3.708453</td>\n    </tr>\n    <tr>\n      <th>6</th>\n      <td>PANADOL tbl</td>\n      <td>Česko</td>\n      <td>GlaxoSmithKline Consumer Healthcare Czech Repu...</td>\n      <td>12580</td>\n      <td>553.000</td>\n      <td>942.77</td>\n      <td>1.704828</td>\n    </tr>\n    <tr>\n      <th>7</th>\n      <td>PARALEN nápoj</td>\n      <td>Slovensko</td>\n      <td>sanofi-aventis Slovakia s.r.o.</td>\n      <td>6271</td>\n      <td>482.170</td>\n      <td>1673.49</td>\n      <td>3.470747</td>\n    </tr>\n    <tr>\n      <th>8</th>\n      <td>PARALEN sup</td>\n      <td>Slovensko</td>\n      <td>sanofi-aventis Slovakia s.r.o.</td>\n      <td>12565</td>\n      <td>161406.210</td>\n      <td>153352.77</td>\n      <td>0.950105</td>\n    </tr>\n    <tr>\n      <th>9</th>\n      <td>PARALEN sus</td>\n      <td>Slovensko</td>\n      <td>sanofi-aventis Slovakia s.r.o.</td>\n      <td>6292</td>\n      <td>74950.000</td>\n      <td>270530.14</td>\n      <td>3.609475</td>\n    </tr>\n    <tr>\n      <th>10</th>\n      <td>PARALEN tbl</td>\n      <td>Slovensko</td>\n      <td>sanofi-aventis Slovakia s.r.o.</td>\n      <td>25139</td>\n      <td>2683311.142</td>\n      <td>4190200.04</td>\n      <td>1.561578</td>\n    </tr>\n    <tr>\n      <th>11</th>\n      <td>Panadol Novum tbl</td>\n      <td>Česko</td>\n      <td>GlaxoSmithKline Consumer Healthcare Czech Repu...</td>\n      <td>12592</td>\n      <td>77893.815</td>\n      <td>159034.24</td>\n      <td>2.041680</td>\n    </tr>\n    <tr>\n      <th>12</th>\n      <td>Panadol Paracetamolum tbl</td>\n      <td>Česko</td>\n      <td>GlaxoSmithKline Consumer Healthcare Czech Repu...</td>\n      <td>12579</td>\n      <td>114351.250</td>\n      <td>195206.01</td>\n      <td>1.707074</td>\n    </tr>\n    <tr>\n      <th>13</th>\n      <td>Paracetamol B. Braun</td>\n      <td>Nemecko</td>\n      <td>B.Braun Melsungen AG</td>\n      <td>12519</td>\n      <td>900.500</td>\n      <td>55.58</td>\n      <td>0.061721</td>\n    </tr>\n    <tr>\n      <th>14</th>\n      <td>Paracetamol Kabi</td>\n      <td>Česko</td>\n      <td>Fresenius Kabi s.r.o.</td>\n      <td>12548</td>\n      <td>34926.290</td>\n      <td>15860.05</td>\n      <td>0.454101</td>\n    </tr>\n    <tr>\n      <th>15</th>\n      <td>Paracetamol Kappler</td>\n      <td>Nemecko</td>\n      <td>STADA Arzneimittel AG</td>\n      <td>6288</td>\n      <td>663.330</td>\n      <td>3072.16</td>\n      <td>4.631420</td>\n    </tr>\n    <tr>\n      <th>16</th>\n      <td>Paracetamol Vitabalans</td>\n      <td>Fínsko</td>\n      <td>Vitabalans Oy</td>\n      <td>12529</td>\n      <td>5493.010</td>\n      <td>633.44</td>\n      <td>0.115317</td>\n    </tr>\n  </tbody>\n</table>\n</div>"
     },
     "metadata": {}
    },
    {
     "output_type": "stream",
     "name": "stdout",
     "text": [
      "Typ vydaju:\npredané z verejnej lekárne bez receptu občanom (voľnopredajné lieky)    0.304054\nvýdaj z verejnej lekárne  na recept bez úhrady z verejného poistenia    0.209459\nvýdaj z verejnej lekárne na faktúru do neštátnych ambulancií            0.162162\nvýdaj z nemocničnej lekárne pre vlastnú nemocnicu                       0.162162\nvýdaj z verejnej lekárne na žiadanku nemocniciam                        0.141892\nvýdaj z nemocničnej lekárne pre zmluvnú nemocnicu                       0.013514\núhrada z verejnej poisťovne                                             0.006757\nName: TYP_VYDAJ_POP, dtype: float64\n"
     ]
    },
    {
     "output_type": "display_data",
     "data": {
      "text/plain": "                    LIEK_popis  STAT_popis  \\\n0                MEDIPYRIN tbl       Česko   \n1                 PANADOL BABY       Česko   \n2      PANADOL BABY (+odmerka)       Česko   \n3   PANADOL BABY (+striekačka)  Francúzsko   \n4               PANADOL JUNIOR       Česko   \n5             PANADOL PRE DETI       Česko   \n6                  PANADOL tbl       Česko   \n7                PARALEN nápoj   Slovensko   \n8                  PARALEN sup   Slovensko   \n9                  PARALEN sus   Slovensko   \n10                 PARALEN tbl   Slovensko   \n11           Panadol Novum tbl       Česko   \n12   Panadol Paracetamolum tbl       Česko   \n13        Paracetamol B. Braun     Nemecko   \n14            Paracetamol Kabi       Česko   \n15         Paracetamol Kappler     Nemecko   \n16      Paracetamol Vitabalans      Fínsko   \n\n                                        VYROBCA_popis  index  Počet balení  \\\n0                     Glenmark Pharmaceuticals s.r.o.  18807     21920.890   \n1   GlaxoSmithKline Consumer Healthcare Czech Repu...   6283     50394.000   \n2   GlaxoSmithKline Consumer Healthcare Czech Repu...   6305       839.000   \n3               SmithKline Beecham Liquides Industrie   6300       285.000   \n4   GlaxoSmithKline Consumer Healthcare Czech Repu...   6285     30460.500   \n5   GlaxoSmithKline Consumer Healthcare Czech Repu...  12579     37895.000   \n6   GlaxoSmithKline Consumer Healthcare Czech Repu...  12580       553.000   \n7                      sanofi-aventis Slovakia s.r.o.   6271       482.170   \n8                      sanofi-aventis Slovakia s.r.o.  12565    161406.210   \n9                      sanofi-aventis Slovakia s.r.o.   6292     74950.000   \n10                     sanofi-aventis Slovakia s.r.o.  25139   2683311.142   \n11  GlaxoSmithKline Consumer Healthcare Czech Repu...  12592     77893.815   \n12  GlaxoSmithKline Consumer Healthcare Czech Repu...  12579    114351.250   \n13                               B.Braun Melsungen AG  12519       900.500   \n14                              Fresenius Kabi s.r.o.  12548     34926.290   \n15                              STADA Arzneimittel AG   6288       663.330   \n16                                      Vitabalans Oy  12529      5493.010   \n\n    Úhrada_PAC  Cena úhrada_PAC/bal  \n0     36758.59             1.676875  \n1    100522.52             1.994732  \n2      2862.69             3.412026  \n3      1012.17             3.551474  \n4     77105.53             2.531328  \n5    140531.82             3.708453  \n6       942.77             1.704828  \n7      1673.49             3.470747  \n8    153352.77             0.950105  \n9    270530.14             3.609475  \n10  4190200.04             1.561578  \n11   159034.24             2.041680  \n12   195206.01             1.707074  \n13       55.58             0.061721  \n14    15860.05             0.454101  \n15     3072.16             4.631420  \n16      633.44             0.115317  ",
      "text/html": "<div>\n<style scoped>\n    .dataframe tbody tr th:only-of-type {\n        vertical-align: middle;\n    }\n\n    .dataframe tbody tr th {\n        vertical-align: top;\n    }\n\n    .dataframe thead th {\n        text-align: right;\n    }\n</style>\n<table border=\"1\" class=\"dataframe\">\n  <thead>\n    <tr style=\"text-align: right;\">\n      <th></th>\n      <th>LIEK_popis</th>\n      <th>STAT_popis</th>\n      <th>VYROBCA_popis</th>\n      <th>index</th>\n      <th>Počet balení</th>\n      <th>Úhrada_PAC</th>\n      <th>Cena úhrada_PAC/bal</th>\n    </tr>\n  </thead>\n  <tbody>\n    <tr>\n      <th>0</th>\n      <td>MEDIPYRIN tbl</td>\n      <td>Česko</td>\n      <td>Glenmark Pharmaceuticals s.r.o.</td>\n      <td>18807</td>\n      <td>21920.890</td>\n      <td>36758.59</td>\n      <td>1.676875</td>\n    </tr>\n    <tr>\n      <th>1</th>\n      <td>PANADOL BABY</td>\n      <td>Česko</td>\n      <td>GlaxoSmithKline Consumer Healthcare Czech Repu...</td>\n      <td>6283</td>\n      <td>50394.000</td>\n      <td>100522.52</td>\n      <td>1.994732</td>\n    </tr>\n    <tr>\n      <th>2</th>\n      <td>PANADOL BABY (+odmerka)</td>\n      <td>Česko</td>\n      <td>GlaxoSmithKline Consumer Healthcare Czech Repu...</td>\n      <td>6305</td>\n      <td>839.000</td>\n      <td>2862.69</td>\n      <td>3.412026</td>\n    </tr>\n    <tr>\n      <th>3</th>\n      <td>PANADOL BABY (+striekačka)</td>\n      <td>Francúzsko</td>\n      <td>SmithKline Beecham Liquides Industrie</td>\n      <td>6300</td>\n      <td>285.000</td>\n      <td>1012.17</td>\n      <td>3.551474</td>\n    </tr>\n    <tr>\n      <th>4</th>\n      <td>PANADOL JUNIOR</td>\n      <td>Česko</td>\n      <td>GlaxoSmithKline Consumer Healthcare Czech Repu...</td>\n      <td>6285</td>\n      <td>30460.500</td>\n      <td>77105.53</td>\n      <td>2.531328</td>\n    </tr>\n    <tr>\n      <th>5</th>\n      <td>PANADOL PRE DETI</td>\n      <td>Česko</td>\n      <td>GlaxoSmithKline Consumer Healthcare Czech Repu...</td>\n      <td>12579</td>\n      <td>37895.000</td>\n      <td>140531.82</td>\n      <td>3.708453</td>\n    </tr>\n    <tr>\n      <th>6</th>\n      <td>PANADOL tbl</td>\n      <td>Česko</td>\n      <td>GlaxoSmithKline Consumer Healthcare Czech Repu...</td>\n      <td>12580</td>\n      <td>553.000</td>\n      <td>942.77</td>\n      <td>1.704828</td>\n    </tr>\n    <tr>\n      <th>7</th>\n      <td>PARALEN nápoj</td>\n      <td>Slovensko</td>\n      <td>sanofi-aventis Slovakia s.r.o.</td>\n      <td>6271</td>\n      <td>482.170</td>\n      <td>1673.49</td>\n      <td>3.470747</td>\n    </tr>\n    <tr>\n      <th>8</th>\n      <td>PARALEN sup</td>\n      <td>Slovensko</td>\n      <td>sanofi-aventis Slovakia s.r.o.</td>\n      <td>12565</td>\n      <td>161406.210</td>\n      <td>153352.77</td>\n      <td>0.950105</td>\n    </tr>\n    <tr>\n      <th>9</th>\n      <td>PARALEN sus</td>\n      <td>Slovensko</td>\n      <td>sanofi-aventis Slovakia s.r.o.</td>\n      <td>6292</td>\n      <td>74950.000</td>\n      <td>270530.14</td>\n      <td>3.609475</td>\n    </tr>\n    <tr>\n      <th>10</th>\n      <td>PARALEN tbl</td>\n      <td>Slovensko</td>\n      <td>sanofi-aventis Slovakia s.r.o.</td>\n      <td>25139</td>\n      <td>2683311.142</td>\n      <td>4190200.04</td>\n      <td>1.561578</td>\n    </tr>\n    <tr>\n      <th>11</th>\n      <td>Panadol Novum tbl</td>\n      <td>Česko</td>\n      <td>GlaxoSmithKline Consumer Healthcare Czech Repu...</td>\n      <td>12592</td>\n      <td>77893.815</td>\n      <td>159034.24</td>\n      <td>2.041680</td>\n    </tr>\n    <tr>\n      <th>12</th>\n      <td>Panadol Paracetamolum tbl</td>\n      <td>Česko</td>\n      <td>GlaxoSmithKline Consumer Healthcare Czech Repu...</td>\n      <td>12579</td>\n      <td>114351.250</td>\n      <td>195206.01</td>\n      <td>1.707074</td>\n    </tr>\n    <tr>\n      <th>13</th>\n      <td>Paracetamol B. Braun</td>\n      <td>Nemecko</td>\n      <td>B.Braun Melsungen AG</td>\n      <td>12519</td>\n      <td>900.500</td>\n      <td>55.58</td>\n      <td>0.061721</td>\n    </tr>\n    <tr>\n      <th>14</th>\n      <td>Paracetamol Kabi</td>\n      <td>Česko</td>\n      <td>Fresenius Kabi s.r.o.</td>\n      <td>12548</td>\n      <td>34926.290</td>\n      <td>15860.05</td>\n      <td>0.454101</td>\n    </tr>\n    <tr>\n      <th>15</th>\n      <td>Paracetamol Kappler</td>\n      <td>Nemecko</td>\n      <td>STADA Arzneimittel AG</td>\n      <td>6288</td>\n      <td>663.330</td>\n      <td>3072.16</td>\n      <td>4.631420</td>\n    </tr>\n    <tr>\n      <th>16</th>\n      <td>Paracetamol Vitabalans</td>\n      <td>Fínsko</td>\n      <td>Vitabalans Oy</td>\n      <td>12529</td>\n      <td>5493.010</td>\n      <td>633.44</td>\n      <td>0.115317</td>\n    </tr>\n  </tbody>\n</table>\n</div>"
     },
     "metadata": {}
    }
   ],
   "source": [
    "paracetamol = top20tab[\"N02BE01\"].sort_values(by='Počet balení', ascending=False).head(30)\n",
    "\n",
    "for i,popis in enumerate(paracetamol['LIEK_popis']):\n",
    "    if 'MEDIPYRIN 500 tbl' in popis:\n",
    "        paracetamol.iloc[i,4] = 'MEDIPYRIN tbl'\n",
    "    elif 'PANADOL BABY (+odmerka)' in popis:\n",
    "        paracetamol.iloc[i,4] = 'PANADOL BABY (+odmerka)'\n",
    "    elif 'PANADOL BABY (+striekačka)' in popis:\n",
    "        paracetamol.iloc[i,4] = 'PANADOL BABY (+striekačka)'\n",
    "    elif 'PANADOL BABY' in popis:\n",
    "        paracetamol.iloc[i,4] = 'PANADOL BABY'\n",
    "    elif 'PANADOL JUNIOR' in popis:\n",
    "        paracetamol.iloc[i,4] = 'PANADOL JUNIOR'\n",
    "    elif 'PANADOL PRE DETI' in popis:\n",
    "        paracetamol.iloc[i,4] = 'PANADOL PRE DETI'\n",
    "    elif 'PANADOL tbl' in popis:\n",
    "        paracetamol.iloc[i,4] = 'PANADOL tbl'\n",
    "    elif 'PARALEN' in popis and 'sus' in popis:\n",
    "        paracetamol.iloc[i,4] = 'PARALEN sus'\n",
    "    elif 'PARALEN' in popis and 'tbl' in popis:\n",
    "        paracetamol.iloc[i,4] = 'PARALEN tbl'\n",
    "    elif 'PARALEN' in popis and 'sup' in popis:\n",
    "        paracetamol.iloc[i,4] = 'PARALEN sup'\n",
    "    elif 'PARALEN' in popis:\n",
    "        paracetamol.iloc[i,4] = 'PARALEN nápoj'\n",
    "    elif 'Panadol Novum' in popis:\n",
    "        paracetamol.iloc[i,4] = 'Panadol Novum tbl'\n",
    "    elif 'Panadol Paracetamolum' in popis:\n",
    "        paracetamol.iloc[i,4] = 'Panadol Paracetamolum tbl'\n",
    "    elif 'Paracetamol B. Braun' in popis:\n",
    "        paracetamol.iloc[i,4] = 'Paracetamol B. Braun'\n",
    "    elif 'Paracetamol Kabi' in popis:\n",
    "        paracetamol.iloc[i,4] = 'Paracetamol Kabi'\n",
    "    elif 'Paracetamol Kappler' in popis:\n",
    "        paracetamol.iloc[i,4] = 'Paracetamol Kappler'\n",
    "    elif 'Paracetamol Vitabalans' in popis:\n",
    "        paracetamol.iloc[i,4] = 'Paracetamol Vitabalans'\n",
    "\n",
    "paracetamol = paracetamol.groupby(['LIEK_popis', 'STAT_popis', 'VYROBCA_popis']).sum().reset_index()\n",
    "paracetamol['Cena úhrada_PAC/bal'] = paracetamol['Úhrada_PAC'] / paracetamol['Počet balení']\n",
    "display(paracetamol)\n",
    "print(\"Typ vydaju:\")\n",
    "item_counts = table.query('ATC7_KOD == \"N02BE01\"')[\"TYP_VYDAJ_POP\"].value_counts(normalize=True)\n",
    "print(item_counts)\n",
    "\n",
    "display(paracetamol.sort_values(by='LIEK_popis'))\n"
   ]
  },
  {
   "cell_type": "code",
   "execution_count": 10,
   "metadata": {},
   "outputs": [
    {
     "output_type": "display_data",
     "data": {
      "application/vnd.plotly.v1+json": {
       "config": {
        "plotlyServerURL": "https://plot.ly"
       },
       "data": [
        {
         "hovertemplate": "STAT_popis=Česko<br>LIEK_popis=%{x}<br>Počet balení=%{y}<br>Cena úhrada_PAC/bal=%{marker.size}<extra></extra>",
         "legendgroup": "Česko",
         "marker": {
          "color": "#636efa",
          "size": [
           1.6768748896600463,
           1.9947319125292697,
           3.4120262216924906,
           2.531328441752433,
           3.7084528301886794,
           1.7048282097649186,
           2.0416799459623336,
           1.7070736874323629,
           0.4541006216234246
          ],
          "sizemode": "area",
          "sizeref": 0.011578550645983145,
          "symbol": "circle"
         },
         "mode": "markers",
         "name": "Česko",
         "orientation": "v",
         "showlegend": true,
         "type": "scatter",
         "x": [
          "MEDIPYRIN tbl",
          "PANADOL BABY",
          "PANADOL BABY (+odmerka)",
          "PANADOL JUNIOR",
          "PANADOL PRE DETI",
          "PANADOL tbl",
          "Panadol Novum tbl",
          "Panadol Paracetamolum tbl",
          "Paracetamol Kabi"
         ],
         "xaxis": "x",
         "y": [
          21920.89,
          50394,
          839,
          30460.5,
          37895,
          553,
          77893.815,
          114351.25,
          34926.29
         ],
         "yaxis": "y"
        },
        {
         "hovertemplate": "STAT_popis=Francúzsko<br>LIEK_popis=%{x}<br>Počet balení=%{y}<br>Cena úhrada_PAC/bal=%{marker.size}<extra></extra>",
         "legendgroup": "Francúzsko",
         "marker": {
          "color": "#EF553B",
          "size": [
           3.551473684210526
          ],
          "sizemode": "area",
          "sizeref": 0.011578550645983145,
          "symbol": "circle"
         },
         "mode": "markers",
         "name": "Francúzsko",
         "orientation": "v",
         "showlegend": true,
         "type": "scatter",
         "x": [
          "PANADOL BABY (+striekačka)"
         ],
         "xaxis": "x",
         "y": [
          285
         ],
         "yaxis": "y"
        },
        {
         "hovertemplate": "STAT_popis=Slovensko<br>LIEK_popis=%{x}<br>Počet balení=%{y}<br>Cena úhrada_PAC/bal=%{marker.size}<extra></extra>",
         "legendgroup": "Slovensko",
         "marker": {
          "color": "#00cc96",
          "size": [
           3.470746832030197,
           0.9501045220007333,
           3.6094748498999327,
           1.5615781466464018
          ],
          "sizemode": "area",
          "sizeref": 0.011578550645983145,
          "symbol": "circle"
         },
         "mode": "markers",
         "name": "Slovensko",
         "orientation": "v",
         "showlegend": true,
         "type": "scatter",
         "x": [
          "PARALEN nápoj",
          "PARALEN sup",
          "PARALEN sus",
          "PARALEN tbl"
         ],
         "xaxis": "x",
         "y": [
          482.17,
          161406.21000000002,
          74950,
          2683311.1420000005
         ],
         "yaxis": "y"
        },
        {
         "hovertemplate": "STAT_popis=Nemecko<br>LIEK_popis=%{x}<br>Počet balení=%{y}<br>Cena úhrada_PAC/bal=%{marker.size}<extra></extra>",
         "legendgroup": "Nemecko",
         "marker": {
          "color": "#ab63fa",
          "size": [
           0.06172126596335369,
           4.631420258393258
          ],
          "sizemode": "area",
          "sizeref": 0.011578550645983145,
          "symbol": "circle"
         },
         "mode": "markers",
         "name": "Nemecko",
         "orientation": "v",
         "showlegend": true,
         "type": "scatter",
         "x": [
          "Paracetamol B. Braun",
          "Paracetamol Kappler"
         ],
         "xaxis": "x",
         "y": [
          900.5,
          663.33
         ],
         "yaxis": "y"
        },
        {
         "hovertemplate": "STAT_popis=Fínsko<br>LIEK_popis=%{x}<br>Počet balení=%{y}<br>Cena úhrada_PAC/bal=%{marker.size}<extra></extra>",
         "legendgroup": "Fínsko",
         "marker": {
          "color": "#FFA15A",
          "size": [
           0.11531746710819751
          ],
          "sizemode": "area",
          "sizeref": 0.011578550645983145,
          "symbol": "circle"
         },
         "mode": "markers",
         "name": "Fínsko",
         "orientation": "v",
         "showlegend": true,
         "type": "scatter",
         "x": [
          "Paracetamol Vitabalans"
         ],
         "xaxis": "x",
         "y": [
          5493.01
         ],
         "yaxis": "y"
        }
       ],
       "layout": {
        "legend": {
         "itemsizing": "constant",
         "title": {
          "text": "STAT_popis"
         },
         "tracegroupgap": 0
        },
        "template": {
         "data": {
          "bar": [
           {
            "error_x": {
             "color": "#2a3f5f"
            },
            "error_y": {
             "color": "#2a3f5f"
            },
            "marker": {
             "line": {
              "color": "#E5ECF6",
              "width": 0.5
             }
            },
            "type": "bar"
           }
          ],
          "barpolar": [
           {
            "marker": {
             "line": {
              "color": "#E5ECF6",
              "width": 0.5
             }
            },
            "type": "barpolar"
           }
          ],
          "carpet": [
           {
            "aaxis": {
             "endlinecolor": "#2a3f5f",
             "gridcolor": "white",
             "linecolor": "white",
             "minorgridcolor": "white",
             "startlinecolor": "#2a3f5f"
            },
            "baxis": {
             "endlinecolor": "#2a3f5f",
             "gridcolor": "white",
             "linecolor": "white",
             "minorgridcolor": "white",
             "startlinecolor": "#2a3f5f"
            },
            "type": "carpet"
           }
          ],
          "choropleth": [
           {
            "colorbar": {
             "outlinewidth": 0,
             "ticks": ""
            },
            "type": "choropleth"
           }
          ],
          "contour": [
           {
            "colorbar": {
             "outlinewidth": 0,
             "ticks": ""
            },
            "colorscale": [
             [
              0,
              "#0d0887"
             ],
             [
              0.1111111111111111,
              "#46039f"
             ],
             [
              0.2222222222222222,
              "#7201a8"
             ],
             [
              0.3333333333333333,
              "#9c179e"
             ],
             [
              0.4444444444444444,
              "#bd3786"
             ],
             [
              0.5555555555555556,
              "#d8576b"
             ],
             [
              0.6666666666666666,
              "#ed7953"
             ],
             [
              0.7777777777777778,
              "#fb9f3a"
             ],
             [
              0.8888888888888888,
              "#fdca26"
             ],
             [
              1,
              "#f0f921"
             ]
            ],
            "type": "contour"
           }
          ],
          "contourcarpet": [
           {
            "colorbar": {
             "outlinewidth": 0,
             "ticks": ""
            },
            "type": "contourcarpet"
           }
          ],
          "heatmap": [
           {
            "colorbar": {
             "outlinewidth": 0,
             "ticks": ""
            },
            "colorscale": [
             [
              0,
              "#0d0887"
             ],
             [
              0.1111111111111111,
              "#46039f"
             ],
             [
              0.2222222222222222,
              "#7201a8"
             ],
             [
              0.3333333333333333,
              "#9c179e"
             ],
             [
              0.4444444444444444,
              "#bd3786"
             ],
             [
              0.5555555555555556,
              "#d8576b"
             ],
             [
              0.6666666666666666,
              "#ed7953"
             ],
             [
              0.7777777777777778,
              "#fb9f3a"
             ],
             [
              0.8888888888888888,
              "#fdca26"
             ],
             [
              1,
              "#f0f921"
             ]
            ],
            "type": "heatmap"
           }
          ],
          "heatmapgl": [
           {
            "colorbar": {
             "outlinewidth": 0,
             "ticks": ""
            },
            "colorscale": [
             [
              0,
              "#0d0887"
             ],
             [
              0.1111111111111111,
              "#46039f"
             ],
             [
              0.2222222222222222,
              "#7201a8"
             ],
             [
              0.3333333333333333,
              "#9c179e"
             ],
             [
              0.4444444444444444,
              "#bd3786"
             ],
             [
              0.5555555555555556,
              "#d8576b"
             ],
             [
              0.6666666666666666,
              "#ed7953"
             ],
             [
              0.7777777777777778,
              "#fb9f3a"
             ],
             [
              0.8888888888888888,
              "#fdca26"
             ],
             [
              1,
              "#f0f921"
             ]
            ],
            "type": "heatmapgl"
           }
          ],
          "histogram": [
           {
            "marker": {
             "colorbar": {
              "outlinewidth": 0,
              "ticks": ""
             }
            },
            "type": "histogram"
           }
          ],
          "histogram2d": [
           {
            "colorbar": {
             "outlinewidth": 0,
             "ticks": ""
            },
            "colorscale": [
             [
              0,
              "#0d0887"
             ],
             [
              0.1111111111111111,
              "#46039f"
             ],
             [
              0.2222222222222222,
              "#7201a8"
             ],
             [
              0.3333333333333333,
              "#9c179e"
             ],
             [
              0.4444444444444444,
              "#bd3786"
             ],
             [
              0.5555555555555556,
              "#d8576b"
             ],
             [
              0.6666666666666666,
              "#ed7953"
             ],
             [
              0.7777777777777778,
              "#fb9f3a"
             ],
             [
              0.8888888888888888,
              "#fdca26"
             ],
             [
              1,
              "#f0f921"
             ]
            ],
            "type": "histogram2d"
           }
          ],
          "histogram2dcontour": [
           {
            "colorbar": {
             "outlinewidth": 0,
             "ticks": ""
            },
            "colorscale": [
             [
              0,
              "#0d0887"
             ],
             [
              0.1111111111111111,
              "#46039f"
             ],
             [
              0.2222222222222222,
              "#7201a8"
             ],
             [
              0.3333333333333333,
              "#9c179e"
             ],
             [
              0.4444444444444444,
              "#bd3786"
             ],
             [
              0.5555555555555556,
              "#d8576b"
             ],
             [
              0.6666666666666666,
              "#ed7953"
             ],
             [
              0.7777777777777778,
              "#fb9f3a"
             ],
             [
              0.8888888888888888,
              "#fdca26"
             ],
             [
              1,
              "#f0f921"
             ]
            ],
            "type": "histogram2dcontour"
           }
          ],
          "mesh3d": [
           {
            "colorbar": {
             "outlinewidth": 0,
             "ticks": ""
            },
            "type": "mesh3d"
           }
          ],
          "parcoords": [
           {
            "line": {
             "colorbar": {
              "outlinewidth": 0,
              "ticks": ""
             }
            },
            "type": "parcoords"
           }
          ],
          "pie": [
           {
            "automargin": true,
            "type": "pie"
           }
          ],
          "scatter": [
           {
            "marker": {
             "colorbar": {
              "outlinewidth": 0,
              "ticks": ""
             }
            },
            "type": "scatter"
           }
          ],
          "scatter3d": [
           {
            "line": {
             "colorbar": {
              "outlinewidth": 0,
              "ticks": ""
             }
            },
            "marker": {
             "colorbar": {
              "outlinewidth": 0,
              "ticks": ""
             }
            },
            "type": "scatter3d"
           }
          ],
          "scattercarpet": [
           {
            "marker": {
             "colorbar": {
              "outlinewidth": 0,
              "ticks": ""
             }
            },
            "type": "scattercarpet"
           }
          ],
          "scattergeo": [
           {
            "marker": {
             "colorbar": {
              "outlinewidth": 0,
              "ticks": ""
             }
            },
            "type": "scattergeo"
           }
          ],
          "scattergl": [
           {
            "marker": {
             "colorbar": {
              "outlinewidth": 0,
              "ticks": ""
             }
            },
            "type": "scattergl"
           }
          ],
          "scattermapbox": [
           {
            "marker": {
             "colorbar": {
              "outlinewidth": 0,
              "ticks": ""
             }
            },
            "type": "scattermapbox"
           }
          ],
          "scatterpolar": [
           {
            "marker": {
             "colorbar": {
              "outlinewidth": 0,
              "ticks": ""
             }
            },
            "type": "scatterpolar"
           }
          ],
          "scatterpolargl": [
           {
            "marker": {
             "colorbar": {
              "outlinewidth": 0,
              "ticks": ""
             }
            },
            "type": "scatterpolargl"
           }
          ],
          "scatterternary": [
           {
            "marker": {
             "colorbar": {
              "outlinewidth": 0,
              "ticks": ""
             }
            },
            "type": "scatterternary"
           }
          ],
          "surface": [
           {
            "colorbar": {
             "outlinewidth": 0,
             "ticks": ""
            },
            "colorscale": [
             [
              0,
              "#0d0887"
             ],
             [
              0.1111111111111111,
              "#46039f"
             ],
             [
              0.2222222222222222,
              "#7201a8"
             ],
             [
              0.3333333333333333,
              "#9c179e"
             ],
             [
              0.4444444444444444,
              "#bd3786"
             ],
             [
              0.5555555555555556,
              "#d8576b"
             ],
             [
              0.6666666666666666,
              "#ed7953"
             ],
             [
              0.7777777777777778,
              "#fb9f3a"
             ],
             [
              0.8888888888888888,
              "#fdca26"
             ],
             [
              1,
              "#f0f921"
             ]
            ],
            "type": "surface"
           }
          ],
          "table": [
           {
            "cells": {
             "fill": {
              "color": "#EBF0F8"
             },
             "line": {
              "color": "white"
             }
            },
            "header": {
             "fill": {
              "color": "#C8D4E3"
             },
             "line": {
              "color": "white"
             }
            },
            "type": "table"
           }
          ]
         },
         "layout": {
          "annotationdefaults": {
           "arrowcolor": "#2a3f5f",
           "arrowhead": 0,
           "arrowwidth": 1
          },
          "autotypenumbers": "strict",
          "coloraxis": {
           "colorbar": {
            "outlinewidth": 0,
            "ticks": ""
           }
          },
          "colorscale": {
           "diverging": [
            [
             0,
             "#8e0152"
            ],
            [
             0.1,
             "#c51b7d"
            ],
            [
             0.2,
             "#de77ae"
            ],
            [
             0.3,
             "#f1b6da"
            ],
            [
             0.4,
             "#fde0ef"
            ],
            [
             0.5,
             "#f7f7f7"
            ],
            [
             0.6,
             "#e6f5d0"
            ],
            [
             0.7,
             "#b8e186"
            ],
            [
             0.8,
             "#7fbc41"
            ],
            [
             0.9,
             "#4d9221"
            ],
            [
             1,
             "#276419"
            ]
           ],
           "sequential": [
            [
             0,
             "#0d0887"
            ],
            [
             0.1111111111111111,
             "#46039f"
            ],
            [
             0.2222222222222222,
             "#7201a8"
            ],
            [
             0.3333333333333333,
             "#9c179e"
            ],
            [
             0.4444444444444444,
             "#bd3786"
            ],
            [
             0.5555555555555556,
             "#d8576b"
            ],
            [
             0.6666666666666666,
             "#ed7953"
            ],
            [
             0.7777777777777778,
             "#fb9f3a"
            ],
            [
             0.8888888888888888,
             "#fdca26"
            ],
            [
             1,
             "#f0f921"
            ]
           ],
           "sequentialminus": [
            [
             0,
             "#0d0887"
            ],
            [
             0.1111111111111111,
             "#46039f"
            ],
            [
             0.2222222222222222,
             "#7201a8"
            ],
            [
             0.3333333333333333,
             "#9c179e"
            ],
            [
             0.4444444444444444,
             "#bd3786"
            ],
            [
             0.5555555555555556,
             "#d8576b"
            ],
            [
             0.6666666666666666,
             "#ed7953"
            ],
            [
             0.7777777777777778,
             "#fb9f3a"
            ],
            [
             0.8888888888888888,
             "#fdca26"
            ],
            [
             1,
             "#f0f921"
            ]
           ]
          },
          "colorway": [
           "#636efa",
           "#EF553B",
           "#00cc96",
           "#ab63fa",
           "#FFA15A",
           "#19d3f3",
           "#FF6692",
           "#B6E880",
           "#FF97FF",
           "#FECB52"
          ],
          "font": {
           "color": "#2a3f5f"
          },
          "geo": {
           "bgcolor": "white",
           "lakecolor": "white",
           "landcolor": "#E5ECF6",
           "showlakes": true,
           "showland": true,
           "subunitcolor": "white"
          },
          "hoverlabel": {
           "align": "left"
          },
          "hovermode": "closest",
          "mapbox": {
           "style": "light"
          },
          "paper_bgcolor": "white",
          "plot_bgcolor": "#E5ECF6",
          "polar": {
           "angularaxis": {
            "gridcolor": "white",
            "linecolor": "white",
            "ticks": ""
           },
           "bgcolor": "#E5ECF6",
           "radialaxis": {
            "gridcolor": "white",
            "linecolor": "white",
            "ticks": ""
           }
          },
          "scene": {
           "xaxis": {
            "backgroundcolor": "#E5ECF6",
            "gridcolor": "white",
            "gridwidth": 2,
            "linecolor": "white",
            "showbackground": true,
            "ticks": "",
            "zerolinecolor": "white"
           },
           "yaxis": {
            "backgroundcolor": "#E5ECF6",
            "gridcolor": "white",
            "gridwidth": 2,
            "linecolor": "white",
            "showbackground": true,
            "ticks": "",
            "zerolinecolor": "white"
           },
           "zaxis": {
            "backgroundcolor": "#E5ECF6",
            "gridcolor": "white",
            "gridwidth": 2,
            "linecolor": "white",
            "showbackground": true,
            "ticks": "",
            "zerolinecolor": "white"
           }
          },
          "shapedefaults": {
           "line": {
            "color": "#2a3f5f"
           }
          },
          "ternary": {
           "aaxis": {
            "gridcolor": "white",
            "linecolor": "white",
            "ticks": ""
           },
           "baxis": {
            "gridcolor": "white",
            "linecolor": "white",
            "ticks": ""
           },
           "bgcolor": "#E5ECF6",
           "caxis": {
            "gridcolor": "white",
            "linecolor": "white",
            "ticks": ""
           }
          },
          "title": {
           "x": 0.05
          },
          "xaxis": {
           "automargin": true,
           "gridcolor": "white",
           "linecolor": "white",
           "ticks": "",
           "title": {
            "standoff": 15
           },
           "zerolinecolor": "white",
           "zerolinewidth": 2
          },
          "yaxis": {
           "automargin": true,
           "gridcolor": "white",
           "linecolor": "white",
           "ticks": "",
           "title": {
            "standoff": 15
           },
           "zerolinecolor": "white",
           "zerolinewidth": 2
          }
         }
        },
        "title": {
         "text": "Paracetamol"
        },
        "xaxis": {
         "anchor": "y",
         "domain": [
          0,
          1
         ],
         "tickangle": 45,
         "title": {
          "text": "LIEK_popis"
         }
        },
        "yaxis": {
         "anchor": "x",
         "domain": [
          0,
          1
         ],
         "title": {
          "text": "Počet balení"
         }
        }
       }
      }
     },
     "metadata": {}
    }
   ],
   "source": [
    "fig = px.scatter(paracetamol, x='LIEK_popis', y='Počet balení', size='Cena úhrada_PAC/bal', color='STAT_popis', title='Paracetamol')\n",
    "fig.update_xaxes(tickangle=45)\n",
    "fig.show()"
   ]
  },
  {
   "source": [
    "Z grafu vidime, ze vsetky lieky prekonava Paralen v tabletach za priblizne priemernu, mozno trosku podpriemernu cenu. Takisto si mozeme vsimnut ze je vyrabany na Slovensku. Cesko ma siroku ponuku Panadolov avsak tieto tak popularne nie su."
   ],
   "cell_type": "markdown",
   "metadata": {}
  },
  {
   "source": [
    "# 4. Ibuprofen"
   ],
   "cell_type": "markdown",
   "metadata": {}
  },
  {
   "cell_type": "code",
   "execution_count": 11,
   "metadata": {},
   "outputs": [
    {
     "output_type": "display_data",
     "data": {
      "text/plain": "                 LIEK_popis  STAT_popis  \\\n0                BRUFEN 400  Francúzsko   \n1                BRUFEN 600  Francúzsko   \n2               IBALGIN 200   Slovensko   \n3               IBALGIN 400   Slovensko   \n4               IBALGIN 600   Slovensko   \n5              IBALGIN FAST   Slovensko   \n6         IBALGIN RAPIDCAPS   Slovensko   \n7               IBALGIN SUS   Slovensko   \n8             IBUPROFEN 400     Nemecko   \n9                MIG Junior     Nemecko   \n10                  MIG-400     Nemecko   \n11            NUROFEN FORTE       Česko   \n12  NUROFEN Liquid Capsules       Česko   \n13         NUROFEN pre deti       Česko   \n14              NUROFEN tbl       Česko   \n\n                                        VYROBCA_popis  index  Počet balení  \\\n0                              Mylan Laboratories SAS  11226    260398.011   \n1                              Mylan Laboratories SAS   5625     28425.100   \n2                      sanofi-aventis Slovakia s.r.o.   5603    115937.580   \n3                      sanofi-aventis Slovakia s.r.o.  22455    925557.576   \n4                      sanofi-aventis Slovakia s.r.o.   5629     36402.670   \n5                      sanofi-aventis Slovakia s.r.o.   5641     32353.100   \n6                      sanofi-aventis Slovakia s.r.o.  11222    195327.956   \n7                      sanofi-aventis Slovakia s.r.o.   5634     16038.000   \n8                               STADA Arzneimittel AG  11253     87787.140   \n9                                    Berlin-Chemie AG   5571     12276.300   \n10                                   Berlin-Chemie AG  11235    234871.823   \n11  Reckitt Benckiser (Czech Republic), spol. s r.o.    5627     53810.500   \n12  Reckitt Benckiser (Czech Republic), spol. s r.o.   11245    140448.500   \n13  Reckitt Benckiser (Czech Republic), spol. s r.o.   44911    518837.687   \n14  Reckitt Benckiser (Czech Republic), spol. s r.o.    5633     53473.410   \n\n    Úhrada_PAC  Cena úhrada_PAC/bal  \n0   1000652.93             3.842783  \n1     88020.41             3.096573  \n2    274563.27             2.368199  \n3   3503655.19             3.785454  \n4     64870.46             1.782025  \n5    108560.61             3.355493  \n6    899915.02             4.607200  \n7     52677.24             3.284527  \n8    228675.29             2.604884  \n9     34815.97             2.836031  \n10   758498.46             3.229414  \n11   186448.24             3.464904  \n12   557590.23             3.970069  \n13  2579581.43             4.971847  \n14   123508.07             2.309710  ",
      "text/html": "<div>\n<style scoped>\n    .dataframe tbody tr th:only-of-type {\n        vertical-align: middle;\n    }\n\n    .dataframe tbody tr th {\n        vertical-align: top;\n    }\n\n    .dataframe thead th {\n        text-align: right;\n    }\n</style>\n<table border=\"1\" class=\"dataframe\">\n  <thead>\n    <tr style=\"text-align: right;\">\n      <th></th>\n      <th>LIEK_popis</th>\n      <th>STAT_popis</th>\n      <th>VYROBCA_popis</th>\n      <th>index</th>\n      <th>Počet balení</th>\n      <th>Úhrada_PAC</th>\n      <th>Cena úhrada_PAC/bal</th>\n    </tr>\n  </thead>\n  <tbody>\n    <tr>\n      <th>0</th>\n      <td>BRUFEN 400</td>\n      <td>Francúzsko</td>\n      <td>Mylan Laboratories SAS</td>\n      <td>11226</td>\n      <td>260398.011</td>\n      <td>1000652.93</td>\n      <td>3.842783</td>\n    </tr>\n    <tr>\n      <th>1</th>\n      <td>BRUFEN 600</td>\n      <td>Francúzsko</td>\n      <td>Mylan Laboratories SAS</td>\n      <td>5625</td>\n      <td>28425.100</td>\n      <td>88020.41</td>\n      <td>3.096573</td>\n    </tr>\n    <tr>\n      <th>2</th>\n      <td>IBALGIN 200</td>\n      <td>Slovensko</td>\n      <td>sanofi-aventis Slovakia s.r.o.</td>\n      <td>5603</td>\n      <td>115937.580</td>\n      <td>274563.27</td>\n      <td>2.368199</td>\n    </tr>\n    <tr>\n      <th>3</th>\n      <td>IBALGIN 400</td>\n      <td>Slovensko</td>\n      <td>sanofi-aventis Slovakia s.r.o.</td>\n      <td>22455</td>\n      <td>925557.576</td>\n      <td>3503655.19</td>\n      <td>3.785454</td>\n    </tr>\n    <tr>\n      <th>4</th>\n      <td>IBALGIN 600</td>\n      <td>Slovensko</td>\n      <td>sanofi-aventis Slovakia s.r.o.</td>\n      <td>5629</td>\n      <td>36402.670</td>\n      <td>64870.46</td>\n      <td>1.782025</td>\n    </tr>\n    <tr>\n      <th>5</th>\n      <td>IBALGIN FAST</td>\n      <td>Slovensko</td>\n      <td>sanofi-aventis Slovakia s.r.o.</td>\n      <td>5641</td>\n      <td>32353.100</td>\n      <td>108560.61</td>\n      <td>3.355493</td>\n    </tr>\n    <tr>\n      <th>6</th>\n      <td>IBALGIN RAPIDCAPS</td>\n      <td>Slovensko</td>\n      <td>sanofi-aventis Slovakia s.r.o.</td>\n      <td>11222</td>\n      <td>195327.956</td>\n      <td>899915.02</td>\n      <td>4.607200</td>\n    </tr>\n    <tr>\n      <th>7</th>\n      <td>IBALGIN SUS</td>\n      <td>Slovensko</td>\n      <td>sanofi-aventis Slovakia s.r.o.</td>\n      <td>5634</td>\n      <td>16038.000</td>\n      <td>52677.24</td>\n      <td>3.284527</td>\n    </tr>\n    <tr>\n      <th>8</th>\n      <td>IBUPROFEN 400</td>\n      <td>Nemecko</td>\n      <td>STADA Arzneimittel AG</td>\n      <td>11253</td>\n      <td>87787.140</td>\n      <td>228675.29</td>\n      <td>2.604884</td>\n    </tr>\n    <tr>\n      <th>9</th>\n      <td>MIG Junior</td>\n      <td>Nemecko</td>\n      <td>Berlin-Chemie AG</td>\n      <td>5571</td>\n      <td>12276.300</td>\n      <td>34815.97</td>\n      <td>2.836031</td>\n    </tr>\n    <tr>\n      <th>10</th>\n      <td>MIG-400</td>\n      <td>Nemecko</td>\n      <td>Berlin-Chemie AG</td>\n      <td>11235</td>\n      <td>234871.823</td>\n      <td>758498.46</td>\n      <td>3.229414</td>\n    </tr>\n    <tr>\n      <th>11</th>\n      <td>NUROFEN FORTE</td>\n      <td>Česko</td>\n      <td>Reckitt Benckiser (Czech Republic), spol. s r.o.</td>\n      <td>5627</td>\n      <td>53810.500</td>\n      <td>186448.24</td>\n      <td>3.464904</td>\n    </tr>\n    <tr>\n      <th>12</th>\n      <td>NUROFEN Liquid Capsules</td>\n      <td>Česko</td>\n      <td>Reckitt Benckiser (Czech Republic), spol. s r.o.</td>\n      <td>11245</td>\n      <td>140448.500</td>\n      <td>557590.23</td>\n      <td>3.970069</td>\n    </tr>\n    <tr>\n      <th>13</th>\n      <td>NUROFEN pre deti</td>\n      <td>Česko</td>\n      <td>Reckitt Benckiser (Czech Republic), spol. s r.o.</td>\n      <td>44911</td>\n      <td>518837.687</td>\n      <td>2579581.43</td>\n      <td>4.971847</td>\n    </tr>\n    <tr>\n      <th>14</th>\n      <td>NUROFEN tbl</td>\n      <td>Česko</td>\n      <td>Reckitt Benckiser (Czech Republic), spol. s r.o.</td>\n      <td>5633</td>\n      <td>53473.410</td>\n      <td>123508.07</td>\n      <td>2.309710</td>\n    </tr>\n  </tbody>\n</table>\n</div>"
     },
     "metadata": {}
    }
   ],
   "source": [
    "ibuprofen = top20tab[\"M01AE01\"].sort_values(by='Počet balení', ascending=False).head(30)\n",
    "\n",
    "for i,popis in enumerate(ibuprofen['LIEK_popis']):\n",
    "    if 'IBALGIN 400' in popis:\n",
    "        ibuprofen.iloc[i,4] = 'IBALGIN 400'\n",
    "    elif 'Ibalgin 400' in popis:\n",
    "        ibuprofen.iloc[i,4] = 'IBALGIN 400'\n",
    "    elif 'BRUFEN 400' in popis:\n",
    "        ibuprofen.iloc[i,4] = 'BRUFEN 400'\n",
    "    elif 'Brufen 400' in popis:\n",
    "        ibuprofen.iloc[i,4] = 'BRUFEN 400'\n",
    "    elif 'BRUFEN sirup' in popis:\n",
    "        ibuprofen.iloc[i,4] = 'BRUFEN sirup'\n",
    "    elif 'BRUFEN retard 800' in popis:\n",
    "        ibuprofen.iloc[i,4] = 'BRUFEN retard 800'\n",
    "    elif 'BRUFEN 600' in popis:\n",
    "        ibuprofen.iloc[i,4] = 'BRUFEN 600'\n",
    "    elif 'MIG-400' in popis:\n",
    "        ibuprofen.iloc[i,4] = 'MIG-400'\n",
    "    elif 'NUROFEN pre deti' in popis:\n",
    "        ibuprofen.iloc[i,4] = 'NUROFEN pre deti'\n",
    "    elif 'NUROFEN PRE DETI' in popis:\n",
    "        ibuprofen.iloc[i,4] = 'NUROFEN pre deti'\n",
    "    elif 'Nurofen pre deti' in popis:\n",
    "        ibuprofen.iloc[i,4] = 'NUROFEN pre deti'\n",
    "    elif 'NUROFEN PRE DETI' in popis:\n",
    "        ibuprofen.iloc[i,4] = 'NUROFEN pre deti'\n",
    "    elif 'IBALGIN RAPIDCAPS' in popis:\n",
    "        ibuprofen.iloc[i,4] = 'IBALGIN RAPIDCAPS'\n",
    "    elif 'IBALGIN 200' in popis:\n",
    "        ibuprofen.iloc[i,4] = 'IBALGIN 200'\n",
    "    elif 'IBALGIN 600' in popis:\n",
    "        ibuprofen.iloc[i,4] = 'IBALGIN 600'\n",
    "    elif 'IBALGIN FAST' in popis:\n",
    "        ibuprofen.iloc[i,4] = 'IBALGIN FAST'\n",
    "    elif 'NUROFEN Liquid Capsules' in popis:\n",
    "        ibuprofen.iloc[i,4] = 'NUROFEN Liquid Capsules'\n",
    "    elif 'IBUPROFEN 400' in popis:\n",
    "        ibuprofen.iloc[i,4] = 'IBUPROFEN 400'\n",
    "    elif 'IBALGIN SUS' in popis:\n",
    "        ibuprofen.iloc[i,4] = 'IBALGIN SUS'\n",
    "    elif 'MIG' in popis:\n",
    "        ibuprofen.iloc[i,4] = 'MIG Junior'\n",
    "    elif 'NUROFEN FORTE' in popis:\n",
    "        ibuprofen.iloc[i,4] = 'NUROFEN FORTE'\n",
    "    elif 'NUROFEN tbl' in popis:\n",
    "        ibuprofen.iloc[i,4] = 'NUROFEN tbl'\n",
    "\n",
    "ibuprofen = ibuprofen.groupby(['LIEK_popis', 'STAT_popis', 'VYROBCA_popis']).sum().reset_index()\n",
    "ibuprofen['Cena úhrada_PAC/bal'] = ibuprofen['Úhrada_PAC'] / ibuprofen['Počet balení']\n",
    "display(ibuprofen)"
   ]
  },
  {
   "cell_type": "code",
   "execution_count": 12,
   "metadata": {},
   "outputs": [
    {
     "output_type": "display_data",
     "data": {
      "application/vnd.plotly.v1+json": {
       "config": {
        "plotlyServerURL": "https://plot.ly"
       },
       "data": [
        {
         "hovertemplate": "STAT_popis=Francúzsko<br>LIEK_popis=%{x}<br>Počet balení=%{y}<br>Cena úhrada_PAC/bal=%{marker.size}<extra></extra>",
         "legendgroup": "Francúzsko",
         "marker": {
          "color": "#636efa",
          "size": [
           3.8427825395332995,
           3.096573450928932
          ],
          "sizemode": "area",
          "sizeref": 0.012429616692435837,
          "symbol": "circle"
         },
         "mode": "markers",
         "name": "Francúzsko",
         "orientation": "v",
         "showlegend": true,
         "type": "scatter",
         "x": [
          "BRUFEN 400",
          "BRUFEN 600"
         ],
         "xaxis": "x",
         "y": [
          260398.011,
          28425.100000000002
         ],
         "yaxis": "y"
        },
        {
         "hovertemplate": "STAT_popis=Slovensko<br>LIEK_popis=%{x}<br>Počet balení=%{y}<br>Cena úhrada_PAC/bal=%{marker.size}<extra></extra>",
         "legendgroup": "Slovensko",
         "marker": {
          "color": "#EF553B",
          "size": [
           2.368199077469099,
           3.785453526448148,
           1.7820247800504745,
           3.355493291214753,
           4.607200312893256,
           3.284526748971194
          ],
          "sizemode": "area",
          "sizeref": 0.012429616692435837,
          "symbol": "circle"
         },
         "mode": "markers",
         "name": "Slovensko",
         "orientation": "v",
         "showlegend": true,
         "type": "scatter",
         "x": [
          "IBALGIN 200",
          "IBALGIN 400",
          "IBALGIN 600",
          "IBALGIN FAST",
          "IBALGIN RAPIDCAPS",
          "IBALGIN SUS"
         ],
         "xaxis": "x",
         "y": [
          115937.58,
          925557.576,
          36402.67,
          32353.1,
          195327.95599999998,
          16038
         ],
         "yaxis": "y"
        },
        {
         "hovertemplate": "STAT_popis=Nemecko<br>LIEK_popis=%{x}<br>Počet balení=%{y}<br>Cena úhrada_PAC/bal=%{marker.size}<extra></extra>",
         "legendgroup": "Nemecko",
         "marker": {
          "color": "#00cc96",
          "size": [
           2.6048836993664457,
           2.8360312146167823,
           3.2294144538572422
          ],
          "sizemode": "area",
          "sizeref": 0.012429616692435837,
          "symbol": "circle"
         },
         "mode": "markers",
         "name": "Nemecko",
         "orientation": "v",
         "showlegend": true,
         "type": "scatter",
         "x": [
          "IBUPROFEN 400",
          "MIG Junior",
          "MIG-400"
         ],
         "xaxis": "x",
         "y": [
          87787.14,
          12276.3,
          234871.823
         ],
         "yaxis": "y"
        },
        {
         "hovertemplate": "STAT_popis=Česko<br>LIEK_popis=%{x}<br>Počet balení=%{y}<br>Cena úhrada_PAC/bal=%{marker.size}<extra></extra>",
         "legendgroup": "Česko",
         "marker": {
          "color": "#ab63fa",
          "size": [
           3.464904433149665,
           3.970068957660638,
           4.971846676974335,
           2.3097100035325973
          ],
          "sizemode": "area",
          "sizeref": 0.012429616692435837,
          "symbol": "circle"
         },
         "mode": "markers",
         "name": "Česko",
         "orientation": "v",
         "showlegend": true,
         "type": "scatter",
         "x": [
          "NUROFEN FORTE",
          "NUROFEN Liquid Capsules",
          "NUROFEN pre deti",
          "NUROFEN tbl"
         ],
         "xaxis": "x",
         "y": [
          53810.5,
          140448.5,
          518837.68700000003,
          53473.41
         ],
         "yaxis": "y"
        }
       ],
       "layout": {
        "legend": {
         "itemsizing": "constant",
         "title": {
          "text": "STAT_popis"
         },
         "tracegroupgap": 0
        },
        "template": {
         "data": {
          "bar": [
           {
            "error_x": {
             "color": "#2a3f5f"
            },
            "error_y": {
             "color": "#2a3f5f"
            },
            "marker": {
             "line": {
              "color": "#E5ECF6",
              "width": 0.5
             }
            },
            "type": "bar"
           }
          ],
          "barpolar": [
           {
            "marker": {
             "line": {
              "color": "#E5ECF6",
              "width": 0.5
             }
            },
            "type": "barpolar"
           }
          ],
          "carpet": [
           {
            "aaxis": {
             "endlinecolor": "#2a3f5f",
             "gridcolor": "white",
             "linecolor": "white",
             "minorgridcolor": "white",
             "startlinecolor": "#2a3f5f"
            },
            "baxis": {
             "endlinecolor": "#2a3f5f",
             "gridcolor": "white",
             "linecolor": "white",
             "minorgridcolor": "white",
             "startlinecolor": "#2a3f5f"
            },
            "type": "carpet"
           }
          ],
          "choropleth": [
           {
            "colorbar": {
             "outlinewidth": 0,
             "ticks": ""
            },
            "type": "choropleth"
           }
          ],
          "contour": [
           {
            "colorbar": {
             "outlinewidth": 0,
             "ticks": ""
            },
            "colorscale": [
             [
              0,
              "#0d0887"
             ],
             [
              0.1111111111111111,
              "#46039f"
             ],
             [
              0.2222222222222222,
              "#7201a8"
             ],
             [
              0.3333333333333333,
              "#9c179e"
             ],
             [
              0.4444444444444444,
              "#bd3786"
             ],
             [
              0.5555555555555556,
              "#d8576b"
             ],
             [
              0.6666666666666666,
              "#ed7953"
             ],
             [
              0.7777777777777778,
              "#fb9f3a"
             ],
             [
              0.8888888888888888,
              "#fdca26"
             ],
             [
              1,
              "#f0f921"
             ]
            ],
            "type": "contour"
           }
          ],
          "contourcarpet": [
           {
            "colorbar": {
             "outlinewidth": 0,
             "ticks": ""
            },
            "type": "contourcarpet"
           }
          ],
          "heatmap": [
           {
            "colorbar": {
             "outlinewidth": 0,
             "ticks": ""
            },
            "colorscale": [
             [
              0,
              "#0d0887"
             ],
             [
              0.1111111111111111,
              "#46039f"
             ],
             [
              0.2222222222222222,
              "#7201a8"
             ],
             [
              0.3333333333333333,
              "#9c179e"
             ],
             [
              0.4444444444444444,
              "#bd3786"
             ],
             [
              0.5555555555555556,
              "#d8576b"
             ],
             [
              0.6666666666666666,
              "#ed7953"
             ],
             [
              0.7777777777777778,
              "#fb9f3a"
             ],
             [
              0.8888888888888888,
              "#fdca26"
             ],
             [
              1,
              "#f0f921"
             ]
            ],
            "type": "heatmap"
           }
          ],
          "heatmapgl": [
           {
            "colorbar": {
             "outlinewidth": 0,
             "ticks": ""
            },
            "colorscale": [
             [
              0,
              "#0d0887"
             ],
             [
              0.1111111111111111,
              "#46039f"
             ],
             [
              0.2222222222222222,
              "#7201a8"
             ],
             [
              0.3333333333333333,
              "#9c179e"
             ],
             [
              0.4444444444444444,
              "#bd3786"
             ],
             [
              0.5555555555555556,
              "#d8576b"
             ],
             [
              0.6666666666666666,
              "#ed7953"
             ],
             [
              0.7777777777777778,
              "#fb9f3a"
             ],
             [
              0.8888888888888888,
              "#fdca26"
             ],
             [
              1,
              "#f0f921"
             ]
            ],
            "type": "heatmapgl"
           }
          ],
          "histogram": [
           {
            "marker": {
             "colorbar": {
              "outlinewidth": 0,
              "ticks": ""
             }
            },
            "type": "histogram"
           }
          ],
          "histogram2d": [
           {
            "colorbar": {
             "outlinewidth": 0,
             "ticks": ""
            },
            "colorscale": [
             [
              0,
              "#0d0887"
             ],
             [
              0.1111111111111111,
              "#46039f"
             ],
             [
              0.2222222222222222,
              "#7201a8"
             ],
             [
              0.3333333333333333,
              "#9c179e"
             ],
             [
              0.4444444444444444,
              "#bd3786"
             ],
             [
              0.5555555555555556,
              "#d8576b"
             ],
             [
              0.6666666666666666,
              "#ed7953"
             ],
             [
              0.7777777777777778,
              "#fb9f3a"
             ],
             [
              0.8888888888888888,
              "#fdca26"
             ],
             [
              1,
              "#f0f921"
             ]
            ],
            "type": "histogram2d"
           }
          ],
          "histogram2dcontour": [
           {
            "colorbar": {
             "outlinewidth": 0,
             "ticks": ""
            },
            "colorscale": [
             [
              0,
              "#0d0887"
             ],
             [
              0.1111111111111111,
              "#46039f"
             ],
             [
              0.2222222222222222,
              "#7201a8"
             ],
             [
              0.3333333333333333,
              "#9c179e"
             ],
             [
              0.4444444444444444,
              "#bd3786"
             ],
             [
              0.5555555555555556,
              "#d8576b"
             ],
             [
              0.6666666666666666,
              "#ed7953"
             ],
             [
              0.7777777777777778,
              "#fb9f3a"
             ],
             [
              0.8888888888888888,
              "#fdca26"
             ],
             [
              1,
              "#f0f921"
             ]
            ],
            "type": "histogram2dcontour"
           }
          ],
          "mesh3d": [
           {
            "colorbar": {
             "outlinewidth": 0,
             "ticks": ""
            },
            "type": "mesh3d"
           }
          ],
          "parcoords": [
           {
            "line": {
             "colorbar": {
              "outlinewidth": 0,
              "ticks": ""
             }
            },
            "type": "parcoords"
           }
          ],
          "pie": [
           {
            "automargin": true,
            "type": "pie"
           }
          ],
          "scatter": [
           {
            "marker": {
             "colorbar": {
              "outlinewidth": 0,
              "ticks": ""
             }
            },
            "type": "scatter"
           }
          ],
          "scatter3d": [
           {
            "line": {
             "colorbar": {
              "outlinewidth": 0,
              "ticks": ""
             }
            },
            "marker": {
             "colorbar": {
              "outlinewidth": 0,
              "ticks": ""
             }
            },
            "type": "scatter3d"
           }
          ],
          "scattercarpet": [
           {
            "marker": {
             "colorbar": {
              "outlinewidth": 0,
              "ticks": ""
             }
            },
            "type": "scattercarpet"
           }
          ],
          "scattergeo": [
           {
            "marker": {
             "colorbar": {
              "outlinewidth": 0,
              "ticks": ""
             }
            },
            "type": "scattergeo"
           }
          ],
          "scattergl": [
           {
            "marker": {
             "colorbar": {
              "outlinewidth": 0,
              "ticks": ""
             }
            },
            "type": "scattergl"
           }
          ],
          "scattermapbox": [
           {
            "marker": {
             "colorbar": {
              "outlinewidth": 0,
              "ticks": ""
             }
            },
            "type": "scattermapbox"
           }
          ],
          "scatterpolar": [
           {
            "marker": {
             "colorbar": {
              "outlinewidth": 0,
              "ticks": ""
             }
            },
            "type": "scatterpolar"
           }
          ],
          "scatterpolargl": [
           {
            "marker": {
             "colorbar": {
              "outlinewidth": 0,
              "ticks": ""
             }
            },
            "type": "scatterpolargl"
           }
          ],
          "scatterternary": [
           {
            "marker": {
             "colorbar": {
              "outlinewidth": 0,
              "ticks": ""
             }
            },
            "type": "scatterternary"
           }
          ],
          "surface": [
           {
            "colorbar": {
             "outlinewidth": 0,
             "ticks": ""
            },
            "colorscale": [
             [
              0,
              "#0d0887"
             ],
             [
              0.1111111111111111,
              "#46039f"
             ],
             [
              0.2222222222222222,
              "#7201a8"
             ],
             [
              0.3333333333333333,
              "#9c179e"
             ],
             [
              0.4444444444444444,
              "#bd3786"
             ],
             [
              0.5555555555555556,
              "#d8576b"
             ],
             [
              0.6666666666666666,
              "#ed7953"
             ],
             [
              0.7777777777777778,
              "#fb9f3a"
             ],
             [
              0.8888888888888888,
              "#fdca26"
             ],
             [
              1,
              "#f0f921"
             ]
            ],
            "type": "surface"
           }
          ],
          "table": [
           {
            "cells": {
             "fill": {
              "color": "#EBF0F8"
             },
             "line": {
              "color": "white"
             }
            },
            "header": {
             "fill": {
              "color": "#C8D4E3"
             },
             "line": {
              "color": "white"
             }
            },
            "type": "table"
           }
          ]
         },
         "layout": {
          "annotationdefaults": {
           "arrowcolor": "#2a3f5f",
           "arrowhead": 0,
           "arrowwidth": 1
          },
          "autotypenumbers": "strict",
          "coloraxis": {
           "colorbar": {
            "outlinewidth": 0,
            "ticks": ""
           }
          },
          "colorscale": {
           "diverging": [
            [
             0,
             "#8e0152"
            ],
            [
             0.1,
             "#c51b7d"
            ],
            [
             0.2,
             "#de77ae"
            ],
            [
             0.3,
             "#f1b6da"
            ],
            [
             0.4,
             "#fde0ef"
            ],
            [
             0.5,
             "#f7f7f7"
            ],
            [
             0.6,
             "#e6f5d0"
            ],
            [
             0.7,
             "#b8e186"
            ],
            [
             0.8,
             "#7fbc41"
            ],
            [
             0.9,
             "#4d9221"
            ],
            [
             1,
             "#276419"
            ]
           ],
           "sequential": [
            [
             0,
             "#0d0887"
            ],
            [
             0.1111111111111111,
             "#46039f"
            ],
            [
             0.2222222222222222,
             "#7201a8"
            ],
            [
             0.3333333333333333,
             "#9c179e"
            ],
            [
             0.4444444444444444,
             "#bd3786"
            ],
            [
             0.5555555555555556,
             "#d8576b"
            ],
            [
             0.6666666666666666,
             "#ed7953"
            ],
            [
             0.7777777777777778,
             "#fb9f3a"
            ],
            [
             0.8888888888888888,
             "#fdca26"
            ],
            [
             1,
             "#f0f921"
            ]
           ],
           "sequentialminus": [
            [
             0,
             "#0d0887"
            ],
            [
             0.1111111111111111,
             "#46039f"
            ],
            [
             0.2222222222222222,
             "#7201a8"
            ],
            [
             0.3333333333333333,
             "#9c179e"
            ],
            [
             0.4444444444444444,
             "#bd3786"
            ],
            [
             0.5555555555555556,
             "#d8576b"
            ],
            [
             0.6666666666666666,
             "#ed7953"
            ],
            [
             0.7777777777777778,
             "#fb9f3a"
            ],
            [
             0.8888888888888888,
             "#fdca26"
            ],
            [
             1,
             "#f0f921"
            ]
           ]
          },
          "colorway": [
           "#636efa",
           "#EF553B",
           "#00cc96",
           "#ab63fa",
           "#FFA15A",
           "#19d3f3",
           "#FF6692",
           "#B6E880",
           "#FF97FF",
           "#FECB52"
          ],
          "font": {
           "color": "#2a3f5f"
          },
          "geo": {
           "bgcolor": "white",
           "lakecolor": "white",
           "landcolor": "#E5ECF6",
           "showlakes": true,
           "showland": true,
           "subunitcolor": "white"
          },
          "hoverlabel": {
           "align": "left"
          },
          "hovermode": "closest",
          "mapbox": {
           "style": "light"
          },
          "paper_bgcolor": "white",
          "plot_bgcolor": "#E5ECF6",
          "polar": {
           "angularaxis": {
            "gridcolor": "white",
            "linecolor": "white",
            "ticks": ""
           },
           "bgcolor": "#E5ECF6",
           "radialaxis": {
            "gridcolor": "white",
            "linecolor": "white",
            "ticks": ""
           }
          },
          "scene": {
           "xaxis": {
            "backgroundcolor": "#E5ECF6",
            "gridcolor": "white",
            "gridwidth": 2,
            "linecolor": "white",
            "showbackground": true,
            "ticks": "",
            "zerolinecolor": "white"
           },
           "yaxis": {
            "backgroundcolor": "#E5ECF6",
            "gridcolor": "white",
            "gridwidth": 2,
            "linecolor": "white",
            "showbackground": true,
            "ticks": "",
            "zerolinecolor": "white"
           },
           "zaxis": {
            "backgroundcolor": "#E5ECF6",
            "gridcolor": "white",
            "gridwidth": 2,
            "linecolor": "white",
            "showbackground": true,
            "ticks": "",
            "zerolinecolor": "white"
           }
          },
          "shapedefaults": {
           "line": {
            "color": "#2a3f5f"
           }
          },
          "ternary": {
           "aaxis": {
            "gridcolor": "white",
            "linecolor": "white",
            "ticks": ""
           },
           "baxis": {
            "gridcolor": "white",
            "linecolor": "white",
            "ticks": ""
           },
           "bgcolor": "#E5ECF6",
           "caxis": {
            "gridcolor": "white",
            "linecolor": "white",
            "ticks": ""
           }
          },
          "title": {
           "x": 0.05
          },
          "xaxis": {
           "automargin": true,
           "gridcolor": "white",
           "linecolor": "white",
           "ticks": "",
           "title": {
            "standoff": 15
           },
           "zerolinecolor": "white",
           "zerolinewidth": 2
          },
          "yaxis": {
           "automargin": true,
           "gridcolor": "white",
           "linecolor": "white",
           "ticks": "",
           "title": {
            "standoff": 15
           },
           "zerolinecolor": "white",
           "zerolinewidth": 2
          }
         }
        },
        "title": {
         "text": "Ibuprofen"
        },
        "xaxis": {
         "anchor": "y",
         "domain": [
          0,
          1
         ],
         "tickangle": 45,
         "title": {
          "text": "LIEK_popis"
         }
        },
        "yaxis": {
         "anchor": "x",
         "domain": [
          0,
          1
         ],
         "title": {
          "text": "Počet balení"
         }
        }
       }
      }
     },
     "metadata": {}
    }
   ],
   "source": [
    "fig = px.scatter(ibuprofen, x='LIEK_popis', y='Počet balení', size='Cena úhrada_PAC/bal', color='STAT_popis', title='Ibuprofen')\n",
    "fig.update_xaxes(tickangle=45)\n",
    "fig.show()"
   ]
  },
  {
   "source": [
    "Z grafu vidime, ze najpredavanejsi liek s ibuprofenom je slovensky Ibalgin 400. Z ceskych liekov bol najpredavanejsi Nurofen pre deti. To, ze bol druhy najpredavanejsi je mozno sposobene tym ze je prave pre deti. "
   ],
   "cell_type": "markdown",
   "metadata": {}
  },
  {
   "source": [
    "# 5. Bisoprolol"
   ],
   "cell_type": "markdown",
   "metadata": {}
  },
  {
   "cell_type": "code",
   "execution_count": 13,
   "metadata": {},
   "outputs": [
    {
     "output_type": "display_data",
     "data": {
      "text/plain": "               LIEK_popis          STAT_popis  \\\n0                BISOBELA           Slovensko   \n1                BISOCARD               Česko   \n2               BISOGAMMA             Nemecko   \n3               BISOMERCK           Slovensko   \n4   BISOPROLOL-ratiopharm             Nemecko   \n5                 BIVAXOL               Česko   \n6       Bisoprolol Pfizer  Spojené kráľovstvo   \n7       Bisoprolol Sandoz           Slovinsko   \n8              Bisprotin               Fínsko   \n9                  CONCOR           Slovensko   \n10             CONCOR COR           Slovensko   \n11                CORONAL           Slovensko   \n12                RIVOCOR               Česko   \n13                Sobycor           Slovinsko   \n\n                         VYROBCA_popis  index  Počet balení  Úhrada_PAC  \\\n0                       BELUPO, s.r.o.   5957      7197.330    16626.62   \n1   PharmaSwiss Česká republika s.r.o.   7954    192394.600   151460.50   \n2          Wörwag Pharma GmbH & Co.KG    1979         2.000        6.34   \n3                   Merck spol. s.r.o.   4009    122739.500   174809.80   \n4                      ratiopharm GmbH   3949    390962.830    86444.66   \n5          IVAX Pharmaceuticals s.r.o.   1999         2.000        3.20   \n6                Pfizer Europe MA EEIG   3933       119.000       16.40   \n7          Sandoz Pharmaceuticals d.d.   3939     10493.660     2229.01   \n8                        Vitabalans Oy   9920      1965.900     1922.87   \n9                   Merck spol. s.r.o.   8006    920947.070  2677920.45   \n10                  Merck spol. s.r.o.   7884    284506.250   747989.61   \n11                           ZNT-SK-2?   5971    472688.870   237788.87   \n12               PRO.MED.CS Praha a.s.   3955     98766.500    89467.99   \n13               KRKA d.d., Novo mesto   9965    104587.032    82156.65   \n\n    Cena úhrada_PAC/bal  \n0              2.310109  \n1              0.787239  \n2              3.170000  \n3              1.424234  \n4              0.221107  \n5              1.600000  \n6              0.137815  \n7              0.212415  \n8              0.978112  \n9              2.907790  \n10             2.629080  \n11             0.503056  \n12             0.905854  \n13             0.785534  ",
      "text/html": "<div>\n<style scoped>\n    .dataframe tbody tr th:only-of-type {\n        vertical-align: middle;\n    }\n\n    .dataframe tbody tr th {\n        vertical-align: top;\n    }\n\n    .dataframe thead th {\n        text-align: right;\n    }\n</style>\n<table border=\"1\" class=\"dataframe\">\n  <thead>\n    <tr style=\"text-align: right;\">\n      <th></th>\n      <th>LIEK_popis</th>\n      <th>STAT_popis</th>\n      <th>VYROBCA_popis</th>\n      <th>index</th>\n      <th>Počet balení</th>\n      <th>Úhrada_PAC</th>\n      <th>Cena úhrada_PAC/bal</th>\n    </tr>\n  </thead>\n  <tbody>\n    <tr>\n      <th>0</th>\n      <td>BISOBELA</td>\n      <td>Slovensko</td>\n      <td>BELUPO, s.r.o.</td>\n      <td>5957</td>\n      <td>7197.330</td>\n      <td>16626.62</td>\n      <td>2.310109</td>\n    </tr>\n    <tr>\n      <th>1</th>\n      <td>BISOCARD</td>\n      <td>Česko</td>\n      <td>PharmaSwiss Česká republika s.r.o.</td>\n      <td>7954</td>\n      <td>192394.600</td>\n      <td>151460.50</td>\n      <td>0.787239</td>\n    </tr>\n    <tr>\n      <th>2</th>\n      <td>BISOGAMMA</td>\n      <td>Nemecko</td>\n      <td>Wörwag Pharma GmbH &amp; Co.KG</td>\n      <td>1979</td>\n      <td>2.000</td>\n      <td>6.34</td>\n      <td>3.170000</td>\n    </tr>\n    <tr>\n      <th>3</th>\n      <td>BISOMERCK</td>\n      <td>Slovensko</td>\n      <td>Merck spol. s.r.o.</td>\n      <td>4009</td>\n      <td>122739.500</td>\n      <td>174809.80</td>\n      <td>1.424234</td>\n    </tr>\n    <tr>\n      <th>4</th>\n      <td>BISOPROLOL-ratiopharm</td>\n      <td>Nemecko</td>\n      <td>ratiopharm GmbH</td>\n      <td>3949</td>\n      <td>390962.830</td>\n      <td>86444.66</td>\n      <td>0.221107</td>\n    </tr>\n    <tr>\n      <th>5</th>\n      <td>BIVAXOL</td>\n      <td>Česko</td>\n      <td>IVAX Pharmaceuticals s.r.o.</td>\n      <td>1999</td>\n      <td>2.000</td>\n      <td>3.20</td>\n      <td>1.600000</td>\n    </tr>\n    <tr>\n      <th>6</th>\n      <td>Bisoprolol Pfizer</td>\n      <td>Spojené kráľovstvo</td>\n      <td>Pfizer Europe MA EEIG</td>\n      <td>3933</td>\n      <td>119.000</td>\n      <td>16.40</td>\n      <td>0.137815</td>\n    </tr>\n    <tr>\n      <th>7</th>\n      <td>Bisoprolol Sandoz</td>\n      <td>Slovinsko</td>\n      <td>Sandoz Pharmaceuticals d.d.</td>\n      <td>3939</td>\n      <td>10493.660</td>\n      <td>2229.01</td>\n      <td>0.212415</td>\n    </tr>\n    <tr>\n      <th>8</th>\n      <td>Bisprotin</td>\n      <td>Fínsko</td>\n      <td>Vitabalans Oy</td>\n      <td>9920</td>\n      <td>1965.900</td>\n      <td>1922.87</td>\n      <td>0.978112</td>\n    </tr>\n    <tr>\n      <th>9</th>\n      <td>CONCOR</td>\n      <td>Slovensko</td>\n      <td>Merck spol. s.r.o.</td>\n      <td>8006</td>\n      <td>920947.070</td>\n      <td>2677920.45</td>\n      <td>2.907790</td>\n    </tr>\n    <tr>\n      <th>10</th>\n      <td>CONCOR COR</td>\n      <td>Slovensko</td>\n      <td>Merck spol. s.r.o.</td>\n      <td>7884</td>\n      <td>284506.250</td>\n      <td>747989.61</td>\n      <td>2.629080</td>\n    </tr>\n    <tr>\n      <th>11</th>\n      <td>CORONAL</td>\n      <td>Slovensko</td>\n      <td>ZNT-SK-2?</td>\n      <td>5971</td>\n      <td>472688.870</td>\n      <td>237788.87</td>\n      <td>0.503056</td>\n    </tr>\n    <tr>\n      <th>12</th>\n      <td>RIVOCOR</td>\n      <td>Česko</td>\n      <td>PRO.MED.CS Praha a.s.</td>\n      <td>3955</td>\n      <td>98766.500</td>\n      <td>89467.99</td>\n      <td>0.905854</td>\n    </tr>\n    <tr>\n      <th>13</th>\n      <td>Sobycor</td>\n      <td>Slovinsko</td>\n      <td>KRKA d.d., Novo mesto</td>\n      <td>9965</td>\n      <td>104587.032</td>\n      <td>82156.65</td>\n      <td>0.785534</td>\n    </tr>\n  </tbody>\n</table>\n</div>"
     },
     "metadata": {}
    }
   ],
   "source": [
    "bisoprolol = top20tab[\"C07AB07\"].sort_values(by='Počet balení', ascending=False)\n",
    "\n",
    "for i,popis in enumerate(bisoprolol['LIEK_popis']):\n",
    "    if 'BISOBELA' in popis:\n",
    "        bisoprolol.iloc[i,4] = 'BISOBELA'\n",
    "    elif 'BISOCARD' in popis:\n",
    "        bisoprolol.iloc[i,4] = 'BISOCARD'\n",
    "    elif 'BISOGAMMA' in popis:\n",
    "        bisoprolol.iloc[i,4] = 'BISOGAMMA'\n",
    "    elif 'BISOMERCK' in popis:\n",
    "        bisoprolol.iloc[i,4] = 'BISOMERCK'\n",
    "    elif 'BISOPROLOL-ratiopharm' in popis:\n",
    "        bisoprolol.iloc[i,4] = 'BISOPROLOL-ratiopharm'\n",
    "    elif 'BIVAXOL' in popis:\n",
    "        bisoprolol.iloc[i,4] = 'BIVAXOL'\n",
    "    elif 'Bisoprolol Pfizer' in popis:\n",
    "        bisoprolol.iloc[i,4] = 'Bisoprolol Pfizer'\n",
    "    elif 'Bisoprolol Sandoz' in popis:\n",
    "        bisoprolol.iloc[i,4] = 'Bisoprolol Sandoz'\n",
    "    elif 'Bisprotin ' in popis:\n",
    "        bisoprolol.iloc[i,4] = 'Bisprotin '\n",
    "    elif 'CONCOR COR' in popis or 'Concor COR' in popis:\n",
    "        bisoprolol.iloc[i,4] = 'CONCOR COR'\n",
    "    elif 'CONCOR' in popis:\n",
    "        bisoprolol.iloc[i,4] = 'CONCOR'\n",
    "    elif 'CORONAL' in popis:\n",
    "        bisoprolol.iloc[i,4] = 'CORONAL'\n",
    "    elif 'RIVOCOR' in popis:\n",
    "        bisoprolol.iloc[i,4] = 'RIVOCOR'\n",
    "    elif 'Sobycor' in popis:\n",
    "        bisoprolol.iloc[i,4] = 'Sobycor'\n",
    "\n",
    "bisoprolol = bisoprolol.groupby(['LIEK_popis', 'STAT_popis', 'VYROBCA_popis']).sum().reset_index()\n",
    "bisoprolol['Cena úhrada_PAC/bal'] = bisoprolol['Úhrada_PAC'] / bisoprolol['Počet balení']\n",
    "display(bisoprolol)"
   ]
  },
  {
   "cell_type": "code",
   "execution_count": 14,
   "metadata": {},
   "outputs": [
    {
     "output_type": "display_data",
     "data": {
      "application/vnd.plotly.v1+json": {
       "config": {
        "plotlyServerURL": "https://plot.ly"
       },
       "data": [
        {
         "hovertemplate": "STAT_popis=Slovensko<br>LIEK_popis=%{x}<br>Počet balení=%{y}<br>Cena úhrada_PAC/bal=%{marker.size}<extra></extra>",
         "legendgroup": "Slovensko",
         "marker": {
          "color": "#636efa",
          "size": [
           2.310109443363025,
           1.4242342522170939,
           2.907789749523824,
           2.6290797126600904,
           0.5030557838182228
          ],
          "sizemode": "area",
          "sizeref": 0.007925,
          "symbol": "circle"
         },
         "mode": "markers",
         "name": "Slovensko",
         "orientation": "v",
         "showlegend": true,
         "type": "scatter",
         "x": [
          "BISOBELA",
          "BISOMERCK",
          "CONCOR",
          "CONCOR COR",
          "CORONAL"
         ],
         "xaxis": "x",
         "y": [
          7197.33,
          122739.5,
          920947.0700000001,
          284506.25,
          472688.87
         ],
         "yaxis": "y"
        },
        {
         "hovertemplate": "STAT_popis=Česko<br>LIEK_popis=%{x}<br>Počet balení=%{y}<br>Cena úhrada_PAC/bal=%{marker.size}<extra></extra>",
         "legendgroup": "Česko",
         "marker": {
          "color": "#EF553B",
          "size": [
           0.787238831027482,
           1.6,
           0.9058536042079044
          ],
          "sizemode": "area",
          "sizeref": 0.007925,
          "symbol": "circle"
         },
         "mode": "markers",
         "name": "Česko",
         "orientation": "v",
         "showlegend": true,
         "type": "scatter",
         "x": [
          "BISOCARD",
          "BIVAXOL",
          "RIVOCOR"
         ],
         "xaxis": "x",
         "y": [
          192394.6,
          2,
          98766.5
         ],
         "yaxis": "y"
        },
        {
         "hovertemplate": "STAT_popis=Nemecko<br>LIEK_popis=%{x}<br>Počet balení=%{y}<br>Cena úhrada_PAC/bal=%{marker.size}<extra></extra>",
         "legendgroup": "Nemecko",
         "marker": {
          "color": "#00cc96",
          "size": [
           3.17,
           0.2211071062689003
          ],
          "sizemode": "area",
          "sizeref": 0.007925,
          "symbol": "circle"
         },
         "mode": "markers",
         "name": "Nemecko",
         "orientation": "v",
         "showlegend": true,
         "type": "scatter",
         "x": [
          "BISOGAMMA",
          "BISOPROLOL-ratiopharm"
         ],
         "xaxis": "x",
         "y": [
          2,
          390962.83
         ],
         "yaxis": "y"
        },
        {
         "hovertemplate": "STAT_popis=Spojené kráľovstvo<br>LIEK_popis=%{x}<br>Počet balení=%{y}<br>Cena úhrada_PAC/bal=%{marker.size}<extra></extra>",
         "legendgroup": "Spojené kráľovstvo",
         "marker": {
          "color": "#ab63fa",
          "size": [
           0.13781512605042015
          ],
          "sizemode": "area",
          "sizeref": 0.007925,
          "symbol": "circle"
         },
         "mode": "markers",
         "name": "Spojené kráľovstvo",
         "orientation": "v",
         "showlegend": true,
         "type": "scatter",
         "x": [
          "Bisoprolol Pfizer"
         ],
         "xaxis": "x",
         "y": [
          119
         ],
         "yaxis": "y"
        },
        {
         "hovertemplate": "STAT_popis=Slovinsko<br>LIEK_popis=%{x}<br>Počet balení=%{y}<br>Cena úhrada_PAC/bal=%{marker.size}<extra></extra>",
         "legendgroup": "Slovinsko",
         "marker": {
          "color": "#FFA15A",
          "size": [
           0.21241492482127305,
           0.7855338126432345
          ],
          "sizemode": "area",
          "sizeref": 0.007925,
          "symbol": "circle"
         },
         "mode": "markers",
         "name": "Slovinsko",
         "orientation": "v",
         "showlegend": true,
         "type": "scatter",
         "x": [
          "Bisoprolol Sandoz",
          "Sobycor"
         ],
         "xaxis": "x",
         "y": [
          10493.66,
          104587.032
         ],
         "yaxis": "y"
        },
        {
         "hovertemplate": "STAT_popis=Fínsko<br>LIEK_popis=%{x}<br>Počet balení=%{y}<br>Cena úhrada_PAC/bal=%{marker.size}<extra></extra>",
         "legendgroup": "Fínsko",
         "marker": {
          "color": "#19d3f3",
          "size": [
           0.9781118062973703
          ],
          "sizemode": "area",
          "sizeref": 0.007925,
          "symbol": "circle"
         },
         "mode": "markers",
         "name": "Fínsko",
         "orientation": "v",
         "showlegend": true,
         "type": "scatter",
         "x": [
          "Bisprotin "
         ],
         "xaxis": "x",
         "y": [
          1965.9
         ],
         "yaxis": "y"
        }
       ],
       "layout": {
        "legend": {
         "itemsizing": "constant",
         "title": {
          "text": "STAT_popis"
         },
         "tracegroupgap": 0
        },
        "template": {
         "data": {
          "bar": [
           {
            "error_x": {
             "color": "#2a3f5f"
            },
            "error_y": {
             "color": "#2a3f5f"
            },
            "marker": {
             "line": {
              "color": "#E5ECF6",
              "width": 0.5
             }
            },
            "type": "bar"
           }
          ],
          "barpolar": [
           {
            "marker": {
             "line": {
              "color": "#E5ECF6",
              "width": 0.5
             }
            },
            "type": "barpolar"
           }
          ],
          "carpet": [
           {
            "aaxis": {
             "endlinecolor": "#2a3f5f",
             "gridcolor": "white",
             "linecolor": "white",
             "minorgridcolor": "white",
             "startlinecolor": "#2a3f5f"
            },
            "baxis": {
             "endlinecolor": "#2a3f5f",
             "gridcolor": "white",
             "linecolor": "white",
             "minorgridcolor": "white",
             "startlinecolor": "#2a3f5f"
            },
            "type": "carpet"
           }
          ],
          "choropleth": [
           {
            "colorbar": {
             "outlinewidth": 0,
             "ticks": ""
            },
            "type": "choropleth"
           }
          ],
          "contour": [
           {
            "colorbar": {
             "outlinewidth": 0,
             "ticks": ""
            },
            "colorscale": [
             [
              0,
              "#0d0887"
             ],
             [
              0.1111111111111111,
              "#46039f"
             ],
             [
              0.2222222222222222,
              "#7201a8"
             ],
             [
              0.3333333333333333,
              "#9c179e"
             ],
             [
              0.4444444444444444,
              "#bd3786"
             ],
             [
              0.5555555555555556,
              "#d8576b"
             ],
             [
              0.6666666666666666,
              "#ed7953"
             ],
             [
              0.7777777777777778,
              "#fb9f3a"
             ],
             [
              0.8888888888888888,
              "#fdca26"
             ],
             [
              1,
              "#f0f921"
             ]
            ],
            "type": "contour"
           }
          ],
          "contourcarpet": [
           {
            "colorbar": {
             "outlinewidth": 0,
             "ticks": ""
            },
            "type": "contourcarpet"
           }
          ],
          "heatmap": [
           {
            "colorbar": {
             "outlinewidth": 0,
             "ticks": ""
            },
            "colorscale": [
             [
              0,
              "#0d0887"
             ],
             [
              0.1111111111111111,
              "#46039f"
             ],
             [
              0.2222222222222222,
              "#7201a8"
             ],
             [
              0.3333333333333333,
              "#9c179e"
             ],
             [
              0.4444444444444444,
              "#bd3786"
             ],
             [
              0.5555555555555556,
              "#d8576b"
             ],
             [
              0.6666666666666666,
              "#ed7953"
             ],
             [
              0.7777777777777778,
              "#fb9f3a"
             ],
             [
              0.8888888888888888,
              "#fdca26"
             ],
             [
              1,
              "#f0f921"
             ]
            ],
            "type": "heatmap"
           }
          ],
          "heatmapgl": [
           {
            "colorbar": {
             "outlinewidth": 0,
             "ticks": ""
            },
            "colorscale": [
             [
              0,
              "#0d0887"
             ],
             [
              0.1111111111111111,
              "#46039f"
             ],
             [
              0.2222222222222222,
              "#7201a8"
             ],
             [
              0.3333333333333333,
              "#9c179e"
             ],
             [
              0.4444444444444444,
              "#bd3786"
             ],
             [
              0.5555555555555556,
              "#d8576b"
             ],
             [
              0.6666666666666666,
              "#ed7953"
             ],
             [
              0.7777777777777778,
              "#fb9f3a"
             ],
             [
              0.8888888888888888,
              "#fdca26"
             ],
             [
              1,
              "#f0f921"
             ]
            ],
            "type": "heatmapgl"
           }
          ],
          "histogram": [
           {
            "marker": {
             "colorbar": {
              "outlinewidth": 0,
              "ticks": ""
             }
            },
            "type": "histogram"
           }
          ],
          "histogram2d": [
           {
            "colorbar": {
             "outlinewidth": 0,
             "ticks": ""
            },
            "colorscale": [
             [
              0,
              "#0d0887"
             ],
             [
              0.1111111111111111,
              "#46039f"
             ],
             [
              0.2222222222222222,
              "#7201a8"
             ],
             [
              0.3333333333333333,
              "#9c179e"
             ],
             [
              0.4444444444444444,
              "#bd3786"
             ],
             [
              0.5555555555555556,
              "#d8576b"
             ],
             [
              0.6666666666666666,
              "#ed7953"
             ],
             [
              0.7777777777777778,
              "#fb9f3a"
             ],
             [
              0.8888888888888888,
              "#fdca26"
             ],
             [
              1,
              "#f0f921"
             ]
            ],
            "type": "histogram2d"
           }
          ],
          "histogram2dcontour": [
           {
            "colorbar": {
             "outlinewidth": 0,
             "ticks": ""
            },
            "colorscale": [
             [
              0,
              "#0d0887"
             ],
             [
              0.1111111111111111,
              "#46039f"
             ],
             [
              0.2222222222222222,
              "#7201a8"
             ],
             [
              0.3333333333333333,
              "#9c179e"
             ],
             [
              0.4444444444444444,
              "#bd3786"
             ],
             [
              0.5555555555555556,
              "#d8576b"
             ],
             [
              0.6666666666666666,
              "#ed7953"
             ],
             [
              0.7777777777777778,
              "#fb9f3a"
             ],
             [
              0.8888888888888888,
              "#fdca26"
             ],
             [
              1,
              "#f0f921"
             ]
            ],
            "type": "histogram2dcontour"
           }
          ],
          "mesh3d": [
           {
            "colorbar": {
             "outlinewidth": 0,
             "ticks": ""
            },
            "type": "mesh3d"
           }
          ],
          "parcoords": [
           {
            "line": {
             "colorbar": {
              "outlinewidth": 0,
              "ticks": ""
             }
            },
            "type": "parcoords"
           }
          ],
          "pie": [
           {
            "automargin": true,
            "type": "pie"
           }
          ],
          "scatter": [
           {
            "marker": {
             "colorbar": {
              "outlinewidth": 0,
              "ticks": ""
             }
            },
            "type": "scatter"
           }
          ],
          "scatter3d": [
           {
            "line": {
             "colorbar": {
              "outlinewidth": 0,
              "ticks": ""
             }
            },
            "marker": {
             "colorbar": {
              "outlinewidth": 0,
              "ticks": ""
             }
            },
            "type": "scatter3d"
           }
          ],
          "scattercarpet": [
           {
            "marker": {
             "colorbar": {
              "outlinewidth": 0,
              "ticks": ""
             }
            },
            "type": "scattercarpet"
           }
          ],
          "scattergeo": [
           {
            "marker": {
             "colorbar": {
              "outlinewidth": 0,
              "ticks": ""
             }
            },
            "type": "scattergeo"
           }
          ],
          "scattergl": [
           {
            "marker": {
             "colorbar": {
              "outlinewidth": 0,
              "ticks": ""
             }
            },
            "type": "scattergl"
           }
          ],
          "scattermapbox": [
           {
            "marker": {
             "colorbar": {
              "outlinewidth": 0,
              "ticks": ""
             }
            },
            "type": "scattermapbox"
           }
          ],
          "scatterpolar": [
           {
            "marker": {
             "colorbar": {
              "outlinewidth": 0,
              "ticks": ""
             }
            },
            "type": "scatterpolar"
           }
          ],
          "scatterpolargl": [
           {
            "marker": {
             "colorbar": {
              "outlinewidth": 0,
              "ticks": ""
             }
            },
            "type": "scatterpolargl"
           }
          ],
          "scatterternary": [
           {
            "marker": {
             "colorbar": {
              "outlinewidth": 0,
              "ticks": ""
             }
            },
            "type": "scatterternary"
           }
          ],
          "surface": [
           {
            "colorbar": {
             "outlinewidth": 0,
             "ticks": ""
            },
            "colorscale": [
             [
              0,
              "#0d0887"
             ],
             [
              0.1111111111111111,
              "#46039f"
             ],
             [
              0.2222222222222222,
              "#7201a8"
             ],
             [
              0.3333333333333333,
              "#9c179e"
             ],
             [
              0.4444444444444444,
              "#bd3786"
             ],
             [
              0.5555555555555556,
              "#d8576b"
             ],
             [
              0.6666666666666666,
              "#ed7953"
             ],
             [
              0.7777777777777778,
              "#fb9f3a"
             ],
             [
              0.8888888888888888,
              "#fdca26"
             ],
             [
              1,
              "#f0f921"
             ]
            ],
            "type": "surface"
           }
          ],
          "table": [
           {
            "cells": {
             "fill": {
              "color": "#EBF0F8"
             },
             "line": {
              "color": "white"
             }
            },
            "header": {
             "fill": {
              "color": "#C8D4E3"
             },
             "line": {
              "color": "white"
             }
            },
            "type": "table"
           }
          ]
         },
         "layout": {
          "annotationdefaults": {
           "arrowcolor": "#2a3f5f",
           "arrowhead": 0,
           "arrowwidth": 1
          },
          "autotypenumbers": "strict",
          "coloraxis": {
           "colorbar": {
            "outlinewidth": 0,
            "ticks": ""
           }
          },
          "colorscale": {
           "diverging": [
            [
             0,
             "#8e0152"
            ],
            [
             0.1,
             "#c51b7d"
            ],
            [
             0.2,
             "#de77ae"
            ],
            [
             0.3,
             "#f1b6da"
            ],
            [
             0.4,
             "#fde0ef"
            ],
            [
             0.5,
             "#f7f7f7"
            ],
            [
             0.6,
             "#e6f5d0"
            ],
            [
             0.7,
             "#b8e186"
            ],
            [
             0.8,
             "#7fbc41"
            ],
            [
             0.9,
             "#4d9221"
            ],
            [
             1,
             "#276419"
            ]
           ],
           "sequential": [
            [
             0,
             "#0d0887"
            ],
            [
             0.1111111111111111,
             "#46039f"
            ],
            [
             0.2222222222222222,
             "#7201a8"
            ],
            [
             0.3333333333333333,
             "#9c179e"
            ],
            [
             0.4444444444444444,
             "#bd3786"
            ],
            [
             0.5555555555555556,
             "#d8576b"
            ],
            [
             0.6666666666666666,
             "#ed7953"
            ],
            [
             0.7777777777777778,
             "#fb9f3a"
            ],
            [
             0.8888888888888888,
             "#fdca26"
            ],
            [
             1,
             "#f0f921"
            ]
           ],
           "sequentialminus": [
            [
             0,
             "#0d0887"
            ],
            [
             0.1111111111111111,
             "#46039f"
            ],
            [
             0.2222222222222222,
             "#7201a8"
            ],
            [
             0.3333333333333333,
             "#9c179e"
            ],
            [
             0.4444444444444444,
             "#bd3786"
            ],
            [
             0.5555555555555556,
             "#d8576b"
            ],
            [
             0.6666666666666666,
             "#ed7953"
            ],
            [
             0.7777777777777778,
             "#fb9f3a"
            ],
            [
             0.8888888888888888,
             "#fdca26"
            ],
            [
             1,
             "#f0f921"
            ]
           ]
          },
          "colorway": [
           "#636efa",
           "#EF553B",
           "#00cc96",
           "#ab63fa",
           "#FFA15A",
           "#19d3f3",
           "#FF6692",
           "#B6E880",
           "#FF97FF",
           "#FECB52"
          ],
          "font": {
           "color": "#2a3f5f"
          },
          "geo": {
           "bgcolor": "white",
           "lakecolor": "white",
           "landcolor": "#E5ECF6",
           "showlakes": true,
           "showland": true,
           "subunitcolor": "white"
          },
          "hoverlabel": {
           "align": "left"
          },
          "hovermode": "closest",
          "mapbox": {
           "style": "light"
          },
          "paper_bgcolor": "white",
          "plot_bgcolor": "#E5ECF6",
          "polar": {
           "angularaxis": {
            "gridcolor": "white",
            "linecolor": "white",
            "ticks": ""
           },
           "bgcolor": "#E5ECF6",
           "radialaxis": {
            "gridcolor": "white",
            "linecolor": "white",
            "ticks": ""
           }
          },
          "scene": {
           "xaxis": {
            "backgroundcolor": "#E5ECF6",
            "gridcolor": "white",
            "gridwidth": 2,
            "linecolor": "white",
            "showbackground": true,
            "ticks": "",
            "zerolinecolor": "white"
           },
           "yaxis": {
            "backgroundcolor": "#E5ECF6",
            "gridcolor": "white",
            "gridwidth": 2,
            "linecolor": "white",
            "showbackground": true,
            "ticks": "",
            "zerolinecolor": "white"
           },
           "zaxis": {
            "backgroundcolor": "#E5ECF6",
            "gridcolor": "white",
            "gridwidth": 2,
            "linecolor": "white",
            "showbackground": true,
            "ticks": "",
            "zerolinecolor": "white"
           }
          },
          "shapedefaults": {
           "line": {
            "color": "#2a3f5f"
           }
          },
          "ternary": {
           "aaxis": {
            "gridcolor": "white",
            "linecolor": "white",
            "ticks": ""
           },
           "baxis": {
            "gridcolor": "white",
            "linecolor": "white",
            "ticks": ""
           },
           "bgcolor": "#E5ECF6",
           "caxis": {
            "gridcolor": "white",
            "linecolor": "white",
            "ticks": ""
           }
          },
          "title": {
           "x": 0.05
          },
          "xaxis": {
           "automargin": true,
           "gridcolor": "white",
           "linecolor": "white",
           "ticks": "",
           "title": {
            "standoff": 15
           },
           "zerolinecolor": "white",
           "zerolinewidth": 2
          },
          "yaxis": {
           "automargin": true,
           "gridcolor": "white",
           "linecolor": "white",
           "ticks": "",
           "title": {
            "standoff": 15
           },
           "zerolinecolor": "white",
           "zerolinewidth": 2
          }
         }
        },
        "title": {
         "text": "Bisoprolol"
        },
        "xaxis": {
         "anchor": "y",
         "domain": [
          0,
          1
         ],
         "tickangle": 45,
         "title": {
          "text": "LIEK_popis"
         }
        },
        "yaxis": {
         "anchor": "x",
         "domain": [
          0,
          1
         ],
         "title": {
          "text": "Počet balení"
         }
        }
       }
      }
     },
     "metadata": {}
    }
   ],
   "source": [
    "fig = px.scatter(bisoprolol, x='LIEK_popis', y='Počet balení', size='Cena úhrada_PAC/bal', color='STAT_popis', title='Bisoprolol')\n",
    "fig.update_xaxes(tickangle=45)\n",
    "fig.show()"
   ]
  },
  {
   "cell_type": "code",
   "execution_count": 15,
   "metadata": {},
   "outputs": [
    {
     "output_type": "error",
     "ename": "SyntaxError",
     "evalue": "invalid syntax (<ipython-input-15-8e29fd0def6c>, line 1)",
     "traceback": [
      "\u001b[1;36m  File \u001b[1;32m\"<ipython-input-15-8e29fd0def6c>\"\u001b[1;36m, line \u001b[1;32m1\u001b[0m\n\u001b[1;33m    Z grafu vidime, ze najpouzivanejsi betablokator s ucinnou latkou bisoprolol je slovensky Concor. Narozdiel od predchadzajucich grafov, vidime, ze aj ine lieky sa vo vyraznej miere pouzivaju, napr Coronal alebo nemecky Bisprolol-ratiopharm.\u001b[0m\n\u001b[1;37m      ^\u001b[0m\n\u001b[1;31mSyntaxError\u001b[0m\u001b[1;31m:\u001b[0m invalid syntax\n"
     ]
    }
   ],
   "source": [
    "Z grafu vidime, ze najpouzivanejsi betablokator s ucinnou latkou bisoprolol je slovensky Concor. Narozdiel od predchadzajucich grafov, vidime, ze aj ine lieky sa vo vyraznej miere pouzivaju, napr Coronal alebo nemecky Bisprolol-ratiopharm."
   ]
  },
  {
   "source": [
    "# 6. Amlodipin"
   ],
   "cell_type": "markdown",
   "metadata": {}
  },
  {
   "cell_type": "code",
   "execution_count": 72,
   "metadata": {},
   "outputs": [
    {
     "output_type": "display_data",
     "data": {
      "text/plain": "                LIEK_popis STAT_popis                 VYROBCA_popis  index  \\\n0   \\tAmlodipin Vitabalans     Fínsko                 Vitabalans Oy   8326   \n1                    ACCEL     Cyprus               Medochemie Ltd.   4199   \n2                     AGEN      Česko                 Zentiva, k.s.   8352   \n3          AMLODIPIN HEXAL     Dánsko                     HEXAL A/S   2106   \n4     AMLODIPIN-RATIOPHARM    Nemecko               ratiopharm GmbH   4179   \n5                  AMLOPIN  Slovinsko      LEK Pharmaceuticals d.d.   4205   \n6              Amlodigamma    Nemecko  Artesan Pharma GmbH & Co. KG   2093   \n7        Amlodipin Actavis     Island         Actavis Group PTC ehf   4187   \n8      Amlodipin Stichting  Slovinsko   Sandoz Pharmaceuticals d.d.   6285   \n9               CARDILOPIN   Maďarsko      EGIS Pharmaceuticals PLC   4175   \n10                 NORVASC   Belgicko         Pfizer Europe MA EEIG   4209   \n11                   TENOX  Slovinsko         KRKA d.d., Novo mesto   4195   \n\n    Počet balení  Úhrada_PAC  Cena úhrada_PAC/bal  \n0       8133.700     8013.23             0.985189  \n1      39635.000    36396.58             0.918294  \n2    1042447.713   514840.56             0.493877  \n3          2.000       13.46             6.730000  \n4     402849.470    79580.14             0.197543  \n5         13.000       16.80             1.292308  \n6          2.000       30.12            15.060000  \n7         16.000       13.50             0.843750  \n8     415811.500   133785.38             0.321745  \n9      62800.500    79712.18             1.269292  \n10    123821.000   441976.19             3.569477  \n11     23809.000    42794.71             1.797417  ",
      "text/html": "<div>\n<style scoped>\n    .dataframe tbody tr th:only-of-type {\n        vertical-align: middle;\n    }\n\n    .dataframe tbody tr th {\n        vertical-align: top;\n    }\n\n    .dataframe thead th {\n        text-align: right;\n    }\n</style>\n<table border=\"1\" class=\"dataframe\">\n  <thead>\n    <tr style=\"text-align: right;\">\n      <th></th>\n      <th>LIEK_popis</th>\n      <th>STAT_popis</th>\n      <th>VYROBCA_popis</th>\n      <th>index</th>\n      <th>Počet balení</th>\n      <th>Úhrada_PAC</th>\n      <th>Cena úhrada_PAC/bal</th>\n    </tr>\n  </thead>\n  <tbody>\n    <tr>\n      <th>0</th>\n      <td>\\tAmlodipin Vitabalans</td>\n      <td>Fínsko</td>\n      <td>Vitabalans Oy</td>\n      <td>8326</td>\n      <td>8133.700</td>\n      <td>8013.23</td>\n      <td>0.985189</td>\n    </tr>\n    <tr>\n      <th>1</th>\n      <td>ACCEL</td>\n      <td>Cyprus</td>\n      <td>Medochemie Ltd.</td>\n      <td>4199</td>\n      <td>39635.000</td>\n      <td>36396.58</td>\n      <td>0.918294</td>\n    </tr>\n    <tr>\n      <th>2</th>\n      <td>AGEN</td>\n      <td>Česko</td>\n      <td>Zentiva, k.s.</td>\n      <td>8352</td>\n      <td>1042447.713</td>\n      <td>514840.56</td>\n      <td>0.493877</td>\n    </tr>\n    <tr>\n      <th>3</th>\n      <td>AMLODIPIN HEXAL</td>\n      <td>Dánsko</td>\n      <td>HEXAL A/S</td>\n      <td>2106</td>\n      <td>2.000</td>\n      <td>13.46</td>\n      <td>6.730000</td>\n    </tr>\n    <tr>\n      <th>4</th>\n      <td>AMLODIPIN-RATIOPHARM</td>\n      <td>Nemecko</td>\n      <td>ratiopharm GmbH</td>\n      <td>4179</td>\n      <td>402849.470</td>\n      <td>79580.14</td>\n      <td>0.197543</td>\n    </tr>\n    <tr>\n      <th>5</th>\n      <td>AMLOPIN</td>\n      <td>Slovinsko</td>\n      <td>LEK Pharmaceuticals d.d.</td>\n      <td>4205</td>\n      <td>13.000</td>\n      <td>16.80</td>\n      <td>1.292308</td>\n    </tr>\n    <tr>\n      <th>6</th>\n      <td>Amlodigamma</td>\n      <td>Nemecko</td>\n      <td>Artesan Pharma GmbH &amp; Co. KG</td>\n      <td>2093</td>\n      <td>2.000</td>\n      <td>30.12</td>\n      <td>15.060000</td>\n    </tr>\n    <tr>\n      <th>7</th>\n      <td>Amlodipin Actavis</td>\n      <td>Island</td>\n      <td>Actavis Group PTC ehf</td>\n      <td>4187</td>\n      <td>16.000</td>\n      <td>13.50</td>\n      <td>0.843750</td>\n    </tr>\n    <tr>\n      <th>8</th>\n      <td>Amlodipin Stichting</td>\n      <td>Slovinsko</td>\n      <td>Sandoz Pharmaceuticals d.d.</td>\n      <td>6285</td>\n      <td>415811.500</td>\n      <td>133785.38</td>\n      <td>0.321745</td>\n    </tr>\n    <tr>\n      <th>9</th>\n      <td>CARDILOPIN</td>\n      <td>Maďarsko</td>\n      <td>EGIS Pharmaceuticals PLC</td>\n      <td>4175</td>\n      <td>62800.500</td>\n      <td>79712.18</td>\n      <td>1.269292</td>\n    </tr>\n    <tr>\n      <th>10</th>\n      <td>NORVASC</td>\n      <td>Belgicko</td>\n      <td>Pfizer Europe MA EEIG</td>\n      <td>4209</td>\n      <td>123821.000</td>\n      <td>441976.19</td>\n      <td>3.569477</td>\n    </tr>\n    <tr>\n      <th>11</th>\n      <td>TENOX</td>\n      <td>Slovinsko</td>\n      <td>KRKA d.d., Novo mesto</td>\n      <td>4195</td>\n      <td>23809.000</td>\n      <td>42794.71</td>\n      <td>1.797417</td>\n    </tr>\n  </tbody>\n</table>\n</div>"
     },
     "metadata": {}
    }
   ],
   "source": [
    "\n",
    "amlodipin = top20tab[\"C08CA01\"].sort_values(by='Počet balení', ascending=False)\n",
    "\n",
    "for i,popis in enumerate(amlodipin['LIEK_popis']):\n",
    "    if 'ACCEL' in popis:\n",
    "        amlodipin.iloc[i,4] = 'ACCEL'\n",
    "    elif 'AGEN' in popis:\n",
    "        amlodipin.iloc[i,4] = 'AGEN'\n",
    "    elif 'AMLODIPIN HEXAL' in popis:\n",
    "        amlodipin.iloc[i,4] = 'AMLODIPIN HEXAL'\n",
    "    elif 'AMLODIPIN-RATIOPHARM' in popis:\n",
    "        amlodipin.iloc[i,4] = 'AMLODIPIN-RATIOPHARM'\n",
    "    elif 'AMLOPIN' in popis:\n",
    "        amlodipin.iloc[i,4] = 'AMLOPIN'\n",
    "    elif 'Amlodigamma' in popis:\n",
    "        amlodipin.iloc[i,4] = 'Amlodigamma'\n",
    "    elif 'Amlodipin Actavis' in popis:\n",
    "        amlodipin.iloc[i,4] = 'Amlodipin Actavis'\n",
    "    elif 'Amlodipin Stichting' in popis:\n",
    "        amlodipin.iloc[i,4] = 'Amlodipin Stichting'\n",
    "    elif 'Amlodipin Vitabalans' in popis:\n",
    "        amlodipin.iloc[i,4] = '\tAmlodipin Vitabalans'\n",
    "    elif 'CARDILOPIN' in popis:\n",
    "        amlodipin.iloc[i,4] = 'CARDILOPIN'\n",
    "    elif 'NORVASC' in popis:\n",
    "        amlodipin.iloc[i,4] = 'NORVASC'\n",
    "    elif 'TENOX' in popis:\n",
    "        amlodipin.iloc[i,4] = 'TENOX'\n",
    "\n",
    "amlodipin = amlodipin.groupby(['LIEK_popis', 'STAT_popis', 'VYROBCA_popis']).sum().reset_index()\n",
    "amlodipin['Cena úhrada_PAC/bal'] = amlodipin['Úhrada_PAC'] / amlodipin['Počet balení']\n",
    "\n",
    "display(amlodipin.sort_values(by='LIEK_popis'))"
   ]
  },
  {
   "cell_type": "code",
   "execution_count": 73,
   "metadata": {},
   "outputs": [
    {
     "output_type": "display_data",
     "data": {
      "application/vnd.plotly.v1+json": {
       "config": {
        "plotlyServerURL": "https://plot.ly"
       },
       "data": [
        {
         "hovertemplate": "STAT_popis=Fínsko<br>LIEK_popis=%{x}<br>Počet balení=%{y}<br>Cena úhrada_PAC/bal=%{marker.size}<extra></extra>",
         "legendgroup": "Fínsko",
         "marker": {
          "color": "#636efa",
          "size": [
           0.9851887824729214
          ],
          "sizemode": "area",
          "sizeref": 0.037649999999999996,
          "symbol": "circle"
         },
         "mode": "markers",
         "name": "Fínsko",
         "orientation": "v",
         "showlegend": true,
         "type": "scatter",
         "x": [
          "\tAmlodipin Vitabalans"
         ],
         "xaxis": "x",
         "y": [
          8133.700000000001
         ],
         "yaxis": "y"
        },
        {
         "hovertemplate": "STAT_popis=Cyprus<br>LIEK_popis=%{x}<br>Počet balení=%{y}<br>Cena úhrada_PAC/bal=%{marker.size}<extra></extra>",
         "legendgroup": "Cyprus",
         "marker": {
          "color": "#EF553B",
          "size": [
           0.9182939321306927
          ],
          "sizemode": "area",
          "sizeref": 0.037649999999999996,
          "symbol": "circle"
         },
         "mode": "markers",
         "name": "Cyprus",
         "orientation": "v",
         "showlegend": true,
         "type": "scatter",
         "x": [
          "ACCEL"
         ],
         "xaxis": "x",
         "y": [
          39635
         ],
         "yaxis": "y"
        },
        {
         "hovertemplate": "STAT_popis=Česko<br>LIEK_popis=%{x}<br>Počet balení=%{y}<br>Cena úhrada_PAC/bal=%{marker.size}<extra></extra>",
         "legendgroup": "Česko",
         "marker": {
          "color": "#00cc96",
          "size": [
           0.4938766266927385
          ],
          "sizemode": "area",
          "sizeref": 0.037649999999999996,
          "symbol": "circle"
         },
         "mode": "markers",
         "name": "Česko",
         "orientation": "v",
         "showlegend": true,
         "type": "scatter",
         "x": [
          "AGEN"
         ],
         "xaxis": "x",
         "y": [
          1042447.713
         ],
         "yaxis": "y"
        },
        {
         "hovertemplate": "STAT_popis=Dánsko<br>LIEK_popis=%{x}<br>Počet balení=%{y}<br>Cena úhrada_PAC/bal=%{marker.size}<extra></extra>",
         "legendgroup": "Dánsko",
         "marker": {
          "color": "#ab63fa",
          "size": [
           6.73
          ],
          "sizemode": "area",
          "sizeref": 0.037649999999999996,
          "symbol": "circle"
         },
         "mode": "markers",
         "name": "Dánsko",
         "orientation": "v",
         "showlegend": true,
         "type": "scatter",
         "x": [
          "AMLODIPIN HEXAL"
         ],
         "xaxis": "x",
         "y": [
          2
         ],
         "yaxis": "y"
        },
        {
         "hovertemplate": "STAT_popis=Nemecko<br>LIEK_popis=%{x}<br>Počet balení=%{y}<br>Cena úhrada_PAC/bal=%{marker.size}<extra></extra>",
         "legendgroup": "Nemecko",
         "marker": {
          "color": "#FFA15A",
          "size": [
           0.19754311703575034,
           15.059999999999999
          ],
          "sizemode": "area",
          "sizeref": 0.037649999999999996,
          "symbol": "circle"
         },
         "mode": "markers",
         "name": "Nemecko",
         "orientation": "v",
         "showlegend": true,
         "type": "scatter",
         "x": [
          "AMLODIPIN-RATIOPHARM",
          "Amlodigamma"
         ],
         "xaxis": "x",
         "y": [
          402849.47,
          2
         ],
         "yaxis": "y"
        },
        {
         "hovertemplate": "STAT_popis=Slovinsko<br>LIEK_popis=%{x}<br>Počet balení=%{y}<br>Cena úhrada_PAC/bal=%{marker.size}<extra></extra>",
         "legendgroup": "Slovinsko",
         "marker": {
          "color": "#19d3f3",
          "size": [
           1.2923076923076924,
           0.3217452619756789,
           1.7974173631819903
          ],
          "sizemode": "area",
          "sizeref": 0.037649999999999996,
          "symbol": "circle"
         },
         "mode": "markers",
         "name": "Slovinsko",
         "orientation": "v",
         "showlegend": true,
         "type": "scatter",
         "x": [
          "AMLOPIN",
          "Amlodipin Stichting",
          "TENOX"
         ],
         "xaxis": "x",
         "y": [
          13,
          415811.5,
          23809
         ],
         "yaxis": "y"
        },
        {
         "hovertemplate": "STAT_popis=Island<br>LIEK_popis=%{x}<br>Počet balení=%{y}<br>Cena úhrada_PAC/bal=%{marker.size}<extra></extra>",
         "legendgroup": "Island",
         "marker": {
          "color": "#FF6692",
          "size": [
           0.84375
          ],
          "sizemode": "area",
          "sizeref": 0.037649999999999996,
          "symbol": "circle"
         },
         "mode": "markers",
         "name": "Island",
         "orientation": "v",
         "showlegend": true,
         "type": "scatter",
         "x": [
          "Amlodipin Actavis"
         ],
         "xaxis": "x",
         "y": [
          16
         ],
         "yaxis": "y"
        },
        {
         "hovertemplate": "STAT_popis=Maďarsko<br>LIEK_popis=%{x}<br>Počet balení=%{y}<br>Cena úhrada_PAC/bal=%{marker.size}<extra></extra>",
         "legendgroup": "Maďarsko",
         "marker": {
          "color": "#B6E880",
          "size": [
           1.2692921234703545
          ],
          "sizemode": "area",
          "sizeref": 0.037649999999999996,
          "symbol": "circle"
         },
         "mode": "markers",
         "name": "Maďarsko",
         "orientation": "v",
         "showlegend": true,
         "type": "scatter",
         "x": [
          "CARDILOPIN"
         ],
         "xaxis": "x",
         "y": [
          62800.5
         ],
         "yaxis": "y"
        },
        {
         "hovertemplate": "STAT_popis=Belgicko<br>LIEK_popis=%{x}<br>Počet balení=%{y}<br>Cena úhrada_PAC/bal=%{marker.size}<extra></extra>",
         "legendgroup": "Belgicko",
         "marker": {
          "color": "#FF97FF",
          "size": [
           3.569476825417337
          ],
          "sizemode": "area",
          "sizeref": 0.037649999999999996,
          "symbol": "circle"
         },
         "mode": "markers",
         "name": "Belgicko",
         "orientation": "v",
         "showlegend": true,
         "type": "scatter",
         "x": [
          "NORVASC"
         ],
         "xaxis": "x",
         "y": [
          123821
         ],
         "yaxis": "y"
        }
       ],
       "layout": {
        "legend": {
         "itemsizing": "constant",
         "title": {
          "text": "STAT_popis"
         },
         "tracegroupgap": 0
        },
        "template": {
         "data": {
          "bar": [
           {
            "error_x": {
             "color": "#2a3f5f"
            },
            "error_y": {
             "color": "#2a3f5f"
            },
            "marker": {
             "line": {
              "color": "#E5ECF6",
              "width": 0.5
             }
            },
            "type": "bar"
           }
          ],
          "barpolar": [
           {
            "marker": {
             "line": {
              "color": "#E5ECF6",
              "width": 0.5
             }
            },
            "type": "barpolar"
           }
          ],
          "carpet": [
           {
            "aaxis": {
             "endlinecolor": "#2a3f5f",
             "gridcolor": "white",
             "linecolor": "white",
             "minorgridcolor": "white",
             "startlinecolor": "#2a3f5f"
            },
            "baxis": {
             "endlinecolor": "#2a3f5f",
             "gridcolor": "white",
             "linecolor": "white",
             "minorgridcolor": "white",
             "startlinecolor": "#2a3f5f"
            },
            "type": "carpet"
           }
          ],
          "choropleth": [
           {
            "colorbar": {
             "outlinewidth": 0,
             "ticks": ""
            },
            "type": "choropleth"
           }
          ],
          "contour": [
           {
            "colorbar": {
             "outlinewidth": 0,
             "ticks": ""
            },
            "colorscale": [
             [
              0,
              "#0d0887"
             ],
             [
              0.1111111111111111,
              "#46039f"
             ],
             [
              0.2222222222222222,
              "#7201a8"
             ],
             [
              0.3333333333333333,
              "#9c179e"
             ],
             [
              0.4444444444444444,
              "#bd3786"
             ],
             [
              0.5555555555555556,
              "#d8576b"
             ],
             [
              0.6666666666666666,
              "#ed7953"
             ],
             [
              0.7777777777777778,
              "#fb9f3a"
             ],
             [
              0.8888888888888888,
              "#fdca26"
             ],
             [
              1,
              "#f0f921"
             ]
            ],
            "type": "contour"
           }
          ],
          "contourcarpet": [
           {
            "colorbar": {
             "outlinewidth": 0,
             "ticks": ""
            },
            "type": "contourcarpet"
           }
          ],
          "heatmap": [
           {
            "colorbar": {
             "outlinewidth": 0,
             "ticks": ""
            },
            "colorscale": [
             [
              0,
              "#0d0887"
             ],
             [
              0.1111111111111111,
              "#46039f"
             ],
             [
              0.2222222222222222,
              "#7201a8"
             ],
             [
              0.3333333333333333,
              "#9c179e"
             ],
             [
              0.4444444444444444,
              "#bd3786"
             ],
             [
              0.5555555555555556,
              "#d8576b"
             ],
             [
              0.6666666666666666,
              "#ed7953"
             ],
             [
              0.7777777777777778,
              "#fb9f3a"
             ],
             [
              0.8888888888888888,
              "#fdca26"
             ],
             [
              1,
              "#f0f921"
             ]
            ],
            "type": "heatmap"
           }
          ],
          "heatmapgl": [
           {
            "colorbar": {
             "outlinewidth": 0,
             "ticks": ""
            },
            "colorscale": [
             [
              0,
              "#0d0887"
             ],
             [
              0.1111111111111111,
              "#46039f"
             ],
             [
              0.2222222222222222,
              "#7201a8"
             ],
             [
              0.3333333333333333,
              "#9c179e"
             ],
             [
              0.4444444444444444,
              "#bd3786"
             ],
             [
              0.5555555555555556,
              "#d8576b"
             ],
             [
              0.6666666666666666,
              "#ed7953"
             ],
             [
              0.7777777777777778,
              "#fb9f3a"
             ],
             [
              0.8888888888888888,
              "#fdca26"
             ],
             [
              1,
              "#f0f921"
             ]
            ],
            "type": "heatmapgl"
           }
          ],
          "histogram": [
           {
            "marker": {
             "colorbar": {
              "outlinewidth": 0,
              "ticks": ""
             }
            },
            "type": "histogram"
           }
          ],
          "histogram2d": [
           {
            "colorbar": {
             "outlinewidth": 0,
             "ticks": ""
            },
            "colorscale": [
             [
              0,
              "#0d0887"
             ],
             [
              0.1111111111111111,
              "#46039f"
             ],
             [
              0.2222222222222222,
              "#7201a8"
             ],
             [
              0.3333333333333333,
              "#9c179e"
             ],
             [
              0.4444444444444444,
              "#bd3786"
             ],
             [
              0.5555555555555556,
              "#d8576b"
             ],
             [
              0.6666666666666666,
              "#ed7953"
             ],
             [
              0.7777777777777778,
              "#fb9f3a"
             ],
             [
              0.8888888888888888,
              "#fdca26"
             ],
             [
              1,
              "#f0f921"
             ]
            ],
            "type": "histogram2d"
           }
          ],
          "histogram2dcontour": [
           {
            "colorbar": {
             "outlinewidth": 0,
             "ticks": ""
            },
            "colorscale": [
             [
              0,
              "#0d0887"
             ],
             [
              0.1111111111111111,
              "#46039f"
             ],
             [
              0.2222222222222222,
              "#7201a8"
             ],
             [
              0.3333333333333333,
              "#9c179e"
             ],
             [
              0.4444444444444444,
              "#bd3786"
             ],
             [
              0.5555555555555556,
              "#d8576b"
             ],
             [
              0.6666666666666666,
              "#ed7953"
             ],
             [
              0.7777777777777778,
              "#fb9f3a"
             ],
             [
              0.8888888888888888,
              "#fdca26"
             ],
             [
              1,
              "#f0f921"
             ]
            ],
            "type": "histogram2dcontour"
           }
          ],
          "mesh3d": [
           {
            "colorbar": {
             "outlinewidth": 0,
             "ticks": ""
            },
            "type": "mesh3d"
           }
          ],
          "parcoords": [
           {
            "line": {
             "colorbar": {
              "outlinewidth": 0,
              "ticks": ""
             }
            },
            "type": "parcoords"
           }
          ],
          "pie": [
           {
            "automargin": true,
            "type": "pie"
           }
          ],
          "scatter": [
           {
            "marker": {
             "colorbar": {
              "outlinewidth": 0,
              "ticks": ""
             }
            },
            "type": "scatter"
           }
          ],
          "scatter3d": [
           {
            "line": {
             "colorbar": {
              "outlinewidth": 0,
              "ticks": ""
             }
            },
            "marker": {
             "colorbar": {
              "outlinewidth": 0,
              "ticks": ""
             }
            },
            "type": "scatter3d"
           }
          ],
          "scattercarpet": [
           {
            "marker": {
             "colorbar": {
              "outlinewidth": 0,
              "ticks": ""
             }
            },
            "type": "scattercarpet"
           }
          ],
          "scattergeo": [
           {
            "marker": {
             "colorbar": {
              "outlinewidth": 0,
              "ticks": ""
             }
            },
            "type": "scattergeo"
           }
          ],
          "scattergl": [
           {
            "marker": {
             "colorbar": {
              "outlinewidth": 0,
              "ticks": ""
             }
            },
            "type": "scattergl"
           }
          ],
          "scattermapbox": [
           {
            "marker": {
             "colorbar": {
              "outlinewidth": 0,
              "ticks": ""
             }
            },
            "type": "scattermapbox"
           }
          ],
          "scatterpolar": [
           {
            "marker": {
             "colorbar": {
              "outlinewidth": 0,
              "ticks": ""
             }
            },
            "type": "scatterpolar"
           }
          ],
          "scatterpolargl": [
           {
            "marker": {
             "colorbar": {
              "outlinewidth": 0,
              "ticks": ""
             }
            },
            "type": "scatterpolargl"
           }
          ],
          "scatterternary": [
           {
            "marker": {
             "colorbar": {
              "outlinewidth": 0,
              "ticks": ""
             }
            },
            "type": "scatterternary"
           }
          ],
          "surface": [
           {
            "colorbar": {
             "outlinewidth": 0,
             "ticks": ""
            },
            "colorscale": [
             [
              0,
              "#0d0887"
             ],
             [
              0.1111111111111111,
              "#46039f"
             ],
             [
              0.2222222222222222,
              "#7201a8"
             ],
             [
              0.3333333333333333,
              "#9c179e"
             ],
             [
              0.4444444444444444,
              "#bd3786"
             ],
             [
              0.5555555555555556,
              "#d8576b"
             ],
             [
              0.6666666666666666,
              "#ed7953"
             ],
             [
              0.7777777777777778,
              "#fb9f3a"
             ],
             [
              0.8888888888888888,
              "#fdca26"
             ],
             [
              1,
              "#f0f921"
             ]
            ],
            "type": "surface"
           }
          ],
          "table": [
           {
            "cells": {
             "fill": {
              "color": "#EBF0F8"
             },
             "line": {
              "color": "white"
             }
            },
            "header": {
             "fill": {
              "color": "#C8D4E3"
             },
             "line": {
              "color": "white"
             }
            },
            "type": "table"
           }
          ]
         },
         "layout": {
          "annotationdefaults": {
           "arrowcolor": "#2a3f5f",
           "arrowhead": 0,
           "arrowwidth": 1
          },
          "autotypenumbers": "strict",
          "coloraxis": {
           "colorbar": {
            "outlinewidth": 0,
            "ticks": ""
           }
          },
          "colorscale": {
           "diverging": [
            [
             0,
             "#8e0152"
            ],
            [
             0.1,
             "#c51b7d"
            ],
            [
             0.2,
             "#de77ae"
            ],
            [
             0.3,
             "#f1b6da"
            ],
            [
             0.4,
             "#fde0ef"
            ],
            [
             0.5,
             "#f7f7f7"
            ],
            [
             0.6,
             "#e6f5d0"
            ],
            [
             0.7,
             "#b8e186"
            ],
            [
             0.8,
             "#7fbc41"
            ],
            [
             0.9,
             "#4d9221"
            ],
            [
             1,
             "#276419"
            ]
           ],
           "sequential": [
            [
             0,
             "#0d0887"
            ],
            [
             0.1111111111111111,
             "#46039f"
            ],
            [
             0.2222222222222222,
             "#7201a8"
            ],
            [
             0.3333333333333333,
             "#9c179e"
            ],
            [
             0.4444444444444444,
             "#bd3786"
            ],
            [
             0.5555555555555556,
             "#d8576b"
            ],
            [
             0.6666666666666666,
             "#ed7953"
            ],
            [
             0.7777777777777778,
             "#fb9f3a"
            ],
            [
             0.8888888888888888,
             "#fdca26"
            ],
            [
             1,
             "#f0f921"
            ]
           ],
           "sequentialminus": [
            [
             0,
             "#0d0887"
            ],
            [
             0.1111111111111111,
             "#46039f"
            ],
            [
             0.2222222222222222,
             "#7201a8"
            ],
            [
             0.3333333333333333,
             "#9c179e"
            ],
            [
             0.4444444444444444,
             "#bd3786"
            ],
            [
             0.5555555555555556,
             "#d8576b"
            ],
            [
             0.6666666666666666,
             "#ed7953"
            ],
            [
             0.7777777777777778,
             "#fb9f3a"
            ],
            [
             0.8888888888888888,
             "#fdca26"
            ],
            [
             1,
             "#f0f921"
            ]
           ]
          },
          "colorway": [
           "#636efa",
           "#EF553B",
           "#00cc96",
           "#ab63fa",
           "#FFA15A",
           "#19d3f3",
           "#FF6692",
           "#B6E880",
           "#FF97FF",
           "#FECB52"
          ],
          "font": {
           "color": "#2a3f5f"
          },
          "geo": {
           "bgcolor": "white",
           "lakecolor": "white",
           "landcolor": "#E5ECF6",
           "showlakes": true,
           "showland": true,
           "subunitcolor": "white"
          },
          "hoverlabel": {
           "align": "left"
          },
          "hovermode": "closest",
          "mapbox": {
           "style": "light"
          },
          "paper_bgcolor": "white",
          "plot_bgcolor": "#E5ECF6",
          "polar": {
           "angularaxis": {
            "gridcolor": "white",
            "linecolor": "white",
            "ticks": ""
           },
           "bgcolor": "#E5ECF6",
           "radialaxis": {
            "gridcolor": "white",
            "linecolor": "white",
            "ticks": ""
           }
          },
          "scene": {
           "xaxis": {
            "backgroundcolor": "#E5ECF6",
            "gridcolor": "white",
            "gridwidth": 2,
            "linecolor": "white",
            "showbackground": true,
            "ticks": "",
            "zerolinecolor": "white"
           },
           "yaxis": {
            "backgroundcolor": "#E5ECF6",
            "gridcolor": "white",
            "gridwidth": 2,
            "linecolor": "white",
            "showbackground": true,
            "ticks": "",
            "zerolinecolor": "white"
           },
           "zaxis": {
            "backgroundcolor": "#E5ECF6",
            "gridcolor": "white",
            "gridwidth": 2,
            "linecolor": "white",
            "showbackground": true,
            "ticks": "",
            "zerolinecolor": "white"
           }
          },
          "shapedefaults": {
           "line": {
            "color": "#2a3f5f"
           }
          },
          "ternary": {
           "aaxis": {
            "gridcolor": "white",
            "linecolor": "white",
            "ticks": ""
           },
           "baxis": {
            "gridcolor": "white",
            "linecolor": "white",
            "ticks": ""
           },
           "bgcolor": "#E5ECF6",
           "caxis": {
            "gridcolor": "white",
            "linecolor": "white",
            "ticks": ""
           }
          },
          "title": {
           "x": 0.05
          },
          "xaxis": {
           "automargin": true,
           "gridcolor": "white",
           "linecolor": "white",
           "ticks": "",
           "title": {
            "standoff": 15
           },
           "zerolinecolor": "white",
           "zerolinewidth": 2
          },
          "yaxis": {
           "automargin": true,
           "gridcolor": "white",
           "linecolor": "white",
           "ticks": "",
           "title": {
            "standoff": 15
           },
           "zerolinecolor": "white",
           "zerolinewidth": 2
          }
         }
        },
        "title": {
         "text": "Amlodipin"
        },
        "xaxis": {
         "anchor": "y",
         "domain": [
          0,
          1
         ],
         "tickangle": 45,
         "title": {
          "text": "LIEK_popis"
         }
        },
        "yaxis": {
         "anchor": "x",
         "domain": [
          0,
          1
         ],
         "title": {
          "text": "Počet balení"
         }
        }
       }
      }
     },
     "metadata": {}
    }
   ],
   "source": [
    "fig = px.scatter(amlodipin, x='LIEK_popis', y='Počet balení', size='Cena úhrada_PAC/bal', color='STAT_popis', title='Amlodipin')\n",
    "fig.update_xaxes(tickangle=45)\n",
    "fig.show()"
   ]
  },
  {
   "source": [
    "Mozeme si vsimnut ze najpouzivanejsie blokator vapnikovych kamenov s ucinnou latkou amlodipin je cesky Agen, pravdepodobne z velkej casti preplacany poistovnou. Dalsimi ale menej pouzivanymi su slovinsky Almodipin Stichting a nemecky Almodipin-ratiopharm"
   ],
   "cell_type": "markdown",
   "metadata": {}
  },
  {
   "source": [
    "# 7. Alprazolam"
   ],
   "cell_type": "markdown",
   "metadata": {}
  },
  {
   "cell_type": "code",
   "execution_count": 81,
   "metadata": {},
   "outputs": [
    {
     "output_type": "display_data",
     "data": {
      "text/plain": "         LIEK_popis STAT_popis                    VYROBCA_popis  index  \\\n0  Alprazolam Orion     Fínsko  Orion Corporation, Orion Pharma   7183   \n1           FRONTIN   Maďarsko         EGIS Pharmaceuticals PLC  35945   \n2             HELEX  Slovinsko            KRKA d.d., Novo mesto  43134   \n3            NEUROL      Česko                    Zentiva, k.s.  21597   \n4         NEUROL SR      Česko                    Zentiva a.s.    7196   \n5             XANAX   Belgicko            Pfizer Europe MA EEIG  43202   \n\n   Počet balení  Úhrada_PAC  Cena úhrada_PAC/bal  \n0          2.00        5.14             2.570000  \n1     537957.20   731856.63             1.360437  \n2      65145.00    65413.51             1.004122  \n3    1056309.50  1395763.59             1.321359  \n4          2.00        6.26             3.130000  \n5     385706.03   647377.73             1.678423  ",
      "text/html": "<div>\n<style scoped>\n    .dataframe tbody tr th:only-of-type {\n        vertical-align: middle;\n    }\n\n    .dataframe tbody tr th {\n        vertical-align: top;\n    }\n\n    .dataframe thead th {\n        text-align: right;\n    }\n</style>\n<table border=\"1\" class=\"dataframe\">\n  <thead>\n    <tr style=\"text-align: right;\">\n      <th></th>\n      <th>LIEK_popis</th>\n      <th>STAT_popis</th>\n      <th>VYROBCA_popis</th>\n      <th>index</th>\n      <th>Počet balení</th>\n      <th>Úhrada_PAC</th>\n      <th>Cena úhrada_PAC/bal</th>\n    </tr>\n  </thead>\n  <tbody>\n    <tr>\n      <th>0</th>\n      <td>Alprazolam Orion</td>\n      <td>Fínsko</td>\n      <td>Orion Corporation, Orion Pharma</td>\n      <td>7183</td>\n      <td>2.00</td>\n      <td>5.14</td>\n      <td>2.570000</td>\n    </tr>\n    <tr>\n      <th>1</th>\n      <td>FRONTIN</td>\n      <td>Maďarsko</td>\n      <td>EGIS Pharmaceuticals PLC</td>\n      <td>35945</td>\n      <td>537957.20</td>\n      <td>731856.63</td>\n      <td>1.360437</td>\n    </tr>\n    <tr>\n      <th>2</th>\n      <td>HELEX</td>\n      <td>Slovinsko</td>\n      <td>KRKA d.d., Novo mesto</td>\n      <td>43134</td>\n      <td>65145.00</td>\n      <td>65413.51</td>\n      <td>1.004122</td>\n    </tr>\n    <tr>\n      <th>3</th>\n      <td>NEUROL</td>\n      <td>Česko</td>\n      <td>Zentiva, k.s.</td>\n      <td>21597</td>\n      <td>1056309.50</td>\n      <td>1395763.59</td>\n      <td>1.321359</td>\n    </tr>\n    <tr>\n      <th>4</th>\n      <td>NEUROL SR</td>\n      <td>Česko</td>\n      <td>Zentiva a.s.</td>\n      <td>7196</td>\n      <td>2.00</td>\n      <td>6.26</td>\n      <td>3.130000</td>\n    </tr>\n    <tr>\n      <th>5</th>\n      <td>XANAX</td>\n      <td>Belgicko</td>\n      <td>Pfizer Europe MA EEIG</td>\n      <td>43202</td>\n      <td>385706.03</td>\n      <td>647377.73</td>\n      <td>1.678423</td>\n    </tr>\n  </tbody>\n</table>\n</div>"
     },
     "metadata": {}
    }
   ],
   "source": [
    "\n",
    "alprazolam = top20tab[\"N05BA12\"].sort_values(by='Počet balení', ascending=False)\n",
    "\n",
    "for i,popis in enumerate(alprazolam['LIEK_popis']):\n",
    "    if 'Alprazolam Orion' in popis:\n",
    "        alprazolam.iloc[i,4] = 'Alprazolam Orion'\n",
    "    elif 'FRONTIN' in popis:\n",
    "        alprazolam.iloc[i,4] = 'FRONTIN'\n",
    "    elif 'HELEX' in popis:\n",
    "        alprazolam.iloc[i,4] = 'HELEX'\n",
    "    elif 'Helex' in popis:\n",
    "        alprazolam.iloc[i,4] = 'HELEX'\n",
    "    elif 'XANAX' in popis:\n",
    "        alprazolam.iloc[i,4] = 'XANAX'\n",
    "    elif 'NEUROL SR' in popis:\n",
    "        alprazolam.iloc[i,4] = 'NEUROL SR'\n",
    "    elif 'NEUROL' in popis:\n",
    "        alprazolam.iloc[i,4] = 'NEUROL'\n",
    "\n",
    "alprazolam = alprazolam.groupby(['LIEK_popis', 'STAT_popis', 'VYROBCA_popis']).sum().reset_index()\n",
    "alprazolam['Cena úhrada_PAC/bal'] = alprazolam['Úhrada_PAC'] / alprazolam['Počet balení']\n",
    "\n",
    "display(alprazolam.sort_values(by='LIEK_popis'))"
   ]
  },
  {
   "cell_type": "code",
   "execution_count": 82,
   "metadata": {},
   "outputs": [
    {
     "output_type": "display_data",
     "data": {
      "application/vnd.plotly.v1+json": {
       "config": {
        "plotlyServerURL": "https://plot.ly"
       },
       "data": [
        {
         "hovertemplate": "STAT_popis=Fínsko<br>LIEK_popis=%{x}<br>Počet balení=%{y}<br>Cena úhrada_PAC/bal=%{marker.size}<extra></extra>",
         "legendgroup": "Fínsko",
         "marker": {
          "color": "#636efa",
          "size": [
           2.57
          ],
          "sizemode": "area",
          "sizeref": 0.007825,
          "symbol": "circle"
         },
         "mode": "markers",
         "name": "Fínsko",
         "orientation": "v",
         "showlegend": true,
         "type": "scatter",
         "x": [
          "Alprazolam Orion"
         ],
         "xaxis": "x",
         "y": [
          2
         ],
         "yaxis": "y"
        },
        {
         "hovertemplate": "STAT_popis=Maďarsko<br>LIEK_popis=%{x}<br>Počet balení=%{y}<br>Cena úhrada_PAC/bal=%{marker.size}<extra></extra>",
         "legendgroup": "Maďarsko",
         "marker": {
          "color": "#EF553B",
          "size": [
           1.3604365365869255
          ],
          "sizemode": "area",
          "sizeref": 0.007825,
          "symbol": "circle"
         },
         "mode": "markers",
         "name": "Maďarsko",
         "orientation": "v",
         "showlegend": true,
         "type": "scatter",
         "x": [
          "FRONTIN"
         ],
         "xaxis": "x",
         "y": [
          537957.2
         ],
         "yaxis": "y"
        },
        {
         "hovertemplate": "STAT_popis=Slovinsko<br>LIEK_popis=%{x}<br>Počet balení=%{y}<br>Cena úhrada_PAC/bal=%{marker.size}<extra></extra>",
         "legendgroup": "Slovinsko",
         "marker": {
          "color": "#00cc96",
          "size": [
           1.004121728451915
          ],
          "sizemode": "area",
          "sizeref": 0.007825,
          "symbol": "circle"
         },
         "mode": "markers",
         "name": "Slovinsko",
         "orientation": "v",
         "showlegend": true,
         "type": "scatter",
         "x": [
          "HELEX"
         ],
         "xaxis": "x",
         "y": [
          65145
         ],
         "yaxis": "y"
        },
        {
         "hovertemplate": "STAT_popis=Česko<br>LIEK_popis=%{x}<br>Počet balení=%{y}<br>Cena úhrada_PAC/bal=%{marker.size}<extra></extra>",
         "legendgroup": "Česko",
         "marker": {
          "color": "#ab63fa",
          "size": [
           1.3213585506899255,
           3.13
          ],
          "sizemode": "area",
          "sizeref": 0.007825,
          "symbol": "circle"
         },
         "mode": "markers",
         "name": "Česko",
         "orientation": "v",
         "showlegend": true,
         "type": "scatter",
         "x": [
          "NEUROL",
          "NEUROL SR"
         ],
         "xaxis": "x",
         "y": [
          1056309.5,
          2
         ],
         "yaxis": "y"
        },
        {
         "hovertemplate": "STAT_popis=Belgicko<br>LIEK_popis=%{x}<br>Počet balení=%{y}<br>Cena úhrada_PAC/bal=%{marker.size}<extra></extra>",
         "legendgroup": "Belgicko",
         "marker": {
          "color": "#FFA15A",
          "size": [
           1.6784226318681092
          ],
          "sizemode": "area",
          "sizeref": 0.007825,
          "symbol": "circle"
         },
         "mode": "markers",
         "name": "Belgicko",
         "orientation": "v",
         "showlegend": true,
         "type": "scatter",
         "x": [
          "XANAX"
         ],
         "xaxis": "x",
         "y": [
          385706.03
         ],
         "yaxis": "y"
        }
       ],
       "layout": {
        "legend": {
         "itemsizing": "constant",
         "title": {
          "text": "STAT_popis"
         },
         "tracegroupgap": 0
        },
        "template": {
         "data": {
          "bar": [
           {
            "error_x": {
             "color": "#2a3f5f"
            },
            "error_y": {
             "color": "#2a3f5f"
            },
            "marker": {
             "line": {
              "color": "#E5ECF6",
              "width": 0.5
             }
            },
            "type": "bar"
           }
          ],
          "barpolar": [
           {
            "marker": {
             "line": {
              "color": "#E5ECF6",
              "width": 0.5
             }
            },
            "type": "barpolar"
           }
          ],
          "carpet": [
           {
            "aaxis": {
             "endlinecolor": "#2a3f5f",
             "gridcolor": "white",
             "linecolor": "white",
             "minorgridcolor": "white",
             "startlinecolor": "#2a3f5f"
            },
            "baxis": {
             "endlinecolor": "#2a3f5f",
             "gridcolor": "white",
             "linecolor": "white",
             "minorgridcolor": "white",
             "startlinecolor": "#2a3f5f"
            },
            "type": "carpet"
           }
          ],
          "choropleth": [
           {
            "colorbar": {
             "outlinewidth": 0,
             "ticks": ""
            },
            "type": "choropleth"
           }
          ],
          "contour": [
           {
            "colorbar": {
             "outlinewidth": 0,
             "ticks": ""
            },
            "colorscale": [
             [
              0,
              "#0d0887"
             ],
             [
              0.1111111111111111,
              "#46039f"
             ],
             [
              0.2222222222222222,
              "#7201a8"
             ],
             [
              0.3333333333333333,
              "#9c179e"
             ],
             [
              0.4444444444444444,
              "#bd3786"
             ],
             [
              0.5555555555555556,
              "#d8576b"
             ],
             [
              0.6666666666666666,
              "#ed7953"
             ],
             [
              0.7777777777777778,
              "#fb9f3a"
             ],
             [
              0.8888888888888888,
              "#fdca26"
             ],
             [
              1,
              "#f0f921"
             ]
            ],
            "type": "contour"
           }
          ],
          "contourcarpet": [
           {
            "colorbar": {
             "outlinewidth": 0,
             "ticks": ""
            },
            "type": "contourcarpet"
           }
          ],
          "heatmap": [
           {
            "colorbar": {
             "outlinewidth": 0,
             "ticks": ""
            },
            "colorscale": [
             [
              0,
              "#0d0887"
             ],
             [
              0.1111111111111111,
              "#46039f"
             ],
             [
              0.2222222222222222,
              "#7201a8"
             ],
             [
              0.3333333333333333,
              "#9c179e"
             ],
             [
              0.4444444444444444,
              "#bd3786"
             ],
             [
              0.5555555555555556,
              "#d8576b"
             ],
             [
              0.6666666666666666,
              "#ed7953"
             ],
             [
              0.7777777777777778,
              "#fb9f3a"
             ],
             [
              0.8888888888888888,
              "#fdca26"
             ],
             [
              1,
              "#f0f921"
             ]
            ],
            "type": "heatmap"
           }
          ],
          "heatmapgl": [
           {
            "colorbar": {
             "outlinewidth": 0,
             "ticks": ""
            },
            "colorscale": [
             [
              0,
              "#0d0887"
             ],
             [
              0.1111111111111111,
              "#46039f"
             ],
             [
              0.2222222222222222,
              "#7201a8"
             ],
             [
              0.3333333333333333,
              "#9c179e"
             ],
             [
              0.4444444444444444,
              "#bd3786"
             ],
             [
              0.5555555555555556,
              "#d8576b"
             ],
             [
              0.6666666666666666,
              "#ed7953"
             ],
             [
              0.7777777777777778,
              "#fb9f3a"
             ],
             [
              0.8888888888888888,
              "#fdca26"
             ],
             [
              1,
              "#f0f921"
             ]
            ],
            "type": "heatmapgl"
           }
          ],
          "histogram": [
           {
            "marker": {
             "colorbar": {
              "outlinewidth": 0,
              "ticks": ""
             }
            },
            "type": "histogram"
           }
          ],
          "histogram2d": [
           {
            "colorbar": {
             "outlinewidth": 0,
             "ticks": ""
            },
            "colorscale": [
             [
              0,
              "#0d0887"
             ],
             [
              0.1111111111111111,
              "#46039f"
             ],
             [
              0.2222222222222222,
              "#7201a8"
             ],
             [
              0.3333333333333333,
              "#9c179e"
             ],
             [
              0.4444444444444444,
              "#bd3786"
             ],
             [
              0.5555555555555556,
              "#d8576b"
             ],
             [
              0.6666666666666666,
              "#ed7953"
             ],
             [
              0.7777777777777778,
              "#fb9f3a"
             ],
             [
              0.8888888888888888,
              "#fdca26"
             ],
             [
              1,
              "#f0f921"
             ]
            ],
            "type": "histogram2d"
           }
          ],
          "histogram2dcontour": [
           {
            "colorbar": {
             "outlinewidth": 0,
             "ticks": ""
            },
            "colorscale": [
             [
              0,
              "#0d0887"
             ],
             [
              0.1111111111111111,
              "#46039f"
             ],
             [
              0.2222222222222222,
              "#7201a8"
             ],
             [
              0.3333333333333333,
              "#9c179e"
             ],
             [
              0.4444444444444444,
              "#bd3786"
             ],
             [
              0.5555555555555556,
              "#d8576b"
             ],
             [
              0.6666666666666666,
              "#ed7953"
             ],
             [
              0.7777777777777778,
              "#fb9f3a"
             ],
             [
              0.8888888888888888,
              "#fdca26"
             ],
             [
              1,
              "#f0f921"
             ]
            ],
            "type": "histogram2dcontour"
           }
          ],
          "mesh3d": [
           {
            "colorbar": {
             "outlinewidth": 0,
             "ticks": ""
            },
            "type": "mesh3d"
           }
          ],
          "parcoords": [
           {
            "line": {
             "colorbar": {
              "outlinewidth": 0,
              "ticks": ""
             }
            },
            "type": "parcoords"
           }
          ],
          "pie": [
           {
            "automargin": true,
            "type": "pie"
           }
          ],
          "scatter": [
           {
            "marker": {
             "colorbar": {
              "outlinewidth": 0,
              "ticks": ""
             }
            },
            "type": "scatter"
           }
          ],
          "scatter3d": [
           {
            "line": {
             "colorbar": {
              "outlinewidth": 0,
              "ticks": ""
             }
            },
            "marker": {
             "colorbar": {
              "outlinewidth": 0,
              "ticks": ""
             }
            },
            "type": "scatter3d"
           }
          ],
          "scattercarpet": [
           {
            "marker": {
             "colorbar": {
              "outlinewidth": 0,
              "ticks": ""
             }
            },
            "type": "scattercarpet"
           }
          ],
          "scattergeo": [
           {
            "marker": {
             "colorbar": {
              "outlinewidth": 0,
              "ticks": ""
             }
            },
            "type": "scattergeo"
           }
          ],
          "scattergl": [
           {
            "marker": {
             "colorbar": {
              "outlinewidth": 0,
              "ticks": ""
             }
            },
            "type": "scattergl"
           }
          ],
          "scattermapbox": [
           {
            "marker": {
             "colorbar": {
              "outlinewidth": 0,
              "ticks": ""
             }
            },
            "type": "scattermapbox"
           }
          ],
          "scatterpolar": [
           {
            "marker": {
             "colorbar": {
              "outlinewidth": 0,
              "ticks": ""
             }
            },
            "type": "scatterpolar"
           }
          ],
          "scatterpolargl": [
           {
            "marker": {
             "colorbar": {
              "outlinewidth": 0,
              "ticks": ""
             }
            },
            "type": "scatterpolargl"
           }
          ],
          "scatterternary": [
           {
            "marker": {
             "colorbar": {
              "outlinewidth": 0,
              "ticks": ""
             }
            },
            "type": "scatterternary"
           }
          ],
          "surface": [
           {
            "colorbar": {
             "outlinewidth": 0,
             "ticks": ""
            },
            "colorscale": [
             [
              0,
              "#0d0887"
             ],
             [
              0.1111111111111111,
              "#46039f"
             ],
             [
              0.2222222222222222,
              "#7201a8"
             ],
             [
              0.3333333333333333,
              "#9c179e"
             ],
             [
              0.4444444444444444,
              "#bd3786"
             ],
             [
              0.5555555555555556,
              "#d8576b"
             ],
             [
              0.6666666666666666,
              "#ed7953"
             ],
             [
              0.7777777777777778,
              "#fb9f3a"
             ],
             [
              0.8888888888888888,
              "#fdca26"
             ],
             [
              1,
              "#f0f921"
             ]
            ],
            "type": "surface"
           }
          ],
          "table": [
           {
            "cells": {
             "fill": {
              "color": "#EBF0F8"
             },
             "line": {
              "color": "white"
             }
            },
            "header": {
             "fill": {
              "color": "#C8D4E3"
             },
             "line": {
              "color": "white"
             }
            },
            "type": "table"
           }
          ]
         },
         "layout": {
          "annotationdefaults": {
           "arrowcolor": "#2a3f5f",
           "arrowhead": 0,
           "arrowwidth": 1
          },
          "autotypenumbers": "strict",
          "coloraxis": {
           "colorbar": {
            "outlinewidth": 0,
            "ticks": ""
           }
          },
          "colorscale": {
           "diverging": [
            [
             0,
             "#8e0152"
            ],
            [
             0.1,
             "#c51b7d"
            ],
            [
             0.2,
             "#de77ae"
            ],
            [
             0.3,
             "#f1b6da"
            ],
            [
             0.4,
             "#fde0ef"
            ],
            [
             0.5,
             "#f7f7f7"
            ],
            [
             0.6,
             "#e6f5d0"
            ],
            [
             0.7,
             "#b8e186"
            ],
            [
             0.8,
             "#7fbc41"
            ],
            [
             0.9,
             "#4d9221"
            ],
            [
             1,
             "#276419"
            ]
           ],
           "sequential": [
            [
             0,
             "#0d0887"
            ],
            [
             0.1111111111111111,
             "#46039f"
            ],
            [
             0.2222222222222222,
             "#7201a8"
            ],
            [
             0.3333333333333333,
             "#9c179e"
            ],
            [
             0.4444444444444444,
             "#bd3786"
            ],
            [
             0.5555555555555556,
             "#d8576b"
            ],
            [
             0.6666666666666666,
             "#ed7953"
            ],
            [
             0.7777777777777778,
             "#fb9f3a"
            ],
            [
             0.8888888888888888,
             "#fdca26"
            ],
            [
             1,
             "#f0f921"
            ]
           ],
           "sequentialminus": [
            [
             0,
             "#0d0887"
            ],
            [
             0.1111111111111111,
             "#46039f"
            ],
            [
             0.2222222222222222,
             "#7201a8"
            ],
            [
             0.3333333333333333,
             "#9c179e"
            ],
            [
             0.4444444444444444,
             "#bd3786"
            ],
            [
             0.5555555555555556,
             "#d8576b"
            ],
            [
             0.6666666666666666,
             "#ed7953"
            ],
            [
             0.7777777777777778,
             "#fb9f3a"
            ],
            [
             0.8888888888888888,
             "#fdca26"
            ],
            [
             1,
             "#f0f921"
            ]
           ]
          },
          "colorway": [
           "#636efa",
           "#EF553B",
           "#00cc96",
           "#ab63fa",
           "#FFA15A",
           "#19d3f3",
           "#FF6692",
           "#B6E880",
           "#FF97FF",
           "#FECB52"
          ],
          "font": {
           "color": "#2a3f5f"
          },
          "geo": {
           "bgcolor": "white",
           "lakecolor": "white",
           "landcolor": "#E5ECF6",
           "showlakes": true,
           "showland": true,
           "subunitcolor": "white"
          },
          "hoverlabel": {
           "align": "left"
          },
          "hovermode": "closest",
          "mapbox": {
           "style": "light"
          },
          "paper_bgcolor": "white",
          "plot_bgcolor": "#E5ECF6",
          "polar": {
           "angularaxis": {
            "gridcolor": "white",
            "linecolor": "white",
            "ticks": ""
           },
           "bgcolor": "#E5ECF6",
           "radialaxis": {
            "gridcolor": "white",
            "linecolor": "white",
            "ticks": ""
           }
          },
          "scene": {
           "xaxis": {
            "backgroundcolor": "#E5ECF6",
            "gridcolor": "white",
            "gridwidth": 2,
            "linecolor": "white",
            "showbackground": true,
            "ticks": "",
            "zerolinecolor": "white"
           },
           "yaxis": {
            "backgroundcolor": "#E5ECF6",
            "gridcolor": "white",
            "gridwidth": 2,
            "linecolor": "white",
            "showbackground": true,
            "ticks": "",
            "zerolinecolor": "white"
           },
           "zaxis": {
            "backgroundcolor": "#E5ECF6",
            "gridcolor": "white",
            "gridwidth": 2,
            "linecolor": "white",
            "showbackground": true,
            "ticks": "",
            "zerolinecolor": "white"
           }
          },
          "shapedefaults": {
           "line": {
            "color": "#2a3f5f"
           }
          },
          "ternary": {
           "aaxis": {
            "gridcolor": "white",
            "linecolor": "white",
            "ticks": ""
           },
           "baxis": {
            "gridcolor": "white",
            "linecolor": "white",
            "ticks": ""
           },
           "bgcolor": "#E5ECF6",
           "caxis": {
            "gridcolor": "white",
            "linecolor": "white",
            "ticks": ""
           }
          },
          "title": {
           "x": 0.05
          },
          "xaxis": {
           "automargin": true,
           "gridcolor": "white",
           "linecolor": "white",
           "ticks": "",
           "title": {
            "standoff": 15
           },
           "zerolinecolor": "white",
           "zerolinewidth": 2
          },
          "yaxis": {
           "automargin": true,
           "gridcolor": "white",
           "linecolor": "white",
           "ticks": "",
           "title": {
            "standoff": 15
           },
           "zerolinecolor": "white",
           "zerolinewidth": 2
          }
         }
        },
        "title": {
         "text": "Alprazolam"
        },
        "xaxis": {
         "anchor": "y",
         "domain": [
          0,
          1
         ],
         "tickangle": 45,
         "title": {
          "text": "LIEK_popis"
         }
        },
        "yaxis": {
         "anchor": "x",
         "domain": [
          0,
          1
         ],
         "title": {
          "text": "Počet balení"
         }
        }
       }
      }
     },
     "metadata": {}
    }
   ],
   "source": [
    "fig = px.scatter(alprazolam, x='LIEK_popis', y='Počet balení', size='Cena úhrada_PAC/bal', color='STAT_popis', title='Alprazolam')\n",
    "fig.update_xaxes(tickangle=45)\n",
    "fig.show()"
   ]
  },
  {
   "source": [
    " Najpuzivanejsim psycholeptikom s ucinnou latkou alprazolam je cesky Neurol, za priemernu cenu. Priblizne o polovicu menej sa predavajuci madarsky Frontin a potom belgickz Xanax. Mozeme si vsimnut ze narozdiel od predchadzajuch grafov, ucinnu latku alprazolam pouziva menej liekov ???Rozdiel medzi Neurol a Neurol SR????"
   ],
   "cell_type": "markdown",
   "metadata": {}
  },
  {
   "source": [
    "# 8. Diklofenak"
   ],
   "cell_type": "markdown",
   "metadata": {}
  },
  {
   "cell_type": "code",
   "execution_count": 97,
   "metadata": {},
   "outputs": [
    {
     "output_type": "display_data",
     "data": {
      "text/plain": "                      LIEK_popis STAT_popis  \\\n0                  AKIS Plus inj  Slovensko   \n1                       AKIS inj  Slovensko   \n2                    ALMIRAL inj     Cyprus   \n3                    ALMIRAL tbl     Cyprus   \n4              DICLAC RETARD tbl  Slovinsko   \n5           DICLOBENE RETARD tbl  Holandsko   \n6                  DICLOBENE tbl  Holandsko   \n7       DICLOFENAC AL RETARD tbl    Nemecko   \n8              DICLOFENAC AL tbl    Nemecko   \n9   DICLOFENAC DUO PHARMAVIT cps      Česko   \n10                 DICLOREUM sup  Taliansko   \n11                 DICLOREUM tbl  Taliansko   \n12                    Dicuno tbl     Fínsko   \n13              FLECTOR EP RAPID  Slovensko   \n14              VERAL RETARD tbl      Česko   \n15                     VERAL gel  Slovensko   \n16                 VERAL sol inj  Slovensko   \n17                     VERAL sup      Česko   \n18                     VERAL tbl      Česko   \n19            VOLTAREN RAPID tbl  Slovensko   \n20           VOLTAREN RETARD tbl  Slovensko   \n21              VOLTAREN sol ifc      Česko   \n22                  VOLTAREN sup  Slovensko   \n23                  VOLTAREN tbl  Slovensko   \n24     Voltaren ActiGo Extra tbl      Česko   \n25            Voltaren Rapid cps      Česko   \n\n                                        VYROBCA_popis  index  Počet balení  \\\n0                                IBSA Slovakia s.r.o.  21978      6095.903   \n1                                IBSA Slovakia s.r.o.  21954       270.630   \n2                                     Medochemie Ltd.  16503    167768.830   \n3                                     Medochemie Ltd.   5499     28693.990   \n4                         Sandoz Pharmaceuticals d.d.  10966     11883.500   \n5                                           TEV-NL-4?  16407     57957.000   \n6                                           TEV-NL-4?  21862     46020.650   \n7                                   ALIUD PHARMA GmbH  11011        23.000   \n8                          Aliud Pharma GmbH & Co. KG  11013         4.000   \n9                  PharmaSwiss Česká republika s.r.o.   5510    170025.010   \n10                             Alfa Wassermann S.p.A.   5513         3.000   \n11                             Alfa Wassermann S.p.A.   5512        12.000   \n12                                      Vitabalans Oy  10923      2504.797   \n13                               IBSA Slovakia s.r.o.  10983    825870.470   \n14                          Herbacos Recordati s.r.o.  10965     80757.530   \n15                                       Zentiva a.s.  16440       368.000   \n16                                  Slovakofarma a.s.   5481         6.000   \n17                          Herbacos Recordati s.r.o.   5474         1.000   \n18                          Herbacos Recordati s.r.o.  27416     64051.168   \n19                           Novartis Slovakia s.r.o.   5480    163277.900   \n20                           Novartis Slovakia s.r.o.   5507      9310.960   \n21                                    Novartis s.r.o.   5508       102.500   \n22                           Novartis Slovakia s.r.o.   5498      5866.000   \n23                           Novartis Slovakia s.r.o.   5511      8390.000   \n24  GlaxoSmithKline Consumer Healthcare Czech Repu...  10983    126203.500   \n25  GlaxoSmithKline Consumer Healthcare Czech Repu...  16428    238259.180   \n\n    Úhrada_PAC  Cena úhrada_PAC/bal  \n0     51936.89             8.519967  \n1      3414.97            12.618594  \n2    104943.58             0.625525  \n3     23225.76             0.809429  \n4     15556.74             1.309104  \n5     29930.63             0.516428  \n6     25987.73             0.564697  \n7       104.92             4.561739  \n8        14.11             3.527500  \n9    469116.41             2.759102  \n10        6.30             2.100000  \n11       32.90             2.741667  \n12     9412.28             3.757702  \n13  2762210.14             3.344605  \n14   196583.81             2.434247  \n15     2012.08             5.467609  \n16        0.00             0.000000  \n17        4.10             4.100000  \n18   183991.73             2.872574  \n19   145603.20             0.891751  \n20    54202.95             5.821414  \n21      203.07             1.981171  \n22     6651.44             1.133897  \n23    23238.67             2.769806  \n24   668509.79             5.297078  \n25  1285498.49             5.395379  ",
      "text/html": "<div>\n<style scoped>\n    .dataframe tbody tr th:only-of-type {\n        vertical-align: middle;\n    }\n\n    .dataframe tbody tr th {\n        vertical-align: top;\n    }\n\n    .dataframe thead th {\n        text-align: right;\n    }\n</style>\n<table border=\"1\" class=\"dataframe\">\n  <thead>\n    <tr style=\"text-align: right;\">\n      <th></th>\n      <th>LIEK_popis</th>\n      <th>STAT_popis</th>\n      <th>VYROBCA_popis</th>\n      <th>index</th>\n      <th>Počet balení</th>\n      <th>Úhrada_PAC</th>\n      <th>Cena úhrada_PAC/bal</th>\n    </tr>\n  </thead>\n  <tbody>\n    <tr>\n      <th>0</th>\n      <td>AKIS Plus inj</td>\n      <td>Slovensko</td>\n      <td>IBSA Slovakia s.r.o.</td>\n      <td>21978</td>\n      <td>6095.903</td>\n      <td>51936.89</td>\n      <td>8.519967</td>\n    </tr>\n    <tr>\n      <th>1</th>\n      <td>AKIS inj</td>\n      <td>Slovensko</td>\n      <td>IBSA Slovakia s.r.o.</td>\n      <td>21954</td>\n      <td>270.630</td>\n      <td>3414.97</td>\n      <td>12.618594</td>\n    </tr>\n    <tr>\n      <th>2</th>\n      <td>ALMIRAL inj</td>\n      <td>Cyprus</td>\n      <td>Medochemie Ltd.</td>\n      <td>16503</td>\n      <td>167768.830</td>\n      <td>104943.58</td>\n      <td>0.625525</td>\n    </tr>\n    <tr>\n      <th>3</th>\n      <td>ALMIRAL tbl</td>\n      <td>Cyprus</td>\n      <td>Medochemie Ltd.</td>\n      <td>5499</td>\n      <td>28693.990</td>\n      <td>23225.76</td>\n      <td>0.809429</td>\n    </tr>\n    <tr>\n      <th>4</th>\n      <td>DICLAC RETARD tbl</td>\n      <td>Slovinsko</td>\n      <td>Sandoz Pharmaceuticals d.d.</td>\n      <td>10966</td>\n      <td>11883.500</td>\n      <td>15556.74</td>\n      <td>1.309104</td>\n    </tr>\n    <tr>\n      <th>5</th>\n      <td>DICLOBENE RETARD tbl</td>\n      <td>Holandsko</td>\n      <td>TEV-NL-4?</td>\n      <td>16407</td>\n      <td>57957.000</td>\n      <td>29930.63</td>\n      <td>0.516428</td>\n    </tr>\n    <tr>\n      <th>6</th>\n      <td>DICLOBENE tbl</td>\n      <td>Holandsko</td>\n      <td>TEV-NL-4?</td>\n      <td>21862</td>\n      <td>46020.650</td>\n      <td>25987.73</td>\n      <td>0.564697</td>\n    </tr>\n    <tr>\n      <th>7</th>\n      <td>DICLOFENAC AL RETARD tbl</td>\n      <td>Nemecko</td>\n      <td>ALIUD PHARMA GmbH</td>\n      <td>11011</td>\n      <td>23.000</td>\n      <td>104.92</td>\n      <td>4.561739</td>\n    </tr>\n    <tr>\n      <th>8</th>\n      <td>DICLOFENAC AL tbl</td>\n      <td>Nemecko</td>\n      <td>Aliud Pharma GmbH &amp; Co. KG</td>\n      <td>11013</td>\n      <td>4.000</td>\n      <td>14.11</td>\n      <td>3.527500</td>\n    </tr>\n    <tr>\n      <th>9</th>\n      <td>DICLOFENAC DUO PHARMAVIT cps</td>\n      <td>Česko</td>\n      <td>PharmaSwiss Česká republika s.r.o.</td>\n      <td>5510</td>\n      <td>170025.010</td>\n      <td>469116.41</td>\n      <td>2.759102</td>\n    </tr>\n    <tr>\n      <th>10</th>\n      <td>DICLOREUM sup</td>\n      <td>Taliansko</td>\n      <td>Alfa Wassermann S.p.A.</td>\n      <td>5513</td>\n      <td>3.000</td>\n      <td>6.30</td>\n      <td>2.100000</td>\n    </tr>\n    <tr>\n      <th>11</th>\n      <td>DICLOREUM tbl</td>\n      <td>Taliansko</td>\n      <td>Alfa Wassermann S.p.A.</td>\n      <td>5512</td>\n      <td>12.000</td>\n      <td>32.90</td>\n      <td>2.741667</td>\n    </tr>\n    <tr>\n      <th>12</th>\n      <td>Dicuno tbl</td>\n      <td>Fínsko</td>\n      <td>Vitabalans Oy</td>\n      <td>10923</td>\n      <td>2504.797</td>\n      <td>9412.28</td>\n      <td>3.757702</td>\n    </tr>\n    <tr>\n      <th>13</th>\n      <td>FLECTOR EP RAPID</td>\n      <td>Slovensko</td>\n      <td>IBSA Slovakia s.r.o.</td>\n      <td>10983</td>\n      <td>825870.470</td>\n      <td>2762210.14</td>\n      <td>3.344605</td>\n    </tr>\n    <tr>\n      <th>14</th>\n      <td>VERAL RETARD tbl</td>\n      <td>Česko</td>\n      <td>Herbacos Recordati s.r.o.</td>\n      <td>10965</td>\n      <td>80757.530</td>\n      <td>196583.81</td>\n      <td>2.434247</td>\n    </tr>\n    <tr>\n      <th>15</th>\n      <td>VERAL gel</td>\n      <td>Slovensko</td>\n      <td>Zentiva a.s.</td>\n      <td>16440</td>\n      <td>368.000</td>\n      <td>2012.08</td>\n      <td>5.467609</td>\n    </tr>\n    <tr>\n      <th>16</th>\n      <td>VERAL sol inj</td>\n      <td>Slovensko</td>\n      <td>Slovakofarma a.s.</td>\n      <td>5481</td>\n      <td>6.000</td>\n      <td>0.00</td>\n      <td>0.000000</td>\n    </tr>\n    <tr>\n      <th>17</th>\n      <td>VERAL sup</td>\n      <td>Česko</td>\n      <td>Herbacos Recordati s.r.o.</td>\n      <td>5474</td>\n      <td>1.000</td>\n      <td>4.10</td>\n      <td>4.100000</td>\n    </tr>\n    <tr>\n      <th>18</th>\n      <td>VERAL tbl</td>\n      <td>Česko</td>\n      <td>Herbacos Recordati s.r.o.</td>\n      <td>27416</td>\n      <td>64051.168</td>\n      <td>183991.73</td>\n      <td>2.872574</td>\n    </tr>\n    <tr>\n      <th>19</th>\n      <td>VOLTAREN RAPID tbl</td>\n      <td>Slovensko</td>\n      <td>Novartis Slovakia s.r.o.</td>\n      <td>5480</td>\n      <td>163277.900</td>\n      <td>145603.20</td>\n      <td>0.891751</td>\n    </tr>\n    <tr>\n      <th>20</th>\n      <td>VOLTAREN RETARD tbl</td>\n      <td>Slovensko</td>\n      <td>Novartis Slovakia s.r.o.</td>\n      <td>5507</td>\n      <td>9310.960</td>\n      <td>54202.95</td>\n      <td>5.821414</td>\n    </tr>\n    <tr>\n      <th>21</th>\n      <td>VOLTAREN sol ifc</td>\n      <td>Česko</td>\n      <td>Novartis s.r.o.</td>\n      <td>5508</td>\n      <td>102.500</td>\n      <td>203.07</td>\n      <td>1.981171</td>\n    </tr>\n    <tr>\n      <th>22</th>\n      <td>VOLTAREN sup</td>\n      <td>Slovensko</td>\n      <td>Novartis Slovakia s.r.o.</td>\n      <td>5498</td>\n      <td>5866.000</td>\n      <td>6651.44</td>\n      <td>1.133897</td>\n    </tr>\n    <tr>\n      <th>23</th>\n      <td>VOLTAREN tbl</td>\n      <td>Slovensko</td>\n      <td>Novartis Slovakia s.r.o.</td>\n      <td>5511</td>\n      <td>8390.000</td>\n      <td>23238.67</td>\n      <td>2.769806</td>\n    </tr>\n    <tr>\n      <th>24</th>\n      <td>Voltaren ActiGo Extra tbl</td>\n      <td>Česko</td>\n      <td>GlaxoSmithKline Consumer Healthcare Czech Repu...</td>\n      <td>10983</td>\n      <td>126203.500</td>\n      <td>668509.79</td>\n      <td>5.297078</td>\n    </tr>\n    <tr>\n      <th>25</th>\n      <td>Voltaren Rapid cps</td>\n      <td>Česko</td>\n      <td>GlaxoSmithKline Consumer Healthcare Czech Repu...</td>\n      <td>16428</td>\n      <td>238259.180</td>\n      <td>1285498.49</td>\n      <td>5.395379</td>\n    </tr>\n  </tbody>\n</table>\n</div>"
     },
     "metadata": {}
    }
   ],
   "source": [
    "diklofenak = top20tab[\"M01AB05\"].sort_values(by='Počet balení', ascending=False)\n",
    "\n",
    "for i,popis in enumerate(diklofenak['LIEK_popis']):\n",
    "    if 'AKIS Plus' in popis:\n",
    "        diklofenak.iloc[i,4] = 'AKIS Plus inj'\n",
    "    elif 'AKIS' in popis:\n",
    "        diklofenak.iloc[i,4] = 'AKIS inj'\n",
    "    elif 'ALMIRAL inj' in popis:\n",
    "        diklofenak.iloc[i,4] = 'ALMIRAL inj'\n",
    "    elif 'ALMIRAL ' in popis:\n",
    "        diklofenak.iloc[i,4] = 'ALMIRAL tbl'\n",
    "    elif 'DICLAC RETARD tbl' in popis or 'Diclac retard' in popis:\n",
    "        diklofenak.iloc[i,4] = 'DICLAC RETARD tbl'\n",
    "    elif 'DICLOBENE' in popis and 'RETARD' in popis:\n",
    "        diklofenak.iloc[i,4] = 'DICLOBENE RETARD tbl'\n",
    "    elif 'DICLOBENE' in popis:\n",
    "        diklofenak.iloc[i,4] = 'DICLOBENE tbl'\n",
    "    elif 'DICLOFENAC AL RETARD' in popis:\n",
    "        diklofenak.iloc[i,4] = 'DICLOFENAC AL RETARD tbl'\n",
    "    elif 'DICLOFENAC AL' in popis:\n",
    "        diklofenak.iloc[i,4] = 'DICLOFENAC AL tbl'\n",
    "    elif 'DICLOFENAC DUO PHARMAVIT' in popis:\n",
    "        diklofenak.iloc[i,4] = 'DICLOFENAC DUO PHARMAVIT cps'\n",
    "    elif 'DICLOREUM tbl' in popis:\n",
    "        diklofenak.iloc[i,4] = 'DICLOREUM tbl'\n",
    "    elif 'DICLOREUM' in popis:\n",
    "        diklofenak.iloc[i,4] = 'DICLOREUM sup'\n",
    "    elif 'Dicuno' in popis:\n",
    "        diklofenak.iloc[i,4] = 'Dicuno tbl'\n",
    "    elif 'FLECTOR EP RAPID' in popis:\n",
    "        diklofenak.iloc[i,4] = 'FLECTOR EP RAPID'\n",
    "    elif 'VERAL' in popis and 'RETARD' in popis:\n",
    "        diklofenak.iloc[i,4] = 'VERAL RETARD tbl'\n",
    "    elif 'VERAL' in popis and 'tbl' in popis:\n",
    "        diklofenak.iloc[i,4] = 'VERAL tbl'\n",
    "    elif 'VERAL' in popis and 'sup' in popis:\n",
    "        diklofenak.iloc[i,4] = 'VERAL sup'\n",
    "    elif 'VERAL' in popis and 'sol' in popis:\n",
    "        diklofenak.iloc[i,4] = 'VERAL sol inj'\n",
    "    elif 'VERAL' in popis and 'gel' in popis:\n",
    "        diklofenak.iloc[i,4] = 'VERAL gel'\n",
    "    elif 'VOLTAREN 100 sup' in popis:\n",
    "        diklofenak.iloc[i,4] = 'VOLTAREN sup'\n",
    "    elif 'VOLTAREN 50 tbl' in popis:\n",
    "        diklofenak.iloc[i,4] = 'VOLTAREN tbl'\n",
    "    elif 'VOLTAREN RAPID' in popis:\n",
    "        diklofenak.iloc[i,4] = 'VOLTAREN RAPID tbl'\n",
    "    elif 'VOLTAREN' in popis and 'sol' in popis:\n",
    "        diklofenak.iloc[i,4] = 'VOLTAREN sol ifc'\n",
    "    elif 'Voltaren ActiGo Extra' in popis:\n",
    "        diklofenak.iloc[i,4] = 'Voltaren ActiGo Extra tbl'\n",
    "    elif 'Voltaren Actigo Extra' in popis:\n",
    "        diklofenak.iloc[i,4] = 'Voltaren ActiGo Extra tbl'\n",
    "    elif 'Voltaren Rapid' in popis:\n",
    "        diklofenak.iloc[i,4] = 'Voltaren Rapid cps'\n",
    "    elif 'VOLTAREN RETARD' in popis:\n",
    "        diklofenak.iloc[i,4] = 'VOLTAREN RETARD tbl'\n",
    "    \n",
    "diklofenak = diklofenak.groupby(['LIEK_popis', 'STAT_popis', 'VYROBCA_popis']).sum().reset_index()\n",
    "diklofenak['Cena úhrada_PAC/bal'] = diklofenak['Úhrada_PAC'] / diklofenak['Počet balení']\n",
    "\n",
    "display(diklofenak.sort_values(by='LIEK_popis'))"
   ]
  },
  {
   "cell_type": "code",
   "execution_count": 96,
   "metadata": {},
   "outputs": [
    {
     "output_type": "display_data",
     "data": {
      "application/vnd.plotly.v1+json": {
       "config": {
        "plotlyServerURL": "https://plot.ly"
       },
       "data": [
        {
         "hovertemplate": "STAT_popis=Slovensko<br>LIEK_popis=%{x}<br>Počet balení=%{y}<br>Cena úhrada_PAC/bal=%{marker.size}<extra></extra>",
         "legendgroup": "Slovensko",
         "marker": {
          "color": "#636efa",
          "size": [
           8.5199666070802,
           12.61859365184939,
           3.3446045600831322,
           5.467608695652174,
           0,
           0.8917508125716953,
           5.821413688814043,
           1.1338970337538357,
           2.769805721096543
          ],
          "sizemode": "area",
          "sizeref": 0.03154648412962347,
          "symbol": "circle"
         },
         "mode": "markers",
         "name": "Slovensko",
         "orientation": "v",
         "showlegend": true,
         "type": "scatter",
         "x": [
          "AKIS Plus inj",
          "AKIS inj",
          "FLECTOR EP RAPID",
          "VERAL gel",
          "VERAL sol inj",
          "VOLTAREN RAPID tbl",
          "VOLTAREN RETARD tbl",
          "VOLTAREN sup",
          "VOLTAREN tbl"
         ],
         "xaxis": "x",
         "y": [
          6095.903,
          270.63,
          825870.47,
          368,
          6,
          163277.9,
          9310.96,
          5866,
          8390
         ],
         "yaxis": "y"
        },
        {
         "hovertemplate": "STAT_popis=Cyprus<br>LIEK_popis=%{x}<br>Počet balení=%{y}<br>Cena úhrada_PAC/bal=%{marker.size}<extra></extra>",
         "legendgroup": "Cyprus",
         "marker": {
          "color": "#EF553B",
          "size": [
           0.6255248963707978,
           0.8094294310411344
          ],
          "sizemode": "area",
          "sizeref": 0.03154648412962347,
          "symbol": "circle"
         },
         "mode": "markers",
         "name": "Cyprus",
         "orientation": "v",
         "showlegend": true,
         "type": "scatter",
         "x": [
          "ALMIRAL inj",
          "ALMIRAL tbl"
         ],
         "xaxis": "x",
         "y": [
          167768.83000000002,
          28693.989999999998
         ],
         "yaxis": "y"
        },
        {
         "hovertemplate": "STAT_popis=Slovinsko<br>LIEK_popis=%{x}<br>Počet balení=%{y}<br>Cena úhrada_PAC/bal=%{marker.size}<extra></extra>",
         "legendgroup": "Slovinsko",
         "marker": {
          "color": "#00cc96",
          "size": [
           1.309104220137165
          ],
          "sizemode": "area",
          "sizeref": 0.03154648412962347,
          "symbol": "circle"
         },
         "mode": "markers",
         "name": "Slovinsko",
         "orientation": "v",
         "showlegend": true,
         "type": "scatter",
         "x": [
          "DICLAC RETARD tbl"
         ],
         "xaxis": "x",
         "y": [
          11883.5
         ],
         "yaxis": "y"
        },
        {
         "hovertemplate": "STAT_popis=Holandsko<br>LIEK_popis=%{x}<br>Počet balení=%{y}<br>Cena úhrada_PAC/bal=%{marker.size}<extra></extra>",
         "legendgroup": "Holandsko",
         "marker": {
          "color": "#ab63fa",
          "size": [
           0.5164282140207394,
           0.56469715225665
          ],
          "sizemode": "area",
          "sizeref": 0.03154648412962347,
          "symbol": "circle"
         },
         "mode": "markers",
         "name": "Holandsko",
         "orientation": "v",
         "showlegend": true,
         "type": "scatter",
         "x": [
          "DICLOBENE RETARD tbl",
          "DICLOBENE tbl"
         ],
         "xaxis": "x",
         "y": [
          57957,
          46020.65
         ],
         "yaxis": "y"
        },
        {
         "hovertemplate": "STAT_popis=Nemecko<br>LIEK_popis=%{x}<br>Počet balení=%{y}<br>Cena úhrada_PAC/bal=%{marker.size}<extra></extra>",
         "legendgroup": "Nemecko",
         "marker": {
          "color": "#FFA15A",
          "size": [
           4.561739130434782,
           3.5275
          ],
          "sizemode": "area",
          "sizeref": 0.03154648412962347,
          "symbol": "circle"
         },
         "mode": "markers",
         "name": "Nemecko",
         "orientation": "v",
         "showlegend": true,
         "type": "scatter",
         "x": [
          "DICLOFENAC AL RETARD tbl",
          "DICLOFENAC AL tbl"
         ],
         "xaxis": "x",
         "y": [
          23,
          4
         ],
         "yaxis": "y"
        },
        {
         "hovertemplate": "STAT_popis=Česko<br>LIEK_popis=%{x}<br>Počet balení=%{y}<br>Cena úhrada_PAC/bal=%{marker.size}<extra></extra>",
         "legendgroup": "Česko",
         "marker": {
          "color": "#19d3f3",
          "size": [
           2.7591023814672915,
           2.4342474317874756,
           4.1,
           2.872574158210511,
           1.9811707317073168,
           4.802727272727273,
           5.297595650087451,
           5.395378637666764
          ],
          "sizemode": "area",
          "sizeref": 0.03154648412962347,
          "symbol": "circle"
         },
         "mode": "markers",
         "name": "Česko",
         "orientation": "v",
         "showlegend": true,
         "type": "scatter",
         "x": [
          "DICLOFENAC DUO PHARMAVIT cps",
          "VERAL RETARD tbl",
          "VERAL sup",
          "VERAL tbl",
          "VOLTAREN sol ifc",
          "Voltaren ActiGo Extra tbl",
          "Voltaren Actigo Extra 25 mg tbl obd 20x25 mg",
          "Voltaren Rapid cps"
         ],
         "xaxis": "x",
         "y": [
          170025.00999999998,
          80757.53,
          1,
          64051.168,
          102.5,
          132,
          126071.5,
          238259.18
         ],
         "yaxis": "y"
        },
        {
         "hovertemplate": "STAT_popis=Taliansko<br>LIEK_popis=%{x}<br>Počet balení=%{y}<br>Cena úhrada_PAC/bal=%{marker.size}<extra></extra>",
         "legendgroup": "Taliansko",
         "marker": {
          "color": "#FF6692",
          "size": [
           2.1,
           2.7416666666666667
          ],
          "sizemode": "area",
          "sizeref": 0.03154648412962347,
          "symbol": "circle"
         },
         "mode": "markers",
         "name": "Taliansko",
         "orientation": "v",
         "showlegend": true,
         "type": "scatter",
         "x": [
          "DICLOREUM sup",
          "DICLOREUM tbl"
         ],
         "xaxis": "x",
         "y": [
          3,
          12
         ],
         "yaxis": "y"
        },
        {
         "hovertemplate": "STAT_popis=Fínsko<br>LIEK_popis=%{x}<br>Počet balení=%{y}<br>Cena úhrada_PAC/bal=%{marker.size}<extra></extra>",
         "legendgroup": "Fínsko",
         "marker": {
          "color": "#B6E880",
          "size": [
           3.7577017219359488
          ],
          "sizemode": "area",
          "sizeref": 0.03154648412962347,
          "symbol": "circle"
         },
         "mode": "markers",
         "name": "Fínsko",
         "orientation": "v",
         "showlegend": true,
         "type": "scatter",
         "x": [
          "Dicuno tbl"
         ],
         "xaxis": "x",
         "y": [
          2504.797
         ],
         "yaxis": "y"
        }
       ],
       "layout": {
        "legend": {
         "itemsizing": "constant",
         "title": {
          "text": "STAT_popis"
         },
         "tracegroupgap": 0
        },
        "template": {
         "data": {
          "bar": [
           {
            "error_x": {
             "color": "#2a3f5f"
            },
            "error_y": {
             "color": "#2a3f5f"
            },
            "marker": {
             "line": {
              "color": "#E5ECF6",
              "width": 0.5
             }
            },
            "type": "bar"
           }
          ],
          "barpolar": [
           {
            "marker": {
             "line": {
              "color": "#E5ECF6",
              "width": 0.5
             }
            },
            "type": "barpolar"
           }
          ],
          "carpet": [
           {
            "aaxis": {
             "endlinecolor": "#2a3f5f",
             "gridcolor": "white",
             "linecolor": "white",
             "minorgridcolor": "white",
             "startlinecolor": "#2a3f5f"
            },
            "baxis": {
             "endlinecolor": "#2a3f5f",
             "gridcolor": "white",
             "linecolor": "white",
             "minorgridcolor": "white",
             "startlinecolor": "#2a3f5f"
            },
            "type": "carpet"
           }
          ],
          "choropleth": [
           {
            "colorbar": {
             "outlinewidth": 0,
             "ticks": ""
            },
            "type": "choropleth"
           }
          ],
          "contour": [
           {
            "colorbar": {
             "outlinewidth": 0,
             "ticks": ""
            },
            "colorscale": [
             [
              0,
              "#0d0887"
             ],
             [
              0.1111111111111111,
              "#46039f"
             ],
             [
              0.2222222222222222,
              "#7201a8"
             ],
             [
              0.3333333333333333,
              "#9c179e"
             ],
             [
              0.4444444444444444,
              "#bd3786"
             ],
             [
              0.5555555555555556,
              "#d8576b"
             ],
             [
              0.6666666666666666,
              "#ed7953"
             ],
             [
              0.7777777777777778,
              "#fb9f3a"
             ],
             [
              0.8888888888888888,
              "#fdca26"
             ],
             [
              1,
              "#f0f921"
             ]
            ],
            "type": "contour"
           }
          ],
          "contourcarpet": [
           {
            "colorbar": {
             "outlinewidth": 0,
             "ticks": ""
            },
            "type": "contourcarpet"
           }
          ],
          "heatmap": [
           {
            "colorbar": {
             "outlinewidth": 0,
             "ticks": ""
            },
            "colorscale": [
             [
              0,
              "#0d0887"
             ],
             [
              0.1111111111111111,
              "#46039f"
             ],
             [
              0.2222222222222222,
              "#7201a8"
             ],
             [
              0.3333333333333333,
              "#9c179e"
             ],
             [
              0.4444444444444444,
              "#bd3786"
             ],
             [
              0.5555555555555556,
              "#d8576b"
             ],
             [
              0.6666666666666666,
              "#ed7953"
             ],
             [
              0.7777777777777778,
              "#fb9f3a"
             ],
             [
              0.8888888888888888,
              "#fdca26"
             ],
             [
              1,
              "#f0f921"
             ]
            ],
            "type": "heatmap"
           }
          ],
          "heatmapgl": [
           {
            "colorbar": {
             "outlinewidth": 0,
             "ticks": ""
            },
            "colorscale": [
             [
              0,
              "#0d0887"
             ],
             [
              0.1111111111111111,
              "#46039f"
             ],
             [
              0.2222222222222222,
              "#7201a8"
             ],
             [
              0.3333333333333333,
              "#9c179e"
             ],
             [
              0.4444444444444444,
              "#bd3786"
             ],
             [
              0.5555555555555556,
              "#d8576b"
             ],
             [
              0.6666666666666666,
              "#ed7953"
             ],
             [
              0.7777777777777778,
              "#fb9f3a"
             ],
             [
              0.8888888888888888,
              "#fdca26"
             ],
             [
              1,
              "#f0f921"
             ]
            ],
            "type": "heatmapgl"
           }
          ],
          "histogram": [
           {
            "marker": {
             "colorbar": {
              "outlinewidth": 0,
              "ticks": ""
             }
            },
            "type": "histogram"
           }
          ],
          "histogram2d": [
           {
            "colorbar": {
             "outlinewidth": 0,
             "ticks": ""
            },
            "colorscale": [
             [
              0,
              "#0d0887"
             ],
             [
              0.1111111111111111,
              "#46039f"
             ],
             [
              0.2222222222222222,
              "#7201a8"
             ],
             [
              0.3333333333333333,
              "#9c179e"
             ],
             [
              0.4444444444444444,
              "#bd3786"
             ],
             [
              0.5555555555555556,
              "#d8576b"
             ],
             [
              0.6666666666666666,
              "#ed7953"
             ],
             [
              0.7777777777777778,
              "#fb9f3a"
             ],
             [
              0.8888888888888888,
              "#fdca26"
             ],
             [
              1,
              "#f0f921"
             ]
            ],
            "type": "histogram2d"
           }
          ],
          "histogram2dcontour": [
           {
            "colorbar": {
             "outlinewidth": 0,
             "ticks": ""
            },
            "colorscale": [
             [
              0,
              "#0d0887"
             ],
             [
              0.1111111111111111,
              "#46039f"
             ],
             [
              0.2222222222222222,
              "#7201a8"
             ],
             [
              0.3333333333333333,
              "#9c179e"
             ],
             [
              0.4444444444444444,
              "#bd3786"
             ],
             [
              0.5555555555555556,
              "#d8576b"
             ],
             [
              0.6666666666666666,
              "#ed7953"
             ],
             [
              0.7777777777777778,
              "#fb9f3a"
             ],
             [
              0.8888888888888888,
              "#fdca26"
             ],
             [
              1,
              "#f0f921"
             ]
            ],
            "type": "histogram2dcontour"
           }
          ],
          "mesh3d": [
           {
            "colorbar": {
             "outlinewidth": 0,
             "ticks": ""
            },
            "type": "mesh3d"
           }
          ],
          "parcoords": [
           {
            "line": {
             "colorbar": {
              "outlinewidth": 0,
              "ticks": ""
             }
            },
            "type": "parcoords"
           }
          ],
          "pie": [
           {
            "automargin": true,
            "type": "pie"
           }
          ],
          "scatter": [
           {
            "marker": {
             "colorbar": {
              "outlinewidth": 0,
              "ticks": ""
             }
            },
            "type": "scatter"
           }
          ],
          "scatter3d": [
           {
            "line": {
             "colorbar": {
              "outlinewidth": 0,
              "ticks": ""
             }
            },
            "marker": {
             "colorbar": {
              "outlinewidth": 0,
              "ticks": ""
             }
            },
            "type": "scatter3d"
           }
          ],
          "scattercarpet": [
           {
            "marker": {
             "colorbar": {
              "outlinewidth": 0,
              "ticks": ""
             }
            },
            "type": "scattercarpet"
           }
          ],
          "scattergeo": [
           {
            "marker": {
             "colorbar": {
              "outlinewidth": 0,
              "ticks": ""
             }
            },
            "type": "scattergeo"
           }
          ],
          "scattergl": [
           {
            "marker": {
             "colorbar": {
              "outlinewidth": 0,
              "ticks": ""
             }
            },
            "type": "scattergl"
           }
          ],
          "scattermapbox": [
           {
            "marker": {
             "colorbar": {
              "outlinewidth": 0,
              "ticks": ""
             }
            },
            "type": "scattermapbox"
           }
          ],
          "scatterpolar": [
           {
            "marker": {
             "colorbar": {
              "outlinewidth": 0,
              "ticks": ""
             }
            },
            "type": "scatterpolar"
           }
          ],
          "scatterpolargl": [
           {
            "marker": {
             "colorbar": {
              "outlinewidth": 0,
              "ticks": ""
             }
            },
            "type": "scatterpolargl"
           }
          ],
          "scatterternary": [
           {
            "marker": {
             "colorbar": {
              "outlinewidth": 0,
              "ticks": ""
             }
            },
            "type": "scatterternary"
           }
          ],
          "surface": [
           {
            "colorbar": {
             "outlinewidth": 0,
             "ticks": ""
            },
            "colorscale": [
             [
              0,
              "#0d0887"
             ],
             [
              0.1111111111111111,
              "#46039f"
             ],
             [
              0.2222222222222222,
              "#7201a8"
             ],
             [
              0.3333333333333333,
              "#9c179e"
             ],
             [
              0.4444444444444444,
              "#bd3786"
             ],
             [
              0.5555555555555556,
              "#d8576b"
             ],
             [
              0.6666666666666666,
              "#ed7953"
             ],
             [
              0.7777777777777778,
              "#fb9f3a"
             ],
             [
              0.8888888888888888,
              "#fdca26"
             ],
             [
              1,
              "#f0f921"
             ]
            ],
            "type": "surface"
           }
          ],
          "table": [
           {
            "cells": {
             "fill": {
              "color": "#EBF0F8"
             },
             "line": {
              "color": "white"
             }
            },
            "header": {
             "fill": {
              "color": "#C8D4E3"
             },
             "line": {
              "color": "white"
             }
            },
            "type": "table"
           }
          ]
         },
         "layout": {
          "annotationdefaults": {
           "arrowcolor": "#2a3f5f",
           "arrowhead": 0,
           "arrowwidth": 1
          },
          "autotypenumbers": "strict",
          "coloraxis": {
           "colorbar": {
            "outlinewidth": 0,
            "ticks": ""
           }
          },
          "colorscale": {
           "diverging": [
            [
             0,
             "#8e0152"
            ],
            [
             0.1,
             "#c51b7d"
            ],
            [
             0.2,
             "#de77ae"
            ],
            [
             0.3,
             "#f1b6da"
            ],
            [
             0.4,
             "#fde0ef"
            ],
            [
             0.5,
             "#f7f7f7"
            ],
            [
             0.6,
             "#e6f5d0"
            ],
            [
             0.7,
             "#b8e186"
            ],
            [
             0.8,
             "#7fbc41"
            ],
            [
             0.9,
             "#4d9221"
            ],
            [
             1,
             "#276419"
            ]
           ],
           "sequential": [
            [
             0,
             "#0d0887"
            ],
            [
             0.1111111111111111,
             "#46039f"
            ],
            [
             0.2222222222222222,
             "#7201a8"
            ],
            [
             0.3333333333333333,
             "#9c179e"
            ],
            [
             0.4444444444444444,
             "#bd3786"
            ],
            [
             0.5555555555555556,
             "#d8576b"
            ],
            [
             0.6666666666666666,
             "#ed7953"
            ],
            [
             0.7777777777777778,
             "#fb9f3a"
            ],
            [
             0.8888888888888888,
             "#fdca26"
            ],
            [
             1,
             "#f0f921"
            ]
           ],
           "sequentialminus": [
            [
             0,
             "#0d0887"
            ],
            [
             0.1111111111111111,
             "#46039f"
            ],
            [
             0.2222222222222222,
             "#7201a8"
            ],
            [
             0.3333333333333333,
             "#9c179e"
            ],
            [
             0.4444444444444444,
             "#bd3786"
            ],
            [
             0.5555555555555556,
             "#d8576b"
            ],
            [
             0.6666666666666666,
             "#ed7953"
            ],
            [
             0.7777777777777778,
             "#fb9f3a"
            ],
            [
             0.8888888888888888,
             "#fdca26"
            ],
            [
             1,
             "#f0f921"
            ]
           ]
          },
          "colorway": [
           "#636efa",
           "#EF553B",
           "#00cc96",
           "#ab63fa",
           "#FFA15A",
           "#19d3f3",
           "#FF6692",
           "#B6E880",
           "#FF97FF",
           "#FECB52"
          ],
          "font": {
           "color": "#2a3f5f"
          },
          "geo": {
           "bgcolor": "white",
           "lakecolor": "white",
           "landcolor": "#E5ECF6",
           "showlakes": true,
           "showland": true,
           "subunitcolor": "white"
          },
          "hoverlabel": {
           "align": "left"
          },
          "hovermode": "closest",
          "mapbox": {
           "style": "light"
          },
          "paper_bgcolor": "white",
          "plot_bgcolor": "#E5ECF6",
          "polar": {
           "angularaxis": {
            "gridcolor": "white",
            "linecolor": "white",
            "ticks": ""
           },
           "bgcolor": "#E5ECF6",
           "radialaxis": {
            "gridcolor": "white",
            "linecolor": "white",
            "ticks": ""
           }
          },
          "scene": {
           "xaxis": {
            "backgroundcolor": "#E5ECF6",
            "gridcolor": "white",
            "gridwidth": 2,
            "linecolor": "white",
            "showbackground": true,
            "ticks": "",
            "zerolinecolor": "white"
           },
           "yaxis": {
            "backgroundcolor": "#E5ECF6",
            "gridcolor": "white",
            "gridwidth": 2,
            "linecolor": "white",
            "showbackground": true,
            "ticks": "",
            "zerolinecolor": "white"
           },
           "zaxis": {
            "backgroundcolor": "#E5ECF6",
            "gridcolor": "white",
            "gridwidth": 2,
            "linecolor": "white",
            "showbackground": true,
            "ticks": "",
            "zerolinecolor": "white"
           }
          },
          "shapedefaults": {
           "line": {
            "color": "#2a3f5f"
           }
          },
          "ternary": {
           "aaxis": {
            "gridcolor": "white",
            "linecolor": "white",
            "ticks": ""
           },
           "baxis": {
            "gridcolor": "white",
            "linecolor": "white",
            "ticks": ""
           },
           "bgcolor": "#E5ECF6",
           "caxis": {
            "gridcolor": "white",
            "linecolor": "white",
            "ticks": ""
           }
          },
          "title": {
           "x": 0.05
          },
          "xaxis": {
           "automargin": true,
           "gridcolor": "white",
           "linecolor": "white",
           "ticks": "",
           "title": {
            "standoff": 15
           },
           "zerolinecolor": "white",
           "zerolinewidth": 2
          },
          "yaxis": {
           "automargin": true,
           "gridcolor": "white",
           "linecolor": "white",
           "ticks": "",
           "title": {
            "standoff": 15
           },
           "zerolinecolor": "white",
           "zerolinewidth": 2
          }
         }
        },
        "title": {
         "text": "Diklofenak"
        },
        "xaxis": {
         "anchor": "y",
         "domain": [
          0,
          1
         ],
         "tickangle": 45,
         "title": {
          "text": "LIEK_popis"
         }
        },
        "yaxis": {
         "anchor": "x",
         "domain": [
          0,
          1
         ],
         "title": {
          "text": "Počet balení"
         }
        }
       }
      }
     },
     "metadata": {}
    }
   ],
   "source": [
    "fig = px.scatter(diklofenak, x='LIEK_popis', y='Počet balení', size='Cena úhrada_PAC/bal', color='STAT_popis', title='Diklofenak')\n",
    "fig.update_xaxes(tickangle=45)\n",
    "fig.show()"
   ]
  },
  {
   "source": [
    "Z grafu vidime, ze najpredavanejsi je slovensky Flector Ep rapid za priemernu cenu. V tejto oblasti su bohato zastupene slovenske a ceske lieky."
   ],
   "cell_type": "markdown",
   "metadata": {}
  },
  {
   "source": [
    "# 9. Metamizol, sodna sol"
   ],
   "cell_type": "markdown",
   "metadata": {}
  },
  {
   "cell_type": "code",
   "execution_count": 100,
   "metadata": {},
   "outputs": [
    {
     "output_type": "display_data",
     "data": {
      "text/plain": "           LIEK_popis STAT_popis                    VYROBCA_popis  index  \\\n0      METAMISTAD tbl    Nemecko            STADA Arzneimittel AG  12509   \n1       Metamilan tbl    Rakúsko                  G.L.Pharma GmbH   6249   \n2     Metamizol Stada    Nemecko            STADA Arzneimittel AG  12513   \n3      Metamizol Teva  Holandsko                        TEV-NL-4?   6244   \n4  Metamizole Kalceks   Lotyšsko                       AS KALCEKS  12501   \n5    NOVALGIN sol inj    Nemecko  Aventis Pharma Deutschland GmbH   6253   \n6    NOVALGIN sol inj  Slovensko   sanofi-aventis Slovakia s.r.o.  12491   \n7        NOVALGIN tbl  Slovensko   sanofi-aventis Slovakia s.r.o.  12495   \n8        NOVALGIN tbl  Taliansko            Aventis Pharma S.p.A.   6252   \n\n   Počet balení  Úhrada_PAC  Cena úhrada_PAC/bal  \n0    183829.997    74327.59             0.404328  \n1     32683.300     8515.62             0.260550  \n2    112570.900    96246.06             0.854982  \n3         1.000        0.10             0.100000  \n4     56516.500     1313.88             0.023248  \n5         3.000        0.00             0.000000  \n6    218420.700   162095.26             0.742124  \n7   1342223.310  1574153.23             1.172795  \n8         2.000        4.24             2.120000  ",
      "text/html": "<div>\n<style scoped>\n    .dataframe tbody tr th:only-of-type {\n        vertical-align: middle;\n    }\n\n    .dataframe tbody tr th {\n        vertical-align: top;\n    }\n\n    .dataframe thead th {\n        text-align: right;\n    }\n</style>\n<table border=\"1\" class=\"dataframe\">\n  <thead>\n    <tr style=\"text-align: right;\">\n      <th></th>\n      <th>LIEK_popis</th>\n      <th>STAT_popis</th>\n      <th>VYROBCA_popis</th>\n      <th>index</th>\n      <th>Počet balení</th>\n      <th>Úhrada_PAC</th>\n      <th>Cena úhrada_PAC/bal</th>\n    </tr>\n  </thead>\n  <tbody>\n    <tr>\n      <th>0</th>\n      <td>METAMISTAD tbl</td>\n      <td>Nemecko</td>\n      <td>STADA Arzneimittel AG</td>\n      <td>12509</td>\n      <td>183829.997</td>\n      <td>74327.59</td>\n      <td>0.404328</td>\n    </tr>\n    <tr>\n      <th>1</th>\n      <td>Metamilan tbl</td>\n      <td>Rakúsko</td>\n      <td>G.L.Pharma GmbH</td>\n      <td>6249</td>\n      <td>32683.300</td>\n      <td>8515.62</td>\n      <td>0.260550</td>\n    </tr>\n    <tr>\n      <th>2</th>\n      <td>Metamizol Stada</td>\n      <td>Nemecko</td>\n      <td>STADA Arzneimittel AG</td>\n      <td>12513</td>\n      <td>112570.900</td>\n      <td>96246.06</td>\n      <td>0.854982</td>\n    </tr>\n    <tr>\n      <th>3</th>\n      <td>Metamizol Teva</td>\n      <td>Holandsko</td>\n      <td>TEV-NL-4?</td>\n      <td>6244</td>\n      <td>1.000</td>\n      <td>0.10</td>\n      <td>0.100000</td>\n    </tr>\n    <tr>\n      <th>4</th>\n      <td>Metamizole Kalceks</td>\n      <td>Lotyšsko</td>\n      <td>AS KALCEKS</td>\n      <td>12501</td>\n      <td>56516.500</td>\n      <td>1313.88</td>\n      <td>0.023248</td>\n    </tr>\n    <tr>\n      <th>5</th>\n      <td>NOVALGIN sol inj</td>\n      <td>Nemecko</td>\n      <td>Aventis Pharma Deutschland GmbH</td>\n      <td>6253</td>\n      <td>3.000</td>\n      <td>0.00</td>\n      <td>0.000000</td>\n    </tr>\n    <tr>\n      <th>6</th>\n      <td>NOVALGIN sol inj</td>\n      <td>Slovensko</td>\n      <td>sanofi-aventis Slovakia s.r.o.</td>\n      <td>12491</td>\n      <td>218420.700</td>\n      <td>162095.26</td>\n      <td>0.742124</td>\n    </tr>\n    <tr>\n      <th>7</th>\n      <td>NOVALGIN tbl</td>\n      <td>Slovensko</td>\n      <td>sanofi-aventis Slovakia s.r.o.</td>\n      <td>12495</td>\n      <td>1342223.310</td>\n      <td>1574153.23</td>\n      <td>1.172795</td>\n    </tr>\n    <tr>\n      <th>8</th>\n      <td>NOVALGIN tbl</td>\n      <td>Taliansko</td>\n      <td>Aventis Pharma S.p.A.</td>\n      <td>6252</td>\n      <td>2.000</td>\n      <td>4.24</td>\n      <td>2.120000</td>\n    </tr>\n  </tbody>\n</table>\n</div>"
     },
     "metadata": {}
    }
   ],
   "source": [
    "\n",
    "metamizol = top20tab[\"N02BB02\"].sort_values(by='Počet balení', ascending=False)\n",
    "\n",
    "for i,popis in enumerate(metamizol['LIEK_popis']):\n",
    "    if 'METAMISTAD' in popis:\n",
    "        metamizol.iloc[i,4] = 'METAMISTAD tbl'\n",
    "    elif 'Metamilan' in popis:\n",
    "        metamizol.iloc[i,4] = 'Metamilan tbl'\n",
    "    elif 'Metamizol Stada' in popis:\n",
    "        metamizol.iloc[i,4] = 'Metamizol Stada'\n",
    "    elif 'Metamizol Teva' in popis:\n",
    "        metamizol.iloc[i,4] = 'Metamizol Teva'\n",
    "    elif 'Metamizole Kalceks' in popis:\n",
    "        metamizol.iloc[i,4] = 'Metamizole Kalceks'\n",
    "    elif 'NOVALGIN' in popis and 'tbl' in popis:\n",
    "        metamizol.iloc[i,4] = 'NOVALGIN tbl'\n",
    "    elif 'NOVALGIN' in popis:\n",
    "        metamizol.iloc[i,4] = 'NOVALGIN sol inj'\n",
    "    \n",
    "\n",
    "metamizol = metamizol.groupby(['LIEK_popis', 'STAT_popis', 'VYROBCA_popis']).sum().reset_index()\n",
    "metamizol['Cena úhrada_PAC/bal'] = metamizol['Úhrada_PAC'] / metamizol['Počet balení']\n",
    "\n",
    "display(metamizol.sort_values(by='LIEK_popis'))"
   ]
  },
  {
   "cell_type": "code",
   "execution_count": 102,
   "metadata": {},
   "outputs": [
    {
     "output_type": "display_data",
     "data": {
      "application/vnd.plotly.v1+json": {
       "config": {
        "plotlyServerURL": "https://plot.ly"
       },
       "data": [
        {
         "hovertemplate": "STAT_popis=Nemecko<br>LIEK_popis=%{x}<br>Počet balení=%{y}<br>Cena úhrada_PAC/bal=%{marker.size}<extra></extra>",
         "legendgroup": "Nemecko",
         "marker": {
          "color": "#636efa",
          "size": [
           0.404327863857823,
           0.854981704863335,
           0
          ],
          "sizemode": "area",
          "sizeref": 0.0053,
          "symbol": "circle"
         },
         "mode": "markers",
         "name": "Nemecko",
         "orientation": "v",
         "showlegend": true,
         "type": "scatter",
         "x": [
          "METAMISTAD tbl",
          "Metamizol Stada",
          "NOVALGIN sol inj"
         ],
         "xaxis": "x",
         "y": [
          183829.99699999997,
          112570.9,
          3
         ],
         "yaxis": "y"
        },
        {
         "hovertemplate": "STAT_popis=Rakúsko<br>LIEK_popis=%{x}<br>Počet balení=%{y}<br>Cena úhrada_PAC/bal=%{marker.size}<extra></extra>",
         "legendgroup": "Rakúsko",
         "marker": {
          "color": "#EF553B",
          "size": [
           0.2605495773070651
          ],
          "sizemode": "area",
          "sizeref": 0.0053,
          "symbol": "circle"
         },
         "mode": "markers",
         "name": "Rakúsko",
         "orientation": "v",
         "showlegend": true,
         "type": "scatter",
         "x": [
          "Metamilan tbl"
         ],
         "xaxis": "x",
         "y": [
          32683.3
         ],
         "yaxis": "y"
        },
        {
         "hovertemplate": "STAT_popis=Holandsko<br>LIEK_popis=%{x}<br>Počet balení=%{y}<br>Cena úhrada_PAC/bal=%{marker.size}<extra></extra>",
         "legendgroup": "Holandsko",
         "marker": {
          "color": "#00cc96",
          "size": [
           0.1
          ],
          "sizemode": "area",
          "sizeref": 0.0053,
          "symbol": "circle"
         },
         "mode": "markers",
         "name": "Holandsko",
         "orientation": "v",
         "showlegend": true,
         "type": "scatter",
         "x": [
          "Metamizol Teva"
         ],
         "xaxis": "x",
         "y": [
          1
         ],
         "yaxis": "y"
        },
        {
         "hovertemplate": "STAT_popis=Lotyšsko<br>LIEK_popis=%{x}<br>Počet balení=%{y}<br>Cena úhrada_PAC/bal=%{marker.size}<extra></extra>",
         "legendgroup": "Lotyšsko",
         "marker": {
          "color": "#ab63fa",
          "size": [
           0.023247724115966137
          ],
          "sizemode": "area",
          "sizeref": 0.0053,
          "symbol": "circle"
         },
         "mode": "markers",
         "name": "Lotyšsko",
         "orientation": "v",
         "showlegend": true,
         "type": "scatter",
         "x": [
          "Metamizole Kalceks"
         ],
         "xaxis": "x",
         "y": [
          56516.5
         ],
         "yaxis": "y"
        },
        {
         "hovertemplate": "STAT_popis=Slovensko<br>LIEK_popis=%{x}<br>Počet balení=%{y}<br>Cena úhrada_PAC/bal=%{marker.size}<extra></extra>",
         "legendgroup": "Slovensko",
         "marker": {
          "color": "#FFA15A",
          "size": [
           0.7421240752364587,
           1.172795330160076
          ],
          "sizemode": "area",
          "sizeref": 0.0053,
          "symbol": "circle"
         },
         "mode": "markers",
         "name": "Slovensko",
         "orientation": "v",
         "showlegend": true,
         "type": "scatter",
         "x": [
          "NOVALGIN sol inj",
          "NOVALGIN tbl"
         ],
         "xaxis": "x",
         "y": [
          218420.7,
          1342223.31
         ],
         "yaxis": "y"
        },
        {
         "hovertemplate": "STAT_popis=Taliansko<br>LIEK_popis=%{x}<br>Počet balení=%{y}<br>Cena úhrada_PAC/bal=%{marker.size}<extra></extra>",
         "legendgroup": "Taliansko",
         "marker": {
          "color": "#19d3f3",
          "size": [
           2.12
          ],
          "sizemode": "area",
          "sizeref": 0.0053,
          "symbol": "circle"
         },
         "mode": "markers",
         "name": "Taliansko",
         "orientation": "v",
         "showlegend": true,
         "type": "scatter",
         "x": [
          "NOVALGIN tbl"
         ],
         "xaxis": "x",
         "y": [
          2
         ],
         "yaxis": "y"
        }
       ],
       "layout": {
        "legend": {
         "itemsizing": "constant",
         "title": {
          "text": "STAT_popis"
         },
         "tracegroupgap": 0
        },
        "template": {
         "data": {
          "bar": [
           {
            "error_x": {
             "color": "#2a3f5f"
            },
            "error_y": {
             "color": "#2a3f5f"
            },
            "marker": {
             "line": {
              "color": "#E5ECF6",
              "width": 0.5
             }
            },
            "type": "bar"
           }
          ],
          "barpolar": [
           {
            "marker": {
             "line": {
              "color": "#E5ECF6",
              "width": 0.5
             }
            },
            "type": "barpolar"
           }
          ],
          "carpet": [
           {
            "aaxis": {
             "endlinecolor": "#2a3f5f",
             "gridcolor": "white",
             "linecolor": "white",
             "minorgridcolor": "white",
             "startlinecolor": "#2a3f5f"
            },
            "baxis": {
             "endlinecolor": "#2a3f5f",
             "gridcolor": "white",
             "linecolor": "white",
             "minorgridcolor": "white",
             "startlinecolor": "#2a3f5f"
            },
            "type": "carpet"
           }
          ],
          "choropleth": [
           {
            "colorbar": {
             "outlinewidth": 0,
             "ticks": ""
            },
            "type": "choropleth"
           }
          ],
          "contour": [
           {
            "colorbar": {
             "outlinewidth": 0,
             "ticks": ""
            },
            "colorscale": [
             [
              0,
              "#0d0887"
             ],
             [
              0.1111111111111111,
              "#46039f"
             ],
             [
              0.2222222222222222,
              "#7201a8"
             ],
             [
              0.3333333333333333,
              "#9c179e"
             ],
             [
              0.4444444444444444,
              "#bd3786"
             ],
             [
              0.5555555555555556,
              "#d8576b"
             ],
             [
              0.6666666666666666,
              "#ed7953"
             ],
             [
              0.7777777777777778,
              "#fb9f3a"
             ],
             [
              0.8888888888888888,
              "#fdca26"
             ],
             [
              1,
              "#f0f921"
             ]
            ],
            "type": "contour"
           }
          ],
          "contourcarpet": [
           {
            "colorbar": {
             "outlinewidth": 0,
             "ticks": ""
            },
            "type": "contourcarpet"
           }
          ],
          "heatmap": [
           {
            "colorbar": {
             "outlinewidth": 0,
             "ticks": ""
            },
            "colorscale": [
             [
              0,
              "#0d0887"
             ],
             [
              0.1111111111111111,
              "#46039f"
             ],
             [
              0.2222222222222222,
              "#7201a8"
             ],
             [
              0.3333333333333333,
              "#9c179e"
             ],
             [
              0.4444444444444444,
              "#bd3786"
             ],
             [
              0.5555555555555556,
              "#d8576b"
             ],
             [
              0.6666666666666666,
              "#ed7953"
             ],
             [
              0.7777777777777778,
              "#fb9f3a"
             ],
             [
              0.8888888888888888,
              "#fdca26"
             ],
             [
              1,
              "#f0f921"
             ]
            ],
            "type": "heatmap"
           }
          ],
          "heatmapgl": [
           {
            "colorbar": {
             "outlinewidth": 0,
             "ticks": ""
            },
            "colorscale": [
             [
              0,
              "#0d0887"
             ],
             [
              0.1111111111111111,
              "#46039f"
             ],
             [
              0.2222222222222222,
              "#7201a8"
             ],
             [
              0.3333333333333333,
              "#9c179e"
             ],
             [
              0.4444444444444444,
              "#bd3786"
             ],
             [
              0.5555555555555556,
              "#d8576b"
             ],
             [
              0.6666666666666666,
              "#ed7953"
             ],
             [
              0.7777777777777778,
              "#fb9f3a"
             ],
             [
              0.8888888888888888,
              "#fdca26"
             ],
             [
              1,
              "#f0f921"
             ]
            ],
            "type": "heatmapgl"
           }
          ],
          "histogram": [
           {
            "marker": {
             "colorbar": {
              "outlinewidth": 0,
              "ticks": ""
             }
            },
            "type": "histogram"
           }
          ],
          "histogram2d": [
           {
            "colorbar": {
             "outlinewidth": 0,
             "ticks": ""
            },
            "colorscale": [
             [
              0,
              "#0d0887"
             ],
             [
              0.1111111111111111,
              "#46039f"
             ],
             [
              0.2222222222222222,
              "#7201a8"
             ],
             [
              0.3333333333333333,
              "#9c179e"
             ],
             [
              0.4444444444444444,
              "#bd3786"
             ],
             [
              0.5555555555555556,
              "#d8576b"
             ],
             [
              0.6666666666666666,
              "#ed7953"
             ],
             [
              0.7777777777777778,
              "#fb9f3a"
             ],
             [
              0.8888888888888888,
              "#fdca26"
             ],
             [
              1,
              "#f0f921"
             ]
            ],
            "type": "histogram2d"
           }
          ],
          "histogram2dcontour": [
           {
            "colorbar": {
             "outlinewidth": 0,
             "ticks": ""
            },
            "colorscale": [
             [
              0,
              "#0d0887"
             ],
             [
              0.1111111111111111,
              "#46039f"
             ],
             [
              0.2222222222222222,
              "#7201a8"
             ],
             [
              0.3333333333333333,
              "#9c179e"
             ],
             [
              0.4444444444444444,
              "#bd3786"
             ],
             [
              0.5555555555555556,
              "#d8576b"
             ],
             [
              0.6666666666666666,
              "#ed7953"
             ],
             [
              0.7777777777777778,
              "#fb9f3a"
             ],
             [
              0.8888888888888888,
              "#fdca26"
             ],
             [
              1,
              "#f0f921"
             ]
            ],
            "type": "histogram2dcontour"
           }
          ],
          "mesh3d": [
           {
            "colorbar": {
             "outlinewidth": 0,
             "ticks": ""
            },
            "type": "mesh3d"
           }
          ],
          "parcoords": [
           {
            "line": {
             "colorbar": {
              "outlinewidth": 0,
              "ticks": ""
             }
            },
            "type": "parcoords"
           }
          ],
          "pie": [
           {
            "automargin": true,
            "type": "pie"
           }
          ],
          "scatter": [
           {
            "marker": {
             "colorbar": {
              "outlinewidth": 0,
              "ticks": ""
             }
            },
            "type": "scatter"
           }
          ],
          "scatter3d": [
           {
            "line": {
             "colorbar": {
              "outlinewidth": 0,
              "ticks": ""
             }
            },
            "marker": {
             "colorbar": {
              "outlinewidth": 0,
              "ticks": ""
             }
            },
            "type": "scatter3d"
           }
          ],
          "scattercarpet": [
           {
            "marker": {
             "colorbar": {
              "outlinewidth": 0,
              "ticks": ""
             }
            },
            "type": "scattercarpet"
           }
          ],
          "scattergeo": [
           {
            "marker": {
             "colorbar": {
              "outlinewidth": 0,
              "ticks": ""
             }
            },
            "type": "scattergeo"
           }
          ],
          "scattergl": [
           {
            "marker": {
             "colorbar": {
              "outlinewidth": 0,
              "ticks": ""
             }
            },
            "type": "scattergl"
           }
          ],
          "scattermapbox": [
           {
            "marker": {
             "colorbar": {
              "outlinewidth": 0,
              "ticks": ""
             }
            },
            "type": "scattermapbox"
           }
          ],
          "scatterpolar": [
           {
            "marker": {
             "colorbar": {
              "outlinewidth": 0,
              "ticks": ""
             }
            },
            "type": "scatterpolar"
           }
          ],
          "scatterpolargl": [
           {
            "marker": {
             "colorbar": {
              "outlinewidth": 0,
              "ticks": ""
             }
            },
            "type": "scatterpolargl"
           }
          ],
          "scatterternary": [
           {
            "marker": {
             "colorbar": {
              "outlinewidth": 0,
              "ticks": ""
             }
            },
            "type": "scatterternary"
           }
          ],
          "surface": [
           {
            "colorbar": {
             "outlinewidth": 0,
             "ticks": ""
            },
            "colorscale": [
             [
              0,
              "#0d0887"
             ],
             [
              0.1111111111111111,
              "#46039f"
             ],
             [
              0.2222222222222222,
              "#7201a8"
             ],
             [
              0.3333333333333333,
              "#9c179e"
             ],
             [
              0.4444444444444444,
              "#bd3786"
             ],
             [
              0.5555555555555556,
              "#d8576b"
             ],
             [
              0.6666666666666666,
              "#ed7953"
             ],
             [
              0.7777777777777778,
              "#fb9f3a"
             ],
             [
              0.8888888888888888,
              "#fdca26"
             ],
             [
              1,
              "#f0f921"
             ]
            ],
            "type": "surface"
           }
          ],
          "table": [
           {
            "cells": {
             "fill": {
              "color": "#EBF0F8"
             },
             "line": {
              "color": "white"
             }
            },
            "header": {
             "fill": {
              "color": "#C8D4E3"
             },
             "line": {
              "color": "white"
             }
            },
            "type": "table"
           }
          ]
         },
         "layout": {
          "annotationdefaults": {
           "arrowcolor": "#2a3f5f",
           "arrowhead": 0,
           "arrowwidth": 1
          },
          "autotypenumbers": "strict",
          "coloraxis": {
           "colorbar": {
            "outlinewidth": 0,
            "ticks": ""
           }
          },
          "colorscale": {
           "diverging": [
            [
             0,
             "#8e0152"
            ],
            [
             0.1,
             "#c51b7d"
            ],
            [
             0.2,
             "#de77ae"
            ],
            [
             0.3,
             "#f1b6da"
            ],
            [
             0.4,
             "#fde0ef"
            ],
            [
             0.5,
             "#f7f7f7"
            ],
            [
             0.6,
             "#e6f5d0"
            ],
            [
             0.7,
             "#b8e186"
            ],
            [
             0.8,
             "#7fbc41"
            ],
            [
             0.9,
             "#4d9221"
            ],
            [
             1,
             "#276419"
            ]
           ],
           "sequential": [
            [
             0,
             "#0d0887"
            ],
            [
             0.1111111111111111,
             "#46039f"
            ],
            [
             0.2222222222222222,
             "#7201a8"
            ],
            [
             0.3333333333333333,
             "#9c179e"
            ],
            [
             0.4444444444444444,
             "#bd3786"
            ],
            [
             0.5555555555555556,
             "#d8576b"
            ],
            [
             0.6666666666666666,
             "#ed7953"
            ],
            [
             0.7777777777777778,
             "#fb9f3a"
            ],
            [
             0.8888888888888888,
             "#fdca26"
            ],
            [
             1,
             "#f0f921"
            ]
           ],
           "sequentialminus": [
            [
             0,
             "#0d0887"
            ],
            [
             0.1111111111111111,
             "#46039f"
            ],
            [
             0.2222222222222222,
             "#7201a8"
            ],
            [
             0.3333333333333333,
             "#9c179e"
            ],
            [
             0.4444444444444444,
             "#bd3786"
            ],
            [
             0.5555555555555556,
             "#d8576b"
            ],
            [
             0.6666666666666666,
             "#ed7953"
            ],
            [
             0.7777777777777778,
             "#fb9f3a"
            ],
            [
             0.8888888888888888,
             "#fdca26"
            ],
            [
             1,
             "#f0f921"
            ]
           ]
          },
          "colorway": [
           "#636efa",
           "#EF553B",
           "#00cc96",
           "#ab63fa",
           "#FFA15A",
           "#19d3f3",
           "#FF6692",
           "#B6E880",
           "#FF97FF",
           "#FECB52"
          ],
          "font": {
           "color": "#2a3f5f"
          },
          "geo": {
           "bgcolor": "white",
           "lakecolor": "white",
           "landcolor": "#E5ECF6",
           "showlakes": true,
           "showland": true,
           "subunitcolor": "white"
          },
          "hoverlabel": {
           "align": "left"
          },
          "hovermode": "closest",
          "mapbox": {
           "style": "light"
          },
          "paper_bgcolor": "white",
          "plot_bgcolor": "#E5ECF6",
          "polar": {
           "angularaxis": {
            "gridcolor": "white",
            "linecolor": "white",
            "ticks": ""
           },
           "bgcolor": "#E5ECF6",
           "radialaxis": {
            "gridcolor": "white",
            "linecolor": "white",
            "ticks": ""
           }
          },
          "scene": {
           "xaxis": {
            "backgroundcolor": "#E5ECF6",
            "gridcolor": "white",
            "gridwidth": 2,
            "linecolor": "white",
            "showbackground": true,
            "ticks": "",
            "zerolinecolor": "white"
           },
           "yaxis": {
            "backgroundcolor": "#E5ECF6",
            "gridcolor": "white",
            "gridwidth": 2,
            "linecolor": "white",
            "showbackground": true,
            "ticks": "",
            "zerolinecolor": "white"
           },
           "zaxis": {
            "backgroundcolor": "#E5ECF6",
            "gridcolor": "white",
            "gridwidth": 2,
            "linecolor": "white",
            "showbackground": true,
            "ticks": "",
            "zerolinecolor": "white"
           }
          },
          "shapedefaults": {
           "line": {
            "color": "#2a3f5f"
           }
          },
          "ternary": {
           "aaxis": {
            "gridcolor": "white",
            "linecolor": "white",
            "ticks": ""
           },
           "baxis": {
            "gridcolor": "white",
            "linecolor": "white",
            "ticks": ""
           },
           "bgcolor": "#E5ECF6",
           "caxis": {
            "gridcolor": "white",
            "linecolor": "white",
            "ticks": ""
           }
          },
          "title": {
           "x": 0.05
          },
          "xaxis": {
           "automargin": true,
           "gridcolor": "white",
           "linecolor": "white",
           "ticks": "",
           "title": {
            "standoff": 15
           },
           "zerolinecolor": "white",
           "zerolinewidth": 2
          },
          "yaxis": {
           "automargin": true,
           "gridcolor": "white",
           "linecolor": "white",
           "ticks": "",
           "title": {
            "standoff": 15
           },
           "zerolinecolor": "white",
           "zerolinewidth": 2
          }
         }
        },
        "title": {
         "text": "Metamizol, sodna sol"
        },
        "xaxis": {
         "anchor": "y",
         "domain": [
          0,
          1
         ],
         "tickangle": 45,
         "title": {
          "text": "LIEK_popis"
         }
        },
        "yaxis": {
         "anchor": "x",
         "domain": [
          0,
          1
         ],
         "title": {
          "text": "Počet balení"
         }
        }
       }
      }
     },
     "metadata": {}
    }
   ],
   "source": [
    "fig = px.scatter(metamizol, x='LIEK_popis', y='Počet balení', size='Cena úhrada_PAC/bal', color='STAT_popis', title='Metamizol, sodna sol')\n",
    "fig.update_xaxes(tickangle=45)\n",
    "fig.show()"
   ]
  },
  {
   "cell_type": "code",
   "execution_count": null,
   "metadata": {},
   "outputs": [],
   "source": [
    "Z grafu vidime, ze napriek tomu, ze na trhu je slovensky aj taliansky Novalgin v tabletach, taliansky s atakmer nepredava a slovensky sa predava zo vsetkych liekov najviac. Takisto si mozeme vsimnut ze pacient priemerne zaplati menej sa slovensky ako taliansky Novalgin."
   ]
  },
  {
   "source": [
    "# 10. Kyselina acetylsalicylova"
   ],
   "cell_type": "markdown",
   "metadata": {}
  },
  {
   "cell_type": "code",
   "execution_count": 106,
   "metadata": {},
   "outputs": [
    {
     "output_type": "display_data",
     "data": {
      "text/plain": "                         LIEK_popis STAT_popis  \\\n0                          ANOPYRIN  Slovensko   \n1                   ASPIRIN PROTECT  Slovensko   \n2                         CARDIORAL  Slovensko   \n3                            Gerasa    Rakúsko   \n4  Kyselina acetylsalicylová Xantis     Cyprus   \n5                         Preventax  Holandsko   \n6                        STADAPYRIN    Nemecko   \n7                         Vasopirin      Česko   \n\n                        VYROBCA_popis  index  Počet balení  Úhrada_PAC  \\\n0                           ZNT-SK-2?   6040   1089219.322  2058022.70   \n1                 Bayer, spol. s.r.o.   3986    329049.400   877523.76   \n2                IBSA Slovakia s.r.o.   1015         4.000      186.87   \n3                     G.L.Pharma GmbH   2027      3931.160     6697.88   \n4               XANTIS PHARMA LIMITED   2019     10972.540    11696.24   \n5                           TEV-NL-4?   1016     76991.310   215135.04   \n6               STADA Arzneimittel AG   2010    201492.075   554253.19   \n7  PharmaSwiss Česká republika s.r.o.   5025     39774.200    79233.23   \n\n   Cena úhrada_PAC/bal  \n0             1.889447  \n1             2.666845  \n2            46.717500  \n3             1.703792  \n4             1.065956  \n5             2.794277  \n6             2.750744  \n7             1.992076  ",
      "text/html": "<div>\n<style scoped>\n    .dataframe tbody tr th:only-of-type {\n        vertical-align: middle;\n    }\n\n    .dataframe tbody tr th {\n        vertical-align: top;\n    }\n\n    .dataframe thead th {\n        text-align: right;\n    }\n</style>\n<table border=\"1\" class=\"dataframe\">\n  <thead>\n    <tr style=\"text-align: right;\">\n      <th></th>\n      <th>LIEK_popis</th>\n      <th>STAT_popis</th>\n      <th>VYROBCA_popis</th>\n      <th>index</th>\n      <th>Počet balení</th>\n      <th>Úhrada_PAC</th>\n      <th>Cena úhrada_PAC/bal</th>\n    </tr>\n  </thead>\n  <tbody>\n    <tr>\n      <th>0</th>\n      <td>ANOPYRIN</td>\n      <td>Slovensko</td>\n      <td>ZNT-SK-2?</td>\n      <td>6040</td>\n      <td>1089219.322</td>\n      <td>2058022.70</td>\n      <td>1.889447</td>\n    </tr>\n    <tr>\n      <th>1</th>\n      <td>ASPIRIN PROTECT</td>\n      <td>Slovensko</td>\n      <td>Bayer, spol. s.r.o.</td>\n      <td>3986</td>\n      <td>329049.400</td>\n      <td>877523.76</td>\n      <td>2.666845</td>\n    </tr>\n    <tr>\n      <th>2</th>\n      <td>CARDIORAL</td>\n      <td>Slovensko</td>\n      <td>IBSA Slovakia s.r.o.</td>\n      <td>1015</td>\n      <td>4.000</td>\n      <td>186.87</td>\n      <td>46.717500</td>\n    </tr>\n    <tr>\n      <th>3</th>\n      <td>Gerasa</td>\n      <td>Rakúsko</td>\n      <td>G.L.Pharma GmbH</td>\n      <td>2027</td>\n      <td>3931.160</td>\n      <td>6697.88</td>\n      <td>1.703792</td>\n    </tr>\n    <tr>\n      <th>4</th>\n      <td>Kyselina acetylsalicylová Xantis</td>\n      <td>Cyprus</td>\n      <td>XANTIS PHARMA LIMITED</td>\n      <td>2019</td>\n      <td>10972.540</td>\n      <td>11696.24</td>\n      <td>1.065956</td>\n    </tr>\n    <tr>\n      <th>5</th>\n      <td>Preventax</td>\n      <td>Holandsko</td>\n      <td>TEV-NL-4?</td>\n      <td>1016</td>\n      <td>76991.310</td>\n      <td>215135.04</td>\n      <td>2.794277</td>\n    </tr>\n    <tr>\n      <th>6</th>\n      <td>STADAPYRIN</td>\n      <td>Nemecko</td>\n      <td>STADA Arzneimittel AG</td>\n      <td>2010</td>\n      <td>201492.075</td>\n      <td>554253.19</td>\n      <td>2.750744</td>\n    </tr>\n    <tr>\n      <th>7</th>\n      <td>Vasopirin</td>\n      <td>Česko</td>\n      <td>PharmaSwiss Česká republika s.r.o.</td>\n      <td>5025</td>\n      <td>39774.200</td>\n      <td>79233.23</td>\n      <td>1.992076</td>\n    </tr>\n  </tbody>\n</table>\n</div>"
     },
     "metadata": {}
    }
   ],
   "source": [
    "\n",
    "k_acetylsalicylova = top20tab[\"B01AC06\"].sort_values(by='Počet balení', ascending=False)\n",
    "\n",
    "for i,popis in enumerate(k_acetylsalicylova['LIEK_popis']):\n",
    "    if 'ANOPYRIN' in popis:\n",
    "        k_acetylsalicylova.iloc[i,4] = 'ANOPYRIN'\n",
    "    elif 'ASPIRIN PROTECT' in popis:\n",
    "        k_acetylsalicylova.iloc[i,4] = 'ASPIRIN PROTECT'\n",
    "    elif 'CARDIORAL' in popis:\n",
    "        k_acetylsalicylova.iloc[i,4] = 'CARDIORAL'\n",
    "    elif 'Gerasa' in popis:\n",
    "        k_acetylsalicylova.iloc[i,4] = 'Gerasa'\n",
    "    elif 'Kyselina acetylsalicylová Xantis' in popis:\n",
    "        k_acetylsalicylova.iloc[i,4] = 'Kyselina acetylsalicylová Xantis'\n",
    "    elif 'Preventax' in popis:\n",
    "        k_acetylsalicylova.iloc[i,4] = 'Preventax'\n",
    "    elif 'STADAPYRIN' in popis:\n",
    "        k_acetylsalicylova.iloc[i,4] = 'STADAPYRIN'\n",
    "    elif 'Vasopirin' in popis:\n",
    "        k_acetylsalicylova.iloc[i,4] = 'Vasopirin'\n",
    "   \n",
    "\n",
    "k_acetylsalicylova = k_acetylsalicylova.groupby(['LIEK_popis', 'STAT_popis', 'VYROBCA_popis']).sum().reset_index()\n",
    "k_acetylsalicylova['Cena úhrada_PAC/bal'] = k_acetylsalicylova['Úhrada_PAC'] / k_acetylsalicylova['Počet balení']\n",
    "\n",
    "display(k_acetylsalicylova.sort_values(by='LIEK_popis'))"
   ]
  },
  {
   "cell_type": "code",
   "execution_count": 107,
   "metadata": {},
   "outputs": [
    {
     "output_type": "display_data",
     "data": {
      "application/vnd.plotly.v1+json": {
       "config": {
        "plotlyServerURL": "https://plot.ly"
       },
       "data": [
        {
         "hovertemplate": "STAT_popis=Slovensko<br>LIEK_popis=%{x}<br>Počet balení=%{y}<br>Cena úhrada_PAC/bal=%{marker.size}<extra></extra>",
         "legendgroup": "Slovensko",
         "marker": {
          "color": "#636efa",
          "size": [
           1.8894474771353722,
           2.6668450390731606,
           46.7175
          ],
          "sizemode": "area",
          "sizeref": 0.11679375,
          "symbol": "circle"
         },
         "mode": "markers",
         "name": "Slovensko",
         "orientation": "v",
         "showlegend": true,
         "type": "scatter",
         "x": [
          "ANOPYRIN",
          "ASPIRIN PROTECT",
          "CARDIORAL"
         ],
         "xaxis": "x",
         "y": [
          1089219.322,
          329049.4,
          4
         ],
         "yaxis": "y"
        },
        {
         "hovertemplate": "STAT_popis=Rakúsko<br>LIEK_popis=%{x}<br>Počet balení=%{y}<br>Cena úhrada_PAC/bal=%{marker.size}<extra></extra>",
         "legendgroup": "Rakúsko",
         "marker": {
          "color": "#EF553B",
          "size": [
           1.7037922648785595
          ],
          "sizemode": "area",
          "sizeref": 0.11679375,
          "symbol": "circle"
         },
         "mode": "markers",
         "name": "Rakúsko",
         "orientation": "v",
         "showlegend": true,
         "type": "scatter",
         "x": [
          "Gerasa"
         ],
         "xaxis": "x",
         "y": [
          3931.1600000000008
         ],
         "yaxis": "y"
        },
        {
         "hovertemplate": "STAT_popis=Cyprus<br>LIEK_popis=%{x}<br>Počet balení=%{y}<br>Cena úhrada_PAC/bal=%{marker.size}<extra></extra>",
         "legendgroup": "Cyprus",
         "marker": {
          "color": "#00cc96",
          "size": [
           1.0659555581478857
          ],
          "sizemode": "area",
          "sizeref": 0.11679375,
          "symbol": "circle"
         },
         "mode": "markers",
         "name": "Cyprus",
         "orientation": "v",
         "showlegend": true,
         "type": "scatter",
         "x": [
          "Kyselina acetylsalicylová Xantis"
         ],
         "xaxis": "x",
         "y": [
          10972.54
         ],
         "yaxis": "y"
        },
        {
         "hovertemplate": "STAT_popis=Holandsko<br>LIEK_popis=%{x}<br>Počet balení=%{y}<br>Cena úhrada_PAC/bal=%{marker.size}<extra></extra>",
         "legendgroup": "Holandsko",
         "marker": {
          "color": "#ab63fa",
          "size": [
           2.7942769125502602
          ],
          "sizemode": "area",
          "sizeref": 0.11679375,
          "symbol": "circle"
         },
         "mode": "markers",
         "name": "Holandsko",
         "orientation": "v",
         "showlegend": true,
         "type": "scatter",
         "x": [
          "Preventax"
         ],
         "xaxis": "x",
         "y": [
          76991.31000000001
         ],
         "yaxis": "y"
        },
        {
         "hovertemplate": "STAT_popis=Nemecko<br>LIEK_popis=%{x}<br>Počet balení=%{y}<br>Cena úhrada_PAC/bal=%{marker.size}<extra></extra>",
         "legendgroup": "Nemecko",
         "marker": {
          "color": "#FFA15A",
          "size": [
           2.7507443655042016
          ],
          "sizemode": "area",
          "sizeref": 0.11679375,
          "symbol": "circle"
         },
         "mode": "markers",
         "name": "Nemecko",
         "orientation": "v",
         "showlegend": true,
         "type": "scatter",
         "x": [
          "STADAPYRIN"
         ],
         "xaxis": "x",
         "y": [
          201492.075
         ],
         "yaxis": "y"
        },
        {
         "hovertemplate": "STAT_popis=Česko<br>LIEK_popis=%{x}<br>Počet balení=%{y}<br>Cena úhrada_PAC/bal=%{marker.size}<extra></extra>",
         "legendgroup": "Česko",
         "marker": {
          "color": "#19d3f3",
          "size": [
           1.9920760191279774
          ],
          "sizemode": "area",
          "sizeref": 0.11679375,
          "symbol": "circle"
         },
         "mode": "markers",
         "name": "Česko",
         "orientation": "v",
         "showlegend": true,
         "type": "scatter",
         "x": [
          "Vasopirin"
         ],
         "xaxis": "x",
         "y": [
          39774.2
         ],
         "yaxis": "y"
        }
       ],
       "layout": {
        "legend": {
         "itemsizing": "constant",
         "title": {
          "text": "STAT_popis"
         },
         "tracegroupgap": 0
        },
        "template": {
         "data": {
          "bar": [
           {
            "error_x": {
             "color": "#2a3f5f"
            },
            "error_y": {
             "color": "#2a3f5f"
            },
            "marker": {
             "line": {
              "color": "#E5ECF6",
              "width": 0.5
             }
            },
            "type": "bar"
           }
          ],
          "barpolar": [
           {
            "marker": {
             "line": {
              "color": "#E5ECF6",
              "width": 0.5
             }
            },
            "type": "barpolar"
           }
          ],
          "carpet": [
           {
            "aaxis": {
             "endlinecolor": "#2a3f5f",
             "gridcolor": "white",
             "linecolor": "white",
             "minorgridcolor": "white",
             "startlinecolor": "#2a3f5f"
            },
            "baxis": {
             "endlinecolor": "#2a3f5f",
             "gridcolor": "white",
             "linecolor": "white",
             "minorgridcolor": "white",
             "startlinecolor": "#2a3f5f"
            },
            "type": "carpet"
           }
          ],
          "choropleth": [
           {
            "colorbar": {
             "outlinewidth": 0,
             "ticks": ""
            },
            "type": "choropleth"
           }
          ],
          "contour": [
           {
            "colorbar": {
             "outlinewidth": 0,
             "ticks": ""
            },
            "colorscale": [
             [
              0,
              "#0d0887"
             ],
             [
              0.1111111111111111,
              "#46039f"
             ],
             [
              0.2222222222222222,
              "#7201a8"
             ],
             [
              0.3333333333333333,
              "#9c179e"
             ],
             [
              0.4444444444444444,
              "#bd3786"
             ],
             [
              0.5555555555555556,
              "#d8576b"
             ],
             [
              0.6666666666666666,
              "#ed7953"
             ],
             [
              0.7777777777777778,
              "#fb9f3a"
             ],
             [
              0.8888888888888888,
              "#fdca26"
             ],
             [
              1,
              "#f0f921"
             ]
            ],
            "type": "contour"
           }
          ],
          "contourcarpet": [
           {
            "colorbar": {
             "outlinewidth": 0,
             "ticks": ""
            },
            "type": "contourcarpet"
           }
          ],
          "heatmap": [
           {
            "colorbar": {
             "outlinewidth": 0,
             "ticks": ""
            },
            "colorscale": [
             [
              0,
              "#0d0887"
             ],
             [
              0.1111111111111111,
              "#46039f"
             ],
             [
              0.2222222222222222,
              "#7201a8"
             ],
             [
              0.3333333333333333,
              "#9c179e"
             ],
             [
              0.4444444444444444,
              "#bd3786"
             ],
             [
              0.5555555555555556,
              "#d8576b"
             ],
             [
              0.6666666666666666,
              "#ed7953"
             ],
             [
              0.7777777777777778,
              "#fb9f3a"
             ],
             [
              0.8888888888888888,
              "#fdca26"
             ],
             [
              1,
              "#f0f921"
             ]
            ],
            "type": "heatmap"
           }
          ],
          "heatmapgl": [
           {
            "colorbar": {
             "outlinewidth": 0,
             "ticks": ""
            },
            "colorscale": [
             [
              0,
              "#0d0887"
             ],
             [
              0.1111111111111111,
              "#46039f"
             ],
             [
              0.2222222222222222,
              "#7201a8"
             ],
             [
              0.3333333333333333,
              "#9c179e"
             ],
             [
              0.4444444444444444,
              "#bd3786"
             ],
             [
              0.5555555555555556,
              "#d8576b"
             ],
             [
              0.6666666666666666,
              "#ed7953"
             ],
             [
              0.7777777777777778,
              "#fb9f3a"
             ],
             [
              0.8888888888888888,
              "#fdca26"
             ],
             [
              1,
              "#f0f921"
             ]
            ],
            "type": "heatmapgl"
           }
          ],
          "histogram": [
           {
            "marker": {
             "colorbar": {
              "outlinewidth": 0,
              "ticks": ""
             }
            },
            "type": "histogram"
           }
          ],
          "histogram2d": [
           {
            "colorbar": {
             "outlinewidth": 0,
             "ticks": ""
            },
            "colorscale": [
             [
              0,
              "#0d0887"
             ],
             [
              0.1111111111111111,
              "#46039f"
             ],
             [
              0.2222222222222222,
              "#7201a8"
             ],
             [
              0.3333333333333333,
              "#9c179e"
             ],
             [
              0.4444444444444444,
              "#bd3786"
             ],
             [
              0.5555555555555556,
              "#d8576b"
             ],
             [
              0.6666666666666666,
              "#ed7953"
             ],
             [
              0.7777777777777778,
              "#fb9f3a"
             ],
             [
              0.8888888888888888,
              "#fdca26"
             ],
             [
              1,
              "#f0f921"
             ]
            ],
            "type": "histogram2d"
           }
          ],
          "histogram2dcontour": [
           {
            "colorbar": {
             "outlinewidth": 0,
             "ticks": ""
            },
            "colorscale": [
             [
              0,
              "#0d0887"
             ],
             [
              0.1111111111111111,
              "#46039f"
             ],
             [
              0.2222222222222222,
              "#7201a8"
             ],
             [
              0.3333333333333333,
              "#9c179e"
             ],
             [
              0.4444444444444444,
              "#bd3786"
             ],
             [
              0.5555555555555556,
              "#d8576b"
             ],
             [
              0.6666666666666666,
              "#ed7953"
             ],
             [
              0.7777777777777778,
              "#fb9f3a"
             ],
             [
              0.8888888888888888,
              "#fdca26"
             ],
             [
              1,
              "#f0f921"
             ]
            ],
            "type": "histogram2dcontour"
           }
          ],
          "mesh3d": [
           {
            "colorbar": {
             "outlinewidth": 0,
             "ticks": ""
            },
            "type": "mesh3d"
           }
          ],
          "parcoords": [
           {
            "line": {
             "colorbar": {
              "outlinewidth": 0,
              "ticks": ""
             }
            },
            "type": "parcoords"
           }
          ],
          "pie": [
           {
            "automargin": true,
            "type": "pie"
           }
          ],
          "scatter": [
           {
            "marker": {
             "colorbar": {
              "outlinewidth": 0,
              "ticks": ""
             }
            },
            "type": "scatter"
           }
          ],
          "scatter3d": [
           {
            "line": {
             "colorbar": {
              "outlinewidth": 0,
              "ticks": ""
             }
            },
            "marker": {
             "colorbar": {
              "outlinewidth": 0,
              "ticks": ""
             }
            },
            "type": "scatter3d"
           }
          ],
          "scattercarpet": [
           {
            "marker": {
             "colorbar": {
              "outlinewidth": 0,
              "ticks": ""
             }
            },
            "type": "scattercarpet"
           }
          ],
          "scattergeo": [
           {
            "marker": {
             "colorbar": {
              "outlinewidth": 0,
              "ticks": ""
             }
            },
            "type": "scattergeo"
           }
          ],
          "scattergl": [
           {
            "marker": {
             "colorbar": {
              "outlinewidth": 0,
              "ticks": ""
             }
            },
            "type": "scattergl"
           }
          ],
          "scattermapbox": [
           {
            "marker": {
             "colorbar": {
              "outlinewidth": 0,
              "ticks": ""
             }
            },
            "type": "scattermapbox"
           }
          ],
          "scatterpolar": [
           {
            "marker": {
             "colorbar": {
              "outlinewidth": 0,
              "ticks": ""
             }
            },
            "type": "scatterpolar"
           }
          ],
          "scatterpolargl": [
           {
            "marker": {
             "colorbar": {
              "outlinewidth": 0,
              "ticks": ""
             }
            },
            "type": "scatterpolargl"
           }
          ],
          "scatterternary": [
           {
            "marker": {
             "colorbar": {
              "outlinewidth": 0,
              "ticks": ""
             }
            },
            "type": "scatterternary"
           }
          ],
          "surface": [
           {
            "colorbar": {
             "outlinewidth": 0,
             "ticks": ""
            },
            "colorscale": [
             [
              0,
              "#0d0887"
             ],
             [
              0.1111111111111111,
              "#46039f"
             ],
             [
              0.2222222222222222,
              "#7201a8"
             ],
             [
              0.3333333333333333,
              "#9c179e"
             ],
             [
              0.4444444444444444,
              "#bd3786"
             ],
             [
              0.5555555555555556,
              "#d8576b"
             ],
             [
              0.6666666666666666,
              "#ed7953"
             ],
             [
              0.7777777777777778,
              "#fb9f3a"
             ],
             [
              0.8888888888888888,
              "#fdca26"
             ],
             [
              1,
              "#f0f921"
             ]
            ],
            "type": "surface"
           }
          ],
          "table": [
           {
            "cells": {
             "fill": {
              "color": "#EBF0F8"
             },
             "line": {
              "color": "white"
             }
            },
            "header": {
             "fill": {
              "color": "#C8D4E3"
             },
             "line": {
              "color": "white"
             }
            },
            "type": "table"
           }
          ]
         },
         "layout": {
          "annotationdefaults": {
           "arrowcolor": "#2a3f5f",
           "arrowhead": 0,
           "arrowwidth": 1
          },
          "autotypenumbers": "strict",
          "coloraxis": {
           "colorbar": {
            "outlinewidth": 0,
            "ticks": ""
           }
          },
          "colorscale": {
           "diverging": [
            [
             0,
             "#8e0152"
            ],
            [
             0.1,
             "#c51b7d"
            ],
            [
             0.2,
             "#de77ae"
            ],
            [
             0.3,
             "#f1b6da"
            ],
            [
             0.4,
             "#fde0ef"
            ],
            [
             0.5,
             "#f7f7f7"
            ],
            [
             0.6,
             "#e6f5d0"
            ],
            [
             0.7,
             "#b8e186"
            ],
            [
             0.8,
             "#7fbc41"
            ],
            [
             0.9,
             "#4d9221"
            ],
            [
             1,
             "#276419"
            ]
           ],
           "sequential": [
            [
             0,
             "#0d0887"
            ],
            [
             0.1111111111111111,
             "#46039f"
            ],
            [
             0.2222222222222222,
             "#7201a8"
            ],
            [
             0.3333333333333333,
             "#9c179e"
            ],
            [
             0.4444444444444444,
             "#bd3786"
            ],
            [
             0.5555555555555556,
             "#d8576b"
            ],
            [
             0.6666666666666666,
             "#ed7953"
            ],
            [
             0.7777777777777778,
             "#fb9f3a"
            ],
            [
             0.8888888888888888,
             "#fdca26"
            ],
            [
             1,
             "#f0f921"
            ]
           ],
           "sequentialminus": [
            [
             0,
             "#0d0887"
            ],
            [
             0.1111111111111111,
             "#46039f"
            ],
            [
             0.2222222222222222,
             "#7201a8"
            ],
            [
             0.3333333333333333,
             "#9c179e"
            ],
            [
             0.4444444444444444,
             "#bd3786"
            ],
            [
             0.5555555555555556,
             "#d8576b"
            ],
            [
             0.6666666666666666,
             "#ed7953"
            ],
            [
             0.7777777777777778,
             "#fb9f3a"
            ],
            [
             0.8888888888888888,
             "#fdca26"
            ],
            [
             1,
             "#f0f921"
            ]
           ]
          },
          "colorway": [
           "#636efa",
           "#EF553B",
           "#00cc96",
           "#ab63fa",
           "#FFA15A",
           "#19d3f3",
           "#FF6692",
           "#B6E880",
           "#FF97FF",
           "#FECB52"
          ],
          "font": {
           "color": "#2a3f5f"
          },
          "geo": {
           "bgcolor": "white",
           "lakecolor": "white",
           "landcolor": "#E5ECF6",
           "showlakes": true,
           "showland": true,
           "subunitcolor": "white"
          },
          "hoverlabel": {
           "align": "left"
          },
          "hovermode": "closest",
          "mapbox": {
           "style": "light"
          },
          "paper_bgcolor": "white",
          "plot_bgcolor": "#E5ECF6",
          "polar": {
           "angularaxis": {
            "gridcolor": "white",
            "linecolor": "white",
            "ticks": ""
           },
           "bgcolor": "#E5ECF6",
           "radialaxis": {
            "gridcolor": "white",
            "linecolor": "white",
            "ticks": ""
           }
          },
          "scene": {
           "xaxis": {
            "backgroundcolor": "#E5ECF6",
            "gridcolor": "white",
            "gridwidth": 2,
            "linecolor": "white",
            "showbackground": true,
            "ticks": "",
            "zerolinecolor": "white"
           },
           "yaxis": {
            "backgroundcolor": "#E5ECF6",
            "gridcolor": "white",
            "gridwidth": 2,
            "linecolor": "white",
            "showbackground": true,
            "ticks": "",
            "zerolinecolor": "white"
           },
           "zaxis": {
            "backgroundcolor": "#E5ECF6",
            "gridcolor": "white",
            "gridwidth": 2,
            "linecolor": "white",
            "showbackground": true,
            "ticks": "",
            "zerolinecolor": "white"
           }
          },
          "shapedefaults": {
           "line": {
            "color": "#2a3f5f"
           }
          },
          "ternary": {
           "aaxis": {
            "gridcolor": "white",
            "linecolor": "white",
            "ticks": ""
           },
           "baxis": {
            "gridcolor": "white",
            "linecolor": "white",
            "ticks": ""
           },
           "bgcolor": "#E5ECF6",
           "caxis": {
            "gridcolor": "white",
            "linecolor": "white",
            "ticks": ""
           }
          },
          "title": {
           "x": 0.05
          },
          "xaxis": {
           "automargin": true,
           "gridcolor": "white",
           "linecolor": "white",
           "ticks": "",
           "title": {
            "standoff": 15
           },
           "zerolinecolor": "white",
           "zerolinewidth": 2
          },
          "yaxis": {
           "automargin": true,
           "gridcolor": "white",
           "linecolor": "white",
           "ticks": "",
           "title": {
            "standoff": 15
           },
           "zerolinecolor": "white",
           "zerolinewidth": 2
          }
         }
        },
        "title": {
         "text": "Kyselina acetylsalicylova"
        },
        "xaxis": {
         "anchor": "y",
         "domain": [
          0,
          1
         ],
         "tickangle": 45,
         "title": {
          "text": "LIEK_popis"
         }
        },
        "yaxis": {
         "anchor": "x",
         "domain": [
          0,
          1
         ],
         "title": {
          "text": "Počet balení"
         }
        }
       }
      }
     },
     "metadata": {}
    }
   ],
   "source": [
    "fig = px.scatter(k_acetylsalicylova, x='LIEK_popis', y='Počet balení', size='Cena úhrada_PAC/bal', color='STAT_popis', title='Kyselina acetylsalicylova')\n",
    "fig.update_xaxes(tickangle=45)\n",
    "fig.show()"
   ]
  },
  {
   "cell_type": "code",
   "execution_count": null,
   "metadata": {},
   "outputs": [],
   "source": [
    "Najpredavanejsim liekom s kyselinou acetylsalicylovou je slovensky Anopyrin. Najviac sa predavaju slovenske lieky, ktorych je na trhu najviac."
   ]
  },
  {
   "source": [
    "# 11. Atorvastatin (top 15)"
   ],
   "cell_type": "markdown",
   "metadata": {}
  },
  {
   "cell_type": "code",
   "execution_count": 30,
   "metadata": {},
   "outputs": [
    {
     "output_type": "display_data",
     "data": {
      "text/plain": "                 LIEK_popis STAT_popis                         VYROBCA_popis  \\\n0                    ATORIS  Slovinsko                 KRKA d.d., Novo mesto   \n1      Atorvastatin Actavis     Island                 Actavis Group PTC ehf   \n2        Atorvastatin Mylan      ĺrsko                 Mylan Ireland Limited   \n3        Atorvastatin STADA    Nemecko                 STADA Arzneimittel AG   \n4       Atorvastatin Saneca     Cyprus                 XANTIS PHARMA LIMITED   \n5  Atorvastatin Teva Pharma  Slovensko  TEVA Pharmaceuticals Slovakia s.r.o.   \n6                    Gletor      Česko       Glenmark Pharmaceuticals s.r.o.   \n7                    SORTIS   Belgicko                 Pfizer Europe MA EEIG   \n8           Torvacard Novum      Česko                         Zentiva, k.s.   \n9                     Tulip  Slovinsko           Sandoz Pharmaceuticals d.d.   \n\n   index  Počet balení  Úhrada_PAC  Cena úhrada_PAC/bal  \n0  31395    561480.081  1159087.78             2.064344  \n1  20047    282689.050   229382.68             0.811431  \n2   8457     18970.680    25666.59             1.352961  \n3  11574     25251.000    46411.62             1.838011  \n4  11646      7698.654     1390.62             0.180632  \n5  14197     24108.160     9229.01             0.382817  \n6   5773      4298.520     7921.31             1.842799  \n7   8631    128401.967   180299.01             1.404176  \n8  22781    363483.663   639138.51             1.758369  \n9  22706    152051.083   307103.12             2.019736  ",
      "text/html": "<div>\n<style scoped>\n    .dataframe tbody tr th:only-of-type {\n        vertical-align: middle;\n    }\n\n    .dataframe tbody tr th {\n        vertical-align: top;\n    }\n\n    .dataframe thead th {\n        text-align: right;\n    }\n</style>\n<table border=\"1\" class=\"dataframe\">\n  <thead>\n    <tr style=\"text-align: right;\">\n      <th></th>\n      <th>LIEK_popis</th>\n      <th>STAT_popis</th>\n      <th>VYROBCA_popis</th>\n      <th>index</th>\n      <th>Počet balení</th>\n      <th>Úhrada_PAC</th>\n      <th>Cena úhrada_PAC/bal</th>\n    </tr>\n  </thead>\n  <tbody>\n    <tr>\n      <th>0</th>\n      <td>ATORIS</td>\n      <td>Slovinsko</td>\n      <td>KRKA d.d., Novo mesto</td>\n      <td>31395</td>\n      <td>561480.081</td>\n      <td>1159087.78</td>\n      <td>2.064344</td>\n    </tr>\n    <tr>\n      <th>1</th>\n      <td>Atorvastatin Actavis</td>\n      <td>Island</td>\n      <td>Actavis Group PTC ehf</td>\n      <td>20047</td>\n      <td>282689.050</td>\n      <td>229382.68</td>\n      <td>0.811431</td>\n    </tr>\n    <tr>\n      <th>2</th>\n      <td>Atorvastatin Mylan</td>\n      <td>ĺrsko</td>\n      <td>Mylan Ireland Limited</td>\n      <td>8457</td>\n      <td>18970.680</td>\n      <td>25666.59</td>\n      <td>1.352961</td>\n    </tr>\n    <tr>\n      <th>3</th>\n      <td>Atorvastatin STADA</td>\n      <td>Nemecko</td>\n      <td>STADA Arzneimittel AG</td>\n      <td>11574</td>\n      <td>25251.000</td>\n      <td>46411.62</td>\n      <td>1.838011</td>\n    </tr>\n    <tr>\n      <th>4</th>\n      <td>Atorvastatin Saneca</td>\n      <td>Cyprus</td>\n      <td>XANTIS PHARMA LIMITED</td>\n      <td>11646</td>\n      <td>7698.654</td>\n      <td>1390.62</td>\n      <td>0.180632</td>\n    </tr>\n    <tr>\n      <th>5</th>\n      <td>Atorvastatin Teva Pharma</td>\n      <td>Slovensko</td>\n      <td>TEVA Pharmaceuticals Slovakia s.r.o.</td>\n      <td>14197</td>\n      <td>24108.160</td>\n      <td>9229.01</td>\n      <td>0.382817</td>\n    </tr>\n    <tr>\n      <th>6</th>\n      <td>Gletor</td>\n      <td>Česko</td>\n      <td>Glenmark Pharmaceuticals s.r.o.</td>\n      <td>5773</td>\n      <td>4298.520</td>\n      <td>7921.31</td>\n      <td>1.842799</td>\n    </tr>\n    <tr>\n      <th>7</th>\n      <td>SORTIS</td>\n      <td>Belgicko</td>\n      <td>Pfizer Europe MA EEIG</td>\n      <td>8631</td>\n      <td>128401.967</td>\n      <td>180299.01</td>\n      <td>1.404176</td>\n    </tr>\n    <tr>\n      <th>8</th>\n      <td>Torvacard Novum</td>\n      <td>Česko</td>\n      <td>Zentiva, k.s.</td>\n      <td>22781</td>\n      <td>363483.663</td>\n      <td>639138.51</td>\n      <td>1.758369</td>\n    </tr>\n    <tr>\n      <th>9</th>\n      <td>Tulip</td>\n      <td>Slovinsko</td>\n      <td>Sandoz Pharmaceuticals d.d.</td>\n      <td>22706</td>\n      <td>152051.083</td>\n      <td>307103.12</td>\n      <td>2.019736</td>\n    </tr>\n  </tbody>\n</table>\n</div>"
     },
     "metadata": {}
    }
   ],
   "source": [
    "atorvastatin = top20tab[\"C10AA05\"].sort_values(by='Počet balení', ascending=False).head(55)\n",
    "\n",
    "for i,popis in enumerate(atorvastatin['LIEK_popis']):\n",
    "    if 'ATORIS' in popis:\n",
    "        atorvastatin.iloc[i,4] = 'ATORIS'\n",
    "    if 'Atoris' in popis:\n",
    "        atorvastatin.iloc[i,4] = 'ATORIS'\n",
    "    if 'Atorvastatin Actavis' in popis:\n",
    "        atorvastatin.iloc[i,4] = 'Atorvastatin Actavis'\n",
    "    if 'SORTIS' in popis:\n",
    "        atorvastatin.iloc[i,4] = 'SORTIS'\n",
    "    if 'Torvacard Novum' in popis:\n",
    "        atorvastatin.iloc[i,4] = 'Torvacard Novum'\n",
    "    if 'Tulip' in popis:\n",
    "        atorvastatin.iloc[i,4] = 'Tulip'\n",
    "    if 'Atorvastatin Mylan' in popis:\n",
    "        atorvastatin.iloc[i,4] = 'Atorvastatin Mylan'\n",
    "    if 'Atorvastatin STADA' in popis:\n",
    "        atorvastatin.iloc[i,4] = 'Atorvastatin STADA'\n",
    "    if 'Atorvastatin Teva Pharma' in popis:\n",
    "        atorvastatin.iloc[i,4] = 'Atorvastatin Teva Pharma'\n",
    "    if 'Atorvastatin Saneca' in popis:\n",
    "        atorvastatin.iloc[i,4] = 'Atorvastatin Saneca'\n",
    "    if 'Gletor' in popis:\n",
    "        atorvastatin.iloc[i,4] = 'Gletor'\n",
    "\n",
    "   \n",
    "\n",
    "atorvastatin = atorvastatin.groupby(['LIEK_popis', 'STAT_popis', 'VYROBCA_popis']).sum().reset_index()\n",
    "atorvastatin['Cena úhrada_PAC/bal'] = atorvastatin['Úhrada_PAC'] / atorvastatin['Počet balení']\n",
    "\n",
    "display(atorvastatin.sort_values(by='LIEK_popis'))"
   ]
  },
  {
   "cell_type": "code",
   "execution_count": 31,
   "metadata": {},
   "outputs": [
    {
     "output_type": "display_data",
     "data": {
      "application/vnd.plotly.v1+json": {
       "config": {
        "plotlyServerURL": "https://plot.ly"
       },
       "data": [
        {
         "hovertemplate": "STAT_popis=Slovinsko<br>LIEK_popis=%{x}<br>Počet balení=%{y}<br>Cena úhrada_PAC/bal=%{marker.size}<extra></extra>",
         "legendgroup": "Slovinsko",
         "marker": {
          "color": "#636efa",
          "size": [
           2.064343543471136,
           2.019736485533615
          ],
          "sizemode": "area",
          "sizeref": 0.005160858858677841,
          "symbol": "circle"
         },
         "mode": "markers",
         "name": "Slovinsko",
         "orientation": "v",
         "showlegend": true,
         "type": "scatter",
         "x": [
          "ATORIS",
          "Tulip"
         ],
         "xaxis": "x",
         "y": [
          561480.0809999999,
          152051.08299999998
         ],
         "yaxis": "y"
        },
        {
         "hovertemplate": "STAT_popis=Island<br>LIEK_popis=%{x}<br>Počet balení=%{y}<br>Cena úhrada_PAC/bal=%{marker.size}<extra></extra>",
         "legendgroup": "Island",
         "marker": {
          "color": "#EF553B",
          "size": [
           0.8114310759472286
          ],
          "sizemode": "area",
          "sizeref": 0.005160858858677841,
          "symbol": "circle"
         },
         "mode": "markers",
         "name": "Island",
         "orientation": "v",
         "showlegend": true,
         "type": "scatter",
         "x": [
          "Atorvastatin Actavis"
         ],
         "xaxis": "x",
         "y": [
          282689.05000000005
         ],
         "yaxis": "y"
        },
        {
         "hovertemplate": "STAT_popis=ĺrsko<br>LIEK_popis=%{x}<br>Počet balení=%{y}<br>Cena úhrada_PAC/bal=%{marker.size}<extra></extra>",
         "legendgroup": "ĺrsko",
         "marker": {
          "color": "#00cc96",
          "size": [
           1.352960990328233
          ],
          "sizemode": "area",
          "sizeref": 0.005160858858677841,
          "symbol": "circle"
         },
         "mode": "markers",
         "name": "ĺrsko",
         "orientation": "v",
         "showlegend": true,
         "type": "scatter",
         "x": [
          "Atorvastatin Mylan"
         ],
         "xaxis": "x",
         "y": [
          18970.68
         ],
         "yaxis": "y"
        },
        {
         "hovertemplate": "STAT_popis=Nemecko<br>LIEK_popis=%{x}<br>Počet balení=%{y}<br>Cena úhrada_PAC/bal=%{marker.size}<extra></extra>",
         "legendgroup": "Nemecko",
         "marker": {
          "color": "#ab63fa",
          "size": [
           1.8380111678745397
          ],
          "sizemode": "area",
          "sizeref": 0.005160858858677841,
          "symbol": "circle"
         },
         "mode": "markers",
         "name": "Nemecko",
         "orientation": "v",
         "showlegend": true,
         "type": "scatter",
         "x": [
          "Atorvastatin STADA"
         ],
         "xaxis": "x",
         "y": [
          25251
         ],
         "yaxis": "y"
        },
        {
         "hovertemplate": "STAT_popis=Cyprus<br>LIEK_popis=%{x}<br>Počet balení=%{y}<br>Cena úhrada_PAC/bal=%{marker.size}<extra></extra>",
         "legendgroup": "Cyprus",
         "marker": {
          "color": "#FFA15A",
          "size": [
           0.1806315753377149
          ],
          "sizemode": "area",
          "sizeref": 0.005160858858677841,
          "symbol": "circle"
         },
         "mode": "markers",
         "name": "Cyprus",
         "orientation": "v",
         "showlegend": true,
         "type": "scatter",
         "x": [
          "Atorvastatin Saneca"
         ],
         "xaxis": "x",
         "y": [
          7698.6539999999995
         ],
         "yaxis": "y"
        },
        {
         "hovertemplate": "STAT_popis=Slovensko<br>LIEK_popis=%{x}<br>Počet balení=%{y}<br>Cena úhrada_PAC/bal=%{marker.size}<extra></extra>",
         "legendgroup": "Slovensko",
         "marker": {
          "color": "#19d3f3",
          "size": [
           0.38281685537179116
          ],
          "sizemode": "area",
          "sizeref": 0.005160858858677841,
          "symbol": "circle"
         },
         "mode": "markers",
         "name": "Slovensko",
         "orientation": "v",
         "showlegend": true,
         "type": "scatter",
         "x": [
          "Atorvastatin Teva Pharma"
         ],
         "xaxis": "x",
         "y": [
          24108.16
         ],
         "yaxis": "y"
        },
        {
         "hovertemplate": "STAT_popis=Česko<br>LIEK_popis=%{x}<br>Počet balení=%{y}<br>Cena úhrada_PAC/bal=%{marker.size}<extra></extra>",
         "legendgroup": "Česko",
         "marker": {
          "color": "#FF6692",
          "size": [
           1.8427993821129134,
           1.7583692888007458
          ],
          "sizemode": "area",
          "sizeref": 0.005160858858677841,
          "symbol": "circle"
         },
         "mode": "markers",
         "name": "Česko",
         "orientation": "v",
         "showlegend": true,
         "type": "scatter",
         "x": [
          "Gletor",
          "Torvacard Novum"
         ],
         "xaxis": "x",
         "y": [
          4298.52,
          363483.663
         ],
         "yaxis": "y"
        },
        {
         "hovertemplate": "STAT_popis=Belgicko<br>LIEK_popis=%{x}<br>Počet balení=%{y}<br>Cena úhrada_PAC/bal=%{marker.size}<extra></extra>",
         "legendgroup": "Belgicko",
         "marker": {
          "color": "#B6E880",
          "size": [
           1.4041763861763896
          ],
          "sizemode": "area",
          "sizeref": 0.005160858858677841,
          "symbol": "circle"
         },
         "mode": "markers",
         "name": "Belgicko",
         "orientation": "v",
         "showlegend": true,
         "type": "scatter",
         "x": [
          "SORTIS"
         ],
         "xaxis": "x",
         "y": [
          128401.96699999999
         ],
         "yaxis": "y"
        }
       ],
       "layout": {
        "legend": {
         "itemsizing": "constant",
         "title": {
          "text": "STAT_popis"
         },
         "tracegroupgap": 0
        },
        "template": {
         "data": {
          "bar": [
           {
            "error_x": {
             "color": "#2a3f5f"
            },
            "error_y": {
             "color": "#2a3f5f"
            },
            "marker": {
             "line": {
              "color": "#E5ECF6",
              "width": 0.5
             }
            },
            "type": "bar"
           }
          ],
          "barpolar": [
           {
            "marker": {
             "line": {
              "color": "#E5ECF6",
              "width": 0.5
             }
            },
            "type": "barpolar"
           }
          ],
          "carpet": [
           {
            "aaxis": {
             "endlinecolor": "#2a3f5f",
             "gridcolor": "white",
             "linecolor": "white",
             "minorgridcolor": "white",
             "startlinecolor": "#2a3f5f"
            },
            "baxis": {
             "endlinecolor": "#2a3f5f",
             "gridcolor": "white",
             "linecolor": "white",
             "minorgridcolor": "white",
             "startlinecolor": "#2a3f5f"
            },
            "type": "carpet"
           }
          ],
          "choropleth": [
           {
            "colorbar": {
             "outlinewidth": 0,
             "ticks": ""
            },
            "type": "choropleth"
           }
          ],
          "contour": [
           {
            "colorbar": {
             "outlinewidth": 0,
             "ticks": ""
            },
            "colorscale": [
             [
              0,
              "#0d0887"
             ],
             [
              0.1111111111111111,
              "#46039f"
             ],
             [
              0.2222222222222222,
              "#7201a8"
             ],
             [
              0.3333333333333333,
              "#9c179e"
             ],
             [
              0.4444444444444444,
              "#bd3786"
             ],
             [
              0.5555555555555556,
              "#d8576b"
             ],
             [
              0.6666666666666666,
              "#ed7953"
             ],
             [
              0.7777777777777778,
              "#fb9f3a"
             ],
             [
              0.8888888888888888,
              "#fdca26"
             ],
             [
              1,
              "#f0f921"
             ]
            ],
            "type": "contour"
           }
          ],
          "contourcarpet": [
           {
            "colorbar": {
             "outlinewidth": 0,
             "ticks": ""
            },
            "type": "contourcarpet"
           }
          ],
          "heatmap": [
           {
            "colorbar": {
             "outlinewidth": 0,
             "ticks": ""
            },
            "colorscale": [
             [
              0,
              "#0d0887"
             ],
             [
              0.1111111111111111,
              "#46039f"
             ],
             [
              0.2222222222222222,
              "#7201a8"
             ],
             [
              0.3333333333333333,
              "#9c179e"
             ],
             [
              0.4444444444444444,
              "#bd3786"
             ],
             [
              0.5555555555555556,
              "#d8576b"
             ],
             [
              0.6666666666666666,
              "#ed7953"
             ],
             [
              0.7777777777777778,
              "#fb9f3a"
             ],
             [
              0.8888888888888888,
              "#fdca26"
             ],
             [
              1,
              "#f0f921"
             ]
            ],
            "type": "heatmap"
           }
          ],
          "heatmapgl": [
           {
            "colorbar": {
             "outlinewidth": 0,
             "ticks": ""
            },
            "colorscale": [
             [
              0,
              "#0d0887"
             ],
             [
              0.1111111111111111,
              "#46039f"
             ],
             [
              0.2222222222222222,
              "#7201a8"
             ],
             [
              0.3333333333333333,
              "#9c179e"
             ],
             [
              0.4444444444444444,
              "#bd3786"
             ],
             [
              0.5555555555555556,
              "#d8576b"
             ],
             [
              0.6666666666666666,
              "#ed7953"
             ],
             [
              0.7777777777777778,
              "#fb9f3a"
             ],
             [
              0.8888888888888888,
              "#fdca26"
             ],
             [
              1,
              "#f0f921"
             ]
            ],
            "type": "heatmapgl"
           }
          ],
          "histogram": [
           {
            "marker": {
             "colorbar": {
              "outlinewidth": 0,
              "ticks": ""
             }
            },
            "type": "histogram"
           }
          ],
          "histogram2d": [
           {
            "colorbar": {
             "outlinewidth": 0,
             "ticks": ""
            },
            "colorscale": [
             [
              0,
              "#0d0887"
             ],
             [
              0.1111111111111111,
              "#46039f"
             ],
             [
              0.2222222222222222,
              "#7201a8"
             ],
             [
              0.3333333333333333,
              "#9c179e"
             ],
             [
              0.4444444444444444,
              "#bd3786"
             ],
             [
              0.5555555555555556,
              "#d8576b"
             ],
             [
              0.6666666666666666,
              "#ed7953"
             ],
             [
              0.7777777777777778,
              "#fb9f3a"
             ],
             [
              0.8888888888888888,
              "#fdca26"
             ],
             [
              1,
              "#f0f921"
             ]
            ],
            "type": "histogram2d"
           }
          ],
          "histogram2dcontour": [
           {
            "colorbar": {
             "outlinewidth": 0,
             "ticks": ""
            },
            "colorscale": [
             [
              0,
              "#0d0887"
             ],
             [
              0.1111111111111111,
              "#46039f"
             ],
             [
              0.2222222222222222,
              "#7201a8"
             ],
             [
              0.3333333333333333,
              "#9c179e"
             ],
             [
              0.4444444444444444,
              "#bd3786"
             ],
             [
              0.5555555555555556,
              "#d8576b"
             ],
             [
              0.6666666666666666,
              "#ed7953"
             ],
             [
              0.7777777777777778,
              "#fb9f3a"
             ],
             [
              0.8888888888888888,
              "#fdca26"
             ],
             [
              1,
              "#f0f921"
             ]
            ],
            "type": "histogram2dcontour"
           }
          ],
          "mesh3d": [
           {
            "colorbar": {
             "outlinewidth": 0,
             "ticks": ""
            },
            "type": "mesh3d"
           }
          ],
          "parcoords": [
           {
            "line": {
             "colorbar": {
              "outlinewidth": 0,
              "ticks": ""
             }
            },
            "type": "parcoords"
           }
          ],
          "pie": [
           {
            "automargin": true,
            "type": "pie"
           }
          ],
          "scatter": [
           {
            "marker": {
             "colorbar": {
              "outlinewidth": 0,
              "ticks": ""
             }
            },
            "type": "scatter"
           }
          ],
          "scatter3d": [
           {
            "line": {
             "colorbar": {
              "outlinewidth": 0,
              "ticks": ""
             }
            },
            "marker": {
             "colorbar": {
              "outlinewidth": 0,
              "ticks": ""
             }
            },
            "type": "scatter3d"
           }
          ],
          "scattercarpet": [
           {
            "marker": {
             "colorbar": {
              "outlinewidth": 0,
              "ticks": ""
             }
            },
            "type": "scattercarpet"
           }
          ],
          "scattergeo": [
           {
            "marker": {
             "colorbar": {
              "outlinewidth": 0,
              "ticks": ""
             }
            },
            "type": "scattergeo"
           }
          ],
          "scattergl": [
           {
            "marker": {
             "colorbar": {
              "outlinewidth": 0,
              "ticks": ""
             }
            },
            "type": "scattergl"
           }
          ],
          "scattermapbox": [
           {
            "marker": {
             "colorbar": {
              "outlinewidth": 0,
              "ticks": ""
             }
            },
            "type": "scattermapbox"
           }
          ],
          "scatterpolar": [
           {
            "marker": {
             "colorbar": {
              "outlinewidth": 0,
              "ticks": ""
             }
            },
            "type": "scatterpolar"
           }
          ],
          "scatterpolargl": [
           {
            "marker": {
             "colorbar": {
              "outlinewidth": 0,
              "ticks": ""
             }
            },
            "type": "scatterpolargl"
           }
          ],
          "scatterternary": [
           {
            "marker": {
             "colorbar": {
              "outlinewidth": 0,
              "ticks": ""
             }
            },
            "type": "scatterternary"
           }
          ],
          "surface": [
           {
            "colorbar": {
             "outlinewidth": 0,
             "ticks": ""
            },
            "colorscale": [
             [
              0,
              "#0d0887"
             ],
             [
              0.1111111111111111,
              "#46039f"
             ],
             [
              0.2222222222222222,
              "#7201a8"
             ],
             [
              0.3333333333333333,
              "#9c179e"
             ],
             [
              0.4444444444444444,
              "#bd3786"
             ],
             [
              0.5555555555555556,
              "#d8576b"
             ],
             [
              0.6666666666666666,
              "#ed7953"
             ],
             [
              0.7777777777777778,
              "#fb9f3a"
             ],
             [
              0.8888888888888888,
              "#fdca26"
             ],
             [
              1,
              "#f0f921"
             ]
            ],
            "type": "surface"
           }
          ],
          "table": [
           {
            "cells": {
             "fill": {
              "color": "#EBF0F8"
             },
             "line": {
              "color": "white"
             }
            },
            "header": {
             "fill": {
              "color": "#C8D4E3"
             },
             "line": {
              "color": "white"
             }
            },
            "type": "table"
           }
          ]
         },
         "layout": {
          "annotationdefaults": {
           "arrowcolor": "#2a3f5f",
           "arrowhead": 0,
           "arrowwidth": 1
          },
          "autotypenumbers": "strict",
          "coloraxis": {
           "colorbar": {
            "outlinewidth": 0,
            "ticks": ""
           }
          },
          "colorscale": {
           "diverging": [
            [
             0,
             "#8e0152"
            ],
            [
             0.1,
             "#c51b7d"
            ],
            [
             0.2,
             "#de77ae"
            ],
            [
             0.3,
             "#f1b6da"
            ],
            [
             0.4,
             "#fde0ef"
            ],
            [
             0.5,
             "#f7f7f7"
            ],
            [
             0.6,
             "#e6f5d0"
            ],
            [
             0.7,
             "#b8e186"
            ],
            [
             0.8,
             "#7fbc41"
            ],
            [
             0.9,
             "#4d9221"
            ],
            [
             1,
             "#276419"
            ]
           ],
           "sequential": [
            [
             0,
             "#0d0887"
            ],
            [
             0.1111111111111111,
             "#46039f"
            ],
            [
             0.2222222222222222,
             "#7201a8"
            ],
            [
             0.3333333333333333,
             "#9c179e"
            ],
            [
             0.4444444444444444,
             "#bd3786"
            ],
            [
             0.5555555555555556,
             "#d8576b"
            ],
            [
             0.6666666666666666,
             "#ed7953"
            ],
            [
             0.7777777777777778,
             "#fb9f3a"
            ],
            [
             0.8888888888888888,
             "#fdca26"
            ],
            [
             1,
             "#f0f921"
            ]
           ],
           "sequentialminus": [
            [
             0,
             "#0d0887"
            ],
            [
             0.1111111111111111,
             "#46039f"
            ],
            [
             0.2222222222222222,
             "#7201a8"
            ],
            [
             0.3333333333333333,
             "#9c179e"
            ],
            [
             0.4444444444444444,
             "#bd3786"
            ],
            [
             0.5555555555555556,
             "#d8576b"
            ],
            [
             0.6666666666666666,
             "#ed7953"
            ],
            [
             0.7777777777777778,
             "#fb9f3a"
            ],
            [
             0.8888888888888888,
             "#fdca26"
            ],
            [
             1,
             "#f0f921"
            ]
           ]
          },
          "colorway": [
           "#636efa",
           "#EF553B",
           "#00cc96",
           "#ab63fa",
           "#FFA15A",
           "#19d3f3",
           "#FF6692",
           "#B6E880",
           "#FF97FF",
           "#FECB52"
          ],
          "font": {
           "color": "#2a3f5f"
          },
          "geo": {
           "bgcolor": "white",
           "lakecolor": "white",
           "landcolor": "#E5ECF6",
           "showlakes": true,
           "showland": true,
           "subunitcolor": "white"
          },
          "hoverlabel": {
           "align": "left"
          },
          "hovermode": "closest",
          "mapbox": {
           "style": "light"
          },
          "paper_bgcolor": "white",
          "plot_bgcolor": "#E5ECF6",
          "polar": {
           "angularaxis": {
            "gridcolor": "white",
            "linecolor": "white",
            "ticks": ""
           },
           "bgcolor": "#E5ECF6",
           "radialaxis": {
            "gridcolor": "white",
            "linecolor": "white",
            "ticks": ""
           }
          },
          "scene": {
           "xaxis": {
            "backgroundcolor": "#E5ECF6",
            "gridcolor": "white",
            "gridwidth": 2,
            "linecolor": "white",
            "showbackground": true,
            "ticks": "",
            "zerolinecolor": "white"
           },
           "yaxis": {
            "backgroundcolor": "#E5ECF6",
            "gridcolor": "white",
            "gridwidth": 2,
            "linecolor": "white",
            "showbackground": true,
            "ticks": "",
            "zerolinecolor": "white"
           },
           "zaxis": {
            "backgroundcolor": "#E5ECF6",
            "gridcolor": "white",
            "gridwidth": 2,
            "linecolor": "white",
            "showbackground": true,
            "ticks": "",
            "zerolinecolor": "white"
           }
          },
          "shapedefaults": {
           "line": {
            "color": "#2a3f5f"
           }
          },
          "ternary": {
           "aaxis": {
            "gridcolor": "white",
            "linecolor": "white",
            "ticks": ""
           },
           "baxis": {
            "gridcolor": "white",
            "linecolor": "white",
            "ticks": ""
           },
           "bgcolor": "#E5ECF6",
           "caxis": {
            "gridcolor": "white",
            "linecolor": "white",
            "ticks": ""
           }
          },
          "title": {
           "x": 0.05
          },
          "xaxis": {
           "automargin": true,
           "gridcolor": "white",
           "linecolor": "white",
           "ticks": "",
           "title": {
            "standoff": 15
           },
           "zerolinecolor": "white",
           "zerolinewidth": 2
          },
          "yaxis": {
           "automargin": true,
           "gridcolor": "white",
           "linecolor": "white",
           "ticks": "",
           "title": {
            "standoff": 15
           },
           "zerolinecolor": "white",
           "zerolinewidth": 2
          }
         }
        },
        "title": {
         "text": "Atorovastatin"
        },
        "xaxis": {
         "anchor": "y",
         "domain": [
          0,
          1
         ],
         "tickangle": 45,
         "title": {
          "text": "LIEK_popis"
         }
        },
        "yaxis": {
         "anchor": "x",
         "domain": [
          0,
          1
         ],
         "title": {
          "text": "Počet balení"
         }
        }
       }
      }
     },
     "metadata": {}
    }
   ],
   "source": [
    "fig = px.scatter(atorvastatin, x='LIEK_popis', y='Počet balení', size='Cena úhrada_PAC/bal', color='STAT_popis', title='Atorovastatin')\n",
    "fig.update_xaxes(tickangle=45)\n",
    "fig.show()"
   ]
  },
  {
   "source": [
    "Najpredavanejsi je slovinsky Atoris, avsak tiez celkom predavanym je aj cesky Torvacard Novum"
   ],
   "cell_type": "markdown",
   "metadata": {}
  }
 ]
}