{
 "metadata": {
  "language_info": {
   "codemirror_mode": {
    "name": "ipython",
    "version": 3
   },
   "file_extension": ".py",
   "mimetype": "text/x-python",
   "name": "python",
   "nbconvert_exporter": "python",
   "pygments_lexer": "ipython3",
   "version": "3.8.9"
  },
  "orig_nbformat": 2,
  "kernelspec": {
   "name": "python389jvsc74a57bd005a3b3982034298d50d75e3bfc7c08d24fd70828ec0bdac296ccba668c491b8c",
   "display_name": "Python 3.8.9 64-bit ('PythonSoftwareFoundation.Python.3.8_qbz5n2kfra8p0')"
  },
  "metadata": {
   "interpreter": {
    "hash": "05a3b3982034298d50d75e3bfc7c08d24fd70828ec0bdac296ccba668c491b8c"
   }
  }
 },
 "nbformat": 4,
 "nbformat_minor": 2,
 "cells": [
  {
   "source": [
    "# Analyza liekov podla skupiny ATC7 \n",
    "\n",
    "Analýzu sme robili na dátach z roku 2019, keďže je to posledný rok, z ktorého sme mali údaje za všetky štvrťroky a zároveň v tomto roku na Slovensku ešte nebola pandémia.\n",
    "Otázky:\n",
    "* Ktoré lieky s danou účinnou látkou sa predávajú viac než ostatné? Závisí predaj od krajiny výrobcu?\n",
    "\n",
    "(mozno fajn vo vsetkych grafoch krajiny rovnakou farbou)\n",
    " 1409 roznych ucinnych latok"
   ],
   "cell_type": "markdown",
   "metadata": {}
  },
  {
   "source": [
    "## Farby, ktore pouzivam"
   ],
   "cell_type": "markdown",
   "metadata": {}
  },
  {
   "cell_type": "code",
   "execution_count": 80,
   "metadata": {},
   "outputs": [],
   "source": [
    "modra = '#4B6AAB'\n",
    "zelena = '#73B5AB'\n",
    "zlta = '#F1C75B'\n",
    "oranzova = '#D8764C'\n",
    "ruzova = '#B75B9E'"
   ]
  },
  {
   "cell_type": "code",
   "execution_count": 20,
   "metadata": {},
   "outputs": [],
   "source": [
    "import pandas as pd \n",
    "import numpy as np \n",
    "import matplotlib.pyplot as plt \n",
    "import plotly.express as px\n",
    "%run tables.py"
   ]
  },
  {
   "source": [
    "# Tabulka, s ktorou pracujeme (rok 2019) s vybranymi udajmi"
   ],
   "cell_type": "markdown",
   "metadata": {}
  },
  {
   "cell_type": "code",
   "execution_count": 21,
   "metadata": {},
   "outputs": [],
   "source": [
    "table = import_table('detailed', 2019)\n",
    "table = table.rename(columns={'Počet balení': 'Počet_balení'})"
   ]
  },
  {
   "cell_type": "code",
   "execution_count": 22,
   "metadata": {},
   "outputs": [
    {
     "output_type": "display_data",
     "data": {
      "text/plain": "  ATC7_KOD                           ATC7_popis LIEK_KOD  \\\n0  A01AA03                              Olaflur   C40630   \n1  A01AA30  Profylaxia zubného kazu, kombinácie   C40631   \n2  A01AA30  Profylaxia zubného kazu, kombinácie   C85867   \n3  A01AB03                         Chlorhexidín   C14106   \n4  A01AB03                         Chlorhexidín   C34296   \n\n                         LIEK_popis STAT_popis  \\\n0       ELMEX FLUID sol dnt 1x50 ml    Nemecko   \n1        ELMEX gelee gel dnt 1x25 g    Nemecko   \n2       ELMEX gelee gel dnt 1x215 g    Nemecko   \n3         CORSODYL sol ora 1x600 ml      Česko   \n4  PROTEFIX ANTISEPT sol der 200 ml    Nemecko   \n\n                                       VYROBCA_popis  Počet_balení  \n0                                          GABA GmbH          40.0  \n1                                       CP GABA GmbH       43832.5  \n2                                       CP GABA GmbH          29.0  \n3  GlaxoSmithKline Consumer Healthcare Czech Repu...          72.0  \n4                         Queisser Pharma GmbH & Co.           6.0  ",
      "text/html": "<div>\n<style scoped>\n    .dataframe tbody tr th:only-of-type {\n        vertical-align: middle;\n    }\n\n    .dataframe tbody tr th {\n        vertical-align: top;\n    }\n\n    .dataframe thead th {\n        text-align: right;\n    }\n</style>\n<table border=\"1\" class=\"dataframe\">\n  <thead>\n    <tr style=\"text-align: right;\">\n      <th></th>\n      <th>ATC7_KOD</th>\n      <th>ATC7_popis</th>\n      <th>LIEK_KOD</th>\n      <th>LIEK_popis</th>\n      <th>STAT_popis</th>\n      <th>VYROBCA_popis</th>\n      <th>Počet_balení</th>\n    </tr>\n  </thead>\n  <tbody>\n    <tr>\n      <th>0</th>\n      <td>A01AA03</td>\n      <td>Olaflur</td>\n      <td>C40630</td>\n      <td>ELMEX FLUID sol dnt 1x50 ml</td>\n      <td>Nemecko</td>\n      <td>GABA GmbH</td>\n      <td>40.0</td>\n    </tr>\n    <tr>\n      <th>1</th>\n      <td>A01AA30</td>\n      <td>Profylaxia zubného kazu, kombinácie</td>\n      <td>C40631</td>\n      <td>ELMEX gelee gel dnt 1x25 g</td>\n      <td>Nemecko</td>\n      <td>CP GABA GmbH</td>\n      <td>43832.5</td>\n    </tr>\n    <tr>\n      <th>2</th>\n      <td>A01AA30</td>\n      <td>Profylaxia zubného kazu, kombinácie</td>\n      <td>C85867</td>\n      <td>ELMEX gelee gel dnt 1x215 g</td>\n      <td>Nemecko</td>\n      <td>CP GABA GmbH</td>\n      <td>29.0</td>\n    </tr>\n    <tr>\n      <th>3</th>\n      <td>A01AB03</td>\n      <td>Chlorhexidín</td>\n      <td>C14106</td>\n      <td>CORSODYL sol ora 1x600 ml</td>\n      <td>Česko</td>\n      <td>GlaxoSmithKline Consumer Healthcare Czech Repu...</td>\n      <td>72.0</td>\n    </tr>\n    <tr>\n      <th>4</th>\n      <td>A01AB03</td>\n      <td>Chlorhexidín</td>\n      <td>C34296</td>\n      <td>PROTEFIX ANTISEPT sol der 200 ml</td>\n      <td>Nemecko</td>\n      <td>Queisser Pharma GmbH &amp; Co.</td>\n      <td>6.0</td>\n    </tr>\n  </tbody>\n</table>\n</div>"
     },
     "metadata": {}
    },
    {
     "output_type": "display_data",
     "data": {
      "text/plain": "     ATC7_KOD   ATC7_popis LIEK_KOD                        LIEK_popis  \\\n9813      V12  Homeopatiká   C82842  GINKGO BILOBA plv 15 g ch2-ch200   \n9814      V12  Homeopatiká   C96701  ARNICA MONTANA ung 20 g ch2-ch30   \n9815      V12  Homeopatiká   C97944                   QUIETUDE tbl 60   \n9816      V12  Homeopatiká   C99176       BELLADONNA gra 4 g ch3-ch30   \n9817      V12  Homeopatiká   C99177   ARNICA MONTANA gra 4 g ch2-ch30   \n\n      STAT_popis        VYROBCA_popis  Počet_balení  \n9813  Francúzsko  Laboratoires BOIRON         309.0  \n9814  Francúzsko  Laboratoires BOIRON          15.0  \n9815  Francúzsko  Laboratoires BOIRON         156.0  \n9816  Francúzsko  Laboratoires BOIRON         183.0  \n9817  Francúzsko  Laboratoires BOIRON         700.0  ",
      "text/html": "<div>\n<style scoped>\n    .dataframe tbody tr th:only-of-type {\n        vertical-align: middle;\n    }\n\n    .dataframe tbody tr th {\n        vertical-align: top;\n    }\n\n    .dataframe thead th {\n        text-align: right;\n    }\n</style>\n<table border=\"1\" class=\"dataframe\">\n  <thead>\n    <tr style=\"text-align: right;\">\n      <th></th>\n      <th>ATC7_KOD</th>\n      <th>ATC7_popis</th>\n      <th>LIEK_KOD</th>\n      <th>LIEK_popis</th>\n      <th>STAT_popis</th>\n      <th>VYROBCA_popis</th>\n      <th>Počet_balení</th>\n    </tr>\n  </thead>\n  <tbody>\n    <tr>\n      <th>9813</th>\n      <td>V12</td>\n      <td>Homeopatiká</td>\n      <td>C82842</td>\n      <td>GINKGO BILOBA plv 15 g ch2-ch200</td>\n      <td>Francúzsko</td>\n      <td>Laboratoires BOIRON</td>\n      <td>309.0</td>\n    </tr>\n    <tr>\n      <th>9814</th>\n      <td>V12</td>\n      <td>Homeopatiká</td>\n      <td>C96701</td>\n      <td>ARNICA MONTANA ung 20 g ch2-ch30</td>\n      <td>Francúzsko</td>\n      <td>Laboratoires BOIRON</td>\n      <td>15.0</td>\n    </tr>\n    <tr>\n      <th>9815</th>\n      <td>V12</td>\n      <td>Homeopatiká</td>\n      <td>C97944</td>\n      <td>QUIETUDE tbl 60</td>\n      <td>Francúzsko</td>\n      <td>Laboratoires BOIRON</td>\n      <td>156.0</td>\n    </tr>\n    <tr>\n      <th>9816</th>\n      <td>V12</td>\n      <td>Homeopatiká</td>\n      <td>C99176</td>\n      <td>BELLADONNA gra 4 g ch3-ch30</td>\n      <td>Francúzsko</td>\n      <td>Laboratoires BOIRON</td>\n      <td>183.0</td>\n    </tr>\n    <tr>\n      <th>9817</th>\n      <td>V12</td>\n      <td>Homeopatiká</td>\n      <td>C99177</td>\n      <td>ARNICA MONTANA gra 4 g ch2-ch30</td>\n      <td>Francúzsko</td>\n      <td>Laboratoires BOIRON</td>\n      <td>700.0</td>\n    </tr>\n  </tbody>\n</table>\n</div>"
     },
     "metadata": {}
    }
   ],
   "source": [
    "table2019 = table.loc[:,['ATC7_KOD','ATC7_popis','LIEK_KOD','LIEK_popis', 'STAT_popis', 'VYROBCA_popis', 'Počet_balení']]\n",
    "table2019 = table2019.query('ATC7_KOD != \"(prazdne)\"').query( 'ATC7_popis != \"neznámy\"')\n",
    "table2019sum = table2019.groupby(['ATC7_KOD','ATC7_popis','LIEK_KOD','LIEK_popis', 'STAT_popis','VYROBCA_popis']).sum().reset_index()\n",
    "display(table2019sum.head())\n",
    "display(table2019sum.tail())\n"
   ]
  },
  {
   "source": [
    "# Tabulka: 15 najpredavanejsich ucinnych latok"
   ],
   "cell_type": "markdown",
   "metadata": {}
  },
  {
   "cell_type": "code",
   "execution_count": 23,
   "metadata": {},
   "outputs": [
    {
     "output_type": "display_data",
     "data": {
      "text/plain": "   ATC7_KOD                   ATC7_popis  Počet_balení\n0   V09FX01               Technécium - (   9618479.510\n1   B05BB01                  Elektrolyty   5331686.852\n2   N02BE01                  Paracetamol   3297020.107\n3   M01AE01                    Ibuprofén   2795946.717\n4   C07AB07                   Bisoprolol   2607372.542\n5   C08CA01                    Amlodipín   2119340.883\n6   N05BA12                   Alprazolam   2045121.730\n7   M01AB05                   Diklofenak   2013726.518\n8   N02BB02         Metamizol, sodná soľ   1946250.707\n9   C07AB02                   Metoprolol   1873602.519\n10  B01AC06    Kyselina acetylsalicylová   1751434.007\n11  C10AA05                 Atorvastatín   1570661.378\n12  N05CF02                     Zolpidém   1555453.927\n13  R01AA07                Xylometazolín   1496827.500\n14  R02AA20  Rôzne iné krčné antiseptiká   1444293.959",
      "text/html": "<div>\n<style scoped>\n    .dataframe tbody tr th:only-of-type {\n        vertical-align: middle;\n    }\n\n    .dataframe tbody tr th {\n        vertical-align: top;\n    }\n\n    .dataframe thead th {\n        text-align: right;\n    }\n</style>\n<table border=\"1\" class=\"dataframe\">\n  <thead>\n    <tr style=\"text-align: right;\">\n      <th></th>\n      <th>ATC7_KOD</th>\n      <th>ATC7_popis</th>\n      <th>Počet_balení</th>\n    </tr>\n  </thead>\n  <tbody>\n    <tr>\n      <th>0</th>\n      <td>V09FX01</td>\n      <td>Technécium - (</td>\n      <td>9618479.510</td>\n    </tr>\n    <tr>\n      <th>1</th>\n      <td>B05BB01</td>\n      <td>Elektrolyty</td>\n      <td>5331686.852</td>\n    </tr>\n    <tr>\n      <th>2</th>\n      <td>N02BE01</td>\n      <td>Paracetamol</td>\n      <td>3297020.107</td>\n    </tr>\n    <tr>\n      <th>3</th>\n      <td>M01AE01</td>\n      <td>Ibuprofén</td>\n      <td>2795946.717</td>\n    </tr>\n    <tr>\n      <th>4</th>\n      <td>C07AB07</td>\n      <td>Bisoprolol</td>\n      <td>2607372.542</td>\n    </tr>\n    <tr>\n      <th>5</th>\n      <td>C08CA01</td>\n      <td>Amlodipín</td>\n      <td>2119340.883</td>\n    </tr>\n    <tr>\n      <th>6</th>\n      <td>N05BA12</td>\n      <td>Alprazolam</td>\n      <td>2045121.730</td>\n    </tr>\n    <tr>\n      <th>7</th>\n      <td>M01AB05</td>\n      <td>Diklofenak</td>\n      <td>2013726.518</td>\n    </tr>\n    <tr>\n      <th>8</th>\n      <td>N02BB02</td>\n      <td>Metamizol, sodná soľ</td>\n      <td>1946250.707</td>\n    </tr>\n    <tr>\n      <th>9</th>\n      <td>C07AB02</td>\n      <td>Metoprolol</td>\n      <td>1873602.519</td>\n    </tr>\n    <tr>\n      <th>10</th>\n      <td>B01AC06</td>\n      <td>Kyselina acetylsalicylová</td>\n      <td>1751434.007</td>\n    </tr>\n    <tr>\n      <th>11</th>\n      <td>C10AA05</td>\n      <td>Atorvastatín</td>\n      <td>1570661.378</td>\n    </tr>\n    <tr>\n      <th>12</th>\n      <td>N05CF02</td>\n      <td>Zolpidém</td>\n      <td>1555453.927</td>\n    </tr>\n    <tr>\n      <th>13</th>\n      <td>R01AA07</td>\n      <td>Xylometazolín</td>\n      <td>1496827.500</td>\n    </tr>\n    <tr>\n      <th>14</th>\n      <td>R02AA20</td>\n      <td>Rôzne iné krčné antiseptiká</td>\n      <td>1444293.959</td>\n    </tr>\n  </tbody>\n</table>\n</div>"
     },
     "metadata": {}
    }
   ],
   "source": [
    "atc7 = table2019.loc[:,['ATC7_KOD', 'ATC7_popis','Počet_balení']].groupby(['ATC7_KOD', 'ATC7_popis']).sum().sort_values(by='Počet_balení', ascending=False).reset_index().head(15)\n",
    "display(atc7)"
   ]
  },
  {
   "cell_type": "code",
   "execution_count": 81,
   "metadata": {},
   "outputs": [
    {
     "output_type": "display_data",
     "data": {
      "application/vnd.plotly.v1+json": {
       "config": {
        "plotlyServerURL": "https://plot.ly"
       },
       "data": [
        {
         "alignmentgroup": "True",
         "hovertemplate": "Počet_balení=%{text}<br>ATC7_popis=%{y}<extra></extra>",
         "legendgroup": "",
         "marker": {
          "color": "#4B6AAB"
         },
         "name": "",
         "offsetgroup": "",
         "orientation": "h",
         "showlegend": false,
         "text": [
          1444293.9589999998,
          1496827.5,
          1555453.9270000004,
          1570661.3780000005,
          1751434.007,
          1873602.519,
          1946250.7069999997,
          2013726.5179999997,
          2045121.7299999997,
          2119340.883,
          2607372.5420000004,
          2795946.7169999992,
          3297020.1070000003,
          5331686.852000001,
          9618479.51
         ],
         "textposition": "inside",
         "texttemplate": "%{text:.3s}",
         "type": "bar",
         "x": [
          1444293.9589999998,
          1496827.5,
          1555453.9270000004,
          1570661.3780000005,
          1751434.007,
          1873602.519,
          1946250.7069999997,
          2013726.5179999997,
          2045121.7299999997,
          2119340.883,
          2607372.5420000004,
          2795946.7169999992,
          3297020.1070000003,
          5331686.852000001,
          9618479.51
         ],
         "xaxis": "x",
         "y": [
          "Rôzne iné krčné antiseptiká",
          "Xylometazolín",
          "Zolpidém",
          "Atorvastatín",
          "Kyselina acetylsalicylová",
          "Metoprolol",
          "Metamizol, sodná soľ",
          "Diklofenak",
          "Alprazolam",
          "Amlodipín",
          "Bisoprolol",
          "Ibuprofén",
          "Paracetamol",
          "Elektrolyty",
          "Technécium - ("
         ],
         "yaxis": "y"
        }
       ],
       "layout": {
        "barmode": "relative",
        "legend": {
         "tracegroupgap": 0
        },
        "margin": {
         "t": 60
        },
        "template": {
         "data": {
          "bar": [
           {
            "error_x": {
             "color": "#2a3f5f"
            },
            "error_y": {
             "color": "#2a3f5f"
            },
            "marker": {
             "line": {
              "color": "#E5ECF6",
              "width": 0.5
             }
            },
            "type": "bar"
           }
          ],
          "barpolar": [
           {
            "marker": {
             "line": {
              "color": "#E5ECF6",
              "width": 0.5
             }
            },
            "type": "barpolar"
           }
          ],
          "carpet": [
           {
            "aaxis": {
             "endlinecolor": "#2a3f5f",
             "gridcolor": "white",
             "linecolor": "white",
             "minorgridcolor": "white",
             "startlinecolor": "#2a3f5f"
            },
            "baxis": {
             "endlinecolor": "#2a3f5f",
             "gridcolor": "white",
             "linecolor": "white",
             "minorgridcolor": "white",
             "startlinecolor": "#2a3f5f"
            },
            "type": "carpet"
           }
          ],
          "choropleth": [
           {
            "colorbar": {
             "outlinewidth": 0,
             "ticks": ""
            },
            "type": "choropleth"
           }
          ],
          "contour": [
           {
            "colorbar": {
             "outlinewidth": 0,
             "ticks": ""
            },
            "colorscale": [
             [
              0,
              "#0d0887"
             ],
             [
              0.1111111111111111,
              "#46039f"
             ],
             [
              0.2222222222222222,
              "#7201a8"
             ],
             [
              0.3333333333333333,
              "#9c179e"
             ],
             [
              0.4444444444444444,
              "#bd3786"
             ],
             [
              0.5555555555555556,
              "#d8576b"
             ],
             [
              0.6666666666666666,
              "#ed7953"
             ],
             [
              0.7777777777777778,
              "#fb9f3a"
             ],
             [
              0.8888888888888888,
              "#fdca26"
             ],
             [
              1,
              "#f0f921"
             ]
            ],
            "type": "contour"
           }
          ],
          "contourcarpet": [
           {
            "colorbar": {
             "outlinewidth": 0,
             "ticks": ""
            },
            "type": "contourcarpet"
           }
          ],
          "heatmap": [
           {
            "colorbar": {
             "outlinewidth": 0,
             "ticks": ""
            },
            "colorscale": [
             [
              0,
              "#0d0887"
             ],
             [
              0.1111111111111111,
              "#46039f"
             ],
             [
              0.2222222222222222,
              "#7201a8"
             ],
             [
              0.3333333333333333,
              "#9c179e"
             ],
             [
              0.4444444444444444,
              "#bd3786"
             ],
             [
              0.5555555555555556,
              "#d8576b"
             ],
             [
              0.6666666666666666,
              "#ed7953"
             ],
             [
              0.7777777777777778,
              "#fb9f3a"
             ],
             [
              0.8888888888888888,
              "#fdca26"
             ],
             [
              1,
              "#f0f921"
             ]
            ],
            "type": "heatmap"
           }
          ],
          "heatmapgl": [
           {
            "colorbar": {
             "outlinewidth": 0,
             "ticks": ""
            },
            "colorscale": [
             [
              0,
              "#0d0887"
             ],
             [
              0.1111111111111111,
              "#46039f"
             ],
             [
              0.2222222222222222,
              "#7201a8"
             ],
             [
              0.3333333333333333,
              "#9c179e"
             ],
             [
              0.4444444444444444,
              "#bd3786"
             ],
             [
              0.5555555555555556,
              "#d8576b"
             ],
             [
              0.6666666666666666,
              "#ed7953"
             ],
             [
              0.7777777777777778,
              "#fb9f3a"
             ],
             [
              0.8888888888888888,
              "#fdca26"
             ],
             [
              1,
              "#f0f921"
             ]
            ],
            "type": "heatmapgl"
           }
          ],
          "histogram": [
           {
            "marker": {
             "colorbar": {
              "outlinewidth": 0,
              "ticks": ""
             }
            },
            "type": "histogram"
           }
          ],
          "histogram2d": [
           {
            "colorbar": {
             "outlinewidth": 0,
             "ticks": ""
            },
            "colorscale": [
             [
              0,
              "#0d0887"
             ],
             [
              0.1111111111111111,
              "#46039f"
             ],
             [
              0.2222222222222222,
              "#7201a8"
             ],
             [
              0.3333333333333333,
              "#9c179e"
             ],
             [
              0.4444444444444444,
              "#bd3786"
             ],
             [
              0.5555555555555556,
              "#d8576b"
             ],
             [
              0.6666666666666666,
              "#ed7953"
             ],
             [
              0.7777777777777778,
              "#fb9f3a"
             ],
             [
              0.8888888888888888,
              "#fdca26"
             ],
             [
              1,
              "#f0f921"
             ]
            ],
            "type": "histogram2d"
           }
          ],
          "histogram2dcontour": [
           {
            "colorbar": {
             "outlinewidth": 0,
             "ticks": ""
            },
            "colorscale": [
             [
              0,
              "#0d0887"
             ],
             [
              0.1111111111111111,
              "#46039f"
             ],
             [
              0.2222222222222222,
              "#7201a8"
             ],
             [
              0.3333333333333333,
              "#9c179e"
             ],
             [
              0.4444444444444444,
              "#bd3786"
             ],
             [
              0.5555555555555556,
              "#d8576b"
             ],
             [
              0.6666666666666666,
              "#ed7953"
             ],
             [
              0.7777777777777778,
              "#fb9f3a"
             ],
             [
              0.8888888888888888,
              "#fdca26"
             ],
             [
              1,
              "#f0f921"
             ]
            ],
            "type": "histogram2dcontour"
           }
          ],
          "mesh3d": [
           {
            "colorbar": {
             "outlinewidth": 0,
             "ticks": ""
            },
            "type": "mesh3d"
           }
          ],
          "parcoords": [
           {
            "line": {
             "colorbar": {
              "outlinewidth": 0,
              "ticks": ""
             }
            },
            "type": "parcoords"
           }
          ],
          "pie": [
           {
            "automargin": true,
            "type": "pie"
           }
          ],
          "scatter": [
           {
            "marker": {
             "colorbar": {
              "outlinewidth": 0,
              "ticks": ""
             }
            },
            "type": "scatter"
           }
          ],
          "scatter3d": [
           {
            "line": {
             "colorbar": {
              "outlinewidth": 0,
              "ticks": ""
             }
            },
            "marker": {
             "colorbar": {
              "outlinewidth": 0,
              "ticks": ""
             }
            },
            "type": "scatter3d"
           }
          ],
          "scattercarpet": [
           {
            "marker": {
             "colorbar": {
              "outlinewidth": 0,
              "ticks": ""
             }
            },
            "type": "scattercarpet"
           }
          ],
          "scattergeo": [
           {
            "marker": {
             "colorbar": {
              "outlinewidth": 0,
              "ticks": ""
             }
            },
            "type": "scattergeo"
           }
          ],
          "scattergl": [
           {
            "marker": {
             "colorbar": {
              "outlinewidth": 0,
              "ticks": ""
             }
            },
            "type": "scattergl"
           }
          ],
          "scattermapbox": [
           {
            "marker": {
             "colorbar": {
              "outlinewidth": 0,
              "ticks": ""
             }
            },
            "type": "scattermapbox"
           }
          ],
          "scatterpolar": [
           {
            "marker": {
             "colorbar": {
              "outlinewidth": 0,
              "ticks": ""
             }
            },
            "type": "scatterpolar"
           }
          ],
          "scatterpolargl": [
           {
            "marker": {
             "colorbar": {
              "outlinewidth": 0,
              "ticks": ""
             }
            },
            "type": "scatterpolargl"
           }
          ],
          "scatterternary": [
           {
            "marker": {
             "colorbar": {
              "outlinewidth": 0,
              "ticks": ""
             }
            },
            "type": "scatterternary"
           }
          ],
          "surface": [
           {
            "colorbar": {
             "outlinewidth": 0,
             "ticks": ""
            },
            "colorscale": [
             [
              0,
              "#0d0887"
             ],
             [
              0.1111111111111111,
              "#46039f"
             ],
             [
              0.2222222222222222,
              "#7201a8"
             ],
             [
              0.3333333333333333,
              "#9c179e"
             ],
             [
              0.4444444444444444,
              "#bd3786"
             ],
             [
              0.5555555555555556,
              "#d8576b"
             ],
             [
              0.6666666666666666,
              "#ed7953"
             ],
             [
              0.7777777777777778,
              "#fb9f3a"
             ],
             [
              0.8888888888888888,
              "#fdca26"
             ],
             [
              1,
              "#f0f921"
             ]
            ],
            "type": "surface"
           }
          ],
          "table": [
           {
            "cells": {
             "fill": {
              "color": "#EBF0F8"
             },
             "line": {
              "color": "white"
             }
            },
            "header": {
             "fill": {
              "color": "#C8D4E3"
             },
             "line": {
              "color": "white"
             }
            },
            "type": "table"
           }
          ]
         },
         "layout": {
          "annotationdefaults": {
           "arrowcolor": "#2a3f5f",
           "arrowhead": 0,
           "arrowwidth": 1
          },
          "autotypenumbers": "strict",
          "coloraxis": {
           "colorbar": {
            "outlinewidth": 0,
            "ticks": ""
           }
          },
          "colorscale": {
           "diverging": [
            [
             0,
             "#8e0152"
            ],
            [
             0.1,
             "#c51b7d"
            ],
            [
             0.2,
             "#de77ae"
            ],
            [
             0.3,
             "#f1b6da"
            ],
            [
             0.4,
             "#fde0ef"
            ],
            [
             0.5,
             "#f7f7f7"
            ],
            [
             0.6,
             "#e6f5d0"
            ],
            [
             0.7,
             "#b8e186"
            ],
            [
             0.8,
             "#7fbc41"
            ],
            [
             0.9,
             "#4d9221"
            ],
            [
             1,
             "#276419"
            ]
           ],
           "sequential": [
            [
             0,
             "#0d0887"
            ],
            [
             0.1111111111111111,
             "#46039f"
            ],
            [
             0.2222222222222222,
             "#7201a8"
            ],
            [
             0.3333333333333333,
             "#9c179e"
            ],
            [
             0.4444444444444444,
             "#bd3786"
            ],
            [
             0.5555555555555556,
             "#d8576b"
            ],
            [
             0.6666666666666666,
             "#ed7953"
            ],
            [
             0.7777777777777778,
             "#fb9f3a"
            ],
            [
             0.8888888888888888,
             "#fdca26"
            ],
            [
             1,
             "#f0f921"
            ]
           ],
           "sequentialminus": [
            [
             0,
             "#0d0887"
            ],
            [
             0.1111111111111111,
             "#46039f"
            ],
            [
             0.2222222222222222,
             "#7201a8"
            ],
            [
             0.3333333333333333,
             "#9c179e"
            ],
            [
             0.4444444444444444,
             "#bd3786"
            ],
            [
             0.5555555555555556,
             "#d8576b"
            ],
            [
             0.6666666666666666,
             "#ed7953"
            ],
            [
             0.7777777777777778,
             "#fb9f3a"
            ],
            [
             0.8888888888888888,
             "#fdca26"
            ],
            [
             1,
             "#f0f921"
            ]
           ]
          },
          "colorway": [
           "#636efa",
           "#EF553B",
           "#00cc96",
           "#ab63fa",
           "#FFA15A",
           "#19d3f3",
           "#FF6692",
           "#B6E880",
           "#FF97FF",
           "#FECB52"
          ],
          "font": {
           "color": "#2a3f5f"
          },
          "geo": {
           "bgcolor": "white",
           "lakecolor": "white",
           "landcolor": "#E5ECF6",
           "showlakes": true,
           "showland": true,
           "subunitcolor": "white"
          },
          "hoverlabel": {
           "align": "left"
          },
          "hovermode": "closest",
          "mapbox": {
           "style": "light"
          },
          "paper_bgcolor": "white",
          "plot_bgcolor": "#E5ECF6",
          "polar": {
           "angularaxis": {
            "gridcolor": "white",
            "linecolor": "white",
            "ticks": ""
           },
           "bgcolor": "#E5ECF6",
           "radialaxis": {
            "gridcolor": "white",
            "linecolor": "white",
            "ticks": ""
           }
          },
          "scene": {
           "xaxis": {
            "backgroundcolor": "#E5ECF6",
            "gridcolor": "white",
            "gridwidth": 2,
            "linecolor": "white",
            "showbackground": true,
            "ticks": "",
            "zerolinecolor": "white"
           },
           "yaxis": {
            "backgroundcolor": "#E5ECF6",
            "gridcolor": "white",
            "gridwidth": 2,
            "linecolor": "white",
            "showbackground": true,
            "ticks": "",
            "zerolinecolor": "white"
           },
           "zaxis": {
            "backgroundcolor": "#E5ECF6",
            "gridcolor": "white",
            "gridwidth": 2,
            "linecolor": "white",
            "showbackground": true,
            "ticks": "",
            "zerolinecolor": "white"
           }
          },
          "shapedefaults": {
           "line": {
            "color": "#2a3f5f"
           }
          },
          "ternary": {
           "aaxis": {
            "gridcolor": "white",
            "linecolor": "white",
            "ticks": ""
           },
           "baxis": {
            "gridcolor": "white",
            "linecolor": "white",
            "ticks": ""
           },
           "bgcolor": "#E5ECF6",
           "caxis": {
            "gridcolor": "white",
            "linecolor": "white",
            "ticks": ""
           }
          },
          "title": {
           "x": 0.05
          },
          "xaxis": {
           "automargin": true,
           "gridcolor": "white",
           "linecolor": "white",
           "ticks": "",
           "title": {
            "standoff": 15
           },
           "zerolinecolor": "white",
           "zerolinewidth": 2
          },
          "yaxis": {
           "automargin": true,
           "gridcolor": "white",
           "linecolor": "white",
           "ticks": "",
           "title": {
            "standoff": 15
           },
           "zerolinecolor": "white",
           "zerolinewidth": 2
          }
         }
        },
        "title": {
         "text": "15 najpredávanejších účinných látok"
        },
        "uniformtext": {
         "minsize": 8,
         "mode": "hide"
        },
        "xaxis": {
         "anchor": "y",
         "domain": [
          0,
          1
         ],
         "title": {
          "text": "Počet balení"
         }
        },
        "yaxis": {
         "anchor": "x",
         "domain": [
          0,
          1
         ],
         "title": {
          "text": " "
         }
        }
       }
      }
     },
     "metadata": {}
    }
   ],
   "source": [
    "#fig = px.bar(atc7.sort_values(by='Počet_balení'), x='Počet_balení', y='ATC7_popis', orientation='h', text='Počet_balení', color_discrete_sequence=['#345C66'])\n",
    "fig = px.bar(atc7.sort_values(by='Počet_balení'), x='Počet_balení', y='ATC7_popis', orientation='h', text='Počet_balení', color_discrete_sequence=[modra])\n",
    "fig.update_traces(texttemplate='%{text:.3s}', textposition='inside')\n",
    "fig.update_layout(uniformtext_minsize=8, uniformtext_mode='hide', title= '15 najpredávanejších účinných látok')\n",
    "fig.update_xaxes(title='Počet balení')\n",
    "fig.update_yaxes(title=' ')\n",
    "fig.show()"
   ]
  },
  {
   "source": [
    "Najpredavanejsou ucinnou latkou je Technecium, co su diagosticke radiofarmaka. Takisto sa medzi najpouzivanejsimi latkami nachadzaju solne roztoky (Elektrolyty), vo velkej miere lieky proti bolesti (Paracetamol) a zapalom (Ibuprofen, Diklofenak, Metamizol, Kyselina acetylsalicylova), pripadne na kardiovaskularne choroby(Bisoprolol, Amlodipin, Metoprolol, Atorvastatin). Najdeme tu lieky aj na liecenie uzkostnych poruch (Alprazolam), poruch so spankom (Zolpidem), liecbu nadchy - opuchov nosovej sliznice (Xylometazolin) a bolest hrdla (Rozne ine krcne antiseptika)"
   ],
   "cell_type": "markdown",
   "metadata": {}
  },
  {
   "source": [
    "## Ukazky udajov jednotlivych tabuliek (podla poctu baleni)"
   ],
   "cell_type": "markdown",
   "metadata": {}
  },
  {
   "cell_type": "code",
   "execution_count": 30,
   "metadata": {},
   "outputs": [],
   "source": [
    "nazvy = []\n",
    "for n in atc7['ATC7_KOD']:\n",
    "    if n not in nazvy:\n",
    "        nazvy.append(n)\n",
    "\n",
    "top15tab= {}\n",
    "for i in range(15):\n",
    "    top15tab[nazvy[i]] = table2019sum.query(f'ATC7_KOD == \"{nazvy[i]}\"').sort_values(by='Počet_balení', ascending= False).reset_index()\n",
    "    #display(top15tab[nazvy[i]].head())"
   ]
  },
  {
   "source": [
    "# Grafy pre jednotlive ucinne latky"
   ],
   "cell_type": "markdown",
   "metadata": {}
  },
  {
   "source": [
    "# 1. Technecium"
   ],
   "cell_type": "markdown",
   "metadata": {}
  },
  {
   "cell_type": "code",
   "execution_count": 31,
   "metadata": {},
   "outputs": [
    {
     "output_type": "display_data",
     "data": {
      "text/plain": "                             LIEK_popis STAT_popis            VYROBCA_popis  \\\n0                        Drytec gen rnk  Holandsko       GE Healthcare B.V.   \n1  Ultra-TechneKow FM (99mTC-generátor)  Holandsko  Curium Netherlands B.V.   \n\n   index  Počet_balení  \n0  57267    8626479.51  \n1  38158     992000.00  ",
      "text/html": "<div>\n<style scoped>\n    .dataframe tbody tr th:only-of-type {\n        vertical-align: middle;\n    }\n\n    .dataframe tbody tr th {\n        vertical-align: top;\n    }\n\n    .dataframe thead th {\n        text-align: right;\n    }\n</style>\n<table border=\"1\" class=\"dataframe\">\n  <thead>\n    <tr style=\"text-align: right;\">\n      <th></th>\n      <th>LIEK_popis</th>\n      <th>STAT_popis</th>\n      <th>VYROBCA_popis</th>\n      <th>index</th>\n      <th>Počet_balení</th>\n    </tr>\n  </thead>\n  <tbody>\n    <tr>\n      <th>0</th>\n      <td>Drytec gen rnk</td>\n      <td>Holandsko</td>\n      <td>GE Healthcare B.V.</td>\n      <td>57267</td>\n      <td>8626479.51</td>\n    </tr>\n    <tr>\n      <th>1</th>\n      <td>Ultra-TechneKow FM (99mTC-generátor)</td>\n      <td>Holandsko</td>\n      <td>Curium Netherlands B.V.</td>\n      <td>38158</td>\n      <td>992000.00</td>\n    </tr>\n  </tbody>\n</table>\n</div>"
     },
     "metadata": {}
    },
    {
     "output_type": "stream",
     "name": "stdout",
     "text": [
      "\nTyp vydaju:\nvýdaj z nemocničnej lekárne pre vlastnú nemocnicu    0.692308\núhrada z verejnej poisťovne                          0.307692\nName: TYP_VYDAJ_POP, dtype: float64\n"
     ]
    }
   ],
   "source": [
    "technecium = top15tab[\"V09FX01\"]\n",
    "\n",
    "for i,popis in enumerate(technecium['LIEK_popis']):\n",
    "    if 'Drytec gen' in popis:\n",
    "        technecium.iloc[i,4] = 'Drytec gen rnk'\n",
    "    elif \"Ultra-TechneKow\" in popis:\n",
    "        technecium.iloc[i,4] = 'Ultra-TechneKow FM (99mTC-generátor)'\n",
    "\n",
    "technecium = technecium.groupby(['LIEK_popis', 'STAT_popis', 'VYROBCA_popis']).sum().reset_index()\n",
    "display(technecium)\n",
    "print()\n",
    "print(\"Typ vydaju:\")\n",
    "item_counts = table.query('ATC7_KOD == \"V09FX01\"')[\"TYP_VYDAJ_POP\"].value_counts(normalize=True)\n",
    "print(item_counts)\n",
    "\n"
   ]
  },
  {
   "cell_type": "code",
   "execution_count": 82,
   "metadata": {},
   "outputs": [
    {
     "output_type": "display_data",
     "data": {
      "application/vnd.plotly.v1+json": {
       "config": {
        "plotlyServerURL": "https://plot.ly"
       },
       "data": [
        {
         "alignmentgroup": "True",
         "hovertemplate": "Výrobca=GE Healthcare B.V.<br> =%{x}<br>Počet balení=%{y}<extra></extra>",
         "legendgroup": "GE Healthcare B.V.",
         "marker": {
          "color": "#4B6AAB"
         },
         "name": "GE Healthcare B.V.",
         "offsetgroup": "GE Healthcare B.V.",
         "orientation": "v",
         "showlegend": true,
         "textposition": "auto",
         "type": "bar",
         "x": [
          "Drytec gen rnk"
         ],
         "xaxis": "x",
         "y": [
          8626479.51
         ],
         "yaxis": "y"
        },
        {
         "alignmentgroup": "True",
         "hovertemplate": "Výrobca=Curium Netherlands B.V.<br> =%{x}<br>Počet balení=%{y}<extra></extra>",
         "legendgroup": "Curium Netherlands B.V.",
         "marker": {
          "color": "#D8764C"
         },
         "name": "Curium Netherlands B.V.",
         "offsetgroup": "Curium Netherlands B.V.",
         "orientation": "v",
         "showlegend": true,
         "textposition": "auto",
         "type": "bar",
         "x": [
          "Ultra-TechneKow FM (99mTC-generátor)"
         ],
         "xaxis": "x",
         "y": [
          992000
         ],
         "yaxis": "y"
        }
       ],
       "layout": {
        "barmode": "relative",
        "legend": {
         "title": {
          "text": "Výrobca"
         },
         "tracegroupgap": 0
        },
        "template": {
         "data": {
          "bar": [
           {
            "error_x": {
             "color": "#2a3f5f"
            },
            "error_y": {
             "color": "#2a3f5f"
            },
            "marker": {
             "line": {
              "color": "#E5ECF6",
              "width": 0.5
             }
            },
            "type": "bar"
           }
          ],
          "barpolar": [
           {
            "marker": {
             "line": {
              "color": "#E5ECF6",
              "width": 0.5
             }
            },
            "type": "barpolar"
           }
          ],
          "carpet": [
           {
            "aaxis": {
             "endlinecolor": "#2a3f5f",
             "gridcolor": "white",
             "linecolor": "white",
             "minorgridcolor": "white",
             "startlinecolor": "#2a3f5f"
            },
            "baxis": {
             "endlinecolor": "#2a3f5f",
             "gridcolor": "white",
             "linecolor": "white",
             "minorgridcolor": "white",
             "startlinecolor": "#2a3f5f"
            },
            "type": "carpet"
           }
          ],
          "choropleth": [
           {
            "colorbar": {
             "outlinewidth": 0,
             "ticks": ""
            },
            "type": "choropleth"
           }
          ],
          "contour": [
           {
            "colorbar": {
             "outlinewidth": 0,
             "ticks": ""
            },
            "colorscale": [
             [
              0,
              "#0d0887"
             ],
             [
              0.1111111111111111,
              "#46039f"
             ],
             [
              0.2222222222222222,
              "#7201a8"
             ],
             [
              0.3333333333333333,
              "#9c179e"
             ],
             [
              0.4444444444444444,
              "#bd3786"
             ],
             [
              0.5555555555555556,
              "#d8576b"
             ],
             [
              0.6666666666666666,
              "#ed7953"
             ],
             [
              0.7777777777777778,
              "#fb9f3a"
             ],
             [
              0.8888888888888888,
              "#fdca26"
             ],
             [
              1,
              "#f0f921"
             ]
            ],
            "type": "contour"
           }
          ],
          "contourcarpet": [
           {
            "colorbar": {
             "outlinewidth": 0,
             "ticks": ""
            },
            "type": "contourcarpet"
           }
          ],
          "heatmap": [
           {
            "colorbar": {
             "outlinewidth": 0,
             "ticks": ""
            },
            "colorscale": [
             [
              0,
              "#0d0887"
             ],
             [
              0.1111111111111111,
              "#46039f"
             ],
             [
              0.2222222222222222,
              "#7201a8"
             ],
             [
              0.3333333333333333,
              "#9c179e"
             ],
             [
              0.4444444444444444,
              "#bd3786"
             ],
             [
              0.5555555555555556,
              "#d8576b"
             ],
             [
              0.6666666666666666,
              "#ed7953"
             ],
             [
              0.7777777777777778,
              "#fb9f3a"
             ],
             [
              0.8888888888888888,
              "#fdca26"
             ],
             [
              1,
              "#f0f921"
             ]
            ],
            "type": "heatmap"
           }
          ],
          "heatmapgl": [
           {
            "colorbar": {
             "outlinewidth": 0,
             "ticks": ""
            },
            "colorscale": [
             [
              0,
              "#0d0887"
             ],
             [
              0.1111111111111111,
              "#46039f"
             ],
             [
              0.2222222222222222,
              "#7201a8"
             ],
             [
              0.3333333333333333,
              "#9c179e"
             ],
             [
              0.4444444444444444,
              "#bd3786"
             ],
             [
              0.5555555555555556,
              "#d8576b"
             ],
             [
              0.6666666666666666,
              "#ed7953"
             ],
             [
              0.7777777777777778,
              "#fb9f3a"
             ],
             [
              0.8888888888888888,
              "#fdca26"
             ],
             [
              1,
              "#f0f921"
             ]
            ],
            "type": "heatmapgl"
           }
          ],
          "histogram": [
           {
            "marker": {
             "colorbar": {
              "outlinewidth": 0,
              "ticks": ""
             }
            },
            "type": "histogram"
           }
          ],
          "histogram2d": [
           {
            "colorbar": {
             "outlinewidth": 0,
             "ticks": ""
            },
            "colorscale": [
             [
              0,
              "#0d0887"
             ],
             [
              0.1111111111111111,
              "#46039f"
             ],
             [
              0.2222222222222222,
              "#7201a8"
             ],
             [
              0.3333333333333333,
              "#9c179e"
             ],
             [
              0.4444444444444444,
              "#bd3786"
             ],
             [
              0.5555555555555556,
              "#d8576b"
             ],
             [
              0.6666666666666666,
              "#ed7953"
             ],
             [
              0.7777777777777778,
              "#fb9f3a"
             ],
             [
              0.8888888888888888,
              "#fdca26"
             ],
             [
              1,
              "#f0f921"
             ]
            ],
            "type": "histogram2d"
           }
          ],
          "histogram2dcontour": [
           {
            "colorbar": {
             "outlinewidth": 0,
             "ticks": ""
            },
            "colorscale": [
             [
              0,
              "#0d0887"
             ],
             [
              0.1111111111111111,
              "#46039f"
             ],
             [
              0.2222222222222222,
              "#7201a8"
             ],
             [
              0.3333333333333333,
              "#9c179e"
             ],
             [
              0.4444444444444444,
              "#bd3786"
             ],
             [
              0.5555555555555556,
              "#d8576b"
             ],
             [
              0.6666666666666666,
              "#ed7953"
             ],
             [
              0.7777777777777778,
              "#fb9f3a"
             ],
             [
              0.8888888888888888,
              "#fdca26"
             ],
             [
              1,
              "#f0f921"
             ]
            ],
            "type": "histogram2dcontour"
           }
          ],
          "mesh3d": [
           {
            "colorbar": {
             "outlinewidth": 0,
             "ticks": ""
            },
            "type": "mesh3d"
           }
          ],
          "parcoords": [
           {
            "line": {
             "colorbar": {
              "outlinewidth": 0,
              "ticks": ""
             }
            },
            "type": "parcoords"
           }
          ],
          "pie": [
           {
            "automargin": true,
            "type": "pie"
           }
          ],
          "scatter": [
           {
            "marker": {
             "colorbar": {
              "outlinewidth": 0,
              "ticks": ""
             }
            },
            "type": "scatter"
           }
          ],
          "scatter3d": [
           {
            "line": {
             "colorbar": {
              "outlinewidth": 0,
              "ticks": ""
             }
            },
            "marker": {
             "colorbar": {
              "outlinewidth": 0,
              "ticks": ""
             }
            },
            "type": "scatter3d"
           }
          ],
          "scattercarpet": [
           {
            "marker": {
             "colorbar": {
              "outlinewidth": 0,
              "ticks": ""
             }
            },
            "type": "scattercarpet"
           }
          ],
          "scattergeo": [
           {
            "marker": {
             "colorbar": {
              "outlinewidth": 0,
              "ticks": ""
             }
            },
            "type": "scattergeo"
           }
          ],
          "scattergl": [
           {
            "marker": {
             "colorbar": {
              "outlinewidth": 0,
              "ticks": ""
             }
            },
            "type": "scattergl"
           }
          ],
          "scattermapbox": [
           {
            "marker": {
             "colorbar": {
              "outlinewidth": 0,
              "ticks": ""
             }
            },
            "type": "scattermapbox"
           }
          ],
          "scatterpolar": [
           {
            "marker": {
             "colorbar": {
              "outlinewidth": 0,
              "ticks": ""
             }
            },
            "type": "scatterpolar"
           }
          ],
          "scatterpolargl": [
           {
            "marker": {
             "colorbar": {
              "outlinewidth": 0,
              "ticks": ""
             }
            },
            "type": "scatterpolargl"
           }
          ],
          "scatterternary": [
           {
            "marker": {
             "colorbar": {
              "outlinewidth": 0,
              "ticks": ""
             }
            },
            "type": "scatterternary"
           }
          ],
          "surface": [
           {
            "colorbar": {
             "outlinewidth": 0,
             "ticks": ""
            },
            "colorscale": [
             [
              0,
              "#0d0887"
             ],
             [
              0.1111111111111111,
              "#46039f"
             ],
             [
              0.2222222222222222,
              "#7201a8"
             ],
             [
              0.3333333333333333,
              "#9c179e"
             ],
             [
              0.4444444444444444,
              "#bd3786"
             ],
             [
              0.5555555555555556,
              "#d8576b"
             ],
             [
              0.6666666666666666,
              "#ed7953"
             ],
             [
              0.7777777777777778,
              "#fb9f3a"
             ],
             [
              0.8888888888888888,
              "#fdca26"
             ],
             [
              1,
              "#f0f921"
             ]
            ],
            "type": "surface"
           }
          ],
          "table": [
           {
            "cells": {
             "fill": {
              "color": "#EBF0F8"
             },
             "line": {
              "color": "white"
             }
            },
            "header": {
             "fill": {
              "color": "#C8D4E3"
             },
             "line": {
              "color": "white"
             }
            },
            "type": "table"
           }
          ]
         },
         "layout": {
          "annotationdefaults": {
           "arrowcolor": "#2a3f5f",
           "arrowhead": 0,
           "arrowwidth": 1
          },
          "autotypenumbers": "strict",
          "coloraxis": {
           "colorbar": {
            "outlinewidth": 0,
            "ticks": ""
           }
          },
          "colorscale": {
           "diverging": [
            [
             0,
             "#8e0152"
            ],
            [
             0.1,
             "#c51b7d"
            ],
            [
             0.2,
             "#de77ae"
            ],
            [
             0.3,
             "#f1b6da"
            ],
            [
             0.4,
             "#fde0ef"
            ],
            [
             0.5,
             "#f7f7f7"
            ],
            [
             0.6,
             "#e6f5d0"
            ],
            [
             0.7,
             "#b8e186"
            ],
            [
             0.8,
             "#7fbc41"
            ],
            [
             0.9,
             "#4d9221"
            ],
            [
             1,
             "#276419"
            ]
           ],
           "sequential": [
            [
             0,
             "#0d0887"
            ],
            [
             0.1111111111111111,
             "#46039f"
            ],
            [
             0.2222222222222222,
             "#7201a8"
            ],
            [
             0.3333333333333333,
             "#9c179e"
            ],
            [
             0.4444444444444444,
             "#bd3786"
            ],
            [
             0.5555555555555556,
             "#d8576b"
            ],
            [
             0.6666666666666666,
             "#ed7953"
            ],
            [
             0.7777777777777778,
             "#fb9f3a"
            ],
            [
             0.8888888888888888,
             "#fdca26"
            ],
            [
             1,
             "#f0f921"
            ]
           ],
           "sequentialminus": [
            [
             0,
             "#0d0887"
            ],
            [
             0.1111111111111111,
             "#46039f"
            ],
            [
             0.2222222222222222,
             "#7201a8"
            ],
            [
             0.3333333333333333,
             "#9c179e"
            ],
            [
             0.4444444444444444,
             "#bd3786"
            ],
            [
             0.5555555555555556,
             "#d8576b"
            ],
            [
             0.6666666666666666,
             "#ed7953"
            ],
            [
             0.7777777777777778,
             "#fb9f3a"
            ],
            [
             0.8888888888888888,
             "#fdca26"
            ],
            [
             1,
             "#f0f921"
            ]
           ]
          },
          "colorway": [
           "#636efa",
           "#EF553B",
           "#00cc96",
           "#ab63fa",
           "#FFA15A",
           "#19d3f3",
           "#FF6692",
           "#B6E880",
           "#FF97FF",
           "#FECB52"
          ],
          "font": {
           "color": "#2a3f5f"
          },
          "geo": {
           "bgcolor": "white",
           "lakecolor": "white",
           "landcolor": "#E5ECF6",
           "showlakes": true,
           "showland": true,
           "subunitcolor": "white"
          },
          "hoverlabel": {
           "align": "left"
          },
          "hovermode": "closest",
          "mapbox": {
           "style": "light"
          },
          "paper_bgcolor": "white",
          "plot_bgcolor": "#E5ECF6",
          "polar": {
           "angularaxis": {
            "gridcolor": "white",
            "linecolor": "white",
            "ticks": ""
           },
           "bgcolor": "#E5ECF6",
           "radialaxis": {
            "gridcolor": "white",
            "linecolor": "white",
            "ticks": ""
           }
          },
          "scene": {
           "xaxis": {
            "backgroundcolor": "#E5ECF6",
            "gridcolor": "white",
            "gridwidth": 2,
            "linecolor": "white",
            "showbackground": true,
            "ticks": "",
            "zerolinecolor": "white"
           },
           "yaxis": {
            "backgroundcolor": "#E5ECF6",
            "gridcolor": "white",
            "gridwidth": 2,
            "linecolor": "white",
            "showbackground": true,
            "ticks": "",
            "zerolinecolor": "white"
           },
           "zaxis": {
            "backgroundcolor": "#E5ECF6",
            "gridcolor": "white",
            "gridwidth": 2,
            "linecolor": "white",
            "showbackground": true,
            "ticks": "",
            "zerolinecolor": "white"
           }
          },
          "shapedefaults": {
           "line": {
            "color": "#2a3f5f"
           }
          },
          "ternary": {
           "aaxis": {
            "gridcolor": "white",
            "linecolor": "white",
            "ticks": ""
           },
           "baxis": {
            "gridcolor": "white",
            "linecolor": "white",
            "ticks": ""
           },
           "bgcolor": "#E5ECF6",
           "caxis": {
            "gridcolor": "white",
            "linecolor": "white",
            "ticks": ""
           }
          },
          "title": {
           "x": 0.05
          },
          "xaxis": {
           "automargin": true,
           "gridcolor": "white",
           "linecolor": "white",
           "ticks": "",
           "title": {
            "standoff": 15
           },
           "zerolinecolor": "white",
           "zerolinewidth": 2
          },
          "yaxis": {
           "automargin": true,
           "gridcolor": "white",
           "linecolor": "white",
           "ticks": "",
           "title": {
            "standoff": 15
           },
           "zerolinecolor": "white",
           "zerolinewidth": 2
          }
         }
        },
        "title": {
         "text": "Technécium"
        },
        "xaxis": {
         "anchor": "y",
         "domain": [
          0,
          1
         ],
         "title": {
          "text": " "
         }
        },
        "yaxis": {
         "anchor": "x",
         "domain": [
          0,
          1
         ],
         "title": {
          "text": "Počet balení"
         }
        }
       }
      }
     },
     "metadata": {}
    }
   ],
   "source": [
    "fig = px.bar(technecium, x='LIEK_popis', y='Počet_balení', color='VYROBCA_popis', title='Technécium', labels={'Počet_balení':'Počet balení', 'LIEK_popis':' ', 'VYROBCA_popis':'Výrobca' }, color_discrete_sequence=[modra, oranzova])\n",
    "fig.show()"
   ]
  },
  {
   "source": [
    " Na vizualizaciu ucinnej latky technecium nam bolo najvyhodnejsie pouzit barplot. \n",
    " Nakolko sa jedna o diagnosticke radiofarmaka, podla vypisu Series vidime ze tieto lieky boli poskytovane nemocnicou alebo ich\n",
    " pacientom hradila zdravotna poistovna. Obe radiofarmaka su vyrabane Holandskymi vyrobcami, preto v grafe nie su rozlisene na zaklade krajiny ale vyrobcu.\n",
    " ## ZAVER: \n",
    "* Radioafarmaka, s ucnnou latkou technecium pouzivame iba z Holandska. Obrovska cast je od vyrobcu GE Healthcare B.V.\n",
    "* Graf je nezaujimavy."
   ],
   "cell_type": "markdown",
   "metadata": {}
  },
  {
   "source": [
    "# 2. Elektrolyty:"
   ],
   "cell_type": "markdown",
   "metadata": {}
  },
  {
   "cell_type": "code",
   "execution_count": 83,
   "metadata": {},
   "outputs": [
    {
     "output_type": "display_data",
     "data": {
      "application/vnd.plotly.v1+json": {
       "config": {
        "plotlyServerURL": "https://plot.ly"
       },
       "data": [
        {
         "alignmentgroup": "True",
         "hovertemplate": " =%{x}<br>Počet balení=%{y}<extra></extra>",
         "legendgroup": "Česko",
         "marker": {
          "color": "#4B6AAB"
         },
         "name": "Česko",
         "offsetgroup": "Česko",
         "orientation": "v",
         "showlegend": true,
         "textposition": "auto",
         "type": "bar",
         "x": [
          "Fresenius Kabi s.r.o."
         ],
         "xaxis": "x",
         "y": [
          3157585.505
         ],
         "yaxis": "y"
        },
        {
         "alignmentgroup": "True",
         "hovertemplate": " =%{x}<br>Počet balení=%{y}<extra></extra>",
         "legendgroup": "Taliansko",
         "marker": {
          "color": "#D8764C"
         },
         "name": "Taliansko",
         "offsetgroup": "Taliansko",
         "orientation": "v",
         "showlegend": true,
         "textposition": "auto",
         "type": "bar",
         "x": [
          "Bieffe Medital S.p.A."
         ],
         "xaxis": "x",
         "y": [
          1196294.76
         ],
         "yaxis": "y"
        },
        {
         "alignmentgroup": "True",
         "hovertemplate": " =%{x}<br>Počet balení=%{y}<extra></extra>",
         "legendgroup": "Nemecko",
         "marker": {
          "color": "#F1C75B"
         },
         "name": "Nemecko",
         "offsetgroup": "Nemecko",
         "orientation": "v",
         "showlegend": true,
         "textposition": "auto",
         "type": "bar",
         "x": [
          "B.Braun Melsungen AG"
         ],
         "xaxis": "x",
         "y": [
          580683.8620000001
         ],
         "yaxis": "y"
        }
       ],
       "layout": {
        "barmode": "relative",
        "legend": {
         "title": {
          "text": " "
         },
         "tracegroupgap": 0
        },
        "template": {
         "data": {
          "bar": [
           {
            "error_x": {
             "color": "#2a3f5f"
            },
            "error_y": {
             "color": "#2a3f5f"
            },
            "marker": {
             "line": {
              "color": "#E5ECF6",
              "width": 0.5
             }
            },
            "type": "bar"
           }
          ],
          "barpolar": [
           {
            "marker": {
             "line": {
              "color": "#E5ECF6",
              "width": 0.5
             }
            },
            "type": "barpolar"
           }
          ],
          "carpet": [
           {
            "aaxis": {
             "endlinecolor": "#2a3f5f",
             "gridcolor": "white",
             "linecolor": "white",
             "minorgridcolor": "white",
             "startlinecolor": "#2a3f5f"
            },
            "baxis": {
             "endlinecolor": "#2a3f5f",
             "gridcolor": "white",
             "linecolor": "white",
             "minorgridcolor": "white",
             "startlinecolor": "#2a3f5f"
            },
            "type": "carpet"
           }
          ],
          "choropleth": [
           {
            "colorbar": {
             "outlinewidth": 0,
             "ticks": ""
            },
            "type": "choropleth"
           }
          ],
          "contour": [
           {
            "colorbar": {
             "outlinewidth": 0,
             "ticks": ""
            },
            "colorscale": [
             [
              0,
              "#0d0887"
             ],
             [
              0.1111111111111111,
              "#46039f"
             ],
             [
              0.2222222222222222,
              "#7201a8"
             ],
             [
              0.3333333333333333,
              "#9c179e"
             ],
             [
              0.4444444444444444,
              "#bd3786"
             ],
             [
              0.5555555555555556,
              "#d8576b"
             ],
             [
              0.6666666666666666,
              "#ed7953"
             ],
             [
              0.7777777777777778,
              "#fb9f3a"
             ],
             [
              0.8888888888888888,
              "#fdca26"
             ],
             [
              1,
              "#f0f921"
             ]
            ],
            "type": "contour"
           }
          ],
          "contourcarpet": [
           {
            "colorbar": {
             "outlinewidth": 0,
             "ticks": ""
            },
            "type": "contourcarpet"
           }
          ],
          "heatmap": [
           {
            "colorbar": {
             "outlinewidth": 0,
             "ticks": ""
            },
            "colorscale": [
             [
              0,
              "#0d0887"
             ],
             [
              0.1111111111111111,
              "#46039f"
             ],
             [
              0.2222222222222222,
              "#7201a8"
             ],
             [
              0.3333333333333333,
              "#9c179e"
             ],
             [
              0.4444444444444444,
              "#bd3786"
             ],
             [
              0.5555555555555556,
              "#d8576b"
             ],
             [
              0.6666666666666666,
              "#ed7953"
             ],
             [
              0.7777777777777778,
              "#fb9f3a"
             ],
             [
              0.8888888888888888,
              "#fdca26"
             ],
             [
              1,
              "#f0f921"
             ]
            ],
            "type": "heatmap"
           }
          ],
          "heatmapgl": [
           {
            "colorbar": {
             "outlinewidth": 0,
             "ticks": ""
            },
            "colorscale": [
             [
              0,
              "#0d0887"
             ],
             [
              0.1111111111111111,
              "#46039f"
             ],
             [
              0.2222222222222222,
              "#7201a8"
             ],
             [
              0.3333333333333333,
              "#9c179e"
             ],
             [
              0.4444444444444444,
              "#bd3786"
             ],
             [
              0.5555555555555556,
              "#d8576b"
             ],
             [
              0.6666666666666666,
              "#ed7953"
             ],
             [
              0.7777777777777778,
              "#fb9f3a"
             ],
             [
              0.8888888888888888,
              "#fdca26"
             ],
             [
              1,
              "#f0f921"
             ]
            ],
            "type": "heatmapgl"
           }
          ],
          "histogram": [
           {
            "marker": {
             "colorbar": {
              "outlinewidth": 0,
              "ticks": ""
             }
            },
            "type": "histogram"
           }
          ],
          "histogram2d": [
           {
            "colorbar": {
             "outlinewidth": 0,
             "ticks": ""
            },
            "colorscale": [
             [
              0,
              "#0d0887"
             ],
             [
              0.1111111111111111,
              "#46039f"
             ],
             [
              0.2222222222222222,
              "#7201a8"
             ],
             [
              0.3333333333333333,
              "#9c179e"
             ],
             [
              0.4444444444444444,
              "#bd3786"
             ],
             [
              0.5555555555555556,
              "#d8576b"
             ],
             [
              0.6666666666666666,
              "#ed7953"
             ],
             [
              0.7777777777777778,
              "#fb9f3a"
             ],
             [
              0.8888888888888888,
              "#fdca26"
             ],
             [
              1,
              "#f0f921"
             ]
            ],
            "type": "histogram2d"
           }
          ],
          "histogram2dcontour": [
           {
            "colorbar": {
             "outlinewidth": 0,
             "ticks": ""
            },
            "colorscale": [
             [
              0,
              "#0d0887"
             ],
             [
              0.1111111111111111,
              "#46039f"
             ],
             [
              0.2222222222222222,
              "#7201a8"
             ],
             [
              0.3333333333333333,
              "#9c179e"
             ],
             [
              0.4444444444444444,
              "#bd3786"
             ],
             [
              0.5555555555555556,
              "#d8576b"
             ],
             [
              0.6666666666666666,
              "#ed7953"
             ],
             [
              0.7777777777777778,
              "#fb9f3a"
             ],
             [
              0.8888888888888888,
              "#fdca26"
             ],
             [
              1,
              "#f0f921"
             ]
            ],
            "type": "histogram2dcontour"
           }
          ],
          "mesh3d": [
           {
            "colorbar": {
             "outlinewidth": 0,
             "ticks": ""
            },
            "type": "mesh3d"
           }
          ],
          "parcoords": [
           {
            "line": {
             "colorbar": {
              "outlinewidth": 0,
              "ticks": ""
             }
            },
            "type": "parcoords"
           }
          ],
          "pie": [
           {
            "automargin": true,
            "type": "pie"
           }
          ],
          "scatter": [
           {
            "marker": {
             "colorbar": {
              "outlinewidth": 0,
              "ticks": ""
             }
            },
            "type": "scatter"
           }
          ],
          "scatter3d": [
           {
            "line": {
             "colorbar": {
              "outlinewidth": 0,
              "ticks": ""
             }
            },
            "marker": {
             "colorbar": {
              "outlinewidth": 0,
              "ticks": ""
             }
            },
            "type": "scatter3d"
           }
          ],
          "scattercarpet": [
           {
            "marker": {
             "colorbar": {
              "outlinewidth": 0,
              "ticks": ""
             }
            },
            "type": "scattercarpet"
           }
          ],
          "scattergeo": [
           {
            "marker": {
             "colorbar": {
              "outlinewidth": 0,
              "ticks": ""
             }
            },
            "type": "scattergeo"
           }
          ],
          "scattergl": [
           {
            "marker": {
             "colorbar": {
              "outlinewidth": 0,
              "ticks": ""
             }
            },
            "type": "scattergl"
           }
          ],
          "scattermapbox": [
           {
            "marker": {
             "colorbar": {
              "outlinewidth": 0,
              "ticks": ""
             }
            },
            "type": "scattermapbox"
           }
          ],
          "scatterpolar": [
           {
            "marker": {
             "colorbar": {
              "outlinewidth": 0,
              "ticks": ""
             }
            },
            "type": "scatterpolar"
           }
          ],
          "scatterpolargl": [
           {
            "marker": {
             "colorbar": {
              "outlinewidth": 0,
              "ticks": ""
             }
            },
            "type": "scatterpolargl"
           }
          ],
          "scatterternary": [
           {
            "marker": {
             "colorbar": {
              "outlinewidth": 0,
              "ticks": ""
             }
            },
            "type": "scatterternary"
           }
          ],
          "surface": [
           {
            "colorbar": {
             "outlinewidth": 0,
             "ticks": ""
            },
            "colorscale": [
             [
              0,
              "#0d0887"
             ],
             [
              0.1111111111111111,
              "#46039f"
             ],
             [
              0.2222222222222222,
              "#7201a8"
             ],
             [
              0.3333333333333333,
              "#9c179e"
             ],
             [
              0.4444444444444444,
              "#bd3786"
             ],
             [
              0.5555555555555556,
              "#d8576b"
             ],
             [
              0.6666666666666666,
              "#ed7953"
             ],
             [
              0.7777777777777778,
              "#fb9f3a"
             ],
             [
              0.8888888888888888,
              "#fdca26"
             ],
             [
              1,
              "#f0f921"
             ]
            ],
            "type": "surface"
           }
          ],
          "table": [
           {
            "cells": {
             "fill": {
              "color": "#EBF0F8"
             },
             "line": {
              "color": "white"
             }
            },
            "header": {
             "fill": {
              "color": "#C8D4E3"
             },
             "line": {
              "color": "white"
             }
            },
            "type": "table"
           }
          ]
         },
         "layout": {
          "annotationdefaults": {
           "arrowcolor": "#2a3f5f",
           "arrowhead": 0,
           "arrowwidth": 1
          },
          "autotypenumbers": "strict",
          "coloraxis": {
           "colorbar": {
            "outlinewidth": 0,
            "ticks": ""
           }
          },
          "colorscale": {
           "diverging": [
            [
             0,
             "#8e0152"
            ],
            [
             0.1,
             "#c51b7d"
            ],
            [
             0.2,
             "#de77ae"
            ],
            [
             0.3,
             "#f1b6da"
            ],
            [
             0.4,
             "#fde0ef"
            ],
            [
             0.5,
             "#f7f7f7"
            ],
            [
             0.6,
             "#e6f5d0"
            ],
            [
             0.7,
             "#b8e186"
            ],
            [
             0.8,
             "#7fbc41"
            ],
            [
             0.9,
             "#4d9221"
            ],
            [
             1,
             "#276419"
            ]
           ],
           "sequential": [
            [
             0,
             "#0d0887"
            ],
            [
             0.1111111111111111,
             "#46039f"
            ],
            [
             0.2222222222222222,
             "#7201a8"
            ],
            [
             0.3333333333333333,
             "#9c179e"
            ],
            [
             0.4444444444444444,
             "#bd3786"
            ],
            [
             0.5555555555555556,
             "#d8576b"
            ],
            [
             0.6666666666666666,
             "#ed7953"
            ],
            [
             0.7777777777777778,
             "#fb9f3a"
            ],
            [
             0.8888888888888888,
             "#fdca26"
            ],
            [
             1,
             "#f0f921"
            ]
           ],
           "sequentialminus": [
            [
             0,
             "#0d0887"
            ],
            [
             0.1111111111111111,
             "#46039f"
            ],
            [
             0.2222222222222222,
             "#7201a8"
            ],
            [
             0.3333333333333333,
             "#9c179e"
            ],
            [
             0.4444444444444444,
             "#bd3786"
            ],
            [
             0.5555555555555556,
             "#d8576b"
            ],
            [
             0.6666666666666666,
             "#ed7953"
            ],
            [
             0.7777777777777778,
             "#fb9f3a"
            ],
            [
             0.8888888888888888,
             "#fdca26"
            ],
            [
             1,
             "#f0f921"
            ]
           ]
          },
          "colorway": [
           "#636efa",
           "#EF553B",
           "#00cc96",
           "#ab63fa",
           "#FFA15A",
           "#19d3f3",
           "#FF6692",
           "#B6E880",
           "#FF97FF",
           "#FECB52"
          ],
          "font": {
           "color": "#2a3f5f"
          },
          "geo": {
           "bgcolor": "white",
           "lakecolor": "white",
           "landcolor": "#E5ECF6",
           "showlakes": true,
           "showland": true,
           "subunitcolor": "white"
          },
          "hoverlabel": {
           "align": "left"
          },
          "hovermode": "closest",
          "mapbox": {
           "style": "light"
          },
          "paper_bgcolor": "white",
          "plot_bgcolor": "#E5ECF6",
          "polar": {
           "angularaxis": {
            "gridcolor": "white",
            "linecolor": "white",
            "ticks": ""
           },
           "bgcolor": "#E5ECF6",
           "radialaxis": {
            "gridcolor": "white",
            "linecolor": "white",
            "ticks": ""
           }
          },
          "scene": {
           "xaxis": {
            "backgroundcolor": "#E5ECF6",
            "gridcolor": "white",
            "gridwidth": 2,
            "linecolor": "white",
            "showbackground": true,
            "ticks": "",
            "zerolinecolor": "white"
           },
           "yaxis": {
            "backgroundcolor": "#E5ECF6",
            "gridcolor": "white",
            "gridwidth": 2,
            "linecolor": "white",
            "showbackground": true,
            "ticks": "",
            "zerolinecolor": "white"
           },
           "zaxis": {
            "backgroundcolor": "#E5ECF6",
            "gridcolor": "white",
            "gridwidth": 2,
            "linecolor": "white",
            "showbackground": true,
            "ticks": "",
            "zerolinecolor": "white"
           }
          },
          "shapedefaults": {
           "line": {
            "color": "#2a3f5f"
           }
          },
          "ternary": {
           "aaxis": {
            "gridcolor": "white",
            "linecolor": "white",
            "ticks": ""
           },
           "baxis": {
            "gridcolor": "white",
            "linecolor": "white",
            "ticks": ""
           },
           "bgcolor": "#E5ECF6",
           "caxis": {
            "gridcolor": "white",
            "linecolor": "white",
            "ticks": ""
           }
          },
          "title": {
           "x": 0.05
          },
          "xaxis": {
           "automargin": true,
           "gridcolor": "white",
           "linecolor": "white",
           "ticks": "",
           "title": {
            "standoff": 15
           },
           "zerolinecolor": "white",
           "zerolinewidth": 2
          },
          "yaxis": {
           "automargin": true,
           "gridcolor": "white",
           "linecolor": "white",
           "ticks": "",
           "title": {
            "standoff": 15
           },
           "zerolinecolor": "white",
           "zerolinewidth": 2
          }
         }
        },
        "title": {
         "text": "Počet predaných balení Elektrolytov (nad 500 000) na základe výrobcov"
        },
        "xaxis": {
         "anchor": "y",
         "domain": [
          0,
          1
         ],
         "title": {
          "text": " "
         }
        },
        "yaxis": {
         "anchor": "x",
         "domain": [
          0,
          1
         ],
         "title": {
          "text": "Počet balení"
         }
        }
       }
      }
     },
     "metadata": {}
    }
   ],
   "source": [
    "elektrolyty = top15tab[\"B05BB01\"]\n",
    "\n",
    "fig = px.bar(elektrolyty.groupby(['VYROBCA_popis','STAT_popis']).sum().reset_index().query('Počet_balení > 500000').sort_values(by='Počet_balení',ascending=False), x='VYROBCA_popis', y='Počet_balení',title='Počet predaných balení Elektrolytov (nad 500 000) na základe výrobcov', color='STAT_popis', labels={'Počet_balení':'Počet balení', 'STAT_popis':' ', 'VYROBCA_popis':' '}, color_discrete_sequence=[modra, oranzova, zlta])\n",
    "fig.show()"
   ]
  },
  {
   "cell_type": "code",
   "execution_count": 88,
   "metadata": {},
   "outputs": [
    {
     "output_type": "display_data",
     "data": {
      "application/vnd.plotly.v1+json": {
       "config": {
        "plotlyServerURL": "https://plot.ly"
       },
       "data": [
        {
         "domain": {
          "x": [
           0,
           1
          ],
          "y": [
           0,
           1
          ]
         },
         "hovertemplate": "STAT_popis=%{label}<br>Počet_balení=%{value}<extra></extra>",
         "labels": [
          "Nemecko",
          "Slovensko",
          "Taliansko",
          "Česko"
         ],
         "legendgroup": "",
         "name": "",
         "showlegend": true,
         "type": "pie",
         "values": [
          581319.8620000001,
          257413.33000000002,
          1196883.76,
          3296069.8999999994
         ]
        }
       ],
       "layout": {
        "legend": {
         "tracegroupgap": 0
        },
        "piecolorway": [
         "#4B6AAB",
         "#D8764C",
         "#F1C75B",
         "#B75B9E"
        ],
        "template": {
         "data": {
          "bar": [
           {
            "error_x": {
             "color": "#2a3f5f"
            },
            "error_y": {
             "color": "#2a3f5f"
            },
            "marker": {
             "line": {
              "color": "#E5ECF6",
              "width": 0.5
             }
            },
            "type": "bar"
           }
          ],
          "barpolar": [
           {
            "marker": {
             "line": {
              "color": "#E5ECF6",
              "width": 0.5
             }
            },
            "type": "barpolar"
           }
          ],
          "carpet": [
           {
            "aaxis": {
             "endlinecolor": "#2a3f5f",
             "gridcolor": "white",
             "linecolor": "white",
             "minorgridcolor": "white",
             "startlinecolor": "#2a3f5f"
            },
            "baxis": {
             "endlinecolor": "#2a3f5f",
             "gridcolor": "white",
             "linecolor": "white",
             "minorgridcolor": "white",
             "startlinecolor": "#2a3f5f"
            },
            "type": "carpet"
           }
          ],
          "choropleth": [
           {
            "colorbar": {
             "outlinewidth": 0,
             "ticks": ""
            },
            "type": "choropleth"
           }
          ],
          "contour": [
           {
            "colorbar": {
             "outlinewidth": 0,
             "ticks": ""
            },
            "colorscale": [
             [
              0,
              "#0d0887"
             ],
             [
              0.1111111111111111,
              "#46039f"
             ],
             [
              0.2222222222222222,
              "#7201a8"
             ],
             [
              0.3333333333333333,
              "#9c179e"
             ],
             [
              0.4444444444444444,
              "#bd3786"
             ],
             [
              0.5555555555555556,
              "#d8576b"
             ],
             [
              0.6666666666666666,
              "#ed7953"
             ],
             [
              0.7777777777777778,
              "#fb9f3a"
             ],
             [
              0.8888888888888888,
              "#fdca26"
             ],
             [
              1,
              "#f0f921"
             ]
            ],
            "type": "contour"
           }
          ],
          "contourcarpet": [
           {
            "colorbar": {
             "outlinewidth": 0,
             "ticks": ""
            },
            "type": "contourcarpet"
           }
          ],
          "heatmap": [
           {
            "colorbar": {
             "outlinewidth": 0,
             "ticks": ""
            },
            "colorscale": [
             [
              0,
              "#0d0887"
             ],
             [
              0.1111111111111111,
              "#46039f"
             ],
             [
              0.2222222222222222,
              "#7201a8"
             ],
             [
              0.3333333333333333,
              "#9c179e"
             ],
             [
              0.4444444444444444,
              "#bd3786"
             ],
             [
              0.5555555555555556,
              "#d8576b"
             ],
             [
              0.6666666666666666,
              "#ed7953"
             ],
             [
              0.7777777777777778,
              "#fb9f3a"
             ],
             [
              0.8888888888888888,
              "#fdca26"
             ],
             [
              1,
              "#f0f921"
             ]
            ],
            "type": "heatmap"
           }
          ],
          "heatmapgl": [
           {
            "colorbar": {
             "outlinewidth": 0,
             "ticks": ""
            },
            "colorscale": [
             [
              0,
              "#0d0887"
             ],
             [
              0.1111111111111111,
              "#46039f"
             ],
             [
              0.2222222222222222,
              "#7201a8"
             ],
             [
              0.3333333333333333,
              "#9c179e"
             ],
             [
              0.4444444444444444,
              "#bd3786"
             ],
             [
              0.5555555555555556,
              "#d8576b"
             ],
             [
              0.6666666666666666,
              "#ed7953"
             ],
             [
              0.7777777777777778,
              "#fb9f3a"
             ],
             [
              0.8888888888888888,
              "#fdca26"
             ],
             [
              1,
              "#f0f921"
             ]
            ],
            "type": "heatmapgl"
           }
          ],
          "histogram": [
           {
            "marker": {
             "colorbar": {
              "outlinewidth": 0,
              "ticks": ""
             }
            },
            "type": "histogram"
           }
          ],
          "histogram2d": [
           {
            "colorbar": {
             "outlinewidth": 0,
             "ticks": ""
            },
            "colorscale": [
             [
              0,
              "#0d0887"
             ],
             [
              0.1111111111111111,
              "#46039f"
             ],
             [
              0.2222222222222222,
              "#7201a8"
             ],
             [
              0.3333333333333333,
              "#9c179e"
             ],
             [
              0.4444444444444444,
              "#bd3786"
             ],
             [
              0.5555555555555556,
              "#d8576b"
             ],
             [
              0.6666666666666666,
              "#ed7953"
             ],
             [
              0.7777777777777778,
              "#fb9f3a"
             ],
             [
              0.8888888888888888,
              "#fdca26"
             ],
             [
              1,
              "#f0f921"
             ]
            ],
            "type": "histogram2d"
           }
          ],
          "histogram2dcontour": [
           {
            "colorbar": {
             "outlinewidth": 0,
             "ticks": ""
            },
            "colorscale": [
             [
              0,
              "#0d0887"
             ],
             [
              0.1111111111111111,
              "#46039f"
             ],
             [
              0.2222222222222222,
              "#7201a8"
             ],
             [
              0.3333333333333333,
              "#9c179e"
             ],
             [
              0.4444444444444444,
              "#bd3786"
             ],
             [
              0.5555555555555556,
              "#d8576b"
             ],
             [
              0.6666666666666666,
              "#ed7953"
             ],
             [
              0.7777777777777778,
              "#fb9f3a"
             ],
             [
              0.8888888888888888,
              "#fdca26"
             ],
             [
              1,
              "#f0f921"
             ]
            ],
            "type": "histogram2dcontour"
           }
          ],
          "mesh3d": [
           {
            "colorbar": {
             "outlinewidth": 0,
             "ticks": ""
            },
            "type": "mesh3d"
           }
          ],
          "parcoords": [
           {
            "line": {
             "colorbar": {
              "outlinewidth": 0,
              "ticks": ""
             }
            },
            "type": "parcoords"
           }
          ],
          "pie": [
           {
            "automargin": true,
            "type": "pie"
           }
          ],
          "scatter": [
           {
            "marker": {
             "colorbar": {
              "outlinewidth": 0,
              "ticks": ""
             }
            },
            "type": "scatter"
           }
          ],
          "scatter3d": [
           {
            "line": {
             "colorbar": {
              "outlinewidth": 0,
              "ticks": ""
             }
            },
            "marker": {
             "colorbar": {
              "outlinewidth": 0,
              "ticks": ""
             }
            },
            "type": "scatter3d"
           }
          ],
          "scattercarpet": [
           {
            "marker": {
             "colorbar": {
              "outlinewidth": 0,
              "ticks": ""
             }
            },
            "type": "scattercarpet"
           }
          ],
          "scattergeo": [
           {
            "marker": {
             "colorbar": {
              "outlinewidth": 0,
              "ticks": ""
             }
            },
            "type": "scattergeo"
           }
          ],
          "scattergl": [
           {
            "marker": {
             "colorbar": {
              "outlinewidth": 0,
              "ticks": ""
             }
            },
            "type": "scattergl"
           }
          ],
          "scattermapbox": [
           {
            "marker": {
             "colorbar": {
              "outlinewidth": 0,
              "ticks": ""
             }
            },
            "type": "scattermapbox"
           }
          ],
          "scatterpolar": [
           {
            "marker": {
             "colorbar": {
              "outlinewidth": 0,
              "ticks": ""
             }
            },
            "type": "scatterpolar"
           }
          ],
          "scatterpolargl": [
           {
            "marker": {
             "colorbar": {
              "outlinewidth": 0,
              "ticks": ""
             }
            },
            "type": "scatterpolargl"
           }
          ],
          "scatterternary": [
           {
            "marker": {
             "colorbar": {
              "outlinewidth": 0,
              "ticks": ""
             }
            },
            "type": "scatterternary"
           }
          ],
          "surface": [
           {
            "colorbar": {
             "outlinewidth": 0,
             "ticks": ""
            },
            "colorscale": [
             [
              0,
              "#0d0887"
             ],
             [
              0.1111111111111111,
              "#46039f"
             ],
             [
              0.2222222222222222,
              "#7201a8"
             ],
             [
              0.3333333333333333,
              "#9c179e"
             ],
             [
              0.4444444444444444,
              "#bd3786"
             ],
             [
              0.5555555555555556,
              "#d8576b"
             ],
             [
              0.6666666666666666,
              "#ed7953"
             ],
             [
              0.7777777777777778,
              "#fb9f3a"
             ],
             [
              0.8888888888888888,
              "#fdca26"
             ],
             [
              1,
              "#f0f921"
             ]
            ],
            "type": "surface"
           }
          ],
          "table": [
           {
            "cells": {
             "fill": {
              "color": "#EBF0F8"
             },
             "line": {
              "color": "white"
             }
            },
            "header": {
             "fill": {
              "color": "#C8D4E3"
             },
             "line": {
              "color": "white"
             }
            },
            "type": "table"
           }
          ]
         },
         "layout": {
          "annotationdefaults": {
           "arrowcolor": "#2a3f5f",
           "arrowhead": 0,
           "arrowwidth": 1
          },
          "autotypenumbers": "strict",
          "coloraxis": {
           "colorbar": {
            "outlinewidth": 0,
            "ticks": ""
           }
          },
          "colorscale": {
           "diverging": [
            [
             0,
             "#8e0152"
            ],
            [
             0.1,
             "#c51b7d"
            ],
            [
             0.2,
             "#de77ae"
            ],
            [
             0.3,
             "#f1b6da"
            ],
            [
             0.4,
             "#fde0ef"
            ],
            [
             0.5,
             "#f7f7f7"
            ],
            [
             0.6,
             "#e6f5d0"
            ],
            [
             0.7,
             "#b8e186"
            ],
            [
             0.8,
             "#7fbc41"
            ],
            [
             0.9,
             "#4d9221"
            ],
            [
             1,
             "#276419"
            ]
           ],
           "sequential": [
            [
             0,
             "#0d0887"
            ],
            [
             0.1111111111111111,
             "#46039f"
            ],
            [
             0.2222222222222222,
             "#7201a8"
            ],
            [
             0.3333333333333333,
             "#9c179e"
            ],
            [
             0.4444444444444444,
             "#bd3786"
            ],
            [
             0.5555555555555556,
             "#d8576b"
            ],
            [
             0.6666666666666666,
             "#ed7953"
            ],
            [
             0.7777777777777778,
             "#fb9f3a"
            ],
            [
             0.8888888888888888,
             "#fdca26"
            ],
            [
             1,
             "#f0f921"
            ]
           ],
           "sequentialminus": [
            [
             0,
             "#0d0887"
            ],
            [
             0.1111111111111111,
             "#46039f"
            ],
            [
             0.2222222222222222,
             "#7201a8"
            ],
            [
             0.3333333333333333,
             "#9c179e"
            ],
            [
             0.4444444444444444,
             "#bd3786"
            ],
            [
             0.5555555555555556,
             "#d8576b"
            ],
            [
             0.6666666666666666,
             "#ed7953"
            ],
            [
             0.7777777777777778,
             "#fb9f3a"
            ],
            [
             0.8888888888888888,
             "#fdca26"
            ],
            [
             1,
             "#f0f921"
            ]
           ]
          },
          "colorway": [
           "#636efa",
           "#EF553B",
           "#00cc96",
           "#ab63fa",
           "#FFA15A",
           "#19d3f3",
           "#FF6692",
           "#B6E880",
           "#FF97FF",
           "#FECB52"
          ],
          "font": {
           "color": "#2a3f5f"
          },
          "geo": {
           "bgcolor": "white",
           "lakecolor": "white",
           "landcolor": "#E5ECF6",
           "showlakes": true,
           "showland": true,
           "subunitcolor": "white"
          },
          "hoverlabel": {
           "align": "left"
          },
          "hovermode": "closest",
          "mapbox": {
           "style": "light"
          },
          "paper_bgcolor": "white",
          "plot_bgcolor": "#E5ECF6",
          "polar": {
           "angularaxis": {
            "gridcolor": "white",
            "linecolor": "white",
            "ticks": ""
           },
           "bgcolor": "#E5ECF6",
           "radialaxis": {
            "gridcolor": "white",
            "linecolor": "white",
            "ticks": ""
           }
          },
          "scene": {
           "xaxis": {
            "backgroundcolor": "#E5ECF6",
            "gridcolor": "white",
            "gridwidth": 2,
            "linecolor": "white",
            "showbackground": true,
            "ticks": "",
            "zerolinecolor": "white"
           },
           "yaxis": {
            "backgroundcolor": "#E5ECF6",
            "gridcolor": "white",
            "gridwidth": 2,
            "linecolor": "white",
            "showbackground": true,
            "ticks": "",
            "zerolinecolor": "white"
           },
           "zaxis": {
            "backgroundcolor": "#E5ECF6",
            "gridcolor": "white",
            "gridwidth": 2,
            "linecolor": "white",
            "showbackground": true,
            "ticks": "",
            "zerolinecolor": "white"
           }
          },
          "shapedefaults": {
           "line": {
            "color": "#2a3f5f"
           }
          },
          "ternary": {
           "aaxis": {
            "gridcolor": "white",
            "linecolor": "white",
            "ticks": ""
           },
           "baxis": {
            "gridcolor": "white",
            "linecolor": "white",
            "ticks": ""
           },
           "bgcolor": "#E5ECF6",
           "caxis": {
            "gridcolor": "white",
            "linecolor": "white",
            "ticks": ""
           }
          },
          "title": {
           "x": 0.05
          },
          "xaxis": {
           "automargin": true,
           "gridcolor": "white",
           "linecolor": "white",
           "ticks": "",
           "title": {
            "standoff": 15
           },
           "zerolinecolor": "white",
           "zerolinewidth": 2
          },
          "yaxis": {
           "automargin": true,
           "gridcolor": "white",
           "linecolor": "white",
           "ticks": "",
           "title": {
            "standoff": 15
           },
           "zerolinecolor": "white",
           "zerolinewidth": 2
          }
         }
        },
        "title": {
         "text": "Elektrolyty podľa krajiny výrobcu"
        }
       }
      }
     },
     "metadata": {}
    }
   ],
   "source": [
    "elektrolyty_staty = elektrolyty.groupby('STAT_popis').sum().reset_index()\n",
    "fig = px.pie(elektrolyty_staty, names='STAT_popis', values='Počet_balení', title='Elektrolyty podľa krajiny výrobcu', color_discrete_sequence=[modra,oranzova,zlta,ruzova])\n",
    "fig.show()"
   ]
  },
  {
   "source": [
    "Z prveho grafu vidime, ze najviac elektrolytov mame od ceskej firmy. Z druheho grafu vidime, ze najviac (61.8%) pouzivame ceskych elektorlytov, co je vyse 3 000 000. Slovenske elektrolyty su az na poslednom mieste iba so 4.83% co je priblizne 250 000.\n",
    "## Zaver:\n",
    "* Prvy graf nam podla mna vela nehovori. Zaujimavejsni je druhy graf, na ktorom vidime ze aj Slovensko vyraba elektrolyty avsak pouzivaju sa len v malej miere."
   ],
   "cell_type": "markdown",
   "metadata": {}
  },
  {
   "source": [
    "# 3. Paracetamol (30 najpredavanejsich - prvy graf, vsetky - druhy graf)"
   ],
   "cell_type": "markdown",
   "metadata": {}
  },
  {
   "cell_type": "code",
   "execution_count": 90,
   "metadata": {},
   "outputs": [
    {
     "output_type": "display_data",
     "data": {
      "text/plain": "                    LIEK_popis  STAT_popis  \\\n0                MEDIPYRIN tbl       Česko   \n1                 PANADOL BABY       Česko   \n2      PANADOL BABY (+odmerka)       Česko   \n3   PANADOL BABY (+striekačka)  Francúzsko   \n4               PANADOL JUNIOR       Česko   \n5             PANADOL PRE DETI       Česko   \n6                  PANADOL tbl       Česko   \n7                PARALEN nápoj   Slovensko   \n8                  PARALEN sup   Slovensko   \n9                  PARALEN sus   Slovensko   \n10                 PARALEN tbl   Slovensko   \n11           Panadol Novum tbl       Česko   \n12   Panadol Paracetamolum tbl       Česko   \n13        Paracetamol B. Braun     Nemecko   \n14            Paracetamol Kabi       Česko   \n15         Paracetamol Kappler     Nemecko   \n16      Paracetamol Vitabalans      Fínsko   \n\n                                        VYROBCA_popis  index  Počet_balení  \n0                     Glenmark Pharmaceuticals s.r.o.  18807     21920.890  \n1   GlaxoSmithKline Consumer Healthcare Czech Repu...   6283     50394.000  \n2   GlaxoSmithKline Consumer Healthcare Czech Repu...   6305       839.000  \n3               SmithKline Beecham Liquides Industrie   6300       285.000  \n4   GlaxoSmithKline Consumer Healthcare Czech Repu...   6285     30460.500  \n5   GlaxoSmithKline Consumer Healthcare Czech Repu...  12579     37895.000  \n6   GlaxoSmithKline Consumer Healthcare Czech Repu...  12580       553.000  \n7                      sanofi-aventis Slovakia s.r.o.   6271       482.170  \n8                      sanofi-aventis Slovakia s.r.o.  12565    161406.210  \n9                      sanofi-aventis Slovakia s.r.o.   6292     74950.000  \n10                     sanofi-aventis Slovakia s.r.o.  25139   2683311.142  \n11  GlaxoSmithKline Consumer Healthcare Czech Repu...  12592     77893.815  \n12  GlaxoSmithKline Consumer Healthcare Czech Repu...  12579    114351.250  \n13                               B.Braun Melsungen AG  12519       900.500  \n14                              Fresenius Kabi s.r.o.  12548     34926.290  \n15                              STADA Arzneimittel AG   6288       663.330  \n16                                      Vitabalans Oy  12529      5493.010  ",
      "text/html": "<div>\n<style scoped>\n    .dataframe tbody tr th:only-of-type {\n        vertical-align: middle;\n    }\n\n    .dataframe tbody tr th {\n        vertical-align: top;\n    }\n\n    .dataframe thead th {\n        text-align: right;\n    }\n</style>\n<table border=\"1\" class=\"dataframe\">\n  <thead>\n    <tr style=\"text-align: right;\">\n      <th></th>\n      <th>LIEK_popis</th>\n      <th>STAT_popis</th>\n      <th>VYROBCA_popis</th>\n      <th>index</th>\n      <th>Počet_balení</th>\n    </tr>\n  </thead>\n  <tbody>\n    <tr>\n      <th>0</th>\n      <td>MEDIPYRIN tbl</td>\n      <td>Česko</td>\n      <td>Glenmark Pharmaceuticals s.r.o.</td>\n      <td>18807</td>\n      <td>21920.890</td>\n    </tr>\n    <tr>\n      <th>1</th>\n      <td>PANADOL BABY</td>\n      <td>Česko</td>\n      <td>GlaxoSmithKline Consumer Healthcare Czech Repu...</td>\n      <td>6283</td>\n      <td>50394.000</td>\n    </tr>\n    <tr>\n      <th>2</th>\n      <td>PANADOL BABY (+odmerka)</td>\n      <td>Česko</td>\n      <td>GlaxoSmithKline Consumer Healthcare Czech Repu...</td>\n      <td>6305</td>\n      <td>839.000</td>\n    </tr>\n    <tr>\n      <th>3</th>\n      <td>PANADOL BABY (+striekačka)</td>\n      <td>Francúzsko</td>\n      <td>SmithKline Beecham Liquides Industrie</td>\n      <td>6300</td>\n      <td>285.000</td>\n    </tr>\n    <tr>\n      <th>4</th>\n      <td>PANADOL JUNIOR</td>\n      <td>Česko</td>\n      <td>GlaxoSmithKline Consumer Healthcare Czech Repu...</td>\n      <td>6285</td>\n      <td>30460.500</td>\n    </tr>\n    <tr>\n      <th>5</th>\n      <td>PANADOL PRE DETI</td>\n      <td>Česko</td>\n      <td>GlaxoSmithKline Consumer Healthcare Czech Repu...</td>\n      <td>12579</td>\n      <td>37895.000</td>\n    </tr>\n    <tr>\n      <th>6</th>\n      <td>PANADOL tbl</td>\n      <td>Česko</td>\n      <td>GlaxoSmithKline Consumer Healthcare Czech Repu...</td>\n      <td>12580</td>\n      <td>553.000</td>\n    </tr>\n    <tr>\n      <th>7</th>\n      <td>PARALEN nápoj</td>\n      <td>Slovensko</td>\n      <td>sanofi-aventis Slovakia s.r.o.</td>\n      <td>6271</td>\n      <td>482.170</td>\n    </tr>\n    <tr>\n      <th>8</th>\n      <td>PARALEN sup</td>\n      <td>Slovensko</td>\n      <td>sanofi-aventis Slovakia s.r.o.</td>\n      <td>12565</td>\n      <td>161406.210</td>\n    </tr>\n    <tr>\n      <th>9</th>\n      <td>PARALEN sus</td>\n      <td>Slovensko</td>\n      <td>sanofi-aventis Slovakia s.r.o.</td>\n      <td>6292</td>\n      <td>74950.000</td>\n    </tr>\n    <tr>\n      <th>10</th>\n      <td>PARALEN tbl</td>\n      <td>Slovensko</td>\n      <td>sanofi-aventis Slovakia s.r.o.</td>\n      <td>25139</td>\n      <td>2683311.142</td>\n    </tr>\n    <tr>\n      <th>11</th>\n      <td>Panadol Novum tbl</td>\n      <td>Česko</td>\n      <td>GlaxoSmithKline Consumer Healthcare Czech Repu...</td>\n      <td>12592</td>\n      <td>77893.815</td>\n    </tr>\n    <tr>\n      <th>12</th>\n      <td>Panadol Paracetamolum tbl</td>\n      <td>Česko</td>\n      <td>GlaxoSmithKline Consumer Healthcare Czech Repu...</td>\n      <td>12579</td>\n      <td>114351.250</td>\n    </tr>\n    <tr>\n      <th>13</th>\n      <td>Paracetamol B. Braun</td>\n      <td>Nemecko</td>\n      <td>B.Braun Melsungen AG</td>\n      <td>12519</td>\n      <td>900.500</td>\n    </tr>\n    <tr>\n      <th>14</th>\n      <td>Paracetamol Kabi</td>\n      <td>Česko</td>\n      <td>Fresenius Kabi s.r.o.</td>\n      <td>12548</td>\n      <td>34926.290</td>\n    </tr>\n    <tr>\n      <th>15</th>\n      <td>Paracetamol Kappler</td>\n      <td>Nemecko</td>\n      <td>STADA Arzneimittel AG</td>\n      <td>6288</td>\n      <td>663.330</td>\n    </tr>\n    <tr>\n      <th>16</th>\n      <td>Paracetamol Vitabalans</td>\n      <td>Fínsko</td>\n      <td>Vitabalans Oy</td>\n      <td>12529</td>\n      <td>5493.010</td>\n    </tr>\n  </tbody>\n</table>\n</div>"
     },
     "metadata": {}
    }
   ],
   "source": [
    "paracetamol = top15tab[\"N02BE01\"].sort_values(by='Počet_balení', ascending=False).head(30)\n",
    "\n",
    "for i,popis in enumerate(paracetamol['LIEK_popis']):\n",
    "    if 'MEDIPYRIN 500 tbl' in popis:\n",
    "        paracetamol.iloc[i,4] = 'MEDIPYRIN tbl'\n",
    "    elif 'PANADOL BABY (+odmerka)' in popis:\n",
    "        paracetamol.iloc[i,4] = 'PANADOL BABY (+odmerka)'\n",
    "    elif 'PANADOL BABY (+striekačka)' in popis:\n",
    "        paracetamol.iloc[i,4] = 'PANADOL BABY (+striekačka)'\n",
    "    elif 'PANADOL BABY' in popis:\n",
    "        paracetamol.iloc[i,4] = 'PANADOL BABY'\n",
    "    elif 'PANADOL JUNIOR' in popis:\n",
    "        paracetamol.iloc[i,4] = 'PANADOL JUNIOR'\n",
    "    elif 'PANADOL PRE DETI' in popis:\n",
    "        paracetamol.iloc[i,4] = 'PANADOL PRE DETI'\n",
    "    elif 'PANADOL tbl' in popis:\n",
    "        paracetamol.iloc[i,4] = 'PANADOL tbl'\n",
    "    elif 'PARALEN' in popis and 'sus' in popis:\n",
    "        paracetamol.iloc[i,4] = 'PARALEN sus'\n",
    "    elif 'PARALEN' in popis and 'tbl' in popis:\n",
    "        paracetamol.iloc[i,4] = 'PARALEN tbl'\n",
    "    elif 'PARALEN' in popis and 'sup' in popis:\n",
    "        paracetamol.iloc[i,4] = 'PARALEN sup'\n",
    "    elif 'PARALEN' in popis:\n",
    "        paracetamol.iloc[i,4] = 'PARALEN nápoj'\n",
    "    elif 'Panadol Novum' in popis:\n",
    "        paracetamol.iloc[i,4] = 'Panadol Novum tbl'\n",
    "    elif 'Panadol Paracetamolum' in popis:\n",
    "        paracetamol.iloc[i,4] = 'Panadol Paracetamolum tbl'\n",
    "    elif 'Paracetamol B. Braun' in popis:\n",
    "        paracetamol.iloc[i,4] = 'Paracetamol B. Braun'\n",
    "    elif 'Paracetamol Kabi' in popis:\n",
    "        paracetamol.iloc[i,4] = 'Paracetamol Kabi'\n",
    "    elif 'Paracetamol Kappler' in popis:\n",
    "        paracetamol.iloc[i,4] = 'Paracetamol Kappler'\n",
    "    elif 'Paracetamol Vitabalans' in popis:\n",
    "        paracetamol.iloc[i,4] = 'Paracetamol Vitabalans'\n",
    "\n",
    "paracetamol = paracetamol.groupby(['LIEK_popis', 'STAT_popis', 'VYROBCA_popis']).sum().reset_index()\n",
    "\n",
    "display(paracetamol.sort_values(by='LIEK_popis'))\n"
   ]
  },
  {
   "cell_type": "code",
   "execution_count": 97,
   "metadata": {},
   "outputs": [
    {
     "output_type": "display_data",
     "data": {
      "application/vnd.plotly.v1+json": {
       "config": {
        "plotlyServerURL": "https://plot.ly"
       },
       "data": [
        {
         "alignmentgroup": "True",
         "hovertemplate": " =%{x}<br>Počet balení=%{y}<extra></extra>",
         "legendgroup": "Česko",
         "marker": {
          "color": "#4B6AAB"
         },
         "name": "Česko",
         "offsetgroup": "Česko",
         "orientation": "v",
         "showlegend": true,
         "textposition": "auto",
         "type": "bar",
         "x": [
          "MEDIPYRIN tbl",
          "PANADOL BABY",
          "PANADOL BABY (+odmerka)",
          "PANADOL JUNIOR",
          "PANADOL PRE DETI",
          "PANADOL tbl",
          "Panadol Novum tbl",
          "Panadol Paracetamolum tbl",
          "Paracetamol Kabi"
         ],
         "xaxis": "x",
         "y": [
          21920.89,
          50394,
          839,
          30460.5,
          37895,
          553,
          77893.815,
          114351.25,
          34926.29
         ],
         "yaxis": "y"
        },
        {
         "alignmentgroup": "True",
         "hovertemplate": " =%{x}<br>Počet balení=%{y}<extra></extra>",
         "legendgroup": "Francúzsko",
         "marker": {
          "color": "#D8764C"
         },
         "name": "Francúzsko",
         "offsetgroup": "Francúzsko",
         "orientation": "v",
         "showlegend": true,
         "textposition": "auto",
         "type": "bar",
         "x": [
          "PANADOL BABY (+striekačka)"
         ],
         "xaxis": "x",
         "y": [
          285
         ],
         "yaxis": "y"
        },
        {
         "alignmentgroup": "True",
         "hovertemplate": " =%{x}<br>Počet balení=%{y}<extra></extra>",
         "legendgroup": "Slovensko",
         "marker": {
          "color": "#B75B9E"
         },
         "name": "Slovensko",
         "offsetgroup": "Slovensko",
         "orientation": "v",
         "showlegend": true,
         "textposition": "auto",
         "type": "bar",
         "x": [
          "PARALEN nápoj",
          "PARALEN sup",
          "PARALEN sus",
          "PARALEN tbl"
         ],
         "xaxis": "x",
         "y": [
          482.17,
          161406.21000000002,
          74950,
          2683311.1420000005
         ],
         "yaxis": "y"
        },
        {
         "alignmentgroup": "True",
         "hovertemplate": " =%{x}<br>Počet balení=%{y}<extra></extra>",
         "legendgroup": "Nemecko",
         "marker": {
          "color": "#F1C75B"
         },
         "name": "Nemecko",
         "offsetgroup": "Nemecko",
         "orientation": "v",
         "showlegend": true,
         "textposition": "auto",
         "type": "bar",
         "x": [
          "Paracetamol B. Braun",
          "Paracetamol Kappler"
         ],
         "xaxis": "x",
         "y": [
          900.5,
          663.33
         ],
         "yaxis": "y"
        },
        {
         "alignmentgroup": "True",
         "hovertemplate": " =%{x}<br>Počet balení=%{y}<extra></extra>",
         "legendgroup": "Fínsko",
         "marker": {
          "color": "#73B5AB"
         },
         "name": "Fínsko",
         "offsetgroup": "Fínsko",
         "orientation": "v",
         "showlegend": true,
         "textposition": "auto",
         "type": "bar",
         "x": [
          "Paracetamol Vitabalans"
         ],
         "xaxis": "x",
         "y": [
          5493.01
         ],
         "yaxis": "y"
        }
       ],
       "layout": {
        "barmode": "relative",
        "legend": {
         "title": {
          "text": " "
         },
         "tracegroupgap": 0
        },
        "template": {
         "data": {
          "bar": [
           {
            "error_x": {
             "color": "#2a3f5f"
            },
            "error_y": {
             "color": "#2a3f5f"
            },
            "marker": {
             "line": {
              "color": "#E5ECF6",
              "width": 0.5
             }
            },
            "type": "bar"
           }
          ],
          "barpolar": [
           {
            "marker": {
             "line": {
              "color": "#E5ECF6",
              "width": 0.5
             }
            },
            "type": "barpolar"
           }
          ],
          "carpet": [
           {
            "aaxis": {
             "endlinecolor": "#2a3f5f",
             "gridcolor": "white",
             "linecolor": "white",
             "minorgridcolor": "white",
             "startlinecolor": "#2a3f5f"
            },
            "baxis": {
             "endlinecolor": "#2a3f5f",
             "gridcolor": "white",
             "linecolor": "white",
             "minorgridcolor": "white",
             "startlinecolor": "#2a3f5f"
            },
            "type": "carpet"
           }
          ],
          "choropleth": [
           {
            "colorbar": {
             "outlinewidth": 0,
             "ticks": ""
            },
            "type": "choropleth"
           }
          ],
          "contour": [
           {
            "colorbar": {
             "outlinewidth": 0,
             "ticks": ""
            },
            "colorscale": [
             [
              0,
              "#0d0887"
             ],
             [
              0.1111111111111111,
              "#46039f"
             ],
             [
              0.2222222222222222,
              "#7201a8"
             ],
             [
              0.3333333333333333,
              "#9c179e"
             ],
             [
              0.4444444444444444,
              "#bd3786"
             ],
             [
              0.5555555555555556,
              "#d8576b"
             ],
             [
              0.6666666666666666,
              "#ed7953"
             ],
             [
              0.7777777777777778,
              "#fb9f3a"
             ],
             [
              0.8888888888888888,
              "#fdca26"
             ],
             [
              1,
              "#f0f921"
             ]
            ],
            "type": "contour"
           }
          ],
          "contourcarpet": [
           {
            "colorbar": {
             "outlinewidth": 0,
             "ticks": ""
            },
            "type": "contourcarpet"
           }
          ],
          "heatmap": [
           {
            "colorbar": {
             "outlinewidth": 0,
             "ticks": ""
            },
            "colorscale": [
             [
              0,
              "#0d0887"
             ],
             [
              0.1111111111111111,
              "#46039f"
             ],
             [
              0.2222222222222222,
              "#7201a8"
             ],
             [
              0.3333333333333333,
              "#9c179e"
             ],
             [
              0.4444444444444444,
              "#bd3786"
             ],
             [
              0.5555555555555556,
              "#d8576b"
             ],
             [
              0.6666666666666666,
              "#ed7953"
             ],
             [
              0.7777777777777778,
              "#fb9f3a"
             ],
             [
              0.8888888888888888,
              "#fdca26"
             ],
             [
              1,
              "#f0f921"
             ]
            ],
            "type": "heatmap"
           }
          ],
          "heatmapgl": [
           {
            "colorbar": {
             "outlinewidth": 0,
             "ticks": ""
            },
            "colorscale": [
             [
              0,
              "#0d0887"
             ],
             [
              0.1111111111111111,
              "#46039f"
             ],
             [
              0.2222222222222222,
              "#7201a8"
             ],
             [
              0.3333333333333333,
              "#9c179e"
             ],
             [
              0.4444444444444444,
              "#bd3786"
             ],
             [
              0.5555555555555556,
              "#d8576b"
             ],
             [
              0.6666666666666666,
              "#ed7953"
             ],
             [
              0.7777777777777778,
              "#fb9f3a"
             ],
             [
              0.8888888888888888,
              "#fdca26"
             ],
             [
              1,
              "#f0f921"
             ]
            ],
            "type": "heatmapgl"
           }
          ],
          "histogram": [
           {
            "marker": {
             "colorbar": {
              "outlinewidth": 0,
              "ticks": ""
             }
            },
            "type": "histogram"
           }
          ],
          "histogram2d": [
           {
            "colorbar": {
             "outlinewidth": 0,
             "ticks": ""
            },
            "colorscale": [
             [
              0,
              "#0d0887"
             ],
             [
              0.1111111111111111,
              "#46039f"
             ],
             [
              0.2222222222222222,
              "#7201a8"
             ],
             [
              0.3333333333333333,
              "#9c179e"
             ],
             [
              0.4444444444444444,
              "#bd3786"
             ],
             [
              0.5555555555555556,
              "#d8576b"
             ],
             [
              0.6666666666666666,
              "#ed7953"
             ],
             [
              0.7777777777777778,
              "#fb9f3a"
             ],
             [
              0.8888888888888888,
              "#fdca26"
             ],
             [
              1,
              "#f0f921"
             ]
            ],
            "type": "histogram2d"
           }
          ],
          "histogram2dcontour": [
           {
            "colorbar": {
             "outlinewidth": 0,
             "ticks": ""
            },
            "colorscale": [
             [
              0,
              "#0d0887"
             ],
             [
              0.1111111111111111,
              "#46039f"
             ],
             [
              0.2222222222222222,
              "#7201a8"
             ],
             [
              0.3333333333333333,
              "#9c179e"
             ],
             [
              0.4444444444444444,
              "#bd3786"
             ],
             [
              0.5555555555555556,
              "#d8576b"
             ],
             [
              0.6666666666666666,
              "#ed7953"
             ],
             [
              0.7777777777777778,
              "#fb9f3a"
             ],
             [
              0.8888888888888888,
              "#fdca26"
             ],
             [
              1,
              "#f0f921"
             ]
            ],
            "type": "histogram2dcontour"
           }
          ],
          "mesh3d": [
           {
            "colorbar": {
             "outlinewidth": 0,
             "ticks": ""
            },
            "type": "mesh3d"
           }
          ],
          "parcoords": [
           {
            "line": {
             "colorbar": {
              "outlinewidth": 0,
              "ticks": ""
             }
            },
            "type": "parcoords"
           }
          ],
          "pie": [
           {
            "automargin": true,
            "type": "pie"
           }
          ],
          "scatter": [
           {
            "marker": {
             "colorbar": {
              "outlinewidth": 0,
              "ticks": ""
             }
            },
            "type": "scatter"
           }
          ],
          "scatter3d": [
           {
            "line": {
             "colorbar": {
              "outlinewidth": 0,
              "ticks": ""
             }
            },
            "marker": {
             "colorbar": {
              "outlinewidth": 0,
              "ticks": ""
             }
            },
            "type": "scatter3d"
           }
          ],
          "scattercarpet": [
           {
            "marker": {
             "colorbar": {
              "outlinewidth": 0,
              "ticks": ""
             }
            },
            "type": "scattercarpet"
           }
          ],
          "scattergeo": [
           {
            "marker": {
             "colorbar": {
              "outlinewidth": 0,
              "ticks": ""
             }
            },
            "type": "scattergeo"
           }
          ],
          "scattergl": [
           {
            "marker": {
             "colorbar": {
              "outlinewidth": 0,
              "ticks": ""
             }
            },
            "type": "scattergl"
           }
          ],
          "scattermapbox": [
           {
            "marker": {
             "colorbar": {
              "outlinewidth": 0,
              "ticks": ""
             }
            },
            "type": "scattermapbox"
           }
          ],
          "scatterpolar": [
           {
            "marker": {
             "colorbar": {
              "outlinewidth": 0,
              "ticks": ""
             }
            },
            "type": "scatterpolar"
           }
          ],
          "scatterpolargl": [
           {
            "marker": {
             "colorbar": {
              "outlinewidth": 0,
              "ticks": ""
             }
            },
            "type": "scatterpolargl"
           }
          ],
          "scatterternary": [
           {
            "marker": {
             "colorbar": {
              "outlinewidth": 0,
              "ticks": ""
             }
            },
            "type": "scatterternary"
           }
          ],
          "surface": [
           {
            "colorbar": {
             "outlinewidth": 0,
             "ticks": ""
            },
            "colorscale": [
             [
              0,
              "#0d0887"
             ],
             [
              0.1111111111111111,
              "#46039f"
             ],
             [
              0.2222222222222222,
              "#7201a8"
             ],
             [
              0.3333333333333333,
              "#9c179e"
             ],
             [
              0.4444444444444444,
              "#bd3786"
             ],
             [
              0.5555555555555556,
              "#d8576b"
             ],
             [
              0.6666666666666666,
              "#ed7953"
             ],
             [
              0.7777777777777778,
              "#fb9f3a"
             ],
             [
              0.8888888888888888,
              "#fdca26"
             ],
             [
              1,
              "#f0f921"
             ]
            ],
            "type": "surface"
           }
          ],
          "table": [
           {
            "cells": {
             "fill": {
              "color": "#EBF0F8"
             },
             "line": {
              "color": "white"
             }
            },
            "header": {
             "fill": {
              "color": "#C8D4E3"
             },
             "line": {
              "color": "white"
             }
            },
            "type": "table"
           }
          ]
         },
         "layout": {
          "annotationdefaults": {
           "arrowcolor": "#2a3f5f",
           "arrowhead": 0,
           "arrowwidth": 1
          },
          "autotypenumbers": "strict",
          "coloraxis": {
           "colorbar": {
            "outlinewidth": 0,
            "ticks": ""
           }
          },
          "colorscale": {
           "diverging": [
            [
             0,
             "#8e0152"
            ],
            [
             0.1,
             "#c51b7d"
            ],
            [
             0.2,
             "#de77ae"
            ],
            [
             0.3,
             "#f1b6da"
            ],
            [
             0.4,
             "#fde0ef"
            ],
            [
             0.5,
             "#f7f7f7"
            ],
            [
             0.6,
             "#e6f5d0"
            ],
            [
             0.7,
             "#b8e186"
            ],
            [
             0.8,
             "#7fbc41"
            ],
            [
             0.9,
             "#4d9221"
            ],
            [
             1,
             "#276419"
            ]
           ],
           "sequential": [
            [
             0,
             "#0d0887"
            ],
            [
             0.1111111111111111,
             "#46039f"
            ],
            [
             0.2222222222222222,
             "#7201a8"
            ],
            [
             0.3333333333333333,
             "#9c179e"
            ],
            [
             0.4444444444444444,
             "#bd3786"
            ],
            [
             0.5555555555555556,
             "#d8576b"
            ],
            [
             0.6666666666666666,
             "#ed7953"
            ],
            [
             0.7777777777777778,
             "#fb9f3a"
            ],
            [
             0.8888888888888888,
             "#fdca26"
            ],
            [
             1,
             "#f0f921"
            ]
           ],
           "sequentialminus": [
            [
             0,
             "#0d0887"
            ],
            [
             0.1111111111111111,
             "#46039f"
            ],
            [
             0.2222222222222222,
             "#7201a8"
            ],
            [
             0.3333333333333333,
             "#9c179e"
            ],
            [
             0.4444444444444444,
             "#bd3786"
            ],
            [
             0.5555555555555556,
             "#d8576b"
            ],
            [
             0.6666666666666666,
             "#ed7953"
            ],
            [
             0.7777777777777778,
             "#fb9f3a"
            ],
            [
             0.8888888888888888,
             "#fdca26"
            ],
            [
             1,
             "#f0f921"
            ]
           ]
          },
          "colorway": [
           "#636efa",
           "#EF553B",
           "#00cc96",
           "#ab63fa",
           "#FFA15A",
           "#19d3f3",
           "#FF6692",
           "#B6E880",
           "#FF97FF",
           "#FECB52"
          ],
          "font": {
           "color": "#2a3f5f"
          },
          "geo": {
           "bgcolor": "white",
           "lakecolor": "white",
           "landcolor": "#E5ECF6",
           "showlakes": true,
           "showland": true,
           "subunitcolor": "white"
          },
          "hoverlabel": {
           "align": "left"
          },
          "hovermode": "closest",
          "mapbox": {
           "style": "light"
          },
          "paper_bgcolor": "white",
          "plot_bgcolor": "#E5ECF6",
          "polar": {
           "angularaxis": {
            "gridcolor": "white",
            "linecolor": "white",
            "ticks": ""
           },
           "bgcolor": "#E5ECF6",
           "radialaxis": {
            "gridcolor": "white",
            "linecolor": "white",
            "ticks": ""
           }
          },
          "scene": {
           "xaxis": {
            "backgroundcolor": "#E5ECF6",
            "gridcolor": "white",
            "gridwidth": 2,
            "linecolor": "white",
            "showbackground": true,
            "ticks": "",
            "zerolinecolor": "white"
           },
           "yaxis": {
            "backgroundcolor": "#E5ECF6",
            "gridcolor": "white",
            "gridwidth": 2,
            "linecolor": "white",
            "showbackground": true,
            "ticks": "",
            "zerolinecolor": "white"
           },
           "zaxis": {
            "backgroundcolor": "#E5ECF6",
            "gridcolor": "white",
            "gridwidth": 2,
            "linecolor": "white",
            "showbackground": true,
            "ticks": "",
            "zerolinecolor": "white"
           }
          },
          "shapedefaults": {
           "line": {
            "color": "#2a3f5f"
           }
          },
          "ternary": {
           "aaxis": {
            "gridcolor": "white",
            "linecolor": "white",
            "ticks": ""
           },
           "baxis": {
            "gridcolor": "white",
            "linecolor": "white",
            "ticks": ""
           },
           "bgcolor": "#E5ECF6",
           "caxis": {
            "gridcolor": "white",
            "linecolor": "white",
            "ticks": ""
           }
          },
          "title": {
           "x": 0.05
          },
          "xaxis": {
           "automargin": true,
           "gridcolor": "white",
           "linecolor": "white",
           "ticks": "",
           "title": {
            "standoff": 15
           },
           "zerolinecolor": "white",
           "zerolinewidth": 2
          },
          "yaxis": {
           "automargin": true,
           "gridcolor": "white",
           "linecolor": "white",
           "ticks": "",
           "title": {
            "standoff": 15
           },
           "zerolinecolor": "white",
           "zerolinewidth": 2
          }
         }
        },
        "title": {
         "text": "Paracetamol (top 30)"
        },
        "xaxis": {
         "anchor": "y",
         "domain": [
          0,
          1
         ],
         "tickangle": 45,
         "title": {
          "text": " "
         }
        },
        "yaxis": {
         "anchor": "x",
         "domain": [
          0,
          1
         ],
         "title": {
          "text": "Počet balení"
         }
        }
       }
      }
     },
     "metadata": {}
    }
   ],
   "source": [
    "fig = px.bar(paracetamol,x='LIEK_popis', y='Počet_balení',color='STAT_popis', title='Paracetamol (top 30)',labels={'Počet_balení':'Počet balení', 'STAT_popis':' ', 'LIEK_popis':' '}, color_discrete_sequence=[modra, ruzova, oranzova,  zlta, zelena])\n",
    "fig.update_xaxes(tickangle=45)\n",
    "fig.show()"
   ]
  },
  {
   "source": [],
   "cell_type": "markdown",
   "metadata": {}
  },
  {
   "cell_type": "code",
   "execution_count": 99,
   "metadata": {},
   "outputs": [
    {
     "output_type": "display_data",
     "data": {
      "text/plain": "  LIEK_popis   index  Počet_balení\n0        INÉ   94046     63990.020\n1    PANADOL  163554    312880.565\n2    PARALEN   50267   2920149.522",
      "text/html": "<div>\n<style scoped>\n    .dataframe tbody tr th:only-of-type {\n        vertical-align: middle;\n    }\n\n    .dataframe tbody tr th {\n        vertical-align: top;\n    }\n\n    .dataframe thead th {\n        text-align: right;\n    }\n</style>\n<table border=\"1\" class=\"dataframe\">\n  <thead>\n    <tr style=\"text-align: right;\">\n      <th></th>\n      <th>LIEK_popis</th>\n      <th>index</th>\n      <th>Počet_balení</th>\n    </tr>\n  </thead>\n  <tbody>\n    <tr>\n      <th>0</th>\n      <td>INÉ</td>\n      <td>94046</td>\n      <td>63990.020</td>\n    </tr>\n    <tr>\n      <th>1</th>\n      <td>PANADOL</td>\n      <td>163554</td>\n      <td>312880.565</td>\n    </tr>\n    <tr>\n      <th>2</th>\n      <td>PARALEN</td>\n      <td>50267</td>\n      <td>2920149.522</td>\n    </tr>\n  </tbody>\n</table>\n</div>"
     },
     "metadata": {}
    }
   ],
   "source": [
    "paracetamol_all = top15tab[\"N02BE01\"].sort_values(by='Počet_balení', ascending=False)\n",
    "for i,popis in enumerate(paracetamol_all['LIEK_popis']):\n",
    "    if 'PANADOL' in popis:\n",
    "        paracetamol_all.iloc[i,4] = 'PANADOL'\n",
    "    elif 'Panadol' in popis:\n",
    "        paracetamol_all.iloc[i,4] = 'PANADOL'\n",
    "    elif 'PARALEN' in popis:\n",
    "        paracetamol_all.iloc[i,4] = 'PARALEN'\n",
    "    elif 'Paralen' in popis:\n",
    "        paracetamol_all.iloc[i,4] = 'PARALEN'\n",
    "    else:\n",
    "        paracetamol_all.iloc[i,4] = 'INÉ'\n",
    "paracetamol_all = paracetamol_all.groupby(['LIEK_popis']).sum().reset_index()\n",
    "display(paracetamol_all)"
   ]
  },
  {
   "cell_type": "code",
   "execution_count": 164,
   "metadata": {},
   "outputs": [
    {
     "output_type": "display_data",
     "data": {
      "application/vnd.plotly.v1+json": {
       "config": {
        "plotlyServerURL": "https://plot.ly"
       },
       "data": [
        {
         "domain": {
          "x": [
           0,
           1
          ],
          "y": [
           0,
           1
          ]
         },
         "hovertemplate": "LIEK_popis=%{label}<br>Počet_balení=%{value}<extra></extra>",
         "labels": [
          "INÉ",
          "PANADOL",
          "PARALEN"
         ],
         "legendgroup": "",
         "name": "",
         "showlegend": true,
         "type": "pie",
         "values": [
          63990.02,
          312880.565,
          2920149.5220000003
         ]
        }
       ],
       "layout": {
        "legend": {
         "tracegroupgap": 0
        },
        "piecolorway": [
         "#4B6AAB",
         "#B75B9E",
         "#F1C75B"
        ],
        "template": {
         "data": {
          "bar": [
           {
            "error_x": {
             "color": "#2a3f5f"
            },
            "error_y": {
             "color": "#2a3f5f"
            },
            "marker": {
             "line": {
              "color": "#E5ECF6",
              "width": 0.5
             }
            },
            "type": "bar"
           }
          ],
          "barpolar": [
           {
            "marker": {
             "line": {
              "color": "#E5ECF6",
              "width": 0.5
             }
            },
            "type": "barpolar"
           }
          ],
          "carpet": [
           {
            "aaxis": {
             "endlinecolor": "#2a3f5f",
             "gridcolor": "white",
             "linecolor": "white",
             "minorgridcolor": "white",
             "startlinecolor": "#2a3f5f"
            },
            "baxis": {
             "endlinecolor": "#2a3f5f",
             "gridcolor": "white",
             "linecolor": "white",
             "minorgridcolor": "white",
             "startlinecolor": "#2a3f5f"
            },
            "type": "carpet"
           }
          ],
          "choropleth": [
           {
            "colorbar": {
             "outlinewidth": 0,
             "ticks": ""
            },
            "type": "choropleth"
           }
          ],
          "contour": [
           {
            "colorbar": {
             "outlinewidth": 0,
             "ticks": ""
            },
            "colorscale": [
             [
              0,
              "#0d0887"
             ],
             [
              0.1111111111111111,
              "#46039f"
             ],
             [
              0.2222222222222222,
              "#7201a8"
             ],
             [
              0.3333333333333333,
              "#9c179e"
             ],
             [
              0.4444444444444444,
              "#bd3786"
             ],
             [
              0.5555555555555556,
              "#d8576b"
             ],
             [
              0.6666666666666666,
              "#ed7953"
             ],
             [
              0.7777777777777778,
              "#fb9f3a"
             ],
             [
              0.8888888888888888,
              "#fdca26"
             ],
             [
              1,
              "#f0f921"
             ]
            ],
            "type": "contour"
           }
          ],
          "contourcarpet": [
           {
            "colorbar": {
             "outlinewidth": 0,
             "ticks": ""
            },
            "type": "contourcarpet"
           }
          ],
          "heatmap": [
           {
            "colorbar": {
             "outlinewidth": 0,
             "ticks": ""
            },
            "colorscale": [
             [
              0,
              "#0d0887"
             ],
             [
              0.1111111111111111,
              "#46039f"
             ],
             [
              0.2222222222222222,
              "#7201a8"
             ],
             [
              0.3333333333333333,
              "#9c179e"
             ],
             [
              0.4444444444444444,
              "#bd3786"
             ],
             [
              0.5555555555555556,
              "#d8576b"
             ],
             [
              0.6666666666666666,
              "#ed7953"
             ],
             [
              0.7777777777777778,
              "#fb9f3a"
             ],
             [
              0.8888888888888888,
              "#fdca26"
             ],
             [
              1,
              "#f0f921"
             ]
            ],
            "type": "heatmap"
           }
          ],
          "heatmapgl": [
           {
            "colorbar": {
             "outlinewidth": 0,
             "ticks": ""
            },
            "colorscale": [
             [
              0,
              "#0d0887"
             ],
             [
              0.1111111111111111,
              "#46039f"
             ],
             [
              0.2222222222222222,
              "#7201a8"
             ],
             [
              0.3333333333333333,
              "#9c179e"
             ],
             [
              0.4444444444444444,
              "#bd3786"
             ],
             [
              0.5555555555555556,
              "#d8576b"
             ],
             [
              0.6666666666666666,
              "#ed7953"
             ],
             [
              0.7777777777777778,
              "#fb9f3a"
             ],
             [
              0.8888888888888888,
              "#fdca26"
             ],
             [
              1,
              "#f0f921"
             ]
            ],
            "type": "heatmapgl"
           }
          ],
          "histogram": [
           {
            "marker": {
             "colorbar": {
              "outlinewidth": 0,
              "ticks": ""
             }
            },
            "type": "histogram"
           }
          ],
          "histogram2d": [
           {
            "colorbar": {
             "outlinewidth": 0,
             "ticks": ""
            },
            "colorscale": [
             [
              0,
              "#0d0887"
             ],
             [
              0.1111111111111111,
              "#46039f"
             ],
             [
              0.2222222222222222,
              "#7201a8"
             ],
             [
              0.3333333333333333,
              "#9c179e"
             ],
             [
              0.4444444444444444,
              "#bd3786"
             ],
             [
              0.5555555555555556,
              "#d8576b"
             ],
             [
              0.6666666666666666,
              "#ed7953"
             ],
             [
              0.7777777777777778,
              "#fb9f3a"
             ],
             [
              0.8888888888888888,
              "#fdca26"
             ],
             [
              1,
              "#f0f921"
             ]
            ],
            "type": "histogram2d"
           }
          ],
          "histogram2dcontour": [
           {
            "colorbar": {
             "outlinewidth": 0,
             "ticks": ""
            },
            "colorscale": [
             [
              0,
              "#0d0887"
             ],
             [
              0.1111111111111111,
              "#46039f"
             ],
             [
              0.2222222222222222,
              "#7201a8"
             ],
             [
              0.3333333333333333,
              "#9c179e"
             ],
             [
              0.4444444444444444,
              "#bd3786"
             ],
             [
              0.5555555555555556,
              "#d8576b"
             ],
             [
              0.6666666666666666,
              "#ed7953"
             ],
             [
              0.7777777777777778,
              "#fb9f3a"
             ],
             [
              0.8888888888888888,
              "#fdca26"
             ],
             [
              1,
              "#f0f921"
             ]
            ],
            "type": "histogram2dcontour"
           }
          ],
          "mesh3d": [
           {
            "colorbar": {
             "outlinewidth": 0,
             "ticks": ""
            },
            "type": "mesh3d"
           }
          ],
          "parcoords": [
           {
            "line": {
             "colorbar": {
              "outlinewidth": 0,
              "ticks": ""
             }
            },
            "type": "parcoords"
           }
          ],
          "pie": [
           {
            "automargin": true,
            "type": "pie"
           }
          ],
          "scatter": [
           {
            "marker": {
             "colorbar": {
              "outlinewidth": 0,
              "ticks": ""
             }
            },
            "type": "scatter"
           }
          ],
          "scatter3d": [
           {
            "line": {
             "colorbar": {
              "outlinewidth": 0,
              "ticks": ""
             }
            },
            "marker": {
             "colorbar": {
              "outlinewidth": 0,
              "ticks": ""
             }
            },
            "type": "scatter3d"
           }
          ],
          "scattercarpet": [
           {
            "marker": {
             "colorbar": {
              "outlinewidth": 0,
              "ticks": ""
             }
            },
            "type": "scattercarpet"
           }
          ],
          "scattergeo": [
           {
            "marker": {
             "colorbar": {
              "outlinewidth": 0,
              "ticks": ""
             }
            },
            "type": "scattergeo"
           }
          ],
          "scattergl": [
           {
            "marker": {
             "colorbar": {
              "outlinewidth": 0,
              "ticks": ""
             }
            },
            "type": "scattergl"
           }
          ],
          "scattermapbox": [
           {
            "marker": {
             "colorbar": {
              "outlinewidth": 0,
              "ticks": ""
             }
            },
            "type": "scattermapbox"
           }
          ],
          "scatterpolar": [
           {
            "marker": {
             "colorbar": {
              "outlinewidth": 0,
              "ticks": ""
             }
            },
            "type": "scatterpolar"
           }
          ],
          "scatterpolargl": [
           {
            "marker": {
             "colorbar": {
              "outlinewidth": 0,
              "ticks": ""
             }
            },
            "type": "scatterpolargl"
           }
          ],
          "scatterternary": [
           {
            "marker": {
             "colorbar": {
              "outlinewidth": 0,
              "ticks": ""
             }
            },
            "type": "scatterternary"
           }
          ],
          "surface": [
           {
            "colorbar": {
             "outlinewidth": 0,
             "ticks": ""
            },
            "colorscale": [
             [
              0,
              "#0d0887"
             ],
             [
              0.1111111111111111,
              "#46039f"
             ],
             [
              0.2222222222222222,
              "#7201a8"
             ],
             [
              0.3333333333333333,
              "#9c179e"
             ],
             [
              0.4444444444444444,
              "#bd3786"
             ],
             [
              0.5555555555555556,
              "#d8576b"
             ],
             [
              0.6666666666666666,
              "#ed7953"
             ],
             [
              0.7777777777777778,
              "#fb9f3a"
             ],
             [
              0.8888888888888888,
              "#fdca26"
             ],
             [
              1,
              "#f0f921"
             ]
            ],
            "type": "surface"
           }
          ],
          "table": [
           {
            "cells": {
             "fill": {
              "color": "#EBF0F8"
             },
             "line": {
              "color": "white"
             }
            },
            "header": {
             "fill": {
              "color": "#C8D4E3"
             },
             "line": {
              "color": "white"
             }
            },
            "type": "table"
           }
          ]
         },
         "layout": {
          "annotationdefaults": {
           "arrowcolor": "#2a3f5f",
           "arrowhead": 0,
           "arrowwidth": 1
          },
          "autotypenumbers": "strict",
          "coloraxis": {
           "colorbar": {
            "outlinewidth": 0,
            "ticks": ""
           }
          },
          "colorscale": {
           "diverging": [
            [
             0,
             "#8e0152"
            ],
            [
             0.1,
             "#c51b7d"
            ],
            [
             0.2,
             "#de77ae"
            ],
            [
             0.3,
             "#f1b6da"
            ],
            [
             0.4,
             "#fde0ef"
            ],
            [
             0.5,
             "#f7f7f7"
            ],
            [
             0.6,
             "#e6f5d0"
            ],
            [
             0.7,
             "#b8e186"
            ],
            [
             0.8,
             "#7fbc41"
            ],
            [
             0.9,
             "#4d9221"
            ],
            [
             1,
             "#276419"
            ]
           ],
           "sequential": [
            [
             0,
             "#0d0887"
            ],
            [
             0.1111111111111111,
             "#46039f"
            ],
            [
             0.2222222222222222,
             "#7201a8"
            ],
            [
             0.3333333333333333,
             "#9c179e"
            ],
            [
             0.4444444444444444,
             "#bd3786"
            ],
            [
             0.5555555555555556,
             "#d8576b"
            ],
            [
             0.6666666666666666,
             "#ed7953"
            ],
            [
             0.7777777777777778,
             "#fb9f3a"
            ],
            [
             0.8888888888888888,
             "#fdca26"
            ],
            [
             1,
             "#f0f921"
            ]
           ],
           "sequentialminus": [
            [
             0,
             "#0d0887"
            ],
            [
             0.1111111111111111,
             "#46039f"
            ],
            [
             0.2222222222222222,
             "#7201a8"
            ],
            [
             0.3333333333333333,
             "#9c179e"
            ],
            [
             0.4444444444444444,
             "#bd3786"
            ],
            [
             0.5555555555555556,
             "#d8576b"
            ],
            [
             0.6666666666666666,
             "#ed7953"
            ],
            [
             0.7777777777777778,
             "#fb9f3a"
            ],
            [
             0.8888888888888888,
             "#fdca26"
            ],
            [
             1,
             "#f0f921"
            ]
           ]
          },
          "colorway": [
           "#636efa",
           "#EF553B",
           "#00cc96",
           "#ab63fa",
           "#FFA15A",
           "#19d3f3",
           "#FF6692",
           "#B6E880",
           "#FF97FF",
           "#FECB52"
          ],
          "font": {
           "color": "#2a3f5f"
          },
          "geo": {
           "bgcolor": "white",
           "lakecolor": "white",
           "landcolor": "#E5ECF6",
           "showlakes": true,
           "showland": true,
           "subunitcolor": "white"
          },
          "hoverlabel": {
           "align": "left"
          },
          "hovermode": "closest",
          "mapbox": {
           "style": "light"
          },
          "paper_bgcolor": "white",
          "plot_bgcolor": "#E5ECF6",
          "polar": {
           "angularaxis": {
            "gridcolor": "white",
            "linecolor": "white",
            "ticks": ""
           },
           "bgcolor": "#E5ECF6",
           "radialaxis": {
            "gridcolor": "white",
            "linecolor": "white",
            "ticks": ""
           }
          },
          "scene": {
           "xaxis": {
            "backgroundcolor": "#E5ECF6",
            "gridcolor": "white",
            "gridwidth": 2,
            "linecolor": "white",
            "showbackground": true,
            "ticks": "",
            "zerolinecolor": "white"
           },
           "yaxis": {
            "backgroundcolor": "#E5ECF6",
            "gridcolor": "white",
            "gridwidth": 2,
            "linecolor": "white",
            "showbackground": true,
            "ticks": "",
            "zerolinecolor": "white"
           },
           "zaxis": {
            "backgroundcolor": "#E5ECF6",
            "gridcolor": "white",
            "gridwidth": 2,
            "linecolor": "white",
            "showbackground": true,
            "ticks": "",
            "zerolinecolor": "white"
           }
          },
          "shapedefaults": {
           "line": {
            "color": "#2a3f5f"
           }
          },
          "ternary": {
           "aaxis": {
            "gridcolor": "white",
            "linecolor": "white",
            "ticks": ""
           },
           "baxis": {
            "gridcolor": "white",
            "linecolor": "white",
            "ticks": ""
           },
           "bgcolor": "#E5ECF6",
           "caxis": {
            "gridcolor": "white",
            "linecolor": "white",
            "ticks": ""
           }
          },
          "title": {
           "x": 0.05
          },
          "xaxis": {
           "automargin": true,
           "gridcolor": "white",
           "linecolor": "white",
           "ticks": "",
           "title": {
            "standoff": 15
           },
           "zerolinecolor": "white",
           "zerolinewidth": 2
          },
          "yaxis": {
           "automargin": true,
           "gridcolor": "white",
           "linecolor": "white",
           "ticks": "",
           "title": {
            "standoff": 15
           },
           "zerolinecolor": "white",
           "zerolinewidth": 2
          }
         }
        },
        "title": {
         "text": "Paracetamol - porovnanie značiek"
        }
       }
      }
     },
     "metadata": {}
    }
   ],
   "source": [
    "fig = px.pie(paracetamol_all, values='Počet_balení', names='LIEK_popis', title='Paracetamol - porovnanie značiek', color_discrete_sequence=[modra, ruzova, zlta])\n",
    "fig.show()"
   ]
  },
  {
   "source": [
    "Z grafu vidime, ze vsetky lieky prekonava Paralen v tabletach. Takisto si mozeme vsimnut ze je vyrabany na Slovensku. Cesko ma siroku ponuku Panadolov avsak tieto tak popularne nie su.\n",
    "Preco je paralen takto \"popularny\"? Monzno ze ho ludia viac poznaju, je to prvy liek s paracetamolom co ich napadne, mozno niektorym pride ucinnejsi, ale aj ked sa pozrieme na tabulku liekov s paracetamolom, vidime, ze panadol je zvycajne pre deti.\n",
    "## ZAVER:\n",
    "* Prvy graf nevyzera dobre. Lepsi je druhy ako zaujimavost, kolko az % zo vsetkych paracetamolov tvori paralen. Skoro az 89%, panadol je iba 9%, vsetky ostatne liek s panadolom tvoria necele 2%. "
   ],
   "cell_type": "markdown",
   "metadata": {}
  },
  {
   "source": [
    "# 4. Ibuprofen"
   ],
   "cell_type": "markdown",
   "metadata": {}
  },
  {
   "cell_type": "code",
   "execution_count": 116,
   "metadata": {},
   "outputs": [
    {
     "output_type": "display_data",
     "data": {
      "text/plain": "                 LIEK_popis  STAT_popis  \\\n0                BRUFEN 400  Francúzsko   \n1                BRUFEN 600  Francúzsko   \n2               IBALGIN 200   Slovensko   \n3               IBALGIN 400   Slovensko   \n4               IBALGIN 600   Slovensko   \n5              IBALGIN FAST   Slovensko   \n6         IBALGIN RAPIDCAPS   Slovensko   \n7               IBALGIN SUS   Slovensko   \n8             IBUPROFEN 400     Nemecko   \n9                MIG Junior     Nemecko   \n10                  MIG-400     Nemecko   \n11            NUROFEN FORTE       Česko   \n12  NUROFEN Liquid Capsules       Česko   \n13         NUROFEN pre deti       Česko   \n14              NUROFEN tbl       Česko   \n\n                                        VYROBCA_popis  index  Počet_balení  \n0                              Mylan Laboratories SAS  11226    260398.011  \n1                              Mylan Laboratories SAS   5625     28425.100  \n2                      sanofi-aventis Slovakia s.r.o.   5603    115937.580  \n3                      sanofi-aventis Slovakia s.r.o.  22455    925557.576  \n4                      sanofi-aventis Slovakia s.r.o.   5629     36402.670  \n5                      sanofi-aventis Slovakia s.r.o.   5641     32353.100  \n6                      sanofi-aventis Slovakia s.r.o.  11222    195327.956  \n7                      sanofi-aventis Slovakia s.r.o.   5634     16038.000  \n8                               STADA Arzneimittel AG  11253     87787.140  \n9                                    Berlin-Chemie AG   5571     12276.300  \n10                                   Berlin-Chemie AG  11235    234871.823  \n11  Reckitt Benckiser (Czech Republic), spol. s r.o.    5627     53810.500  \n12  Reckitt Benckiser (Czech Republic), spol. s r.o.   11245    140448.500  \n13  Reckitt Benckiser (Czech Republic), spol. s r.o.   44911    518837.687  \n14  Reckitt Benckiser (Czech Republic), spol. s r.o.    5633     53473.410  ",
      "text/html": "<div>\n<style scoped>\n    .dataframe tbody tr th:only-of-type {\n        vertical-align: middle;\n    }\n\n    .dataframe tbody tr th {\n        vertical-align: top;\n    }\n\n    .dataframe thead th {\n        text-align: right;\n    }\n</style>\n<table border=\"1\" class=\"dataframe\">\n  <thead>\n    <tr style=\"text-align: right;\">\n      <th></th>\n      <th>LIEK_popis</th>\n      <th>STAT_popis</th>\n      <th>VYROBCA_popis</th>\n      <th>index</th>\n      <th>Počet_balení</th>\n    </tr>\n  </thead>\n  <tbody>\n    <tr>\n      <th>0</th>\n      <td>BRUFEN 400</td>\n      <td>Francúzsko</td>\n      <td>Mylan Laboratories SAS</td>\n      <td>11226</td>\n      <td>260398.011</td>\n    </tr>\n    <tr>\n      <th>1</th>\n      <td>BRUFEN 600</td>\n      <td>Francúzsko</td>\n      <td>Mylan Laboratories SAS</td>\n      <td>5625</td>\n      <td>28425.100</td>\n    </tr>\n    <tr>\n      <th>2</th>\n      <td>IBALGIN 200</td>\n      <td>Slovensko</td>\n      <td>sanofi-aventis Slovakia s.r.o.</td>\n      <td>5603</td>\n      <td>115937.580</td>\n    </tr>\n    <tr>\n      <th>3</th>\n      <td>IBALGIN 400</td>\n      <td>Slovensko</td>\n      <td>sanofi-aventis Slovakia s.r.o.</td>\n      <td>22455</td>\n      <td>925557.576</td>\n    </tr>\n    <tr>\n      <th>4</th>\n      <td>IBALGIN 600</td>\n      <td>Slovensko</td>\n      <td>sanofi-aventis Slovakia s.r.o.</td>\n      <td>5629</td>\n      <td>36402.670</td>\n    </tr>\n    <tr>\n      <th>5</th>\n      <td>IBALGIN FAST</td>\n      <td>Slovensko</td>\n      <td>sanofi-aventis Slovakia s.r.o.</td>\n      <td>5641</td>\n      <td>32353.100</td>\n    </tr>\n    <tr>\n      <th>6</th>\n      <td>IBALGIN RAPIDCAPS</td>\n      <td>Slovensko</td>\n      <td>sanofi-aventis Slovakia s.r.o.</td>\n      <td>11222</td>\n      <td>195327.956</td>\n    </tr>\n    <tr>\n      <th>7</th>\n      <td>IBALGIN SUS</td>\n      <td>Slovensko</td>\n      <td>sanofi-aventis Slovakia s.r.o.</td>\n      <td>5634</td>\n      <td>16038.000</td>\n    </tr>\n    <tr>\n      <th>8</th>\n      <td>IBUPROFEN 400</td>\n      <td>Nemecko</td>\n      <td>STADA Arzneimittel AG</td>\n      <td>11253</td>\n      <td>87787.140</td>\n    </tr>\n    <tr>\n      <th>9</th>\n      <td>MIG Junior</td>\n      <td>Nemecko</td>\n      <td>Berlin-Chemie AG</td>\n      <td>5571</td>\n      <td>12276.300</td>\n    </tr>\n    <tr>\n      <th>10</th>\n      <td>MIG-400</td>\n      <td>Nemecko</td>\n      <td>Berlin-Chemie AG</td>\n      <td>11235</td>\n      <td>234871.823</td>\n    </tr>\n    <tr>\n      <th>11</th>\n      <td>NUROFEN FORTE</td>\n      <td>Česko</td>\n      <td>Reckitt Benckiser (Czech Republic), spol. s r.o.</td>\n      <td>5627</td>\n      <td>53810.500</td>\n    </tr>\n    <tr>\n      <th>12</th>\n      <td>NUROFEN Liquid Capsules</td>\n      <td>Česko</td>\n      <td>Reckitt Benckiser (Czech Republic), spol. s r.o.</td>\n      <td>11245</td>\n      <td>140448.500</td>\n    </tr>\n    <tr>\n      <th>13</th>\n      <td>NUROFEN pre deti</td>\n      <td>Česko</td>\n      <td>Reckitt Benckiser (Czech Republic), spol. s r.o.</td>\n      <td>44911</td>\n      <td>518837.687</td>\n    </tr>\n    <tr>\n      <th>14</th>\n      <td>NUROFEN tbl</td>\n      <td>Česko</td>\n      <td>Reckitt Benckiser (Czech Republic), spol. s r.o.</td>\n      <td>5633</td>\n      <td>53473.410</td>\n    </tr>\n  </tbody>\n</table>\n</div>"
     },
     "metadata": {}
    }
   ],
   "source": [
    "ibuprofen = top15tab[\"M01AE01\"].sort_values(by='Počet_balení', ascending=False).head(30)\n",
    "\n",
    "for i,popis in enumerate(ibuprofen['LIEK_popis']):\n",
    "    if 'IBALGIN 400' in popis:\n",
    "        ibuprofen.iloc[i,4] = 'IBALGIN 400'\n",
    "    elif 'Ibalgin 400' in popis:\n",
    "        ibuprofen.iloc[i,4] = 'IBALGIN 400'\n",
    "    elif 'BRUFEN 400' in popis:\n",
    "        ibuprofen.iloc[i,4] = 'BRUFEN 400'\n",
    "    elif 'Brufen 400' in popis:\n",
    "        ibuprofen.iloc[i,4] = 'BRUFEN 400'\n",
    "    elif 'BRUFEN sirup' in popis:\n",
    "        ibuprofen.iloc[i,4] = 'BRUFEN sirup'\n",
    "    elif 'BRUFEN retard 800' in popis:\n",
    "        ibuprofen.iloc[i,4] = 'BRUFEN retard 800'\n",
    "    elif 'BRUFEN 600' in popis:\n",
    "        ibuprofen.iloc[i,4] = 'BRUFEN 600'\n",
    "    elif 'MIG-400' in popis:\n",
    "        ibuprofen.iloc[i,4] = 'MIG-400'\n",
    "    elif 'NUROFEN pre deti' in popis:\n",
    "        ibuprofen.iloc[i,4] = 'NUROFEN pre deti'\n",
    "    elif 'NUROFEN PRE DETI' in popis:\n",
    "        ibuprofen.iloc[i,4] = 'NUROFEN pre deti'\n",
    "    elif 'Nurofen pre deti' in popis:\n",
    "        ibuprofen.iloc[i,4] = 'NUROFEN pre deti'\n",
    "    elif 'NUROFEN PRE DETI' in popis:\n",
    "        ibuprofen.iloc[i,4] = 'NUROFEN pre deti'\n",
    "    elif 'IBALGIN RAPIDCAPS' in popis:\n",
    "        ibuprofen.iloc[i,4] = 'IBALGIN RAPIDCAPS'\n",
    "    elif 'IBALGIN 200' in popis:\n",
    "        ibuprofen.iloc[i,4] = 'IBALGIN 200'\n",
    "    elif 'IBALGIN 600' in popis:\n",
    "        ibuprofen.iloc[i,4] = 'IBALGIN 600'\n",
    "    elif 'IBALGIN FAST' in popis:\n",
    "        ibuprofen.iloc[i,4] = 'IBALGIN FAST'\n",
    "    elif 'NUROFEN Liquid Capsules' in popis:\n",
    "        ibuprofen.iloc[i,4] = 'NUROFEN Liquid Capsules'\n",
    "    elif 'IBUPROFEN 400' in popis:\n",
    "        ibuprofen.iloc[i,4] = 'IBUPROFEN 400'\n",
    "    elif 'IBALGIN SUS' in popis:\n",
    "        ibuprofen.iloc[i,4] = 'IBALGIN SUS'\n",
    "    elif 'MIG' in popis:\n",
    "        ibuprofen.iloc[i,4] = 'MIG Junior'\n",
    "    elif 'NUROFEN FORTE' in popis:\n",
    "        ibuprofen.iloc[i,4] = 'NUROFEN FORTE'\n",
    "    elif 'NUROFEN tbl' in popis:\n",
    "        ibuprofen.iloc[i,4] = 'NUROFEN tbl'\n",
    "\n",
    "ibuprofen = ibuprofen.groupby(['LIEK_popis', 'STAT_popis', 'VYROBCA_popis']).sum().reset_index()\n",
    "display(ibuprofen)"
   ]
  },
  {
   "cell_type": "code",
   "execution_count": 128,
   "metadata": {},
   "outputs": [
    {
     "output_type": "display_data",
     "data": {
      "application/vnd.plotly.v1+json": {
       "config": {
        "plotlyServerURL": "https://plot.ly"
       },
       "data": [
        {
         "alignmentgroup": "True",
         "hovertemplate": " =%{x}<br>Počet balení=%{y}<extra></extra>",
         "legendgroup": "Slovensko",
         "marker": {
          "color": "#4B6AAB"
         },
         "name": "Slovensko",
         "offsetgroup": "Slovensko",
         "orientation": "v",
         "showlegend": true,
         "textposition": "auto",
         "type": "bar",
         "x": [
          "IBALGIN 400",
          "IBALGIN RAPIDCAPS",
          "IBALGIN 200",
          "IBALGIN 600",
          "IBALGIN FAST",
          "IBALGIN SUS"
         ],
         "xaxis": "x",
         "y": [
          925557.576,
          195327.95599999998,
          115937.58,
          36402.67,
          32353.1,
          16038
         ],
         "yaxis": "y"
        },
        {
         "alignmentgroup": "True",
         "hovertemplate": " =%{x}<br>Počet balení=%{y}<extra></extra>",
         "legendgroup": "Česko",
         "marker": {
          "color": "#D8764C"
         },
         "name": "Česko",
         "offsetgroup": "Česko",
         "orientation": "v",
         "showlegend": true,
         "textposition": "auto",
         "type": "bar",
         "x": [
          "NUROFEN pre deti",
          "NUROFEN Liquid Capsules",
          "NUROFEN FORTE",
          "NUROFEN tbl"
         ],
         "xaxis": "x",
         "y": [
          518837.68700000003,
          140448.5,
          53810.5,
          53473.41
         ],
         "yaxis": "y"
        },
        {
         "alignmentgroup": "True",
         "hovertemplate": " =%{x}<br>Počet balení=%{y}<extra></extra>",
         "legendgroup": "Francúzsko",
         "marker": {
          "color": "#B75B9E"
         },
         "name": "Francúzsko",
         "offsetgroup": "Francúzsko",
         "orientation": "v",
         "showlegend": true,
         "textposition": "auto",
         "type": "bar",
         "x": [
          "BRUFEN 400",
          "BRUFEN 600"
         ],
         "xaxis": "x",
         "y": [
          260398.011,
          28425.100000000002
         ],
         "yaxis": "y"
        },
        {
         "alignmentgroup": "True",
         "hovertemplate": " =%{x}<br>Počet balení=%{y}<extra></extra>",
         "legendgroup": "Nemecko",
         "marker": {
          "color": "#73B5AB"
         },
         "name": "Nemecko",
         "offsetgroup": "Nemecko",
         "orientation": "v",
         "showlegend": true,
         "textposition": "auto",
         "type": "bar",
         "x": [
          "MIG-400",
          "IBUPROFEN 400",
          "MIG Junior"
         ],
         "xaxis": "x",
         "y": [
          234871.823,
          87787.14,
          12276.3
         ],
         "yaxis": "y"
        }
       ],
       "layout": {
        "barmode": "relative",
        "legend": {
         "title": {
          "text": " "
         },
         "tracegroupgap": 0
        },
        "template": {
         "data": {
          "bar": [
           {
            "error_x": {
             "color": "#2a3f5f"
            },
            "error_y": {
             "color": "#2a3f5f"
            },
            "marker": {
             "line": {
              "color": "#E5ECF6",
              "width": 0.5
             }
            },
            "type": "bar"
           }
          ],
          "barpolar": [
           {
            "marker": {
             "line": {
              "color": "#E5ECF6",
              "width": 0.5
             }
            },
            "type": "barpolar"
           }
          ],
          "carpet": [
           {
            "aaxis": {
             "endlinecolor": "#2a3f5f",
             "gridcolor": "white",
             "linecolor": "white",
             "minorgridcolor": "white",
             "startlinecolor": "#2a3f5f"
            },
            "baxis": {
             "endlinecolor": "#2a3f5f",
             "gridcolor": "white",
             "linecolor": "white",
             "minorgridcolor": "white",
             "startlinecolor": "#2a3f5f"
            },
            "type": "carpet"
           }
          ],
          "choropleth": [
           {
            "colorbar": {
             "outlinewidth": 0,
             "ticks": ""
            },
            "type": "choropleth"
           }
          ],
          "contour": [
           {
            "colorbar": {
             "outlinewidth": 0,
             "ticks": ""
            },
            "colorscale": [
             [
              0,
              "#0d0887"
             ],
             [
              0.1111111111111111,
              "#46039f"
             ],
             [
              0.2222222222222222,
              "#7201a8"
             ],
             [
              0.3333333333333333,
              "#9c179e"
             ],
             [
              0.4444444444444444,
              "#bd3786"
             ],
             [
              0.5555555555555556,
              "#d8576b"
             ],
             [
              0.6666666666666666,
              "#ed7953"
             ],
             [
              0.7777777777777778,
              "#fb9f3a"
             ],
             [
              0.8888888888888888,
              "#fdca26"
             ],
             [
              1,
              "#f0f921"
             ]
            ],
            "type": "contour"
           }
          ],
          "contourcarpet": [
           {
            "colorbar": {
             "outlinewidth": 0,
             "ticks": ""
            },
            "type": "contourcarpet"
           }
          ],
          "heatmap": [
           {
            "colorbar": {
             "outlinewidth": 0,
             "ticks": ""
            },
            "colorscale": [
             [
              0,
              "#0d0887"
             ],
             [
              0.1111111111111111,
              "#46039f"
             ],
             [
              0.2222222222222222,
              "#7201a8"
             ],
             [
              0.3333333333333333,
              "#9c179e"
             ],
             [
              0.4444444444444444,
              "#bd3786"
             ],
             [
              0.5555555555555556,
              "#d8576b"
             ],
             [
              0.6666666666666666,
              "#ed7953"
             ],
             [
              0.7777777777777778,
              "#fb9f3a"
             ],
             [
              0.8888888888888888,
              "#fdca26"
             ],
             [
              1,
              "#f0f921"
             ]
            ],
            "type": "heatmap"
           }
          ],
          "heatmapgl": [
           {
            "colorbar": {
             "outlinewidth": 0,
             "ticks": ""
            },
            "colorscale": [
             [
              0,
              "#0d0887"
             ],
             [
              0.1111111111111111,
              "#46039f"
             ],
             [
              0.2222222222222222,
              "#7201a8"
             ],
             [
              0.3333333333333333,
              "#9c179e"
             ],
             [
              0.4444444444444444,
              "#bd3786"
             ],
             [
              0.5555555555555556,
              "#d8576b"
             ],
             [
              0.6666666666666666,
              "#ed7953"
             ],
             [
              0.7777777777777778,
              "#fb9f3a"
             ],
             [
              0.8888888888888888,
              "#fdca26"
             ],
             [
              1,
              "#f0f921"
             ]
            ],
            "type": "heatmapgl"
           }
          ],
          "histogram": [
           {
            "marker": {
             "colorbar": {
              "outlinewidth": 0,
              "ticks": ""
             }
            },
            "type": "histogram"
           }
          ],
          "histogram2d": [
           {
            "colorbar": {
             "outlinewidth": 0,
             "ticks": ""
            },
            "colorscale": [
             [
              0,
              "#0d0887"
             ],
             [
              0.1111111111111111,
              "#46039f"
             ],
             [
              0.2222222222222222,
              "#7201a8"
             ],
             [
              0.3333333333333333,
              "#9c179e"
             ],
             [
              0.4444444444444444,
              "#bd3786"
             ],
             [
              0.5555555555555556,
              "#d8576b"
             ],
             [
              0.6666666666666666,
              "#ed7953"
             ],
             [
              0.7777777777777778,
              "#fb9f3a"
             ],
             [
              0.8888888888888888,
              "#fdca26"
             ],
             [
              1,
              "#f0f921"
             ]
            ],
            "type": "histogram2d"
           }
          ],
          "histogram2dcontour": [
           {
            "colorbar": {
             "outlinewidth": 0,
             "ticks": ""
            },
            "colorscale": [
             [
              0,
              "#0d0887"
             ],
             [
              0.1111111111111111,
              "#46039f"
             ],
             [
              0.2222222222222222,
              "#7201a8"
             ],
             [
              0.3333333333333333,
              "#9c179e"
             ],
             [
              0.4444444444444444,
              "#bd3786"
             ],
             [
              0.5555555555555556,
              "#d8576b"
             ],
             [
              0.6666666666666666,
              "#ed7953"
             ],
             [
              0.7777777777777778,
              "#fb9f3a"
             ],
             [
              0.8888888888888888,
              "#fdca26"
             ],
             [
              1,
              "#f0f921"
             ]
            ],
            "type": "histogram2dcontour"
           }
          ],
          "mesh3d": [
           {
            "colorbar": {
             "outlinewidth": 0,
             "ticks": ""
            },
            "type": "mesh3d"
           }
          ],
          "parcoords": [
           {
            "line": {
             "colorbar": {
              "outlinewidth": 0,
              "ticks": ""
             }
            },
            "type": "parcoords"
           }
          ],
          "pie": [
           {
            "automargin": true,
            "type": "pie"
           }
          ],
          "scatter": [
           {
            "marker": {
             "colorbar": {
              "outlinewidth": 0,
              "ticks": ""
             }
            },
            "type": "scatter"
           }
          ],
          "scatter3d": [
           {
            "line": {
             "colorbar": {
              "outlinewidth": 0,
              "ticks": ""
             }
            },
            "marker": {
             "colorbar": {
              "outlinewidth": 0,
              "ticks": ""
             }
            },
            "type": "scatter3d"
           }
          ],
          "scattercarpet": [
           {
            "marker": {
             "colorbar": {
              "outlinewidth": 0,
              "ticks": ""
             }
            },
            "type": "scattercarpet"
           }
          ],
          "scattergeo": [
           {
            "marker": {
             "colorbar": {
              "outlinewidth": 0,
              "ticks": ""
             }
            },
            "type": "scattergeo"
           }
          ],
          "scattergl": [
           {
            "marker": {
             "colorbar": {
              "outlinewidth": 0,
              "ticks": ""
             }
            },
            "type": "scattergl"
           }
          ],
          "scattermapbox": [
           {
            "marker": {
             "colorbar": {
              "outlinewidth": 0,
              "ticks": ""
             }
            },
            "type": "scattermapbox"
           }
          ],
          "scatterpolar": [
           {
            "marker": {
             "colorbar": {
              "outlinewidth": 0,
              "ticks": ""
             }
            },
            "type": "scatterpolar"
           }
          ],
          "scatterpolargl": [
           {
            "marker": {
             "colorbar": {
              "outlinewidth": 0,
              "ticks": ""
             }
            },
            "type": "scatterpolargl"
           }
          ],
          "scatterternary": [
           {
            "marker": {
             "colorbar": {
              "outlinewidth": 0,
              "ticks": ""
             }
            },
            "type": "scatterternary"
           }
          ],
          "surface": [
           {
            "colorbar": {
             "outlinewidth": 0,
             "ticks": ""
            },
            "colorscale": [
             [
              0,
              "#0d0887"
             ],
             [
              0.1111111111111111,
              "#46039f"
             ],
             [
              0.2222222222222222,
              "#7201a8"
             ],
             [
              0.3333333333333333,
              "#9c179e"
             ],
             [
              0.4444444444444444,
              "#bd3786"
             ],
             [
              0.5555555555555556,
              "#d8576b"
             ],
             [
              0.6666666666666666,
              "#ed7953"
             ],
             [
              0.7777777777777778,
              "#fb9f3a"
             ],
             [
              0.8888888888888888,
              "#fdca26"
             ],
             [
              1,
              "#f0f921"
             ]
            ],
            "type": "surface"
           }
          ],
          "table": [
           {
            "cells": {
             "fill": {
              "color": "#EBF0F8"
             },
             "line": {
              "color": "white"
             }
            },
            "header": {
             "fill": {
              "color": "#C8D4E3"
             },
             "line": {
              "color": "white"
             }
            },
            "type": "table"
           }
          ]
         },
         "layout": {
          "annotationdefaults": {
           "arrowcolor": "#2a3f5f",
           "arrowhead": 0,
           "arrowwidth": 1
          },
          "autotypenumbers": "strict",
          "coloraxis": {
           "colorbar": {
            "outlinewidth": 0,
            "ticks": ""
           }
          },
          "colorscale": {
           "diverging": [
            [
             0,
             "#8e0152"
            ],
            [
             0.1,
             "#c51b7d"
            ],
            [
             0.2,
             "#de77ae"
            ],
            [
             0.3,
             "#f1b6da"
            ],
            [
             0.4,
             "#fde0ef"
            ],
            [
             0.5,
             "#f7f7f7"
            ],
            [
             0.6,
             "#e6f5d0"
            ],
            [
             0.7,
             "#b8e186"
            ],
            [
             0.8,
             "#7fbc41"
            ],
            [
             0.9,
             "#4d9221"
            ],
            [
             1,
             "#276419"
            ]
           ],
           "sequential": [
            [
             0,
             "#0d0887"
            ],
            [
             0.1111111111111111,
             "#46039f"
            ],
            [
             0.2222222222222222,
             "#7201a8"
            ],
            [
             0.3333333333333333,
             "#9c179e"
            ],
            [
             0.4444444444444444,
             "#bd3786"
            ],
            [
             0.5555555555555556,
             "#d8576b"
            ],
            [
             0.6666666666666666,
             "#ed7953"
            ],
            [
             0.7777777777777778,
             "#fb9f3a"
            ],
            [
             0.8888888888888888,
             "#fdca26"
            ],
            [
             1,
             "#f0f921"
            ]
           ],
           "sequentialminus": [
            [
             0,
             "#0d0887"
            ],
            [
             0.1111111111111111,
             "#46039f"
            ],
            [
             0.2222222222222222,
             "#7201a8"
            ],
            [
             0.3333333333333333,
             "#9c179e"
            ],
            [
             0.4444444444444444,
             "#bd3786"
            ],
            [
             0.5555555555555556,
             "#d8576b"
            ],
            [
             0.6666666666666666,
             "#ed7953"
            ],
            [
             0.7777777777777778,
             "#fb9f3a"
            ],
            [
             0.8888888888888888,
             "#fdca26"
            ],
            [
             1,
             "#f0f921"
            ]
           ]
          },
          "colorway": [
           "#636efa",
           "#EF553B",
           "#00cc96",
           "#ab63fa",
           "#FFA15A",
           "#19d3f3",
           "#FF6692",
           "#B6E880",
           "#FF97FF",
           "#FECB52"
          ],
          "font": {
           "color": "#2a3f5f"
          },
          "geo": {
           "bgcolor": "white",
           "lakecolor": "white",
           "landcolor": "#E5ECF6",
           "showlakes": true,
           "showland": true,
           "subunitcolor": "white"
          },
          "hoverlabel": {
           "align": "left"
          },
          "hovermode": "closest",
          "mapbox": {
           "style": "light"
          },
          "paper_bgcolor": "white",
          "plot_bgcolor": "#E5ECF6",
          "polar": {
           "angularaxis": {
            "gridcolor": "white",
            "linecolor": "white",
            "ticks": ""
           },
           "bgcolor": "#E5ECF6",
           "radialaxis": {
            "gridcolor": "white",
            "linecolor": "white",
            "ticks": ""
           }
          },
          "scene": {
           "xaxis": {
            "backgroundcolor": "#E5ECF6",
            "gridcolor": "white",
            "gridwidth": 2,
            "linecolor": "white",
            "showbackground": true,
            "ticks": "",
            "zerolinecolor": "white"
           },
           "yaxis": {
            "backgroundcolor": "#E5ECF6",
            "gridcolor": "white",
            "gridwidth": 2,
            "linecolor": "white",
            "showbackground": true,
            "ticks": "",
            "zerolinecolor": "white"
           },
           "zaxis": {
            "backgroundcolor": "#E5ECF6",
            "gridcolor": "white",
            "gridwidth": 2,
            "linecolor": "white",
            "showbackground": true,
            "ticks": "",
            "zerolinecolor": "white"
           }
          },
          "shapedefaults": {
           "line": {
            "color": "#2a3f5f"
           }
          },
          "ternary": {
           "aaxis": {
            "gridcolor": "white",
            "linecolor": "white",
            "ticks": ""
           },
           "baxis": {
            "gridcolor": "white",
            "linecolor": "white",
            "ticks": ""
           },
           "bgcolor": "#E5ECF6",
           "caxis": {
            "gridcolor": "white",
            "linecolor": "white",
            "ticks": ""
           }
          },
          "title": {
           "x": 0.05
          },
          "xaxis": {
           "automargin": true,
           "gridcolor": "white",
           "linecolor": "white",
           "ticks": "",
           "title": {
            "standoff": 15
           },
           "zerolinecolor": "white",
           "zerolinewidth": 2
          },
          "yaxis": {
           "automargin": true,
           "gridcolor": "white",
           "linecolor": "white",
           "ticks": "",
           "title": {
            "standoff": 15
           },
           "zerolinecolor": "white",
           "zerolinewidth": 2
          }
         }
        },
        "title": {
         "text": "Ibuprofén (top 30)"
        },
        "xaxis": {
         "anchor": "y",
         "domain": [
          0,
          1
         ],
         "tickangle": 45,
         "title": {
          "text": " "
         }
        },
        "yaxis": {
         "anchor": "x",
         "domain": [
          0,
          1
         ],
         "title": {
          "text": "Počet balení"
         }
        }
       }
      }
     },
     "metadata": {}
    }
   ],
   "source": [
    "fig = px.bar(ibuprofen.sort_values(by='Počet_balení', ascending=False), x='LIEK_popis', y='Počet_balení', color='STAT_popis', title='Ibuprofén (top 30)',labels={'Počet_balení':'Počet balení', 'STAT_popis':' ', 'LIEK_popis':' '},color_discrete_sequence=[ruzova, mo, ruzova, zelena])\n",
    "fig.update_xaxes(tickangle=45)\n",
    "fig.show()"
   ]
  },
  {
   "cell_type": "code",
   "execution_count": 144,
   "metadata": {},
   "outputs": [],
   "source": [
    "ibuprofen_all = top15tab[\"M01AE01\"].sort_values(by='Počet_balení', ascending=False)\n",
    "\n",
    "for i,popis in enumerate(ibuprofen_all['LIEK_popis']):\n",
    "    if 'IBALGIN' in popis:\n",
    "        ibuprofen_all.iloc[i,4] = 'IBALGIN'\n",
    "    elif 'Ibalgin' in popis:\n",
    "        ibuprofen_all.iloc[i,4] = 'IBALGIN'\n",
    "    elif 'BRUFEN' in popis:\n",
    "        ibuprofen_all.iloc[i,4] = 'BRUFEN'\n",
    "    elif 'Brufen' in popis:\n",
    "        ibuprofen_all.iloc[i,4] = 'BRUFEN'\n",
    "    elif 'NUROFEN' in popis:\n",
    "        ibuprofen_all.iloc[i,4] = 'NUROFEN'\n",
    "    elif 'Nurofen' in popis:\n",
    "        ibuprofen_all.iloc[i,4] = 'NUROFEN'\n",
    "    elif 'MIG' in popis:\n",
    "        ibuprofen_all.iloc[i,4] = 'MIG'\n",
    "    else:\n",
    "        ibuprofen_all.iloc[i,4] = 'INÉ'\n",
    "ibuprofen_all = ibuprofen_all.groupby(['LIEK_popis','STAT_popis']).sum().reset_index()\n",
    "#display(ibuprofen_all)\n",
    "# Medzi ine su zaradene lieky s poctom baleni pod 100 000"
   ]
  },
  {
   "cell_type": "code",
   "execution_count": 145,
   "metadata": {},
   "outputs": [
    {
     "output_type": "display_data",
     "data": {
      "application/vnd.plotly.v1+json": {
       "config": {
        "plotlyServerURL": "https://plot.ly"
       },
       "data": [
        {
         "domain": {
          "x": [
           0,
           1
          ],
          "y": [
           0,
           1
          ]
         },
         "hovertemplate": "LIEK_popis=%{label}<br>Počet_balení=%{value}<extra></extra>",
         "labels": [
          "BRUFEN",
          "IBALGIN",
          "INÉ",
          "INÉ",
          "INÉ",
          "INÉ",
          "INÉ",
          "INÉ",
          "MIG",
          "NUROFEN",
          "NUROFEN",
          "NUROFEN"
         ],
         "legendgroup": "",
         "name": "",
         "showlegend": true,
         "type": "pie",
         "values": [
          312661.631,
          1324939.472,
          16234.534,
          5,
          100127.65999999997,
          288,
          35,
          896.9,
          247223.123,
          6,
          507,
          793022.3970000001
         ]
        }
       ],
       "layout": {
        "legend": {
         "tracegroupgap": 0
        },
        "piecolorway": [
         "#4B6AAB",
         "#D8764C",
         "#B75B9E",
         "#F1C75B",
         "#73B5AB"
        ],
        "template": {
         "data": {
          "bar": [
           {
            "error_x": {
             "color": "#2a3f5f"
            },
            "error_y": {
             "color": "#2a3f5f"
            },
            "marker": {
             "line": {
              "color": "#E5ECF6",
              "width": 0.5
             }
            },
            "type": "bar"
           }
          ],
          "barpolar": [
           {
            "marker": {
             "line": {
              "color": "#E5ECF6",
              "width": 0.5
             }
            },
            "type": "barpolar"
           }
          ],
          "carpet": [
           {
            "aaxis": {
             "endlinecolor": "#2a3f5f",
             "gridcolor": "white",
             "linecolor": "white",
             "minorgridcolor": "white",
             "startlinecolor": "#2a3f5f"
            },
            "baxis": {
             "endlinecolor": "#2a3f5f",
             "gridcolor": "white",
             "linecolor": "white",
             "minorgridcolor": "white",
             "startlinecolor": "#2a3f5f"
            },
            "type": "carpet"
           }
          ],
          "choropleth": [
           {
            "colorbar": {
             "outlinewidth": 0,
             "ticks": ""
            },
            "type": "choropleth"
           }
          ],
          "contour": [
           {
            "colorbar": {
             "outlinewidth": 0,
             "ticks": ""
            },
            "colorscale": [
             [
              0,
              "#0d0887"
             ],
             [
              0.1111111111111111,
              "#46039f"
             ],
             [
              0.2222222222222222,
              "#7201a8"
             ],
             [
              0.3333333333333333,
              "#9c179e"
             ],
             [
              0.4444444444444444,
              "#bd3786"
             ],
             [
              0.5555555555555556,
              "#d8576b"
             ],
             [
              0.6666666666666666,
              "#ed7953"
             ],
             [
              0.7777777777777778,
              "#fb9f3a"
             ],
             [
              0.8888888888888888,
              "#fdca26"
             ],
             [
              1,
              "#f0f921"
             ]
            ],
            "type": "contour"
           }
          ],
          "contourcarpet": [
           {
            "colorbar": {
             "outlinewidth": 0,
             "ticks": ""
            },
            "type": "contourcarpet"
           }
          ],
          "heatmap": [
           {
            "colorbar": {
             "outlinewidth": 0,
             "ticks": ""
            },
            "colorscale": [
             [
              0,
              "#0d0887"
             ],
             [
              0.1111111111111111,
              "#46039f"
             ],
             [
              0.2222222222222222,
              "#7201a8"
             ],
             [
              0.3333333333333333,
              "#9c179e"
             ],
             [
              0.4444444444444444,
              "#bd3786"
             ],
             [
              0.5555555555555556,
              "#d8576b"
             ],
             [
              0.6666666666666666,
              "#ed7953"
             ],
             [
              0.7777777777777778,
              "#fb9f3a"
             ],
             [
              0.8888888888888888,
              "#fdca26"
             ],
             [
              1,
              "#f0f921"
             ]
            ],
            "type": "heatmap"
           }
          ],
          "heatmapgl": [
           {
            "colorbar": {
             "outlinewidth": 0,
             "ticks": ""
            },
            "colorscale": [
             [
              0,
              "#0d0887"
             ],
             [
              0.1111111111111111,
              "#46039f"
             ],
             [
              0.2222222222222222,
              "#7201a8"
             ],
             [
              0.3333333333333333,
              "#9c179e"
             ],
             [
              0.4444444444444444,
              "#bd3786"
             ],
             [
              0.5555555555555556,
              "#d8576b"
             ],
             [
              0.6666666666666666,
              "#ed7953"
             ],
             [
              0.7777777777777778,
              "#fb9f3a"
             ],
             [
              0.8888888888888888,
              "#fdca26"
             ],
             [
              1,
              "#f0f921"
             ]
            ],
            "type": "heatmapgl"
           }
          ],
          "histogram": [
           {
            "marker": {
             "colorbar": {
              "outlinewidth": 0,
              "ticks": ""
             }
            },
            "type": "histogram"
           }
          ],
          "histogram2d": [
           {
            "colorbar": {
             "outlinewidth": 0,
             "ticks": ""
            },
            "colorscale": [
             [
              0,
              "#0d0887"
             ],
             [
              0.1111111111111111,
              "#46039f"
             ],
             [
              0.2222222222222222,
              "#7201a8"
             ],
             [
              0.3333333333333333,
              "#9c179e"
             ],
             [
              0.4444444444444444,
              "#bd3786"
             ],
             [
              0.5555555555555556,
              "#d8576b"
             ],
             [
              0.6666666666666666,
              "#ed7953"
             ],
             [
              0.7777777777777778,
              "#fb9f3a"
             ],
             [
              0.8888888888888888,
              "#fdca26"
             ],
             [
              1,
              "#f0f921"
             ]
            ],
            "type": "histogram2d"
           }
          ],
          "histogram2dcontour": [
           {
            "colorbar": {
             "outlinewidth": 0,
             "ticks": ""
            },
            "colorscale": [
             [
              0,
              "#0d0887"
             ],
             [
              0.1111111111111111,
              "#46039f"
             ],
             [
              0.2222222222222222,
              "#7201a8"
             ],
             [
              0.3333333333333333,
              "#9c179e"
             ],
             [
              0.4444444444444444,
              "#bd3786"
             ],
             [
              0.5555555555555556,
              "#d8576b"
             ],
             [
              0.6666666666666666,
              "#ed7953"
             ],
             [
              0.7777777777777778,
              "#fb9f3a"
             ],
             [
              0.8888888888888888,
              "#fdca26"
             ],
             [
              1,
              "#f0f921"
             ]
            ],
            "type": "histogram2dcontour"
           }
          ],
          "mesh3d": [
           {
            "colorbar": {
             "outlinewidth": 0,
             "ticks": ""
            },
            "type": "mesh3d"
           }
          ],
          "parcoords": [
           {
            "line": {
             "colorbar": {
              "outlinewidth": 0,
              "ticks": ""
             }
            },
            "type": "parcoords"
           }
          ],
          "pie": [
           {
            "automargin": true,
            "type": "pie"
           }
          ],
          "scatter": [
           {
            "marker": {
             "colorbar": {
              "outlinewidth": 0,
              "ticks": ""
             }
            },
            "type": "scatter"
           }
          ],
          "scatter3d": [
           {
            "line": {
             "colorbar": {
              "outlinewidth": 0,
              "ticks": ""
             }
            },
            "marker": {
             "colorbar": {
              "outlinewidth": 0,
              "ticks": ""
             }
            },
            "type": "scatter3d"
           }
          ],
          "scattercarpet": [
           {
            "marker": {
             "colorbar": {
              "outlinewidth": 0,
              "ticks": ""
             }
            },
            "type": "scattercarpet"
           }
          ],
          "scattergeo": [
           {
            "marker": {
             "colorbar": {
              "outlinewidth": 0,
              "ticks": ""
             }
            },
            "type": "scattergeo"
           }
          ],
          "scattergl": [
           {
            "marker": {
             "colorbar": {
              "outlinewidth": 0,
              "ticks": ""
             }
            },
            "type": "scattergl"
           }
          ],
          "scattermapbox": [
           {
            "marker": {
             "colorbar": {
              "outlinewidth": 0,
              "ticks": ""
             }
            },
            "type": "scattermapbox"
           }
          ],
          "scatterpolar": [
           {
            "marker": {
             "colorbar": {
              "outlinewidth": 0,
              "ticks": ""
             }
            },
            "type": "scatterpolar"
           }
          ],
          "scatterpolargl": [
           {
            "marker": {
             "colorbar": {
              "outlinewidth": 0,
              "ticks": ""
             }
            },
            "type": "scatterpolargl"
           }
          ],
          "scatterternary": [
           {
            "marker": {
             "colorbar": {
              "outlinewidth": 0,
              "ticks": ""
             }
            },
            "type": "scatterternary"
           }
          ],
          "surface": [
           {
            "colorbar": {
             "outlinewidth": 0,
             "ticks": ""
            },
            "colorscale": [
             [
              0,
              "#0d0887"
             ],
             [
              0.1111111111111111,
              "#46039f"
             ],
             [
              0.2222222222222222,
              "#7201a8"
             ],
             [
              0.3333333333333333,
              "#9c179e"
             ],
             [
              0.4444444444444444,
              "#bd3786"
             ],
             [
              0.5555555555555556,
              "#d8576b"
             ],
             [
              0.6666666666666666,
              "#ed7953"
             ],
             [
              0.7777777777777778,
              "#fb9f3a"
             ],
             [
              0.8888888888888888,
              "#fdca26"
             ],
             [
              1,
              "#f0f921"
             ]
            ],
            "type": "surface"
           }
          ],
          "table": [
           {
            "cells": {
             "fill": {
              "color": "#EBF0F8"
             },
             "line": {
              "color": "white"
             }
            },
            "header": {
             "fill": {
              "color": "#C8D4E3"
             },
             "line": {
              "color": "white"
             }
            },
            "type": "table"
           }
          ]
         },
         "layout": {
          "annotationdefaults": {
           "arrowcolor": "#2a3f5f",
           "arrowhead": 0,
           "arrowwidth": 1
          },
          "autotypenumbers": "strict",
          "coloraxis": {
           "colorbar": {
            "outlinewidth": 0,
            "ticks": ""
           }
          },
          "colorscale": {
           "diverging": [
            [
             0,
             "#8e0152"
            ],
            [
             0.1,
             "#c51b7d"
            ],
            [
             0.2,
             "#de77ae"
            ],
            [
             0.3,
             "#f1b6da"
            ],
            [
             0.4,
             "#fde0ef"
            ],
            [
             0.5,
             "#f7f7f7"
            ],
            [
             0.6,
             "#e6f5d0"
            ],
            [
             0.7,
             "#b8e186"
            ],
            [
             0.8,
             "#7fbc41"
            ],
            [
             0.9,
             "#4d9221"
            ],
            [
             1,
             "#276419"
            ]
           ],
           "sequential": [
            [
             0,
             "#0d0887"
            ],
            [
             0.1111111111111111,
             "#46039f"
            ],
            [
             0.2222222222222222,
             "#7201a8"
            ],
            [
             0.3333333333333333,
             "#9c179e"
            ],
            [
             0.4444444444444444,
             "#bd3786"
            ],
            [
             0.5555555555555556,
             "#d8576b"
            ],
            [
             0.6666666666666666,
             "#ed7953"
            ],
            [
             0.7777777777777778,
             "#fb9f3a"
            ],
            [
             0.8888888888888888,
             "#fdca26"
            ],
            [
             1,
             "#f0f921"
            ]
           ],
           "sequentialminus": [
            [
             0,
             "#0d0887"
            ],
            [
             0.1111111111111111,
             "#46039f"
            ],
            [
             0.2222222222222222,
             "#7201a8"
            ],
            [
             0.3333333333333333,
             "#9c179e"
            ],
            [
             0.4444444444444444,
             "#bd3786"
            ],
            [
             0.5555555555555556,
             "#d8576b"
            ],
            [
             0.6666666666666666,
             "#ed7953"
            ],
            [
             0.7777777777777778,
             "#fb9f3a"
            ],
            [
             0.8888888888888888,
             "#fdca26"
            ],
            [
             1,
             "#f0f921"
            ]
           ]
          },
          "colorway": [
           "#636efa",
           "#EF553B",
           "#00cc96",
           "#ab63fa",
           "#FFA15A",
           "#19d3f3",
           "#FF6692",
           "#B6E880",
           "#FF97FF",
           "#FECB52"
          ],
          "font": {
           "color": "#2a3f5f"
          },
          "geo": {
           "bgcolor": "white",
           "lakecolor": "white",
           "landcolor": "#E5ECF6",
           "showlakes": true,
           "showland": true,
           "subunitcolor": "white"
          },
          "hoverlabel": {
           "align": "left"
          },
          "hovermode": "closest",
          "mapbox": {
           "style": "light"
          },
          "paper_bgcolor": "white",
          "plot_bgcolor": "#E5ECF6",
          "polar": {
           "angularaxis": {
            "gridcolor": "white",
            "linecolor": "white",
            "ticks": ""
           },
           "bgcolor": "#E5ECF6",
           "radialaxis": {
            "gridcolor": "white",
            "linecolor": "white",
            "ticks": ""
           }
          },
          "scene": {
           "xaxis": {
            "backgroundcolor": "#E5ECF6",
            "gridcolor": "white",
            "gridwidth": 2,
            "linecolor": "white",
            "showbackground": true,
            "ticks": "",
            "zerolinecolor": "white"
           },
           "yaxis": {
            "backgroundcolor": "#E5ECF6",
            "gridcolor": "white",
            "gridwidth": 2,
            "linecolor": "white",
            "showbackground": true,
            "ticks": "",
            "zerolinecolor": "white"
           },
           "zaxis": {
            "backgroundcolor": "#E5ECF6",
            "gridcolor": "white",
            "gridwidth": 2,
            "linecolor": "white",
            "showbackground": true,
            "ticks": "",
            "zerolinecolor": "white"
           }
          },
          "shapedefaults": {
           "line": {
            "color": "#2a3f5f"
           }
          },
          "ternary": {
           "aaxis": {
            "gridcolor": "white",
            "linecolor": "white",
            "ticks": ""
           },
           "baxis": {
            "gridcolor": "white",
            "linecolor": "white",
            "ticks": ""
           },
           "bgcolor": "#E5ECF6",
           "caxis": {
            "gridcolor": "white",
            "linecolor": "white",
            "ticks": ""
           }
          },
          "title": {
           "x": 0.05
          },
          "xaxis": {
           "automargin": true,
           "gridcolor": "white",
           "linecolor": "white",
           "ticks": "",
           "title": {
            "standoff": 15
           },
           "zerolinecolor": "white",
           "zerolinewidth": 2
          },
          "yaxis": {
           "automargin": true,
           "gridcolor": "white",
           "linecolor": "white",
           "ticks": "",
           "title": {
            "standoff": 15
           },
           "zerolinecolor": "white",
           "zerolinewidth": 2
          }
         }
        },
        "title": {
         "text": "Ibuprofén - porovnanie značiek"
        }
       }
      }
     },
     "metadata": {}
    }
   ],
   "source": [
    "fig = px.pie(ibuprofen_all, values='Počet_balení', names='LIEK_popis', title='Ibuprofén - porovnanie značiek', color_discrete_sequence=[modra, oranzova,ruzova, zlta, zelena])\n",
    "fig.show()"
   ]
  },
  {
   "cell_type": "code",
   "execution_count": 143,
   "metadata": {},
   "outputs": [
    {
     "output_type": "display_data",
     "data": {
      "application/vnd.plotly.v1+json": {
       "config": {
        "plotlyServerURL": "https://plot.ly"
       },
       "data": [
        {
         "alignmentgroup": "True",
         "hovertemplate": " =%{x}<br>Počet balení=%{y}<extra></extra>",
         "legendgroup": "Slovensko",
         "marker": {
          "color": "#4B6AAB"
         },
         "name": "Slovensko",
         "offsetgroup": "Slovensko",
         "orientation": "v",
         "showlegend": true,
         "textposition": "auto",
         "type": "bar",
         "x": [
          "IBALGIN"
         ],
         "xaxis": "x",
         "y": [
          1324939.472
         ],
         "yaxis": "y"
        },
        {
         "alignmentgroup": "True",
         "hovertemplate": " =%{x}<br>Počet balení=%{y}<extra></extra>",
         "legendgroup": "Česko",
         "marker": {
          "color": "#D8764C"
         },
         "name": "Česko",
         "offsetgroup": "Česko",
         "orientation": "v",
         "showlegend": true,
         "textposition": "auto",
         "type": "bar",
         "x": [
          "NUROFEN"
         ],
         "xaxis": "x",
         "y": [
          793022.3970000001
         ],
         "yaxis": "y"
        },
        {
         "alignmentgroup": "True",
         "hovertemplate": " =%{x}<br>Počet balení=%{y}<extra></extra>",
         "legendgroup": "Francúzsko",
         "marker": {
          "color": "#B75B9E"
         },
         "name": "Francúzsko",
         "offsetgroup": "Francúzsko",
         "orientation": "v",
         "showlegend": true,
         "textposition": "auto",
         "type": "bar",
         "x": [
          "BRUFEN"
         ],
         "xaxis": "x",
         "y": [
          312661.631
         ],
         "yaxis": "y"
        },
        {
         "alignmentgroup": "True",
         "hovertemplate": " =%{x}<br>Počet balení=%{y}<extra></extra>",
         "legendgroup": "Nemecko",
         "marker": {
          "color": "#73B5AB"
         },
         "name": "Nemecko",
         "offsetgroup": "Nemecko",
         "orientation": "v",
         "showlegend": true,
         "textposition": "auto",
         "type": "bar",
         "x": [
          "MIG"
         ],
         "xaxis": "x",
         "y": [
          247223.123
         ],
         "yaxis": "y"
        }
       ],
       "layout": {
        "barmode": "relative",
        "legend": {
         "title": {
          "text": " "
         },
         "tracegroupgap": 0
        },
        "template": {
         "data": {
          "bar": [
           {
            "error_x": {
             "color": "#2a3f5f"
            },
            "error_y": {
             "color": "#2a3f5f"
            },
            "marker": {
             "line": {
              "color": "#E5ECF6",
              "width": 0.5
             }
            },
            "type": "bar"
           }
          ],
          "barpolar": [
           {
            "marker": {
             "line": {
              "color": "#E5ECF6",
              "width": 0.5
             }
            },
            "type": "barpolar"
           }
          ],
          "carpet": [
           {
            "aaxis": {
             "endlinecolor": "#2a3f5f",
             "gridcolor": "white",
             "linecolor": "white",
             "minorgridcolor": "white",
             "startlinecolor": "#2a3f5f"
            },
            "baxis": {
             "endlinecolor": "#2a3f5f",
             "gridcolor": "white",
             "linecolor": "white",
             "minorgridcolor": "white",
             "startlinecolor": "#2a3f5f"
            },
            "type": "carpet"
           }
          ],
          "choropleth": [
           {
            "colorbar": {
             "outlinewidth": 0,
             "ticks": ""
            },
            "type": "choropleth"
           }
          ],
          "contour": [
           {
            "colorbar": {
             "outlinewidth": 0,
             "ticks": ""
            },
            "colorscale": [
             [
              0,
              "#0d0887"
             ],
             [
              0.1111111111111111,
              "#46039f"
             ],
             [
              0.2222222222222222,
              "#7201a8"
             ],
             [
              0.3333333333333333,
              "#9c179e"
             ],
             [
              0.4444444444444444,
              "#bd3786"
             ],
             [
              0.5555555555555556,
              "#d8576b"
             ],
             [
              0.6666666666666666,
              "#ed7953"
             ],
             [
              0.7777777777777778,
              "#fb9f3a"
             ],
             [
              0.8888888888888888,
              "#fdca26"
             ],
             [
              1,
              "#f0f921"
             ]
            ],
            "type": "contour"
           }
          ],
          "contourcarpet": [
           {
            "colorbar": {
             "outlinewidth": 0,
             "ticks": ""
            },
            "type": "contourcarpet"
           }
          ],
          "heatmap": [
           {
            "colorbar": {
             "outlinewidth": 0,
             "ticks": ""
            },
            "colorscale": [
             [
              0,
              "#0d0887"
             ],
             [
              0.1111111111111111,
              "#46039f"
             ],
             [
              0.2222222222222222,
              "#7201a8"
             ],
             [
              0.3333333333333333,
              "#9c179e"
             ],
             [
              0.4444444444444444,
              "#bd3786"
             ],
             [
              0.5555555555555556,
              "#d8576b"
             ],
             [
              0.6666666666666666,
              "#ed7953"
             ],
             [
              0.7777777777777778,
              "#fb9f3a"
             ],
             [
              0.8888888888888888,
              "#fdca26"
             ],
             [
              1,
              "#f0f921"
             ]
            ],
            "type": "heatmap"
           }
          ],
          "heatmapgl": [
           {
            "colorbar": {
             "outlinewidth": 0,
             "ticks": ""
            },
            "colorscale": [
             [
              0,
              "#0d0887"
             ],
             [
              0.1111111111111111,
              "#46039f"
             ],
             [
              0.2222222222222222,
              "#7201a8"
             ],
             [
              0.3333333333333333,
              "#9c179e"
             ],
             [
              0.4444444444444444,
              "#bd3786"
             ],
             [
              0.5555555555555556,
              "#d8576b"
             ],
             [
              0.6666666666666666,
              "#ed7953"
             ],
             [
              0.7777777777777778,
              "#fb9f3a"
             ],
             [
              0.8888888888888888,
              "#fdca26"
             ],
             [
              1,
              "#f0f921"
             ]
            ],
            "type": "heatmapgl"
           }
          ],
          "histogram": [
           {
            "marker": {
             "colorbar": {
              "outlinewidth": 0,
              "ticks": ""
             }
            },
            "type": "histogram"
           }
          ],
          "histogram2d": [
           {
            "colorbar": {
             "outlinewidth": 0,
             "ticks": ""
            },
            "colorscale": [
             [
              0,
              "#0d0887"
             ],
             [
              0.1111111111111111,
              "#46039f"
             ],
             [
              0.2222222222222222,
              "#7201a8"
             ],
             [
              0.3333333333333333,
              "#9c179e"
             ],
             [
              0.4444444444444444,
              "#bd3786"
             ],
             [
              0.5555555555555556,
              "#d8576b"
             ],
             [
              0.6666666666666666,
              "#ed7953"
             ],
             [
              0.7777777777777778,
              "#fb9f3a"
             ],
             [
              0.8888888888888888,
              "#fdca26"
             ],
             [
              1,
              "#f0f921"
             ]
            ],
            "type": "histogram2d"
           }
          ],
          "histogram2dcontour": [
           {
            "colorbar": {
             "outlinewidth": 0,
             "ticks": ""
            },
            "colorscale": [
             [
              0,
              "#0d0887"
             ],
             [
              0.1111111111111111,
              "#46039f"
             ],
             [
              0.2222222222222222,
              "#7201a8"
             ],
             [
              0.3333333333333333,
              "#9c179e"
             ],
             [
              0.4444444444444444,
              "#bd3786"
             ],
             [
              0.5555555555555556,
              "#d8576b"
             ],
             [
              0.6666666666666666,
              "#ed7953"
             ],
             [
              0.7777777777777778,
              "#fb9f3a"
             ],
             [
              0.8888888888888888,
              "#fdca26"
             ],
             [
              1,
              "#f0f921"
             ]
            ],
            "type": "histogram2dcontour"
           }
          ],
          "mesh3d": [
           {
            "colorbar": {
             "outlinewidth": 0,
             "ticks": ""
            },
            "type": "mesh3d"
           }
          ],
          "parcoords": [
           {
            "line": {
             "colorbar": {
              "outlinewidth": 0,
              "ticks": ""
             }
            },
            "type": "parcoords"
           }
          ],
          "pie": [
           {
            "automargin": true,
            "type": "pie"
           }
          ],
          "scatter": [
           {
            "marker": {
             "colorbar": {
              "outlinewidth": 0,
              "ticks": ""
             }
            },
            "type": "scatter"
           }
          ],
          "scatter3d": [
           {
            "line": {
             "colorbar": {
              "outlinewidth": 0,
              "ticks": ""
             }
            },
            "marker": {
             "colorbar": {
              "outlinewidth": 0,
              "ticks": ""
             }
            },
            "type": "scatter3d"
           }
          ],
          "scattercarpet": [
           {
            "marker": {
             "colorbar": {
              "outlinewidth": 0,
              "ticks": ""
             }
            },
            "type": "scattercarpet"
           }
          ],
          "scattergeo": [
           {
            "marker": {
             "colorbar": {
              "outlinewidth": 0,
              "ticks": ""
             }
            },
            "type": "scattergeo"
           }
          ],
          "scattergl": [
           {
            "marker": {
             "colorbar": {
              "outlinewidth": 0,
              "ticks": ""
             }
            },
            "type": "scattergl"
           }
          ],
          "scattermapbox": [
           {
            "marker": {
             "colorbar": {
              "outlinewidth": 0,
              "ticks": ""
             }
            },
            "type": "scattermapbox"
           }
          ],
          "scatterpolar": [
           {
            "marker": {
             "colorbar": {
              "outlinewidth": 0,
              "ticks": ""
             }
            },
            "type": "scatterpolar"
           }
          ],
          "scatterpolargl": [
           {
            "marker": {
             "colorbar": {
              "outlinewidth": 0,
              "ticks": ""
             }
            },
            "type": "scatterpolargl"
           }
          ],
          "scatterternary": [
           {
            "marker": {
             "colorbar": {
              "outlinewidth": 0,
              "ticks": ""
             }
            },
            "type": "scatterternary"
           }
          ],
          "surface": [
           {
            "colorbar": {
             "outlinewidth": 0,
             "ticks": ""
            },
            "colorscale": [
             [
              0,
              "#0d0887"
             ],
             [
              0.1111111111111111,
              "#46039f"
             ],
             [
              0.2222222222222222,
              "#7201a8"
             ],
             [
              0.3333333333333333,
              "#9c179e"
             ],
             [
              0.4444444444444444,
              "#bd3786"
             ],
             [
              0.5555555555555556,
              "#d8576b"
             ],
             [
              0.6666666666666666,
              "#ed7953"
             ],
             [
              0.7777777777777778,
              "#fb9f3a"
             ],
             [
              0.8888888888888888,
              "#fdca26"
             ],
             [
              1,
              "#f0f921"
             ]
            ],
            "type": "surface"
           }
          ],
          "table": [
           {
            "cells": {
             "fill": {
              "color": "#EBF0F8"
             },
             "line": {
              "color": "white"
             }
            },
            "header": {
             "fill": {
              "color": "#C8D4E3"
             },
             "line": {
              "color": "white"
             }
            },
            "type": "table"
           }
          ]
         },
         "layout": {
          "annotationdefaults": {
           "arrowcolor": "#2a3f5f",
           "arrowhead": 0,
           "arrowwidth": 1
          },
          "autotypenumbers": "strict",
          "coloraxis": {
           "colorbar": {
            "outlinewidth": 0,
            "ticks": ""
           }
          },
          "colorscale": {
           "diverging": [
            [
             0,
             "#8e0152"
            ],
            [
             0.1,
             "#c51b7d"
            ],
            [
             0.2,
             "#de77ae"
            ],
            [
             0.3,
             "#f1b6da"
            ],
            [
             0.4,
             "#fde0ef"
            ],
            [
             0.5,
             "#f7f7f7"
            ],
            [
             0.6,
             "#e6f5d0"
            ],
            [
             0.7,
             "#b8e186"
            ],
            [
             0.8,
             "#7fbc41"
            ],
            [
             0.9,
             "#4d9221"
            ],
            [
             1,
             "#276419"
            ]
           ],
           "sequential": [
            [
             0,
             "#0d0887"
            ],
            [
             0.1111111111111111,
             "#46039f"
            ],
            [
             0.2222222222222222,
             "#7201a8"
            ],
            [
             0.3333333333333333,
             "#9c179e"
            ],
            [
             0.4444444444444444,
             "#bd3786"
            ],
            [
             0.5555555555555556,
             "#d8576b"
            ],
            [
             0.6666666666666666,
             "#ed7953"
            ],
            [
             0.7777777777777778,
             "#fb9f3a"
            ],
            [
             0.8888888888888888,
             "#fdca26"
            ],
            [
             1,
             "#f0f921"
            ]
           ],
           "sequentialminus": [
            [
             0,
             "#0d0887"
            ],
            [
             0.1111111111111111,
             "#46039f"
            ],
            [
             0.2222222222222222,
             "#7201a8"
            ],
            [
             0.3333333333333333,
             "#9c179e"
            ],
            [
             0.4444444444444444,
             "#bd3786"
            ],
            [
             0.5555555555555556,
             "#d8576b"
            ],
            [
             0.6666666666666666,
             "#ed7953"
            ],
            [
             0.7777777777777778,
             "#fb9f3a"
            ],
            [
             0.8888888888888888,
             "#fdca26"
            ],
            [
             1,
             "#f0f921"
            ]
           ]
          },
          "colorway": [
           "#636efa",
           "#EF553B",
           "#00cc96",
           "#ab63fa",
           "#FFA15A",
           "#19d3f3",
           "#FF6692",
           "#B6E880",
           "#FF97FF",
           "#FECB52"
          ],
          "font": {
           "color": "#2a3f5f"
          },
          "geo": {
           "bgcolor": "white",
           "lakecolor": "white",
           "landcolor": "#E5ECF6",
           "showlakes": true,
           "showland": true,
           "subunitcolor": "white"
          },
          "hoverlabel": {
           "align": "left"
          },
          "hovermode": "closest",
          "mapbox": {
           "style": "light"
          },
          "paper_bgcolor": "white",
          "plot_bgcolor": "#E5ECF6",
          "polar": {
           "angularaxis": {
            "gridcolor": "white",
            "linecolor": "white",
            "ticks": ""
           },
           "bgcolor": "#E5ECF6",
           "radialaxis": {
            "gridcolor": "white",
            "linecolor": "white",
            "ticks": ""
           }
          },
          "scene": {
           "xaxis": {
            "backgroundcolor": "#E5ECF6",
            "gridcolor": "white",
            "gridwidth": 2,
            "linecolor": "white",
            "showbackground": true,
            "ticks": "",
            "zerolinecolor": "white"
           },
           "yaxis": {
            "backgroundcolor": "#E5ECF6",
            "gridcolor": "white",
            "gridwidth": 2,
            "linecolor": "white",
            "showbackground": true,
            "ticks": "",
            "zerolinecolor": "white"
           },
           "zaxis": {
            "backgroundcolor": "#E5ECF6",
            "gridcolor": "white",
            "gridwidth": 2,
            "linecolor": "white",
            "showbackground": true,
            "ticks": "",
            "zerolinecolor": "white"
           }
          },
          "shapedefaults": {
           "line": {
            "color": "#2a3f5f"
           }
          },
          "ternary": {
           "aaxis": {
            "gridcolor": "white",
            "linecolor": "white",
            "ticks": ""
           },
           "baxis": {
            "gridcolor": "white",
            "linecolor": "white",
            "ticks": ""
           },
           "bgcolor": "#E5ECF6",
           "caxis": {
            "gridcolor": "white",
            "linecolor": "white",
            "ticks": ""
           }
          },
          "title": {
           "x": 0.05
          },
          "xaxis": {
           "automargin": true,
           "gridcolor": "white",
           "linecolor": "white",
           "ticks": "",
           "title": {
            "standoff": 15
           },
           "zerolinecolor": "white",
           "zerolinewidth": 2
          },
          "yaxis": {
           "automargin": true,
           "gridcolor": "white",
           "linecolor": "white",
           "ticks": "",
           "title": {
            "standoff": 15
           },
           "zerolinecolor": "white",
           "zerolinewidth": 2
          }
         }
        },
        "title": {
         "text": "Ibuprofén - počet balení nad 200 000"
        },
        "xaxis": {
         "anchor": "y",
         "domain": [
          0,
          1
         ],
         "title": {
          "text": " "
         }
        },
        "yaxis": {
         "anchor": "x",
         "domain": [
          0,
          1
         ],
         "title": {
          "text": "Počet balení"
         }
        }
       }
      }
     },
     "metadata": {}
    }
   ],
   "source": [
    "fig = px.bar(ibuprofen_all.query('Počet_balení > 200000').sort_values(by='Počet_balení',ascending=False), y='Počet_balení', x='LIEK_popis', title='Ibuprofén - počet balení nad 200 000', color='STAT_popis',labels={'Počet_balení':'Počet balení', 'STAT_popis':' ', 'LIEK_popis':' '},color_discrete_sequence=[modra, oranzova, ruzova, zelena])\n",
    "fig.show()"
   ]
  },
  {
   "source": [
    "Z grafov vidime, ze najpredavanejsi liek s ibuprofenom je slovensky Ibalgin 400. Z ceskych liekov bol najpredavanejsi Nurofen pre deti. Vysoky pocet baleni Nurofenu je sposobeny jeho specializaciou pre deti. Vidime, ze z ostatnych liekov (okrem Nurofenu) su najpredavanejsie 400.\n",
    "## ZAVER:\n",
    "* Neviem, ktory graf z nich je najlepsi, mozno prve dva. Z piechartu vidime ze cesko-slovenske lieky tvoria viac ako 3/4."
   ],
   "cell_type": "markdown",
   "metadata": {}
  },
  {
   "source": [
    "# 5. Bisoprolol"
   ],
   "cell_type": "markdown",
   "metadata": {}
  },
  {
   "cell_type": "code",
   "execution_count": 146,
   "metadata": {},
   "outputs": [
    {
     "output_type": "display_data",
     "data": {
      "text/plain": "               LIEK_popis          STAT_popis  \\\n0                BISOBELA           Slovensko   \n1                BISOCARD               Česko   \n2               BISOGAMMA             Nemecko   \n3               BISOMERCK           Slovensko   \n4   BISOPROLOL-ratiopharm             Nemecko   \n5                 BIVAXOL               Česko   \n6       Bisoprolol Pfizer  Spojené kráľovstvo   \n7       Bisoprolol Sandoz           Slovinsko   \n8              Bisprotin               Fínsko   \n9                  CONCOR           Slovensko   \n10             CONCOR COR           Slovensko   \n11                CORONAL           Slovensko   \n12                RIVOCOR               Česko   \n13                Sobycor           Slovinsko   \n\n                         VYROBCA_popis  index  Počet_balení  \n0                       BELUPO, s.r.o.   5957      7197.330  \n1   PharmaSwiss Česká republika s.r.o.   7954    192394.600  \n2          Wörwag Pharma GmbH & Co.KG    1979         2.000  \n3                   Merck spol. s.r.o.   4009    122739.500  \n4                      ratiopharm GmbH   3949    390962.830  \n5          IVAX Pharmaceuticals s.r.o.   1999         2.000  \n6                Pfizer Europe MA EEIG   3933       119.000  \n7          Sandoz Pharmaceuticals d.d.   3939     10493.660  \n8                        Vitabalans Oy   9920      1965.900  \n9                   Merck spol. s.r.o.   8006    920947.070  \n10                  Merck spol. s.r.o.   7884    284506.250  \n11                           ZNT-SK-2?   5971    472688.870  \n12               PRO.MED.CS Praha a.s.   3955     98766.500  \n13               KRKA d.d., Novo mesto   9965    104587.032  ",
      "text/html": "<div>\n<style scoped>\n    .dataframe tbody tr th:only-of-type {\n        vertical-align: middle;\n    }\n\n    .dataframe tbody tr th {\n        vertical-align: top;\n    }\n\n    .dataframe thead th {\n        text-align: right;\n    }\n</style>\n<table border=\"1\" class=\"dataframe\">\n  <thead>\n    <tr style=\"text-align: right;\">\n      <th></th>\n      <th>LIEK_popis</th>\n      <th>STAT_popis</th>\n      <th>VYROBCA_popis</th>\n      <th>index</th>\n      <th>Počet_balení</th>\n    </tr>\n  </thead>\n  <tbody>\n    <tr>\n      <th>0</th>\n      <td>BISOBELA</td>\n      <td>Slovensko</td>\n      <td>BELUPO, s.r.o.</td>\n      <td>5957</td>\n      <td>7197.330</td>\n    </tr>\n    <tr>\n      <th>1</th>\n      <td>BISOCARD</td>\n      <td>Česko</td>\n      <td>PharmaSwiss Česká republika s.r.o.</td>\n      <td>7954</td>\n      <td>192394.600</td>\n    </tr>\n    <tr>\n      <th>2</th>\n      <td>BISOGAMMA</td>\n      <td>Nemecko</td>\n      <td>Wörwag Pharma GmbH &amp; Co.KG</td>\n      <td>1979</td>\n      <td>2.000</td>\n    </tr>\n    <tr>\n      <th>3</th>\n      <td>BISOMERCK</td>\n      <td>Slovensko</td>\n      <td>Merck spol. s.r.o.</td>\n      <td>4009</td>\n      <td>122739.500</td>\n    </tr>\n    <tr>\n      <th>4</th>\n      <td>BISOPROLOL-ratiopharm</td>\n      <td>Nemecko</td>\n      <td>ratiopharm GmbH</td>\n      <td>3949</td>\n      <td>390962.830</td>\n    </tr>\n    <tr>\n      <th>5</th>\n      <td>BIVAXOL</td>\n      <td>Česko</td>\n      <td>IVAX Pharmaceuticals s.r.o.</td>\n      <td>1999</td>\n      <td>2.000</td>\n    </tr>\n    <tr>\n      <th>6</th>\n      <td>Bisoprolol Pfizer</td>\n      <td>Spojené kráľovstvo</td>\n      <td>Pfizer Europe MA EEIG</td>\n      <td>3933</td>\n      <td>119.000</td>\n    </tr>\n    <tr>\n      <th>7</th>\n      <td>Bisoprolol Sandoz</td>\n      <td>Slovinsko</td>\n      <td>Sandoz Pharmaceuticals d.d.</td>\n      <td>3939</td>\n      <td>10493.660</td>\n    </tr>\n    <tr>\n      <th>8</th>\n      <td>Bisprotin</td>\n      <td>Fínsko</td>\n      <td>Vitabalans Oy</td>\n      <td>9920</td>\n      <td>1965.900</td>\n    </tr>\n    <tr>\n      <th>9</th>\n      <td>CONCOR</td>\n      <td>Slovensko</td>\n      <td>Merck spol. s.r.o.</td>\n      <td>8006</td>\n      <td>920947.070</td>\n    </tr>\n    <tr>\n      <th>10</th>\n      <td>CONCOR COR</td>\n      <td>Slovensko</td>\n      <td>Merck spol. s.r.o.</td>\n      <td>7884</td>\n      <td>284506.250</td>\n    </tr>\n    <tr>\n      <th>11</th>\n      <td>CORONAL</td>\n      <td>Slovensko</td>\n      <td>ZNT-SK-2?</td>\n      <td>5971</td>\n      <td>472688.870</td>\n    </tr>\n    <tr>\n      <th>12</th>\n      <td>RIVOCOR</td>\n      <td>Česko</td>\n      <td>PRO.MED.CS Praha a.s.</td>\n      <td>3955</td>\n      <td>98766.500</td>\n    </tr>\n    <tr>\n      <th>13</th>\n      <td>Sobycor</td>\n      <td>Slovinsko</td>\n      <td>KRKA d.d., Novo mesto</td>\n      <td>9965</td>\n      <td>104587.032</td>\n    </tr>\n  </tbody>\n</table>\n</div>"
     },
     "metadata": {}
    }
   ],
   "source": [
    "bisoprolol = top15tab[\"C07AB07\"].sort_values(by='Počet_balení', ascending=False)\n",
    "\n",
    "for i,popis in enumerate(bisoprolol['LIEK_popis']):\n",
    "    if 'BISOBELA' in popis:\n",
    "        bisoprolol.iloc[i,4] = 'BISOBELA'\n",
    "    elif 'BISOCARD' in popis:\n",
    "        bisoprolol.iloc[i,4] = 'BISOCARD'\n",
    "    elif 'BISOGAMMA' in popis:\n",
    "        bisoprolol.iloc[i,4] = 'BISOGAMMA'\n",
    "    elif 'BISOMERCK' in popis:\n",
    "        bisoprolol.iloc[i,4] = 'BISOMERCK'\n",
    "    elif 'BISOPROLOL-ratiopharm' in popis:\n",
    "        bisoprolol.iloc[i,4] = 'BISOPROLOL-ratiopharm'\n",
    "    elif 'BIVAXOL' in popis:\n",
    "        bisoprolol.iloc[i,4] = 'BIVAXOL'\n",
    "    elif 'Bisoprolol Pfizer' in popis:\n",
    "        bisoprolol.iloc[i,4] = 'Bisoprolol Pfizer'\n",
    "    elif 'Bisoprolol Sandoz' in popis:\n",
    "        bisoprolol.iloc[i,4] = 'Bisoprolol Sandoz'\n",
    "    elif 'Bisprotin ' in popis:\n",
    "        bisoprolol.iloc[i,4] = 'Bisprotin '\n",
    "    elif 'CONCOR COR' in popis or 'Concor COR' in popis:\n",
    "        bisoprolol.iloc[i,4] = 'CONCOR COR'\n",
    "    elif 'CONCOR' in popis:\n",
    "        bisoprolol.iloc[i,4] = 'CONCOR'\n",
    "    elif 'CORONAL' in popis:\n",
    "        bisoprolol.iloc[i,4] = 'CORONAL'\n",
    "    elif 'RIVOCOR' in popis:\n",
    "        bisoprolol.iloc[i,4] = 'RIVOCOR'\n",
    "    elif 'Sobycor' in popis:\n",
    "        bisoprolol.iloc[i,4] = 'Sobycor'\n",
    "\n",
    "bisoprolol = bisoprolol.groupby(['LIEK_popis', 'STAT_popis', 'VYROBCA_popis']).sum().reset_index()\n",
    "display(bisoprolol)"
   ]
  },
  {
   "cell_type": "code",
   "execution_count": 165,
   "metadata": {},
   "outputs": [
    {
     "output_type": "display_data",
     "data": {
      "application/vnd.plotly.v1+json": {
       "config": {
        "plotlyServerURL": "https://plot.ly"
       },
       "data": [
        {
         "alignmentgroup": "True",
         "hovertemplate": " =%{x}<br>Počet balení=%{y}<extra></extra>",
         "legendgroup": "Slovensko",
         "marker": {
          "color": "#4B6AAB"
         },
         "name": "Slovensko",
         "offsetgroup": "Slovensko",
         "orientation": "v",
         "showlegend": true,
         "textposition": "auto",
         "type": "bar",
         "x": [
          "CONCOR",
          "CORONAL",
          "CONCOR COR",
          "BISOMERCK"
         ],
         "xaxis": "x",
         "y": [
          920947.0700000001,
          472688.87,
          284506.25,
          122739.5
         ],
         "yaxis": "y"
        },
        {
         "alignmentgroup": "True",
         "hovertemplate": " =%{x}<br>Počet balení=%{y}<extra></extra>",
         "legendgroup": "Nemecko",
         "marker": {
          "color": "#D8764C"
         },
         "name": "Nemecko",
         "offsetgroup": "Nemecko",
         "orientation": "v",
         "showlegend": true,
         "textposition": "auto",
         "type": "bar",
         "x": [
          "BISOPROLOL-ratiopharm"
         ],
         "xaxis": "x",
         "y": [
          390962.83
         ],
         "yaxis": "y"
        },
        {
         "alignmentgroup": "True",
         "hovertemplate": " =%{x}<br>Počet balení=%{y}<extra></extra>",
         "legendgroup": "Česko",
         "marker": {
          "color": "#F1C75B"
         },
         "name": "Česko",
         "offsetgroup": "Česko",
         "orientation": "v",
         "showlegend": true,
         "textposition": "auto",
         "type": "bar",
         "x": [
          "BISOCARD"
         ],
         "xaxis": "x",
         "y": [
          192394.6
         ],
         "yaxis": "y"
        },
        {
         "alignmentgroup": "True",
         "hovertemplate": " =%{x}<br>Počet balení=%{y}<extra></extra>",
         "legendgroup": "Slovinsko",
         "marker": {
          "color": "#B75B9E"
         },
         "name": "Slovinsko",
         "offsetgroup": "Slovinsko",
         "orientation": "v",
         "showlegend": true,
         "textposition": "auto",
         "type": "bar",
         "x": [
          "Sobycor"
         ],
         "xaxis": "x",
         "y": [
          104587.032
         ],
         "yaxis": "y"
        }
       ],
       "layout": {
        "barmode": "relative",
        "legend": {
         "title": {
          "text": " "
         },
         "tracegroupgap": 0
        },
        "template": {
         "data": {
          "bar": [
           {
            "error_x": {
             "color": "#2a3f5f"
            },
            "error_y": {
             "color": "#2a3f5f"
            },
            "marker": {
             "line": {
              "color": "#E5ECF6",
              "width": 0.5
             }
            },
            "type": "bar"
           }
          ],
          "barpolar": [
           {
            "marker": {
             "line": {
              "color": "#E5ECF6",
              "width": 0.5
             }
            },
            "type": "barpolar"
           }
          ],
          "carpet": [
           {
            "aaxis": {
             "endlinecolor": "#2a3f5f",
             "gridcolor": "white",
             "linecolor": "white",
             "minorgridcolor": "white",
             "startlinecolor": "#2a3f5f"
            },
            "baxis": {
             "endlinecolor": "#2a3f5f",
             "gridcolor": "white",
             "linecolor": "white",
             "minorgridcolor": "white",
             "startlinecolor": "#2a3f5f"
            },
            "type": "carpet"
           }
          ],
          "choropleth": [
           {
            "colorbar": {
             "outlinewidth": 0,
             "ticks": ""
            },
            "type": "choropleth"
           }
          ],
          "contour": [
           {
            "colorbar": {
             "outlinewidth": 0,
             "ticks": ""
            },
            "colorscale": [
             [
              0,
              "#0d0887"
             ],
             [
              0.1111111111111111,
              "#46039f"
             ],
             [
              0.2222222222222222,
              "#7201a8"
             ],
             [
              0.3333333333333333,
              "#9c179e"
             ],
             [
              0.4444444444444444,
              "#bd3786"
             ],
             [
              0.5555555555555556,
              "#d8576b"
             ],
             [
              0.6666666666666666,
              "#ed7953"
             ],
             [
              0.7777777777777778,
              "#fb9f3a"
             ],
             [
              0.8888888888888888,
              "#fdca26"
             ],
             [
              1,
              "#f0f921"
             ]
            ],
            "type": "contour"
           }
          ],
          "contourcarpet": [
           {
            "colorbar": {
             "outlinewidth": 0,
             "ticks": ""
            },
            "type": "contourcarpet"
           }
          ],
          "heatmap": [
           {
            "colorbar": {
             "outlinewidth": 0,
             "ticks": ""
            },
            "colorscale": [
             [
              0,
              "#0d0887"
             ],
             [
              0.1111111111111111,
              "#46039f"
             ],
             [
              0.2222222222222222,
              "#7201a8"
             ],
             [
              0.3333333333333333,
              "#9c179e"
             ],
             [
              0.4444444444444444,
              "#bd3786"
             ],
             [
              0.5555555555555556,
              "#d8576b"
             ],
             [
              0.6666666666666666,
              "#ed7953"
             ],
             [
              0.7777777777777778,
              "#fb9f3a"
             ],
             [
              0.8888888888888888,
              "#fdca26"
             ],
             [
              1,
              "#f0f921"
             ]
            ],
            "type": "heatmap"
           }
          ],
          "heatmapgl": [
           {
            "colorbar": {
             "outlinewidth": 0,
             "ticks": ""
            },
            "colorscale": [
             [
              0,
              "#0d0887"
             ],
             [
              0.1111111111111111,
              "#46039f"
             ],
             [
              0.2222222222222222,
              "#7201a8"
             ],
             [
              0.3333333333333333,
              "#9c179e"
             ],
             [
              0.4444444444444444,
              "#bd3786"
             ],
             [
              0.5555555555555556,
              "#d8576b"
             ],
             [
              0.6666666666666666,
              "#ed7953"
             ],
             [
              0.7777777777777778,
              "#fb9f3a"
             ],
             [
              0.8888888888888888,
              "#fdca26"
             ],
             [
              1,
              "#f0f921"
             ]
            ],
            "type": "heatmapgl"
           }
          ],
          "histogram": [
           {
            "marker": {
             "colorbar": {
              "outlinewidth": 0,
              "ticks": ""
             }
            },
            "type": "histogram"
           }
          ],
          "histogram2d": [
           {
            "colorbar": {
             "outlinewidth": 0,
             "ticks": ""
            },
            "colorscale": [
             [
              0,
              "#0d0887"
             ],
             [
              0.1111111111111111,
              "#46039f"
             ],
             [
              0.2222222222222222,
              "#7201a8"
             ],
             [
              0.3333333333333333,
              "#9c179e"
             ],
             [
              0.4444444444444444,
              "#bd3786"
             ],
             [
              0.5555555555555556,
              "#d8576b"
             ],
             [
              0.6666666666666666,
              "#ed7953"
             ],
             [
              0.7777777777777778,
              "#fb9f3a"
             ],
             [
              0.8888888888888888,
              "#fdca26"
             ],
             [
              1,
              "#f0f921"
             ]
            ],
            "type": "histogram2d"
           }
          ],
          "histogram2dcontour": [
           {
            "colorbar": {
             "outlinewidth": 0,
             "ticks": ""
            },
            "colorscale": [
             [
              0,
              "#0d0887"
             ],
             [
              0.1111111111111111,
              "#46039f"
             ],
             [
              0.2222222222222222,
              "#7201a8"
             ],
             [
              0.3333333333333333,
              "#9c179e"
             ],
             [
              0.4444444444444444,
              "#bd3786"
             ],
             [
              0.5555555555555556,
              "#d8576b"
             ],
             [
              0.6666666666666666,
              "#ed7953"
             ],
             [
              0.7777777777777778,
              "#fb9f3a"
             ],
             [
              0.8888888888888888,
              "#fdca26"
             ],
             [
              1,
              "#f0f921"
             ]
            ],
            "type": "histogram2dcontour"
           }
          ],
          "mesh3d": [
           {
            "colorbar": {
             "outlinewidth": 0,
             "ticks": ""
            },
            "type": "mesh3d"
           }
          ],
          "parcoords": [
           {
            "line": {
             "colorbar": {
              "outlinewidth": 0,
              "ticks": ""
             }
            },
            "type": "parcoords"
           }
          ],
          "pie": [
           {
            "automargin": true,
            "type": "pie"
           }
          ],
          "scatter": [
           {
            "marker": {
             "colorbar": {
              "outlinewidth": 0,
              "ticks": ""
             }
            },
            "type": "scatter"
           }
          ],
          "scatter3d": [
           {
            "line": {
             "colorbar": {
              "outlinewidth": 0,
              "ticks": ""
             }
            },
            "marker": {
             "colorbar": {
              "outlinewidth": 0,
              "ticks": ""
             }
            },
            "type": "scatter3d"
           }
          ],
          "scattercarpet": [
           {
            "marker": {
             "colorbar": {
              "outlinewidth": 0,
              "ticks": ""
             }
            },
            "type": "scattercarpet"
           }
          ],
          "scattergeo": [
           {
            "marker": {
             "colorbar": {
              "outlinewidth": 0,
              "ticks": ""
             }
            },
            "type": "scattergeo"
           }
          ],
          "scattergl": [
           {
            "marker": {
             "colorbar": {
              "outlinewidth": 0,
              "ticks": ""
             }
            },
            "type": "scattergl"
           }
          ],
          "scattermapbox": [
           {
            "marker": {
             "colorbar": {
              "outlinewidth": 0,
              "ticks": ""
             }
            },
            "type": "scattermapbox"
           }
          ],
          "scatterpolar": [
           {
            "marker": {
             "colorbar": {
              "outlinewidth": 0,
              "ticks": ""
             }
            },
            "type": "scatterpolar"
           }
          ],
          "scatterpolargl": [
           {
            "marker": {
             "colorbar": {
              "outlinewidth": 0,
              "ticks": ""
             }
            },
            "type": "scatterpolargl"
           }
          ],
          "scatterternary": [
           {
            "marker": {
             "colorbar": {
              "outlinewidth": 0,
              "ticks": ""
             }
            },
            "type": "scatterternary"
           }
          ],
          "surface": [
           {
            "colorbar": {
             "outlinewidth": 0,
             "ticks": ""
            },
            "colorscale": [
             [
              0,
              "#0d0887"
             ],
             [
              0.1111111111111111,
              "#46039f"
             ],
             [
              0.2222222222222222,
              "#7201a8"
             ],
             [
              0.3333333333333333,
              "#9c179e"
             ],
             [
              0.4444444444444444,
              "#bd3786"
             ],
             [
              0.5555555555555556,
              "#d8576b"
             ],
             [
              0.6666666666666666,
              "#ed7953"
             ],
             [
              0.7777777777777778,
              "#fb9f3a"
             ],
             [
              0.8888888888888888,
              "#fdca26"
             ],
             [
              1,
              "#f0f921"
             ]
            ],
            "type": "surface"
           }
          ],
          "table": [
           {
            "cells": {
             "fill": {
              "color": "#EBF0F8"
             },
             "line": {
              "color": "white"
             }
            },
            "header": {
             "fill": {
              "color": "#C8D4E3"
             },
             "line": {
              "color": "white"
             }
            },
            "type": "table"
           }
          ]
         },
         "layout": {
          "annotationdefaults": {
           "arrowcolor": "#2a3f5f",
           "arrowhead": 0,
           "arrowwidth": 1
          },
          "autotypenumbers": "strict",
          "coloraxis": {
           "colorbar": {
            "outlinewidth": 0,
            "ticks": ""
           }
          },
          "colorscale": {
           "diverging": [
            [
             0,
             "#8e0152"
            ],
            [
             0.1,
             "#c51b7d"
            ],
            [
             0.2,
             "#de77ae"
            ],
            [
             0.3,
             "#f1b6da"
            ],
            [
             0.4,
             "#fde0ef"
            ],
            [
             0.5,
             "#f7f7f7"
            ],
            [
             0.6,
             "#e6f5d0"
            ],
            [
             0.7,
             "#b8e186"
            ],
            [
             0.8,
             "#7fbc41"
            ],
            [
             0.9,
             "#4d9221"
            ],
            [
             1,
             "#276419"
            ]
           ],
           "sequential": [
            [
             0,
             "#0d0887"
            ],
            [
             0.1111111111111111,
             "#46039f"
            ],
            [
             0.2222222222222222,
             "#7201a8"
            ],
            [
             0.3333333333333333,
             "#9c179e"
            ],
            [
             0.4444444444444444,
             "#bd3786"
            ],
            [
             0.5555555555555556,
             "#d8576b"
            ],
            [
             0.6666666666666666,
             "#ed7953"
            ],
            [
             0.7777777777777778,
             "#fb9f3a"
            ],
            [
             0.8888888888888888,
             "#fdca26"
            ],
            [
             1,
             "#f0f921"
            ]
           ],
           "sequentialminus": [
            [
             0,
             "#0d0887"
            ],
            [
             0.1111111111111111,
             "#46039f"
            ],
            [
             0.2222222222222222,
             "#7201a8"
            ],
            [
             0.3333333333333333,
             "#9c179e"
            ],
            [
             0.4444444444444444,
             "#bd3786"
            ],
            [
             0.5555555555555556,
             "#d8576b"
            ],
            [
             0.6666666666666666,
             "#ed7953"
            ],
            [
             0.7777777777777778,
             "#fb9f3a"
            ],
            [
             0.8888888888888888,
             "#fdca26"
            ],
            [
             1,
             "#f0f921"
            ]
           ]
          },
          "colorway": [
           "#636efa",
           "#EF553B",
           "#00cc96",
           "#ab63fa",
           "#FFA15A",
           "#19d3f3",
           "#FF6692",
           "#B6E880",
           "#FF97FF",
           "#FECB52"
          ],
          "font": {
           "color": "#2a3f5f"
          },
          "geo": {
           "bgcolor": "white",
           "lakecolor": "white",
           "landcolor": "#E5ECF6",
           "showlakes": true,
           "showland": true,
           "subunitcolor": "white"
          },
          "hoverlabel": {
           "align": "left"
          },
          "hovermode": "closest",
          "mapbox": {
           "style": "light"
          },
          "paper_bgcolor": "white",
          "plot_bgcolor": "#E5ECF6",
          "polar": {
           "angularaxis": {
            "gridcolor": "white",
            "linecolor": "white",
            "ticks": ""
           },
           "bgcolor": "#E5ECF6",
           "radialaxis": {
            "gridcolor": "white",
            "linecolor": "white",
            "ticks": ""
           }
          },
          "scene": {
           "xaxis": {
            "backgroundcolor": "#E5ECF6",
            "gridcolor": "white",
            "gridwidth": 2,
            "linecolor": "white",
            "showbackground": true,
            "ticks": "",
            "zerolinecolor": "white"
           },
           "yaxis": {
            "backgroundcolor": "#E5ECF6",
            "gridcolor": "white",
            "gridwidth": 2,
            "linecolor": "white",
            "showbackground": true,
            "ticks": "",
            "zerolinecolor": "white"
           },
           "zaxis": {
            "backgroundcolor": "#E5ECF6",
            "gridcolor": "white",
            "gridwidth": 2,
            "linecolor": "white",
            "showbackground": true,
            "ticks": "",
            "zerolinecolor": "white"
           }
          },
          "shapedefaults": {
           "line": {
            "color": "#2a3f5f"
           }
          },
          "ternary": {
           "aaxis": {
            "gridcolor": "white",
            "linecolor": "white",
            "ticks": ""
           },
           "baxis": {
            "gridcolor": "white",
            "linecolor": "white",
            "ticks": ""
           },
           "bgcolor": "#E5ECF6",
           "caxis": {
            "gridcolor": "white",
            "linecolor": "white",
            "ticks": ""
           }
          },
          "title": {
           "x": 0.05
          },
          "xaxis": {
           "automargin": true,
           "gridcolor": "white",
           "linecolor": "white",
           "ticks": "",
           "title": {
            "standoff": 15
           },
           "zerolinecolor": "white",
           "zerolinewidth": 2
          },
          "yaxis": {
           "automargin": true,
           "gridcolor": "white",
           "linecolor": "white",
           "ticks": "",
           "title": {
            "standoff": 15
           },
           "zerolinecolor": "white",
           "zerolinewidth": 2
          }
         }
        },
        "title": {
         "text": "Bisoprolol - počet balení nad 100 000"
        },
        "xaxis": {
         "anchor": "y",
         "domain": [
          0,
          1
         ],
         "tickangle": 45,
         "title": {
          "text": " "
         }
        },
        "yaxis": {
         "anchor": "x",
         "domain": [
          0,
          1
         ],
         "title": {
          "text": "Počet balení"
         }
        }
       }
      }
     },
     "metadata": {}
    }
   ],
   "source": [
    "fig = px.bar(bisoprolol.query('Počet_balení > 100000').sort_values(by='Počet_balení', ascending=False), x='LIEK_popis', y='Počet_balení', color='STAT_popis', title='Bisoprolol - počet balení nad 100 000',labels={'Počet_balení':'Počet balení', 'STAT_popis':' ', 'LIEK_popis':' '}, color_discrete_sequence=[modra, oranzova, zlta, ruzova])\n",
    "fig.update_xaxes(tickangle=45)\n",
    "fig.show()"
   ]
  },
  {
   "cell_type": "code",
   "execution_count": 156,
   "metadata": {},
   "outputs": [
    {
     "output_type": "display_data",
     "data": {
      "application/vnd.plotly.v1+json": {
       "config": {
        "plotlyServerURL": "https://plot.ly"
       },
       "data": [
        {
         "domain": {
          "x": [
           0,
           1
          ],
          "y": [
           0,
           1
          ]
         },
         "hovertemplate": "STAT_popis=%{label}<br>Počet_balení=%{value}<extra></extra>",
         "labels": [
          "Nemecko",
          "Slovensko",
          "Slovinsko",
          "iné",
          "Česko"
         ],
         "legendgroup": "",
         "name": "",
         "showlegend": true,
         "type": "pie",
         "values": [
          390964.83,
          1808079.02,
          115080.69200000001,
          2084.9,
          291163.1
         ]
        }
       ],
       "layout": {
        "legend": {
         "tracegroupgap": 0
        },
        "piecolorway": [
         "#4B6AAB",
         "#D8764C",
         "#F1C75B",
         "#B75B9E",
         "#73B5AB"
        ],
        "template": {
         "data": {
          "bar": [
           {
            "error_x": {
             "color": "#2a3f5f"
            },
            "error_y": {
             "color": "#2a3f5f"
            },
            "marker": {
             "line": {
              "color": "#E5ECF6",
              "width": 0.5
             }
            },
            "type": "bar"
           }
          ],
          "barpolar": [
           {
            "marker": {
             "line": {
              "color": "#E5ECF6",
              "width": 0.5
             }
            },
            "type": "barpolar"
           }
          ],
          "carpet": [
           {
            "aaxis": {
             "endlinecolor": "#2a3f5f",
             "gridcolor": "white",
             "linecolor": "white",
             "minorgridcolor": "white",
             "startlinecolor": "#2a3f5f"
            },
            "baxis": {
             "endlinecolor": "#2a3f5f",
             "gridcolor": "white",
             "linecolor": "white",
             "minorgridcolor": "white",
             "startlinecolor": "#2a3f5f"
            },
            "type": "carpet"
           }
          ],
          "choropleth": [
           {
            "colorbar": {
             "outlinewidth": 0,
             "ticks": ""
            },
            "type": "choropleth"
           }
          ],
          "contour": [
           {
            "colorbar": {
             "outlinewidth": 0,
             "ticks": ""
            },
            "colorscale": [
             [
              0,
              "#0d0887"
             ],
             [
              0.1111111111111111,
              "#46039f"
             ],
             [
              0.2222222222222222,
              "#7201a8"
             ],
             [
              0.3333333333333333,
              "#9c179e"
             ],
             [
              0.4444444444444444,
              "#bd3786"
             ],
             [
              0.5555555555555556,
              "#d8576b"
             ],
             [
              0.6666666666666666,
              "#ed7953"
             ],
             [
              0.7777777777777778,
              "#fb9f3a"
             ],
             [
              0.8888888888888888,
              "#fdca26"
             ],
             [
              1,
              "#f0f921"
             ]
            ],
            "type": "contour"
           }
          ],
          "contourcarpet": [
           {
            "colorbar": {
             "outlinewidth": 0,
             "ticks": ""
            },
            "type": "contourcarpet"
           }
          ],
          "heatmap": [
           {
            "colorbar": {
             "outlinewidth": 0,
             "ticks": ""
            },
            "colorscale": [
             [
              0,
              "#0d0887"
             ],
             [
              0.1111111111111111,
              "#46039f"
             ],
             [
              0.2222222222222222,
              "#7201a8"
             ],
             [
              0.3333333333333333,
              "#9c179e"
             ],
             [
              0.4444444444444444,
              "#bd3786"
             ],
             [
              0.5555555555555556,
              "#d8576b"
             ],
             [
              0.6666666666666666,
              "#ed7953"
             ],
             [
              0.7777777777777778,
              "#fb9f3a"
             ],
             [
              0.8888888888888888,
              "#fdca26"
             ],
             [
              1,
              "#f0f921"
             ]
            ],
            "type": "heatmap"
           }
          ],
          "heatmapgl": [
           {
            "colorbar": {
             "outlinewidth": 0,
             "ticks": ""
            },
            "colorscale": [
             [
              0,
              "#0d0887"
             ],
             [
              0.1111111111111111,
              "#46039f"
             ],
             [
              0.2222222222222222,
              "#7201a8"
             ],
             [
              0.3333333333333333,
              "#9c179e"
             ],
             [
              0.4444444444444444,
              "#bd3786"
             ],
             [
              0.5555555555555556,
              "#d8576b"
             ],
             [
              0.6666666666666666,
              "#ed7953"
             ],
             [
              0.7777777777777778,
              "#fb9f3a"
             ],
             [
              0.8888888888888888,
              "#fdca26"
             ],
             [
              1,
              "#f0f921"
             ]
            ],
            "type": "heatmapgl"
           }
          ],
          "histogram": [
           {
            "marker": {
             "colorbar": {
              "outlinewidth": 0,
              "ticks": ""
             }
            },
            "type": "histogram"
           }
          ],
          "histogram2d": [
           {
            "colorbar": {
             "outlinewidth": 0,
             "ticks": ""
            },
            "colorscale": [
             [
              0,
              "#0d0887"
             ],
             [
              0.1111111111111111,
              "#46039f"
             ],
             [
              0.2222222222222222,
              "#7201a8"
             ],
             [
              0.3333333333333333,
              "#9c179e"
             ],
             [
              0.4444444444444444,
              "#bd3786"
             ],
             [
              0.5555555555555556,
              "#d8576b"
             ],
             [
              0.6666666666666666,
              "#ed7953"
             ],
             [
              0.7777777777777778,
              "#fb9f3a"
             ],
             [
              0.8888888888888888,
              "#fdca26"
             ],
             [
              1,
              "#f0f921"
             ]
            ],
            "type": "histogram2d"
           }
          ],
          "histogram2dcontour": [
           {
            "colorbar": {
             "outlinewidth": 0,
             "ticks": ""
            },
            "colorscale": [
             [
              0,
              "#0d0887"
             ],
             [
              0.1111111111111111,
              "#46039f"
             ],
             [
              0.2222222222222222,
              "#7201a8"
             ],
             [
              0.3333333333333333,
              "#9c179e"
             ],
             [
              0.4444444444444444,
              "#bd3786"
             ],
             [
              0.5555555555555556,
              "#d8576b"
             ],
             [
              0.6666666666666666,
              "#ed7953"
             ],
             [
              0.7777777777777778,
              "#fb9f3a"
             ],
             [
              0.8888888888888888,
              "#fdca26"
             ],
             [
              1,
              "#f0f921"
             ]
            ],
            "type": "histogram2dcontour"
           }
          ],
          "mesh3d": [
           {
            "colorbar": {
             "outlinewidth": 0,
             "ticks": ""
            },
            "type": "mesh3d"
           }
          ],
          "parcoords": [
           {
            "line": {
             "colorbar": {
              "outlinewidth": 0,
              "ticks": ""
             }
            },
            "type": "parcoords"
           }
          ],
          "pie": [
           {
            "automargin": true,
            "type": "pie"
           }
          ],
          "scatter": [
           {
            "marker": {
             "colorbar": {
              "outlinewidth": 0,
              "ticks": ""
             }
            },
            "type": "scatter"
           }
          ],
          "scatter3d": [
           {
            "line": {
             "colorbar": {
              "outlinewidth": 0,
              "ticks": ""
             }
            },
            "marker": {
             "colorbar": {
              "outlinewidth": 0,
              "ticks": ""
             }
            },
            "type": "scatter3d"
           }
          ],
          "scattercarpet": [
           {
            "marker": {
             "colorbar": {
              "outlinewidth": 0,
              "ticks": ""
             }
            },
            "type": "scattercarpet"
           }
          ],
          "scattergeo": [
           {
            "marker": {
             "colorbar": {
              "outlinewidth": 0,
              "ticks": ""
             }
            },
            "type": "scattergeo"
           }
          ],
          "scattergl": [
           {
            "marker": {
             "colorbar": {
              "outlinewidth": 0,
              "ticks": ""
             }
            },
            "type": "scattergl"
           }
          ],
          "scattermapbox": [
           {
            "marker": {
             "colorbar": {
              "outlinewidth": 0,
              "ticks": ""
             }
            },
            "type": "scattermapbox"
           }
          ],
          "scatterpolar": [
           {
            "marker": {
             "colorbar": {
              "outlinewidth": 0,
              "ticks": ""
             }
            },
            "type": "scatterpolar"
           }
          ],
          "scatterpolargl": [
           {
            "marker": {
             "colorbar": {
              "outlinewidth": 0,
              "ticks": ""
             }
            },
            "type": "scatterpolargl"
           }
          ],
          "scatterternary": [
           {
            "marker": {
             "colorbar": {
              "outlinewidth": 0,
              "ticks": ""
             }
            },
            "type": "scatterternary"
           }
          ],
          "surface": [
           {
            "colorbar": {
             "outlinewidth": 0,
             "ticks": ""
            },
            "colorscale": [
             [
              0,
              "#0d0887"
             ],
             [
              0.1111111111111111,
              "#46039f"
             ],
             [
              0.2222222222222222,
              "#7201a8"
             ],
             [
              0.3333333333333333,
              "#9c179e"
             ],
             [
              0.4444444444444444,
              "#bd3786"
             ],
             [
              0.5555555555555556,
              "#d8576b"
             ],
             [
              0.6666666666666666,
              "#ed7953"
             ],
             [
              0.7777777777777778,
              "#fb9f3a"
             ],
             [
              0.8888888888888888,
              "#fdca26"
             ],
             [
              1,
              "#f0f921"
             ]
            ],
            "type": "surface"
           }
          ],
          "table": [
           {
            "cells": {
             "fill": {
              "color": "#EBF0F8"
             },
             "line": {
              "color": "white"
             }
            },
            "header": {
             "fill": {
              "color": "#C8D4E3"
             },
             "line": {
              "color": "white"
             }
            },
            "type": "table"
           }
          ]
         },
         "layout": {
          "annotationdefaults": {
           "arrowcolor": "#2a3f5f",
           "arrowhead": 0,
           "arrowwidth": 1
          },
          "autotypenumbers": "strict",
          "coloraxis": {
           "colorbar": {
            "outlinewidth": 0,
            "ticks": ""
           }
          },
          "colorscale": {
           "diverging": [
            [
             0,
             "#8e0152"
            ],
            [
             0.1,
             "#c51b7d"
            ],
            [
             0.2,
             "#de77ae"
            ],
            [
             0.3,
             "#f1b6da"
            ],
            [
             0.4,
             "#fde0ef"
            ],
            [
             0.5,
             "#f7f7f7"
            ],
            [
             0.6,
             "#e6f5d0"
            ],
            [
             0.7,
             "#b8e186"
            ],
            [
             0.8,
             "#7fbc41"
            ],
            [
             0.9,
             "#4d9221"
            ],
            [
             1,
             "#276419"
            ]
           ],
           "sequential": [
            [
             0,
             "#0d0887"
            ],
            [
             0.1111111111111111,
             "#46039f"
            ],
            [
             0.2222222222222222,
             "#7201a8"
            ],
            [
             0.3333333333333333,
             "#9c179e"
            ],
            [
             0.4444444444444444,
             "#bd3786"
            ],
            [
             0.5555555555555556,
             "#d8576b"
            ],
            [
             0.6666666666666666,
             "#ed7953"
            ],
            [
             0.7777777777777778,
             "#fb9f3a"
            ],
            [
             0.8888888888888888,
             "#fdca26"
            ],
            [
             1,
             "#f0f921"
            ]
           ],
           "sequentialminus": [
            [
             0,
             "#0d0887"
            ],
            [
             0.1111111111111111,
             "#46039f"
            ],
            [
             0.2222222222222222,
             "#7201a8"
            ],
            [
             0.3333333333333333,
             "#9c179e"
            ],
            [
             0.4444444444444444,
             "#bd3786"
            ],
            [
             0.5555555555555556,
             "#d8576b"
            ],
            [
             0.6666666666666666,
             "#ed7953"
            ],
            [
             0.7777777777777778,
             "#fb9f3a"
            ],
            [
             0.8888888888888888,
             "#fdca26"
            ],
            [
             1,
             "#f0f921"
            ]
           ]
          },
          "colorway": [
           "#636efa",
           "#EF553B",
           "#00cc96",
           "#ab63fa",
           "#FFA15A",
           "#19d3f3",
           "#FF6692",
           "#B6E880",
           "#FF97FF",
           "#FECB52"
          ],
          "font": {
           "color": "#2a3f5f"
          },
          "geo": {
           "bgcolor": "white",
           "lakecolor": "white",
           "landcolor": "#E5ECF6",
           "showlakes": true,
           "showland": true,
           "subunitcolor": "white"
          },
          "hoverlabel": {
           "align": "left"
          },
          "hovermode": "closest",
          "mapbox": {
           "style": "light"
          },
          "paper_bgcolor": "white",
          "plot_bgcolor": "#E5ECF6",
          "polar": {
           "angularaxis": {
            "gridcolor": "white",
            "linecolor": "white",
            "ticks": ""
           },
           "bgcolor": "#E5ECF6",
           "radialaxis": {
            "gridcolor": "white",
            "linecolor": "white",
            "ticks": ""
           }
          },
          "scene": {
           "xaxis": {
            "backgroundcolor": "#E5ECF6",
            "gridcolor": "white",
            "gridwidth": 2,
            "linecolor": "white",
            "showbackground": true,
            "ticks": "",
            "zerolinecolor": "white"
           },
           "yaxis": {
            "backgroundcolor": "#E5ECF6",
            "gridcolor": "white",
            "gridwidth": 2,
            "linecolor": "white",
            "showbackground": true,
            "ticks": "",
            "zerolinecolor": "white"
           },
           "zaxis": {
            "backgroundcolor": "#E5ECF6",
            "gridcolor": "white",
            "gridwidth": 2,
            "linecolor": "white",
            "showbackground": true,
            "ticks": "",
            "zerolinecolor": "white"
           }
          },
          "shapedefaults": {
           "line": {
            "color": "#2a3f5f"
           }
          },
          "ternary": {
           "aaxis": {
            "gridcolor": "white",
            "linecolor": "white",
            "ticks": ""
           },
           "baxis": {
            "gridcolor": "white",
            "linecolor": "white",
            "ticks": ""
           },
           "bgcolor": "#E5ECF6",
           "caxis": {
            "gridcolor": "white",
            "linecolor": "white",
            "ticks": ""
           }
          },
          "title": {
           "x": 0.05
          },
          "xaxis": {
           "automargin": true,
           "gridcolor": "white",
           "linecolor": "white",
           "ticks": "",
           "title": {
            "standoff": 15
           },
           "zerolinecolor": "white",
           "zerolinewidth": 2
          },
          "yaxis": {
           "automargin": true,
           "gridcolor": "white",
           "linecolor": "white",
           "ticks": "",
           "title": {
            "standoff": 15
           },
           "zerolinecolor": "white",
           "zerolinewidth": 2
          }
         }
        },
        "title": {
         "text": "Bisoprolol - porovnanie štátov"
        }
       }
      }
     },
     "metadata": {}
    }
   ],
   "source": [
    "bisoprolol_krajina = bisoprolol.groupby('STAT_popis').sum().reset_index()\n",
    "for i,popis in enumerate(bisoprolol_krajina['STAT_popis']):\n",
    "    if 'Fínsko' in popis:\n",
    "        bisoprolol_krajina.iloc[i,0] = 'iné'\n",
    "    elif 'Spojené kráľovstvo' in popis:\n",
    "        bisoprolol_krajina.iloc[i,0] = 'iné'\n",
    "bisoprolol_krajina = bisoprolol_krajina.groupby('STAT_popis').sum().reset_index()\n",
    "fig = px.pie(bisoprolol_krajina, values='Počet_balení', names='STAT_popis', title='Bisoprolol - porovnanie štátov',color_discrete_sequence=[modra, oranzova, zlta,ruzova, zelena])\n",
    "fig.show()"
   ]
  },
  {
   "source": [
    "Z grafu vidime, ze najpouzivanejsi betablokator s ucinnou latkou bisoprolol je slovensky Concor. Narozdiel od predchadzajucich grafov, vidime, ze aj ine lieky sa vo vyraznej miere pouzivaju, napr Coronal alebo nemecky Bisprolol-ratiopharm. Jednoznacne vedu slovenske lieky. Vidime, ze Slovensko ponuka narozdiel od ostatnych krajin viacero takychto liekov, ktore sa aj pomerne dost predavaju. "
   ],
   "cell_type": "markdown",
   "metadata": {}
  },
  {
   "source": [
    "# 6. Amlodipin"
   ],
   "cell_type": "markdown",
   "metadata": {}
  },
  {
   "cell_type": "code",
   "execution_count": 166,
   "metadata": {},
   "outputs": [
    {
     "output_type": "display_data",
     "data": {
      "text/plain": "                LIEK_popis STAT_popis                 VYROBCA_popis  index  \\\n0   \\tAmlodipin Vitabalans     Fínsko                 Vitabalans Oy   8326   \n1                    ACCEL     Cyprus               Medochemie Ltd.   4199   \n2                     AGEN      Česko                 Zentiva, k.s.   8352   \n3          AMLODIPIN HEXAL     Dánsko                     HEXAL A/S   2106   \n4     AMLODIPIN-RATIOPHARM    Nemecko               ratiopharm GmbH   4179   \n5                  AMLOPIN  Slovinsko      LEK Pharmaceuticals d.d.   4205   \n6              Amlodigamma    Nemecko  Artesan Pharma GmbH & Co. KG   2093   \n7        Amlodipin Actavis     Island         Actavis Group PTC ehf   4187   \n8      Amlodipin Stichting  Slovinsko   Sandoz Pharmaceuticals d.d.   6285   \n9               CARDILOPIN   Maďarsko      EGIS Pharmaceuticals PLC   4175   \n10                 NORVASC   Belgicko         Pfizer Europe MA EEIG   4209   \n11                   TENOX  Slovinsko         KRKA d.d., Novo mesto   4195   \n\n    Počet_balení  \n0       8133.700  \n1      39635.000  \n2    1042447.713  \n3          2.000  \n4     402849.470  \n5         13.000  \n6          2.000  \n7         16.000  \n8     415811.500  \n9      62800.500  \n10    123821.000  \n11     23809.000  ",
      "text/html": "<div>\n<style scoped>\n    .dataframe tbody tr th:only-of-type {\n        vertical-align: middle;\n    }\n\n    .dataframe tbody tr th {\n        vertical-align: top;\n    }\n\n    .dataframe thead th {\n        text-align: right;\n    }\n</style>\n<table border=\"1\" class=\"dataframe\">\n  <thead>\n    <tr style=\"text-align: right;\">\n      <th></th>\n      <th>LIEK_popis</th>\n      <th>STAT_popis</th>\n      <th>VYROBCA_popis</th>\n      <th>index</th>\n      <th>Počet_balení</th>\n    </tr>\n  </thead>\n  <tbody>\n    <tr>\n      <th>0</th>\n      <td>\\tAmlodipin Vitabalans</td>\n      <td>Fínsko</td>\n      <td>Vitabalans Oy</td>\n      <td>8326</td>\n      <td>8133.700</td>\n    </tr>\n    <tr>\n      <th>1</th>\n      <td>ACCEL</td>\n      <td>Cyprus</td>\n      <td>Medochemie Ltd.</td>\n      <td>4199</td>\n      <td>39635.000</td>\n    </tr>\n    <tr>\n      <th>2</th>\n      <td>AGEN</td>\n      <td>Česko</td>\n      <td>Zentiva, k.s.</td>\n      <td>8352</td>\n      <td>1042447.713</td>\n    </tr>\n    <tr>\n      <th>3</th>\n      <td>AMLODIPIN HEXAL</td>\n      <td>Dánsko</td>\n      <td>HEXAL A/S</td>\n      <td>2106</td>\n      <td>2.000</td>\n    </tr>\n    <tr>\n      <th>4</th>\n      <td>AMLODIPIN-RATIOPHARM</td>\n      <td>Nemecko</td>\n      <td>ratiopharm GmbH</td>\n      <td>4179</td>\n      <td>402849.470</td>\n    </tr>\n    <tr>\n      <th>5</th>\n      <td>AMLOPIN</td>\n      <td>Slovinsko</td>\n      <td>LEK Pharmaceuticals d.d.</td>\n      <td>4205</td>\n      <td>13.000</td>\n    </tr>\n    <tr>\n      <th>6</th>\n      <td>Amlodigamma</td>\n      <td>Nemecko</td>\n      <td>Artesan Pharma GmbH &amp; Co. KG</td>\n      <td>2093</td>\n      <td>2.000</td>\n    </tr>\n    <tr>\n      <th>7</th>\n      <td>Amlodipin Actavis</td>\n      <td>Island</td>\n      <td>Actavis Group PTC ehf</td>\n      <td>4187</td>\n      <td>16.000</td>\n    </tr>\n    <tr>\n      <th>8</th>\n      <td>Amlodipin Stichting</td>\n      <td>Slovinsko</td>\n      <td>Sandoz Pharmaceuticals d.d.</td>\n      <td>6285</td>\n      <td>415811.500</td>\n    </tr>\n    <tr>\n      <th>9</th>\n      <td>CARDILOPIN</td>\n      <td>Maďarsko</td>\n      <td>EGIS Pharmaceuticals PLC</td>\n      <td>4175</td>\n      <td>62800.500</td>\n    </tr>\n    <tr>\n      <th>10</th>\n      <td>NORVASC</td>\n      <td>Belgicko</td>\n      <td>Pfizer Europe MA EEIG</td>\n      <td>4209</td>\n      <td>123821.000</td>\n    </tr>\n    <tr>\n      <th>11</th>\n      <td>TENOX</td>\n      <td>Slovinsko</td>\n      <td>KRKA d.d., Novo mesto</td>\n      <td>4195</td>\n      <td>23809.000</td>\n    </tr>\n  </tbody>\n</table>\n</div>"
     },
     "metadata": {}
    }
   ],
   "source": [
    "amlodipin = top15tab[\"C08CA01\"].sort_values(by='Počet_balení', ascending=False)\n",
    "\n",
    "for i,popis in enumerate(amlodipin['LIEK_popis']):\n",
    "    if 'ACCEL' in popis:\n",
    "        amlodipin.iloc[i,4] = 'ACCEL'\n",
    "    elif 'AGEN' in popis:\n",
    "        amlodipin.iloc[i,4] = 'AGEN'\n",
    "    elif 'AMLODIPIN HEXAL' in popis:\n",
    "        amlodipin.iloc[i,4] = 'AMLODIPIN HEXAL'\n",
    "    elif 'AMLODIPIN-RATIOPHARM' in popis:\n",
    "        amlodipin.iloc[i,4] = 'AMLODIPIN-RATIOPHARM'\n",
    "    elif 'AMLOPIN' in popis:\n",
    "        amlodipin.iloc[i,4] = 'AMLOPIN'\n",
    "    elif 'Amlodigamma' in popis:\n",
    "        amlodipin.iloc[i,4] = 'Amlodigamma'\n",
    "    elif 'Amlodipin Actavis' in popis:\n",
    "        amlodipin.iloc[i,4] = 'Amlodipin Actavis'\n",
    "    elif 'Amlodipin Stichting' in popis:\n",
    "        amlodipin.iloc[i,4] = 'Amlodipin Stichting'\n",
    "    elif 'Amlodipin Vitabalans' in popis:\n",
    "        amlodipin.iloc[i,4] = '\tAmlodipin Vitabalans'\n",
    "    elif 'CARDILOPIN' in popis:\n",
    "        amlodipin.iloc[i,4] = 'CARDILOPIN'\n",
    "    elif 'NORVASC' in popis:\n",
    "        amlodipin.iloc[i,4] = 'NORVASC'\n",
    "    elif 'TENOX' in popis:\n",
    "        amlodipin.iloc[i,4] = 'TENOX'\n",
    "\n",
    "amlodipin = amlodipin.groupby(['LIEK_popis', 'STAT_popis', 'VYROBCA_popis']).sum().reset_index()\n",
    "display(amlodipin)"
   ]
  },
  {
   "cell_type": "code",
   "execution_count": 171,
   "metadata": {},
   "outputs": [
    {
     "output_type": "display_data",
     "data": {
      "application/vnd.plotly.v1+json": {
       "config": {
        "plotlyServerURL": "https://plot.ly"
       },
       "data": [
        {
         "alignmentgroup": "True",
         "hovertemplate": " =%{x}<br>Počet balení=%{y}<extra></extra>",
         "legendgroup": "Česko",
         "marker": {
          "color": "#4B6AAB"
         },
         "name": "Česko",
         "offsetgroup": "Česko",
         "orientation": "v",
         "showlegend": true,
         "textposition": "auto",
         "type": "bar",
         "x": [
          "AGEN"
         ],
         "xaxis": "x",
         "y": [
          1042447.713
         ],
         "yaxis": "y"
        },
        {
         "alignmentgroup": "True",
         "hovertemplate": " =%{x}<br>Počet balení=%{y}<extra></extra>",
         "legendgroup": "Slovinsko",
         "marker": {
          "color": "#D8764C"
         },
         "name": "Slovinsko",
         "offsetgroup": "Slovinsko",
         "orientation": "v",
         "showlegend": true,
         "textposition": "auto",
         "type": "bar",
         "x": [
          "Amlodipin Stichting"
         ],
         "xaxis": "x",
         "y": [
          415811.5
         ],
         "yaxis": "y"
        },
        {
         "alignmentgroup": "True",
         "hovertemplate": " =%{x}<br>Počet balení=%{y}<extra></extra>",
         "legendgroup": "Nemecko",
         "marker": {
          "color": "#F1C75B"
         },
         "name": "Nemecko",
         "offsetgroup": "Nemecko",
         "orientation": "v",
         "showlegend": true,
         "textposition": "auto",
         "type": "bar",
         "x": [
          "AMLODIPIN-RATIOPHARM"
         ],
         "xaxis": "x",
         "y": [
          402849.47
         ],
         "yaxis": "y"
        },
        {
         "alignmentgroup": "True",
         "hovertemplate": " =%{x}<br>Počet balení=%{y}<extra></extra>",
         "legendgroup": "Belgicko",
         "marker": {
          "color": "#B75B9E"
         },
         "name": "Belgicko",
         "offsetgroup": "Belgicko",
         "orientation": "v",
         "showlegend": true,
         "textposition": "auto",
         "type": "bar",
         "x": [
          "NORVASC"
         ],
         "xaxis": "x",
         "y": [
          123821
         ],
         "yaxis": "y"
        },
        {
         "alignmentgroup": "True",
         "hovertemplate": " =%{x}<br>Počet balení=%{y}<extra></extra>",
         "legendgroup": "Maďarsko",
         "marker": {
          "color": "#73B5AB"
         },
         "name": "Maďarsko",
         "offsetgroup": "Maďarsko",
         "orientation": "v",
         "showlegend": true,
         "textposition": "auto",
         "type": "bar",
         "x": [
          "CARDILOPIN"
         ],
         "xaxis": "x",
         "y": [
          62800.5
         ],
         "yaxis": "y"
        }
       ],
       "layout": {
        "barmode": "relative",
        "legend": {
         "title": {
          "text": " "
         },
         "tracegroupgap": 0
        },
        "template": {
         "data": {
          "bar": [
           {
            "error_x": {
             "color": "#2a3f5f"
            },
            "error_y": {
             "color": "#2a3f5f"
            },
            "marker": {
             "line": {
              "color": "#E5ECF6",
              "width": 0.5
             }
            },
            "type": "bar"
           }
          ],
          "barpolar": [
           {
            "marker": {
             "line": {
              "color": "#E5ECF6",
              "width": 0.5
             }
            },
            "type": "barpolar"
           }
          ],
          "carpet": [
           {
            "aaxis": {
             "endlinecolor": "#2a3f5f",
             "gridcolor": "white",
             "linecolor": "white",
             "minorgridcolor": "white",
             "startlinecolor": "#2a3f5f"
            },
            "baxis": {
             "endlinecolor": "#2a3f5f",
             "gridcolor": "white",
             "linecolor": "white",
             "minorgridcolor": "white",
             "startlinecolor": "#2a3f5f"
            },
            "type": "carpet"
           }
          ],
          "choropleth": [
           {
            "colorbar": {
             "outlinewidth": 0,
             "ticks": ""
            },
            "type": "choropleth"
           }
          ],
          "contour": [
           {
            "colorbar": {
             "outlinewidth": 0,
             "ticks": ""
            },
            "colorscale": [
             [
              0,
              "#0d0887"
             ],
             [
              0.1111111111111111,
              "#46039f"
             ],
             [
              0.2222222222222222,
              "#7201a8"
             ],
             [
              0.3333333333333333,
              "#9c179e"
             ],
             [
              0.4444444444444444,
              "#bd3786"
             ],
             [
              0.5555555555555556,
              "#d8576b"
             ],
             [
              0.6666666666666666,
              "#ed7953"
             ],
             [
              0.7777777777777778,
              "#fb9f3a"
             ],
             [
              0.8888888888888888,
              "#fdca26"
             ],
             [
              1,
              "#f0f921"
             ]
            ],
            "type": "contour"
           }
          ],
          "contourcarpet": [
           {
            "colorbar": {
             "outlinewidth": 0,
             "ticks": ""
            },
            "type": "contourcarpet"
           }
          ],
          "heatmap": [
           {
            "colorbar": {
             "outlinewidth": 0,
             "ticks": ""
            },
            "colorscale": [
             [
              0,
              "#0d0887"
             ],
             [
              0.1111111111111111,
              "#46039f"
             ],
             [
              0.2222222222222222,
              "#7201a8"
             ],
             [
              0.3333333333333333,
              "#9c179e"
             ],
             [
              0.4444444444444444,
              "#bd3786"
             ],
             [
              0.5555555555555556,
              "#d8576b"
             ],
             [
              0.6666666666666666,
              "#ed7953"
             ],
             [
              0.7777777777777778,
              "#fb9f3a"
             ],
             [
              0.8888888888888888,
              "#fdca26"
             ],
             [
              1,
              "#f0f921"
             ]
            ],
            "type": "heatmap"
           }
          ],
          "heatmapgl": [
           {
            "colorbar": {
             "outlinewidth": 0,
             "ticks": ""
            },
            "colorscale": [
             [
              0,
              "#0d0887"
             ],
             [
              0.1111111111111111,
              "#46039f"
             ],
             [
              0.2222222222222222,
              "#7201a8"
             ],
             [
              0.3333333333333333,
              "#9c179e"
             ],
             [
              0.4444444444444444,
              "#bd3786"
             ],
             [
              0.5555555555555556,
              "#d8576b"
             ],
             [
              0.6666666666666666,
              "#ed7953"
             ],
             [
              0.7777777777777778,
              "#fb9f3a"
             ],
             [
              0.8888888888888888,
              "#fdca26"
             ],
             [
              1,
              "#f0f921"
             ]
            ],
            "type": "heatmapgl"
           }
          ],
          "histogram": [
           {
            "marker": {
             "colorbar": {
              "outlinewidth": 0,
              "ticks": ""
             }
            },
            "type": "histogram"
           }
          ],
          "histogram2d": [
           {
            "colorbar": {
             "outlinewidth": 0,
             "ticks": ""
            },
            "colorscale": [
             [
              0,
              "#0d0887"
             ],
             [
              0.1111111111111111,
              "#46039f"
             ],
             [
              0.2222222222222222,
              "#7201a8"
             ],
             [
              0.3333333333333333,
              "#9c179e"
             ],
             [
              0.4444444444444444,
              "#bd3786"
             ],
             [
              0.5555555555555556,
              "#d8576b"
             ],
             [
              0.6666666666666666,
              "#ed7953"
             ],
             [
              0.7777777777777778,
              "#fb9f3a"
             ],
             [
              0.8888888888888888,
              "#fdca26"
             ],
             [
              1,
              "#f0f921"
             ]
            ],
            "type": "histogram2d"
           }
          ],
          "histogram2dcontour": [
           {
            "colorbar": {
             "outlinewidth": 0,
             "ticks": ""
            },
            "colorscale": [
             [
              0,
              "#0d0887"
             ],
             [
              0.1111111111111111,
              "#46039f"
             ],
             [
              0.2222222222222222,
              "#7201a8"
             ],
             [
              0.3333333333333333,
              "#9c179e"
             ],
             [
              0.4444444444444444,
              "#bd3786"
             ],
             [
              0.5555555555555556,
              "#d8576b"
             ],
             [
              0.6666666666666666,
              "#ed7953"
             ],
             [
              0.7777777777777778,
              "#fb9f3a"
             ],
             [
              0.8888888888888888,
              "#fdca26"
             ],
             [
              1,
              "#f0f921"
             ]
            ],
            "type": "histogram2dcontour"
           }
          ],
          "mesh3d": [
           {
            "colorbar": {
             "outlinewidth": 0,
             "ticks": ""
            },
            "type": "mesh3d"
           }
          ],
          "parcoords": [
           {
            "line": {
             "colorbar": {
              "outlinewidth": 0,
              "ticks": ""
             }
            },
            "type": "parcoords"
           }
          ],
          "pie": [
           {
            "automargin": true,
            "type": "pie"
           }
          ],
          "scatter": [
           {
            "marker": {
             "colorbar": {
              "outlinewidth": 0,
              "ticks": ""
             }
            },
            "type": "scatter"
           }
          ],
          "scatter3d": [
           {
            "line": {
             "colorbar": {
              "outlinewidth": 0,
              "ticks": ""
             }
            },
            "marker": {
             "colorbar": {
              "outlinewidth": 0,
              "ticks": ""
             }
            },
            "type": "scatter3d"
           }
          ],
          "scattercarpet": [
           {
            "marker": {
             "colorbar": {
              "outlinewidth": 0,
              "ticks": ""
             }
            },
            "type": "scattercarpet"
           }
          ],
          "scattergeo": [
           {
            "marker": {
             "colorbar": {
              "outlinewidth": 0,
              "ticks": ""
             }
            },
            "type": "scattergeo"
           }
          ],
          "scattergl": [
           {
            "marker": {
             "colorbar": {
              "outlinewidth": 0,
              "ticks": ""
             }
            },
            "type": "scattergl"
           }
          ],
          "scattermapbox": [
           {
            "marker": {
             "colorbar": {
              "outlinewidth": 0,
              "ticks": ""
             }
            },
            "type": "scattermapbox"
           }
          ],
          "scatterpolar": [
           {
            "marker": {
             "colorbar": {
              "outlinewidth": 0,
              "ticks": ""
             }
            },
            "type": "scatterpolar"
           }
          ],
          "scatterpolargl": [
           {
            "marker": {
             "colorbar": {
              "outlinewidth": 0,
              "ticks": ""
             }
            },
            "type": "scatterpolargl"
           }
          ],
          "scatterternary": [
           {
            "marker": {
             "colorbar": {
              "outlinewidth": 0,
              "ticks": ""
             }
            },
            "type": "scatterternary"
           }
          ],
          "surface": [
           {
            "colorbar": {
             "outlinewidth": 0,
             "ticks": ""
            },
            "colorscale": [
             [
              0,
              "#0d0887"
             ],
             [
              0.1111111111111111,
              "#46039f"
             ],
             [
              0.2222222222222222,
              "#7201a8"
             ],
             [
              0.3333333333333333,
              "#9c179e"
             ],
             [
              0.4444444444444444,
              "#bd3786"
             ],
             [
              0.5555555555555556,
              "#d8576b"
             ],
             [
              0.6666666666666666,
              "#ed7953"
             ],
             [
              0.7777777777777778,
              "#fb9f3a"
             ],
             [
              0.8888888888888888,
              "#fdca26"
             ],
             [
              1,
              "#f0f921"
             ]
            ],
            "type": "surface"
           }
          ],
          "table": [
           {
            "cells": {
             "fill": {
              "color": "#EBF0F8"
             },
             "line": {
              "color": "white"
             }
            },
            "header": {
             "fill": {
              "color": "#C8D4E3"
             },
             "line": {
              "color": "white"
             }
            },
            "type": "table"
           }
          ]
         },
         "layout": {
          "annotationdefaults": {
           "arrowcolor": "#2a3f5f",
           "arrowhead": 0,
           "arrowwidth": 1
          },
          "autotypenumbers": "strict",
          "coloraxis": {
           "colorbar": {
            "outlinewidth": 0,
            "ticks": ""
           }
          },
          "colorscale": {
           "diverging": [
            [
             0,
             "#8e0152"
            ],
            [
             0.1,
             "#c51b7d"
            ],
            [
             0.2,
             "#de77ae"
            ],
            [
             0.3,
             "#f1b6da"
            ],
            [
             0.4,
             "#fde0ef"
            ],
            [
             0.5,
             "#f7f7f7"
            ],
            [
             0.6,
             "#e6f5d0"
            ],
            [
             0.7,
             "#b8e186"
            ],
            [
             0.8,
             "#7fbc41"
            ],
            [
             0.9,
             "#4d9221"
            ],
            [
             1,
             "#276419"
            ]
           ],
           "sequential": [
            [
             0,
             "#0d0887"
            ],
            [
             0.1111111111111111,
             "#46039f"
            ],
            [
             0.2222222222222222,
             "#7201a8"
            ],
            [
             0.3333333333333333,
             "#9c179e"
            ],
            [
             0.4444444444444444,
             "#bd3786"
            ],
            [
             0.5555555555555556,
             "#d8576b"
            ],
            [
             0.6666666666666666,
             "#ed7953"
            ],
            [
             0.7777777777777778,
             "#fb9f3a"
            ],
            [
             0.8888888888888888,
             "#fdca26"
            ],
            [
             1,
             "#f0f921"
            ]
           ],
           "sequentialminus": [
            [
             0,
             "#0d0887"
            ],
            [
             0.1111111111111111,
             "#46039f"
            ],
            [
             0.2222222222222222,
             "#7201a8"
            ],
            [
             0.3333333333333333,
             "#9c179e"
            ],
            [
             0.4444444444444444,
             "#bd3786"
            ],
            [
             0.5555555555555556,
             "#d8576b"
            ],
            [
             0.6666666666666666,
             "#ed7953"
            ],
            [
             0.7777777777777778,
             "#fb9f3a"
            ],
            [
             0.8888888888888888,
             "#fdca26"
            ],
            [
             1,
             "#f0f921"
            ]
           ]
          },
          "colorway": [
           "#636efa",
           "#EF553B",
           "#00cc96",
           "#ab63fa",
           "#FFA15A",
           "#19d3f3",
           "#FF6692",
           "#B6E880",
           "#FF97FF",
           "#FECB52"
          ],
          "font": {
           "color": "#2a3f5f"
          },
          "geo": {
           "bgcolor": "white",
           "lakecolor": "white",
           "landcolor": "#E5ECF6",
           "showlakes": true,
           "showland": true,
           "subunitcolor": "white"
          },
          "hoverlabel": {
           "align": "left"
          },
          "hovermode": "closest",
          "mapbox": {
           "style": "light"
          },
          "paper_bgcolor": "white",
          "plot_bgcolor": "#E5ECF6",
          "polar": {
           "angularaxis": {
            "gridcolor": "white",
            "linecolor": "white",
            "ticks": ""
           },
           "bgcolor": "#E5ECF6",
           "radialaxis": {
            "gridcolor": "white",
            "linecolor": "white",
            "ticks": ""
           }
          },
          "scene": {
           "xaxis": {
            "backgroundcolor": "#E5ECF6",
            "gridcolor": "white",
            "gridwidth": 2,
            "linecolor": "white",
            "showbackground": true,
            "ticks": "",
            "zerolinecolor": "white"
           },
           "yaxis": {
            "backgroundcolor": "#E5ECF6",
            "gridcolor": "white",
            "gridwidth": 2,
            "linecolor": "white",
            "showbackground": true,
            "ticks": "",
            "zerolinecolor": "white"
           },
           "zaxis": {
            "backgroundcolor": "#E5ECF6",
            "gridcolor": "white",
            "gridwidth": 2,
            "linecolor": "white",
            "showbackground": true,
            "ticks": "",
            "zerolinecolor": "white"
           }
          },
          "shapedefaults": {
           "line": {
            "color": "#2a3f5f"
           }
          },
          "ternary": {
           "aaxis": {
            "gridcolor": "white",
            "linecolor": "white",
            "ticks": ""
           },
           "baxis": {
            "gridcolor": "white",
            "linecolor": "white",
            "ticks": ""
           },
           "bgcolor": "#E5ECF6",
           "caxis": {
            "gridcolor": "white",
            "linecolor": "white",
            "ticks": ""
           }
          },
          "title": {
           "x": 0.05
          },
          "xaxis": {
           "automargin": true,
           "gridcolor": "white",
           "linecolor": "white",
           "ticks": "",
           "title": {
            "standoff": 15
           },
           "zerolinecolor": "white",
           "zerolinewidth": 2
          },
          "yaxis": {
           "automargin": true,
           "gridcolor": "white",
           "linecolor": "white",
           "ticks": "",
           "title": {
            "standoff": 15
           },
           "zerolinecolor": "white",
           "zerolinewidth": 2
          }
         }
        },
        "title": {
         "text": "Amlodipín - počet balení nad 50 000"
        },
        "xaxis": {
         "anchor": "y",
         "domain": [
          0,
          1
         ],
         "tickangle": 45,
         "title": {
          "text": " "
         }
        },
        "yaxis": {
         "anchor": "x",
         "domain": [
          0,
          1
         ],
         "title": {
          "text": "Počet balení"
         }
        }
       }
      }
     },
     "metadata": {}
    },
    {
     "output_type": "display_data",
     "data": {
      "text/plain": "                LIEK_popis STAT_popis                 VYROBCA_popis  index  \\\n0   \\tAmlodipin Vitabalans     Fínsko                 Vitabalans Oy   8326   \n1                    ACCEL     Cyprus               Medochemie Ltd.   4199   \n2                     AGEN      Česko                 Zentiva, k.s.   8352   \n3          AMLODIPIN HEXAL     Dánsko                     HEXAL A/S   2106   \n4     AMLODIPIN-RATIOPHARM    Nemecko               ratiopharm GmbH   4179   \n5                  AMLOPIN  Slovinsko      LEK Pharmaceuticals d.d.   4205   \n6              Amlodigamma    Nemecko  Artesan Pharma GmbH & Co. KG   2093   \n7        Amlodipin Actavis     Island         Actavis Group PTC ehf   4187   \n8      Amlodipin Stichting  Slovinsko   Sandoz Pharmaceuticals d.d.   6285   \n9               CARDILOPIN   Maďarsko      EGIS Pharmaceuticals PLC   4175   \n10                 NORVASC   Belgicko         Pfizer Europe MA EEIG   4209   \n11                   TENOX  Slovinsko         KRKA d.d., Novo mesto   4195   \n\n    Počet_balení  \n0       8133.700  \n1      39635.000  \n2    1042447.713  \n3          2.000  \n4     402849.470  \n5         13.000  \n6          2.000  \n7         16.000  \n8     415811.500  \n9      62800.500  \n10    123821.000  \n11     23809.000  ",
      "text/html": "<div>\n<style scoped>\n    .dataframe tbody tr th:only-of-type {\n        vertical-align: middle;\n    }\n\n    .dataframe tbody tr th {\n        vertical-align: top;\n    }\n\n    .dataframe thead th {\n        text-align: right;\n    }\n</style>\n<table border=\"1\" class=\"dataframe\">\n  <thead>\n    <tr style=\"text-align: right;\">\n      <th></th>\n      <th>LIEK_popis</th>\n      <th>STAT_popis</th>\n      <th>VYROBCA_popis</th>\n      <th>index</th>\n      <th>Počet_balení</th>\n    </tr>\n  </thead>\n  <tbody>\n    <tr>\n      <th>0</th>\n      <td>\\tAmlodipin Vitabalans</td>\n      <td>Fínsko</td>\n      <td>Vitabalans Oy</td>\n      <td>8326</td>\n      <td>8133.700</td>\n    </tr>\n    <tr>\n      <th>1</th>\n      <td>ACCEL</td>\n      <td>Cyprus</td>\n      <td>Medochemie Ltd.</td>\n      <td>4199</td>\n      <td>39635.000</td>\n    </tr>\n    <tr>\n      <th>2</th>\n      <td>AGEN</td>\n      <td>Česko</td>\n      <td>Zentiva, k.s.</td>\n      <td>8352</td>\n      <td>1042447.713</td>\n    </tr>\n    <tr>\n      <th>3</th>\n      <td>AMLODIPIN HEXAL</td>\n      <td>Dánsko</td>\n      <td>HEXAL A/S</td>\n      <td>2106</td>\n      <td>2.000</td>\n    </tr>\n    <tr>\n      <th>4</th>\n      <td>AMLODIPIN-RATIOPHARM</td>\n      <td>Nemecko</td>\n      <td>ratiopharm GmbH</td>\n      <td>4179</td>\n      <td>402849.470</td>\n    </tr>\n    <tr>\n      <th>5</th>\n      <td>AMLOPIN</td>\n      <td>Slovinsko</td>\n      <td>LEK Pharmaceuticals d.d.</td>\n      <td>4205</td>\n      <td>13.000</td>\n    </tr>\n    <tr>\n      <th>6</th>\n      <td>Amlodigamma</td>\n      <td>Nemecko</td>\n      <td>Artesan Pharma GmbH &amp; Co. KG</td>\n      <td>2093</td>\n      <td>2.000</td>\n    </tr>\n    <tr>\n      <th>7</th>\n      <td>Amlodipin Actavis</td>\n      <td>Island</td>\n      <td>Actavis Group PTC ehf</td>\n      <td>4187</td>\n      <td>16.000</td>\n    </tr>\n    <tr>\n      <th>8</th>\n      <td>Amlodipin Stichting</td>\n      <td>Slovinsko</td>\n      <td>Sandoz Pharmaceuticals d.d.</td>\n      <td>6285</td>\n      <td>415811.500</td>\n    </tr>\n    <tr>\n      <th>9</th>\n      <td>CARDILOPIN</td>\n      <td>Maďarsko</td>\n      <td>EGIS Pharmaceuticals PLC</td>\n      <td>4175</td>\n      <td>62800.500</td>\n    </tr>\n    <tr>\n      <th>10</th>\n      <td>NORVASC</td>\n      <td>Belgicko</td>\n      <td>Pfizer Europe MA EEIG</td>\n      <td>4209</td>\n      <td>123821.000</td>\n    </tr>\n    <tr>\n      <th>11</th>\n      <td>TENOX</td>\n      <td>Slovinsko</td>\n      <td>KRKA d.d., Novo mesto</td>\n      <td>4195</td>\n      <td>23809.000</td>\n    </tr>\n  </tbody>\n</table>\n</div>"
     },
     "metadata": {}
    }
   ],
   "source": [
    "fig = px.bar(amlodipin.query('Počet_balení > 50000').sort_values(by='Počet_balení', ascending=False), x='LIEK_popis', y='Počet_balení', color='STAT_popis', title='Amlodipín - počet balení nad 50 000',labels={'Počet_balení':'Počet balení', 'STAT_popis':' ', 'LIEK_popis':' '}, color_discrete_sequence=[modra, oranzova, zlta, ruzova,zelena])\n",
    "fig.update_xaxes(tickangle=45)\n",
    "fig.show()\n",
    "display(amlodipin)"
   ]
  },
  {
   "source": [
    "Mozeme si vsimnut ze najpouzivanejsie blokator vapnikovych kamenov s ucinnou latkou amlodipin je cesky Agen. Dalsimi ale menej pouzivanymi su slovinsky Amlodipin Stichting a nemecky Amlodipin-ratiopharm. Podla tabulky vidime, ze Slovensko taketo blokatory vapnikovych kamenov nevyraba."
   ],
   "cell_type": "markdown",
   "metadata": {}
  },
  {
   "source": [
    "# 7. Alprazolam"
   ],
   "cell_type": "markdown",
   "metadata": {}
  },
  {
   "cell_type": "code",
   "execution_count": 173,
   "metadata": {},
   "outputs": [
    {
     "output_type": "display_data",
     "data": {
      "text/plain": "         LIEK_popis STAT_popis                    VYROBCA_popis  index  \\\n0  Alprazolam Orion     Fínsko  Orion Corporation, Orion Pharma   7183   \n1           FRONTIN   Maďarsko         EGIS Pharmaceuticals PLC  35945   \n2             HELEX  Slovinsko            KRKA d.d., Novo mesto  43134   \n3            NEUROL      Česko                    Zentiva, k.s.  21597   \n4         NEUROL SR      Česko                    Zentiva a.s.    7196   \n5             XANAX   Belgicko            Pfizer Europe MA EEIG  43202   \n\n   Počet_balení  \n0          2.00  \n1     537957.20  \n2      65145.00  \n3    1056309.50  \n4          2.00  \n5     385706.03  ",
      "text/html": "<div>\n<style scoped>\n    .dataframe tbody tr th:only-of-type {\n        vertical-align: middle;\n    }\n\n    .dataframe tbody tr th {\n        vertical-align: top;\n    }\n\n    .dataframe thead th {\n        text-align: right;\n    }\n</style>\n<table border=\"1\" class=\"dataframe\">\n  <thead>\n    <tr style=\"text-align: right;\">\n      <th></th>\n      <th>LIEK_popis</th>\n      <th>STAT_popis</th>\n      <th>VYROBCA_popis</th>\n      <th>index</th>\n      <th>Počet_balení</th>\n    </tr>\n  </thead>\n  <tbody>\n    <tr>\n      <th>0</th>\n      <td>Alprazolam Orion</td>\n      <td>Fínsko</td>\n      <td>Orion Corporation, Orion Pharma</td>\n      <td>7183</td>\n      <td>2.00</td>\n    </tr>\n    <tr>\n      <th>1</th>\n      <td>FRONTIN</td>\n      <td>Maďarsko</td>\n      <td>EGIS Pharmaceuticals PLC</td>\n      <td>35945</td>\n      <td>537957.20</td>\n    </tr>\n    <tr>\n      <th>2</th>\n      <td>HELEX</td>\n      <td>Slovinsko</td>\n      <td>KRKA d.d., Novo mesto</td>\n      <td>43134</td>\n      <td>65145.00</td>\n    </tr>\n    <tr>\n      <th>3</th>\n      <td>NEUROL</td>\n      <td>Česko</td>\n      <td>Zentiva, k.s.</td>\n      <td>21597</td>\n      <td>1056309.50</td>\n    </tr>\n    <tr>\n      <th>4</th>\n      <td>NEUROL SR</td>\n      <td>Česko</td>\n      <td>Zentiva a.s.</td>\n      <td>7196</td>\n      <td>2.00</td>\n    </tr>\n    <tr>\n      <th>5</th>\n      <td>XANAX</td>\n      <td>Belgicko</td>\n      <td>Pfizer Europe MA EEIG</td>\n      <td>43202</td>\n      <td>385706.03</td>\n    </tr>\n  </tbody>\n</table>\n</div>"
     },
     "metadata": {}
    }
   ],
   "source": [
    "\n",
    "alprazolam = top15tab[\"N05BA12\"].sort_values(by='Počet_balení', ascending=False)\n",
    "\n",
    "for i,popis in enumerate(alprazolam['LIEK_popis']):\n",
    "    if 'Alprazolam Orion' in popis:\n",
    "        alprazolam.iloc[i,4] = 'Alprazolam Orion'\n",
    "    elif 'FRONTIN' in popis:\n",
    "        alprazolam.iloc[i,4] = 'FRONTIN'\n",
    "    elif 'HELEX' in popis:\n",
    "        alprazolam.iloc[i,4] = 'HELEX'\n",
    "    elif 'Helex' in popis:\n",
    "        alprazolam.iloc[i,4] = 'HELEX'\n",
    "    elif 'XANAX' in popis:\n",
    "        alprazolam.iloc[i,4] = 'XANAX'\n",
    "    elif 'NEUROL SR' in popis:\n",
    "        alprazolam.iloc[i,4] = 'NEUROL SR'\n",
    "    elif 'NEUROL' in popis:\n",
    "        alprazolam.iloc[i,4] = 'NEUROL'\n",
    "\n",
    "alprazolam = alprazolam.groupby(['LIEK_popis', 'STAT_popis', 'VYROBCA_popis']).sum().reset_index()\n",
    "display(alprazolam)"
   ]
  },
  {
   "cell_type": "code",
   "execution_count": 179,
   "metadata": {},
   "outputs": [
    {
     "output_type": "display_data",
     "data": {
      "application/vnd.plotly.v1+json": {
       "config": {
        "plotlyServerURL": "https://plot.ly"
       },
       "data": [
        {
         "alignmentgroup": "True",
         "hovertemplate": " =%{x}<br>Počet balení=%{y}<extra></extra>",
         "legendgroup": "Česko",
         "marker": {
          "color": "#4B6AAB"
         },
         "name": "Česko",
         "offsetgroup": "Česko",
         "orientation": "v",
         "showlegend": true,
         "textposition": "auto",
         "type": "bar",
         "x": [
          "NEUROL"
         ],
         "xaxis": "x",
         "y": [
          1056309.5
         ],
         "yaxis": "y"
        },
        {
         "alignmentgroup": "True",
         "hovertemplate": " =%{x}<br>Počet balení=%{y}<extra></extra>",
         "legendgroup": "Maďarsko",
         "marker": {
          "color": "#D8764C"
         },
         "name": "Maďarsko",
         "offsetgroup": "Maďarsko",
         "orientation": "v",
         "showlegend": true,
         "textposition": "auto",
         "type": "bar",
         "x": [
          "FRONTIN"
         ],
         "xaxis": "x",
         "y": [
          537957.2
         ],
         "yaxis": "y"
        },
        {
         "alignmentgroup": "True",
         "hovertemplate": " =%{x}<br>Počet balení=%{y}<extra></extra>",
         "legendgroup": "Belgicko",
         "marker": {
          "color": "#B75B9E"
         },
         "name": "Belgicko",
         "offsetgroup": "Belgicko",
         "orientation": "v",
         "showlegend": true,
         "textposition": "auto",
         "type": "bar",
         "x": [
          "XANAX"
         ],
         "xaxis": "x",
         "y": [
          385706.03
         ],
         "yaxis": "y"
        },
        {
         "alignmentgroup": "True",
         "hovertemplate": " =%{x}<br>Počet balení=%{y}<extra></extra>",
         "legendgroup": "Slovinsko",
         "marker": {
          "color": "#73B5AB"
         },
         "name": "Slovinsko",
         "offsetgroup": "Slovinsko",
         "orientation": "v",
         "showlegend": true,
         "textposition": "auto",
         "type": "bar",
         "x": [
          "HELEX"
         ],
         "xaxis": "x",
         "y": [
          65145
         ],
         "yaxis": "y"
        }
       ],
       "layout": {
        "barmode": "relative",
        "legend": {
         "title": {
          "text": " "
         },
         "tracegroupgap": 0
        },
        "template": {
         "data": {
          "bar": [
           {
            "error_x": {
             "color": "#2a3f5f"
            },
            "error_y": {
             "color": "#2a3f5f"
            },
            "marker": {
             "line": {
              "color": "#E5ECF6",
              "width": 0.5
             }
            },
            "type": "bar"
           }
          ],
          "barpolar": [
           {
            "marker": {
             "line": {
              "color": "#E5ECF6",
              "width": 0.5
             }
            },
            "type": "barpolar"
           }
          ],
          "carpet": [
           {
            "aaxis": {
             "endlinecolor": "#2a3f5f",
             "gridcolor": "white",
             "linecolor": "white",
             "minorgridcolor": "white",
             "startlinecolor": "#2a3f5f"
            },
            "baxis": {
             "endlinecolor": "#2a3f5f",
             "gridcolor": "white",
             "linecolor": "white",
             "minorgridcolor": "white",
             "startlinecolor": "#2a3f5f"
            },
            "type": "carpet"
           }
          ],
          "choropleth": [
           {
            "colorbar": {
             "outlinewidth": 0,
             "ticks": ""
            },
            "type": "choropleth"
           }
          ],
          "contour": [
           {
            "colorbar": {
             "outlinewidth": 0,
             "ticks": ""
            },
            "colorscale": [
             [
              0,
              "#0d0887"
             ],
             [
              0.1111111111111111,
              "#46039f"
             ],
             [
              0.2222222222222222,
              "#7201a8"
             ],
             [
              0.3333333333333333,
              "#9c179e"
             ],
             [
              0.4444444444444444,
              "#bd3786"
             ],
             [
              0.5555555555555556,
              "#d8576b"
             ],
             [
              0.6666666666666666,
              "#ed7953"
             ],
             [
              0.7777777777777778,
              "#fb9f3a"
             ],
             [
              0.8888888888888888,
              "#fdca26"
             ],
             [
              1,
              "#f0f921"
             ]
            ],
            "type": "contour"
           }
          ],
          "contourcarpet": [
           {
            "colorbar": {
             "outlinewidth": 0,
             "ticks": ""
            },
            "type": "contourcarpet"
           }
          ],
          "heatmap": [
           {
            "colorbar": {
             "outlinewidth": 0,
             "ticks": ""
            },
            "colorscale": [
             [
              0,
              "#0d0887"
             ],
             [
              0.1111111111111111,
              "#46039f"
             ],
             [
              0.2222222222222222,
              "#7201a8"
             ],
             [
              0.3333333333333333,
              "#9c179e"
             ],
             [
              0.4444444444444444,
              "#bd3786"
             ],
             [
              0.5555555555555556,
              "#d8576b"
             ],
             [
              0.6666666666666666,
              "#ed7953"
             ],
             [
              0.7777777777777778,
              "#fb9f3a"
             ],
             [
              0.8888888888888888,
              "#fdca26"
             ],
             [
              1,
              "#f0f921"
             ]
            ],
            "type": "heatmap"
           }
          ],
          "heatmapgl": [
           {
            "colorbar": {
             "outlinewidth": 0,
             "ticks": ""
            },
            "colorscale": [
             [
              0,
              "#0d0887"
             ],
             [
              0.1111111111111111,
              "#46039f"
             ],
             [
              0.2222222222222222,
              "#7201a8"
             ],
             [
              0.3333333333333333,
              "#9c179e"
             ],
             [
              0.4444444444444444,
              "#bd3786"
             ],
             [
              0.5555555555555556,
              "#d8576b"
             ],
             [
              0.6666666666666666,
              "#ed7953"
             ],
             [
              0.7777777777777778,
              "#fb9f3a"
             ],
             [
              0.8888888888888888,
              "#fdca26"
             ],
             [
              1,
              "#f0f921"
             ]
            ],
            "type": "heatmapgl"
           }
          ],
          "histogram": [
           {
            "marker": {
             "colorbar": {
              "outlinewidth": 0,
              "ticks": ""
             }
            },
            "type": "histogram"
           }
          ],
          "histogram2d": [
           {
            "colorbar": {
             "outlinewidth": 0,
             "ticks": ""
            },
            "colorscale": [
             [
              0,
              "#0d0887"
             ],
             [
              0.1111111111111111,
              "#46039f"
             ],
             [
              0.2222222222222222,
              "#7201a8"
             ],
             [
              0.3333333333333333,
              "#9c179e"
             ],
             [
              0.4444444444444444,
              "#bd3786"
             ],
             [
              0.5555555555555556,
              "#d8576b"
             ],
             [
              0.6666666666666666,
              "#ed7953"
             ],
             [
              0.7777777777777778,
              "#fb9f3a"
             ],
             [
              0.8888888888888888,
              "#fdca26"
             ],
             [
              1,
              "#f0f921"
             ]
            ],
            "type": "histogram2d"
           }
          ],
          "histogram2dcontour": [
           {
            "colorbar": {
             "outlinewidth": 0,
             "ticks": ""
            },
            "colorscale": [
             [
              0,
              "#0d0887"
             ],
             [
              0.1111111111111111,
              "#46039f"
             ],
             [
              0.2222222222222222,
              "#7201a8"
             ],
             [
              0.3333333333333333,
              "#9c179e"
             ],
             [
              0.4444444444444444,
              "#bd3786"
             ],
             [
              0.5555555555555556,
              "#d8576b"
             ],
             [
              0.6666666666666666,
              "#ed7953"
             ],
             [
              0.7777777777777778,
              "#fb9f3a"
             ],
             [
              0.8888888888888888,
              "#fdca26"
             ],
             [
              1,
              "#f0f921"
             ]
            ],
            "type": "histogram2dcontour"
           }
          ],
          "mesh3d": [
           {
            "colorbar": {
             "outlinewidth": 0,
             "ticks": ""
            },
            "type": "mesh3d"
           }
          ],
          "parcoords": [
           {
            "line": {
             "colorbar": {
              "outlinewidth": 0,
              "ticks": ""
             }
            },
            "type": "parcoords"
           }
          ],
          "pie": [
           {
            "automargin": true,
            "type": "pie"
           }
          ],
          "scatter": [
           {
            "marker": {
             "colorbar": {
              "outlinewidth": 0,
              "ticks": ""
             }
            },
            "type": "scatter"
           }
          ],
          "scatter3d": [
           {
            "line": {
             "colorbar": {
              "outlinewidth": 0,
              "ticks": ""
             }
            },
            "marker": {
             "colorbar": {
              "outlinewidth": 0,
              "ticks": ""
             }
            },
            "type": "scatter3d"
           }
          ],
          "scattercarpet": [
           {
            "marker": {
             "colorbar": {
              "outlinewidth": 0,
              "ticks": ""
             }
            },
            "type": "scattercarpet"
           }
          ],
          "scattergeo": [
           {
            "marker": {
             "colorbar": {
              "outlinewidth": 0,
              "ticks": ""
             }
            },
            "type": "scattergeo"
           }
          ],
          "scattergl": [
           {
            "marker": {
             "colorbar": {
              "outlinewidth": 0,
              "ticks": ""
             }
            },
            "type": "scattergl"
           }
          ],
          "scattermapbox": [
           {
            "marker": {
             "colorbar": {
              "outlinewidth": 0,
              "ticks": ""
             }
            },
            "type": "scattermapbox"
           }
          ],
          "scatterpolar": [
           {
            "marker": {
             "colorbar": {
              "outlinewidth": 0,
              "ticks": ""
             }
            },
            "type": "scatterpolar"
           }
          ],
          "scatterpolargl": [
           {
            "marker": {
             "colorbar": {
              "outlinewidth": 0,
              "ticks": ""
             }
            },
            "type": "scatterpolargl"
           }
          ],
          "scatterternary": [
           {
            "marker": {
             "colorbar": {
              "outlinewidth": 0,
              "ticks": ""
             }
            },
            "type": "scatterternary"
           }
          ],
          "surface": [
           {
            "colorbar": {
             "outlinewidth": 0,
             "ticks": ""
            },
            "colorscale": [
             [
              0,
              "#0d0887"
             ],
             [
              0.1111111111111111,
              "#46039f"
             ],
             [
              0.2222222222222222,
              "#7201a8"
             ],
             [
              0.3333333333333333,
              "#9c179e"
             ],
             [
              0.4444444444444444,
              "#bd3786"
             ],
             [
              0.5555555555555556,
              "#d8576b"
             ],
             [
              0.6666666666666666,
              "#ed7953"
             ],
             [
              0.7777777777777778,
              "#fb9f3a"
             ],
             [
              0.8888888888888888,
              "#fdca26"
             ],
             [
              1,
              "#f0f921"
             ]
            ],
            "type": "surface"
           }
          ],
          "table": [
           {
            "cells": {
             "fill": {
              "color": "#EBF0F8"
             },
             "line": {
              "color": "white"
             }
            },
            "header": {
             "fill": {
              "color": "#C8D4E3"
             },
             "line": {
              "color": "white"
             }
            },
            "type": "table"
           }
          ]
         },
         "layout": {
          "annotationdefaults": {
           "arrowcolor": "#2a3f5f",
           "arrowhead": 0,
           "arrowwidth": 1
          },
          "autotypenumbers": "strict",
          "coloraxis": {
           "colorbar": {
            "outlinewidth": 0,
            "ticks": ""
           }
          },
          "colorscale": {
           "diverging": [
            [
             0,
             "#8e0152"
            ],
            [
             0.1,
             "#c51b7d"
            ],
            [
             0.2,
             "#de77ae"
            ],
            [
             0.3,
             "#f1b6da"
            ],
            [
             0.4,
             "#fde0ef"
            ],
            [
             0.5,
             "#f7f7f7"
            ],
            [
             0.6,
             "#e6f5d0"
            ],
            [
             0.7,
             "#b8e186"
            ],
            [
             0.8,
             "#7fbc41"
            ],
            [
             0.9,
             "#4d9221"
            ],
            [
             1,
             "#276419"
            ]
           ],
           "sequential": [
            [
             0,
             "#0d0887"
            ],
            [
             0.1111111111111111,
             "#46039f"
            ],
            [
             0.2222222222222222,
             "#7201a8"
            ],
            [
             0.3333333333333333,
             "#9c179e"
            ],
            [
             0.4444444444444444,
             "#bd3786"
            ],
            [
             0.5555555555555556,
             "#d8576b"
            ],
            [
             0.6666666666666666,
             "#ed7953"
            ],
            [
             0.7777777777777778,
             "#fb9f3a"
            ],
            [
             0.8888888888888888,
             "#fdca26"
            ],
            [
             1,
             "#f0f921"
            ]
           ],
           "sequentialminus": [
            [
             0,
             "#0d0887"
            ],
            [
             0.1111111111111111,
             "#46039f"
            ],
            [
             0.2222222222222222,
             "#7201a8"
            ],
            [
             0.3333333333333333,
             "#9c179e"
            ],
            [
             0.4444444444444444,
             "#bd3786"
            ],
            [
             0.5555555555555556,
             "#d8576b"
            ],
            [
             0.6666666666666666,
             "#ed7953"
            ],
            [
             0.7777777777777778,
             "#fb9f3a"
            ],
            [
             0.8888888888888888,
             "#fdca26"
            ],
            [
             1,
             "#f0f921"
            ]
           ]
          },
          "colorway": [
           "#636efa",
           "#EF553B",
           "#00cc96",
           "#ab63fa",
           "#FFA15A",
           "#19d3f3",
           "#FF6692",
           "#B6E880",
           "#FF97FF",
           "#FECB52"
          ],
          "font": {
           "color": "#2a3f5f"
          },
          "geo": {
           "bgcolor": "white",
           "lakecolor": "white",
           "landcolor": "#E5ECF6",
           "showlakes": true,
           "showland": true,
           "subunitcolor": "white"
          },
          "hoverlabel": {
           "align": "left"
          },
          "hovermode": "closest",
          "mapbox": {
           "style": "light"
          },
          "paper_bgcolor": "white",
          "plot_bgcolor": "#E5ECF6",
          "polar": {
           "angularaxis": {
            "gridcolor": "white",
            "linecolor": "white",
            "ticks": ""
           },
           "bgcolor": "#E5ECF6",
           "radialaxis": {
            "gridcolor": "white",
            "linecolor": "white",
            "ticks": ""
           }
          },
          "scene": {
           "xaxis": {
            "backgroundcolor": "#E5ECF6",
            "gridcolor": "white",
            "gridwidth": 2,
            "linecolor": "white",
            "showbackground": true,
            "ticks": "",
            "zerolinecolor": "white"
           },
           "yaxis": {
            "backgroundcolor": "#E5ECF6",
            "gridcolor": "white",
            "gridwidth": 2,
            "linecolor": "white",
            "showbackground": true,
            "ticks": "",
            "zerolinecolor": "white"
           },
           "zaxis": {
            "backgroundcolor": "#E5ECF6",
            "gridcolor": "white",
            "gridwidth": 2,
            "linecolor": "white",
            "showbackground": true,
            "ticks": "",
            "zerolinecolor": "white"
           }
          },
          "shapedefaults": {
           "line": {
            "color": "#2a3f5f"
           }
          },
          "ternary": {
           "aaxis": {
            "gridcolor": "white",
            "linecolor": "white",
            "ticks": ""
           },
           "baxis": {
            "gridcolor": "white",
            "linecolor": "white",
            "ticks": ""
           },
           "bgcolor": "#E5ECF6",
           "caxis": {
            "gridcolor": "white",
            "linecolor": "white",
            "ticks": ""
           }
          },
          "title": {
           "x": 0.05
          },
          "xaxis": {
           "automargin": true,
           "gridcolor": "white",
           "linecolor": "white",
           "ticks": "",
           "title": {
            "standoff": 15
           },
           "zerolinecolor": "white",
           "zerolinewidth": 2
          },
          "yaxis": {
           "automargin": true,
           "gridcolor": "white",
           "linecolor": "white",
           "ticks": "",
           "title": {
            "standoff": 15
           },
           "zerolinecolor": "white",
           "zerolinewidth": 2
          }
         }
        },
        "title": {
         "text": "Alprazolam - počet balení nad 50 000"
        },
        "xaxis": {
         "anchor": "y",
         "domain": [
          0,
          1
         ],
         "tickangle": 45,
         "title": {
          "text": " "
         }
        },
        "yaxis": {
         "anchor": "x",
         "domain": [
          0,
          1
         ],
         "title": {
          "text": "Počet balení"
         }
        }
       }
      }
     },
     "metadata": {}
    }
   ],
   "source": [
    "fig = px.bar(alprazolam.query('Počet_balení > 50000').sort_values(by='Počet_balení', ascending=False), x='LIEK_popis', y='Počet_balení', color='STAT_popis', title='Alprazolam - počet balení nad 50 000',labels={'Počet_balení':'Počet balení', 'STAT_popis':' ', 'LIEK_popis':' '}, color_discrete_sequence=[modra, oranzova,ruzova, zelena])\n",
    "fig.update_xaxes(tickangle=45)\n",
    "fig.show()\n"
   ]
  },
  {
   "source": [
    " Najpuzivanejsim psycholeptikom s ucinnou latkou alprazolam je cesky Neurol. Priblizne o polovicu menej sa predavajuci madarsky Frontin a potom belgickz Xanax. Mozeme si vsimnut ze narozdiel od predchadzajuch grafov, ucinnu latku alprazolam pouziva menej liekov. Slovensko opat taketo psycholeptika nevyraba"
   ],
   "cell_type": "markdown",
   "metadata": {}
  },
  {
   "source": [
    "# 8. Diklofenak"
   ],
   "cell_type": "markdown",
   "metadata": {}
  },
  {
   "cell_type": "code",
   "execution_count": 178,
   "metadata": {},
   "outputs": [
    {
     "output_type": "display_data",
     "data": {
      "text/plain": "                      LIEK_popis STAT_popis  \\\n0                  AKIS Plus inj  Slovensko   \n1                       AKIS inj  Slovensko   \n2                    ALMIRAL inj     Cyprus   \n3                    ALMIRAL tbl     Cyprus   \n4              DICLAC RETARD tbl  Slovinsko   \n5           DICLOBENE RETARD tbl  Holandsko   \n6                  DICLOBENE tbl  Holandsko   \n7       DICLOFENAC AL RETARD tbl    Nemecko   \n8              DICLOFENAC AL tbl    Nemecko   \n9   DICLOFENAC DUO PHARMAVIT cps      Česko   \n10                 DICLOREUM sup  Taliansko   \n11                 DICLOREUM tbl  Taliansko   \n12                    Dicuno tbl     Fínsko   \n13              FLECTOR EP RAPID  Slovensko   \n14              VERAL RETARD tbl      Česko   \n15                     VERAL gel  Slovensko   \n16                 VERAL sol inj  Slovensko   \n17                     VERAL sup      Česko   \n18                     VERAL tbl      Česko   \n19            VOLTAREN RAPID tbl  Slovensko   \n20           VOLTAREN RETARD tbl  Slovensko   \n21              VOLTAREN sol ifc      Česko   \n22                  VOLTAREN sup  Slovensko   \n23                  VOLTAREN tbl  Slovensko   \n24     Voltaren ActiGo Extra tbl      Česko   \n25            Voltaren Rapid cps      Česko   \n\n                                        VYROBCA_popis  index  Počet_balení  \n0                                IBSA Slovakia s.r.o.  21978      6095.903  \n1                                IBSA Slovakia s.r.o.  21954       270.630  \n2                                     Medochemie Ltd.  16503    167768.830  \n3                                     Medochemie Ltd.   5499     28693.990  \n4                         Sandoz Pharmaceuticals d.d.  10966     11883.500  \n5                                           TEV-NL-4?  16407     57957.000  \n6                                           TEV-NL-4?  21862     46020.650  \n7                                   ALIUD PHARMA GmbH  11011        23.000  \n8                          Aliud Pharma GmbH & Co. KG  11013         4.000  \n9                  PharmaSwiss Česká republika s.r.o.   5510    170025.010  \n10                             Alfa Wassermann S.p.A.   5513         3.000  \n11                             Alfa Wassermann S.p.A.   5512        12.000  \n12                                      Vitabalans Oy  10923      2504.797  \n13                               IBSA Slovakia s.r.o.  10983    825870.470  \n14                          Herbacos Recordati s.r.o.  10965     80757.530  \n15                                       Zentiva a.s.  16440       368.000  \n16                                  Slovakofarma a.s.   5481         6.000  \n17                          Herbacos Recordati s.r.o.   5474         1.000  \n18                          Herbacos Recordati s.r.o.  27416     64051.168  \n19                           Novartis Slovakia s.r.o.   5480    163277.900  \n20                           Novartis Slovakia s.r.o.   5507      9310.960  \n21                                    Novartis s.r.o.   5508       102.500  \n22                           Novartis Slovakia s.r.o.   5498      5866.000  \n23                           Novartis Slovakia s.r.o.   5511      8390.000  \n24  GlaxoSmithKline Consumer Healthcare Czech Repu...  10983    126203.500  \n25  GlaxoSmithKline Consumer Healthcare Czech Repu...  16428    238259.180  ",
      "text/html": "<div>\n<style scoped>\n    .dataframe tbody tr th:only-of-type {\n        vertical-align: middle;\n    }\n\n    .dataframe tbody tr th {\n        vertical-align: top;\n    }\n\n    .dataframe thead th {\n        text-align: right;\n    }\n</style>\n<table border=\"1\" class=\"dataframe\">\n  <thead>\n    <tr style=\"text-align: right;\">\n      <th></th>\n      <th>LIEK_popis</th>\n      <th>STAT_popis</th>\n      <th>VYROBCA_popis</th>\n      <th>index</th>\n      <th>Počet_balení</th>\n    </tr>\n  </thead>\n  <tbody>\n    <tr>\n      <th>0</th>\n      <td>AKIS Plus inj</td>\n      <td>Slovensko</td>\n      <td>IBSA Slovakia s.r.o.</td>\n      <td>21978</td>\n      <td>6095.903</td>\n    </tr>\n    <tr>\n      <th>1</th>\n      <td>AKIS inj</td>\n      <td>Slovensko</td>\n      <td>IBSA Slovakia s.r.o.</td>\n      <td>21954</td>\n      <td>270.630</td>\n    </tr>\n    <tr>\n      <th>2</th>\n      <td>ALMIRAL inj</td>\n      <td>Cyprus</td>\n      <td>Medochemie Ltd.</td>\n      <td>16503</td>\n      <td>167768.830</td>\n    </tr>\n    <tr>\n      <th>3</th>\n      <td>ALMIRAL tbl</td>\n      <td>Cyprus</td>\n      <td>Medochemie Ltd.</td>\n      <td>5499</td>\n      <td>28693.990</td>\n    </tr>\n    <tr>\n      <th>4</th>\n      <td>DICLAC RETARD tbl</td>\n      <td>Slovinsko</td>\n      <td>Sandoz Pharmaceuticals d.d.</td>\n      <td>10966</td>\n      <td>11883.500</td>\n    </tr>\n    <tr>\n      <th>5</th>\n      <td>DICLOBENE RETARD tbl</td>\n      <td>Holandsko</td>\n      <td>TEV-NL-4?</td>\n      <td>16407</td>\n      <td>57957.000</td>\n    </tr>\n    <tr>\n      <th>6</th>\n      <td>DICLOBENE tbl</td>\n      <td>Holandsko</td>\n      <td>TEV-NL-4?</td>\n      <td>21862</td>\n      <td>46020.650</td>\n    </tr>\n    <tr>\n      <th>7</th>\n      <td>DICLOFENAC AL RETARD tbl</td>\n      <td>Nemecko</td>\n      <td>ALIUD PHARMA GmbH</td>\n      <td>11011</td>\n      <td>23.000</td>\n    </tr>\n    <tr>\n      <th>8</th>\n      <td>DICLOFENAC AL tbl</td>\n      <td>Nemecko</td>\n      <td>Aliud Pharma GmbH &amp; Co. KG</td>\n      <td>11013</td>\n      <td>4.000</td>\n    </tr>\n    <tr>\n      <th>9</th>\n      <td>DICLOFENAC DUO PHARMAVIT cps</td>\n      <td>Česko</td>\n      <td>PharmaSwiss Česká republika s.r.o.</td>\n      <td>5510</td>\n      <td>170025.010</td>\n    </tr>\n    <tr>\n      <th>10</th>\n      <td>DICLOREUM sup</td>\n      <td>Taliansko</td>\n      <td>Alfa Wassermann S.p.A.</td>\n      <td>5513</td>\n      <td>3.000</td>\n    </tr>\n    <tr>\n      <th>11</th>\n      <td>DICLOREUM tbl</td>\n      <td>Taliansko</td>\n      <td>Alfa Wassermann S.p.A.</td>\n      <td>5512</td>\n      <td>12.000</td>\n    </tr>\n    <tr>\n      <th>12</th>\n      <td>Dicuno tbl</td>\n      <td>Fínsko</td>\n      <td>Vitabalans Oy</td>\n      <td>10923</td>\n      <td>2504.797</td>\n    </tr>\n    <tr>\n      <th>13</th>\n      <td>FLECTOR EP RAPID</td>\n      <td>Slovensko</td>\n      <td>IBSA Slovakia s.r.o.</td>\n      <td>10983</td>\n      <td>825870.470</td>\n    </tr>\n    <tr>\n      <th>14</th>\n      <td>VERAL RETARD tbl</td>\n      <td>Česko</td>\n      <td>Herbacos Recordati s.r.o.</td>\n      <td>10965</td>\n      <td>80757.530</td>\n    </tr>\n    <tr>\n      <th>15</th>\n      <td>VERAL gel</td>\n      <td>Slovensko</td>\n      <td>Zentiva a.s.</td>\n      <td>16440</td>\n      <td>368.000</td>\n    </tr>\n    <tr>\n      <th>16</th>\n      <td>VERAL sol inj</td>\n      <td>Slovensko</td>\n      <td>Slovakofarma a.s.</td>\n      <td>5481</td>\n      <td>6.000</td>\n    </tr>\n    <tr>\n      <th>17</th>\n      <td>VERAL sup</td>\n      <td>Česko</td>\n      <td>Herbacos Recordati s.r.o.</td>\n      <td>5474</td>\n      <td>1.000</td>\n    </tr>\n    <tr>\n      <th>18</th>\n      <td>VERAL tbl</td>\n      <td>Česko</td>\n      <td>Herbacos Recordati s.r.o.</td>\n      <td>27416</td>\n      <td>64051.168</td>\n    </tr>\n    <tr>\n      <th>19</th>\n      <td>VOLTAREN RAPID tbl</td>\n      <td>Slovensko</td>\n      <td>Novartis Slovakia s.r.o.</td>\n      <td>5480</td>\n      <td>163277.900</td>\n    </tr>\n    <tr>\n      <th>20</th>\n      <td>VOLTAREN RETARD tbl</td>\n      <td>Slovensko</td>\n      <td>Novartis Slovakia s.r.o.</td>\n      <td>5507</td>\n      <td>9310.960</td>\n    </tr>\n    <tr>\n      <th>21</th>\n      <td>VOLTAREN sol ifc</td>\n      <td>Česko</td>\n      <td>Novartis s.r.o.</td>\n      <td>5508</td>\n      <td>102.500</td>\n    </tr>\n    <tr>\n      <th>22</th>\n      <td>VOLTAREN sup</td>\n      <td>Slovensko</td>\n      <td>Novartis Slovakia s.r.o.</td>\n      <td>5498</td>\n      <td>5866.000</td>\n    </tr>\n    <tr>\n      <th>23</th>\n      <td>VOLTAREN tbl</td>\n      <td>Slovensko</td>\n      <td>Novartis Slovakia s.r.o.</td>\n      <td>5511</td>\n      <td>8390.000</td>\n    </tr>\n    <tr>\n      <th>24</th>\n      <td>Voltaren ActiGo Extra tbl</td>\n      <td>Česko</td>\n      <td>GlaxoSmithKline Consumer Healthcare Czech Repu...</td>\n      <td>10983</td>\n      <td>126203.500</td>\n    </tr>\n    <tr>\n      <th>25</th>\n      <td>Voltaren Rapid cps</td>\n      <td>Česko</td>\n      <td>GlaxoSmithKline Consumer Healthcare Czech Repu...</td>\n      <td>16428</td>\n      <td>238259.180</td>\n    </tr>\n  </tbody>\n</table>\n</div>"
     },
     "metadata": {}
    }
   ],
   "source": [
    "diklofenak = top15tab[\"M01AB05\"].sort_values(by='Počet_balení', ascending=False)\n",
    "\n",
    "for i,popis in enumerate(diklofenak['LIEK_popis']):\n",
    "    if 'AKIS Plus' in popis:\n",
    "        diklofenak.iloc[i,4] = 'AKIS Plus inj'\n",
    "    elif 'AKIS' in popis:\n",
    "        diklofenak.iloc[i,4] = 'AKIS inj'\n",
    "    elif 'ALMIRAL inj' in popis:\n",
    "        diklofenak.iloc[i,4] = 'ALMIRAL inj'\n",
    "    elif 'ALMIRAL ' in popis:\n",
    "        diklofenak.iloc[i,4] = 'ALMIRAL tbl'\n",
    "    elif 'DICLAC RETARD tbl' in popis or 'Diclac retard' in popis:\n",
    "        diklofenak.iloc[i,4] = 'DICLAC RETARD tbl'\n",
    "    elif 'DICLOBENE' in popis and 'RETARD' in popis:\n",
    "        diklofenak.iloc[i,4] = 'DICLOBENE RETARD tbl'\n",
    "    elif 'DICLOBENE' in popis:\n",
    "        diklofenak.iloc[i,4] = 'DICLOBENE tbl'\n",
    "    elif 'DICLOFENAC AL RETARD' in popis:\n",
    "        diklofenak.iloc[i,4] = 'DICLOFENAC AL RETARD tbl'\n",
    "    elif 'DICLOFENAC AL' in popis:\n",
    "        diklofenak.iloc[i,4] = 'DICLOFENAC AL tbl'\n",
    "    elif 'DICLOFENAC DUO PHARMAVIT' in popis:\n",
    "        diklofenak.iloc[i,4] = 'DICLOFENAC DUO PHARMAVIT cps'\n",
    "    elif 'DICLOREUM tbl' in popis:\n",
    "        diklofenak.iloc[i,4] = 'DICLOREUM tbl'\n",
    "    elif 'DICLOREUM' in popis:\n",
    "        diklofenak.iloc[i,4] = 'DICLOREUM sup'\n",
    "    elif 'Dicuno' in popis:\n",
    "        diklofenak.iloc[i,4] = 'Dicuno tbl'\n",
    "    elif 'FLECTOR EP RAPID' in popis:\n",
    "        diklofenak.iloc[i,4] = 'FLECTOR EP RAPID'\n",
    "    elif 'VERAL' in popis and 'RETARD' in popis:\n",
    "        diklofenak.iloc[i,4] = 'VERAL RETARD tbl'\n",
    "    elif 'VERAL' in popis and 'tbl' in popis:\n",
    "        diklofenak.iloc[i,4] = 'VERAL tbl'\n",
    "    elif 'VERAL' in popis and 'sup' in popis:\n",
    "        diklofenak.iloc[i,4] = 'VERAL sup'\n",
    "    elif 'VERAL' in popis and 'sol' in popis:\n",
    "        diklofenak.iloc[i,4] = 'VERAL sol inj'\n",
    "    elif 'VERAL' in popis and 'gel' in popis:\n",
    "        diklofenak.iloc[i,4] = 'VERAL gel'\n",
    "    elif 'VOLTAREN 100 sup' in popis:\n",
    "        diklofenak.iloc[i,4] = 'VOLTAREN sup'\n",
    "    elif 'VOLTAREN 50 tbl' in popis:\n",
    "        diklofenak.iloc[i,4] = 'VOLTAREN tbl'\n",
    "    elif 'VOLTAREN RAPID' in popis:\n",
    "        diklofenak.iloc[i,4] = 'VOLTAREN RAPID tbl'\n",
    "    elif 'VOLTAREN' in popis and 'sol' in popis:\n",
    "        diklofenak.iloc[i,4] = 'VOLTAREN sol ifc'\n",
    "    elif 'Voltaren ActiGo Extra' in popis:\n",
    "        diklofenak.iloc[i,4] = 'Voltaren ActiGo Extra tbl'\n",
    "    elif 'Voltaren Actigo Extra' in popis:\n",
    "        diklofenak.iloc[i,4] = 'Voltaren ActiGo Extra tbl'\n",
    "    elif 'Voltaren Rapid' in popis:\n",
    "        diklofenak.iloc[i,4] = 'Voltaren Rapid cps'\n",
    "    elif 'VOLTAREN RETARD' in popis:\n",
    "        diklofenak.iloc[i,4] = 'VOLTAREN RETARD tbl'\n",
    "    \n",
    "diklofenak = diklofenak.groupby(['LIEK_popis', 'STAT_popis', 'VYROBCA_popis']).sum().reset_index()\n",
    "display(diklofenak)"
   ]
  },
  {
   "cell_type": "code",
   "execution_count": 200,
   "metadata": {},
   "outputs": [
    {
     "output_type": "display_data",
     "data": {
      "application/vnd.plotly.v1+json": {
       "config": {
        "plotlyServerURL": "https://plot.ly"
       },
       "data": [
        {
         "alignmentgroup": "True",
         "hovertemplate": " =%{x}<br>Počet balení=%{y}<extra></extra>",
         "legendgroup": "Slovensko",
         "marker": {
          "color": "#4B6AAB"
         },
         "name": "Slovensko",
         "offsetgroup": "Slovensko",
         "orientation": "v",
         "showlegend": true,
         "textposition": "auto",
         "type": "bar",
         "x": [
          "FLECTOR EP RAPID",
          "VOLTAREN RAPID tbl"
         ],
         "xaxis": "x",
         "y": [
          825870.47,
          163277.9
         ],
         "yaxis": "y"
        },
        {
         "alignmentgroup": "True",
         "hovertemplate": " =%{x}<br>Počet balení=%{y}<extra></extra>",
         "legendgroup": "Česko",
         "marker": {
          "color": "#D8764C"
         },
         "name": "Česko",
         "offsetgroup": "Česko",
         "orientation": "v",
         "showlegend": true,
         "textposition": "auto",
         "type": "bar",
         "x": [
          "Voltaren Rapid cps",
          "DICLOFENAC DUO PHARMAVIT cps",
          "Voltaren ActiGo Extra tbl",
          "VERAL RETARD tbl",
          "VERAL tbl"
         ],
         "xaxis": "x",
         "y": [
          238259.18,
          170025.00999999998,
          126203.5,
          80757.53,
          64051.168
         ],
         "yaxis": "y"
        },
        {
         "alignmentgroup": "True",
         "hovertemplate": " =%{x}<br>Počet balení=%{y}<extra></extra>",
         "legendgroup": "Cyprus",
         "marker": {
          "color": "#F1C75B"
         },
         "name": "Cyprus",
         "offsetgroup": "Cyprus",
         "orientation": "v",
         "showlegend": true,
         "textposition": "auto",
         "type": "bar",
         "x": [
          "ALMIRAL inj"
         ],
         "xaxis": "x",
         "y": [
          167768.83000000002
         ],
         "yaxis": "y"
        },
        {
         "alignmentgroup": "True",
         "hovertemplate": " =%{x}<br>Počet balení=%{y}<extra></extra>",
         "legendgroup": "Holandsko",
         "marker": {
          "color": "#B75B9E"
         },
         "name": "Holandsko",
         "offsetgroup": "Holandsko",
         "orientation": "v",
         "showlegend": true,
         "textposition": "auto",
         "type": "bar",
         "x": [
          "DICLOBENE RETARD tbl"
         ],
         "xaxis": "x",
         "y": [
          57957
         ],
         "yaxis": "y"
        }
       ],
       "layout": {
        "barmode": "relative",
        "legend": {
         "title": {
          "text": " "
         },
         "tracegroupgap": 0
        },
        "template": {
         "data": {
          "bar": [
           {
            "error_x": {
             "color": "#2a3f5f"
            },
            "error_y": {
             "color": "#2a3f5f"
            },
            "marker": {
             "line": {
              "color": "#E5ECF6",
              "width": 0.5
             }
            },
            "type": "bar"
           }
          ],
          "barpolar": [
           {
            "marker": {
             "line": {
              "color": "#E5ECF6",
              "width": 0.5
             }
            },
            "type": "barpolar"
           }
          ],
          "carpet": [
           {
            "aaxis": {
             "endlinecolor": "#2a3f5f",
             "gridcolor": "white",
             "linecolor": "white",
             "minorgridcolor": "white",
             "startlinecolor": "#2a3f5f"
            },
            "baxis": {
             "endlinecolor": "#2a3f5f",
             "gridcolor": "white",
             "linecolor": "white",
             "minorgridcolor": "white",
             "startlinecolor": "#2a3f5f"
            },
            "type": "carpet"
           }
          ],
          "choropleth": [
           {
            "colorbar": {
             "outlinewidth": 0,
             "ticks": ""
            },
            "type": "choropleth"
           }
          ],
          "contour": [
           {
            "colorbar": {
             "outlinewidth": 0,
             "ticks": ""
            },
            "colorscale": [
             [
              0,
              "#0d0887"
             ],
             [
              0.1111111111111111,
              "#46039f"
             ],
             [
              0.2222222222222222,
              "#7201a8"
             ],
             [
              0.3333333333333333,
              "#9c179e"
             ],
             [
              0.4444444444444444,
              "#bd3786"
             ],
             [
              0.5555555555555556,
              "#d8576b"
             ],
             [
              0.6666666666666666,
              "#ed7953"
             ],
             [
              0.7777777777777778,
              "#fb9f3a"
             ],
             [
              0.8888888888888888,
              "#fdca26"
             ],
             [
              1,
              "#f0f921"
             ]
            ],
            "type": "contour"
           }
          ],
          "contourcarpet": [
           {
            "colorbar": {
             "outlinewidth": 0,
             "ticks": ""
            },
            "type": "contourcarpet"
           }
          ],
          "heatmap": [
           {
            "colorbar": {
             "outlinewidth": 0,
             "ticks": ""
            },
            "colorscale": [
             [
              0,
              "#0d0887"
             ],
             [
              0.1111111111111111,
              "#46039f"
             ],
             [
              0.2222222222222222,
              "#7201a8"
             ],
             [
              0.3333333333333333,
              "#9c179e"
             ],
             [
              0.4444444444444444,
              "#bd3786"
             ],
             [
              0.5555555555555556,
              "#d8576b"
             ],
             [
              0.6666666666666666,
              "#ed7953"
             ],
             [
              0.7777777777777778,
              "#fb9f3a"
             ],
             [
              0.8888888888888888,
              "#fdca26"
             ],
             [
              1,
              "#f0f921"
             ]
            ],
            "type": "heatmap"
           }
          ],
          "heatmapgl": [
           {
            "colorbar": {
             "outlinewidth": 0,
             "ticks": ""
            },
            "colorscale": [
             [
              0,
              "#0d0887"
             ],
             [
              0.1111111111111111,
              "#46039f"
             ],
             [
              0.2222222222222222,
              "#7201a8"
             ],
             [
              0.3333333333333333,
              "#9c179e"
             ],
             [
              0.4444444444444444,
              "#bd3786"
             ],
             [
              0.5555555555555556,
              "#d8576b"
             ],
             [
              0.6666666666666666,
              "#ed7953"
             ],
             [
              0.7777777777777778,
              "#fb9f3a"
             ],
             [
              0.8888888888888888,
              "#fdca26"
             ],
             [
              1,
              "#f0f921"
             ]
            ],
            "type": "heatmapgl"
           }
          ],
          "histogram": [
           {
            "marker": {
             "colorbar": {
              "outlinewidth": 0,
              "ticks": ""
             }
            },
            "type": "histogram"
           }
          ],
          "histogram2d": [
           {
            "colorbar": {
             "outlinewidth": 0,
             "ticks": ""
            },
            "colorscale": [
             [
              0,
              "#0d0887"
             ],
             [
              0.1111111111111111,
              "#46039f"
             ],
             [
              0.2222222222222222,
              "#7201a8"
             ],
             [
              0.3333333333333333,
              "#9c179e"
             ],
             [
              0.4444444444444444,
              "#bd3786"
             ],
             [
              0.5555555555555556,
              "#d8576b"
             ],
             [
              0.6666666666666666,
              "#ed7953"
             ],
             [
              0.7777777777777778,
              "#fb9f3a"
             ],
             [
              0.8888888888888888,
              "#fdca26"
             ],
             [
              1,
              "#f0f921"
             ]
            ],
            "type": "histogram2d"
           }
          ],
          "histogram2dcontour": [
           {
            "colorbar": {
             "outlinewidth": 0,
             "ticks": ""
            },
            "colorscale": [
             [
              0,
              "#0d0887"
             ],
             [
              0.1111111111111111,
              "#46039f"
             ],
             [
              0.2222222222222222,
              "#7201a8"
             ],
             [
              0.3333333333333333,
              "#9c179e"
             ],
             [
              0.4444444444444444,
              "#bd3786"
             ],
             [
              0.5555555555555556,
              "#d8576b"
             ],
             [
              0.6666666666666666,
              "#ed7953"
             ],
             [
              0.7777777777777778,
              "#fb9f3a"
             ],
             [
              0.8888888888888888,
              "#fdca26"
             ],
             [
              1,
              "#f0f921"
             ]
            ],
            "type": "histogram2dcontour"
           }
          ],
          "mesh3d": [
           {
            "colorbar": {
             "outlinewidth": 0,
             "ticks": ""
            },
            "type": "mesh3d"
           }
          ],
          "parcoords": [
           {
            "line": {
             "colorbar": {
              "outlinewidth": 0,
              "ticks": ""
             }
            },
            "type": "parcoords"
           }
          ],
          "pie": [
           {
            "automargin": true,
            "type": "pie"
           }
          ],
          "scatter": [
           {
            "marker": {
             "colorbar": {
              "outlinewidth": 0,
              "ticks": ""
             }
            },
            "type": "scatter"
           }
          ],
          "scatter3d": [
           {
            "line": {
             "colorbar": {
              "outlinewidth": 0,
              "ticks": ""
             }
            },
            "marker": {
             "colorbar": {
              "outlinewidth": 0,
              "ticks": ""
             }
            },
            "type": "scatter3d"
           }
          ],
          "scattercarpet": [
           {
            "marker": {
             "colorbar": {
              "outlinewidth": 0,
              "ticks": ""
             }
            },
            "type": "scattercarpet"
           }
          ],
          "scattergeo": [
           {
            "marker": {
             "colorbar": {
              "outlinewidth": 0,
              "ticks": ""
             }
            },
            "type": "scattergeo"
           }
          ],
          "scattergl": [
           {
            "marker": {
             "colorbar": {
              "outlinewidth": 0,
              "ticks": ""
             }
            },
            "type": "scattergl"
           }
          ],
          "scattermapbox": [
           {
            "marker": {
             "colorbar": {
              "outlinewidth": 0,
              "ticks": ""
             }
            },
            "type": "scattermapbox"
           }
          ],
          "scatterpolar": [
           {
            "marker": {
             "colorbar": {
              "outlinewidth": 0,
              "ticks": ""
             }
            },
            "type": "scatterpolar"
           }
          ],
          "scatterpolargl": [
           {
            "marker": {
             "colorbar": {
              "outlinewidth": 0,
              "ticks": ""
             }
            },
            "type": "scatterpolargl"
           }
          ],
          "scatterternary": [
           {
            "marker": {
             "colorbar": {
              "outlinewidth": 0,
              "ticks": ""
             }
            },
            "type": "scatterternary"
           }
          ],
          "surface": [
           {
            "colorbar": {
             "outlinewidth": 0,
             "ticks": ""
            },
            "colorscale": [
             [
              0,
              "#0d0887"
             ],
             [
              0.1111111111111111,
              "#46039f"
             ],
             [
              0.2222222222222222,
              "#7201a8"
             ],
             [
              0.3333333333333333,
              "#9c179e"
             ],
             [
              0.4444444444444444,
              "#bd3786"
             ],
             [
              0.5555555555555556,
              "#d8576b"
             ],
             [
              0.6666666666666666,
              "#ed7953"
             ],
             [
              0.7777777777777778,
              "#fb9f3a"
             ],
             [
              0.8888888888888888,
              "#fdca26"
             ],
             [
              1,
              "#f0f921"
             ]
            ],
            "type": "surface"
           }
          ],
          "table": [
           {
            "cells": {
             "fill": {
              "color": "#EBF0F8"
             },
             "line": {
              "color": "white"
             }
            },
            "header": {
             "fill": {
              "color": "#C8D4E3"
             },
             "line": {
              "color": "white"
             }
            },
            "type": "table"
           }
          ]
         },
         "layout": {
          "annotationdefaults": {
           "arrowcolor": "#2a3f5f",
           "arrowhead": 0,
           "arrowwidth": 1
          },
          "autotypenumbers": "strict",
          "coloraxis": {
           "colorbar": {
            "outlinewidth": 0,
            "ticks": ""
           }
          },
          "colorscale": {
           "diverging": [
            [
             0,
             "#8e0152"
            ],
            [
             0.1,
             "#c51b7d"
            ],
            [
             0.2,
             "#de77ae"
            ],
            [
             0.3,
             "#f1b6da"
            ],
            [
             0.4,
             "#fde0ef"
            ],
            [
             0.5,
             "#f7f7f7"
            ],
            [
             0.6,
             "#e6f5d0"
            ],
            [
             0.7,
             "#b8e186"
            ],
            [
             0.8,
             "#7fbc41"
            ],
            [
             0.9,
             "#4d9221"
            ],
            [
             1,
             "#276419"
            ]
           ],
           "sequential": [
            [
             0,
             "#0d0887"
            ],
            [
             0.1111111111111111,
             "#46039f"
            ],
            [
             0.2222222222222222,
             "#7201a8"
            ],
            [
             0.3333333333333333,
             "#9c179e"
            ],
            [
             0.4444444444444444,
             "#bd3786"
            ],
            [
             0.5555555555555556,
             "#d8576b"
            ],
            [
             0.6666666666666666,
             "#ed7953"
            ],
            [
             0.7777777777777778,
             "#fb9f3a"
            ],
            [
             0.8888888888888888,
             "#fdca26"
            ],
            [
             1,
             "#f0f921"
            ]
           ],
           "sequentialminus": [
            [
             0,
             "#0d0887"
            ],
            [
             0.1111111111111111,
             "#46039f"
            ],
            [
             0.2222222222222222,
             "#7201a8"
            ],
            [
             0.3333333333333333,
             "#9c179e"
            ],
            [
             0.4444444444444444,
             "#bd3786"
            ],
            [
             0.5555555555555556,
             "#d8576b"
            ],
            [
             0.6666666666666666,
             "#ed7953"
            ],
            [
             0.7777777777777778,
             "#fb9f3a"
            ],
            [
             0.8888888888888888,
             "#fdca26"
            ],
            [
             1,
             "#f0f921"
            ]
           ]
          },
          "colorway": [
           "#636efa",
           "#EF553B",
           "#00cc96",
           "#ab63fa",
           "#FFA15A",
           "#19d3f3",
           "#FF6692",
           "#B6E880",
           "#FF97FF",
           "#FECB52"
          ],
          "font": {
           "color": "#2a3f5f"
          },
          "geo": {
           "bgcolor": "white",
           "lakecolor": "white",
           "landcolor": "#E5ECF6",
           "showlakes": true,
           "showland": true,
           "subunitcolor": "white"
          },
          "hoverlabel": {
           "align": "left"
          },
          "hovermode": "closest",
          "mapbox": {
           "style": "light"
          },
          "paper_bgcolor": "white",
          "plot_bgcolor": "#E5ECF6",
          "polar": {
           "angularaxis": {
            "gridcolor": "white",
            "linecolor": "white",
            "ticks": ""
           },
           "bgcolor": "#E5ECF6",
           "radialaxis": {
            "gridcolor": "white",
            "linecolor": "white",
            "ticks": ""
           }
          },
          "scene": {
           "xaxis": {
            "backgroundcolor": "#E5ECF6",
            "gridcolor": "white",
            "gridwidth": 2,
            "linecolor": "white",
            "showbackground": true,
            "ticks": "",
            "zerolinecolor": "white"
           },
           "yaxis": {
            "backgroundcolor": "#E5ECF6",
            "gridcolor": "white",
            "gridwidth": 2,
            "linecolor": "white",
            "showbackground": true,
            "ticks": "",
            "zerolinecolor": "white"
           },
           "zaxis": {
            "backgroundcolor": "#E5ECF6",
            "gridcolor": "white",
            "gridwidth": 2,
            "linecolor": "white",
            "showbackground": true,
            "ticks": "",
            "zerolinecolor": "white"
           }
          },
          "shapedefaults": {
           "line": {
            "color": "#2a3f5f"
           }
          },
          "ternary": {
           "aaxis": {
            "gridcolor": "white",
            "linecolor": "white",
            "ticks": ""
           },
           "baxis": {
            "gridcolor": "white",
            "linecolor": "white",
            "ticks": ""
           },
           "bgcolor": "#E5ECF6",
           "caxis": {
            "gridcolor": "white",
            "linecolor": "white",
            "ticks": ""
           }
          },
          "title": {
           "x": 0.05
          },
          "xaxis": {
           "automargin": true,
           "gridcolor": "white",
           "linecolor": "white",
           "ticks": "",
           "title": {
            "standoff": 15
           },
           "zerolinecolor": "white",
           "zerolinewidth": 2
          },
          "yaxis": {
           "automargin": true,
           "gridcolor": "white",
           "linecolor": "white",
           "ticks": "",
           "title": {
            "standoff": 15
           },
           "zerolinecolor": "white",
           "zerolinewidth": 2
          }
         }
        },
        "title": {
         "text": "Diklofenak - počet balení nad 50 000"
        },
        "xaxis": {
         "anchor": "y",
         "domain": [
          0,
          1
         ],
         "tickangle": 45,
         "title": {
          "text": " "
         }
        },
        "yaxis": {
         "anchor": "x",
         "domain": [
          0,
          1
         ],
         "title": {
          "text": "Počet balení"
         }
        }
       }
      }
     },
     "metadata": {}
    }
   ],
   "source": [
    "fig = px.bar(diklofenak.query('Počet_balení > 50000').sort_values(by='Počet_balení', ascending=False), x='LIEK_popis', y='Počet_balení', color='STAT_popis', title='Diklofenak - počet balení nad 50 000',labels={'Počet_balení':'Počet balení', 'STAT_popis':' ', 'LIEK_popis':' '}, color_discrete_sequence=[modra, oranzova, zlta, ruzova, zelena])\n",
    "fig.update_xaxes(tickangle=45)\n",
    "fig.show()"
   ]
  },
  {
   "cell_type": "code",
   "execution_count": 192,
   "metadata": {},
   "outputs": [
    {
     "output_type": "display_data",
     "data": {
      "text/plain": "  STAT_popis  index  Počet_balení\n0     Cyprus  22002    196462.820\n1  Holandsko  38269    103977.650\n2  Slovensko  98832   1019455.863\n3        iné  54938     14430.297\n4      Česko  82284    679399.888",
      "text/html": "<div>\n<style scoped>\n    .dataframe tbody tr th:only-of-type {\n        vertical-align: middle;\n    }\n\n    .dataframe tbody tr th {\n        vertical-align: top;\n    }\n\n    .dataframe thead th {\n        text-align: right;\n    }\n</style>\n<table border=\"1\" class=\"dataframe\">\n  <thead>\n    <tr style=\"text-align: right;\">\n      <th></th>\n      <th>STAT_popis</th>\n      <th>index</th>\n      <th>Počet_balení</th>\n    </tr>\n  </thead>\n  <tbody>\n    <tr>\n      <th>0</th>\n      <td>Cyprus</td>\n      <td>22002</td>\n      <td>196462.820</td>\n    </tr>\n    <tr>\n      <th>1</th>\n      <td>Holandsko</td>\n      <td>38269</td>\n      <td>103977.650</td>\n    </tr>\n    <tr>\n      <th>2</th>\n      <td>Slovensko</td>\n      <td>98832</td>\n      <td>1019455.863</td>\n    </tr>\n    <tr>\n      <th>3</th>\n      <td>iné</td>\n      <td>54938</td>\n      <td>14430.297</td>\n    </tr>\n    <tr>\n      <th>4</th>\n      <td>Česko</td>\n      <td>82284</td>\n      <td>679399.888</td>\n    </tr>\n  </tbody>\n</table>\n</div>"
     },
     "metadata": {}
    }
   ],
   "source": [
    "diklofenak_krajiny = diklofenak.groupby('STAT_popis').sum().reset_index().sort_values(by='Počet_balení')\n",
    "for i,popis in enumerate(diklofenak_krajiny['STAT_popis']):\n",
    "    if 'Taliansko' in popis:\n",
    "        diklofenak_krajiny.iloc[i,0] = 'iné'\n",
    "    elif 'Nemecko' in popis:\n",
    "        diklofenak_krajiny.iloc[i,0] = 'iné'\n",
    "    elif 'Fínsko' in popis:\n",
    "        diklofenak_krajiny.iloc[i,0] = 'iné'\n",
    "    elif 'Slovinsko' in popis:\n",
    "        diklofenak_krajiny.iloc[i,0] = 'iné'\n",
    "diklofenak_krajiny = diklofenak_krajiny.groupby(['STAT_popis']).sum().reset_index()\n",
    "display(diklofenak_krajiny)"
   ]
  },
  {
   "cell_type": "code",
   "execution_count": 202,
   "metadata": {},
   "outputs": [
    {
     "output_type": "display_data",
     "data": {
      "application/vnd.plotly.v1+json": {
       "config": {
        "plotlyServerURL": "https://plot.ly"
       },
       "data": [
        {
         "domain": {
          "x": [
           0,
           1
          ],
          "y": [
           0,
           1
          ]
         },
         "hovertemplate": "STAT_popis=%{label}<br>Počet_balení=%{value}<extra></extra>",
         "labels": [
          "Cyprus",
          "Holandsko",
          "Slovensko",
          "iné",
          "Česko"
         ],
         "legendgroup": "",
         "name": "",
         "showlegend": true,
         "type": "pie",
         "values": [
          196462.82,
          103977.65,
          1019455.863,
          14430.297,
          679399.888
         ]
        }
       ],
       "layout": {
        "legend": {
         "tracegroupgap": 0
        },
        "piecolorway": [
         "#4B6AAB",
         "#D8764C",
         "#F1C75B",
         "#B75B9E",
         "#73B5AB"
        ],
        "template": {
         "data": {
          "bar": [
           {
            "error_x": {
             "color": "#2a3f5f"
            },
            "error_y": {
             "color": "#2a3f5f"
            },
            "marker": {
             "line": {
              "color": "#E5ECF6",
              "width": 0.5
             }
            },
            "type": "bar"
           }
          ],
          "barpolar": [
           {
            "marker": {
             "line": {
              "color": "#E5ECF6",
              "width": 0.5
             }
            },
            "type": "barpolar"
           }
          ],
          "carpet": [
           {
            "aaxis": {
             "endlinecolor": "#2a3f5f",
             "gridcolor": "white",
             "linecolor": "white",
             "minorgridcolor": "white",
             "startlinecolor": "#2a3f5f"
            },
            "baxis": {
             "endlinecolor": "#2a3f5f",
             "gridcolor": "white",
             "linecolor": "white",
             "minorgridcolor": "white",
             "startlinecolor": "#2a3f5f"
            },
            "type": "carpet"
           }
          ],
          "choropleth": [
           {
            "colorbar": {
             "outlinewidth": 0,
             "ticks": ""
            },
            "type": "choropleth"
           }
          ],
          "contour": [
           {
            "colorbar": {
             "outlinewidth": 0,
             "ticks": ""
            },
            "colorscale": [
             [
              0,
              "#0d0887"
             ],
             [
              0.1111111111111111,
              "#46039f"
             ],
             [
              0.2222222222222222,
              "#7201a8"
             ],
             [
              0.3333333333333333,
              "#9c179e"
             ],
             [
              0.4444444444444444,
              "#bd3786"
             ],
             [
              0.5555555555555556,
              "#d8576b"
             ],
             [
              0.6666666666666666,
              "#ed7953"
             ],
             [
              0.7777777777777778,
              "#fb9f3a"
             ],
             [
              0.8888888888888888,
              "#fdca26"
             ],
             [
              1,
              "#f0f921"
             ]
            ],
            "type": "contour"
           }
          ],
          "contourcarpet": [
           {
            "colorbar": {
             "outlinewidth": 0,
             "ticks": ""
            },
            "type": "contourcarpet"
           }
          ],
          "heatmap": [
           {
            "colorbar": {
             "outlinewidth": 0,
             "ticks": ""
            },
            "colorscale": [
             [
              0,
              "#0d0887"
             ],
             [
              0.1111111111111111,
              "#46039f"
             ],
             [
              0.2222222222222222,
              "#7201a8"
             ],
             [
              0.3333333333333333,
              "#9c179e"
             ],
             [
              0.4444444444444444,
              "#bd3786"
             ],
             [
              0.5555555555555556,
              "#d8576b"
             ],
             [
              0.6666666666666666,
              "#ed7953"
             ],
             [
              0.7777777777777778,
              "#fb9f3a"
             ],
             [
              0.8888888888888888,
              "#fdca26"
             ],
             [
              1,
              "#f0f921"
             ]
            ],
            "type": "heatmap"
           }
          ],
          "heatmapgl": [
           {
            "colorbar": {
             "outlinewidth": 0,
             "ticks": ""
            },
            "colorscale": [
             [
              0,
              "#0d0887"
             ],
             [
              0.1111111111111111,
              "#46039f"
             ],
             [
              0.2222222222222222,
              "#7201a8"
             ],
             [
              0.3333333333333333,
              "#9c179e"
             ],
             [
              0.4444444444444444,
              "#bd3786"
             ],
             [
              0.5555555555555556,
              "#d8576b"
             ],
             [
              0.6666666666666666,
              "#ed7953"
             ],
             [
              0.7777777777777778,
              "#fb9f3a"
             ],
             [
              0.8888888888888888,
              "#fdca26"
             ],
             [
              1,
              "#f0f921"
             ]
            ],
            "type": "heatmapgl"
           }
          ],
          "histogram": [
           {
            "marker": {
             "colorbar": {
              "outlinewidth": 0,
              "ticks": ""
             }
            },
            "type": "histogram"
           }
          ],
          "histogram2d": [
           {
            "colorbar": {
             "outlinewidth": 0,
             "ticks": ""
            },
            "colorscale": [
             [
              0,
              "#0d0887"
             ],
             [
              0.1111111111111111,
              "#46039f"
             ],
             [
              0.2222222222222222,
              "#7201a8"
             ],
             [
              0.3333333333333333,
              "#9c179e"
             ],
             [
              0.4444444444444444,
              "#bd3786"
             ],
             [
              0.5555555555555556,
              "#d8576b"
             ],
             [
              0.6666666666666666,
              "#ed7953"
             ],
             [
              0.7777777777777778,
              "#fb9f3a"
             ],
             [
              0.8888888888888888,
              "#fdca26"
             ],
             [
              1,
              "#f0f921"
             ]
            ],
            "type": "histogram2d"
           }
          ],
          "histogram2dcontour": [
           {
            "colorbar": {
             "outlinewidth": 0,
             "ticks": ""
            },
            "colorscale": [
             [
              0,
              "#0d0887"
             ],
             [
              0.1111111111111111,
              "#46039f"
             ],
             [
              0.2222222222222222,
              "#7201a8"
             ],
             [
              0.3333333333333333,
              "#9c179e"
             ],
             [
              0.4444444444444444,
              "#bd3786"
             ],
             [
              0.5555555555555556,
              "#d8576b"
             ],
             [
              0.6666666666666666,
              "#ed7953"
             ],
             [
              0.7777777777777778,
              "#fb9f3a"
             ],
             [
              0.8888888888888888,
              "#fdca26"
             ],
             [
              1,
              "#f0f921"
             ]
            ],
            "type": "histogram2dcontour"
           }
          ],
          "mesh3d": [
           {
            "colorbar": {
             "outlinewidth": 0,
             "ticks": ""
            },
            "type": "mesh3d"
           }
          ],
          "parcoords": [
           {
            "line": {
             "colorbar": {
              "outlinewidth": 0,
              "ticks": ""
             }
            },
            "type": "parcoords"
           }
          ],
          "pie": [
           {
            "automargin": true,
            "type": "pie"
           }
          ],
          "scatter": [
           {
            "marker": {
             "colorbar": {
              "outlinewidth": 0,
              "ticks": ""
             }
            },
            "type": "scatter"
           }
          ],
          "scatter3d": [
           {
            "line": {
             "colorbar": {
              "outlinewidth": 0,
              "ticks": ""
             }
            },
            "marker": {
             "colorbar": {
              "outlinewidth": 0,
              "ticks": ""
             }
            },
            "type": "scatter3d"
           }
          ],
          "scattercarpet": [
           {
            "marker": {
             "colorbar": {
              "outlinewidth": 0,
              "ticks": ""
             }
            },
            "type": "scattercarpet"
           }
          ],
          "scattergeo": [
           {
            "marker": {
             "colorbar": {
              "outlinewidth": 0,
              "ticks": ""
             }
            },
            "type": "scattergeo"
           }
          ],
          "scattergl": [
           {
            "marker": {
             "colorbar": {
              "outlinewidth": 0,
              "ticks": ""
             }
            },
            "type": "scattergl"
           }
          ],
          "scattermapbox": [
           {
            "marker": {
             "colorbar": {
              "outlinewidth": 0,
              "ticks": ""
             }
            },
            "type": "scattermapbox"
           }
          ],
          "scatterpolar": [
           {
            "marker": {
             "colorbar": {
              "outlinewidth": 0,
              "ticks": ""
             }
            },
            "type": "scatterpolar"
           }
          ],
          "scatterpolargl": [
           {
            "marker": {
             "colorbar": {
              "outlinewidth": 0,
              "ticks": ""
             }
            },
            "type": "scatterpolargl"
           }
          ],
          "scatterternary": [
           {
            "marker": {
             "colorbar": {
              "outlinewidth": 0,
              "ticks": ""
             }
            },
            "type": "scatterternary"
           }
          ],
          "surface": [
           {
            "colorbar": {
             "outlinewidth": 0,
             "ticks": ""
            },
            "colorscale": [
             [
              0,
              "#0d0887"
             ],
             [
              0.1111111111111111,
              "#46039f"
             ],
             [
              0.2222222222222222,
              "#7201a8"
             ],
             [
              0.3333333333333333,
              "#9c179e"
             ],
             [
              0.4444444444444444,
              "#bd3786"
             ],
             [
              0.5555555555555556,
              "#d8576b"
             ],
             [
              0.6666666666666666,
              "#ed7953"
             ],
             [
              0.7777777777777778,
              "#fb9f3a"
             ],
             [
              0.8888888888888888,
              "#fdca26"
             ],
             [
              1,
              "#f0f921"
             ]
            ],
            "type": "surface"
           }
          ],
          "table": [
           {
            "cells": {
             "fill": {
              "color": "#EBF0F8"
             },
             "line": {
              "color": "white"
             }
            },
            "header": {
             "fill": {
              "color": "#C8D4E3"
             },
             "line": {
              "color": "white"
             }
            },
            "type": "table"
           }
          ]
         },
         "layout": {
          "annotationdefaults": {
           "arrowcolor": "#2a3f5f",
           "arrowhead": 0,
           "arrowwidth": 1
          },
          "autotypenumbers": "strict",
          "coloraxis": {
           "colorbar": {
            "outlinewidth": 0,
            "ticks": ""
           }
          },
          "colorscale": {
           "diverging": [
            [
             0,
             "#8e0152"
            ],
            [
             0.1,
             "#c51b7d"
            ],
            [
             0.2,
             "#de77ae"
            ],
            [
             0.3,
             "#f1b6da"
            ],
            [
             0.4,
             "#fde0ef"
            ],
            [
             0.5,
             "#f7f7f7"
            ],
            [
             0.6,
             "#e6f5d0"
            ],
            [
             0.7,
             "#b8e186"
            ],
            [
             0.8,
             "#7fbc41"
            ],
            [
             0.9,
             "#4d9221"
            ],
            [
             1,
             "#276419"
            ]
           ],
           "sequential": [
            [
             0,
             "#0d0887"
            ],
            [
             0.1111111111111111,
             "#46039f"
            ],
            [
             0.2222222222222222,
             "#7201a8"
            ],
            [
             0.3333333333333333,
             "#9c179e"
            ],
            [
             0.4444444444444444,
             "#bd3786"
            ],
            [
             0.5555555555555556,
             "#d8576b"
            ],
            [
             0.6666666666666666,
             "#ed7953"
            ],
            [
             0.7777777777777778,
             "#fb9f3a"
            ],
            [
             0.8888888888888888,
             "#fdca26"
            ],
            [
             1,
             "#f0f921"
            ]
           ],
           "sequentialminus": [
            [
             0,
             "#0d0887"
            ],
            [
             0.1111111111111111,
             "#46039f"
            ],
            [
             0.2222222222222222,
             "#7201a8"
            ],
            [
             0.3333333333333333,
             "#9c179e"
            ],
            [
             0.4444444444444444,
             "#bd3786"
            ],
            [
             0.5555555555555556,
             "#d8576b"
            ],
            [
             0.6666666666666666,
             "#ed7953"
            ],
            [
             0.7777777777777778,
             "#fb9f3a"
            ],
            [
             0.8888888888888888,
             "#fdca26"
            ],
            [
             1,
             "#f0f921"
            ]
           ]
          },
          "colorway": [
           "#636efa",
           "#EF553B",
           "#00cc96",
           "#ab63fa",
           "#FFA15A",
           "#19d3f3",
           "#FF6692",
           "#B6E880",
           "#FF97FF",
           "#FECB52"
          ],
          "font": {
           "color": "#2a3f5f"
          },
          "geo": {
           "bgcolor": "white",
           "lakecolor": "white",
           "landcolor": "#E5ECF6",
           "showlakes": true,
           "showland": true,
           "subunitcolor": "white"
          },
          "hoverlabel": {
           "align": "left"
          },
          "hovermode": "closest",
          "mapbox": {
           "style": "light"
          },
          "paper_bgcolor": "white",
          "plot_bgcolor": "#E5ECF6",
          "polar": {
           "angularaxis": {
            "gridcolor": "white",
            "linecolor": "white",
            "ticks": ""
           },
           "bgcolor": "#E5ECF6",
           "radialaxis": {
            "gridcolor": "white",
            "linecolor": "white",
            "ticks": ""
           }
          },
          "scene": {
           "xaxis": {
            "backgroundcolor": "#E5ECF6",
            "gridcolor": "white",
            "gridwidth": 2,
            "linecolor": "white",
            "showbackground": true,
            "ticks": "",
            "zerolinecolor": "white"
           },
           "yaxis": {
            "backgroundcolor": "#E5ECF6",
            "gridcolor": "white",
            "gridwidth": 2,
            "linecolor": "white",
            "showbackground": true,
            "ticks": "",
            "zerolinecolor": "white"
           },
           "zaxis": {
            "backgroundcolor": "#E5ECF6",
            "gridcolor": "white",
            "gridwidth": 2,
            "linecolor": "white",
            "showbackground": true,
            "ticks": "",
            "zerolinecolor": "white"
           }
          },
          "shapedefaults": {
           "line": {
            "color": "#2a3f5f"
           }
          },
          "ternary": {
           "aaxis": {
            "gridcolor": "white",
            "linecolor": "white",
            "ticks": ""
           },
           "baxis": {
            "gridcolor": "white",
            "linecolor": "white",
            "ticks": ""
           },
           "bgcolor": "#E5ECF6",
           "caxis": {
            "gridcolor": "white",
            "linecolor": "white",
            "ticks": ""
           }
          },
          "title": {
           "x": 0.05
          },
          "xaxis": {
           "automargin": true,
           "gridcolor": "white",
           "linecolor": "white",
           "ticks": "",
           "title": {
            "standoff": 15
           },
           "zerolinecolor": "white",
           "zerolinewidth": 2
          },
          "yaxis": {
           "automargin": true,
           "gridcolor": "white",
           "linecolor": "white",
           "ticks": "",
           "title": {
            "standoff": 15
           },
           "zerolinecolor": "white",
           "zerolinewidth": 2
          }
         }
        },
        "title": {
         "text": "Diklofenak - porovnanie štátov"
        }
       }
      }
     },
     "metadata": {}
    }
   ],
   "source": [
    "fig = px.pie(diklofenak_krajiny, names='STAT_popis', values='Počet_balení', title = 'Diklofenak - porovnanie štátov', color_discrete_sequence=[modra, oranzova, zlta, ruzova, zelena])\n",
    "fig.show()"
   ]
  },
  {
   "source": [
    "Z grafu vidime, ze najpredavanejsim, z tychto protizapalovych lieciv je slovensky Flector Ep rapid. Cesko ponuka siroku skalu takychto liekov, z ktorych sa ziaden nepredava vyraznejsie, avsak aj tak tieto ceske lieky tvoria dokopy caz 33%. Nadpolovicnu vacsinu predanych liekov tvorili lieky zo Slovenska."
   ],
   "cell_type": "markdown",
   "metadata": {}
  },
  {
   "source": [
    "# 9. Metamizol, sodna sol"
   ],
   "cell_type": "markdown",
   "metadata": {}
  },
  {
   "cell_type": "code",
   "execution_count": 203,
   "metadata": {},
   "outputs": [
    {
     "output_type": "display_data",
     "data": {
      "text/plain": "           LIEK_popis STAT_popis                    VYROBCA_popis  index  \\\n0      METAMISTAD tbl    Nemecko            STADA Arzneimittel AG  12509   \n1       Metamilan tbl    Rakúsko                  G.L.Pharma GmbH   6249   \n2     Metamizol Stada    Nemecko            STADA Arzneimittel AG  12513   \n3      Metamizol Teva  Holandsko                        TEV-NL-4?   6244   \n4  Metamizole Kalceks   Lotyšsko                       AS KALCEKS  12501   \n5    NOVALGIN sol inj    Nemecko  Aventis Pharma Deutschland GmbH   6253   \n6    NOVALGIN sol inj  Slovensko   sanofi-aventis Slovakia s.r.o.  12491   \n7        NOVALGIN tbl  Slovensko   sanofi-aventis Slovakia s.r.o.  12495   \n8        NOVALGIN tbl  Taliansko            Aventis Pharma S.p.A.   6252   \n\n   Počet_balení  \n0    183829.997  \n1     32683.300  \n2    112570.900  \n3         1.000  \n4     56516.500  \n5         3.000  \n6    218420.700  \n7   1342223.310  \n8         2.000  ",
      "text/html": "<div>\n<style scoped>\n    .dataframe tbody tr th:only-of-type {\n        vertical-align: middle;\n    }\n\n    .dataframe tbody tr th {\n        vertical-align: top;\n    }\n\n    .dataframe thead th {\n        text-align: right;\n    }\n</style>\n<table border=\"1\" class=\"dataframe\">\n  <thead>\n    <tr style=\"text-align: right;\">\n      <th></th>\n      <th>LIEK_popis</th>\n      <th>STAT_popis</th>\n      <th>VYROBCA_popis</th>\n      <th>index</th>\n      <th>Počet_balení</th>\n    </tr>\n  </thead>\n  <tbody>\n    <tr>\n      <th>0</th>\n      <td>METAMISTAD tbl</td>\n      <td>Nemecko</td>\n      <td>STADA Arzneimittel AG</td>\n      <td>12509</td>\n      <td>183829.997</td>\n    </tr>\n    <tr>\n      <th>1</th>\n      <td>Metamilan tbl</td>\n      <td>Rakúsko</td>\n      <td>G.L.Pharma GmbH</td>\n      <td>6249</td>\n      <td>32683.300</td>\n    </tr>\n    <tr>\n      <th>2</th>\n      <td>Metamizol Stada</td>\n      <td>Nemecko</td>\n      <td>STADA Arzneimittel AG</td>\n      <td>12513</td>\n      <td>112570.900</td>\n    </tr>\n    <tr>\n      <th>3</th>\n      <td>Metamizol Teva</td>\n      <td>Holandsko</td>\n      <td>TEV-NL-4?</td>\n      <td>6244</td>\n      <td>1.000</td>\n    </tr>\n    <tr>\n      <th>4</th>\n      <td>Metamizole Kalceks</td>\n      <td>Lotyšsko</td>\n      <td>AS KALCEKS</td>\n      <td>12501</td>\n      <td>56516.500</td>\n    </tr>\n    <tr>\n      <th>5</th>\n      <td>NOVALGIN sol inj</td>\n      <td>Nemecko</td>\n      <td>Aventis Pharma Deutschland GmbH</td>\n      <td>6253</td>\n      <td>3.000</td>\n    </tr>\n    <tr>\n      <th>6</th>\n      <td>NOVALGIN sol inj</td>\n      <td>Slovensko</td>\n      <td>sanofi-aventis Slovakia s.r.o.</td>\n      <td>12491</td>\n      <td>218420.700</td>\n    </tr>\n    <tr>\n      <th>7</th>\n      <td>NOVALGIN tbl</td>\n      <td>Slovensko</td>\n      <td>sanofi-aventis Slovakia s.r.o.</td>\n      <td>12495</td>\n      <td>1342223.310</td>\n    </tr>\n    <tr>\n      <th>8</th>\n      <td>NOVALGIN tbl</td>\n      <td>Taliansko</td>\n      <td>Aventis Pharma S.p.A.</td>\n      <td>6252</td>\n      <td>2.000</td>\n    </tr>\n  </tbody>\n</table>\n</div>"
     },
     "metadata": {}
    }
   ],
   "source": [
    "\n",
    "metamizol = top15tab[\"N02BB02\"].sort_values(by='Počet_balení', ascending=False)\n",
    "\n",
    "for i,popis in enumerate(metamizol['LIEK_popis']):\n",
    "    if 'METAMISTAD' in popis:\n",
    "        metamizol.iloc[i,4] = 'METAMISTAD tbl'\n",
    "    elif 'Metamilan' in popis:\n",
    "        metamizol.iloc[i,4] = 'Metamilan tbl'\n",
    "    elif 'Metamizol Stada' in popis:\n",
    "        metamizol.iloc[i,4] = 'Metamizol Stada'\n",
    "    elif 'Metamizol Teva' in popis:\n",
    "        metamizol.iloc[i,4] = 'Metamizol Teva'\n",
    "    elif 'Metamizole Kalceks' in popis:\n",
    "        metamizol.iloc[i,4] = 'Metamizole Kalceks'\n",
    "    elif 'NOVALGIN' in popis and 'tbl' in popis:\n",
    "        metamizol.iloc[i,4] = 'NOVALGIN tbl'\n",
    "    elif 'NOVALGIN' in popis:\n",
    "        metamizol.iloc[i,4] = 'NOVALGIN sol inj'\n",
    "    \n",
    "\n",
    "metamizol = metamizol.groupby(['LIEK_popis', 'STAT_popis', 'VYROBCA_popis']).sum().reset_index()\n",
    "\n",
    "display(metamizol.sort_values(by='LIEK_popis'))"
   ]
  },
  {
   "cell_type": "code",
   "execution_count": 206,
   "metadata": {},
   "outputs": [
    {
     "output_type": "display_data",
     "data": {
      "application/vnd.plotly.v1+json": {
       "config": {
        "plotlyServerURL": "https://plot.ly"
       },
       "data": [
        {
         "alignmentgroup": "True",
         "hovertemplate": " =%{x}<br>Počet balení=%{y}<extra></extra>",
         "legendgroup": "Slovensko",
         "marker": {
          "color": "#4B6AAB"
         },
         "name": "Slovensko",
         "offsetgroup": "Slovensko",
         "orientation": "v",
         "showlegend": true,
         "textposition": "auto",
         "type": "bar",
         "x": [
          "NOVALGIN tbl",
          "NOVALGIN sol inj"
         ],
         "xaxis": "x",
         "y": [
          1342223.31,
          218420.7
         ],
         "yaxis": "y"
        },
        {
         "alignmentgroup": "True",
         "hovertemplate": " =%{x}<br>Počet balení=%{y}<extra></extra>",
         "legendgroup": "Nemecko",
         "marker": {
          "color": "#D8764C"
         },
         "name": "Nemecko",
         "offsetgroup": "Nemecko",
         "orientation": "v",
         "showlegend": true,
         "textposition": "auto",
         "type": "bar",
         "x": [
          "METAMISTAD tbl",
          "Metamizol Stada"
         ],
         "xaxis": "x",
         "y": [
          183829.99699999997,
          112570.9
         ],
         "yaxis": "y"
        }
       ],
       "layout": {
        "barmode": "relative",
        "legend": {
         "title": {
          "text": " "
         },
         "tracegroupgap": 0
        },
        "template": {
         "data": {
          "bar": [
           {
            "error_x": {
             "color": "#2a3f5f"
            },
            "error_y": {
             "color": "#2a3f5f"
            },
            "marker": {
             "line": {
              "color": "#E5ECF6",
              "width": 0.5
             }
            },
            "type": "bar"
           }
          ],
          "barpolar": [
           {
            "marker": {
             "line": {
              "color": "#E5ECF6",
              "width": 0.5
             }
            },
            "type": "barpolar"
           }
          ],
          "carpet": [
           {
            "aaxis": {
             "endlinecolor": "#2a3f5f",
             "gridcolor": "white",
             "linecolor": "white",
             "minorgridcolor": "white",
             "startlinecolor": "#2a3f5f"
            },
            "baxis": {
             "endlinecolor": "#2a3f5f",
             "gridcolor": "white",
             "linecolor": "white",
             "minorgridcolor": "white",
             "startlinecolor": "#2a3f5f"
            },
            "type": "carpet"
           }
          ],
          "choropleth": [
           {
            "colorbar": {
             "outlinewidth": 0,
             "ticks": ""
            },
            "type": "choropleth"
           }
          ],
          "contour": [
           {
            "colorbar": {
             "outlinewidth": 0,
             "ticks": ""
            },
            "colorscale": [
             [
              0,
              "#0d0887"
             ],
             [
              0.1111111111111111,
              "#46039f"
             ],
             [
              0.2222222222222222,
              "#7201a8"
             ],
             [
              0.3333333333333333,
              "#9c179e"
             ],
             [
              0.4444444444444444,
              "#bd3786"
             ],
             [
              0.5555555555555556,
              "#d8576b"
             ],
             [
              0.6666666666666666,
              "#ed7953"
             ],
             [
              0.7777777777777778,
              "#fb9f3a"
             ],
             [
              0.8888888888888888,
              "#fdca26"
             ],
             [
              1,
              "#f0f921"
             ]
            ],
            "type": "contour"
           }
          ],
          "contourcarpet": [
           {
            "colorbar": {
             "outlinewidth": 0,
             "ticks": ""
            },
            "type": "contourcarpet"
           }
          ],
          "heatmap": [
           {
            "colorbar": {
             "outlinewidth": 0,
             "ticks": ""
            },
            "colorscale": [
             [
              0,
              "#0d0887"
             ],
             [
              0.1111111111111111,
              "#46039f"
             ],
             [
              0.2222222222222222,
              "#7201a8"
             ],
             [
              0.3333333333333333,
              "#9c179e"
             ],
             [
              0.4444444444444444,
              "#bd3786"
             ],
             [
              0.5555555555555556,
              "#d8576b"
             ],
             [
              0.6666666666666666,
              "#ed7953"
             ],
             [
              0.7777777777777778,
              "#fb9f3a"
             ],
             [
              0.8888888888888888,
              "#fdca26"
             ],
             [
              1,
              "#f0f921"
             ]
            ],
            "type": "heatmap"
           }
          ],
          "heatmapgl": [
           {
            "colorbar": {
             "outlinewidth": 0,
             "ticks": ""
            },
            "colorscale": [
             [
              0,
              "#0d0887"
             ],
             [
              0.1111111111111111,
              "#46039f"
             ],
             [
              0.2222222222222222,
              "#7201a8"
             ],
             [
              0.3333333333333333,
              "#9c179e"
             ],
             [
              0.4444444444444444,
              "#bd3786"
             ],
             [
              0.5555555555555556,
              "#d8576b"
             ],
             [
              0.6666666666666666,
              "#ed7953"
             ],
             [
              0.7777777777777778,
              "#fb9f3a"
             ],
             [
              0.8888888888888888,
              "#fdca26"
             ],
             [
              1,
              "#f0f921"
             ]
            ],
            "type": "heatmapgl"
           }
          ],
          "histogram": [
           {
            "marker": {
             "colorbar": {
              "outlinewidth": 0,
              "ticks": ""
             }
            },
            "type": "histogram"
           }
          ],
          "histogram2d": [
           {
            "colorbar": {
             "outlinewidth": 0,
             "ticks": ""
            },
            "colorscale": [
             [
              0,
              "#0d0887"
             ],
             [
              0.1111111111111111,
              "#46039f"
             ],
             [
              0.2222222222222222,
              "#7201a8"
             ],
             [
              0.3333333333333333,
              "#9c179e"
             ],
             [
              0.4444444444444444,
              "#bd3786"
             ],
             [
              0.5555555555555556,
              "#d8576b"
             ],
             [
              0.6666666666666666,
              "#ed7953"
             ],
             [
              0.7777777777777778,
              "#fb9f3a"
             ],
             [
              0.8888888888888888,
              "#fdca26"
             ],
             [
              1,
              "#f0f921"
             ]
            ],
            "type": "histogram2d"
           }
          ],
          "histogram2dcontour": [
           {
            "colorbar": {
             "outlinewidth": 0,
             "ticks": ""
            },
            "colorscale": [
             [
              0,
              "#0d0887"
             ],
             [
              0.1111111111111111,
              "#46039f"
             ],
             [
              0.2222222222222222,
              "#7201a8"
             ],
             [
              0.3333333333333333,
              "#9c179e"
             ],
             [
              0.4444444444444444,
              "#bd3786"
             ],
             [
              0.5555555555555556,
              "#d8576b"
             ],
             [
              0.6666666666666666,
              "#ed7953"
             ],
             [
              0.7777777777777778,
              "#fb9f3a"
             ],
             [
              0.8888888888888888,
              "#fdca26"
             ],
             [
              1,
              "#f0f921"
             ]
            ],
            "type": "histogram2dcontour"
           }
          ],
          "mesh3d": [
           {
            "colorbar": {
             "outlinewidth": 0,
             "ticks": ""
            },
            "type": "mesh3d"
           }
          ],
          "parcoords": [
           {
            "line": {
             "colorbar": {
              "outlinewidth": 0,
              "ticks": ""
             }
            },
            "type": "parcoords"
           }
          ],
          "pie": [
           {
            "automargin": true,
            "type": "pie"
           }
          ],
          "scatter": [
           {
            "marker": {
             "colorbar": {
              "outlinewidth": 0,
              "ticks": ""
             }
            },
            "type": "scatter"
           }
          ],
          "scatter3d": [
           {
            "line": {
             "colorbar": {
              "outlinewidth": 0,
              "ticks": ""
             }
            },
            "marker": {
             "colorbar": {
              "outlinewidth": 0,
              "ticks": ""
             }
            },
            "type": "scatter3d"
           }
          ],
          "scattercarpet": [
           {
            "marker": {
             "colorbar": {
              "outlinewidth": 0,
              "ticks": ""
             }
            },
            "type": "scattercarpet"
           }
          ],
          "scattergeo": [
           {
            "marker": {
             "colorbar": {
              "outlinewidth": 0,
              "ticks": ""
             }
            },
            "type": "scattergeo"
           }
          ],
          "scattergl": [
           {
            "marker": {
             "colorbar": {
              "outlinewidth": 0,
              "ticks": ""
             }
            },
            "type": "scattergl"
           }
          ],
          "scattermapbox": [
           {
            "marker": {
             "colorbar": {
              "outlinewidth": 0,
              "ticks": ""
             }
            },
            "type": "scattermapbox"
           }
          ],
          "scatterpolar": [
           {
            "marker": {
             "colorbar": {
              "outlinewidth": 0,
              "ticks": ""
             }
            },
            "type": "scatterpolar"
           }
          ],
          "scatterpolargl": [
           {
            "marker": {
             "colorbar": {
              "outlinewidth": 0,
              "ticks": ""
             }
            },
            "type": "scatterpolargl"
           }
          ],
          "scatterternary": [
           {
            "marker": {
             "colorbar": {
              "outlinewidth": 0,
              "ticks": ""
             }
            },
            "type": "scatterternary"
           }
          ],
          "surface": [
           {
            "colorbar": {
             "outlinewidth": 0,
             "ticks": ""
            },
            "colorscale": [
             [
              0,
              "#0d0887"
             ],
             [
              0.1111111111111111,
              "#46039f"
             ],
             [
              0.2222222222222222,
              "#7201a8"
             ],
             [
              0.3333333333333333,
              "#9c179e"
             ],
             [
              0.4444444444444444,
              "#bd3786"
             ],
             [
              0.5555555555555556,
              "#d8576b"
             ],
             [
              0.6666666666666666,
              "#ed7953"
             ],
             [
              0.7777777777777778,
              "#fb9f3a"
             ],
             [
              0.8888888888888888,
              "#fdca26"
             ],
             [
              1,
              "#f0f921"
             ]
            ],
            "type": "surface"
           }
          ],
          "table": [
           {
            "cells": {
             "fill": {
              "color": "#EBF0F8"
             },
             "line": {
              "color": "white"
             }
            },
            "header": {
             "fill": {
              "color": "#C8D4E3"
             },
             "line": {
              "color": "white"
             }
            },
            "type": "table"
           }
          ]
         },
         "layout": {
          "annotationdefaults": {
           "arrowcolor": "#2a3f5f",
           "arrowhead": 0,
           "arrowwidth": 1
          },
          "autotypenumbers": "strict",
          "coloraxis": {
           "colorbar": {
            "outlinewidth": 0,
            "ticks": ""
           }
          },
          "colorscale": {
           "diverging": [
            [
             0,
             "#8e0152"
            ],
            [
             0.1,
             "#c51b7d"
            ],
            [
             0.2,
             "#de77ae"
            ],
            [
             0.3,
             "#f1b6da"
            ],
            [
             0.4,
             "#fde0ef"
            ],
            [
             0.5,
             "#f7f7f7"
            ],
            [
             0.6,
             "#e6f5d0"
            ],
            [
             0.7,
             "#b8e186"
            ],
            [
             0.8,
             "#7fbc41"
            ],
            [
             0.9,
             "#4d9221"
            ],
            [
             1,
             "#276419"
            ]
           ],
           "sequential": [
            [
             0,
             "#0d0887"
            ],
            [
             0.1111111111111111,
             "#46039f"
            ],
            [
             0.2222222222222222,
             "#7201a8"
            ],
            [
             0.3333333333333333,
             "#9c179e"
            ],
            [
             0.4444444444444444,
             "#bd3786"
            ],
            [
             0.5555555555555556,
             "#d8576b"
            ],
            [
             0.6666666666666666,
             "#ed7953"
            ],
            [
             0.7777777777777778,
             "#fb9f3a"
            ],
            [
             0.8888888888888888,
             "#fdca26"
            ],
            [
             1,
             "#f0f921"
            ]
           ],
           "sequentialminus": [
            [
             0,
             "#0d0887"
            ],
            [
             0.1111111111111111,
             "#46039f"
            ],
            [
             0.2222222222222222,
             "#7201a8"
            ],
            [
             0.3333333333333333,
             "#9c179e"
            ],
            [
             0.4444444444444444,
             "#bd3786"
            ],
            [
             0.5555555555555556,
             "#d8576b"
            ],
            [
             0.6666666666666666,
             "#ed7953"
            ],
            [
             0.7777777777777778,
             "#fb9f3a"
            ],
            [
             0.8888888888888888,
             "#fdca26"
            ],
            [
             1,
             "#f0f921"
            ]
           ]
          },
          "colorway": [
           "#636efa",
           "#EF553B",
           "#00cc96",
           "#ab63fa",
           "#FFA15A",
           "#19d3f3",
           "#FF6692",
           "#B6E880",
           "#FF97FF",
           "#FECB52"
          ],
          "font": {
           "color": "#2a3f5f"
          },
          "geo": {
           "bgcolor": "white",
           "lakecolor": "white",
           "landcolor": "#E5ECF6",
           "showlakes": true,
           "showland": true,
           "subunitcolor": "white"
          },
          "hoverlabel": {
           "align": "left"
          },
          "hovermode": "closest",
          "mapbox": {
           "style": "light"
          },
          "paper_bgcolor": "white",
          "plot_bgcolor": "#E5ECF6",
          "polar": {
           "angularaxis": {
            "gridcolor": "white",
            "linecolor": "white",
            "ticks": ""
           },
           "bgcolor": "#E5ECF6",
           "radialaxis": {
            "gridcolor": "white",
            "linecolor": "white",
            "ticks": ""
           }
          },
          "scene": {
           "xaxis": {
            "backgroundcolor": "#E5ECF6",
            "gridcolor": "white",
            "gridwidth": 2,
            "linecolor": "white",
            "showbackground": true,
            "ticks": "",
            "zerolinecolor": "white"
           },
           "yaxis": {
            "backgroundcolor": "#E5ECF6",
            "gridcolor": "white",
            "gridwidth": 2,
            "linecolor": "white",
            "showbackground": true,
            "ticks": "",
            "zerolinecolor": "white"
           },
           "zaxis": {
            "backgroundcolor": "#E5ECF6",
            "gridcolor": "white",
            "gridwidth": 2,
            "linecolor": "white",
            "showbackground": true,
            "ticks": "",
            "zerolinecolor": "white"
           }
          },
          "shapedefaults": {
           "line": {
            "color": "#2a3f5f"
           }
          },
          "ternary": {
           "aaxis": {
            "gridcolor": "white",
            "linecolor": "white",
            "ticks": ""
           },
           "baxis": {
            "gridcolor": "white",
            "linecolor": "white",
            "ticks": ""
           },
           "bgcolor": "#E5ECF6",
           "caxis": {
            "gridcolor": "white",
            "linecolor": "white",
            "ticks": ""
           }
          },
          "title": {
           "x": 0.05
          },
          "xaxis": {
           "automargin": true,
           "gridcolor": "white",
           "linecolor": "white",
           "ticks": "",
           "title": {
            "standoff": 15
           },
           "zerolinecolor": "white",
           "zerolinewidth": 2
          },
          "yaxis": {
           "automargin": true,
           "gridcolor": "white",
           "linecolor": "white",
           "ticks": "",
           "title": {
            "standoff": 15
           },
           "zerolinecolor": "white",
           "zerolinewidth": 2
          }
         }
        },
        "title": {
         "text": "Metamizol, sodná soľ - počet balení nad 100 000"
        },
        "xaxis": {
         "anchor": "y",
         "domain": [
          0,
          1
         ],
         "tickangle": 45,
         "title": {
          "text": " "
         }
        },
        "yaxis": {
         "anchor": "x",
         "domain": [
          0,
          1
         ],
         "title": {
          "text": "Počet balení"
         }
        }
       }
      }
     },
     "metadata": {}
    }
   ],
   "source": [
    "fig = px.bar(metamizol.query('Počet_balení > 100000').sort_values(by=\"Počet_balení\", ascending=False), x='LIEK_popis', y='Počet_balení', color='STAT_popis', title='Metamizol, sodná soľ - počet balení nad 100 000',labels={'Počet_balení':'Počet balení', 'STAT_popis':' ', 'LIEK_popis':' '}, color_discrete_sequence=[modra, oranzova])\n",
    "fig.update_xaxes(tickangle=45)\n",
    "fig.show()"
   ]
  },
  {
   "source": [
    "Opat tu mame skupinu liekov, ktora pari medzi analgetiká (lieky zmierňujúce bolesť) a antipyretiká (lieky na zníženie horúčky) avsak tentokrat s ucinnou latkou metamizol. Z grafu vidime, ze sa najviac predava slovensky Novalgin v tabletach. Malinke zastupenie tu maju aj nemecke lieky, ale velmi nepatrne."
   ],
   "cell_type": "markdown",
   "metadata": {}
  },
  {
   "source": [
    "# 10. Metoprolol"
   ],
   "cell_type": "markdown",
   "metadata": {}
  },
  {
   "cell_type": "code",
   "execution_count": 207,
   "metadata": {},
   "outputs": [
    {
     "output_type": "display_data",
     "data": {
      "text/plain": "              LIEK_popis STAT_popis  index  Počet_balení\n0                BETALOC  Taliansko   7783    917306.500\n1               CORVITOL    Nemecko   1958     97308.000\n2                 EGILOK   Maďarsko  21348    157033.400\n3            METOPROBENE    Nemecko   1947         1.000\n4   Metoprolol Polpharma     Poľsko   1948         3.000\n5  Metoprolol ratiopharm    Nemecko   7818    368367.099\n6             VASOCARDIN  Slovensko   7781    333583.520",
      "text/html": "<div>\n<style scoped>\n    .dataframe tbody tr th:only-of-type {\n        vertical-align: middle;\n    }\n\n    .dataframe tbody tr th {\n        vertical-align: top;\n    }\n\n    .dataframe thead th {\n        text-align: right;\n    }\n</style>\n<table border=\"1\" class=\"dataframe\">\n  <thead>\n    <tr style=\"text-align: right;\">\n      <th></th>\n      <th>LIEK_popis</th>\n      <th>STAT_popis</th>\n      <th>index</th>\n      <th>Počet_balení</th>\n    </tr>\n  </thead>\n  <tbody>\n    <tr>\n      <th>0</th>\n      <td>BETALOC</td>\n      <td>Taliansko</td>\n      <td>7783</td>\n      <td>917306.500</td>\n    </tr>\n    <tr>\n      <th>1</th>\n      <td>CORVITOL</td>\n      <td>Nemecko</td>\n      <td>1958</td>\n      <td>97308.000</td>\n    </tr>\n    <tr>\n      <th>2</th>\n      <td>EGILOK</td>\n      <td>Maďarsko</td>\n      <td>21348</td>\n      <td>157033.400</td>\n    </tr>\n    <tr>\n      <th>3</th>\n      <td>METOPROBENE</td>\n      <td>Nemecko</td>\n      <td>1947</td>\n      <td>1.000</td>\n    </tr>\n    <tr>\n      <th>4</th>\n      <td>Metoprolol Polpharma</td>\n      <td>Poľsko</td>\n      <td>1948</td>\n      <td>3.000</td>\n    </tr>\n    <tr>\n      <th>5</th>\n      <td>Metoprolol ratiopharm</td>\n      <td>Nemecko</td>\n      <td>7818</td>\n      <td>368367.099</td>\n    </tr>\n    <tr>\n      <th>6</th>\n      <td>VASOCARDIN</td>\n      <td>Slovensko</td>\n      <td>7781</td>\n      <td>333583.520</td>\n    </tr>\n  </tbody>\n</table>\n</div>"
     },
     "metadata": {}
    }
   ],
   "source": [
    "metoprolol = top15tab[\"C07AB02\"].sort_values(by='Počet_balení', ascending=False)\n",
    "\n",
    "for i,popis in enumerate(metoprolol['LIEK_popis']):\n",
    "    if 'BETALOC' in popis:\n",
    "        metoprolol.iloc[i,4] = 'BETALOC'\n",
    "    elif 'CORVITOL' in popis:\n",
    "        metoprolol.iloc[i,4] = 'CORVITOL'\n",
    "    elif 'EGILOK' in popis:\n",
    "        metoprolol.iloc[i,4] = 'EGILOK'\n",
    "    elif 'Egilok' in popis:\n",
    "        metoprolol.iloc[i,4] = 'EGILOK'\n",
    "    elif 'Metoprobene' in popis:\n",
    "        metoprolol.iloc[i,4] = 'METOPROBENE'\n",
    "    elif 'Metoprolol Polpharma' in popis:\n",
    "        metoprolol.iloc[i,4] = 'Metoprolol Polpharma'\n",
    "    elif 'Metoprolol ratiopharm' in popis:\n",
    "        metoprolol.iloc[i,4] = 'Metoprolol ratiopharm'\n",
    "    elif 'VASOCARDIN' in popis:\n",
    "        metoprolol.iloc[i,4] = 'VASOCARDIN'\n",
    "\n",
    "metoprolol = metoprolol.groupby(['LIEK_popis', 'STAT_popis']).sum().reset_index()\n",
    "display(metoprolol.sort_values(by='LIEK_popis'))"
   ]
  },
  {
   "cell_type": "code",
   "execution_count": 213,
   "metadata": {},
   "outputs": [
    {
     "output_type": "display_data",
     "data": {
      "application/vnd.plotly.v1+json": {
       "config": {
        "plotlyServerURL": "https://plot.ly"
       },
       "data": [
        {
         "alignmentgroup": "True",
         "hovertemplate": " =%{x}<br>Počet balení=%{y}<extra></extra>",
         "legendgroup": "Taliansko",
         "marker": {
          "color": "#4B6AAB"
         },
         "name": "Taliansko",
         "offsetgroup": "Taliansko",
         "orientation": "v",
         "showlegend": true,
         "textposition": "auto",
         "type": "bar",
         "x": [
          "BETALOC"
         ],
         "xaxis": "x",
         "y": [
          917306.5
         ],
         "yaxis": "y"
        },
        {
         "alignmentgroup": "True",
         "hovertemplate": " =%{x}<br>Počet balení=%{y}<extra></extra>",
         "legendgroup": "Nemecko",
         "marker": {
          "color": "#D8764C"
         },
         "name": "Nemecko",
         "offsetgroup": "Nemecko",
         "orientation": "v",
         "showlegend": true,
         "textposition": "auto",
         "type": "bar",
         "x": [
          "Metoprolol ratiopharm",
          "CORVITOL"
         ],
         "xaxis": "x",
         "y": [
          368367.099,
          97308
         ],
         "yaxis": "y"
        },
        {
         "alignmentgroup": "True",
         "hovertemplate": " =%{x}<br>Počet balení=%{y}<extra></extra>",
         "legendgroup": "Slovensko",
         "marker": {
          "color": "#B75B9E"
         },
         "name": "Slovensko",
         "offsetgroup": "Slovensko",
         "orientation": "v",
         "showlegend": true,
         "textposition": "auto",
         "type": "bar",
         "x": [
          "VASOCARDIN"
         ],
         "xaxis": "x",
         "y": [
          333583.52
         ],
         "yaxis": "y"
        },
        {
         "alignmentgroup": "True",
         "hovertemplate": " =%{x}<br>Počet balení=%{y}<extra></extra>",
         "legendgroup": "Maďarsko",
         "marker": {
          "color": "#73B5AB"
         },
         "name": "Maďarsko",
         "offsetgroup": "Maďarsko",
         "orientation": "v",
         "showlegend": true,
         "textposition": "auto",
         "type": "bar",
         "x": [
          "EGILOK"
         ],
         "xaxis": "x",
         "y": [
          157033.4
         ],
         "yaxis": "y"
        }
       ],
       "layout": {
        "barmode": "relative",
        "legend": {
         "title": {
          "text": " "
         },
         "tracegroupgap": 0
        },
        "template": {
         "data": {
          "bar": [
           {
            "error_x": {
             "color": "#2a3f5f"
            },
            "error_y": {
             "color": "#2a3f5f"
            },
            "marker": {
             "line": {
              "color": "#E5ECF6",
              "width": 0.5
             }
            },
            "type": "bar"
           }
          ],
          "barpolar": [
           {
            "marker": {
             "line": {
              "color": "#E5ECF6",
              "width": 0.5
             }
            },
            "type": "barpolar"
           }
          ],
          "carpet": [
           {
            "aaxis": {
             "endlinecolor": "#2a3f5f",
             "gridcolor": "white",
             "linecolor": "white",
             "minorgridcolor": "white",
             "startlinecolor": "#2a3f5f"
            },
            "baxis": {
             "endlinecolor": "#2a3f5f",
             "gridcolor": "white",
             "linecolor": "white",
             "minorgridcolor": "white",
             "startlinecolor": "#2a3f5f"
            },
            "type": "carpet"
           }
          ],
          "choropleth": [
           {
            "colorbar": {
             "outlinewidth": 0,
             "ticks": ""
            },
            "type": "choropleth"
           }
          ],
          "contour": [
           {
            "colorbar": {
             "outlinewidth": 0,
             "ticks": ""
            },
            "colorscale": [
             [
              0,
              "#0d0887"
             ],
             [
              0.1111111111111111,
              "#46039f"
             ],
             [
              0.2222222222222222,
              "#7201a8"
             ],
             [
              0.3333333333333333,
              "#9c179e"
             ],
             [
              0.4444444444444444,
              "#bd3786"
             ],
             [
              0.5555555555555556,
              "#d8576b"
             ],
             [
              0.6666666666666666,
              "#ed7953"
             ],
             [
              0.7777777777777778,
              "#fb9f3a"
             ],
             [
              0.8888888888888888,
              "#fdca26"
             ],
             [
              1,
              "#f0f921"
             ]
            ],
            "type": "contour"
           }
          ],
          "contourcarpet": [
           {
            "colorbar": {
             "outlinewidth": 0,
             "ticks": ""
            },
            "type": "contourcarpet"
           }
          ],
          "heatmap": [
           {
            "colorbar": {
             "outlinewidth": 0,
             "ticks": ""
            },
            "colorscale": [
             [
              0,
              "#0d0887"
             ],
             [
              0.1111111111111111,
              "#46039f"
             ],
             [
              0.2222222222222222,
              "#7201a8"
             ],
             [
              0.3333333333333333,
              "#9c179e"
             ],
             [
              0.4444444444444444,
              "#bd3786"
             ],
             [
              0.5555555555555556,
              "#d8576b"
             ],
             [
              0.6666666666666666,
              "#ed7953"
             ],
             [
              0.7777777777777778,
              "#fb9f3a"
             ],
             [
              0.8888888888888888,
              "#fdca26"
             ],
             [
              1,
              "#f0f921"
             ]
            ],
            "type": "heatmap"
           }
          ],
          "heatmapgl": [
           {
            "colorbar": {
             "outlinewidth": 0,
             "ticks": ""
            },
            "colorscale": [
             [
              0,
              "#0d0887"
             ],
             [
              0.1111111111111111,
              "#46039f"
             ],
             [
              0.2222222222222222,
              "#7201a8"
             ],
             [
              0.3333333333333333,
              "#9c179e"
             ],
             [
              0.4444444444444444,
              "#bd3786"
             ],
             [
              0.5555555555555556,
              "#d8576b"
             ],
             [
              0.6666666666666666,
              "#ed7953"
             ],
             [
              0.7777777777777778,
              "#fb9f3a"
             ],
             [
              0.8888888888888888,
              "#fdca26"
             ],
             [
              1,
              "#f0f921"
             ]
            ],
            "type": "heatmapgl"
           }
          ],
          "histogram": [
           {
            "marker": {
             "colorbar": {
              "outlinewidth": 0,
              "ticks": ""
             }
            },
            "type": "histogram"
           }
          ],
          "histogram2d": [
           {
            "colorbar": {
             "outlinewidth": 0,
             "ticks": ""
            },
            "colorscale": [
             [
              0,
              "#0d0887"
             ],
             [
              0.1111111111111111,
              "#46039f"
             ],
             [
              0.2222222222222222,
              "#7201a8"
             ],
             [
              0.3333333333333333,
              "#9c179e"
             ],
             [
              0.4444444444444444,
              "#bd3786"
             ],
             [
              0.5555555555555556,
              "#d8576b"
             ],
             [
              0.6666666666666666,
              "#ed7953"
             ],
             [
              0.7777777777777778,
              "#fb9f3a"
             ],
             [
              0.8888888888888888,
              "#fdca26"
             ],
             [
              1,
              "#f0f921"
             ]
            ],
            "type": "histogram2d"
           }
          ],
          "histogram2dcontour": [
           {
            "colorbar": {
             "outlinewidth": 0,
             "ticks": ""
            },
            "colorscale": [
             [
              0,
              "#0d0887"
             ],
             [
              0.1111111111111111,
              "#46039f"
             ],
             [
              0.2222222222222222,
              "#7201a8"
             ],
             [
              0.3333333333333333,
              "#9c179e"
             ],
             [
              0.4444444444444444,
              "#bd3786"
             ],
             [
              0.5555555555555556,
              "#d8576b"
             ],
             [
              0.6666666666666666,
              "#ed7953"
             ],
             [
              0.7777777777777778,
              "#fb9f3a"
             ],
             [
              0.8888888888888888,
              "#fdca26"
             ],
             [
              1,
              "#f0f921"
             ]
            ],
            "type": "histogram2dcontour"
           }
          ],
          "mesh3d": [
           {
            "colorbar": {
             "outlinewidth": 0,
             "ticks": ""
            },
            "type": "mesh3d"
           }
          ],
          "parcoords": [
           {
            "line": {
             "colorbar": {
              "outlinewidth": 0,
              "ticks": ""
             }
            },
            "type": "parcoords"
           }
          ],
          "pie": [
           {
            "automargin": true,
            "type": "pie"
           }
          ],
          "scatter": [
           {
            "marker": {
             "colorbar": {
              "outlinewidth": 0,
              "ticks": ""
             }
            },
            "type": "scatter"
           }
          ],
          "scatter3d": [
           {
            "line": {
             "colorbar": {
              "outlinewidth": 0,
              "ticks": ""
             }
            },
            "marker": {
             "colorbar": {
              "outlinewidth": 0,
              "ticks": ""
             }
            },
            "type": "scatter3d"
           }
          ],
          "scattercarpet": [
           {
            "marker": {
             "colorbar": {
              "outlinewidth": 0,
              "ticks": ""
             }
            },
            "type": "scattercarpet"
           }
          ],
          "scattergeo": [
           {
            "marker": {
             "colorbar": {
              "outlinewidth": 0,
              "ticks": ""
             }
            },
            "type": "scattergeo"
           }
          ],
          "scattergl": [
           {
            "marker": {
             "colorbar": {
              "outlinewidth": 0,
              "ticks": ""
             }
            },
            "type": "scattergl"
           }
          ],
          "scattermapbox": [
           {
            "marker": {
             "colorbar": {
              "outlinewidth": 0,
              "ticks": ""
             }
            },
            "type": "scattermapbox"
           }
          ],
          "scatterpolar": [
           {
            "marker": {
             "colorbar": {
              "outlinewidth": 0,
              "ticks": ""
             }
            },
            "type": "scatterpolar"
           }
          ],
          "scatterpolargl": [
           {
            "marker": {
             "colorbar": {
              "outlinewidth": 0,
              "ticks": ""
             }
            },
            "type": "scatterpolargl"
           }
          ],
          "scatterternary": [
           {
            "marker": {
             "colorbar": {
              "outlinewidth": 0,
              "ticks": ""
             }
            },
            "type": "scatterternary"
           }
          ],
          "surface": [
           {
            "colorbar": {
             "outlinewidth": 0,
             "ticks": ""
            },
            "colorscale": [
             [
              0,
              "#0d0887"
             ],
             [
              0.1111111111111111,
              "#46039f"
             ],
             [
              0.2222222222222222,
              "#7201a8"
             ],
             [
              0.3333333333333333,
              "#9c179e"
             ],
             [
              0.4444444444444444,
              "#bd3786"
             ],
             [
              0.5555555555555556,
              "#d8576b"
             ],
             [
              0.6666666666666666,
              "#ed7953"
             ],
             [
              0.7777777777777778,
              "#fb9f3a"
             ],
             [
              0.8888888888888888,
              "#fdca26"
             ],
             [
              1,
              "#f0f921"
             ]
            ],
            "type": "surface"
           }
          ],
          "table": [
           {
            "cells": {
             "fill": {
              "color": "#EBF0F8"
             },
             "line": {
              "color": "white"
             }
            },
            "header": {
             "fill": {
              "color": "#C8D4E3"
             },
             "line": {
              "color": "white"
             }
            },
            "type": "table"
           }
          ]
         },
         "layout": {
          "annotationdefaults": {
           "arrowcolor": "#2a3f5f",
           "arrowhead": 0,
           "arrowwidth": 1
          },
          "autotypenumbers": "strict",
          "coloraxis": {
           "colorbar": {
            "outlinewidth": 0,
            "ticks": ""
           }
          },
          "colorscale": {
           "diverging": [
            [
             0,
             "#8e0152"
            ],
            [
             0.1,
             "#c51b7d"
            ],
            [
             0.2,
             "#de77ae"
            ],
            [
             0.3,
             "#f1b6da"
            ],
            [
             0.4,
             "#fde0ef"
            ],
            [
             0.5,
             "#f7f7f7"
            ],
            [
             0.6,
             "#e6f5d0"
            ],
            [
             0.7,
             "#b8e186"
            ],
            [
             0.8,
             "#7fbc41"
            ],
            [
             0.9,
             "#4d9221"
            ],
            [
             1,
             "#276419"
            ]
           ],
           "sequential": [
            [
             0,
             "#0d0887"
            ],
            [
             0.1111111111111111,
             "#46039f"
            ],
            [
             0.2222222222222222,
             "#7201a8"
            ],
            [
             0.3333333333333333,
             "#9c179e"
            ],
            [
             0.4444444444444444,
             "#bd3786"
            ],
            [
             0.5555555555555556,
             "#d8576b"
            ],
            [
             0.6666666666666666,
             "#ed7953"
            ],
            [
             0.7777777777777778,
             "#fb9f3a"
            ],
            [
             0.8888888888888888,
             "#fdca26"
            ],
            [
             1,
             "#f0f921"
            ]
           ],
           "sequentialminus": [
            [
             0,
             "#0d0887"
            ],
            [
             0.1111111111111111,
             "#46039f"
            ],
            [
             0.2222222222222222,
             "#7201a8"
            ],
            [
             0.3333333333333333,
             "#9c179e"
            ],
            [
             0.4444444444444444,
             "#bd3786"
            ],
            [
             0.5555555555555556,
             "#d8576b"
            ],
            [
             0.6666666666666666,
             "#ed7953"
            ],
            [
             0.7777777777777778,
             "#fb9f3a"
            ],
            [
             0.8888888888888888,
             "#fdca26"
            ],
            [
             1,
             "#f0f921"
            ]
           ]
          },
          "colorway": [
           "#636efa",
           "#EF553B",
           "#00cc96",
           "#ab63fa",
           "#FFA15A",
           "#19d3f3",
           "#FF6692",
           "#B6E880",
           "#FF97FF",
           "#FECB52"
          ],
          "font": {
           "color": "#2a3f5f"
          },
          "geo": {
           "bgcolor": "white",
           "lakecolor": "white",
           "landcolor": "#E5ECF6",
           "showlakes": true,
           "showland": true,
           "subunitcolor": "white"
          },
          "hoverlabel": {
           "align": "left"
          },
          "hovermode": "closest",
          "mapbox": {
           "style": "light"
          },
          "paper_bgcolor": "white",
          "plot_bgcolor": "#E5ECF6",
          "polar": {
           "angularaxis": {
            "gridcolor": "white",
            "linecolor": "white",
            "ticks": ""
           },
           "bgcolor": "#E5ECF6",
           "radialaxis": {
            "gridcolor": "white",
            "linecolor": "white",
            "ticks": ""
           }
          },
          "scene": {
           "xaxis": {
            "backgroundcolor": "#E5ECF6",
            "gridcolor": "white",
            "gridwidth": 2,
            "linecolor": "white",
            "showbackground": true,
            "ticks": "",
            "zerolinecolor": "white"
           },
           "yaxis": {
            "backgroundcolor": "#E5ECF6",
            "gridcolor": "white",
            "gridwidth": 2,
            "linecolor": "white",
            "showbackground": true,
            "ticks": "",
            "zerolinecolor": "white"
           },
           "zaxis": {
            "backgroundcolor": "#E5ECF6",
            "gridcolor": "white",
            "gridwidth": 2,
            "linecolor": "white",
            "showbackground": true,
            "ticks": "",
            "zerolinecolor": "white"
           }
          },
          "shapedefaults": {
           "line": {
            "color": "#2a3f5f"
           }
          },
          "ternary": {
           "aaxis": {
            "gridcolor": "white",
            "linecolor": "white",
            "ticks": ""
           },
           "baxis": {
            "gridcolor": "white",
            "linecolor": "white",
            "ticks": ""
           },
           "bgcolor": "#E5ECF6",
           "caxis": {
            "gridcolor": "white",
            "linecolor": "white",
            "ticks": ""
           }
          },
          "title": {
           "x": 0.05
          },
          "xaxis": {
           "automargin": true,
           "gridcolor": "white",
           "linecolor": "white",
           "ticks": "",
           "title": {
            "standoff": 15
           },
           "zerolinecolor": "white",
           "zerolinewidth": 2
          },
          "yaxis": {
           "automargin": true,
           "gridcolor": "white",
           "linecolor": "white",
           "ticks": "",
           "title": {
            "standoff": 15
           },
           "zerolinecolor": "white",
           "zerolinewidth": 2
          }
         }
        },
        "title": {
         "text": "Metoprolol - počet balení nad 50 000"
        },
        "xaxis": {
         "anchor": "y",
         "domain": [
          0,
          1
         ],
         "tickangle": 45,
         "title": {
          "text": " "
         }
        },
        "yaxis": {
         "anchor": "x",
         "domain": [
          0,
          1
         ],
         "title": {
          "text": "Počet balení"
         }
        }
       }
      }
     },
     "metadata": {}
    }
   ],
   "source": [
    "fig = px.bar(metoprolol.query('Počet_balení > 50000').sort_values(by='Počet_balení', ascending=False), x='LIEK_popis', y='Počet_balení', color='STAT_popis', title='Metoprolol - počet balení nad 50 000', color_discrete_sequence=[modra, oranzova, ruzova, zelena], labels={'Počet_balení':'Počet balení', 'STAT_popis':' ', 'LIEK_popis':' '})\n",
    "fig.update_xaxes(tickangle=45)\n",
    "fig.show()"
   ]
  },
  {
   "source": [
    "Pri tejto skupine liekov na liecbu vysokeho krvneho tlaku je prakvapive, ze napriek tomu, ze tu mame aj slovensky liek Vasocardin, omnoho viac predavany je taliansky Betaloc."
   ],
   "cell_type": "markdown",
   "metadata": {}
  },
  {
   "source": [
    "# 11. Kyselina acetylsalicylova"
   ],
   "cell_type": "markdown",
   "metadata": {}
  },
  {
   "cell_type": "code",
   "execution_count": 210,
   "metadata": {},
   "outputs": [
    {
     "output_type": "display_data",
     "data": {
      "text/plain": "                         LIEK_popis STAT_popis  \\\n0                          ANOPYRIN  Slovensko   \n1                   ASPIRIN PROTECT  Slovensko   \n2                         CARDIORAL  Slovensko   \n3                            Gerasa    Rakúsko   \n4  Kyselina acetylsalicylová Xantis     Cyprus   \n5                         Preventax  Holandsko   \n6                        STADAPYRIN    Nemecko   \n7                         Vasopirin      Česko   \n\n                        VYROBCA_popis  index  Počet_balení  \n0                           ZNT-SK-2?   6040   1089219.322  \n1                 Bayer, spol. s.r.o.   3986    329049.400  \n2                IBSA Slovakia s.r.o.   1015         4.000  \n3                     G.L.Pharma GmbH   2027      3931.160  \n4               XANTIS PHARMA LIMITED   2019     10972.540  \n5                           TEV-NL-4?   1016     76991.310  \n6               STADA Arzneimittel AG   2010    201492.075  \n7  PharmaSwiss Česká republika s.r.o.   5025     39774.200  ",
      "text/html": "<div>\n<style scoped>\n    .dataframe tbody tr th:only-of-type {\n        vertical-align: middle;\n    }\n\n    .dataframe tbody tr th {\n        vertical-align: top;\n    }\n\n    .dataframe thead th {\n        text-align: right;\n    }\n</style>\n<table border=\"1\" class=\"dataframe\">\n  <thead>\n    <tr style=\"text-align: right;\">\n      <th></th>\n      <th>LIEK_popis</th>\n      <th>STAT_popis</th>\n      <th>VYROBCA_popis</th>\n      <th>index</th>\n      <th>Počet_balení</th>\n    </tr>\n  </thead>\n  <tbody>\n    <tr>\n      <th>0</th>\n      <td>ANOPYRIN</td>\n      <td>Slovensko</td>\n      <td>ZNT-SK-2?</td>\n      <td>6040</td>\n      <td>1089219.322</td>\n    </tr>\n    <tr>\n      <th>1</th>\n      <td>ASPIRIN PROTECT</td>\n      <td>Slovensko</td>\n      <td>Bayer, spol. s.r.o.</td>\n      <td>3986</td>\n      <td>329049.400</td>\n    </tr>\n    <tr>\n      <th>2</th>\n      <td>CARDIORAL</td>\n      <td>Slovensko</td>\n      <td>IBSA Slovakia s.r.o.</td>\n      <td>1015</td>\n      <td>4.000</td>\n    </tr>\n    <tr>\n      <th>3</th>\n      <td>Gerasa</td>\n      <td>Rakúsko</td>\n      <td>G.L.Pharma GmbH</td>\n      <td>2027</td>\n      <td>3931.160</td>\n    </tr>\n    <tr>\n      <th>4</th>\n      <td>Kyselina acetylsalicylová Xantis</td>\n      <td>Cyprus</td>\n      <td>XANTIS PHARMA LIMITED</td>\n      <td>2019</td>\n      <td>10972.540</td>\n    </tr>\n    <tr>\n      <th>5</th>\n      <td>Preventax</td>\n      <td>Holandsko</td>\n      <td>TEV-NL-4?</td>\n      <td>1016</td>\n      <td>76991.310</td>\n    </tr>\n    <tr>\n      <th>6</th>\n      <td>STADAPYRIN</td>\n      <td>Nemecko</td>\n      <td>STADA Arzneimittel AG</td>\n      <td>2010</td>\n      <td>201492.075</td>\n    </tr>\n    <tr>\n      <th>7</th>\n      <td>Vasopirin</td>\n      <td>Česko</td>\n      <td>PharmaSwiss Česká republika s.r.o.</td>\n      <td>5025</td>\n      <td>39774.200</td>\n    </tr>\n  </tbody>\n</table>\n</div>"
     },
     "metadata": {}
    }
   ],
   "source": [
    "k_acetylsalicylova = top15tab[\"B01AC06\"].sort_values(by='Počet_balení', ascending=False)\n",
    "\n",
    "for i,popis in enumerate(k_acetylsalicylova['LIEK_popis']):\n",
    "    if 'ANOPYRIN' in popis:\n",
    "        k_acetylsalicylova.iloc[i,4] = 'ANOPYRIN'\n",
    "    elif 'ASPIRIN PROTECT' in popis:\n",
    "        k_acetylsalicylova.iloc[i,4] = 'ASPIRIN PROTECT'\n",
    "    elif 'CARDIORAL' in popis:\n",
    "        k_acetylsalicylova.iloc[i,4] = 'CARDIORAL'\n",
    "    elif 'Gerasa' in popis:\n",
    "        k_acetylsalicylova.iloc[i,4] = 'Gerasa'\n",
    "    elif 'Kyselina acetylsalicylová Xantis' in popis:\n",
    "        k_acetylsalicylova.iloc[i,4] = 'Kyselina acetylsalicylová Xantis'\n",
    "    elif 'Preventax' in popis:\n",
    "        k_acetylsalicylova.iloc[i,4] = 'Preventax'\n",
    "    elif 'STADAPYRIN' in popis:\n",
    "        k_acetylsalicylova.iloc[i,4] = 'STADAPYRIN'\n",
    "    elif 'Vasopirin' in popis:\n",
    "        k_acetylsalicylova.iloc[i,4] = 'Vasopirin'\n",
    "   \n",
    "k_acetylsalicylova = k_acetylsalicylova.groupby(['LIEK_popis', 'STAT_popis', 'VYROBCA_popis']).sum().reset_index()\n",
    "\n",
    "display(k_acetylsalicylova.sort_values(by='LIEK_popis'))"
   ]
  },
  {
   "cell_type": "code",
   "execution_count": 214,
   "metadata": {},
   "outputs": [
    {
     "output_type": "display_data",
     "data": {
      "application/vnd.plotly.v1+json": {
       "config": {
        "plotlyServerURL": "https://plot.ly"
       },
       "data": [
        {
         "alignmentgroup": "True",
         "hovertemplate": " =%{x}<br>Počet balení=%{y}<extra></extra>",
         "legendgroup": "Slovensko",
         "marker": {
          "color": "#4B6AAB"
         },
         "name": "Slovensko",
         "offsetgroup": "Slovensko",
         "orientation": "v",
         "showlegend": true,
         "textposition": "auto",
         "type": "bar",
         "x": [
          "ANOPYRIN",
          "ASPIRIN PROTECT"
         ],
         "xaxis": "x",
         "y": [
          1089219.322,
          329049.4
         ],
         "yaxis": "y"
        },
        {
         "alignmentgroup": "True",
         "hovertemplate": " =%{x}<br>Počet balení=%{y}<extra></extra>",
         "legendgroup": "Nemecko",
         "marker": {
          "color": "#D8764C"
         },
         "name": "Nemecko",
         "offsetgroup": "Nemecko",
         "orientation": "v",
         "showlegend": true,
         "textposition": "auto",
         "type": "bar",
         "x": [
          "STADAPYRIN"
         ],
         "xaxis": "x",
         "y": [
          201492.075
         ],
         "yaxis": "y"
        },
        {
         "alignmentgroup": "True",
         "hovertemplate": " =%{x}<br>Počet balení=%{y}<extra></extra>",
         "legendgroup": "Holandsko",
         "marker": {
          "color": "#B75B9E"
         },
         "name": "Holandsko",
         "offsetgroup": "Holandsko",
         "orientation": "v",
         "showlegend": true,
         "textposition": "auto",
         "type": "bar",
         "x": [
          "Preventax"
         ],
         "xaxis": "x",
         "y": [
          76991.31000000001
         ],
         "yaxis": "y"
        }
       ],
       "layout": {
        "barmode": "relative",
        "legend": {
         "title": {
          "text": " "
         },
         "tracegroupgap": 0
        },
        "template": {
         "data": {
          "bar": [
           {
            "error_x": {
             "color": "#2a3f5f"
            },
            "error_y": {
             "color": "#2a3f5f"
            },
            "marker": {
             "line": {
              "color": "#E5ECF6",
              "width": 0.5
             }
            },
            "type": "bar"
           }
          ],
          "barpolar": [
           {
            "marker": {
             "line": {
              "color": "#E5ECF6",
              "width": 0.5
             }
            },
            "type": "barpolar"
           }
          ],
          "carpet": [
           {
            "aaxis": {
             "endlinecolor": "#2a3f5f",
             "gridcolor": "white",
             "linecolor": "white",
             "minorgridcolor": "white",
             "startlinecolor": "#2a3f5f"
            },
            "baxis": {
             "endlinecolor": "#2a3f5f",
             "gridcolor": "white",
             "linecolor": "white",
             "minorgridcolor": "white",
             "startlinecolor": "#2a3f5f"
            },
            "type": "carpet"
           }
          ],
          "choropleth": [
           {
            "colorbar": {
             "outlinewidth": 0,
             "ticks": ""
            },
            "type": "choropleth"
           }
          ],
          "contour": [
           {
            "colorbar": {
             "outlinewidth": 0,
             "ticks": ""
            },
            "colorscale": [
             [
              0,
              "#0d0887"
             ],
             [
              0.1111111111111111,
              "#46039f"
             ],
             [
              0.2222222222222222,
              "#7201a8"
             ],
             [
              0.3333333333333333,
              "#9c179e"
             ],
             [
              0.4444444444444444,
              "#bd3786"
             ],
             [
              0.5555555555555556,
              "#d8576b"
             ],
             [
              0.6666666666666666,
              "#ed7953"
             ],
             [
              0.7777777777777778,
              "#fb9f3a"
             ],
             [
              0.8888888888888888,
              "#fdca26"
             ],
             [
              1,
              "#f0f921"
             ]
            ],
            "type": "contour"
           }
          ],
          "contourcarpet": [
           {
            "colorbar": {
             "outlinewidth": 0,
             "ticks": ""
            },
            "type": "contourcarpet"
           }
          ],
          "heatmap": [
           {
            "colorbar": {
             "outlinewidth": 0,
             "ticks": ""
            },
            "colorscale": [
             [
              0,
              "#0d0887"
             ],
             [
              0.1111111111111111,
              "#46039f"
             ],
             [
              0.2222222222222222,
              "#7201a8"
             ],
             [
              0.3333333333333333,
              "#9c179e"
             ],
             [
              0.4444444444444444,
              "#bd3786"
             ],
             [
              0.5555555555555556,
              "#d8576b"
             ],
             [
              0.6666666666666666,
              "#ed7953"
             ],
             [
              0.7777777777777778,
              "#fb9f3a"
             ],
             [
              0.8888888888888888,
              "#fdca26"
             ],
             [
              1,
              "#f0f921"
             ]
            ],
            "type": "heatmap"
           }
          ],
          "heatmapgl": [
           {
            "colorbar": {
             "outlinewidth": 0,
             "ticks": ""
            },
            "colorscale": [
             [
              0,
              "#0d0887"
             ],
             [
              0.1111111111111111,
              "#46039f"
             ],
             [
              0.2222222222222222,
              "#7201a8"
             ],
             [
              0.3333333333333333,
              "#9c179e"
             ],
             [
              0.4444444444444444,
              "#bd3786"
             ],
             [
              0.5555555555555556,
              "#d8576b"
             ],
             [
              0.6666666666666666,
              "#ed7953"
             ],
             [
              0.7777777777777778,
              "#fb9f3a"
             ],
             [
              0.8888888888888888,
              "#fdca26"
             ],
             [
              1,
              "#f0f921"
             ]
            ],
            "type": "heatmapgl"
           }
          ],
          "histogram": [
           {
            "marker": {
             "colorbar": {
              "outlinewidth": 0,
              "ticks": ""
             }
            },
            "type": "histogram"
           }
          ],
          "histogram2d": [
           {
            "colorbar": {
             "outlinewidth": 0,
             "ticks": ""
            },
            "colorscale": [
             [
              0,
              "#0d0887"
             ],
             [
              0.1111111111111111,
              "#46039f"
             ],
             [
              0.2222222222222222,
              "#7201a8"
             ],
             [
              0.3333333333333333,
              "#9c179e"
             ],
             [
              0.4444444444444444,
              "#bd3786"
             ],
             [
              0.5555555555555556,
              "#d8576b"
             ],
             [
              0.6666666666666666,
              "#ed7953"
             ],
             [
              0.7777777777777778,
              "#fb9f3a"
             ],
             [
              0.8888888888888888,
              "#fdca26"
             ],
             [
              1,
              "#f0f921"
             ]
            ],
            "type": "histogram2d"
           }
          ],
          "histogram2dcontour": [
           {
            "colorbar": {
             "outlinewidth": 0,
             "ticks": ""
            },
            "colorscale": [
             [
              0,
              "#0d0887"
             ],
             [
              0.1111111111111111,
              "#46039f"
             ],
             [
              0.2222222222222222,
              "#7201a8"
             ],
             [
              0.3333333333333333,
              "#9c179e"
             ],
             [
              0.4444444444444444,
              "#bd3786"
             ],
             [
              0.5555555555555556,
              "#d8576b"
             ],
             [
              0.6666666666666666,
              "#ed7953"
             ],
             [
              0.7777777777777778,
              "#fb9f3a"
             ],
             [
              0.8888888888888888,
              "#fdca26"
             ],
             [
              1,
              "#f0f921"
             ]
            ],
            "type": "histogram2dcontour"
           }
          ],
          "mesh3d": [
           {
            "colorbar": {
             "outlinewidth": 0,
             "ticks": ""
            },
            "type": "mesh3d"
           }
          ],
          "parcoords": [
           {
            "line": {
             "colorbar": {
              "outlinewidth": 0,
              "ticks": ""
             }
            },
            "type": "parcoords"
           }
          ],
          "pie": [
           {
            "automargin": true,
            "type": "pie"
           }
          ],
          "scatter": [
           {
            "marker": {
             "colorbar": {
              "outlinewidth": 0,
              "ticks": ""
             }
            },
            "type": "scatter"
           }
          ],
          "scatter3d": [
           {
            "line": {
             "colorbar": {
              "outlinewidth": 0,
              "ticks": ""
             }
            },
            "marker": {
             "colorbar": {
              "outlinewidth": 0,
              "ticks": ""
             }
            },
            "type": "scatter3d"
           }
          ],
          "scattercarpet": [
           {
            "marker": {
             "colorbar": {
              "outlinewidth": 0,
              "ticks": ""
             }
            },
            "type": "scattercarpet"
           }
          ],
          "scattergeo": [
           {
            "marker": {
             "colorbar": {
              "outlinewidth": 0,
              "ticks": ""
             }
            },
            "type": "scattergeo"
           }
          ],
          "scattergl": [
           {
            "marker": {
             "colorbar": {
              "outlinewidth": 0,
              "ticks": ""
             }
            },
            "type": "scattergl"
           }
          ],
          "scattermapbox": [
           {
            "marker": {
             "colorbar": {
              "outlinewidth": 0,
              "ticks": ""
             }
            },
            "type": "scattermapbox"
           }
          ],
          "scatterpolar": [
           {
            "marker": {
             "colorbar": {
              "outlinewidth": 0,
              "ticks": ""
             }
            },
            "type": "scatterpolar"
           }
          ],
          "scatterpolargl": [
           {
            "marker": {
             "colorbar": {
              "outlinewidth": 0,
              "ticks": ""
             }
            },
            "type": "scatterpolargl"
           }
          ],
          "scatterternary": [
           {
            "marker": {
             "colorbar": {
              "outlinewidth": 0,
              "ticks": ""
             }
            },
            "type": "scatterternary"
           }
          ],
          "surface": [
           {
            "colorbar": {
             "outlinewidth": 0,
             "ticks": ""
            },
            "colorscale": [
             [
              0,
              "#0d0887"
             ],
             [
              0.1111111111111111,
              "#46039f"
             ],
             [
              0.2222222222222222,
              "#7201a8"
             ],
             [
              0.3333333333333333,
              "#9c179e"
             ],
             [
              0.4444444444444444,
              "#bd3786"
             ],
             [
              0.5555555555555556,
              "#d8576b"
             ],
             [
              0.6666666666666666,
              "#ed7953"
             ],
             [
              0.7777777777777778,
              "#fb9f3a"
             ],
             [
              0.8888888888888888,
              "#fdca26"
             ],
             [
              1,
              "#f0f921"
             ]
            ],
            "type": "surface"
           }
          ],
          "table": [
           {
            "cells": {
             "fill": {
              "color": "#EBF0F8"
             },
             "line": {
              "color": "white"
             }
            },
            "header": {
             "fill": {
              "color": "#C8D4E3"
             },
             "line": {
              "color": "white"
             }
            },
            "type": "table"
           }
          ]
         },
         "layout": {
          "annotationdefaults": {
           "arrowcolor": "#2a3f5f",
           "arrowhead": 0,
           "arrowwidth": 1
          },
          "autotypenumbers": "strict",
          "coloraxis": {
           "colorbar": {
            "outlinewidth": 0,
            "ticks": ""
           }
          },
          "colorscale": {
           "diverging": [
            [
             0,
             "#8e0152"
            ],
            [
             0.1,
             "#c51b7d"
            ],
            [
             0.2,
             "#de77ae"
            ],
            [
             0.3,
             "#f1b6da"
            ],
            [
             0.4,
             "#fde0ef"
            ],
            [
             0.5,
             "#f7f7f7"
            ],
            [
             0.6,
             "#e6f5d0"
            ],
            [
             0.7,
             "#b8e186"
            ],
            [
             0.8,
             "#7fbc41"
            ],
            [
             0.9,
             "#4d9221"
            ],
            [
             1,
             "#276419"
            ]
           ],
           "sequential": [
            [
             0,
             "#0d0887"
            ],
            [
             0.1111111111111111,
             "#46039f"
            ],
            [
             0.2222222222222222,
             "#7201a8"
            ],
            [
             0.3333333333333333,
             "#9c179e"
            ],
            [
             0.4444444444444444,
             "#bd3786"
            ],
            [
             0.5555555555555556,
             "#d8576b"
            ],
            [
             0.6666666666666666,
             "#ed7953"
            ],
            [
             0.7777777777777778,
             "#fb9f3a"
            ],
            [
             0.8888888888888888,
             "#fdca26"
            ],
            [
             1,
             "#f0f921"
            ]
           ],
           "sequentialminus": [
            [
             0,
             "#0d0887"
            ],
            [
             0.1111111111111111,
             "#46039f"
            ],
            [
             0.2222222222222222,
             "#7201a8"
            ],
            [
             0.3333333333333333,
             "#9c179e"
            ],
            [
             0.4444444444444444,
             "#bd3786"
            ],
            [
             0.5555555555555556,
             "#d8576b"
            ],
            [
             0.6666666666666666,
             "#ed7953"
            ],
            [
             0.7777777777777778,
             "#fb9f3a"
            ],
            [
             0.8888888888888888,
             "#fdca26"
            ],
            [
             1,
             "#f0f921"
            ]
           ]
          },
          "colorway": [
           "#636efa",
           "#EF553B",
           "#00cc96",
           "#ab63fa",
           "#FFA15A",
           "#19d3f3",
           "#FF6692",
           "#B6E880",
           "#FF97FF",
           "#FECB52"
          ],
          "font": {
           "color": "#2a3f5f"
          },
          "geo": {
           "bgcolor": "white",
           "lakecolor": "white",
           "landcolor": "#E5ECF6",
           "showlakes": true,
           "showland": true,
           "subunitcolor": "white"
          },
          "hoverlabel": {
           "align": "left"
          },
          "hovermode": "closest",
          "mapbox": {
           "style": "light"
          },
          "paper_bgcolor": "white",
          "plot_bgcolor": "#E5ECF6",
          "polar": {
           "angularaxis": {
            "gridcolor": "white",
            "linecolor": "white",
            "ticks": ""
           },
           "bgcolor": "#E5ECF6",
           "radialaxis": {
            "gridcolor": "white",
            "linecolor": "white",
            "ticks": ""
           }
          },
          "scene": {
           "xaxis": {
            "backgroundcolor": "#E5ECF6",
            "gridcolor": "white",
            "gridwidth": 2,
            "linecolor": "white",
            "showbackground": true,
            "ticks": "",
            "zerolinecolor": "white"
           },
           "yaxis": {
            "backgroundcolor": "#E5ECF6",
            "gridcolor": "white",
            "gridwidth": 2,
            "linecolor": "white",
            "showbackground": true,
            "ticks": "",
            "zerolinecolor": "white"
           },
           "zaxis": {
            "backgroundcolor": "#E5ECF6",
            "gridcolor": "white",
            "gridwidth": 2,
            "linecolor": "white",
            "showbackground": true,
            "ticks": "",
            "zerolinecolor": "white"
           }
          },
          "shapedefaults": {
           "line": {
            "color": "#2a3f5f"
           }
          },
          "ternary": {
           "aaxis": {
            "gridcolor": "white",
            "linecolor": "white",
            "ticks": ""
           },
           "baxis": {
            "gridcolor": "white",
            "linecolor": "white",
            "ticks": ""
           },
           "bgcolor": "#E5ECF6",
           "caxis": {
            "gridcolor": "white",
            "linecolor": "white",
            "ticks": ""
           }
          },
          "title": {
           "x": 0.05
          },
          "xaxis": {
           "automargin": true,
           "gridcolor": "white",
           "linecolor": "white",
           "ticks": "",
           "title": {
            "standoff": 15
           },
           "zerolinecolor": "white",
           "zerolinewidth": 2
          },
          "yaxis": {
           "automargin": true,
           "gridcolor": "white",
           "linecolor": "white",
           "ticks": "",
           "title": {
            "standoff": 15
           },
           "zerolinecolor": "white",
           "zerolinewidth": 2
          }
         }
        },
        "title": {
         "text": "Kyselina acetylsalicylová - počet balení nad 50 000"
        },
        "xaxis": {
         "anchor": "y",
         "domain": [
          0,
          1
         ],
         "tickangle": 45,
         "title": {
          "text": " "
         }
        },
        "yaxis": {
         "anchor": "x",
         "domain": [
          0,
          1
         ],
         "title": {
          "text": "Počet balení"
         }
        }
       }
      }
     },
     "metadata": {}
    }
   ],
   "source": [
    "fig = px.bar(k_acetylsalicylova.query('Počet_balení > 50000').sort_values(by='Počet_balení', ascending=False), x='LIEK_popis', y='Počet_balení', color='STAT_popis', title='Kyselina acetylsalicylová - počet balení nad 50 000', color_discrete_sequence=[modra, oranzova, ruzova],labels={'Počet_balení':'Počet balení', 'STAT_popis':' ', 'LIEK_popis':' '})\n",
    "fig.update_xaxes(tickangle=45)\n",
    "fig.show()"
   ]
  },
  {
   "source": [
    "Najpredavanejsim liekom s kyselinou acetylsalicylovou je slovensky Anopyrin. Ide o ucinne analgetikum a antipyretikum, ktore takisto potlaca zapaly. V tejto skupine maju velke zastupenie slovenske lieky, ktorych sa voci ostatnym krajinam predava velmi vela."
   ],
   "cell_type": "markdown",
   "metadata": {}
  },
  {
   "source": [
    "# 12. Atorvastatin"
   ],
   "cell_type": "markdown",
   "metadata": {}
  },
  {
   "cell_type": "code",
   "execution_count": 221,
   "metadata": {},
   "outputs": [
    {
     "output_type": "display_data",
     "data": {
      "text/plain": "                  LIEK_popis          STAT_popis  \\\n0                     AGETOR          Španielsko   \n1                     AMICOR              Cyprus   \n2                     ATORIS           Slovinsko   \n3           ATORVASTATIN HBF              Island   \n4                    Astator           Slovinsko   \n5                     Atilen              Island   \n6                  Atorgamma              Island   \n7                  Atorpharm              Island   \n8                  Atorpharm            Maďarsko   \n9       Atorvastatin Actavis              Island   \n10       Atorvastatin Farmax               Česko   \n11        Atorvastatin Hikma         Portugalsko   \n12      Atorvastatin Miklich          Španielsko   \n14        Atorvastatin Mylan               ĺrsko   \n13        Atorvastatin Mylan            Maďarsko   \n15        Atorvastatin Orion              Fínsko   \n16       Atorvastatin Pfizer  Spojené kráľovstvo   \n17        Atorvastatin STADA             Nemecko   \n18       Atorvastatin Saneca              Cyprus   \n19  Atorvastatin Teva Pharma           Slovensko   \n20   Atorvastatin ratiopharm              Island   \n21                   Atorvin              Island   \n22                    Gletor               Česko   \n23                 Lambrinex              Grécko   \n24                    SORTIS            Belgicko   \n25                 TORVACARD           Slovensko   \n26           Torvacard Novum               Česko   \n27                  Torvazin            Maďarsko   \n28                     Tulip           Slovinsko   \n29                     Tulip           Slovinsko   \n\n                           VYROBCA_popis  index  Počet_balení  \n0              Laboratorios Belmac, S.A.   2843        48.000  \n1                        Medochemie Ltd.  11222        11.000  \n2                  KRKA d.d., Novo mesto  31395    561480.081  \n3                            Actavis hf.   2882         1.000  \n4                  KRKA d.d., Novo mesto  14110        31.000  \n5                            Actavis hf.   2881        82.000  \n6                            Actavis hf.   2889         5.000  \n7                            Actavis hf.   2873        20.000  \n8                    Gedeon Richter Plc.   8613        54.000  \n9                  Actavis Group PTC ehf  28645    282756.050  \n10                      SVUS Pharma a.s.   5767        43.400  \n11    Hikma Farmaceutica (Portugal) S.A.   2819         2.000  \n12             Miklich Laboratorios S.L.   2825        64.000  \n14                 Mylan Ireland Limited  11260     18979.800  \n13                       Pharma Pack Kft   2801         2.000  \n15                     Orion Corporation   5707         3.000  \n16                 Pfizer Europe MA EEIG   5655        12.000  \n17                 STADA Arzneimittel AG  11574     25251.000  \n18                 XANTIS PHARMA LIMITED  23278      7869.324  \n19  TEVA Pharmaceuticals Slovakia s.r.o.  22708     25164.160  \n20                           Actavis hf.   5781        12.000  \n21                           Actavis hf.   2874         2.000  \n22       Glenmark Pharmaceuticals s.r.o.  11546      4374.520  \n23                       Pharmathen S.A.  16893        35.000  \n24                 Pfizer Europe MA EEIG  11548    128406.967  \n25                             ZNT-SK-2?  20253        47.000  \n26                         Zentiva, k.s.  25632    363736.663  \n27              EGIS Pharmaceuticals PLC   8691         4.330  \n28              LEK Pharmaceuticals d.d.  11550       113.000  \n29           Sandoz Pharmaceuticals d.d.  22706    152051.083  ",
      "text/html": "<div>\n<style scoped>\n    .dataframe tbody tr th:only-of-type {\n        vertical-align: middle;\n    }\n\n    .dataframe tbody tr th {\n        vertical-align: top;\n    }\n\n    .dataframe thead th {\n        text-align: right;\n    }\n</style>\n<table border=\"1\" class=\"dataframe\">\n  <thead>\n    <tr style=\"text-align: right;\">\n      <th></th>\n      <th>LIEK_popis</th>\n      <th>STAT_popis</th>\n      <th>VYROBCA_popis</th>\n      <th>index</th>\n      <th>Počet_balení</th>\n    </tr>\n  </thead>\n  <tbody>\n    <tr>\n      <th>0</th>\n      <td>AGETOR</td>\n      <td>Španielsko</td>\n      <td>Laboratorios Belmac, S.A.</td>\n      <td>2843</td>\n      <td>48.000</td>\n    </tr>\n    <tr>\n      <th>1</th>\n      <td>AMICOR</td>\n      <td>Cyprus</td>\n      <td>Medochemie Ltd.</td>\n      <td>11222</td>\n      <td>11.000</td>\n    </tr>\n    <tr>\n      <th>2</th>\n      <td>ATORIS</td>\n      <td>Slovinsko</td>\n      <td>KRKA d.d., Novo mesto</td>\n      <td>31395</td>\n      <td>561480.081</td>\n    </tr>\n    <tr>\n      <th>3</th>\n      <td>ATORVASTATIN HBF</td>\n      <td>Island</td>\n      <td>Actavis hf.</td>\n      <td>2882</td>\n      <td>1.000</td>\n    </tr>\n    <tr>\n      <th>4</th>\n      <td>Astator</td>\n      <td>Slovinsko</td>\n      <td>KRKA d.d., Novo mesto</td>\n      <td>14110</td>\n      <td>31.000</td>\n    </tr>\n    <tr>\n      <th>5</th>\n      <td>Atilen</td>\n      <td>Island</td>\n      <td>Actavis hf.</td>\n      <td>2881</td>\n      <td>82.000</td>\n    </tr>\n    <tr>\n      <th>6</th>\n      <td>Atorgamma</td>\n      <td>Island</td>\n      <td>Actavis hf.</td>\n      <td>2889</td>\n      <td>5.000</td>\n    </tr>\n    <tr>\n      <th>7</th>\n      <td>Atorpharm</td>\n      <td>Island</td>\n      <td>Actavis hf.</td>\n      <td>2873</td>\n      <td>20.000</td>\n    </tr>\n    <tr>\n      <th>8</th>\n      <td>Atorpharm</td>\n      <td>Maďarsko</td>\n      <td>Gedeon Richter Plc.</td>\n      <td>8613</td>\n      <td>54.000</td>\n    </tr>\n    <tr>\n      <th>9</th>\n      <td>Atorvastatin Actavis</td>\n      <td>Island</td>\n      <td>Actavis Group PTC ehf</td>\n      <td>28645</td>\n      <td>282756.050</td>\n    </tr>\n    <tr>\n      <th>10</th>\n      <td>Atorvastatin Farmax</td>\n      <td>Česko</td>\n      <td>SVUS Pharma a.s.</td>\n      <td>5767</td>\n      <td>43.400</td>\n    </tr>\n    <tr>\n      <th>11</th>\n      <td>Atorvastatin Hikma</td>\n      <td>Portugalsko</td>\n      <td>Hikma Farmaceutica (Portugal) S.A.</td>\n      <td>2819</td>\n      <td>2.000</td>\n    </tr>\n    <tr>\n      <th>12</th>\n      <td>Atorvastatin Miklich</td>\n      <td>Španielsko</td>\n      <td>Miklich Laboratorios S.L.</td>\n      <td>2825</td>\n      <td>64.000</td>\n    </tr>\n    <tr>\n      <th>14</th>\n      <td>Atorvastatin Mylan</td>\n      <td>ĺrsko</td>\n      <td>Mylan Ireland Limited</td>\n      <td>11260</td>\n      <td>18979.800</td>\n    </tr>\n    <tr>\n      <th>13</th>\n      <td>Atorvastatin Mylan</td>\n      <td>Maďarsko</td>\n      <td>Pharma Pack Kft</td>\n      <td>2801</td>\n      <td>2.000</td>\n    </tr>\n    <tr>\n      <th>15</th>\n      <td>Atorvastatin Orion</td>\n      <td>Fínsko</td>\n      <td>Orion Corporation</td>\n      <td>5707</td>\n      <td>3.000</td>\n    </tr>\n    <tr>\n      <th>16</th>\n      <td>Atorvastatin Pfizer</td>\n      <td>Spojené kráľovstvo</td>\n      <td>Pfizer Europe MA EEIG</td>\n      <td>5655</td>\n      <td>12.000</td>\n    </tr>\n    <tr>\n      <th>17</th>\n      <td>Atorvastatin STADA</td>\n      <td>Nemecko</td>\n      <td>STADA Arzneimittel AG</td>\n      <td>11574</td>\n      <td>25251.000</td>\n    </tr>\n    <tr>\n      <th>18</th>\n      <td>Atorvastatin Saneca</td>\n      <td>Cyprus</td>\n      <td>XANTIS PHARMA LIMITED</td>\n      <td>23278</td>\n      <td>7869.324</td>\n    </tr>\n    <tr>\n      <th>19</th>\n      <td>Atorvastatin Teva Pharma</td>\n      <td>Slovensko</td>\n      <td>TEVA Pharmaceuticals Slovakia s.r.o.</td>\n      <td>22708</td>\n      <td>25164.160</td>\n    </tr>\n    <tr>\n      <th>20</th>\n      <td>Atorvastatin ratiopharm</td>\n      <td>Island</td>\n      <td>Actavis hf.</td>\n      <td>5781</td>\n      <td>12.000</td>\n    </tr>\n    <tr>\n      <th>21</th>\n      <td>Atorvin</td>\n      <td>Island</td>\n      <td>Actavis hf.</td>\n      <td>2874</td>\n      <td>2.000</td>\n    </tr>\n    <tr>\n      <th>22</th>\n      <td>Gletor</td>\n      <td>Česko</td>\n      <td>Glenmark Pharmaceuticals s.r.o.</td>\n      <td>11546</td>\n      <td>4374.520</td>\n    </tr>\n    <tr>\n      <th>23</th>\n      <td>Lambrinex</td>\n      <td>Grécko</td>\n      <td>Pharmathen S.A.</td>\n      <td>16893</td>\n      <td>35.000</td>\n    </tr>\n    <tr>\n      <th>24</th>\n      <td>SORTIS</td>\n      <td>Belgicko</td>\n      <td>Pfizer Europe MA EEIG</td>\n      <td>11548</td>\n      <td>128406.967</td>\n    </tr>\n    <tr>\n      <th>25</th>\n      <td>TORVACARD</td>\n      <td>Slovensko</td>\n      <td>ZNT-SK-2?</td>\n      <td>20253</td>\n      <td>47.000</td>\n    </tr>\n    <tr>\n      <th>26</th>\n      <td>Torvacard Novum</td>\n      <td>Česko</td>\n      <td>Zentiva, k.s.</td>\n      <td>25632</td>\n      <td>363736.663</td>\n    </tr>\n    <tr>\n      <th>27</th>\n      <td>Torvazin</td>\n      <td>Maďarsko</td>\n      <td>EGIS Pharmaceuticals PLC</td>\n      <td>8691</td>\n      <td>4.330</td>\n    </tr>\n    <tr>\n      <th>28</th>\n      <td>Tulip</td>\n      <td>Slovinsko</td>\n      <td>LEK Pharmaceuticals d.d.</td>\n      <td>11550</td>\n      <td>113.000</td>\n    </tr>\n    <tr>\n      <th>29</th>\n      <td>Tulip</td>\n      <td>Slovinsko</td>\n      <td>Sandoz Pharmaceuticals d.d.</td>\n      <td>22706</td>\n      <td>152051.083</td>\n    </tr>\n  </tbody>\n</table>\n</div>"
     },
     "metadata": {}
    }
   ],
   "source": [
    "atorvastatin = top15tab[\"C10AA05\"].sort_values(by='Počet_balení', ascending=False)\n",
    "\n",
    "for i,popis in enumerate(atorvastatin['LIEK_popis']):\n",
    "    if 'ATORIS' in popis:\n",
    "        atorvastatin.iloc[i,4] = 'ATORIS'\n",
    "    elif 'Atoris' in popis:\n",
    "        atorvastatin.iloc[i,4] = 'ATORIS'\n",
    "    elif 'Atorvastatin Actavis' in popis:\n",
    "        atorvastatin.iloc[i,4] = 'Atorvastatin Actavis'\n",
    "    elif 'SORTIS' in popis:\n",
    "        atorvastatin.iloc[i,4] = 'SORTIS'\n",
    "    elif 'Torvacard Novum' in popis:\n",
    "        atorvastatin.iloc[i,4] = 'Torvacard Novum'\n",
    "    elif 'Tulip' in popis:\n",
    "        atorvastatin.iloc[i,4] = 'Tulip'\n",
    "    elif 'TULIP' in popis:\n",
    "        atorvastatin.iloc[i,4] = 'Tulip'\n",
    "    elif 'Atorvastatin Mylan' in popis:\n",
    "        atorvastatin.iloc[i,4] = 'Atorvastatin Mylan'\n",
    "    elif 'Atorvastatin STADA' in popis:\n",
    "        atorvastatin.iloc[i,4] = 'Atorvastatin STADA'\n",
    "    elif 'Atorvastatin Teva Pharma' in popis:\n",
    "        atorvastatin.iloc[i,4] = 'Atorvastatin Teva Pharma'\n",
    "    elif 'Atorvastatin Saneca' in popis:\n",
    "        atorvastatin.iloc[i,4] = 'Atorvastatin Saneca'\n",
    "    elif 'Gletor' in popis:\n",
    "        atorvastatin.iloc[i,4] = 'Gletor'\n",
    "    elif 'AGETOR' in popis:\n",
    "        atorvastatin.iloc[i,4] = 'AGETOR'\n",
    "    elif 'AMICOR' in popis:\n",
    "        atorvastatin.iloc[i,4] = 'AMICOR'\n",
    "    elif 'ATORVASTATIN HBF' in popis:\n",
    "        atorvastatin.iloc[i,4] = 'ATORVASTATIN HBF'\n",
    "    elif 'Astator' in popis:\n",
    "        atorvastatin.iloc[i,4] = 'Astator'\n",
    "    elif 'Atilen' in popis:\n",
    "        atorvastatin.iloc[i,4] = 'Atilen'\n",
    "    elif 'Atorgamma' in popis:\n",
    "        atorvastatin.iloc[i,4] = 'Atorgamma'\n",
    "    elif 'Atorpharm' in popis:\n",
    "        atorvastatin.iloc[i,4] = 'Atorpharm'\n",
    "    elif 'Atorvastatin Farmax' in popis:\n",
    "        atorvastatin.iloc[i,4] = 'Atorvastatin Farmax'\n",
    "    elif 'Atorvastatin Hikma' in popis:\n",
    "        atorvastatin.iloc[i,4] = 'Atorvastatin Hikma'\n",
    "    elif 'Atorvastatin Miklich' in popis:\n",
    "        atorvastatin.iloc[i,4] = 'Atorvastatin Miklich'\n",
    "    elif 'Atorvastatin Orion' in popis:\n",
    "        atorvastatin.iloc[i,4] = 'Atorvastatin Orion'\n",
    "    elif 'Atorvastatin Pfizer' in popis:\n",
    "        atorvastatin.iloc[i,4] = 'Atorvastatin Pfizer'\n",
    "    elif 'Atorvastatin ratiopharm' in popis:\n",
    "        atorvastatin.iloc[i,4] = 'Atorvastatin ratiopharm'\n",
    "    elif 'Atorvin' in popis:\n",
    "        atorvastatin.iloc[i,4] = 'Atorvin'\n",
    "    elif 'Lambrinex' in popis:\n",
    "        atorvastatin.iloc[i,4] = 'Lambrinex'\n",
    "    elif 'TORVACARD' in popis:\n",
    "        atorvastatin.iloc[i,4] = 'TORVACARD'\n",
    "    elif 'Torvazin' in popis:\n",
    "        atorvastatin.iloc[i,4] = 'Torvazin'\n",
    "\n",
    "atorvastatin = atorvastatin.groupby(['LIEK_popis', 'STAT_popis', 'VYROBCA_popis']).sum().reset_index()\n",
    "\n",
    "display(atorvastatin.sort_values(by='LIEK_popis'))"
   ]
  },
  {
   "cell_type": "code",
   "execution_count": 229,
   "metadata": {},
   "outputs": [
    {
     "output_type": "display_data",
     "data": {
      "application/vnd.plotly.v1+json": {
       "config": {
        "plotlyServerURL": "https://plot.ly"
       },
       "data": [
        {
         "alignmentgroup": "True",
         "hovertemplate": " =%{x}<br>Počet balení=%{y}<extra></extra>",
         "legendgroup": "Slovinsko",
         "marker": {
          "color": "#4B6AAB"
         },
         "name": "Slovinsko",
         "offsetgroup": "Slovinsko",
         "orientation": "v",
         "showlegend": true,
         "textposition": "auto",
         "type": "bar",
         "x": [
          "ATORIS",
          "Tulip"
         ],
         "xaxis": "x",
         "y": [
          561480.0809999999,
          152051.08299999998
         ],
         "yaxis": "y"
        },
        {
         "alignmentgroup": "True",
         "hovertemplate": " =%{x}<br>Počet balení=%{y}<extra></extra>",
         "legendgroup": "Česko",
         "marker": {
          "color": "#D8764C"
         },
         "name": "Česko",
         "offsetgroup": "Česko",
         "orientation": "v",
         "showlegend": true,
         "textposition": "auto",
         "type": "bar",
         "x": [
          "Torvacard Novum"
         ],
         "xaxis": "x",
         "y": [
          363736.663
         ],
         "yaxis": "y"
        },
        {
         "alignmentgroup": "True",
         "hovertemplate": " =%{x}<br>Počet balení=%{y}<extra></extra>",
         "legendgroup": "Island",
         "marker": {
          "color": "#B75B9E"
         },
         "name": "Island",
         "offsetgroup": "Island",
         "orientation": "v",
         "showlegend": true,
         "textposition": "auto",
         "type": "bar",
         "x": [
          "Atorvastatin Actavis"
         ],
         "xaxis": "x",
         "y": [
          282756.05000000005
         ],
         "yaxis": "y"
        },
        {
         "alignmentgroup": "True",
         "hovertemplate": " =%{x}<br>Počet balení=%{y}<extra></extra>",
         "legendgroup": "Belgicko",
         "marker": {
          "color": "#73B5AB"
         },
         "name": "Belgicko",
         "offsetgroup": "Belgicko",
         "orientation": "v",
         "showlegend": true,
         "textposition": "auto",
         "type": "bar",
         "x": [
          "SORTIS"
         ],
         "xaxis": "x",
         "y": [
          128406.96699999999
         ],
         "yaxis": "y"
        }
       ],
       "layout": {
        "barmode": "relative",
        "legend": {
         "title": {
          "text": " "
         },
         "tracegroupgap": 0
        },
        "template": {
         "data": {
          "bar": [
           {
            "error_x": {
             "color": "#2a3f5f"
            },
            "error_y": {
             "color": "#2a3f5f"
            },
            "marker": {
             "line": {
              "color": "#E5ECF6",
              "width": 0.5
             }
            },
            "type": "bar"
           }
          ],
          "barpolar": [
           {
            "marker": {
             "line": {
              "color": "#E5ECF6",
              "width": 0.5
             }
            },
            "type": "barpolar"
           }
          ],
          "carpet": [
           {
            "aaxis": {
             "endlinecolor": "#2a3f5f",
             "gridcolor": "white",
             "linecolor": "white",
             "minorgridcolor": "white",
             "startlinecolor": "#2a3f5f"
            },
            "baxis": {
             "endlinecolor": "#2a3f5f",
             "gridcolor": "white",
             "linecolor": "white",
             "minorgridcolor": "white",
             "startlinecolor": "#2a3f5f"
            },
            "type": "carpet"
           }
          ],
          "choropleth": [
           {
            "colorbar": {
             "outlinewidth": 0,
             "ticks": ""
            },
            "type": "choropleth"
           }
          ],
          "contour": [
           {
            "colorbar": {
             "outlinewidth": 0,
             "ticks": ""
            },
            "colorscale": [
             [
              0,
              "#0d0887"
             ],
             [
              0.1111111111111111,
              "#46039f"
             ],
             [
              0.2222222222222222,
              "#7201a8"
             ],
             [
              0.3333333333333333,
              "#9c179e"
             ],
             [
              0.4444444444444444,
              "#bd3786"
             ],
             [
              0.5555555555555556,
              "#d8576b"
             ],
             [
              0.6666666666666666,
              "#ed7953"
             ],
             [
              0.7777777777777778,
              "#fb9f3a"
             ],
             [
              0.8888888888888888,
              "#fdca26"
             ],
             [
              1,
              "#f0f921"
             ]
            ],
            "type": "contour"
           }
          ],
          "contourcarpet": [
           {
            "colorbar": {
             "outlinewidth": 0,
             "ticks": ""
            },
            "type": "contourcarpet"
           }
          ],
          "heatmap": [
           {
            "colorbar": {
             "outlinewidth": 0,
             "ticks": ""
            },
            "colorscale": [
             [
              0,
              "#0d0887"
             ],
             [
              0.1111111111111111,
              "#46039f"
             ],
             [
              0.2222222222222222,
              "#7201a8"
             ],
             [
              0.3333333333333333,
              "#9c179e"
             ],
             [
              0.4444444444444444,
              "#bd3786"
             ],
             [
              0.5555555555555556,
              "#d8576b"
             ],
             [
              0.6666666666666666,
              "#ed7953"
             ],
             [
              0.7777777777777778,
              "#fb9f3a"
             ],
             [
              0.8888888888888888,
              "#fdca26"
             ],
             [
              1,
              "#f0f921"
             ]
            ],
            "type": "heatmap"
           }
          ],
          "heatmapgl": [
           {
            "colorbar": {
             "outlinewidth": 0,
             "ticks": ""
            },
            "colorscale": [
             [
              0,
              "#0d0887"
             ],
             [
              0.1111111111111111,
              "#46039f"
             ],
             [
              0.2222222222222222,
              "#7201a8"
             ],
             [
              0.3333333333333333,
              "#9c179e"
             ],
             [
              0.4444444444444444,
              "#bd3786"
             ],
             [
              0.5555555555555556,
              "#d8576b"
             ],
             [
              0.6666666666666666,
              "#ed7953"
             ],
             [
              0.7777777777777778,
              "#fb9f3a"
             ],
             [
              0.8888888888888888,
              "#fdca26"
             ],
             [
              1,
              "#f0f921"
             ]
            ],
            "type": "heatmapgl"
           }
          ],
          "histogram": [
           {
            "marker": {
             "colorbar": {
              "outlinewidth": 0,
              "ticks": ""
             }
            },
            "type": "histogram"
           }
          ],
          "histogram2d": [
           {
            "colorbar": {
             "outlinewidth": 0,
             "ticks": ""
            },
            "colorscale": [
             [
              0,
              "#0d0887"
             ],
             [
              0.1111111111111111,
              "#46039f"
             ],
             [
              0.2222222222222222,
              "#7201a8"
             ],
             [
              0.3333333333333333,
              "#9c179e"
             ],
             [
              0.4444444444444444,
              "#bd3786"
             ],
             [
              0.5555555555555556,
              "#d8576b"
             ],
             [
              0.6666666666666666,
              "#ed7953"
             ],
             [
              0.7777777777777778,
              "#fb9f3a"
             ],
             [
              0.8888888888888888,
              "#fdca26"
             ],
             [
              1,
              "#f0f921"
             ]
            ],
            "type": "histogram2d"
           }
          ],
          "histogram2dcontour": [
           {
            "colorbar": {
             "outlinewidth": 0,
             "ticks": ""
            },
            "colorscale": [
             [
              0,
              "#0d0887"
             ],
             [
              0.1111111111111111,
              "#46039f"
             ],
             [
              0.2222222222222222,
              "#7201a8"
             ],
             [
              0.3333333333333333,
              "#9c179e"
             ],
             [
              0.4444444444444444,
              "#bd3786"
             ],
             [
              0.5555555555555556,
              "#d8576b"
             ],
             [
              0.6666666666666666,
              "#ed7953"
             ],
             [
              0.7777777777777778,
              "#fb9f3a"
             ],
             [
              0.8888888888888888,
              "#fdca26"
             ],
             [
              1,
              "#f0f921"
             ]
            ],
            "type": "histogram2dcontour"
           }
          ],
          "mesh3d": [
           {
            "colorbar": {
             "outlinewidth": 0,
             "ticks": ""
            },
            "type": "mesh3d"
           }
          ],
          "parcoords": [
           {
            "line": {
             "colorbar": {
              "outlinewidth": 0,
              "ticks": ""
             }
            },
            "type": "parcoords"
           }
          ],
          "pie": [
           {
            "automargin": true,
            "type": "pie"
           }
          ],
          "scatter": [
           {
            "marker": {
             "colorbar": {
              "outlinewidth": 0,
              "ticks": ""
             }
            },
            "type": "scatter"
           }
          ],
          "scatter3d": [
           {
            "line": {
             "colorbar": {
              "outlinewidth": 0,
              "ticks": ""
             }
            },
            "marker": {
             "colorbar": {
              "outlinewidth": 0,
              "ticks": ""
             }
            },
            "type": "scatter3d"
           }
          ],
          "scattercarpet": [
           {
            "marker": {
             "colorbar": {
              "outlinewidth": 0,
              "ticks": ""
             }
            },
            "type": "scattercarpet"
           }
          ],
          "scattergeo": [
           {
            "marker": {
             "colorbar": {
              "outlinewidth": 0,
              "ticks": ""
             }
            },
            "type": "scattergeo"
           }
          ],
          "scattergl": [
           {
            "marker": {
             "colorbar": {
              "outlinewidth": 0,
              "ticks": ""
             }
            },
            "type": "scattergl"
           }
          ],
          "scattermapbox": [
           {
            "marker": {
             "colorbar": {
              "outlinewidth": 0,
              "ticks": ""
             }
            },
            "type": "scattermapbox"
           }
          ],
          "scatterpolar": [
           {
            "marker": {
             "colorbar": {
              "outlinewidth": 0,
              "ticks": ""
             }
            },
            "type": "scatterpolar"
           }
          ],
          "scatterpolargl": [
           {
            "marker": {
             "colorbar": {
              "outlinewidth": 0,
              "ticks": ""
             }
            },
            "type": "scatterpolargl"
           }
          ],
          "scatterternary": [
           {
            "marker": {
             "colorbar": {
              "outlinewidth": 0,
              "ticks": ""
             }
            },
            "type": "scatterternary"
           }
          ],
          "surface": [
           {
            "colorbar": {
             "outlinewidth": 0,
             "ticks": ""
            },
            "colorscale": [
             [
              0,
              "#0d0887"
             ],
             [
              0.1111111111111111,
              "#46039f"
             ],
             [
              0.2222222222222222,
              "#7201a8"
             ],
             [
              0.3333333333333333,
              "#9c179e"
             ],
             [
              0.4444444444444444,
              "#bd3786"
             ],
             [
              0.5555555555555556,
              "#d8576b"
             ],
             [
              0.6666666666666666,
              "#ed7953"
             ],
             [
              0.7777777777777778,
              "#fb9f3a"
             ],
             [
              0.8888888888888888,
              "#fdca26"
             ],
             [
              1,
              "#f0f921"
             ]
            ],
            "type": "surface"
           }
          ],
          "table": [
           {
            "cells": {
             "fill": {
              "color": "#EBF0F8"
             },
             "line": {
              "color": "white"
             }
            },
            "header": {
             "fill": {
              "color": "#C8D4E3"
             },
             "line": {
              "color": "white"
             }
            },
            "type": "table"
           }
          ]
         },
         "layout": {
          "annotationdefaults": {
           "arrowcolor": "#2a3f5f",
           "arrowhead": 0,
           "arrowwidth": 1
          },
          "autotypenumbers": "strict",
          "coloraxis": {
           "colorbar": {
            "outlinewidth": 0,
            "ticks": ""
           }
          },
          "colorscale": {
           "diverging": [
            [
             0,
             "#8e0152"
            ],
            [
             0.1,
             "#c51b7d"
            ],
            [
             0.2,
             "#de77ae"
            ],
            [
             0.3,
             "#f1b6da"
            ],
            [
             0.4,
             "#fde0ef"
            ],
            [
             0.5,
             "#f7f7f7"
            ],
            [
             0.6,
             "#e6f5d0"
            ],
            [
             0.7,
             "#b8e186"
            ],
            [
             0.8,
             "#7fbc41"
            ],
            [
             0.9,
             "#4d9221"
            ],
            [
             1,
             "#276419"
            ]
           ],
           "sequential": [
            [
             0,
             "#0d0887"
            ],
            [
             0.1111111111111111,
             "#46039f"
            ],
            [
             0.2222222222222222,
             "#7201a8"
            ],
            [
             0.3333333333333333,
             "#9c179e"
            ],
            [
             0.4444444444444444,
             "#bd3786"
            ],
            [
             0.5555555555555556,
             "#d8576b"
            ],
            [
             0.6666666666666666,
             "#ed7953"
            ],
            [
             0.7777777777777778,
             "#fb9f3a"
            ],
            [
             0.8888888888888888,
             "#fdca26"
            ],
            [
             1,
             "#f0f921"
            ]
           ],
           "sequentialminus": [
            [
             0,
             "#0d0887"
            ],
            [
             0.1111111111111111,
             "#46039f"
            ],
            [
             0.2222222222222222,
             "#7201a8"
            ],
            [
             0.3333333333333333,
             "#9c179e"
            ],
            [
             0.4444444444444444,
             "#bd3786"
            ],
            [
             0.5555555555555556,
             "#d8576b"
            ],
            [
             0.6666666666666666,
             "#ed7953"
            ],
            [
             0.7777777777777778,
             "#fb9f3a"
            ],
            [
             0.8888888888888888,
             "#fdca26"
            ],
            [
             1,
             "#f0f921"
            ]
           ]
          },
          "colorway": [
           "#636efa",
           "#EF553B",
           "#00cc96",
           "#ab63fa",
           "#FFA15A",
           "#19d3f3",
           "#FF6692",
           "#B6E880",
           "#FF97FF",
           "#FECB52"
          ],
          "font": {
           "color": "#2a3f5f"
          },
          "geo": {
           "bgcolor": "white",
           "lakecolor": "white",
           "landcolor": "#E5ECF6",
           "showlakes": true,
           "showland": true,
           "subunitcolor": "white"
          },
          "hoverlabel": {
           "align": "left"
          },
          "hovermode": "closest",
          "mapbox": {
           "style": "light"
          },
          "paper_bgcolor": "white",
          "plot_bgcolor": "#E5ECF6",
          "polar": {
           "angularaxis": {
            "gridcolor": "white",
            "linecolor": "white",
            "ticks": ""
           },
           "bgcolor": "#E5ECF6",
           "radialaxis": {
            "gridcolor": "white",
            "linecolor": "white",
            "ticks": ""
           }
          },
          "scene": {
           "xaxis": {
            "backgroundcolor": "#E5ECF6",
            "gridcolor": "white",
            "gridwidth": 2,
            "linecolor": "white",
            "showbackground": true,
            "ticks": "",
            "zerolinecolor": "white"
           },
           "yaxis": {
            "backgroundcolor": "#E5ECF6",
            "gridcolor": "white",
            "gridwidth": 2,
            "linecolor": "white",
            "showbackground": true,
            "ticks": "",
            "zerolinecolor": "white"
           },
           "zaxis": {
            "backgroundcolor": "#E5ECF6",
            "gridcolor": "white",
            "gridwidth": 2,
            "linecolor": "white",
            "showbackground": true,
            "ticks": "",
            "zerolinecolor": "white"
           }
          },
          "shapedefaults": {
           "line": {
            "color": "#2a3f5f"
           }
          },
          "ternary": {
           "aaxis": {
            "gridcolor": "white",
            "linecolor": "white",
            "ticks": ""
           },
           "baxis": {
            "gridcolor": "white",
            "linecolor": "white",
            "ticks": ""
           },
           "bgcolor": "#E5ECF6",
           "caxis": {
            "gridcolor": "white",
            "linecolor": "white",
            "ticks": ""
           }
          },
          "title": {
           "x": 0.05
          },
          "xaxis": {
           "automargin": true,
           "gridcolor": "white",
           "linecolor": "white",
           "ticks": "",
           "title": {
            "standoff": 15
           },
           "zerolinecolor": "white",
           "zerolinewidth": 2
          },
          "yaxis": {
           "automargin": true,
           "gridcolor": "white",
           "linecolor": "white",
           "ticks": "",
           "title": {
            "standoff": 15
           },
           "zerolinecolor": "white",
           "zerolinewidth": 2
          }
         }
        },
        "title": {
         "text": "Atorovastatín - počet balení nad 100 000"
        },
        "xaxis": {
         "anchor": "y",
         "domain": [
          0,
          1
         ],
         "title": {
          "text": " "
         }
        },
        "yaxis": {
         "anchor": "x",
         "domain": [
          0,
          1
         ],
         "title": {
          "text": "Počet balení"
         }
        }
       }
      }
     },
     "metadata": {}
    }
   ],
   "source": [
    "fig = px.bar(atorvastatin.query('Počet_balení > 100000').sort_values(by='Počet_balení', ascending=False), x='LIEK_popis', y='Počet_balení', color='STAT_popis', title='Atorovastatín - počet balení nad 100 000', color_discrete_sequence=[modra, oranzova, ruzova, zelena], labels={'Počet_balení':'Počet balení', 'STAT_popis':' ', 'LIEK_popis':' '})\n",
    "fig.show()"
   ]
  },
  {
   "source": [
    "V tejto skupine liekov, pouzivanych na prevenciu kardiovaskularnych chorob slovenske lieky maju velmi male zastupenie. Najpredavanejsi je slovinsky Atoris, avsak tiez celkom predavanym je aj cesky Torvacard Novum alebo islandsky Atorvastatin Actavis."
   ],
   "cell_type": "markdown",
   "metadata": {}
  },
  {
   "source": [
    "# 13. Zolpidem"
   ],
   "cell_type": "markdown",
   "metadata": {}
  },
  {
   "cell_type": "code",
   "execution_count": 232,
   "metadata": {},
   "outputs": [
    {
     "output_type": "display_data",
     "data": {
      "text/plain": "             LIEK_popis STAT_popis                     VYROBCA_popis  index  \\\n0                ADORMA  Slovinsko  Alkaloid - INT d.o.o., Ljubljana   7246   \n1              HYPNOGEN    Nemecko                       Takeda GmbH  14504   \n2                SANVAL  Slovinsko       Sandoz Pharmaceuticals d.d.  14489   \n3               STILNOX  Slovensko    sanofi-aventis Slovakia s.r.o.  21756   \n4        ZOLPIDEM MERCK      ĺrsko             Mylan Ireland Limited   7256   \n5        Zolpidem Orion     Fínsko                 Orion Corporation  14497   \n6       Zolpidem Pfizer  Taliansko              PFIZER Italia S.r.l.   7240   \n7       Zolpidem Saneca     Cyprus             XANTIS PHARMA LIMITED  14505   \n8         Zolpidem Teva  Holandsko                        Synthon BV   7254   \n9   Zolpidem Vitabalans     Fínsko                     Vitabalans Oy  21726   \n10             Zolpinox      Česko        Neuraxpharm Bohemia s.r.o.  28950   \n\n    Počet_balení  \n0          1.000  \n1     249315.840  \n2     242727.100  \n3     866042.660  \n4      97213.240  \n5          9.000  \n6          3.000  \n7      20968.000  \n8          1.500  \n9       3381.300  \n10     75791.287  ",
      "text/html": "<div>\n<style scoped>\n    .dataframe tbody tr th:only-of-type {\n        vertical-align: middle;\n    }\n\n    .dataframe tbody tr th {\n        vertical-align: top;\n    }\n\n    .dataframe thead th {\n        text-align: right;\n    }\n</style>\n<table border=\"1\" class=\"dataframe\">\n  <thead>\n    <tr style=\"text-align: right;\">\n      <th></th>\n      <th>LIEK_popis</th>\n      <th>STAT_popis</th>\n      <th>VYROBCA_popis</th>\n      <th>index</th>\n      <th>Počet_balení</th>\n    </tr>\n  </thead>\n  <tbody>\n    <tr>\n      <th>0</th>\n      <td>ADORMA</td>\n      <td>Slovinsko</td>\n      <td>Alkaloid - INT d.o.o., Ljubljana</td>\n      <td>7246</td>\n      <td>1.000</td>\n    </tr>\n    <tr>\n      <th>1</th>\n      <td>HYPNOGEN</td>\n      <td>Nemecko</td>\n      <td>Takeda GmbH</td>\n      <td>14504</td>\n      <td>249315.840</td>\n    </tr>\n    <tr>\n      <th>2</th>\n      <td>SANVAL</td>\n      <td>Slovinsko</td>\n      <td>Sandoz Pharmaceuticals d.d.</td>\n      <td>14489</td>\n      <td>242727.100</td>\n    </tr>\n    <tr>\n      <th>3</th>\n      <td>STILNOX</td>\n      <td>Slovensko</td>\n      <td>sanofi-aventis Slovakia s.r.o.</td>\n      <td>21756</td>\n      <td>866042.660</td>\n    </tr>\n    <tr>\n      <th>4</th>\n      <td>ZOLPIDEM MERCK</td>\n      <td>ĺrsko</td>\n      <td>Mylan Ireland Limited</td>\n      <td>7256</td>\n      <td>97213.240</td>\n    </tr>\n    <tr>\n      <th>5</th>\n      <td>Zolpidem Orion</td>\n      <td>Fínsko</td>\n      <td>Orion Corporation</td>\n      <td>14497</td>\n      <td>9.000</td>\n    </tr>\n    <tr>\n      <th>6</th>\n      <td>Zolpidem Pfizer</td>\n      <td>Taliansko</td>\n      <td>PFIZER Italia S.r.l.</td>\n      <td>7240</td>\n      <td>3.000</td>\n    </tr>\n    <tr>\n      <th>7</th>\n      <td>Zolpidem Saneca</td>\n      <td>Cyprus</td>\n      <td>XANTIS PHARMA LIMITED</td>\n      <td>14505</td>\n      <td>20968.000</td>\n    </tr>\n    <tr>\n      <th>8</th>\n      <td>Zolpidem Teva</td>\n      <td>Holandsko</td>\n      <td>Synthon BV</td>\n      <td>7254</td>\n      <td>1.500</td>\n    </tr>\n    <tr>\n      <th>9</th>\n      <td>Zolpidem Vitabalans</td>\n      <td>Fínsko</td>\n      <td>Vitabalans Oy</td>\n      <td>21726</td>\n      <td>3381.300</td>\n    </tr>\n    <tr>\n      <th>10</th>\n      <td>Zolpinox</td>\n      <td>Česko</td>\n      <td>Neuraxpharm Bohemia s.r.o.</td>\n      <td>28950</td>\n      <td>75791.287</td>\n    </tr>\n  </tbody>\n</table>\n</div>"
     },
     "metadata": {}
    }
   ],
   "source": [
    "zolpidem = top15tab[\"N05CF02\"].sort_values(by='Počet_balení', ascending=False)\n",
    "\n",
    "for i,popis in enumerate(zolpidem['LIEK_popis']):\n",
    "    if 'ADORMA' in popis:\n",
    "        zolpidem.iloc[i,4] = 'ADORMA'\n",
    "    elif 'HYPNOGEN' in popis:\n",
    "        zolpidem.iloc[i,4] = 'HYPNOGEN'\n",
    "    elif 'SANVAL' in popis:\n",
    "        zolpidem.iloc[i,4] = 'SANVAL'\n",
    "    elif 'STILNOX' in popis:\n",
    "        zolpidem.iloc[i,4] = 'STILNOX'\n",
    "    elif 'ZOLPIDEM MERCK' in popis:\n",
    "        zolpidem.iloc[i,4] = 'ZOLPIDEM MERCK'\n",
    "    elif 'Zolpidem Orion' in popis:\n",
    "        zolpidem.iloc[i,4] = 'Zolpidem Orion'\n",
    "    elif 'Zolpidem Pfizer' in popis:\n",
    "        zolpidem.iloc[i,4] = 'Zolpidem Pfizer'\n",
    "    elif 'Zolpidem Saneca' in popis:\n",
    "        zolpidem.iloc[i,4] = 'Zolpidem Saneca'\n",
    "    elif 'Zolpidem Teva' in popis:\n",
    "        zolpidem.iloc[i,4] = 'Zolpidem Teva'\n",
    "    elif 'Zolpidem Vitabalans' in popis:\n",
    "        zolpidem.iloc[i,4] = 'Zolpidem Vitabalans'\n",
    "    elif 'Zolpinox' in popis:\n",
    "        zolpidem.iloc[i,4] = 'Zolpinox'\n",
    "\n",
    "zolpidem = zolpidem.groupby(['LIEK_popis', 'STAT_popis', 'VYROBCA_popis']).sum().reset_index()\n",
    "\n",
    "display(zolpidem.sort_values(by='LIEK_popis'))"
   ]
  },
  {
   "cell_type": "code",
   "execution_count": 269,
   "metadata": {},
   "outputs": [
    {
     "output_type": "display_data",
     "data": {
      "application/vnd.plotly.v1+json": {
       "config": {
        "plotlyServerURL": "https://plot.ly"
       },
       "data": [
        {
         "alignmentgroup": "True",
         "hovertemplate": " =%{x}<br>Počet balení=%{y}<extra></extra>",
         "legendgroup": "Slovensko",
         "marker": {
          "color": "#4B6AAB"
         },
         "name": "Slovensko",
         "offsetgroup": "Slovensko",
         "orientation": "v",
         "showlegend": true,
         "textposition": "auto",
         "type": "bar",
         "x": [
          "STILNOX"
         ],
         "xaxis": "x",
         "y": [
          866042.6599999999
         ],
         "yaxis": "y"
        },
        {
         "alignmentgroup": "True",
         "hovertemplate": " =%{x}<br>Počet balení=%{y}<extra></extra>",
         "legendgroup": "Nemecko",
         "marker": {
          "color": "#D8764C"
         },
         "name": "Nemecko",
         "offsetgroup": "Nemecko",
         "orientation": "v",
         "showlegend": true,
         "textposition": "auto",
         "type": "bar",
         "x": [
          "HYPNOGEN"
         ],
         "xaxis": "x",
         "y": [
          249315.84
         ],
         "yaxis": "y"
        },
        {
         "alignmentgroup": "True",
         "hovertemplate": " =%{x}<br>Počet balení=%{y}<extra></extra>",
         "legendgroup": "Slovinsko",
         "marker": {
          "color": "#B75B9E"
         },
         "name": "Slovinsko",
         "offsetgroup": "Slovinsko",
         "orientation": "v",
         "showlegend": true,
         "textposition": "auto",
         "type": "bar",
         "x": [
          "SANVAL"
         ],
         "xaxis": "x",
         "y": [
          242727.09999999998
         ],
         "yaxis": "y"
        },
        {
         "alignmentgroup": "True",
         "hovertemplate": " =%{x}<br>Počet balení=%{y}<extra></extra>",
         "legendgroup": "ĺrsko",
         "marker": {
          "color": "#73B5AB"
         },
         "name": "ĺrsko",
         "offsetgroup": "ĺrsko",
         "orientation": "v",
         "showlegend": true,
         "textposition": "auto",
         "type": "bar",
         "x": [
          "ZOLPIDEM MERCK"
         ],
         "xaxis": "x",
         "y": [
          97213.23999999999
         ],
         "yaxis": "y"
        },
        {
         "alignmentgroup": "True",
         "hovertemplate": " =%{x}<br>Počet balení=%{y}<extra></extra>",
         "legendgroup": "Česko",
         "marker": {
          "color": "#F1C75B"
         },
         "name": "Česko",
         "offsetgroup": "Česko",
         "orientation": "v",
         "showlegend": true,
         "textposition": "auto",
         "type": "bar",
         "x": [
          "Zolpinox"
         ],
         "xaxis": "x",
         "y": [
          75791.28700000001
         ],
         "yaxis": "y"
        }
       ],
       "layout": {
        "barmode": "relative",
        "legend": {
         "title": {
          "text": " "
         },
         "tracegroupgap": 0
        },
        "template": {
         "data": {
          "bar": [
           {
            "error_x": {
             "color": "#2a3f5f"
            },
            "error_y": {
             "color": "#2a3f5f"
            },
            "marker": {
             "line": {
              "color": "#E5ECF6",
              "width": 0.5
             }
            },
            "type": "bar"
           }
          ],
          "barpolar": [
           {
            "marker": {
             "line": {
              "color": "#E5ECF6",
              "width": 0.5
             }
            },
            "type": "barpolar"
           }
          ],
          "carpet": [
           {
            "aaxis": {
             "endlinecolor": "#2a3f5f",
             "gridcolor": "white",
             "linecolor": "white",
             "minorgridcolor": "white",
             "startlinecolor": "#2a3f5f"
            },
            "baxis": {
             "endlinecolor": "#2a3f5f",
             "gridcolor": "white",
             "linecolor": "white",
             "minorgridcolor": "white",
             "startlinecolor": "#2a3f5f"
            },
            "type": "carpet"
           }
          ],
          "choropleth": [
           {
            "colorbar": {
             "outlinewidth": 0,
             "ticks": ""
            },
            "type": "choropleth"
           }
          ],
          "contour": [
           {
            "colorbar": {
             "outlinewidth": 0,
             "ticks": ""
            },
            "colorscale": [
             [
              0,
              "#0d0887"
             ],
             [
              0.1111111111111111,
              "#46039f"
             ],
             [
              0.2222222222222222,
              "#7201a8"
             ],
             [
              0.3333333333333333,
              "#9c179e"
             ],
             [
              0.4444444444444444,
              "#bd3786"
             ],
             [
              0.5555555555555556,
              "#d8576b"
             ],
             [
              0.6666666666666666,
              "#ed7953"
             ],
             [
              0.7777777777777778,
              "#fb9f3a"
             ],
             [
              0.8888888888888888,
              "#fdca26"
             ],
             [
              1,
              "#f0f921"
             ]
            ],
            "type": "contour"
           }
          ],
          "contourcarpet": [
           {
            "colorbar": {
             "outlinewidth": 0,
             "ticks": ""
            },
            "type": "contourcarpet"
           }
          ],
          "heatmap": [
           {
            "colorbar": {
             "outlinewidth": 0,
             "ticks": ""
            },
            "colorscale": [
             [
              0,
              "#0d0887"
             ],
             [
              0.1111111111111111,
              "#46039f"
             ],
             [
              0.2222222222222222,
              "#7201a8"
             ],
             [
              0.3333333333333333,
              "#9c179e"
             ],
             [
              0.4444444444444444,
              "#bd3786"
             ],
             [
              0.5555555555555556,
              "#d8576b"
             ],
             [
              0.6666666666666666,
              "#ed7953"
             ],
             [
              0.7777777777777778,
              "#fb9f3a"
             ],
             [
              0.8888888888888888,
              "#fdca26"
             ],
             [
              1,
              "#f0f921"
             ]
            ],
            "type": "heatmap"
           }
          ],
          "heatmapgl": [
           {
            "colorbar": {
             "outlinewidth": 0,
             "ticks": ""
            },
            "colorscale": [
             [
              0,
              "#0d0887"
             ],
             [
              0.1111111111111111,
              "#46039f"
             ],
             [
              0.2222222222222222,
              "#7201a8"
             ],
             [
              0.3333333333333333,
              "#9c179e"
             ],
             [
              0.4444444444444444,
              "#bd3786"
             ],
             [
              0.5555555555555556,
              "#d8576b"
             ],
             [
              0.6666666666666666,
              "#ed7953"
             ],
             [
              0.7777777777777778,
              "#fb9f3a"
             ],
             [
              0.8888888888888888,
              "#fdca26"
             ],
             [
              1,
              "#f0f921"
             ]
            ],
            "type": "heatmapgl"
           }
          ],
          "histogram": [
           {
            "marker": {
             "colorbar": {
              "outlinewidth": 0,
              "ticks": ""
             }
            },
            "type": "histogram"
           }
          ],
          "histogram2d": [
           {
            "colorbar": {
             "outlinewidth": 0,
             "ticks": ""
            },
            "colorscale": [
             [
              0,
              "#0d0887"
             ],
             [
              0.1111111111111111,
              "#46039f"
             ],
             [
              0.2222222222222222,
              "#7201a8"
             ],
             [
              0.3333333333333333,
              "#9c179e"
             ],
             [
              0.4444444444444444,
              "#bd3786"
             ],
             [
              0.5555555555555556,
              "#d8576b"
             ],
             [
              0.6666666666666666,
              "#ed7953"
             ],
             [
              0.7777777777777778,
              "#fb9f3a"
             ],
             [
              0.8888888888888888,
              "#fdca26"
             ],
             [
              1,
              "#f0f921"
             ]
            ],
            "type": "histogram2d"
           }
          ],
          "histogram2dcontour": [
           {
            "colorbar": {
             "outlinewidth": 0,
             "ticks": ""
            },
            "colorscale": [
             [
              0,
              "#0d0887"
             ],
             [
              0.1111111111111111,
              "#46039f"
             ],
             [
              0.2222222222222222,
              "#7201a8"
             ],
             [
              0.3333333333333333,
              "#9c179e"
             ],
             [
              0.4444444444444444,
              "#bd3786"
             ],
             [
              0.5555555555555556,
              "#d8576b"
             ],
             [
              0.6666666666666666,
              "#ed7953"
             ],
             [
              0.7777777777777778,
              "#fb9f3a"
             ],
             [
              0.8888888888888888,
              "#fdca26"
             ],
             [
              1,
              "#f0f921"
             ]
            ],
            "type": "histogram2dcontour"
           }
          ],
          "mesh3d": [
           {
            "colorbar": {
             "outlinewidth": 0,
             "ticks": ""
            },
            "type": "mesh3d"
           }
          ],
          "parcoords": [
           {
            "line": {
             "colorbar": {
              "outlinewidth": 0,
              "ticks": ""
             }
            },
            "type": "parcoords"
           }
          ],
          "pie": [
           {
            "automargin": true,
            "type": "pie"
           }
          ],
          "scatter": [
           {
            "marker": {
             "colorbar": {
              "outlinewidth": 0,
              "ticks": ""
             }
            },
            "type": "scatter"
           }
          ],
          "scatter3d": [
           {
            "line": {
             "colorbar": {
              "outlinewidth": 0,
              "ticks": ""
             }
            },
            "marker": {
             "colorbar": {
              "outlinewidth": 0,
              "ticks": ""
             }
            },
            "type": "scatter3d"
           }
          ],
          "scattercarpet": [
           {
            "marker": {
             "colorbar": {
              "outlinewidth": 0,
              "ticks": ""
             }
            },
            "type": "scattercarpet"
           }
          ],
          "scattergeo": [
           {
            "marker": {
             "colorbar": {
              "outlinewidth": 0,
              "ticks": ""
             }
            },
            "type": "scattergeo"
           }
          ],
          "scattergl": [
           {
            "marker": {
             "colorbar": {
              "outlinewidth": 0,
              "ticks": ""
             }
            },
            "type": "scattergl"
           }
          ],
          "scattermapbox": [
           {
            "marker": {
             "colorbar": {
              "outlinewidth": 0,
              "ticks": ""
             }
            },
            "type": "scattermapbox"
           }
          ],
          "scatterpolar": [
           {
            "marker": {
             "colorbar": {
              "outlinewidth": 0,
              "ticks": ""
             }
            },
            "type": "scatterpolar"
           }
          ],
          "scatterpolargl": [
           {
            "marker": {
             "colorbar": {
              "outlinewidth": 0,
              "ticks": ""
             }
            },
            "type": "scatterpolargl"
           }
          ],
          "scatterternary": [
           {
            "marker": {
             "colorbar": {
              "outlinewidth": 0,
              "ticks": ""
             }
            },
            "type": "scatterternary"
           }
          ],
          "surface": [
           {
            "colorbar": {
             "outlinewidth": 0,
             "ticks": ""
            },
            "colorscale": [
             [
              0,
              "#0d0887"
             ],
             [
              0.1111111111111111,
              "#46039f"
             ],
             [
              0.2222222222222222,
              "#7201a8"
             ],
             [
              0.3333333333333333,
              "#9c179e"
             ],
             [
              0.4444444444444444,
              "#bd3786"
             ],
             [
              0.5555555555555556,
              "#d8576b"
             ],
             [
              0.6666666666666666,
              "#ed7953"
             ],
             [
              0.7777777777777778,
              "#fb9f3a"
             ],
             [
              0.8888888888888888,
              "#fdca26"
             ],
             [
              1,
              "#f0f921"
             ]
            ],
            "type": "surface"
           }
          ],
          "table": [
           {
            "cells": {
             "fill": {
              "color": "#EBF0F8"
             },
             "line": {
              "color": "white"
             }
            },
            "header": {
             "fill": {
              "color": "#C8D4E3"
             },
             "line": {
              "color": "white"
             }
            },
            "type": "table"
           }
          ]
         },
         "layout": {
          "annotationdefaults": {
           "arrowcolor": "#2a3f5f",
           "arrowhead": 0,
           "arrowwidth": 1
          },
          "autotypenumbers": "strict",
          "coloraxis": {
           "colorbar": {
            "outlinewidth": 0,
            "ticks": ""
           }
          },
          "colorscale": {
           "diverging": [
            [
             0,
             "#8e0152"
            ],
            [
             0.1,
             "#c51b7d"
            ],
            [
             0.2,
             "#de77ae"
            ],
            [
             0.3,
             "#f1b6da"
            ],
            [
             0.4,
             "#fde0ef"
            ],
            [
             0.5,
             "#f7f7f7"
            ],
            [
             0.6,
             "#e6f5d0"
            ],
            [
             0.7,
             "#b8e186"
            ],
            [
             0.8,
             "#7fbc41"
            ],
            [
             0.9,
             "#4d9221"
            ],
            [
             1,
             "#276419"
            ]
           ],
           "sequential": [
            [
             0,
             "#0d0887"
            ],
            [
             0.1111111111111111,
             "#46039f"
            ],
            [
             0.2222222222222222,
             "#7201a8"
            ],
            [
             0.3333333333333333,
             "#9c179e"
            ],
            [
             0.4444444444444444,
             "#bd3786"
            ],
            [
             0.5555555555555556,
             "#d8576b"
            ],
            [
             0.6666666666666666,
             "#ed7953"
            ],
            [
             0.7777777777777778,
             "#fb9f3a"
            ],
            [
             0.8888888888888888,
             "#fdca26"
            ],
            [
             1,
             "#f0f921"
            ]
           ],
           "sequentialminus": [
            [
             0,
             "#0d0887"
            ],
            [
             0.1111111111111111,
             "#46039f"
            ],
            [
             0.2222222222222222,
             "#7201a8"
            ],
            [
             0.3333333333333333,
             "#9c179e"
            ],
            [
             0.4444444444444444,
             "#bd3786"
            ],
            [
             0.5555555555555556,
             "#d8576b"
            ],
            [
             0.6666666666666666,
             "#ed7953"
            ],
            [
             0.7777777777777778,
             "#fb9f3a"
            ],
            [
             0.8888888888888888,
             "#fdca26"
            ],
            [
             1,
             "#f0f921"
            ]
           ]
          },
          "colorway": [
           "#636efa",
           "#EF553B",
           "#00cc96",
           "#ab63fa",
           "#FFA15A",
           "#19d3f3",
           "#FF6692",
           "#B6E880",
           "#FF97FF",
           "#FECB52"
          ],
          "font": {
           "color": "#2a3f5f"
          },
          "geo": {
           "bgcolor": "white",
           "lakecolor": "white",
           "landcolor": "#E5ECF6",
           "showlakes": true,
           "showland": true,
           "subunitcolor": "white"
          },
          "hoverlabel": {
           "align": "left"
          },
          "hovermode": "closest",
          "mapbox": {
           "style": "light"
          },
          "paper_bgcolor": "white",
          "plot_bgcolor": "#E5ECF6",
          "polar": {
           "angularaxis": {
            "gridcolor": "white",
            "linecolor": "white",
            "ticks": ""
           },
           "bgcolor": "#E5ECF6",
           "radialaxis": {
            "gridcolor": "white",
            "linecolor": "white",
            "ticks": ""
           }
          },
          "scene": {
           "xaxis": {
            "backgroundcolor": "#E5ECF6",
            "gridcolor": "white",
            "gridwidth": 2,
            "linecolor": "white",
            "showbackground": true,
            "ticks": "",
            "zerolinecolor": "white"
           },
           "yaxis": {
            "backgroundcolor": "#E5ECF6",
            "gridcolor": "white",
            "gridwidth": 2,
            "linecolor": "white",
            "showbackground": true,
            "ticks": "",
            "zerolinecolor": "white"
           },
           "zaxis": {
            "backgroundcolor": "#E5ECF6",
            "gridcolor": "white",
            "gridwidth": 2,
            "linecolor": "white",
            "showbackground": true,
            "ticks": "",
            "zerolinecolor": "white"
           }
          },
          "shapedefaults": {
           "line": {
            "color": "#2a3f5f"
           }
          },
          "ternary": {
           "aaxis": {
            "gridcolor": "white",
            "linecolor": "white",
            "ticks": ""
           },
           "baxis": {
            "gridcolor": "white",
            "linecolor": "white",
            "ticks": ""
           },
           "bgcolor": "#E5ECF6",
           "caxis": {
            "gridcolor": "white",
            "linecolor": "white",
            "ticks": ""
           }
          },
          "title": {
           "x": 0.05
          },
          "xaxis": {
           "automargin": true,
           "gridcolor": "white",
           "linecolor": "white",
           "ticks": "",
           "title": {
            "standoff": 15
           },
           "zerolinecolor": "white",
           "zerolinewidth": 2
          },
          "yaxis": {
           "automargin": true,
           "gridcolor": "white",
           "linecolor": "white",
           "ticks": "",
           "title": {
            "standoff": 15
           },
           "zerolinecolor": "white",
           "zerolinewidth": 2
          }
         }
        },
        "title": {
         "text": "Zolpidem - počet balení nad 50 000"
        },
        "xaxis": {
         "anchor": "y",
         "domain": [
          0,
          1
         ],
         "tickangle": 45,
         "title": {
          "text": " "
         }
        },
        "yaxis": {
         "anchor": "x",
         "domain": [
          0,
          1
         ],
         "title": {
          "text": "Počet balení"
         }
        }
       }
      }
     },
     "metadata": {}
    }
   ],
   "source": [
    "fig = px.bar(zolpidem.query('Počet_balení > 50000').sort_values(by='Počet_balení', ascending=False), x='LIEK_popis', y='Počet_balení', color='STAT_popis', title='Zolpidem - počet balení nad 50 000', color_discrete_sequence=[modra, oranzova, ruzova, zelena, zlta], labels={'Počet_balení':'Počet balení', 'STAT_popis':' ', 'LIEK_popis':' '})\n",
    "fig.update_xaxes(tickangle=45)\n",
    "fig.show()"
   ]
  },
  {
   "source": [
    "Najpredavanejsim z tychto liekov na spanok je slovensky Stilnox. Ostatne lieka sa predavaju v o dost mensej miere."
   ],
   "cell_type": "markdown",
   "metadata": {}
  },
  {
   "source": [
    "# 14. Xylometazolín"
   ],
   "cell_type": "markdown",
   "metadata": {}
  },
  {
   "cell_type": "code",
   "execution_count": 236,
   "metadata": {},
   "outputs": [
    {
     "output_type": "display_data",
     "data": {
      "text/plain": "                      LIEK_popis          STAT_popis  \\\n0   DR.RENTSCHLER SCHNUPFENSPRAY             Nemecko   \n1                        Maresyl          Francúzsko   \n2                     NASENSPRAY             Nemecko   \n3                     NASENSPRAY             Nemecko   \n4                   NASENTROPFEN             Nemecko   \n5                         OLYNTH          Francúzsko   \n6                         OLYNTH  Spojené kráľovstvo   \n7                         OLYNTH               ĺrsko   \n8                      OLYNTH HA               ĺrsko   \n9                        OTRIVIN               Česko   \n10                        Orinox               Česko   \n11               Otrivin Menthol               Česko   \n12                       Rinoxyl              Fínsko   \n13                     mar rhino             Nemecko   \n\n                                        VYROBCA_popis  index  Počet_balení  \n0              Dr. Rentschler Arzneimittel GmbH & Co.   7797         127.0  \n1                              Mylan Laboratories SAS  15583       10395.0  \n2                          Aliud Pharma GmbH & Co. KG   7811           4.0  \n3                               STADA Arzneimittel AG   7813           1.0  \n4                          Aliud Pharma GmbH & Co. KG   7805           2.0  \n5                                          PFIZER PGM  15605          86.0  \n6   McNeil Products Limited C/O Johnson & Johnson ...   7801           1.0  \n7                 McNeil Healthcare (Ireland) Limited  15618      621781.0  \n8                 McNeil Healthcare (Ireland) Limited  15599      529046.0  \n9   GlaxoSmithKline Consumer Healthcare Czech Repu...  31178       95259.5  \n10                              Dr. Max Pharma s.r.o.   7804           1.0  \n11  GlaxoSmithKline Consumer Healthcare Czech Repu...   7798      133135.0  \n12                    Orion Corporation, Orion Pharma  15619           3.0  \n13                              STADA Arzneimittel AG  15615      106986.0  ",
      "text/html": "<div>\n<style scoped>\n    .dataframe tbody tr th:only-of-type {\n        vertical-align: middle;\n    }\n\n    .dataframe tbody tr th {\n        vertical-align: top;\n    }\n\n    .dataframe thead th {\n        text-align: right;\n    }\n</style>\n<table border=\"1\" class=\"dataframe\">\n  <thead>\n    <tr style=\"text-align: right;\">\n      <th></th>\n      <th>LIEK_popis</th>\n      <th>STAT_popis</th>\n      <th>VYROBCA_popis</th>\n      <th>index</th>\n      <th>Počet_balení</th>\n    </tr>\n  </thead>\n  <tbody>\n    <tr>\n      <th>0</th>\n      <td>DR.RENTSCHLER SCHNUPFENSPRAY</td>\n      <td>Nemecko</td>\n      <td>Dr. Rentschler Arzneimittel GmbH &amp; Co.</td>\n      <td>7797</td>\n      <td>127.0</td>\n    </tr>\n    <tr>\n      <th>1</th>\n      <td>Maresyl</td>\n      <td>Francúzsko</td>\n      <td>Mylan Laboratories SAS</td>\n      <td>15583</td>\n      <td>10395.0</td>\n    </tr>\n    <tr>\n      <th>2</th>\n      <td>NASENSPRAY</td>\n      <td>Nemecko</td>\n      <td>Aliud Pharma GmbH &amp; Co. KG</td>\n      <td>7811</td>\n      <td>4.0</td>\n    </tr>\n    <tr>\n      <th>3</th>\n      <td>NASENSPRAY</td>\n      <td>Nemecko</td>\n      <td>STADA Arzneimittel AG</td>\n      <td>7813</td>\n      <td>1.0</td>\n    </tr>\n    <tr>\n      <th>4</th>\n      <td>NASENTROPFEN</td>\n      <td>Nemecko</td>\n      <td>Aliud Pharma GmbH &amp; Co. KG</td>\n      <td>7805</td>\n      <td>2.0</td>\n    </tr>\n    <tr>\n      <th>5</th>\n      <td>OLYNTH</td>\n      <td>Francúzsko</td>\n      <td>PFIZER PGM</td>\n      <td>15605</td>\n      <td>86.0</td>\n    </tr>\n    <tr>\n      <th>6</th>\n      <td>OLYNTH</td>\n      <td>Spojené kráľovstvo</td>\n      <td>McNeil Products Limited C/O Johnson &amp; Johnson ...</td>\n      <td>7801</td>\n      <td>1.0</td>\n    </tr>\n    <tr>\n      <th>7</th>\n      <td>OLYNTH</td>\n      <td>ĺrsko</td>\n      <td>McNeil Healthcare (Ireland) Limited</td>\n      <td>15618</td>\n      <td>621781.0</td>\n    </tr>\n    <tr>\n      <th>8</th>\n      <td>OLYNTH HA</td>\n      <td>ĺrsko</td>\n      <td>McNeil Healthcare (Ireland) Limited</td>\n      <td>15599</td>\n      <td>529046.0</td>\n    </tr>\n    <tr>\n      <th>9</th>\n      <td>OTRIVIN</td>\n      <td>Česko</td>\n      <td>GlaxoSmithKline Consumer Healthcare Czech Repu...</td>\n      <td>31178</td>\n      <td>95259.5</td>\n    </tr>\n    <tr>\n      <th>10</th>\n      <td>Orinox</td>\n      <td>Česko</td>\n      <td>Dr. Max Pharma s.r.o.</td>\n      <td>7804</td>\n      <td>1.0</td>\n    </tr>\n    <tr>\n      <th>11</th>\n      <td>Otrivin Menthol</td>\n      <td>Česko</td>\n      <td>GlaxoSmithKline Consumer Healthcare Czech Repu...</td>\n      <td>7798</td>\n      <td>133135.0</td>\n    </tr>\n    <tr>\n      <th>12</th>\n      <td>Rinoxyl</td>\n      <td>Fínsko</td>\n      <td>Orion Corporation, Orion Pharma</td>\n      <td>15619</td>\n      <td>3.0</td>\n    </tr>\n    <tr>\n      <th>13</th>\n      <td>mar rhino</td>\n      <td>Nemecko</td>\n      <td>STADA Arzneimittel AG</td>\n      <td>15615</td>\n      <td>106986.0</td>\n    </tr>\n  </tbody>\n</table>\n</div>"
     },
     "metadata": {}
    }
   ],
   "source": [
    "xylometazolin = top15tab[\"R01AA07\"].sort_values(by='Počet_balení', ascending=False)\n",
    "\n",
    "for i,popis in enumerate(xylometazolin['LIEK_popis']):\n",
    "    if 'DR.RENTSCHLER SCHNUPFENSPRAY' in popis:\n",
    "        xylometazolin.iloc[i,4] = 'DR.RENTSCHLER SCHNUPFENSPRAY'\n",
    "    elif 'Maresyl' in popis:\n",
    "        xylometazolin.iloc[i,4] = 'Maresyl'\n",
    "    elif 'NASENSPRAY' in popis:\n",
    "        xylometazolin.iloc[i,4] = 'NASENSPRAY'\n",
    "    elif 'NASENTROPFEN' in popis:\n",
    "        xylometazolin.iloc[i,4] = 'NASENTROPFEN'\n",
    "    elif 'OLYNTH HA' in popis:\n",
    "        xylometazolin.iloc[i,4] = 'OLYNTH HA'\n",
    "    elif 'OLYNTH' in popis:\n",
    "        xylometazolin.iloc[i,4] = 'OLYNTH'\n",
    "    elif 'OTRIVIN' in popis:\n",
    "        xylometazolin.iloc[i,4] = 'OTRIVIN'\n",
    "    elif 'Orinox' in popis:\n",
    "        xylometazolin.iloc[i,4] = 'Orinox'\n",
    "    elif 'Otrivin Menthol' in popis:\n",
    "        xylometazolin.iloc[i,4] = 'Otrivin Menthol'\n",
    "    elif 'Rinoxyl' in popis:\n",
    "        xylometazolin.iloc[i,4] = 'Rinoxyl'\n",
    "    elif 'mar rhino' in popis:\n",
    "        xylometazolin.iloc[i,4] = 'mar rhino'    \n",
    "\n",
    "xylometazolin = xylometazolin.groupby(['LIEK_popis', 'STAT_popis', 'VYROBCA_popis']).sum().reset_index()\n",
    "\n",
    "display(xylometazolin.sort_values(by='LIEK_popis'))"
   ]
  },
  {
   "cell_type": "code",
   "execution_count": 238,
   "metadata": {},
   "outputs": [
    {
     "output_type": "display_data",
     "data": {
      "application/vnd.plotly.v1+json": {
       "config": {
        "plotlyServerURL": "https://plot.ly"
       },
       "data": [
        {
         "alignmentgroup": "True",
         "hovertemplate": " =%{x}<br>Počet balení=%{y}<extra></extra>",
         "legendgroup": "ĺrsko",
         "marker": {
          "color": "#4B6AAB"
         },
         "name": "ĺrsko",
         "offsetgroup": "ĺrsko",
         "orientation": "v",
         "showlegend": true,
         "textposition": "auto",
         "type": "bar",
         "x": [
          "OLYNTH",
          "OLYNTH HA"
         ],
         "xaxis": "x",
         "y": [
          621781,
          529046
         ],
         "yaxis": "y"
        },
        {
         "alignmentgroup": "True",
         "hovertemplate": " =%{x}<br>Počet balení=%{y}<extra></extra>",
         "legendgroup": "Česko",
         "marker": {
          "color": "#D8764C"
         },
         "name": "Česko",
         "offsetgroup": "Česko",
         "orientation": "v",
         "showlegend": true,
         "textposition": "auto",
         "type": "bar",
         "x": [
          "Otrivin Menthol",
          "OTRIVIN"
         ],
         "xaxis": "x",
         "y": [
          133135,
          95259.5
         ],
         "yaxis": "y"
        },
        {
         "alignmentgroup": "True",
         "hovertemplate": " =%{x}<br>Počet balení=%{y}<extra></extra>",
         "legendgroup": "Nemecko",
         "marker": {
          "color": "#B75B9E"
         },
         "name": "Nemecko",
         "offsetgroup": "Nemecko",
         "orientation": "v",
         "showlegend": true,
         "textposition": "auto",
         "type": "bar",
         "x": [
          "mar rhino"
         ],
         "xaxis": "x",
         "y": [
          106986
         ],
         "yaxis": "y"
        }
       ],
       "layout": {
        "barmode": "relative",
        "legend": {
         "title": {
          "text": " "
         },
         "tracegroupgap": 0
        },
        "template": {
         "data": {
          "bar": [
           {
            "error_x": {
             "color": "#2a3f5f"
            },
            "error_y": {
             "color": "#2a3f5f"
            },
            "marker": {
             "line": {
              "color": "#E5ECF6",
              "width": 0.5
             }
            },
            "type": "bar"
           }
          ],
          "barpolar": [
           {
            "marker": {
             "line": {
              "color": "#E5ECF6",
              "width": 0.5
             }
            },
            "type": "barpolar"
           }
          ],
          "carpet": [
           {
            "aaxis": {
             "endlinecolor": "#2a3f5f",
             "gridcolor": "white",
             "linecolor": "white",
             "minorgridcolor": "white",
             "startlinecolor": "#2a3f5f"
            },
            "baxis": {
             "endlinecolor": "#2a3f5f",
             "gridcolor": "white",
             "linecolor": "white",
             "minorgridcolor": "white",
             "startlinecolor": "#2a3f5f"
            },
            "type": "carpet"
           }
          ],
          "choropleth": [
           {
            "colorbar": {
             "outlinewidth": 0,
             "ticks": ""
            },
            "type": "choropleth"
           }
          ],
          "contour": [
           {
            "colorbar": {
             "outlinewidth": 0,
             "ticks": ""
            },
            "colorscale": [
             [
              0,
              "#0d0887"
             ],
             [
              0.1111111111111111,
              "#46039f"
             ],
             [
              0.2222222222222222,
              "#7201a8"
             ],
             [
              0.3333333333333333,
              "#9c179e"
             ],
             [
              0.4444444444444444,
              "#bd3786"
             ],
             [
              0.5555555555555556,
              "#d8576b"
             ],
             [
              0.6666666666666666,
              "#ed7953"
             ],
             [
              0.7777777777777778,
              "#fb9f3a"
             ],
             [
              0.8888888888888888,
              "#fdca26"
             ],
             [
              1,
              "#f0f921"
             ]
            ],
            "type": "contour"
           }
          ],
          "contourcarpet": [
           {
            "colorbar": {
             "outlinewidth": 0,
             "ticks": ""
            },
            "type": "contourcarpet"
           }
          ],
          "heatmap": [
           {
            "colorbar": {
             "outlinewidth": 0,
             "ticks": ""
            },
            "colorscale": [
             [
              0,
              "#0d0887"
             ],
             [
              0.1111111111111111,
              "#46039f"
             ],
             [
              0.2222222222222222,
              "#7201a8"
             ],
             [
              0.3333333333333333,
              "#9c179e"
             ],
             [
              0.4444444444444444,
              "#bd3786"
             ],
             [
              0.5555555555555556,
              "#d8576b"
             ],
             [
              0.6666666666666666,
              "#ed7953"
             ],
             [
              0.7777777777777778,
              "#fb9f3a"
             ],
             [
              0.8888888888888888,
              "#fdca26"
             ],
             [
              1,
              "#f0f921"
             ]
            ],
            "type": "heatmap"
           }
          ],
          "heatmapgl": [
           {
            "colorbar": {
             "outlinewidth": 0,
             "ticks": ""
            },
            "colorscale": [
             [
              0,
              "#0d0887"
             ],
             [
              0.1111111111111111,
              "#46039f"
             ],
             [
              0.2222222222222222,
              "#7201a8"
             ],
             [
              0.3333333333333333,
              "#9c179e"
             ],
             [
              0.4444444444444444,
              "#bd3786"
             ],
             [
              0.5555555555555556,
              "#d8576b"
             ],
             [
              0.6666666666666666,
              "#ed7953"
             ],
             [
              0.7777777777777778,
              "#fb9f3a"
             ],
             [
              0.8888888888888888,
              "#fdca26"
             ],
             [
              1,
              "#f0f921"
             ]
            ],
            "type": "heatmapgl"
           }
          ],
          "histogram": [
           {
            "marker": {
             "colorbar": {
              "outlinewidth": 0,
              "ticks": ""
             }
            },
            "type": "histogram"
           }
          ],
          "histogram2d": [
           {
            "colorbar": {
             "outlinewidth": 0,
             "ticks": ""
            },
            "colorscale": [
             [
              0,
              "#0d0887"
             ],
             [
              0.1111111111111111,
              "#46039f"
             ],
             [
              0.2222222222222222,
              "#7201a8"
             ],
             [
              0.3333333333333333,
              "#9c179e"
             ],
             [
              0.4444444444444444,
              "#bd3786"
             ],
             [
              0.5555555555555556,
              "#d8576b"
             ],
             [
              0.6666666666666666,
              "#ed7953"
             ],
             [
              0.7777777777777778,
              "#fb9f3a"
             ],
             [
              0.8888888888888888,
              "#fdca26"
             ],
             [
              1,
              "#f0f921"
             ]
            ],
            "type": "histogram2d"
           }
          ],
          "histogram2dcontour": [
           {
            "colorbar": {
             "outlinewidth": 0,
             "ticks": ""
            },
            "colorscale": [
             [
              0,
              "#0d0887"
             ],
             [
              0.1111111111111111,
              "#46039f"
             ],
             [
              0.2222222222222222,
              "#7201a8"
             ],
             [
              0.3333333333333333,
              "#9c179e"
             ],
             [
              0.4444444444444444,
              "#bd3786"
             ],
             [
              0.5555555555555556,
              "#d8576b"
             ],
             [
              0.6666666666666666,
              "#ed7953"
             ],
             [
              0.7777777777777778,
              "#fb9f3a"
             ],
             [
              0.8888888888888888,
              "#fdca26"
             ],
             [
              1,
              "#f0f921"
             ]
            ],
            "type": "histogram2dcontour"
           }
          ],
          "mesh3d": [
           {
            "colorbar": {
             "outlinewidth": 0,
             "ticks": ""
            },
            "type": "mesh3d"
           }
          ],
          "parcoords": [
           {
            "line": {
             "colorbar": {
              "outlinewidth": 0,
              "ticks": ""
             }
            },
            "type": "parcoords"
           }
          ],
          "pie": [
           {
            "automargin": true,
            "type": "pie"
           }
          ],
          "scatter": [
           {
            "marker": {
             "colorbar": {
              "outlinewidth": 0,
              "ticks": ""
             }
            },
            "type": "scatter"
           }
          ],
          "scatter3d": [
           {
            "line": {
             "colorbar": {
              "outlinewidth": 0,
              "ticks": ""
             }
            },
            "marker": {
             "colorbar": {
              "outlinewidth": 0,
              "ticks": ""
             }
            },
            "type": "scatter3d"
           }
          ],
          "scattercarpet": [
           {
            "marker": {
             "colorbar": {
              "outlinewidth": 0,
              "ticks": ""
             }
            },
            "type": "scattercarpet"
           }
          ],
          "scattergeo": [
           {
            "marker": {
             "colorbar": {
              "outlinewidth": 0,
              "ticks": ""
             }
            },
            "type": "scattergeo"
           }
          ],
          "scattergl": [
           {
            "marker": {
             "colorbar": {
              "outlinewidth": 0,
              "ticks": ""
             }
            },
            "type": "scattergl"
           }
          ],
          "scattermapbox": [
           {
            "marker": {
             "colorbar": {
              "outlinewidth": 0,
              "ticks": ""
             }
            },
            "type": "scattermapbox"
           }
          ],
          "scatterpolar": [
           {
            "marker": {
             "colorbar": {
              "outlinewidth": 0,
              "ticks": ""
             }
            },
            "type": "scatterpolar"
           }
          ],
          "scatterpolargl": [
           {
            "marker": {
             "colorbar": {
              "outlinewidth": 0,
              "ticks": ""
             }
            },
            "type": "scatterpolargl"
           }
          ],
          "scatterternary": [
           {
            "marker": {
             "colorbar": {
              "outlinewidth": 0,
              "ticks": ""
             }
            },
            "type": "scatterternary"
           }
          ],
          "surface": [
           {
            "colorbar": {
             "outlinewidth": 0,
             "ticks": ""
            },
            "colorscale": [
             [
              0,
              "#0d0887"
             ],
             [
              0.1111111111111111,
              "#46039f"
             ],
             [
              0.2222222222222222,
              "#7201a8"
             ],
             [
              0.3333333333333333,
              "#9c179e"
             ],
             [
              0.4444444444444444,
              "#bd3786"
             ],
             [
              0.5555555555555556,
              "#d8576b"
             ],
             [
              0.6666666666666666,
              "#ed7953"
             ],
             [
              0.7777777777777778,
              "#fb9f3a"
             ],
             [
              0.8888888888888888,
              "#fdca26"
             ],
             [
              1,
              "#f0f921"
             ]
            ],
            "type": "surface"
           }
          ],
          "table": [
           {
            "cells": {
             "fill": {
              "color": "#EBF0F8"
             },
             "line": {
              "color": "white"
             }
            },
            "header": {
             "fill": {
              "color": "#C8D4E3"
             },
             "line": {
              "color": "white"
             }
            },
            "type": "table"
           }
          ]
         },
         "layout": {
          "annotationdefaults": {
           "arrowcolor": "#2a3f5f",
           "arrowhead": 0,
           "arrowwidth": 1
          },
          "autotypenumbers": "strict",
          "coloraxis": {
           "colorbar": {
            "outlinewidth": 0,
            "ticks": ""
           }
          },
          "colorscale": {
           "diverging": [
            [
             0,
             "#8e0152"
            ],
            [
             0.1,
             "#c51b7d"
            ],
            [
             0.2,
             "#de77ae"
            ],
            [
             0.3,
             "#f1b6da"
            ],
            [
             0.4,
             "#fde0ef"
            ],
            [
             0.5,
             "#f7f7f7"
            ],
            [
             0.6,
             "#e6f5d0"
            ],
            [
             0.7,
             "#b8e186"
            ],
            [
             0.8,
             "#7fbc41"
            ],
            [
             0.9,
             "#4d9221"
            ],
            [
             1,
             "#276419"
            ]
           ],
           "sequential": [
            [
             0,
             "#0d0887"
            ],
            [
             0.1111111111111111,
             "#46039f"
            ],
            [
             0.2222222222222222,
             "#7201a8"
            ],
            [
             0.3333333333333333,
             "#9c179e"
            ],
            [
             0.4444444444444444,
             "#bd3786"
            ],
            [
             0.5555555555555556,
             "#d8576b"
            ],
            [
             0.6666666666666666,
             "#ed7953"
            ],
            [
             0.7777777777777778,
             "#fb9f3a"
            ],
            [
             0.8888888888888888,
             "#fdca26"
            ],
            [
             1,
             "#f0f921"
            ]
           ],
           "sequentialminus": [
            [
             0,
             "#0d0887"
            ],
            [
             0.1111111111111111,
             "#46039f"
            ],
            [
             0.2222222222222222,
             "#7201a8"
            ],
            [
             0.3333333333333333,
             "#9c179e"
            ],
            [
             0.4444444444444444,
             "#bd3786"
            ],
            [
             0.5555555555555556,
             "#d8576b"
            ],
            [
             0.6666666666666666,
             "#ed7953"
            ],
            [
             0.7777777777777778,
             "#fb9f3a"
            ],
            [
             0.8888888888888888,
             "#fdca26"
            ],
            [
             1,
             "#f0f921"
            ]
           ]
          },
          "colorway": [
           "#636efa",
           "#EF553B",
           "#00cc96",
           "#ab63fa",
           "#FFA15A",
           "#19d3f3",
           "#FF6692",
           "#B6E880",
           "#FF97FF",
           "#FECB52"
          ],
          "font": {
           "color": "#2a3f5f"
          },
          "geo": {
           "bgcolor": "white",
           "lakecolor": "white",
           "landcolor": "#E5ECF6",
           "showlakes": true,
           "showland": true,
           "subunitcolor": "white"
          },
          "hoverlabel": {
           "align": "left"
          },
          "hovermode": "closest",
          "mapbox": {
           "style": "light"
          },
          "paper_bgcolor": "white",
          "plot_bgcolor": "#E5ECF6",
          "polar": {
           "angularaxis": {
            "gridcolor": "white",
            "linecolor": "white",
            "ticks": ""
           },
           "bgcolor": "#E5ECF6",
           "radialaxis": {
            "gridcolor": "white",
            "linecolor": "white",
            "ticks": ""
           }
          },
          "scene": {
           "xaxis": {
            "backgroundcolor": "#E5ECF6",
            "gridcolor": "white",
            "gridwidth": 2,
            "linecolor": "white",
            "showbackground": true,
            "ticks": "",
            "zerolinecolor": "white"
           },
           "yaxis": {
            "backgroundcolor": "#E5ECF6",
            "gridcolor": "white",
            "gridwidth": 2,
            "linecolor": "white",
            "showbackground": true,
            "ticks": "",
            "zerolinecolor": "white"
           },
           "zaxis": {
            "backgroundcolor": "#E5ECF6",
            "gridcolor": "white",
            "gridwidth": 2,
            "linecolor": "white",
            "showbackground": true,
            "ticks": "",
            "zerolinecolor": "white"
           }
          },
          "shapedefaults": {
           "line": {
            "color": "#2a3f5f"
           }
          },
          "ternary": {
           "aaxis": {
            "gridcolor": "white",
            "linecolor": "white",
            "ticks": ""
           },
           "baxis": {
            "gridcolor": "white",
            "linecolor": "white",
            "ticks": ""
           },
           "bgcolor": "#E5ECF6",
           "caxis": {
            "gridcolor": "white",
            "linecolor": "white",
            "ticks": ""
           }
          },
          "title": {
           "x": 0.05
          },
          "xaxis": {
           "automargin": true,
           "gridcolor": "white",
           "linecolor": "white",
           "ticks": "",
           "title": {
            "standoff": 15
           },
           "zerolinecolor": "white",
           "zerolinewidth": 2
          },
          "yaxis": {
           "automargin": true,
           "gridcolor": "white",
           "linecolor": "white",
           "ticks": "",
           "title": {
            "standoff": 15
           },
           "zerolinecolor": "white",
           "zerolinewidth": 2
          }
         }
        },
        "title": {
         "text": "Xylometazolín - počet balení nad 50 000"
        },
        "xaxis": {
         "anchor": "y",
         "domain": [
          0,
          1
         ],
         "tickangle": 45,
         "title": {
          "text": " "
         }
        },
        "yaxis": {
         "anchor": "x",
         "domain": [
          0,
          1
         ],
         "title": {
          "text": "Počet balení"
         }
        }
       }
      }
     },
     "metadata": {}
    }
   ],
   "source": [
    "fig = px.bar(xylometazolin.query('Počet_balení > 50000').sort_values(by='Počet_balení', ascending=False), x='LIEK_popis', y='Počet_balení', color='STAT_popis', title='Xylometazolín - počet balení nad 50 000', color_discrete_sequence=[modra, oranzova, ruzova, zelena, zlta], labels={'Počet_balení':'Počet balení', 'STAT_popis':' ', 'LIEK_popis':' '})\n",
    "fig.update_xaxes(tickangle=45)\n",
    "fig.show()"
   ]
  },
  {
   "source": [
    "Medzi liekmi na liecbu opuchov nosovej sliznice, pri akutnej, alergickej alebo inych druhoch nadchy je najpredavanejsim a pravdepodobne aj najznamejsim irsky sprej do nosa Olyth a Olynth HA."
   ],
   "cell_type": "markdown",
   "metadata": {}
  },
  {
   "source": [
    "# 15. Rôzne iné krčné antiseptiká"
   ],
   "cell_type": "markdown",
   "metadata": {}
  },
  {
   "cell_type": "code",
   "execution_count": 239,
   "metadata": {},
   "outputs": [
    {
     "output_type": "display_data",
     "data": {
      "text/plain": "            LIEK_popis          STAT_popis  \\\n0      Dorithricin pas             Nemecko   \n1     Faryngal aerodis           Slovinsko   \n2         Faryngal pas           Slovinsko   \n3   HEXORALETTEN N pas               ĺrsko   \n4            NEO-ANGIN             Nemecko   \n5        NEO-ANGIN pas             Nemecko   \n6         SEPTISAN tbl           Slovensko   \n7            SEPTOLETE           Slovinsko   \n8            SEPTOLETE               Česko   \n9            STOPANGIN               Česko   \n10           STREPSILS  Spojené kráľovstvo   \n11           STREPSILS               Česko   \n\n                                        VYROBCA_popis   index  Počet_balení  \n0                         Medice Pharma GmbH & Co. KG   15809    653457.650  \n1                         Sandoz Pharmaceuticals d.d.    7929      3846.000  \n2                         Sandoz Pharmaceuticals d.d.   15795     11373.370  \n3                 McNeil Healthcare (Ireland) Limited    7901      3768.500  \n4                                     Divapharma GmbH    7907     11357.380  \n5                                     Divapharma GmbH   31692    105924.680  \n6                      sanofi-aventis Slovakia s.r.o.    7936     90881.000  \n7                               KRKA d.d., Novo mesto   63315    109671.600  \n8   Reckitt Benckiser (Czech Republic), spol. s r.o.     7919     13398.600  \n9                        Teva Czech Industries s.r.o.   15802     63500.500  \n10                     Boots Healthcare International   31636       143.000  \n11  Reckitt Benckiser (Czech Republic), spol. s r.o.   118810    376971.679  ",
      "text/html": "<div>\n<style scoped>\n    .dataframe tbody tr th:only-of-type {\n        vertical-align: middle;\n    }\n\n    .dataframe tbody tr th {\n        vertical-align: top;\n    }\n\n    .dataframe thead th {\n        text-align: right;\n    }\n</style>\n<table border=\"1\" class=\"dataframe\">\n  <thead>\n    <tr style=\"text-align: right;\">\n      <th></th>\n      <th>LIEK_popis</th>\n      <th>STAT_popis</th>\n      <th>VYROBCA_popis</th>\n      <th>index</th>\n      <th>Počet_balení</th>\n    </tr>\n  </thead>\n  <tbody>\n    <tr>\n      <th>0</th>\n      <td>Dorithricin pas</td>\n      <td>Nemecko</td>\n      <td>Medice Pharma GmbH &amp; Co. KG</td>\n      <td>15809</td>\n      <td>653457.650</td>\n    </tr>\n    <tr>\n      <th>1</th>\n      <td>Faryngal aerodis</td>\n      <td>Slovinsko</td>\n      <td>Sandoz Pharmaceuticals d.d.</td>\n      <td>7929</td>\n      <td>3846.000</td>\n    </tr>\n    <tr>\n      <th>2</th>\n      <td>Faryngal pas</td>\n      <td>Slovinsko</td>\n      <td>Sandoz Pharmaceuticals d.d.</td>\n      <td>15795</td>\n      <td>11373.370</td>\n    </tr>\n    <tr>\n      <th>3</th>\n      <td>HEXORALETTEN N pas</td>\n      <td>ĺrsko</td>\n      <td>McNeil Healthcare (Ireland) Limited</td>\n      <td>7901</td>\n      <td>3768.500</td>\n    </tr>\n    <tr>\n      <th>4</th>\n      <td>NEO-ANGIN</td>\n      <td>Nemecko</td>\n      <td>Divapharma GmbH</td>\n      <td>7907</td>\n      <td>11357.380</td>\n    </tr>\n    <tr>\n      <th>5</th>\n      <td>NEO-ANGIN pas</td>\n      <td>Nemecko</td>\n      <td>Divapharma GmbH</td>\n      <td>31692</td>\n      <td>105924.680</td>\n    </tr>\n    <tr>\n      <th>6</th>\n      <td>SEPTISAN tbl</td>\n      <td>Slovensko</td>\n      <td>sanofi-aventis Slovakia s.r.o.</td>\n      <td>7936</td>\n      <td>90881.000</td>\n    </tr>\n    <tr>\n      <th>7</th>\n      <td>SEPTOLETE</td>\n      <td>Slovinsko</td>\n      <td>KRKA d.d., Novo mesto</td>\n      <td>63315</td>\n      <td>109671.600</td>\n    </tr>\n    <tr>\n      <th>8</th>\n      <td>SEPTOLETE</td>\n      <td>Česko</td>\n      <td>Reckitt Benckiser (Czech Republic), spol. s r.o.</td>\n      <td>7919</td>\n      <td>13398.600</td>\n    </tr>\n    <tr>\n      <th>9</th>\n      <td>STOPANGIN</td>\n      <td>Česko</td>\n      <td>Teva Czech Industries s.r.o.</td>\n      <td>15802</td>\n      <td>63500.500</td>\n    </tr>\n    <tr>\n      <th>10</th>\n      <td>STREPSILS</td>\n      <td>Spojené kráľovstvo</td>\n      <td>Boots Healthcare International</td>\n      <td>31636</td>\n      <td>143.000</td>\n    </tr>\n    <tr>\n      <th>11</th>\n      <td>STREPSILS</td>\n      <td>Česko</td>\n      <td>Reckitt Benckiser (Czech Republic), spol. s r.o.</td>\n      <td>118810</td>\n      <td>376971.679</td>\n    </tr>\n  </tbody>\n</table>\n</div>"
     },
     "metadata": {}
    }
   ],
   "source": [
    "ine_krcne = top15tab[\"R02AA20\"].sort_values(by='Počet_balení', ascending=False)\n",
    "\n",
    "for i,popis in enumerate(ine_krcne['LIEK_popis']):\n",
    "    if 'Dorithricin pas' in popis:\n",
    "        ine_krcne.iloc[i,4] = 'Dorithricin pas'\n",
    "    elif 'Faryngal 5 mg/1 mg lisované' in popis:\n",
    "        ine_krcne.iloc[i,4] = 'Faryngal pas'\n",
    "    elif 'Faryngal' in popis:\n",
    "        ine_krcne.iloc[i,4] = 'Faryngal aerodis'\n",
    "    elif 'HEXORALETTEN' in popis:\n",
    "        ine_krcne.iloc[i,4] = 'HEXORALETTEN N pas'\n",
    "    elif 'NEO-ANGIN' in popis:\n",
    "        ine_krcne.iloc[i,4] = 'NEO-ANGIN pas'\n",
    "    elif 'SEPTISAN tbl' in popis:\n",
    "        ine_krcne.iloc[i,4] = 'SEPTISAN tbl'\n",
    "    elif 'SEPTOLETE' in popis:\n",
    "        ine_krcne.iloc[i,4] = 'SEPTOLETE'\n",
    "    elif 'STOPANGIN' in popis:\n",
    "        ine_krcne.iloc[i,4] = 'STOPANGIN'\n",
    "    elif 'STREPSILS' in popis:\n",
    "        ine_krcne.iloc[i,4] = 'STREPSILS'\n",
    "    elif 'Septolete' in popis:\n",
    "        ine_krcne.iloc[i,4] = 'SEPTOLETE'\n",
    "    elif 'Strepsils' in popis:\n",
    "        ine_krcne.iloc[i,4] = 'SEPTOLETE'\n",
    "    elif 'neo-angin' in popis:\n",
    "        ine_krcne.iloc[i,4] = 'NEO-ANGIN'\n",
    "      \n",
    "\n",
    "ine_krcne = ine_krcne.groupby(['LIEK_popis', 'STAT_popis', 'VYROBCA_popis']).sum().reset_index()\n",
    "\n",
    "display(ine_krcne.sort_values(by='LIEK_popis'))"
   ]
  },
  {
   "cell_type": "code",
   "execution_count": 241,
   "metadata": {},
   "outputs": [
    {
     "output_type": "display_data",
     "data": {
      "application/vnd.plotly.v1+json": {
       "config": {
        "plotlyServerURL": "https://plot.ly"
       },
       "data": [
        {
         "alignmentgroup": "True",
         "hovertemplate": " =%{x}<br>Počet balení=%{y}<extra></extra>",
         "legendgroup": "Nemecko",
         "marker": {
          "color": "#4B6AAB"
         },
         "name": "Nemecko",
         "offsetgroup": "Nemecko",
         "orientation": "v",
         "showlegend": true,
         "textposition": "auto",
         "type": "bar",
         "x": [
          "Dorithricin pas",
          "NEO-ANGIN pas"
         ],
         "xaxis": "x",
         "y": [
          653457.6499999999,
          105924.68000000001
         ],
         "yaxis": "y"
        },
        {
         "alignmentgroup": "True",
         "hovertemplate": " =%{x}<br>Počet balení=%{y}<extra></extra>",
         "legendgroup": "Česko",
         "marker": {
          "color": "#D8764C"
         },
         "name": "Česko",
         "offsetgroup": "Česko",
         "orientation": "v",
         "showlegend": true,
         "textposition": "auto",
         "type": "bar",
         "x": [
          "STREPSILS",
          "STOPANGIN"
         ],
         "xaxis": "x",
         "y": [
          376971.679,
          63500.5
         ],
         "yaxis": "y"
        },
        {
         "alignmentgroup": "True",
         "hovertemplate": " =%{x}<br>Počet balení=%{y}<extra></extra>",
         "legendgroup": "Slovinsko",
         "marker": {
          "color": "#B75B9E"
         },
         "name": "Slovinsko",
         "offsetgroup": "Slovinsko",
         "orientation": "v",
         "showlegend": true,
         "textposition": "auto",
         "type": "bar",
         "x": [
          "SEPTOLETE"
         ],
         "xaxis": "x",
         "y": [
          109671.59999999999
         ],
         "yaxis": "y"
        },
        {
         "alignmentgroup": "True",
         "hovertemplate": " =%{x}<br>Počet balení=%{y}<extra></extra>",
         "legendgroup": "Slovensko",
         "marker": {
          "color": "#73B5AB"
         },
         "name": "Slovensko",
         "offsetgroup": "Slovensko",
         "orientation": "v",
         "showlegend": true,
         "textposition": "auto",
         "type": "bar",
         "x": [
          "SEPTISAN tbl"
         ],
         "xaxis": "x",
         "y": [
          90881
         ],
         "yaxis": "y"
        }
       ],
       "layout": {
        "barmode": "relative",
        "legend": {
         "title": {
          "text": " "
         },
         "tracegroupgap": 0
        },
        "template": {
         "data": {
          "bar": [
           {
            "error_x": {
             "color": "#2a3f5f"
            },
            "error_y": {
             "color": "#2a3f5f"
            },
            "marker": {
             "line": {
              "color": "#E5ECF6",
              "width": 0.5
             }
            },
            "type": "bar"
           }
          ],
          "barpolar": [
           {
            "marker": {
             "line": {
              "color": "#E5ECF6",
              "width": 0.5
             }
            },
            "type": "barpolar"
           }
          ],
          "carpet": [
           {
            "aaxis": {
             "endlinecolor": "#2a3f5f",
             "gridcolor": "white",
             "linecolor": "white",
             "minorgridcolor": "white",
             "startlinecolor": "#2a3f5f"
            },
            "baxis": {
             "endlinecolor": "#2a3f5f",
             "gridcolor": "white",
             "linecolor": "white",
             "minorgridcolor": "white",
             "startlinecolor": "#2a3f5f"
            },
            "type": "carpet"
           }
          ],
          "choropleth": [
           {
            "colorbar": {
             "outlinewidth": 0,
             "ticks": ""
            },
            "type": "choropleth"
           }
          ],
          "contour": [
           {
            "colorbar": {
             "outlinewidth": 0,
             "ticks": ""
            },
            "colorscale": [
             [
              0,
              "#0d0887"
             ],
             [
              0.1111111111111111,
              "#46039f"
             ],
             [
              0.2222222222222222,
              "#7201a8"
             ],
             [
              0.3333333333333333,
              "#9c179e"
             ],
             [
              0.4444444444444444,
              "#bd3786"
             ],
             [
              0.5555555555555556,
              "#d8576b"
             ],
             [
              0.6666666666666666,
              "#ed7953"
             ],
             [
              0.7777777777777778,
              "#fb9f3a"
             ],
             [
              0.8888888888888888,
              "#fdca26"
             ],
             [
              1,
              "#f0f921"
             ]
            ],
            "type": "contour"
           }
          ],
          "contourcarpet": [
           {
            "colorbar": {
             "outlinewidth": 0,
             "ticks": ""
            },
            "type": "contourcarpet"
           }
          ],
          "heatmap": [
           {
            "colorbar": {
             "outlinewidth": 0,
             "ticks": ""
            },
            "colorscale": [
             [
              0,
              "#0d0887"
             ],
             [
              0.1111111111111111,
              "#46039f"
             ],
             [
              0.2222222222222222,
              "#7201a8"
             ],
             [
              0.3333333333333333,
              "#9c179e"
             ],
             [
              0.4444444444444444,
              "#bd3786"
             ],
             [
              0.5555555555555556,
              "#d8576b"
             ],
             [
              0.6666666666666666,
              "#ed7953"
             ],
             [
              0.7777777777777778,
              "#fb9f3a"
             ],
             [
              0.8888888888888888,
              "#fdca26"
             ],
             [
              1,
              "#f0f921"
             ]
            ],
            "type": "heatmap"
           }
          ],
          "heatmapgl": [
           {
            "colorbar": {
             "outlinewidth": 0,
             "ticks": ""
            },
            "colorscale": [
             [
              0,
              "#0d0887"
             ],
             [
              0.1111111111111111,
              "#46039f"
             ],
             [
              0.2222222222222222,
              "#7201a8"
             ],
             [
              0.3333333333333333,
              "#9c179e"
             ],
             [
              0.4444444444444444,
              "#bd3786"
             ],
             [
              0.5555555555555556,
              "#d8576b"
             ],
             [
              0.6666666666666666,
              "#ed7953"
             ],
             [
              0.7777777777777778,
              "#fb9f3a"
             ],
             [
              0.8888888888888888,
              "#fdca26"
             ],
             [
              1,
              "#f0f921"
             ]
            ],
            "type": "heatmapgl"
           }
          ],
          "histogram": [
           {
            "marker": {
             "colorbar": {
              "outlinewidth": 0,
              "ticks": ""
             }
            },
            "type": "histogram"
           }
          ],
          "histogram2d": [
           {
            "colorbar": {
             "outlinewidth": 0,
             "ticks": ""
            },
            "colorscale": [
             [
              0,
              "#0d0887"
             ],
             [
              0.1111111111111111,
              "#46039f"
             ],
             [
              0.2222222222222222,
              "#7201a8"
             ],
             [
              0.3333333333333333,
              "#9c179e"
             ],
             [
              0.4444444444444444,
              "#bd3786"
             ],
             [
              0.5555555555555556,
              "#d8576b"
             ],
             [
              0.6666666666666666,
              "#ed7953"
             ],
             [
              0.7777777777777778,
              "#fb9f3a"
             ],
             [
              0.8888888888888888,
              "#fdca26"
             ],
             [
              1,
              "#f0f921"
             ]
            ],
            "type": "histogram2d"
           }
          ],
          "histogram2dcontour": [
           {
            "colorbar": {
             "outlinewidth": 0,
             "ticks": ""
            },
            "colorscale": [
             [
              0,
              "#0d0887"
             ],
             [
              0.1111111111111111,
              "#46039f"
             ],
             [
              0.2222222222222222,
              "#7201a8"
             ],
             [
              0.3333333333333333,
              "#9c179e"
             ],
             [
              0.4444444444444444,
              "#bd3786"
             ],
             [
              0.5555555555555556,
              "#d8576b"
             ],
             [
              0.6666666666666666,
              "#ed7953"
             ],
             [
              0.7777777777777778,
              "#fb9f3a"
             ],
             [
              0.8888888888888888,
              "#fdca26"
             ],
             [
              1,
              "#f0f921"
             ]
            ],
            "type": "histogram2dcontour"
           }
          ],
          "mesh3d": [
           {
            "colorbar": {
             "outlinewidth": 0,
             "ticks": ""
            },
            "type": "mesh3d"
           }
          ],
          "parcoords": [
           {
            "line": {
             "colorbar": {
              "outlinewidth": 0,
              "ticks": ""
             }
            },
            "type": "parcoords"
           }
          ],
          "pie": [
           {
            "automargin": true,
            "type": "pie"
           }
          ],
          "scatter": [
           {
            "marker": {
             "colorbar": {
              "outlinewidth": 0,
              "ticks": ""
             }
            },
            "type": "scatter"
           }
          ],
          "scatter3d": [
           {
            "line": {
             "colorbar": {
              "outlinewidth": 0,
              "ticks": ""
             }
            },
            "marker": {
             "colorbar": {
              "outlinewidth": 0,
              "ticks": ""
             }
            },
            "type": "scatter3d"
           }
          ],
          "scattercarpet": [
           {
            "marker": {
             "colorbar": {
              "outlinewidth": 0,
              "ticks": ""
             }
            },
            "type": "scattercarpet"
           }
          ],
          "scattergeo": [
           {
            "marker": {
             "colorbar": {
              "outlinewidth": 0,
              "ticks": ""
             }
            },
            "type": "scattergeo"
           }
          ],
          "scattergl": [
           {
            "marker": {
             "colorbar": {
              "outlinewidth": 0,
              "ticks": ""
             }
            },
            "type": "scattergl"
           }
          ],
          "scattermapbox": [
           {
            "marker": {
             "colorbar": {
              "outlinewidth": 0,
              "ticks": ""
             }
            },
            "type": "scattermapbox"
           }
          ],
          "scatterpolar": [
           {
            "marker": {
             "colorbar": {
              "outlinewidth": 0,
              "ticks": ""
             }
            },
            "type": "scatterpolar"
           }
          ],
          "scatterpolargl": [
           {
            "marker": {
             "colorbar": {
              "outlinewidth": 0,
              "ticks": ""
             }
            },
            "type": "scatterpolargl"
           }
          ],
          "scatterternary": [
           {
            "marker": {
             "colorbar": {
              "outlinewidth": 0,
              "ticks": ""
             }
            },
            "type": "scatterternary"
           }
          ],
          "surface": [
           {
            "colorbar": {
             "outlinewidth": 0,
             "ticks": ""
            },
            "colorscale": [
             [
              0,
              "#0d0887"
             ],
             [
              0.1111111111111111,
              "#46039f"
             ],
             [
              0.2222222222222222,
              "#7201a8"
             ],
             [
              0.3333333333333333,
              "#9c179e"
             ],
             [
              0.4444444444444444,
              "#bd3786"
             ],
             [
              0.5555555555555556,
              "#d8576b"
             ],
             [
              0.6666666666666666,
              "#ed7953"
             ],
             [
              0.7777777777777778,
              "#fb9f3a"
             ],
             [
              0.8888888888888888,
              "#fdca26"
             ],
             [
              1,
              "#f0f921"
             ]
            ],
            "type": "surface"
           }
          ],
          "table": [
           {
            "cells": {
             "fill": {
              "color": "#EBF0F8"
             },
             "line": {
              "color": "white"
             }
            },
            "header": {
             "fill": {
              "color": "#C8D4E3"
             },
             "line": {
              "color": "white"
             }
            },
            "type": "table"
           }
          ]
         },
         "layout": {
          "annotationdefaults": {
           "arrowcolor": "#2a3f5f",
           "arrowhead": 0,
           "arrowwidth": 1
          },
          "autotypenumbers": "strict",
          "coloraxis": {
           "colorbar": {
            "outlinewidth": 0,
            "ticks": ""
           }
          },
          "colorscale": {
           "diverging": [
            [
             0,
             "#8e0152"
            ],
            [
             0.1,
             "#c51b7d"
            ],
            [
             0.2,
             "#de77ae"
            ],
            [
             0.3,
             "#f1b6da"
            ],
            [
             0.4,
             "#fde0ef"
            ],
            [
             0.5,
             "#f7f7f7"
            ],
            [
             0.6,
             "#e6f5d0"
            ],
            [
             0.7,
             "#b8e186"
            ],
            [
             0.8,
             "#7fbc41"
            ],
            [
             0.9,
             "#4d9221"
            ],
            [
             1,
             "#276419"
            ]
           ],
           "sequential": [
            [
             0,
             "#0d0887"
            ],
            [
             0.1111111111111111,
             "#46039f"
            ],
            [
             0.2222222222222222,
             "#7201a8"
            ],
            [
             0.3333333333333333,
             "#9c179e"
            ],
            [
             0.4444444444444444,
             "#bd3786"
            ],
            [
             0.5555555555555556,
             "#d8576b"
            ],
            [
             0.6666666666666666,
             "#ed7953"
            ],
            [
             0.7777777777777778,
             "#fb9f3a"
            ],
            [
             0.8888888888888888,
             "#fdca26"
            ],
            [
             1,
             "#f0f921"
            ]
           ],
           "sequentialminus": [
            [
             0,
             "#0d0887"
            ],
            [
             0.1111111111111111,
             "#46039f"
            ],
            [
             0.2222222222222222,
             "#7201a8"
            ],
            [
             0.3333333333333333,
             "#9c179e"
            ],
            [
             0.4444444444444444,
             "#bd3786"
            ],
            [
             0.5555555555555556,
             "#d8576b"
            ],
            [
             0.6666666666666666,
             "#ed7953"
            ],
            [
             0.7777777777777778,
             "#fb9f3a"
            ],
            [
             0.8888888888888888,
             "#fdca26"
            ],
            [
             1,
             "#f0f921"
            ]
           ]
          },
          "colorway": [
           "#636efa",
           "#EF553B",
           "#00cc96",
           "#ab63fa",
           "#FFA15A",
           "#19d3f3",
           "#FF6692",
           "#B6E880",
           "#FF97FF",
           "#FECB52"
          ],
          "font": {
           "color": "#2a3f5f"
          },
          "geo": {
           "bgcolor": "white",
           "lakecolor": "white",
           "landcolor": "#E5ECF6",
           "showlakes": true,
           "showland": true,
           "subunitcolor": "white"
          },
          "hoverlabel": {
           "align": "left"
          },
          "hovermode": "closest",
          "mapbox": {
           "style": "light"
          },
          "paper_bgcolor": "white",
          "plot_bgcolor": "#E5ECF6",
          "polar": {
           "angularaxis": {
            "gridcolor": "white",
            "linecolor": "white",
            "ticks": ""
           },
           "bgcolor": "#E5ECF6",
           "radialaxis": {
            "gridcolor": "white",
            "linecolor": "white",
            "ticks": ""
           }
          },
          "scene": {
           "xaxis": {
            "backgroundcolor": "#E5ECF6",
            "gridcolor": "white",
            "gridwidth": 2,
            "linecolor": "white",
            "showbackground": true,
            "ticks": "",
            "zerolinecolor": "white"
           },
           "yaxis": {
            "backgroundcolor": "#E5ECF6",
            "gridcolor": "white",
            "gridwidth": 2,
            "linecolor": "white",
            "showbackground": true,
            "ticks": "",
            "zerolinecolor": "white"
           },
           "zaxis": {
            "backgroundcolor": "#E5ECF6",
            "gridcolor": "white",
            "gridwidth": 2,
            "linecolor": "white",
            "showbackground": true,
            "ticks": "",
            "zerolinecolor": "white"
           }
          },
          "shapedefaults": {
           "line": {
            "color": "#2a3f5f"
           }
          },
          "ternary": {
           "aaxis": {
            "gridcolor": "white",
            "linecolor": "white",
            "ticks": ""
           },
           "baxis": {
            "gridcolor": "white",
            "linecolor": "white",
            "ticks": ""
           },
           "bgcolor": "#E5ECF6",
           "caxis": {
            "gridcolor": "white",
            "linecolor": "white",
            "ticks": ""
           }
          },
          "title": {
           "x": 0.05
          },
          "xaxis": {
           "automargin": true,
           "gridcolor": "white",
           "linecolor": "white",
           "ticks": "",
           "title": {
            "standoff": 15
           },
           "zerolinecolor": "white",
           "zerolinewidth": 2
          },
          "yaxis": {
           "automargin": true,
           "gridcolor": "white",
           "linecolor": "white",
           "ticks": "",
           "title": {
            "standoff": 15
           },
           "zerolinecolor": "white",
           "zerolinewidth": 2
          }
         }
        },
        "title": {
         "text": "Rôzne iné krčné antiseptiká - počet balení nad 50 000"
        },
        "xaxis": {
         "anchor": "y",
         "domain": [
          0,
          1
         ],
         "tickangle": 45,
         "title": {
          "text": " "
         }
        },
        "yaxis": {
         "anchor": "x",
         "domain": [
          0,
          1
         ],
         "title": {
          "text": "Počet balení"
         }
        }
       }
      }
     },
     "metadata": {}
    }
   ],
   "source": [
    "fig = px.bar(ine_krcne.query('Počet_balení > 50000').sort_values(by='Počet_balení', ascending=False), x='LIEK_popis', y='Počet_balení', color='STAT_popis', title='Rôzne iné krčné antiseptiká - počet balení nad 50 000', color_discrete_sequence=[modra, oranzova, ruzova, zelena], labels={'Počet_balení':'Počet balení', 'STAT_popis':' ', 'LIEK_popis':' '})\n",
    "fig.update_xaxes(tickangle=45)\n",
    "fig.show()"
   ]
  },
  {
   "cell_type": "code",
   "execution_count": 243,
   "metadata": {},
   "outputs": [
    {
     "output_type": "display_data",
     "data": {
      "text/plain": "               LIEK_popis  index  Počet_balení\n0         CITRON A BYLINY  15845     44667.250\n1            COOLING MINT   7935     44157.520\n2        Jahoda bez cukru   7919     13398.600\n3            MED A CITRÓN  31677    149374.240\n4    Menthol a Eucalyptus  39560      2433.500\n5                ORIGINAL  15845       110.500\n6                    PLUS  15821     76760.689\n7  POMARANČ S VITAMÍNOM C   7934        26.500\n8               Vitamin C  15829     59584.480",
      "text/html": "<div>\n<style scoped>\n    .dataframe tbody tr th:only-of-type {\n        vertical-align: middle;\n    }\n\n    .dataframe tbody tr th {\n        vertical-align: top;\n    }\n\n    .dataframe thead th {\n        text-align: right;\n    }\n</style>\n<table border=\"1\" class=\"dataframe\">\n  <thead>\n    <tr style=\"text-align: right;\">\n      <th></th>\n      <th>LIEK_popis</th>\n      <th>index</th>\n      <th>Počet_balení</th>\n    </tr>\n  </thead>\n  <tbody>\n    <tr>\n      <th>0</th>\n      <td>CITRON A BYLINY</td>\n      <td>15845</td>\n      <td>44667.250</td>\n    </tr>\n    <tr>\n      <th>1</th>\n      <td>COOLING MINT</td>\n      <td>7935</td>\n      <td>44157.520</td>\n    </tr>\n    <tr>\n      <th>2</th>\n      <td>Jahoda bez cukru</td>\n      <td>7919</td>\n      <td>13398.600</td>\n    </tr>\n    <tr>\n      <th>3</th>\n      <td>MED A CITRÓN</td>\n      <td>31677</td>\n      <td>149374.240</td>\n    </tr>\n    <tr>\n      <th>4</th>\n      <td>Menthol a Eucalyptus</td>\n      <td>39560</td>\n      <td>2433.500</td>\n    </tr>\n    <tr>\n      <th>5</th>\n      <td>ORIGINAL</td>\n      <td>15845</td>\n      <td>110.500</td>\n    </tr>\n    <tr>\n      <th>6</th>\n      <td>PLUS</td>\n      <td>15821</td>\n      <td>76760.689</td>\n    </tr>\n    <tr>\n      <th>7</th>\n      <td>POMARANČ S VITAMÍNOM C</td>\n      <td>7934</td>\n      <td>26.500</td>\n    </tr>\n    <tr>\n      <th>8</th>\n      <td>Vitamin C</td>\n      <td>15829</td>\n      <td>59584.480</td>\n    </tr>\n  </tbody>\n</table>\n</div>"
     },
     "metadata": {}
    }
   ],
   "source": [
    "strepsils = top15tab[\"R02AA20\"].sort_values(by='Počet_balení', ascending=False)\n",
    "\n",
    "for i,popis in enumerate(strepsils['LIEK_popis']):\n",
    "    if 'STREPSILS' not in popis and 'Strepsils' not in popis:\n",
    "        strepsils.iloc[i,4] = 'ine'\n",
    "      \n",
    "strepsils = strepsils.sort_values(by='LIEK_popis').iloc[0:20,:]\n",
    "\n",
    "for i,popis in enumerate(strepsils['LIEK_popis']):\n",
    "    if 'CITRON A BYLINY' in popis:\n",
    "        strepsils.iloc[i,4] = 'CITRON A BYLINY'\n",
    "    elif 'COOLING MINT' in popis:\n",
    "        strepsils.iloc[i,4] = 'COOLING MINT'\n",
    "    elif 'MED A CITRÓN' in popis:\n",
    "        strepsils.iloc[i,4] = 'MED A CITRÓN'\n",
    "    elif 'Med a Citrón' in popis:\n",
    "        strepsils.iloc[i,4] = 'MED A CITRÓN'\n",
    "    elif 'Menthol a Eucalyptus' in popis:\n",
    "        strepsils.iloc[i,4] = 'Menthol a Eucalyptus'\n",
    "    elif 'ORIGINAL' in popis:\n",
    "        strepsils.iloc[i,4] = 'ORIGINAL'\n",
    "    elif 'PLUS' in popis:\n",
    "        strepsils.iloc[i,4] = 'PLUS'\n",
    "    elif 'POMARANČ S VITAMÍNOM C' in popis:\n",
    "        strepsils.iloc[i,4] = 'POMARANČ S VITAMÍNOM C'\n",
    "    elif 'Vitamin C' in popis:\n",
    "        strepsils.iloc[i,4] = 'Vitamin C'\n",
    "    elif 'Jahoda bez cukru' in popis:\n",
    "        strepsils.iloc[i,4] = 'Jahoda bez cukru'\n",
    "strepsils = strepsils.groupby(['LIEK_popis']).sum().reset_index()\n",
    "\n",
    "display(strepsils)"
   ]
  },
  {
   "cell_type": "code",
   "execution_count": 247,
   "metadata": {},
   "outputs": [
    {
     "output_type": "display_data",
     "data": {
      "application/vnd.plotly.v1+json": {
       "config": {
        "plotlyServerURL": "https://plot.ly"
       },
       "data": [
        {
         "alignmentgroup": "True",
         "hovertemplate": " =%{x}<br>Počet balení=%{y}<extra></extra>",
         "legendgroup": "",
         "marker": {
          "color": "#4B6AAB"
         },
         "name": "",
         "offsetgroup": "",
         "orientation": "v",
         "showlegend": false,
         "textposition": "auto",
         "type": "bar",
         "x": [
          "MED A CITRÓN",
          "PLUS",
          "Vitamin C",
          "CITRON A BYLINY",
          "COOLING MINT",
          "Jahoda bez cukru"
         ],
         "xaxis": "x",
         "y": [
          149374.24,
          76760.68900000001,
          59584.479999999996,
          44667.25,
          44157.52,
          13398.6
         ],
         "yaxis": "y"
        }
       ],
       "layout": {
        "barmode": "relative",
        "legend": {
         "tracegroupgap": 0
        },
        "template": {
         "data": {
          "bar": [
           {
            "error_x": {
             "color": "#2a3f5f"
            },
            "error_y": {
             "color": "#2a3f5f"
            },
            "marker": {
             "line": {
              "color": "#E5ECF6",
              "width": 0.5
             }
            },
            "type": "bar"
           }
          ],
          "barpolar": [
           {
            "marker": {
             "line": {
              "color": "#E5ECF6",
              "width": 0.5
             }
            },
            "type": "barpolar"
           }
          ],
          "carpet": [
           {
            "aaxis": {
             "endlinecolor": "#2a3f5f",
             "gridcolor": "white",
             "linecolor": "white",
             "minorgridcolor": "white",
             "startlinecolor": "#2a3f5f"
            },
            "baxis": {
             "endlinecolor": "#2a3f5f",
             "gridcolor": "white",
             "linecolor": "white",
             "minorgridcolor": "white",
             "startlinecolor": "#2a3f5f"
            },
            "type": "carpet"
           }
          ],
          "choropleth": [
           {
            "colorbar": {
             "outlinewidth": 0,
             "ticks": ""
            },
            "type": "choropleth"
           }
          ],
          "contour": [
           {
            "colorbar": {
             "outlinewidth": 0,
             "ticks": ""
            },
            "colorscale": [
             [
              0,
              "#0d0887"
             ],
             [
              0.1111111111111111,
              "#46039f"
             ],
             [
              0.2222222222222222,
              "#7201a8"
             ],
             [
              0.3333333333333333,
              "#9c179e"
             ],
             [
              0.4444444444444444,
              "#bd3786"
             ],
             [
              0.5555555555555556,
              "#d8576b"
             ],
             [
              0.6666666666666666,
              "#ed7953"
             ],
             [
              0.7777777777777778,
              "#fb9f3a"
             ],
             [
              0.8888888888888888,
              "#fdca26"
             ],
             [
              1,
              "#f0f921"
             ]
            ],
            "type": "contour"
           }
          ],
          "contourcarpet": [
           {
            "colorbar": {
             "outlinewidth": 0,
             "ticks": ""
            },
            "type": "contourcarpet"
           }
          ],
          "heatmap": [
           {
            "colorbar": {
             "outlinewidth": 0,
             "ticks": ""
            },
            "colorscale": [
             [
              0,
              "#0d0887"
             ],
             [
              0.1111111111111111,
              "#46039f"
             ],
             [
              0.2222222222222222,
              "#7201a8"
             ],
             [
              0.3333333333333333,
              "#9c179e"
             ],
             [
              0.4444444444444444,
              "#bd3786"
             ],
             [
              0.5555555555555556,
              "#d8576b"
             ],
             [
              0.6666666666666666,
              "#ed7953"
             ],
             [
              0.7777777777777778,
              "#fb9f3a"
             ],
             [
              0.8888888888888888,
              "#fdca26"
             ],
             [
              1,
              "#f0f921"
             ]
            ],
            "type": "heatmap"
           }
          ],
          "heatmapgl": [
           {
            "colorbar": {
             "outlinewidth": 0,
             "ticks": ""
            },
            "colorscale": [
             [
              0,
              "#0d0887"
             ],
             [
              0.1111111111111111,
              "#46039f"
             ],
             [
              0.2222222222222222,
              "#7201a8"
             ],
             [
              0.3333333333333333,
              "#9c179e"
             ],
             [
              0.4444444444444444,
              "#bd3786"
             ],
             [
              0.5555555555555556,
              "#d8576b"
             ],
             [
              0.6666666666666666,
              "#ed7953"
             ],
             [
              0.7777777777777778,
              "#fb9f3a"
             ],
             [
              0.8888888888888888,
              "#fdca26"
             ],
             [
              1,
              "#f0f921"
             ]
            ],
            "type": "heatmapgl"
           }
          ],
          "histogram": [
           {
            "marker": {
             "colorbar": {
              "outlinewidth": 0,
              "ticks": ""
             }
            },
            "type": "histogram"
           }
          ],
          "histogram2d": [
           {
            "colorbar": {
             "outlinewidth": 0,
             "ticks": ""
            },
            "colorscale": [
             [
              0,
              "#0d0887"
             ],
             [
              0.1111111111111111,
              "#46039f"
             ],
             [
              0.2222222222222222,
              "#7201a8"
             ],
             [
              0.3333333333333333,
              "#9c179e"
             ],
             [
              0.4444444444444444,
              "#bd3786"
             ],
             [
              0.5555555555555556,
              "#d8576b"
             ],
             [
              0.6666666666666666,
              "#ed7953"
             ],
             [
              0.7777777777777778,
              "#fb9f3a"
             ],
             [
              0.8888888888888888,
              "#fdca26"
             ],
             [
              1,
              "#f0f921"
             ]
            ],
            "type": "histogram2d"
           }
          ],
          "histogram2dcontour": [
           {
            "colorbar": {
             "outlinewidth": 0,
             "ticks": ""
            },
            "colorscale": [
             [
              0,
              "#0d0887"
             ],
             [
              0.1111111111111111,
              "#46039f"
             ],
             [
              0.2222222222222222,
              "#7201a8"
             ],
             [
              0.3333333333333333,
              "#9c179e"
             ],
             [
              0.4444444444444444,
              "#bd3786"
             ],
             [
              0.5555555555555556,
              "#d8576b"
             ],
             [
              0.6666666666666666,
              "#ed7953"
             ],
             [
              0.7777777777777778,
              "#fb9f3a"
             ],
             [
              0.8888888888888888,
              "#fdca26"
             ],
             [
              1,
              "#f0f921"
             ]
            ],
            "type": "histogram2dcontour"
           }
          ],
          "mesh3d": [
           {
            "colorbar": {
             "outlinewidth": 0,
             "ticks": ""
            },
            "type": "mesh3d"
           }
          ],
          "parcoords": [
           {
            "line": {
             "colorbar": {
              "outlinewidth": 0,
              "ticks": ""
             }
            },
            "type": "parcoords"
           }
          ],
          "pie": [
           {
            "automargin": true,
            "type": "pie"
           }
          ],
          "scatter": [
           {
            "marker": {
             "colorbar": {
              "outlinewidth": 0,
              "ticks": ""
             }
            },
            "type": "scatter"
           }
          ],
          "scatter3d": [
           {
            "line": {
             "colorbar": {
              "outlinewidth": 0,
              "ticks": ""
             }
            },
            "marker": {
             "colorbar": {
              "outlinewidth": 0,
              "ticks": ""
             }
            },
            "type": "scatter3d"
           }
          ],
          "scattercarpet": [
           {
            "marker": {
             "colorbar": {
              "outlinewidth": 0,
              "ticks": ""
             }
            },
            "type": "scattercarpet"
           }
          ],
          "scattergeo": [
           {
            "marker": {
             "colorbar": {
              "outlinewidth": 0,
              "ticks": ""
             }
            },
            "type": "scattergeo"
           }
          ],
          "scattergl": [
           {
            "marker": {
             "colorbar": {
              "outlinewidth": 0,
              "ticks": ""
             }
            },
            "type": "scattergl"
           }
          ],
          "scattermapbox": [
           {
            "marker": {
             "colorbar": {
              "outlinewidth": 0,
              "ticks": ""
             }
            },
            "type": "scattermapbox"
           }
          ],
          "scatterpolar": [
           {
            "marker": {
             "colorbar": {
              "outlinewidth": 0,
              "ticks": ""
             }
            },
            "type": "scatterpolar"
           }
          ],
          "scatterpolargl": [
           {
            "marker": {
             "colorbar": {
              "outlinewidth": 0,
              "ticks": ""
             }
            },
            "type": "scatterpolargl"
           }
          ],
          "scatterternary": [
           {
            "marker": {
             "colorbar": {
              "outlinewidth": 0,
              "ticks": ""
             }
            },
            "type": "scatterternary"
           }
          ],
          "surface": [
           {
            "colorbar": {
             "outlinewidth": 0,
             "ticks": ""
            },
            "colorscale": [
             [
              0,
              "#0d0887"
             ],
             [
              0.1111111111111111,
              "#46039f"
             ],
             [
              0.2222222222222222,
              "#7201a8"
             ],
             [
              0.3333333333333333,
              "#9c179e"
             ],
             [
              0.4444444444444444,
              "#bd3786"
             ],
             [
              0.5555555555555556,
              "#d8576b"
             ],
             [
              0.6666666666666666,
              "#ed7953"
             ],
             [
              0.7777777777777778,
              "#fb9f3a"
             ],
             [
              0.8888888888888888,
              "#fdca26"
             ],
             [
              1,
              "#f0f921"
             ]
            ],
            "type": "surface"
           }
          ],
          "table": [
           {
            "cells": {
             "fill": {
              "color": "#EBF0F8"
             },
             "line": {
              "color": "white"
             }
            },
            "header": {
             "fill": {
              "color": "#C8D4E3"
             },
             "line": {
              "color": "white"
             }
            },
            "type": "table"
           }
          ]
         },
         "layout": {
          "annotationdefaults": {
           "arrowcolor": "#2a3f5f",
           "arrowhead": 0,
           "arrowwidth": 1
          },
          "autotypenumbers": "strict",
          "coloraxis": {
           "colorbar": {
            "outlinewidth": 0,
            "ticks": ""
           }
          },
          "colorscale": {
           "diverging": [
            [
             0,
             "#8e0152"
            ],
            [
             0.1,
             "#c51b7d"
            ],
            [
             0.2,
             "#de77ae"
            ],
            [
             0.3,
             "#f1b6da"
            ],
            [
             0.4,
             "#fde0ef"
            ],
            [
             0.5,
             "#f7f7f7"
            ],
            [
             0.6,
             "#e6f5d0"
            ],
            [
             0.7,
             "#b8e186"
            ],
            [
             0.8,
             "#7fbc41"
            ],
            [
             0.9,
             "#4d9221"
            ],
            [
             1,
             "#276419"
            ]
           ],
           "sequential": [
            [
             0,
             "#0d0887"
            ],
            [
             0.1111111111111111,
             "#46039f"
            ],
            [
             0.2222222222222222,
             "#7201a8"
            ],
            [
             0.3333333333333333,
             "#9c179e"
            ],
            [
             0.4444444444444444,
             "#bd3786"
            ],
            [
             0.5555555555555556,
             "#d8576b"
            ],
            [
             0.6666666666666666,
             "#ed7953"
            ],
            [
             0.7777777777777778,
             "#fb9f3a"
            ],
            [
             0.8888888888888888,
             "#fdca26"
            ],
            [
             1,
             "#f0f921"
            ]
           ],
           "sequentialminus": [
            [
             0,
             "#0d0887"
            ],
            [
             0.1111111111111111,
             "#46039f"
            ],
            [
             0.2222222222222222,
             "#7201a8"
            ],
            [
             0.3333333333333333,
             "#9c179e"
            ],
            [
             0.4444444444444444,
             "#bd3786"
            ],
            [
             0.5555555555555556,
             "#d8576b"
            ],
            [
             0.6666666666666666,
             "#ed7953"
            ],
            [
             0.7777777777777778,
             "#fb9f3a"
            ],
            [
             0.8888888888888888,
             "#fdca26"
            ],
            [
             1,
             "#f0f921"
            ]
           ]
          },
          "colorway": [
           "#636efa",
           "#EF553B",
           "#00cc96",
           "#ab63fa",
           "#FFA15A",
           "#19d3f3",
           "#FF6692",
           "#B6E880",
           "#FF97FF",
           "#FECB52"
          ],
          "font": {
           "color": "#2a3f5f"
          },
          "geo": {
           "bgcolor": "white",
           "lakecolor": "white",
           "landcolor": "#E5ECF6",
           "showlakes": true,
           "showland": true,
           "subunitcolor": "white"
          },
          "hoverlabel": {
           "align": "left"
          },
          "hovermode": "closest",
          "mapbox": {
           "style": "light"
          },
          "paper_bgcolor": "white",
          "plot_bgcolor": "#E5ECF6",
          "polar": {
           "angularaxis": {
            "gridcolor": "white",
            "linecolor": "white",
            "ticks": ""
           },
           "bgcolor": "#E5ECF6",
           "radialaxis": {
            "gridcolor": "white",
            "linecolor": "white",
            "ticks": ""
           }
          },
          "scene": {
           "xaxis": {
            "backgroundcolor": "#E5ECF6",
            "gridcolor": "white",
            "gridwidth": 2,
            "linecolor": "white",
            "showbackground": true,
            "ticks": "",
            "zerolinecolor": "white"
           },
           "yaxis": {
            "backgroundcolor": "#E5ECF6",
            "gridcolor": "white",
            "gridwidth": 2,
            "linecolor": "white",
            "showbackground": true,
            "ticks": "",
            "zerolinecolor": "white"
           },
           "zaxis": {
            "backgroundcolor": "#E5ECF6",
            "gridcolor": "white",
            "gridwidth": 2,
            "linecolor": "white",
            "showbackground": true,
            "ticks": "",
            "zerolinecolor": "white"
           }
          },
          "shapedefaults": {
           "line": {
            "color": "#2a3f5f"
           }
          },
          "ternary": {
           "aaxis": {
            "gridcolor": "white",
            "linecolor": "white",
            "ticks": ""
           },
           "baxis": {
            "gridcolor": "white",
            "linecolor": "white",
            "ticks": ""
           },
           "bgcolor": "#E5ECF6",
           "caxis": {
            "gridcolor": "white",
            "linecolor": "white",
            "ticks": ""
           }
          },
          "title": {
           "x": 0.05
          },
          "xaxis": {
           "automargin": true,
           "gridcolor": "white",
           "linecolor": "white",
           "ticks": "",
           "title": {
            "standoff": 15
           },
           "zerolinecolor": "white",
           "zerolinewidth": 2
          },
          "yaxis": {
           "automargin": true,
           "gridcolor": "white",
           "linecolor": "white",
           "ticks": "",
           "title": {
            "standoff": 15
           },
           "zerolinecolor": "white",
           "zerolinewidth": 2
          }
         }
        },
        "title": {
         "text": "Ktorá príchuť Strepsils pastiliek je najpredávanejšia?"
        },
        "xaxis": {
         "anchor": "y",
         "domain": [
          0,
          1
         ],
         "tickangle": 45,
         "title": {
          "text": " "
         }
        },
        "yaxis": {
         "anchor": "x",
         "domain": [
          0,
          1
         ],
         "title": {
          "text": "Počet balení"
         }
        }
       }
      }
     },
     "metadata": {}
    }
   ],
   "source": [
    "fig = px.bar(strepsils.sort_values(by='Počet_balení', ascending=False).query('Počet_balení > 10000'), x='LIEK_popis', y='Počet_balení', title='Ktorá príchuť Strepsils pastiliek je najpredávanejšia?', color_discrete_sequence=[modra], labels={'Počet_balení':'Počet balení', 'STAT_popis':' ', 'LIEK_popis':' '})\n",
    "fig.update_xaxes(tickangle=45)\n",
    "fig.show()"
   ]
  },
  {
   "cell_type": "code",
   "execution_count": 268,
   "metadata": {},
   "outputs": [
    {
     "output_type": "display_data",
     "data": {
      "application/vnd.plotly.v1+json": {
       "config": {
        "plotlyServerURL": "https://plot.ly"
       },
       "data": [
        {
         "domain": {
          "x": [
           0,
           1
          ],
          "y": [
           0,
           1
          ]
         },
         "hovertemplate": "LIEK_popis=%{label}<br>Počet_balení=%{value}<extra></extra>",
         "labels": [
          "CITRON A BYLINY",
          "COOLING MINT",
          "Jahoda bez cukru",
          "MED A CITRÓN",
          "PLUS",
          "Vitamin C",
          "iné"
         ],
         "legendgroup": "",
         "name": "",
         "showlegend": true,
         "type": "pie",
         "values": [
          44667.25,
          44157.52,
          13398.6,
          149374.24,
          76760.68900000001,
          59584.479999999996,
          2570.5
         ]
        }
       ],
       "layout": {
        "legend": {
         "tracegroupgap": 0
        },
        "piecolorway": [
         "#4B6AAB",
         "#00A0CC",
         "#B75B9E",
         "#D8764C",
         "#F1C75B",
         "#73B5AB",
         "#D6D0DC"
        ],
        "template": {
         "data": {
          "bar": [
           {
            "error_x": {
             "color": "#2a3f5f"
            },
            "error_y": {
             "color": "#2a3f5f"
            },
            "marker": {
             "line": {
              "color": "#E5ECF6",
              "width": 0.5
             }
            },
            "type": "bar"
           }
          ],
          "barpolar": [
           {
            "marker": {
             "line": {
              "color": "#E5ECF6",
              "width": 0.5
             }
            },
            "type": "barpolar"
           }
          ],
          "carpet": [
           {
            "aaxis": {
             "endlinecolor": "#2a3f5f",
             "gridcolor": "white",
             "linecolor": "white",
             "minorgridcolor": "white",
             "startlinecolor": "#2a3f5f"
            },
            "baxis": {
             "endlinecolor": "#2a3f5f",
             "gridcolor": "white",
             "linecolor": "white",
             "minorgridcolor": "white",
             "startlinecolor": "#2a3f5f"
            },
            "type": "carpet"
           }
          ],
          "choropleth": [
           {
            "colorbar": {
             "outlinewidth": 0,
             "ticks": ""
            },
            "type": "choropleth"
           }
          ],
          "contour": [
           {
            "colorbar": {
             "outlinewidth": 0,
             "ticks": ""
            },
            "colorscale": [
             [
              0,
              "#0d0887"
             ],
             [
              0.1111111111111111,
              "#46039f"
             ],
             [
              0.2222222222222222,
              "#7201a8"
             ],
             [
              0.3333333333333333,
              "#9c179e"
             ],
             [
              0.4444444444444444,
              "#bd3786"
             ],
             [
              0.5555555555555556,
              "#d8576b"
             ],
             [
              0.6666666666666666,
              "#ed7953"
             ],
             [
              0.7777777777777778,
              "#fb9f3a"
             ],
             [
              0.8888888888888888,
              "#fdca26"
             ],
             [
              1,
              "#f0f921"
             ]
            ],
            "type": "contour"
           }
          ],
          "contourcarpet": [
           {
            "colorbar": {
             "outlinewidth": 0,
             "ticks": ""
            },
            "type": "contourcarpet"
           }
          ],
          "heatmap": [
           {
            "colorbar": {
             "outlinewidth": 0,
             "ticks": ""
            },
            "colorscale": [
             [
              0,
              "#0d0887"
             ],
             [
              0.1111111111111111,
              "#46039f"
             ],
             [
              0.2222222222222222,
              "#7201a8"
             ],
             [
              0.3333333333333333,
              "#9c179e"
             ],
             [
              0.4444444444444444,
              "#bd3786"
             ],
             [
              0.5555555555555556,
              "#d8576b"
             ],
             [
              0.6666666666666666,
              "#ed7953"
             ],
             [
              0.7777777777777778,
              "#fb9f3a"
             ],
             [
              0.8888888888888888,
              "#fdca26"
             ],
             [
              1,
              "#f0f921"
             ]
            ],
            "type": "heatmap"
           }
          ],
          "heatmapgl": [
           {
            "colorbar": {
             "outlinewidth": 0,
             "ticks": ""
            },
            "colorscale": [
             [
              0,
              "#0d0887"
             ],
             [
              0.1111111111111111,
              "#46039f"
             ],
             [
              0.2222222222222222,
              "#7201a8"
             ],
             [
              0.3333333333333333,
              "#9c179e"
             ],
             [
              0.4444444444444444,
              "#bd3786"
             ],
             [
              0.5555555555555556,
              "#d8576b"
             ],
             [
              0.6666666666666666,
              "#ed7953"
             ],
             [
              0.7777777777777778,
              "#fb9f3a"
             ],
             [
              0.8888888888888888,
              "#fdca26"
             ],
             [
              1,
              "#f0f921"
             ]
            ],
            "type": "heatmapgl"
           }
          ],
          "histogram": [
           {
            "marker": {
             "colorbar": {
              "outlinewidth": 0,
              "ticks": ""
             }
            },
            "type": "histogram"
           }
          ],
          "histogram2d": [
           {
            "colorbar": {
             "outlinewidth": 0,
             "ticks": ""
            },
            "colorscale": [
             [
              0,
              "#0d0887"
             ],
             [
              0.1111111111111111,
              "#46039f"
             ],
             [
              0.2222222222222222,
              "#7201a8"
             ],
             [
              0.3333333333333333,
              "#9c179e"
             ],
             [
              0.4444444444444444,
              "#bd3786"
             ],
             [
              0.5555555555555556,
              "#d8576b"
             ],
             [
              0.6666666666666666,
              "#ed7953"
             ],
             [
              0.7777777777777778,
              "#fb9f3a"
             ],
             [
              0.8888888888888888,
              "#fdca26"
             ],
             [
              1,
              "#f0f921"
             ]
            ],
            "type": "histogram2d"
           }
          ],
          "histogram2dcontour": [
           {
            "colorbar": {
             "outlinewidth": 0,
             "ticks": ""
            },
            "colorscale": [
             [
              0,
              "#0d0887"
             ],
             [
              0.1111111111111111,
              "#46039f"
             ],
             [
              0.2222222222222222,
              "#7201a8"
             ],
             [
              0.3333333333333333,
              "#9c179e"
             ],
             [
              0.4444444444444444,
              "#bd3786"
             ],
             [
              0.5555555555555556,
              "#d8576b"
             ],
             [
              0.6666666666666666,
              "#ed7953"
             ],
             [
              0.7777777777777778,
              "#fb9f3a"
             ],
             [
              0.8888888888888888,
              "#fdca26"
             ],
             [
              1,
              "#f0f921"
             ]
            ],
            "type": "histogram2dcontour"
           }
          ],
          "mesh3d": [
           {
            "colorbar": {
             "outlinewidth": 0,
             "ticks": ""
            },
            "type": "mesh3d"
           }
          ],
          "parcoords": [
           {
            "line": {
             "colorbar": {
              "outlinewidth": 0,
              "ticks": ""
             }
            },
            "type": "parcoords"
           }
          ],
          "pie": [
           {
            "automargin": true,
            "type": "pie"
           }
          ],
          "scatter": [
           {
            "marker": {
             "colorbar": {
              "outlinewidth": 0,
              "ticks": ""
             }
            },
            "type": "scatter"
           }
          ],
          "scatter3d": [
           {
            "line": {
             "colorbar": {
              "outlinewidth": 0,
              "ticks": ""
             }
            },
            "marker": {
             "colorbar": {
              "outlinewidth": 0,
              "ticks": ""
             }
            },
            "type": "scatter3d"
           }
          ],
          "scattercarpet": [
           {
            "marker": {
             "colorbar": {
              "outlinewidth": 0,
              "ticks": ""
             }
            },
            "type": "scattercarpet"
           }
          ],
          "scattergeo": [
           {
            "marker": {
             "colorbar": {
              "outlinewidth": 0,
              "ticks": ""
             }
            },
            "type": "scattergeo"
           }
          ],
          "scattergl": [
           {
            "marker": {
             "colorbar": {
              "outlinewidth": 0,
              "ticks": ""
             }
            },
            "type": "scattergl"
           }
          ],
          "scattermapbox": [
           {
            "marker": {
             "colorbar": {
              "outlinewidth": 0,
              "ticks": ""
             }
            },
            "type": "scattermapbox"
           }
          ],
          "scatterpolar": [
           {
            "marker": {
             "colorbar": {
              "outlinewidth": 0,
              "ticks": ""
             }
            },
            "type": "scatterpolar"
           }
          ],
          "scatterpolargl": [
           {
            "marker": {
             "colorbar": {
              "outlinewidth": 0,
              "ticks": ""
             }
            },
            "type": "scatterpolargl"
           }
          ],
          "scatterternary": [
           {
            "marker": {
             "colorbar": {
              "outlinewidth": 0,
              "ticks": ""
             }
            },
            "type": "scatterternary"
           }
          ],
          "surface": [
           {
            "colorbar": {
             "outlinewidth": 0,
             "ticks": ""
            },
            "colorscale": [
             [
              0,
              "#0d0887"
             ],
             [
              0.1111111111111111,
              "#46039f"
             ],
             [
              0.2222222222222222,
              "#7201a8"
             ],
             [
              0.3333333333333333,
              "#9c179e"
             ],
             [
              0.4444444444444444,
              "#bd3786"
             ],
             [
              0.5555555555555556,
              "#d8576b"
             ],
             [
              0.6666666666666666,
              "#ed7953"
             ],
             [
              0.7777777777777778,
              "#fb9f3a"
             ],
             [
              0.8888888888888888,
              "#fdca26"
             ],
             [
              1,
              "#f0f921"
             ]
            ],
            "type": "surface"
           }
          ],
          "table": [
           {
            "cells": {
             "fill": {
              "color": "#EBF0F8"
             },
             "line": {
              "color": "white"
             }
            },
            "header": {
             "fill": {
              "color": "#C8D4E3"
             },
             "line": {
              "color": "white"
             }
            },
            "type": "table"
           }
          ]
         },
         "layout": {
          "annotationdefaults": {
           "arrowcolor": "#2a3f5f",
           "arrowhead": 0,
           "arrowwidth": 1
          },
          "autotypenumbers": "strict",
          "coloraxis": {
           "colorbar": {
            "outlinewidth": 0,
            "ticks": ""
           }
          },
          "colorscale": {
           "diverging": [
            [
             0,
             "#8e0152"
            ],
            [
             0.1,
             "#c51b7d"
            ],
            [
             0.2,
             "#de77ae"
            ],
            [
             0.3,
             "#f1b6da"
            ],
            [
             0.4,
             "#fde0ef"
            ],
            [
             0.5,
             "#f7f7f7"
            ],
            [
             0.6,
             "#e6f5d0"
            ],
            [
             0.7,
             "#b8e186"
            ],
            [
             0.8,
             "#7fbc41"
            ],
            [
             0.9,
             "#4d9221"
            ],
            [
             1,
             "#276419"
            ]
           ],
           "sequential": [
            [
             0,
             "#0d0887"
            ],
            [
             0.1111111111111111,
             "#46039f"
            ],
            [
             0.2222222222222222,
             "#7201a8"
            ],
            [
             0.3333333333333333,
             "#9c179e"
            ],
            [
             0.4444444444444444,
             "#bd3786"
            ],
            [
             0.5555555555555556,
             "#d8576b"
            ],
            [
             0.6666666666666666,
             "#ed7953"
            ],
            [
             0.7777777777777778,
             "#fb9f3a"
            ],
            [
             0.8888888888888888,
             "#fdca26"
            ],
            [
             1,
             "#f0f921"
            ]
           ],
           "sequentialminus": [
            [
             0,
             "#0d0887"
            ],
            [
             0.1111111111111111,
             "#46039f"
            ],
            [
             0.2222222222222222,
             "#7201a8"
            ],
            [
             0.3333333333333333,
             "#9c179e"
            ],
            [
             0.4444444444444444,
             "#bd3786"
            ],
            [
             0.5555555555555556,
             "#d8576b"
            ],
            [
             0.6666666666666666,
             "#ed7953"
            ],
            [
             0.7777777777777778,
             "#fb9f3a"
            ],
            [
             0.8888888888888888,
             "#fdca26"
            ],
            [
             1,
             "#f0f921"
            ]
           ]
          },
          "colorway": [
           "#636efa",
           "#EF553B",
           "#00cc96",
           "#ab63fa",
           "#FFA15A",
           "#19d3f3",
           "#FF6692",
           "#B6E880",
           "#FF97FF",
           "#FECB52"
          ],
          "font": {
           "color": "#2a3f5f"
          },
          "geo": {
           "bgcolor": "white",
           "lakecolor": "white",
           "landcolor": "#E5ECF6",
           "showlakes": true,
           "showland": true,
           "subunitcolor": "white"
          },
          "hoverlabel": {
           "align": "left"
          },
          "hovermode": "closest",
          "mapbox": {
           "style": "light"
          },
          "paper_bgcolor": "white",
          "plot_bgcolor": "#E5ECF6",
          "polar": {
           "angularaxis": {
            "gridcolor": "white",
            "linecolor": "white",
            "ticks": ""
           },
           "bgcolor": "#E5ECF6",
           "radialaxis": {
            "gridcolor": "white",
            "linecolor": "white",
            "ticks": ""
           }
          },
          "scene": {
           "xaxis": {
            "backgroundcolor": "#E5ECF6",
            "gridcolor": "white",
            "gridwidth": 2,
            "linecolor": "white",
            "showbackground": true,
            "ticks": "",
            "zerolinecolor": "white"
           },
           "yaxis": {
            "backgroundcolor": "#E5ECF6",
            "gridcolor": "white",
            "gridwidth": 2,
            "linecolor": "white",
            "showbackground": true,
            "ticks": "",
            "zerolinecolor": "white"
           },
           "zaxis": {
            "backgroundcolor": "#E5ECF6",
            "gridcolor": "white",
            "gridwidth": 2,
            "linecolor": "white",
            "showbackground": true,
            "ticks": "",
            "zerolinecolor": "white"
           }
          },
          "shapedefaults": {
           "line": {
            "color": "#2a3f5f"
           }
          },
          "ternary": {
           "aaxis": {
            "gridcolor": "white",
            "linecolor": "white",
            "ticks": ""
           },
           "baxis": {
            "gridcolor": "white",
            "linecolor": "white",
            "ticks": ""
           },
           "bgcolor": "#E5ECF6",
           "caxis": {
            "gridcolor": "white",
            "linecolor": "white",
            "ticks": ""
           }
          },
          "title": {
           "x": 0.05
          },
          "xaxis": {
           "automargin": true,
           "gridcolor": "white",
           "linecolor": "white",
           "ticks": "",
           "title": {
            "standoff": 15
           },
           "zerolinecolor": "white",
           "zerolinewidth": 2
          },
          "yaxis": {
           "automargin": true,
           "gridcolor": "white",
           "linecolor": "white",
           "ticks": "",
           "title": {
            "standoff": 15
           },
           "zerolinecolor": "white",
           "zerolinewidth": 2
          }
         }
        },
        "title": {
         "text": "Ktorá príchuť Strepsils pastiliek je najpredávanejšia?"
        }
       }
      }
     },
     "metadata": {}
    }
   ],
   "source": [
    "strepsils_prichut = strepsils\n",
    "\n",
    "for i,popis in enumerate(strepsils['LIEK_popis']):\n",
    "    if 'Menthol a Eucalyptus' in popis:\n",
    "        strepsils_prichut.iloc[i,0] = 'iné'\n",
    "    elif 'ORIGINAL' in popis:\n",
    "        strepsils_prichut.iloc[i,0] = 'iné'\n",
    "    elif 'POMARANČ S VITAMÍNOM C' in popis:\n",
    "        strepsils_prichut.iloc[i,0] = 'iné'\n",
    "strepsils_prichut = strepsils_prichut.groupby(['LIEK_popis']).sum().reset_index()\n",
    "fig = px.pie(strepsils_prichut, names='LIEK_popis', values='Počet_balení', title='Ktorá príchuť Strepsils pastiliek je najpredávanejšia?', color_discrete_sequence=[modra,'#00A0CC',ruzova, oranzova, zlta, zelena,'#D6D0DC'])\n",
    "fig.show()"
   ]
  },
  {
   "source": [
    "Najpredavanejsim liekom na bolest hrdla su nemecke pastilky Dorithricin, priblizne o polovicu menej sa predavaju ceske pastilky Strepsils, ktorych najpredavanejsia prichut je Med a citron. Slovenske lieky sa predavaju velmi malo."
   ],
   "cell_type": "markdown",
   "metadata": {}
  }
 ]
}