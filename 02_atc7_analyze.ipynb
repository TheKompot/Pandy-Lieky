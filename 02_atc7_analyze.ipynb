{
 "metadata": {
  "language_info": {
   "codemirror_mode": {
    "name": "ipython",
    "version": 3
   },
   "file_extension": ".py",
   "mimetype": "text/x-python",
   "name": "python",
   "nbconvert_exporter": "python",
   "pygments_lexer": "ipython3",
   "version": "3.8.9"
  },
  "orig_nbformat": 2,
  "kernelspec": {
   "name": "python389jvsc74a57bd01017e7ef34bc9880a6d739757632ec67a1d07c02b92348625323b240429e2599",
   "display_name": "Python 3.8.9 64-bit (windows store)"
  },
  "metadata": {
   "interpreter": {
    "hash": "1017e7ef34bc9880a6d739757632ec67a1d07c02b92348625323b240429e2599"
   }
  }
 },
 "nbformat": 4,
 "nbformat_minor": 2,
 "cells": [
  {
   "source": [
    "# Analyza liekov podla skupiny ATC7 \n",
    "## Otazky:\n",
    "* Ktore lieky s danou ucinnou latkou sa predavaju viac ako ostatne? Zavisi to od ceny, ktoru pacient zaplati alebo od krajiny vyrobcu?\n",
    "\n",
    " 1409 roznych ucinnych latok"
   ],
   "cell_type": "markdown",
   "metadata": {}
  },
  {
   "cell_type": "code",
   "execution_count": 2,
   "metadata": {},
   "outputs": [],
   "source": [
    "import pandas as pd \n",
    "import numpy as np \n",
    "import matplotlib.pyplot as plt \n",
    "import plotly.express as px\n",
    "%run tables.py"
   ]
  },
  {
   "cell_type": "code",
   "execution_count": 3,
   "metadata": {},
   "outputs": [
    {
     "output_type": "display_data",
     "data": {
      "text/plain": "        ATC7_KOD                           ATC7_popis LIEK_KOD  \\\n0        A01AA03                              Olaflur   C40630   \n1        A01AA03                              Olaflur   C40630   \n2        A01AA30  Profylaxia zubného kazu, kombinácie   C40631   \n3        A01AA30  Profylaxia zubného kazu, kombinácie   C40631   \n4        A01AA30  Profylaxia zubného kazu, kombinácie   C40631   \n...          ...                                  ...      ...   \n32304  (prazdne)                            (prazdne)        !   \n32305  (prazdne)                            (prazdne)        !   \n32306  (prazdne)                            (prazdne)        !   \n32307  (prazdne)                            (prazdne)        !   \n32308  (prazdne)                            (prazdne)        !   \n\n                        LIEK_popis STAT_popis VYROBCA_popis  Počet balení  \\\n0      ELMEX FLUID sol dnt 1x50 ml    Nemecko     GABA GmbH         3.000   \n1      ELMEX FLUID sol dnt 1x50 ml    Nemecko     GABA GmbH        37.000   \n2       ELMEX gelee gel dnt 1x25 g    Nemecko  CP GABA GmbH        36.000   \n3       ELMEX gelee gel dnt 1x25 g    Nemecko  CP GABA GmbH      1394.000   \n4       ELMEX gelee gel dnt 1x25 g    Nemecko  CP GABA GmbH        99.000   \n...                            ...        ...           ...           ...   \n32304       KÓD NIE JE V ČÍSELNÍKU  (prazdne)     (prazdne)        12.000   \n32305       KÓD NIE JE V ČÍSELNÍKU  (prazdne)     (prazdne)       755.350   \n32306       KÓD NIE JE V ČÍSELNÍKU  (prazdne)     (prazdne)      1321.300   \n32307       KÓD NIE JE V ČÍSELNÍKU  (prazdne)     (prazdne)       403.000   \n32308       KÓD NIE JE V ČÍSELNÍKU  (prazdne)     (prazdne)     46354.228   \n\n       Úhrada_PAC  \n0            0.04  \n1          135.04  \n2            0.00  \n3            0.00  \n4          678.87  \n...           ...  \n32304        0.00  \n32305        0.00  \n32306     6248.05  \n32307        0.00  \n32308   210729.06  \n\n[32309 rows x 8 columns]",
      "text/html": "<div>\n<style scoped>\n    .dataframe tbody tr th:only-of-type {\n        vertical-align: middle;\n    }\n\n    .dataframe tbody tr th {\n        vertical-align: top;\n    }\n\n    .dataframe thead th {\n        text-align: right;\n    }\n</style>\n<table border=\"1\" class=\"dataframe\">\n  <thead>\n    <tr style=\"text-align: right;\">\n      <th></th>\n      <th>ATC7_KOD</th>\n      <th>ATC7_popis</th>\n      <th>LIEK_KOD</th>\n      <th>LIEK_popis</th>\n      <th>STAT_popis</th>\n      <th>VYROBCA_popis</th>\n      <th>Počet balení</th>\n      <th>Úhrada_PAC</th>\n    </tr>\n  </thead>\n  <tbody>\n    <tr>\n      <th>0</th>\n      <td>A01AA03</td>\n      <td>Olaflur</td>\n      <td>C40630</td>\n      <td>ELMEX FLUID sol dnt 1x50 ml</td>\n      <td>Nemecko</td>\n      <td>GABA GmbH</td>\n      <td>3.000</td>\n      <td>0.04</td>\n    </tr>\n    <tr>\n      <th>1</th>\n      <td>A01AA03</td>\n      <td>Olaflur</td>\n      <td>C40630</td>\n      <td>ELMEX FLUID sol dnt 1x50 ml</td>\n      <td>Nemecko</td>\n      <td>GABA GmbH</td>\n      <td>37.000</td>\n      <td>135.04</td>\n    </tr>\n    <tr>\n      <th>2</th>\n      <td>A01AA30</td>\n      <td>Profylaxia zubného kazu, kombinácie</td>\n      <td>C40631</td>\n      <td>ELMEX gelee gel dnt 1x25 g</td>\n      <td>Nemecko</td>\n      <td>CP GABA GmbH</td>\n      <td>36.000</td>\n      <td>0.00</td>\n    </tr>\n    <tr>\n      <th>3</th>\n      <td>A01AA30</td>\n      <td>Profylaxia zubného kazu, kombinácie</td>\n      <td>C40631</td>\n      <td>ELMEX gelee gel dnt 1x25 g</td>\n      <td>Nemecko</td>\n      <td>CP GABA GmbH</td>\n      <td>1394.000</td>\n      <td>0.00</td>\n    </tr>\n    <tr>\n      <th>4</th>\n      <td>A01AA30</td>\n      <td>Profylaxia zubného kazu, kombinácie</td>\n      <td>C40631</td>\n      <td>ELMEX gelee gel dnt 1x25 g</td>\n      <td>Nemecko</td>\n      <td>CP GABA GmbH</td>\n      <td>99.000</td>\n      <td>678.87</td>\n    </tr>\n    <tr>\n      <th>...</th>\n      <td>...</td>\n      <td>...</td>\n      <td>...</td>\n      <td>...</td>\n      <td>...</td>\n      <td>...</td>\n      <td>...</td>\n      <td>...</td>\n    </tr>\n    <tr>\n      <th>32304</th>\n      <td>(prazdne)</td>\n      <td>(prazdne)</td>\n      <td>!</td>\n      <td>KÓD NIE JE V ČÍSELNÍKU</td>\n      <td>(prazdne)</td>\n      <td>(prazdne)</td>\n      <td>12.000</td>\n      <td>0.00</td>\n    </tr>\n    <tr>\n      <th>32305</th>\n      <td>(prazdne)</td>\n      <td>(prazdne)</td>\n      <td>!</td>\n      <td>KÓD NIE JE V ČÍSELNÍKU</td>\n      <td>(prazdne)</td>\n      <td>(prazdne)</td>\n      <td>755.350</td>\n      <td>0.00</td>\n    </tr>\n    <tr>\n      <th>32306</th>\n      <td>(prazdne)</td>\n      <td>(prazdne)</td>\n      <td>!</td>\n      <td>KÓD NIE JE V ČÍSELNÍKU</td>\n      <td>(prazdne)</td>\n      <td>(prazdne)</td>\n      <td>1321.300</td>\n      <td>6248.05</td>\n    </tr>\n    <tr>\n      <th>32307</th>\n      <td>(prazdne)</td>\n      <td>(prazdne)</td>\n      <td>!</td>\n      <td>KÓD NIE JE V ČÍSELNÍKU</td>\n      <td>(prazdne)</td>\n      <td>(prazdne)</td>\n      <td>403.000</td>\n      <td>0.00</td>\n    </tr>\n    <tr>\n      <th>32308</th>\n      <td>(prazdne)</td>\n      <td>(prazdne)</td>\n      <td>!</td>\n      <td>KÓD NIE JE V ČÍSELNÍKU</td>\n      <td>(prazdne)</td>\n      <td>(prazdne)</td>\n      <td>46354.228</td>\n      <td>210729.06</td>\n    </tr>\n  </tbody>\n</table>\n<p>32309 rows × 8 columns</p>\n</div>"
     },
     "metadata": {}
    }
   ],
   "source": [
    "table = import_table('detailed', 2019)\n",
    "table2019=table.loc[:,['ATC7_KOD','ATC7_popis','LIEK_KOD','LIEK_popis', 'STAT_popis', 'VYROBCA_popis', 'Počet balení', 'Úhrada_PAC']]\n",
    "display(table2019)"
   ]
  },
  {
   "cell_type": "code",
   "execution_count": 4,
   "metadata": {},
   "outputs": [
    {
     "output_type": "display_data",
     "data": {
      "text/plain": "                                                                                                                                                      Počet balení  \\\nATC7_KOD ATC7_popis                          LIEK_KOD LIEK_popis                       STAT_popis VYROBCA_popis                                                      \nA01AA03  Olaflur                             C40630   ELMEX FLUID sol dnt 1x50 ml      Nemecko    GABA GmbH                                                   40.0   \nA01AA30  Profylaxia zubného kazu, kombinácie C40631   ELMEX gelee gel dnt 1x25 g       Nemecko    CP GABA GmbH                                             43832.5   \n                                             C85867   ELMEX gelee gel dnt 1x215 g      Nemecko    CP GABA GmbH                                                29.0   \nA01AB03  Chlorhexidín                        C14106   CORSODYL sol ora 1x600 ml        Česko      GlaxoSmithKline Consumer Healthcare Czech Repub...          72.0   \n                                             C34296   PROTEFIX ANTISEPT sol der 200 ml Nemecko    Queisser Pharma GmbH & Co.                                   6.0   \n...                                                                                                                                                            ...   \nV12      Homeopatiká                         C82842   GINKGO BILOBA plv 15 g ch2-ch200 Francúzsko Laboratoires BOIRON                                        309.0   \n                                             C96701   ARNICA MONTANA ung 20 g ch2-ch30 Francúzsko Laboratoires BOIRON                                         15.0   \n                                             C97944   QUIETUDE tbl 60                  Francúzsko Laboratoires BOIRON                                        156.0   \n                                             C99176   BELLADONNA gra 4 g ch3-ch30      Francúzsko Laboratoires BOIRON                                        183.0   \n                                             C99177   ARNICA MONTANA gra 4 g ch2-ch30  Francúzsko Laboratoires BOIRON                                        700.0   \n\n                                                                                                                                                      Úhrada_PAC  \\\nATC7_KOD ATC7_popis                          LIEK_KOD LIEK_popis                       STAT_popis VYROBCA_popis                                                    \nA01AA03  Olaflur                             C40630   ELMEX FLUID sol dnt 1x50 ml      Nemecko    GABA GmbH                                               135.08   \nA01AA30  Profylaxia zubného kazu, kombinácie C40631   ELMEX gelee gel dnt 1x25 g       Nemecko    CP GABA GmbH                                         313077.14   \n                                             C85867   ELMEX gelee gel dnt 1x215 g      Nemecko    CP GABA GmbH                                            171.85   \nA01AB03  Chlorhexidín                        C14106   CORSODYL sol ora 1x600 ml        Česko      GlaxoSmithKline Consumer Healthcare Czech Repub...      254.33   \n                                             C34296   PROTEFIX ANTISEPT sol der 200 ml Nemecko    Queisser Pharma GmbH & Co.                               27.82   \n...                                                                                                                                                          ...   \nV12      Homeopatiká                         C82842   GINKGO BILOBA plv 15 g ch2-ch200 Francúzsko Laboratoires BOIRON                                     882.18   \n                                             C96701   ARNICA MONTANA ung 20 g ch2-ch30 Francúzsko Laboratoires BOIRON                                      52.29   \n                                             C97944   QUIETUDE tbl 60                  Francúzsko Laboratoires BOIRON                                    1030.21   \n                                             C99176   BELLADONNA gra 4 g ch3-ch30      Francúzsko Laboratoires BOIRON                                     631.73   \n                                             C99177   ARNICA MONTANA gra 4 g ch2-ch30  Francúzsko Laboratoires BOIRON                                    2375.06   \n\n                                                                                                                                                      Cena úhrada_PAC/bal  \nATC7_KOD ATC7_popis                          LIEK_KOD LIEK_popis                       STAT_popis VYROBCA_popis                                                            \nA01AA03  Olaflur                             C40630   ELMEX FLUID sol dnt 1x50 ml      Nemecko    GABA GmbH                                                      3.377000  \nA01AA30  Profylaxia zubného kazu, kombinácie C40631   ELMEX gelee gel dnt 1x25 g       Nemecko    CP GABA GmbH                                                   7.142580  \n                                             C85867   ELMEX gelee gel dnt 1x215 g      Nemecko    CP GABA GmbH                                                   5.925862  \nA01AB03  Chlorhexidín                        C14106   CORSODYL sol ora 1x600 ml        Česko      GlaxoSmithKline Consumer Healthcare Czech Repub...             3.532361  \n                                             C34296   PROTEFIX ANTISEPT sol der 200 ml Nemecko    Queisser Pharma GmbH & Co.                                     4.636667  \n...                                                                                                                                                                   ...  \nV12      Homeopatiká                         C82842   GINKGO BILOBA plv 15 g ch2-ch200 Francúzsko Laboratoires BOIRON                                            2.854951  \n                                             C96701   ARNICA MONTANA ung 20 g ch2-ch30 Francúzsko Laboratoires BOIRON                                            3.486000  \n                                             C97944   QUIETUDE tbl 60                  Francúzsko Laboratoires BOIRON                                            6.603910  \n                                             C99176   BELLADONNA gra 4 g ch3-ch30      Francúzsko Laboratoires BOIRON                                            3.452077  \n                                             C99177   ARNICA MONTANA gra 4 g ch2-ch30  Francúzsko Laboratoires BOIRON                                            3.392943  \n\n[9818 rows x 3 columns]",
      "text/html": "<div>\n<style scoped>\n    .dataframe tbody tr th:only-of-type {\n        vertical-align: middle;\n    }\n\n    .dataframe tbody tr th {\n        vertical-align: top;\n    }\n\n    .dataframe thead th {\n        text-align: right;\n    }\n</style>\n<table border=\"1\" class=\"dataframe\">\n  <thead>\n    <tr style=\"text-align: right;\">\n      <th></th>\n      <th></th>\n      <th></th>\n      <th></th>\n      <th></th>\n      <th></th>\n      <th>Počet balení</th>\n      <th>Úhrada_PAC</th>\n      <th>Cena úhrada_PAC/bal</th>\n    </tr>\n    <tr>\n      <th>ATC7_KOD</th>\n      <th>ATC7_popis</th>\n      <th>LIEK_KOD</th>\n      <th>LIEK_popis</th>\n      <th>STAT_popis</th>\n      <th>VYROBCA_popis</th>\n      <th></th>\n      <th></th>\n      <th></th>\n    </tr>\n  </thead>\n  <tbody>\n    <tr>\n      <th>A01AA03</th>\n      <th>Olaflur</th>\n      <th>C40630</th>\n      <th>ELMEX FLUID sol dnt 1x50 ml</th>\n      <th>Nemecko</th>\n      <th>GABA GmbH</th>\n      <td>40.0</td>\n      <td>135.08</td>\n      <td>3.377000</td>\n    </tr>\n    <tr>\n      <th rowspan=\"2\" valign=\"top\">A01AA30</th>\n      <th rowspan=\"2\" valign=\"top\">Profylaxia zubného kazu, kombinácie</th>\n      <th>C40631</th>\n      <th>ELMEX gelee gel dnt 1x25 g</th>\n      <th>Nemecko</th>\n      <th>CP GABA GmbH</th>\n      <td>43832.5</td>\n      <td>313077.14</td>\n      <td>7.142580</td>\n    </tr>\n    <tr>\n      <th>C85867</th>\n      <th>ELMEX gelee gel dnt 1x215 g</th>\n      <th>Nemecko</th>\n      <th>CP GABA GmbH</th>\n      <td>29.0</td>\n      <td>171.85</td>\n      <td>5.925862</td>\n    </tr>\n    <tr>\n      <th rowspan=\"2\" valign=\"top\">A01AB03</th>\n      <th rowspan=\"2\" valign=\"top\">Chlorhexidín</th>\n      <th>C14106</th>\n      <th>CORSODYL sol ora 1x600 ml</th>\n      <th>Česko</th>\n      <th>GlaxoSmithKline Consumer Healthcare Czech Republic s.r.o.</th>\n      <td>72.0</td>\n      <td>254.33</td>\n      <td>3.532361</td>\n    </tr>\n    <tr>\n      <th>C34296</th>\n      <th>PROTEFIX ANTISEPT sol der 200 ml</th>\n      <th>Nemecko</th>\n      <th>Queisser Pharma GmbH &amp; Co.</th>\n      <td>6.0</td>\n      <td>27.82</td>\n      <td>4.636667</td>\n    </tr>\n    <tr>\n      <th>...</th>\n      <th>...</th>\n      <th>...</th>\n      <th>...</th>\n      <th>...</th>\n      <th>...</th>\n      <td>...</td>\n      <td>...</td>\n      <td>...</td>\n    </tr>\n    <tr>\n      <th rowspan=\"5\" valign=\"top\">V12</th>\n      <th rowspan=\"5\" valign=\"top\">Homeopatiká</th>\n      <th>C82842</th>\n      <th>GINKGO BILOBA plv 15 g ch2-ch200</th>\n      <th>Francúzsko</th>\n      <th>Laboratoires BOIRON</th>\n      <td>309.0</td>\n      <td>882.18</td>\n      <td>2.854951</td>\n    </tr>\n    <tr>\n      <th>C96701</th>\n      <th>ARNICA MONTANA ung 20 g ch2-ch30</th>\n      <th>Francúzsko</th>\n      <th>Laboratoires BOIRON</th>\n      <td>15.0</td>\n      <td>52.29</td>\n      <td>3.486000</td>\n    </tr>\n    <tr>\n      <th>C97944</th>\n      <th>QUIETUDE tbl 60</th>\n      <th>Francúzsko</th>\n      <th>Laboratoires BOIRON</th>\n      <td>156.0</td>\n      <td>1030.21</td>\n      <td>6.603910</td>\n    </tr>\n    <tr>\n      <th>C99176</th>\n      <th>BELLADONNA gra 4 g ch3-ch30</th>\n      <th>Francúzsko</th>\n      <th>Laboratoires BOIRON</th>\n      <td>183.0</td>\n      <td>631.73</td>\n      <td>3.452077</td>\n    </tr>\n    <tr>\n      <th>C99177</th>\n      <th>ARNICA MONTANA gra 4 g ch2-ch30</th>\n      <th>Francúzsko</th>\n      <th>Laboratoires BOIRON</th>\n      <td>700.0</td>\n      <td>2375.06</td>\n      <td>3.392943</td>\n    </tr>\n  </tbody>\n</table>\n<p>9818 rows × 3 columns</p>\n</div>"
     },
     "metadata": {}
    },
    {
     "output_type": "display_data",
     "data": {
      "text/plain": "  ATC7_KOD      ATC7_popis LIEK_KOD  \\\n0  V09FX01  Technécium - (   C91102   \n1  V09FX01  Technécium - (   C15457   \n2  V09FX01  Technécium - (   C15308   \n3  V09FX01  Technécium - (   C15456   \n4  V09FX01  Technécium - (   C15307   \n\n                                          LIEK_popis STAT_popis  \\\n0                             Drytec gen rnk 2,5 GBq  Holandsko   \n1                            Drytec gen rnk 10,0 GBq  Holandsko   \n2  Ultra-TechneKow FM (99mTC-generátor) inj 10,63...  Holandsko   \n3                             Drytec gen rnk 9,0 GBq  Holandsko   \n4  Ultra-TechneKow FM (99mTC-generátor) inj 8,50 ...  Holandsko   \n\n             VYROBCA_popis  Počet balení  Úhrada_PAC  Cena úhrada_PAC/bal  \n0       GE Healthcare B.V.    6688913.50         0.0                  0.0  \n1       GE Healthcare B.V.    1469870.00         0.0                  0.0  \n2  Curium Netherlands B.V.     991979.00         0.0                  0.0  \n3       GE Healthcare B.V.     467689.01         0.0                  0.0  \n4  Curium Netherlands B.V.         14.00         0.0                  0.0  ",
      "text/html": "<div>\n<style scoped>\n    .dataframe tbody tr th:only-of-type {\n        vertical-align: middle;\n    }\n\n    .dataframe tbody tr th {\n        vertical-align: top;\n    }\n\n    .dataframe thead th {\n        text-align: right;\n    }\n</style>\n<table border=\"1\" class=\"dataframe\">\n  <thead>\n    <tr style=\"text-align: right;\">\n      <th></th>\n      <th>ATC7_KOD</th>\n      <th>ATC7_popis</th>\n      <th>LIEK_KOD</th>\n      <th>LIEK_popis</th>\n      <th>STAT_popis</th>\n      <th>VYROBCA_popis</th>\n      <th>Počet balení</th>\n      <th>Úhrada_PAC</th>\n      <th>Cena úhrada_PAC/bal</th>\n    </tr>\n  </thead>\n  <tbody>\n    <tr>\n      <th>0</th>\n      <td>V09FX01</td>\n      <td>Technécium - (</td>\n      <td>C91102</td>\n      <td>Drytec gen rnk 2,5 GBq</td>\n      <td>Holandsko</td>\n      <td>GE Healthcare B.V.</td>\n      <td>6688913.50</td>\n      <td>0.0</td>\n      <td>0.0</td>\n    </tr>\n    <tr>\n      <th>1</th>\n      <td>V09FX01</td>\n      <td>Technécium - (</td>\n      <td>C15457</td>\n      <td>Drytec gen rnk 10,0 GBq</td>\n      <td>Holandsko</td>\n      <td>GE Healthcare B.V.</td>\n      <td>1469870.00</td>\n      <td>0.0</td>\n      <td>0.0</td>\n    </tr>\n    <tr>\n      <th>2</th>\n      <td>V09FX01</td>\n      <td>Technécium - (</td>\n      <td>C15308</td>\n      <td>Ultra-TechneKow FM (99mTC-generátor) inj 10,63...</td>\n      <td>Holandsko</td>\n      <td>Curium Netherlands B.V.</td>\n      <td>991979.00</td>\n      <td>0.0</td>\n      <td>0.0</td>\n    </tr>\n    <tr>\n      <th>3</th>\n      <td>V09FX01</td>\n      <td>Technécium - (</td>\n      <td>C15456</td>\n      <td>Drytec gen rnk 9,0 GBq</td>\n      <td>Holandsko</td>\n      <td>GE Healthcare B.V.</td>\n      <td>467689.01</td>\n      <td>0.0</td>\n      <td>0.0</td>\n    </tr>\n    <tr>\n      <th>4</th>\n      <td>V09FX01</td>\n      <td>Technécium - (</td>\n      <td>C15307</td>\n      <td>Ultra-TechneKow FM (99mTC-generátor) inj 8,50 ...</td>\n      <td>Holandsko</td>\n      <td>Curium Netherlands B.V.</td>\n      <td>14.00</td>\n      <td>0.0</td>\n      <td>0.0</td>\n    </tr>\n  </tbody>\n</table>\n</div>"
     },
     "metadata": {}
    },
    {
     "output_type": "display_data",
     "data": {
      "text/plain": "  ATC7_KOD   ATC7_popis LIEK_KOD  \\\n0  B05BB01  Elektrolyty   C37743   \n1  B05BB01  Elektrolyty   C33593   \n2  B05BB01  Elektrolyty   C33590   \n3  B05BB01  Elektrolyty   C97748   \n4  B05BB01  Elektrolyty   C97749   \n\n                                          LIEK_popis STAT_popis  \\\n0  0,9% SODIUM CHL.IN W.F.I.FRESENIUS sol inf 1x1...      Česko   \n1  0,9% SODIUM ChL.IN W.F.I.FRESENIUS sol inf 1x2...      Česko   \n2  0,9% SODIUM ChL.IN W.F.I.FRESENIUS sol inf 1x5...      Česko   \n3  SODIUM CHLORIDE 0,9%W/V I.V. INF inf 1x100 ml ...  Taliansko   \n4  SODIUM CHLORIDE 0,9%W/V I.V. INF inf 1x250 ml ...  Taliansko   \n\n           VYROBCA_popis  Počet balení  Úhrada_PAC  Cena úhrada_PAC/bal  \n0  Fresenius Kabi s.r.o.    1115466.27     1758.64             0.001577  \n1  Fresenius Kabi s.r.o.     999336.36     4893.52             0.004897  \n2  Fresenius Kabi s.r.o.     789546.85     1375.02             0.001742  \n3  Bieffe Medital S.p.A.     418659.15     5287.02             0.012628  \n4  Bieffe Medital S.p.A.     381477.64    18777.30             0.049223  ",
      "text/html": "<div>\n<style scoped>\n    .dataframe tbody tr th:only-of-type {\n        vertical-align: middle;\n    }\n\n    .dataframe tbody tr th {\n        vertical-align: top;\n    }\n\n    .dataframe thead th {\n        text-align: right;\n    }\n</style>\n<table border=\"1\" class=\"dataframe\">\n  <thead>\n    <tr style=\"text-align: right;\">\n      <th></th>\n      <th>ATC7_KOD</th>\n      <th>ATC7_popis</th>\n      <th>LIEK_KOD</th>\n      <th>LIEK_popis</th>\n      <th>STAT_popis</th>\n      <th>VYROBCA_popis</th>\n      <th>Počet balení</th>\n      <th>Úhrada_PAC</th>\n      <th>Cena úhrada_PAC/bal</th>\n    </tr>\n  </thead>\n  <tbody>\n    <tr>\n      <th>0</th>\n      <td>B05BB01</td>\n      <td>Elektrolyty</td>\n      <td>C37743</td>\n      <td>0,9% SODIUM CHL.IN W.F.I.FRESENIUS sol inf 1x1...</td>\n      <td>Česko</td>\n      <td>Fresenius Kabi s.r.o.</td>\n      <td>1115466.27</td>\n      <td>1758.64</td>\n      <td>0.001577</td>\n    </tr>\n    <tr>\n      <th>1</th>\n      <td>B05BB01</td>\n      <td>Elektrolyty</td>\n      <td>C33593</td>\n      <td>0,9% SODIUM ChL.IN W.F.I.FRESENIUS sol inf 1x2...</td>\n      <td>Česko</td>\n      <td>Fresenius Kabi s.r.o.</td>\n      <td>999336.36</td>\n      <td>4893.52</td>\n      <td>0.004897</td>\n    </tr>\n    <tr>\n      <th>2</th>\n      <td>B05BB01</td>\n      <td>Elektrolyty</td>\n      <td>C33590</td>\n      <td>0,9% SODIUM ChL.IN W.F.I.FRESENIUS sol inf 1x5...</td>\n      <td>Česko</td>\n      <td>Fresenius Kabi s.r.o.</td>\n      <td>789546.85</td>\n      <td>1375.02</td>\n      <td>0.001742</td>\n    </tr>\n    <tr>\n      <th>3</th>\n      <td>B05BB01</td>\n      <td>Elektrolyty</td>\n      <td>C97748</td>\n      <td>SODIUM CHLORIDE 0,9%W/V I.V. INF inf 1x100 ml ...</td>\n      <td>Taliansko</td>\n      <td>Bieffe Medital S.p.A.</td>\n      <td>418659.15</td>\n      <td>5287.02</td>\n      <td>0.012628</td>\n    </tr>\n    <tr>\n      <th>4</th>\n      <td>B05BB01</td>\n      <td>Elektrolyty</td>\n      <td>C97749</td>\n      <td>SODIUM CHLORIDE 0,9%W/V I.V. INF inf 1x250 ml ...</td>\n      <td>Taliansko</td>\n      <td>Bieffe Medital S.p.A.</td>\n      <td>381477.64</td>\n      <td>18777.30</td>\n      <td>0.049223</td>\n    </tr>\n  </tbody>\n</table>\n</div>"
     },
     "metadata": {}
    },
    {
     "output_type": "display_data",
     "data": {
      "text/plain": "  ATC7_KOD   ATC7_popis LIEK_KOD  \\\n0  N02BE01  Paracetamol   C86052   \n1  N02BE01  Paracetamol   C86051   \n2  N02BE01  Paracetamol   C27613   \n3  N02BE01  Paracetamol   C57476   \n4  N02BE01  Paracetamol   C26627   \n\n                                          LIEK_popis STAT_popis  \\\n0            PARALEN 500 tbl 24x500 mg (blis.Al/PVC)  Slovensko   \n1            PARALEN 500 tbl 12x500 mg (blis.Al/PVC)  Slovensko   \n2                           PARALEN 100 sup 5x100 mg  Slovensko   \n3  Panadol Paracetamolum 500 mg tbl flm 24x500 mg...      Česko   \n4                          PARALEN 125 tbl 20x125 mg  Slovensko   \n\n                                       VYROBCA_popis  Počet balení  \\\n0                     sanofi-aventis Slovakia s.r.o.   2300126.084   \n1                     sanofi-aventis Slovakia s.r.o.    269140.730   \n2                     sanofi-aventis Slovakia s.r.o.    139481.200   \n3  GlaxoSmithKline Consumer Healthcare Czech Repu...    113876.250   \n4                     sanofi-aventis Slovakia s.r.o.    111906.328   \n\n   Úhrada_PAC  Cena úhrada_PAC/bal  \n0  3826254.68             1.663498  \n1   279950.53             1.040164  \n2   117364.89             0.841439  \n3   194443.83             1.707501  \n4    81286.36             0.726379  ",
      "text/html": "<div>\n<style scoped>\n    .dataframe tbody tr th:only-of-type {\n        vertical-align: middle;\n    }\n\n    .dataframe tbody tr th {\n        vertical-align: top;\n    }\n\n    .dataframe thead th {\n        text-align: right;\n    }\n</style>\n<table border=\"1\" class=\"dataframe\">\n  <thead>\n    <tr style=\"text-align: right;\">\n      <th></th>\n      <th>ATC7_KOD</th>\n      <th>ATC7_popis</th>\n      <th>LIEK_KOD</th>\n      <th>LIEK_popis</th>\n      <th>STAT_popis</th>\n      <th>VYROBCA_popis</th>\n      <th>Počet balení</th>\n      <th>Úhrada_PAC</th>\n      <th>Cena úhrada_PAC/bal</th>\n    </tr>\n  </thead>\n  <tbody>\n    <tr>\n      <th>0</th>\n      <td>N02BE01</td>\n      <td>Paracetamol</td>\n      <td>C86052</td>\n      <td>PARALEN 500 tbl 24x500 mg (blis.Al/PVC)</td>\n      <td>Slovensko</td>\n      <td>sanofi-aventis Slovakia s.r.o.</td>\n      <td>2300126.084</td>\n      <td>3826254.68</td>\n      <td>1.663498</td>\n    </tr>\n    <tr>\n      <th>1</th>\n      <td>N02BE01</td>\n      <td>Paracetamol</td>\n      <td>C86051</td>\n      <td>PARALEN 500 tbl 12x500 mg (blis.Al/PVC)</td>\n      <td>Slovensko</td>\n      <td>sanofi-aventis Slovakia s.r.o.</td>\n      <td>269140.730</td>\n      <td>279950.53</td>\n      <td>1.040164</td>\n    </tr>\n    <tr>\n      <th>2</th>\n      <td>N02BE01</td>\n      <td>Paracetamol</td>\n      <td>C27613</td>\n      <td>PARALEN 100 sup 5x100 mg</td>\n      <td>Slovensko</td>\n      <td>sanofi-aventis Slovakia s.r.o.</td>\n      <td>139481.200</td>\n      <td>117364.89</td>\n      <td>0.841439</td>\n    </tr>\n    <tr>\n      <th>3</th>\n      <td>N02BE01</td>\n      <td>Paracetamol</td>\n      <td>C57476</td>\n      <td>Panadol Paracetamolum 500 mg tbl flm 24x500 mg...</td>\n      <td>Česko</td>\n      <td>GlaxoSmithKline Consumer Healthcare Czech Repu...</td>\n      <td>113876.250</td>\n      <td>194443.83</td>\n      <td>1.707501</td>\n    </tr>\n    <tr>\n      <th>4</th>\n      <td>N02BE01</td>\n      <td>Paracetamol</td>\n      <td>C26627</td>\n      <td>PARALEN 125 tbl 20x125 mg</td>\n      <td>Slovensko</td>\n      <td>sanofi-aventis Slovakia s.r.o.</td>\n      <td>111906.328</td>\n      <td>81286.36</td>\n      <td>0.726379</td>\n    </tr>\n  </tbody>\n</table>\n</div>"
     },
     "metadata": {}
    },
    {
     "output_type": "display_data",
     "data": {
      "text/plain": "  ATC7_KOD ATC7_popis LIEK_KOD  \\\n0  M01AE01  Ibuprofén   C35458   \n1  M01AE01  Ibuprofén   C7880A   \n2  M01AE01  Ibuprofén   C97299   \n3  M01AE01  Ibuprofén   C49851   \n4  M01AE01  Ibuprofén   C45451   \n\n                                          LIEK_popis  STAT_popis  \\\n0                      IBALGIN 400 tbl flm 24x400 mg   Slovensko   \n1       Ibalgin 400 tbl flm 48x400 mg (blis. PVC/Al)   Slovensko   \n2                       BRUFEN 400 tbl flm 30x400 mg  Francúzsko   \n3                          MIG-400 tbl flm 30x400 mg     Nemecko   \n4  NUROFEN pre deti Jahoda sus por 1x100 ml (PET ...       Česko   \n\n                                       VYROBCA_popis  Počet balení  \\\n0                     sanofi-aventis Slovakia s.r.o.    596621.970   \n1                     sanofi-aventis Slovakia s.r.o.    293384.731   \n2                             Mylan Laboratories SAS    232798.061   \n3                                   Berlin-Chemie AG    205849.323   \n4  Reckitt Benckiser (Czech Republic), spol. s r.o.     160812.710   \n\n   Úhrada_PAC  Cena úhrada_PAC/bal  \n0  1885611.99             3.160480  \n1  1432962.47             4.884244  \n2   868313.80             3.729901  \n3   706016.17             3.429772  \n4   747388.09             4.647569  ",
      "text/html": "<div>\n<style scoped>\n    .dataframe tbody tr th:only-of-type {\n        vertical-align: middle;\n    }\n\n    .dataframe tbody tr th {\n        vertical-align: top;\n    }\n\n    .dataframe thead th {\n        text-align: right;\n    }\n</style>\n<table border=\"1\" class=\"dataframe\">\n  <thead>\n    <tr style=\"text-align: right;\">\n      <th></th>\n      <th>ATC7_KOD</th>\n      <th>ATC7_popis</th>\n      <th>LIEK_KOD</th>\n      <th>LIEK_popis</th>\n      <th>STAT_popis</th>\n      <th>VYROBCA_popis</th>\n      <th>Počet balení</th>\n      <th>Úhrada_PAC</th>\n      <th>Cena úhrada_PAC/bal</th>\n    </tr>\n  </thead>\n  <tbody>\n    <tr>\n      <th>0</th>\n      <td>M01AE01</td>\n      <td>Ibuprofén</td>\n      <td>C35458</td>\n      <td>IBALGIN 400 tbl flm 24x400 mg</td>\n      <td>Slovensko</td>\n      <td>sanofi-aventis Slovakia s.r.o.</td>\n      <td>596621.970</td>\n      <td>1885611.99</td>\n      <td>3.160480</td>\n    </tr>\n    <tr>\n      <th>1</th>\n      <td>M01AE01</td>\n      <td>Ibuprofén</td>\n      <td>C7880A</td>\n      <td>Ibalgin 400 tbl flm 48x400 mg (blis. PVC/Al)</td>\n      <td>Slovensko</td>\n      <td>sanofi-aventis Slovakia s.r.o.</td>\n      <td>293384.731</td>\n      <td>1432962.47</td>\n      <td>4.884244</td>\n    </tr>\n    <tr>\n      <th>2</th>\n      <td>M01AE01</td>\n      <td>Ibuprofén</td>\n      <td>C97299</td>\n      <td>BRUFEN 400 tbl flm 30x400 mg</td>\n      <td>Francúzsko</td>\n      <td>Mylan Laboratories SAS</td>\n      <td>232798.061</td>\n      <td>868313.80</td>\n      <td>3.729901</td>\n    </tr>\n    <tr>\n      <th>3</th>\n      <td>M01AE01</td>\n      <td>Ibuprofén</td>\n      <td>C49851</td>\n      <td>MIG-400 tbl flm 30x400 mg</td>\n      <td>Nemecko</td>\n      <td>Berlin-Chemie AG</td>\n      <td>205849.323</td>\n      <td>706016.17</td>\n      <td>3.429772</td>\n    </tr>\n    <tr>\n      <th>4</th>\n      <td>M01AE01</td>\n      <td>Ibuprofén</td>\n      <td>C45451</td>\n      <td>NUROFEN pre deti Jahoda sus por 1x100 ml (PET ...</td>\n      <td>Česko</td>\n      <td>Reckitt Benckiser (Czech Republic), spol. s r.o.</td>\n      <td>160812.710</td>\n      <td>747388.09</td>\n      <td>4.647569</td>\n    </tr>\n  </tbody>\n</table>\n</div>"
     },
     "metadata": {}
    },
    {
     "output_type": "display_data",
     "data": {
      "text/plain": "  ATC7_KOD  ATC7_popis LIEK_KOD  \\\n0  C07AB07  Bisoprolol   C94164   \n1  C07AB07  Bisoprolol   C90028   \n2  C07AB07  Bisoprolol   C33446   \n3  C07AB07  Bisoprolol   C33427   \n4  C07AB07  Bisoprolol   C97761   \n\n                                          LIEK_popis STAT_popis  \\\n0                           CONCOR 5 tbl flm 30x5 mg  Slovensko   \n1  CORONAL 5 tbl flm 30x5 mg (PVC/PE/PVDC/Alu blis.)  Slovensko   \n2             BISOPROLOL-ratiopharm 5 mg tbl 30x5 mg    Nemecko   \n3                CONCOR COR 2,5 mg tbl flm 30x2,5 mg  Slovensko   \n4                       BISOMERCK  5 tbl flm 30x5 mg  Slovensko   \n\n        VYROBCA_popis  Počet balení  Úhrada_PAC  Cena úhrada_PAC/bal  \n0  Merck spol. s.r.o.     861847.12  2312824.20             2.683567  \n1           ZNT-SK-2?     439825.33   198924.15             0.452280  \n2     ratiopharm GmbH     361429.00    71700.98             0.198382  \n3  Merck spol. s.r.o.     174083.00   439473.10             2.524503  \n4  Merck spol. s.r.o.     116380.50   156601.14             1.345596  ",
      "text/html": "<div>\n<style scoped>\n    .dataframe tbody tr th:only-of-type {\n        vertical-align: middle;\n    }\n\n    .dataframe tbody tr th {\n        vertical-align: top;\n    }\n\n    .dataframe thead th {\n        text-align: right;\n    }\n</style>\n<table border=\"1\" class=\"dataframe\">\n  <thead>\n    <tr style=\"text-align: right;\">\n      <th></th>\n      <th>ATC7_KOD</th>\n      <th>ATC7_popis</th>\n      <th>LIEK_KOD</th>\n      <th>LIEK_popis</th>\n      <th>STAT_popis</th>\n      <th>VYROBCA_popis</th>\n      <th>Počet balení</th>\n      <th>Úhrada_PAC</th>\n      <th>Cena úhrada_PAC/bal</th>\n    </tr>\n  </thead>\n  <tbody>\n    <tr>\n      <th>0</th>\n      <td>C07AB07</td>\n      <td>Bisoprolol</td>\n      <td>C94164</td>\n      <td>CONCOR 5 tbl flm 30x5 mg</td>\n      <td>Slovensko</td>\n      <td>Merck spol. s.r.o.</td>\n      <td>861847.12</td>\n      <td>2312824.20</td>\n      <td>2.683567</td>\n    </tr>\n    <tr>\n      <th>1</th>\n      <td>C07AB07</td>\n      <td>Bisoprolol</td>\n      <td>C90028</td>\n      <td>CORONAL 5 tbl flm 30x5 mg (PVC/PE/PVDC/Alu blis.)</td>\n      <td>Slovensko</td>\n      <td>ZNT-SK-2?</td>\n      <td>439825.33</td>\n      <td>198924.15</td>\n      <td>0.452280</td>\n    </tr>\n    <tr>\n      <th>2</th>\n      <td>C07AB07</td>\n      <td>Bisoprolol</td>\n      <td>C33446</td>\n      <td>BISOPROLOL-ratiopharm 5 mg tbl 30x5 mg</td>\n      <td>Nemecko</td>\n      <td>ratiopharm GmbH</td>\n      <td>361429.00</td>\n      <td>71700.98</td>\n      <td>0.198382</td>\n    </tr>\n    <tr>\n      <th>3</th>\n      <td>C07AB07</td>\n      <td>Bisoprolol</td>\n      <td>C33427</td>\n      <td>CONCOR COR 2,5 mg tbl flm 30x2,5 mg</td>\n      <td>Slovensko</td>\n      <td>Merck spol. s.r.o.</td>\n      <td>174083.00</td>\n      <td>439473.10</td>\n      <td>2.524503</td>\n    </tr>\n    <tr>\n      <th>4</th>\n      <td>C07AB07</td>\n      <td>Bisoprolol</td>\n      <td>C97761</td>\n      <td>BISOMERCK  5 tbl flm 30x5 mg</td>\n      <td>Slovensko</td>\n      <td>Merck spol. s.r.o.</td>\n      <td>116380.50</td>\n      <td>156601.14</td>\n      <td>1.345596</td>\n    </tr>\n  </tbody>\n</table>\n</div>"
     },
     "metadata": {}
    },
    {
     "output_type": "display_data",
     "data": {
      "text/plain": "  ATC7_KOD ATC7_popis LIEK_KOD  \\\n0  C08CA01  Amlodipín   C13556   \n1  C08CA01  Amlodipín   C37500   \n2  C08CA01  Amlodipín   C34886   \n3  C08CA01  Amlodipín   C62569   \n4  C08CA01  Amlodipín   C13558   \n\n                                          LIEK_popis STAT_popis  \\\n0                                 AGEN 5 tbl 30x5 mg      Česko   \n1  Amlodipin Stichting 5 mg tablety tbl 30x5 mg (...  Slovinsko   \n2              AMLODIPIN-RATIOPHARM 5 mg tbl 30x5 mg    Nemecko   \n3                                NORVASC tbl 30x5 mg   Belgicko   \n4                               AGEN 10 tbl 30x10 mg      Česko   \n\n                 VYROBCA_popis  Počet balení  Úhrada_PAC  Cena úhrada_PAC/bal  \n0                Zentiva, k.s.    890258.100   201748.72             0.226618  \n1  Sandoz Pharmaceuticals d.d.    359816.500   104900.67             0.291539  \n2              ratiopharm GmbH    320902.970    78281.35             0.243941  \n3        Pfizer Europe MA EEIG    101640.000   341657.38             3.361446  \n4                Zentiva, k.s.     94816.326   105940.59             1.117324  ",
      "text/html": "<div>\n<style scoped>\n    .dataframe tbody tr th:only-of-type {\n        vertical-align: middle;\n    }\n\n    .dataframe tbody tr th {\n        vertical-align: top;\n    }\n\n    .dataframe thead th {\n        text-align: right;\n    }\n</style>\n<table border=\"1\" class=\"dataframe\">\n  <thead>\n    <tr style=\"text-align: right;\">\n      <th></th>\n      <th>ATC7_KOD</th>\n      <th>ATC7_popis</th>\n      <th>LIEK_KOD</th>\n      <th>LIEK_popis</th>\n      <th>STAT_popis</th>\n      <th>VYROBCA_popis</th>\n      <th>Počet balení</th>\n      <th>Úhrada_PAC</th>\n      <th>Cena úhrada_PAC/bal</th>\n    </tr>\n  </thead>\n  <tbody>\n    <tr>\n      <th>0</th>\n      <td>C08CA01</td>\n      <td>Amlodipín</td>\n      <td>C13556</td>\n      <td>AGEN 5 tbl 30x5 mg</td>\n      <td>Česko</td>\n      <td>Zentiva, k.s.</td>\n      <td>890258.100</td>\n      <td>201748.72</td>\n      <td>0.226618</td>\n    </tr>\n    <tr>\n      <th>1</th>\n      <td>C08CA01</td>\n      <td>Amlodipín</td>\n      <td>C37500</td>\n      <td>Amlodipin Stichting 5 mg tablety tbl 30x5 mg (...</td>\n      <td>Slovinsko</td>\n      <td>Sandoz Pharmaceuticals d.d.</td>\n      <td>359816.500</td>\n      <td>104900.67</td>\n      <td>0.291539</td>\n    </tr>\n    <tr>\n      <th>2</th>\n      <td>C08CA01</td>\n      <td>Amlodipín</td>\n      <td>C34886</td>\n      <td>AMLODIPIN-RATIOPHARM 5 mg tbl 30x5 mg</td>\n      <td>Nemecko</td>\n      <td>ratiopharm GmbH</td>\n      <td>320902.970</td>\n      <td>78281.35</td>\n      <td>0.243941</td>\n    </tr>\n    <tr>\n      <th>3</th>\n      <td>C08CA01</td>\n      <td>Amlodipín</td>\n      <td>C62569</td>\n      <td>NORVASC tbl 30x5 mg</td>\n      <td>Belgicko</td>\n      <td>Pfizer Europe MA EEIG</td>\n      <td>101640.000</td>\n      <td>341657.38</td>\n      <td>3.361446</td>\n    </tr>\n    <tr>\n      <th>4</th>\n      <td>C08CA01</td>\n      <td>Amlodipín</td>\n      <td>C13558</td>\n      <td>AGEN 10 tbl 30x10 mg</td>\n      <td>Česko</td>\n      <td>Zentiva, k.s.</td>\n      <td>94816.326</td>\n      <td>105940.59</td>\n      <td>1.117324</td>\n    </tr>\n  </tbody>\n</table>\n</div>"
     },
     "metadata": {}
    },
    {
     "output_type": "display_data",
     "data": {
      "text/plain": "  ATC7_KOD  ATC7_popis LIEK_KOD                          LIEK_popis  \\\n0  N05BA12  Alprazolam   C33494  NEUROL 0,5 mg tbl 30x0,5 mg (bli.)   \n1  N05BA12  Alprazolam   C91788   NEUROL 0,25 tbl 30x0,25 mg (bli.)   \n2  N05BA12  Alprazolam   C14596         FRONTIN 0,5MG tbl 30x0,5 mg   \n3  N05BA12  Alprazolam   C86656    NEUROL 1,0 tbl 30x1,00 mg (bli.)   \n4  N05BA12  Alprazolam   C14594       FRONTIN 0,25MG tbl 30x0,25 mg   \n\n  STAT_popis             VYROBCA_popis  Počet balení  Úhrada_PAC  \\\n0      Česko             Zentiva, k.s.      478721.0   625761.97   \n1      Česko             Zentiva, k.s.      360820.0   351477.76   \n2   Maďarsko  EGIS Pharmaceuticals PLC      256590.2   346183.19   \n3      Česko             Zentiva, k.s.      216768.5   418523.86   \n4   Maďarsko  EGIS Pharmaceuticals PLC      190090.0   180653.82   \n\n   Cena úhrada_PAC/bal  \n0             1.307154  \n1             0.974108  \n2             1.349168  \n3             1.930741  \n4             0.950359  ",
      "text/html": "<div>\n<style scoped>\n    .dataframe tbody tr th:only-of-type {\n        vertical-align: middle;\n    }\n\n    .dataframe tbody tr th {\n        vertical-align: top;\n    }\n\n    .dataframe thead th {\n        text-align: right;\n    }\n</style>\n<table border=\"1\" class=\"dataframe\">\n  <thead>\n    <tr style=\"text-align: right;\">\n      <th></th>\n      <th>ATC7_KOD</th>\n      <th>ATC7_popis</th>\n      <th>LIEK_KOD</th>\n      <th>LIEK_popis</th>\n      <th>STAT_popis</th>\n      <th>VYROBCA_popis</th>\n      <th>Počet balení</th>\n      <th>Úhrada_PAC</th>\n      <th>Cena úhrada_PAC/bal</th>\n    </tr>\n  </thead>\n  <tbody>\n    <tr>\n      <th>0</th>\n      <td>N05BA12</td>\n      <td>Alprazolam</td>\n      <td>C33494</td>\n      <td>NEUROL 0,5 mg tbl 30x0,5 mg (bli.)</td>\n      <td>Česko</td>\n      <td>Zentiva, k.s.</td>\n      <td>478721.0</td>\n      <td>625761.97</td>\n      <td>1.307154</td>\n    </tr>\n    <tr>\n      <th>1</th>\n      <td>N05BA12</td>\n      <td>Alprazolam</td>\n      <td>C91788</td>\n      <td>NEUROL 0,25 tbl 30x0,25 mg (bli.)</td>\n      <td>Česko</td>\n      <td>Zentiva, k.s.</td>\n      <td>360820.0</td>\n      <td>351477.76</td>\n      <td>0.974108</td>\n    </tr>\n    <tr>\n      <th>2</th>\n      <td>N05BA12</td>\n      <td>Alprazolam</td>\n      <td>C14596</td>\n      <td>FRONTIN 0,5MG tbl 30x0,5 mg</td>\n      <td>Maďarsko</td>\n      <td>EGIS Pharmaceuticals PLC</td>\n      <td>256590.2</td>\n      <td>346183.19</td>\n      <td>1.349168</td>\n    </tr>\n    <tr>\n      <th>3</th>\n      <td>N05BA12</td>\n      <td>Alprazolam</td>\n      <td>C86656</td>\n      <td>NEUROL 1,0 tbl 30x1,00 mg (bli.)</td>\n      <td>Česko</td>\n      <td>Zentiva, k.s.</td>\n      <td>216768.5</td>\n      <td>418523.86</td>\n      <td>1.930741</td>\n    </tr>\n    <tr>\n      <th>4</th>\n      <td>N05BA12</td>\n      <td>Alprazolam</td>\n      <td>C14594</td>\n      <td>FRONTIN 0,25MG tbl 30x0,25 mg</td>\n      <td>Maďarsko</td>\n      <td>EGIS Pharmaceuticals PLC</td>\n      <td>190090.0</td>\n      <td>180653.82</td>\n      <td>0.950359</td>\n    </tr>\n  </tbody>\n</table>\n</div>"
     },
     "metadata": {}
    },
    {
     "output_type": "display_data",
     "data": {
      "text/plain": "  ATC7_KOD  ATC7_popis LIEK_KOD  \\\n0  M01AB05  Diklofenak   C55701   \n1  M01AB05  Diklofenak   C23849   \n2  M01AB05  Diklofenak   C89136   \n3  M01AB05  Diklofenak   C67547   \n4  M01AB05  Diklofenak   C27802   \n\n                                          LIEK_popis STAT_popis  \\\n0                 FLECTOR EP RAPID 50MG gra 20x50 mg  Slovensko   \n1  Voltaren Rapid 25 mg cps mol 20x25 mg (blis.PV...      Česko   \n2    DICLOFENAC DUO PHARMAVIT 75 mg cps mod 30x75 mg      Česko   \n3                          ALMIRAL inj 10x3 ml/75 mg     Cyprus   \n4              VOLTAREN RAPID 50 mg tbl obd 20x50 mg  Slovensko   \n\n                                       VYROBCA_popis  Počet balení  \\\n0                               IBSA Slovakia s.r.o.     755843.97   \n1  GlaxoSmithKline Consumer Healthcare Czech Repu...     184241.68   \n2                 PharmaSwiss Česká republika s.r.o.     170025.01   \n3                                    Medochemie Ltd.     167764.83   \n4                           Novartis Slovakia s.r.o.     163277.90   \n\n   Úhrada_PAC  Cena úhrada_PAC/bal  \n0  2614771.88             3.459407  \n1  1082657.96             5.876292  \n2   469116.41             2.759102  \n3   104939.22             0.625514  \n4   145603.20             0.891751  ",
      "text/html": "<div>\n<style scoped>\n    .dataframe tbody tr th:only-of-type {\n        vertical-align: middle;\n    }\n\n    .dataframe tbody tr th {\n        vertical-align: top;\n    }\n\n    .dataframe thead th {\n        text-align: right;\n    }\n</style>\n<table border=\"1\" class=\"dataframe\">\n  <thead>\n    <tr style=\"text-align: right;\">\n      <th></th>\n      <th>ATC7_KOD</th>\n      <th>ATC7_popis</th>\n      <th>LIEK_KOD</th>\n      <th>LIEK_popis</th>\n      <th>STAT_popis</th>\n      <th>VYROBCA_popis</th>\n      <th>Počet balení</th>\n      <th>Úhrada_PAC</th>\n      <th>Cena úhrada_PAC/bal</th>\n    </tr>\n  </thead>\n  <tbody>\n    <tr>\n      <th>0</th>\n      <td>M01AB05</td>\n      <td>Diklofenak</td>\n      <td>C55701</td>\n      <td>FLECTOR EP RAPID 50MG gra 20x50 mg</td>\n      <td>Slovensko</td>\n      <td>IBSA Slovakia s.r.o.</td>\n      <td>755843.97</td>\n      <td>2614771.88</td>\n      <td>3.459407</td>\n    </tr>\n    <tr>\n      <th>1</th>\n      <td>M01AB05</td>\n      <td>Diklofenak</td>\n      <td>C23849</td>\n      <td>Voltaren Rapid 25 mg cps mol 20x25 mg (blis.PV...</td>\n      <td>Česko</td>\n      <td>GlaxoSmithKline Consumer Healthcare Czech Repu...</td>\n      <td>184241.68</td>\n      <td>1082657.96</td>\n      <td>5.876292</td>\n    </tr>\n    <tr>\n      <th>2</th>\n      <td>M01AB05</td>\n      <td>Diklofenak</td>\n      <td>C89136</td>\n      <td>DICLOFENAC DUO PHARMAVIT 75 mg cps mod 30x75 mg</td>\n      <td>Česko</td>\n      <td>PharmaSwiss Česká republika s.r.o.</td>\n      <td>170025.01</td>\n      <td>469116.41</td>\n      <td>2.759102</td>\n    </tr>\n    <tr>\n      <th>3</th>\n      <td>M01AB05</td>\n      <td>Diklofenak</td>\n      <td>C67547</td>\n      <td>ALMIRAL inj 10x3 ml/75 mg</td>\n      <td>Cyprus</td>\n      <td>Medochemie Ltd.</td>\n      <td>167764.83</td>\n      <td>104939.22</td>\n      <td>0.625514</td>\n    </tr>\n    <tr>\n      <th>4</th>\n      <td>M01AB05</td>\n      <td>Diklofenak</td>\n      <td>C27802</td>\n      <td>VOLTAREN RAPID 50 mg tbl obd 20x50 mg</td>\n      <td>Slovensko</td>\n      <td>Novartis Slovakia s.r.o.</td>\n      <td>163277.90</td>\n      <td>145603.20</td>\n      <td>0.891751</td>\n    </tr>\n  </tbody>\n</table>\n</div>"
     },
     "metadata": {}
    },
    {
     "output_type": "display_data",
     "data": {
      "text/plain": "  ATC7_KOD            ATC7_popis LIEK_KOD  \\\n0  N02BB02  Metamizol, sodná soľ   C24857   \n1  N02BB02  Metamizol, sodná soľ   C24459   \n2  N02BB02  Metamizol, sodná soľ   C7520A   \n3  N02BB02  Metamizol, sodná soľ   C6590B   \n4  N02BB02  Metamizol, sodná soľ   C24530   \n\n                                          LIEK_popis STAT_popis  \\\n0                  NOVALGIN 500 mg tbl flm 20x500 mg  Slovensko   \n1       NOVALGIN 500 mg/1 ml sol inj 10x2 ml/1000 mg  Slovensko   \n2  Metamizol Stada 500 mg/ml perorálne roztokové ...    Nemecko   \n3     METAMISTAD tablety tbl 50x500 mg (blis.PVC/Al)    Nemecko   \n4        NOVALGIN 500 mg/1 ml sol inj 5x5 ml/2500 mg  Slovensko   \n\n                    VYROBCA_popis  Počet balení  Úhrada_PAC  \\\n0  sanofi-aventis Slovakia s.r.o.   1342217.310  1574143.21   \n1  sanofi-aventis Slovakia s.r.o.    122225.700   119052.25   \n2           STADA Arzneimittel AG     97835.600    90901.77   \n3           STADA Arzneimittel AG     96200.357    53449.98   \n4  sanofi-aventis Slovakia s.r.o.     96195.000    43043.01   \n\n   Cena úhrada_PAC/bal  \n0             1.172793  \n1             0.974036  \n2             0.929128  \n3             0.555611  \n4             0.447456  ",
      "text/html": "<div>\n<style scoped>\n    .dataframe tbody tr th:only-of-type {\n        vertical-align: middle;\n    }\n\n    .dataframe tbody tr th {\n        vertical-align: top;\n    }\n\n    .dataframe thead th {\n        text-align: right;\n    }\n</style>\n<table border=\"1\" class=\"dataframe\">\n  <thead>\n    <tr style=\"text-align: right;\">\n      <th></th>\n      <th>ATC7_KOD</th>\n      <th>ATC7_popis</th>\n      <th>LIEK_KOD</th>\n      <th>LIEK_popis</th>\n      <th>STAT_popis</th>\n      <th>VYROBCA_popis</th>\n      <th>Počet balení</th>\n      <th>Úhrada_PAC</th>\n      <th>Cena úhrada_PAC/bal</th>\n    </tr>\n  </thead>\n  <tbody>\n    <tr>\n      <th>0</th>\n      <td>N02BB02</td>\n      <td>Metamizol, sodná soľ</td>\n      <td>C24857</td>\n      <td>NOVALGIN 500 mg tbl flm 20x500 mg</td>\n      <td>Slovensko</td>\n      <td>sanofi-aventis Slovakia s.r.o.</td>\n      <td>1342217.310</td>\n      <td>1574143.21</td>\n      <td>1.172793</td>\n    </tr>\n    <tr>\n      <th>1</th>\n      <td>N02BB02</td>\n      <td>Metamizol, sodná soľ</td>\n      <td>C24459</td>\n      <td>NOVALGIN 500 mg/1 ml sol inj 10x2 ml/1000 mg</td>\n      <td>Slovensko</td>\n      <td>sanofi-aventis Slovakia s.r.o.</td>\n      <td>122225.700</td>\n      <td>119052.25</td>\n      <td>0.974036</td>\n    </tr>\n    <tr>\n      <th>2</th>\n      <td>N02BB02</td>\n      <td>Metamizol, sodná soľ</td>\n      <td>C7520A</td>\n      <td>Metamizol Stada 500 mg/ml perorálne roztokové ...</td>\n      <td>Nemecko</td>\n      <td>STADA Arzneimittel AG</td>\n      <td>97835.600</td>\n      <td>90901.77</td>\n      <td>0.929128</td>\n    </tr>\n    <tr>\n      <th>3</th>\n      <td>N02BB02</td>\n      <td>Metamizol, sodná soľ</td>\n      <td>C6590B</td>\n      <td>METAMISTAD tablety tbl 50x500 mg (blis.PVC/Al)</td>\n      <td>Nemecko</td>\n      <td>STADA Arzneimittel AG</td>\n      <td>96200.357</td>\n      <td>53449.98</td>\n      <td>0.555611</td>\n    </tr>\n    <tr>\n      <th>4</th>\n      <td>N02BB02</td>\n      <td>Metamizol, sodná soľ</td>\n      <td>C24530</td>\n      <td>NOVALGIN 500 mg/1 ml sol inj 5x5 ml/2500 mg</td>\n      <td>Slovensko</td>\n      <td>sanofi-aventis Slovakia s.r.o.</td>\n      <td>96195.000</td>\n      <td>43043.01</td>\n      <td>0.447456</td>\n    </tr>\n  </tbody>\n</table>\n</div>"
     },
     "metadata": {}
    },
    {
     "output_type": "display_data",
     "data": {
      "text/plain": "  ATC7_KOD  ATC7_popis LIEK_KOD  \\\n0  C07AB02  Metoprolol   C28641   \n1  C07AB02  Metoprolol   C14959   \n2  C07AB02  Metoprolol   C25634   \n3  C07AB02  Metoprolol   C28639   \n4  C07AB02  Metoprolol   C69827   \n\n                                          LIEK_popis STAT_popis  \\\n0         BETALOC ZOK 50MG (blist.) tbl mod 28x50 mg  Taliansko   \n1        BETALOC ZOK 25 mg (blist.) tbl mod 28x25 mg  Taliansko   \n2          VASOCARDIN 50 tbl 50(5x10)x50 mg (blist.)  Slovensko   \n3      BETALOC ZOK 100 mg (blist.) tbl mod 28x100 mg  Taliansko   \n4  Metoprolol ratiopharm 50 mg tbl plg 30x50 mg (...    Nemecko   \n\n                                       VYROBCA_popis  Počet balení  \\\n0  Recordati Industria Chimica e Farmaceutica S.p.A.      415989.0   \n1  Recordati Industria Chimica e Farmaceutica S.p.A.      301260.5   \n2                                          ZNT-SK-2?      253627.8   \n3  Recordati Industria Chimica e Farmaceutica S.p.A.      194362.0   \n4                                    ratiopharm GmbH      168777.1   \n\n   Úhrada_PAC  Cena úhrada_PAC/bal  \n0  1335363.74             3.210094  \n1  1055435.89             3.503400  \n2    11447.21             0.045134  \n3   600822.26             3.091254  \n4    28732.82             0.170241  ",
      "text/html": "<div>\n<style scoped>\n    .dataframe tbody tr th:only-of-type {\n        vertical-align: middle;\n    }\n\n    .dataframe tbody tr th {\n        vertical-align: top;\n    }\n\n    .dataframe thead th {\n        text-align: right;\n    }\n</style>\n<table border=\"1\" class=\"dataframe\">\n  <thead>\n    <tr style=\"text-align: right;\">\n      <th></th>\n      <th>ATC7_KOD</th>\n      <th>ATC7_popis</th>\n      <th>LIEK_KOD</th>\n      <th>LIEK_popis</th>\n      <th>STAT_popis</th>\n      <th>VYROBCA_popis</th>\n      <th>Počet balení</th>\n      <th>Úhrada_PAC</th>\n      <th>Cena úhrada_PAC/bal</th>\n    </tr>\n  </thead>\n  <tbody>\n    <tr>\n      <th>0</th>\n      <td>C07AB02</td>\n      <td>Metoprolol</td>\n      <td>C28641</td>\n      <td>BETALOC ZOK 50MG (blist.) tbl mod 28x50 mg</td>\n      <td>Taliansko</td>\n      <td>Recordati Industria Chimica e Farmaceutica S.p.A.</td>\n      <td>415989.0</td>\n      <td>1335363.74</td>\n      <td>3.210094</td>\n    </tr>\n    <tr>\n      <th>1</th>\n      <td>C07AB02</td>\n      <td>Metoprolol</td>\n      <td>C14959</td>\n      <td>BETALOC ZOK 25 mg (blist.) tbl mod 28x25 mg</td>\n      <td>Taliansko</td>\n      <td>Recordati Industria Chimica e Farmaceutica S.p.A.</td>\n      <td>301260.5</td>\n      <td>1055435.89</td>\n      <td>3.503400</td>\n    </tr>\n    <tr>\n      <th>2</th>\n      <td>C07AB02</td>\n      <td>Metoprolol</td>\n      <td>C25634</td>\n      <td>VASOCARDIN 50 tbl 50(5x10)x50 mg (blist.)</td>\n      <td>Slovensko</td>\n      <td>ZNT-SK-2?</td>\n      <td>253627.8</td>\n      <td>11447.21</td>\n      <td>0.045134</td>\n    </tr>\n    <tr>\n      <th>3</th>\n      <td>C07AB02</td>\n      <td>Metoprolol</td>\n      <td>C28639</td>\n      <td>BETALOC ZOK 100 mg (blist.) tbl mod 28x100 mg</td>\n      <td>Taliansko</td>\n      <td>Recordati Industria Chimica e Farmaceutica S.p.A.</td>\n      <td>194362.0</td>\n      <td>600822.26</td>\n      <td>3.091254</td>\n    </tr>\n    <tr>\n      <th>4</th>\n      <td>C07AB02</td>\n      <td>Metoprolol</td>\n      <td>C69827</td>\n      <td>Metoprolol ratiopharm 50 mg tbl plg 30x50 mg (...</td>\n      <td>Nemecko</td>\n      <td>ratiopharm GmbH</td>\n      <td>168777.1</td>\n      <td>28732.82</td>\n      <td>0.170241</td>\n    </tr>\n  </tbody>\n</table>\n</div>"
     },
     "metadata": {}
    },
    {
     "output_type": "display_data",
     "data": {
      "text/plain": "  ATC7_KOD                 ATC7_popis LIEK_KOD  \\\n0  B01AC06  Kyselina acetylsalicylová   C23029   \n1  B01AC06  Kyselina acetylsalicylová   C23030   \n2  B01AC06  Kyselina acetylsalicylová   C12460   \n3  B01AC06  Kyselina acetylsalicylová   C3492A   \n4  B01AC06  Kyselina acetylsalicylová   C5131A   \n\n                                          LIEK_popis STAT_popis  \\\n0        ANOPYRIN 100 mg tbl 56x100 mg (blis.PVC/Al)  Slovensko   \n1        ANOPYRIN 100 mg tbl 84x100 mg (blis.PVC/Al)  Slovensko   \n2              ASPIRIN PROTECT 100 tbl ent 50x100 mg  Slovensko   \n3  STADAPYRIN 100 mg tbl ent 60x100 mg (blis.PVC/Al)    Nemecko   \n4  STADAPYRIN 100 mg tbl ent 120x100 mg (blis.PVC...    Nemecko   \n\n           VYROBCA_popis  Počet balení  Úhrada_PAC  Cena úhrada_PAC/bal  \n0              ZNT-SK-2?    537364.368   939250.30             1.747883  \n1              ZNT-SK-2?    419356.344  1009800.82             2.407978  \n2    Bayer, spol. s.r.o.    241531.880   783576.97             3.244197  \n3  STADA Arzneimittel AG    105627.101   207325.82             1.962809  \n4  STADA Arzneimittel AG     95864.974   346927.37             3.618917  ",
      "text/html": "<div>\n<style scoped>\n    .dataframe tbody tr th:only-of-type {\n        vertical-align: middle;\n    }\n\n    .dataframe tbody tr th {\n        vertical-align: top;\n    }\n\n    .dataframe thead th {\n        text-align: right;\n    }\n</style>\n<table border=\"1\" class=\"dataframe\">\n  <thead>\n    <tr style=\"text-align: right;\">\n      <th></th>\n      <th>ATC7_KOD</th>\n      <th>ATC7_popis</th>\n      <th>LIEK_KOD</th>\n      <th>LIEK_popis</th>\n      <th>STAT_popis</th>\n      <th>VYROBCA_popis</th>\n      <th>Počet balení</th>\n      <th>Úhrada_PAC</th>\n      <th>Cena úhrada_PAC/bal</th>\n    </tr>\n  </thead>\n  <tbody>\n    <tr>\n      <th>0</th>\n      <td>B01AC06</td>\n      <td>Kyselina acetylsalicylová</td>\n      <td>C23029</td>\n      <td>ANOPYRIN 100 mg tbl 56x100 mg (blis.PVC/Al)</td>\n      <td>Slovensko</td>\n      <td>ZNT-SK-2?</td>\n      <td>537364.368</td>\n      <td>939250.30</td>\n      <td>1.747883</td>\n    </tr>\n    <tr>\n      <th>1</th>\n      <td>B01AC06</td>\n      <td>Kyselina acetylsalicylová</td>\n      <td>C23030</td>\n      <td>ANOPYRIN 100 mg tbl 84x100 mg (blis.PVC/Al)</td>\n      <td>Slovensko</td>\n      <td>ZNT-SK-2?</td>\n      <td>419356.344</td>\n      <td>1009800.82</td>\n      <td>2.407978</td>\n    </tr>\n    <tr>\n      <th>2</th>\n      <td>B01AC06</td>\n      <td>Kyselina acetylsalicylová</td>\n      <td>C12460</td>\n      <td>ASPIRIN PROTECT 100 tbl ent 50x100 mg</td>\n      <td>Slovensko</td>\n      <td>Bayer, spol. s.r.o.</td>\n      <td>241531.880</td>\n      <td>783576.97</td>\n      <td>3.244197</td>\n    </tr>\n    <tr>\n      <th>3</th>\n      <td>B01AC06</td>\n      <td>Kyselina acetylsalicylová</td>\n      <td>C3492A</td>\n      <td>STADAPYRIN 100 mg tbl ent 60x100 mg (blis.PVC/Al)</td>\n      <td>Nemecko</td>\n      <td>STADA Arzneimittel AG</td>\n      <td>105627.101</td>\n      <td>207325.82</td>\n      <td>1.962809</td>\n    </tr>\n    <tr>\n      <th>4</th>\n      <td>B01AC06</td>\n      <td>Kyselina acetylsalicylová</td>\n      <td>C5131A</td>\n      <td>STADAPYRIN 100 mg tbl ent 120x100 mg (blis.PVC...</td>\n      <td>Nemecko</td>\n      <td>STADA Arzneimittel AG</td>\n      <td>95864.974</td>\n      <td>346927.37</td>\n      <td>3.618917</td>\n    </tr>\n  </tbody>\n</table>\n</div>"
     },
     "metadata": {}
    },
    {
     "output_type": "display_data",
     "data": {
      "text/plain": "  ATC7_KOD    ATC7_popis LIEK_KOD  \\\n0  C10AA05  Atorvastatín   C3053B   \n1  C10AA05  Atorvastatín   C40541   \n2  C10AA05  Atorvastatín   C40538   \n3  C10AA05  Atorvastatín   C38841   \n4  C10AA05  Atorvastatín   C38846   \n\n                                          LIEK_popis STAT_popis  \\\n0  Torvacard Novum 20 mg tbl flm 90x20 mg (blis.O...      Česko   \n1                         ATORIS 20 tbl flm 90x20 mg  Slovinsko   \n2                         ATORIS 20 tbl flm 30x20 mg  Slovinsko   \n3  Atorvastatin Actavis 20 mg tbl flm 30x20 mg (b...     Island   \n4  Atorvastatin Actavis 20 mg tbl flm 100x20 mg (...     Island   \n\n           VYROBCA_popis  Počet balení  Úhrada_PAC  Cena úhrada_PAC/bal  \n0          Zentiva, k.s.    137486.552   297993.59             2.167438  \n1  KRKA d.d., Novo mesto    133908.820   382533.66             2.856673  \n2  KRKA d.d., Novo mesto    111426.090   114511.80             1.027693  \n3  Actavis Group PTC ehf     94341.990    31342.27             0.332220  \n4  Actavis Group PTC ehf     91083.300    74300.28             0.815740  ",
      "text/html": "<div>\n<style scoped>\n    .dataframe tbody tr th:only-of-type {\n        vertical-align: middle;\n    }\n\n    .dataframe tbody tr th {\n        vertical-align: top;\n    }\n\n    .dataframe thead th {\n        text-align: right;\n    }\n</style>\n<table border=\"1\" class=\"dataframe\">\n  <thead>\n    <tr style=\"text-align: right;\">\n      <th></th>\n      <th>ATC7_KOD</th>\n      <th>ATC7_popis</th>\n      <th>LIEK_KOD</th>\n      <th>LIEK_popis</th>\n      <th>STAT_popis</th>\n      <th>VYROBCA_popis</th>\n      <th>Počet balení</th>\n      <th>Úhrada_PAC</th>\n      <th>Cena úhrada_PAC/bal</th>\n    </tr>\n  </thead>\n  <tbody>\n    <tr>\n      <th>0</th>\n      <td>C10AA05</td>\n      <td>Atorvastatín</td>\n      <td>C3053B</td>\n      <td>Torvacard Novum 20 mg tbl flm 90x20 mg (blis.O...</td>\n      <td>Česko</td>\n      <td>Zentiva, k.s.</td>\n      <td>137486.552</td>\n      <td>297993.59</td>\n      <td>2.167438</td>\n    </tr>\n    <tr>\n      <th>1</th>\n      <td>C10AA05</td>\n      <td>Atorvastatín</td>\n      <td>C40541</td>\n      <td>ATORIS 20 tbl flm 90x20 mg</td>\n      <td>Slovinsko</td>\n      <td>KRKA d.d., Novo mesto</td>\n      <td>133908.820</td>\n      <td>382533.66</td>\n      <td>2.856673</td>\n    </tr>\n    <tr>\n      <th>2</th>\n      <td>C10AA05</td>\n      <td>Atorvastatín</td>\n      <td>C40538</td>\n      <td>ATORIS 20 tbl flm 30x20 mg</td>\n      <td>Slovinsko</td>\n      <td>KRKA d.d., Novo mesto</td>\n      <td>111426.090</td>\n      <td>114511.80</td>\n      <td>1.027693</td>\n    </tr>\n    <tr>\n      <th>3</th>\n      <td>C10AA05</td>\n      <td>Atorvastatín</td>\n      <td>C38841</td>\n      <td>Atorvastatin Actavis 20 mg tbl flm 30x20 mg (b...</td>\n      <td>Island</td>\n      <td>Actavis Group PTC ehf</td>\n      <td>94341.990</td>\n      <td>31342.27</td>\n      <td>0.332220</td>\n    </tr>\n    <tr>\n      <th>4</th>\n      <td>C10AA05</td>\n      <td>Atorvastatín</td>\n      <td>C38846</td>\n      <td>Atorvastatin Actavis 20 mg tbl flm 100x20 mg (...</td>\n      <td>Island</td>\n      <td>Actavis Group PTC ehf</td>\n      <td>91083.300</td>\n      <td>74300.28</td>\n      <td>0.815740</td>\n    </tr>\n  </tbody>\n</table>\n</div>"
     },
     "metadata": {}
    },
    {
     "output_type": "display_data",
     "data": {
      "text/plain": "  ATC7_KOD ATC7_popis LIEK_KOD                             LIEK_popis  \\\n0  N05CF02   Zolpidém   C68902                  STILNOX 10 mg TBL FLM   \n1  N05CF02   Zolpidém   C83373                  STILNOX 10 mg TBL FLM   \n2  N05CF02   Zolpidém   C46861              HYPNOGEN tbl flm 15x10 mg   \n3  N05CF02   Zolpidém   C14610          SANVAL 10 mg tbl flm 20x10 mg   \n4  N05CF02   Zolpidém   C92955  ZOLPIDEM MERCK 10 mg tbl flm 20x10 mg   \n\n  STAT_popis                   VYROBCA_popis  Počet balení  Úhrada_PAC  \\\n0  Slovensko  sanofi-aventis Slovakia s.r.o.     442430.66  1012808.95   \n1  Slovensko  sanofi-aventis Slovakia s.r.o.     423611.00   437661.24   \n2    Nemecko                     Takeda GmbH     248027.35   394571.60   \n3  Slovinsko     Sandoz Pharmaceuticals d.d.     177540.10   184548.25   \n4      ĺrsko           Mylan Ireland Limited      97213.24   154214.22   \n\n   Cena úhrada_PAC/bal  \n0             2.289193  \n1             1.033168  \n2             1.590839  \n3             1.039474  \n4             1.586350  ",
      "text/html": "<div>\n<style scoped>\n    .dataframe tbody tr th:only-of-type {\n        vertical-align: middle;\n    }\n\n    .dataframe tbody tr th {\n        vertical-align: top;\n    }\n\n    .dataframe thead th {\n        text-align: right;\n    }\n</style>\n<table border=\"1\" class=\"dataframe\">\n  <thead>\n    <tr style=\"text-align: right;\">\n      <th></th>\n      <th>ATC7_KOD</th>\n      <th>ATC7_popis</th>\n      <th>LIEK_KOD</th>\n      <th>LIEK_popis</th>\n      <th>STAT_popis</th>\n      <th>VYROBCA_popis</th>\n      <th>Počet balení</th>\n      <th>Úhrada_PAC</th>\n      <th>Cena úhrada_PAC/bal</th>\n    </tr>\n  </thead>\n  <tbody>\n    <tr>\n      <th>0</th>\n      <td>N05CF02</td>\n      <td>Zolpidém</td>\n      <td>C68902</td>\n      <td>STILNOX 10 mg TBL FLM</td>\n      <td>Slovensko</td>\n      <td>sanofi-aventis Slovakia s.r.o.</td>\n      <td>442430.66</td>\n      <td>1012808.95</td>\n      <td>2.289193</td>\n    </tr>\n    <tr>\n      <th>1</th>\n      <td>N05CF02</td>\n      <td>Zolpidém</td>\n      <td>C83373</td>\n      <td>STILNOX 10 mg TBL FLM</td>\n      <td>Slovensko</td>\n      <td>sanofi-aventis Slovakia s.r.o.</td>\n      <td>423611.00</td>\n      <td>437661.24</td>\n      <td>1.033168</td>\n    </tr>\n    <tr>\n      <th>2</th>\n      <td>N05CF02</td>\n      <td>Zolpidém</td>\n      <td>C46861</td>\n      <td>HYPNOGEN tbl flm 15x10 mg</td>\n      <td>Nemecko</td>\n      <td>Takeda GmbH</td>\n      <td>248027.35</td>\n      <td>394571.60</td>\n      <td>1.590839</td>\n    </tr>\n    <tr>\n      <th>3</th>\n      <td>N05CF02</td>\n      <td>Zolpidém</td>\n      <td>C14610</td>\n      <td>SANVAL 10 mg tbl flm 20x10 mg</td>\n      <td>Slovinsko</td>\n      <td>Sandoz Pharmaceuticals d.d.</td>\n      <td>177540.10</td>\n      <td>184548.25</td>\n      <td>1.039474</td>\n    </tr>\n    <tr>\n      <th>4</th>\n      <td>N05CF02</td>\n      <td>Zolpidém</td>\n      <td>C92955</td>\n      <td>ZOLPIDEM MERCK 10 mg tbl flm 20x10 mg</td>\n      <td>ĺrsko</td>\n      <td>Mylan Ireland Limited</td>\n      <td>97213.24</td>\n      <td>154214.22</td>\n      <td>1.586350</td>\n    </tr>\n  </tbody>\n</table>\n</div>"
     },
     "metadata": {}
    },
    {
     "output_type": "display_data",
     "data": {
      "text/plain": "  ATC7_KOD     ATC7_popis LIEK_KOD  \\\n0  R01AA07  Xylometazolín   C76962   \n1  R01AA07  Xylometazolín   C36097   \n2  R01AA07  Xylometazolín   C2872A   \n3  R01AA07  Xylometazolín   C68978   \n4  R01AA07  Xylometazolín   C36096   \n\n                                          LIEK_popis STAT_popis  \\\n0                    OLYNTH 0,1 % aer nao 10 ml 0,1%      ĺrsko   \n1                    OLYNTH HA 0,1 % aer nao 1x10 ml      ĺrsko   \n2  Otrivin Menthol 0,1% aer nao 1x10 ml (fľ.HDPE ...      Česko   \n3        mar rhino 0,1% nosový sprej aer nao 1x15 ml    Nemecko   \n4                   OLYNTH HA 0,05 % aer nao 1x10 ml      ĺrsko   \n\n                                       VYROBCA_popis  Počet balení  \\\n0                McNeil Healthcare (Ireland) Limited      553939.0   \n1                McNeil Healthcare (Ireland) Limited      456407.0   \n2  GlaxoSmithKline Consumer Healthcare Czech Repu...      133135.0   \n3                              STADA Arzneimittel AG       90071.0   \n4                McNeil Healthcare (Ireland) Limited       72639.0   \n\n   Úhrada_PAC  Cena úhrada_PAC/bal  \n0  2079755.78             3.754485  \n1  2190324.28             4.799059  \n2   681134.20             5.116117  \n3   339016.91             3.763885  \n4   350843.34             4.829958  ",
      "text/html": "<div>\n<style scoped>\n    .dataframe tbody tr th:only-of-type {\n        vertical-align: middle;\n    }\n\n    .dataframe tbody tr th {\n        vertical-align: top;\n    }\n\n    .dataframe thead th {\n        text-align: right;\n    }\n</style>\n<table border=\"1\" class=\"dataframe\">\n  <thead>\n    <tr style=\"text-align: right;\">\n      <th></th>\n      <th>ATC7_KOD</th>\n      <th>ATC7_popis</th>\n      <th>LIEK_KOD</th>\n      <th>LIEK_popis</th>\n      <th>STAT_popis</th>\n      <th>VYROBCA_popis</th>\n      <th>Počet balení</th>\n      <th>Úhrada_PAC</th>\n      <th>Cena úhrada_PAC/bal</th>\n    </tr>\n  </thead>\n  <tbody>\n    <tr>\n      <th>0</th>\n      <td>R01AA07</td>\n      <td>Xylometazolín</td>\n      <td>C76962</td>\n      <td>OLYNTH 0,1 % aer nao 10 ml 0,1%</td>\n      <td>ĺrsko</td>\n      <td>McNeil Healthcare (Ireland) Limited</td>\n      <td>553939.0</td>\n      <td>2079755.78</td>\n      <td>3.754485</td>\n    </tr>\n    <tr>\n      <th>1</th>\n      <td>R01AA07</td>\n      <td>Xylometazolín</td>\n      <td>C36097</td>\n      <td>OLYNTH HA 0,1 % aer nao 1x10 ml</td>\n      <td>ĺrsko</td>\n      <td>McNeil Healthcare (Ireland) Limited</td>\n      <td>456407.0</td>\n      <td>2190324.28</td>\n      <td>4.799059</td>\n    </tr>\n    <tr>\n      <th>2</th>\n      <td>R01AA07</td>\n      <td>Xylometazolín</td>\n      <td>C2872A</td>\n      <td>Otrivin Menthol 0,1% aer nao 1x10 ml (fľ.HDPE ...</td>\n      <td>Česko</td>\n      <td>GlaxoSmithKline Consumer Healthcare Czech Repu...</td>\n      <td>133135.0</td>\n      <td>681134.20</td>\n      <td>5.116117</td>\n    </tr>\n    <tr>\n      <th>3</th>\n      <td>R01AA07</td>\n      <td>Xylometazolín</td>\n      <td>C68978</td>\n      <td>mar rhino 0,1% nosový sprej aer nao 1x15 ml</td>\n      <td>Nemecko</td>\n      <td>STADA Arzneimittel AG</td>\n      <td>90071.0</td>\n      <td>339016.91</td>\n      <td>3.763885</td>\n    </tr>\n    <tr>\n      <th>4</th>\n      <td>R01AA07</td>\n      <td>Xylometazolín</td>\n      <td>C36096</td>\n      <td>OLYNTH HA 0,05 % aer nao 1x10 ml</td>\n      <td>ĺrsko</td>\n      <td>McNeil Healthcare (Ireland) Limited</td>\n      <td>72639.0</td>\n      <td>350843.34</td>\n      <td>4.829958</td>\n    </tr>\n  </tbody>\n</table>\n</div>"
     },
     "metadata": {}
    },
    {
     "output_type": "display_data",
     "data": {
      "text/plain": "  ATC7_KOD                   ATC7_popis LIEK_KOD  \\\n0  R02AA20  Rôzne iné krčné antiseptiká   C26747   \n1  R02AA20  Rôzne iné krčné antiseptiká   C62547   \n2  R02AA20  Rôzne iné krčné antiseptiká   C67008   \n3  R02AA20  Rôzne iné krčné antiseptiká   C96521   \n4  R02AA20  Rôzne iné krčné antiseptiká   C44219   \n\n                          LIEK_popis STAT_popis  \\\n0             Dorithricin pas ord 20    Nemecko   \n1  STREPSILS Med a Citrón pas ord 24      Česko   \n2     NEO-ANGIN bez cukru pas ord 24    Nemecko   \n3               SEPTISAN tbl 20x5 mg  Slovensko   \n4        STREPSILS PLUS pas ora 1x24      Česko   \n\n                                       VYROBCA_popis  Počet balení  \\\n0                        Medice Pharma GmbH & Co. KG    653423.650   \n1  Reckitt Benckiser (Czech Republic), spol. s r.o.     149267.740   \n2                                    Divapharma GmbH     94564.240   \n3                     sanofi-aventis Slovakia s.r.o.     90881.000   \n4  Reckitt Benckiser (Czech Republic), spol. s r.o.      76438.189   \n\n   Úhrada_PAC  Cena úhrada_PAC/bal  \n0  4647661.34             7.112784  \n1   944644.61             6.328525  \n2   612499.19             6.477070  \n3   301647.58             3.319149  \n4   564480.76             7.384800  ",
      "text/html": "<div>\n<style scoped>\n    .dataframe tbody tr th:only-of-type {\n        vertical-align: middle;\n    }\n\n    .dataframe tbody tr th {\n        vertical-align: top;\n    }\n\n    .dataframe thead th {\n        text-align: right;\n    }\n</style>\n<table border=\"1\" class=\"dataframe\">\n  <thead>\n    <tr style=\"text-align: right;\">\n      <th></th>\n      <th>ATC7_KOD</th>\n      <th>ATC7_popis</th>\n      <th>LIEK_KOD</th>\n      <th>LIEK_popis</th>\n      <th>STAT_popis</th>\n      <th>VYROBCA_popis</th>\n      <th>Počet balení</th>\n      <th>Úhrada_PAC</th>\n      <th>Cena úhrada_PAC/bal</th>\n    </tr>\n  </thead>\n  <tbody>\n    <tr>\n      <th>0</th>\n      <td>R02AA20</td>\n      <td>Rôzne iné krčné antiseptiká</td>\n      <td>C26747</td>\n      <td>Dorithricin pas ord 20</td>\n      <td>Nemecko</td>\n      <td>Medice Pharma GmbH &amp; Co. KG</td>\n      <td>653423.650</td>\n      <td>4647661.34</td>\n      <td>7.112784</td>\n    </tr>\n    <tr>\n      <th>1</th>\n      <td>R02AA20</td>\n      <td>Rôzne iné krčné antiseptiká</td>\n      <td>C62547</td>\n      <td>STREPSILS Med a Citrón pas ord 24</td>\n      <td>Česko</td>\n      <td>Reckitt Benckiser (Czech Republic), spol. s r.o.</td>\n      <td>149267.740</td>\n      <td>944644.61</td>\n      <td>6.328525</td>\n    </tr>\n    <tr>\n      <th>2</th>\n      <td>R02AA20</td>\n      <td>Rôzne iné krčné antiseptiká</td>\n      <td>C67008</td>\n      <td>NEO-ANGIN bez cukru pas ord 24</td>\n      <td>Nemecko</td>\n      <td>Divapharma GmbH</td>\n      <td>94564.240</td>\n      <td>612499.19</td>\n      <td>6.477070</td>\n    </tr>\n    <tr>\n      <th>3</th>\n      <td>R02AA20</td>\n      <td>Rôzne iné krčné antiseptiká</td>\n      <td>C96521</td>\n      <td>SEPTISAN tbl 20x5 mg</td>\n      <td>Slovensko</td>\n      <td>sanofi-aventis Slovakia s.r.o.</td>\n      <td>90881.000</td>\n      <td>301647.58</td>\n      <td>3.319149</td>\n    </tr>\n    <tr>\n      <th>4</th>\n      <td>R02AA20</td>\n      <td>Rôzne iné krčné antiseptiká</td>\n      <td>C44219</td>\n      <td>STREPSILS PLUS pas ora 1x24</td>\n      <td>Česko</td>\n      <td>Reckitt Benckiser (Czech Republic), spol. s r.o.</td>\n      <td>76438.189</td>\n      <td>564480.76</td>\n      <td>7.384800</td>\n    </tr>\n  </tbody>\n</table>\n</div>"
     },
     "metadata": {}
    },
    {
     "output_type": "display_data",
     "data": {
      "text/plain": "  ATC7_KOD                                  ATC7_popis LIEK_KOD  \\\n0  N02BE51  Paracetamol, kombinácie okrem psycholeptík   C65951   \n1  N02BE51  Paracetamol, kombinácie okrem psycholeptík   C30229   \n2  N02BE51  Paracetamol, kombinácie okrem psycholeptík   C33813   \n3  N02BE51  Paracetamol, kombinácie okrem psycholeptík   C36516   \n4  N02BE51  Paracetamol, kombinácie okrem psycholeptík   C0381A   \n\n                                          LIEK_popis STAT_popis  \\\n0  TheraFlu prechladnutie a chrípka plo por 1x14 ...      Česko   \n1                            PARALEN PLUS tbl flm 24  Slovensko   \n2  THERAFLU PRECHLADNUTIE A CHRÍPKA plo por 1x10 ...      Česko   \n3             PARALEN HOT DRINK plu por 1x12 vreciek  Slovensko   \n4  PARALEN GRIP chrípka a bolesť tbl flm 1x24 (bl...  Slovensko   \n\n                                       VYROBCA_popis  Počet balení  \\\n0  GlaxoSmithKline Consumer Healthcare Czech Repu...    422718.171   \n1                     sanofi-aventis Slovakia s.r.o.    100459.030   \n2  GlaxoSmithKline Consumer Healthcare Czech Repu...     81452.991   \n3                     sanofi-aventis Slovakia s.r.o.     65515.562   \n4                     sanofi-aventis Slovakia s.r.o.     61588.890   \n\n   Úhrada_PAC  Cena úhrada_PAC/bal  \n0  3954421.86             9.354748  \n1   589486.22             5.867927  \n2   671984.16             8.249963  \n3   481851.44             7.354763  \n4   362517.93             5.886093  ",
      "text/html": "<div>\n<style scoped>\n    .dataframe tbody tr th:only-of-type {\n        vertical-align: middle;\n    }\n\n    .dataframe tbody tr th {\n        vertical-align: top;\n    }\n\n    .dataframe thead th {\n        text-align: right;\n    }\n</style>\n<table border=\"1\" class=\"dataframe\">\n  <thead>\n    <tr style=\"text-align: right;\">\n      <th></th>\n      <th>ATC7_KOD</th>\n      <th>ATC7_popis</th>\n      <th>LIEK_KOD</th>\n      <th>LIEK_popis</th>\n      <th>STAT_popis</th>\n      <th>VYROBCA_popis</th>\n      <th>Počet balení</th>\n      <th>Úhrada_PAC</th>\n      <th>Cena úhrada_PAC/bal</th>\n    </tr>\n  </thead>\n  <tbody>\n    <tr>\n      <th>0</th>\n      <td>N02BE51</td>\n      <td>Paracetamol, kombinácie okrem psycholeptík</td>\n      <td>C65951</td>\n      <td>TheraFlu prechladnutie a chrípka plo por 1x14 ...</td>\n      <td>Česko</td>\n      <td>GlaxoSmithKline Consumer Healthcare Czech Repu...</td>\n      <td>422718.171</td>\n      <td>3954421.86</td>\n      <td>9.354748</td>\n    </tr>\n    <tr>\n      <th>1</th>\n      <td>N02BE51</td>\n      <td>Paracetamol, kombinácie okrem psycholeptík</td>\n      <td>C30229</td>\n      <td>PARALEN PLUS tbl flm 24</td>\n      <td>Slovensko</td>\n      <td>sanofi-aventis Slovakia s.r.o.</td>\n      <td>100459.030</td>\n      <td>589486.22</td>\n      <td>5.867927</td>\n    </tr>\n    <tr>\n      <th>2</th>\n      <td>N02BE51</td>\n      <td>Paracetamol, kombinácie okrem psycholeptík</td>\n      <td>C33813</td>\n      <td>THERAFLU PRECHLADNUTIE A CHRÍPKA plo por 1x10 ...</td>\n      <td>Česko</td>\n      <td>GlaxoSmithKline Consumer Healthcare Czech Repu...</td>\n      <td>81452.991</td>\n      <td>671984.16</td>\n      <td>8.249963</td>\n    </tr>\n    <tr>\n      <th>3</th>\n      <td>N02BE51</td>\n      <td>Paracetamol, kombinácie okrem psycholeptík</td>\n      <td>C36516</td>\n      <td>PARALEN HOT DRINK plu por 1x12 vreciek</td>\n      <td>Slovensko</td>\n      <td>sanofi-aventis Slovakia s.r.o.</td>\n      <td>65515.562</td>\n      <td>481851.44</td>\n      <td>7.354763</td>\n    </tr>\n    <tr>\n      <th>4</th>\n      <td>N02BE51</td>\n      <td>Paracetamol, kombinácie okrem psycholeptík</td>\n      <td>C0381A</td>\n      <td>PARALEN GRIP chrípka a bolesť tbl flm 1x24 (bl...</td>\n      <td>Slovensko</td>\n      <td>sanofi-aventis Slovakia s.r.o.</td>\n      <td>61588.890</td>\n      <td>362517.93</td>\n      <td>5.886093</td>\n    </tr>\n  </tbody>\n</table>\n</div>"
     },
     "metadata": {}
    },
    {
     "output_type": "display_data",
     "data": {
      "text/plain": "  ATC7_KOD  ATC7_popis LIEK_KOD  \\\n0  M02AA15  Diklofenak   C11849   \n1  M02AA15  Diklofenak   C11851   \n2  M02AA15  Diklofenak   C18515   \n3  M02AA15  Diklofenak   C18514   \n4  M02AA15  Diklofenak   C84453   \n\n                                          LIEK_popis STAT_popis  \\\n0  Voltaren Forte 2,32 % gél gel der 1x100 g (tub...      Česko   \n1  Voltaren Forte 2,32 % gél gel der 1x150 g (tub...      Česko   \n2                      FLECTOR EP TISSUGEL emp tdm 5  Slovensko   \n3                             FLECTOR EP gel 1x100 g  Slovensko   \n4                              DICLOBENE gel 1x100 g  Holandsko   \n\n                                       VYROBCA_popis  Počet balení  \\\n0  GlaxoSmithKline Consumer Healthcare Czech Repu...     189743.17   \n1  GlaxoSmithKline Consumer Healthcare Czech Repu...     136412.90   \n2                               IBSA Slovakia s.r.o.     136175.20   \n3                               IBSA Slovakia s.r.o.     112500.25   \n4                                          TEV-NL-4?      94815.70   \n\n   Úhrada_PAC  Cena úhrada_PAC/bal  \n0  2256703.40            11.893463  \n1  2083185.45            15.271176  \n2  1201954.19             8.826528  \n3   884399.45             7.861311  \n4   515849.66             5.440551  ",
      "text/html": "<div>\n<style scoped>\n    .dataframe tbody tr th:only-of-type {\n        vertical-align: middle;\n    }\n\n    .dataframe tbody tr th {\n        vertical-align: top;\n    }\n\n    .dataframe thead th {\n        text-align: right;\n    }\n</style>\n<table border=\"1\" class=\"dataframe\">\n  <thead>\n    <tr style=\"text-align: right;\">\n      <th></th>\n      <th>ATC7_KOD</th>\n      <th>ATC7_popis</th>\n      <th>LIEK_KOD</th>\n      <th>LIEK_popis</th>\n      <th>STAT_popis</th>\n      <th>VYROBCA_popis</th>\n      <th>Počet balení</th>\n      <th>Úhrada_PAC</th>\n      <th>Cena úhrada_PAC/bal</th>\n    </tr>\n  </thead>\n  <tbody>\n    <tr>\n      <th>0</th>\n      <td>M02AA15</td>\n      <td>Diklofenak</td>\n      <td>C11849</td>\n      <td>Voltaren Forte 2,32 % gél gel der 1x100 g (tub...</td>\n      <td>Česko</td>\n      <td>GlaxoSmithKline Consumer Healthcare Czech Repu...</td>\n      <td>189743.17</td>\n      <td>2256703.40</td>\n      <td>11.893463</td>\n    </tr>\n    <tr>\n      <th>1</th>\n      <td>M02AA15</td>\n      <td>Diklofenak</td>\n      <td>C11851</td>\n      <td>Voltaren Forte 2,32 % gél gel der 1x150 g (tub...</td>\n      <td>Česko</td>\n      <td>GlaxoSmithKline Consumer Healthcare Czech Repu...</td>\n      <td>136412.90</td>\n      <td>2083185.45</td>\n      <td>15.271176</td>\n    </tr>\n    <tr>\n      <th>2</th>\n      <td>M02AA15</td>\n      <td>Diklofenak</td>\n      <td>C18515</td>\n      <td>FLECTOR EP TISSUGEL emp tdm 5</td>\n      <td>Slovensko</td>\n      <td>IBSA Slovakia s.r.o.</td>\n      <td>136175.20</td>\n      <td>1201954.19</td>\n      <td>8.826528</td>\n    </tr>\n    <tr>\n      <th>3</th>\n      <td>M02AA15</td>\n      <td>Diklofenak</td>\n      <td>C18514</td>\n      <td>FLECTOR EP gel 1x100 g</td>\n      <td>Slovensko</td>\n      <td>IBSA Slovakia s.r.o.</td>\n      <td>112500.25</td>\n      <td>884399.45</td>\n      <td>7.861311</td>\n    </tr>\n    <tr>\n      <th>4</th>\n      <td>M02AA15</td>\n      <td>Diklofenak</td>\n      <td>C84453</td>\n      <td>DICLOBENE gel 1x100 g</td>\n      <td>Holandsko</td>\n      <td>TEV-NL-4?</td>\n      <td>94815.70</td>\n      <td>515849.66</td>\n      <td>5.440551</td>\n    </tr>\n  </tbody>\n</table>\n</div>"
     },
     "metadata": {}
    },
    {
     "output_type": "display_data",
     "data": {
      "text/plain": "  ATC7_KOD                      ATC7_popis LIEK_KOD  \\\n0  A11GA01  Kyselina askorbová (vitamín C)   C78278   \n1  A11GA01  Kyselina askorbová (vitamín C)   C78277   \n2  A11GA01  Kyselina askorbová (vitamín C)   C42420   \n3  A11GA01  Kyselina askorbová (vitamín C)   C35913   \n4  A11GA01  Kyselina askorbová (vitamín C)   C24836   \n\n                                          LIEK_popis STAT_popis  \\\n0                        CELASKON 250 tbl 100x250 mg  Slovensko   \n1                         CELASKON 250 tbl 30x250 mg  Slovensko   \n2  CELASKON 500 mg červený pomaranč tbl eff 30x50...  Slovensko   \n3             CELASKON LONG EFFECT cps pld 60x500 mg  Slovensko   \n4    ACIDUM ASCORBICUM BIOTIKA sol inj 5x5 ml/500 mg      Česko   \n\n                    VYROBCA_popis  Počet balení  Úhrada_PAC  \\\n0  sanofi-aventis Slovakia s.r.o.    396438.278  1796114.28   \n1  sanofi-aventis Slovakia s.r.o.    250880.500   389292.20   \n2  sanofi-aventis Slovakia s.r.o.    106336.777   602810.11   \n3  sanofi-aventis Slovakia s.r.o.     79906.524   654347.40   \n4                  BB Pharma a.s.     79579.400    42800.62   \n\n   Cena úhrada_PAC/bal  \n0             4.530628  \n1             1.551704  \n2             5.668877  \n3             8.188911  \n4             0.537835  ",
      "text/html": "<div>\n<style scoped>\n    .dataframe tbody tr th:only-of-type {\n        vertical-align: middle;\n    }\n\n    .dataframe tbody tr th {\n        vertical-align: top;\n    }\n\n    .dataframe thead th {\n        text-align: right;\n    }\n</style>\n<table border=\"1\" class=\"dataframe\">\n  <thead>\n    <tr style=\"text-align: right;\">\n      <th></th>\n      <th>ATC7_KOD</th>\n      <th>ATC7_popis</th>\n      <th>LIEK_KOD</th>\n      <th>LIEK_popis</th>\n      <th>STAT_popis</th>\n      <th>VYROBCA_popis</th>\n      <th>Počet balení</th>\n      <th>Úhrada_PAC</th>\n      <th>Cena úhrada_PAC/bal</th>\n    </tr>\n  </thead>\n  <tbody>\n    <tr>\n      <th>0</th>\n      <td>A11GA01</td>\n      <td>Kyselina askorbová (vitamín C)</td>\n      <td>C78278</td>\n      <td>CELASKON 250 tbl 100x250 mg</td>\n      <td>Slovensko</td>\n      <td>sanofi-aventis Slovakia s.r.o.</td>\n      <td>396438.278</td>\n      <td>1796114.28</td>\n      <td>4.530628</td>\n    </tr>\n    <tr>\n      <th>1</th>\n      <td>A11GA01</td>\n      <td>Kyselina askorbová (vitamín C)</td>\n      <td>C78277</td>\n      <td>CELASKON 250 tbl 30x250 mg</td>\n      <td>Slovensko</td>\n      <td>sanofi-aventis Slovakia s.r.o.</td>\n      <td>250880.500</td>\n      <td>389292.20</td>\n      <td>1.551704</td>\n    </tr>\n    <tr>\n      <th>2</th>\n      <td>A11GA01</td>\n      <td>Kyselina askorbová (vitamín C)</td>\n      <td>C42420</td>\n      <td>CELASKON 500 mg červený pomaranč tbl eff 30x50...</td>\n      <td>Slovensko</td>\n      <td>sanofi-aventis Slovakia s.r.o.</td>\n      <td>106336.777</td>\n      <td>602810.11</td>\n      <td>5.668877</td>\n    </tr>\n    <tr>\n      <th>3</th>\n      <td>A11GA01</td>\n      <td>Kyselina askorbová (vitamín C)</td>\n      <td>C35913</td>\n      <td>CELASKON LONG EFFECT cps pld 60x500 mg</td>\n      <td>Slovensko</td>\n      <td>sanofi-aventis Slovakia s.r.o.</td>\n      <td>79906.524</td>\n      <td>654347.40</td>\n      <td>8.188911</td>\n    </tr>\n    <tr>\n      <th>4</th>\n      <td>A11GA01</td>\n      <td>Kyselina askorbová (vitamín C)</td>\n      <td>C24836</td>\n      <td>ACIDUM ASCORBICUM BIOTIKA sol inj 5x5 ml/500 mg</td>\n      <td>Česko</td>\n      <td>BB Pharma a.s.</td>\n      <td>79579.400</td>\n      <td>42800.62</td>\n      <td>0.537835</td>\n    </tr>\n  </tbody>\n</table>\n</div>"
     },
     "metadata": {}
    },
    {
     "output_type": "display_data",
     "data": {
      "text/plain": "  ATC7_KOD   ATC7_popis LIEK_KOD  \\\n0  A02BC02  Pantoprazol   C43345   \n1  A02BC02  Pantoprazol   C43349   \n2  A02BC02  Pantoprazol   C43362   \n3  A02BC02  Pantoprazol   C43358   \n4  A02BC02  Pantoprazol   C43791   \n\n                                          LIEK_popis STAT_popis  \\\n0              Nolpaza 20 mg tbl ent 30x20 mg (bli.)  Slovinsko   \n1             Nolpaza 20 mg tbl ent 100x20 mg (bli.)  Slovinsko   \n2             Nolpaza 40 mg tbl ent 100x40 mg (bli.)  Slovinsko   \n3              Nolpaza 40 mg tbl ent 30x40 mg (bli.)  Slovinsko   \n4  Pantoprazol Sandoz 20 mg gastrorezistentné tab...  Slovinsko   \n\n                 VYROBCA_popis  Počet balení  Úhrada_PAC  Cena úhrada_PAC/bal  \n0        KRKA d.d., Novo mesto    184810.510   255770.78             1.383962  \n1        KRKA d.d., Novo mesto    144399.293   632243.24             4.378437  \n2        KRKA d.d., Novo mesto    117848.280   648739.25             5.504868  \n3        KRKA d.d., Novo mesto    107996.080   297846.23             2.757936  \n4  Sandoz Pharmaceuticals d.d.     73014.340   105977.50             1.451461  ",
      "text/html": "<div>\n<style scoped>\n    .dataframe tbody tr th:only-of-type {\n        vertical-align: middle;\n    }\n\n    .dataframe tbody tr th {\n        vertical-align: top;\n    }\n\n    .dataframe thead th {\n        text-align: right;\n    }\n</style>\n<table border=\"1\" class=\"dataframe\">\n  <thead>\n    <tr style=\"text-align: right;\">\n      <th></th>\n      <th>ATC7_KOD</th>\n      <th>ATC7_popis</th>\n      <th>LIEK_KOD</th>\n      <th>LIEK_popis</th>\n      <th>STAT_popis</th>\n      <th>VYROBCA_popis</th>\n      <th>Počet balení</th>\n      <th>Úhrada_PAC</th>\n      <th>Cena úhrada_PAC/bal</th>\n    </tr>\n  </thead>\n  <tbody>\n    <tr>\n      <th>0</th>\n      <td>A02BC02</td>\n      <td>Pantoprazol</td>\n      <td>C43345</td>\n      <td>Nolpaza 20 mg tbl ent 30x20 mg (bli.)</td>\n      <td>Slovinsko</td>\n      <td>KRKA d.d., Novo mesto</td>\n      <td>184810.510</td>\n      <td>255770.78</td>\n      <td>1.383962</td>\n    </tr>\n    <tr>\n      <th>1</th>\n      <td>A02BC02</td>\n      <td>Pantoprazol</td>\n      <td>C43349</td>\n      <td>Nolpaza 20 mg tbl ent 100x20 mg (bli.)</td>\n      <td>Slovinsko</td>\n      <td>KRKA d.d., Novo mesto</td>\n      <td>144399.293</td>\n      <td>632243.24</td>\n      <td>4.378437</td>\n    </tr>\n    <tr>\n      <th>2</th>\n      <td>A02BC02</td>\n      <td>Pantoprazol</td>\n      <td>C43362</td>\n      <td>Nolpaza 40 mg tbl ent 100x40 mg (bli.)</td>\n      <td>Slovinsko</td>\n      <td>KRKA d.d., Novo mesto</td>\n      <td>117848.280</td>\n      <td>648739.25</td>\n      <td>5.504868</td>\n    </tr>\n    <tr>\n      <th>3</th>\n      <td>A02BC02</td>\n      <td>Pantoprazol</td>\n      <td>C43358</td>\n      <td>Nolpaza 40 mg tbl ent 30x40 mg (bli.)</td>\n      <td>Slovinsko</td>\n      <td>KRKA d.d., Novo mesto</td>\n      <td>107996.080</td>\n      <td>297846.23</td>\n      <td>2.757936</td>\n    </tr>\n    <tr>\n      <th>4</th>\n      <td>A02BC02</td>\n      <td>Pantoprazol</td>\n      <td>C43791</td>\n      <td>Pantoprazol Sandoz 20 mg gastrorezistentné tab...</td>\n      <td>Slovinsko</td>\n      <td>Sandoz Pharmaceuticals d.d.</td>\n      <td>73014.340</td>\n      <td>105977.50</td>\n      <td>1.451461</td>\n    </tr>\n  </tbody>\n</table>\n</div>"
     },
     "metadata": {}
    },
    {
     "output_type": "display_data",
     "data": {
      "text/plain": "  ATC7_KOD  ATC7_popis LIEK_KOD                      LIEK_popis STAT_popis  \\\n0  R01AA09  Tramazolín   C26797  MUCONASAL PLUS sol neb 1x10 ml  Slovensko   \n\n                    VYROBCA_popis  Počet balení  Úhrada_PAC  \\\n0  sanofi-aventis Slovakia s.r.o.   1135312.849  5548815.77   \n\n   Cena úhrada_PAC/bal  \n0             4.887477  ",
      "text/html": "<div>\n<style scoped>\n    .dataframe tbody tr th:only-of-type {\n        vertical-align: middle;\n    }\n\n    .dataframe tbody tr th {\n        vertical-align: top;\n    }\n\n    .dataframe thead th {\n        text-align: right;\n    }\n</style>\n<table border=\"1\" class=\"dataframe\">\n  <thead>\n    <tr style=\"text-align: right;\">\n      <th></th>\n      <th>ATC7_KOD</th>\n      <th>ATC7_popis</th>\n      <th>LIEK_KOD</th>\n      <th>LIEK_popis</th>\n      <th>STAT_popis</th>\n      <th>VYROBCA_popis</th>\n      <th>Počet balení</th>\n      <th>Úhrada_PAC</th>\n      <th>Cena úhrada_PAC/bal</th>\n    </tr>\n  </thead>\n  <tbody>\n    <tr>\n      <th>0</th>\n      <td>R01AA09</td>\n      <td>Tramazolín</td>\n      <td>C26797</td>\n      <td>MUCONASAL PLUS sol neb 1x10 ml</td>\n      <td>Slovensko</td>\n      <td>sanofi-aventis Slovakia s.r.o.</td>\n      <td>1135312.849</td>\n      <td>5548815.77</td>\n      <td>4.887477</td>\n    </tr>\n  </tbody>\n</table>\n</div>"
     },
     "metadata": {}
    }
   ],
   "source": [
    "table = import_table('detailed', 2019)\n",
    "table2019=table.loc[:,['ATC7_KOD','ATC7_popis','LIEK_KOD','LIEK_popis', 'STAT_popis', 'VYROBCA_popis', 'Počet balení','Úhrada_PAC']]\n",
    "table2019 = table2019.query('ATC7_KOD != \"(prazdne)\"').query( 'ATC7_popis != \"neznámy\"')\n",
    "table2019sum = table2019.groupby(['ATC7_KOD','ATC7_popis','LIEK_KOD','LIEK_popis', 'STAT_popis','VYROBCA_popis']).sum()\n",
    "table2019sum['Cena úhrada_PAC/bal'] = table2019sum['Úhrada_PAC'] / table2019sum['Počet balení']\n",
    "atc7 = table2019.groupby(['ATC7_KOD', 'ATC7_popis']).sum().sort_values(by='Počet balení', ascending=False).reset_index()\n",
    "display(table2019sum)\n",
    "\n",
    "nazvy = []\n",
    "for n in atc7['ATC7_KOD']:\n",
    "    if n not in nazvy:\n",
    "        nazvy.append(n)\n",
    "\n",
    "top20tab= {}\n",
    "for i in range(20):\n",
    "    top20tab[nazvy[i]] = table2019sum.query(f'ATC7_KOD == \"{nazvy[i]}\"').sort_values(by='Počet balení', ascending= False).reset_index()\n",
    "    display(top20tab[nazvy[i]].head())"
   ]
  },
  {
   "source": [
    "## Ukazky neupravenych grafov"
   ],
   "cell_type": "markdown",
   "metadata": {}
  },
  {
   "cell_type": "code",
   "execution_count": 5,
   "metadata": {},
   "outputs": [],
   "source": [
    "for i in range(20):\n",
    "    fig = px.bar(top20tab[nazvy[i]], x=\"Počet balení\", y=\"LIEK_KOD\", color=\"STAT_popis\", title=nazvy[i], orientation='h')\n",
    "    #fig.show()"
   ]
  },
  {
   "source": [
    "# Grafy jednotlivych ucinnych latok:"
   ],
   "cell_type": "markdown",
   "metadata": {}
  },
  {
   "source": [
    "# Technecium"
   ],
   "cell_type": "markdown",
   "metadata": {}
  },
  {
   "cell_type": "code",
   "execution_count": 6,
   "metadata": {},
   "outputs": [
    {
     "output_type": "display_data",
     "data": {
      "text/plain": "                             LIEK_popis STAT_popis            VYROBCA_popis  \\\n0                        Drytec gen rnk  Holandsko       GE Healthcare B.V.   \n1  Ultra-TechneKow FM (99mTC-generátor)  Holandsko  Curium Netherlands B.V.   \n\n   Počet balení  Úhrada_PAC  Cena úhrada_PAC/bal  \n0    8626479.51         0.0                  0.0  \n1     992000.00         0.0                  0.0  ",
      "text/html": "<div>\n<style scoped>\n    .dataframe tbody tr th:only-of-type {\n        vertical-align: middle;\n    }\n\n    .dataframe tbody tr th {\n        vertical-align: top;\n    }\n\n    .dataframe thead th {\n        text-align: right;\n    }\n</style>\n<table border=\"1\" class=\"dataframe\">\n  <thead>\n    <tr style=\"text-align: right;\">\n      <th></th>\n      <th>LIEK_popis</th>\n      <th>STAT_popis</th>\n      <th>VYROBCA_popis</th>\n      <th>Počet balení</th>\n      <th>Úhrada_PAC</th>\n      <th>Cena úhrada_PAC/bal</th>\n    </tr>\n  </thead>\n  <tbody>\n    <tr>\n      <th>0</th>\n      <td>Drytec gen rnk</td>\n      <td>Holandsko</td>\n      <td>GE Healthcare B.V.</td>\n      <td>8626479.51</td>\n      <td>0.0</td>\n      <td>0.0</td>\n    </tr>\n    <tr>\n      <th>1</th>\n      <td>Ultra-TechneKow FM (99mTC-generátor)</td>\n      <td>Holandsko</td>\n      <td>Curium Netherlands B.V.</td>\n      <td>992000.00</td>\n      <td>0.0</td>\n      <td>0.0</td>\n    </tr>\n  </tbody>\n</table>\n</div>"
     },
     "metadata": {}
    },
    {
     "output_type": "stream",
     "name": "stdout",
     "text": [
      "Typ vydaju:\nvýdaj z nemocničnej lekárne pre vlastnú nemocnicu    0.692308\núhrada z verejnej poisťovne                          0.307692\nName: TYP_VYDAJ_POP, dtype: float64\n"
     ]
    }
   ],
   "source": [
    "technecium = top20tab[\"V09FX01\"]\n",
    "\n",
    "for i,popis in enumerate(technecium['LIEK_popis']):\n",
    "    if 'Drytec gen' in popis:\n",
    "        technecium.iloc[i,3] = 'Drytec gen rnk'\n",
    "    elif \"Ultra-TechneKow\" in popis:\n",
    "        technecium.iloc[i,3] = 'Ultra-TechneKow FM (99mTC-generátor)'\n",
    "\n",
    "technecium = technecium.groupby(['LIEK_popis', 'STAT_popis', 'VYROBCA_popis']).sum().reset_index()\n",
    "display(technecium)\n",
    "print(\"Typ vydaju:\")\n",
    "item_counts = table.query('ATC7_KOD == \"V09FX01\"')[\"TYP_VYDAJ_POP\"].value_counts(normalize=True)\n",
    "print(item_counts)\n"
   ]
  },
  {
   "cell_type": "code",
   "execution_count": 7,
   "metadata": {},
   "outputs": [
    {
     "output_type": "display_data",
     "data": {
      "application/vnd.plotly.v1+json": {
       "config": {
        "plotlyServerURL": "https://plot.ly"
       },
       "data": [
        {
         "alignmentgroup": "True",
         "hovertemplate": "VYROBCA_popis=GE Healthcare B.V.<br>LIEK_popis=%{x}<br>Počet balení=%{y}<extra></extra>",
         "legendgroup": "GE Healthcare B.V.",
         "marker": {
          "color": "#636efa"
         },
         "name": "GE Healthcare B.V.",
         "offsetgroup": "GE Healthcare B.V.",
         "orientation": "v",
         "showlegend": true,
         "textposition": "auto",
         "type": "bar",
         "x": [
          "Drytec gen rnk"
         ],
         "xaxis": "x",
         "y": [
          8626479.51
         ],
         "yaxis": "y"
        },
        {
         "alignmentgroup": "True",
         "hovertemplate": "VYROBCA_popis=Curium Netherlands B.V.<br>LIEK_popis=%{x}<br>Počet balení=%{y}<extra></extra>",
         "legendgroup": "Curium Netherlands B.V.",
         "marker": {
          "color": "#EF553B"
         },
         "name": "Curium Netherlands B.V.",
         "offsetgroup": "Curium Netherlands B.V.",
         "orientation": "v",
         "showlegend": true,
         "textposition": "auto",
         "type": "bar",
         "x": [
          "Ultra-TechneKow FM (99mTC-generátor)"
         ],
         "xaxis": "x",
         "y": [
          992000
         ],
         "yaxis": "y"
        }
       ],
       "layout": {
        "barmode": "relative",
        "legend": {
         "title": {
          "text": "VYROBCA_popis"
         },
         "tracegroupgap": 0
        },
        "template": {
         "data": {
          "bar": [
           {
            "error_x": {
             "color": "#2a3f5f"
            },
            "error_y": {
             "color": "#2a3f5f"
            },
            "marker": {
             "line": {
              "color": "#E5ECF6",
              "width": 0.5
             }
            },
            "type": "bar"
           }
          ],
          "barpolar": [
           {
            "marker": {
             "line": {
              "color": "#E5ECF6",
              "width": 0.5
             }
            },
            "type": "barpolar"
           }
          ],
          "carpet": [
           {
            "aaxis": {
             "endlinecolor": "#2a3f5f",
             "gridcolor": "white",
             "linecolor": "white",
             "minorgridcolor": "white",
             "startlinecolor": "#2a3f5f"
            },
            "baxis": {
             "endlinecolor": "#2a3f5f",
             "gridcolor": "white",
             "linecolor": "white",
             "minorgridcolor": "white",
             "startlinecolor": "#2a3f5f"
            },
            "type": "carpet"
           }
          ],
          "choropleth": [
           {
            "colorbar": {
             "outlinewidth": 0,
             "ticks": ""
            },
            "type": "choropleth"
           }
          ],
          "contour": [
           {
            "colorbar": {
             "outlinewidth": 0,
             "ticks": ""
            },
            "colorscale": [
             [
              0,
              "#0d0887"
             ],
             [
              0.1111111111111111,
              "#46039f"
             ],
             [
              0.2222222222222222,
              "#7201a8"
             ],
             [
              0.3333333333333333,
              "#9c179e"
             ],
             [
              0.4444444444444444,
              "#bd3786"
             ],
             [
              0.5555555555555556,
              "#d8576b"
             ],
             [
              0.6666666666666666,
              "#ed7953"
             ],
             [
              0.7777777777777778,
              "#fb9f3a"
             ],
             [
              0.8888888888888888,
              "#fdca26"
             ],
             [
              1,
              "#f0f921"
             ]
            ],
            "type": "contour"
           }
          ],
          "contourcarpet": [
           {
            "colorbar": {
             "outlinewidth": 0,
             "ticks": ""
            },
            "type": "contourcarpet"
           }
          ],
          "heatmap": [
           {
            "colorbar": {
             "outlinewidth": 0,
             "ticks": ""
            },
            "colorscale": [
             [
              0,
              "#0d0887"
             ],
             [
              0.1111111111111111,
              "#46039f"
             ],
             [
              0.2222222222222222,
              "#7201a8"
             ],
             [
              0.3333333333333333,
              "#9c179e"
             ],
             [
              0.4444444444444444,
              "#bd3786"
             ],
             [
              0.5555555555555556,
              "#d8576b"
             ],
             [
              0.6666666666666666,
              "#ed7953"
             ],
             [
              0.7777777777777778,
              "#fb9f3a"
             ],
             [
              0.8888888888888888,
              "#fdca26"
             ],
             [
              1,
              "#f0f921"
             ]
            ],
            "type": "heatmap"
           }
          ],
          "heatmapgl": [
           {
            "colorbar": {
             "outlinewidth": 0,
             "ticks": ""
            },
            "colorscale": [
             [
              0,
              "#0d0887"
             ],
             [
              0.1111111111111111,
              "#46039f"
             ],
             [
              0.2222222222222222,
              "#7201a8"
             ],
             [
              0.3333333333333333,
              "#9c179e"
             ],
             [
              0.4444444444444444,
              "#bd3786"
             ],
             [
              0.5555555555555556,
              "#d8576b"
             ],
             [
              0.6666666666666666,
              "#ed7953"
             ],
             [
              0.7777777777777778,
              "#fb9f3a"
             ],
             [
              0.8888888888888888,
              "#fdca26"
             ],
             [
              1,
              "#f0f921"
             ]
            ],
            "type": "heatmapgl"
           }
          ],
          "histogram": [
           {
            "marker": {
             "colorbar": {
              "outlinewidth": 0,
              "ticks": ""
             }
            },
            "type": "histogram"
           }
          ],
          "histogram2d": [
           {
            "colorbar": {
             "outlinewidth": 0,
             "ticks": ""
            },
            "colorscale": [
             [
              0,
              "#0d0887"
             ],
             [
              0.1111111111111111,
              "#46039f"
             ],
             [
              0.2222222222222222,
              "#7201a8"
             ],
             [
              0.3333333333333333,
              "#9c179e"
             ],
             [
              0.4444444444444444,
              "#bd3786"
             ],
             [
              0.5555555555555556,
              "#d8576b"
             ],
             [
              0.6666666666666666,
              "#ed7953"
             ],
             [
              0.7777777777777778,
              "#fb9f3a"
             ],
             [
              0.8888888888888888,
              "#fdca26"
             ],
             [
              1,
              "#f0f921"
             ]
            ],
            "type": "histogram2d"
           }
          ],
          "histogram2dcontour": [
           {
            "colorbar": {
             "outlinewidth": 0,
             "ticks": ""
            },
            "colorscale": [
             [
              0,
              "#0d0887"
             ],
             [
              0.1111111111111111,
              "#46039f"
             ],
             [
              0.2222222222222222,
              "#7201a8"
             ],
             [
              0.3333333333333333,
              "#9c179e"
             ],
             [
              0.4444444444444444,
              "#bd3786"
             ],
             [
              0.5555555555555556,
              "#d8576b"
             ],
             [
              0.6666666666666666,
              "#ed7953"
             ],
             [
              0.7777777777777778,
              "#fb9f3a"
             ],
             [
              0.8888888888888888,
              "#fdca26"
             ],
             [
              1,
              "#f0f921"
             ]
            ],
            "type": "histogram2dcontour"
           }
          ],
          "mesh3d": [
           {
            "colorbar": {
             "outlinewidth": 0,
             "ticks": ""
            },
            "type": "mesh3d"
           }
          ],
          "parcoords": [
           {
            "line": {
             "colorbar": {
              "outlinewidth": 0,
              "ticks": ""
             }
            },
            "type": "parcoords"
           }
          ],
          "pie": [
           {
            "automargin": true,
            "type": "pie"
           }
          ],
          "scatter": [
           {
            "marker": {
             "colorbar": {
              "outlinewidth": 0,
              "ticks": ""
             }
            },
            "type": "scatter"
           }
          ],
          "scatter3d": [
           {
            "line": {
             "colorbar": {
              "outlinewidth": 0,
              "ticks": ""
             }
            },
            "marker": {
             "colorbar": {
              "outlinewidth": 0,
              "ticks": ""
             }
            },
            "type": "scatter3d"
           }
          ],
          "scattercarpet": [
           {
            "marker": {
             "colorbar": {
              "outlinewidth": 0,
              "ticks": ""
             }
            },
            "type": "scattercarpet"
           }
          ],
          "scattergeo": [
           {
            "marker": {
             "colorbar": {
              "outlinewidth": 0,
              "ticks": ""
             }
            },
            "type": "scattergeo"
           }
          ],
          "scattergl": [
           {
            "marker": {
             "colorbar": {
              "outlinewidth": 0,
              "ticks": ""
             }
            },
            "type": "scattergl"
           }
          ],
          "scattermapbox": [
           {
            "marker": {
             "colorbar": {
              "outlinewidth": 0,
              "ticks": ""
             }
            },
            "type": "scattermapbox"
           }
          ],
          "scatterpolar": [
           {
            "marker": {
             "colorbar": {
              "outlinewidth": 0,
              "ticks": ""
             }
            },
            "type": "scatterpolar"
           }
          ],
          "scatterpolargl": [
           {
            "marker": {
             "colorbar": {
              "outlinewidth": 0,
              "ticks": ""
             }
            },
            "type": "scatterpolargl"
           }
          ],
          "scatterternary": [
           {
            "marker": {
             "colorbar": {
              "outlinewidth": 0,
              "ticks": ""
             }
            },
            "type": "scatterternary"
           }
          ],
          "surface": [
           {
            "colorbar": {
             "outlinewidth": 0,
             "ticks": ""
            },
            "colorscale": [
             [
              0,
              "#0d0887"
             ],
             [
              0.1111111111111111,
              "#46039f"
             ],
             [
              0.2222222222222222,
              "#7201a8"
             ],
             [
              0.3333333333333333,
              "#9c179e"
             ],
             [
              0.4444444444444444,
              "#bd3786"
             ],
             [
              0.5555555555555556,
              "#d8576b"
             ],
             [
              0.6666666666666666,
              "#ed7953"
             ],
             [
              0.7777777777777778,
              "#fb9f3a"
             ],
             [
              0.8888888888888888,
              "#fdca26"
             ],
             [
              1,
              "#f0f921"
             ]
            ],
            "type": "surface"
           }
          ],
          "table": [
           {
            "cells": {
             "fill": {
              "color": "#EBF0F8"
             },
             "line": {
              "color": "white"
             }
            },
            "header": {
             "fill": {
              "color": "#C8D4E3"
             },
             "line": {
              "color": "white"
             }
            },
            "type": "table"
           }
          ]
         },
         "layout": {
          "annotationdefaults": {
           "arrowcolor": "#2a3f5f",
           "arrowhead": 0,
           "arrowwidth": 1
          },
          "autotypenumbers": "strict",
          "coloraxis": {
           "colorbar": {
            "outlinewidth": 0,
            "ticks": ""
           }
          },
          "colorscale": {
           "diverging": [
            [
             0,
             "#8e0152"
            ],
            [
             0.1,
             "#c51b7d"
            ],
            [
             0.2,
             "#de77ae"
            ],
            [
             0.3,
             "#f1b6da"
            ],
            [
             0.4,
             "#fde0ef"
            ],
            [
             0.5,
             "#f7f7f7"
            ],
            [
             0.6,
             "#e6f5d0"
            ],
            [
             0.7,
             "#b8e186"
            ],
            [
             0.8,
             "#7fbc41"
            ],
            [
             0.9,
             "#4d9221"
            ],
            [
             1,
             "#276419"
            ]
           ],
           "sequential": [
            [
             0,
             "#0d0887"
            ],
            [
             0.1111111111111111,
             "#46039f"
            ],
            [
             0.2222222222222222,
             "#7201a8"
            ],
            [
             0.3333333333333333,
             "#9c179e"
            ],
            [
             0.4444444444444444,
             "#bd3786"
            ],
            [
             0.5555555555555556,
             "#d8576b"
            ],
            [
             0.6666666666666666,
             "#ed7953"
            ],
            [
             0.7777777777777778,
             "#fb9f3a"
            ],
            [
             0.8888888888888888,
             "#fdca26"
            ],
            [
             1,
             "#f0f921"
            ]
           ],
           "sequentialminus": [
            [
             0,
             "#0d0887"
            ],
            [
             0.1111111111111111,
             "#46039f"
            ],
            [
             0.2222222222222222,
             "#7201a8"
            ],
            [
             0.3333333333333333,
             "#9c179e"
            ],
            [
             0.4444444444444444,
             "#bd3786"
            ],
            [
             0.5555555555555556,
             "#d8576b"
            ],
            [
             0.6666666666666666,
             "#ed7953"
            ],
            [
             0.7777777777777778,
             "#fb9f3a"
            ],
            [
             0.8888888888888888,
             "#fdca26"
            ],
            [
             1,
             "#f0f921"
            ]
           ]
          },
          "colorway": [
           "#636efa",
           "#EF553B",
           "#00cc96",
           "#ab63fa",
           "#FFA15A",
           "#19d3f3",
           "#FF6692",
           "#B6E880",
           "#FF97FF",
           "#FECB52"
          ],
          "font": {
           "color": "#2a3f5f"
          },
          "geo": {
           "bgcolor": "white",
           "lakecolor": "white",
           "landcolor": "#E5ECF6",
           "showlakes": true,
           "showland": true,
           "subunitcolor": "white"
          },
          "hoverlabel": {
           "align": "left"
          },
          "hovermode": "closest",
          "mapbox": {
           "style": "light"
          },
          "paper_bgcolor": "white",
          "plot_bgcolor": "#E5ECF6",
          "polar": {
           "angularaxis": {
            "gridcolor": "white",
            "linecolor": "white",
            "ticks": ""
           },
           "bgcolor": "#E5ECF6",
           "radialaxis": {
            "gridcolor": "white",
            "linecolor": "white",
            "ticks": ""
           }
          },
          "scene": {
           "xaxis": {
            "backgroundcolor": "#E5ECF6",
            "gridcolor": "white",
            "gridwidth": 2,
            "linecolor": "white",
            "showbackground": true,
            "ticks": "",
            "zerolinecolor": "white"
           },
           "yaxis": {
            "backgroundcolor": "#E5ECF6",
            "gridcolor": "white",
            "gridwidth": 2,
            "linecolor": "white",
            "showbackground": true,
            "ticks": "",
            "zerolinecolor": "white"
           },
           "zaxis": {
            "backgroundcolor": "#E5ECF6",
            "gridcolor": "white",
            "gridwidth": 2,
            "linecolor": "white",
            "showbackground": true,
            "ticks": "",
            "zerolinecolor": "white"
           }
          },
          "shapedefaults": {
           "line": {
            "color": "#2a3f5f"
           }
          },
          "ternary": {
           "aaxis": {
            "gridcolor": "white",
            "linecolor": "white",
            "ticks": ""
           },
           "baxis": {
            "gridcolor": "white",
            "linecolor": "white",
            "ticks": ""
           },
           "bgcolor": "#E5ECF6",
           "caxis": {
            "gridcolor": "white",
            "linecolor": "white",
            "ticks": ""
           }
          },
          "title": {
           "x": 0.05
          },
          "xaxis": {
           "automargin": true,
           "gridcolor": "white",
           "linecolor": "white",
           "ticks": "",
           "title": {
            "standoff": 15
           },
           "zerolinecolor": "white",
           "zerolinewidth": 2
          },
          "yaxis": {
           "automargin": true,
           "gridcolor": "white",
           "linecolor": "white",
           "ticks": "",
           "title": {
            "standoff": 15
           },
           "zerolinecolor": "white",
           "zerolinewidth": 2
          }
         }
        },
        "title": {
         "text": "Technecium"
        },
        "xaxis": {
         "anchor": "y",
         "domain": [
          0,
          1
         ],
         "title": {
          "text": "LIEK_popis"
         }
        },
        "yaxis": {
         "anchor": "x",
         "domain": [
          0,
          1
         ],
         "title": {
          "text": "Počet balení"
         }
        }
       }
      }
     },
     "metadata": {}
    }
   ],
   "source": [
    "fig = px.bar(technecium, x='LIEK_popis', y='Počet balení', color='VYROBCA_popis', title='Technecium')\n",
    "fig.show()"
   ]
  },
  {
   "source": [
    " Na vizualizaciu ucinnej latky technecium nam bolo najvyhodnejsie pouzit barplot. \n",
    " Nakolko sa jedna o diagnosticke radiofarmaka, podla vypisu Series vidime ze tieto lieky boli poskytovane nemocnicou alebo ich\n",
    " pacientom hradila zdravotna poistovna. V oboch pripadoch pacient neplatil nic, a tak udaje o cene nemame ako zakomponovat. "
   ],
   "cell_type": "markdown",
   "metadata": {}
  },
  {
   "source": [
    "# Elektrolyty: ZLE treba prerobit"
   ],
   "cell_type": "markdown",
   "metadata": {}
  },
  {
   "cell_type": "code",
   "execution_count": 14,
   "metadata": {},
   "outputs": [
    {
     "output_type": "error",
     "ename": "SyntaxError",
     "evalue": "invalid syntax (<unknown>, line 1)",
     "traceback": [
      "Traceback \u001b[1;36m(most recent call last)\u001b[0m:\n",
      "  File \u001b[0;32m\"C:\\Users\\rados\\AppData\\Local\\Packages\\PythonSoftwareFoundation.Python.3.8_qbz5n2kfra8p0\\LocalCache\\local-packages\\Python38\\site-packages\\IPython\\core\\interactiveshell.py\"\u001b[0m, line \u001b[0;32m3437\u001b[0m, in \u001b[0;35mrun_code\u001b[0m\n    exec(code_obj, self.user_global_ns, self.user_ns)\n",
      "  File \u001b[0;32m\"<ipython-input-14-1f62e4d25449>\"\u001b[0m, line \u001b[0;32m31\u001b[0m, in \u001b[0;35m<module>\u001b[0m\n    elektrolyty = elektrolyty.groupby(['LIEK_KOD','LIEK_popis', 'STAT_popis', 'VYROBCA_popis']).sum().reset_index().query('Počet balení > 80000')\n",
      "  File \u001b[0;32m\"C:\\Users\\rados\\AppData\\Local\\Packages\\PythonSoftwareFoundation.Python.3.8_qbz5n2kfra8p0\\LocalCache\\local-packages\\Python38\\site-packages\\pandas\\core\\frame.py\"\u001b[0m, line \u001b[0;32m3469\u001b[0m, in \u001b[0;35mquery\u001b[0m\n    res = self.eval(expr, **kwargs)\n",
      "  File \u001b[0;32m\"C:\\Users\\rados\\AppData\\Local\\Packages\\PythonSoftwareFoundation.Python.3.8_qbz5n2kfra8p0\\LocalCache\\local-packages\\Python38\\site-packages\\pandas\\core\\frame.py\"\u001b[0m, line \u001b[0;32m3599\u001b[0m, in \u001b[0;35meval\u001b[0m\n    return _eval(expr, inplace=inplace, **kwargs)\n",
      "  File \u001b[0;32m\"C:\\Users\\rados\\AppData\\Local\\Packages\\PythonSoftwareFoundation.Python.3.8_qbz5n2kfra8p0\\LocalCache\\local-packages\\Python38\\site-packages\\pandas\\core\\computation\\eval.py\"\u001b[0m, line \u001b[0;32m342\u001b[0m, in \u001b[0;35meval\u001b[0m\n    parsed_expr = Expr(expr, engine=engine, parser=parser, env=env)\n",
      "  File \u001b[0;32m\"C:\\Users\\rados\\AppData\\Local\\Packages\\PythonSoftwareFoundation.Python.3.8_qbz5n2kfra8p0\\LocalCache\\local-packages\\Python38\\site-packages\\pandas\\core\\computation\\expr.py\"\u001b[0m, line \u001b[0;32m798\u001b[0m, in \u001b[0;35m__init__\u001b[0m\n    self.terms = self.parse()\n",
      "  File \u001b[0;32m\"C:\\Users\\rados\\AppData\\Local\\Packages\\PythonSoftwareFoundation.Python.3.8_qbz5n2kfra8p0\\LocalCache\\local-packages\\Python38\\site-packages\\pandas\\core\\computation\\expr.py\"\u001b[0m, line \u001b[0;32m817\u001b[0m, in \u001b[0;35mparse\u001b[0m\n    return self._visitor.visit(self.expr)\n",
      "  File \u001b[0;32m\"C:\\Users\\rados\\AppData\\Local\\Packages\\PythonSoftwareFoundation.Python.3.8_qbz5n2kfra8p0\\LocalCache\\local-packages\\Python38\\site-packages\\pandas\\core\\computation\\expr.py\"\u001b[0m, line \u001b[0;32m397\u001b[0m, in \u001b[0;35mvisit\u001b[0m\n    raise e\n",
      "  File \u001b[0;32m\"C:\\Users\\rados\\AppData\\Local\\Packages\\PythonSoftwareFoundation.Python.3.8_qbz5n2kfra8p0\\LocalCache\\local-packages\\Python38\\site-packages\\pandas\\core\\computation\\expr.py\"\u001b[0m, line \u001b[0;32m393\u001b[0m, in \u001b[0;35mvisit\u001b[0m\n    node = ast.fix_missing_locations(ast.parse(clean))\n",
      "\u001b[1;36m  File \u001b[1;32m\"C:\\Program Files\\WindowsApps\\PythonSoftwareFoundation.Python.3.8_3.8.2544.0_x64__qbz5n2kfra8p0\\lib\\ast.py\"\u001b[1;36m, line \u001b[1;32m47\u001b[1;36m, in \u001b[1;35mparse\u001b[1;36m\u001b[0m\n\u001b[1;33m    return compile(source, filename, mode, flags,\u001b[0m\n",
      "\u001b[1;36m  File \u001b[1;32m\"<unknown>\"\u001b[1;36m, line \u001b[1;32m1\u001b[0m\n\u001b[1;33m    Počet balení >80000\u001b[0m\n\u001b[1;37m          ^\u001b[0m\n\u001b[1;31mSyntaxError\u001b[0m\u001b[1;31m:\u001b[0m invalid syntax\n"
     ]
    }
   ],
   "source": [
    "elektrolyty = top20tab[\"B05BB01\"].head(30)\n",
    "'''\n",
    "for i,popis in enumerate(elektrolyty['LIEK_popis']):\n",
    "    if '0,9% SODIUM CHL.IN' in popis or '0,9% SODIUM ChL.IN' in popis:\n",
    "        elektrolyty.iloc[i,3] = '0,9% SODIUM CHL.IN W.F.I.FRESENIUS sol inf'\n",
    "    elif \"SODIUM CHLORIDE 0,9%W/V I.V. INF\" in popis:\n",
    "        elektrolyty.iloc[i,3] = 'SODIUM CHLORIDE 0,9%W/V I.V. INF'\n",
    "    elif \"0,9% W/V SODIUM CHLORIDE I.V.\" in popis:\n",
    "        elektrolyty.iloc[i,3] = '0,9% W/V SODIUM CHLORIDE I.V.'\n",
    "    elif \"PLASMALYTE sol inf\" in popis:\n",
    "        elektrolyty.iloc[i,3] = 'PLASMALYTE sol inf'\n",
    "    elif \"INFUSIO NATRII CHLORATI ISOTONICA IMUNA sol inf\" in popis:\n",
    "        elektrolyty.iloc[i,3] = 'INFUSIO NATRII CHLORATI ISOTONICA IMUNA sol inf'\n",
    "    elif \"RINGER'S INJECTION 'FRESENIUS' sol inf\" in popis:\n",
    "        elektrolyty.iloc[i,3] = \"RINGER'S INJECTION 'FRESENIUS' sol inf\"\n",
    "    elif \"HARTMANN'S SOLUTION BP FRESENIUS\" in popis:\n",
    "        elektrolyty.iloc[i,3] = \"HARTMANN'S SOLUTION BP FRESENIUS sol inf\"\n",
    "    elif 'Chlorid sodný 0,9 % IMUNA ENVIBAG sol inf' in popis:\n",
    "        elektrolyty.iloc[i,3] = 'Chlorid sodný 0,9 % IMUNA ENVIBAG sol inf'\n",
    "    elif 'Isolyte sol inf' in popis:\n",
    "        elektrolyty.iloc[i,3] = 'Isolyte sol inf'\n",
    "    elif 'RINGEROV ROZTOK BAXTER-VIAFLO sol inf' in popis:\n",
    "        elektrolyty.iloc[i,3] = 'RINGEROV ROZTOK BAXTER-VIAFLO sol inf'\n",
    "    elif \"SOLUTION BP\" in popis:\n",
    "        elektrolyty.iloc[i,3] = \"HARTMANN'S SOLUTION BP Fresenius\"\n",
    "    elif \"RINGER'S INJECTION 'FRESENIUS' sol inf\" in popis:\n",
    "        elektrolyty.iloc[i,3] = \"RINGER'S INJECTION 'FRESENIUS' sol inf\"\n",
    "    elif 'INJECTION FRESENIUS\"\"\"\"\"' in popis:\n",
    "        elektrolyty.iloc[i,3] = \"RINGER'S INJECTION 'FRESENIUS' sol inf\"\n",
    "'''       \n",
    "elektrolyty = elektrolyty.groupby(['LIEK_KOD','LIEK_popis', 'STAT_popis', 'VYROBCA_popis']).sum().reset_index().query('Počet balení > 80000')\n",
    "display(elektrolyty.sort_values(by='LIEK_popis'))\n",
    "fig = px.scatter(elektrolyty, x='LIEK_KOD', y='Počet balení', size='Cena úhrada_PAC/bal', color='STAT_popis', title='Elektrolyty')\n",
    "fig.show()\n"
   ]
  },
  {
   "source": [
    "# Paracetamol"
   ],
   "cell_type": "markdown",
   "metadata": {}
  },
  {
   "cell_type": "code",
   "execution_count": 9,
   "metadata": {},
   "outputs": [
    {
     "output_type": "stream",
     "name": "stdout",
     "text": [
      "Typ vydaju:\npredané z verejnej lekárne bez receptu občanom (voľnopredajné lieky)    0.304054\nvýdaj z verejnej lekárne  na recept bez úhrady z verejného poistenia    0.209459\nvýdaj z nemocničnej lekárne pre vlastnú nemocnicu                       0.162162\nvýdaj z verejnej lekárne na faktúru do neštátnych ambulancií            0.162162\nvýdaj z verejnej lekárne na žiadanku nemocniciam                        0.141892\nvýdaj z nemocničnej lekárne pre zmluvnú nemocnicu                       0.013514\núhrada z verejnej poisťovne                                             0.006757\nName: TYP_VYDAJ_POP, dtype: float64\n"
     ]
    },
    {
     "output_type": "display_data",
     "data": {
      "text/plain": "                    LIEK_popis  STAT_popis  \\\n0                MEDIPYRIN tbl       Česko   \n1                 PANADOL BABY       Česko   \n2      PANADOL BABY (+odmerka)       Česko   \n3   PANADOL BABY (+striekačka)  Francúzsko   \n4               PANADOL JUNIOR       Česko   \n5             PANADOL PRE DETI       Česko   \n6                  PANADOL tbl       Česko   \n7                PARALEN nápoj   Slovensko   \n8                  PARALEN sup   Slovensko   \n9                  PARALEN sus   Slovensko   \n10                 PARALEN tbl   Slovensko   \n11           Panadol Novum tbl       Česko   \n12   Panadol Paracetamolum tbl       Česko   \n13        Paracetamol B. Braun     Nemecko   \n14            Paracetamol Kabi       Česko   \n15         Paracetamol Kappler     Nemecko   \n16      Paracetamol Vitabalans      Fínsko   \n\n                                        VYROBCA_popis  Počet balení  \\\n0                     Glenmark Pharmaceuticals s.r.o.     21920.890   \n1   GlaxoSmithKline Consumer Healthcare Czech Repu...     50394.000   \n2   GlaxoSmithKline Consumer Healthcare Czech Repu...       839.000   \n3               SmithKline Beecham Liquides Industrie       285.000   \n4   GlaxoSmithKline Consumer Healthcare Czech Repu...     30460.500   \n5   GlaxoSmithKline Consumer Healthcare Czech Repu...     37895.000   \n6   GlaxoSmithKline Consumer Healthcare Czech Repu...       553.000   \n7                      sanofi-aventis Slovakia s.r.o.       482.170   \n8                      sanofi-aventis Slovakia s.r.o.    161406.210   \n9                      sanofi-aventis Slovakia s.r.o.     74950.000   \n10                     sanofi-aventis Slovakia s.r.o.   2683311.142   \n11  GlaxoSmithKline Consumer Healthcare Czech Repu...     77893.815   \n12  GlaxoSmithKline Consumer Healthcare Czech Repu...    114351.250   \n13                               B.Braun Melsungen AG       900.500   \n14                              Fresenius Kabi s.r.o.     34926.290   \n15                              STADA Arzneimittel AG       663.330   \n16                                      Vitabalans Oy      5493.010   \n\n    Úhrada_PAC  Cena úhrada_PAC/bal  \n0     36758.59             4.625888  \n1    100522.52             1.994732  \n2      2862.69             3.412026  \n3      1012.17             3.551474  \n4     77105.53             2.531328  \n5    140531.82             7.440675  \n6       942.77             2.667794  \n7      1673.49             3.470747  \n8    153352.77             2.482846  \n9    270530.14             3.609475  \n10  4190200.04             4.696865  \n11   159034.24             4.577657  \n12   195206.01             3.312091  \n13       55.58             0.126256  \n14    15860.05             0.724771  \n15     3072.16             4.631420  \n16      633.44             0.622655  ",
      "text/html": "<div>\n<style scoped>\n    .dataframe tbody tr th:only-of-type {\n        vertical-align: middle;\n    }\n\n    .dataframe tbody tr th {\n        vertical-align: top;\n    }\n\n    .dataframe thead th {\n        text-align: right;\n    }\n</style>\n<table border=\"1\" class=\"dataframe\">\n  <thead>\n    <tr style=\"text-align: right;\">\n      <th></th>\n      <th>LIEK_popis</th>\n      <th>STAT_popis</th>\n      <th>VYROBCA_popis</th>\n      <th>Počet balení</th>\n      <th>Úhrada_PAC</th>\n      <th>Cena úhrada_PAC/bal</th>\n    </tr>\n  </thead>\n  <tbody>\n    <tr>\n      <th>0</th>\n      <td>MEDIPYRIN tbl</td>\n      <td>Česko</td>\n      <td>Glenmark Pharmaceuticals s.r.o.</td>\n      <td>21920.890</td>\n      <td>36758.59</td>\n      <td>4.625888</td>\n    </tr>\n    <tr>\n      <th>1</th>\n      <td>PANADOL BABY</td>\n      <td>Česko</td>\n      <td>GlaxoSmithKline Consumer Healthcare Czech Repu...</td>\n      <td>50394.000</td>\n      <td>100522.52</td>\n      <td>1.994732</td>\n    </tr>\n    <tr>\n      <th>2</th>\n      <td>PANADOL BABY (+odmerka)</td>\n      <td>Česko</td>\n      <td>GlaxoSmithKline Consumer Healthcare Czech Repu...</td>\n      <td>839.000</td>\n      <td>2862.69</td>\n      <td>3.412026</td>\n    </tr>\n    <tr>\n      <th>3</th>\n      <td>PANADOL BABY (+striekačka)</td>\n      <td>Francúzsko</td>\n      <td>SmithKline Beecham Liquides Industrie</td>\n      <td>285.000</td>\n      <td>1012.17</td>\n      <td>3.551474</td>\n    </tr>\n    <tr>\n      <th>4</th>\n      <td>PANADOL JUNIOR</td>\n      <td>Česko</td>\n      <td>GlaxoSmithKline Consumer Healthcare Czech Repu...</td>\n      <td>30460.500</td>\n      <td>77105.53</td>\n      <td>2.531328</td>\n    </tr>\n    <tr>\n      <th>5</th>\n      <td>PANADOL PRE DETI</td>\n      <td>Česko</td>\n      <td>GlaxoSmithKline Consumer Healthcare Czech Repu...</td>\n      <td>37895.000</td>\n      <td>140531.82</td>\n      <td>7.440675</td>\n    </tr>\n    <tr>\n      <th>6</th>\n      <td>PANADOL tbl</td>\n      <td>Česko</td>\n      <td>GlaxoSmithKline Consumer Healthcare Czech Repu...</td>\n      <td>553.000</td>\n      <td>942.77</td>\n      <td>2.667794</td>\n    </tr>\n    <tr>\n      <th>7</th>\n      <td>PARALEN nápoj</td>\n      <td>Slovensko</td>\n      <td>sanofi-aventis Slovakia s.r.o.</td>\n      <td>482.170</td>\n      <td>1673.49</td>\n      <td>3.470747</td>\n    </tr>\n    <tr>\n      <th>8</th>\n      <td>PARALEN sup</td>\n      <td>Slovensko</td>\n      <td>sanofi-aventis Slovakia s.r.o.</td>\n      <td>161406.210</td>\n      <td>153352.77</td>\n      <td>2.482846</td>\n    </tr>\n    <tr>\n      <th>9</th>\n      <td>PARALEN sus</td>\n      <td>Slovensko</td>\n      <td>sanofi-aventis Slovakia s.r.o.</td>\n      <td>74950.000</td>\n      <td>270530.14</td>\n      <td>3.609475</td>\n    </tr>\n    <tr>\n      <th>10</th>\n      <td>PARALEN tbl</td>\n      <td>Slovensko</td>\n      <td>sanofi-aventis Slovakia s.r.o.</td>\n      <td>2683311.142</td>\n      <td>4190200.04</td>\n      <td>4.696865</td>\n    </tr>\n    <tr>\n      <th>11</th>\n      <td>Panadol Novum tbl</td>\n      <td>Česko</td>\n      <td>GlaxoSmithKline Consumer Healthcare Czech Repu...</td>\n      <td>77893.815</td>\n      <td>159034.24</td>\n      <td>4.577657</td>\n    </tr>\n    <tr>\n      <th>12</th>\n      <td>Panadol Paracetamolum tbl</td>\n      <td>Česko</td>\n      <td>GlaxoSmithKline Consumer Healthcare Czech Repu...</td>\n      <td>114351.250</td>\n      <td>195206.01</td>\n      <td>3.312091</td>\n    </tr>\n    <tr>\n      <th>13</th>\n      <td>Paracetamol B. Braun</td>\n      <td>Nemecko</td>\n      <td>B.Braun Melsungen AG</td>\n      <td>900.500</td>\n      <td>55.58</td>\n      <td>0.126256</td>\n    </tr>\n    <tr>\n      <th>14</th>\n      <td>Paracetamol Kabi</td>\n      <td>Česko</td>\n      <td>Fresenius Kabi s.r.o.</td>\n      <td>34926.290</td>\n      <td>15860.05</td>\n      <td>0.724771</td>\n    </tr>\n    <tr>\n      <th>15</th>\n      <td>Paracetamol Kappler</td>\n      <td>Nemecko</td>\n      <td>STADA Arzneimittel AG</td>\n      <td>663.330</td>\n      <td>3072.16</td>\n      <td>4.631420</td>\n    </tr>\n    <tr>\n      <th>16</th>\n      <td>Paracetamol Vitabalans</td>\n      <td>Fínsko</td>\n      <td>Vitabalans Oy</td>\n      <td>5493.010</td>\n      <td>633.44</td>\n      <td>0.622655</td>\n    </tr>\n  </tbody>\n</table>\n</div>"
     },
     "metadata": {}
    }
   ],
   "source": [
    "paracetamol = top20tab[\"N02BE01\"].sort_values(by='Počet balení', ascending=False).head(30)\n",
    "\n",
    "for i,popis in enumerate(paracetamol['LIEK_popis']):\n",
    "    if 'MEDIPYRIN 500 tbl' in popis:\n",
    "        paracetamol.iloc[i,3] = 'MEDIPYRIN tbl'\n",
    "    elif 'PANADOL BABY (+odmerka)' in popis:\n",
    "        paracetamol.iloc[i,3] = 'PANADOL BABY (+odmerka)'\n",
    "    elif 'PANADOL BABY (+striekačka)' in popis:\n",
    "        paracetamol.iloc[i,3] = 'PANADOL BABY (+striekačka)'\n",
    "    elif 'PANADOL BABY' in popis:\n",
    "        paracetamol.iloc[i,3] = 'PANADOL BABY'\n",
    "    elif 'PANADOL JUNIOR' in popis:\n",
    "        paracetamol.iloc[i,3] = 'PANADOL JUNIOR'\n",
    "    elif 'PANADOL PRE DETI' in popis:\n",
    "        paracetamol.iloc[i,3] = 'PANADOL PRE DETI'\n",
    "    elif 'PANADOL tbl' in popis:\n",
    "        paracetamol.iloc[i,3] = 'PANADOL tbl'\n",
    "    elif 'PARALEN' in popis and 'sus' in popis:\n",
    "        paracetamol.iloc[i,3] = 'PARALEN sus'\n",
    "    elif 'PARALEN' in popis and 'tbl' in popis:\n",
    "        paracetamol.iloc[i,3] = 'PARALEN tbl'\n",
    "    elif 'PARALEN' in popis and 'sup' in popis:\n",
    "        paracetamol.iloc[i,3] = 'PARALEN sup'\n",
    "    elif 'PARALEN' in popis:\n",
    "        paracetamol.iloc[i,3] = 'PARALEN nápoj'\n",
    "    elif 'Panadol Novum' in popis:\n",
    "        paracetamol.iloc[i,3] = 'Panadol Novum tbl'\n",
    "    elif 'Panadol Paracetamolum' in popis:\n",
    "        paracetamol.iloc[i,3] = 'Panadol Paracetamolum tbl'\n",
    "    elif 'Paracetamol B. Braun' in popis:\n",
    "        paracetamol.iloc[i,3] = 'Paracetamol B. Braun'\n",
    "    elif 'Paracetamol Kabi' in popis:\n",
    "        paracetamol.iloc[i,3] = 'Paracetamol Kabi'\n",
    "    elif 'Paracetamol Kappler' in popis:\n",
    "        paracetamol.iloc[i,3] = 'Paracetamol Kappler'\n",
    "    elif 'Paracetamol Vitabalans' in popis:\n",
    "        paracetamol.iloc[i,3] = 'Paracetamol Vitabalans'\n",
    "\n",
    "paracetamol = paracetamol.groupby(['LIEK_popis', 'STAT_popis', 'VYROBCA_popis']).sum().reset_index()\n",
    "\n",
    "print(\"Typ vydaju:\")\n",
    "item_counts = table.query('ATC7_KOD == \"N02BE01\"')[\"TYP_VYDAJ_POP\"].value_counts(normalize=True)\n",
    "print(item_counts)\n",
    "\n",
    "display(paracetamol.sort_values(by='LIEK_popis'))\n"
   ]
  },
  {
   "cell_type": "code",
   "execution_count": 35,
   "metadata": {},
   "outputs": [
    {
     "output_type": "display_data",
     "data": {
      "application/vnd.plotly.v1+json": {
       "config": {
        "plotlyServerURL": "https://plot.ly"
       },
       "data": [
        {
         "hovertemplate": "STAT_popis=Česko<br>LIEK_popis=%{x}<br>Počet balení=%{y}<br>Cena úhrada_PAC/bal=%{marker.size}<extra></extra>",
         "legendgroup": "Česko",
         "marker": {
          "color": "#636efa",
          "size": [
           4.62588766975241,
           1.9947319125292697,
           3.4120262216924906,
           2.531328441752433,
           7.440675285889,
           2.6677939672801636,
           4.577656882715651,
           3.312090642716383,
           0.7247705801116384
          ],
          "sizemode": "area",
          "sizeref": 0.018601688214722502,
          "symbol": "circle"
         },
         "mode": "markers",
         "name": "Česko",
         "orientation": "v",
         "showlegend": true,
         "type": "scatter",
         "x": [
          "MEDIPYRIN tbl",
          "PANADOL BABY",
          "PANADOL BABY (+odmerka)",
          "PANADOL JUNIOR",
          "PANADOL PRE DETI",
          "PANADOL tbl",
          "Panadol Novum tbl",
          "Panadol Paracetamolum tbl",
          "Paracetamol Kabi"
         ],
         "xaxis": "x",
         "y": [
          21920.89,
          50394,
          839,
          30460.5,
          37895,
          553,
          77893.815,
          114351.25,
          34926.29
         ],
         "yaxis": "y"
        },
        {
         "hovertemplate": "STAT_popis=Francúzsko<br>LIEK_popis=%{x}<br>Počet balení=%{y}<br>Cena úhrada_PAC/bal=%{marker.size}<extra></extra>",
         "legendgroup": "Francúzsko",
         "marker": {
          "color": "#EF553B",
          "size": [
           3.551473684210526
          ],
          "sizemode": "area",
          "sizeref": 0.018601688214722502,
          "symbol": "circle"
         },
         "mode": "markers",
         "name": "Francúzsko",
         "orientation": "v",
         "showlegend": true,
         "type": "scatter",
         "x": [
          "PANADOL BABY (+striekačka)"
         ],
         "xaxis": "x",
         "y": [
          285
         ],
         "yaxis": "y"
        },
        {
         "hovertemplate": "STAT_popis=Slovensko<br>LIEK_popis=%{x}<br>Počet balení=%{y}<br>Cena úhrada_PAC/bal=%{marker.size}<extra></extra>",
         "legendgroup": "Slovensko",
         "marker": {
          "color": "#00cc96",
          "size": [
           3.470746832030197,
           2.482846463754246,
           3.6094748498999327,
           4.696864635709583
          ],
          "sizemode": "area",
          "sizeref": 0.018601688214722502,
          "symbol": "circle"
         },
         "mode": "markers",
         "name": "Slovensko",
         "orientation": "v",
         "showlegend": true,
         "type": "scatter",
         "x": [
          "PARALEN nápoj",
          "PARALEN sup",
          "PARALEN sus",
          "PARALEN tbl"
         ],
         "xaxis": "x",
         "y": [
          482.17,
          161406.21000000002,
          74950,
          2683311.1420000005
         ],
         "yaxis": "y"
        },
        {
         "hovertemplate": "STAT_popis=Nemecko<br>LIEK_popis=%{x}<br>Počet balení=%{y}<br>Cena úhrada_PAC/bal=%{marker.size}<extra></extra>",
         "legendgroup": "Nemecko",
         "marker": {
          "color": "#ab63fa",
          "size": [
           0.1262561935335311,
           4.631420258393258
          ],
          "sizemode": "area",
          "sizeref": 0.018601688214722502,
          "symbol": "circle"
         },
         "mode": "markers",
         "name": "Nemecko",
         "orientation": "v",
         "showlegend": true,
         "type": "scatter",
         "x": [
          "Paracetamol B. Braun",
          "Paracetamol Kappler"
         ],
         "xaxis": "x",
         "y": [
          900.5,
          663.33
         ],
         "yaxis": "y"
        },
        {
         "hovertemplate": "STAT_popis=Fínsko<br>LIEK_popis=%{x}<br>Počet balení=%{y}<br>Cena úhrada_PAC/bal=%{marker.size}<extra></extra>",
         "legendgroup": "Fínsko",
         "marker": {
          "color": "#FFA15A",
          "size": [
           0.6226553997583298
          ],
          "sizemode": "area",
          "sizeref": 0.018601688214722502,
          "symbol": "circle"
         },
         "mode": "markers",
         "name": "Fínsko",
         "orientation": "v",
         "showlegend": true,
         "type": "scatter",
         "x": [
          "Paracetamol Vitabalans"
         ],
         "xaxis": "x",
         "y": [
          5493.01
         ],
         "yaxis": "y"
        }
       ],
       "layout": {
        "legend": {
         "itemsizing": "constant",
         "title": {
          "text": "STAT_popis"
         },
         "tracegroupgap": 0
        },
        "template": {
         "data": {
          "bar": [
           {
            "error_x": {
             "color": "#2a3f5f"
            },
            "error_y": {
             "color": "#2a3f5f"
            },
            "marker": {
             "line": {
              "color": "#E5ECF6",
              "width": 0.5
             }
            },
            "type": "bar"
           }
          ],
          "barpolar": [
           {
            "marker": {
             "line": {
              "color": "#E5ECF6",
              "width": 0.5
             }
            },
            "type": "barpolar"
           }
          ],
          "carpet": [
           {
            "aaxis": {
             "endlinecolor": "#2a3f5f",
             "gridcolor": "white",
             "linecolor": "white",
             "minorgridcolor": "white",
             "startlinecolor": "#2a3f5f"
            },
            "baxis": {
             "endlinecolor": "#2a3f5f",
             "gridcolor": "white",
             "linecolor": "white",
             "minorgridcolor": "white",
             "startlinecolor": "#2a3f5f"
            },
            "type": "carpet"
           }
          ],
          "choropleth": [
           {
            "colorbar": {
             "outlinewidth": 0,
             "ticks": ""
            },
            "type": "choropleth"
           }
          ],
          "contour": [
           {
            "colorbar": {
             "outlinewidth": 0,
             "ticks": ""
            },
            "colorscale": [
             [
              0,
              "#0d0887"
             ],
             [
              0.1111111111111111,
              "#46039f"
             ],
             [
              0.2222222222222222,
              "#7201a8"
             ],
             [
              0.3333333333333333,
              "#9c179e"
             ],
             [
              0.4444444444444444,
              "#bd3786"
             ],
             [
              0.5555555555555556,
              "#d8576b"
             ],
             [
              0.6666666666666666,
              "#ed7953"
             ],
             [
              0.7777777777777778,
              "#fb9f3a"
             ],
             [
              0.8888888888888888,
              "#fdca26"
             ],
             [
              1,
              "#f0f921"
             ]
            ],
            "type": "contour"
           }
          ],
          "contourcarpet": [
           {
            "colorbar": {
             "outlinewidth": 0,
             "ticks": ""
            },
            "type": "contourcarpet"
           }
          ],
          "heatmap": [
           {
            "colorbar": {
             "outlinewidth": 0,
             "ticks": ""
            },
            "colorscale": [
             [
              0,
              "#0d0887"
             ],
             [
              0.1111111111111111,
              "#46039f"
             ],
             [
              0.2222222222222222,
              "#7201a8"
             ],
             [
              0.3333333333333333,
              "#9c179e"
             ],
             [
              0.4444444444444444,
              "#bd3786"
             ],
             [
              0.5555555555555556,
              "#d8576b"
             ],
             [
              0.6666666666666666,
              "#ed7953"
             ],
             [
              0.7777777777777778,
              "#fb9f3a"
             ],
             [
              0.8888888888888888,
              "#fdca26"
             ],
             [
              1,
              "#f0f921"
             ]
            ],
            "type": "heatmap"
           }
          ],
          "heatmapgl": [
           {
            "colorbar": {
             "outlinewidth": 0,
             "ticks": ""
            },
            "colorscale": [
             [
              0,
              "#0d0887"
             ],
             [
              0.1111111111111111,
              "#46039f"
             ],
             [
              0.2222222222222222,
              "#7201a8"
             ],
             [
              0.3333333333333333,
              "#9c179e"
             ],
             [
              0.4444444444444444,
              "#bd3786"
             ],
             [
              0.5555555555555556,
              "#d8576b"
             ],
             [
              0.6666666666666666,
              "#ed7953"
             ],
             [
              0.7777777777777778,
              "#fb9f3a"
             ],
             [
              0.8888888888888888,
              "#fdca26"
             ],
             [
              1,
              "#f0f921"
             ]
            ],
            "type": "heatmapgl"
           }
          ],
          "histogram": [
           {
            "marker": {
             "colorbar": {
              "outlinewidth": 0,
              "ticks": ""
             }
            },
            "type": "histogram"
           }
          ],
          "histogram2d": [
           {
            "colorbar": {
             "outlinewidth": 0,
             "ticks": ""
            },
            "colorscale": [
             [
              0,
              "#0d0887"
             ],
             [
              0.1111111111111111,
              "#46039f"
             ],
             [
              0.2222222222222222,
              "#7201a8"
             ],
             [
              0.3333333333333333,
              "#9c179e"
             ],
             [
              0.4444444444444444,
              "#bd3786"
             ],
             [
              0.5555555555555556,
              "#d8576b"
             ],
             [
              0.6666666666666666,
              "#ed7953"
             ],
             [
              0.7777777777777778,
              "#fb9f3a"
             ],
             [
              0.8888888888888888,
              "#fdca26"
             ],
             [
              1,
              "#f0f921"
             ]
            ],
            "type": "histogram2d"
           }
          ],
          "histogram2dcontour": [
           {
            "colorbar": {
             "outlinewidth": 0,
             "ticks": ""
            },
            "colorscale": [
             [
              0,
              "#0d0887"
             ],
             [
              0.1111111111111111,
              "#46039f"
             ],
             [
              0.2222222222222222,
              "#7201a8"
             ],
             [
              0.3333333333333333,
              "#9c179e"
             ],
             [
              0.4444444444444444,
              "#bd3786"
             ],
             [
              0.5555555555555556,
              "#d8576b"
             ],
             [
              0.6666666666666666,
              "#ed7953"
             ],
             [
              0.7777777777777778,
              "#fb9f3a"
             ],
             [
              0.8888888888888888,
              "#fdca26"
             ],
             [
              1,
              "#f0f921"
             ]
            ],
            "type": "histogram2dcontour"
           }
          ],
          "mesh3d": [
           {
            "colorbar": {
             "outlinewidth": 0,
             "ticks": ""
            },
            "type": "mesh3d"
           }
          ],
          "parcoords": [
           {
            "line": {
             "colorbar": {
              "outlinewidth": 0,
              "ticks": ""
             }
            },
            "type": "parcoords"
           }
          ],
          "pie": [
           {
            "automargin": true,
            "type": "pie"
           }
          ],
          "scatter": [
           {
            "marker": {
             "colorbar": {
              "outlinewidth": 0,
              "ticks": ""
             }
            },
            "type": "scatter"
           }
          ],
          "scatter3d": [
           {
            "line": {
             "colorbar": {
              "outlinewidth": 0,
              "ticks": ""
             }
            },
            "marker": {
             "colorbar": {
              "outlinewidth": 0,
              "ticks": ""
             }
            },
            "type": "scatter3d"
           }
          ],
          "scattercarpet": [
           {
            "marker": {
             "colorbar": {
              "outlinewidth": 0,
              "ticks": ""
             }
            },
            "type": "scattercarpet"
           }
          ],
          "scattergeo": [
           {
            "marker": {
             "colorbar": {
              "outlinewidth": 0,
              "ticks": ""
             }
            },
            "type": "scattergeo"
           }
          ],
          "scattergl": [
           {
            "marker": {
             "colorbar": {
              "outlinewidth": 0,
              "ticks": ""
             }
            },
            "type": "scattergl"
           }
          ],
          "scattermapbox": [
           {
            "marker": {
             "colorbar": {
              "outlinewidth": 0,
              "ticks": ""
             }
            },
            "type": "scattermapbox"
           }
          ],
          "scatterpolar": [
           {
            "marker": {
             "colorbar": {
              "outlinewidth": 0,
              "ticks": ""
             }
            },
            "type": "scatterpolar"
           }
          ],
          "scatterpolargl": [
           {
            "marker": {
             "colorbar": {
              "outlinewidth": 0,
              "ticks": ""
             }
            },
            "type": "scatterpolargl"
           }
          ],
          "scatterternary": [
           {
            "marker": {
             "colorbar": {
              "outlinewidth": 0,
              "ticks": ""
             }
            },
            "type": "scatterternary"
           }
          ],
          "surface": [
           {
            "colorbar": {
             "outlinewidth": 0,
             "ticks": ""
            },
            "colorscale": [
             [
              0,
              "#0d0887"
             ],
             [
              0.1111111111111111,
              "#46039f"
             ],
             [
              0.2222222222222222,
              "#7201a8"
             ],
             [
              0.3333333333333333,
              "#9c179e"
             ],
             [
              0.4444444444444444,
              "#bd3786"
             ],
             [
              0.5555555555555556,
              "#d8576b"
             ],
             [
              0.6666666666666666,
              "#ed7953"
             ],
             [
              0.7777777777777778,
              "#fb9f3a"
             ],
             [
              0.8888888888888888,
              "#fdca26"
             ],
             [
              1,
              "#f0f921"
             ]
            ],
            "type": "surface"
           }
          ],
          "table": [
           {
            "cells": {
             "fill": {
              "color": "#EBF0F8"
             },
             "line": {
              "color": "white"
             }
            },
            "header": {
             "fill": {
              "color": "#C8D4E3"
             },
             "line": {
              "color": "white"
             }
            },
            "type": "table"
           }
          ]
         },
         "layout": {
          "annotationdefaults": {
           "arrowcolor": "#2a3f5f",
           "arrowhead": 0,
           "arrowwidth": 1
          },
          "autotypenumbers": "strict",
          "coloraxis": {
           "colorbar": {
            "outlinewidth": 0,
            "ticks": ""
           }
          },
          "colorscale": {
           "diverging": [
            [
             0,
             "#8e0152"
            ],
            [
             0.1,
             "#c51b7d"
            ],
            [
             0.2,
             "#de77ae"
            ],
            [
             0.3,
             "#f1b6da"
            ],
            [
             0.4,
             "#fde0ef"
            ],
            [
             0.5,
             "#f7f7f7"
            ],
            [
             0.6,
             "#e6f5d0"
            ],
            [
             0.7,
             "#b8e186"
            ],
            [
             0.8,
             "#7fbc41"
            ],
            [
             0.9,
             "#4d9221"
            ],
            [
             1,
             "#276419"
            ]
           ],
           "sequential": [
            [
             0,
             "#0d0887"
            ],
            [
             0.1111111111111111,
             "#46039f"
            ],
            [
             0.2222222222222222,
             "#7201a8"
            ],
            [
             0.3333333333333333,
             "#9c179e"
            ],
            [
             0.4444444444444444,
             "#bd3786"
            ],
            [
             0.5555555555555556,
             "#d8576b"
            ],
            [
             0.6666666666666666,
             "#ed7953"
            ],
            [
             0.7777777777777778,
             "#fb9f3a"
            ],
            [
             0.8888888888888888,
             "#fdca26"
            ],
            [
             1,
             "#f0f921"
            ]
           ],
           "sequentialminus": [
            [
             0,
             "#0d0887"
            ],
            [
             0.1111111111111111,
             "#46039f"
            ],
            [
             0.2222222222222222,
             "#7201a8"
            ],
            [
             0.3333333333333333,
             "#9c179e"
            ],
            [
             0.4444444444444444,
             "#bd3786"
            ],
            [
             0.5555555555555556,
             "#d8576b"
            ],
            [
             0.6666666666666666,
             "#ed7953"
            ],
            [
             0.7777777777777778,
             "#fb9f3a"
            ],
            [
             0.8888888888888888,
             "#fdca26"
            ],
            [
             1,
             "#f0f921"
            ]
           ]
          },
          "colorway": [
           "#636efa",
           "#EF553B",
           "#00cc96",
           "#ab63fa",
           "#FFA15A",
           "#19d3f3",
           "#FF6692",
           "#B6E880",
           "#FF97FF",
           "#FECB52"
          ],
          "font": {
           "color": "#2a3f5f"
          },
          "geo": {
           "bgcolor": "white",
           "lakecolor": "white",
           "landcolor": "#E5ECF6",
           "showlakes": true,
           "showland": true,
           "subunitcolor": "white"
          },
          "hoverlabel": {
           "align": "left"
          },
          "hovermode": "closest",
          "mapbox": {
           "style": "light"
          },
          "paper_bgcolor": "white",
          "plot_bgcolor": "#E5ECF6",
          "polar": {
           "angularaxis": {
            "gridcolor": "white",
            "linecolor": "white",
            "ticks": ""
           },
           "bgcolor": "#E5ECF6",
           "radialaxis": {
            "gridcolor": "white",
            "linecolor": "white",
            "ticks": ""
           }
          },
          "scene": {
           "xaxis": {
            "backgroundcolor": "#E5ECF6",
            "gridcolor": "white",
            "gridwidth": 2,
            "linecolor": "white",
            "showbackground": true,
            "ticks": "",
            "zerolinecolor": "white"
           },
           "yaxis": {
            "backgroundcolor": "#E5ECF6",
            "gridcolor": "white",
            "gridwidth": 2,
            "linecolor": "white",
            "showbackground": true,
            "ticks": "",
            "zerolinecolor": "white"
           },
           "zaxis": {
            "backgroundcolor": "#E5ECF6",
            "gridcolor": "white",
            "gridwidth": 2,
            "linecolor": "white",
            "showbackground": true,
            "ticks": "",
            "zerolinecolor": "white"
           }
          },
          "shapedefaults": {
           "line": {
            "color": "#2a3f5f"
           }
          },
          "ternary": {
           "aaxis": {
            "gridcolor": "white",
            "linecolor": "white",
            "ticks": ""
           },
           "baxis": {
            "gridcolor": "white",
            "linecolor": "white",
            "ticks": ""
           },
           "bgcolor": "#E5ECF6",
           "caxis": {
            "gridcolor": "white",
            "linecolor": "white",
            "ticks": ""
           }
          },
          "title": {
           "x": 0.05
          },
          "xaxis": {
           "automargin": true,
           "gridcolor": "white",
           "linecolor": "white",
           "ticks": "",
           "title": {
            "standoff": 15
           },
           "zerolinecolor": "white",
           "zerolinewidth": 2
          },
          "yaxis": {
           "automargin": true,
           "gridcolor": "white",
           "linecolor": "white",
           "ticks": "",
           "title": {
            "standoff": 15
           },
           "zerolinecolor": "white",
           "zerolinewidth": 2
          }
         }
        },
        "title": {
         "text": "Paracetamol"
        },
        "xaxis": {
         "anchor": "y",
         "domain": [
          0,
          1
         ],
         "tickangle": 45,
         "title": {
          "text": "LIEK_popis"
         }
        },
        "yaxis": {
         "anchor": "x",
         "domain": [
          0,
          1
         ],
         "title": {
          "text": "Počet balení"
         }
        }
       }
      }
     },
     "metadata": {}
    }
   ],
   "source": [
    "fig = px.scatter(paracetamol, x='LIEK_popis', y='Počet balení', size='Cena úhrada_PAC/bal', color='STAT_popis', title='Paracetamol')\n",
    "fig.update_xaxes(tickangle=45)\n",
    "fig.show()"
   ]
  },
  {
   "source": [
    "Z grafu vidime, ze vsetky lieky prekonava Paralen v tabletach za priblizne priemernu cenu. Takisto si mozeme vsimnut ze je vyrabany na Slovensku. Cesko ma siroku ponuku Panadolov avsak tieto tak popularne nie su."
   ],
   "cell_type": "markdown",
   "metadata": {}
  },
  {
   "cell_type": "code",
   "execution_count": 28,
   "metadata": {},
   "outputs": [
    {
     "output_type": "display_data",
     "data": {
      "text/plain": "2920149.5220000003"
     },
     "metadata": {}
    },
    {
     "output_type": "display_data",
     "data": {
      "text/plain": "347312.855"
     },
     "metadata": {}
    },
    {
     "output_type": "stream",
     "name": "stdout",
     "text": [
      "8.40783598983113\n"
     ]
    }
   ],
   "source": [
    "paralen_spolu = paracetamol.sort_values(by='LIEK_popis').iloc[7:11,:].groupby('STAT_popis').sum()\n",
    "paralen = paralen_spolu.iloc[0,0]\n",
    "panadol_spolu = paracetamol.sort_values(by='LIEK_popis').query('STAT_popis == \"Česko\"').iloc[1:12,:].groupby('STAT_popis').sum()\n",
    "panadol = panadol_spolu.iloc[0,0]\n",
    "display(paralen)\n",
    "display(panadol)\n",
    "print(paralen / panadol)"
   ]
  },
  {
   "cell_type": "code",
   "execution_count": 34,
   "metadata": {},
   "outputs": [
    {
     "output_type": "execute_result",
     "data": {
      "text/plain": [
       "\"\\nfrom pywaffle import Waffle\\nfig = plt.figure(\\n    FigureClass=Waffle,\\n    rows=5,\\n    values=[2*paralen/panadol, 2],\\n    icons = 'pills',\\n    #block_arranging_style='new-line',\\n    vertical=False\\n)\\n\""
      ]
     },
     "metadata": {},
     "execution_count": 34
    }
   ],
   "source": [
    "'''\n",
    "from pywaffle import Waffle\n",
    "fig = plt.figure(\n",
    "    FigureClass=Waffle,\n",
    "    rows=5,\n",
    "    values=[2*paralen/panadol, 2],\n",
    "    icons = 'pills',\n",
    "    #block_arranging_style='new-line',\n",
    "    vertical=False\n",
    ")\n",
    "'''"
   ]
  },
  {
   "source": [
    "# Ibuprofen"
   ],
   "cell_type": "markdown",
   "metadata": {}
  },
  {
   "cell_type": "code",
   "execution_count": 42,
   "metadata": {},
   "outputs": [
    {
     "output_type": "display_data",
     "data": {
      "text/plain": "                 LIEK_popis  STAT_popis  \\\n0                BRUFEN 400  Francúzsko   \n1                BRUFEN 600  Francúzsko   \n2               IBALGIN 200   Slovensko   \n3               IBALGIN 400   Slovensko   \n4               IBALGIN 600   Slovensko   \n5              IBALGIN FAST   Slovensko   \n6         IBALGIN RAPIDCAPS   Slovensko   \n7               IBALGIN SUS   Slovensko   \n8             IBUPROFEN 400     Nemecko   \n9                MIG Junior     Nemecko   \n10                  MIG-400     Nemecko   \n11            NUROFEN FORTE       Česko   \n12  NUROFEN Liquid Capsules       Česko   \n13         NUROFEN pre deti       Česko   \n14              NUROFEN tbl       Česko   \n\n                                        VYROBCA_popis  Počet balení  \\\n0                              Mylan Laboratories SAS    260398.011   \n1                              Mylan Laboratories SAS     28425.100   \n2                      sanofi-aventis Slovakia s.r.o.    115937.580   \n3                      sanofi-aventis Slovakia s.r.o.    925557.576   \n4                      sanofi-aventis Slovakia s.r.o.     36402.670   \n5                      sanofi-aventis Slovakia s.r.o.     32353.100   \n6                      sanofi-aventis Slovakia s.r.o.    195327.956   \n7                      sanofi-aventis Slovakia s.r.o.     16038.000   \n8                               STADA Arzneimittel AG     87787.140   \n9                                    Berlin-Chemie AG     12276.300   \n10                                   Berlin-Chemie AG    234871.823   \n11  Reckitt Benckiser (Czech Republic), spol. s r.o.      53810.500   \n12  Reckitt Benckiser (Czech Republic), spol. s r.o.     140448.500   \n13  Reckitt Benckiser (Czech Republic), spol. s r.o.     518837.687   \n14  Reckitt Benckiser (Czech Republic), spol. s r.o.      53473.410   \n\n    Úhrada_PAC  Cena úhrada_PAC/bal  \n0   1000652.93             8.524806  \n1     88020.41             3.096573  \n2    274563.27             2.368199  \n3   3503655.19            17.731865  \n4     64870.46             1.782025  \n5    108560.61             3.355493  \n6    899915.02             8.908333  \n7     52677.24             3.284527  \n8    228675.29             4.618850  \n9     34815.97             2.836031  \n10   758498.46             5.238103  \n11   186448.24             3.464904  \n12   557590.23             7.365335  \n13  2579581.43            42.395442  \n14   123508.07             2.309710  ",
      "text/html": "<div>\n<style scoped>\n    .dataframe tbody tr th:only-of-type {\n        vertical-align: middle;\n    }\n\n    .dataframe tbody tr th {\n        vertical-align: top;\n    }\n\n    .dataframe thead th {\n        text-align: right;\n    }\n</style>\n<table border=\"1\" class=\"dataframe\">\n  <thead>\n    <tr style=\"text-align: right;\">\n      <th></th>\n      <th>LIEK_popis</th>\n      <th>STAT_popis</th>\n      <th>VYROBCA_popis</th>\n      <th>Počet balení</th>\n      <th>Úhrada_PAC</th>\n      <th>Cena úhrada_PAC/bal</th>\n    </tr>\n  </thead>\n  <tbody>\n    <tr>\n      <th>0</th>\n      <td>BRUFEN 400</td>\n      <td>Francúzsko</td>\n      <td>Mylan Laboratories SAS</td>\n      <td>260398.011</td>\n      <td>1000652.93</td>\n      <td>8.524806</td>\n    </tr>\n    <tr>\n      <th>1</th>\n      <td>BRUFEN 600</td>\n      <td>Francúzsko</td>\n      <td>Mylan Laboratories SAS</td>\n      <td>28425.100</td>\n      <td>88020.41</td>\n      <td>3.096573</td>\n    </tr>\n    <tr>\n      <th>2</th>\n      <td>IBALGIN 200</td>\n      <td>Slovensko</td>\n      <td>sanofi-aventis Slovakia s.r.o.</td>\n      <td>115937.580</td>\n      <td>274563.27</td>\n      <td>2.368199</td>\n    </tr>\n    <tr>\n      <th>3</th>\n      <td>IBALGIN 400</td>\n      <td>Slovensko</td>\n      <td>sanofi-aventis Slovakia s.r.o.</td>\n      <td>925557.576</td>\n      <td>3503655.19</td>\n      <td>17.731865</td>\n    </tr>\n    <tr>\n      <th>4</th>\n      <td>IBALGIN 600</td>\n      <td>Slovensko</td>\n      <td>sanofi-aventis Slovakia s.r.o.</td>\n      <td>36402.670</td>\n      <td>64870.46</td>\n      <td>1.782025</td>\n    </tr>\n    <tr>\n      <th>5</th>\n      <td>IBALGIN FAST</td>\n      <td>Slovensko</td>\n      <td>sanofi-aventis Slovakia s.r.o.</td>\n      <td>32353.100</td>\n      <td>108560.61</td>\n      <td>3.355493</td>\n    </tr>\n    <tr>\n      <th>6</th>\n      <td>IBALGIN RAPIDCAPS</td>\n      <td>Slovensko</td>\n      <td>sanofi-aventis Slovakia s.r.o.</td>\n      <td>195327.956</td>\n      <td>899915.02</td>\n      <td>8.908333</td>\n    </tr>\n    <tr>\n      <th>7</th>\n      <td>IBALGIN SUS</td>\n      <td>Slovensko</td>\n      <td>sanofi-aventis Slovakia s.r.o.</td>\n      <td>16038.000</td>\n      <td>52677.24</td>\n      <td>3.284527</td>\n    </tr>\n    <tr>\n      <th>8</th>\n      <td>IBUPROFEN 400</td>\n      <td>Nemecko</td>\n      <td>STADA Arzneimittel AG</td>\n      <td>87787.140</td>\n      <td>228675.29</td>\n      <td>4.618850</td>\n    </tr>\n    <tr>\n      <th>9</th>\n      <td>MIG Junior</td>\n      <td>Nemecko</td>\n      <td>Berlin-Chemie AG</td>\n      <td>12276.300</td>\n      <td>34815.97</td>\n      <td>2.836031</td>\n    </tr>\n    <tr>\n      <th>10</th>\n      <td>MIG-400</td>\n      <td>Nemecko</td>\n      <td>Berlin-Chemie AG</td>\n      <td>234871.823</td>\n      <td>758498.46</td>\n      <td>5.238103</td>\n    </tr>\n    <tr>\n      <th>11</th>\n      <td>NUROFEN FORTE</td>\n      <td>Česko</td>\n      <td>Reckitt Benckiser (Czech Republic), spol. s r.o.</td>\n      <td>53810.500</td>\n      <td>186448.24</td>\n      <td>3.464904</td>\n    </tr>\n    <tr>\n      <th>12</th>\n      <td>NUROFEN Liquid Capsules</td>\n      <td>Česko</td>\n      <td>Reckitt Benckiser (Czech Republic), spol. s r.o.</td>\n      <td>140448.500</td>\n      <td>557590.23</td>\n      <td>7.365335</td>\n    </tr>\n    <tr>\n      <th>13</th>\n      <td>NUROFEN pre deti</td>\n      <td>Česko</td>\n      <td>Reckitt Benckiser (Czech Republic), spol. s r.o.</td>\n      <td>518837.687</td>\n      <td>2579581.43</td>\n      <td>42.395442</td>\n    </tr>\n    <tr>\n      <th>14</th>\n      <td>NUROFEN tbl</td>\n      <td>Česko</td>\n      <td>Reckitt Benckiser (Czech Republic), spol. s r.o.</td>\n      <td>53473.410</td>\n      <td>123508.07</td>\n      <td>2.309710</td>\n    </tr>\n  </tbody>\n</table>\n</div>"
     },
     "metadata": {}
    }
   ],
   "source": [
    "ibuprofen = top20tab[\"M01AE01\"].sort_values(by='Počet balení', ascending=False).head(30)\n",
    "\n",
    "for i,popis in enumerate(ibuprofen['LIEK_popis']):\n",
    "    if 'IBALGIN 400' in popis:\n",
    "        ibuprofen.iloc[i,3] = 'IBALGIN 400'\n",
    "    elif 'Ibalgin 400' in popis:\n",
    "        ibuprofen.iloc[i,3] = 'IBALGIN 400'\n",
    "    elif 'BRUFEN 400' in popis:\n",
    "        ibuprofen.iloc[i,3] = 'BRUFEN 400'\n",
    "    elif 'Brufen 400' in popis:\n",
    "        ibuprofen.iloc[i,3] = 'BRUFEN 400'\n",
    "    elif 'BRUFEN sirup' in popis:\n",
    "        ibuprofen.iloc[i,3] = 'BRUFEN sirup'\n",
    "    elif 'BRUFEN retard 800' in popis:\n",
    "        ibuprofen.iloc[i,3] = 'BRUFEN retard 800'\n",
    "    elif 'BRUFEN 600' in popis:\n",
    "        ibuprofen.iloc[i,3] = 'BRUFEN 600'\n",
    "    elif 'MIG-400' in popis:\n",
    "        ibuprofen.iloc[i,3] = 'MIG-400'\n",
    "    elif 'NUROFEN pre deti' in popis:\n",
    "        ibuprofen.iloc[i,3] = 'NUROFEN pre deti'\n",
    "    elif 'NUROFEN PRE DETI' in popis:\n",
    "        ibuprofen.iloc[i,3] = 'NUROFEN pre deti'\n",
    "    elif 'Nurofen pre deti' in popis:\n",
    "        ibuprofen.iloc[i,3] = 'NUROFEN pre deti'\n",
    "    elif 'NUROFEN PRE DETI' in popis:\n",
    "        ibuprofen.iloc[i,3] = 'NUROFEN pre deti'\n",
    "    elif 'IBALGIN RAPIDCAPS' in popis:\n",
    "        ibuprofen.iloc[i,3] = 'IBALGIN RAPIDCAPS'\n",
    "    elif 'IBALGIN 200' in popis:\n",
    "        ibuprofen.iloc[i,3] = 'IBALGIN 200'\n",
    "    elif 'IBALGIN 600' in popis:\n",
    "        ibuprofen.iloc[i,3] = 'IBALGIN 600'\n",
    "    elif 'IBALGIN FAST' in popis:\n",
    "        ibuprofen.iloc[i,3] = 'IBALGIN FAST'\n",
    "    elif 'NUROFEN Liquid Capsules' in popis:\n",
    "        ibuprofen.iloc[i,3] = 'NUROFEN Liquid Capsules'\n",
    "    elif 'IBUPROFEN 400' in popis:\n",
    "        ibuprofen.iloc[i,3] = 'IBUPROFEN 400'\n",
    "    elif 'IBALGIN SUS' in popis:\n",
    "        ibuprofen.iloc[i,3] = 'IBALGIN SUS'\n",
    "    elif 'MIG' in popis:\n",
    "        ibuprofen.iloc[i,3] = 'MIG Junior'\n",
    "    elif 'NUROFEN FORTE' in popis:\n",
    "        ibuprofen.iloc[i,3] = 'NUROFEN FORTE'\n",
    "    elif 'NUROFEN tbl' in popis:\n",
    "        ibuprofen.iloc[i,3] = 'NUROFEN tbl'\n",
    "\n",
    "ibuprofen = ibuprofen.groupby(['LIEK_popis', 'STAT_popis', 'VYROBCA_popis']).sum().reset_index()\n",
    "display(ibuprofen)"
   ]
  },
  {
   "cell_type": "code",
   "execution_count": 44,
   "metadata": {},
   "outputs": [
    {
     "output_type": "display_data",
     "data": {
      "application/vnd.plotly.v1+json": {
       "config": {
        "plotlyServerURL": "https://plot.ly"
       },
       "data": [
        {
         "hovertemplate": "STAT_popis=Francúzsko<br>LIEK_popis=%{x}<br>Počet balení=%{y}<br>Cena úhrada_PAC/bal=%{marker.size}<extra></extra>",
         "legendgroup": "Francúzsko",
         "marker": {
          "color": "#636efa",
          "size": [
           8.52480604231767,
           3.096573450928932
          ],
          "sizemode": "area",
          "sizeref": 0.10598860480483374,
          "symbol": "circle"
         },
         "mode": "markers",
         "name": "Francúzsko",
         "orientation": "v",
         "showlegend": true,
         "type": "scatter",
         "x": [
          "BRUFEN 400",
          "BRUFEN 600"
         ],
         "xaxis": "x",
         "y": [
          260398.011,
          28425.100000000002
         ],
         "yaxis": "y"
        },
        {
         "hovertemplate": "STAT_popis=Slovensko<br>LIEK_popis=%{x}<br>Počet balení=%{y}<br>Cena úhrada_PAC/bal=%{marker.size}<extra></extra>",
         "legendgroup": "Slovensko",
         "marker": {
          "color": "#EF553B",
          "size": [
           2.368199077469099,
           17.731865327835102,
           1.7820247800504745,
           3.355493291214753,
           8.90833259463485,
           3.284526748971194
          ],
          "sizemode": "area",
          "sizeref": 0.10598860480483374,
          "symbol": "circle"
         },
         "mode": "markers",
         "name": "Slovensko",
         "orientation": "v",
         "showlegend": true,
         "type": "scatter",
         "x": [
          "IBALGIN 200",
          "IBALGIN 400",
          "IBALGIN 600",
          "IBALGIN FAST",
          "IBALGIN RAPIDCAPS",
          "IBALGIN SUS"
         ],
         "xaxis": "x",
         "y": [
          115937.58,
          925557.576,
          36402.67,
          32353.1,
          195327.95599999998,
          16038
         ],
         "yaxis": "y"
        },
        {
         "hovertemplate": "STAT_popis=Nemecko<br>LIEK_popis=%{x}<br>Počet balení=%{y}<br>Cena úhrada_PAC/bal=%{marker.size}<extra></extra>",
         "legendgroup": "Nemecko",
         "marker": {
          "color": "#00cc96",
          "size": [
           4.61884995974979,
           2.8360312146167823,
           5.2381027617317235
          ],
          "sizemode": "area",
          "sizeref": 0.10598860480483374,
          "symbol": "circle"
         },
         "mode": "markers",
         "name": "Nemecko",
         "orientation": "v",
         "showlegend": true,
         "type": "scatter",
         "x": [
          "IBUPROFEN 400",
          "MIG Junior",
          "MIG-400"
         ],
         "xaxis": "x",
         "y": [
          87787.14,
          12276.3,
          234871.823
         ],
         "yaxis": "y"
        },
        {
         "hovertemplate": "STAT_popis=Česko<br>LIEK_popis=%{x}<br>Počet balení=%{y}<br>Cena úhrada_PAC/bal=%{marker.size}<extra></extra>",
         "legendgroup": "Česko",
         "marker": {
          "color": "#ab63fa",
          "size": [
           3.464904433149665,
           7.365334664212362,
           42.3954419219335,
           2.3097100035325973
          ],
          "sizemode": "area",
          "sizeref": 0.10598860480483374,
          "symbol": "circle"
         },
         "mode": "markers",
         "name": "Česko",
         "orientation": "v",
         "showlegend": true,
         "type": "scatter",
         "x": [
          "NUROFEN FORTE",
          "NUROFEN Liquid Capsules",
          "NUROFEN pre deti",
          "NUROFEN tbl"
         ],
         "xaxis": "x",
         "y": [
          53810.5,
          140448.5,
          518837.68700000003,
          53473.41
         ],
         "yaxis": "y"
        }
       ],
       "layout": {
        "legend": {
         "itemsizing": "constant",
         "title": {
          "text": "STAT_popis"
         },
         "tracegroupgap": 0
        },
        "template": {
         "data": {
          "bar": [
           {
            "error_x": {
             "color": "#2a3f5f"
            },
            "error_y": {
             "color": "#2a3f5f"
            },
            "marker": {
             "line": {
              "color": "#E5ECF6",
              "width": 0.5
             }
            },
            "type": "bar"
           }
          ],
          "barpolar": [
           {
            "marker": {
             "line": {
              "color": "#E5ECF6",
              "width": 0.5
             }
            },
            "type": "barpolar"
           }
          ],
          "carpet": [
           {
            "aaxis": {
             "endlinecolor": "#2a3f5f",
             "gridcolor": "white",
             "linecolor": "white",
             "minorgridcolor": "white",
             "startlinecolor": "#2a3f5f"
            },
            "baxis": {
             "endlinecolor": "#2a3f5f",
             "gridcolor": "white",
             "linecolor": "white",
             "minorgridcolor": "white",
             "startlinecolor": "#2a3f5f"
            },
            "type": "carpet"
           }
          ],
          "choropleth": [
           {
            "colorbar": {
             "outlinewidth": 0,
             "ticks": ""
            },
            "type": "choropleth"
           }
          ],
          "contour": [
           {
            "colorbar": {
             "outlinewidth": 0,
             "ticks": ""
            },
            "colorscale": [
             [
              0,
              "#0d0887"
             ],
             [
              0.1111111111111111,
              "#46039f"
             ],
             [
              0.2222222222222222,
              "#7201a8"
             ],
             [
              0.3333333333333333,
              "#9c179e"
             ],
             [
              0.4444444444444444,
              "#bd3786"
             ],
             [
              0.5555555555555556,
              "#d8576b"
             ],
             [
              0.6666666666666666,
              "#ed7953"
             ],
             [
              0.7777777777777778,
              "#fb9f3a"
             ],
             [
              0.8888888888888888,
              "#fdca26"
             ],
             [
              1,
              "#f0f921"
             ]
            ],
            "type": "contour"
           }
          ],
          "contourcarpet": [
           {
            "colorbar": {
             "outlinewidth": 0,
             "ticks": ""
            },
            "type": "contourcarpet"
           }
          ],
          "heatmap": [
           {
            "colorbar": {
             "outlinewidth": 0,
             "ticks": ""
            },
            "colorscale": [
             [
              0,
              "#0d0887"
             ],
             [
              0.1111111111111111,
              "#46039f"
             ],
             [
              0.2222222222222222,
              "#7201a8"
             ],
             [
              0.3333333333333333,
              "#9c179e"
             ],
             [
              0.4444444444444444,
              "#bd3786"
             ],
             [
              0.5555555555555556,
              "#d8576b"
             ],
             [
              0.6666666666666666,
              "#ed7953"
             ],
             [
              0.7777777777777778,
              "#fb9f3a"
             ],
             [
              0.8888888888888888,
              "#fdca26"
             ],
             [
              1,
              "#f0f921"
             ]
            ],
            "type": "heatmap"
           }
          ],
          "heatmapgl": [
           {
            "colorbar": {
             "outlinewidth": 0,
             "ticks": ""
            },
            "colorscale": [
             [
              0,
              "#0d0887"
             ],
             [
              0.1111111111111111,
              "#46039f"
             ],
             [
              0.2222222222222222,
              "#7201a8"
             ],
             [
              0.3333333333333333,
              "#9c179e"
             ],
             [
              0.4444444444444444,
              "#bd3786"
             ],
             [
              0.5555555555555556,
              "#d8576b"
             ],
             [
              0.6666666666666666,
              "#ed7953"
             ],
             [
              0.7777777777777778,
              "#fb9f3a"
             ],
             [
              0.8888888888888888,
              "#fdca26"
             ],
             [
              1,
              "#f0f921"
             ]
            ],
            "type": "heatmapgl"
           }
          ],
          "histogram": [
           {
            "marker": {
             "colorbar": {
              "outlinewidth": 0,
              "ticks": ""
             }
            },
            "type": "histogram"
           }
          ],
          "histogram2d": [
           {
            "colorbar": {
             "outlinewidth": 0,
             "ticks": ""
            },
            "colorscale": [
             [
              0,
              "#0d0887"
             ],
             [
              0.1111111111111111,
              "#46039f"
             ],
             [
              0.2222222222222222,
              "#7201a8"
             ],
             [
              0.3333333333333333,
              "#9c179e"
             ],
             [
              0.4444444444444444,
              "#bd3786"
             ],
             [
              0.5555555555555556,
              "#d8576b"
             ],
             [
              0.6666666666666666,
              "#ed7953"
             ],
             [
              0.7777777777777778,
              "#fb9f3a"
             ],
             [
              0.8888888888888888,
              "#fdca26"
             ],
             [
              1,
              "#f0f921"
             ]
            ],
            "type": "histogram2d"
           }
          ],
          "histogram2dcontour": [
           {
            "colorbar": {
             "outlinewidth": 0,
             "ticks": ""
            },
            "colorscale": [
             [
              0,
              "#0d0887"
             ],
             [
              0.1111111111111111,
              "#46039f"
             ],
             [
              0.2222222222222222,
              "#7201a8"
             ],
             [
              0.3333333333333333,
              "#9c179e"
             ],
             [
              0.4444444444444444,
              "#bd3786"
             ],
             [
              0.5555555555555556,
              "#d8576b"
             ],
             [
              0.6666666666666666,
              "#ed7953"
             ],
             [
              0.7777777777777778,
              "#fb9f3a"
             ],
             [
              0.8888888888888888,
              "#fdca26"
             ],
             [
              1,
              "#f0f921"
             ]
            ],
            "type": "histogram2dcontour"
           }
          ],
          "mesh3d": [
           {
            "colorbar": {
             "outlinewidth": 0,
             "ticks": ""
            },
            "type": "mesh3d"
           }
          ],
          "parcoords": [
           {
            "line": {
             "colorbar": {
              "outlinewidth": 0,
              "ticks": ""
             }
            },
            "type": "parcoords"
           }
          ],
          "pie": [
           {
            "automargin": true,
            "type": "pie"
           }
          ],
          "scatter": [
           {
            "marker": {
             "colorbar": {
              "outlinewidth": 0,
              "ticks": ""
             }
            },
            "type": "scatter"
           }
          ],
          "scatter3d": [
           {
            "line": {
             "colorbar": {
              "outlinewidth": 0,
              "ticks": ""
             }
            },
            "marker": {
             "colorbar": {
              "outlinewidth": 0,
              "ticks": ""
             }
            },
            "type": "scatter3d"
           }
          ],
          "scattercarpet": [
           {
            "marker": {
             "colorbar": {
              "outlinewidth": 0,
              "ticks": ""
             }
            },
            "type": "scattercarpet"
           }
          ],
          "scattergeo": [
           {
            "marker": {
             "colorbar": {
              "outlinewidth": 0,
              "ticks": ""
             }
            },
            "type": "scattergeo"
           }
          ],
          "scattergl": [
           {
            "marker": {
             "colorbar": {
              "outlinewidth": 0,
              "ticks": ""
             }
            },
            "type": "scattergl"
           }
          ],
          "scattermapbox": [
           {
            "marker": {
             "colorbar": {
              "outlinewidth": 0,
              "ticks": ""
             }
            },
            "type": "scattermapbox"
           }
          ],
          "scatterpolar": [
           {
            "marker": {
             "colorbar": {
              "outlinewidth": 0,
              "ticks": ""
             }
            },
            "type": "scatterpolar"
           }
          ],
          "scatterpolargl": [
           {
            "marker": {
             "colorbar": {
              "outlinewidth": 0,
              "ticks": ""
             }
            },
            "type": "scatterpolargl"
           }
          ],
          "scatterternary": [
           {
            "marker": {
             "colorbar": {
              "outlinewidth": 0,
              "ticks": ""
             }
            },
            "type": "scatterternary"
           }
          ],
          "surface": [
           {
            "colorbar": {
             "outlinewidth": 0,
             "ticks": ""
            },
            "colorscale": [
             [
              0,
              "#0d0887"
             ],
             [
              0.1111111111111111,
              "#46039f"
             ],
             [
              0.2222222222222222,
              "#7201a8"
             ],
             [
              0.3333333333333333,
              "#9c179e"
             ],
             [
              0.4444444444444444,
              "#bd3786"
             ],
             [
              0.5555555555555556,
              "#d8576b"
             ],
             [
              0.6666666666666666,
              "#ed7953"
             ],
             [
              0.7777777777777778,
              "#fb9f3a"
             ],
             [
              0.8888888888888888,
              "#fdca26"
             ],
             [
              1,
              "#f0f921"
             ]
            ],
            "type": "surface"
           }
          ],
          "table": [
           {
            "cells": {
             "fill": {
              "color": "#EBF0F8"
             },
             "line": {
              "color": "white"
             }
            },
            "header": {
             "fill": {
              "color": "#C8D4E3"
             },
             "line": {
              "color": "white"
             }
            },
            "type": "table"
           }
          ]
         },
         "layout": {
          "annotationdefaults": {
           "arrowcolor": "#2a3f5f",
           "arrowhead": 0,
           "arrowwidth": 1
          },
          "autotypenumbers": "strict",
          "coloraxis": {
           "colorbar": {
            "outlinewidth": 0,
            "ticks": ""
           }
          },
          "colorscale": {
           "diverging": [
            [
             0,
             "#8e0152"
            ],
            [
             0.1,
             "#c51b7d"
            ],
            [
             0.2,
             "#de77ae"
            ],
            [
             0.3,
             "#f1b6da"
            ],
            [
             0.4,
             "#fde0ef"
            ],
            [
             0.5,
             "#f7f7f7"
            ],
            [
             0.6,
             "#e6f5d0"
            ],
            [
             0.7,
             "#b8e186"
            ],
            [
             0.8,
             "#7fbc41"
            ],
            [
             0.9,
             "#4d9221"
            ],
            [
             1,
             "#276419"
            ]
           ],
           "sequential": [
            [
             0,
             "#0d0887"
            ],
            [
             0.1111111111111111,
             "#46039f"
            ],
            [
             0.2222222222222222,
             "#7201a8"
            ],
            [
             0.3333333333333333,
             "#9c179e"
            ],
            [
             0.4444444444444444,
             "#bd3786"
            ],
            [
             0.5555555555555556,
             "#d8576b"
            ],
            [
             0.6666666666666666,
             "#ed7953"
            ],
            [
             0.7777777777777778,
             "#fb9f3a"
            ],
            [
             0.8888888888888888,
             "#fdca26"
            ],
            [
             1,
             "#f0f921"
            ]
           ],
           "sequentialminus": [
            [
             0,
             "#0d0887"
            ],
            [
             0.1111111111111111,
             "#46039f"
            ],
            [
             0.2222222222222222,
             "#7201a8"
            ],
            [
             0.3333333333333333,
             "#9c179e"
            ],
            [
             0.4444444444444444,
             "#bd3786"
            ],
            [
             0.5555555555555556,
             "#d8576b"
            ],
            [
             0.6666666666666666,
             "#ed7953"
            ],
            [
             0.7777777777777778,
             "#fb9f3a"
            ],
            [
             0.8888888888888888,
             "#fdca26"
            ],
            [
             1,
             "#f0f921"
            ]
           ]
          },
          "colorway": [
           "#636efa",
           "#EF553B",
           "#00cc96",
           "#ab63fa",
           "#FFA15A",
           "#19d3f3",
           "#FF6692",
           "#B6E880",
           "#FF97FF",
           "#FECB52"
          ],
          "font": {
           "color": "#2a3f5f"
          },
          "geo": {
           "bgcolor": "white",
           "lakecolor": "white",
           "landcolor": "#E5ECF6",
           "showlakes": true,
           "showland": true,
           "subunitcolor": "white"
          },
          "hoverlabel": {
           "align": "left"
          },
          "hovermode": "closest",
          "mapbox": {
           "style": "light"
          },
          "paper_bgcolor": "white",
          "plot_bgcolor": "#E5ECF6",
          "polar": {
           "angularaxis": {
            "gridcolor": "white",
            "linecolor": "white",
            "ticks": ""
           },
           "bgcolor": "#E5ECF6",
           "radialaxis": {
            "gridcolor": "white",
            "linecolor": "white",
            "ticks": ""
           }
          },
          "scene": {
           "xaxis": {
            "backgroundcolor": "#E5ECF6",
            "gridcolor": "white",
            "gridwidth": 2,
            "linecolor": "white",
            "showbackground": true,
            "ticks": "",
            "zerolinecolor": "white"
           },
           "yaxis": {
            "backgroundcolor": "#E5ECF6",
            "gridcolor": "white",
            "gridwidth": 2,
            "linecolor": "white",
            "showbackground": true,
            "ticks": "",
            "zerolinecolor": "white"
           },
           "zaxis": {
            "backgroundcolor": "#E5ECF6",
            "gridcolor": "white",
            "gridwidth": 2,
            "linecolor": "white",
            "showbackground": true,
            "ticks": "",
            "zerolinecolor": "white"
           }
          },
          "shapedefaults": {
           "line": {
            "color": "#2a3f5f"
           }
          },
          "ternary": {
           "aaxis": {
            "gridcolor": "white",
            "linecolor": "white",
            "ticks": ""
           },
           "baxis": {
            "gridcolor": "white",
            "linecolor": "white",
            "ticks": ""
           },
           "bgcolor": "#E5ECF6",
           "caxis": {
            "gridcolor": "white",
            "linecolor": "white",
            "ticks": ""
           }
          },
          "title": {
           "x": 0.05
          },
          "xaxis": {
           "automargin": true,
           "gridcolor": "white",
           "linecolor": "white",
           "ticks": "",
           "title": {
            "standoff": 15
           },
           "zerolinecolor": "white",
           "zerolinewidth": 2
          },
          "yaxis": {
           "automargin": true,
           "gridcolor": "white",
           "linecolor": "white",
           "ticks": "",
           "title": {
            "standoff": 15
           },
           "zerolinecolor": "white",
           "zerolinewidth": 2
          }
         }
        },
        "title": {
         "text": "Ibuprofen"
        },
        "xaxis": {
         "anchor": "y",
         "domain": [
          0,
          1
         ],
         "tickangle": 45,
         "title": {
          "text": "LIEK_popis"
         }
        },
        "yaxis": {
         "anchor": "x",
         "domain": [
          0,
          1
         ],
         "title": {
          "text": "Počet balení"
         }
        }
       }
      }
     },
     "metadata": {}
    }
   ],
   "source": [
    "fig = px.scatter(ibuprofen, x='LIEK_popis', y='Počet balení', size='Cena úhrada_PAC/bal', color='STAT_popis', title='Ibuprofen')\n",
    "fig.update_xaxes(tickangle=45)\n",
    "fig.show()"
   ]
  },
  {
   "source": [
    "Z grafu vidime, ze najpredavanejsi liek s ibuprofenom je slovensky Ibalgin 400. Z ceskych liekov bol najpredavanejsi Nurofen pre deti. To, ze bol druhy najpredavanejsi je mozno sposobene tym ze je prave pre deti. Hodnoty cien su vyrazne skreslene, co moze byt sposobene tym, ze mozno vela pacientom lieky nepreplacala poistovna.  "
   ],
   "cell_type": "markdown",
   "metadata": {}
  }
 ]
}