{
 "metadata": {
  "language_info": {
   "codemirror_mode": {
    "name": "ipython",
    "version": 3
   },
   "file_extension": ".py",
   "mimetype": "text/x-python",
   "name": "python",
   "nbconvert_exporter": "python",
   "pygments_lexer": "ipython3",
   "version": "3.9.1"
  },
  "orig_nbformat": 2,
  "kernelspec": {
   "name": "python391jvsc74a57bd0d153afc154f55f63edb29ab3b8e0ef98f4223ee04c2a602f3a0cf8c8ffe67f14",
   "display_name": "Python 3.9.1 64-bit"
  },
  "metadata": {
   "interpreter": {
    "hash": "d153afc154f55f63edb29ab3b8e0ef98f4223ee04c2a602f3a0cf8c8ffe67f14"
   }
  }
 },
 "nbformat": 4,
 "nbformat_minor": 2,
 "cells": [
  {
   "source": [
    "# Analyza liekov podla skupiny ATC7 \n",
    "* pozn. Doplnit info o liekoch, popis!!, upravit grafy a farby\n",
    "\n",
    "Analýzu sme robili na dátach z roku 2019, keďže je to posledný rok, z ktorého sme mali údaje za všetky štvrťroky a zároveň v tomto roku na Slovensku ešte nebola pandémia.\n",
    "Otázky:\n",
    "* Ktoré lieky s danou účinnou látkou sa predávajú viac než ostatné? Závisí predaj od krajiny výrobcu?\n",
    "\n",
    "(mozno fajn vo vsetkych grafoch krajiny rovnakou farbou)\n",
    " 1409 roznych ucinnych latok"
   ],
   "cell_type": "markdown",
   "metadata": {}
  },
  {
   "cell_type": "code",
   "execution_count": 9,
   "metadata": {},
   "outputs": [],
   "source": [
    "import pandas as pd \n",
    "import numpy as np \n",
    "import matplotlib.pyplot as plt \n",
    "import plotly.express as px\n",
    "%run tables.py"
   ]
  },
  {
   "source": [
    "# Tabulka, s ktorou pracujeme (rok 2019) s vybranymi udajmi"
   ],
   "cell_type": "markdown",
   "metadata": {}
  },
  {
   "cell_type": "code",
   "execution_count": 10,
   "metadata": {},
   "outputs": [],
   "source": [
    "table = import_table('detailed', 2019)\n",
    "table = table.rename(columns={'Počet balení': 'Počet_balení'})"
   ]
  },
  {
   "cell_type": "code",
   "execution_count": 11,
   "metadata": {},
   "outputs": [
    {
     "output_type": "display_data",
     "data": {
      "text/plain": "  ATC7_KOD                           ATC7_popis LIEK_KOD  \\\n0  A01AA03                              Olaflur   C40630   \n1  A01AA30  Profylaxia zubného kazu, kombinácie   C40631   \n2  A01AA30  Profylaxia zubného kazu, kombinácie   C85867   \n3  A01AB03                         Chlorhexidín   C14106   \n4  A01AB03                         Chlorhexidín   C34296   \n\n                         LIEK_popis STAT_popis  \\\n0       ELMEX FLUID sol dnt 1x50 ml    Nemecko   \n1        ELMEX gelee gel dnt 1x25 g    Nemecko   \n2       ELMEX gelee gel dnt 1x215 g    Nemecko   \n3         CORSODYL sol ora 1x600 ml      Česko   \n4  PROTEFIX ANTISEPT sol der 200 ml    Nemecko   \n\n                                       VYROBCA_popis  Počet_balení  Úhrada_PAC  \n0                                          GABA GmbH          40.0      135.08  \n1                                       CP GABA GmbH       43832.5   313077.14  \n2                                       CP GABA GmbH          29.0      171.85  \n3  GlaxoSmithKline Consumer Healthcare Czech Repu...          72.0      254.33  \n4                         Queisser Pharma GmbH & Co.           6.0       27.82  ",
      "text/html": "<div>\n<style scoped>\n    .dataframe tbody tr th:only-of-type {\n        vertical-align: middle;\n    }\n\n    .dataframe tbody tr th {\n        vertical-align: top;\n    }\n\n    .dataframe thead th {\n        text-align: right;\n    }\n</style>\n<table border=\"1\" class=\"dataframe\">\n  <thead>\n    <tr style=\"text-align: right;\">\n      <th></th>\n      <th>ATC7_KOD</th>\n      <th>ATC7_popis</th>\n      <th>LIEK_KOD</th>\n      <th>LIEK_popis</th>\n      <th>STAT_popis</th>\n      <th>VYROBCA_popis</th>\n      <th>Počet_balení</th>\n      <th>Úhrada_PAC</th>\n    </tr>\n  </thead>\n  <tbody>\n    <tr>\n      <th>0</th>\n      <td>A01AA03</td>\n      <td>Olaflur</td>\n      <td>C40630</td>\n      <td>ELMEX FLUID sol dnt 1x50 ml</td>\n      <td>Nemecko</td>\n      <td>GABA GmbH</td>\n      <td>40.0</td>\n      <td>135.08</td>\n    </tr>\n    <tr>\n      <th>1</th>\n      <td>A01AA30</td>\n      <td>Profylaxia zubného kazu, kombinácie</td>\n      <td>C40631</td>\n      <td>ELMEX gelee gel dnt 1x25 g</td>\n      <td>Nemecko</td>\n      <td>CP GABA GmbH</td>\n      <td>43832.5</td>\n      <td>313077.14</td>\n    </tr>\n    <tr>\n      <th>2</th>\n      <td>A01AA30</td>\n      <td>Profylaxia zubného kazu, kombinácie</td>\n      <td>C85867</td>\n      <td>ELMEX gelee gel dnt 1x215 g</td>\n      <td>Nemecko</td>\n      <td>CP GABA GmbH</td>\n      <td>29.0</td>\n      <td>171.85</td>\n    </tr>\n    <tr>\n      <th>3</th>\n      <td>A01AB03</td>\n      <td>Chlorhexidín</td>\n      <td>C14106</td>\n      <td>CORSODYL sol ora 1x600 ml</td>\n      <td>Česko</td>\n      <td>GlaxoSmithKline Consumer Healthcare Czech Repu...</td>\n      <td>72.0</td>\n      <td>254.33</td>\n    </tr>\n    <tr>\n      <th>4</th>\n      <td>A01AB03</td>\n      <td>Chlorhexidín</td>\n      <td>C34296</td>\n      <td>PROTEFIX ANTISEPT sol der 200 ml</td>\n      <td>Nemecko</td>\n      <td>Queisser Pharma GmbH &amp; Co.</td>\n      <td>6.0</td>\n      <td>27.82</td>\n    </tr>\n  </tbody>\n</table>\n</div>"
     },
     "metadata": {}
    },
    {
     "output_type": "display_data",
     "data": {
      "text/plain": "     ATC7_KOD   ATC7_popis LIEK_KOD                        LIEK_popis  \\\n9813      V12  Homeopatiká   C82842  GINKGO BILOBA plv 15 g ch2-ch200   \n9814      V12  Homeopatiká   C96701  ARNICA MONTANA ung 20 g ch2-ch30   \n9815      V12  Homeopatiká   C97944                   QUIETUDE tbl 60   \n9816      V12  Homeopatiká   C99176       BELLADONNA gra 4 g ch3-ch30   \n9817      V12  Homeopatiká   C99177   ARNICA MONTANA gra 4 g ch2-ch30   \n\n      STAT_popis        VYROBCA_popis  Počet_balení  Úhrada_PAC  \n9813  Francúzsko  Laboratoires BOIRON         309.0      882.18  \n9814  Francúzsko  Laboratoires BOIRON          15.0       52.29  \n9815  Francúzsko  Laboratoires BOIRON         156.0     1030.21  \n9816  Francúzsko  Laboratoires BOIRON         183.0      631.73  \n9817  Francúzsko  Laboratoires BOIRON         700.0     2375.06  ",
      "text/html": "<div>\n<style scoped>\n    .dataframe tbody tr th:only-of-type {\n        vertical-align: middle;\n    }\n\n    .dataframe tbody tr th {\n        vertical-align: top;\n    }\n\n    .dataframe thead th {\n        text-align: right;\n    }\n</style>\n<table border=\"1\" class=\"dataframe\">\n  <thead>\n    <tr style=\"text-align: right;\">\n      <th></th>\n      <th>ATC7_KOD</th>\n      <th>ATC7_popis</th>\n      <th>LIEK_KOD</th>\n      <th>LIEK_popis</th>\n      <th>STAT_popis</th>\n      <th>VYROBCA_popis</th>\n      <th>Počet_balení</th>\n      <th>Úhrada_PAC</th>\n    </tr>\n  </thead>\n  <tbody>\n    <tr>\n      <th>9813</th>\n      <td>V12</td>\n      <td>Homeopatiká</td>\n      <td>C82842</td>\n      <td>GINKGO BILOBA plv 15 g ch2-ch200</td>\n      <td>Francúzsko</td>\n      <td>Laboratoires BOIRON</td>\n      <td>309.0</td>\n      <td>882.18</td>\n    </tr>\n    <tr>\n      <th>9814</th>\n      <td>V12</td>\n      <td>Homeopatiká</td>\n      <td>C96701</td>\n      <td>ARNICA MONTANA ung 20 g ch2-ch30</td>\n      <td>Francúzsko</td>\n      <td>Laboratoires BOIRON</td>\n      <td>15.0</td>\n      <td>52.29</td>\n    </tr>\n    <tr>\n      <th>9815</th>\n      <td>V12</td>\n      <td>Homeopatiká</td>\n      <td>C97944</td>\n      <td>QUIETUDE tbl 60</td>\n      <td>Francúzsko</td>\n      <td>Laboratoires BOIRON</td>\n      <td>156.0</td>\n      <td>1030.21</td>\n    </tr>\n    <tr>\n      <th>9816</th>\n      <td>V12</td>\n      <td>Homeopatiká</td>\n      <td>C99176</td>\n      <td>BELLADONNA gra 4 g ch3-ch30</td>\n      <td>Francúzsko</td>\n      <td>Laboratoires BOIRON</td>\n      <td>183.0</td>\n      <td>631.73</td>\n    </tr>\n    <tr>\n      <th>9817</th>\n      <td>V12</td>\n      <td>Homeopatiká</td>\n      <td>C99177</td>\n      <td>ARNICA MONTANA gra 4 g ch2-ch30</td>\n      <td>Francúzsko</td>\n      <td>Laboratoires BOIRON</td>\n      <td>700.0</td>\n      <td>2375.06</td>\n    </tr>\n  </tbody>\n</table>\n</div>"
     },
     "metadata": {}
    }
   ],
   "source": [
    "\n",
    "table2019=table.loc[:,['ATC7_KOD','ATC7_popis','LIEK_KOD','LIEK_popis', 'STAT_popis', 'VYROBCA_popis', 'Počet_balení','Úhrada_PAC']]\n",
    "table2019 = table2019.query('ATC7_KOD != \"(prazdne)\"').query( 'ATC7_popis != \"neznámy\"')\n",
    "table2019sum = table2019.groupby(['ATC7_KOD','ATC7_popis','LIEK_KOD','LIEK_popis', 'STAT_popis','VYROBCA_popis']).sum().reset_index()\n",
    "display(table2019sum.head())\n",
    "display(table2019sum.tail())\n"
   ]
  },
  {
   "source": [
    "# Tabulka: 15 najpredavanejsich ucinnych latok"
   ],
   "cell_type": "markdown",
   "metadata": {}
  },
  {
   "cell_type": "code",
   "execution_count": 12,
   "metadata": {},
   "outputs": [
    {
     "output_type": "display_data",
     "data": {
      "text/plain": "   ATC7_KOD                                  ATC7_popis  Počet_balení\n0   V09FX01                              Technécium - (   9618479.510\n1   B05BB01                                 Elektrolyty   5331686.852\n2   N02BE01                                 Paracetamol   3297020.107\n3   M01AE01                                   Ibuprofén   2795946.717\n4   C07AB07                                  Bisoprolol   2607372.542\n5   C08CA01                                   Amlodipín   2119340.883\n6   N05BA12                                  Alprazolam   2045121.730\n7   M01AB05                                  Diklofenak   2013726.518\n8   N02BB02                        Metamizol, sodná soľ   1946250.707\n9   C07AB02                                  Metoprolol   1873602.519\n10  B01AC06                   Kyselina acetylsalicylová   1751434.007\n11  C10AA05                                Atorvastatín   1570661.378\n12  N05CF02                                    Zolpidém   1555453.927\n13  R01AA07                               Xylometazolín   1496827.500\n14  R02AA20                 Rôzne iné krčné antiseptiká   1444293.959\n15  N02BE51  Paracetamol, kombinácie okrem psycholeptík   1322071.122\n16  M02AA15                                  Diklofenak   1185154.441\n17  A11GA01              Kyselina askorbová (vitamín C)   1167817.511\n18  A02BC02                                 Pantoprazol   1151639.605\n19  R01AA09                                  Tramazolín   1135312.849",
      "text/html": "<div>\n<style scoped>\n    .dataframe tbody tr th:only-of-type {\n        vertical-align: middle;\n    }\n\n    .dataframe tbody tr th {\n        vertical-align: top;\n    }\n\n    .dataframe thead th {\n        text-align: right;\n    }\n</style>\n<table border=\"1\" class=\"dataframe\">\n  <thead>\n    <tr style=\"text-align: right;\">\n      <th></th>\n      <th>ATC7_KOD</th>\n      <th>ATC7_popis</th>\n      <th>Počet_balení</th>\n    </tr>\n  </thead>\n  <tbody>\n    <tr>\n      <th>0</th>\n      <td>V09FX01</td>\n      <td>Technécium - (</td>\n      <td>9618479.510</td>\n    </tr>\n    <tr>\n      <th>1</th>\n      <td>B05BB01</td>\n      <td>Elektrolyty</td>\n      <td>5331686.852</td>\n    </tr>\n    <tr>\n      <th>2</th>\n      <td>N02BE01</td>\n      <td>Paracetamol</td>\n      <td>3297020.107</td>\n    </tr>\n    <tr>\n      <th>3</th>\n      <td>M01AE01</td>\n      <td>Ibuprofén</td>\n      <td>2795946.717</td>\n    </tr>\n    <tr>\n      <th>4</th>\n      <td>C07AB07</td>\n      <td>Bisoprolol</td>\n      <td>2607372.542</td>\n    </tr>\n    <tr>\n      <th>5</th>\n      <td>C08CA01</td>\n      <td>Amlodipín</td>\n      <td>2119340.883</td>\n    </tr>\n    <tr>\n      <th>6</th>\n      <td>N05BA12</td>\n      <td>Alprazolam</td>\n      <td>2045121.730</td>\n    </tr>\n    <tr>\n      <th>7</th>\n      <td>M01AB05</td>\n      <td>Diklofenak</td>\n      <td>2013726.518</td>\n    </tr>\n    <tr>\n      <th>8</th>\n      <td>N02BB02</td>\n      <td>Metamizol, sodná soľ</td>\n      <td>1946250.707</td>\n    </tr>\n    <tr>\n      <th>9</th>\n      <td>C07AB02</td>\n      <td>Metoprolol</td>\n      <td>1873602.519</td>\n    </tr>\n    <tr>\n      <th>10</th>\n      <td>B01AC06</td>\n      <td>Kyselina acetylsalicylová</td>\n      <td>1751434.007</td>\n    </tr>\n    <tr>\n      <th>11</th>\n      <td>C10AA05</td>\n      <td>Atorvastatín</td>\n      <td>1570661.378</td>\n    </tr>\n    <tr>\n      <th>12</th>\n      <td>N05CF02</td>\n      <td>Zolpidém</td>\n      <td>1555453.927</td>\n    </tr>\n    <tr>\n      <th>13</th>\n      <td>R01AA07</td>\n      <td>Xylometazolín</td>\n      <td>1496827.500</td>\n    </tr>\n    <tr>\n      <th>14</th>\n      <td>R02AA20</td>\n      <td>Rôzne iné krčné antiseptiká</td>\n      <td>1444293.959</td>\n    </tr>\n    <tr>\n      <th>15</th>\n      <td>N02BE51</td>\n      <td>Paracetamol, kombinácie okrem psycholeptík</td>\n      <td>1322071.122</td>\n    </tr>\n    <tr>\n      <th>16</th>\n      <td>M02AA15</td>\n      <td>Diklofenak</td>\n      <td>1185154.441</td>\n    </tr>\n    <tr>\n      <th>17</th>\n      <td>A11GA01</td>\n      <td>Kyselina askorbová (vitamín C)</td>\n      <td>1167817.511</td>\n    </tr>\n    <tr>\n      <th>18</th>\n      <td>A02BC02</td>\n      <td>Pantoprazol</td>\n      <td>1151639.605</td>\n    </tr>\n    <tr>\n      <th>19</th>\n      <td>R01AA09</td>\n      <td>Tramazolín</td>\n      <td>1135312.849</td>\n    </tr>\n  </tbody>\n</table>\n</div>"
     },
     "metadata": {}
    }
   ],
   "source": [
    "atc7 = table2019.loc[:,['ATC7_KOD', 'ATC7_popis','Počet_balení']].groupby(['ATC7_KOD', 'ATC7_popis']).sum().sort_values(by='Počet_balení', ascending=False).reset_index().head(15)\n",
    "display(atc7)"
   ]
  },
  {
   "cell_type": "code",
   "execution_count": 37,
   "metadata": {},
   "outputs": [
    {
     "output_type": "display_data",
     "data": {
      "application/vnd.plotly.v1+json": {
       "config": {
        "plotlyServerURL": "https://plot.ly"
       },
       "data": [
        {
         "alignmentgroup": "True",
         "hovertemplate": "Počet_balení=%{x}<br>ATC7_popis=%{y}<extra></extra>",
         "legendgroup": "",
         "marker": {
          "color": "#636efa"
         },
         "name": "",
         "offsetgroup": "",
         "orientation": "h",
         "showlegend": false,
         "textposition": "auto",
         "type": "bar",
         "x": [
          1135312.849,
          1151639.605,
          1167817.511,
          1185154.4410000003,
          1322071.1219999997,
          1444293.9589999998,
          1496827.5,
          1555453.9270000004,
          1570661.3780000005,
          1751434.007,
          1873602.519,
          1946250.7069999997,
          2013726.5179999997,
          2045121.7299999997,
          2119340.883,
          2607372.5420000004,
          2795946.7169999992,
          3297020.1070000003,
          5331686.852000001,
          9618479.51
         ],
         "xaxis": "x",
         "y": [
          "Tramazolín",
          "Pantoprazol",
          "Kyselina askorbová (vitamín C)",
          "Diklofenak",
          "Paracetamol, kombinácie okrem psycholeptík",
          "Rôzne iné krčné antiseptiká",
          "Xylometazolín",
          "Zolpidém",
          "Atorvastatín",
          "Kyselina acetylsalicylová",
          "Metoprolol",
          "Metamizol, sodná soľ",
          "Diklofenak",
          "Alprazolam",
          "Amlodipín",
          "Bisoprolol",
          "Ibuprofén",
          "Paracetamol",
          "Elektrolyty",
          "Technécium - ("
         ],
         "yaxis": "y"
        }
       ],
       "layout": {
        "barmode": "relative",
        "legend": {
         "tracegroupgap": 0
        },
        "margin": {
         "t": 60
        },
        "template": {
         "data": {
          "bar": [
           {
            "error_x": {
             "color": "#2a3f5f"
            },
            "error_y": {
             "color": "#2a3f5f"
            },
            "marker": {
             "line": {
              "color": "#E5ECF6",
              "width": 0.5
             }
            },
            "type": "bar"
           }
          ],
          "barpolar": [
           {
            "marker": {
             "line": {
              "color": "#E5ECF6",
              "width": 0.5
             }
            },
            "type": "barpolar"
           }
          ],
          "carpet": [
           {
            "aaxis": {
             "endlinecolor": "#2a3f5f",
             "gridcolor": "white",
             "linecolor": "white",
             "minorgridcolor": "white",
             "startlinecolor": "#2a3f5f"
            },
            "baxis": {
             "endlinecolor": "#2a3f5f",
             "gridcolor": "white",
             "linecolor": "white",
             "minorgridcolor": "white",
             "startlinecolor": "#2a3f5f"
            },
            "type": "carpet"
           }
          ],
          "choropleth": [
           {
            "colorbar": {
             "outlinewidth": 0,
             "ticks": ""
            },
            "type": "choropleth"
           }
          ],
          "contour": [
           {
            "colorbar": {
             "outlinewidth": 0,
             "ticks": ""
            },
            "colorscale": [
             [
              0,
              "#0d0887"
             ],
             [
              0.1111111111111111,
              "#46039f"
             ],
             [
              0.2222222222222222,
              "#7201a8"
             ],
             [
              0.3333333333333333,
              "#9c179e"
             ],
             [
              0.4444444444444444,
              "#bd3786"
             ],
             [
              0.5555555555555556,
              "#d8576b"
             ],
             [
              0.6666666666666666,
              "#ed7953"
             ],
             [
              0.7777777777777778,
              "#fb9f3a"
             ],
             [
              0.8888888888888888,
              "#fdca26"
             ],
             [
              1,
              "#f0f921"
             ]
            ],
            "type": "contour"
           }
          ],
          "contourcarpet": [
           {
            "colorbar": {
             "outlinewidth": 0,
             "ticks": ""
            },
            "type": "contourcarpet"
           }
          ],
          "heatmap": [
           {
            "colorbar": {
             "outlinewidth": 0,
             "ticks": ""
            },
            "colorscale": [
             [
              0,
              "#0d0887"
             ],
             [
              0.1111111111111111,
              "#46039f"
             ],
             [
              0.2222222222222222,
              "#7201a8"
             ],
             [
              0.3333333333333333,
              "#9c179e"
             ],
             [
              0.4444444444444444,
              "#bd3786"
             ],
             [
              0.5555555555555556,
              "#d8576b"
             ],
             [
              0.6666666666666666,
              "#ed7953"
             ],
             [
              0.7777777777777778,
              "#fb9f3a"
             ],
             [
              0.8888888888888888,
              "#fdca26"
             ],
             [
              1,
              "#f0f921"
             ]
            ],
            "type": "heatmap"
           }
          ],
          "heatmapgl": [
           {
            "colorbar": {
             "outlinewidth": 0,
             "ticks": ""
            },
            "colorscale": [
             [
              0,
              "#0d0887"
             ],
             [
              0.1111111111111111,
              "#46039f"
             ],
             [
              0.2222222222222222,
              "#7201a8"
             ],
             [
              0.3333333333333333,
              "#9c179e"
             ],
             [
              0.4444444444444444,
              "#bd3786"
             ],
             [
              0.5555555555555556,
              "#d8576b"
             ],
             [
              0.6666666666666666,
              "#ed7953"
             ],
             [
              0.7777777777777778,
              "#fb9f3a"
             ],
             [
              0.8888888888888888,
              "#fdca26"
             ],
             [
              1,
              "#f0f921"
             ]
            ],
            "type": "heatmapgl"
           }
          ],
          "histogram": [
           {
            "marker": {
             "colorbar": {
              "outlinewidth": 0,
              "ticks": ""
             }
            },
            "type": "histogram"
           }
          ],
          "histogram2d": [
           {
            "colorbar": {
             "outlinewidth": 0,
             "ticks": ""
            },
            "colorscale": [
             [
              0,
              "#0d0887"
             ],
             [
              0.1111111111111111,
              "#46039f"
             ],
             [
              0.2222222222222222,
              "#7201a8"
             ],
             [
              0.3333333333333333,
              "#9c179e"
             ],
             [
              0.4444444444444444,
              "#bd3786"
             ],
             [
              0.5555555555555556,
              "#d8576b"
             ],
             [
              0.6666666666666666,
              "#ed7953"
             ],
             [
              0.7777777777777778,
              "#fb9f3a"
             ],
             [
              0.8888888888888888,
              "#fdca26"
             ],
             [
              1,
              "#f0f921"
             ]
            ],
            "type": "histogram2d"
           }
          ],
          "histogram2dcontour": [
           {
            "colorbar": {
             "outlinewidth": 0,
             "ticks": ""
            },
            "colorscale": [
             [
              0,
              "#0d0887"
             ],
             [
              0.1111111111111111,
              "#46039f"
             ],
             [
              0.2222222222222222,
              "#7201a8"
             ],
             [
              0.3333333333333333,
              "#9c179e"
             ],
             [
              0.4444444444444444,
              "#bd3786"
             ],
             [
              0.5555555555555556,
              "#d8576b"
             ],
             [
              0.6666666666666666,
              "#ed7953"
             ],
             [
              0.7777777777777778,
              "#fb9f3a"
             ],
             [
              0.8888888888888888,
              "#fdca26"
             ],
             [
              1,
              "#f0f921"
             ]
            ],
            "type": "histogram2dcontour"
           }
          ],
          "mesh3d": [
           {
            "colorbar": {
             "outlinewidth": 0,
             "ticks": ""
            },
            "type": "mesh3d"
           }
          ],
          "parcoords": [
           {
            "line": {
             "colorbar": {
              "outlinewidth": 0,
              "ticks": ""
             }
            },
            "type": "parcoords"
           }
          ],
          "pie": [
           {
            "automargin": true,
            "type": "pie"
           }
          ],
          "scatter": [
           {
            "marker": {
             "colorbar": {
              "outlinewidth": 0,
              "ticks": ""
             }
            },
            "type": "scatter"
           }
          ],
          "scatter3d": [
           {
            "line": {
             "colorbar": {
              "outlinewidth": 0,
              "ticks": ""
             }
            },
            "marker": {
             "colorbar": {
              "outlinewidth": 0,
              "ticks": ""
             }
            },
            "type": "scatter3d"
           }
          ],
          "scattercarpet": [
           {
            "marker": {
             "colorbar": {
              "outlinewidth": 0,
              "ticks": ""
             }
            },
            "type": "scattercarpet"
           }
          ],
          "scattergeo": [
           {
            "marker": {
             "colorbar": {
              "outlinewidth": 0,
              "ticks": ""
             }
            },
            "type": "scattergeo"
           }
          ],
          "scattergl": [
           {
            "marker": {
             "colorbar": {
              "outlinewidth": 0,
              "ticks": ""
             }
            },
            "type": "scattergl"
           }
          ],
          "scattermapbox": [
           {
            "marker": {
             "colorbar": {
              "outlinewidth": 0,
              "ticks": ""
             }
            },
            "type": "scattermapbox"
           }
          ],
          "scatterpolar": [
           {
            "marker": {
             "colorbar": {
              "outlinewidth": 0,
              "ticks": ""
             }
            },
            "type": "scatterpolar"
           }
          ],
          "scatterpolargl": [
           {
            "marker": {
             "colorbar": {
              "outlinewidth": 0,
              "ticks": ""
             }
            },
            "type": "scatterpolargl"
           }
          ],
          "scatterternary": [
           {
            "marker": {
             "colorbar": {
              "outlinewidth": 0,
              "ticks": ""
             }
            },
            "type": "scatterternary"
           }
          ],
          "surface": [
           {
            "colorbar": {
             "outlinewidth": 0,
             "ticks": ""
            },
            "colorscale": [
             [
              0,
              "#0d0887"
             ],
             [
              0.1111111111111111,
              "#46039f"
             ],
             [
              0.2222222222222222,
              "#7201a8"
             ],
             [
              0.3333333333333333,
              "#9c179e"
             ],
             [
              0.4444444444444444,
              "#bd3786"
             ],
             [
              0.5555555555555556,
              "#d8576b"
             ],
             [
              0.6666666666666666,
              "#ed7953"
             ],
             [
              0.7777777777777778,
              "#fb9f3a"
             ],
             [
              0.8888888888888888,
              "#fdca26"
             ],
             [
              1,
              "#f0f921"
             ]
            ],
            "type": "surface"
           }
          ],
          "table": [
           {
            "cells": {
             "fill": {
              "color": "#EBF0F8"
             },
             "line": {
              "color": "white"
             }
            },
            "header": {
             "fill": {
              "color": "#C8D4E3"
             },
             "line": {
              "color": "white"
             }
            },
            "type": "table"
           }
          ]
         },
         "layout": {
          "annotationdefaults": {
           "arrowcolor": "#2a3f5f",
           "arrowhead": 0,
           "arrowwidth": 1
          },
          "autotypenumbers": "strict",
          "coloraxis": {
           "colorbar": {
            "outlinewidth": 0,
            "ticks": ""
           }
          },
          "colorscale": {
           "diverging": [
            [
             0,
             "#8e0152"
            ],
            [
             0.1,
             "#c51b7d"
            ],
            [
             0.2,
             "#de77ae"
            ],
            [
             0.3,
             "#f1b6da"
            ],
            [
             0.4,
             "#fde0ef"
            ],
            [
             0.5,
             "#f7f7f7"
            ],
            [
             0.6,
             "#e6f5d0"
            ],
            [
             0.7,
             "#b8e186"
            ],
            [
             0.8,
             "#7fbc41"
            ],
            [
             0.9,
             "#4d9221"
            ],
            [
             1,
             "#276419"
            ]
           ],
           "sequential": [
            [
             0,
             "#0d0887"
            ],
            [
             0.1111111111111111,
             "#46039f"
            ],
            [
             0.2222222222222222,
             "#7201a8"
            ],
            [
             0.3333333333333333,
             "#9c179e"
            ],
            [
             0.4444444444444444,
             "#bd3786"
            ],
            [
             0.5555555555555556,
             "#d8576b"
            ],
            [
             0.6666666666666666,
             "#ed7953"
            ],
            [
             0.7777777777777778,
             "#fb9f3a"
            ],
            [
             0.8888888888888888,
             "#fdca26"
            ],
            [
             1,
             "#f0f921"
            ]
           ],
           "sequentialminus": [
            [
             0,
             "#0d0887"
            ],
            [
             0.1111111111111111,
             "#46039f"
            ],
            [
             0.2222222222222222,
             "#7201a8"
            ],
            [
             0.3333333333333333,
             "#9c179e"
            ],
            [
             0.4444444444444444,
             "#bd3786"
            ],
            [
             0.5555555555555556,
             "#d8576b"
            ],
            [
             0.6666666666666666,
             "#ed7953"
            ],
            [
             0.7777777777777778,
             "#fb9f3a"
            ],
            [
             0.8888888888888888,
             "#fdca26"
            ],
            [
             1,
             "#f0f921"
            ]
           ]
          },
          "colorway": [
           "#636efa",
           "#EF553B",
           "#00cc96",
           "#ab63fa",
           "#FFA15A",
           "#19d3f3",
           "#FF6692",
           "#B6E880",
           "#FF97FF",
           "#FECB52"
          ],
          "font": {
           "color": "#2a3f5f"
          },
          "geo": {
           "bgcolor": "white",
           "lakecolor": "white",
           "landcolor": "#E5ECF6",
           "showlakes": true,
           "showland": true,
           "subunitcolor": "white"
          },
          "hoverlabel": {
           "align": "left"
          },
          "hovermode": "closest",
          "mapbox": {
           "style": "light"
          },
          "paper_bgcolor": "white",
          "plot_bgcolor": "#E5ECF6",
          "polar": {
           "angularaxis": {
            "gridcolor": "white",
            "linecolor": "white",
            "ticks": ""
           },
           "bgcolor": "#E5ECF6",
           "radialaxis": {
            "gridcolor": "white",
            "linecolor": "white",
            "ticks": ""
           }
          },
          "scene": {
           "xaxis": {
            "backgroundcolor": "#E5ECF6",
            "gridcolor": "white",
            "gridwidth": 2,
            "linecolor": "white",
            "showbackground": true,
            "ticks": "",
            "zerolinecolor": "white"
           },
           "yaxis": {
            "backgroundcolor": "#E5ECF6",
            "gridcolor": "white",
            "gridwidth": 2,
            "linecolor": "white",
            "showbackground": true,
            "ticks": "",
            "zerolinecolor": "white"
           },
           "zaxis": {
            "backgroundcolor": "#E5ECF6",
            "gridcolor": "white",
            "gridwidth": 2,
            "linecolor": "white",
            "showbackground": true,
            "ticks": "",
            "zerolinecolor": "white"
           }
          },
          "shapedefaults": {
           "line": {
            "color": "#2a3f5f"
           }
          },
          "ternary": {
           "aaxis": {
            "gridcolor": "white",
            "linecolor": "white",
            "ticks": ""
           },
           "baxis": {
            "gridcolor": "white",
            "linecolor": "white",
            "ticks": ""
           },
           "bgcolor": "#E5ECF6",
           "caxis": {
            "gridcolor": "white",
            "linecolor": "white",
            "ticks": ""
           }
          },
          "title": {
           "x": 0.05
          },
          "xaxis": {
           "automargin": true,
           "gridcolor": "white",
           "linecolor": "white",
           "ticks": "",
           "title": {
            "standoff": 15
           },
           "zerolinecolor": "white",
           "zerolinewidth": 2
          },
          "yaxis": {
           "automargin": true,
           "gridcolor": "white",
           "linecolor": "white",
           "ticks": "",
           "title": {
            "standoff": 15
           },
           "zerolinecolor": "white",
           "zerolinewidth": 2
          }
         }
        },
        "xaxis": {
         "anchor": "y",
         "domain": [
          0,
          1
         ],
         "title": {
          "text": "Počet_balení"
         }
        },
        "yaxis": {
         "anchor": "x",
         "domain": [
          0,
          1
         ],
         "title": {
          "text": "ATC7_popis"
         }
        }
       }
      }
     },
     "metadata": {}
    }
   ],
   "source": [
    "fig = px.bar(atc7.sort_values(by='Počet_balení'), x='Počet_balení', y='ATC7_popis', orientation='h')\n",
    "fig.show()"
   ]
  },
  {
   "source": [
    "## Ukazky udajov jednotlivych tabuliek (podla poctu baleni)"
   ],
   "cell_type": "markdown",
   "metadata": {}
  },
  {
   "cell_type": "code",
   "execution_count": 13,
   "metadata": {},
   "outputs": [
    {
     "output_type": "display_data",
     "data": {
      "text/plain": "   index ATC7_KOD      ATC7_popis LIEK_KOD  \\\n0   9547  V09FX01  Technécium - (   C91102   \n1   9546  V09FX01  Technécium - (   C15457   \n2   9541  V09FX01  Technécium - (   C15308   \n3   9545  V09FX01  Technécium - (   C15456   \n4   9540  V09FX01  Technécium - (   C15307   \n\n                                          LIEK_popis STAT_popis  \\\n0                             Drytec gen rnk 2,5 GBq  Holandsko   \n1                            Drytec gen rnk 10,0 GBq  Holandsko   \n2  Ultra-TechneKow FM (99mTC-generátor) inj 10,63...  Holandsko   \n3                             Drytec gen rnk 9,0 GBq  Holandsko   \n4  Ultra-TechneKow FM (99mTC-generátor) inj 8,50 ...  Holandsko   \n\n             VYROBCA_popis  Počet_balení  Úhrada_PAC  \n0       GE Healthcare B.V.    6688913.50         0.0  \n1       GE Healthcare B.V.    1469870.00         0.0  \n2  Curium Netherlands B.V.     991979.00         0.0  \n3       GE Healthcare B.V.     467689.01         0.0  \n4  Curium Netherlands B.V.         14.00         0.0  ",
      "text/html": "<div>\n<style scoped>\n    .dataframe tbody tr th:only-of-type {\n        vertical-align: middle;\n    }\n\n    .dataframe tbody tr th {\n        vertical-align: top;\n    }\n\n    .dataframe thead th {\n        text-align: right;\n    }\n</style>\n<table border=\"1\" class=\"dataframe\">\n  <thead>\n    <tr style=\"text-align: right;\">\n      <th></th>\n      <th>index</th>\n      <th>ATC7_KOD</th>\n      <th>ATC7_popis</th>\n      <th>LIEK_KOD</th>\n      <th>LIEK_popis</th>\n      <th>STAT_popis</th>\n      <th>VYROBCA_popis</th>\n      <th>Počet_balení</th>\n      <th>Úhrada_PAC</th>\n    </tr>\n  </thead>\n  <tbody>\n    <tr>\n      <th>0</th>\n      <td>9547</td>\n      <td>V09FX01</td>\n      <td>Technécium - (</td>\n      <td>C91102</td>\n      <td>Drytec gen rnk 2,5 GBq</td>\n      <td>Holandsko</td>\n      <td>GE Healthcare B.V.</td>\n      <td>6688913.50</td>\n      <td>0.0</td>\n    </tr>\n    <tr>\n      <th>1</th>\n      <td>9546</td>\n      <td>V09FX01</td>\n      <td>Technécium - (</td>\n      <td>C15457</td>\n      <td>Drytec gen rnk 10,0 GBq</td>\n      <td>Holandsko</td>\n      <td>GE Healthcare B.V.</td>\n      <td>1469870.00</td>\n      <td>0.0</td>\n    </tr>\n    <tr>\n      <th>2</th>\n      <td>9541</td>\n      <td>V09FX01</td>\n      <td>Technécium - (</td>\n      <td>C15308</td>\n      <td>Ultra-TechneKow FM (99mTC-generátor) inj 10,63...</td>\n      <td>Holandsko</td>\n      <td>Curium Netherlands B.V.</td>\n      <td>991979.00</td>\n      <td>0.0</td>\n    </tr>\n    <tr>\n      <th>3</th>\n      <td>9545</td>\n      <td>V09FX01</td>\n      <td>Technécium - (</td>\n      <td>C15456</td>\n      <td>Drytec gen rnk 9,0 GBq</td>\n      <td>Holandsko</td>\n      <td>GE Healthcare B.V.</td>\n      <td>467689.01</td>\n      <td>0.0</td>\n    </tr>\n    <tr>\n      <th>4</th>\n      <td>9540</td>\n      <td>V09FX01</td>\n      <td>Technécium - (</td>\n      <td>C15307</td>\n      <td>Ultra-TechneKow FM (99mTC-generátor) inj 8,50 ...</td>\n      <td>Holandsko</td>\n      <td>Curium Netherlands B.V.</td>\n      <td>14.00</td>\n      <td>0.0</td>\n    </tr>\n  </tbody>\n</table>\n</div>"
     },
     "metadata": {}
    },
    {
     "output_type": "display_data",
     "data": {
      "text/plain": "   index ATC7_KOD   ATC7_popis LIEK_KOD  \\\n0   1450  B05BB01  Elektrolyty   C37743   \n1   1432  B05BB01  Elektrolyty   C33593   \n2   1431  B05BB01  Elektrolyty   C33590   \n3   1505  B05BB01  Elektrolyty   C97748   \n4   1506  B05BB01  Elektrolyty   C97749   \n\n                                          LIEK_popis STAT_popis  \\\n0  0,9% SODIUM CHL.IN W.F.I.FRESENIUS sol inf 1x1...      Česko   \n1  0,9% SODIUM ChL.IN W.F.I.FRESENIUS sol inf 1x2...      Česko   \n2  0,9% SODIUM ChL.IN W.F.I.FRESENIUS sol inf 1x5...      Česko   \n3  SODIUM CHLORIDE 0,9%W/V I.V. INF inf 1x100 ml ...  Taliansko   \n4  SODIUM CHLORIDE 0,9%W/V I.V. INF inf 1x250 ml ...  Taliansko   \n\n           VYROBCA_popis  Počet_balení  Úhrada_PAC  \n0  Fresenius Kabi s.r.o.    1115466.27     1758.64  \n1  Fresenius Kabi s.r.o.     999336.36     4893.52  \n2  Fresenius Kabi s.r.o.     789546.85     1375.02  \n3  Bieffe Medital S.p.A.     418659.15     5287.02  \n4  Bieffe Medital S.p.A.     381477.64    18777.30  ",
      "text/html": "<div>\n<style scoped>\n    .dataframe tbody tr th:only-of-type {\n        vertical-align: middle;\n    }\n\n    .dataframe tbody tr th {\n        vertical-align: top;\n    }\n\n    .dataframe thead th {\n        text-align: right;\n    }\n</style>\n<table border=\"1\" class=\"dataframe\">\n  <thead>\n    <tr style=\"text-align: right;\">\n      <th></th>\n      <th>index</th>\n      <th>ATC7_KOD</th>\n      <th>ATC7_popis</th>\n      <th>LIEK_KOD</th>\n      <th>LIEK_popis</th>\n      <th>STAT_popis</th>\n      <th>VYROBCA_popis</th>\n      <th>Počet_balení</th>\n      <th>Úhrada_PAC</th>\n    </tr>\n  </thead>\n  <tbody>\n    <tr>\n      <th>0</th>\n      <td>1450</td>\n      <td>B05BB01</td>\n      <td>Elektrolyty</td>\n      <td>C37743</td>\n      <td>0,9% SODIUM CHL.IN W.F.I.FRESENIUS sol inf 1x1...</td>\n      <td>Česko</td>\n      <td>Fresenius Kabi s.r.o.</td>\n      <td>1115466.27</td>\n      <td>1758.64</td>\n    </tr>\n    <tr>\n      <th>1</th>\n      <td>1432</td>\n      <td>B05BB01</td>\n      <td>Elektrolyty</td>\n      <td>C33593</td>\n      <td>0,9% SODIUM ChL.IN W.F.I.FRESENIUS sol inf 1x2...</td>\n      <td>Česko</td>\n      <td>Fresenius Kabi s.r.o.</td>\n      <td>999336.36</td>\n      <td>4893.52</td>\n    </tr>\n    <tr>\n      <th>2</th>\n      <td>1431</td>\n      <td>B05BB01</td>\n      <td>Elektrolyty</td>\n      <td>C33590</td>\n      <td>0,9% SODIUM ChL.IN W.F.I.FRESENIUS sol inf 1x5...</td>\n      <td>Česko</td>\n      <td>Fresenius Kabi s.r.o.</td>\n      <td>789546.85</td>\n      <td>1375.02</td>\n    </tr>\n    <tr>\n      <th>3</th>\n      <td>1505</td>\n      <td>B05BB01</td>\n      <td>Elektrolyty</td>\n      <td>C97748</td>\n      <td>SODIUM CHLORIDE 0,9%W/V I.V. INF inf 1x100 ml ...</td>\n      <td>Taliansko</td>\n      <td>Bieffe Medital S.p.A.</td>\n      <td>418659.15</td>\n      <td>5287.02</td>\n    </tr>\n    <tr>\n      <th>4</th>\n      <td>1506</td>\n      <td>B05BB01</td>\n      <td>Elektrolyty</td>\n      <td>C97749</td>\n      <td>SODIUM CHLORIDE 0,9%W/V I.V. INF inf 1x250 ml ...</td>\n      <td>Taliansko</td>\n      <td>Bieffe Medital S.p.A.</td>\n      <td>381477.64</td>\n      <td>18777.30</td>\n    </tr>\n  </tbody>\n</table>\n</div>"
     },
     "metadata": {}
    },
    {
     "output_type": "display_data",
     "data": {
      "text/plain": "   index ATC7_KOD   ATC7_popis LIEK_KOD  \\\n0   6299  N02BE01  Paracetamol   C86052   \n1   6298  N02BE01  Paracetamol   C86051   \n2   6287  N02BE01  Paracetamol   C27613   \n3   6290  N02BE01  Paracetamol   C57476   \n4   6281  N02BE01  Paracetamol   C26627   \n\n                                          LIEK_popis STAT_popis  \\\n0            PARALEN 500 tbl 24x500 mg (blis.Al/PVC)  Slovensko   \n1            PARALEN 500 tbl 12x500 mg (blis.Al/PVC)  Slovensko   \n2                           PARALEN 100 sup 5x100 mg  Slovensko   \n3  Panadol Paracetamolum 500 mg tbl flm 24x500 mg...      Česko   \n4                          PARALEN 125 tbl 20x125 mg  Slovensko   \n\n                                       VYROBCA_popis  Počet_balení  Úhrada_PAC  \n0                     sanofi-aventis Slovakia s.r.o.   2300126.084  3826254.68  \n1                     sanofi-aventis Slovakia s.r.o.    269140.730   279950.53  \n2                     sanofi-aventis Slovakia s.r.o.    139481.200   117364.89  \n3  GlaxoSmithKline Consumer Healthcare Czech Repu...    113876.250   194443.83  \n4                     sanofi-aventis Slovakia s.r.o.    111906.328    81286.36  ",
      "text/html": "<div>\n<style scoped>\n    .dataframe tbody tr th:only-of-type {\n        vertical-align: middle;\n    }\n\n    .dataframe tbody tr th {\n        vertical-align: top;\n    }\n\n    .dataframe thead th {\n        text-align: right;\n    }\n</style>\n<table border=\"1\" class=\"dataframe\">\n  <thead>\n    <tr style=\"text-align: right;\">\n      <th></th>\n      <th>index</th>\n      <th>ATC7_KOD</th>\n      <th>ATC7_popis</th>\n      <th>LIEK_KOD</th>\n      <th>LIEK_popis</th>\n      <th>STAT_popis</th>\n      <th>VYROBCA_popis</th>\n      <th>Počet_balení</th>\n      <th>Úhrada_PAC</th>\n    </tr>\n  </thead>\n  <tbody>\n    <tr>\n      <th>0</th>\n      <td>6299</td>\n      <td>N02BE01</td>\n      <td>Paracetamol</td>\n      <td>C86052</td>\n      <td>PARALEN 500 tbl 24x500 mg (blis.Al/PVC)</td>\n      <td>Slovensko</td>\n      <td>sanofi-aventis Slovakia s.r.o.</td>\n      <td>2300126.084</td>\n      <td>3826254.68</td>\n    </tr>\n    <tr>\n      <th>1</th>\n      <td>6298</td>\n      <td>N02BE01</td>\n      <td>Paracetamol</td>\n      <td>C86051</td>\n      <td>PARALEN 500 tbl 12x500 mg (blis.Al/PVC)</td>\n      <td>Slovensko</td>\n      <td>sanofi-aventis Slovakia s.r.o.</td>\n      <td>269140.730</td>\n      <td>279950.53</td>\n    </tr>\n    <tr>\n      <th>2</th>\n      <td>6287</td>\n      <td>N02BE01</td>\n      <td>Paracetamol</td>\n      <td>C27613</td>\n      <td>PARALEN 100 sup 5x100 mg</td>\n      <td>Slovensko</td>\n      <td>sanofi-aventis Slovakia s.r.o.</td>\n      <td>139481.200</td>\n      <td>117364.89</td>\n    </tr>\n    <tr>\n      <th>3</th>\n      <td>6290</td>\n      <td>N02BE01</td>\n      <td>Paracetamol</td>\n      <td>C57476</td>\n      <td>Panadol Paracetamolum 500 mg tbl flm 24x500 mg...</td>\n      <td>Česko</td>\n      <td>GlaxoSmithKline Consumer Healthcare Czech Repu...</td>\n      <td>113876.250</td>\n      <td>194443.83</td>\n    </tr>\n    <tr>\n      <th>4</th>\n      <td>6281</td>\n      <td>N02BE01</td>\n      <td>Paracetamol</td>\n      <td>C26627</td>\n      <td>PARALEN 125 tbl 20x125 mg</td>\n      <td>Slovensko</td>\n      <td>sanofi-aventis Slovakia s.r.o.</td>\n      <td>111906.328</td>\n      <td>81286.36</td>\n    </tr>\n  </tbody>\n</table>\n</div>"
     },
     "metadata": {}
    },
    {
     "output_type": "display_data",
     "data": {
      "text/plain": "   index ATC7_KOD ATC7_popis LIEK_KOD  \\\n0   5604  M01AE01  Ibuprofén   C35458   \n1   5640  M01AE01  Ibuprofén   C7880A   \n2   5651  M01AE01  Ibuprofén   C97299   \n3   5618  M01AE01  Ibuprofén   C49851   \n4   5610  M01AE01  Ibuprofén   C45451   \n\n                                          LIEK_popis  STAT_popis  \\\n0                      IBALGIN 400 tbl flm 24x400 mg   Slovensko   \n1       Ibalgin 400 tbl flm 48x400 mg (blis. PVC/Al)   Slovensko   \n2                       BRUFEN 400 tbl flm 30x400 mg  Francúzsko   \n3                          MIG-400 tbl flm 30x400 mg     Nemecko   \n4  NUROFEN pre deti Jahoda sus por 1x100 ml (PET ...       Česko   \n\n                                       VYROBCA_popis  Počet_balení  Úhrada_PAC  \n0                     sanofi-aventis Slovakia s.r.o.    596621.970  1885611.99  \n1                     sanofi-aventis Slovakia s.r.o.    293384.731  1432962.47  \n2                             Mylan Laboratories SAS    232798.061   868313.80  \n3                                   Berlin-Chemie AG    205849.323   706016.17  \n4  Reckitt Benckiser (Czech Republic), spol. s r.o.     160812.710   747388.09  ",
      "text/html": "<div>\n<style scoped>\n    .dataframe tbody tr th:only-of-type {\n        vertical-align: middle;\n    }\n\n    .dataframe tbody tr th {\n        vertical-align: top;\n    }\n\n    .dataframe thead th {\n        text-align: right;\n    }\n</style>\n<table border=\"1\" class=\"dataframe\">\n  <thead>\n    <tr style=\"text-align: right;\">\n      <th></th>\n      <th>index</th>\n      <th>ATC7_KOD</th>\n      <th>ATC7_popis</th>\n      <th>LIEK_KOD</th>\n      <th>LIEK_popis</th>\n      <th>STAT_popis</th>\n      <th>VYROBCA_popis</th>\n      <th>Počet_balení</th>\n      <th>Úhrada_PAC</th>\n    </tr>\n  </thead>\n  <tbody>\n    <tr>\n      <th>0</th>\n      <td>5604</td>\n      <td>M01AE01</td>\n      <td>Ibuprofén</td>\n      <td>C35458</td>\n      <td>IBALGIN 400 tbl flm 24x400 mg</td>\n      <td>Slovensko</td>\n      <td>sanofi-aventis Slovakia s.r.o.</td>\n      <td>596621.970</td>\n      <td>1885611.99</td>\n    </tr>\n    <tr>\n      <th>1</th>\n      <td>5640</td>\n      <td>M01AE01</td>\n      <td>Ibuprofén</td>\n      <td>C7880A</td>\n      <td>Ibalgin 400 tbl flm 48x400 mg (blis. PVC/Al)</td>\n      <td>Slovensko</td>\n      <td>sanofi-aventis Slovakia s.r.o.</td>\n      <td>293384.731</td>\n      <td>1432962.47</td>\n    </tr>\n    <tr>\n      <th>2</th>\n      <td>5651</td>\n      <td>M01AE01</td>\n      <td>Ibuprofén</td>\n      <td>C97299</td>\n      <td>BRUFEN 400 tbl flm 30x400 mg</td>\n      <td>Francúzsko</td>\n      <td>Mylan Laboratories SAS</td>\n      <td>232798.061</td>\n      <td>868313.80</td>\n    </tr>\n    <tr>\n      <th>3</th>\n      <td>5618</td>\n      <td>M01AE01</td>\n      <td>Ibuprofén</td>\n      <td>C49851</td>\n      <td>MIG-400 tbl flm 30x400 mg</td>\n      <td>Nemecko</td>\n      <td>Berlin-Chemie AG</td>\n      <td>205849.323</td>\n      <td>706016.17</td>\n    </tr>\n    <tr>\n      <th>4</th>\n      <td>5610</td>\n      <td>M01AE01</td>\n      <td>Ibuprofén</td>\n      <td>C45451</td>\n      <td>NUROFEN pre deti Jahoda sus por 1x100 ml (PET ...</td>\n      <td>Česko</td>\n      <td>Reckitt Benckiser (Czech Republic), spol. s r.o.</td>\n      <td>160812.710</td>\n      <td>747388.09</td>\n    </tr>\n  </tbody>\n</table>\n</div>"
     },
     "metadata": {}
    },
    {
     "output_type": "display_data",
     "data": {
      "text/plain": "   index ATC7_KOD  ATC7_popis LIEK_KOD  \\\n0   2001  C07AB07  Bisoprolol   C94164   \n1   1997  C07AB07  Bisoprolol   C90028   \n2   1974  C07AB07  Bisoprolol   C33446   \n3   1971  C07AB07  Bisoprolol   C33427   \n4   2004  C07AB07  Bisoprolol   C97761   \n\n                                          LIEK_popis STAT_popis  \\\n0                           CONCOR 5 tbl flm 30x5 mg  Slovensko   \n1  CORONAL 5 tbl flm 30x5 mg (PVC/PE/PVDC/Alu blis.)  Slovensko   \n2             BISOPROLOL-ratiopharm 5 mg tbl 30x5 mg    Nemecko   \n3                CONCOR COR 2,5 mg tbl flm 30x2,5 mg  Slovensko   \n4                       BISOMERCK  5 tbl flm 30x5 mg  Slovensko   \n\n        VYROBCA_popis  Počet_balení  Úhrada_PAC  \n0  Merck spol. s.r.o.     861847.12  2312824.20  \n1           ZNT-SK-2?     439825.33   198924.15  \n2     ratiopharm GmbH     361429.00    71700.98  \n3  Merck spol. s.r.o.     174083.00   439473.10  \n4  Merck spol. s.r.o.     116380.50   156601.14  ",
      "text/html": "<div>\n<style scoped>\n    .dataframe tbody tr th:only-of-type {\n        vertical-align: middle;\n    }\n\n    .dataframe tbody tr th {\n        vertical-align: top;\n    }\n\n    .dataframe thead th {\n        text-align: right;\n    }\n</style>\n<table border=\"1\" class=\"dataframe\">\n  <thead>\n    <tr style=\"text-align: right;\">\n      <th></th>\n      <th>index</th>\n      <th>ATC7_KOD</th>\n      <th>ATC7_popis</th>\n      <th>LIEK_KOD</th>\n      <th>LIEK_popis</th>\n      <th>STAT_popis</th>\n      <th>VYROBCA_popis</th>\n      <th>Počet_balení</th>\n      <th>Úhrada_PAC</th>\n    </tr>\n  </thead>\n  <tbody>\n    <tr>\n      <th>0</th>\n      <td>2001</td>\n      <td>C07AB07</td>\n      <td>Bisoprolol</td>\n      <td>C94164</td>\n      <td>CONCOR 5 tbl flm 30x5 mg</td>\n      <td>Slovensko</td>\n      <td>Merck spol. s.r.o.</td>\n      <td>861847.12</td>\n      <td>2312824.20</td>\n    </tr>\n    <tr>\n      <th>1</th>\n      <td>1997</td>\n      <td>C07AB07</td>\n      <td>Bisoprolol</td>\n      <td>C90028</td>\n      <td>CORONAL 5 tbl flm 30x5 mg (PVC/PE/PVDC/Alu blis.)</td>\n      <td>Slovensko</td>\n      <td>ZNT-SK-2?</td>\n      <td>439825.33</td>\n      <td>198924.15</td>\n    </tr>\n    <tr>\n      <th>2</th>\n      <td>1974</td>\n      <td>C07AB07</td>\n      <td>Bisoprolol</td>\n      <td>C33446</td>\n      <td>BISOPROLOL-ratiopharm 5 mg tbl 30x5 mg</td>\n      <td>Nemecko</td>\n      <td>ratiopharm GmbH</td>\n      <td>361429.00</td>\n      <td>71700.98</td>\n    </tr>\n    <tr>\n      <th>3</th>\n      <td>1971</td>\n      <td>C07AB07</td>\n      <td>Bisoprolol</td>\n      <td>C33427</td>\n      <td>CONCOR COR 2,5 mg tbl flm 30x2,5 mg</td>\n      <td>Slovensko</td>\n      <td>Merck spol. s.r.o.</td>\n      <td>174083.00</td>\n      <td>439473.10</td>\n    </tr>\n    <tr>\n      <th>4</th>\n      <td>2004</td>\n      <td>C07AB07</td>\n      <td>Bisoprolol</td>\n      <td>C97761</td>\n      <td>BISOMERCK  5 tbl flm 30x5 mg</td>\n      <td>Slovensko</td>\n      <td>Merck spol. s.r.o.</td>\n      <td>116380.50</td>\n      <td>156601.14</td>\n    </tr>\n  </tbody>\n</table>\n</div>"
     },
     "metadata": {}
    },
    {
     "output_type": "display_data",
     "data": {
      "text/plain": "   index ATC7_KOD ATC7_popis LIEK_KOD  \\\n0   2084  C08CA01  Amlodipín   C13556   \n1   2094  C08CA01  Amlodipín   C37500   \n2   2089  C08CA01  Amlodipín   C34886   \n3   2105  C08CA01  Amlodipín   C62569   \n4   2085  C08CA01  Amlodipín   C13558   \n\n                                          LIEK_popis STAT_popis  \\\n0                                 AGEN 5 tbl 30x5 mg      Česko   \n1  Amlodipin Stichting 5 mg tablety tbl 30x5 mg (...  Slovinsko   \n2              AMLODIPIN-RATIOPHARM 5 mg tbl 30x5 mg    Nemecko   \n3                                NORVASC tbl 30x5 mg   Belgicko   \n4                               AGEN 10 tbl 30x10 mg      Česko   \n\n                 VYROBCA_popis  Počet_balení  Úhrada_PAC  \n0                Zentiva, k.s.    890258.100   201748.72  \n1  Sandoz Pharmaceuticals d.d.    359816.500   104900.67  \n2              ratiopharm GmbH    320902.970    78281.35  \n3        Pfizer Europe MA EEIG    101640.000   341657.38  \n4                Zentiva, k.s.     94816.326   105940.59  ",
      "text/html": "<div>\n<style scoped>\n    .dataframe tbody tr th:only-of-type {\n        vertical-align: middle;\n    }\n\n    .dataframe tbody tr th {\n        vertical-align: top;\n    }\n\n    .dataframe thead th {\n        text-align: right;\n    }\n</style>\n<table border=\"1\" class=\"dataframe\">\n  <thead>\n    <tr style=\"text-align: right;\">\n      <th></th>\n      <th>index</th>\n      <th>ATC7_KOD</th>\n      <th>ATC7_popis</th>\n      <th>LIEK_KOD</th>\n      <th>LIEK_popis</th>\n      <th>STAT_popis</th>\n      <th>VYROBCA_popis</th>\n      <th>Počet_balení</th>\n      <th>Úhrada_PAC</th>\n    </tr>\n  </thead>\n  <tbody>\n    <tr>\n      <th>0</th>\n      <td>2084</td>\n      <td>C08CA01</td>\n      <td>Amlodipín</td>\n      <td>C13556</td>\n      <td>AGEN 5 tbl 30x5 mg</td>\n      <td>Česko</td>\n      <td>Zentiva, k.s.</td>\n      <td>890258.100</td>\n      <td>201748.72</td>\n    </tr>\n    <tr>\n      <th>1</th>\n      <td>2094</td>\n      <td>C08CA01</td>\n      <td>Amlodipín</td>\n      <td>C37500</td>\n      <td>Amlodipin Stichting 5 mg tablety tbl 30x5 mg (...</td>\n      <td>Slovinsko</td>\n      <td>Sandoz Pharmaceuticals d.d.</td>\n      <td>359816.500</td>\n      <td>104900.67</td>\n    </tr>\n    <tr>\n      <th>2</th>\n      <td>2089</td>\n      <td>C08CA01</td>\n      <td>Amlodipín</td>\n      <td>C34886</td>\n      <td>AMLODIPIN-RATIOPHARM 5 mg tbl 30x5 mg</td>\n      <td>Nemecko</td>\n      <td>ratiopharm GmbH</td>\n      <td>320902.970</td>\n      <td>78281.35</td>\n    </tr>\n    <tr>\n      <th>3</th>\n      <td>2105</td>\n      <td>C08CA01</td>\n      <td>Amlodipín</td>\n      <td>C62569</td>\n      <td>NORVASC tbl 30x5 mg</td>\n      <td>Belgicko</td>\n      <td>Pfizer Europe MA EEIG</td>\n      <td>101640.000</td>\n      <td>341657.38</td>\n    </tr>\n    <tr>\n      <th>4</th>\n      <td>2085</td>\n      <td>C08CA01</td>\n      <td>Amlodipín</td>\n      <td>C13558</td>\n      <td>AGEN 10 tbl 30x10 mg</td>\n      <td>Česko</td>\n      <td>Zentiva, k.s.</td>\n      <td>94816.326</td>\n      <td>105940.59</td>\n    </tr>\n  </tbody>\n</table>\n</div>"
     },
     "metadata": {}
    },
    {
     "output_type": "display_data",
     "data": {
      "text/plain": "   index ATC7_KOD  ATC7_popis LIEK_KOD                          LIEK_popis  \\\n0   7195  N05BA12  Alprazolam   C33494  NEUROL 0,5 mg tbl 30x0,5 mg (bli.)   \n1   7203  N05BA12  Alprazolam   C91788   NEUROL 0,25 tbl 30x0,25 mg (bli.)   \n2   7189  N05BA12  Alprazolam   C14596         FRONTIN 0,5MG tbl 30x0,5 mg   \n3   7199  N05BA12  Alprazolam   C86656    NEUROL 1,0 tbl 30x1,00 mg (bli.)   \n4   7187  N05BA12  Alprazolam   C14594       FRONTIN 0,25MG tbl 30x0,25 mg   \n\n  STAT_popis             VYROBCA_popis  Počet_balení  Úhrada_PAC  \n0      Česko             Zentiva, k.s.      478721.0   625761.97  \n1      Česko             Zentiva, k.s.      360820.0   351477.76  \n2   Maďarsko  EGIS Pharmaceuticals PLC      256590.2   346183.19  \n3      Česko             Zentiva, k.s.      216768.5   418523.86  \n4   Maďarsko  EGIS Pharmaceuticals PLC      190090.0   180653.82  ",
      "text/html": "<div>\n<style scoped>\n    .dataframe tbody tr th:only-of-type {\n        vertical-align: middle;\n    }\n\n    .dataframe tbody tr th {\n        vertical-align: top;\n    }\n\n    .dataframe thead th {\n        text-align: right;\n    }\n</style>\n<table border=\"1\" class=\"dataframe\">\n  <thead>\n    <tr style=\"text-align: right;\">\n      <th></th>\n      <th>index</th>\n      <th>ATC7_KOD</th>\n      <th>ATC7_popis</th>\n      <th>LIEK_KOD</th>\n      <th>LIEK_popis</th>\n      <th>STAT_popis</th>\n      <th>VYROBCA_popis</th>\n      <th>Počet_balení</th>\n      <th>Úhrada_PAC</th>\n    </tr>\n  </thead>\n  <tbody>\n    <tr>\n      <th>0</th>\n      <td>7195</td>\n      <td>N05BA12</td>\n      <td>Alprazolam</td>\n      <td>C33494</td>\n      <td>NEUROL 0,5 mg tbl 30x0,5 mg (bli.)</td>\n      <td>Česko</td>\n      <td>Zentiva, k.s.</td>\n      <td>478721.0</td>\n      <td>625761.97</td>\n    </tr>\n    <tr>\n      <th>1</th>\n      <td>7203</td>\n      <td>N05BA12</td>\n      <td>Alprazolam</td>\n      <td>C91788</td>\n      <td>NEUROL 0,25 tbl 30x0,25 mg (bli.)</td>\n      <td>Česko</td>\n      <td>Zentiva, k.s.</td>\n      <td>360820.0</td>\n      <td>351477.76</td>\n    </tr>\n    <tr>\n      <th>2</th>\n      <td>7189</td>\n      <td>N05BA12</td>\n      <td>Alprazolam</td>\n      <td>C14596</td>\n      <td>FRONTIN 0,5MG tbl 30x0,5 mg</td>\n      <td>Maďarsko</td>\n      <td>EGIS Pharmaceuticals PLC</td>\n      <td>256590.2</td>\n      <td>346183.19</td>\n    </tr>\n    <tr>\n      <th>3</th>\n      <td>7199</td>\n      <td>N05BA12</td>\n      <td>Alprazolam</td>\n      <td>C86656</td>\n      <td>NEUROL 1,0 tbl 30x1,00 mg (bli.)</td>\n      <td>Česko</td>\n      <td>Zentiva, k.s.</td>\n      <td>216768.5</td>\n      <td>418523.86</td>\n    </tr>\n    <tr>\n      <th>4</th>\n      <td>7187</td>\n      <td>N05BA12</td>\n      <td>Alprazolam</td>\n      <td>C14594</td>\n      <td>FRONTIN 0,25MG tbl 30x0,25 mg</td>\n      <td>Maďarsko</td>\n      <td>EGIS Pharmaceuticals PLC</td>\n      <td>190090.0</td>\n      <td>180653.82</td>\n    </tr>\n  </tbody>\n</table>\n</div>"
     },
     "metadata": {}
    },
    {
     "output_type": "display_data",
     "data": {
      "text/plain": "   index ATC7_KOD  ATC7_popis LIEK_KOD  \\\n0   5492  M01AB05  Diklofenak   C55701   \n1   5476  M01AB05  Diklofenak   C23849   \n2   5510  M01AB05  Diklofenak   C89136   \n3   5501  M01AB05  Diklofenak   C67547   \n4   5480  M01AB05  Diklofenak   C27802   \n\n                                          LIEK_popis STAT_popis  \\\n0                 FLECTOR EP RAPID 50MG gra 20x50 mg  Slovensko   \n1  Voltaren Rapid 25 mg cps mol 20x25 mg (blis.PV...      Česko   \n2    DICLOFENAC DUO PHARMAVIT 75 mg cps mod 30x75 mg      Česko   \n3                          ALMIRAL inj 10x3 ml/75 mg     Cyprus   \n4              VOLTAREN RAPID 50 mg tbl obd 20x50 mg  Slovensko   \n\n                                       VYROBCA_popis  Počet_balení  Úhrada_PAC  \n0                               IBSA Slovakia s.r.o.     755843.97  2614771.88  \n1  GlaxoSmithKline Consumer Healthcare Czech Repu...     184241.68  1082657.96  \n2                 PharmaSwiss Česká republika s.r.o.     170025.01   469116.41  \n3                                    Medochemie Ltd.     167764.83   104939.22  \n4                           Novartis Slovakia s.r.o.     163277.90   145603.20  ",
      "text/html": "<div>\n<style scoped>\n    .dataframe tbody tr th:only-of-type {\n        vertical-align: middle;\n    }\n\n    .dataframe tbody tr th {\n        vertical-align: top;\n    }\n\n    .dataframe thead th {\n        text-align: right;\n    }\n</style>\n<table border=\"1\" class=\"dataframe\">\n  <thead>\n    <tr style=\"text-align: right;\">\n      <th></th>\n      <th>index</th>\n      <th>ATC7_KOD</th>\n      <th>ATC7_popis</th>\n      <th>LIEK_KOD</th>\n      <th>LIEK_popis</th>\n      <th>STAT_popis</th>\n      <th>VYROBCA_popis</th>\n      <th>Počet_balení</th>\n      <th>Úhrada_PAC</th>\n    </tr>\n  </thead>\n  <tbody>\n    <tr>\n      <th>0</th>\n      <td>5492</td>\n      <td>M01AB05</td>\n      <td>Diklofenak</td>\n      <td>C55701</td>\n      <td>FLECTOR EP RAPID 50MG gra 20x50 mg</td>\n      <td>Slovensko</td>\n      <td>IBSA Slovakia s.r.o.</td>\n      <td>755843.97</td>\n      <td>2614771.88</td>\n    </tr>\n    <tr>\n      <th>1</th>\n      <td>5476</td>\n      <td>M01AB05</td>\n      <td>Diklofenak</td>\n      <td>C23849</td>\n      <td>Voltaren Rapid 25 mg cps mol 20x25 mg (blis.PV...</td>\n      <td>Česko</td>\n      <td>GlaxoSmithKline Consumer Healthcare Czech Repu...</td>\n      <td>184241.68</td>\n      <td>1082657.96</td>\n    </tr>\n    <tr>\n      <th>2</th>\n      <td>5510</td>\n      <td>M01AB05</td>\n      <td>Diklofenak</td>\n      <td>C89136</td>\n      <td>DICLOFENAC DUO PHARMAVIT 75 mg cps mod 30x75 mg</td>\n      <td>Česko</td>\n      <td>PharmaSwiss Česká republika s.r.o.</td>\n      <td>170025.01</td>\n      <td>469116.41</td>\n    </tr>\n    <tr>\n      <th>3</th>\n      <td>5501</td>\n      <td>M01AB05</td>\n      <td>Diklofenak</td>\n      <td>C67547</td>\n      <td>ALMIRAL inj 10x3 ml/75 mg</td>\n      <td>Cyprus</td>\n      <td>Medochemie Ltd.</td>\n      <td>167764.83</td>\n      <td>104939.22</td>\n    </tr>\n    <tr>\n      <th>4</th>\n      <td>5480</td>\n      <td>M01AB05</td>\n      <td>Diklofenak</td>\n      <td>C27802</td>\n      <td>VOLTAREN RAPID 50 mg tbl obd 20x50 mg</td>\n      <td>Slovensko</td>\n      <td>Novartis Slovakia s.r.o.</td>\n      <td>163277.90</td>\n      <td>145603.20</td>\n    </tr>\n  </tbody>\n</table>\n</div>"
     },
     "metadata": {}
    },
    {
     "output_type": "display_data",
     "data": {
      "text/plain": "   index ATC7_KOD            ATC7_popis LIEK_KOD  \\\n0   6248  N02BB02  Metamizol, sodná soľ   C24857   \n1   6245  N02BB02  Metamizol, sodná soľ   C24459   \n2   6257  N02BB02  Metamizol, sodná soľ   C7520A   \n3   6255  N02BB02  Metamizol, sodná soľ   C6590B   \n4   6246  N02BB02  Metamizol, sodná soľ   C24530   \n\n                                          LIEK_popis STAT_popis  \\\n0                  NOVALGIN 500 mg tbl flm 20x500 mg  Slovensko   \n1       NOVALGIN 500 mg/1 ml sol inj 10x2 ml/1000 mg  Slovensko   \n2  Metamizol Stada 500 mg/ml perorálne roztokové ...    Nemecko   \n3     METAMISTAD tablety tbl 50x500 mg (blis.PVC/Al)    Nemecko   \n4        NOVALGIN 500 mg/1 ml sol inj 5x5 ml/2500 mg  Slovensko   \n\n                    VYROBCA_popis  Počet_balení  Úhrada_PAC  \n0  sanofi-aventis Slovakia s.r.o.   1342217.310  1574143.21  \n1  sanofi-aventis Slovakia s.r.o.    122225.700   119052.25  \n2           STADA Arzneimittel AG     97835.600    90901.77  \n3           STADA Arzneimittel AG     96200.357    53449.98  \n4  sanofi-aventis Slovakia s.r.o.     96195.000    43043.01  ",
      "text/html": "<div>\n<style scoped>\n    .dataframe tbody tr th:only-of-type {\n        vertical-align: middle;\n    }\n\n    .dataframe tbody tr th {\n        vertical-align: top;\n    }\n\n    .dataframe thead th {\n        text-align: right;\n    }\n</style>\n<table border=\"1\" class=\"dataframe\">\n  <thead>\n    <tr style=\"text-align: right;\">\n      <th></th>\n      <th>index</th>\n      <th>ATC7_KOD</th>\n      <th>ATC7_popis</th>\n      <th>LIEK_KOD</th>\n      <th>LIEK_popis</th>\n      <th>STAT_popis</th>\n      <th>VYROBCA_popis</th>\n      <th>Počet_balení</th>\n      <th>Úhrada_PAC</th>\n    </tr>\n  </thead>\n  <tbody>\n    <tr>\n      <th>0</th>\n      <td>6248</td>\n      <td>N02BB02</td>\n      <td>Metamizol, sodná soľ</td>\n      <td>C24857</td>\n      <td>NOVALGIN 500 mg tbl flm 20x500 mg</td>\n      <td>Slovensko</td>\n      <td>sanofi-aventis Slovakia s.r.o.</td>\n      <td>1342217.310</td>\n      <td>1574143.21</td>\n    </tr>\n    <tr>\n      <th>1</th>\n      <td>6245</td>\n      <td>N02BB02</td>\n      <td>Metamizol, sodná soľ</td>\n      <td>C24459</td>\n      <td>NOVALGIN 500 mg/1 ml sol inj 10x2 ml/1000 mg</td>\n      <td>Slovensko</td>\n      <td>sanofi-aventis Slovakia s.r.o.</td>\n      <td>122225.700</td>\n      <td>119052.25</td>\n    </tr>\n    <tr>\n      <th>2</th>\n      <td>6257</td>\n      <td>N02BB02</td>\n      <td>Metamizol, sodná soľ</td>\n      <td>C7520A</td>\n      <td>Metamizol Stada 500 mg/ml perorálne roztokové ...</td>\n      <td>Nemecko</td>\n      <td>STADA Arzneimittel AG</td>\n      <td>97835.600</td>\n      <td>90901.77</td>\n    </tr>\n    <tr>\n      <th>3</th>\n      <td>6255</td>\n      <td>N02BB02</td>\n      <td>Metamizol, sodná soľ</td>\n      <td>C6590B</td>\n      <td>METAMISTAD tablety tbl 50x500 mg (blis.PVC/Al)</td>\n      <td>Nemecko</td>\n      <td>STADA Arzneimittel AG</td>\n      <td>96200.357</td>\n      <td>53449.98</td>\n    </tr>\n    <tr>\n      <th>4</th>\n      <td>6246</td>\n      <td>N02BB02</td>\n      <td>Metamizol, sodná soľ</td>\n      <td>C24530</td>\n      <td>NOVALGIN 500 mg/1 ml sol inj 5x5 ml/2500 mg</td>\n      <td>Slovensko</td>\n      <td>sanofi-aventis Slovakia s.r.o.</td>\n      <td>96195.000</td>\n      <td>43043.01</td>\n    </tr>\n  </tbody>\n</table>\n</div>"
     },
     "metadata": {}
    },
    {
     "output_type": "display_data",
     "data": {
      "text/plain": "   index ATC7_KOD  ATC7_popis LIEK_KOD  \\\n0   1945  C07AB02  Metoprolol   C28641   \n1   1937  C07AB02  Metoprolol   C14959   \n2   1941  C07AB02  Metoprolol   C25634   \n3   1944  C07AB02  Metoprolol   C28639   \n4   1954  C07AB02  Metoprolol   C69827   \n\n                                          LIEK_popis STAT_popis  \\\n0         BETALOC ZOK 50MG (blist.) tbl mod 28x50 mg  Taliansko   \n1        BETALOC ZOK 25 mg (blist.) tbl mod 28x25 mg  Taliansko   \n2          VASOCARDIN 50 tbl 50(5x10)x50 mg (blist.)  Slovensko   \n3      BETALOC ZOK 100 mg (blist.) tbl mod 28x100 mg  Taliansko   \n4  Metoprolol ratiopharm 50 mg tbl plg 30x50 mg (...    Nemecko   \n\n                                       VYROBCA_popis  Počet_balení  Úhrada_PAC  \n0  Recordati Industria Chimica e Farmaceutica S.p.A.      415989.0  1335363.74  \n1  Recordati Industria Chimica e Farmaceutica S.p.A.      301260.5  1055435.89  \n2                                          ZNT-SK-2?      253627.8    11447.21  \n3  Recordati Industria Chimica e Farmaceutica S.p.A.      194362.0   600822.26  \n4                                    ratiopharm GmbH      168777.1    28732.82  ",
      "text/html": "<div>\n<style scoped>\n    .dataframe tbody tr th:only-of-type {\n        vertical-align: middle;\n    }\n\n    .dataframe tbody tr th {\n        vertical-align: top;\n    }\n\n    .dataframe thead th {\n        text-align: right;\n    }\n</style>\n<table border=\"1\" class=\"dataframe\">\n  <thead>\n    <tr style=\"text-align: right;\">\n      <th></th>\n      <th>index</th>\n      <th>ATC7_KOD</th>\n      <th>ATC7_popis</th>\n      <th>LIEK_KOD</th>\n      <th>LIEK_popis</th>\n      <th>STAT_popis</th>\n      <th>VYROBCA_popis</th>\n      <th>Počet_balení</th>\n      <th>Úhrada_PAC</th>\n    </tr>\n  </thead>\n  <tbody>\n    <tr>\n      <th>0</th>\n      <td>1945</td>\n      <td>C07AB02</td>\n      <td>Metoprolol</td>\n      <td>C28641</td>\n      <td>BETALOC ZOK 50MG (blist.) tbl mod 28x50 mg</td>\n      <td>Taliansko</td>\n      <td>Recordati Industria Chimica e Farmaceutica S.p.A.</td>\n      <td>415989.0</td>\n      <td>1335363.74</td>\n    </tr>\n    <tr>\n      <th>1</th>\n      <td>1937</td>\n      <td>C07AB02</td>\n      <td>Metoprolol</td>\n      <td>C14959</td>\n      <td>BETALOC ZOK 25 mg (blist.) tbl mod 28x25 mg</td>\n      <td>Taliansko</td>\n      <td>Recordati Industria Chimica e Farmaceutica S.p.A.</td>\n      <td>301260.5</td>\n      <td>1055435.89</td>\n    </tr>\n    <tr>\n      <th>2</th>\n      <td>1941</td>\n      <td>C07AB02</td>\n      <td>Metoprolol</td>\n      <td>C25634</td>\n      <td>VASOCARDIN 50 tbl 50(5x10)x50 mg (blist.)</td>\n      <td>Slovensko</td>\n      <td>ZNT-SK-2?</td>\n      <td>253627.8</td>\n      <td>11447.21</td>\n    </tr>\n    <tr>\n      <th>3</th>\n      <td>1944</td>\n      <td>C07AB02</td>\n      <td>Metoprolol</td>\n      <td>C28639</td>\n      <td>BETALOC ZOK 100 mg (blist.) tbl mod 28x100 mg</td>\n      <td>Taliansko</td>\n      <td>Recordati Industria Chimica e Farmaceutica S.p.A.</td>\n      <td>194362.0</td>\n      <td>600822.26</td>\n    </tr>\n    <tr>\n      <th>4</th>\n      <td>1954</td>\n      <td>C07AB02</td>\n      <td>Metoprolol</td>\n      <td>C69827</td>\n      <td>Metoprolol ratiopharm 50 mg tbl plg 30x50 mg (...</td>\n      <td>Nemecko</td>\n      <td>ratiopharm GmbH</td>\n      <td>168777.1</td>\n      <td>28732.82</td>\n    </tr>\n  </tbody>\n</table>\n</div>"
     },
     "metadata": {}
    },
    {
     "output_type": "display_data",
     "data": {
      "text/plain": "   index ATC7_KOD                 ATC7_popis LIEK_KOD  \\\n0   1000  B01AC06  Kyselina acetylsalicylová   C23029   \n1   1001  B01AC06  Kyselina acetylsalicylová   C23030   \n2    996  B01AC06  Kyselina acetylsalicylová   C12460   \n3   1002  B01AC06  Kyselina acetylsalicylová   C3492A   \n4   1008  B01AC06  Kyselina acetylsalicylová   C5131A   \n\n                                          LIEK_popis STAT_popis  \\\n0        ANOPYRIN 100 mg tbl 56x100 mg (blis.PVC/Al)  Slovensko   \n1        ANOPYRIN 100 mg tbl 84x100 mg (blis.PVC/Al)  Slovensko   \n2              ASPIRIN PROTECT 100 tbl ent 50x100 mg  Slovensko   \n3  STADAPYRIN 100 mg tbl ent 60x100 mg (blis.PVC/Al)    Nemecko   \n4  STADAPYRIN 100 mg tbl ent 120x100 mg (blis.PVC...    Nemecko   \n\n           VYROBCA_popis  Počet_balení  Úhrada_PAC  \n0              ZNT-SK-2?    537364.368   939250.30  \n1              ZNT-SK-2?    419356.344  1009800.82  \n2    Bayer, spol. s.r.o.    241531.880   783576.97  \n3  STADA Arzneimittel AG    105627.101   207325.82  \n4  STADA Arzneimittel AG     95864.974   346927.37  ",
      "text/html": "<div>\n<style scoped>\n    .dataframe tbody tr th:only-of-type {\n        vertical-align: middle;\n    }\n\n    .dataframe tbody tr th {\n        vertical-align: top;\n    }\n\n    .dataframe thead th {\n        text-align: right;\n    }\n</style>\n<table border=\"1\" class=\"dataframe\">\n  <thead>\n    <tr style=\"text-align: right;\">\n      <th></th>\n      <th>index</th>\n      <th>ATC7_KOD</th>\n      <th>ATC7_popis</th>\n      <th>LIEK_KOD</th>\n      <th>LIEK_popis</th>\n      <th>STAT_popis</th>\n      <th>VYROBCA_popis</th>\n      <th>Počet_balení</th>\n      <th>Úhrada_PAC</th>\n    </tr>\n  </thead>\n  <tbody>\n    <tr>\n      <th>0</th>\n      <td>1000</td>\n      <td>B01AC06</td>\n      <td>Kyselina acetylsalicylová</td>\n      <td>C23029</td>\n      <td>ANOPYRIN 100 mg tbl 56x100 mg (blis.PVC/Al)</td>\n      <td>Slovensko</td>\n      <td>ZNT-SK-2?</td>\n      <td>537364.368</td>\n      <td>939250.30</td>\n    </tr>\n    <tr>\n      <th>1</th>\n      <td>1001</td>\n      <td>B01AC06</td>\n      <td>Kyselina acetylsalicylová</td>\n      <td>C23030</td>\n      <td>ANOPYRIN 100 mg tbl 84x100 mg (blis.PVC/Al)</td>\n      <td>Slovensko</td>\n      <td>ZNT-SK-2?</td>\n      <td>419356.344</td>\n      <td>1009800.82</td>\n    </tr>\n    <tr>\n      <th>2</th>\n      <td>996</td>\n      <td>B01AC06</td>\n      <td>Kyselina acetylsalicylová</td>\n      <td>C12460</td>\n      <td>ASPIRIN PROTECT 100 tbl ent 50x100 mg</td>\n      <td>Slovensko</td>\n      <td>Bayer, spol. s.r.o.</td>\n      <td>241531.880</td>\n      <td>783576.97</td>\n    </tr>\n    <tr>\n      <th>3</th>\n      <td>1002</td>\n      <td>B01AC06</td>\n      <td>Kyselina acetylsalicylová</td>\n      <td>C3492A</td>\n      <td>STADAPYRIN 100 mg tbl ent 60x100 mg (blis.PVC/Al)</td>\n      <td>Nemecko</td>\n      <td>STADA Arzneimittel AG</td>\n      <td>105627.101</td>\n      <td>207325.82</td>\n    </tr>\n    <tr>\n      <th>4</th>\n      <td>1008</td>\n      <td>B01AC06</td>\n      <td>Kyselina acetylsalicylová</td>\n      <td>C5131A</td>\n      <td>STADAPYRIN 100 mg tbl ent 120x100 mg (blis.PVC...</td>\n      <td>Nemecko</td>\n      <td>STADA Arzneimittel AG</td>\n      <td>95864.974</td>\n      <td>346927.37</td>\n    </tr>\n  </tbody>\n</table>\n</div>"
     },
     "metadata": {}
    },
    {
     "output_type": "display_data",
     "data": {
      "text/plain": "   index ATC7_KOD    ATC7_popis LIEK_KOD  \\\n0   2847  C10AA05  Atorvastatín   C3053B   \n1   2880  C10AA05  Atorvastatín   C40541   \n2   2879  C10AA05  Atorvastatín   C40538   \n3   2863  C10AA05  Atorvastatín   C38841   \n4   2864  C10AA05  Atorvastatín   C38846   \n\n                                          LIEK_popis STAT_popis  \\\n0  Torvacard Novum 20 mg tbl flm 90x20 mg (blis.O...      Česko   \n1                         ATORIS 20 tbl flm 90x20 mg  Slovinsko   \n2                         ATORIS 20 tbl flm 30x20 mg  Slovinsko   \n3  Atorvastatin Actavis 20 mg tbl flm 30x20 mg (b...     Island   \n4  Atorvastatin Actavis 20 mg tbl flm 100x20 mg (...     Island   \n\n           VYROBCA_popis  Počet_balení  Úhrada_PAC  \n0          Zentiva, k.s.    137486.552   297993.59  \n1  KRKA d.d., Novo mesto    133908.820   382533.66  \n2  KRKA d.d., Novo mesto    111426.090   114511.80  \n3  Actavis Group PTC ehf     94341.990    31342.27  \n4  Actavis Group PTC ehf     91083.300    74300.28  ",
      "text/html": "<div>\n<style scoped>\n    .dataframe tbody tr th:only-of-type {\n        vertical-align: middle;\n    }\n\n    .dataframe tbody tr th {\n        vertical-align: top;\n    }\n\n    .dataframe thead th {\n        text-align: right;\n    }\n</style>\n<table border=\"1\" class=\"dataframe\">\n  <thead>\n    <tr style=\"text-align: right;\">\n      <th></th>\n      <th>index</th>\n      <th>ATC7_KOD</th>\n      <th>ATC7_popis</th>\n      <th>LIEK_KOD</th>\n      <th>LIEK_popis</th>\n      <th>STAT_popis</th>\n      <th>VYROBCA_popis</th>\n      <th>Počet_balení</th>\n      <th>Úhrada_PAC</th>\n    </tr>\n  </thead>\n  <tbody>\n    <tr>\n      <th>0</th>\n      <td>2847</td>\n      <td>C10AA05</td>\n      <td>Atorvastatín</td>\n      <td>C3053B</td>\n      <td>Torvacard Novum 20 mg tbl flm 90x20 mg (blis.O...</td>\n      <td>Česko</td>\n      <td>Zentiva, k.s.</td>\n      <td>137486.552</td>\n      <td>297993.59</td>\n    </tr>\n    <tr>\n      <th>1</th>\n      <td>2880</td>\n      <td>C10AA05</td>\n      <td>Atorvastatín</td>\n      <td>C40541</td>\n      <td>ATORIS 20 tbl flm 90x20 mg</td>\n      <td>Slovinsko</td>\n      <td>KRKA d.d., Novo mesto</td>\n      <td>133908.820</td>\n      <td>382533.66</td>\n    </tr>\n    <tr>\n      <th>2</th>\n      <td>2879</td>\n      <td>C10AA05</td>\n      <td>Atorvastatín</td>\n      <td>C40538</td>\n      <td>ATORIS 20 tbl flm 30x20 mg</td>\n      <td>Slovinsko</td>\n      <td>KRKA d.d., Novo mesto</td>\n      <td>111426.090</td>\n      <td>114511.80</td>\n    </tr>\n    <tr>\n      <th>3</th>\n      <td>2863</td>\n      <td>C10AA05</td>\n      <td>Atorvastatín</td>\n      <td>C38841</td>\n      <td>Atorvastatin Actavis 20 mg tbl flm 30x20 mg (b...</td>\n      <td>Island</td>\n      <td>Actavis Group PTC ehf</td>\n      <td>94341.990</td>\n      <td>31342.27</td>\n    </tr>\n    <tr>\n      <th>4</th>\n      <td>2864</td>\n      <td>C10AA05</td>\n      <td>Atorvastatín</td>\n      <td>C38846</td>\n      <td>Atorvastatin Actavis 20 mg tbl flm 100x20 mg (...</td>\n      <td>Island</td>\n      <td>Actavis Group PTC ehf</td>\n      <td>91083.300</td>\n      <td>74300.28</td>\n    </tr>\n  </tbody>\n</table>\n</div>"
     },
     "metadata": {}
    },
    {
     "output_type": "display_data",
     "data": {
      "text/plain": "   index ATC7_KOD ATC7_popis LIEK_KOD                             LIEK_popis  \\\n0   7250  N05CF02   Zolpidém   C68902                  STILNOX 10 mg TBL FLM   \n1   7255  N05CF02   Zolpidém   C83373                  STILNOX 10 mg TBL FLM   \n2   7247  N05CF02   Zolpidém   C46861              HYPNOGEN tbl flm 15x10 mg   \n3   7245  N05CF02   Zolpidém   C14610          SANVAL 10 mg tbl flm 20x10 mg   \n4   7256  N05CF02   Zolpidém   C92955  ZOLPIDEM MERCK 10 mg tbl flm 20x10 mg   \n\n  STAT_popis                   VYROBCA_popis  Počet_balení  Úhrada_PAC  \n0  Slovensko  sanofi-aventis Slovakia s.r.o.     442430.66  1012808.95  \n1  Slovensko  sanofi-aventis Slovakia s.r.o.     423611.00   437661.24  \n2    Nemecko                     Takeda GmbH     248027.35   394571.60  \n3  Slovinsko     Sandoz Pharmaceuticals d.d.     177540.10   184548.25  \n4      ĺrsko           Mylan Ireland Limited      97213.24   154214.22  ",
      "text/html": "<div>\n<style scoped>\n    .dataframe tbody tr th:only-of-type {\n        vertical-align: middle;\n    }\n\n    .dataframe tbody tr th {\n        vertical-align: top;\n    }\n\n    .dataframe thead th {\n        text-align: right;\n    }\n</style>\n<table border=\"1\" class=\"dataframe\">\n  <thead>\n    <tr style=\"text-align: right;\">\n      <th></th>\n      <th>index</th>\n      <th>ATC7_KOD</th>\n      <th>ATC7_popis</th>\n      <th>LIEK_KOD</th>\n      <th>LIEK_popis</th>\n      <th>STAT_popis</th>\n      <th>VYROBCA_popis</th>\n      <th>Počet_balení</th>\n      <th>Úhrada_PAC</th>\n    </tr>\n  </thead>\n  <tbody>\n    <tr>\n      <th>0</th>\n      <td>7250</td>\n      <td>N05CF02</td>\n      <td>Zolpidém</td>\n      <td>C68902</td>\n      <td>STILNOX 10 mg TBL FLM</td>\n      <td>Slovensko</td>\n      <td>sanofi-aventis Slovakia s.r.o.</td>\n      <td>442430.66</td>\n      <td>1012808.95</td>\n    </tr>\n    <tr>\n      <th>1</th>\n      <td>7255</td>\n      <td>N05CF02</td>\n      <td>Zolpidém</td>\n      <td>C83373</td>\n      <td>STILNOX 10 mg TBL FLM</td>\n      <td>Slovensko</td>\n      <td>sanofi-aventis Slovakia s.r.o.</td>\n      <td>423611.00</td>\n      <td>437661.24</td>\n    </tr>\n    <tr>\n      <th>2</th>\n      <td>7247</td>\n      <td>N05CF02</td>\n      <td>Zolpidém</td>\n      <td>C46861</td>\n      <td>HYPNOGEN tbl flm 15x10 mg</td>\n      <td>Nemecko</td>\n      <td>Takeda GmbH</td>\n      <td>248027.35</td>\n      <td>394571.60</td>\n    </tr>\n    <tr>\n      <th>3</th>\n      <td>7245</td>\n      <td>N05CF02</td>\n      <td>Zolpidém</td>\n      <td>C14610</td>\n      <td>SANVAL 10 mg tbl flm 20x10 mg</td>\n      <td>Slovinsko</td>\n      <td>Sandoz Pharmaceuticals d.d.</td>\n      <td>177540.10</td>\n      <td>184548.25</td>\n    </tr>\n    <tr>\n      <th>4</th>\n      <td>7256</td>\n      <td>N05CF02</td>\n      <td>Zolpidém</td>\n      <td>C92955</td>\n      <td>ZOLPIDEM MERCK 10 mg tbl flm 20x10 mg</td>\n      <td>ĺrsko</td>\n      <td>Mylan Ireland Limited</td>\n      <td>97213.24</td>\n      <td>154214.22</td>\n    </tr>\n  </tbody>\n</table>\n</div>"
     },
     "metadata": {}
    },
    {
     "output_type": "display_data",
     "data": {
      "text/plain": "   index ATC7_KOD     ATC7_popis LIEK_KOD  \\\n0   7812  R01AA07  Xylometazolín   C76962   \n1   7800  R01AA07  Xylometazolín   C36097   \n2   7798  R01AA07  Xylometazolín   C2872A   \n3   7807  R01AA07  Xylometazolín   C68978   \n4   7799  R01AA07  Xylometazolín   C36096   \n\n                                          LIEK_popis STAT_popis  \\\n0                    OLYNTH 0,1 % aer nao 10 ml 0,1%      ĺrsko   \n1                    OLYNTH HA 0,1 % aer nao 1x10 ml      ĺrsko   \n2  Otrivin Menthol 0,1% aer nao 1x10 ml (fľ.HDPE ...      Česko   \n3        mar rhino 0,1% nosový sprej aer nao 1x15 ml    Nemecko   \n4                   OLYNTH HA 0,05 % aer nao 1x10 ml      ĺrsko   \n\n                                       VYROBCA_popis  Počet_balení  Úhrada_PAC  \n0                McNeil Healthcare (Ireland) Limited      553939.0  2079755.78  \n1                McNeil Healthcare (Ireland) Limited      456407.0  2190324.28  \n2  GlaxoSmithKline Consumer Healthcare Czech Repu...      133135.0   681134.20  \n3                              STADA Arzneimittel AG       90071.0   339016.91  \n4                McNeil Healthcare (Ireland) Limited       72639.0   350843.34  ",
      "text/html": "<div>\n<style scoped>\n    .dataframe tbody tr th:only-of-type {\n        vertical-align: middle;\n    }\n\n    .dataframe tbody tr th {\n        vertical-align: top;\n    }\n\n    .dataframe thead th {\n        text-align: right;\n    }\n</style>\n<table border=\"1\" class=\"dataframe\">\n  <thead>\n    <tr style=\"text-align: right;\">\n      <th></th>\n      <th>index</th>\n      <th>ATC7_KOD</th>\n      <th>ATC7_popis</th>\n      <th>LIEK_KOD</th>\n      <th>LIEK_popis</th>\n      <th>STAT_popis</th>\n      <th>VYROBCA_popis</th>\n      <th>Počet_balení</th>\n      <th>Úhrada_PAC</th>\n    </tr>\n  </thead>\n  <tbody>\n    <tr>\n      <th>0</th>\n      <td>7812</td>\n      <td>R01AA07</td>\n      <td>Xylometazolín</td>\n      <td>C76962</td>\n      <td>OLYNTH 0,1 % aer nao 10 ml 0,1%</td>\n      <td>ĺrsko</td>\n      <td>McNeil Healthcare (Ireland) Limited</td>\n      <td>553939.0</td>\n      <td>2079755.78</td>\n    </tr>\n    <tr>\n      <th>1</th>\n      <td>7800</td>\n      <td>R01AA07</td>\n      <td>Xylometazolín</td>\n      <td>C36097</td>\n      <td>OLYNTH HA 0,1 % aer nao 1x10 ml</td>\n      <td>ĺrsko</td>\n      <td>McNeil Healthcare (Ireland) Limited</td>\n      <td>456407.0</td>\n      <td>2190324.28</td>\n    </tr>\n    <tr>\n      <th>2</th>\n      <td>7798</td>\n      <td>R01AA07</td>\n      <td>Xylometazolín</td>\n      <td>C2872A</td>\n      <td>Otrivin Menthol 0,1% aer nao 1x10 ml (fľ.HDPE ...</td>\n      <td>Česko</td>\n      <td>GlaxoSmithKline Consumer Healthcare Czech Repu...</td>\n      <td>133135.0</td>\n      <td>681134.20</td>\n    </tr>\n    <tr>\n      <th>3</th>\n      <td>7807</td>\n      <td>R01AA07</td>\n      <td>Xylometazolín</td>\n      <td>C68978</td>\n      <td>mar rhino 0,1% nosový sprej aer nao 1x15 ml</td>\n      <td>Nemecko</td>\n      <td>STADA Arzneimittel AG</td>\n      <td>90071.0</td>\n      <td>339016.91</td>\n    </tr>\n    <tr>\n      <th>4</th>\n      <td>7799</td>\n      <td>R01AA07</td>\n      <td>Xylometazolín</td>\n      <td>C36096</td>\n      <td>OLYNTH HA 0,05 % aer nao 1x10 ml</td>\n      <td>ĺrsko</td>\n      <td>McNeil Healthcare (Ireland) Limited</td>\n      <td>72639.0</td>\n      <td>350843.34</td>\n    </tr>\n  </tbody>\n</table>\n</div>"
     },
     "metadata": {}
    },
    {
     "output_type": "display_data",
     "data": {
      "text/plain": "   index ATC7_KOD                   ATC7_popis LIEK_KOD  \\\n0   7900  R02AA20  Rôzne iné krčné antiseptiká   C26747   \n1   7925  R02AA20  Rôzne iné krčné antiseptiká   C62547   \n2   7932  R02AA20  Rôzne iné krčné antiseptiká   C67008   \n3   7936  R02AA20  Rôzne iné krčné antiseptiká   C96521   \n4   7911  R02AA20  Rôzne iné krčné antiseptiká   C44219   \n\n                          LIEK_popis STAT_popis  \\\n0             Dorithricin pas ord 20    Nemecko   \n1  STREPSILS Med a Citrón pas ord 24      Česko   \n2     NEO-ANGIN bez cukru pas ord 24    Nemecko   \n3               SEPTISAN tbl 20x5 mg  Slovensko   \n4        STREPSILS PLUS pas ora 1x24      Česko   \n\n                                       VYROBCA_popis  Počet_balení  Úhrada_PAC  \n0                        Medice Pharma GmbH & Co. KG    653423.650  4647661.34  \n1  Reckitt Benckiser (Czech Republic), spol. s r.o.     149267.740   944644.61  \n2                                    Divapharma GmbH     94564.240   612499.19  \n3                     sanofi-aventis Slovakia s.r.o.     90881.000   301647.58  \n4  Reckitt Benckiser (Czech Republic), spol. s r.o.      76438.189   564480.76  ",
      "text/html": "<div>\n<style scoped>\n    .dataframe tbody tr th:only-of-type {\n        vertical-align: middle;\n    }\n\n    .dataframe tbody tr th {\n        vertical-align: top;\n    }\n\n    .dataframe thead th {\n        text-align: right;\n    }\n</style>\n<table border=\"1\" class=\"dataframe\">\n  <thead>\n    <tr style=\"text-align: right;\">\n      <th></th>\n      <th>index</th>\n      <th>ATC7_KOD</th>\n      <th>ATC7_popis</th>\n      <th>LIEK_KOD</th>\n      <th>LIEK_popis</th>\n      <th>STAT_popis</th>\n      <th>VYROBCA_popis</th>\n      <th>Počet_balení</th>\n      <th>Úhrada_PAC</th>\n    </tr>\n  </thead>\n  <tbody>\n    <tr>\n      <th>0</th>\n      <td>7900</td>\n      <td>R02AA20</td>\n      <td>Rôzne iné krčné antiseptiká</td>\n      <td>C26747</td>\n      <td>Dorithricin pas ord 20</td>\n      <td>Nemecko</td>\n      <td>Medice Pharma GmbH &amp; Co. KG</td>\n      <td>653423.650</td>\n      <td>4647661.34</td>\n    </tr>\n    <tr>\n      <th>1</th>\n      <td>7925</td>\n      <td>R02AA20</td>\n      <td>Rôzne iné krčné antiseptiká</td>\n      <td>C62547</td>\n      <td>STREPSILS Med a Citrón pas ord 24</td>\n      <td>Česko</td>\n      <td>Reckitt Benckiser (Czech Republic), spol. s r.o.</td>\n      <td>149267.740</td>\n      <td>944644.61</td>\n    </tr>\n    <tr>\n      <th>2</th>\n      <td>7932</td>\n      <td>R02AA20</td>\n      <td>Rôzne iné krčné antiseptiká</td>\n      <td>C67008</td>\n      <td>NEO-ANGIN bez cukru pas ord 24</td>\n      <td>Nemecko</td>\n      <td>Divapharma GmbH</td>\n      <td>94564.240</td>\n      <td>612499.19</td>\n    </tr>\n    <tr>\n      <th>3</th>\n      <td>7936</td>\n      <td>R02AA20</td>\n      <td>Rôzne iné krčné antiseptiká</td>\n      <td>C96521</td>\n      <td>SEPTISAN tbl 20x5 mg</td>\n      <td>Slovensko</td>\n      <td>sanofi-aventis Slovakia s.r.o.</td>\n      <td>90881.000</td>\n      <td>301647.58</td>\n    </tr>\n    <tr>\n      <th>4</th>\n      <td>7911</td>\n      <td>R02AA20</td>\n      <td>Rôzne iné krčné antiseptiká</td>\n      <td>C44219</td>\n      <td>STREPSILS PLUS pas ora 1x24</td>\n      <td>Česko</td>\n      <td>Reckitt Benckiser (Czech Republic), spol. s r.o.</td>\n      <td>76438.189</td>\n      <td>564480.76</td>\n    </tr>\n  </tbody>\n</table>\n</div>"
     },
     "metadata": {}
    },
    {
     "output_type": "display_data",
     "data": {
      "text/plain": "   index ATC7_KOD                                  ATC7_popis LIEK_KOD  \\\n0   6367  N02BE51  Paracetamol, kombinácie okrem psycholeptík   C65951   \n1   6334  N02BE51  Paracetamol, kombinácie okrem psycholeptík   C30229   \n2   6342  N02BE51  Paracetamol, kombinácie okrem psycholeptík   C33813   \n3   6347  N02BE51  Paracetamol, kombinácie okrem psycholeptík   C36516   \n4   6311  N02BE51  Paracetamol, kombinácie okrem psycholeptík   C0381A   \n\n                                          LIEK_popis STAT_popis  \\\n0  TheraFlu prechladnutie a chrípka plo por 1x14 ...      Česko   \n1                            PARALEN PLUS tbl flm 24  Slovensko   \n2  THERAFLU PRECHLADNUTIE A CHRÍPKA plo por 1x10 ...      Česko   \n3             PARALEN HOT DRINK plu por 1x12 vreciek  Slovensko   \n4  PARALEN GRIP chrípka a bolesť tbl flm 1x24 (bl...  Slovensko   \n\n                                       VYROBCA_popis  Počet_balení  Úhrada_PAC  \n0  GlaxoSmithKline Consumer Healthcare Czech Repu...    422718.171  3954421.86  \n1                     sanofi-aventis Slovakia s.r.o.    100459.030   589486.22  \n2  GlaxoSmithKline Consumer Healthcare Czech Repu...     81452.991   671984.16  \n3                     sanofi-aventis Slovakia s.r.o.     65515.562   481851.44  \n4                     sanofi-aventis Slovakia s.r.o.     61588.890   362517.93  ",
      "text/html": "<div>\n<style scoped>\n    .dataframe tbody tr th:only-of-type {\n        vertical-align: middle;\n    }\n\n    .dataframe tbody tr th {\n        vertical-align: top;\n    }\n\n    .dataframe thead th {\n        text-align: right;\n    }\n</style>\n<table border=\"1\" class=\"dataframe\">\n  <thead>\n    <tr style=\"text-align: right;\">\n      <th></th>\n      <th>index</th>\n      <th>ATC7_KOD</th>\n      <th>ATC7_popis</th>\n      <th>LIEK_KOD</th>\n      <th>LIEK_popis</th>\n      <th>STAT_popis</th>\n      <th>VYROBCA_popis</th>\n      <th>Počet_balení</th>\n      <th>Úhrada_PAC</th>\n    </tr>\n  </thead>\n  <tbody>\n    <tr>\n      <th>0</th>\n      <td>6367</td>\n      <td>N02BE51</td>\n      <td>Paracetamol, kombinácie okrem psycholeptík</td>\n      <td>C65951</td>\n      <td>TheraFlu prechladnutie a chrípka plo por 1x14 ...</td>\n      <td>Česko</td>\n      <td>GlaxoSmithKline Consumer Healthcare Czech Repu...</td>\n      <td>422718.171</td>\n      <td>3954421.86</td>\n    </tr>\n    <tr>\n      <th>1</th>\n      <td>6334</td>\n      <td>N02BE51</td>\n      <td>Paracetamol, kombinácie okrem psycholeptík</td>\n      <td>C30229</td>\n      <td>PARALEN PLUS tbl flm 24</td>\n      <td>Slovensko</td>\n      <td>sanofi-aventis Slovakia s.r.o.</td>\n      <td>100459.030</td>\n      <td>589486.22</td>\n    </tr>\n    <tr>\n      <th>2</th>\n      <td>6342</td>\n      <td>N02BE51</td>\n      <td>Paracetamol, kombinácie okrem psycholeptík</td>\n      <td>C33813</td>\n      <td>THERAFLU PRECHLADNUTIE A CHRÍPKA plo por 1x10 ...</td>\n      <td>Česko</td>\n      <td>GlaxoSmithKline Consumer Healthcare Czech Repu...</td>\n      <td>81452.991</td>\n      <td>671984.16</td>\n    </tr>\n    <tr>\n      <th>3</th>\n      <td>6347</td>\n      <td>N02BE51</td>\n      <td>Paracetamol, kombinácie okrem psycholeptík</td>\n      <td>C36516</td>\n      <td>PARALEN HOT DRINK plu por 1x12 vreciek</td>\n      <td>Slovensko</td>\n      <td>sanofi-aventis Slovakia s.r.o.</td>\n      <td>65515.562</td>\n      <td>481851.44</td>\n    </tr>\n    <tr>\n      <th>4</th>\n      <td>6311</td>\n      <td>N02BE51</td>\n      <td>Paracetamol, kombinácie okrem psycholeptík</td>\n      <td>C0381A</td>\n      <td>PARALEN GRIP chrípka a bolesť tbl flm 1x24 (bl...</td>\n      <td>Slovensko</td>\n      <td>sanofi-aventis Slovakia s.r.o.</td>\n      <td>61588.890</td>\n      <td>362517.93</td>\n    </tr>\n  </tbody>\n</table>\n</div>"
     },
     "metadata": {}
    },
    {
     "output_type": "display_data",
     "data": {
      "text/plain": "   index ATC7_KOD  ATC7_popis LIEK_KOD  \\\n0   5780  M02AA15  Diklofenak   C11849   \n1   5781  M02AA15  Diklofenak   C11851   \n2   5785  M02AA15  Diklofenak   C18515   \n3   5784  M02AA15  Diklofenak   C18514   \n4   5808  M02AA15  Diklofenak   C84453   \n\n                                          LIEK_popis STAT_popis  \\\n0  Voltaren Forte 2,32 % gél gel der 1x100 g (tub...      Česko   \n1  Voltaren Forte 2,32 % gél gel der 1x150 g (tub...      Česko   \n2                      FLECTOR EP TISSUGEL emp tdm 5  Slovensko   \n3                             FLECTOR EP gel 1x100 g  Slovensko   \n4                              DICLOBENE gel 1x100 g  Holandsko   \n\n                                       VYROBCA_popis  Počet_balení  Úhrada_PAC  \n0  GlaxoSmithKline Consumer Healthcare Czech Repu...     189743.17  2256703.40  \n1  GlaxoSmithKline Consumer Healthcare Czech Repu...     136412.90  2083185.45  \n2                               IBSA Slovakia s.r.o.     136175.20  1201954.19  \n3                               IBSA Slovakia s.r.o.     112500.25   884399.45  \n4                                          TEV-NL-4?      94815.70   515849.66  ",
      "text/html": "<div>\n<style scoped>\n    .dataframe tbody tr th:only-of-type {\n        vertical-align: middle;\n    }\n\n    .dataframe tbody tr th {\n        vertical-align: top;\n    }\n\n    .dataframe thead th {\n        text-align: right;\n    }\n</style>\n<table border=\"1\" class=\"dataframe\">\n  <thead>\n    <tr style=\"text-align: right;\">\n      <th></th>\n      <th>index</th>\n      <th>ATC7_KOD</th>\n      <th>ATC7_popis</th>\n      <th>LIEK_KOD</th>\n      <th>LIEK_popis</th>\n      <th>STAT_popis</th>\n      <th>VYROBCA_popis</th>\n      <th>Počet_balení</th>\n      <th>Úhrada_PAC</th>\n    </tr>\n  </thead>\n  <tbody>\n    <tr>\n      <th>0</th>\n      <td>5780</td>\n      <td>M02AA15</td>\n      <td>Diklofenak</td>\n      <td>C11849</td>\n      <td>Voltaren Forte 2,32 % gél gel der 1x100 g (tub...</td>\n      <td>Česko</td>\n      <td>GlaxoSmithKline Consumer Healthcare Czech Repu...</td>\n      <td>189743.17</td>\n      <td>2256703.40</td>\n    </tr>\n    <tr>\n      <th>1</th>\n      <td>5781</td>\n      <td>M02AA15</td>\n      <td>Diklofenak</td>\n      <td>C11851</td>\n      <td>Voltaren Forte 2,32 % gél gel der 1x150 g (tub...</td>\n      <td>Česko</td>\n      <td>GlaxoSmithKline Consumer Healthcare Czech Repu...</td>\n      <td>136412.90</td>\n      <td>2083185.45</td>\n    </tr>\n    <tr>\n      <th>2</th>\n      <td>5785</td>\n      <td>M02AA15</td>\n      <td>Diklofenak</td>\n      <td>C18515</td>\n      <td>FLECTOR EP TISSUGEL emp tdm 5</td>\n      <td>Slovensko</td>\n      <td>IBSA Slovakia s.r.o.</td>\n      <td>136175.20</td>\n      <td>1201954.19</td>\n    </tr>\n    <tr>\n      <th>3</th>\n      <td>5784</td>\n      <td>M02AA15</td>\n      <td>Diklofenak</td>\n      <td>C18514</td>\n      <td>FLECTOR EP gel 1x100 g</td>\n      <td>Slovensko</td>\n      <td>IBSA Slovakia s.r.o.</td>\n      <td>112500.25</td>\n      <td>884399.45</td>\n    </tr>\n    <tr>\n      <th>4</th>\n      <td>5808</td>\n      <td>M02AA15</td>\n      <td>Diklofenak</td>\n      <td>C84453</td>\n      <td>DICLOBENE gel 1x100 g</td>\n      <td>Holandsko</td>\n      <td>TEV-NL-4?</td>\n      <td>94815.70</td>\n      <td>515849.66</td>\n    </tr>\n  </tbody>\n</table>\n</div>"
     },
     "metadata": {}
    },
    {
     "output_type": "display_data",
     "data": {
      "text/plain": "   index ATC7_KOD                      ATC7_popis LIEK_KOD  \\\n0    782  A11GA01  Kyselina askorbová (vitamín C)   C78278   \n1    781  A11GA01  Kyselina askorbová (vitamín C)   C78277   \n2    778  A11GA01  Kyselina askorbová (vitamín C)   C42420   \n3    777  A11GA01  Kyselina askorbová (vitamín C)   C35913   \n4    771  A11GA01  Kyselina askorbová (vitamín C)   C24836   \n\n                                          LIEK_popis STAT_popis  \\\n0                        CELASKON 250 tbl 100x250 mg  Slovensko   \n1                         CELASKON 250 tbl 30x250 mg  Slovensko   \n2  CELASKON 500 mg červený pomaranč tbl eff 30x50...  Slovensko   \n3             CELASKON LONG EFFECT cps pld 60x500 mg  Slovensko   \n4    ACIDUM ASCORBICUM BIOTIKA sol inj 5x5 ml/500 mg      Česko   \n\n                    VYROBCA_popis  Počet_balení  Úhrada_PAC  \n0  sanofi-aventis Slovakia s.r.o.    396438.278  1796114.28  \n1  sanofi-aventis Slovakia s.r.o.    250880.500   389292.20  \n2  sanofi-aventis Slovakia s.r.o.    106336.777   602810.11  \n3  sanofi-aventis Slovakia s.r.o.     79906.524   654347.40  \n4                  BB Pharma a.s.     79579.400    42800.62  ",
      "text/html": "<div>\n<style scoped>\n    .dataframe tbody tr th:only-of-type {\n        vertical-align: middle;\n    }\n\n    .dataframe tbody tr th {\n        vertical-align: top;\n    }\n\n    .dataframe thead th {\n        text-align: right;\n    }\n</style>\n<table border=\"1\" class=\"dataframe\">\n  <thead>\n    <tr style=\"text-align: right;\">\n      <th></th>\n      <th>index</th>\n      <th>ATC7_KOD</th>\n      <th>ATC7_popis</th>\n      <th>LIEK_KOD</th>\n      <th>LIEK_popis</th>\n      <th>STAT_popis</th>\n      <th>VYROBCA_popis</th>\n      <th>Počet_balení</th>\n      <th>Úhrada_PAC</th>\n    </tr>\n  </thead>\n  <tbody>\n    <tr>\n      <th>0</th>\n      <td>782</td>\n      <td>A11GA01</td>\n      <td>Kyselina askorbová (vitamín C)</td>\n      <td>C78278</td>\n      <td>CELASKON 250 tbl 100x250 mg</td>\n      <td>Slovensko</td>\n      <td>sanofi-aventis Slovakia s.r.o.</td>\n      <td>396438.278</td>\n      <td>1796114.28</td>\n    </tr>\n    <tr>\n      <th>1</th>\n      <td>781</td>\n      <td>A11GA01</td>\n      <td>Kyselina askorbová (vitamín C)</td>\n      <td>C78277</td>\n      <td>CELASKON 250 tbl 30x250 mg</td>\n      <td>Slovensko</td>\n      <td>sanofi-aventis Slovakia s.r.o.</td>\n      <td>250880.500</td>\n      <td>389292.20</td>\n    </tr>\n    <tr>\n      <th>2</th>\n      <td>778</td>\n      <td>A11GA01</td>\n      <td>Kyselina askorbová (vitamín C)</td>\n      <td>C42420</td>\n      <td>CELASKON 500 mg červený pomaranč tbl eff 30x50...</td>\n      <td>Slovensko</td>\n      <td>sanofi-aventis Slovakia s.r.o.</td>\n      <td>106336.777</td>\n      <td>602810.11</td>\n    </tr>\n    <tr>\n      <th>3</th>\n      <td>777</td>\n      <td>A11GA01</td>\n      <td>Kyselina askorbová (vitamín C)</td>\n      <td>C35913</td>\n      <td>CELASKON LONG EFFECT cps pld 60x500 mg</td>\n      <td>Slovensko</td>\n      <td>sanofi-aventis Slovakia s.r.o.</td>\n      <td>79906.524</td>\n      <td>654347.40</td>\n    </tr>\n    <tr>\n      <th>4</th>\n      <td>771</td>\n      <td>A11GA01</td>\n      <td>Kyselina askorbová (vitamín C)</td>\n      <td>C24836</td>\n      <td>ACIDUM ASCORBICUM BIOTIKA sol inj 5x5 ml/500 mg</td>\n      <td>Česko</td>\n      <td>BB Pharma a.s.</td>\n      <td>79579.400</td>\n      <td>42800.62</td>\n    </tr>\n  </tbody>\n</table>\n</div>"
     },
     "metadata": {}
    },
    {
     "output_type": "display_data",
     "data": {
      "text/plain": "   index ATC7_KOD   ATC7_popis LIEK_KOD  \\\n0    138  A02BC02  Pantoprazol   C43345   \n1    139  A02BC02  Pantoprazol   C43349   \n2    142  A02BC02  Pantoprazol   C43362   \n3    141  A02BC02  Pantoprazol   C43358   \n4    144  A02BC02  Pantoprazol   C43791   \n\n                                          LIEK_popis STAT_popis  \\\n0              Nolpaza 20 mg tbl ent 30x20 mg (bli.)  Slovinsko   \n1             Nolpaza 20 mg tbl ent 100x20 mg (bli.)  Slovinsko   \n2             Nolpaza 40 mg tbl ent 100x40 mg (bli.)  Slovinsko   \n3              Nolpaza 40 mg tbl ent 30x40 mg (bli.)  Slovinsko   \n4  Pantoprazol Sandoz 20 mg gastrorezistentné tab...  Slovinsko   \n\n                 VYROBCA_popis  Počet_balení  Úhrada_PAC  \n0        KRKA d.d., Novo mesto    184810.510   255770.78  \n1        KRKA d.d., Novo mesto    144399.293   632243.24  \n2        KRKA d.d., Novo mesto    117848.280   648739.25  \n3        KRKA d.d., Novo mesto    107996.080   297846.23  \n4  Sandoz Pharmaceuticals d.d.     73014.340   105977.50  ",
      "text/html": "<div>\n<style scoped>\n    .dataframe tbody tr th:only-of-type {\n        vertical-align: middle;\n    }\n\n    .dataframe tbody tr th {\n        vertical-align: top;\n    }\n\n    .dataframe thead th {\n        text-align: right;\n    }\n</style>\n<table border=\"1\" class=\"dataframe\">\n  <thead>\n    <tr style=\"text-align: right;\">\n      <th></th>\n      <th>index</th>\n      <th>ATC7_KOD</th>\n      <th>ATC7_popis</th>\n      <th>LIEK_KOD</th>\n      <th>LIEK_popis</th>\n      <th>STAT_popis</th>\n      <th>VYROBCA_popis</th>\n      <th>Počet_balení</th>\n      <th>Úhrada_PAC</th>\n    </tr>\n  </thead>\n  <tbody>\n    <tr>\n      <th>0</th>\n      <td>138</td>\n      <td>A02BC02</td>\n      <td>Pantoprazol</td>\n      <td>C43345</td>\n      <td>Nolpaza 20 mg tbl ent 30x20 mg (bli.)</td>\n      <td>Slovinsko</td>\n      <td>KRKA d.d., Novo mesto</td>\n      <td>184810.510</td>\n      <td>255770.78</td>\n    </tr>\n    <tr>\n      <th>1</th>\n      <td>139</td>\n      <td>A02BC02</td>\n      <td>Pantoprazol</td>\n      <td>C43349</td>\n      <td>Nolpaza 20 mg tbl ent 100x20 mg (bli.)</td>\n      <td>Slovinsko</td>\n      <td>KRKA d.d., Novo mesto</td>\n      <td>144399.293</td>\n      <td>632243.24</td>\n    </tr>\n    <tr>\n      <th>2</th>\n      <td>142</td>\n      <td>A02BC02</td>\n      <td>Pantoprazol</td>\n      <td>C43362</td>\n      <td>Nolpaza 40 mg tbl ent 100x40 mg (bli.)</td>\n      <td>Slovinsko</td>\n      <td>KRKA d.d., Novo mesto</td>\n      <td>117848.280</td>\n      <td>648739.25</td>\n    </tr>\n    <tr>\n      <th>3</th>\n      <td>141</td>\n      <td>A02BC02</td>\n      <td>Pantoprazol</td>\n      <td>C43358</td>\n      <td>Nolpaza 40 mg tbl ent 30x40 mg (bli.)</td>\n      <td>Slovinsko</td>\n      <td>KRKA d.d., Novo mesto</td>\n      <td>107996.080</td>\n      <td>297846.23</td>\n    </tr>\n    <tr>\n      <th>4</th>\n      <td>144</td>\n      <td>A02BC02</td>\n      <td>Pantoprazol</td>\n      <td>C43791</td>\n      <td>Pantoprazol Sandoz 20 mg gastrorezistentné tab...</td>\n      <td>Slovinsko</td>\n      <td>Sandoz Pharmaceuticals d.d.</td>\n      <td>73014.340</td>\n      <td>105977.50</td>\n    </tr>\n  </tbody>\n</table>\n</div>"
     },
     "metadata": {}
    },
    {
     "output_type": "display_data",
     "data": {
      "text/plain": "   index ATC7_KOD  ATC7_popis LIEK_KOD                      LIEK_popis  \\\n0   7819  R01AA09  Tramazolín   C26797  MUCONASAL PLUS sol neb 1x10 ml   \n\n  STAT_popis                   VYROBCA_popis  Počet_balení  Úhrada_PAC  \n0  Slovensko  sanofi-aventis Slovakia s.r.o.   1135312.849  5548815.77  ",
      "text/html": "<div>\n<style scoped>\n    .dataframe tbody tr th:only-of-type {\n        vertical-align: middle;\n    }\n\n    .dataframe tbody tr th {\n        vertical-align: top;\n    }\n\n    .dataframe thead th {\n        text-align: right;\n    }\n</style>\n<table border=\"1\" class=\"dataframe\">\n  <thead>\n    <tr style=\"text-align: right;\">\n      <th></th>\n      <th>index</th>\n      <th>ATC7_KOD</th>\n      <th>ATC7_popis</th>\n      <th>LIEK_KOD</th>\n      <th>LIEK_popis</th>\n      <th>STAT_popis</th>\n      <th>VYROBCA_popis</th>\n      <th>Počet_balení</th>\n      <th>Úhrada_PAC</th>\n    </tr>\n  </thead>\n  <tbody>\n    <tr>\n      <th>0</th>\n      <td>7819</td>\n      <td>R01AA09</td>\n      <td>Tramazolín</td>\n      <td>C26797</td>\n      <td>MUCONASAL PLUS sol neb 1x10 ml</td>\n      <td>Slovensko</td>\n      <td>sanofi-aventis Slovakia s.r.o.</td>\n      <td>1135312.849</td>\n      <td>5548815.77</td>\n    </tr>\n  </tbody>\n</table>\n</div>"
     },
     "metadata": {}
    }
   ],
   "source": [
    "nazvy = []\n",
    "for n in atc7['ATC7_KOD']:\n",
    "    if n not in nazvy:\n",
    "        nazvy.append(n)\n",
    "\n",
    "top20tab= {}\n",
    "for i in range(20):\n",
    "    top20tab[nazvy[i]] = table2019sum.query(f'ATC7_KOD == \"{nazvy[i]}\"').sort_values(by='Počet_balení', ascending= False).reset_index()\n",
    "    display(top20tab[nazvy[i]].head())"
   ]
  },
  {
   "source": [
    "# Grafy pre jednotlive ucinne latky"
   ],
   "cell_type": "markdown",
   "metadata": {}
  },
  {
   "source": [
    "# 1. Technecium"
   ],
   "cell_type": "markdown",
   "metadata": {}
  },
  {
   "cell_type": "code",
   "execution_count": 14,
   "metadata": {},
   "outputs": [
    {
     "output_type": "display_data",
     "data": {
      "text/plain": "                             LIEK_popis STAT_popis            VYROBCA_popis  \\\n0                        Drytec gen rnk  Holandsko       GE Healthcare B.V.   \n1  Ultra-TechneKow FM (99mTC-generátor)  Holandsko  Curium Netherlands B.V.   \n\n   index  Počet_balení  Úhrada_PAC  \n0  57267    8626479.51         0.0  \n1  38158     992000.00         0.0  ",
      "text/html": "<div>\n<style scoped>\n    .dataframe tbody tr th:only-of-type {\n        vertical-align: middle;\n    }\n\n    .dataframe tbody tr th {\n        vertical-align: top;\n    }\n\n    .dataframe thead th {\n        text-align: right;\n    }\n</style>\n<table border=\"1\" class=\"dataframe\">\n  <thead>\n    <tr style=\"text-align: right;\">\n      <th></th>\n      <th>LIEK_popis</th>\n      <th>STAT_popis</th>\n      <th>VYROBCA_popis</th>\n      <th>index</th>\n      <th>Počet_balení</th>\n      <th>Úhrada_PAC</th>\n    </tr>\n  </thead>\n  <tbody>\n    <tr>\n      <th>0</th>\n      <td>Drytec gen rnk</td>\n      <td>Holandsko</td>\n      <td>GE Healthcare B.V.</td>\n      <td>57267</td>\n      <td>8626479.51</td>\n      <td>0.0</td>\n    </tr>\n    <tr>\n      <th>1</th>\n      <td>Ultra-TechneKow FM (99mTC-generátor)</td>\n      <td>Holandsko</td>\n      <td>Curium Netherlands B.V.</td>\n      <td>38158</td>\n      <td>992000.00</td>\n      <td>0.0</td>\n    </tr>\n  </tbody>\n</table>\n</div>"
     },
     "metadata": {}
    },
    {
     "output_type": "stream",
     "name": "stdout",
     "text": [
      "\nTyp vydaju:\nvýdaj z nemocničnej lekárne pre vlastnú nemocnicu    0.692308\núhrada z verejnej poisťovne                          0.307692\nName: TYP_VYDAJ_POP, dtype: float64\n"
     ]
    }
   ],
   "source": [
    "technecium = top20tab[\"V09FX01\"]\n",
    "\n",
    "for i,popis in enumerate(technecium['LIEK_popis']):\n",
    "    if 'Drytec gen' in popis:\n",
    "        technecium.iloc[i,4] = 'Drytec gen rnk'\n",
    "    elif \"Ultra-TechneKow\" in popis:\n",
    "        technecium.iloc[i,4] = 'Ultra-TechneKow FM (99mTC-generátor)'\n",
    "\n",
    "technecium = technecium.groupby(['LIEK_popis', 'STAT_popis', 'VYROBCA_popis']).sum().reset_index()\n",
    "display(technecium)\n",
    "print()\n",
    "print(\"Typ vydaju:\")\n",
    "item_counts = table.query('ATC7_KOD == \"V09FX01\"')[\"TYP_VYDAJ_POP\"].value_counts(normalize=True)\n",
    "print(item_counts)\n",
    "\n"
   ]
  },
  {
   "cell_type": "code",
   "execution_count": 15,
   "metadata": {},
   "outputs": [
    {
     "output_type": "display_data",
     "data": {
      "application/vnd.plotly.v1+json": {
       "config": {
        "plotlyServerURL": "https://plot.ly"
       },
       "data": [
        {
         "alignmentgroup": "True",
         "hovertemplate": "VYROBCA_popis=GE Healthcare B.V.<br>LIEK_popis=%{x}<br>Počet_balení=%{y}<extra></extra>",
         "legendgroup": "GE Healthcare B.V.",
         "marker": {
          "color": "#636efa"
         },
         "name": "GE Healthcare B.V.",
         "offsetgroup": "GE Healthcare B.V.",
         "orientation": "v",
         "showlegend": true,
         "textposition": "auto",
         "type": "bar",
         "x": [
          "Drytec gen rnk"
         ],
         "xaxis": "x",
         "y": [
          8626479.51
         ],
         "yaxis": "y"
        },
        {
         "alignmentgroup": "True",
         "hovertemplate": "VYROBCA_popis=Curium Netherlands B.V.<br>LIEK_popis=%{x}<br>Počet_balení=%{y}<extra></extra>",
         "legendgroup": "Curium Netherlands B.V.",
         "marker": {
          "color": "#EF553B"
         },
         "name": "Curium Netherlands B.V.",
         "offsetgroup": "Curium Netherlands B.V.",
         "orientation": "v",
         "showlegend": true,
         "textposition": "auto",
         "type": "bar",
         "x": [
          "Ultra-TechneKow FM (99mTC-generátor)"
         ],
         "xaxis": "x",
         "y": [
          992000
         ],
         "yaxis": "y"
        }
       ],
       "layout": {
        "barmode": "relative",
        "legend": {
         "title": {
          "text": "VYROBCA_popis"
         },
         "tracegroupgap": 0
        },
        "template": {
         "data": {
          "bar": [
           {
            "error_x": {
             "color": "#2a3f5f"
            },
            "error_y": {
             "color": "#2a3f5f"
            },
            "marker": {
             "line": {
              "color": "#E5ECF6",
              "width": 0.5
             }
            },
            "type": "bar"
           }
          ],
          "barpolar": [
           {
            "marker": {
             "line": {
              "color": "#E5ECF6",
              "width": 0.5
             }
            },
            "type": "barpolar"
           }
          ],
          "carpet": [
           {
            "aaxis": {
             "endlinecolor": "#2a3f5f",
             "gridcolor": "white",
             "linecolor": "white",
             "minorgridcolor": "white",
             "startlinecolor": "#2a3f5f"
            },
            "baxis": {
             "endlinecolor": "#2a3f5f",
             "gridcolor": "white",
             "linecolor": "white",
             "minorgridcolor": "white",
             "startlinecolor": "#2a3f5f"
            },
            "type": "carpet"
           }
          ],
          "choropleth": [
           {
            "colorbar": {
             "outlinewidth": 0,
             "ticks": ""
            },
            "type": "choropleth"
           }
          ],
          "contour": [
           {
            "colorbar": {
             "outlinewidth": 0,
             "ticks": ""
            },
            "colorscale": [
             [
              0,
              "#0d0887"
             ],
             [
              0.1111111111111111,
              "#46039f"
             ],
             [
              0.2222222222222222,
              "#7201a8"
             ],
             [
              0.3333333333333333,
              "#9c179e"
             ],
             [
              0.4444444444444444,
              "#bd3786"
             ],
             [
              0.5555555555555556,
              "#d8576b"
             ],
             [
              0.6666666666666666,
              "#ed7953"
             ],
             [
              0.7777777777777778,
              "#fb9f3a"
             ],
             [
              0.8888888888888888,
              "#fdca26"
             ],
             [
              1,
              "#f0f921"
             ]
            ],
            "type": "contour"
           }
          ],
          "contourcarpet": [
           {
            "colorbar": {
             "outlinewidth": 0,
             "ticks": ""
            },
            "type": "contourcarpet"
           }
          ],
          "heatmap": [
           {
            "colorbar": {
             "outlinewidth": 0,
             "ticks": ""
            },
            "colorscale": [
             [
              0,
              "#0d0887"
             ],
             [
              0.1111111111111111,
              "#46039f"
             ],
             [
              0.2222222222222222,
              "#7201a8"
             ],
             [
              0.3333333333333333,
              "#9c179e"
             ],
             [
              0.4444444444444444,
              "#bd3786"
             ],
             [
              0.5555555555555556,
              "#d8576b"
             ],
             [
              0.6666666666666666,
              "#ed7953"
             ],
             [
              0.7777777777777778,
              "#fb9f3a"
             ],
             [
              0.8888888888888888,
              "#fdca26"
             ],
             [
              1,
              "#f0f921"
             ]
            ],
            "type": "heatmap"
           }
          ],
          "heatmapgl": [
           {
            "colorbar": {
             "outlinewidth": 0,
             "ticks": ""
            },
            "colorscale": [
             [
              0,
              "#0d0887"
             ],
             [
              0.1111111111111111,
              "#46039f"
             ],
             [
              0.2222222222222222,
              "#7201a8"
             ],
             [
              0.3333333333333333,
              "#9c179e"
             ],
             [
              0.4444444444444444,
              "#bd3786"
             ],
             [
              0.5555555555555556,
              "#d8576b"
             ],
             [
              0.6666666666666666,
              "#ed7953"
             ],
             [
              0.7777777777777778,
              "#fb9f3a"
             ],
             [
              0.8888888888888888,
              "#fdca26"
             ],
             [
              1,
              "#f0f921"
             ]
            ],
            "type": "heatmapgl"
           }
          ],
          "histogram": [
           {
            "marker": {
             "colorbar": {
              "outlinewidth": 0,
              "ticks": ""
             }
            },
            "type": "histogram"
           }
          ],
          "histogram2d": [
           {
            "colorbar": {
             "outlinewidth": 0,
             "ticks": ""
            },
            "colorscale": [
             [
              0,
              "#0d0887"
             ],
             [
              0.1111111111111111,
              "#46039f"
             ],
             [
              0.2222222222222222,
              "#7201a8"
             ],
             [
              0.3333333333333333,
              "#9c179e"
             ],
             [
              0.4444444444444444,
              "#bd3786"
             ],
             [
              0.5555555555555556,
              "#d8576b"
             ],
             [
              0.6666666666666666,
              "#ed7953"
             ],
             [
              0.7777777777777778,
              "#fb9f3a"
             ],
             [
              0.8888888888888888,
              "#fdca26"
             ],
             [
              1,
              "#f0f921"
             ]
            ],
            "type": "histogram2d"
           }
          ],
          "histogram2dcontour": [
           {
            "colorbar": {
             "outlinewidth": 0,
             "ticks": ""
            },
            "colorscale": [
             [
              0,
              "#0d0887"
             ],
             [
              0.1111111111111111,
              "#46039f"
             ],
             [
              0.2222222222222222,
              "#7201a8"
             ],
             [
              0.3333333333333333,
              "#9c179e"
             ],
             [
              0.4444444444444444,
              "#bd3786"
             ],
             [
              0.5555555555555556,
              "#d8576b"
             ],
             [
              0.6666666666666666,
              "#ed7953"
             ],
             [
              0.7777777777777778,
              "#fb9f3a"
             ],
             [
              0.8888888888888888,
              "#fdca26"
             ],
             [
              1,
              "#f0f921"
             ]
            ],
            "type": "histogram2dcontour"
           }
          ],
          "mesh3d": [
           {
            "colorbar": {
             "outlinewidth": 0,
             "ticks": ""
            },
            "type": "mesh3d"
           }
          ],
          "parcoords": [
           {
            "line": {
             "colorbar": {
              "outlinewidth": 0,
              "ticks": ""
             }
            },
            "type": "parcoords"
           }
          ],
          "pie": [
           {
            "automargin": true,
            "type": "pie"
           }
          ],
          "scatter": [
           {
            "marker": {
             "colorbar": {
              "outlinewidth": 0,
              "ticks": ""
             }
            },
            "type": "scatter"
           }
          ],
          "scatter3d": [
           {
            "line": {
             "colorbar": {
              "outlinewidth": 0,
              "ticks": ""
             }
            },
            "marker": {
             "colorbar": {
              "outlinewidth": 0,
              "ticks": ""
             }
            },
            "type": "scatter3d"
           }
          ],
          "scattercarpet": [
           {
            "marker": {
             "colorbar": {
              "outlinewidth": 0,
              "ticks": ""
             }
            },
            "type": "scattercarpet"
           }
          ],
          "scattergeo": [
           {
            "marker": {
             "colorbar": {
              "outlinewidth": 0,
              "ticks": ""
             }
            },
            "type": "scattergeo"
           }
          ],
          "scattergl": [
           {
            "marker": {
             "colorbar": {
              "outlinewidth": 0,
              "ticks": ""
             }
            },
            "type": "scattergl"
           }
          ],
          "scattermapbox": [
           {
            "marker": {
             "colorbar": {
              "outlinewidth": 0,
              "ticks": ""
             }
            },
            "type": "scattermapbox"
           }
          ],
          "scatterpolar": [
           {
            "marker": {
             "colorbar": {
              "outlinewidth": 0,
              "ticks": ""
             }
            },
            "type": "scatterpolar"
           }
          ],
          "scatterpolargl": [
           {
            "marker": {
             "colorbar": {
              "outlinewidth": 0,
              "ticks": ""
             }
            },
            "type": "scatterpolargl"
           }
          ],
          "scatterternary": [
           {
            "marker": {
             "colorbar": {
              "outlinewidth": 0,
              "ticks": ""
             }
            },
            "type": "scatterternary"
           }
          ],
          "surface": [
           {
            "colorbar": {
             "outlinewidth": 0,
             "ticks": ""
            },
            "colorscale": [
             [
              0,
              "#0d0887"
             ],
             [
              0.1111111111111111,
              "#46039f"
             ],
             [
              0.2222222222222222,
              "#7201a8"
             ],
             [
              0.3333333333333333,
              "#9c179e"
             ],
             [
              0.4444444444444444,
              "#bd3786"
             ],
             [
              0.5555555555555556,
              "#d8576b"
             ],
             [
              0.6666666666666666,
              "#ed7953"
             ],
             [
              0.7777777777777778,
              "#fb9f3a"
             ],
             [
              0.8888888888888888,
              "#fdca26"
             ],
             [
              1,
              "#f0f921"
             ]
            ],
            "type": "surface"
           }
          ],
          "table": [
           {
            "cells": {
             "fill": {
              "color": "#EBF0F8"
             },
             "line": {
              "color": "white"
             }
            },
            "header": {
             "fill": {
              "color": "#C8D4E3"
             },
             "line": {
              "color": "white"
             }
            },
            "type": "table"
           }
          ]
         },
         "layout": {
          "annotationdefaults": {
           "arrowcolor": "#2a3f5f",
           "arrowhead": 0,
           "arrowwidth": 1
          },
          "autotypenumbers": "strict",
          "coloraxis": {
           "colorbar": {
            "outlinewidth": 0,
            "ticks": ""
           }
          },
          "colorscale": {
           "diverging": [
            [
             0,
             "#8e0152"
            ],
            [
             0.1,
             "#c51b7d"
            ],
            [
             0.2,
             "#de77ae"
            ],
            [
             0.3,
             "#f1b6da"
            ],
            [
             0.4,
             "#fde0ef"
            ],
            [
             0.5,
             "#f7f7f7"
            ],
            [
             0.6,
             "#e6f5d0"
            ],
            [
             0.7,
             "#b8e186"
            ],
            [
             0.8,
             "#7fbc41"
            ],
            [
             0.9,
             "#4d9221"
            ],
            [
             1,
             "#276419"
            ]
           ],
           "sequential": [
            [
             0,
             "#0d0887"
            ],
            [
             0.1111111111111111,
             "#46039f"
            ],
            [
             0.2222222222222222,
             "#7201a8"
            ],
            [
             0.3333333333333333,
             "#9c179e"
            ],
            [
             0.4444444444444444,
             "#bd3786"
            ],
            [
             0.5555555555555556,
             "#d8576b"
            ],
            [
             0.6666666666666666,
             "#ed7953"
            ],
            [
             0.7777777777777778,
             "#fb9f3a"
            ],
            [
             0.8888888888888888,
             "#fdca26"
            ],
            [
             1,
             "#f0f921"
            ]
           ],
           "sequentialminus": [
            [
             0,
             "#0d0887"
            ],
            [
             0.1111111111111111,
             "#46039f"
            ],
            [
             0.2222222222222222,
             "#7201a8"
            ],
            [
             0.3333333333333333,
             "#9c179e"
            ],
            [
             0.4444444444444444,
             "#bd3786"
            ],
            [
             0.5555555555555556,
             "#d8576b"
            ],
            [
             0.6666666666666666,
             "#ed7953"
            ],
            [
             0.7777777777777778,
             "#fb9f3a"
            ],
            [
             0.8888888888888888,
             "#fdca26"
            ],
            [
             1,
             "#f0f921"
            ]
           ]
          },
          "colorway": [
           "#636efa",
           "#EF553B",
           "#00cc96",
           "#ab63fa",
           "#FFA15A",
           "#19d3f3",
           "#FF6692",
           "#B6E880",
           "#FF97FF",
           "#FECB52"
          ],
          "font": {
           "color": "#2a3f5f"
          },
          "geo": {
           "bgcolor": "white",
           "lakecolor": "white",
           "landcolor": "#E5ECF6",
           "showlakes": true,
           "showland": true,
           "subunitcolor": "white"
          },
          "hoverlabel": {
           "align": "left"
          },
          "hovermode": "closest",
          "mapbox": {
           "style": "light"
          },
          "paper_bgcolor": "white",
          "plot_bgcolor": "#E5ECF6",
          "polar": {
           "angularaxis": {
            "gridcolor": "white",
            "linecolor": "white",
            "ticks": ""
           },
           "bgcolor": "#E5ECF6",
           "radialaxis": {
            "gridcolor": "white",
            "linecolor": "white",
            "ticks": ""
           }
          },
          "scene": {
           "xaxis": {
            "backgroundcolor": "#E5ECF6",
            "gridcolor": "white",
            "gridwidth": 2,
            "linecolor": "white",
            "showbackground": true,
            "ticks": "",
            "zerolinecolor": "white"
           },
           "yaxis": {
            "backgroundcolor": "#E5ECF6",
            "gridcolor": "white",
            "gridwidth": 2,
            "linecolor": "white",
            "showbackground": true,
            "ticks": "",
            "zerolinecolor": "white"
           },
           "zaxis": {
            "backgroundcolor": "#E5ECF6",
            "gridcolor": "white",
            "gridwidth": 2,
            "linecolor": "white",
            "showbackground": true,
            "ticks": "",
            "zerolinecolor": "white"
           }
          },
          "shapedefaults": {
           "line": {
            "color": "#2a3f5f"
           }
          },
          "ternary": {
           "aaxis": {
            "gridcolor": "white",
            "linecolor": "white",
            "ticks": ""
           },
           "baxis": {
            "gridcolor": "white",
            "linecolor": "white",
            "ticks": ""
           },
           "bgcolor": "#E5ECF6",
           "caxis": {
            "gridcolor": "white",
            "linecolor": "white",
            "ticks": ""
           }
          },
          "title": {
           "x": 0.05
          },
          "xaxis": {
           "automargin": true,
           "gridcolor": "white",
           "linecolor": "white",
           "ticks": "",
           "title": {
            "standoff": 15
           },
           "zerolinecolor": "white",
           "zerolinewidth": 2
          },
          "yaxis": {
           "automargin": true,
           "gridcolor": "white",
           "linecolor": "white",
           "ticks": "",
           "title": {
            "standoff": 15
           },
           "zerolinecolor": "white",
           "zerolinewidth": 2
          }
         }
        },
        "title": {
         "text": "Technecium"
        },
        "xaxis": {
         "anchor": "y",
         "domain": [
          0,
          1
         ],
         "title": {
          "text": "LIEK_popis"
         }
        },
        "yaxis": {
         "anchor": "x",
         "domain": [
          0,
          1
         ],
         "title": {
          "text": "Počet_balení"
         }
        }
       }
      }
     },
     "metadata": {}
    }
   ],
   "source": [
    "fig = px.bar(technecium, x='LIEK_popis', y='Počet_balení', color='VYROBCA_popis', title='Technecium')\n",
    "fig.show()"
   ]
  },
  {
   "source": [
    " Na vizualizaciu ucinnej latky technecium nam bolo najvyhodnejsie pouzit barplot. \n",
    " Nakolko sa jedna o diagnosticke radiofarmaka, podla vypisu Series vidime ze tieto lieky boli poskytovane nemocnicou alebo ich\n",
    " pacientom hradila zdravotna poistovna. V oboch pripadoch pacient neplatil nic, a tak udaje o cene nemame ako zakomponovat. Obe radiofarmaka su vyrabane Holandskymi vyrobcami, preto v grafe nie su rozlisene na zaklade krajiny ale vyrobcu."
   ],
   "cell_type": "markdown",
   "metadata": {}
  },
  {
   "source": [
    "# 2. Elektrolyty:"
   ],
   "cell_type": "markdown",
   "metadata": {}
  },
  {
   "cell_type": "code",
   "execution_count": 56,
   "metadata": {},
   "outputs": [
    {
     "output_type": "display_data",
     "data": {
      "application/vnd.plotly.v1+json": {
       "config": {
        "plotlyServerURL": "https://plot.ly"
       },
       "data": [
        {
         "alignmentgroup": "True",
         "hovertemplate": "STAT_popis=Nemecko<br>VYROBCA_popis=%{x}<br>Počet_balení=%{y}<extra></extra>",
         "legendgroup": "Nemecko",
         "marker": {
          "color": "#636efa"
         },
         "name": "Nemecko",
         "offsetgroup": "Nemecko",
         "orientation": "v",
         "showlegend": true,
         "textposition": "auto",
         "type": "bar",
         "x": [
          "B.Braun Melsungen AG"
         ],
         "xaxis": "x",
         "y": [
          580683.8620000001
         ],
         "yaxis": "y"
        },
        {
         "alignmentgroup": "True",
         "hovertemplate": "STAT_popis=Taliansko<br>VYROBCA_popis=%{x}<br>Počet_balení=%{y}<extra></extra>",
         "legendgroup": "Taliansko",
         "marker": {
          "color": "#EF553B"
         },
         "name": "Taliansko",
         "offsetgroup": "Taliansko",
         "orientation": "v",
         "showlegend": true,
         "textposition": "auto",
         "type": "bar",
         "x": [
          "Bieffe Medital S.p.A."
         ],
         "xaxis": "x",
         "y": [
          1196294.76
         ],
         "yaxis": "y"
        },
        {
         "alignmentgroup": "True",
         "hovertemplate": "STAT_popis=Česko<br>VYROBCA_popis=%{x}<br>Počet_balení=%{y}<extra></extra>",
         "legendgroup": "Česko",
         "marker": {
          "color": "#00cc96"
         },
         "name": "Česko",
         "offsetgroup": "Česko",
         "orientation": "v",
         "showlegend": true,
         "textposition": "auto",
         "type": "bar",
         "x": [
          "Fresenius Kabi s.r.o."
         ],
         "xaxis": "x",
         "y": [
          3157585.505
         ],
         "yaxis": "y"
        }
       ],
       "layout": {
        "barmode": "relative",
        "legend": {
         "title": {
          "text": "STAT_popis"
         },
         "tracegroupgap": 0
        },
        "template": {
         "data": {
          "bar": [
           {
            "error_x": {
             "color": "#2a3f5f"
            },
            "error_y": {
             "color": "#2a3f5f"
            },
            "marker": {
             "line": {
              "color": "#E5ECF6",
              "width": 0.5
             }
            },
            "type": "bar"
           }
          ],
          "barpolar": [
           {
            "marker": {
             "line": {
              "color": "#E5ECF6",
              "width": 0.5
             }
            },
            "type": "barpolar"
           }
          ],
          "carpet": [
           {
            "aaxis": {
             "endlinecolor": "#2a3f5f",
             "gridcolor": "white",
             "linecolor": "white",
             "minorgridcolor": "white",
             "startlinecolor": "#2a3f5f"
            },
            "baxis": {
             "endlinecolor": "#2a3f5f",
             "gridcolor": "white",
             "linecolor": "white",
             "minorgridcolor": "white",
             "startlinecolor": "#2a3f5f"
            },
            "type": "carpet"
           }
          ],
          "choropleth": [
           {
            "colorbar": {
             "outlinewidth": 0,
             "ticks": ""
            },
            "type": "choropleth"
           }
          ],
          "contour": [
           {
            "colorbar": {
             "outlinewidth": 0,
             "ticks": ""
            },
            "colorscale": [
             [
              0,
              "#0d0887"
             ],
             [
              0.1111111111111111,
              "#46039f"
             ],
             [
              0.2222222222222222,
              "#7201a8"
             ],
             [
              0.3333333333333333,
              "#9c179e"
             ],
             [
              0.4444444444444444,
              "#bd3786"
             ],
             [
              0.5555555555555556,
              "#d8576b"
             ],
             [
              0.6666666666666666,
              "#ed7953"
             ],
             [
              0.7777777777777778,
              "#fb9f3a"
             ],
             [
              0.8888888888888888,
              "#fdca26"
             ],
             [
              1,
              "#f0f921"
             ]
            ],
            "type": "contour"
           }
          ],
          "contourcarpet": [
           {
            "colorbar": {
             "outlinewidth": 0,
             "ticks": ""
            },
            "type": "contourcarpet"
           }
          ],
          "heatmap": [
           {
            "colorbar": {
             "outlinewidth": 0,
             "ticks": ""
            },
            "colorscale": [
             [
              0,
              "#0d0887"
             ],
             [
              0.1111111111111111,
              "#46039f"
             ],
             [
              0.2222222222222222,
              "#7201a8"
             ],
             [
              0.3333333333333333,
              "#9c179e"
             ],
             [
              0.4444444444444444,
              "#bd3786"
             ],
             [
              0.5555555555555556,
              "#d8576b"
             ],
             [
              0.6666666666666666,
              "#ed7953"
             ],
             [
              0.7777777777777778,
              "#fb9f3a"
             ],
             [
              0.8888888888888888,
              "#fdca26"
             ],
             [
              1,
              "#f0f921"
             ]
            ],
            "type": "heatmap"
           }
          ],
          "heatmapgl": [
           {
            "colorbar": {
             "outlinewidth": 0,
             "ticks": ""
            },
            "colorscale": [
             [
              0,
              "#0d0887"
             ],
             [
              0.1111111111111111,
              "#46039f"
             ],
             [
              0.2222222222222222,
              "#7201a8"
             ],
             [
              0.3333333333333333,
              "#9c179e"
             ],
             [
              0.4444444444444444,
              "#bd3786"
             ],
             [
              0.5555555555555556,
              "#d8576b"
             ],
             [
              0.6666666666666666,
              "#ed7953"
             ],
             [
              0.7777777777777778,
              "#fb9f3a"
             ],
             [
              0.8888888888888888,
              "#fdca26"
             ],
             [
              1,
              "#f0f921"
             ]
            ],
            "type": "heatmapgl"
           }
          ],
          "histogram": [
           {
            "marker": {
             "colorbar": {
              "outlinewidth": 0,
              "ticks": ""
             }
            },
            "type": "histogram"
           }
          ],
          "histogram2d": [
           {
            "colorbar": {
             "outlinewidth": 0,
             "ticks": ""
            },
            "colorscale": [
             [
              0,
              "#0d0887"
             ],
             [
              0.1111111111111111,
              "#46039f"
             ],
             [
              0.2222222222222222,
              "#7201a8"
             ],
             [
              0.3333333333333333,
              "#9c179e"
             ],
             [
              0.4444444444444444,
              "#bd3786"
             ],
             [
              0.5555555555555556,
              "#d8576b"
             ],
             [
              0.6666666666666666,
              "#ed7953"
             ],
             [
              0.7777777777777778,
              "#fb9f3a"
             ],
             [
              0.8888888888888888,
              "#fdca26"
             ],
             [
              1,
              "#f0f921"
             ]
            ],
            "type": "histogram2d"
           }
          ],
          "histogram2dcontour": [
           {
            "colorbar": {
             "outlinewidth": 0,
             "ticks": ""
            },
            "colorscale": [
             [
              0,
              "#0d0887"
             ],
             [
              0.1111111111111111,
              "#46039f"
             ],
             [
              0.2222222222222222,
              "#7201a8"
             ],
             [
              0.3333333333333333,
              "#9c179e"
             ],
             [
              0.4444444444444444,
              "#bd3786"
             ],
             [
              0.5555555555555556,
              "#d8576b"
             ],
             [
              0.6666666666666666,
              "#ed7953"
             ],
             [
              0.7777777777777778,
              "#fb9f3a"
             ],
             [
              0.8888888888888888,
              "#fdca26"
             ],
             [
              1,
              "#f0f921"
             ]
            ],
            "type": "histogram2dcontour"
           }
          ],
          "mesh3d": [
           {
            "colorbar": {
             "outlinewidth": 0,
             "ticks": ""
            },
            "type": "mesh3d"
           }
          ],
          "parcoords": [
           {
            "line": {
             "colorbar": {
              "outlinewidth": 0,
              "ticks": ""
             }
            },
            "type": "parcoords"
           }
          ],
          "pie": [
           {
            "automargin": true,
            "type": "pie"
           }
          ],
          "scatter": [
           {
            "marker": {
             "colorbar": {
              "outlinewidth": 0,
              "ticks": ""
             }
            },
            "type": "scatter"
           }
          ],
          "scatter3d": [
           {
            "line": {
             "colorbar": {
              "outlinewidth": 0,
              "ticks": ""
             }
            },
            "marker": {
             "colorbar": {
              "outlinewidth": 0,
              "ticks": ""
             }
            },
            "type": "scatter3d"
           }
          ],
          "scattercarpet": [
           {
            "marker": {
             "colorbar": {
              "outlinewidth": 0,
              "ticks": ""
             }
            },
            "type": "scattercarpet"
           }
          ],
          "scattergeo": [
           {
            "marker": {
             "colorbar": {
              "outlinewidth": 0,
              "ticks": ""
             }
            },
            "type": "scattergeo"
           }
          ],
          "scattergl": [
           {
            "marker": {
             "colorbar": {
              "outlinewidth": 0,
              "ticks": ""
             }
            },
            "type": "scattergl"
           }
          ],
          "scattermapbox": [
           {
            "marker": {
             "colorbar": {
              "outlinewidth": 0,
              "ticks": ""
             }
            },
            "type": "scattermapbox"
           }
          ],
          "scatterpolar": [
           {
            "marker": {
             "colorbar": {
              "outlinewidth": 0,
              "ticks": ""
             }
            },
            "type": "scatterpolar"
           }
          ],
          "scatterpolargl": [
           {
            "marker": {
             "colorbar": {
              "outlinewidth": 0,
              "ticks": ""
             }
            },
            "type": "scatterpolargl"
           }
          ],
          "scatterternary": [
           {
            "marker": {
             "colorbar": {
              "outlinewidth": 0,
              "ticks": ""
             }
            },
            "type": "scatterternary"
           }
          ],
          "surface": [
           {
            "colorbar": {
             "outlinewidth": 0,
             "ticks": ""
            },
            "colorscale": [
             [
              0,
              "#0d0887"
             ],
             [
              0.1111111111111111,
              "#46039f"
             ],
             [
              0.2222222222222222,
              "#7201a8"
             ],
             [
              0.3333333333333333,
              "#9c179e"
             ],
             [
              0.4444444444444444,
              "#bd3786"
             ],
             [
              0.5555555555555556,
              "#d8576b"
             ],
             [
              0.6666666666666666,
              "#ed7953"
             ],
             [
              0.7777777777777778,
              "#fb9f3a"
             ],
             [
              0.8888888888888888,
              "#fdca26"
             ],
             [
              1,
              "#f0f921"
             ]
            ],
            "type": "surface"
           }
          ],
          "table": [
           {
            "cells": {
             "fill": {
              "color": "#EBF0F8"
             },
             "line": {
              "color": "white"
             }
            },
            "header": {
             "fill": {
              "color": "#C8D4E3"
             },
             "line": {
              "color": "white"
             }
            },
            "type": "table"
           }
          ]
         },
         "layout": {
          "annotationdefaults": {
           "arrowcolor": "#2a3f5f",
           "arrowhead": 0,
           "arrowwidth": 1
          },
          "autotypenumbers": "strict",
          "coloraxis": {
           "colorbar": {
            "outlinewidth": 0,
            "ticks": ""
           }
          },
          "colorscale": {
           "diverging": [
            [
             0,
             "#8e0152"
            ],
            [
             0.1,
             "#c51b7d"
            ],
            [
             0.2,
             "#de77ae"
            ],
            [
             0.3,
             "#f1b6da"
            ],
            [
             0.4,
             "#fde0ef"
            ],
            [
             0.5,
             "#f7f7f7"
            ],
            [
             0.6,
             "#e6f5d0"
            ],
            [
             0.7,
             "#b8e186"
            ],
            [
             0.8,
             "#7fbc41"
            ],
            [
             0.9,
             "#4d9221"
            ],
            [
             1,
             "#276419"
            ]
           ],
           "sequential": [
            [
             0,
             "#0d0887"
            ],
            [
             0.1111111111111111,
             "#46039f"
            ],
            [
             0.2222222222222222,
             "#7201a8"
            ],
            [
             0.3333333333333333,
             "#9c179e"
            ],
            [
             0.4444444444444444,
             "#bd3786"
            ],
            [
             0.5555555555555556,
             "#d8576b"
            ],
            [
             0.6666666666666666,
             "#ed7953"
            ],
            [
             0.7777777777777778,
             "#fb9f3a"
            ],
            [
             0.8888888888888888,
             "#fdca26"
            ],
            [
             1,
             "#f0f921"
            ]
           ],
           "sequentialminus": [
            [
             0,
             "#0d0887"
            ],
            [
             0.1111111111111111,
             "#46039f"
            ],
            [
             0.2222222222222222,
             "#7201a8"
            ],
            [
             0.3333333333333333,
             "#9c179e"
            ],
            [
             0.4444444444444444,
             "#bd3786"
            ],
            [
             0.5555555555555556,
             "#d8576b"
            ],
            [
             0.6666666666666666,
             "#ed7953"
            ],
            [
             0.7777777777777778,
             "#fb9f3a"
            ],
            [
             0.8888888888888888,
             "#fdca26"
            ],
            [
             1,
             "#f0f921"
            ]
           ]
          },
          "colorway": [
           "#636efa",
           "#EF553B",
           "#00cc96",
           "#ab63fa",
           "#FFA15A",
           "#19d3f3",
           "#FF6692",
           "#B6E880",
           "#FF97FF",
           "#FECB52"
          ],
          "font": {
           "color": "#2a3f5f"
          },
          "geo": {
           "bgcolor": "white",
           "lakecolor": "white",
           "landcolor": "#E5ECF6",
           "showlakes": true,
           "showland": true,
           "subunitcolor": "white"
          },
          "hoverlabel": {
           "align": "left"
          },
          "hovermode": "closest",
          "mapbox": {
           "style": "light"
          },
          "paper_bgcolor": "white",
          "plot_bgcolor": "#E5ECF6",
          "polar": {
           "angularaxis": {
            "gridcolor": "white",
            "linecolor": "white",
            "ticks": ""
           },
           "bgcolor": "#E5ECF6",
           "radialaxis": {
            "gridcolor": "white",
            "linecolor": "white",
            "ticks": ""
           }
          },
          "scene": {
           "xaxis": {
            "backgroundcolor": "#E5ECF6",
            "gridcolor": "white",
            "gridwidth": 2,
            "linecolor": "white",
            "showbackground": true,
            "ticks": "",
            "zerolinecolor": "white"
           },
           "yaxis": {
            "backgroundcolor": "#E5ECF6",
            "gridcolor": "white",
            "gridwidth": 2,
            "linecolor": "white",
            "showbackground": true,
            "ticks": "",
            "zerolinecolor": "white"
           },
           "zaxis": {
            "backgroundcolor": "#E5ECF6",
            "gridcolor": "white",
            "gridwidth": 2,
            "linecolor": "white",
            "showbackground": true,
            "ticks": "",
            "zerolinecolor": "white"
           }
          },
          "shapedefaults": {
           "line": {
            "color": "#2a3f5f"
           }
          },
          "ternary": {
           "aaxis": {
            "gridcolor": "white",
            "linecolor": "white",
            "ticks": ""
           },
           "baxis": {
            "gridcolor": "white",
            "linecolor": "white",
            "ticks": ""
           },
           "bgcolor": "#E5ECF6",
           "caxis": {
            "gridcolor": "white",
            "linecolor": "white",
            "ticks": ""
           }
          },
          "title": {
           "x": 0.05
          },
          "xaxis": {
           "automargin": true,
           "gridcolor": "white",
           "linecolor": "white",
           "ticks": "",
           "title": {
            "standoff": 15
           },
           "zerolinecolor": "white",
           "zerolinewidth": 2
          },
          "yaxis": {
           "automargin": true,
           "gridcolor": "white",
           "linecolor": "white",
           "ticks": "",
           "title": {
            "standoff": 15
           },
           "zerolinecolor": "white",
           "zerolinewidth": 2
          }
         }
        },
        "title": {
         "text": "Elektrolyty podla vyrobcov nad 500 000"
        },
        "xaxis": {
         "anchor": "y",
         "domain": [
          0,
          1
         ],
         "title": {
          "text": "VYROBCA_popis"
         }
        },
        "yaxis": {
         "anchor": "x",
         "domain": [
          0,
          1
         ],
         "title": {
          "text": "Počet_balení"
         }
        }
       }
      }
     },
     "metadata": {}
    }
   ],
   "source": [
    "elektrolyty = top20tab[\"B05BB01\"]\n",
    "\n",
    "fig = px.bar(elektrolyty.groupby(['VYROBCA_popis','STAT_popis']).sum().reset_index().query('Počet_balení > 500000'), x='VYROBCA_popis', y='Počet_balení',title='Elektrolyty podla vyrobcov nad 500 000', color='STAT_popis')\n",
    "fig.show()"
   ]
  },
  {
   "cell_type": "code",
   "execution_count": 58,
   "metadata": {},
   "outputs": [
    {
     "output_type": "display_data",
     "data": {
      "application/vnd.plotly.v1+json": {
       "config": {
        "plotlyServerURL": "https://plot.ly"
       },
       "data": [
        {
         "domain": {
          "x": [
           0,
           1
          ],
          "y": [
           0,
           1
          ]
         },
         "hovertemplate": "STAT_popis=%{label}<br>Počet_balení=%{value}<extra></extra>",
         "labels": [
          "Nemecko",
          "Slovensko",
          "Taliansko",
          "Česko"
         ],
         "legendgroup": "",
         "name": "",
         "showlegend": true,
         "type": "pie",
         "values": [
          581319.8620000001,
          257413.33000000002,
          1196883.76,
          3296069.8999999994
         ]
        }
       ],
       "layout": {
        "legend": {
         "tracegroupgap": 0
        },
        "template": {
         "data": {
          "bar": [
           {
            "error_x": {
             "color": "#2a3f5f"
            },
            "error_y": {
             "color": "#2a3f5f"
            },
            "marker": {
             "line": {
              "color": "#E5ECF6",
              "width": 0.5
             }
            },
            "type": "bar"
           }
          ],
          "barpolar": [
           {
            "marker": {
             "line": {
              "color": "#E5ECF6",
              "width": 0.5
             }
            },
            "type": "barpolar"
           }
          ],
          "carpet": [
           {
            "aaxis": {
             "endlinecolor": "#2a3f5f",
             "gridcolor": "white",
             "linecolor": "white",
             "minorgridcolor": "white",
             "startlinecolor": "#2a3f5f"
            },
            "baxis": {
             "endlinecolor": "#2a3f5f",
             "gridcolor": "white",
             "linecolor": "white",
             "minorgridcolor": "white",
             "startlinecolor": "#2a3f5f"
            },
            "type": "carpet"
           }
          ],
          "choropleth": [
           {
            "colorbar": {
             "outlinewidth": 0,
             "ticks": ""
            },
            "type": "choropleth"
           }
          ],
          "contour": [
           {
            "colorbar": {
             "outlinewidth": 0,
             "ticks": ""
            },
            "colorscale": [
             [
              0,
              "#0d0887"
             ],
             [
              0.1111111111111111,
              "#46039f"
             ],
             [
              0.2222222222222222,
              "#7201a8"
             ],
             [
              0.3333333333333333,
              "#9c179e"
             ],
             [
              0.4444444444444444,
              "#bd3786"
             ],
             [
              0.5555555555555556,
              "#d8576b"
             ],
             [
              0.6666666666666666,
              "#ed7953"
             ],
             [
              0.7777777777777778,
              "#fb9f3a"
             ],
             [
              0.8888888888888888,
              "#fdca26"
             ],
             [
              1,
              "#f0f921"
             ]
            ],
            "type": "contour"
           }
          ],
          "contourcarpet": [
           {
            "colorbar": {
             "outlinewidth": 0,
             "ticks": ""
            },
            "type": "contourcarpet"
           }
          ],
          "heatmap": [
           {
            "colorbar": {
             "outlinewidth": 0,
             "ticks": ""
            },
            "colorscale": [
             [
              0,
              "#0d0887"
             ],
             [
              0.1111111111111111,
              "#46039f"
             ],
             [
              0.2222222222222222,
              "#7201a8"
             ],
             [
              0.3333333333333333,
              "#9c179e"
             ],
             [
              0.4444444444444444,
              "#bd3786"
             ],
             [
              0.5555555555555556,
              "#d8576b"
             ],
             [
              0.6666666666666666,
              "#ed7953"
             ],
             [
              0.7777777777777778,
              "#fb9f3a"
             ],
             [
              0.8888888888888888,
              "#fdca26"
             ],
             [
              1,
              "#f0f921"
             ]
            ],
            "type": "heatmap"
           }
          ],
          "heatmapgl": [
           {
            "colorbar": {
             "outlinewidth": 0,
             "ticks": ""
            },
            "colorscale": [
             [
              0,
              "#0d0887"
             ],
             [
              0.1111111111111111,
              "#46039f"
             ],
             [
              0.2222222222222222,
              "#7201a8"
             ],
             [
              0.3333333333333333,
              "#9c179e"
             ],
             [
              0.4444444444444444,
              "#bd3786"
             ],
             [
              0.5555555555555556,
              "#d8576b"
             ],
             [
              0.6666666666666666,
              "#ed7953"
             ],
             [
              0.7777777777777778,
              "#fb9f3a"
             ],
             [
              0.8888888888888888,
              "#fdca26"
             ],
             [
              1,
              "#f0f921"
             ]
            ],
            "type": "heatmapgl"
           }
          ],
          "histogram": [
           {
            "marker": {
             "colorbar": {
              "outlinewidth": 0,
              "ticks": ""
             }
            },
            "type": "histogram"
           }
          ],
          "histogram2d": [
           {
            "colorbar": {
             "outlinewidth": 0,
             "ticks": ""
            },
            "colorscale": [
             [
              0,
              "#0d0887"
             ],
             [
              0.1111111111111111,
              "#46039f"
             ],
             [
              0.2222222222222222,
              "#7201a8"
             ],
             [
              0.3333333333333333,
              "#9c179e"
             ],
             [
              0.4444444444444444,
              "#bd3786"
             ],
             [
              0.5555555555555556,
              "#d8576b"
             ],
             [
              0.6666666666666666,
              "#ed7953"
             ],
             [
              0.7777777777777778,
              "#fb9f3a"
             ],
             [
              0.8888888888888888,
              "#fdca26"
             ],
             [
              1,
              "#f0f921"
             ]
            ],
            "type": "histogram2d"
           }
          ],
          "histogram2dcontour": [
           {
            "colorbar": {
             "outlinewidth": 0,
             "ticks": ""
            },
            "colorscale": [
             [
              0,
              "#0d0887"
             ],
             [
              0.1111111111111111,
              "#46039f"
             ],
             [
              0.2222222222222222,
              "#7201a8"
             ],
             [
              0.3333333333333333,
              "#9c179e"
             ],
             [
              0.4444444444444444,
              "#bd3786"
             ],
             [
              0.5555555555555556,
              "#d8576b"
             ],
             [
              0.6666666666666666,
              "#ed7953"
             ],
             [
              0.7777777777777778,
              "#fb9f3a"
             ],
             [
              0.8888888888888888,
              "#fdca26"
             ],
             [
              1,
              "#f0f921"
             ]
            ],
            "type": "histogram2dcontour"
           }
          ],
          "mesh3d": [
           {
            "colorbar": {
             "outlinewidth": 0,
             "ticks": ""
            },
            "type": "mesh3d"
           }
          ],
          "parcoords": [
           {
            "line": {
             "colorbar": {
              "outlinewidth": 0,
              "ticks": ""
             }
            },
            "type": "parcoords"
           }
          ],
          "pie": [
           {
            "automargin": true,
            "type": "pie"
           }
          ],
          "scatter": [
           {
            "marker": {
             "colorbar": {
              "outlinewidth": 0,
              "ticks": ""
             }
            },
            "type": "scatter"
           }
          ],
          "scatter3d": [
           {
            "line": {
             "colorbar": {
              "outlinewidth": 0,
              "ticks": ""
             }
            },
            "marker": {
             "colorbar": {
              "outlinewidth": 0,
              "ticks": ""
             }
            },
            "type": "scatter3d"
           }
          ],
          "scattercarpet": [
           {
            "marker": {
             "colorbar": {
              "outlinewidth": 0,
              "ticks": ""
             }
            },
            "type": "scattercarpet"
           }
          ],
          "scattergeo": [
           {
            "marker": {
             "colorbar": {
              "outlinewidth": 0,
              "ticks": ""
             }
            },
            "type": "scattergeo"
           }
          ],
          "scattergl": [
           {
            "marker": {
             "colorbar": {
              "outlinewidth": 0,
              "ticks": ""
             }
            },
            "type": "scattergl"
           }
          ],
          "scattermapbox": [
           {
            "marker": {
             "colorbar": {
              "outlinewidth": 0,
              "ticks": ""
             }
            },
            "type": "scattermapbox"
           }
          ],
          "scatterpolar": [
           {
            "marker": {
             "colorbar": {
              "outlinewidth": 0,
              "ticks": ""
             }
            },
            "type": "scatterpolar"
           }
          ],
          "scatterpolargl": [
           {
            "marker": {
             "colorbar": {
              "outlinewidth": 0,
              "ticks": ""
             }
            },
            "type": "scatterpolargl"
           }
          ],
          "scatterternary": [
           {
            "marker": {
             "colorbar": {
              "outlinewidth": 0,
              "ticks": ""
             }
            },
            "type": "scatterternary"
           }
          ],
          "surface": [
           {
            "colorbar": {
             "outlinewidth": 0,
             "ticks": ""
            },
            "colorscale": [
             [
              0,
              "#0d0887"
             ],
             [
              0.1111111111111111,
              "#46039f"
             ],
             [
              0.2222222222222222,
              "#7201a8"
             ],
             [
              0.3333333333333333,
              "#9c179e"
             ],
             [
              0.4444444444444444,
              "#bd3786"
             ],
             [
              0.5555555555555556,
              "#d8576b"
             ],
             [
              0.6666666666666666,
              "#ed7953"
             ],
             [
              0.7777777777777778,
              "#fb9f3a"
             ],
             [
              0.8888888888888888,
              "#fdca26"
             ],
             [
              1,
              "#f0f921"
             ]
            ],
            "type": "surface"
           }
          ],
          "table": [
           {
            "cells": {
             "fill": {
              "color": "#EBF0F8"
             },
             "line": {
              "color": "white"
             }
            },
            "header": {
             "fill": {
              "color": "#C8D4E3"
             },
             "line": {
              "color": "white"
             }
            },
            "type": "table"
           }
          ]
         },
         "layout": {
          "annotationdefaults": {
           "arrowcolor": "#2a3f5f",
           "arrowhead": 0,
           "arrowwidth": 1
          },
          "autotypenumbers": "strict",
          "coloraxis": {
           "colorbar": {
            "outlinewidth": 0,
            "ticks": ""
           }
          },
          "colorscale": {
           "diverging": [
            [
             0,
             "#8e0152"
            ],
            [
             0.1,
             "#c51b7d"
            ],
            [
             0.2,
             "#de77ae"
            ],
            [
             0.3,
             "#f1b6da"
            ],
            [
             0.4,
             "#fde0ef"
            ],
            [
             0.5,
             "#f7f7f7"
            ],
            [
             0.6,
             "#e6f5d0"
            ],
            [
             0.7,
             "#b8e186"
            ],
            [
             0.8,
             "#7fbc41"
            ],
            [
             0.9,
             "#4d9221"
            ],
            [
             1,
             "#276419"
            ]
           ],
           "sequential": [
            [
             0,
             "#0d0887"
            ],
            [
             0.1111111111111111,
             "#46039f"
            ],
            [
             0.2222222222222222,
             "#7201a8"
            ],
            [
             0.3333333333333333,
             "#9c179e"
            ],
            [
             0.4444444444444444,
             "#bd3786"
            ],
            [
             0.5555555555555556,
             "#d8576b"
            ],
            [
             0.6666666666666666,
             "#ed7953"
            ],
            [
             0.7777777777777778,
             "#fb9f3a"
            ],
            [
             0.8888888888888888,
             "#fdca26"
            ],
            [
             1,
             "#f0f921"
            ]
           ],
           "sequentialminus": [
            [
             0,
             "#0d0887"
            ],
            [
             0.1111111111111111,
             "#46039f"
            ],
            [
             0.2222222222222222,
             "#7201a8"
            ],
            [
             0.3333333333333333,
             "#9c179e"
            ],
            [
             0.4444444444444444,
             "#bd3786"
            ],
            [
             0.5555555555555556,
             "#d8576b"
            ],
            [
             0.6666666666666666,
             "#ed7953"
            ],
            [
             0.7777777777777778,
             "#fb9f3a"
            ],
            [
             0.8888888888888888,
             "#fdca26"
            ],
            [
             1,
             "#f0f921"
            ]
           ]
          },
          "colorway": [
           "#636efa",
           "#EF553B",
           "#00cc96",
           "#ab63fa",
           "#FFA15A",
           "#19d3f3",
           "#FF6692",
           "#B6E880",
           "#FF97FF",
           "#FECB52"
          ],
          "font": {
           "color": "#2a3f5f"
          },
          "geo": {
           "bgcolor": "white",
           "lakecolor": "white",
           "landcolor": "#E5ECF6",
           "showlakes": true,
           "showland": true,
           "subunitcolor": "white"
          },
          "hoverlabel": {
           "align": "left"
          },
          "hovermode": "closest",
          "mapbox": {
           "style": "light"
          },
          "paper_bgcolor": "white",
          "plot_bgcolor": "#E5ECF6",
          "polar": {
           "angularaxis": {
            "gridcolor": "white",
            "linecolor": "white",
            "ticks": ""
           },
           "bgcolor": "#E5ECF6",
           "radialaxis": {
            "gridcolor": "white",
            "linecolor": "white",
            "ticks": ""
           }
          },
          "scene": {
           "xaxis": {
            "backgroundcolor": "#E5ECF6",
            "gridcolor": "white",
            "gridwidth": 2,
            "linecolor": "white",
            "showbackground": true,
            "ticks": "",
            "zerolinecolor": "white"
           },
           "yaxis": {
            "backgroundcolor": "#E5ECF6",
            "gridcolor": "white",
            "gridwidth": 2,
            "linecolor": "white",
            "showbackground": true,
            "ticks": "",
            "zerolinecolor": "white"
           },
           "zaxis": {
            "backgroundcolor": "#E5ECF6",
            "gridcolor": "white",
            "gridwidth": 2,
            "linecolor": "white",
            "showbackground": true,
            "ticks": "",
            "zerolinecolor": "white"
           }
          },
          "shapedefaults": {
           "line": {
            "color": "#2a3f5f"
           }
          },
          "ternary": {
           "aaxis": {
            "gridcolor": "white",
            "linecolor": "white",
            "ticks": ""
           },
           "baxis": {
            "gridcolor": "white",
            "linecolor": "white",
            "ticks": ""
           },
           "bgcolor": "#E5ECF6",
           "caxis": {
            "gridcolor": "white",
            "linecolor": "white",
            "ticks": ""
           }
          },
          "title": {
           "x": 0.05
          },
          "xaxis": {
           "automargin": true,
           "gridcolor": "white",
           "linecolor": "white",
           "ticks": "",
           "title": {
            "standoff": 15
           },
           "zerolinecolor": "white",
           "zerolinewidth": 2
          },
          "yaxis": {
           "automargin": true,
           "gridcolor": "white",
           "linecolor": "white",
           "ticks": "",
           "title": {
            "standoff": 15
           },
           "zerolinecolor": "white",
           "zerolinewidth": 2
          }
         }
        },
        "title": {
         "text": "Elektrolyty podla krajiny vyrobcu (vsetky)"
        }
       }
      }
     },
     "metadata": {}
    }
   ],
   "source": [
    "elektrolyty_staty = elektrolyty.groupby('STAT_popis').sum().reset_index()\n",
    "fig = px.pie(elektrolyty_staty, names='STAT_popis', values='Počet_balení', title='Elektrolyty podla krajiny vyrobcu (vsetky)')\n",
    "fig.show()"
   ]
  },
  {
   "source": [
    "Vidime, ze najviac (61.8%) pouzivame ceskych elektorlytov, co je vyse 3 000 000. Slovenske elektrolyty su az na poslednom mieste iba so 4.83% co je priblizne 250 000."
   ],
   "cell_type": "markdown",
   "metadata": {}
  },
  {
   "source": [
    "# 3. Paracetamol (30 najpredavanejsich)"
   ],
   "cell_type": "markdown",
   "metadata": {}
  },
  {
   "cell_type": "code",
   "execution_count": 17,
   "metadata": {},
   "outputs": [
    {
     "output_type": "stream",
     "name": "stdout",
     "text": [
      "Typ vydaju:\npredané z verejnej lekárne bez receptu občanom (voľnopredajné lieky)    0.304054\nvýdaj z verejnej lekárne  na recept bez úhrady z verejného poistenia    0.209459\nvýdaj z verejnej lekárne na faktúru do neštátnych ambulancií            0.162162\nvýdaj z nemocničnej lekárne pre vlastnú nemocnicu                       0.162162\nvýdaj z verejnej lekárne na žiadanku nemocniciam                        0.141892\nvýdaj z nemocničnej lekárne pre zmluvnú nemocnicu                       0.013514\núhrada z verejnej poisťovne                                             0.006757\nName: TYP_VYDAJ_POP, dtype: float64\n"
     ]
    },
    {
     "output_type": "display_data",
     "data": {
      "text/plain": "                    LIEK_popis  STAT_popis  \\\n0                MEDIPYRIN tbl       Česko   \n1                 PANADOL BABY       Česko   \n2      PANADOL BABY (+odmerka)       Česko   \n3   PANADOL BABY (+striekačka)  Francúzsko   \n4               PANADOL JUNIOR       Česko   \n5             PANADOL PRE DETI       Česko   \n6                  PANADOL tbl       Česko   \n7                PARALEN nápoj   Slovensko   \n8                  PARALEN sup   Slovensko   \n9                  PARALEN sus   Slovensko   \n10                 PARALEN tbl   Slovensko   \n11           Panadol Novum tbl       Česko   \n12   Panadol Paracetamolum tbl       Česko   \n13        Paracetamol B. Braun     Nemecko   \n14            Paracetamol Kabi       Česko   \n15         Paracetamol Kappler     Nemecko   \n16      Paracetamol Vitabalans      Fínsko   \n\n                                        VYROBCA_popis  index  Počet_balení  \\\n0                     Glenmark Pharmaceuticals s.r.o.  18807     21920.890   \n1   GlaxoSmithKline Consumer Healthcare Czech Repu...   6283     50394.000   \n2   GlaxoSmithKline Consumer Healthcare Czech Repu...   6305       839.000   \n3               SmithKline Beecham Liquides Industrie   6300       285.000   \n4   GlaxoSmithKline Consumer Healthcare Czech Repu...   6285     30460.500   \n5   GlaxoSmithKline Consumer Healthcare Czech Repu...  12579     37895.000   \n6   GlaxoSmithKline Consumer Healthcare Czech Repu...  12580       553.000   \n7                      sanofi-aventis Slovakia s.r.o.   6271       482.170   \n8                      sanofi-aventis Slovakia s.r.o.  12565    161406.210   \n9                      sanofi-aventis Slovakia s.r.o.   6292     74950.000   \n10                     sanofi-aventis Slovakia s.r.o.  25139   2683311.142   \n11  GlaxoSmithKline Consumer Healthcare Czech Repu...  12592     77893.815   \n12  GlaxoSmithKline Consumer Healthcare Czech Repu...  12579    114351.250   \n13                               B.Braun Melsungen AG  12519       900.500   \n14                              Fresenius Kabi s.r.o.  12548     34926.290   \n15                              STADA Arzneimittel AG   6288       663.330   \n16                                      Vitabalans Oy  12529      5493.010   \n\n    Úhrada_PAC  \n0     36758.59  \n1    100522.52  \n2      2862.69  \n3      1012.17  \n4     77105.53  \n5    140531.82  \n6       942.77  \n7      1673.49  \n8    153352.77  \n9    270530.14  \n10  4190200.04  \n11   159034.24  \n12   195206.01  \n13       55.58  \n14    15860.05  \n15     3072.16  \n16      633.44  ",
      "text/html": "<div>\n<style scoped>\n    .dataframe tbody tr th:only-of-type {\n        vertical-align: middle;\n    }\n\n    .dataframe tbody tr th {\n        vertical-align: top;\n    }\n\n    .dataframe thead th {\n        text-align: right;\n    }\n</style>\n<table border=\"1\" class=\"dataframe\">\n  <thead>\n    <tr style=\"text-align: right;\">\n      <th></th>\n      <th>LIEK_popis</th>\n      <th>STAT_popis</th>\n      <th>VYROBCA_popis</th>\n      <th>index</th>\n      <th>Počet_balení</th>\n      <th>Úhrada_PAC</th>\n    </tr>\n  </thead>\n  <tbody>\n    <tr>\n      <th>0</th>\n      <td>MEDIPYRIN tbl</td>\n      <td>Česko</td>\n      <td>Glenmark Pharmaceuticals s.r.o.</td>\n      <td>18807</td>\n      <td>21920.890</td>\n      <td>36758.59</td>\n    </tr>\n    <tr>\n      <th>1</th>\n      <td>PANADOL BABY</td>\n      <td>Česko</td>\n      <td>GlaxoSmithKline Consumer Healthcare Czech Repu...</td>\n      <td>6283</td>\n      <td>50394.000</td>\n      <td>100522.52</td>\n    </tr>\n    <tr>\n      <th>2</th>\n      <td>PANADOL BABY (+odmerka)</td>\n      <td>Česko</td>\n      <td>GlaxoSmithKline Consumer Healthcare Czech Repu...</td>\n      <td>6305</td>\n      <td>839.000</td>\n      <td>2862.69</td>\n    </tr>\n    <tr>\n      <th>3</th>\n      <td>PANADOL BABY (+striekačka)</td>\n      <td>Francúzsko</td>\n      <td>SmithKline Beecham Liquides Industrie</td>\n      <td>6300</td>\n      <td>285.000</td>\n      <td>1012.17</td>\n    </tr>\n    <tr>\n      <th>4</th>\n      <td>PANADOL JUNIOR</td>\n      <td>Česko</td>\n      <td>GlaxoSmithKline Consumer Healthcare Czech Repu...</td>\n      <td>6285</td>\n      <td>30460.500</td>\n      <td>77105.53</td>\n    </tr>\n    <tr>\n      <th>5</th>\n      <td>PANADOL PRE DETI</td>\n      <td>Česko</td>\n      <td>GlaxoSmithKline Consumer Healthcare Czech Repu...</td>\n      <td>12579</td>\n      <td>37895.000</td>\n      <td>140531.82</td>\n    </tr>\n    <tr>\n      <th>6</th>\n      <td>PANADOL tbl</td>\n      <td>Česko</td>\n      <td>GlaxoSmithKline Consumer Healthcare Czech Repu...</td>\n      <td>12580</td>\n      <td>553.000</td>\n      <td>942.77</td>\n    </tr>\n    <tr>\n      <th>7</th>\n      <td>PARALEN nápoj</td>\n      <td>Slovensko</td>\n      <td>sanofi-aventis Slovakia s.r.o.</td>\n      <td>6271</td>\n      <td>482.170</td>\n      <td>1673.49</td>\n    </tr>\n    <tr>\n      <th>8</th>\n      <td>PARALEN sup</td>\n      <td>Slovensko</td>\n      <td>sanofi-aventis Slovakia s.r.o.</td>\n      <td>12565</td>\n      <td>161406.210</td>\n      <td>153352.77</td>\n    </tr>\n    <tr>\n      <th>9</th>\n      <td>PARALEN sus</td>\n      <td>Slovensko</td>\n      <td>sanofi-aventis Slovakia s.r.o.</td>\n      <td>6292</td>\n      <td>74950.000</td>\n      <td>270530.14</td>\n    </tr>\n    <tr>\n      <th>10</th>\n      <td>PARALEN tbl</td>\n      <td>Slovensko</td>\n      <td>sanofi-aventis Slovakia s.r.o.</td>\n      <td>25139</td>\n      <td>2683311.142</td>\n      <td>4190200.04</td>\n    </tr>\n    <tr>\n      <th>11</th>\n      <td>Panadol Novum tbl</td>\n      <td>Česko</td>\n      <td>GlaxoSmithKline Consumer Healthcare Czech Repu...</td>\n      <td>12592</td>\n      <td>77893.815</td>\n      <td>159034.24</td>\n    </tr>\n    <tr>\n      <th>12</th>\n      <td>Panadol Paracetamolum tbl</td>\n      <td>Česko</td>\n      <td>GlaxoSmithKline Consumer Healthcare Czech Repu...</td>\n      <td>12579</td>\n      <td>114351.250</td>\n      <td>195206.01</td>\n    </tr>\n    <tr>\n      <th>13</th>\n      <td>Paracetamol B. Braun</td>\n      <td>Nemecko</td>\n      <td>B.Braun Melsungen AG</td>\n      <td>12519</td>\n      <td>900.500</td>\n      <td>55.58</td>\n    </tr>\n    <tr>\n      <th>14</th>\n      <td>Paracetamol Kabi</td>\n      <td>Česko</td>\n      <td>Fresenius Kabi s.r.o.</td>\n      <td>12548</td>\n      <td>34926.290</td>\n      <td>15860.05</td>\n    </tr>\n    <tr>\n      <th>15</th>\n      <td>Paracetamol Kappler</td>\n      <td>Nemecko</td>\n      <td>STADA Arzneimittel AG</td>\n      <td>6288</td>\n      <td>663.330</td>\n      <td>3072.16</td>\n    </tr>\n    <tr>\n      <th>16</th>\n      <td>Paracetamol Vitabalans</td>\n      <td>Fínsko</td>\n      <td>Vitabalans Oy</td>\n      <td>12529</td>\n      <td>5493.010</td>\n      <td>633.44</td>\n    </tr>\n  </tbody>\n</table>\n</div>"
     },
     "metadata": {}
    }
   ],
   "source": [
    "paracetamol = top20tab[\"N02BE01\"].sort_values(by='Počet_balení', ascending=False).head(30)\n",
    "\n",
    "for i,popis in enumerate(paracetamol['LIEK_popis']):\n",
    "    if 'MEDIPYRIN 500 tbl' in popis:\n",
    "        paracetamol.iloc[i,4] = 'MEDIPYRIN tbl'\n",
    "    elif 'PANADOL BABY (+odmerka)' in popis:\n",
    "        paracetamol.iloc[i,4] = 'PANADOL BABY (+odmerka)'\n",
    "    elif 'PANADOL BABY (+striekačka)' in popis:\n",
    "        paracetamol.iloc[i,4] = 'PANADOL BABY (+striekačka)'\n",
    "    elif 'PANADOL BABY' in popis:\n",
    "        paracetamol.iloc[i,4] = 'PANADOL BABY'\n",
    "    elif 'PANADOL JUNIOR' in popis:\n",
    "        paracetamol.iloc[i,4] = 'PANADOL JUNIOR'\n",
    "    elif 'PANADOL PRE DETI' in popis:\n",
    "        paracetamol.iloc[i,4] = 'PANADOL PRE DETI'\n",
    "    elif 'PANADOL tbl' in popis:\n",
    "        paracetamol.iloc[i,4] = 'PANADOL tbl'\n",
    "    elif 'PARALEN' in popis and 'sus' in popis:\n",
    "        paracetamol.iloc[i,4] = 'PARALEN sus'\n",
    "    elif 'PARALEN' in popis and 'tbl' in popis:\n",
    "        paracetamol.iloc[i,4] = 'PARALEN tbl'\n",
    "    elif 'PARALEN' in popis and 'sup' in popis:\n",
    "        paracetamol.iloc[i,4] = 'PARALEN sup'\n",
    "    elif 'PARALEN' in popis:\n",
    "        paracetamol.iloc[i,4] = 'PARALEN nápoj'\n",
    "    elif 'Panadol Novum' in popis:\n",
    "        paracetamol.iloc[i,4] = 'Panadol Novum tbl'\n",
    "    elif 'Panadol Paracetamolum' in popis:\n",
    "        paracetamol.iloc[i,4] = 'Panadol Paracetamolum tbl'\n",
    "    elif 'Paracetamol B. Braun' in popis:\n",
    "        paracetamol.iloc[i,4] = 'Paracetamol B. Braun'\n",
    "    elif 'Paracetamol Kabi' in popis:\n",
    "        paracetamol.iloc[i,4] = 'Paracetamol Kabi'\n",
    "    elif 'Paracetamol Kappler' in popis:\n",
    "        paracetamol.iloc[i,4] = 'Paracetamol Kappler'\n",
    "    elif 'Paracetamol Vitabalans' in popis:\n",
    "        paracetamol.iloc[i,4] = 'Paracetamol Vitabalans'\n",
    "\n",
    "paracetamol = paracetamol.groupby(['LIEK_popis', 'STAT_popis', 'VYROBCA_popis']).sum().reset_index()\n",
    "print(\"Typ vydaju:\")\n",
    "item_counts = table.query('ATC7_KOD == \"N02BE01\"')[\"TYP_VYDAJ_POP\"].value_counts(normalize=True)\n",
    "print(item_counts)\n",
    "\n",
    "display(paracetamol.sort_values(by='LIEK_popis'))\n"
   ]
  },
  {
   "cell_type": "code",
   "execution_count": 60,
   "metadata": {},
   "outputs": [
    {
     "output_type": "display_data",
     "data": {
      "text/plain": "  LIEK_popis   index  Počet_balení  Úhrada_PAC\n0        INÉ   94046     63990.020    56460.27\n1    PANADOL  163554    312880.565   677698.50\n2    PARALEN   50267   2920149.522  4615756.44",
      "text/html": "<div>\n<style scoped>\n    .dataframe tbody tr th:only-of-type {\n        vertical-align: middle;\n    }\n\n    .dataframe tbody tr th {\n        vertical-align: top;\n    }\n\n    .dataframe thead th {\n        text-align: right;\n    }\n</style>\n<table border=\"1\" class=\"dataframe\">\n  <thead>\n    <tr style=\"text-align: right;\">\n      <th></th>\n      <th>LIEK_popis</th>\n      <th>index</th>\n      <th>Počet_balení</th>\n      <th>Úhrada_PAC</th>\n    </tr>\n  </thead>\n  <tbody>\n    <tr>\n      <th>0</th>\n      <td>INÉ</td>\n      <td>94046</td>\n      <td>63990.020</td>\n      <td>56460.27</td>\n    </tr>\n    <tr>\n      <th>1</th>\n      <td>PANADOL</td>\n      <td>163554</td>\n      <td>312880.565</td>\n      <td>677698.50</td>\n    </tr>\n    <tr>\n      <th>2</th>\n      <td>PARALEN</td>\n      <td>50267</td>\n      <td>2920149.522</td>\n      <td>4615756.44</td>\n    </tr>\n  </tbody>\n</table>\n</div>"
     },
     "metadata": {}
    },
    {
     "output_type": "display_data",
     "data": {
      "application/vnd.plotly.v1+json": {
       "config": {
        "plotlyServerURL": "https://plot.ly"
       },
       "data": [
        {
         "domain": {
          "x": [
           0,
           1
          ],
          "y": [
           0,
           1
          ]
         },
         "hovertemplate": "LIEK_popis=%{label}<br>Počet_balení=%{value}<extra></extra>",
         "labels": [
          "INÉ",
          "PANADOL",
          "PARALEN"
         ],
         "legendgroup": "",
         "name": "",
         "showlegend": true,
         "type": "pie",
         "values": [
          63990.02,
          312880.565,
          2920149.5220000003
         ]
        }
       ],
       "layout": {
        "legend": {
         "tracegroupgap": 0
        },
        "template": {
         "data": {
          "bar": [
           {
            "error_x": {
             "color": "#2a3f5f"
            },
            "error_y": {
             "color": "#2a3f5f"
            },
            "marker": {
             "line": {
              "color": "#E5ECF6",
              "width": 0.5
             }
            },
            "type": "bar"
           }
          ],
          "barpolar": [
           {
            "marker": {
             "line": {
              "color": "#E5ECF6",
              "width": 0.5
             }
            },
            "type": "barpolar"
           }
          ],
          "carpet": [
           {
            "aaxis": {
             "endlinecolor": "#2a3f5f",
             "gridcolor": "white",
             "linecolor": "white",
             "minorgridcolor": "white",
             "startlinecolor": "#2a3f5f"
            },
            "baxis": {
             "endlinecolor": "#2a3f5f",
             "gridcolor": "white",
             "linecolor": "white",
             "minorgridcolor": "white",
             "startlinecolor": "#2a3f5f"
            },
            "type": "carpet"
           }
          ],
          "choropleth": [
           {
            "colorbar": {
             "outlinewidth": 0,
             "ticks": ""
            },
            "type": "choropleth"
           }
          ],
          "contour": [
           {
            "colorbar": {
             "outlinewidth": 0,
             "ticks": ""
            },
            "colorscale": [
             [
              0,
              "#0d0887"
             ],
             [
              0.1111111111111111,
              "#46039f"
             ],
             [
              0.2222222222222222,
              "#7201a8"
             ],
             [
              0.3333333333333333,
              "#9c179e"
             ],
             [
              0.4444444444444444,
              "#bd3786"
             ],
             [
              0.5555555555555556,
              "#d8576b"
             ],
             [
              0.6666666666666666,
              "#ed7953"
             ],
             [
              0.7777777777777778,
              "#fb9f3a"
             ],
             [
              0.8888888888888888,
              "#fdca26"
             ],
             [
              1,
              "#f0f921"
             ]
            ],
            "type": "contour"
           }
          ],
          "contourcarpet": [
           {
            "colorbar": {
             "outlinewidth": 0,
             "ticks": ""
            },
            "type": "contourcarpet"
           }
          ],
          "heatmap": [
           {
            "colorbar": {
             "outlinewidth": 0,
             "ticks": ""
            },
            "colorscale": [
             [
              0,
              "#0d0887"
             ],
             [
              0.1111111111111111,
              "#46039f"
             ],
             [
              0.2222222222222222,
              "#7201a8"
             ],
             [
              0.3333333333333333,
              "#9c179e"
             ],
             [
              0.4444444444444444,
              "#bd3786"
             ],
             [
              0.5555555555555556,
              "#d8576b"
             ],
             [
              0.6666666666666666,
              "#ed7953"
             ],
             [
              0.7777777777777778,
              "#fb9f3a"
             ],
             [
              0.8888888888888888,
              "#fdca26"
             ],
             [
              1,
              "#f0f921"
             ]
            ],
            "type": "heatmap"
           }
          ],
          "heatmapgl": [
           {
            "colorbar": {
             "outlinewidth": 0,
             "ticks": ""
            },
            "colorscale": [
             [
              0,
              "#0d0887"
             ],
             [
              0.1111111111111111,
              "#46039f"
             ],
             [
              0.2222222222222222,
              "#7201a8"
             ],
             [
              0.3333333333333333,
              "#9c179e"
             ],
             [
              0.4444444444444444,
              "#bd3786"
             ],
             [
              0.5555555555555556,
              "#d8576b"
             ],
             [
              0.6666666666666666,
              "#ed7953"
             ],
             [
              0.7777777777777778,
              "#fb9f3a"
             ],
             [
              0.8888888888888888,
              "#fdca26"
             ],
             [
              1,
              "#f0f921"
             ]
            ],
            "type": "heatmapgl"
           }
          ],
          "histogram": [
           {
            "marker": {
             "colorbar": {
              "outlinewidth": 0,
              "ticks": ""
             }
            },
            "type": "histogram"
           }
          ],
          "histogram2d": [
           {
            "colorbar": {
             "outlinewidth": 0,
             "ticks": ""
            },
            "colorscale": [
             [
              0,
              "#0d0887"
             ],
             [
              0.1111111111111111,
              "#46039f"
             ],
             [
              0.2222222222222222,
              "#7201a8"
             ],
             [
              0.3333333333333333,
              "#9c179e"
             ],
             [
              0.4444444444444444,
              "#bd3786"
             ],
             [
              0.5555555555555556,
              "#d8576b"
             ],
             [
              0.6666666666666666,
              "#ed7953"
             ],
             [
              0.7777777777777778,
              "#fb9f3a"
             ],
             [
              0.8888888888888888,
              "#fdca26"
             ],
             [
              1,
              "#f0f921"
             ]
            ],
            "type": "histogram2d"
           }
          ],
          "histogram2dcontour": [
           {
            "colorbar": {
             "outlinewidth": 0,
             "ticks": ""
            },
            "colorscale": [
             [
              0,
              "#0d0887"
             ],
             [
              0.1111111111111111,
              "#46039f"
             ],
             [
              0.2222222222222222,
              "#7201a8"
             ],
             [
              0.3333333333333333,
              "#9c179e"
             ],
             [
              0.4444444444444444,
              "#bd3786"
             ],
             [
              0.5555555555555556,
              "#d8576b"
             ],
             [
              0.6666666666666666,
              "#ed7953"
             ],
             [
              0.7777777777777778,
              "#fb9f3a"
             ],
             [
              0.8888888888888888,
              "#fdca26"
             ],
             [
              1,
              "#f0f921"
             ]
            ],
            "type": "histogram2dcontour"
           }
          ],
          "mesh3d": [
           {
            "colorbar": {
             "outlinewidth": 0,
             "ticks": ""
            },
            "type": "mesh3d"
           }
          ],
          "parcoords": [
           {
            "line": {
             "colorbar": {
              "outlinewidth": 0,
              "ticks": ""
             }
            },
            "type": "parcoords"
           }
          ],
          "pie": [
           {
            "automargin": true,
            "type": "pie"
           }
          ],
          "scatter": [
           {
            "marker": {
             "colorbar": {
              "outlinewidth": 0,
              "ticks": ""
             }
            },
            "type": "scatter"
           }
          ],
          "scatter3d": [
           {
            "line": {
             "colorbar": {
              "outlinewidth": 0,
              "ticks": ""
             }
            },
            "marker": {
             "colorbar": {
              "outlinewidth": 0,
              "ticks": ""
             }
            },
            "type": "scatter3d"
           }
          ],
          "scattercarpet": [
           {
            "marker": {
             "colorbar": {
              "outlinewidth": 0,
              "ticks": ""
             }
            },
            "type": "scattercarpet"
           }
          ],
          "scattergeo": [
           {
            "marker": {
             "colorbar": {
              "outlinewidth": 0,
              "ticks": ""
             }
            },
            "type": "scattergeo"
           }
          ],
          "scattergl": [
           {
            "marker": {
             "colorbar": {
              "outlinewidth": 0,
              "ticks": ""
             }
            },
            "type": "scattergl"
           }
          ],
          "scattermapbox": [
           {
            "marker": {
             "colorbar": {
              "outlinewidth": 0,
              "ticks": ""
             }
            },
            "type": "scattermapbox"
           }
          ],
          "scatterpolar": [
           {
            "marker": {
             "colorbar": {
              "outlinewidth": 0,
              "ticks": ""
             }
            },
            "type": "scatterpolar"
           }
          ],
          "scatterpolargl": [
           {
            "marker": {
             "colorbar": {
              "outlinewidth": 0,
              "ticks": ""
             }
            },
            "type": "scatterpolargl"
           }
          ],
          "scatterternary": [
           {
            "marker": {
             "colorbar": {
              "outlinewidth": 0,
              "ticks": ""
             }
            },
            "type": "scatterternary"
           }
          ],
          "surface": [
           {
            "colorbar": {
             "outlinewidth": 0,
             "ticks": ""
            },
            "colorscale": [
             [
              0,
              "#0d0887"
             ],
             [
              0.1111111111111111,
              "#46039f"
             ],
             [
              0.2222222222222222,
              "#7201a8"
             ],
             [
              0.3333333333333333,
              "#9c179e"
             ],
             [
              0.4444444444444444,
              "#bd3786"
             ],
             [
              0.5555555555555556,
              "#d8576b"
             ],
             [
              0.6666666666666666,
              "#ed7953"
             ],
             [
              0.7777777777777778,
              "#fb9f3a"
             ],
             [
              0.8888888888888888,
              "#fdca26"
             ],
             [
              1,
              "#f0f921"
             ]
            ],
            "type": "surface"
           }
          ],
          "table": [
           {
            "cells": {
             "fill": {
              "color": "#EBF0F8"
             },
             "line": {
              "color": "white"
             }
            },
            "header": {
             "fill": {
              "color": "#C8D4E3"
             },
             "line": {
              "color": "white"
             }
            },
            "type": "table"
           }
          ]
         },
         "layout": {
          "annotationdefaults": {
           "arrowcolor": "#2a3f5f",
           "arrowhead": 0,
           "arrowwidth": 1
          },
          "autotypenumbers": "strict",
          "coloraxis": {
           "colorbar": {
            "outlinewidth": 0,
            "ticks": ""
           }
          },
          "colorscale": {
           "diverging": [
            [
             0,
             "#8e0152"
            ],
            [
             0.1,
             "#c51b7d"
            ],
            [
             0.2,
             "#de77ae"
            ],
            [
             0.3,
             "#f1b6da"
            ],
            [
             0.4,
             "#fde0ef"
            ],
            [
             0.5,
             "#f7f7f7"
            ],
            [
             0.6,
             "#e6f5d0"
            ],
            [
             0.7,
             "#b8e186"
            ],
            [
             0.8,
             "#7fbc41"
            ],
            [
             0.9,
             "#4d9221"
            ],
            [
             1,
             "#276419"
            ]
           ],
           "sequential": [
            [
             0,
             "#0d0887"
            ],
            [
             0.1111111111111111,
             "#46039f"
            ],
            [
             0.2222222222222222,
             "#7201a8"
            ],
            [
             0.3333333333333333,
             "#9c179e"
            ],
            [
             0.4444444444444444,
             "#bd3786"
            ],
            [
             0.5555555555555556,
             "#d8576b"
            ],
            [
             0.6666666666666666,
             "#ed7953"
            ],
            [
             0.7777777777777778,
             "#fb9f3a"
            ],
            [
             0.8888888888888888,
             "#fdca26"
            ],
            [
             1,
             "#f0f921"
            ]
           ],
           "sequentialminus": [
            [
             0,
             "#0d0887"
            ],
            [
             0.1111111111111111,
             "#46039f"
            ],
            [
             0.2222222222222222,
             "#7201a8"
            ],
            [
             0.3333333333333333,
             "#9c179e"
            ],
            [
             0.4444444444444444,
             "#bd3786"
            ],
            [
             0.5555555555555556,
             "#d8576b"
            ],
            [
             0.6666666666666666,
             "#ed7953"
            ],
            [
             0.7777777777777778,
             "#fb9f3a"
            ],
            [
             0.8888888888888888,
             "#fdca26"
            ],
            [
             1,
             "#f0f921"
            ]
           ]
          },
          "colorway": [
           "#636efa",
           "#EF553B",
           "#00cc96",
           "#ab63fa",
           "#FFA15A",
           "#19d3f3",
           "#FF6692",
           "#B6E880",
           "#FF97FF",
           "#FECB52"
          ],
          "font": {
           "color": "#2a3f5f"
          },
          "geo": {
           "bgcolor": "white",
           "lakecolor": "white",
           "landcolor": "#E5ECF6",
           "showlakes": true,
           "showland": true,
           "subunitcolor": "white"
          },
          "hoverlabel": {
           "align": "left"
          },
          "hovermode": "closest",
          "mapbox": {
           "style": "light"
          },
          "paper_bgcolor": "white",
          "plot_bgcolor": "#E5ECF6",
          "polar": {
           "angularaxis": {
            "gridcolor": "white",
            "linecolor": "white",
            "ticks": ""
           },
           "bgcolor": "#E5ECF6",
           "radialaxis": {
            "gridcolor": "white",
            "linecolor": "white",
            "ticks": ""
           }
          },
          "scene": {
           "xaxis": {
            "backgroundcolor": "#E5ECF6",
            "gridcolor": "white",
            "gridwidth": 2,
            "linecolor": "white",
            "showbackground": true,
            "ticks": "",
            "zerolinecolor": "white"
           },
           "yaxis": {
            "backgroundcolor": "#E5ECF6",
            "gridcolor": "white",
            "gridwidth": 2,
            "linecolor": "white",
            "showbackground": true,
            "ticks": "",
            "zerolinecolor": "white"
           },
           "zaxis": {
            "backgroundcolor": "#E5ECF6",
            "gridcolor": "white",
            "gridwidth": 2,
            "linecolor": "white",
            "showbackground": true,
            "ticks": "",
            "zerolinecolor": "white"
           }
          },
          "shapedefaults": {
           "line": {
            "color": "#2a3f5f"
           }
          },
          "ternary": {
           "aaxis": {
            "gridcolor": "white",
            "linecolor": "white",
            "ticks": ""
           },
           "baxis": {
            "gridcolor": "white",
            "linecolor": "white",
            "ticks": ""
           },
           "bgcolor": "#E5ECF6",
           "caxis": {
            "gridcolor": "white",
            "linecolor": "white",
            "ticks": ""
           }
          },
          "title": {
           "x": 0.05
          },
          "xaxis": {
           "automargin": true,
           "gridcolor": "white",
           "linecolor": "white",
           "ticks": "",
           "title": {
            "standoff": 15
           },
           "zerolinecolor": "white",
           "zerolinewidth": 2
          },
          "yaxis": {
           "automargin": true,
           "gridcolor": "white",
           "linecolor": "white",
           "ticks": "",
           "title": {
            "standoff": 15
           },
           "zerolinecolor": "white",
           "zerolinewidth": 2
          }
         }
        },
        "title": {
         "text": "PARACETAMOL (vsetky)"
        }
       }
      }
     },
     "metadata": {}
    }
   ],
   "source": [
    "paracetamol_all = top20tab[\"N02BE01\"].sort_values(by='Počet_balení', ascending=False)\n",
    "for i,popis in enumerate(paracetamol_all['LIEK_popis']):\n",
    "    if 'PANADOL' in popis:\n",
    "        paracetamol_all.iloc[i,4] = 'PANADOL'\n",
    "    elif 'Panadol' in popis:\n",
    "        paracetamol_all.iloc[i,4] = 'PANADOL'\n",
    "    elif 'PARALEN' in popis:\n",
    "        paracetamol_all.iloc[i,4] = 'PARALEN'\n",
    "    elif 'Paralen' in popis:\n",
    "        paracetamol_all.iloc[i,4] = 'PARALEN'\n",
    "    else:\n",
    "        paracetamol_all.iloc[i,4] = 'INÉ'\n",
    "paracetamol_all = paracetamol_all.groupby(['LIEK_popis']).sum().reset_index()\n",
    "display(paracetamol_all)\n",
    "fig = px.pie(paracetamol_all, values='Počet_balení', names='LIEK_popis', title='PARACETAMOL (vsetky)')\n",
    "fig.show()"
   ]
  },
  {
   "source": [
    "Preco je paralen takto \"popularny\"? Monzno ze ho ludia viac poznaju, je to prvy liek s paracetamolom co ich napadne, mozno niektorym pride ucinnejsi, ale aj ked sa pozrieme na tabulku liekov s paracetamolom, vidime, ze panadol je zvycajne pre deti."
   ],
   "cell_type": "markdown",
   "metadata": {}
  },
  {
   "cell_type": "code",
   "execution_count": 65,
   "metadata": {},
   "outputs": [
    {
     "output_type": "display_data",
     "data": {
      "application/vnd.plotly.v1+json": {
       "config": {
        "plotlyServerURL": "https://plot.ly"
       },
       "data": [
        {
         "alignmentgroup": "True",
         "hovertemplate": "STAT_popis=Česko<br>LIEK_popis=%{x}<br>Počet_balení=%{y}<extra></extra>",
         "legendgroup": "Česko",
         "marker": {
          "color": "#636efa"
         },
         "name": "Česko",
         "offsetgroup": "Česko",
         "orientation": "v",
         "showlegend": true,
         "textposition": "auto",
         "type": "bar",
         "x": [
          "MEDIPYRIN tbl",
          "PANADOL BABY",
          "PANADOL BABY (+odmerka)",
          "PANADOL JUNIOR",
          "PANADOL PRE DETI",
          "PANADOL tbl",
          "Panadol Novum tbl",
          "Panadol Paracetamolum tbl",
          "Paracetamol Kabi"
         ],
         "xaxis": "x",
         "y": [
          21920.89,
          50394,
          839,
          30460.5,
          37895,
          553,
          77893.815,
          114351.25,
          34926.29
         ],
         "yaxis": "y"
        },
        {
         "alignmentgroup": "True",
         "hovertemplate": "STAT_popis=Francúzsko<br>LIEK_popis=%{x}<br>Počet_balení=%{y}<extra></extra>",
         "legendgroup": "Francúzsko",
         "marker": {
          "color": "#EF553B"
         },
         "name": "Francúzsko",
         "offsetgroup": "Francúzsko",
         "orientation": "v",
         "showlegend": true,
         "textposition": "auto",
         "type": "bar",
         "x": [
          "PANADOL BABY (+striekačka)"
         ],
         "xaxis": "x",
         "y": [
          285
         ],
         "yaxis": "y"
        },
        {
         "alignmentgroup": "True",
         "hovertemplate": "STAT_popis=Slovensko<br>LIEK_popis=%{x}<br>Počet_balení=%{y}<extra></extra>",
         "legendgroup": "Slovensko",
         "marker": {
          "color": "#00cc96"
         },
         "name": "Slovensko",
         "offsetgroup": "Slovensko",
         "orientation": "v",
         "showlegend": true,
         "textposition": "auto",
         "type": "bar",
         "x": [
          "PARALEN nápoj",
          "PARALEN sup",
          "PARALEN sus",
          "PARALEN tbl"
         ],
         "xaxis": "x",
         "y": [
          482.17,
          161406.21000000002,
          74950,
          2683311.1420000005
         ],
         "yaxis": "y"
        },
        {
         "alignmentgroup": "True",
         "hovertemplate": "STAT_popis=Nemecko<br>LIEK_popis=%{x}<br>Počet_balení=%{y}<extra></extra>",
         "legendgroup": "Nemecko",
         "marker": {
          "color": "#ab63fa"
         },
         "name": "Nemecko",
         "offsetgroup": "Nemecko",
         "orientation": "v",
         "showlegend": true,
         "textposition": "auto",
         "type": "bar",
         "x": [
          "Paracetamol B. Braun",
          "Paracetamol Kappler"
         ],
         "xaxis": "x",
         "y": [
          900.5,
          663.33
         ],
         "yaxis": "y"
        },
        {
         "alignmentgroup": "True",
         "hovertemplate": "STAT_popis=Fínsko<br>LIEK_popis=%{x}<br>Počet_balení=%{y}<extra></extra>",
         "legendgroup": "Fínsko",
         "marker": {
          "color": "#FFA15A"
         },
         "name": "Fínsko",
         "offsetgroup": "Fínsko",
         "orientation": "v",
         "showlegend": true,
         "textposition": "auto",
         "type": "bar",
         "x": [
          "Paracetamol Vitabalans"
         ],
         "xaxis": "x",
         "y": [
          5493.01
         ],
         "yaxis": "y"
        }
       ],
       "layout": {
        "barmode": "relative",
        "legend": {
         "title": {
          "text": "STAT_popis"
         },
         "tracegroupgap": 0
        },
        "template": {
         "data": {
          "bar": [
           {
            "error_x": {
             "color": "#2a3f5f"
            },
            "error_y": {
             "color": "#2a3f5f"
            },
            "marker": {
             "line": {
              "color": "#E5ECF6",
              "width": 0.5
             }
            },
            "type": "bar"
           }
          ],
          "barpolar": [
           {
            "marker": {
             "line": {
              "color": "#E5ECF6",
              "width": 0.5
             }
            },
            "type": "barpolar"
           }
          ],
          "carpet": [
           {
            "aaxis": {
             "endlinecolor": "#2a3f5f",
             "gridcolor": "white",
             "linecolor": "white",
             "minorgridcolor": "white",
             "startlinecolor": "#2a3f5f"
            },
            "baxis": {
             "endlinecolor": "#2a3f5f",
             "gridcolor": "white",
             "linecolor": "white",
             "minorgridcolor": "white",
             "startlinecolor": "#2a3f5f"
            },
            "type": "carpet"
           }
          ],
          "choropleth": [
           {
            "colorbar": {
             "outlinewidth": 0,
             "ticks": ""
            },
            "type": "choropleth"
           }
          ],
          "contour": [
           {
            "colorbar": {
             "outlinewidth": 0,
             "ticks": ""
            },
            "colorscale": [
             [
              0,
              "#0d0887"
             ],
             [
              0.1111111111111111,
              "#46039f"
             ],
             [
              0.2222222222222222,
              "#7201a8"
             ],
             [
              0.3333333333333333,
              "#9c179e"
             ],
             [
              0.4444444444444444,
              "#bd3786"
             ],
             [
              0.5555555555555556,
              "#d8576b"
             ],
             [
              0.6666666666666666,
              "#ed7953"
             ],
             [
              0.7777777777777778,
              "#fb9f3a"
             ],
             [
              0.8888888888888888,
              "#fdca26"
             ],
             [
              1,
              "#f0f921"
             ]
            ],
            "type": "contour"
           }
          ],
          "contourcarpet": [
           {
            "colorbar": {
             "outlinewidth": 0,
             "ticks": ""
            },
            "type": "contourcarpet"
           }
          ],
          "heatmap": [
           {
            "colorbar": {
             "outlinewidth": 0,
             "ticks": ""
            },
            "colorscale": [
             [
              0,
              "#0d0887"
             ],
             [
              0.1111111111111111,
              "#46039f"
             ],
             [
              0.2222222222222222,
              "#7201a8"
             ],
             [
              0.3333333333333333,
              "#9c179e"
             ],
             [
              0.4444444444444444,
              "#bd3786"
             ],
             [
              0.5555555555555556,
              "#d8576b"
             ],
             [
              0.6666666666666666,
              "#ed7953"
             ],
             [
              0.7777777777777778,
              "#fb9f3a"
             ],
             [
              0.8888888888888888,
              "#fdca26"
             ],
             [
              1,
              "#f0f921"
             ]
            ],
            "type": "heatmap"
           }
          ],
          "heatmapgl": [
           {
            "colorbar": {
             "outlinewidth": 0,
             "ticks": ""
            },
            "colorscale": [
             [
              0,
              "#0d0887"
             ],
             [
              0.1111111111111111,
              "#46039f"
             ],
             [
              0.2222222222222222,
              "#7201a8"
             ],
             [
              0.3333333333333333,
              "#9c179e"
             ],
             [
              0.4444444444444444,
              "#bd3786"
             ],
             [
              0.5555555555555556,
              "#d8576b"
             ],
             [
              0.6666666666666666,
              "#ed7953"
             ],
             [
              0.7777777777777778,
              "#fb9f3a"
             ],
             [
              0.8888888888888888,
              "#fdca26"
             ],
             [
              1,
              "#f0f921"
             ]
            ],
            "type": "heatmapgl"
           }
          ],
          "histogram": [
           {
            "marker": {
             "colorbar": {
              "outlinewidth": 0,
              "ticks": ""
             }
            },
            "type": "histogram"
           }
          ],
          "histogram2d": [
           {
            "colorbar": {
             "outlinewidth": 0,
             "ticks": ""
            },
            "colorscale": [
             [
              0,
              "#0d0887"
             ],
             [
              0.1111111111111111,
              "#46039f"
             ],
             [
              0.2222222222222222,
              "#7201a8"
             ],
             [
              0.3333333333333333,
              "#9c179e"
             ],
             [
              0.4444444444444444,
              "#bd3786"
             ],
             [
              0.5555555555555556,
              "#d8576b"
             ],
             [
              0.6666666666666666,
              "#ed7953"
             ],
             [
              0.7777777777777778,
              "#fb9f3a"
             ],
             [
              0.8888888888888888,
              "#fdca26"
             ],
             [
              1,
              "#f0f921"
             ]
            ],
            "type": "histogram2d"
           }
          ],
          "histogram2dcontour": [
           {
            "colorbar": {
             "outlinewidth": 0,
             "ticks": ""
            },
            "colorscale": [
             [
              0,
              "#0d0887"
             ],
             [
              0.1111111111111111,
              "#46039f"
             ],
             [
              0.2222222222222222,
              "#7201a8"
             ],
             [
              0.3333333333333333,
              "#9c179e"
             ],
             [
              0.4444444444444444,
              "#bd3786"
             ],
             [
              0.5555555555555556,
              "#d8576b"
             ],
             [
              0.6666666666666666,
              "#ed7953"
             ],
             [
              0.7777777777777778,
              "#fb9f3a"
             ],
             [
              0.8888888888888888,
              "#fdca26"
             ],
             [
              1,
              "#f0f921"
             ]
            ],
            "type": "histogram2dcontour"
           }
          ],
          "mesh3d": [
           {
            "colorbar": {
             "outlinewidth": 0,
             "ticks": ""
            },
            "type": "mesh3d"
           }
          ],
          "parcoords": [
           {
            "line": {
             "colorbar": {
              "outlinewidth": 0,
              "ticks": ""
             }
            },
            "type": "parcoords"
           }
          ],
          "pie": [
           {
            "automargin": true,
            "type": "pie"
           }
          ],
          "scatter": [
           {
            "marker": {
             "colorbar": {
              "outlinewidth": 0,
              "ticks": ""
             }
            },
            "type": "scatter"
           }
          ],
          "scatter3d": [
           {
            "line": {
             "colorbar": {
              "outlinewidth": 0,
              "ticks": ""
             }
            },
            "marker": {
             "colorbar": {
              "outlinewidth": 0,
              "ticks": ""
             }
            },
            "type": "scatter3d"
           }
          ],
          "scattercarpet": [
           {
            "marker": {
             "colorbar": {
              "outlinewidth": 0,
              "ticks": ""
             }
            },
            "type": "scattercarpet"
           }
          ],
          "scattergeo": [
           {
            "marker": {
             "colorbar": {
              "outlinewidth": 0,
              "ticks": ""
             }
            },
            "type": "scattergeo"
           }
          ],
          "scattergl": [
           {
            "marker": {
             "colorbar": {
              "outlinewidth": 0,
              "ticks": ""
             }
            },
            "type": "scattergl"
           }
          ],
          "scattermapbox": [
           {
            "marker": {
             "colorbar": {
              "outlinewidth": 0,
              "ticks": ""
             }
            },
            "type": "scattermapbox"
           }
          ],
          "scatterpolar": [
           {
            "marker": {
             "colorbar": {
              "outlinewidth": 0,
              "ticks": ""
             }
            },
            "type": "scatterpolar"
           }
          ],
          "scatterpolargl": [
           {
            "marker": {
             "colorbar": {
              "outlinewidth": 0,
              "ticks": ""
             }
            },
            "type": "scatterpolargl"
           }
          ],
          "scatterternary": [
           {
            "marker": {
             "colorbar": {
              "outlinewidth": 0,
              "ticks": ""
             }
            },
            "type": "scatterternary"
           }
          ],
          "surface": [
           {
            "colorbar": {
             "outlinewidth": 0,
             "ticks": ""
            },
            "colorscale": [
             [
              0,
              "#0d0887"
             ],
             [
              0.1111111111111111,
              "#46039f"
             ],
             [
              0.2222222222222222,
              "#7201a8"
             ],
             [
              0.3333333333333333,
              "#9c179e"
             ],
             [
              0.4444444444444444,
              "#bd3786"
             ],
             [
              0.5555555555555556,
              "#d8576b"
             ],
             [
              0.6666666666666666,
              "#ed7953"
             ],
             [
              0.7777777777777778,
              "#fb9f3a"
             ],
             [
              0.8888888888888888,
              "#fdca26"
             ],
             [
              1,
              "#f0f921"
             ]
            ],
            "type": "surface"
           }
          ],
          "table": [
           {
            "cells": {
             "fill": {
              "color": "#EBF0F8"
             },
             "line": {
              "color": "white"
             }
            },
            "header": {
             "fill": {
              "color": "#C8D4E3"
             },
             "line": {
              "color": "white"
             }
            },
            "type": "table"
           }
          ]
         },
         "layout": {
          "annotationdefaults": {
           "arrowcolor": "#2a3f5f",
           "arrowhead": 0,
           "arrowwidth": 1
          },
          "autotypenumbers": "strict",
          "coloraxis": {
           "colorbar": {
            "outlinewidth": 0,
            "ticks": ""
           }
          },
          "colorscale": {
           "diverging": [
            [
             0,
             "#8e0152"
            ],
            [
             0.1,
             "#c51b7d"
            ],
            [
             0.2,
             "#de77ae"
            ],
            [
             0.3,
             "#f1b6da"
            ],
            [
             0.4,
             "#fde0ef"
            ],
            [
             0.5,
             "#f7f7f7"
            ],
            [
             0.6,
             "#e6f5d0"
            ],
            [
             0.7,
             "#b8e186"
            ],
            [
             0.8,
             "#7fbc41"
            ],
            [
             0.9,
             "#4d9221"
            ],
            [
             1,
             "#276419"
            ]
           ],
           "sequential": [
            [
             0,
             "#0d0887"
            ],
            [
             0.1111111111111111,
             "#46039f"
            ],
            [
             0.2222222222222222,
             "#7201a8"
            ],
            [
             0.3333333333333333,
             "#9c179e"
            ],
            [
             0.4444444444444444,
             "#bd3786"
            ],
            [
             0.5555555555555556,
             "#d8576b"
            ],
            [
             0.6666666666666666,
             "#ed7953"
            ],
            [
             0.7777777777777778,
             "#fb9f3a"
            ],
            [
             0.8888888888888888,
             "#fdca26"
            ],
            [
             1,
             "#f0f921"
            ]
           ],
           "sequentialminus": [
            [
             0,
             "#0d0887"
            ],
            [
             0.1111111111111111,
             "#46039f"
            ],
            [
             0.2222222222222222,
             "#7201a8"
            ],
            [
             0.3333333333333333,
             "#9c179e"
            ],
            [
             0.4444444444444444,
             "#bd3786"
            ],
            [
             0.5555555555555556,
             "#d8576b"
            ],
            [
             0.6666666666666666,
             "#ed7953"
            ],
            [
             0.7777777777777778,
             "#fb9f3a"
            ],
            [
             0.8888888888888888,
             "#fdca26"
            ],
            [
             1,
             "#f0f921"
            ]
           ]
          },
          "colorway": [
           "#636efa",
           "#EF553B",
           "#00cc96",
           "#ab63fa",
           "#FFA15A",
           "#19d3f3",
           "#FF6692",
           "#B6E880",
           "#FF97FF",
           "#FECB52"
          ],
          "font": {
           "color": "#2a3f5f"
          },
          "geo": {
           "bgcolor": "white",
           "lakecolor": "white",
           "landcolor": "#E5ECF6",
           "showlakes": true,
           "showland": true,
           "subunitcolor": "white"
          },
          "hoverlabel": {
           "align": "left"
          },
          "hovermode": "closest",
          "mapbox": {
           "style": "light"
          },
          "paper_bgcolor": "white",
          "plot_bgcolor": "#E5ECF6",
          "polar": {
           "angularaxis": {
            "gridcolor": "white",
            "linecolor": "white",
            "ticks": ""
           },
           "bgcolor": "#E5ECF6",
           "radialaxis": {
            "gridcolor": "white",
            "linecolor": "white",
            "ticks": ""
           }
          },
          "scene": {
           "xaxis": {
            "backgroundcolor": "#E5ECF6",
            "gridcolor": "white",
            "gridwidth": 2,
            "linecolor": "white",
            "showbackground": true,
            "ticks": "",
            "zerolinecolor": "white"
           },
           "yaxis": {
            "backgroundcolor": "#E5ECF6",
            "gridcolor": "white",
            "gridwidth": 2,
            "linecolor": "white",
            "showbackground": true,
            "ticks": "",
            "zerolinecolor": "white"
           },
           "zaxis": {
            "backgroundcolor": "#E5ECF6",
            "gridcolor": "white",
            "gridwidth": 2,
            "linecolor": "white",
            "showbackground": true,
            "ticks": "",
            "zerolinecolor": "white"
           }
          },
          "shapedefaults": {
           "line": {
            "color": "#2a3f5f"
           }
          },
          "ternary": {
           "aaxis": {
            "gridcolor": "white",
            "linecolor": "white",
            "ticks": ""
           },
           "baxis": {
            "gridcolor": "white",
            "linecolor": "white",
            "ticks": ""
           },
           "bgcolor": "#E5ECF6",
           "caxis": {
            "gridcolor": "white",
            "linecolor": "white",
            "ticks": ""
           }
          },
          "title": {
           "x": 0.05
          },
          "xaxis": {
           "automargin": true,
           "gridcolor": "white",
           "linecolor": "white",
           "ticks": "",
           "title": {
            "standoff": 15
           },
           "zerolinecolor": "white",
           "zerolinewidth": 2
          },
          "yaxis": {
           "automargin": true,
           "gridcolor": "white",
           "linecolor": "white",
           "ticks": "",
           "title": {
            "standoff": 15
           },
           "zerolinecolor": "white",
           "zerolinewidth": 2
          }
         }
        },
        "title": {
         "text": "Paracetamol - pocet baleni (top 30)"
        },
        "xaxis": {
         "anchor": "y",
         "domain": [
          0,
          1
         ],
         "tickangle": 45,
         "title": {
          "text": "LIEK_popis"
         }
        },
        "yaxis": {
         "anchor": "x",
         "domain": [
          0,
          1
         ],
         "title": {
          "text": "Počet_balení"
         }
        }
       }
      }
     },
     "metadata": {}
    }
   ],
   "source": [
    "fig = px.bar(paracetamol,x='LIEK_popis', y='Počet_balení',color='STAT_popis', title='Paracetamol - pocet baleni (top 30)')\n",
    "fig.update_xaxes(tickangle=45)\n",
    "fig.show()"
   ]
  },
  {
   "source": [
    "Z grafu vidime, ze vsetky lieky prekonava Paralen v tabletach. Tkisto si mozeme vsimnut ze je vyrabany na Slovensku. Cesko ma siroku ponuku Panadolov avsak tieto tak popularne nie su. Panadoly su zvycajne vo variantoch pre deti."
   ],
   "cell_type": "markdown",
   "metadata": {}
  },
  {
   "source": [
    "# 4. Ibuprofen"
   ],
   "cell_type": "markdown",
   "metadata": {}
  },
  {
   "cell_type": "code",
   "execution_count": 20,
   "metadata": {},
   "outputs": [
    {
     "output_type": "display_data",
     "data": {
      "text/plain": "                 LIEK_popis  STAT_popis  \\\n0                BRUFEN 400  Francúzsko   \n1                BRUFEN 600  Francúzsko   \n2               IBALGIN 200   Slovensko   \n3               IBALGIN 400   Slovensko   \n4               IBALGIN 600   Slovensko   \n5              IBALGIN FAST   Slovensko   \n6         IBALGIN RAPIDCAPS   Slovensko   \n7               IBALGIN SUS   Slovensko   \n8             IBUPROFEN 400     Nemecko   \n9                MIG Junior     Nemecko   \n10                  MIG-400     Nemecko   \n11            NUROFEN FORTE       Česko   \n12  NUROFEN Liquid Capsules       Česko   \n13         NUROFEN pre deti       Česko   \n14              NUROFEN tbl       Česko   \n\n                                        VYROBCA_popis  index  Počet_balení  \\\n0                              Mylan Laboratories SAS  11226    260398.011   \n1                              Mylan Laboratories SAS   5625     28425.100   \n2                      sanofi-aventis Slovakia s.r.o.   5603    115937.580   \n3                      sanofi-aventis Slovakia s.r.o.  22455    925557.576   \n4                      sanofi-aventis Slovakia s.r.o.   5629     36402.670   \n5                      sanofi-aventis Slovakia s.r.o.   5641     32353.100   \n6                      sanofi-aventis Slovakia s.r.o.  11222    195327.956   \n7                      sanofi-aventis Slovakia s.r.o.   5634     16038.000   \n8                               STADA Arzneimittel AG  11253     87787.140   \n9                                    Berlin-Chemie AG   5571     12276.300   \n10                                   Berlin-Chemie AG  11235    234871.823   \n11  Reckitt Benckiser (Czech Republic), spol. s r.o.    5627     53810.500   \n12  Reckitt Benckiser (Czech Republic), spol. s r.o.   11245    140448.500   \n13  Reckitt Benckiser (Czech Republic), spol. s r.o.   44911    518837.687   \n14  Reckitt Benckiser (Czech Republic), spol. s r.o.    5633     53473.410   \n\n    Úhrada_PAC  \n0   1000652.93  \n1     88020.41  \n2    274563.27  \n3   3503655.19  \n4     64870.46  \n5    108560.61  \n6    899915.02  \n7     52677.24  \n8    228675.29  \n9     34815.97  \n10   758498.46  \n11   186448.24  \n12   557590.23  \n13  2579581.43  \n14   123508.07  ",
      "text/html": "<div>\n<style scoped>\n    .dataframe tbody tr th:only-of-type {\n        vertical-align: middle;\n    }\n\n    .dataframe tbody tr th {\n        vertical-align: top;\n    }\n\n    .dataframe thead th {\n        text-align: right;\n    }\n</style>\n<table border=\"1\" class=\"dataframe\">\n  <thead>\n    <tr style=\"text-align: right;\">\n      <th></th>\n      <th>LIEK_popis</th>\n      <th>STAT_popis</th>\n      <th>VYROBCA_popis</th>\n      <th>index</th>\n      <th>Počet_balení</th>\n      <th>Úhrada_PAC</th>\n    </tr>\n  </thead>\n  <tbody>\n    <tr>\n      <th>0</th>\n      <td>BRUFEN 400</td>\n      <td>Francúzsko</td>\n      <td>Mylan Laboratories SAS</td>\n      <td>11226</td>\n      <td>260398.011</td>\n      <td>1000652.93</td>\n    </tr>\n    <tr>\n      <th>1</th>\n      <td>BRUFEN 600</td>\n      <td>Francúzsko</td>\n      <td>Mylan Laboratories SAS</td>\n      <td>5625</td>\n      <td>28425.100</td>\n      <td>88020.41</td>\n    </tr>\n    <tr>\n      <th>2</th>\n      <td>IBALGIN 200</td>\n      <td>Slovensko</td>\n      <td>sanofi-aventis Slovakia s.r.o.</td>\n      <td>5603</td>\n      <td>115937.580</td>\n      <td>274563.27</td>\n    </tr>\n    <tr>\n      <th>3</th>\n      <td>IBALGIN 400</td>\n      <td>Slovensko</td>\n      <td>sanofi-aventis Slovakia s.r.o.</td>\n      <td>22455</td>\n      <td>925557.576</td>\n      <td>3503655.19</td>\n    </tr>\n    <tr>\n      <th>4</th>\n      <td>IBALGIN 600</td>\n      <td>Slovensko</td>\n      <td>sanofi-aventis Slovakia s.r.o.</td>\n      <td>5629</td>\n      <td>36402.670</td>\n      <td>64870.46</td>\n    </tr>\n    <tr>\n      <th>5</th>\n      <td>IBALGIN FAST</td>\n      <td>Slovensko</td>\n      <td>sanofi-aventis Slovakia s.r.o.</td>\n      <td>5641</td>\n      <td>32353.100</td>\n      <td>108560.61</td>\n    </tr>\n    <tr>\n      <th>6</th>\n      <td>IBALGIN RAPIDCAPS</td>\n      <td>Slovensko</td>\n      <td>sanofi-aventis Slovakia s.r.o.</td>\n      <td>11222</td>\n      <td>195327.956</td>\n      <td>899915.02</td>\n    </tr>\n    <tr>\n      <th>7</th>\n      <td>IBALGIN SUS</td>\n      <td>Slovensko</td>\n      <td>sanofi-aventis Slovakia s.r.o.</td>\n      <td>5634</td>\n      <td>16038.000</td>\n      <td>52677.24</td>\n    </tr>\n    <tr>\n      <th>8</th>\n      <td>IBUPROFEN 400</td>\n      <td>Nemecko</td>\n      <td>STADA Arzneimittel AG</td>\n      <td>11253</td>\n      <td>87787.140</td>\n      <td>228675.29</td>\n    </tr>\n    <tr>\n      <th>9</th>\n      <td>MIG Junior</td>\n      <td>Nemecko</td>\n      <td>Berlin-Chemie AG</td>\n      <td>5571</td>\n      <td>12276.300</td>\n      <td>34815.97</td>\n    </tr>\n    <tr>\n      <th>10</th>\n      <td>MIG-400</td>\n      <td>Nemecko</td>\n      <td>Berlin-Chemie AG</td>\n      <td>11235</td>\n      <td>234871.823</td>\n      <td>758498.46</td>\n    </tr>\n    <tr>\n      <th>11</th>\n      <td>NUROFEN FORTE</td>\n      <td>Česko</td>\n      <td>Reckitt Benckiser (Czech Republic), spol. s r.o.</td>\n      <td>5627</td>\n      <td>53810.500</td>\n      <td>186448.24</td>\n    </tr>\n    <tr>\n      <th>12</th>\n      <td>NUROFEN Liquid Capsules</td>\n      <td>Česko</td>\n      <td>Reckitt Benckiser (Czech Republic), spol. s r.o.</td>\n      <td>11245</td>\n      <td>140448.500</td>\n      <td>557590.23</td>\n    </tr>\n    <tr>\n      <th>13</th>\n      <td>NUROFEN pre deti</td>\n      <td>Česko</td>\n      <td>Reckitt Benckiser (Czech Republic), spol. s r.o.</td>\n      <td>44911</td>\n      <td>518837.687</td>\n      <td>2579581.43</td>\n    </tr>\n    <tr>\n      <th>14</th>\n      <td>NUROFEN tbl</td>\n      <td>Česko</td>\n      <td>Reckitt Benckiser (Czech Republic), spol. s r.o.</td>\n      <td>5633</td>\n      <td>53473.410</td>\n      <td>123508.07</td>\n    </tr>\n  </tbody>\n</table>\n</div>"
     },
     "metadata": {}
    }
   ],
   "source": [
    "ibuprofen = top20tab[\"M01AE01\"].sort_values(by='Počet_balení', ascending=False).head(30)\n",
    "\n",
    "for i,popis in enumerate(ibuprofen['LIEK_popis']):\n",
    "    if 'IBALGIN 400' in popis:\n",
    "        ibuprofen.iloc[i,4] = 'IBALGIN 400'\n",
    "    elif 'Ibalgin 400' in popis:\n",
    "        ibuprofen.iloc[i,4] = 'IBALGIN 400'\n",
    "    elif 'BRUFEN 400' in popis:\n",
    "        ibuprofen.iloc[i,4] = 'BRUFEN 400'\n",
    "    elif 'Brufen 400' in popis:\n",
    "        ibuprofen.iloc[i,4] = 'BRUFEN 400'\n",
    "    elif 'BRUFEN sirup' in popis:\n",
    "        ibuprofen.iloc[i,4] = 'BRUFEN sirup'\n",
    "    elif 'BRUFEN retard 800' in popis:\n",
    "        ibuprofen.iloc[i,4] = 'BRUFEN retard 800'\n",
    "    elif 'BRUFEN 600' in popis:\n",
    "        ibuprofen.iloc[i,4] = 'BRUFEN 600'\n",
    "    elif 'MIG-400' in popis:\n",
    "        ibuprofen.iloc[i,4] = 'MIG-400'\n",
    "    elif 'NUROFEN pre deti' in popis:\n",
    "        ibuprofen.iloc[i,4] = 'NUROFEN pre deti'\n",
    "    elif 'NUROFEN PRE DETI' in popis:\n",
    "        ibuprofen.iloc[i,4] = 'NUROFEN pre deti'\n",
    "    elif 'Nurofen pre deti' in popis:\n",
    "        ibuprofen.iloc[i,4] = 'NUROFEN pre deti'\n",
    "    elif 'NUROFEN PRE DETI' in popis:\n",
    "        ibuprofen.iloc[i,4] = 'NUROFEN pre deti'\n",
    "    elif 'IBALGIN RAPIDCAPS' in popis:\n",
    "        ibuprofen.iloc[i,4] = 'IBALGIN RAPIDCAPS'\n",
    "    elif 'IBALGIN 200' in popis:\n",
    "        ibuprofen.iloc[i,4] = 'IBALGIN 200'\n",
    "    elif 'IBALGIN 600' in popis:\n",
    "        ibuprofen.iloc[i,4] = 'IBALGIN 600'\n",
    "    elif 'IBALGIN FAST' in popis:\n",
    "        ibuprofen.iloc[i,4] = 'IBALGIN FAST'\n",
    "    elif 'NUROFEN Liquid Capsules' in popis:\n",
    "        ibuprofen.iloc[i,4] = 'NUROFEN Liquid Capsules'\n",
    "    elif 'IBUPROFEN 400' in popis:\n",
    "        ibuprofen.iloc[i,4] = 'IBUPROFEN 400'\n",
    "    elif 'IBALGIN SUS' in popis:\n",
    "        ibuprofen.iloc[i,4] = 'IBALGIN SUS'\n",
    "    elif 'MIG' in popis:\n",
    "        ibuprofen.iloc[i,4] = 'MIG Junior'\n",
    "    elif 'NUROFEN FORTE' in popis:\n",
    "        ibuprofen.iloc[i,4] = 'NUROFEN FORTE'\n",
    "    elif 'NUROFEN tbl' in popis:\n",
    "        ibuprofen.iloc[i,4] = 'NUROFEN tbl'\n",
    "\n",
    "ibuprofen = ibuprofen.groupby(['LIEK_popis', 'STAT_popis', 'VYROBCA_popis']).sum().reset_index()\n",
    "display(ibuprofen)"
   ]
  },
  {
   "cell_type": "code",
   "execution_count": 66,
   "metadata": {},
   "outputs": [
    {
     "output_type": "display_data",
     "data": {
      "application/vnd.plotly.v1+json": {
       "config": {
        "plotlyServerURL": "https://plot.ly"
       },
       "data": [
        {
         "alignmentgroup": "True",
         "hovertemplate": "STAT_popis=Francúzsko<br>LIEK_popis=%{x}<br>Počet_balení=%{y}<extra></extra>",
         "legendgroup": "Francúzsko",
         "marker": {
          "color": "#636efa"
         },
         "name": "Francúzsko",
         "offsetgroup": "Francúzsko",
         "orientation": "v",
         "showlegend": true,
         "textposition": "auto",
         "type": "bar",
         "x": [
          "BRUFEN 400",
          "BRUFEN 600"
         ],
         "xaxis": "x",
         "y": [
          260398.011,
          28425.100000000002
         ],
         "yaxis": "y"
        },
        {
         "alignmentgroup": "True",
         "hovertemplate": "STAT_popis=Slovensko<br>LIEK_popis=%{x}<br>Počet_balení=%{y}<extra></extra>",
         "legendgroup": "Slovensko",
         "marker": {
          "color": "#EF553B"
         },
         "name": "Slovensko",
         "offsetgroup": "Slovensko",
         "orientation": "v",
         "showlegend": true,
         "textposition": "auto",
         "type": "bar",
         "x": [
          "IBALGIN 200",
          "IBALGIN 400",
          "IBALGIN 600",
          "IBALGIN FAST",
          "IBALGIN RAPIDCAPS",
          "IBALGIN SUS"
         ],
         "xaxis": "x",
         "y": [
          115937.58,
          925557.576,
          36402.67,
          32353.1,
          195327.95599999998,
          16038
         ],
         "yaxis": "y"
        },
        {
         "alignmentgroup": "True",
         "hovertemplate": "STAT_popis=Nemecko<br>LIEK_popis=%{x}<br>Počet_balení=%{y}<extra></extra>",
         "legendgroup": "Nemecko",
         "marker": {
          "color": "#00cc96"
         },
         "name": "Nemecko",
         "offsetgroup": "Nemecko",
         "orientation": "v",
         "showlegend": true,
         "textposition": "auto",
         "type": "bar",
         "x": [
          "IBUPROFEN 400",
          "MIG Junior",
          "MIG-400"
         ],
         "xaxis": "x",
         "y": [
          87787.14,
          12276.3,
          234871.823
         ],
         "yaxis": "y"
        },
        {
         "alignmentgroup": "True",
         "hovertemplate": "STAT_popis=Česko<br>LIEK_popis=%{x}<br>Počet_balení=%{y}<extra></extra>",
         "legendgroup": "Česko",
         "marker": {
          "color": "#ab63fa"
         },
         "name": "Česko",
         "offsetgroup": "Česko",
         "orientation": "v",
         "showlegend": true,
         "textposition": "auto",
         "type": "bar",
         "x": [
          "NUROFEN FORTE",
          "NUROFEN Liquid Capsules",
          "NUROFEN pre deti",
          "NUROFEN tbl"
         ],
         "xaxis": "x",
         "y": [
          53810.5,
          140448.5,
          518837.68700000003,
          53473.41
         ],
         "yaxis": "y"
        }
       ],
       "layout": {
        "barmode": "relative",
        "legend": {
         "title": {
          "text": "STAT_popis"
         },
         "tracegroupgap": 0
        },
        "template": {
         "data": {
          "bar": [
           {
            "error_x": {
             "color": "#2a3f5f"
            },
            "error_y": {
             "color": "#2a3f5f"
            },
            "marker": {
             "line": {
              "color": "#E5ECF6",
              "width": 0.5
             }
            },
            "type": "bar"
           }
          ],
          "barpolar": [
           {
            "marker": {
             "line": {
              "color": "#E5ECF6",
              "width": 0.5
             }
            },
            "type": "barpolar"
           }
          ],
          "carpet": [
           {
            "aaxis": {
             "endlinecolor": "#2a3f5f",
             "gridcolor": "white",
             "linecolor": "white",
             "minorgridcolor": "white",
             "startlinecolor": "#2a3f5f"
            },
            "baxis": {
             "endlinecolor": "#2a3f5f",
             "gridcolor": "white",
             "linecolor": "white",
             "minorgridcolor": "white",
             "startlinecolor": "#2a3f5f"
            },
            "type": "carpet"
           }
          ],
          "choropleth": [
           {
            "colorbar": {
             "outlinewidth": 0,
             "ticks": ""
            },
            "type": "choropleth"
           }
          ],
          "contour": [
           {
            "colorbar": {
             "outlinewidth": 0,
             "ticks": ""
            },
            "colorscale": [
             [
              0,
              "#0d0887"
             ],
             [
              0.1111111111111111,
              "#46039f"
             ],
             [
              0.2222222222222222,
              "#7201a8"
             ],
             [
              0.3333333333333333,
              "#9c179e"
             ],
             [
              0.4444444444444444,
              "#bd3786"
             ],
             [
              0.5555555555555556,
              "#d8576b"
             ],
             [
              0.6666666666666666,
              "#ed7953"
             ],
             [
              0.7777777777777778,
              "#fb9f3a"
             ],
             [
              0.8888888888888888,
              "#fdca26"
             ],
             [
              1,
              "#f0f921"
             ]
            ],
            "type": "contour"
           }
          ],
          "contourcarpet": [
           {
            "colorbar": {
             "outlinewidth": 0,
             "ticks": ""
            },
            "type": "contourcarpet"
           }
          ],
          "heatmap": [
           {
            "colorbar": {
             "outlinewidth": 0,
             "ticks": ""
            },
            "colorscale": [
             [
              0,
              "#0d0887"
             ],
             [
              0.1111111111111111,
              "#46039f"
             ],
             [
              0.2222222222222222,
              "#7201a8"
             ],
             [
              0.3333333333333333,
              "#9c179e"
             ],
             [
              0.4444444444444444,
              "#bd3786"
             ],
             [
              0.5555555555555556,
              "#d8576b"
             ],
             [
              0.6666666666666666,
              "#ed7953"
             ],
             [
              0.7777777777777778,
              "#fb9f3a"
             ],
             [
              0.8888888888888888,
              "#fdca26"
             ],
             [
              1,
              "#f0f921"
             ]
            ],
            "type": "heatmap"
           }
          ],
          "heatmapgl": [
           {
            "colorbar": {
             "outlinewidth": 0,
             "ticks": ""
            },
            "colorscale": [
             [
              0,
              "#0d0887"
             ],
             [
              0.1111111111111111,
              "#46039f"
             ],
             [
              0.2222222222222222,
              "#7201a8"
             ],
             [
              0.3333333333333333,
              "#9c179e"
             ],
             [
              0.4444444444444444,
              "#bd3786"
             ],
             [
              0.5555555555555556,
              "#d8576b"
             ],
             [
              0.6666666666666666,
              "#ed7953"
             ],
             [
              0.7777777777777778,
              "#fb9f3a"
             ],
             [
              0.8888888888888888,
              "#fdca26"
             ],
             [
              1,
              "#f0f921"
             ]
            ],
            "type": "heatmapgl"
           }
          ],
          "histogram": [
           {
            "marker": {
             "colorbar": {
              "outlinewidth": 0,
              "ticks": ""
             }
            },
            "type": "histogram"
           }
          ],
          "histogram2d": [
           {
            "colorbar": {
             "outlinewidth": 0,
             "ticks": ""
            },
            "colorscale": [
             [
              0,
              "#0d0887"
             ],
             [
              0.1111111111111111,
              "#46039f"
             ],
             [
              0.2222222222222222,
              "#7201a8"
             ],
             [
              0.3333333333333333,
              "#9c179e"
             ],
             [
              0.4444444444444444,
              "#bd3786"
             ],
             [
              0.5555555555555556,
              "#d8576b"
             ],
             [
              0.6666666666666666,
              "#ed7953"
             ],
             [
              0.7777777777777778,
              "#fb9f3a"
             ],
             [
              0.8888888888888888,
              "#fdca26"
             ],
             [
              1,
              "#f0f921"
             ]
            ],
            "type": "histogram2d"
           }
          ],
          "histogram2dcontour": [
           {
            "colorbar": {
             "outlinewidth": 0,
             "ticks": ""
            },
            "colorscale": [
             [
              0,
              "#0d0887"
             ],
             [
              0.1111111111111111,
              "#46039f"
             ],
             [
              0.2222222222222222,
              "#7201a8"
             ],
             [
              0.3333333333333333,
              "#9c179e"
             ],
             [
              0.4444444444444444,
              "#bd3786"
             ],
             [
              0.5555555555555556,
              "#d8576b"
             ],
             [
              0.6666666666666666,
              "#ed7953"
             ],
             [
              0.7777777777777778,
              "#fb9f3a"
             ],
             [
              0.8888888888888888,
              "#fdca26"
             ],
             [
              1,
              "#f0f921"
             ]
            ],
            "type": "histogram2dcontour"
           }
          ],
          "mesh3d": [
           {
            "colorbar": {
             "outlinewidth": 0,
             "ticks": ""
            },
            "type": "mesh3d"
           }
          ],
          "parcoords": [
           {
            "line": {
             "colorbar": {
              "outlinewidth": 0,
              "ticks": ""
             }
            },
            "type": "parcoords"
           }
          ],
          "pie": [
           {
            "automargin": true,
            "type": "pie"
           }
          ],
          "scatter": [
           {
            "marker": {
             "colorbar": {
              "outlinewidth": 0,
              "ticks": ""
             }
            },
            "type": "scatter"
           }
          ],
          "scatter3d": [
           {
            "line": {
             "colorbar": {
              "outlinewidth": 0,
              "ticks": ""
             }
            },
            "marker": {
             "colorbar": {
              "outlinewidth": 0,
              "ticks": ""
             }
            },
            "type": "scatter3d"
           }
          ],
          "scattercarpet": [
           {
            "marker": {
             "colorbar": {
              "outlinewidth": 0,
              "ticks": ""
             }
            },
            "type": "scattercarpet"
           }
          ],
          "scattergeo": [
           {
            "marker": {
             "colorbar": {
              "outlinewidth": 0,
              "ticks": ""
             }
            },
            "type": "scattergeo"
           }
          ],
          "scattergl": [
           {
            "marker": {
             "colorbar": {
              "outlinewidth": 0,
              "ticks": ""
             }
            },
            "type": "scattergl"
           }
          ],
          "scattermapbox": [
           {
            "marker": {
             "colorbar": {
              "outlinewidth": 0,
              "ticks": ""
             }
            },
            "type": "scattermapbox"
           }
          ],
          "scatterpolar": [
           {
            "marker": {
             "colorbar": {
              "outlinewidth": 0,
              "ticks": ""
             }
            },
            "type": "scatterpolar"
           }
          ],
          "scatterpolargl": [
           {
            "marker": {
             "colorbar": {
              "outlinewidth": 0,
              "ticks": ""
             }
            },
            "type": "scatterpolargl"
           }
          ],
          "scatterternary": [
           {
            "marker": {
             "colorbar": {
              "outlinewidth": 0,
              "ticks": ""
             }
            },
            "type": "scatterternary"
           }
          ],
          "surface": [
           {
            "colorbar": {
             "outlinewidth": 0,
             "ticks": ""
            },
            "colorscale": [
             [
              0,
              "#0d0887"
             ],
             [
              0.1111111111111111,
              "#46039f"
             ],
             [
              0.2222222222222222,
              "#7201a8"
             ],
             [
              0.3333333333333333,
              "#9c179e"
             ],
             [
              0.4444444444444444,
              "#bd3786"
             ],
             [
              0.5555555555555556,
              "#d8576b"
             ],
             [
              0.6666666666666666,
              "#ed7953"
             ],
             [
              0.7777777777777778,
              "#fb9f3a"
             ],
             [
              0.8888888888888888,
              "#fdca26"
             ],
             [
              1,
              "#f0f921"
             ]
            ],
            "type": "surface"
           }
          ],
          "table": [
           {
            "cells": {
             "fill": {
              "color": "#EBF0F8"
             },
             "line": {
              "color": "white"
             }
            },
            "header": {
             "fill": {
              "color": "#C8D4E3"
             },
             "line": {
              "color": "white"
             }
            },
            "type": "table"
           }
          ]
         },
         "layout": {
          "annotationdefaults": {
           "arrowcolor": "#2a3f5f",
           "arrowhead": 0,
           "arrowwidth": 1
          },
          "autotypenumbers": "strict",
          "coloraxis": {
           "colorbar": {
            "outlinewidth": 0,
            "ticks": ""
           }
          },
          "colorscale": {
           "diverging": [
            [
             0,
             "#8e0152"
            ],
            [
             0.1,
             "#c51b7d"
            ],
            [
             0.2,
             "#de77ae"
            ],
            [
             0.3,
             "#f1b6da"
            ],
            [
             0.4,
             "#fde0ef"
            ],
            [
             0.5,
             "#f7f7f7"
            ],
            [
             0.6,
             "#e6f5d0"
            ],
            [
             0.7,
             "#b8e186"
            ],
            [
             0.8,
             "#7fbc41"
            ],
            [
             0.9,
             "#4d9221"
            ],
            [
             1,
             "#276419"
            ]
           ],
           "sequential": [
            [
             0,
             "#0d0887"
            ],
            [
             0.1111111111111111,
             "#46039f"
            ],
            [
             0.2222222222222222,
             "#7201a8"
            ],
            [
             0.3333333333333333,
             "#9c179e"
            ],
            [
             0.4444444444444444,
             "#bd3786"
            ],
            [
             0.5555555555555556,
             "#d8576b"
            ],
            [
             0.6666666666666666,
             "#ed7953"
            ],
            [
             0.7777777777777778,
             "#fb9f3a"
            ],
            [
             0.8888888888888888,
             "#fdca26"
            ],
            [
             1,
             "#f0f921"
            ]
           ],
           "sequentialminus": [
            [
             0,
             "#0d0887"
            ],
            [
             0.1111111111111111,
             "#46039f"
            ],
            [
             0.2222222222222222,
             "#7201a8"
            ],
            [
             0.3333333333333333,
             "#9c179e"
            ],
            [
             0.4444444444444444,
             "#bd3786"
            ],
            [
             0.5555555555555556,
             "#d8576b"
            ],
            [
             0.6666666666666666,
             "#ed7953"
            ],
            [
             0.7777777777777778,
             "#fb9f3a"
            ],
            [
             0.8888888888888888,
             "#fdca26"
            ],
            [
             1,
             "#f0f921"
            ]
           ]
          },
          "colorway": [
           "#636efa",
           "#EF553B",
           "#00cc96",
           "#ab63fa",
           "#FFA15A",
           "#19d3f3",
           "#FF6692",
           "#B6E880",
           "#FF97FF",
           "#FECB52"
          ],
          "font": {
           "color": "#2a3f5f"
          },
          "geo": {
           "bgcolor": "white",
           "lakecolor": "white",
           "landcolor": "#E5ECF6",
           "showlakes": true,
           "showland": true,
           "subunitcolor": "white"
          },
          "hoverlabel": {
           "align": "left"
          },
          "hovermode": "closest",
          "mapbox": {
           "style": "light"
          },
          "paper_bgcolor": "white",
          "plot_bgcolor": "#E5ECF6",
          "polar": {
           "angularaxis": {
            "gridcolor": "white",
            "linecolor": "white",
            "ticks": ""
           },
           "bgcolor": "#E5ECF6",
           "radialaxis": {
            "gridcolor": "white",
            "linecolor": "white",
            "ticks": ""
           }
          },
          "scene": {
           "xaxis": {
            "backgroundcolor": "#E5ECF6",
            "gridcolor": "white",
            "gridwidth": 2,
            "linecolor": "white",
            "showbackground": true,
            "ticks": "",
            "zerolinecolor": "white"
           },
           "yaxis": {
            "backgroundcolor": "#E5ECF6",
            "gridcolor": "white",
            "gridwidth": 2,
            "linecolor": "white",
            "showbackground": true,
            "ticks": "",
            "zerolinecolor": "white"
           },
           "zaxis": {
            "backgroundcolor": "#E5ECF6",
            "gridcolor": "white",
            "gridwidth": 2,
            "linecolor": "white",
            "showbackground": true,
            "ticks": "",
            "zerolinecolor": "white"
           }
          },
          "shapedefaults": {
           "line": {
            "color": "#2a3f5f"
           }
          },
          "ternary": {
           "aaxis": {
            "gridcolor": "white",
            "linecolor": "white",
            "ticks": ""
           },
           "baxis": {
            "gridcolor": "white",
            "linecolor": "white",
            "ticks": ""
           },
           "bgcolor": "#E5ECF6",
           "caxis": {
            "gridcolor": "white",
            "linecolor": "white",
            "ticks": ""
           }
          },
          "title": {
           "x": 0.05
          },
          "xaxis": {
           "automargin": true,
           "gridcolor": "white",
           "linecolor": "white",
           "ticks": "",
           "title": {
            "standoff": 15
           },
           "zerolinecolor": "white",
           "zerolinewidth": 2
          },
          "yaxis": {
           "automargin": true,
           "gridcolor": "white",
           "linecolor": "white",
           "ticks": "",
           "title": {
            "standoff": 15
           },
           "zerolinecolor": "white",
           "zerolinewidth": 2
          }
         }
        },
        "title": {
         "text": "Ibuprofen - pocet baleni (top 30)"
        },
        "xaxis": {
         "anchor": "y",
         "domain": [
          0,
          1
         ],
         "tickangle": 45,
         "title": {
          "text": "LIEK_popis"
         }
        },
        "yaxis": {
         "anchor": "x",
         "domain": [
          0,
          1
         ],
         "title": {
          "text": "Počet_balení"
         }
        }
       }
      }
     },
     "metadata": {}
    }
   ],
   "source": [
    "fig = px.bar(ibuprofen, x='LIEK_popis', y='Počet_balení', color='STAT_popis', title='Ibuprofen - pocet baleni (top 30)')\n",
    "fig.update_xaxes(tickangle=45)\n",
    "fig.show()"
   ]
  },
  {
   "cell_type": "code",
   "execution_count": 70,
   "metadata": {},
   "outputs": [
    {
     "output_type": "display_data",
     "data": {
      "text/plain": "   LIEK_popis          STAT_popis   index  Počet_balení  Úhrada_PAC\n0      BRUFEN          Francúzsko   67173    312661.631  1192883.73\n1     IBALGIN           Slovensko  106811   1324939.472  4917048.03\n2         INÉ              Fínsko   55935     16234.534    35680.04\n3         INÉ           Holandsko    5586         5.000        0.20\n4         INÉ             Nemecko   44889    100127.660   272368.37\n5         INÉ             Rakúsko    5638       288.000      699.84\n6         INÉ  Spojené kráľovstvo   16719        35.000      156.93\n7         INÉ               ĺrsko   16908       896.900     4148.80\n8         MIG             Nemecko   33625    247223.123   793578.27\n9     NUROFEN          Francúzsko    5652         6.000       30.35\n10    NUROFEN  Spojené kráľovstvo   16800       507.000     1581.02\n11    NUROFEN               Česko  128939    793022.397  3558584.44",
      "text/html": "<div>\n<style scoped>\n    .dataframe tbody tr th:only-of-type {\n        vertical-align: middle;\n    }\n\n    .dataframe tbody tr th {\n        vertical-align: top;\n    }\n\n    .dataframe thead th {\n        text-align: right;\n    }\n</style>\n<table border=\"1\" class=\"dataframe\">\n  <thead>\n    <tr style=\"text-align: right;\">\n      <th></th>\n      <th>LIEK_popis</th>\n      <th>STAT_popis</th>\n      <th>index</th>\n      <th>Počet_balení</th>\n      <th>Úhrada_PAC</th>\n    </tr>\n  </thead>\n  <tbody>\n    <tr>\n      <th>0</th>\n      <td>BRUFEN</td>\n      <td>Francúzsko</td>\n      <td>67173</td>\n      <td>312661.631</td>\n      <td>1192883.73</td>\n    </tr>\n    <tr>\n      <th>1</th>\n      <td>IBALGIN</td>\n      <td>Slovensko</td>\n      <td>106811</td>\n      <td>1324939.472</td>\n      <td>4917048.03</td>\n    </tr>\n    <tr>\n      <th>2</th>\n      <td>INÉ</td>\n      <td>Fínsko</td>\n      <td>55935</td>\n      <td>16234.534</td>\n      <td>35680.04</td>\n    </tr>\n    <tr>\n      <th>3</th>\n      <td>INÉ</td>\n      <td>Holandsko</td>\n      <td>5586</td>\n      <td>5.000</td>\n      <td>0.20</td>\n    </tr>\n    <tr>\n      <th>4</th>\n      <td>INÉ</td>\n      <td>Nemecko</td>\n      <td>44889</td>\n      <td>100127.660</td>\n      <td>272368.37</td>\n    </tr>\n    <tr>\n      <th>5</th>\n      <td>INÉ</td>\n      <td>Rakúsko</td>\n      <td>5638</td>\n      <td>288.000</td>\n      <td>699.84</td>\n    </tr>\n    <tr>\n      <th>6</th>\n      <td>INÉ</td>\n      <td>Spojené kráľovstvo</td>\n      <td>16719</td>\n      <td>35.000</td>\n      <td>156.93</td>\n    </tr>\n    <tr>\n      <th>7</th>\n      <td>INÉ</td>\n      <td>ĺrsko</td>\n      <td>16908</td>\n      <td>896.900</td>\n      <td>4148.80</td>\n    </tr>\n    <tr>\n      <th>8</th>\n      <td>MIG</td>\n      <td>Nemecko</td>\n      <td>33625</td>\n      <td>247223.123</td>\n      <td>793578.27</td>\n    </tr>\n    <tr>\n      <th>9</th>\n      <td>NUROFEN</td>\n      <td>Francúzsko</td>\n      <td>5652</td>\n      <td>6.000</td>\n      <td>30.35</td>\n    </tr>\n    <tr>\n      <th>10</th>\n      <td>NUROFEN</td>\n      <td>Spojené kráľovstvo</td>\n      <td>16800</td>\n      <td>507.000</td>\n      <td>1581.02</td>\n    </tr>\n    <tr>\n      <th>11</th>\n      <td>NUROFEN</td>\n      <td>Česko</td>\n      <td>128939</td>\n      <td>793022.397</td>\n      <td>3558584.44</td>\n    </tr>\n  </tbody>\n</table>\n</div>"
     },
     "metadata": {}
    },
    {
     "output_type": "display_data",
     "data": {
      "application/vnd.plotly.v1+json": {
       "config": {
        "plotlyServerURL": "https://plot.ly"
       },
       "data": [
        {
         "domain": {
          "x": [
           0,
           1
          ],
          "y": [
           0,
           1
          ]
         },
         "hovertemplate": "LIEK_popis=%{label}<br>Počet_balení=%{value}<extra></extra>",
         "labels": [
          "BRUFEN",
          "IBALGIN",
          "INÉ",
          "INÉ",
          "INÉ",
          "INÉ",
          "INÉ",
          "INÉ",
          "MIG",
          "NUROFEN",
          "NUROFEN",
          "NUROFEN"
         ],
         "legendgroup": "",
         "name": "",
         "showlegend": true,
         "type": "pie",
         "values": [
          312661.631,
          1324939.472,
          16234.534,
          5,
          100127.65999999997,
          288,
          35,
          896.9,
          247223.123,
          6,
          507,
          793022.3970000001
         ]
        }
       ],
       "layout": {
        "legend": {
         "tracegroupgap": 0
        },
        "template": {
         "data": {
          "bar": [
           {
            "error_x": {
             "color": "#2a3f5f"
            },
            "error_y": {
             "color": "#2a3f5f"
            },
            "marker": {
             "line": {
              "color": "#E5ECF6",
              "width": 0.5
             }
            },
            "type": "bar"
           }
          ],
          "barpolar": [
           {
            "marker": {
             "line": {
              "color": "#E5ECF6",
              "width": 0.5
             }
            },
            "type": "barpolar"
           }
          ],
          "carpet": [
           {
            "aaxis": {
             "endlinecolor": "#2a3f5f",
             "gridcolor": "white",
             "linecolor": "white",
             "minorgridcolor": "white",
             "startlinecolor": "#2a3f5f"
            },
            "baxis": {
             "endlinecolor": "#2a3f5f",
             "gridcolor": "white",
             "linecolor": "white",
             "minorgridcolor": "white",
             "startlinecolor": "#2a3f5f"
            },
            "type": "carpet"
           }
          ],
          "choropleth": [
           {
            "colorbar": {
             "outlinewidth": 0,
             "ticks": ""
            },
            "type": "choropleth"
           }
          ],
          "contour": [
           {
            "colorbar": {
             "outlinewidth": 0,
             "ticks": ""
            },
            "colorscale": [
             [
              0,
              "#0d0887"
             ],
             [
              0.1111111111111111,
              "#46039f"
             ],
             [
              0.2222222222222222,
              "#7201a8"
             ],
             [
              0.3333333333333333,
              "#9c179e"
             ],
             [
              0.4444444444444444,
              "#bd3786"
             ],
             [
              0.5555555555555556,
              "#d8576b"
             ],
             [
              0.6666666666666666,
              "#ed7953"
             ],
             [
              0.7777777777777778,
              "#fb9f3a"
             ],
             [
              0.8888888888888888,
              "#fdca26"
             ],
             [
              1,
              "#f0f921"
             ]
            ],
            "type": "contour"
           }
          ],
          "contourcarpet": [
           {
            "colorbar": {
             "outlinewidth": 0,
             "ticks": ""
            },
            "type": "contourcarpet"
           }
          ],
          "heatmap": [
           {
            "colorbar": {
             "outlinewidth": 0,
             "ticks": ""
            },
            "colorscale": [
             [
              0,
              "#0d0887"
             ],
             [
              0.1111111111111111,
              "#46039f"
             ],
             [
              0.2222222222222222,
              "#7201a8"
             ],
             [
              0.3333333333333333,
              "#9c179e"
             ],
             [
              0.4444444444444444,
              "#bd3786"
             ],
             [
              0.5555555555555556,
              "#d8576b"
             ],
             [
              0.6666666666666666,
              "#ed7953"
             ],
             [
              0.7777777777777778,
              "#fb9f3a"
             ],
             [
              0.8888888888888888,
              "#fdca26"
             ],
             [
              1,
              "#f0f921"
             ]
            ],
            "type": "heatmap"
           }
          ],
          "heatmapgl": [
           {
            "colorbar": {
             "outlinewidth": 0,
             "ticks": ""
            },
            "colorscale": [
             [
              0,
              "#0d0887"
             ],
             [
              0.1111111111111111,
              "#46039f"
             ],
             [
              0.2222222222222222,
              "#7201a8"
             ],
             [
              0.3333333333333333,
              "#9c179e"
             ],
             [
              0.4444444444444444,
              "#bd3786"
             ],
             [
              0.5555555555555556,
              "#d8576b"
             ],
             [
              0.6666666666666666,
              "#ed7953"
             ],
             [
              0.7777777777777778,
              "#fb9f3a"
             ],
             [
              0.8888888888888888,
              "#fdca26"
             ],
             [
              1,
              "#f0f921"
             ]
            ],
            "type": "heatmapgl"
           }
          ],
          "histogram": [
           {
            "marker": {
             "colorbar": {
              "outlinewidth": 0,
              "ticks": ""
             }
            },
            "type": "histogram"
           }
          ],
          "histogram2d": [
           {
            "colorbar": {
             "outlinewidth": 0,
             "ticks": ""
            },
            "colorscale": [
             [
              0,
              "#0d0887"
             ],
             [
              0.1111111111111111,
              "#46039f"
             ],
             [
              0.2222222222222222,
              "#7201a8"
             ],
             [
              0.3333333333333333,
              "#9c179e"
             ],
             [
              0.4444444444444444,
              "#bd3786"
             ],
             [
              0.5555555555555556,
              "#d8576b"
             ],
             [
              0.6666666666666666,
              "#ed7953"
             ],
             [
              0.7777777777777778,
              "#fb9f3a"
             ],
             [
              0.8888888888888888,
              "#fdca26"
             ],
             [
              1,
              "#f0f921"
             ]
            ],
            "type": "histogram2d"
           }
          ],
          "histogram2dcontour": [
           {
            "colorbar": {
             "outlinewidth": 0,
             "ticks": ""
            },
            "colorscale": [
             [
              0,
              "#0d0887"
             ],
             [
              0.1111111111111111,
              "#46039f"
             ],
             [
              0.2222222222222222,
              "#7201a8"
             ],
             [
              0.3333333333333333,
              "#9c179e"
             ],
             [
              0.4444444444444444,
              "#bd3786"
             ],
             [
              0.5555555555555556,
              "#d8576b"
             ],
             [
              0.6666666666666666,
              "#ed7953"
             ],
             [
              0.7777777777777778,
              "#fb9f3a"
             ],
             [
              0.8888888888888888,
              "#fdca26"
             ],
             [
              1,
              "#f0f921"
             ]
            ],
            "type": "histogram2dcontour"
           }
          ],
          "mesh3d": [
           {
            "colorbar": {
             "outlinewidth": 0,
             "ticks": ""
            },
            "type": "mesh3d"
           }
          ],
          "parcoords": [
           {
            "line": {
             "colorbar": {
              "outlinewidth": 0,
              "ticks": ""
             }
            },
            "type": "parcoords"
           }
          ],
          "pie": [
           {
            "automargin": true,
            "type": "pie"
           }
          ],
          "scatter": [
           {
            "marker": {
             "colorbar": {
              "outlinewidth": 0,
              "ticks": ""
             }
            },
            "type": "scatter"
           }
          ],
          "scatter3d": [
           {
            "line": {
             "colorbar": {
              "outlinewidth": 0,
              "ticks": ""
             }
            },
            "marker": {
             "colorbar": {
              "outlinewidth": 0,
              "ticks": ""
             }
            },
            "type": "scatter3d"
           }
          ],
          "scattercarpet": [
           {
            "marker": {
             "colorbar": {
              "outlinewidth": 0,
              "ticks": ""
             }
            },
            "type": "scattercarpet"
           }
          ],
          "scattergeo": [
           {
            "marker": {
             "colorbar": {
              "outlinewidth": 0,
              "ticks": ""
             }
            },
            "type": "scattergeo"
           }
          ],
          "scattergl": [
           {
            "marker": {
             "colorbar": {
              "outlinewidth": 0,
              "ticks": ""
             }
            },
            "type": "scattergl"
           }
          ],
          "scattermapbox": [
           {
            "marker": {
             "colorbar": {
              "outlinewidth": 0,
              "ticks": ""
             }
            },
            "type": "scattermapbox"
           }
          ],
          "scatterpolar": [
           {
            "marker": {
             "colorbar": {
              "outlinewidth": 0,
              "ticks": ""
             }
            },
            "type": "scatterpolar"
           }
          ],
          "scatterpolargl": [
           {
            "marker": {
             "colorbar": {
              "outlinewidth": 0,
              "ticks": ""
             }
            },
            "type": "scatterpolargl"
           }
          ],
          "scatterternary": [
           {
            "marker": {
             "colorbar": {
              "outlinewidth": 0,
              "ticks": ""
             }
            },
            "type": "scatterternary"
           }
          ],
          "surface": [
           {
            "colorbar": {
             "outlinewidth": 0,
             "ticks": ""
            },
            "colorscale": [
             [
              0,
              "#0d0887"
             ],
             [
              0.1111111111111111,
              "#46039f"
             ],
             [
              0.2222222222222222,
              "#7201a8"
             ],
             [
              0.3333333333333333,
              "#9c179e"
             ],
             [
              0.4444444444444444,
              "#bd3786"
             ],
             [
              0.5555555555555556,
              "#d8576b"
             ],
             [
              0.6666666666666666,
              "#ed7953"
             ],
             [
              0.7777777777777778,
              "#fb9f3a"
             ],
             [
              0.8888888888888888,
              "#fdca26"
             ],
             [
              1,
              "#f0f921"
             ]
            ],
            "type": "surface"
           }
          ],
          "table": [
           {
            "cells": {
             "fill": {
              "color": "#EBF0F8"
             },
             "line": {
              "color": "white"
             }
            },
            "header": {
             "fill": {
              "color": "#C8D4E3"
             },
             "line": {
              "color": "white"
             }
            },
            "type": "table"
           }
          ]
         },
         "layout": {
          "annotationdefaults": {
           "arrowcolor": "#2a3f5f",
           "arrowhead": 0,
           "arrowwidth": 1
          },
          "autotypenumbers": "strict",
          "coloraxis": {
           "colorbar": {
            "outlinewidth": 0,
            "ticks": ""
           }
          },
          "colorscale": {
           "diverging": [
            [
             0,
             "#8e0152"
            ],
            [
             0.1,
             "#c51b7d"
            ],
            [
             0.2,
             "#de77ae"
            ],
            [
             0.3,
             "#f1b6da"
            ],
            [
             0.4,
             "#fde0ef"
            ],
            [
             0.5,
             "#f7f7f7"
            ],
            [
             0.6,
             "#e6f5d0"
            ],
            [
             0.7,
             "#b8e186"
            ],
            [
             0.8,
             "#7fbc41"
            ],
            [
             0.9,
             "#4d9221"
            ],
            [
             1,
             "#276419"
            ]
           ],
           "sequential": [
            [
             0,
             "#0d0887"
            ],
            [
             0.1111111111111111,
             "#46039f"
            ],
            [
             0.2222222222222222,
             "#7201a8"
            ],
            [
             0.3333333333333333,
             "#9c179e"
            ],
            [
             0.4444444444444444,
             "#bd3786"
            ],
            [
             0.5555555555555556,
             "#d8576b"
            ],
            [
             0.6666666666666666,
             "#ed7953"
            ],
            [
             0.7777777777777778,
             "#fb9f3a"
            ],
            [
             0.8888888888888888,
             "#fdca26"
            ],
            [
             1,
             "#f0f921"
            ]
           ],
           "sequentialminus": [
            [
             0,
             "#0d0887"
            ],
            [
             0.1111111111111111,
             "#46039f"
            ],
            [
             0.2222222222222222,
             "#7201a8"
            ],
            [
             0.3333333333333333,
             "#9c179e"
            ],
            [
             0.4444444444444444,
             "#bd3786"
            ],
            [
             0.5555555555555556,
             "#d8576b"
            ],
            [
             0.6666666666666666,
             "#ed7953"
            ],
            [
             0.7777777777777778,
             "#fb9f3a"
            ],
            [
             0.8888888888888888,
             "#fdca26"
            ],
            [
             1,
             "#f0f921"
            ]
           ]
          },
          "colorway": [
           "#636efa",
           "#EF553B",
           "#00cc96",
           "#ab63fa",
           "#FFA15A",
           "#19d3f3",
           "#FF6692",
           "#B6E880",
           "#FF97FF",
           "#FECB52"
          ],
          "font": {
           "color": "#2a3f5f"
          },
          "geo": {
           "bgcolor": "white",
           "lakecolor": "white",
           "landcolor": "#E5ECF6",
           "showlakes": true,
           "showland": true,
           "subunitcolor": "white"
          },
          "hoverlabel": {
           "align": "left"
          },
          "hovermode": "closest",
          "mapbox": {
           "style": "light"
          },
          "paper_bgcolor": "white",
          "plot_bgcolor": "#E5ECF6",
          "polar": {
           "angularaxis": {
            "gridcolor": "white",
            "linecolor": "white",
            "ticks": ""
           },
           "bgcolor": "#E5ECF6",
           "radialaxis": {
            "gridcolor": "white",
            "linecolor": "white",
            "ticks": ""
           }
          },
          "scene": {
           "xaxis": {
            "backgroundcolor": "#E5ECF6",
            "gridcolor": "white",
            "gridwidth": 2,
            "linecolor": "white",
            "showbackground": true,
            "ticks": "",
            "zerolinecolor": "white"
           },
           "yaxis": {
            "backgroundcolor": "#E5ECF6",
            "gridcolor": "white",
            "gridwidth": 2,
            "linecolor": "white",
            "showbackground": true,
            "ticks": "",
            "zerolinecolor": "white"
           },
           "zaxis": {
            "backgroundcolor": "#E5ECF6",
            "gridcolor": "white",
            "gridwidth": 2,
            "linecolor": "white",
            "showbackground": true,
            "ticks": "",
            "zerolinecolor": "white"
           }
          },
          "shapedefaults": {
           "line": {
            "color": "#2a3f5f"
           }
          },
          "ternary": {
           "aaxis": {
            "gridcolor": "white",
            "linecolor": "white",
            "ticks": ""
           },
           "baxis": {
            "gridcolor": "white",
            "linecolor": "white",
            "ticks": ""
           },
           "bgcolor": "#E5ECF6",
           "caxis": {
            "gridcolor": "white",
            "linecolor": "white",
            "ticks": ""
           }
          },
          "title": {
           "x": 0.05
          },
          "xaxis": {
           "automargin": true,
           "gridcolor": "white",
           "linecolor": "white",
           "ticks": "",
           "title": {
            "standoff": 15
           },
           "zerolinecolor": "white",
           "zerolinewidth": 2
          },
          "yaxis": {
           "automargin": true,
           "gridcolor": "white",
           "linecolor": "white",
           "ticks": "",
           "title": {
            "standoff": 15
           },
           "zerolinecolor": "white",
           "zerolinewidth": 2
          }
         }
        },
        "title": {
         "text": "IBUPROFEN"
        }
       }
      }
     },
     "metadata": {}
    }
   ],
   "source": [
    "ibuprofen_all = top20tab[\"M01AE01\"].sort_values(by='Počet_balení', ascending=False)\n",
    "\n",
    "for i,popis in enumerate(ibuprofen_all['LIEK_popis']):\n",
    "    if 'IBALGIN' in popis:\n",
    "        ibuprofen_all.iloc[i,4] = 'IBALGIN'\n",
    "    elif 'Ibalgin' in popis:\n",
    "        ibuprofen_all.iloc[i,4] = 'IBALGIN'\n",
    "    elif 'BRUFEN' in popis:\n",
    "        ibuprofen_all.iloc[i,4] = 'BRUFEN'\n",
    "    elif 'Brufen' in popis:\n",
    "        ibuprofen_all.iloc[i,4] = 'BRUFEN'\n",
    "    elif 'NUROFEN' in popis:\n",
    "        ibuprofen_all.iloc[i,4] = 'NUROFEN'\n",
    "    elif 'Nurofen' in popis:\n",
    "        ibuprofen_all.iloc[i,4] = 'NUROFEN'\n",
    "    elif 'MIG' in popis:\n",
    "        ibuprofen_all.iloc[i,4] = 'MIG'\n",
    "    else:\n",
    "        ibuprofen_all.iloc[i,4] = 'INÉ'\n",
    "ibuprofen_all = ibuprofen_all.groupby(['LIEK_popis','STAT_popis']).sum().reset_index()\n",
    "display(ibuprofen_all)\n",
    "fig = px.pie(ibuprofen_all, values='Počet_balení', names='LIEK_popis', title='IBUPROFEN')\n",
    "fig.show()\n",
    "# Medzi ine su zaradene lieky s poctom baleni pod 100 000"
   ]
  },
  {
   "cell_type": "code",
   "execution_count": 71,
   "metadata": {},
   "outputs": [
    {
     "output_type": "display_data",
     "data": {
      "application/vnd.plotly.v1+json": {
       "config": {
        "plotlyServerURL": "https://plot.ly"
       },
       "data": [
        {
         "alignmentgroup": "True",
         "hovertemplate": "STAT_popis=Francúzsko<br>LIEK_popis=%{x}<br>Počet_balení=%{y}<extra></extra>",
         "legendgroup": "Francúzsko",
         "marker": {
          "color": "#636efa"
         },
         "name": "Francúzsko",
         "offsetgroup": "Francúzsko",
         "orientation": "v",
         "showlegend": true,
         "textposition": "auto",
         "type": "bar",
         "x": [
          "BRUFEN",
          "NUROFEN"
         ],
         "xaxis": "x",
         "y": [
          312661.631,
          6
         ],
         "yaxis": "y"
        },
        {
         "alignmentgroup": "True",
         "hovertemplate": "STAT_popis=Slovensko<br>LIEK_popis=%{x}<br>Počet_balení=%{y}<extra></extra>",
         "legendgroup": "Slovensko",
         "marker": {
          "color": "#EF553B"
         },
         "name": "Slovensko",
         "offsetgroup": "Slovensko",
         "orientation": "v",
         "showlegend": true,
         "textposition": "auto",
         "type": "bar",
         "x": [
          "IBALGIN"
         ],
         "xaxis": "x",
         "y": [
          1324939.472
         ],
         "yaxis": "y"
        },
        {
         "alignmentgroup": "True",
         "hovertemplate": "STAT_popis=Fínsko<br>LIEK_popis=%{x}<br>Počet_balení=%{y}<extra></extra>",
         "legendgroup": "Fínsko",
         "marker": {
          "color": "#00cc96"
         },
         "name": "Fínsko",
         "offsetgroup": "Fínsko",
         "orientation": "v",
         "showlegend": true,
         "textposition": "auto",
         "type": "bar",
         "x": [
          "INÉ"
         ],
         "xaxis": "x",
         "y": [
          16234.534
         ],
         "yaxis": "y"
        },
        {
         "alignmentgroup": "True",
         "hovertemplate": "STAT_popis=Holandsko<br>LIEK_popis=%{x}<br>Počet_balení=%{y}<extra></extra>",
         "legendgroup": "Holandsko",
         "marker": {
          "color": "#ab63fa"
         },
         "name": "Holandsko",
         "offsetgroup": "Holandsko",
         "orientation": "v",
         "showlegend": true,
         "textposition": "auto",
         "type": "bar",
         "x": [
          "INÉ"
         ],
         "xaxis": "x",
         "y": [
          5
         ],
         "yaxis": "y"
        },
        {
         "alignmentgroup": "True",
         "hovertemplate": "STAT_popis=Nemecko<br>LIEK_popis=%{x}<br>Počet_balení=%{y}<extra></extra>",
         "legendgroup": "Nemecko",
         "marker": {
          "color": "#FFA15A"
         },
         "name": "Nemecko",
         "offsetgroup": "Nemecko",
         "orientation": "v",
         "showlegend": true,
         "textposition": "auto",
         "type": "bar",
         "x": [
          "INÉ",
          "MIG"
         ],
         "xaxis": "x",
         "y": [
          100127.65999999997,
          247223.123
         ],
         "yaxis": "y"
        },
        {
         "alignmentgroup": "True",
         "hovertemplate": "STAT_popis=Rakúsko<br>LIEK_popis=%{x}<br>Počet_balení=%{y}<extra></extra>",
         "legendgroup": "Rakúsko",
         "marker": {
          "color": "#19d3f3"
         },
         "name": "Rakúsko",
         "offsetgroup": "Rakúsko",
         "orientation": "v",
         "showlegend": true,
         "textposition": "auto",
         "type": "bar",
         "x": [
          "INÉ"
         ],
         "xaxis": "x",
         "y": [
          288
         ],
         "yaxis": "y"
        },
        {
         "alignmentgroup": "True",
         "hovertemplate": "STAT_popis=Spojené kráľovstvo<br>LIEK_popis=%{x}<br>Počet_balení=%{y}<extra></extra>",
         "legendgroup": "Spojené kráľovstvo",
         "marker": {
          "color": "#FF6692"
         },
         "name": "Spojené kráľovstvo",
         "offsetgroup": "Spojené kráľovstvo",
         "orientation": "v",
         "showlegend": true,
         "textposition": "auto",
         "type": "bar",
         "x": [
          "INÉ",
          "NUROFEN"
         ],
         "xaxis": "x",
         "y": [
          35,
          507
         ],
         "yaxis": "y"
        },
        {
         "alignmentgroup": "True",
         "hovertemplate": "STAT_popis=ĺrsko<br>LIEK_popis=%{x}<br>Počet_balení=%{y}<extra></extra>",
         "legendgroup": "ĺrsko",
         "marker": {
          "color": "#B6E880"
         },
         "name": "ĺrsko",
         "offsetgroup": "ĺrsko",
         "orientation": "v",
         "showlegend": true,
         "textposition": "auto",
         "type": "bar",
         "x": [
          "INÉ"
         ],
         "xaxis": "x",
         "y": [
          896.9
         ],
         "yaxis": "y"
        },
        {
         "alignmentgroup": "True",
         "hovertemplate": "STAT_popis=Česko<br>LIEK_popis=%{x}<br>Počet_balení=%{y}<extra></extra>",
         "legendgroup": "Česko",
         "marker": {
          "color": "#FF97FF"
         },
         "name": "Česko",
         "offsetgroup": "Česko",
         "orientation": "v",
         "showlegend": true,
         "textposition": "auto",
         "type": "bar",
         "x": [
          "NUROFEN"
         ],
         "xaxis": "x",
         "y": [
          793022.3970000001
         ],
         "yaxis": "y"
        }
       ],
       "layout": {
        "barmode": "relative",
        "legend": {
         "title": {
          "text": "STAT_popis"
         },
         "tracegroupgap": 0
        },
        "template": {
         "data": {
          "bar": [
           {
            "error_x": {
             "color": "#2a3f5f"
            },
            "error_y": {
             "color": "#2a3f5f"
            },
            "marker": {
             "line": {
              "color": "#E5ECF6",
              "width": 0.5
             }
            },
            "type": "bar"
           }
          ],
          "barpolar": [
           {
            "marker": {
             "line": {
              "color": "#E5ECF6",
              "width": 0.5
             }
            },
            "type": "barpolar"
           }
          ],
          "carpet": [
           {
            "aaxis": {
             "endlinecolor": "#2a3f5f",
             "gridcolor": "white",
             "linecolor": "white",
             "minorgridcolor": "white",
             "startlinecolor": "#2a3f5f"
            },
            "baxis": {
             "endlinecolor": "#2a3f5f",
             "gridcolor": "white",
             "linecolor": "white",
             "minorgridcolor": "white",
             "startlinecolor": "#2a3f5f"
            },
            "type": "carpet"
           }
          ],
          "choropleth": [
           {
            "colorbar": {
             "outlinewidth": 0,
             "ticks": ""
            },
            "type": "choropleth"
           }
          ],
          "contour": [
           {
            "colorbar": {
             "outlinewidth": 0,
             "ticks": ""
            },
            "colorscale": [
             [
              0,
              "#0d0887"
             ],
             [
              0.1111111111111111,
              "#46039f"
             ],
             [
              0.2222222222222222,
              "#7201a8"
             ],
             [
              0.3333333333333333,
              "#9c179e"
             ],
             [
              0.4444444444444444,
              "#bd3786"
             ],
             [
              0.5555555555555556,
              "#d8576b"
             ],
             [
              0.6666666666666666,
              "#ed7953"
             ],
             [
              0.7777777777777778,
              "#fb9f3a"
             ],
             [
              0.8888888888888888,
              "#fdca26"
             ],
             [
              1,
              "#f0f921"
             ]
            ],
            "type": "contour"
           }
          ],
          "contourcarpet": [
           {
            "colorbar": {
             "outlinewidth": 0,
             "ticks": ""
            },
            "type": "contourcarpet"
           }
          ],
          "heatmap": [
           {
            "colorbar": {
             "outlinewidth": 0,
             "ticks": ""
            },
            "colorscale": [
             [
              0,
              "#0d0887"
             ],
             [
              0.1111111111111111,
              "#46039f"
             ],
             [
              0.2222222222222222,
              "#7201a8"
             ],
             [
              0.3333333333333333,
              "#9c179e"
             ],
             [
              0.4444444444444444,
              "#bd3786"
             ],
             [
              0.5555555555555556,
              "#d8576b"
             ],
             [
              0.6666666666666666,
              "#ed7953"
             ],
             [
              0.7777777777777778,
              "#fb9f3a"
             ],
             [
              0.8888888888888888,
              "#fdca26"
             ],
             [
              1,
              "#f0f921"
             ]
            ],
            "type": "heatmap"
           }
          ],
          "heatmapgl": [
           {
            "colorbar": {
             "outlinewidth": 0,
             "ticks": ""
            },
            "colorscale": [
             [
              0,
              "#0d0887"
             ],
             [
              0.1111111111111111,
              "#46039f"
             ],
             [
              0.2222222222222222,
              "#7201a8"
             ],
             [
              0.3333333333333333,
              "#9c179e"
             ],
             [
              0.4444444444444444,
              "#bd3786"
             ],
             [
              0.5555555555555556,
              "#d8576b"
             ],
             [
              0.6666666666666666,
              "#ed7953"
             ],
             [
              0.7777777777777778,
              "#fb9f3a"
             ],
             [
              0.8888888888888888,
              "#fdca26"
             ],
             [
              1,
              "#f0f921"
             ]
            ],
            "type": "heatmapgl"
           }
          ],
          "histogram": [
           {
            "marker": {
             "colorbar": {
              "outlinewidth": 0,
              "ticks": ""
             }
            },
            "type": "histogram"
           }
          ],
          "histogram2d": [
           {
            "colorbar": {
             "outlinewidth": 0,
             "ticks": ""
            },
            "colorscale": [
             [
              0,
              "#0d0887"
             ],
             [
              0.1111111111111111,
              "#46039f"
             ],
             [
              0.2222222222222222,
              "#7201a8"
             ],
             [
              0.3333333333333333,
              "#9c179e"
             ],
             [
              0.4444444444444444,
              "#bd3786"
             ],
             [
              0.5555555555555556,
              "#d8576b"
             ],
             [
              0.6666666666666666,
              "#ed7953"
             ],
             [
              0.7777777777777778,
              "#fb9f3a"
             ],
             [
              0.8888888888888888,
              "#fdca26"
             ],
             [
              1,
              "#f0f921"
             ]
            ],
            "type": "histogram2d"
           }
          ],
          "histogram2dcontour": [
           {
            "colorbar": {
             "outlinewidth": 0,
             "ticks": ""
            },
            "colorscale": [
             [
              0,
              "#0d0887"
             ],
             [
              0.1111111111111111,
              "#46039f"
             ],
             [
              0.2222222222222222,
              "#7201a8"
             ],
             [
              0.3333333333333333,
              "#9c179e"
             ],
             [
              0.4444444444444444,
              "#bd3786"
             ],
             [
              0.5555555555555556,
              "#d8576b"
             ],
             [
              0.6666666666666666,
              "#ed7953"
             ],
             [
              0.7777777777777778,
              "#fb9f3a"
             ],
             [
              0.8888888888888888,
              "#fdca26"
             ],
             [
              1,
              "#f0f921"
             ]
            ],
            "type": "histogram2dcontour"
           }
          ],
          "mesh3d": [
           {
            "colorbar": {
             "outlinewidth": 0,
             "ticks": ""
            },
            "type": "mesh3d"
           }
          ],
          "parcoords": [
           {
            "line": {
             "colorbar": {
              "outlinewidth": 0,
              "ticks": ""
             }
            },
            "type": "parcoords"
           }
          ],
          "pie": [
           {
            "automargin": true,
            "type": "pie"
           }
          ],
          "scatter": [
           {
            "marker": {
             "colorbar": {
              "outlinewidth": 0,
              "ticks": ""
             }
            },
            "type": "scatter"
           }
          ],
          "scatter3d": [
           {
            "line": {
             "colorbar": {
              "outlinewidth": 0,
              "ticks": ""
             }
            },
            "marker": {
             "colorbar": {
              "outlinewidth": 0,
              "ticks": ""
             }
            },
            "type": "scatter3d"
           }
          ],
          "scattercarpet": [
           {
            "marker": {
             "colorbar": {
              "outlinewidth": 0,
              "ticks": ""
             }
            },
            "type": "scattercarpet"
           }
          ],
          "scattergeo": [
           {
            "marker": {
             "colorbar": {
              "outlinewidth": 0,
              "ticks": ""
             }
            },
            "type": "scattergeo"
           }
          ],
          "scattergl": [
           {
            "marker": {
             "colorbar": {
              "outlinewidth": 0,
              "ticks": ""
             }
            },
            "type": "scattergl"
           }
          ],
          "scattermapbox": [
           {
            "marker": {
             "colorbar": {
              "outlinewidth": 0,
              "ticks": ""
             }
            },
            "type": "scattermapbox"
           }
          ],
          "scatterpolar": [
           {
            "marker": {
             "colorbar": {
              "outlinewidth": 0,
              "ticks": ""
             }
            },
            "type": "scatterpolar"
           }
          ],
          "scatterpolargl": [
           {
            "marker": {
             "colorbar": {
              "outlinewidth": 0,
              "ticks": ""
             }
            },
            "type": "scatterpolargl"
           }
          ],
          "scatterternary": [
           {
            "marker": {
             "colorbar": {
              "outlinewidth": 0,
              "ticks": ""
             }
            },
            "type": "scatterternary"
           }
          ],
          "surface": [
           {
            "colorbar": {
             "outlinewidth": 0,
             "ticks": ""
            },
            "colorscale": [
             [
              0,
              "#0d0887"
             ],
             [
              0.1111111111111111,
              "#46039f"
             ],
             [
              0.2222222222222222,
              "#7201a8"
             ],
             [
              0.3333333333333333,
              "#9c179e"
             ],
             [
              0.4444444444444444,
              "#bd3786"
             ],
             [
              0.5555555555555556,
              "#d8576b"
             ],
             [
              0.6666666666666666,
              "#ed7953"
             ],
             [
              0.7777777777777778,
              "#fb9f3a"
             ],
             [
              0.8888888888888888,
              "#fdca26"
             ],
             [
              1,
              "#f0f921"
             ]
            ],
            "type": "surface"
           }
          ],
          "table": [
           {
            "cells": {
             "fill": {
              "color": "#EBF0F8"
             },
             "line": {
              "color": "white"
             }
            },
            "header": {
             "fill": {
              "color": "#C8D4E3"
             },
             "line": {
              "color": "white"
             }
            },
            "type": "table"
           }
          ]
         },
         "layout": {
          "annotationdefaults": {
           "arrowcolor": "#2a3f5f",
           "arrowhead": 0,
           "arrowwidth": 1
          },
          "autotypenumbers": "strict",
          "coloraxis": {
           "colorbar": {
            "outlinewidth": 0,
            "ticks": ""
           }
          },
          "colorscale": {
           "diverging": [
            [
             0,
             "#8e0152"
            ],
            [
             0.1,
             "#c51b7d"
            ],
            [
             0.2,
             "#de77ae"
            ],
            [
             0.3,
             "#f1b6da"
            ],
            [
             0.4,
             "#fde0ef"
            ],
            [
             0.5,
             "#f7f7f7"
            ],
            [
             0.6,
             "#e6f5d0"
            ],
            [
             0.7,
             "#b8e186"
            ],
            [
             0.8,
             "#7fbc41"
            ],
            [
             0.9,
             "#4d9221"
            ],
            [
             1,
             "#276419"
            ]
           ],
           "sequential": [
            [
             0,
             "#0d0887"
            ],
            [
             0.1111111111111111,
             "#46039f"
            ],
            [
             0.2222222222222222,
             "#7201a8"
            ],
            [
             0.3333333333333333,
             "#9c179e"
            ],
            [
             0.4444444444444444,
             "#bd3786"
            ],
            [
             0.5555555555555556,
             "#d8576b"
            ],
            [
             0.6666666666666666,
             "#ed7953"
            ],
            [
             0.7777777777777778,
             "#fb9f3a"
            ],
            [
             0.8888888888888888,
             "#fdca26"
            ],
            [
             1,
             "#f0f921"
            ]
           ],
           "sequentialminus": [
            [
             0,
             "#0d0887"
            ],
            [
             0.1111111111111111,
             "#46039f"
            ],
            [
             0.2222222222222222,
             "#7201a8"
            ],
            [
             0.3333333333333333,
             "#9c179e"
            ],
            [
             0.4444444444444444,
             "#bd3786"
            ],
            [
             0.5555555555555556,
             "#d8576b"
            ],
            [
             0.6666666666666666,
             "#ed7953"
            ],
            [
             0.7777777777777778,
             "#fb9f3a"
            ],
            [
             0.8888888888888888,
             "#fdca26"
            ],
            [
             1,
             "#f0f921"
            ]
           ]
          },
          "colorway": [
           "#636efa",
           "#EF553B",
           "#00cc96",
           "#ab63fa",
           "#FFA15A",
           "#19d3f3",
           "#FF6692",
           "#B6E880",
           "#FF97FF",
           "#FECB52"
          ],
          "font": {
           "color": "#2a3f5f"
          },
          "geo": {
           "bgcolor": "white",
           "lakecolor": "white",
           "landcolor": "#E5ECF6",
           "showlakes": true,
           "showland": true,
           "subunitcolor": "white"
          },
          "hoverlabel": {
           "align": "left"
          },
          "hovermode": "closest",
          "mapbox": {
           "style": "light"
          },
          "paper_bgcolor": "white",
          "plot_bgcolor": "#E5ECF6",
          "polar": {
           "angularaxis": {
            "gridcolor": "white",
            "linecolor": "white",
            "ticks": ""
           },
           "bgcolor": "#E5ECF6",
           "radialaxis": {
            "gridcolor": "white",
            "linecolor": "white",
            "ticks": ""
           }
          },
          "scene": {
           "xaxis": {
            "backgroundcolor": "#E5ECF6",
            "gridcolor": "white",
            "gridwidth": 2,
            "linecolor": "white",
            "showbackground": true,
            "ticks": "",
            "zerolinecolor": "white"
           },
           "yaxis": {
            "backgroundcolor": "#E5ECF6",
            "gridcolor": "white",
            "gridwidth": 2,
            "linecolor": "white",
            "showbackground": true,
            "ticks": "",
            "zerolinecolor": "white"
           },
           "zaxis": {
            "backgroundcolor": "#E5ECF6",
            "gridcolor": "white",
            "gridwidth": 2,
            "linecolor": "white",
            "showbackground": true,
            "ticks": "",
            "zerolinecolor": "white"
           }
          },
          "shapedefaults": {
           "line": {
            "color": "#2a3f5f"
           }
          },
          "ternary": {
           "aaxis": {
            "gridcolor": "white",
            "linecolor": "white",
            "ticks": ""
           },
           "baxis": {
            "gridcolor": "white",
            "linecolor": "white",
            "ticks": ""
           },
           "bgcolor": "#E5ECF6",
           "caxis": {
            "gridcolor": "white",
            "linecolor": "white",
            "ticks": ""
           }
          },
          "title": {
           "x": 0.05
          },
          "xaxis": {
           "automargin": true,
           "gridcolor": "white",
           "linecolor": "white",
           "ticks": "",
           "title": {
            "standoff": 15
           },
           "zerolinecolor": "white",
           "zerolinewidth": 2
          },
          "yaxis": {
           "automargin": true,
           "gridcolor": "white",
           "linecolor": "white",
           "ticks": "",
           "title": {
            "standoff": 15
           },
           "zerolinecolor": "white",
           "zerolinewidth": 2
          }
         }
        },
        "title": {
         "text": "IBUPROFEN"
        },
        "xaxis": {
         "anchor": "y",
         "domain": [
          0,
          1
         ],
         "title": {
          "text": "LIEK_popis"
         }
        },
        "yaxis": {
         "anchor": "x",
         "domain": [
          0,
          1
         ],
         "title": {
          "text": "Počet_balení"
         }
        }
       }
      }
     },
     "metadata": {}
    }
   ],
   "source": [
    "fig = px.bar(ibuprofen_all, y='Počet_balení', x='LIEK_popis', title='IBUPROFEN', color='STAT_popis')\n",
    "fig.show()"
   ]
  },
  {
   "source": [
    "Z grafu vidime, ze najpredavanejsi liek s ibuprofenom je slovensky Ibalgin 400. Z ceskych liekov bol najpredavanejsi Nurofen pre deti. To, ze bol druhy najpredavanejsi je mozno sposobene tym ze je prave pre deti. "
   ],
   "cell_type": "markdown",
   "metadata": {}
  },
  {
   "source": [
    "# 5. Bisoprolol"
   ],
   "cell_type": "markdown",
   "metadata": {}
  },
  {
   "cell_type": "code",
   "execution_count": 23,
   "metadata": {},
   "outputs": [
    {
     "output_type": "display_data",
     "data": {
      "text/plain": "               LIEK_popis          STAT_popis  \\\n0                BISOBELA           Slovensko   \n1                BISOCARD               Česko   \n2               BISOGAMMA             Nemecko   \n3               BISOMERCK           Slovensko   \n4   BISOPROLOL-ratiopharm             Nemecko   \n5                 BIVAXOL               Česko   \n6       Bisoprolol Pfizer  Spojené kráľovstvo   \n7       Bisoprolol Sandoz           Slovinsko   \n8              Bisprotin               Fínsko   \n9                  CONCOR           Slovensko   \n10             CONCOR COR           Slovensko   \n11                CORONAL           Slovensko   \n12                RIVOCOR               Česko   \n13                Sobycor           Slovinsko   \n\n                         VYROBCA_popis  index  Počet_balení  Úhrada_PAC  \n0                       BELUPO, s.r.o.   5957      7197.330    16626.62  \n1   PharmaSwiss Česká republika s.r.o.   7954    192394.600   151460.50  \n2          Wörwag Pharma GmbH & Co.KG    1979         2.000        6.34  \n3                   Merck spol. s.r.o.   4009    122739.500   174809.80  \n4                      ratiopharm GmbH   3949    390962.830    86444.66  \n5          IVAX Pharmaceuticals s.r.o.   1999         2.000        3.20  \n6                Pfizer Europe MA EEIG   3933       119.000       16.40  \n7          Sandoz Pharmaceuticals d.d.   3939     10493.660     2229.01  \n8                        Vitabalans Oy   9920      1965.900     1922.87  \n9                   Merck spol. s.r.o.   8006    920947.070  2677920.45  \n10                  Merck spol. s.r.o.   7884    284506.250   747989.61  \n11                           ZNT-SK-2?   5971    472688.870   237788.87  \n12               PRO.MED.CS Praha a.s.   3955     98766.500    89467.99  \n13               KRKA d.d., Novo mesto   9965    104587.032    82156.65  ",
      "text/html": "<div>\n<style scoped>\n    .dataframe tbody tr th:only-of-type {\n        vertical-align: middle;\n    }\n\n    .dataframe tbody tr th {\n        vertical-align: top;\n    }\n\n    .dataframe thead th {\n        text-align: right;\n    }\n</style>\n<table border=\"1\" class=\"dataframe\">\n  <thead>\n    <tr style=\"text-align: right;\">\n      <th></th>\n      <th>LIEK_popis</th>\n      <th>STAT_popis</th>\n      <th>VYROBCA_popis</th>\n      <th>index</th>\n      <th>Počet_balení</th>\n      <th>Úhrada_PAC</th>\n    </tr>\n  </thead>\n  <tbody>\n    <tr>\n      <th>0</th>\n      <td>BISOBELA</td>\n      <td>Slovensko</td>\n      <td>BELUPO, s.r.o.</td>\n      <td>5957</td>\n      <td>7197.330</td>\n      <td>16626.62</td>\n    </tr>\n    <tr>\n      <th>1</th>\n      <td>BISOCARD</td>\n      <td>Česko</td>\n      <td>PharmaSwiss Česká republika s.r.o.</td>\n      <td>7954</td>\n      <td>192394.600</td>\n      <td>151460.50</td>\n    </tr>\n    <tr>\n      <th>2</th>\n      <td>BISOGAMMA</td>\n      <td>Nemecko</td>\n      <td>Wörwag Pharma GmbH &amp; Co.KG</td>\n      <td>1979</td>\n      <td>2.000</td>\n      <td>6.34</td>\n    </tr>\n    <tr>\n      <th>3</th>\n      <td>BISOMERCK</td>\n      <td>Slovensko</td>\n      <td>Merck spol. s.r.o.</td>\n      <td>4009</td>\n      <td>122739.500</td>\n      <td>174809.80</td>\n    </tr>\n    <tr>\n      <th>4</th>\n      <td>BISOPROLOL-ratiopharm</td>\n      <td>Nemecko</td>\n      <td>ratiopharm GmbH</td>\n      <td>3949</td>\n      <td>390962.830</td>\n      <td>86444.66</td>\n    </tr>\n    <tr>\n      <th>5</th>\n      <td>BIVAXOL</td>\n      <td>Česko</td>\n      <td>IVAX Pharmaceuticals s.r.o.</td>\n      <td>1999</td>\n      <td>2.000</td>\n      <td>3.20</td>\n    </tr>\n    <tr>\n      <th>6</th>\n      <td>Bisoprolol Pfizer</td>\n      <td>Spojené kráľovstvo</td>\n      <td>Pfizer Europe MA EEIG</td>\n      <td>3933</td>\n      <td>119.000</td>\n      <td>16.40</td>\n    </tr>\n    <tr>\n      <th>7</th>\n      <td>Bisoprolol Sandoz</td>\n      <td>Slovinsko</td>\n      <td>Sandoz Pharmaceuticals d.d.</td>\n      <td>3939</td>\n      <td>10493.660</td>\n      <td>2229.01</td>\n    </tr>\n    <tr>\n      <th>8</th>\n      <td>Bisprotin</td>\n      <td>Fínsko</td>\n      <td>Vitabalans Oy</td>\n      <td>9920</td>\n      <td>1965.900</td>\n      <td>1922.87</td>\n    </tr>\n    <tr>\n      <th>9</th>\n      <td>CONCOR</td>\n      <td>Slovensko</td>\n      <td>Merck spol. s.r.o.</td>\n      <td>8006</td>\n      <td>920947.070</td>\n      <td>2677920.45</td>\n    </tr>\n    <tr>\n      <th>10</th>\n      <td>CONCOR COR</td>\n      <td>Slovensko</td>\n      <td>Merck spol. s.r.o.</td>\n      <td>7884</td>\n      <td>284506.250</td>\n      <td>747989.61</td>\n    </tr>\n    <tr>\n      <th>11</th>\n      <td>CORONAL</td>\n      <td>Slovensko</td>\n      <td>ZNT-SK-2?</td>\n      <td>5971</td>\n      <td>472688.870</td>\n      <td>237788.87</td>\n    </tr>\n    <tr>\n      <th>12</th>\n      <td>RIVOCOR</td>\n      <td>Česko</td>\n      <td>PRO.MED.CS Praha a.s.</td>\n      <td>3955</td>\n      <td>98766.500</td>\n      <td>89467.99</td>\n    </tr>\n    <tr>\n      <th>13</th>\n      <td>Sobycor</td>\n      <td>Slovinsko</td>\n      <td>KRKA d.d., Novo mesto</td>\n      <td>9965</td>\n      <td>104587.032</td>\n      <td>82156.65</td>\n    </tr>\n  </tbody>\n</table>\n</div>"
     },
     "metadata": {}
    }
   ],
   "source": [
    "bisoprolol = top20tab[\"C07AB07\"].sort_values(by='Počet_balení', ascending=False)\n",
    "\n",
    "for i,popis in enumerate(bisoprolol['LIEK_popis']):\n",
    "    if 'BISOBELA' in popis:\n",
    "        bisoprolol.iloc[i,4] = 'BISOBELA'\n",
    "    elif 'BISOCARD' in popis:\n",
    "        bisoprolol.iloc[i,4] = 'BISOCARD'\n",
    "    elif 'BISOGAMMA' in popis:\n",
    "        bisoprolol.iloc[i,4] = 'BISOGAMMA'\n",
    "    elif 'BISOMERCK' in popis:\n",
    "        bisoprolol.iloc[i,4] = 'BISOMERCK'\n",
    "    elif 'BISOPROLOL-ratiopharm' in popis:\n",
    "        bisoprolol.iloc[i,4] = 'BISOPROLOL-ratiopharm'\n",
    "    elif 'BIVAXOL' in popis:\n",
    "        bisoprolol.iloc[i,4] = 'BIVAXOL'\n",
    "    elif 'Bisoprolol Pfizer' in popis:\n",
    "        bisoprolol.iloc[i,4] = 'Bisoprolol Pfizer'\n",
    "    elif 'Bisoprolol Sandoz' in popis:\n",
    "        bisoprolol.iloc[i,4] = 'Bisoprolol Sandoz'\n",
    "    elif 'Bisprotin ' in popis:\n",
    "        bisoprolol.iloc[i,4] = 'Bisprotin '\n",
    "    elif 'CONCOR COR' in popis or 'Concor COR' in popis:\n",
    "        bisoprolol.iloc[i,4] = 'CONCOR COR'\n",
    "    elif 'CONCOR' in popis:\n",
    "        bisoprolol.iloc[i,4] = 'CONCOR'\n",
    "    elif 'CORONAL' in popis:\n",
    "        bisoprolol.iloc[i,4] = 'CORONAL'\n",
    "    elif 'RIVOCOR' in popis:\n",
    "        bisoprolol.iloc[i,4] = 'RIVOCOR'\n",
    "    elif 'Sobycor' in popis:\n",
    "        bisoprolol.iloc[i,4] = 'Sobycor'\n",
    "\n",
    "bisoprolol = bisoprolol.groupby(['LIEK_popis', 'STAT_popis', 'VYROBCA_popis']).sum().reset_index()\n",
    "display(bisoprolol)"
   ]
  },
  {
   "cell_type": "code",
   "execution_count": 24,
   "metadata": {},
   "outputs": [
    {
     "output_type": "display_data",
     "data": {
      "application/vnd.plotly.v1+json": {
       "config": {
        "plotlyServerURL": "https://plot.ly"
       },
       "data": [
        {
         "alignmentgroup": "True",
         "hovertemplate": "STAT_popis=Česko<br>LIEK_popis=%{x}<br>Počet_balení=%{y}<extra></extra>",
         "legendgroup": "Česko",
         "marker": {
          "color": "#636efa"
         },
         "name": "Česko",
         "offsetgroup": "Česko",
         "orientation": "v",
         "showlegend": true,
         "textposition": "auto",
         "type": "bar",
         "x": [
          "BISOCARD",
          "RIVOCOR"
         ],
         "xaxis": "x",
         "y": [
          192394.6,
          98766.5
         ],
         "yaxis": "y"
        },
        {
         "alignmentgroup": "True",
         "hovertemplate": "STAT_popis=Slovensko<br>LIEK_popis=%{x}<br>Počet_balení=%{y}<extra></extra>",
         "legendgroup": "Slovensko",
         "marker": {
          "color": "#EF553B"
         },
         "name": "Slovensko",
         "offsetgroup": "Slovensko",
         "orientation": "v",
         "showlegend": true,
         "textposition": "auto",
         "type": "bar",
         "x": [
          "BISOMERCK",
          "CONCOR",
          "CONCOR COR",
          "CORONAL"
         ],
         "xaxis": "x",
         "y": [
          122739.5,
          920947.0700000001,
          284506.25,
          472688.87
         ],
         "yaxis": "y"
        },
        {
         "alignmentgroup": "True",
         "hovertemplate": "STAT_popis=Nemecko<br>LIEK_popis=%{x}<br>Počet_balení=%{y}<extra></extra>",
         "legendgroup": "Nemecko",
         "marker": {
          "color": "#00cc96"
         },
         "name": "Nemecko",
         "offsetgroup": "Nemecko",
         "orientation": "v",
         "showlegend": true,
         "textposition": "auto",
         "type": "bar",
         "x": [
          "BISOPROLOL-ratiopharm"
         ],
         "xaxis": "x",
         "y": [
          390962.83
         ],
         "yaxis": "y"
        },
        {
         "alignmentgroup": "True",
         "hovertemplate": "STAT_popis=Slovinsko<br>LIEK_popis=%{x}<br>Počet_balení=%{y}<extra></extra>",
         "legendgroup": "Slovinsko",
         "marker": {
          "color": "#ab63fa"
         },
         "name": "Slovinsko",
         "offsetgroup": "Slovinsko",
         "orientation": "v",
         "showlegend": true,
         "textposition": "auto",
         "type": "bar",
         "x": [
          "Sobycor"
         ],
         "xaxis": "x",
         "y": [
          104587.032
         ],
         "yaxis": "y"
        }
       ],
       "layout": {
        "barmode": "relative",
        "legend": {
         "title": {
          "text": "STAT_popis"
         },
         "tracegroupgap": 0
        },
        "template": {
         "data": {
          "bar": [
           {
            "error_x": {
             "color": "#2a3f5f"
            },
            "error_y": {
             "color": "#2a3f5f"
            },
            "marker": {
             "line": {
              "color": "#E5ECF6",
              "width": 0.5
             }
            },
            "type": "bar"
           }
          ],
          "barpolar": [
           {
            "marker": {
             "line": {
              "color": "#E5ECF6",
              "width": 0.5
             }
            },
            "type": "barpolar"
           }
          ],
          "carpet": [
           {
            "aaxis": {
             "endlinecolor": "#2a3f5f",
             "gridcolor": "white",
             "linecolor": "white",
             "minorgridcolor": "white",
             "startlinecolor": "#2a3f5f"
            },
            "baxis": {
             "endlinecolor": "#2a3f5f",
             "gridcolor": "white",
             "linecolor": "white",
             "minorgridcolor": "white",
             "startlinecolor": "#2a3f5f"
            },
            "type": "carpet"
           }
          ],
          "choropleth": [
           {
            "colorbar": {
             "outlinewidth": 0,
             "ticks": ""
            },
            "type": "choropleth"
           }
          ],
          "contour": [
           {
            "colorbar": {
             "outlinewidth": 0,
             "ticks": ""
            },
            "colorscale": [
             [
              0,
              "#0d0887"
             ],
             [
              0.1111111111111111,
              "#46039f"
             ],
             [
              0.2222222222222222,
              "#7201a8"
             ],
             [
              0.3333333333333333,
              "#9c179e"
             ],
             [
              0.4444444444444444,
              "#bd3786"
             ],
             [
              0.5555555555555556,
              "#d8576b"
             ],
             [
              0.6666666666666666,
              "#ed7953"
             ],
             [
              0.7777777777777778,
              "#fb9f3a"
             ],
             [
              0.8888888888888888,
              "#fdca26"
             ],
             [
              1,
              "#f0f921"
             ]
            ],
            "type": "contour"
           }
          ],
          "contourcarpet": [
           {
            "colorbar": {
             "outlinewidth": 0,
             "ticks": ""
            },
            "type": "contourcarpet"
           }
          ],
          "heatmap": [
           {
            "colorbar": {
             "outlinewidth": 0,
             "ticks": ""
            },
            "colorscale": [
             [
              0,
              "#0d0887"
             ],
             [
              0.1111111111111111,
              "#46039f"
             ],
             [
              0.2222222222222222,
              "#7201a8"
             ],
             [
              0.3333333333333333,
              "#9c179e"
             ],
             [
              0.4444444444444444,
              "#bd3786"
             ],
             [
              0.5555555555555556,
              "#d8576b"
             ],
             [
              0.6666666666666666,
              "#ed7953"
             ],
             [
              0.7777777777777778,
              "#fb9f3a"
             ],
             [
              0.8888888888888888,
              "#fdca26"
             ],
             [
              1,
              "#f0f921"
             ]
            ],
            "type": "heatmap"
           }
          ],
          "heatmapgl": [
           {
            "colorbar": {
             "outlinewidth": 0,
             "ticks": ""
            },
            "colorscale": [
             [
              0,
              "#0d0887"
             ],
             [
              0.1111111111111111,
              "#46039f"
             ],
             [
              0.2222222222222222,
              "#7201a8"
             ],
             [
              0.3333333333333333,
              "#9c179e"
             ],
             [
              0.4444444444444444,
              "#bd3786"
             ],
             [
              0.5555555555555556,
              "#d8576b"
             ],
             [
              0.6666666666666666,
              "#ed7953"
             ],
             [
              0.7777777777777778,
              "#fb9f3a"
             ],
             [
              0.8888888888888888,
              "#fdca26"
             ],
             [
              1,
              "#f0f921"
             ]
            ],
            "type": "heatmapgl"
           }
          ],
          "histogram": [
           {
            "marker": {
             "colorbar": {
              "outlinewidth": 0,
              "ticks": ""
             }
            },
            "type": "histogram"
           }
          ],
          "histogram2d": [
           {
            "colorbar": {
             "outlinewidth": 0,
             "ticks": ""
            },
            "colorscale": [
             [
              0,
              "#0d0887"
             ],
             [
              0.1111111111111111,
              "#46039f"
             ],
             [
              0.2222222222222222,
              "#7201a8"
             ],
             [
              0.3333333333333333,
              "#9c179e"
             ],
             [
              0.4444444444444444,
              "#bd3786"
             ],
             [
              0.5555555555555556,
              "#d8576b"
             ],
             [
              0.6666666666666666,
              "#ed7953"
             ],
             [
              0.7777777777777778,
              "#fb9f3a"
             ],
             [
              0.8888888888888888,
              "#fdca26"
             ],
             [
              1,
              "#f0f921"
             ]
            ],
            "type": "histogram2d"
           }
          ],
          "histogram2dcontour": [
           {
            "colorbar": {
             "outlinewidth": 0,
             "ticks": ""
            },
            "colorscale": [
             [
              0,
              "#0d0887"
             ],
             [
              0.1111111111111111,
              "#46039f"
             ],
             [
              0.2222222222222222,
              "#7201a8"
             ],
             [
              0.3333333333333333,
              "#9c179e"
             ],
             [
              0.4444444444444444,
              "#bd3786"
             ],
             [
              0.5555555555555556,
              "#d8576b"
             ],
             [
              0.6666666666666666,
              "#ed7953"
             ],
             [
              0.7777777777777778,
              "#fb9f3a"
             ],
             [
              0.8888888888888888,
              "#fdca26"
             ],
             [
              1,
              "#f0f921"
             ]
            ],
            "type": "histogram2dcontour"
           }
          ],
          "mesh3d": [
           {
            "colorbar": {
             "outlinewidth": 0,
             "ticks": ""
            },
            "type": "mesh3d"
           }
          ],
          "parcoords": [
           {
            "line": {
             "colorbar": {
              "outlinewidth": 0,
              "ticks": ""
             }
            },
            "type": "parcoords"
           }
          ],
          "pie": [
           {
            "automargin": true,
            "type": "pie"
           }
          ],
          "scatter": [
           {
            "marker": {
             "colorbar": {
              "outlinewidth": 0,
              "ticks": ""
             }
            },
            "type": "scatter"
           }
          ],
          "scatter3d": [
           {
            "line": {
             "colorbar": {
              "outlinewidth": 0,
              "ticks": ""
             }
            },
            "marker": {
             "colorbar": {
              "outlinewidth": 0,
              "ticks": ""
             }
            },
            "type": "scatter3d"
           }
          ],
          "scattercarpet": [
           {
            "marker": {
             "colorbar": {
              "outlinewidth": 0,
              "ticks": ""
             }
            },
            "type": "scattercarpet"
           }
          ],
          "scattergeo": [
           {
            "marker": {
             "colorbar": {
              "outlinewidth": 0,
              "ticks": ""
             }
            },
            "type": "scattergeo"
           }
          ],
          "scattergl": [
           {
            "marker": {
             "colorbar": {
              "outlinewidth": 0,
              "ticks": ""
             }
            },
            "type": "scattergl"
           }
          ],
          "scattermapbox": [
           {
            "marker": {
             "colorbar": {
              "outlinewidth": 0,
              "ticks": ""
             }
            },
            "type": "scattermapbox"
           }
          ],
          "scatterpolar": [
           {
            "marker": {
             "colorbar": {
              "outlinewidth": 0,
              "ticks": ""
             }
            },
            "type": "scatterpolar"
           }
          ],
          "scatterpolargl": [
           {
            "marker": {
             "colorbar": {
              "outlinewidth": 0,
              "ticks": ""
             }
            },
            "type": "scatterpolargl"
           }
          ],
          "scatterternary": [
           {
            "marker": {
             "colorbar": {
              "outlinewidth": 0,
              "ticks": ""
             }
            },
            "type": "scatterternary"
           }
          ],
          "surface": [
           {
            "colorbar": {
             "outlinewidth": 0,
             "ticks": ""
            },
            "colorscale": [
             [
              0,
              "#0d0887"
             ],
             [
              0.1111111111111111,
              "#46039f"
             ],
             [
              0.2222222222222222,
              "#7201a8"
             ],
             [
              0.3333333333333333,
              "#9c179e"
             ],
             [
              0.4444444444444444,
              "#bd3786"
             ],
             [
              0.5555555555555556,
              "#d8576b"
             ],
             [
              0.6666666666666666,
              "#ed7953"
             ],
             [
              0.7777777777777778,
              "#fb9f3a"
             ],
             [
              0.8888888888888888,
              "#fdca26"
             ],
             [
              1,
              "#f0f921"
             ]
            ],
            "type": "surface"
           }
          ],
          "table": [
           {
            "cells": {
             "fill": {
              "color": "#EBF0F8"
             },
             "line": {
              "color": "white"
             }
            },
            "header": {
             "fill": {
              "color": "#C8D4E3"
             },
             "line": {
              "color": "white"
             }
            },
            "type": "table"
           }
          ]
         },
         "layout": {
          "annotationdefaults": {
           "arrowcolor": "#2a3f5f",
           "arrowhead": 0,
           "arrowwidth": 1
          },
          "autotypenumbers": "strict",
          "coloraxis": {
           "colorbar": {
            "outlinewidth": 0,
            "ticks": ""
           }
          },
          "colorscale": {
           "diverging": [
            [
             0,
             "#8e0152"
            ],
            [
             0.1,
             "#c51b7d"
            ],
            [
             0.2,
             "#de77ae"
            ],
            [
             0.3,
             "#f1b6da"
            ],
            [
             0.4,
             "#fde0ef"
            ],
            [
             0.5,
             "#f7f7f7"
            ],
            [
             0.6,
             "#e6f5d0"
            ],
            [
             0.7,
             "#b8e186"
            ],
            [
             0.8,
             "#7fbc41"
            ],
            [
             0.9,
             "#4d9221"
            ],
            [
             1,
             "#276419"
            ]
           ],
           "sequential": [
            [
             0,
             "#0d0887"
            ],
            [
             0.1111111111111111,
             "#46039f"
            ],
            [
             0.2222222222222222,
             "#7201a8"
            ],
            [
             0.3333333333333333,
             "#9c179e"
            ],
            [
             0.4444444444444444,
             "#bd3786"
            ],
            [
             0.5555555555555556,
             "#d8576b"
            ],
            [
             0.6666666666666666,
             "#ed7953"
            ],
            [
             0.7777777777777778,
             "#fb9f3a"
            ],
            [
             0.8888888888888888,
             "#fdca26"
            ],
            [
             1,
             "#f0f921"
            ]
           ],
           "sequentialminus": [
            [
             0,
             "#0d0887"
            ],
            [
             0.1111111111111111,
             "#46039f"
            ],
            [
             0.2222222222222222,
             "#7201a8"
            ],
            [
             0.3333333333333333,
             "#9c179e"
            ],
            [
             0.4444444444444444,
             "#bd3786"
            ],
            [
             0.5555555555555556,
             "#d8576b"
            ],
            [
             0.6666666666666666,
             "#ed7953"
            ],
            [
             0.7777777777777778,
             "#fb9f3a"
            ],
            [
             0.8888888888888888,
             "#fdca26"
            ],
            [
             1,
             "#f0f921"
            ]
           ]
          },
          "colorway": [
           "#636efa",
           "#EF553B",
           "#00cc96",
           "#ab63fa",
           "#FFA15A",
           "#19d3f3",
           "#FF6692",
           "#B6E880",
           "#FF97FF",
           "#FECB52"
          ],
          "font": {
           "color": "#2a3f5f"
          },
          "geo": {
           "bgcolor": "white",
           "lakecolor": "white",
           "landcolor": "#E5ECF6",
           "showlakes": true,
           "showland": true,
           "subunitcolor": "white"
          },
          "hoverlabel": {
           "align": "left"
          },
          "hovermode": "closest",
          "mapbox": {
           "style": "light"
          },
          "paper_bgcolor": "white",
          "plot_bgcolor": "#E5ECF6",
          "polar": {
           "angularaxis": {
            "gridcolor": "white",
            "linecolor": "white",
            "ticks": ""
           },
           "bgcolor": "#E5ECF6",
           "radialaxis": {
            "gridcolor": "white",
            "linecolor": "white",
            "ticks": ""
           }
          },
          "scene": {
           "xaxis": {
            "backgroundcolor": "#E5ECF6",
            "gridcolor": "white",
            "gridwidth": 2,
            "linecolor": "white",
            "showbackground": true,
            "ticks": "",
            "zerolinecolor": "white"
           },
           "yaxis": {
            "backgroundcolor": "#E5ECF6",
            "gridcolor": "white",
            "gridwidth": 2,
            "linecolor": "white",
            "showbackground": true,
            "ticks": "",
            "zerolinecolor": "white"
           },
           "zaxis": {
            "backgroundcolor": "#E5ECF6",
            "gridcolor": "white",
            "gridwidth": 2,
            "linecolor": "white",
            "showbackground": true,
            "ticks": "",
            "zerolinecolor": "white"
           }
          },
          "shapedefaults": {
           "line": {
            "color": "#2a3f5f"
           }
          },
          "ternary": {
           "aaxis": {
            "gridcolor": "white",
            "linecolor": "white",
            "ticks": ""
           },
           "baxis": {
            "gridcolor": "white",
            "linecolor": "white",
            "ticks": ""
           },
           "bgcolor": "#E5ECF6",
           "caxis": {
            "gridcolor": "white",
            "linecolor": "white",
            "ticks": ""
           }
          },
          "title": {
           "x": 0.05
          },
          "xaxis": {
           "automargin": true,
           "gridcolor": "white",
           "linecolor": "white",
           "ticks": "",
           "title": {
            "standoff": 15
           },
           "zerolinecolor": "white",
           "zerolinewidth": 2
          },
          "yaxis": {
           "automargin": true,
           "gridcolor": "white",
           "linecolor": "white",
           "ticks": "",
           "title": {
            "standoff": 15
           },
           "zerolinecolor": "white",
           "zerolinewidth": 2
          }
         }
        },
        "title": {
         "text": "Bisoprolol - balenia (nad 90 000)"
        },
        "xaxis": {
         "anchor": "y",
         "domain": [
          0,
          1
         ],
         "tickangle": 45,
         "title": {
          "text": "LIEK_popis"
         }
        },
        "yaxis": {
         "anchor": "x",
         "domain": [
          0,
          1
         ],
         "title": {
          "text": "Počet_balení"
         }
        }
       }
      }
     },
     "metadata": {}
    }
   ],
   "source": [
    "fig = px.bar(bisoprolol.query('Počet_balení > 90000'), x='LIEK_popis', y='Počet_balení', color='STAT_popis', title='Bisoprolol - balenia (nad 90 000)')\n",
    "fig.update_xaxes(tickangle=45)\n",
    "fig.show()"
   ]
  },
  {
   "cell_type": "code",
   "execution_count": 72,
   "metadata": {},
   "outputs": [
    {
     "output_type": "display_data",
     "data": {
      "application/vnd.plotly.v1+json": {
       "config": {
        "plotlyServerURL": "https://plot.ly"
       },
       "data": [
        {
         "domain": {
          "x": [
           0,
           1
          ],
          "y": [
           0,
           1
          ]
         },
         "hovertemplate": "STAT_popis=%{label}<br>Počet_balení=%{value}<extra></extra>",
         "labels": [
          "Nemecko",
          "Slovensko",
          "Slovinsko",
          "iné",
          "Česko"
         ],
         "legendgroup": "",
         "name": "",
         "showlegend": true,
         "type": "pie",
         "values": [
          390964.83,
          1808079.02,
          115080.69200000001,
          2084.9,
          291163.1
         ]
        }
       ],
       "layout": {
        "legend": {
         "tracegroupgap": 0
        },
        "template": {
         "data": {
          "bar": [
           {
            "error_x": {
             "color": "#2a3f5f"
            },
            "error_y": {
             "color": "#2a3f5f"
            },
            "marker": {
             "line": {
              "color": "#E5ECF6",
              "width": 0.5
             }
            },
            "type": "bar"
           }
          ],
          "barpolar": [
           {
            "marker": {
             "line": {
              "color": "#E5ECF6",
              "width": 0.5
             }
            },
            "type": "barpolar"
           }
          ],
          "carpet": [
           {
            "aaxis": {
             "endlinecolor": "#2a3f5f",
             "gridcolor": "white",
             "linecolor": "white",
             "minorgridcolor": "white",
             "startlinecolor": "#2a3f5f"
            },
            "baxis": {
             "endlinecolor": "#2a3f5f",
             "gridcolor": "white",
             "linecolor": "white",
             "minorgridcolor": "white",
             "startlinecolor": "#2a3f5f"
            },
            "type": "carpet"
           }
          ],
          "choropleth": [
           {
            "colorbar": {
             "outlinewidth": 0,
             "ticks": ""
            },
            "type": "choropleth"
           }
          ],
          "contour": [
           {
            "colorbar": {
             "outlinewidth": 0,
             "ticks": ""
            },
            "colorscale": [
             [
              0,
              "#0d0887"
             ],
             [
              0.1111111111111111,
              "#46039f"
             ],
             [
              0.2222222222222222,
              "#7201a8"
             ],
             [
              0.3333333333333333,
              "#9c179e"
             ],
             [
              0.4444444444444444,
              "#bd3786"
             ],
             [
              0.5555555555555556,
              "#d8576b"
             ],
             [
              0.6666666666666666,
              "#ed7953"
             ],
             [
              0.7777777777777778,
              "#fb9f3a"
             ],
             [
              0.8888888888888888,
              "#fdca26"
             ],
             [
              1,
              "#f0f921"
             ]
            ],
            "type": "contour"
           }
          ],
          "contourcarpet": [
           {
            "colorbar": {
             "outlinewidth": 0,
             "ticks": ""
            },
            "type": "contourcarpet"
           }
          ],
          "heatmap": [
           {
            "colorbar": {
             "outlinewidth": 0,
             "ticks": ""
            },
            "colorscale": [
             [
              0,
              "#0d0887"
             ],
             [
              0.1111111111111111,
              "#46039f"
             ],
             [
              0.2222222222222222,
              "#7201a8"
             ],
             [
              0.3333333333333333,
              "#9c179e"
             ],
             [
              0.4444444444444444,
              "#bd3786"
             ],
             [
              0.5555555555555556,
              "#d8576b"
             ],
             [
              0.6666666666666666,
              "#ed7953"
             ],
             [
              0.7777777777777778,
              "#fb9f3a"
             ],
             [
              0.8888888888888888,
              "#fdca26"
             ],
             [
              1,
              "#f0f921"
             ]
            ],
            "type": "heatmap"
           }
          ],
          "heatmapgl": [
           {
            "colorbar": {
             "outlinewidth": 0,
             "ticks": ""
            },
            "colorscale": [
             [
              0,
              "#0d0887"
             ],
             [
              0.1111111111111111,
              "#46039f"
             ],
             [
              0.2222222222222222,
              "#7201a8"
             ],
             [
              0.3333333333333333,
              "#9c179e"
             ],
             [
              0.4444444444444444,
              "#bd3786"
             ],
             [
              0.5555555555555556,
              "#d8576b"
             ],
             [
              0.6666666666666666,
              "#ed7953"
             ],
             [
              0.7777777777777778,
              "#fb9f3a"
             ],
             [
              0.8888888888888888,
              "#fdca26"
             ],
             [
              1,
              "#f0f921"
             ]
            ],
            "type": "heatmapgl"
           }
          ],
          "histogram": [
           {
            "marker": {
             "colorbar": {
              "outlinewidth": 0,
              "ticks": ""
             }
            },
            "type": "histogram"
           }
          ],
          "histogram2d": [
           {
            "colorbar": {
             "outlinewidth": 0,
             "ticks": ""
            },
            "colorscale": [
             [
              0,
              "#0d0887"
             ],
             [
              0.1111111111111111,
              "#46039f"
             ],
             [
              0.2222222222222222,
              "#7201a8"
             ],
             [
              0.3333333333333333,
              "#9c179e"
             ],
             [
              0.4444444444444444,
              "#bd3786"
             ],
             [
              0.5555555555555556,
              "#d8576b"
             ],
             [
              0.6666666666666666,
              "#ed7953"
             ],
             [
              0.7777777777777778,
              "#fb9f3a"
             ],
             [
              0.8888888888888888,
              "#fdca26"
             ],
             [
              1,
              "#f0f921"
             ]
            ],
            "type": "histogram2d"
           }
          ],
          "histogram2dcontour": [
           {
            "colorbar": {
             "outlinewidth": 0,
             "ticks": ""
            },
            "colorscale": [
             [
              0,
              "#0d0887"
             ],
             [
              0.1111111111111111,
              "#46039f"
             ],
             [
              0.2222222222222222,
              "#7201a8"
             ],
             [
              0.3333333333333333,
              "#9c179e"
             ],
             [
              0.4444444444444444,
              "#bd3786"
             ],
             [
              0.5555555555555556,
              "#d8576b"
             ],
             [
              0.6666666666666666,
              "#ed7953"
             ],
             [
              0.7777777777777778,
              "#fb9f3a"
             ],
             [
              0.8888888888888888,
              "#fdca26"
             ],
             [
              1,
              "#f0f921"
             ]
            ],
            "type": "histogram2dcontour"
           }
          ],
          "mesh3d": [
           {
            "colorbar": {
             "outlinewidth": 0,
             "ticks": ""
            },
            "type": "mesh3d"
           }
          ],
          "parcoords": [
           {
            "line": {
             "colorbar": {
              "outlinewidth": 0,
              "ticks": ""
             }
            },
            "type": "parcoords"
           }
          ],
          "pie": [
           {
            "automargin": true,
            "type": "pie"
           }
          ],
          "scatter": [
           {
            "marker": {
             "colorbar": {
              "outlinewidth": 0,
              "ticks": ""
             }
            },
            "type": "scatter"
           }
          ],
          "scatter3d": [
           {
            "line": {
             "colorbar": {
              "outlinewidth": 0,
              "ticks": ""
             }
            },
            "marker": {
             "colorbar": {
              "outlinewidth": 0,
              "ticks": ""
             }
            },
            "type": "scatter3d"
           }
          ],
          "scattercarpet": [
           {
            "marker": {
             "colorbar": {
              "outlinewidth": 0,
              "ticks": ""
             }
            },
            "type": "scattercarpet"
           }
          ],
          "scattergeo": [
           {
            "marker": {
             "colorbar": {
              "outlinewidth": 0,
              "ticks": ""
             }
            },
            "type": "scattergeo"
           }
          ],
          "scattergl": [
           {
            "marker": {
             "colorbar": {
              "outlinewidth": 0,
              "ticks": ""
             }
            },
            "type": "scattergl"
           }
          ],
          "scattermapbox": [
           {
            "marker": {
             "colorbar": {
              "outlinewidth": 0,
              "ticks": ""
             }
            },
            "type": "scattermapbox"
           }
          ],
          "scatterpolar": [
           {
            "marker": {
             "colorbar": {
              "outlinewidth": 0,
              "ticks": ""
             }
            },
            "type": "scatterpolar"
           }
          ],
          "scatterpolargl": [
           {
            "marker": {
             "colorbar": {
              "outlinewidth": 0,
              "ticks": ""
             }
            },
            "type": "scatterpolargl"
           }
          ],
          "scatterternary": [
           {
            "marker": {
             "colorbar": {
              "outlinewidth": 0,
              "ticks": ""
             }
            },
            "type": "scatterternary"
           }
          ],
          "surface": [
           {
            "colorbar": {
             "outlinewidth": 0,
             "ticks": ""
            },
            "colorscale": [
             [
              0,
              "#0d0887"
             ],
             [
              0.1111111111111111,
              "#46039f"
             ],
             [
              0.2222222222222222,
              "#7201a8"
             ],
             [
              0.3333333333333333,
              "#9c179e"
             ],
             [
              0.4444444444444444,
              "#bd3786"
             ],
             [
              0.5555555555555556,
              "#d8576b"
             ],
             [
              0.6666666666666666,
              "#ed7953"
             ],
             [
              0.7777777777777778,
              "#fb9f3a"
             ],
             [
              0.8888888888888888,
              "#fdca26"
             ],
             [
              1,
              "#f0f921"
             ]
            ],
            "type": "surface"
           }
          ],
          "table": [
           {
            "cells": {
             "fill": {
              "color": "#EBF0F8"
             },
             "line": {
              "color": "white"
             }
            },
            "header": {
             "fill": {
              "color": "#C8D4E3"
             },
             "line": {
              "color": "white"
             }
            },
            "type": "table"
           }
          ]
         },
         "layout": {
          "annotationdefaults": {
           "arrowcolor": "#2a3f5f",
           "arrowhead": 0,
           "arrowwidth": 1
          },
          "autotypenumbers": "strict",
          "coloraxis": {
           "colorbar": {
            "outlinewidth": 0,
            "ticks": ""
           }
          },
          "colorscale": {
           "diverging": [
            [
             0,
             "#8e0152"
            ],
            [
             0.1,
             "#c51b7d"
            ],
            [
             0.2,
             "#de77ae"
            ],
            [
             0.3,
             "#f1b6da"
            ],
            [
             0.4,
             "#fde0ef"
            ],
            [
             0.5,
             "#f7f7f7"
            ],
            [
             0.6,
             "#e6f5d0"
            ],
            [
             0.7,
             "#b8e186"
            ],
            [
             0.8,
             "#7fbc41"
            ],
            [
             0.9,
             "#4d9221"
            ],
            [
             1,
             "#276419"
            ]
           ],
           "sequential": [
            [
             0,
             "#0d0887"
            ],
            [
             0.1111111111111111,
             "#46039f"
            ],
            [
             0.2222222222222222,
             "#7201a8"
            ],
            [
             0.3333333333333333,
             "#9c179e"
            ],
            [
             0.4444444444444444,
             "#bd3786"
            ],
            [
             0.5555555555555556,
             "#d8576b"
            ],
            [
             0.6666666666666666,
             "#ed7953"
            ],
            [
             0.7777777777777778,
             "#fb9f3a"
            ],
            [
             0.8888888888888888,
             "#fdca26"
            ],
            [
             1,
             "#f0f921"
            ]
           ],
           "sequentialminus": [
            [
             0,
             "#0d0887"
            ],
            [
             0.1111111111111111,
             "#46039f"
            ],
            [
             0.2222222222222222,
             "#7201a8"
            ],
            [
             0.3333333333333333,
             "#9c179e"
            ],
            [
             0.4444444444444444,
             "#bd3786"
            ],
            [
             0.5555555555555556,
             "#d8576b"
            ],
            [
             0.6666666666666666,
             "#ed7953"
            ],
            [
             0.7777777777777778,
             "#fb9f3a"
            ],
            [
             0.8888888888888888,
             "#fdca26"
            ],
            [
             1,
             "#f0f921"
            ]
           ]
          },
          "colorway": [
           "#636efa",
           "#EF553B",
           "#00cc96",
           "#ab63fa",
           "#FFA15A",
           "#19d3f3",
           "#FF6692",
           "#B6E880",
           "#FF97FF",
           "#FECB52"
          ],
          "font": {
           "color": "#2a3f5f"
          },
          "geo": {
           "bgcolor": "white",
           "lakecolor": "white",
           "landcolor": "#E5ECF6",
           "showlakes": true,
           "showland": true,
           "subunitcolor": "white"
          },
          "hoverlabel": {
           "align": "left"
          },
          "hovermode": "closest",
          "mapbox": {
           "style": "light"
          },
          "paper_bgcolor": "white",
          "plot_bgcolor": "#E5ECF6",
          "polar": {
           "angularaxis": {
            "gridcolor": "white",
            "linecolor": "white",
            "ticks": ""
           },
           "bgcolor": "#E5ECF6",
           "radialaxis": {
            "gridcolor": "white",
            "linecolor": "white",
            "ticks": ""
           }
          },
          "scene": {
           "xaxis": {
            "backgroundcolor": "#E5ECF6",
            "gridcolor": "white",
            "gridwidth": 2,
            "linecolor": "white",
            "showbackground": true,
            "ticks": "",
            "zerolinecolor": "white"
           },
           "yaxis": {
            "backgroundcolor": "#E5ECF6",
            "gridcolor": "white",
            "gridwidth": 2,
            "linecolor": "white",
            "showbackground": true,
            "ticks": "",
            "zerolinecolor": "white"
           },
           "zaxis": {
            "backgroundcolor": "#E5ECF6",
            "gridcolor": "white",
            "gridwidth": 2,
            "linecolor": "white",
            "showbackground": true,
            "ticks": "",
            "zerolinecolor": "white"
           }
          },
          "shapedefaults": {
           "line": {
            "color": "#2a3f5f"
           }
          },
          "ternary": {
           "aaxis": {
            "gridcolor": "white",
            "linecolor": "white",
            "ticks": ""
           },
           "baxis": {
            "gridcolor": "white",
            "linecolor": "white",
            "ticks": ""
           },
           "bgcolor": "#E5ECF6",
           "caxis": {
            "gridcolor": "white",
            "linecolor": "white",
            "ticks": ""
           }
          },
          "title": {
           "x": 0.05
          },
          "xaxis": {
           "automargin": true,
           "gridcolor": "white",
           "linecolor": "white",
           "ticks": "",
           "title": {
            "standoff": 15
           },
           "zerolinecolor": "white",
           "zerolinewidth": 2
          },
          "yaxis": {
           "automargin": true,
           "gridcolor": "white",
           "linecolor": "white",
           "ticks": "",
           "title": {
            "standoff": 15
           },
           "zerolinecolor": "white",
           "zerolinewidth": 2
          }
         }
        },
        "title": {
         "text": "BISOPROLOL"
        }
       }
      }
     },
     "metadata": {}
    }
   ],
   "source": [
    "bisoprolol_krajina = bisoprolol.groupby('STAT_popis').sum().reset_index()\n",
    "for i,popis in enumerate(bisoprolol_krajina['STAT_popis']):\n",
    "    if 'Fínsko' in popis:\n",
    "        bisoprolol_krajina.iloc[i,0] = 'iné'\n",
    "    elif 'Spojené kráľovstvo' in popis:\n",
    "        bisoprolol_krajina.iloc[i,0] = 'iné'\n",
    "bisoprolol_krajina = bisoprolol_krajina.groupby('STAT_popis').sum().reset_index()\n",
    "fig = px.pie(bisoprolol_krajina, values='Počet_balení', names='STAT_popis', title='BISOPROLOL')\n",
    "fig.show()"
   ]
  },
  {
   "source": [
    "Z grafu vidime, ze najpouzivanejsi betablokator s ucinnou latkou bisoprolol je slovensky Concor. Narozdiel od predchadzajucich grafov, vidime, ze aj ine lieky sa vo vyraznej miere pouzivaju, napr Coronal alebo nemecky Bisprolol-ratiopharm. Jednoznacne vedu slovenske lieky."
   ],
   "cell_type": "markdown",
   "metadata": {}
  },
  {
   "source": [
    "# 6. Amlodipin"
   ],
   "cell_type": "markdown",
   "metadata": {}
  },
  {
   "cell_type": "code",
   "execution_count": 26,
   "metadata": {},
   "outputs": [
    {
     "output_type": "display_data",
     "data": {
      "text/plain": "                LIEK_popis STAT_popis                 VYROBCA_popis  index  \\\n0   \\tAmlodipin Vitabalans     Fínsko                 Vitabalans Oy   8326   \n1                    ACCEL     Cyprus               Medochemie Ltd.   4199   \n2                     AGEN      Česko                 Zentiva, k.s.   8352   \n3          AMLODIPIN HEXAL     Dánsko                     HEXAL A/S   2106   \n4     AMLODIPIN-RATIOPHARM    Nemecko               ratiopharm GmbH   4179   \n5                  AMLOPIN  Slovinsko      LEK Pharmaceuticals d.d.   4205   \n6              Amlodigamma    Nemecko  Artesan Pharma GmbH & Co. KG   2093   \n7        Amlodipin Actavis     Island         Actavis Group PTC ehf   4187   \n8      Amlodipin Stichting  Slovinsko   Sandoz Pharmaceuticals d.d.   6285   \n9               CARDILOPIN   Maďarsko      EGIS Pharmaceuticals PLC   4175   \n10                 NORVASC   Belgicko         Pfizer Europe MA EEIG   4209   \n11                   TENOX  Slovinsko         KRKA d.d., Novo mesto   4195   \n\n    Počet_balení  Úhrada_PAC  Cena úhrada_PAC/bal  \n0       8133.700     8013.23             0.985189  \n1      39635.000    36396.58             0.918294  \n2    1042447.713   514840.56             0.493877  \n3          2.000       13.46             6.730000  \n4     402849.470    79580.14             0.197543  \n5         13.000       16.80             1.292308  \n6          2.000       30.12            15.060000  \n7         16.000       13.50             0.843750  \n8     415811.500   133785.38             0.321745  \n9      62800.500    79712.18             1.269292  \n10    123821.000   441976.19             3.569477  \n11     23809.000    42794.71             1.797417  ",
      "text/html": "<div>\n<style scoped>\n    .dataframe tbody tr th:only-of-type {\n        vertical-align: middle;\n    }\n\n    .dataframe tbody tr th {\n        vertical-align: top;\n    }\n\n    .dataframe thead th {\n        text-align: right;\n    }\n</style>\n<table border=\"1\" class=\"dataframe\">\n  <thead>\n    <tr style=\"text-align: right;\">\n      <th></th>\n      <th>LIEK_popis</th>\n      <th>STAT_popis</th>\n      <th>VYROBCA_popis</th>\n      <th>index</th>\n      <th>Počet_balení</th>\n      <th>Úhrada_PAC</th>\n      <th>Cena úhrada_PAC/bal</th>\n    </tr>\n  </thead>\n  <tbody>\n    <tr>\n      <th>0</th>\n      <td>\\tAmlodipin Vitabalans</td>\n      <td>Fínsko</td>\n      <td>Vitabalans Oy</td>\n      <td>8326</td>\n      <td>8133.700</td>\n      <td>8013.23</td>\n      <td>0.985189</td>\n    </tr>\n    <tr>\n      <th>1</th>\n      <td>ACCEL</td>\n      <td>Cyprus</td>\n      <td>Medochemie Ltd.</td>\n      <td>4199</td>\n      <td>39635.000</td>\n      <td>36396.58</td>\n      <td>0.918294</td>\n    </tr>\n    <tr>\n      <th>2</th>\n      <td>AGEN</td>\n      <td>Česko</td>\n      <td>Zentiva, k.s.</td>\n      <td>8352</td>\n      <td>1042447.713</td>\n      <td>514840.56</td>\n      <td>0.493877</td>\n    </tr>\n    <tr>\n      <th>3</th>\n      <td>AMLODIPIN HEXAL</td>\n      <td>Dánsko</td>\n      <td>HEXAL A/S</td>\n      <td>2106</td>\n      <td>2.000</td>\n      <td>13.46</td>\n      <td>6.730000</td>\n    </tr>\n    <tr>\n      <th>4</th>\n      <td>AMLODIPIN-RATIOPHARM</td>\n      <td>Nemecko</td>\n      <td>ratiopharm GmbH</td>\n      <td>4179</td>\n      <td>402849.470</td>\n      <td>79580.14</td>\n      <td>0.197543</td>\n    </tr>\n    <tr>\n      <th>5</th>\n      <td>AMLOPIN</td>\n      <td>Slovinsko</td>\n      <td>LEK Pharmaceuticals d.d.</td>\n      <td>4205</td>\n      <td>13.000</td>\n      <td>16.80</td>\n      <td>1.292308</td>\n    </tr>\n    <tr>\n      <th>6</th>\n      <td>Amlodigamma</td>\n      <td>Nemecko</td>\n      <td>Artesan Pharma GmbH &amp; Co. KG</td>\n      <td>2093</td>\n      <td>2.000</td>\n      <td>30.12</td>\n      <td>15.060000</td>\n    </tr>\n    <tr>\n      <th>7</th>\n      <td>Amlodipin Actavis</td>\n      <td>Island</td>\n      <td>Actavis Group PTC ehf</td>\n      <td>4187</td>\n      <td>16.000</td>\n      <td>13.50</td>\n      <td>0.843750</td>\n    </tr>\n    <tr>\n      <th>8</th>\n      <td>Amlodipin Stichting</td>\n      <td>Slovinsko</td>\n      <td>Sandoz Pharmaceuticals d.d.</td>\n      <td>6285</td>\n      <td>415811.500</td>\n      <td>133785.38</td>\n      <td>0.321745</td>\n    </tr>\n    <tr>\n      <th>9</th>\n      <td>CARDILOPIN</td>\n      <td>Maďarsko</td>\n      <td>EGIS Pharmaceuticals PLC</td>\n      <td>4175</td>\n      <td>62800.500</td>\n      <td>79712.18</td>\n      <td>1.269292</td>\n    </tr>\n    <tr>\n      <th>10</th>\n      <td>NORVASC</td>\n      <td>Belgicko</td>\n      <td>Pfizer Europe MA EEIG</td>\n      <td>4209</td>\n      <td>123821.000</td>\n      <td>441976.19</td>\n      <td>3.569477</td>\n    </tr>\n    <tr>\n      <th>11</th>\n      <td>TENOX</td>\n      <td>Slovinsko</td>\n      <td>KRKA d.d., Novo mesto</td>\n      <td>4195</td>\n      <td>23809.000</td>\n      <td>42794.71</td>\n      <td>1.797417</td>\n    </tr>\n  </tbody>\n</table>\n</div>"
     },
     "metadata": {}
    }
   ],
   "source": [
    "\n",
    "amlodipin = top20tab[\"C08CA01\"].sort_values(by='Počet_balení', ascending=False)\n",
    "\n",
    "for i,popis in enumerate(amlodipin['LIEK_popis']):\n",
    "    if 'ACCEL' in popis:\n",
    "        amlodipin.iloc[i,4] = 'ACCEL'\n",
    "    elif 'AGEN' in popis:\n",
    "        amlodipin.iloc[i,4] = 'AGEN'\n",
    "    elif 'AMLODIPIN HEXAL' in popis:\n",
    "        amlodipin.iloc[i,4] = 'AMLODIPIN HEXAL'\n",
    "    elif 'AMLODIPIN-RATIOPHARM' in popis:\n",
    "        amlodipin.iloc[i,4] = 'AMLODIPIN-RATIOPHARM'\n",
    "    elif 'AMLOPIN' in popis:\n",
    "        amlodipin.iloc[i,4] = 'AMLOPIN'\n",
    "    elif 'Amlodigamma' in popis:\n",
    "        amlodipin.iloc[i,4] = 'Amlodigamma'\n",
    "    elif 'Amlodipin Actavis' in popis:\n",
    "        amlodipin.iloc[i,4] = 'Amlodipin Actavis'\n",
    "    elif 'Amlodipin Stichting' in popis:\n",
    "        amlodipin.iloc[i,4] = 'Amlodipin Stichting'\n",
    "    elif 'Amlodipin Vitabalans' in popis:\n",
    "        amlodipin.iloc[i,4] = '\tAmlodipin Vitabalans'\n",
    "    elif 'CARDILOPIN' in popis:\n",
    "        amlodipin.iloc[i,4] = 'CARDILOPIN'\n",
    "    elif 'NORVASC' in popis:\n",
    "        amlodipin.iloc[i,4] = 'NORVASC'\n",
    "    elif 'TENOX' in popis:\n",
    "        amlodipin.iloc[i,4] = 'TENOX'\n",
    "\n",
    "amlodipin = amlodipin.groupby(['LIEK_popis', 'STAT_popis', 'VYROBCA_popis']).sum().reset_index()\n",
    "display(amlodipin)"
   ]
  },
  {
   "cell_type": "code",
   "execution_count": 74,
   "metadata": {},
   "outputs": [
    {
     "output_type": "display_data",
     "data": {
      "application/vnd.plotly.v1+json": {
       "config": {
        "plotlyServerURL": "https://plot.ly"
       },
       "data": [
        {
         "alignmentgroup": "True",
         "hovertemplate": "STAT_popis=Česko<br>LIEK_popis=%{x}<br>Počet_balení=%{y}<extra></extra>",
         "legendgroup": "Česko",
         "marker": {
          "color": "#636efa"
         },
         "name": "Česko",
         "offsetgroup": "Česko",
         "orientation": "v",
         "showlegend": true,
         "textposition": "auto",
         "type": "bar",
         "x": [
          "AGEN"
         ],
         "xaxis": "x",
         "y": [
          1042447.713
         ],
         "yaxis": "y"
        },
        {
         "alignmentgroup": "True",
         "hovertemplate": "STAT_popis=Nemecko<br>LIEK_popis=%{x}<br>Počet_balení=%{y}<extra></extra>",
         "legendgroup": "Nemecko",
         "marker": {
          "color": "#EF553B"
         },
         "name": "Nemecko",
         "offsetgroup": "Nemecko",
         "orientation": "v",
         "showlegend": true,
         "textposition": "auto",
         "type": "bar",
         "x": [
          "AMLODIPIN-RATIOPHARM"
         ],
         "xaxis": "x",
         "y": [
          402849.47
         ],
         "yaxis": "y"
        },
        {
         "alignmentgroup": "True",
         "hovertemplate": "STAT_popis=Slovinsko<br>LIEK_popis=%{x}<br>Počet_balení=%{y}<extra></extra>",
         "legendgroup": "Slovinsko",
         "marker": {
          "color": "#00cc96"
         },
         "name": "Slovinsko",
         "offsetgroup": "Slovinsko",
         "orientation": "v",
         "showlegend": true,
         "textposition": "auto",
         "type": "bar",
         "x": [
          "Amlodipin Stichting"
         ],
         "xaxis": "x",
         "y": [
          415811.5
         ],
         "yaxis": "y"
        },
        {
         "alignmentgroup": "True",
         "hovertemplate": "STAT_popis=Maďarsko<br>LIEK_popis=%{x}<br>Počet_balení=%{y}<extra></extra>",
         "legendgroup": "Maďarsko",
         "marker": {
          "color": "#ab63fa"
         },
         "name": "Maďarsko",
         "offsetgroup": "Maďarsko",
         "orientation": "v",
         "showlegend": true,
         "textposition": "auto",
         "type": "bar",
         "x": [
          "CARDILOPIN"
         ],
         "xaxis": "x",
         "y": [
          62800.5
         ],
         "yaxis": "y"
        },
        {
         "alignmentgroup": "True",
         "hovertemplate": "STAT_popis=Belgicko<br>LIEK_popis=%{x}<br>Počet_balení=%{y}<extra></extra>",
         "legendgroup": "Belgicko",
         "marker": {
          "color": "#FFA15A"
         },
         "name": "Belgicko",
         "offsetgroup": "Belgicko",
         "orientation": "v",
         "showlegend": true,
         "textposition": "auto",
         "type": "bar",
         "x": [
          "NORVASC"
         ],
         "xaxis": "x",
         "y": [
          123821
         ],
         "yaxis": "y"
        }
       ],
       "layout": {
        "barmode": "relative",
        "legend": {
         "title": {
          "text": "STAT_popis"
         },
         "tracegroupgap": 0
        },
        "template": {
         "data": {
          "bar": [
           {
            "error_x": {
             "color": "#2a3f5f"
            },
            "error_y": {
             "color": "#2a3f5f"
            },
            "marker": {
             "line": {
              "color": "#E5ECF6",
              "width": 0.5
             }
            },
            "type": "bar"
           }
          ],
          "barpolar": [
           {
            "marker": {
             "line": {
              "color": "#E5ECF6",
              "width": 0.5
             }
            },
            "type": "barpolar"
           }
          ],
          "carpet": [
           {
            "aaxis": {
             "endlinecolor": "#2a3f5f",
             "gridcolor": "white",
             "linecolor": "white",
             "minorgridcolor": "white",
             "startlinecolor": "#2a3f5f"
            },
            "baxis": {
             "endlinecolor": "#2a3f5f",
             "gridcolor": "white",
             "linecolor": "white",
             "minorgridcolor": "white",
             "startlinecolor": "#2a3f5f"
            },
            "type": "carpet"
           }
          ],
          "choropleth": [
           {
            "colorbar": {
             "outlinewidth": 0,
             "ticks": ""
            },
            "type": "choropleth"
           }
          ],
          "contour": [
           {
            "colorbar": {
             "outlinewidth": 0,
             "ticks": ""
            },
            "colorscale": [
             [
              0,
              "#0d0887"
             ],
             [
              0.1111111111111111,
              "#46039f"
             ],
             [
              0.2222222222222222,
              "#7201a8"
             ],
             [
              0.3333333333333333,
              "#9c179e"
             ],
             [
              0.4444444444444444,
              "#bd3786"
             ],
             [
              0.5555555555555556,
              "#d8576b"
             ],
             [
              0.6666666666666666,
              "#ed7953"
             ],
             [
              0.7777777777777778,
              "#fb9f3a"
             ],
             [
              0.8888888888888888,
              "#fdca26"
             ],
             [
              1,
              "#f0f921"
             ]
            ],
            "type": "contour"
           }
          ],
          "contourcarpet": [
           {
            "colorbar": {
             "outlinewidth": 0,
             "ticks": ""
            },
            "type": "contourcarpet"
           }
          ],
          "heatmap": [
           {
            "colorbar": {
             "outlinewidth": 0,
             "ticks": ""
            },
            "colorscale": [
             [
              0,
              "#0d0887"
             ],
             [
              0.1111111111111111,
              "#46039f"
             ],
             [
              0.2222222222222222,
              "#7201a8"
             ],
             [
              0.3333333333333333,
              "#9c179e"
             ],
             [
              0.4444444444444444,
              "#bd3786"
             ],
             [
              0.5555555555555556,
              "#d8576b"
             ],
             [
              0.6666666666666666,
              "#ed7953"
             ],
             [
              0.7777777777777778,
              "#fb9f3a"
             ],
             [
              0.8888888888888888,
              "#fdca26"
             ],
             [
              1,
              "#f0f921"
             ]
            ],
            "type": "heatmap"
           }
          ],
          "heatmapgl": [
           {
            "colorbar": {
             "outlinewidth": 0,
             "ticks": ""
            },
            "colorscale": [
             [
              0,
              "#0d0887"
             ],
             [
              0.1111111111111111,
              "#46039f"
             ],
             [
              0.2222222222222222,
              "#7201a8"
             ],
             [
              0.3333333333333333,
              "#9c179e"
             ],
             [
              0.4444444444444444,
              "#bd3786"
             ],
             [
              0.5555555555555556,
              "#d8576b"
             ],
             [
              0.6666666666666666,
              "#ed7953"
             ],
             [
              0.7777777777777778,
              "#fb9f3a"
             ],
             [
              0.8888888888888888,
              "#fdca26"
             ],
             [
              1,
              "#f0f921"
             ]
            ],
            "type": "heatmapgl"
           }
          ],
          "histogram": [
           {
            "marker": {
             "colorbar": {
              "outlinewidth": 0,
              "ticks": ""
             }
            },
            "type": "histogram"
           }
          ],
          "histogram2d": [
           {
            "colorbar": {
             "outlinewidth": 0,
             "ticks": ""
            },
            "colorscale": [
             [
              0,
              "#0d0887"
             ],
             [
              0.1111111111111111,
              "#46039f"
             ],
             [
              0.2222222222222222,
              "#7201a8"
             ],
             [
              0.3333333333333333,
              "#9c179e"
             ],
             [
              0.4444444444444444,
              "#bd3786"
             ],
             [
              0.5555555555555556,
              "#d8576b"
             ],
             [
              0.6666666666666666,
              "#ed7953"
             ],
             [
              0.7777777777777778,
              "#fb9f3a"
             ],
             [
              0.8888888888888888,
              "#fdca26"
             ],
             [
              1,
              "#f0f921"
             ]
            ],
            "type": "histogram2d"
           }
          ],
          "histogram2dcontour": [
           {
            "colorbar": {
             "outlinewidth": 0,
             "ticks": ""
            },
            "colorscale": [
             [
              0,
              "#0d0887"
             ],
             [
              0.1111111111111111,
              "#46039f"
             ],
             [
              0.2222222222222222,
              "#7201a8"
             ],
             [
              0.3333333333333333,
              "#9c179e"
             ],
             [
              0.4444444444444444,
              "#bd3786"
             ],
             [
              0.5555555555555556,
              "#d8576b"
             ],
             [
              0.6666666666666666,
              "#ed7953"
             ],
             [
              0.7777777777777778,
              "#fb9f3a"
             ],
             [
              0.8888888888888888,
              "#fdca26"
             ],
             [
              1,
              "#f0f921"
             ]
            ],
            "type": "histogram2dcontour"
           }
          ],
          "mesh3d": [
           {
            "colorbar": {
             "outlinewidth": 0,
             "ticks": ""
            },
            "type": "mesh3d"
           }
          ],
          "parcoords": [
           {
            "line": {
             "colorbar": {
              "outlinewidth": 0,
              "ticks": ""
             }
            },
            "type": "parcoords"
           }
          ],
          "pie": [
           {
            "automargin": true,
            "type": "pie"
           }
          ],
          "scatter": [
           {
            "marker": {
             "colorbar": {
              "outlinewidth": 0,
              "ticks": ""
             }
            },
            "type": "scatter"
           }
          ],
          "scatter3d": [
           {
            "line": {
             "colorbar": {
              "outlinewidth": 0,
              "ticks": ""
             }
            },
            "marker": {
             "colorbar": {
              "outlinewidth": 0,
              "ticks": ""
             }
            },
            "type": "scatter3d"
           }
          ],
          "scattercarpet": [
           {
            "marker": {
             "colorbar": {
              "outlinewidth": 0,
              "ticks": ""
             }
            },
            "type": "scattercarpet"
           }
          ],
          "scattergeo": [
           {
            "marker": {
             "colorbar": {
              "outlinewidth": 0,
              "ticks": ""
             }
            },
            "type": "scattergeo"
           }
          ],
          "scattergl": [
           {
            "marker": {
             "colorbar": {
              "outlinewidth": 0,
              "ticks": ""
             }
            },
            "type": "scattergl"
           }
          ],
          "scattermapbox": [
           {
            "marker": {
             "colorbar": {
              "outlinewidth": 0,
              "ticks": ""
             }
            },
            "type": "scattermapbox"
           }
          ],
          "scatterpolar": [
           {
            "marker": {
             "colorbar": {
              "outlinewidth": 0,
              "ticks": ""
             }
            },
            "type": "scatterpolar"
           }
          ],
          "scatterpolargl": [
           {
            "marker": {
             "colorbar": {
              "outlinewidth": 0,
              "ticks": ""
             }
            },
            "type": "scatterpolargl"
           }
          ],
          "scatterternary": [
           {
            "marker": {
             "colorbar": {
              "outlinewidth": 0,
              "ticks": ""
             }
            },
            "type": "scatterternary"
           }
          ],
          "surface": [
           {
            "colorbar": {
             "outlinewidth": 0,
             "ticks": ""
            },
            "colorscale": [
             [
              0,
              "#0d0887"
             ],
             [
              0.1111111111111111,
              "#46039f"
             ],
             [
              0.2222222222222222,
              "#7201a8"
             ],
             [
              0.3333333333333333,
              "#9c179e"
             ],
             [
              0.4444444444444444,
              "#bd3786"
             ],
             [
              0.5555555555555556,
              "#d8576b"
             ],
             [
              0.6666666666666666,
              "#ed7953"
             ],
             [
              0.7777777777777778,
              "#fb9f3a"
             ],
             [
              0.8888888888888888,
              "#fdca26"
             ],
             [
              1,
              "#f0f921"
             ]
            ],
            "type": "surface"
           }
          ],
          "table": [
           {
            "cells": {
             "fill": {
              "color": "#EBF0F8"
             },
             "line": {
              "color": "white"
             }
            },
            "header": {
             "fill": {
              "color": "#C8D4E3"
             },
             "line": {
              "color": "white"
             }
            },
            "type": "table"
           }
          ]
         },
         "layout": {
          "annotationdefaults": {
           "arrowcolor": "#2a3f5f",
           "arrowhead": 0,
           "arrowwidth": 1
          },
          "autotypenumbers": "strict",
          "coloraxis": {
           "colorbar": {
            "outlinewidth": 0,
            "ticks": ""
           }
          },
          "colorscale": {
           "diverging": [
            [
             0,
             "#8e0152"
            ],
            [
             0.1,
             "#c51b7d"
            ],
            [
             0.2,
             "#de77ae"
            ],
            [
             0.3,
             "#f1b6da"
            ],
            [
             0.4,
             "#fde0ef"
            ],
            [
             0.5,
             "#f7f7f7"
            ],
            [
             0.6,
             "#e6f5d0"
            ],
            [
             0.7,
             "#b8e186"
            ],
            [
             0.8,
             "#7fbc41"
            ],
            [
             0.9,
             "#4d9221"
            ],
            [
             1,
             "#276419"
            ]
           ],
           "sequential": [
            [
             0,
             "#0d0887"
            ],
            [
             0.1111111111111111,
             "#46039f"
            ],
            [
             0.2222222222222222,
             "#7201a8"
            ],
            [
             0.3333333333333333,
             "#9c179e"
            ],
            [
             0.4444444444444444,
             "#bd3786"
            ],
            [
             0.5555555555555556,
             "#d8576b"
            ],
            [
             0.6666666666666666,
             "#ed7953"
            ],
            [
             0.7777777777777778,
             "#fb9f3a"
            ],
            [
             0.8888888888888888,
             "#fdca26"
            ],
            [
             1,
             "#f0f921"
            ]
           ],
           "sequentialminus": [
            [
             0,
             "#0d0887"
            ],
            [
             0.1111111111111111,
             "#46039f"
            ],
            [
             0.2222222222222222,
             "#7201a8"
            ],
            [
             0.3333333333333333,
             "#9c179e"
            ],
            [
             0.4444444444444444,
             "#bd3786"
            ],
            [
             0.5555555555555556,
             "#d8576b"
            ],
            [
             0.6666666666666666,
             "#ed7953"
            ],
            [
             0.7777777777777778,
             "#fb9f3a"
            ],
            [
             0.8888888888888888,
             "#fdca26"
            ],
            [
             1,
             "#f0f921"
            ]
           ]
          },
          "colorway": [
           "#636efa",
           "#EF553B",
           "#00cc96",
           "#ab63fa",
           "#FFA15A",
           "#19d3f3",
           "#FF6692",
           "#B6E880",
           "#FF97FF",
           "#FECB52"
          ],
          "font": {
           "color": "#2a3f5f"
          },
          "geo": {
           "bgcolor": "white",
           "lakecolor": "white",
           "landcolor": "#E5ECF6",
           "showlakes": true,
           "showland": true,
           "subunitcolor": "white"
          },
          "hoverlabel": {
           "align": "left"
          },
          "hovermode": "closest",
          "mapbox": {
           "style": "light"
          },
          "paper_bgcolor": "white",
          "plot_bgcolor": "#E5ECF6",
          "polar": {
           "angularaxis": {
            "gridcolor": "white",
            "linecolor": "white",
            "ticks": ""
           },
           "bgcolor": "#E5ECF6",
           "radialaxis": {
            "gridcolor": "white",
            "linecolor": "white",
            "ticks": ""
           }
          },
          "scene": {
           "xaxis": {
            "backgroundcolor": "#E5ECF6",
            "gridcolor": "white",
            "gridwidth": 2,
            "linecolor": "white",
            "showbackground": true,
            "ticks": "",
            "zerolinecolor": "white"
           },
           "yaxis": {
            "backgroundcolor": "#E5ECF6",
            "gridcolor": "white",
            "gridwidth": 2,
            "linecolor": "white",
            "showbackground": true,
            "ticks": "",
            "zerolinecolor": "white"
           },
           "zaxis": {
            "backgroundcolor": "#E5ECF6",
            "gridcolor": "white",
            "gridwidth": 2,
            "linecolor": "white",
            "showbackground": true,
            "ticks": "",
            "zerolinecolor": "white"
           }
          },
          "shapedefaults": {
           "line": {
            "color": "#2a3f5f"
           }
          },
          "ternary": {
           "aaxis": {
            "gridcolor": "white",
            "linecolor": "white",
            "ticks": ""
           },
           "baxis": {
            "gridcolor": "white",
            "linecolor": "white",
            "ticks": ""
           },
           "bgcolor": "#E5ECF6",
           "caxis": {
            "gridcolor": "white",
            "linecolor": "white",
            "ticks": ""
           }
          },
          "title": {
           "x": 0.05
          },
          "xaxis": {
           "automargin": true,
           "gridcolor": "white",
           "linecolor": "white",
           "ticks": "",
           "title": {
            "standoff": 15
           },
           "zerolinecolor": "white",
           "zerolinewidth": 2
          },
          "yaxis": {
           "automargin": true,
           "gridcolor": "white",
           "linecolor": "white",
           "ticks": "",
           "title": {
            "standoff": 15
           },
           "zerolinecolor": "white",
           "zerolinewidth": 2
          }
         }
        },
        "title": {
         "text": "Amlodipin nad 50 000"
        },
        "xaxis": {
         "anchor": "y",
         "domain": [
          0,
          1
         ],
         "tickangle": 45,
         "title": {
          "text": "LIEK_popis"
         }
        },
        "yaxis": {
         "anchor": "x",
         "domain": [
          0,
          1
         ],
         "title": {
          "text": "Počet_balení"
         }
        }
       }
      }
     },
     "metadata": {}
    },
    {
     "output_type": "display_data",
     "data": {
      "text/plain": "                LIEK_popis STAT_popis                 VYROBCA_popis  index  \\\n0   \\tAmlodipin Vitabalans     Fínsko                 Vitabalans Oy   8326   \n1                    ACCEL     Cyprus               Medochemie Ltd.   4199   \n2                     AGEN      Česko                 Zentiva, k.s.   8352   \n3          AMLODIPIN HEXAL     Dánsko                     HEXAL A/S   2106   \n4     AMLODIPIN-RATIOPHARM    Nemecko               ratiopharm GmbH   4179   \n5                  AMLOPIN  Slovinsko      LEK Pharmaceuticals d.d.   4205   \n6              Amlodigamma    Nemecko  Artesan Pharma GmbH & Co. KG   2093   \n7        Amlodipin Actavis     Island         Actavis Group PTC ehf   4187   \n8      Amlodipin Stichting  Slovinsko   Sandoz Pharmaceuticals d.d.   6285   \n9               CARDILOPIN   Maďarsko      EGIS Pharmaceuticals PLC   4175   \n10                 NORVASC   Belgicko         Pfizer Europe MA EEIG   4209   \n11                   TENOX  Slovinsko         KRKA d.d., Novo mesto   4195   \n\n    Počet_balení  Úhrada_PAC  Cena úhrada_PAC/bal  \n0       8133.700     8013.23             0.985189  \n1      39635.000    36396.58             0.918294  \n2    1042447.713   514840.56             0.493877  \n3          2.000       13.46             6.730000  \n4     402849.470    79580.14             0.197543  \n5         13.000       16.80             1.292308  \n6          2.000       30.12            15.060000  \n7         16.000       13.50             0.843750  \n8     415811.500   133785.38             0.321745  \n9      62800.500    79712.18             1.269292  \n10    123821.000   441976.19             3.569477  \n11     23809.000    42794.71             1.797417  ",
      "text/html": "<div>\n<style scoped>\n    .dataframe tbody tr th:only-of-type {\n        vertical-align: middle;\n    }\n\n    .dataframe tbody tr th {\n        vertical-align: top;\n    }\n\n    .dataframe thead th {\n        text-align: right;\n    }\n</style>\n<table border=\"1\" class=\"dataframe\">\n  <thead>\n    <tr style=\"text-align: right;\">\n      <th></th>\n      <th>LIEK_popis</th>\n      <th>STAT_popis</th>\n      <th>VYROBCA_popis</th>\n      <th>index</th>\n      <th>Počet_balení</th>\n      <th>Úhrada_PAC</th>\n      <th>Cena úhrada_PAC/bal</th>\n    </tr>\n  </thead>\n  <tbody>\n    <tr>\n      <th>0</th>\n      <td>\\tAmlodipin Vitabalans</td>\n      <td>Fínsko</td>\n      <td>Vitabalans Oy</td>\n      <td>8326</td>\n      <td>8133.700</td>\n      <td>8013.23</td>\n      <td>0.985189</td>\n    </tr>\n    <tr>\n      <th>1</th>\n      <td>ACCEL</td>\n      <td>Cyprus</td>\n      <td>Medochemie Ltd.</td>\n      <td>4199</td>\n      <td>39635.000</td>\n      <td>36396.58</td>\n      <td>0.918294</td>\n    </tr>\n    <tr>\n      <th>2</th>\n      <td>AGEN</td>\n      <td>Česko</td>\n      <td>Zentiva, k.s.</td>\n      <td>8352</td>\n      <td>1042447.713</td>\n      <td>514840.56</td>\n      <td>0.493877</td>\n    </tr>\n    <tr>\n      <th>3</th>\n      <td>AMLODIPIN HEXAL</td>\n      <td>Dánsko</td>\n      <td>HEXAL A/S</td>\n      <td>2106</td>\n      <td>2.000</td>\n      <td>13.46</td>\n      <td>6.730000</td>\n    </tr>\n    <tr>\n      <th>4</th>\n      <td>AMLODIPIN-RATIOPHARM</td>\n      <td>Nemecko</td>\n      <td>ratiopharm GmbH</td>\n      <td>4179</td>\n      <td>402849.470</td>\n      <td>79580.14</td>\n      <td>0.197543</td>\n    </tr>\n    <tr>\n      <th>5</th>\n      <td>AMLOPIN</td>\n      <td>Slovinsko</td>\n      <td>LEK Pharmaceuticals d.d.</td>\n      <td>4205</td>\n      <td>13.000</td>\n      <td>16.80</td>\n      <td>1.292308</td>\n    </tr>\n    <tr>\n      <th>6</th>\n      <td>Amlodigamma</td>\n      <td>Nemecko</td>\n      <td>Artesan Pharma GmbH &amp; Co. KG</td>\n      <td>2093</td>\n      <td>2.000</td>\n      <td>30.12</td>\n      <td>15.060000</td>\n    </tr>\n    <tr>\n      <th>7</th>\n      <td>Amlodipin Actavis</td>\n      <td>Island</td>\n      <td>Actavis Group PTC ehf</td>\n      <td>4187</td>\n      <td>16.000</td>\n      <td>13.50</td>\n      <td>0.843750</td>\n    </tr>\n    <tr>\n      <th>8</th>\n      <td>Amlodipin Stichting</td>\n      <td>Slovinsko</td>\n      <td>Sandoz Pharmaceuticals d.d.</td>\n      <td>6285</td>\n      <td>415811.500</td>\n      <td>133785.38</td>\n      <td>0.321745</td>\n    </tr>\n    <tr>\n      <th>9</th>\n      <td>CARDILOPIN</td>\n      <td>Maďarsko</td>\n      <td>EGIS Pharmaceuticals PLC</td>\n      <td>4175</td>\n      <td>62800.500</td>\n      <td>79712.18</td>\n      <td>1.269292</td>\n    </tr>\n    <tr>\n      <th>10</th>\n      <td>NORVASC</td>\n      <td>Belgicko</td>\n      <td>Pfizer Europe MA EEIG</td>\n      <td>4209</td>\n      <td>123821.000</td>\n      <td>441976.19</td>\n      <td>3.569477</td>\n    </tr>\n    <tr>\n      <th>11</th>\n      <td>TENOX</td>\n      <td>Slovinsko</td>\n      <td>KRKA d.d., Novo mesto</td>\n      <td>4195</td>\n      <td>23809.000</td>\n      <td>42794.71</td>\n      <td>1.797417</td>\n    </tr>\n  </tbody>\n</table>\n</div>"
     },
     "metadata": {}
    }
   ],
   "source": [
    "\n",
    "fig = px.bar(amlodipin.query('Počet_balení > 50000'), x='LIEK_popis', y='Počet_balení', color='STAT_popis', title='Amlodipin nad 50 000')\n",
    "fig.update_xaxes(tickangle=45)\n",
    "fig.show()\n",
    "display(amlodipin)"
   ]
  },
  {
   "source": [
    "Mozeme si vsimnut ze najpouzivanejsie blokator vapnikovych kamenov s ucinnou latkou amlodipin je cesky Agen. Dalsimi ale menej pouzivanymi su slovinsky Amlodipin Stichting a nemecky Amlodipin-ratiopharm. Podla tabulky vidime, ze Slovensko taketo blokatory vapnikovych kamenov nevyraba."
   ],
   "cell_type": "markdown",
   "metadata": {}
  },
  {
   "source": [
    "# 7. Alprazolam"
   ],
   "cell_type": "markdown",
   "metadata": {}
  },
  {
   "cell_type": "code",
   "execution_count": 28,
   "metadata": {},
   "outputs": [
    {
     "output_type": "display_data",
     "data": {
      "text/plain": "         LIEK_popis STAT_popis                    VYROBCA_popis  index  \\\n0  Alprazolam Orion     Fínsko  Orion Corporation, Orion Pharma   7183   \n1           FRONTIN   Maďarsko         EGIS Pharmaceuticals PLC  35945   \n2             HELEX  Slovinsko            KRKA d.d., Novo mesto  43134   \n3            NEUROL      Česko                    Zentiva, k.s.  21597   \n4         NEUROL SR      Česko                    Zentiva a.s.    7196   \n5             XANAX   Belgicko            Pfizer Europe MA EEIG  43202   \n\n   Počet_balení  Úhrada_PAC  Cena úhrada_PAC/bal  \n0          2.00        5.14             2.570000  \n1     537957.20   731856.63             1.360437  \n2      65145.00    65413.51             1.004122  \n3    1056309.50  1395763.59             1.321359  \n4          2.00        6.26             3.130000  \n5     385706.03   647377.73             1.678423  ",
      "text/html": "<div>\n<style scoped>\n    .dataframe tbody tr th:only-of-type {\n        vertical-align: middle;\n    }\n\n    .dataframe tbody tr th {\n        vertical-align: top;\n    }\n\n    .dataframe thead th {\n        text-align: right;\n    }\n</style>\n<table border=\"1\" class=\"dataframe\">\n  <thead>\n    <tr style=\"text-align: right;\">\n      <th></th>\n      <th>LIEK_popis</th>\n      <th>STAT_popis</th>\n      <th>VYROBCA_popis</th>\n      <th>index</th>\n      <th>Počet_balení</th>\n      <th>Úhrada_PAC</th>\n      <th>Cena úhrada_PAC/bal</th>\n    </tr>\n  </thead>\n  <tbody>\n    <tr>\n      <th>0</th>\n      <td>Alprazolam Orion</td>\n      <td>Fínsko</td>\n      <td>Orion Corporation, Orion Pharma</td>\n      <td>7183</td>\n      <td>2.00</td>\n      <td>5.14</td>\n      <td>2.570000</td>\n    </tr>\n    <tr>\n      <th>1</th>\n      <td>FRONTIN</td>\n      <td>Maďarsko</td>\n      <td>EGIS Pharmaceuticals PLC</td>\n      <td>35945</td>\n      <td>537957.20</td>\n      <td>731856.63</td>\n      <td>1.360437</td>\n    </tr>\n    <tr>\n      <th>2</th>\n      <td>HELEX</td>\n      <td>Slovinsko</td>\n      <td>KRKA d.d., Novo mesto</td>\n      <td>43134</td>\n      <td>65145.00</td>\n      <td>65413.51</td>\n      <td>1.004122</td>\n    </tr>\n    <tr>\n      <th>3</th>\n      <td>NEUROL</td>\n      <td>Česko</td>\n      <td>Zentiva, k.s.</td>\n      <td>21597</td>\n      <td>1056309.50</td>\n      <td>1395763.59</td>\n      <td>1.321359</td>\n    </tr>\n    <tr>\n      <th>4</th>\n      <td>NEUROL SR</td>\n      <td>Česko</td>\n      <td>Zentiva a.s.</td>\n      <td>7196</td>\n      <td>2.00</td>\n      <td>6.26</td>\n      <td>3.130000</td>\n    </tr>\n    <tr>\n      <th>5</th>\n      <td>XANAX</td>\n      <td>Belgicko</td>\n      <td>Pfizer Europe MA EEIG</td>\n      <td>43202</td>\n      <td>385706.03</td>\n      <td>647377.73</td>\n      <td>1.678423</td>\n    </tr>\n  </tbody>\n</table>\n</div>"
     },
     "metadata": {}
    }
   ],
   "source": [
    "\n",
    "alprazolam = top20tab[\"N05BA12\"].sort_values(by='Počet_balení', ascending=False)\n",
    "\n",
    "for i,popis in enumerate(alprazolam['LIEK_popis']):\n",
    "    if 'Alprazolam Orion' in popis:\n",
    "        alprazolam.iloc[i,4] = 'Alprazolam Orion'\n",
    "    elif 'FRONTIN' in popis:\n",
    "        alprazolam.iloc[i,4] = 'FRONTIN'\n",
    "    elif 'HELEX' in popis:\n",
    "        alprazolam.iloc[i,4] = 'HELEX'\n",
    "    elif 'Helex' in popis:\n",
    "        alprazolam.iloc[i,4] = 'HELEX'\n",
    "    elif 'XANAX' in popis:\n",
    "        alprazolam.iloc[i,4] = 'XANAX'\n",
    "    elif 'NEUROL SR' in popis:\n",
    "        alprazolam.iloc[i,4] = 'NEUROL SR'\n",
    "    elif 'NEUROL' in popis:\n",
    "        alprazolam.iloc[i,4] = 'NEUROL'\n",
    "\n",
    "alprazolam = alprazolam.groupby(['LIEK_popis', 'STAT_popis', 'VYROBCA_popis']).sum().reset_index()\n",
    "display(alprazolam)"
   ]
  },
  {
   "cell_type": "code",
   "execution_count": 76,
   "metadata": {},
   "outputs": [
    {
     "output_type": "display_data",
     "data": {
      "application/vnd.plotly.v1+json": {
       "config": {
        "plotlyServerURL": "https://plot.ly"
       },
       "data": [
        {
         "alignmentgroup": "True",
         "hovertemplate": "STAT_popis=Maďarsko<br>LIEK_popis=%{x}<br>Počet_balení=%{y}<extra></extra>",
         "legendgroup": "Maďarsko",
         "marker": {
          "color": "#636efa"
         },
         "name": "Maďarsko",
         "offsetgroup": "Maďarsko",
         "orientation": "v",
         "showlegend": true,
         "textposition": "auto",
         "type": "bar",
         "x": [
          "FRONTIN"
         ],
         "xaxis": "x",
         "y": [
          537957.2
         ],
         "yaxis": "y"
        },
        {
         "alignmentgroup": "True",
         "hovertemplate": "STAT_popis=Slovinsko<br>LIEK_popis=%{x}<br>Počet_balení=%{y}<extra></extra>",
         "legendgroup": "Slovinsko",
         "marker": {
          "color": "#EF553B"
         },
         "name": "Slovinsko",
         "offsetgroup": "Slovinsko",
         "orientation": "v",
         "showlegend": true,
         "textposition": "auto",
         "type": "bar",
         "x": [
          "HELEX"
         ],
         "xaxis": "x",
         "y": [
          65145
         ],
         "yaxis": "y"
        },
        {
         "alignmentgroup": "True",
         "hovertemplate": "STAT_popis=Česko<br>LIEK_popis=%{x}<br>Počet_balení=%{y}<extra></extra>",
         "legendgroup": "Česko",
         "marker": {
          "color": "#00cc96"
         },
         "name": "Česko",
         "offsetgroup": "Česko",
         "orientation": "v",
         "showlegend": true,
         "textposition": "auto",
         "type": "bar",
         "x": [
          "NEUROL"
         ],
         "xaxis": "x",
         "y": [
          1056309.5
         ],
         "yaxis": "y"
        },
        {
         "alignmentgroup": "True",
         "hovertemplate": "STAT_popis=Belgicko<br>LIEK_popis=%{x}<br>Počet_balení=%{y}<extra></extra>",
         "legendgroup": "Belgicko",
         "marker": {
          "color": "#ab63fa"
         },
         "name": "Belgicko",
         "offsetgroup": "Belgicko",
         "orientation": "v",
         "showlegend": true,
         "textposition": "auto",
         "type": "bar",
         "x": [
          "XANAX"
         ],
         "xaxis": "x",
         "y": [
          385706.03
         ],
         "yaxis": "y"
        }
       ],
       "layout": {
        "barmode": "relative",
        "legend": {
         "title": {
          "text": "STAT_popis"
         },
         "tracegroupgap": 0
        },
        "template": {
         "data": {
          "bar": [
           {
            "error_x": {
             "color": "#2a3f5f"
            },
            "error_y": {
             "color": "#2a3f5f"
            },
            "marker": {
             "line": {
              "color": "#E5ECF6",
              "width": 0.5
             }
            },
            "type": "bar"
           }
          ],
          "barpolar": [
           {
            "marker": {
             "line": {
              "color": "#E5ECF6",
              "width": 0.5
             }
            },
            "type": "barpolar"
           }
          ],
          "carpet": [
           {
            "aaxis": {
             "endlinecolor": "#2a3f5f",
             "gridcolor": "white",
             "linecolor": "white",
             "minorgridcolor": "white",
             "startlinecolor": "#2a3f5f"
            },
            "baxis": {
             "endlinecolor": "#2a3f5f",
             "gridcolor": "white",
             "linecolor": "white",
             "minorgridcolor": "white",
             "startlinecolor": "#2a3f5f"
            },
            "type": "carpet"
           }
          ],
          "choropleth": [
           {
            "colorbar": {
             "outlinewidth": 0,
             "ticks": ""
            },
            "type": "choropleth"
           }
          ],
          "contour": [
           {
            "colorbar": {
             "outlinewidth": 0,
             "ticks": ""
            },
            "colorscale": [
             [
              0,
              "#0d0887"
             ],
             [
              0.1111111111111111,
              "#46039f"
             ],
             [
              0.2222222222222222,
              "#7201a8"
             ],
             [
              0.3333333333333333,
              "#9c179e"
             ],
             [
              0.4444444444444444,
              "#bd3786"
             ],
             [
              0.5555555555555556,
              "#d8576b"
             ],
             [
              0.6666666666666666,
              "#ed7953"
             ],
             [
              0.7777777777777778,
              "#fb9f3a"
             ],
             [
              0.8888888888888888,
              "#fdca26"
             ],
             [
              1,
              "#f0f921"
             ]
            ],
            "type": "contour"
           }
          ],
          "contourcarpet": [
           {
            "colorbar": {
             "outlinewidth": 0,
             "ticks": ""
            },
            "type": "contourcarpet"
           }
          ],
          "heatmap": [
           {
            "colorbar": {
             "outlinewidth": 0,
             "ticks": ""
            },
            "colorscale": [
             [
              0,
              "#0d0887"
             ],
             [
              0.1111111111111111,
              "#46039f"
             ],
             [
              0.2222222222222222,
              "#7201a8"
             ],
             [
              0.3333333333333333,
              "#9c179e"
             ],
             [
              0.4444444444444444,
              "#bd3786"
             ],
             [
              0.5555555555555556,
              "#d8576b"
             ],
             [
              0.6666666666666666,
              "#ed7953"
             ],
             [
              0.7777777777777778,
              "#fb9f3a"
             ],
             [
              0.8888888888888888,
              "#fdca26"
             ],
             [
              1,
              "#f0f921"
             ]
            ],
            "type": "heatmap"
           }
          ],
          "heatmapgl": [
           {
            "colorbar": {
             "outlinewidth": 0,
             "ticks": ""
            },
            "colorscale": [
             [
              0,
              "#0d0887"
             ],
             [
              0.1111111111111111,
              "#46039f"
             ],
             [
              0.2222222222222222,
              "#7201a8"
             ],
             [
              0.3333333333333333,
              "#9c179e"
             ],
             [
              0.4444444444444444,
              "#bd3786"
             ],
             [
              0.5555555555555556,
              "#d8576b"
             ],
             [
              0.6666666666666666,
              "#ed7953"
             ],
             [
              0.7777777777777778,
              "#fb9f3a"
             ],
             [
              0.8888888888888888,
              "#fdca26"
             ],
             [
              1,
              "#f0f921"
             ]
            ],
            "type": "heatmapgl"
           }
          ],
          "histogram": [
           {
            "marker": {
             "colorbar": {
              "outlinewidth": 0,
              "ticks": ""
             }
            },
            "type": "histogram"
           }
          ],
          "histogram2d": [
           {
            "colorbar": {
             "outlinewidth": 0,
             "ticks": ""
            },
            "colorscale": [
             [
              0,
              "#0d0887"
             ],
             [
              0.1111111111111111,
              "#46039f"
             ],
             [
              0.2222222222222222,
              "#7201a8"
             ],
             [
              0.3333333333333333,
              "#9c179e"
             ],
             [
              0.4444444444444444,
              "#bd3786"
             ],
             [
              0.5555555555555556,
              "#d8576b"
             ],
             [
              0.6666666666666666,
              "#ed7953"
             ],
             [
              0.7777777777777778,
              "#fb9f3a"
             ],
             [
              0.8888888888888888,
              "#fdca26"
             ],
             [
              1,
              "#f0f921"
             ]
            ],
            "type": "histogram2d"
           }
          ],
          "histogram2dcontour": [
           {
            "colorbar": {
             "outlinewidth": 0,
             "ticks": ""
            },
            "colorscale": [
             [
              0,
              "#0d0887"
             ],
             [
              0.1111111111111111,
              "#46039f"
             ],
             [
              0.2222222222222222,
              "#7201a8"
             ],
             [
              0.3333333333333333,
              "#9c179e"
             ],
             [
              0.4444444444444444,
              "#bd3786"
             ],
             [
              0.5555555555555556,
              "#d8576b"
             ],
             [
              0.6666666666666666,
              "#ed7953"
             ],
             [
              0.7777777777777778,
              "#fb9f3a"
             ],
             [
              0.8888888888888888,
              "#fdca26"
             ],
             [
              1,
              "#f0f921"
             ]
            ],
            "type": "histogram2dcontour"
           }
          ],
          "mesh3d": [
           {
            "colorbar": {
             "outlinewidth": 0,
             "ticks": ""
            },
            "type": "mesh3d"
           }
          ],
          "parcoords": [
           {
            "line": {
             "colorbar": {
              "outlinewidth": 0,
              "ticks": ""
             }
            },
            "type": "parcoords"
           }
          ],
          "pie": [
           {
            "automargin": true,
            "type": "pie"
           }
          ],
          "scatter": [
           {
            "marker": {
             "colorbar": {
              "outlinewidth": 0,
              "ticks": ""
             }
            },
            "type": "scatter"
           }
          ],
          "scatter3d": [
           {
            "line": {
             "colorbar": {
              "outlinewidth": 0,
              "ticks": ""
             }
            },
            "marker": {
             "colorbar": {
              "outlinewidth": 0,
              "ticks": ""
             }
            },
            "type": "scatter3d"
           }
          ],
          "scattercarpet": [
           {
            "marker": {
             "colorbar": {
              "outlinewidth": 0,
              "ticks": ""
             }
            },
            "type": "scattercarpet"
           }
          ],
          "scattergeo": [
           {
            "marker": {
             "colorbar": {
              "outlinewidth": 0,
              "ticks": ""
             }
            },
            "type": "scattergeo"
           }
          ],
          "scattergl": [
           {
            "marker": {
             "colorbar": {
              "outlinewidth": 0,
              "ticks": ""
             }
            },
            "type": "scattergl"
           }
          ],
          "scattermapbox": [
           {
            "marker": {
             "colorbar": {
              "outlinewidth": 0,
              "ticks": ""
             }
            },
            "type": "scattermapbox"
           }
          ],
          "scatterpolar": [
           {
            "marker": {
             "colorbar": {
              "outlinewidth": 0,
              "ticks": ""
             }
            },
            "type": "scatterpolar"
           }
          ],
          "scatterpolargl": [
           {
            "marker": {
             "colorbar": {
              "outlinewidth": 0,
              "ticks": ""
             }
            },
            "type": "scatterpolargl"
           }
          ],
          "scatterternary": [
           {
            "marker": {
             "colorbar": {
              "outlinewidth": 0,
              "ticks": ""
             }
            },
            "type": "scatterternary"
           }
          ],
          "surface": [
           {
            "colorbar": {
             "outlinewidth": 0,
             "ticks": ""
            },
            "colorscale": [
             [
              0,
              "#0d0887"
             ],
             [
              0.1111111111111111,
              "#46039f"
             ],
             [
              0.2222222222222222,
              "#7201a8"
             ],
             [
              0.3333333333333333,
              "#9c179e"
             ],
             [
              0.4444444444444444,
              "#bd3786"
             ],
             [
              0.5555555555555556,
              "#d8576b"
             ],
             [
              0.6666666666666666,
              "#ed7953"
             ],
             [
              0.7777777777777778,
              "#fb9f3a"
             ],
             [
              0.8888888888888888,
              "#fdca26"
             ],
             [
              1,
              "#f0f921"
             ]
            ],
            "type": "surface"
           }
          ],
          "table": [
           {
            "cells": {
             "fill": {
              "color": "#EBF0F8"
             },
             "line": {
              "color": "white"
             }
            },
            "header": {
             "fill": {
              "color": "#C8D4E3"
             },
             "line": {
              "color": "white"
             }
            },
            "type": "table"
           }
          ]
         },
         "layout": {
          "annotationdefaults": {
           "arrowcolor": "#2a3f5f",
           "arrowhead": 0,
           "arrowwidth": 1
          },
          "autotypenumbers": "strict",
          "coloraxis": {
           "colorbar": {
            "outlinewidth": 0,
            "ticks": ""
           }
          },
          "colorscale": {
           "diverging": [
            [
             0,
             "#8e0152"
            ],
            [
             0.1,
             "#c51b7d"
            ],
            [
             0.2,
             "#de77ae"
            ],
            [
             0.3,
             "#f1b6da"
            ],
            [
             0.4,
             "#fde0ef"
            ],
            [
             0.5,
             "#f7f7f7"
            ],
            [
             0.6,
             "#e6f5d0"
            ],
            [
             0.7,
             "#b8e186"
            ],
            [
             0.8,
             "#7fbc41"
            ],
            [
             0.9,
             "#4d9221"
            ],
            [
             1,
             "#276419"
            ]
           ],
           "sequential": [
            [
             0,
             "#0d0887"
            ],
            [
             0.1111111111111111,
             "#46039f"
            ],
            [
             0.2222222222222222,
             "#7201a8"
            ],
            [
             0.3333333333333333,
             "#9c179e"
            ],
            [
             0.4444444444444444,
             "#bd3786"
            ],
            [
             0.5555555555555556,
             "#d8576b"
            ],
            [
             0.6666666666666666,
             "#ed7953"
            ],
            [
             0.7777777777777778,
             "#fb9f3a"
            ],
            [
             0.8888888888888888,
             "#fdca26"
            ],
            [
             1,
             "#f0f921"
            ]
           ],
           "sequentialminus": [
            [
             0,
             "#0d0887"
            ],
            [
             0.1111111111111111,
             "#46039f"
            ],
            [
             0.2222222222222222,
             "#7201a8"
            ],
            [
             0.3333333333333333,
             "#9c179e"
            ],
            [
             0.4444444444444444,
             "#bd3786"
            ],
            [
             0.5555555555555556,
             "#d8576b"
            ],
            [
             0.6666666666666666,
             "#ed7953"
            ],
            [
             0.7777777777777778,
             "#fb9f3a"
            ],
            [
             0.8888888888888888,
             "#fdca26"
            ],
            [
             1,
             "#f0f921"
            ]
           ]
          },
          "colorway": [
           "#636efa",
           "#EF553B",
           "#00cc96",
           "#ab63fa",
           "#FFA15A",
           "#19d3f3",
           "#FF6692",
           "#B6E880",
           "#FF97FF",
           "#FECB52"
          ],
          "font": {
           "color": "#2a3f5f"
          },
          "geo": {
           "bgcolor": "white",
           "lakecolor": "white",
           "landcolor": "#E5ECF6",
           "showlakes": true,
           "showland": true,
           "subunitcolor": "white"
          },
          "hoverlabel": {
           "align": "left"
          },
          "hovermode": "closest",
          "mapbox": {
           "style": "light"
          },
          "paper_bgcolor": "white",
          "plot_bgcolor": "#E5ECF6",
          "polar": {
           "angularaxis": {
            "gridcolor": "white",
            "linecolor": "white",
            "ticks": ""
           },
           "bgcolor": "#E5ECF6",
           "radialaxis": {
            "gridcolor": "white",
            "linecolor": "white",
            "ticks": ""
           }
          },
          "scene": {
           "xaxis": {
            "backgroundcolor": "#E5ECF6",
            "gridcolor": "white",
            "gridwidth": 2,
            "linecolor": "white",
            "showbackground": true,
            "ticks": "",
            "zerolinecolor": "white"
           },
           "yaxis": {
            "backgroundcolor": "#E5ECF6",
            "gridcolor": "white",
            "gridwidth": 2,
            "linecolor": "white",
            "showbackground": true,
            "ticks": "",
            "zerolinecolor": "white"
           },
           "zaxis": {
            "backgroundcolor": "#E5ECF6",
            "gridcolor": "white",
            "gridwidth": 2,
            "linecolor": "white",
            "showbackground": true,
            "ticks": "",
            "zerolinecolor": "white"
           }
          },
          "shapedefaults": {
           "line": {
            "color": "#2a3f5f"
           }
          },
          "ternary": {
           "aaxis": {
            "gridcolor": "white",
            "linecolor": "white",
            "ticks": ""
           },
           "baxis": {
            "gridcolor": "white",
            "linecolor": "white",
            "ticks": ""
           },
           "bgcolor": "#E5ECF6",
           "caxis": {
            "gridcolor": "white",
            "linecolor": "white",
            "ticks": ""
           }
          },
          "title": {
           "x": 0.05
          },
          "xaxis": {
           "automargin": true,
           "gridcolor": "white",
           "linecolor": "white",
           "ticks": "",
           "title": {
            "standoff": 15
           },
           "zerolinecolor": "white",
           "zerolinewidth": 2
          },
          "yaxis": {
           "automargin": true,
           "gridcolor": "white",
           "linecolor": "white",
           "ticks": "",
           "title": {
            "standoff": 15
           },
           "zerolinecolor": "white",
           "zerolinewidth": 2
          }
         }
        },
        "title": {
         "text": "Alprazolam nad 50 000"
        },
        "xaxis": {
         "anchor": "y",
         "domain": [
          0,
          1
         ],
         "tickangle": 45,
         "title": {
          "text": "LIEK_popis"
         }
        },
        "yaxis": {
         "anchor": "x",
         "domain": [
          0,
          1
         ],
         "title": {
          "text": "Počet_balení"
         }
        }
       }
      }
     },
     "metadata": {}
    }
   ],
   "source": [
    "fig = px.bar(alprazolam.query('Počet_balení > 50000'), x='LIEK_popis', y='Počet_balení', color='STAT_popis', title='Alprazolam nad 50 000')\n",
    "fig.update_xaxes(tickangle=45)\n",
    "fig.show()\n"
   ]
  },
  {
   "source": [
    " Najpuzivanejsim psycholeptikom s ucinnou latkou alprazolam je cesky Neurol. Priblizne o polovicu menej sa predavajuci madarsky Frontin a potom belgickz Xanax. Mozeme si vsimnut ze narozdiel od predchadzajuch grafov, ucinnu latku alprazolam pouziva menej liekov. Slovensko opat taketo psycholeptika nevyraba"
   ],
   "cell_type": "markdown",
   "metadata": {}
  },
  {
   "source": [
    "# 8. Diklofenak"
   ],
   "cell_type": "markdown",
   "metadata": {}
  },
  {
   "cell_type": "code",
   "execution_count": 77,
   "metadata": {},
   "outputs": [
    {
     "output_type": "display_data",
     "data": {
      "text/plain": "                      LIEK_popis STAT_popis  \\\n0                  AKIS Plus inj  Slovensko   \n1                       AKIS inj  Slovensko   \n2                    ALMIRAL inj     Cyprus   \n3                    ALMIRAL tbl     Cyprus   \n4              DICLAC RETARD tbl  Slovinsko   \n5           DICLOBENE RETARD tbl  Holandsko   \n6                  DICLOBENE tbl  Holandsko   \n7       DICLOFENAC AL RETARD tbl    Nemecko   \n8              DICLOFENAC AL tbl    Nemecko   \n9   DICLOFENAC DUO PHARMAVIT cps      Česko   \n10                 DICLOREUM sup  Taliansko   \n11                 DICLOREUM tbl  Taliansko   \n12                    Dicuno tbl     Fínsko   \n13              FLECTOR EP RAPID  Slovensko   \n14              VERAL RETARD tbl      Česko   \n15                     VERAL gel  Slovensko   \n16                 VERAL sol inj  Slovensko   \n17                     VERAL sup      Česko   \n18                     VERAL tbl      Česko   \n19            VOLTAREN RAPID tbl  Slovensko   \n20           VOLTAREN RETARD tbl  Slovensko   \n21              VOLTAREN sol ifc      Česko   \n22                  VOLTAREN sup  Slovensko   \n23                  VOLTAREN tbl  Slovensko   \n24     Voltaren ActiGo Extra tbl      Česko   \n25            Voltaren Rapid cps      Česko   \n\n                                        VYROBCA_popis  index  Počet_balení  \\\n0                                IBSA Slovakia s.r.o.  21978      6095.903   \n1                                IBSA Slovakia s.r.o.  21954       270.630   \n2                                     Medochemie Ltd.  16503    167768.830   \n3                                     Medochemie Ltd.   5499     28693.990   \n4                         Sandoz Pharmaceuticals d.d.  10966     11883.500   \n5                                           TEV-NL-4?  16407     57957.000   \n6                                           TEV-NL-4?  21862     46020.650   \n7                                   ALIUD PHARMA GmbH  11011        23.000   \n8                          Aliud Pharma GmbH & Co. KG  11013         4.000   \n9                  PharmaSwiss Česká republika s.r.o.   5510    170025.010   \n10                             Alfa Wassermann S.p.A.   5513         3.000   \n11                             Alfa Wassermann S.p.A.   5512        12.000   \n12                                      Vitabalans Oy  10923      2504.797   \n13                               IBSA Slovakia s.r.o.  10983    825870.470   \n14                          Herbacos Recordati s.r.o.  10965     80757.530   \n15                                       Zentiva a.s.  16440       368.000   \n16                                  Slovakofarma a.s.   5481         6.000   \n17                          Herbacos Recordati s.r.o.   5474         1.000   \n18                          Herbacos Recordati s.r.o.  27416     64051.168   \n19                           Novartis Slovakia s.r.o.   5480    163277.900   \n20                           Novartis Slovakia s.r.o.   5507      9310.960   \n21                                    Novartis s.r.o.   5508       102.500   \n22                           Novartis Slovakia s.r.o.   5498      5866.000   \n23                           Novartis Slovakia s.r.o.   5511      8390.000   \n24  GlaxoSmithKline Consumer Healthcare Czech Repu...  10983    126203.500   \n25  GlaxoSmithKline Consumer Healthcare Czech Repu...  16428    238259.180   \n\n    Úhrada_PAC  \n0     51936.89  \n1      3414.97  \n2    104943.58  \n3     23225.76  \n4     15556.74  \n5     29930.63  \n6     25987.73  \n7       104.92  \n8        14.11  \n9    469116.41  \n10        6.30  \n11       32.90  \n12     9412.28  \n13  2762210.14  \n14   196583.81  \n15     2012.08  \n16        0.00  \n17        4.10  \n18   183991.73  \n19   145603.20  \n20    54202.95  \n21      203.07  \n22     6651.44  \n23    23238.67  \n24   668509.79  \n25  1285498.49  ",
      "text/html": "<div>\n<style scoped>\n    .dataframe tbody tr th:only-of-type {\n        vertical-align: middle;\n    }\n\n    .dataframe tbody tr th {\n        vertical-align: top;\n    }\n\n    .dataframe thead th {\n        text-align: right;\n    }\n</style>\n<table border=\"1\" class=\"dataframe\">\n  <thead>\n    <tr style=\"text-align: right;\">\n      <th></th>\n      <th>LIEK_popis</th>\n      <th>STAT_popis</th>\n      <th>VYROBCA_popis</th>\n      <th>index</th>\n      <th>Počet_balení</th>\n      <th>Úhrada_PAC</th>\n    </tr>\n  </thead>\n  <tbody>\n    <tr>\n      <th>0</th>\n      <td>AKIS Plus inj</td>\n      <td>Slovensko</td>\n      <td>IBSA Slovakia s.r.o.</td>\n      <td>21978</td>\n      <td>6095.903</td>\n      <td>51936.89</td>\n    </tr>\n    <tr>\n      <th>1</th>\n      <td>AKIS inj</td>\n      <td>Slovensko</td>\n      <td>IBSA Slovakia s.r.o.</td>\n      <td>21954</td>\n      <td>270.630</td>\n      <td>3414.97</td>\n    </tr>\n    <tr>\n      <th>2</th>\n      <td>ALMIRAL inj</td>\n      <td>Cyprus</td>\n      <td>Medochemie Ltd.</td>\n      <td>16503</td>\n      <td>167768.830</td>\n      <td>104943.58</td>\n    </tr>\n    <tr>\n      <th>3</th>\n      <td>ALMIRAL tbl</td>\n      <td>Cyprus</td>\n      <td>Medochemie Ltd.</td>\n      <td>5499</td>\n      <td>28693.990</td>\n      <td>23225.76</td>\n    </tr>\n    <tr>\n      <th>4</th>\n      <td>DICLAC RETARD tbl</td>\n      <td>Slovinsko</td>\n      <td>Sandoz Pharmaceuticals d.d.</td>\n      <td>10966</td>\n      <td>11883.500</td>\n      <td>15556.74</td>\n    </tr>\n    <tr>\n      <th>5</th>\n      <td>DICLOBENE RETARD tbl</td>\n      <td>Holandsko</td>\n      <td>TEV-NL-4?</td>\n      <td>16407</td>\n      <td>57957.000</td>\n      <td>29930.63</td>\n    </tr>\n    <tr>\n      <th>6</th>\n      <td>DICLOBENE tbl</td>\n      <td>Holandsko</td>\n      <td>TEV-NL-4?</td>\n      <td>21862</td>\n      <td>46020.650</td>\n      <td>25987.73</td>\n    </tr>\n    <tr>\n      <th>7</th>\n      <td>DICLOFENAC AL RETARD tbl</td>\n      <td>Nemecko</td>\n      <td>ALIUD PHARMA GmbH</td>\n      <td>11011</td>\n      <td>23.000</td>\n      <td>104.92</td>\n    </tr>\n    <tr>\n      <th>8</th>\n      <td>DICLOFENAC AL tbl</td>\n      <td>Nemecko</td>\n      <td>Aliud Pharma GmbH &amp; Co. KG</td>\n      <td>11013</td>\n      <td>4.000</td>\n      <td>14.11</td>\n    </tr>\n    <tr>\n      <th>9</th>\n      <td>DICLOFENAC DUO PHARMAVIT cps</td>\n      <td>Česko</td>\n      <td>PharmaSwiss Česká republika s.r.o.</td>\n      <td>5510</td>\n      <td>170025.010</td>\n      <td>469116.41</td>\n    </tr>\n    <tr>\n      <th>10</th>\n      <td>DICLOREUM sup</td>\n      <td>Taliansko</td>\n      <td>Alfa Wassermann S.p.A.</td>\n      <td>5513</td>\n      <td>3.000</td>\n      <td>6.30</td>\n    </tr>\n    <tr>\n      <th>11</th>\n      <td>DICLOREUM tbl</td>\n      <td>Taliansko</td>\n      <td>Alfa Wassermann S.p.A.</td>\n      <td>5512</td>\n      <td>12.000</td>\n      <td>32.90</td>\n    </tr>\n    <tr>\n      <th>12</th>\n      <td>Dicuno tbl</td>\n      <td>Fínsko</td>\n      <td>Vitabalans Oy</td>\n      <td>10923</td>\n      <td>2504.797</td>\n      <td>9412.28</td>\n    </tr>\n    <tr>\n      <th>13</th>\n      <td>FLECTOR EP RAPID</td>\n      <td>Slovensko</td>\n      <td>IBSA Slovakia s.r.o.</td>\n      <td>10983</td>\n      <td>825870.470</td>\n      <td>2762210.14</td>\n    </tr>\n    <tr>\n      <th>14</th>\n      <td>VERAL RETARD tbl</td>\n      <td>Česko</td>\n      <td>Herbacos Recordati s.r.o.</td>\n      <td>10965</td>\n      <td>80757.530</td>\n      <td>196583.81</td>\n    </tr>\n    <tr>\n      <th>15</th>\n      <td>VERAL gel</td>\n      <td>Slovensko</td>\n      <td>Zentiva a.s.</td>\n      <td>16440</td>\n      <td>368.000</td>\n      <td>2012.08</td>\n    </tr>\n    <tr>\n      <th>16</th>\n      <td>VERAL sol inj</td>\n      <td>Slovensko</td>\n      <td>Slovakofarma a.s.</td>\n      <td>5481</td>\n      <td>6.000</td>\n      <td>0.00</td>\n    </tr>\n    <tr>\n      <th>17</th>\n      <td>VERAL sup</td>\n      <td>Česko</td>\n      <td>Herbacos Recordati s.r.o.</td>\n      <td>5474</td>\n      <td>1.000</td>\n      <td>4.10</td>\n    </tr>\n    <tr>\n      <th>18</th>\n      <td>VERAL tbl</td>\n      <td>Česko</td>\n      <td>Herbacos Recordati s.r.o.</td>\n      <td>27416</td>\n      <td>64051.168</td>\n      <td>183991.73</td>\n    </tr>\n    <tr>\n      <th>19</th>\n      <td>VOLTAREN RAPID tbl</td>\n      <td>Slovensko</td>\n      <td>Novartis Slovakia s.r.o.</td>\n      <td>5480</td>\n      <td>163277.900</td>\n      <td>145603.20</td>\n    </tr>\n    <tr>\n      <th>20</th>\n      <td>VOLTAREN RETARD tbl</td>\n      <td>Slovensko</td>\n      <td>Novartis Slovakia s.r.o.</td>\n      <td>5507</td>\n      <td>9310.960</td>\n      <td>54202.95</td>\n    </tr>\n    <tr>\n      <th>21</th>\n      <td>VOLTAREN sol ifc</td>\n      <td>Česko</td>\n      <td>Novartis s.r.o.</td>\n      <td>5508</td>\n      <td>102.500</td>\n      <td>203.07</td>\n    </tr>\n    <tr>\n      <th>22</th>\n      <td>VOLTAREN sup</td>\n      <td>Slovensko</td>\n      <td>Novartis Slovakia s.r.o.</td>\n      <td>5498</td>\n      <td>5866.000</td>\n      <td>6651.44</td>\n    </tr>\n    <tr>\n      <th>23</th>\n      <td>VOLTAREN tbl</td>\n      <td>Slovensko</td>\n      <td>Novartis Slovakia s.r.o.</td>\n      <td>5511</td>\n      <td>8390.000</td>\n      <td>23238.67</td>\n    </tr>\n    <tr>\n      <th>24</th>\n      <td>Voltaren ActiGo Extra tbl</td>\n      <td>Česko</td>\n      <td>GlaxoSmithKline Consumer Healthcare Czech Repu...</td>\n      <td>10983</td>\n      <td>126203.500</td>\n      <td>668509.79</td>\n    </tr>\n    <tr>\n      <th>25</th>\n      <td>Voltaren Rapid cps</td>\n      <td>Česko</td>\n      <td>GlaxoSmithKline Consumer Healthcare Czech Repu...</td>\n      <td>16428</td>\n      <td>238259.180</td>\n      <td>1285498.49</td>\n    </tr>\n  </tbody>\n</table>\n</div>"
     },
     "metadata": {}
    }
   ],
   "source": [
    "diklofenak = top20tab[\"M01AB05\"].sort_values(by='Počet_balení', ascending=False)\n",
    "\n",
    "for i,popis in enumerate(diklofenak['LIEK_popis']):\n",
    "    if 'AKIS Plus' in popis:\n",
    "        diklofenak.iloc[i,4] = 'AKIS Plus inj'\n",
    "    elif 'AKIS' in popis:\n",
    "        diklofenak.iloc[i,4] = 'AKIS inj'\n",
    "    elif 'ALMIRAL inj' in popis:\n",
    "        diklofenak.iloc[i,4] = 'ALMIRAL inj'\n",
    "    elif 'ALMIRAL ' in popis:\n",
    "        diklofenak.iloc[i,4] = 'ALMIRAL tbl'\n",
    "    elif 'DICLAC RETARD tbl' in popis or 'Diclac retard' in popis:\n",
    "        diklofenak.iloc[i,4] = 'DICLAC RETARD tbl'\n",
    "    elif 'DICLOBENE' in popis and 'RETARD' in popis:\n",
    "        diklofenak.iloc[i,4] = 'DICLOBENE RETARD tbl'\n",
    "    elif 'DICLOBENE' in popis:\n",
    "        diklofenak.iloc[i,4] = 'DICLOBENE tbl'\n",
    "    elif 'DICLOFENAC AL RETARD' in popis:\n",
    "        diklofenak.iloc[i,4] = 'DICLOFENAC AL RETARD tbl'\n",
    "    elif 'DICLOFENAC AL' in popis:\n",
    "        diklofenak.iloc[i,4] = 'DICLOFENAC AL tbl'\n",
    "    elif 'DICLOFENAC DUO PHARMAVIT' in popis:\n",
    "        diklofenak.iloc[i,4] = 'DICLOFENAC DUO PHARMAVIT cps'\n",
    "    elif 'DICLOREUM tbl' in popis:\n",
    "        diklofenak.iloc[i,4] = 'DICLOREUM tbl'\n",
    "    elif 'DICLOREUM' in popis:\n",
    "        diklofenak.iloc[i,4] = 'DICLOREUM sup'\n",
    "    elif 'Dicuno' in popis:\n",
    "        diklofenak.iloc[i,4] = 'Dicuno tbl'\n",
    "    elif 'FLECTOR EP RAPID' in popis:\n",
    "        diklofenak.iloc[i,4] = 'FLECTOR EP RAPID'\n",
    "    elif 'VERAL' in popis and 'RETARD' in popis:\n",
    "        diklofenak.iloc[i,4] = 'VERAL RETARD tbl'\n",
    "    elif 'VERAL' in popis and 'tbl' in popis:\n",
    "        diklofenak.iloc[i,4] = 'VERAL tbl'\n",
    "    elif 'VERAL' in popis and 'sup' in popis:\n",
    "        diklofenak.iloc[i,4] = 'VERAL sup'\n",
    "    elif 'VERAL' in popis and 'sol' in popis:\n",
    "        diklofenak.iloc[i,4] = 'VERAL sol inj'\n",
    "    elif 'VERAL' in popis and 'gel' in popis:\n",
    "        diklofenak.iloc[i,4] = 'VERAL gel'\n",
    "    elif 'VOLTAREN 100 sup' in popis:\n",
    "        diklofenak.iloc[i,4] = 'VOLTAREN sup'\n",
    "    elif 'VOLTAREN 50 tbl' in popis:\n",
    "        diklofenak.iloc[i,4] = 'VOLTAREN tbl'\n",
    "    elif 'VOLTAREN RAPID' in popis:\n",
    "        diklofenak.iloc[i,4] = 'VOLTAREN RAPID tbl'\n",
    "    elif 'VOLTAREN' in popis and 'sol' in popis:\n",
    "        diklofenak.iloc[i,4] = 'VOLTAREN sol ifc'\n",
    "    elif 'Voltaren ActiGo Extra' in popis:\n",
    "        diklofenak.iloc[i,4] = 'Voltaren ActiGo Extra tbl'\n",
    "    elif 'Voltaren Actigo Extra' in popis:\n",
    "        diklofenak.iloc[i,4] = 'Voltaren ActiGo Extra tbl'\n",
    "    elif 'Voltaren Rapid' in popis:\n",
    "        diklofenak.iloc[i,4] = 'Voltaren Rapid cps'\n",
    "    elif 'VOLTAREN RETARD' in popis:\n",
    "        diklofenak.iloc[i,4] = 'VOLTAREN RETARD tbl'\n",
    "    \n",
    "diklofenak = diklofenak.groupby(['LIEK_popis', 'STAT_popis', 'VYROBCA_popis']).sum().reset_index()\n",
    "display(diklofenak)"
   ]
  },
  {
   "cell_type": "code",
   "execution_count": 79,
   "metadata": {},
   "outputs": [
    {
     "output_type": "display_data",
     "data": {
      "application/vnd.plotly.v1+json": {
       "config": {
        "plotlyServerURL": "https://plot.ly"
       },
       "data": [
        {
         "alignmentgroup": "True",
         "hovertemplate": "STAT_popis=Cyprus<br>LIEK_popis=%{x}<br>Počet_balení=%{y}<extra></extra>",
         "legendgroup": "Cyprus",
         "marker": {
          "color": "#636efa"
         },
         "name": "Cyprus",
         "offsetgroup": "Cyprus",
         "orientation": "v",
         "showlegend": true,
         "textposition": "auto",
         "type": "bar",
         "x": [
          "ALMIRAL inj"
         ],
         "xaxis": "x",
         "y": [
          167768.83000000002
         ],
         "yaxis": "y"
        },
        {
         "alignmentgroup": "True",
         "hovertemplate": "STAT_popis=Holandsko<br>LIEK_popis=%{x}<br>Počet_balení=%{y}<extra></extra>",
         "legendgroup": "Holandsko",
         "marker": {
          "color": "#EF553B"
         },
         "name": "Holandsko",
         "offsetgroup": "Holandsko",
         "orientation": "v",
         "showlegend": true,
         "textposition": "auto",
         "type": "bar",
         "x": [
          "DICLOBENE RETARD tbl"
         ],
         "xaxis": "x",
         "y": [
          57957
         ],
         "yaxis": "y"
        },
        {
         "alignmentgroup": "True",
         "hovertemplate": "STAT_popis=Česko<br>LIEK_popis=%{x}<br>Počet_balení=%{y}<extra></extra>",
         "legendgroup": "Česko",
         "marker": {
          "color": "#00cc96"
         },
         "name": "Česko",
         "offsetgroup": "Česko",
         "orientation": "v",
         "showlegend": true,
         "textposition": "auto",
         "type": "bar",
         "x": [
          "DICLOFENAC DUO PHARMAVIT cps",
          "VERAL RETARD tbl",
          "VERAL tbl",
          "Voltaren ActiGo Extra tbl",
          "Voltaren Rapid cps"
         ],
         "xaxis": "x",
         "y": [
          170025.00999999998,
          80757.53,
          64051.168,
          126203.5,
          238259.18
         ],
         "yaxis": "y"
        },
        {
         "alignmentgroup": "True",
         "hovertemplate": "STAT_popis=Slovensko<br>LIEK_popis=%{x}<br>Počet_balení=%{y}<extra></extra>",
         "legendgroup": "Slovensko",
         "marker": {
          "color": "#ab63fa"
         },
         "name": "Slovensko",
         "offsetgroup": "Slovensko",
         "orientation": "v",
         "showlegend": true,
         "textposition": "auto",
         "type": "bar",
         "x": [
          "FLECTOR EP RAPID",
          "VOLTAREN RAPID tbl"
         ],
         "xaxis": "x",
         "y": [
          825870.47,
          163277.9
         ],
         "yaxis": "y"
        }
       ],
       "layout": {
        "barmode": "relative",
        "legend": {
         "title": {
          "text": "STAT_popis"
         },
         "tracegroupgap": 0
        },
        "template": {
         "data": {
          "bar": [
           {
            "error_x": {
             "color": "#2a3f5f"
            },
            "error_y": {
             "color": "#2a3f5f"
            },
            "marker": {
             "line": {
              "color": "#E5ECF6",
              "width": 0.5
             }
            },
            "type": "bar"
           }
          ],
          "barpolar": [
           {
            "marker": {
             "line": {
              "color": "#E5ECF6",
              "width": 0.5
             }
            },
            "type": "barpolar"
           }
          ],
          "carpet": [
           {
            "aaxis": {
             "endlinecolor": "#2a3f5f",
             "gridcolor": "white",
             "linecolor": "white",
             "minorgridcolor": "white",
             "startlinecolor": "#2a3f5f"
            },
            "baxis": {
             "endlinecolor": "#2a3f5f",
             "gridcolor": "white",
             "linecolor": "white",
             "minorgridcolor": "white",
             "startlinecolor": "#2a3f5f"
            },
            "type": "carpet"
           }
          ],
          "choropleth": [
           {
            "colorbar": {
             "outlinewidth": 0,
             "ticks": ""
            },
            "type": "choropleth"
           }
          ],
          "contour": [
           {
            "colorbar": {
             "outlinewidth": 0,
             "ticks": ""
            },
            "colorscale": [
             [
              0,
              "#0d0887"
             ],
             [
              0.1111111111111111,
              "#46039f"
             ],
             [
              0.2222222222222222,
              "#7201a8"
             ],
             [
              0.3333333333333333,
              "#9c179e"
             ],
             [
              0.4444444444444444,
              "#bd3786"
             ],
             [
              0.5555555555555556,
              "#d8576b"
             ],
             [
              0.6666666666666666,
              "#ed7953"
             ],
             [
              0.7777777777777778,
              "#fb9f3a"
             ],
             [
              0.8888888888888888,
              "#fdca26"
             ],
             [
              1,
              "#f0f921"
             ]
            ],
            "type": "contour"
           }
          ],
          "contourcarpet": [
           {
            "colorbar": {
             "outlinewidth": 0,
             "ticks": ""
            },
            "type": "contourcarpet"
           }
          ],
          "heatmap": [
           {
            "colorbar": {
             "outlinewidth": 0,
             "ticks": ""
            },
            "colorscale": [
             [
              0,
              "#0d0887"
             ],
             [
              0.1111111111111111,
              "#46039f"
             ],
             [
              0.2222222222222222,
              "#7201a8"
             ],
             [
              0.3333333333333333,
              "#9c179e"
             ],
             [
              0.4444444444444444,
              "#bd3786"
             ],
             [
              0.5555555555555556,
              "#d8576b"
             ],
             [
              0.6666666666666666,
              "#ed7953"
             ],
             [
              0.7777777777777778,
              "#fb9f3a"
             ],
             [
              0.8888888888888888,
              "#fdca26"
             ],
             [
              1,
              "#f0f921"
             ]
            ],
            "type": "heatmap"
           }
          ],
          "heatmapgl": [
           {
            "colorbar": {
             "outlinewidth": 0,
             "ticks": ""
            },
            "colorscale": [
             [
              0,
              "#0d0887"
             ],
             [
              0.1111111111111111,
              "#46039f"
             ],
             [
              0.2222222222222222,
              "#7201a8"
             ],
             [
              0.3333333333333333,
              "#9c179e"
             ],
             [
              0.4444444444444444,
              "#bd3786"
             ],
             [
              0.5555555555555556,
              "#d8576b"
             ],
             [
              0.6666666666666666,
              "#ed7953"
             ],
             [
              0.7777777777777778,
              "#fb9f3a"
             ],
             [
              0.8888888888888888,
              "#fdca26"
             ],
             [
              1,
              "#f0f921"
             ]
            ],
            "type": "heatmapgl"
           }
          ],
          "histogram": [
           {
            "marker": {
             "colorbar": {
              "outlinewidth": 0,
              "ticks": ""
             }
            },
            "type": "histogram"
           }
          ],
          "histogram2d": [
           {
            "colorbar": {
             "outlinewidth": 0,
             "ticks": ""
            },
            "colorscale": [
             [
              0,
              "#0d0887"
             ],
             [
              0.1111111111111111,
              "#46039f"
             ],
             [
              0.2222222222222222,
              "#7201a8"
             ],
             [
              0.3333333333333333,
              "#9c179e"
             ],
             [
              0.4444444444444444,
              "#bd3786"
             ],
             [
              0.5555555555555556,
              "#d8576b"
             ],
             [
              0.6666666666666666,
              "#ed7953"
             ],
             [
              0.7777777777777778,
              "#fb9f3a"
             ],
             [
              0.8888888888888888,
              "#fdca26"
             ],
             [
              1,
              "#f0f921"
             ]
            ],
            "type": "histogram2d"
           }
          ],
          "histogram2dcontour": [
           {
            "colorbar": {
             "outlinewidth": 0,
             "ticks": ""
            },
            "colorscale": [
             [
              0,
              "#0d0887"
             ],
             [
              0.1111111111111111,
              "#46039f"
             ],
             [
              0.2222222222222222,
              "#7201a8"
             ],
             [
              0.3333333333333333,
              "#9c179e"
             ],
             [
              0.4444444444444444,
              "#bd3786"
             ],
             [
              0.5555555555555556,
              "#d8576b"
             ],
             [
              0.6666666666666666,
              "#ed7953"
             ],
             [
              0.7777777777777778,
              "#fb9f3a"
             ],
             [
              0.8888888888888888,
              "#fdca26"
             ],
             [
              1,
              "#f0f921"
             ]
            ],
            "type": "histogram2dcontour"
           }
          ],
          "mesh3d": [
           {
            "colorbar": {
             "outlinewidth": 0,
             "ticks": ""
            },
            "type": "mesh3d"
           }
          ],
          "parcoords": [
           {
            "line": {
             "colorbar": {
              "outlinewidth": 0,
              "ticks": ""
             }
            },
            "type": "parcoords"
           }
          ],
          "pie": [
           {
            "automargin": true,
            "type": "pie"
           }
          ],
          "scatter": [
           {
            "marker": {
             "colorbar": {
              "outlinewidth": 0,
              "ticks": ""
             }
            },
            "type": "scatter"
           }
          ],
          "scatter3d": [
           {
            "line": {
             "colorbar": {
              "outlinewidth": 0,
              "ticks": ""
             }
            },
            "marker": {
             "colorbar": {
              "outlinewidth": 0,
              "ticks": ""
             }
            },
            "type": "scatter3d"
           }
          ],
          "scattercarpet": [
           {
            "marker": {
             "colorbar": {
              "outlinewidth": 0,
              "ticks": ""
             }
            },
            "type": "scattercarpet"
           }
          ],
          "scattergeo": [
           {
            "marker": {
             "colorbar": {
              "outlinewidth": 0,
              "ticks": ""
             }
            },
            "type": "scattergeo"
           }
          ],
          "scattergl": [
           {
            "marker": {
             "colorbar": {
              "outlinewidth": 0,
              "ticks": ""
             }
            },
            "type": "scattergl"
           }
          ],
          "scattermapbox": [
           {
            "marker": {
             "colorbar": {
              "outlinewidth": 0,
              "ticks": ""
             }
            },
            "type": "scattermapbox"
           }
          ],
          "scatterpolar": [
           {
            "marker": {
             "colorbar": {
              "outlinewidth": 0,
              "ticks": ""
             }
            },
            "type": "scatterpolar"
           }
          ],
          "scatterpolargl": [
           {
            "marker": {
             "colorbar": {
              "outlinewidth": 0,
              "ticks": ""
             }
            },
            "type": "scatterpolargl"
           }
          ],
          "scatterternary": [
           {
            "marker": {
             "colorbar": {
              "outlinewidth": 0,
              "ticks": ""
             }
            },
            "type": "scatterternary"
           }
          ],
          "surface": [
           {
            "colorbar": {
             "outlinewidth": 0,
             "ticks": ""
            },
            "colorscale": [
             [
              0,
              "#0d0887"
             ],
             [
              0.1111111111111111,
              "#46039f"
             ],
             [
              0.2222222222222222,
              "#7201a8"
             ],
             [
              0.3333333333333333,
              "#9c179e"
             ],
             [
              0.4444444444444444,
              "#bd3786"
             ],
             [
              0.5555555555555556,
              "#d8576b"
             ],
             [
              0.6666666666666666,
              "#ed7953"
             ],
             [
              0.7777777777777778,
              "#fb9f3a"
             ],
             [
              0.8888888888888888,
              "#fdca26"
             ],
             [
              1,
              "#f0f921"
             ]
            ],
            "type": "surface"
           }
          ],
          "table": [
           {
            "cells": {
             "fill": {
              "color": "#EBF0F8"
             },
             "line": {
              "color": "white"
             }
            },
            "header": {
             "fill": {
              "color": "#C8D4E3"
             },
             "line": {
              "color": "white"
             }
            },
            "type": "table"
           }
          ]
         },
         "layout": {
          "annotationdefaults": {
           "arrowcolor": "#2a3f5f",
           "arrowhead": 0,
           "arrowwidth": 1
          },
          "autotypenumbers": "strict",
          "coloraxis": {
           "colorbar": {
            "outlinewidth": 0,
            "ticks": ""
           }
          },
          "colorscale": {
           "diverging": [
            [
             0,
             "#8e0152"
            ],
            [
             0.1,
             "#c51b7d"
            ],
            [
             0.2,
             "#de77ae"
            ],
            [
             0.3,
             "#f1b6da"
            ],
            [
             0.4,
             "#fde0ef"
            ],
            [
             0.5,
             "#f7f7f7"
            ],
            [
             0.6,
             "#e6f5d0"
            ],
            [
             0.7,
             "#b8e186"
            ],
            [
             0.8,
             "#7fbc41"
            ],
            [
             0.9,
             "#4d9221"
            ],
            [
             1,
             "#276419"
            ]
           ],
           "sequential": [
            [
             0,
             "#0d0887"
            ],
            [
             0.1111111111111111,
             "#46039f"
            ],
            [
             0.2222222222222222,
             "#7201a8"
            ],
            [
             0.3333333333333333,
             "#9c179e"
            ],
            [
             0.4444444444444444,
             "#bd3786"
            ],
            [
             0.5555555555555556,
             "#d8576b"
            ],
            [
             0.6666666666666666,
             "#ed7953"
            ],
            [
             0.7777777777777778,
             "#fb9f3a"
            ],
            [
             0.8888888888888888,
             "#fdca26"
            ],
            [
             1,
             "#f0f921"
            ]
           ],
           "sequentialminus": [
            [
             0,
             "#0d0887"
            ],
            [
             0.1111111111111111,
             "#46039f"
            ],
            [
             0.2222222222222222,
             "#7201a8"
            ],
            [
             0.3333333333333333,
             "#9c179e"
            ],
            [
             0.4444444444444444,
             "#bd3786"
            ],
            [
             0.5555555555555556,
             "#d8576b"
            ],
            [
             0.6666666666666666,
             "#ed7953"
            ],
            [
             0.7777777777777778,
             "#fb9f3a"
            ],
            [
             0.8888888888888888,
             "#fdca26"
            ],
            [
             1,
             "#f0f921"
            ]
           ]
          },
          "colorway": [
           "#636efa",
           "#EF553B",
           "#00cc96",
           "#ab63fa",
           "#FFA15A",
           "#19d3f3",
           "#FF6692",
           "#B6E880",
           "#FF97FF",
           "#FECB52"
          ],
          "font": {
           "color": "#2a3f5f"
          },
          "geo": {
           "bgcolor": "white",
           "lakecolor": "white",
           "landcolor": "#E5ECF6",
           "showlakes": true,
           "showland": true,
           "subunitcolor": "white"
          },
          "hoverlabel": {
           "align": "left"
          },
          "hovermode": "closest",
          "mapbox": {
           "style": "light"
          },
          "paper_bgcolor": "white",
          "plot_bgcolor": "#E5ECF6",
          "polar": {
           "angularaxis": {
            "gridcolor": "white",
            "linecolor": "white",
            "ticks": ""
           },
           "bgcolor": "#E5ECF6",
           "radialaxis": {
            "gridcolor": "white",
            "linecolor": "white",
            "ticks": ""
           }
          },
          "scene": {
           "xaxis": {
            "backgroundcolor": "#E5ECF6",
            "gridcolor": "white",
            "gridwidth": 2,
            "linecolor": "white",
            "showbackground": true,
            "ticks": "",
            "zerolinecolor": "white"
           },
           "yaxis": {
            "backgroundcolor": "#E5ECF6",
            "gridcolor": "white",
            "gridwidth": 2,
            "linecolor": "white",
            "showbackground": true,
            "ticks": "",
            "zerolinecolor": "white"
           },
           "zaxis": {
            "backgroundcolor": "#E5ECF6",
            "gridcolor": "white",
            "gridwidth": 2,
            "linecolor": "white",
            "showbackground": true,
            "ticks": "",
            "zerolinecolor": "white"
           }
          },
          "shapedefaults": {
           "line": {
            "color": "#2a3f5f"
           }
          },
          "ternary": {
           "aaxis": {
            "gridcolor": "white",
            "linecolor": "white",
            "ticks": ""
           },
           "baxis": {
            "gridcolor": "white",
            "linecolor": "white",
            "ticks": ""
           },
           "bgcolor": "#E5ECF6",
           "caxis": {
            "gridcolor": "white",
            "linecolor": "white",
            "ticks": ""
           }
          },
          "title": {
           "x": 0.05
          },
          "xaxis": {
           "automargin": true,
           "gridcolor": "white",
           "linecolor": "white",
           "ticks": "",
           "title": {
            "standoff": 15
           },
           "zerolinecolor": "white",
           "zerolinewidth": 2
          },
          "yaxis": {
           "automargin": true,
           "gridcolor": "white",
           "linecolor": "white",
           "ticks": "",
           "title": {
            "standoff": 15
           },
           "zerolinecolor": "white",
           "zerolinewidth": 2
          }
         }
        },
        "title": {
         "text": "Diklofenak nad 50 000"
        },
        "xaxis": {
         "anchor": "y",
         "domain": [
          0,
          1
         ],
         "tickangle": 45,
         "title": {
          "text": "LIEK_popis"
         }
        },
        "yaxis": {
         "anchor": "x",
         "domain": [
          0,
          1
         ],
         "title": {
          "text": "Počet_balení"
         }
        }
       }
      }
     },
     "metadata": {}
    }
   ],
   "source": [
    "fig = px.bar(diklofenak.query('Počet_balení > 50000'), x='LIEK_popis', y='Počet_balení', color='STAT_popis', title='Diklofenak nad 50 000')\n",
    "fig.update_xaxes(tickangle=45)\n",
    "fig.show()"
   ]
  },
  {
   "source": [
    "Z grafu vidime, ze najpredavanejsi je slovensky Flector Ep rapid. V tejto oblasti su bohato zastupene slovenske a ceske lieky."
   ],
   "cell_type": "markdown",
   "metadata": {}
  },
  {
   "cell_type": "code",
   "execution_count": 81,
   "metadata": {},
   "outputs": [
    {
     "output_type": "display_data",
     "data": {
      "application/vnd.plotly.v1+json": {
       "config": {
        "plotlyServerURL": "https://plot.ly"
       },
       "data": [
        {
         "domain": {
          "x": [
           0,
           1
          ],
          "y": [
           0,
           1
          ]
         },
         "hovertemplate": "STAT_popis=%{label}<br>Počet_balení=%{value}<extra></extra>",
         "labels": [
          "Cyprus",
          "Fínsko",
          "Holandsko",
          "Nemecko",
          "Slovensko",
          "Slovinsko",
          "Taliansko",
          "Česko"
         ],
         "legendgroup": "",
         "name": "",
         "showlegend": true,
         "type": "pie",
         "values": [
          196462.82,
          2504.797,
          103977.65,
          27,
          1019455.863,
          11883.5,
          15,
          679399.888
         ]
        }
       ],
       "layout": {
        "legend": {
         "tracegroupgap": 0
        },
        "template": {
         "data": {
          "bar": [
           {
            "error_x": {
             "color": "#2a3f5f"
            },
            "error_y": {
             "color": "#2a3f5f"
            },
            "marker": {
             "line": {
              "color": "#E5ECF6",
              "width": 0.5
             }
            },
            "type": "bar"
           }
          ],
          "barpolar": [
           {
            "marker": {
             "line": {
              "color": "#E5ECF6",
              "width": 0.5
             }
            },
            "type": "barpolar"
           }
          ],
          "carpet": [
           {
            "aaxis": {
             "endlinecolor": "#2a3f5f",
             "gridcolor": "white",
             "linecolor": "white",
             "minorgridcolor": "white",
             "startlinecolor": "#2a3f5f"
            },
            "baxis": {
             "endlinecolor": "#2a3f5f",
             "gridcolor": "white",
             "linecolor": "white",
             "minorgridcolor": "white",
             "startlinecolor": "#2a3f5f"
            },
            "type": "carpet"
           }
          ],
          "choropleth": [
           {
            "colorbar": {
             "outlinewidth": 0,
             "ticks": ""
            },
            "type": "choropleth"
           }
          ],
          "contour": [
           {
            "colorbar": {
             "outlinewidth": 0,
             "ticks": ""
            },
            "colorscale": [
             [
              0,
              "#0d0887"
             ],
             [
              0.1111111111111111,
              "#46039f"
             ],
             [
              0.2222222222222222,
              "#7201a8"
             ],
             [
              0.3333333333333333,
              "#9c179e"
             ],
             [
              0.4444444444444444,
              "#bd3786"
             ],
             [
              0.5555555555555556,
              "#d8576b"
             ],
             [
              0.6666666666666666,
              "#ed7953"
             ],
             [
              0.7777777777777778,
              "#fb9f3a"
             ],
             [
              0.8888888888888888,
              "#fdca26"
             ],
             [
              1,
              "#f0f921"
             ]
            ],
            "type": "contour"
           }
          ],
          "contourcarpet": [
           {
            "colorbar": {
             "outlinewidth": 0,
             "ticks": ""
            },
            "type": "contourcarpet"
           }
          ],
          "heatmap": [
           {
            "colorbar": {
             "outlinewidth": 0,
             "ticks": ""
            },
            "colorscale": [
             [
              0,
              "#0d0887"
             ],
             [
              0.1111111111111111,
              "#46039f"
             ],
             [
              0.2222222222222222,
              "#7201a8"
             ],
             [
              0.3333333333333333,
              "#9c179e"
             ],
             [
              0.4444444444444444,
              "#bd3786"
             ],
             [
              0.5555555555555556,
              "#d8576b"
             ],
             [
              0.6666666666666666,
              "#ed7953"
             ],
             [
              0.7777777777777778,
              "#fb9f3a"
             ],
             [
              0.8888888888888888,
              "#fdca26"
             ],
             [
              1,
              "#f0f921"
             ]
            ],
            "type": "heatmap"
           }
          ],
          "heatmapgl": [
           {
            "colorbar": {
             "outlinewidth": 0,
             "ticks": ""
            },
            "colorscale": [
             [
              0,
              "#0d0887"
             ],
             [
              0.1111111111111111,
              "#46039f"
             ],
             [
              0.2222222222222222,
              "#7201a8"
             ],
             [
              0.3333333333333333,
              "#9c179e"
             ],
             [
              0.4444444444444444,
              "#bd3786"
             ],
             [
              0.5555555555555556,
              "#d8576b"
             ],
             [
              0.6666666666666666,
              "#ed7953"
             ],
             [
              0.7777777777777778,
              "#fb9f3a"
             ],
             [
              0.8888888888888888,
              "#fdca26"
             ],
             [
              1,
              "#f0f921"
             ]
            ],
            "type": "heatmapgl"
           }
          ],
          "histogram": [
           {
            "marker": {
             "colorbar": {
              "outlinewidth": 0,
              "ticks": ""
             }
            },
            "type": "histogram"
           }
          ],
          "histogram2d": [
           {
            "colorbar": {
             "outlinewidth": 0,
             "ticks": ""
            },
            "colorscale": [
             [
              0,
              "#0d0887"
             ],
             [
              0.1111111111111111,
              "#46039f"
             ],
             [
              0.2222222222222222,
              "#7201a8"
             ],
             [
              0.3333333333333333,
              "#9c179e"
             ],
             [
              0.4444444444444444,
              "#bd3786"
             ],
             [
              0.5555555555555556,
              "#d8576b"
             ],
             [
              0.6666666666666666,
              "#ed7953"
             ],
             [
              0.7777777777777778,
              "#fb9f3a"
             ],
             [
              0.8888888888888888,
              "#fdca26"
             ],
             [
              1,
              "#f0f921"
             ]
            ],
            "type": "histogram2d"
           }
          ],
          "histogram2dcontour": [
           {
            "colorbar": {
             "outlinewidth": 0,
             "ticks": ""
            },
            "colorscale": [
             [
              0,
              "#0d0887"
             ],
             [
              0.1111111111111111,
              "#46039f"
             ],
             [
              0.2222222222222222,
              "#7201a8"
             ],
             [
              0.3333333333333333,
              "#9c179e"
             ],
             [
              0.4444444444444444,
              "#bd3786"
             ],
             [
              0.5555555555555556,
              "#d8576b"
             ],
             [
              0.6666666666666666,
              "#ed7953"
             ],
             [
              0.7777777777777778,
              "#fb9f3a"
             ],
             [
              0.8888888888888888,
              "#fdca26"
             ],
             [
              1,
              "#f0f921"
             ]
            ],
            "type": "histogram2dcontour"
           }
          ],
          "mesh3d": [
           {
            "colorbar": {
             "outlinewidth": 0,
             "ticks": ""
            },
            "type": "mesh3d"
           }
          ],
          "parcoords": [
           {
            "line": {
             "colorbar": {
              "outlinewidth": 0,
              "ticks": ""
             }
            },
            "type": "parcoords"
           }
          ],
          "pie": [
           {
            "automargin": true,
            "type": "pie"
           }
          ],
          "scatter": [
           {
            "marker": {
             "colorbar": {
              "outlinewidth": 0,
              "ticks": ""
             }
            },
            "type": "scatter"
           }
          ],
          "scatter3d": [
           {
            "line": {
             "colorbar": {
              "outlinewidth": 0,
              "ticks": ""
             }
            },
            "marker": {
             "colorbar": {
              "outlinewidth": 0,
              "ticks": ""
             }
            },
            "type": "scatter3d"
           }
          ],
          "scattercarpet": [
           {
            "marker": {
             "colorbar": {
              "outlinewidth": 0,
              "ticks": ""
             }
            },
            "type": "scattercarpet"
           }
          ],
          "scattergeo": [
           {
            "marker": {
             "colorbar": {
              "outlinewidth": 0,
              "ticks": ""
             }
            },
            "type": "scattergeo"
           }
          ],
          "scattergl": [
           {
            "marker": {
             "colorbar": {
              "outlinewidth": 0,
              "ticks": ""
             }
            },
            "type": "scattergl"
           }
          ],
          "scattermapbox": [
           {
            "marker": {
             "colorbar": {
              "outlinewidth": 0,
              "ticks": ""
             }
            },
            "type": "scattermapbox"
           }
          ],
          "scatterpolar": [
           {
            "marker": {
             "colorbar": {
              "outlinewidth": 0,
              "ticks": ""
             }
            },
            "type": "scatterpolar"
           }
          ],
          "scatterpolargl": [
           {
            "marker": {
             "colorbar": {
              "outlinewidth": 0,
              "ticks": ""
             }
            },
            "type": "scatterpolargl"
           }
          ],
          "scatterternary": [
           {
            "marker": {
             "colorbar": {
              "outlinewidth": 0,
              "ticks": ""
             }
            },
            "type": "scatterternary"
           }
          ],
          "surface": [
           {
            "colorbar": {
             "outlinewidth": 0,
             "ticks": ""
            },
            "colorscale": [
             [
              0,
              "#0d0887"
             ],
             [
              0.1111111111111111,
              "#46039f"
             ],
             [
              0.2222222222222222,
              "#7201a8"
             ],
             [
              0.3333333333333333,
              "#9c179e"
             ],
             [
              0.4444444444444444,
              "#bd3786"
             ],
             [
              0.5555555555555556,
              "#d8576b"
             ],
             [
              0.6666666666666666,
              "#ed7953"
             ],
             [
              0.7777777777777778,
              "#fb9f3a"
             ],
             [
              0.8888888888888888,
              "#fdca26"
             ],
             [
              1,
              "#f0f921"
             ]
            ],
            "type": "surface"
           }
          ],
          "table": [
           {
            "cells": {
             "fill": {
              "color": "#EBF0F8"
             },
             "line": {
              "color": "white"
             }
            },
            "header": {
             "fill": {
              "color": "#C8D4E3"
             },
             "line": {
              "color": "white"
             }
            },
            "type": "table"
           }
          ]
         },
         "layout": {
          "annotationdefaults": {
           "arrowcolor": "#2a3f5f",
           "arrowhead": 0,
           "arrowwidth": 1
          },
          "autotypenumbers": "strict",
          "coloraxis": {
           "colorbar": {
            "outlinewidth": 0,
            "ticks": ""
           }
          },
          "colorscale": {
           "diverging": [
            [
             0,
             "#8e0152"
            ],
            [
             0.1,
             "#c51b7d"
            ],
            [
             0.2,
             "#de77ae"
            ],
            [
             0.3,
             "#f1b6da"
            ],
            [
             0.4,
             "#fde0ef"
            ],
            [
             0.5,
             "#f7f7f7"
            ],
            [
             0.6,
             "#e6f5d0"
            ],
            [
             0.7,
             "#b8e186"
            ],
            [
             0.8,
             "#7fbc41"
            ],
            [
             0.9,
             "#4d9221"
            ],
            [
             1,
             "#276419"
            ]
           ],
           "sequential": [
            [
             0,
             "#0d0887"
            ],
            [
             0.1111111111111111,
             "#46039f"
            ],
            [
             0.2222222222222222,
             "#7201a8"
            ],
            [
             0.3333333333333333,
             "#9c179e"
            ],
            [
             0.4444444444444444,
             "#bd3786"
            ],
            [
             0.5555555555555556,
             "#d8576b"
            ],
            [
             0.6666666666666666,
             "#ed7953"
            ],
            [
             0.7777777777777778,
             "#fb9f3a"
            ],
            [
             0.8888888888888888,
             "#fdca26"
            ],
            [
             1,
             "#f0f921"
            ]
           ],
           "sequentialminus": [
            [
             0,
             "#0d0887"
            ],
            [
             0.1111111111111111,
             "#46039f"
            ],
            [
             0.2222222222222222,
             "#7201a8"
            ],
            [
             0.3333333333333333,
             "#9c179e"
            ],
            [
             0.4444444444444444,
             "#bd3786"
            ],
            [
             0.5555555555555556,
             "#d8576b"
            ],
            [
             0.6666666666666666,
             "#ed7953"
            ],
            [
             0.7777777777777778,
             "#fb9f3a"
            ],
            [
             0.8888888888888888,
             "#fdca26"
            ],
            [
             1,
             "#f0f921"
            ]
           ]
          },
          "colorway": [
           "#636efa",
           "#EF553B",
           "#00cc96",
           "#ab63fa",
           "#FFA15A",
           "#19d3f3",
           "#FF6692",
           "#B6E880",
           "#FF97FF",
           "#FECB52"
          ],
          "font": {
           "color": "#2a3f5f"
          },
          "geo": {
           "bgcolor": "white",
           "lakecolor": "white",
           "landcolor": "#E5ECF6",
           "showlakes": true,
           "showland": true,
           "subunitcolor": "white"
          },
          "hoverlabel": {
           "align": "left"
          },
          "hovermode": "closest",
          "mapbox": {
           "style": "light"
          },
          "paper_bgcolor": "white",
          "plot_bgcolor": "#E5ECF6",
          "polar": {
           "angularaxis": {
            "gridcolor": "white",
            "linecolor": "white",
            "ticks": ""
           },
           "bgcolor": "#E5ECF6",
           "radialaxis": {
            "gridcolor": "white",
            "linecolor": "white",
            "ticks": ""
           }
          },
          "scene": {
           "xaxis": {
            "backgroundcolor": "#E5ECF6",
            "gridcolor": "white",
            "gridwidth": 2,
            "linecolor": "white",
            "showbackground": true,
            "ticks": "",
            "zerolinecolor": "white"
           },
           "yaxis": {
            "backgroundcolor": "#E5ECF6",
            "gridcolor": "white",
            "gridwidth": 2,
            "linecolor": "white",
            "showbackground": true,
            "ticks": "",
            "zerolinecolor": "white"
           },
           "zaxis": {
            "backgroundcolor": "#E5ECF6",
            "gridcolor": "white",
            "gridwidth": 2,
            "linecolor": "white",
            "showbackground": true,
            "ticks": "",
            "zerolinecolor": "white"
           }
          },
          "shapedefaults": {
           "line": {
            "color": "#2a3f5f"
           }
          },
          "ternary": {
           "aaxis": {
            "gridcolor": "white",
            "linecolor": "white",
            "ticks": ""
           },
           "baxis": {
            "gridcolor": "white",
            "linecolor": "white",
            "ticks": ""
           },
           "bgcolor": "#E5ECF6",
           "caxis": {
            "gridcolor": "white",
            "linecolor": "white",
            "ticks": ""
           }
          },
          "title": {
           "x": 0.05
          },
          "xaxis": {
           "automargin": true,
           "gridcolor": "white",
           "linecolor": "white",
           "ticks": "",
           "title": {
            "standoff": 15
           },
           "zerolinecolor": "white",
           "zerolinewidth": 2
          },
          "yaxis": {
           "automargin": true,
           "gridcolor": "white",
           "linecolor": "white",
           "ticks": "",
           "title": {
            "standoff": 15
           },
           "zerolinecolor": "white",
           "zerolinewidth": 2
          }
         }
        },
        "title": {
         "text": "Diklofenak podla krajiny vyrobcu (vsetky)"
        }
       }
      }
     },
     "metadata": {}
    }
   ],
   "source": [
    "fig = px.pie(diklofenak.groupby('STAT_popis').sum().reset_index(), names='STAT_popis', values='Počet_balení', title = 'Diklofenak podla krajiny vyrobcu (vsetky)')\n",
    "fig.show()"
   ]
  },
  {
   "source": [
    "# 9. Metamizol, sodna sol"
   ],
   "cell_type": "markdown",
   "metadata": {}
  },
  {
   "cell_type": "code",
   "execution_count": 82,
   "metadata": {},
   "outputs": [
    {
     "output_type": "display_data",
     "data": {
      "text/plain": "           LIEK_popis STAT_popis                    VYROBCA_popis  index  \\\n0      METAMISTAD tbl    Nemecko            STADA Arzneimittel AG  12509   \n1       Metamilan tbl    Rakúsko                  G.L.Pharma GmbH   6249   \n2     Metamizol Stada    Nemecko            STADA Arzneimittel AG  12513   \n3      Metamizol Teva  Holandsko                        TEV-NL-4?   6244   \n4  Metamizole Kalceks   Lotyšsko                       AS KALCEKS  12501   \n5    NOVALGIN sol inj    Nemecko  Aventis Pharma Deutschland GmbH   6253   \n6    NOVALGIN sol inj  Slovensko   sanofi-aventis Slovakia s.r.o.  12491   \n7        NOVALGIN tbl  Slovensko   sanofi-aventis Slovakia s.r.o.  12495   \n8        NOVALGIN tbl  Taliansko            Aventis Pharma S.p.A.   6252   \n\n   Počet_balení  Úhrada_PAC  \n0    183829.997    74327.59  \n1     32683.300     8515.62  \n2    112570.900    96246.06  \n3         1.000        0.10  \n4     56516.500     1313.88  \n5         3.000        0.00  \n6    218420.700   162095.26  \n7   1342223.310  1574153.23  \n8         2.000        4.24  ",
      "text/html": "<div>\n<style scoped>\n    .dataframe tbody tr th:only-of-type {\n        vertical-align: middle;\n    }\n\n    .dataframe tbody tr th {\n        vertical-align: top;\n    }\n\n    .dataframe thead th {\n        text-align: right;\n    }\n</style>\n<table border=\"1\" class=\"dataframe\">\n  <thead>\n    <tr style=\"text-align: right;\">\n      <th></th>\n      <th>LIEK_popis</th>\n      <th>STAT_popis</th>\n      <th>VYROBCA_popis</th>\n      <th>index</th>\n      <th>Počet_balení</th>\n      <th>Úhrada_PAC</th>\n    </tr>\n  </thead>\n  <tbody>\n    <tr>\n      <th>0</th>\n      <td>METAMISTAD tbl</td>\n      <td>Nemecko</td>\n      <td>STADA Arzneimittel AG</td>\n      <td>12509</td>\n      <td>183829.997</td>\n      <td>74327.59</td>\n    </tr>\n    <tr>\n      <th>1</th>\n      <td>Metamilan tbl</td>\n      <td>Rakúsko</td>\n      <td>G.L.Pharma GmbH</td>\n      <td>6249</td>\n      <td>32683.300</td>\n      <td>8515.62</td>\n    </tr>\n    <tr>\n      <th>2</th>\n      <td>Metamizol Stada</td>\n      <td>Nemecko</td>\n      <td>STADA Arzneimittel AG</td>\n      <td>12513</td>\n      <td>112570.900</td>\n      <td>96246.06</td>\n    </tr>\n    <tr>\n      <th>3</th>\n      <td>Metamizol Teva</td>\n      <td>Holandsko</td>\n      <td>TEV-NL-4?</td>\n      <td>6244</td>\n      <td>1.000</td>\n      <td>0.10</td>\n    </tr>\n    <tr>\n      <th>4</th>\n      <td>Metamizole Kalceks</td>\n      <td>Lotyšsko</td>\n      <td>AS KALCEKS</td>\n      <td>12501</td>\n      <td>56516.500</td>\n      <td>1313.88</td>\n    </tr>\n    <tr>\n      <th>5</th>\n      <td>NOVALGIN sol inj</td>\n      <td>Nemecko</td>\n      <td>Aventis Pharma Deutschland GmbH</td>\n      <td>6253</td>\n      <td>3.000</td>\n      <td>0.00</td>\n    </tr>\n    <tr>\n      <th>6</th>\n      <td>NOVALGIN sol inj</td>\n      <td>Slovensko</td>\n      <td>sanofi-aventis Slovakia s.r.o.</td>\n      <td>12491</td>\n      <td>218420.700</td>\n      <td>162095.26</td>\n    </tr>\n    <tr>\n      <th>7</th>\n      <td>NOVALGIN tbl</td>\n      <td>Slovensko</td>\n      <td>sanofi-aventis Slovakia s.r.o.</td>\n      <td>12495</td>\n      <td>1342223.310</td>\n      <td>1574153.23</td>\n    </tr>\n    <tr>\n      <th>8</th>\n      <td>NOVALGIN tbl</td>\n      <td>Taliansko</td>\n      <td>Aventis Pharma S.p.A.</td>\n      <td>6252</td>\n      <td>2.000</td>\n      <td>4.24</td>\n    </tr>\n  </tbody>\n</table>\n</div>"
     },
     "metadata": {}
    }
   ],
   "source": [
    "\n",
    "metamizol = top20tab[\"N02BB02\"].sort_values(by='Počet_balení', ascending=False)\n",
    "\n",
    "for i,popis in enumerate(metamizol['LIEK_popis']):\n",
    "    if 'METAMISTAD' in popis:\n",
    "        metamizol.iloc[i,4] = 'METAMISTAD tbl'\n",
    "    elif 'Metamilan' in popis:\n",
    "        metamizol.iloc[i,4] = 'Metamilan tbl'\n",
    "    elif 'Metamizol Stada' in popis:\n",
    "        metamizol.iloc[i,4] = 'Metamizol Stada'\n",
    "    elif 'Metamizol Teva' in popis:\n",
    "        metamizol.iloc[i,4] = 'Metamizol Teva'\n",
    "    elif 'Metamizole Kalceks' in popis:\n",
    "        metamizol.iloc[i,4] = 'Metamizole Kalceks'\n",
    "    elif 'NOVALGIN' in popis and 'tbl' in popis:\n",
    "        metamizol.iloc[i,4] = 'NOVALGIN tbl'\n",
    "    elif 'NOVALGIN' in popis:\n",
    "        metamizol.iloc[i,4] = 'NOVALGIN sol inj'\n",
    "    \n",
    "\n",
    "metamizol = metamizol.groupby(['LIEK_popis', 'STAT_popis', 'VYROBCA_popis']).sum().reset_index()\n",
    "\n",
    "display(metamizol.sort_values(by='LIEK_popis'))"
   ]
  },
  {
   "cell_type": "code",
   "execution_count": 84,
   "metadata": {},
   "outputs": [
    {
     "output_type": "display_data",
     "data": {
      "application/vnd.plotly.v1+json": {
       "config": {
        "plotlyServerURL": "https://plot.ly"
       },
       "data": [
        {
         "alignmentgroup": "True",
         "hovertemplate": "STAT_popis=Nemecko<br>LIEK_popis=%{x}<br>Počet_balení=%{y}<extra></extra>",
         "legendgroup": "Nemecko",
         "marker": {
          "color": "#636efa"
         },
         "name": "Nemecko",
         "offsetgroup": "Nemecko",
         "orientation": "v",
         "showlegend": true,
         "textposition": "auto",
         "type": "bar",
         "x": [
          "METAMISTAD tbl",
          "Metamizol Stada"
         ],
         "xaxis": "x",
         "y": [
          183829.99699999997,
          112570.9
         ],
         "yaxis": "y"
        },
        {
         "alignmentgroup": "True",
         "hovertemplate": "STAT_popis=Slovensko<br>LIEK_popis=%{x}<br>Počet_balení=%{y}<extra></extra>",
         "legendgroup": "Slovensko",
         "marker": {
          "color": "#EF553B"
         },
         "name": "Slovensko",
         "offsetgroup": "Slovensko",
         "orientation": "v",
         "showlegend": true,
         "textposition": "auto",
         "type": "bar",
         "x": [
          "NOVALGIN sol inj",
          "NOVALGIN tbl"
         ],
         "xaxis": "x",
         "y": [
          218420.7,
          1342223.31
         ],
         "yaxis": "y"
        }
       ],
       "layout": {
        "barmode": "relative",
        "legend": {
         "title": {
          "text": "STAT_popis"
         },
         "tracegroupgap": 0
        },
        "template": {
         "data": {
          "bar": [
           {
            "error_x": {
             "color": "#2a3f5f"
            },
            "error_y": {
             "color": "#2a3f5f"
            },
            "marker": {
             "line": {
              "color": "#E5ECF6",
              "width": 0.5
             }
            },
            "type": "bar"
           }
          ],
          "barpolar": [
           {
            "marker": {
             "line": {
              "color": "#E5ECF6",
              "width": 0.5
             }
            },
            "type": "barpolar"
           }
          ],
          "carpet": [
           {
            "aaxis": {
             "endlinecolor": "#2a3f5f",
             "gridcolor": "white",
             "linecolor": "white",
             "minorgridcolor": "white",
             "startlinecolor": "#2a3f5f"
            },
            "baxis": {
             "endlinecolor": "#2a3f5f",
             "gridcolor": "white",
             "linecolor": "white",
             "minorgridcolor": "white",
             "startlinecolor": "#2a3f5f"
            },
            "type": "carpet"
           }
          ],
          "choropleth": [
           {
            "colorbar": {
             "outlinewidth": 0,
             "ticks": ""
            },
            "type": "choropleth"
           }
          ],
          "contour": [
           {
            "colorbar": {
             "outlinewidth": 0,
             "ticks": ""
            },
            "colorscale": [
             [
              0,
              "#0d0887"
             ],
             [
              0.1111111111111111,
              "#46039f"
             ],
             [
              0.2222222222222222,
              "#7201a8"
             ],
             [
              0.3333333333333333,
              "#9c179e"
             ],
             [
              0.4444444444444444,
              "#bd3786"
             ],
             [
              0.5555555555555556,
              "#d8576b"
             ],
             [
              0.6666666666666666,
              "#ed7953"
             ],
             [
              0.7777777777777778,
              "#fb9f3a"
             ],
             [
              0.8888888888888888,
              "#fdca26"
             ],
             [
              1,
              "#f0f921"
             ]
            ],
            "type": "contour"
           }
          ],
          "contourcarpet": [
           {
            "colorbar": {
             "outlinewidth": 0,
             "ticks": ""
            },
            "type": "contourcarpet"
           }
          ],
          "heatmap": [
           {
            "colorbar": {
             "outlinewidth": 0,
             "ticks": ""
            },
            "colorscale": [
             [
              0,
              "#0d0887"
             ],
             [
              0.1111111111111111,
              "#46039f"
             ],
             [
              0.2222222222222222,
              "#7201a8"
             ],
             [
              0.3333333333333333,
              "#9c179e"
             ],
             [
              0.4444444444444444,
              "#bd3786"
             ],
             [
              0.5555555555555556,
              "#d8576b"
             ],
             [
              0.6666666666666666,
              "#ed7953"
             ],
             [
              0.7777777777777778,
              "#fb9f3a"
             ],
             [
              0.8888888888888888,
              "#fdca26"
             ],
             [
              1,
              "#f0f921"
             ]
            ],
            "type": "heatmap"
           }
          ],
          "heatmapgl": [
           {
            "colorbar": {
             "outlinewidth": 0,
             "ticks": ""
            },
            "colorscale": [
             [
              0,
              "#0d0887"
             ],
             [
              0.1111111111111111,
              "#46039f"
             ],
             [
              0.2222222222222222,
              "#7201a8"
             ],
             [
              0.3333333333333333,
              "#9c179e"
             ],
             [
              0.4444444444444444,
              "#bd3786"
             ],
             [
              0.5555555555555556,
              "#d8576b"
             ],
             [
              0.6666666666666666,
              "#ed7953"
             ],
             [
              0.7777777777777778,
              "#fb9f3a"
             ],
             [
              0.8888888888888888,
              "#fdca26"
             ],
             [
              1,
              "#f0f921"
             ]
            ],
            "type": "heatmapgl"
           }
          ],
          "histogram": [
           {
            "marker": {
             "colorbar": {
              "outlinewidth": 0,
              "ticks": ""
             }
            },
            "type": "histogram"
           }
          ],
          "histogram2d": [
           {
            "colorbar": {
             "outlinewidth": 0,
             "ticks": ""
            },
            "colorscale": [
             [
              0,
              "#0d0887"
             ],
             [
              0.1111111111111111,
              "#46039f"
             ],
             [
              0.2222222222222222,
              "#7201a8"
             ],
             [
              0.3333333333333333,
              "#9c179e"
             ],
             [
              0.4444444444444444,
              "#bd3786"
             ],
             [
              0.5555555555555556,
              "#d8576b"
             ],
             [
              0.6666666666666666,
              "#ed7953"
             ],
             [
              0.7777777777777778,
              "#fb9f3a"
             ],
             [
              0.8888888888888888,
              "#fdca26"
             ],
             [
              1,
              "#f0f921"
             ]
            ],
            "type": "histogram2d"
           }
          ],
          "histogram2dcontour": [
           {
            "colorbar": {
             "outlinewidth": 0,
             "ticks": ""
            },
            "colorscale": [
             [
              0,
              "#0d0887"
             ],
             [
              0.1111111111111111,
              "#46039f"
             ],
             [
              0.2222222222222222,
              "#7201a8"
             ],
             [
              0.3333333333333333,
              "#9c179e"
             ],
             [
              0.4444444444444444,
              "#bd3786"
             ],
             [
              0.5555555555555556,
              "#d8576b"
             ],
             [
              0.6666666666666666,
              "#ed7953"
             ],
             [
              0.7777777777777778,
              "#fb9f3a"
             ],
             [
              0.8888888888888888,
              "#fdca26"
             ],
             [
              1,
              "#f0f921"
             ]
            ],
            "type": "histogram2dcontour"
           }
          ],
          "mesh3d": [
           {
            "colorbar": {
             "outlinewidth": 0,
             "ticks": ""
            },
            "type": "mesh3d"
           }
          ],
          "parcoords": [
           {
            "line": {
             "colorbar": {
              "outlinewidth": 0,
              "ticks": ""
             }
            },
            "type": "parcoords"
           }
          ],
          "pie": [
           {
            "automargin": true,
            "type": "pie"
           }
          ],
          "scatter": [
           {
            "marker": {
             "colorbar": {
              "outlinewidth": 0,
              "ticks": ""
             }
            },
            "type": "scatter"
           }
          ],
          "scatter3d": [
           {
            "line": {
             "colorbar": {
              "outlinewidth": 0,
              "ticks": ""
             }
            },
            "marker": {
             "colorbar": {
              "outlinewidth": 0,
              "ticks": ""
             }
            },
            "type": "scatter3d"
           }
          ],
          "scattercarpet": [
           {
            "marker": {
             "colorbar": {
              "outlinewidth": 0,
              "ticks": ""
             }
            },
            "type": "scattercarpet"
           }
          ],
          "scattergeo": [
           {
            "marker": {
             "colorbar": {
              "outlinewidth": 0,
              "ticks": ""
             }
            },
            "type": "scattergeo"
           }
          ],
          "scattergl": [
           {
            "marker": {
             "colorbar": {
              "outlinewidth": 0,
              "ticks": ""
             }
            },
            "type": "scattergl"
           }
          ],
          "scattermapbox": [
           {
            "marker": {
             "colorbar": {
              "outlinewidth": 0,
              "ticks": ""
             }
            },
            "type": "scattermapbox"
           }
          ],
          "scatterpolar": [
           {
            "marker": {
             "colorbar": {
              "outlinewidth": 0,
              "ticks": ""
             }
            },
            "type": "scatterpolar"
           }
          ],
          "scatterpolargl": [
           {
            "marker": {
             "colorbar": {
              "outlinewidth": 0,
              "ticks": ""
             }
            },
            "type": "scatterpolargl"
           }
          ],
          "scatterternary": [
           {
            "marker": {
             "colorbar": {
              "outlinewidth": 0,
              "ticks": ""
             }
            },
            "type": "scatterternary"
           }
          ],
          "surface": [
           {
            "colorbar": {
             "outlinewidth": 0,
             "ticks": ""
            },
            "colorscale": [
             [
              0,
              "#0d0887"
             ],
             [
              0.1111111111111111,
              "#46039f"
             ],
             [
              0.2222222222222222,
              "#7201a8"
             ],
             [
              0.3333333333333333,
              "#9c179e"
             ],
             [
              0.4444444444444444,
              "#bd3786"
             ],
             [
              0.5555555555555556,
              "#d8576b"
             ],
             [
              0.6666666666666666,
              "#ed7953"
             ],
             [
              0.7777777777777778,
              "#fb9f3a"
             ],
             [
              0.8888888888888888,
              "#fdca26"
             ],
             [
              1,
              "#f0f921"
             ]
            ],
            "type": "surface"
           }
          ],
          "table": [
           {
            "cells": {
             "fill": {
              "color": "#EBF0F8"
             },
             "line": {
              "color": "white"
             }
            },
            "header": {
             "fill": {
              "color": "#C8D4E3"
             },
             "line": {
              "color": "white"
             }
            },
            "type": "table"
           }
          ]
         },
         "layout": {
          "annotationdefaults": {
           "arrowcolor": "#2a3f5f",
           "arrowhead": 0,
           "arrowwidth": 1
          },
          "autotypenumbers": "strict",
          "coloraxis": {
           "colorbar": {
            "outlinewidth": 0,
            "ticks": ""
           }
          },
          "colorscale": {
           "diverging": [
            [
             0,
             "#8e0152"
            ],
            [
             0.1,
             "#c51b7d"
            ],
            [
             0.2,
             "#de77ae"
            ],
            [
             0.3,
             "#f1b6da"
            ],
            [
             0.4,
             "#fde0ef"
            ],
            [
             0.5,
             "#f7f7f7"
            ],
            [
             0.6,
             "#e6f5d0"
            ],
            [
             0.7,
             "#b8e186"
            ],
            [
             0.8,
             "#7fbc41"
            ],
            [
             0.9,
             "#4d9221"
            ],
            [
             1,
             "#276419"
            ]
           ],
           "sequential": [
            [
             0,
             "#0d0887"
            ],
            [
             0.1111111111111111,
             "#46039f"
            ],
            [
             0.2222222222222222,
             "#7201a8"
            ],
            [
             0.3333333333333333,
             "#9c179e"
            ],
            [
             0.4444444444444444,
             "#bd3786"
            ],
            [
             0.5555555555555556,
             "#d8576b"
            ],
            [
             0.6666666666666666,
             "#ed7953"
            ],
            [
             0.7777777777777778,
             "#fb9f3a"
            ],
            [
             0.8888888888888888,
             "#fdca26"
            ],
            [
             1,
             "#f0f921"
            ]
           ],
           "sequentialminus": [
            [
             0,
             "#0d0887"
            ],
            [
             0.1111111111111111,
             "#46039f"
            ],
            [
             0.2222222222222222,
             "#7201a8"
            ],
            [
             0.3333333333333333,
             "#9c179e"
            ],
            [
             0.4444444444444444,
             "#bd3786"
            ],
            [
             0.5555555555555556,
             "#d8576b"
            ],
            [
             0.6666666666666666,
             "#ed7953"
            ],
            [
             0.7777777777777778,
             "#fb9f3a"
            ],
            [
             0.8888888888888888,
             "#fdca26"
            ],
            [
             1,
             "#f0f921"
            ]
           ]
          },
          "colorway": [
           "#636efa",
           "#EF553B",
           "#00cc96",
           "#ab63fa",
           "#FFA15A",
           "#19d3f3",
           "#FF6692",
           "#B6E880",
           "#FF97FF",
           "#FECB52"
          ],
          "font": {
           "color": "#2a3f5f"
          },
          "geo": {
           "bgcolor": "white",
           "lakecolor": "white",
           "landcolor": "#E5ECF6",
           "showlakes": true,
           "showland": true,
           "subunitcolor": "white"
          },
          "hoverlabel": {
           "align": "left"
          },
          "hovermode": "closest",
          "mapbox": {
           "style": "light"
          },
          "paper_bgcolor": "white",
          "plot_bgcolor": "#E5ECF6",
          "polar": {
           "angularaxis": {
            "gridcolor": "white",
            "linecolor": "white",
            "ticks": ""
           },
           "bgcolor": "#E5ECF6",
           "radialaxis": {
            "gridcolor": "white",
            "linecolor": "white",
            "ticks": ""
           }
          },
          "scene": {
           "xaxis": {
            "backgroundcolor": "#E5ECF6",
            "gridcolor": "white",
            "gridwidth": 2,
            "linecolor": "white",
            "showbackground": true,
            "ticks": "",
            "zerolinecolor": "white"
           },
           "yaxis": {
            "backgroundcolor": "#E5ECF6",
            "gridcolor": "white",
            "gridwidth": 2,
            "linecolor": "white",
            "showbackground": true,
            "ticks": "",
            "zerolinecolor": "white"
           },
           "zaxis": {
            "backgroundcolor": "#E5ECF6",
            "gridcolor": "white",
            "gridwidth": 2,
            "linecolor": "white",
            "showbackground": true,
            "ticks": "",
            "zerolinecolor": "white"
           }
          },
          "shapedefaults": {
           "line": {
            "color": "#2a3f5f"
           }
          },
          "ternary": {
           "aaxis": {
            "gridcolor": "white",
            "linecolor": "white",
            "ticks": ""
           },
           "baxis": {
            "gridcolor": "white",
            "linecolor": "white",
            "ticks": ""
           },
           "bgcolor": "#E5ECF6",
           "caxis": {
            "gridcolor": "white",
            "linecolor": "white",
            "ticks": ""
           }
          },
          "title": {
           "x": 0.05
          },
          "xaxis": {
           "automargin": true,
           "gridcolor": "white",
           "linecolor": "white",
           "ticks": "",
           "title": {
            "standoff": 15
           },
           "zerolinecolor": "white",
           "zerolinewidth": 2
          },
          "yaxis": {
           "automargin": true,
           "gridcolor": "white",
           "linecolor": "white",
           "ticks": "",
           "title": {
            "standoff": 15
           },
           "zerolinecolor": "white",
           "zerolinewidth": 2
          }
         }
        },
        "title": {
         "text": "Metamizol, sodna sol nad 100 000"
        },
        "xaxis": {
         "anchor": "y",
         "domain": [
          0,
          1
         ],
         "tickangle": 45,
         "title": {
          "text": "LIEK_popis"
         }
        },
        "yaxis": {
         "anchor": "x",
         "domain": [
          0,
          1
         ],
         "title": {
          "text": "Počet_balení"
         }
        }
       }
      }
     },
     "metadata": {}
    }
   ],
   "source": [
    "fig = px.bar(metamizol.query('Počet_balení > 100000'), x='LIEK_popis', y='Počet_balení', color='STAT_popis', title='Metamizol, sodna sol nad 100 000')\n",
    "fig.update_xaxes(tickangle=45)\n",
    "fig.show()"
   ]
  },
  {
   "source": [
    "Z grafu vidime, ze sa najviac predava slovensky Novalgin v tabletach. "
   ],
   "cell_type": "markdown",
   "metadata": {}
  },
  {
   "source": [
    "# 10. Metoprolol"
   ],
   "cell_type": "markdown",
   "metadata": {}
  },
  {
   "cell_type": "code",
   "execution_count": 99,
   "metadata": {},
   "outputs": [
    {
     "output_type": "display_data",
     "data": {
      "text/plain": "              LIEK_popis STAT_popis  index  Počet_balení  Úhrada_PAC\n0                BETALOC  Taliansko   7783    917306.500  2991813.86\n1               CORVITOL    Nemecko   1958     97308.000    13077.12\n2                 EGILOK   Maďarsko  21348    157033.400   136782.42\n3            METOPROBENE    Nemecko   1947         1.000        6.72\n4   Metoprolol Polpharma     Poľsko   1948         3.000       23.22\n5  Metoprolol ratiopharm    Nemecko   7818    368367.099   134140.37\n6             VASOCARDIN  Slovensko   7781    333583.520    27500.64",
      "text/html": "<div>\n<style scoped>\n    .dataframe tbody tr th:only-of-type {\n        vertical-align: middle;\n    }\n\n    .dataframe tbody tr th {\n        vertical-align: top;\n    }\n\n    .dataframe thead th {\n        text-align: right;\n    }\n</style>\n<table border=\"1\" class=\"dataframe\">\n  <thead>\n    <tr style=\"text-align: right;\">\n      <th></th>\n      <th>LIEK_popis</th>\n      <th>STAT_popis</th>\n      <th>index</th>\n      <th>Počet_balení</th>\n      <th>Úhrada_PAC</th>\n    </tr>\n  </thead>\n  <tbody>\n    <tr>\n      <th>0</th>\n      <td>BETALOC</td>\n      <td>Taliansko</td>\n      <td>7783</td>\n      <td>917306.500</td>\n      <td>2991813.86</td>\n    </tr>\n    <tr>\n      <th>1</th>\n      <td>CORVITOL</td>\n      <td>Nemecko</td>\n      <td>1958</td>\n      <td>97308.000</td>\n      <td>13077.12</td>\n    </tr>\n    <tr>\n      <th>2</th>\n      <td>EGILOK</td>\n      <td>Maďarsko</td>\n      <td>21348</td>\n      <td>157033.400</td>\n      <td>136782.42</td>\n    </tr>\n    <tr>\n      <th>3</th>\n      <td>METOPROBENE</td>\n      <td>Nemecko</td>\n      <td>1947</td>\n      <td>1.000</td>\n      <td>6.72</td>\n    </tr>\n    <tr>\n      <th>4</th>\n      <td>Metoprolol Polpharma</td>\n      <td>Poľsko</td>\n      <td>1948</td>\n      <td>3.000</td>\n      <td>23.22</td>\n    </tr>\n    <tr>\n      <th>5</th>\n      <td>Metoprolol ratiopharm</td>\n      <td>Nemecko</td>\n      <td>7818</td>\n      <td>368367.099</td>\n      <td>134140.37</td>\n    </tr>\n    <tr>\n      <th>6</th>\n      <td>VASOCARDIN</td>\n      <td>Slovensko</td>\n      <td>7781</td>\n      <td>333583.520</td>\n      <td>27500.64</td>\n    </tr>\n  </tbody>\n</table>\n</div>"
     },
     "metadata": {}
    }
   ],
   "source": [
    "metoprolol = top20tab[\"C07AB02\"].sort_values(by='Počet_balení', ascending=False)\n",
    "\n",
    "for i,popis in enumerate(metoprolol['LIEK_popis']):\n",
    "    if 'BETALOC' in popis:\n",
    "        metoprolol.iloc[i,4] = 'BETALOC'\n",
    "    elif 'CORVITOL' in popis:\n",
    "        metoprolol.iloc[i,4] = 'CORVITOL'\n",
    "    elif 'EGILOK' in popis:\n",
    "        metoprolol.iloc[i,4] = 'EGILOK'\n",
    "    elif 'Egilok' in popis:\n",
    "        metoprolol.iloc[i,4] = 'EGILOK'\n",
    "    elif 'Metoprobene' in popis:\n",
    "        metoprolol.iloc[i,4] = 'METOPROBENE'\n",
    "    elif 'Metoprolol Polpharma' in popis:\n",
    "        metoprolol.iloc[i,4] = 'Metoprolol Polpharma'\n",
    "    elif 'Metoprolol ratiopharm' in popis:\n",
    "        metoprolol.iloc[i,4] = 'Metoprolol ratiopharm'\n",
    "    elif 'VASOCARDIN' in popis:\n",
    "        metoprolol.iloc[i,4] = 'VASOCARDIN'\n",
    "\n",
    "metoprolol = metoprolol.groupby(['LIEK_popis', 'STAT_popis']).sum().reset_index()\n",
    "display(metoprolol.sort_values(by='LIEK_popis'))"
   ]
  },
  {
   "cell_type": "code",
   "execution_count": 101,
   "metadata": {},
   "outputs": [
    {
     "output_type": "display_data",
     "data": {
      "application/vnd.plotly.v1+json": {
       "config": {
        "plotlyServerURL": "https://plot.ly"
       },
       "data": [
        {
         "alignmentgroup": "True",
         "hovertemplate": "STAT_popis=Taliansko<br>LIEK_popis=%{x}<br>Počet_balení=%{y}<extra></extra>",
         "legendgroup": "Taliansko",
         "marker": {
          "color": "#636efa"
         },
         "name": "Taliansko",
         "offsetgroup": "Taliansko",
         "orientation": "v",
         "showlegend": true,
         "textposition": "auto",
         "type": "bar",
         "x": [
          "BETALOC"
         ],
         "xaxis": "x",
         "y": [
          917306.5
         ],
         "yaxis": "y"
        },
        {
         "alignmentgroup": "True",
         "hovertemplate": "STAT_popis=Nemecko<br>LIEK_popis=%{x}<br>Počet_balení=%{y}<extra></extra>",
         "legendgroup": "Nemecko",
         "marker": {
          "color": "#EF553B"
         },
         "name": "Nemecko",
         "offsetgroup": "Nemecko",
         "orientation": "v",
         "showlegend": true,
         "textposition": "auto",
         "type": "bar",
         "x": [
          "CORVITOL",
          "Metoprolol ratiopharm"
         ],
         "xaxis": "x",
         "y": [
          97308,
          368367.099
         ],
         "yaxis": "y"
        },
        {
         "alignmentgroup": "True",
         "hovertemplate": "STAT_popis=Maďarsko<br>LIEK_popis=%{x}<br>Počet_balení=%{y}<extra></extra>",
         "legendgroup": "Maďarsko",
         "marker": {
          "color": "#00cc96"
         },
         "name": "Maďarsko",
         "offsetgroup": "Maďarsko",
         "orientation": "v",
         "showlegend": true,
         "textposition": "auto",
         "type": "bar",
         "x": [
          "EGILOK"
         ],
         "xaxis": "x",
         "y": [
          157033.4
         ],
         "yaxis": "y"
        },
        {
         "alignmentgroup": "True",
         "hovertemplate": "STAT_popis=Slovensko<br>LIEK_popis=%{x}<br>Počet_balení=%{y}<extra></extra>",
         "legendgroup": "Slovensko",
         "marker": {
          "color": "#ab63fa"
         },
         "name": "Slovensko",
         "offsetgroup": "Slovensko",
         "orientation": "v",
         "showlegend": true,
         "textposition": "auto",
         "type": "bar",
         "x": [
          "VASOCARDIN"
         ],
         "xaxis": "x",
         "y": [
          333583.52
         ],
         "yaxis": "y"
        }
       ],
       "layout": {
        "barmode": "relative",
        "legend": {
         "title": {
          "text": "STAT_popis"
         },
         "tracegroupgap": 0
        },
        "template": {
         "data": {
          "bar": [
           {
            "error_x": {
             "color": "#2a3f5f"
            },
            "error_y": {
             "color": "#2a3f5f"
            },
            "marker": {
             "line": {
              "color": "#E5ECF6",
              "width": 0.5
             }
            },
            "type": "bar"
           }
          ],
          "barpolar": [
           {
            "marker": {
             "line": {
              "color": "#E5ECF6",
              "width": 0.5
             }
            },
            "type": "barpolar"
           }
          ],
          "carpet": [
           {
            "aaxis": {
             "endlinecolor": "#2a3f5f",
             "gridcolor": "white",
             "linecolor": "white",
             "minorgridcolor": "white",
             "startlinecolor": "#2a3f5f"
            },
            "baxis": {
             "endlinecolor": "#2a3f5f",
             "gridcolor": "white",
             "linecolor": "white",
             "minorgridcolor": "white",
             "startlinecolor": "#2a3f5f"
            },
            "type": "carpet"
           }
          ],
          "choropleth": [
           {
            "colorbar": {
             "outlinewidth": 0,
             "ticks": ""
            },
            "type": "choropleth"
           }
          ],
          "contour": [
           {
            "colorbar": {
             "outlinewidth": 0,
             "ticks": ""
            },
            "colorscale": [
             [
              0,
              "#0d0887"
             ],
             [
              0.1111111111111111,
              "#46039f"
             ],
             [
              0.2222222222222222,
              "#7201a8"
             ],
             [
              0.3333333333333333,
              "#9c179e"
             ],
             [
              0.4444444444444444,
              "#bd3786"
             ],
             [
              0.5555555555555556,
              "#d8576b"
             ],
             [
              0.6666666666666666,
              "#ed7953"
             ],
             [
              0.7777777777777778,
              "#fb9f3a"
             ],
             [
              0.8888888888888888,
              "#fdca26"
             ],
             [
              1,
              "#f0f921"
             ]
            ],
            "type": "contour"
           }
          ],
          "contourcarpet": [
           {
            "colorbar": {
             "outlinewidth": 0,
             "ticks": ""
            },
            "type": "contourcarpet"
           }
          ],
          "heatmap": [
           {
            "colorbar": {
             "outlinewidth": 0,
             "ticks": ""
            },
            "colorscale": [
             [
              0,
              "#0d0887"
             ],
             [
              0.1111111111111111,
              "#46039f"
             ],
             [
              0.2222222222222222,
              "#7201a8"
             ],
             [
              0.3333333333333333,
              "#9c179e"
             ],
             [
              0.4444444444444444,
              "#bd3786"
             ],
             [
              0.5555555555555556,
              "#d8576b"
             ],
             [
              0.6666666666666666,
              "#ed7953"
             ],
             [
              0.7777777777777778,
              "#fb9f3a"
             ],
             [
              0.8888888888888888,
              "#fdca26"
             ],
             [
              1,
              "#f0f921"
             ]
            ],
            "type": "heatmap"
           }
          ],
          "heatmapgl": [
           {
            "colorbar": {
             "outlinewidth": 0,
             "ticks": ""
            },
            "colorscale": [
             [
              0,
              "#0d0887"
             ],
             [
              0.1111111111111111,
              "#46039f"
             ],
             [
              0.2222222222222222,
              "#7201a8"
             ],
             [
              0.3333333333333333,
              "#9c179e"
             ],
             [
              0.4444444444444444,
              "#bd3786"
             ],
             [
              0.5555555555555556,
              "#d8576b"
             ],
             [
              0.6666666666666666,
              "#ed7953"
             ],
             [
              0.7777777777777778,
              "#fb9f3a"
             ],
             [
              0.8888888888888888,
              "#fdca26"
             ],
             [
              1,
              "#f0f921"
             ]
            ],
            "type": "heatmapgl"
           }
          ],
          "histogram": [
           {
            "marker": {
             "colorbar": {
              "outlinewidth": 0,
              "ticks": ""
             }
            },
            "type": "histogram"
           }
          ],
          "histogram2d": [
           {
            "colorbar": {
             "outlinewidth": 0,
             "ticks": ""
            },
            "colorscale": [
             [
              0,
              "#0d0887"
             ],
             [
              0.1111111111111111,
              "#46039f"
             ],
             [
              0.2222222222222222,
              "#7201a8"
             ],
             [
              0.3333333333333333,
              "#9c179e"
             ],
             [
              0.4444444444444444,
              "#bd3786"
             ],
             [
              0.5555555555555556,
              "#d8576b"
             ],
             [
              0.6666666666666666,
              "#ed7953"
             ],
             [
              0.7777777777777778,
              "#fb9f3a"
             ],
             [
              0.8888888888888888,
              "#fdca26"
             ],
             [
              1,
              "#f0f921"
             ]
            ],
            "type": "histogram2d"
           }
          ],
          "histogram2dcontour": [
           {
            "colorbar": {
             "outlinewidth": 0,
             "ticks": ""
            },
            "colorscale": [
             [
              0,
              "#0d0887"
             ],
             [
              0.1111111111111111,
              "#46039f"
             ],
             [
              0.2222222222222222,
              "#7201a8"
             ],
             [
              0.3333333333333333,
              "#9c179e"
             ],
             [
              0.4444444444444444,
              "#bd3786"
             ],
             [
              0.5555555555555556,
              "#d8576b"
             ],
             [
              0.6666666666666666,
              "#ed7953"
             ],
             [
              0.7777777777777778,
              "#fb9f3a"
             ],
             [
              0.8888888888888888,
              "#fdca26"
             ],
             [
              1,
              "#f0f921"
             ]
            ],
            "type": "histogram2dcontour"
           }
          ],
          "mesh3d": [
           {
            "colorbar": {
             "outlinewidth": 0,
             "ticks": ""
            },
            "type": "mesh3d"
           }
          ],
          "parcoords": [
           {
            "line": {
             "colorbar": {
              "outlinewidth": 0,
              "ticks": ""
             }
            },
            "type": "parcoords"
           }
          ],
          "pie": [
           {
            "automargin": true,
            "type": "pie"
           }
          ],
          "scatter": [
           {
            "marker": {
             "colorbar": {
              "outlinewidth": 0,
              "ticks": ""
             }
            },
            "type": "scatter"
           }
          ],
          "scatter3d": [
           {
            "line": {
             "colorbar": {
              "outlinewidth": 0,
              "ticks": ""
             }
            },
            "marker": {
             "colorbar": {
              "outlinewidth": 0,
              "ticks": ""
             }
            },
            "type": "scatter3d"
           }
          ],
          "scattercarpet": [
           {
            "marker": {
             "colorbar": {
              "outlinewidth": 0,
              "ticks": ""
             }
            },
            "type": "scattercarpet"
           }
          ],
          "scattergeo": [
           {
            "marker": {
             "colorbar": {
              "outlinewidth": 0,
              "ticks": ""
             }
            },
            "type": "scattergeo"
           }
          ],
          "scattergl": [
           {
            "marker": {
             "colorbar": {
              "outlinewidth": 0,
              "ticks": ""
             }
            },
            "type": "scattergl"
           }
          ],
          "scattermapbox": [
           {
            "marker": {
             "colorbar": {
              "outlinewidth": 0,
              "ticks": ""
             }
            },
            "type": "scattermapbox"
           }
          ],
          "scatterpolar": [
           {
            "marker": {
             "colorbar": {
              "outlinewidth": 0,
              "ticks": ""
             }
            },
            "type": "scatterpolar"
           }
          ],
          "scatterpolargl": [
           {
            "marker": {
             "colorbar": {
              "outlinewidth": 0,
              "ticks": ""
             }
            },
            "type": "scatterpolargl"
           }
          ],
          "scatterternary": [
           {
            "marker": {
             "colorbar": {
              "outlinewidth": 0,
              "ticks": ""
             }
            },
            "type": "scatterternary"
           }
          ],
          "surface": [
           {
            "colorbar": {
             "outlinewidth": 0,
             "ticks": ""
            },
            "colorscale": [
             [
              0,
              "#0d0887"
             ],
             [
              0.1111111111111111,
              "#46039f"
             ],
             [
              0.2222222222222222,
              "#7201a8"
             ],
             [
              0.3333333333333333,
              "#9c179e"
             ],
             [
              0.4444444444444444,
              "#bd3786"
             ],
             [
              0.5555555555555556,
              "#d8576b"
             ],
             [
              0.6666666666666666,
              "#ed7953"
             ],
             [
              0.7777777777777778,
              "#fb9f3a"
             ],
             [
              0.8888888888888888,
              "#fdca26"
             ],
             [
              1,
              "#f0f921"
             ]
            ],
            "type": "surface"
           }
          ],
          "table": [
           {
            "cells": {
             "fill": {
              "color": "#EBF0F8"
             },
             "line": {
              "color": "white"
             }
            },
            "header": {
             "fill": {
              "color": "#C8D4E3"
             },
             "line": {
              "color": "white"
             }
            },
            "type": "table"
           }
          ]
         },
         "layout": {
          "annotationdefaults": {
           "arrowcolor": "#2a3f5f",
           "arrowhead": 0,
           "arrowwidth": 1
          },
          "autotypenumbers": "strict",
          "coloraxis": {
           "colorbar": {
            "outlinewidth": 0,
            "ticks": ""
           }
          },
          "colorscale": {
           "diverging": [
            [
             0,
             "#8e0152"
            ],
            [
             0.1,
             "#c51b7d"
            ],
            [
             0.2,
             "#de77ae"
            ],
            [
             0.3,
             "#f1b6da"
            ],
            [
             0.4,
             "#fde0ef"
            ],
            [
             0.5,
             "#f7f7f7"
            ],
            [
             0.6,
             "#e6f5d0"
            ],
            [
             0.7,
             "#b8e186"
            ],
            [
             0.8,
             "#7fbc41"
            ],
            [
             0.9,
             "#4d9221"
            ],
            [
             1,
             "#276419"
            ]
           ],
           "sequential": [
            [
             0,
             "#0d0887"
            ],
            [
             0.1111111111111111,
             "#46039f"
            ],
            [
             0.2222222222222222,
             "#7201a8"
            ],
            [
             0.3333333333333333,
             "#9c179e"
            ],
            [
             0.4444444444444444,
             "#bd3786"
            ],
            [
             0.5555555555555556,
             "#d8576b"
            ],
            [
             0.6666666666666666,
             "#ed7953"
            ],
            [
             0.7777777777777778,
             "#fb9f3a"
            ],
            [
             0.8888888888888888,
             "#fdca26"
            ],
            [
             1,
             "#f0f921"
            ]
           ],
           "sequentialminus": [
            [
             0,
             "#0d0887"
            ],
            [
             0.1111111111111111,
             "#46039f"
            ],
            [
             0.2222222222222222,
             "#7201a8"
            ],
            [
             0.3333333333333333,
             "#9c179e"
            ],
            [
             0.4444444444444444,
             "#bd3786"
            ],
            [
             0.5555555555555556,
             "#d8576b"
            ],
            [
             0.6666666666666666,
             "#ed7953"
            ],
            [
             0.7777777777777778,
             "#fb9f3a"
            ],
            [
             0.8888888888888888,
             "#fdca26"
            ],
            [
             1,
             "#f0f921"
            ]
           ]
          },
          "colorway": [
           "#636efa",
           "#EF553B",
           "#00cc96",
           "#ab63fa",
           "#FFA15A",
           "#19d3f3",
           "#FF6692",
           "#B6E880",
           "#FF97FF",
           "#FECB52"
          ],
          "font": {
           "color": "#2a3f5f"
          },
          "geo": {
           "bgcolor": "white",
           "lakecolor": "white",
           "landcolor": "#E5ECF6",
           "showlakes": true,
           "showland": true,
           "subunitcolor": "white"
          },
          "hoverlabel": {
           "align": "left"
          },
          "hovermode": "closest",
          "mapbox": {
           "style": "light"
          },
          "paper_bgcolor": "white",
          "plot_bgcolor": "#E5ECF6",
          "polar": {
           "angularaxis": {
            "gridcolor": "white",
            "linecolor": "white",
            "ticks": ""
           },
           "bgcolor": "#E5ECF6",
           "radialaxis": {
            "gridcolor": "white",
            "linecolor": "white",
            "ticks": ""
           }
          },
          "scene": {
           "xaxis": {
            "backgroundcolor": "#E5ECF6",
            "gridcolor": "white",
            "gridwidth": 2,
            "linecolor": "white",
            "showbackground": true,
            "ticks": "",
            "zerolinecolor": "white"
           },
           "yaxis": {
            "backgroundcolor": "#E5ECF6",
            "gridcolor": "white",
            "gridwidth": 2,
            "linecolor": "white",
            "showbackground": true,
            "ticks": "",
            "zerolinecolor": "white"
           },
           "zaxis": {
            "backgroundcolor": "#E5ECF6",
            "gridcolor": "white",
            "gridwidth": 2,
            "linecolor": "white",
            "showbackground": true,
            "ticks": "",
            "zerolinecolor": "white"
           }
          },
          "shapedefaults": {
           "line": {
            "color": "#2a3f5f"
           }
          },
          "ternary": {
           "aaxis": {
            "gridcolor": "white",
            "linecolor": "white",
            "ticks": ""
           },
           "baxis": {
            "gridcolor": "white",
            "linecolor": "white",
            "ticks": ""
           },
           "bgcolor": "#E5ECF6",
           "caxis": {
            "gridcolor": "white",
            "linecolor": "white",
            "ticks": ""
           }
          },
          "title": {
           "x": 0.05
          },
          "xaxis": {
           "automargin": true,
           "gridcolor": "white",
           "linecolor": "white",
           "ticks": "",
           "title": {
            "standoff": 15
           },
           "zerolinecolor": "white",
           "zerolinewidth": 2
          },
          "yaxis": {
           "automargin": true,
           "gridcolor": "white",
           "linecolor": "white",
           "ticks": "",
           "title": {
            "standoff": 15
           },
           "zerolinecolor": "white",
           "zerolinewidth": 2
          }
         }
        },
        "title": {
         "text": "Metoprolol nad 50 000"
        },
        "xaxis": {
         "anchor": "y",
         "domain": [
          0,
          1
         ],
         "tickangle": 45,
         "title": {
          "text": "LIEK_popis"
         }
        },
        "yaxis": {
         "anchor": "x",
         "domain": [
          0,
          1
         ],
         "title": {
          "text": "Počet_balení"
         }
        }
       }
      }
     },
     "metadata": {}
    }
   ],
   "source": [
    "fig = px.bar(metoprolol.query('Počet_balení > 50000'), x='LIEK_popis', y='Počet_balení', color='STAT_popis', title='Metoprolol nad 50 000')\n",
    "fig.update_xaxes(tickangle=45)\n",
    "fig.show()"
   ]
  },
  {
   "source": [
    "Preco nie je slovensky najpredavanejsi?"
   ],
   "cell_type": "markdown",
   "metadata": {}
  },
  {
   "source": [
    "# 11. Kyselina acetylsalicylova"
   ],
   "cell_type": "markdown",
   "metadata": {}
  },
  {
   "cell_type": "code",
   "execution_count": 85,
   "metadata": {},
   "outputs": [
    {
     "output_type": "display_data",
     "data": {
      "text/plain": "                         LIEK_popis STAT_popis  \\\n0                          ANOPYRIN  Slovensko   \n1                   ASPIRIN PROTECT  Slovensko   \n2                         CARDIORAL  Slovensko   \n3                            Gerasa    Rakúsko   \n4  Kyselina acetylsalicylová Xantis     Cyprus   \n5                         Preventax  Holandsko   \n6                        STADAPYRIN    Nemecko   \n7                         Vasopirin      Česko   \n\n                        VYROBCA_popis  index  Počet_balení  Úhrada_PAC  \n0                           ZNT-SK-2?   6040   1089219.322  2058022.70  \n1                 Bayer, spol. s.r.o.   3986    329049.400   877523.76  \n2                IBSA Slovakia s.r.o.   1015         4.000      186.87  \n3                     G.L.Pharma GmbH   2027      3931.160     6697.88  \n4               XANTIS PHARMA LIMITED   2019     10972.540    11696.24  \n5                           TEV-NL-4?   1016     76991.310   215135.04  \n6               STADA Arzneimittel AG   2010    201492.075   554253.19  \n7  PharmaSwiss Česká republika s.r.o.   5025     39774.200    79233.23  ",
      "text/html": "<div>\n<style scoped>\n    .dataframe tbody tr th:only-of-type {\n        vertical-align: middle;\n    }\n\n    .dataframe tbody tr th {\n        vertical-align: top;\n    }\n\n    .dataframe thead th {\n        text-align: right;\n    }\n</style>\n<table border=\"1\" class=\"dataframe\">\n  <thead>\n    <tr style=\"text-align: right;\">\n      <th></th>\n      <th>LIEK_popis</th>\n      <th>STAT_popis</th>\n      <th>VYROBCA_popis</th>\n      <th>index</th>\n      <th>Počet_balení</th>\n      <th>Úhrada_PAC</th>\n    </tr>\n  </thead>\n  <tbody>\n    <tr>\n      <th>0</th>\n      <td>ANOPYRIN</td>\n      <td>Slovensko</td>\n      <td>ZNT-SK-2?</td>\n      <td>6040</td>\n      <td>1089219.322</td>\n      <td>2058022.70</td>\n    </tr>\n    <tr>\n      <th>1</th>\n      <td>ASPIRIN PROTECT</td>\n      <td>Slovensko</td>\n      <td>Bayer, spol. s.r.o.</td>\n      <td>3986</td>\n      <td>329049.400</td>\n      <td>877523.76</td>\n    </tr>\n    <tr>\n      <th>2</th>\n      <td>CARDIORAL</td>\n      <td>Slovensko</td>\n      <td>IBSA Slovakia s.r.o.</td>\n      <td>1015</td>\n      <td>4.000</td>\n      <td>186.87</td>\n    </tr>\n    <tr>\n      <th>3</th>\n      <td>Gerasa</td>\n      <td>Rakúsko</td>\n      <td>G.L.Pharma GmbH</td>\n      <td>2027</td>\n      <td>3931.160</td>\n      <td>6697.88</td>\n    </tr>\n    <tr>\n      <th>4</th>\n      <td>Kyselina acetylsalicylová Xantis</td>\n      <td>Cyprus</td>\n      <td>XANTIS PHARMA LIMITED</td>\n      <td>2019</td>\n      <td>10972.540</td>\n      <td>11696.24</td>\n    </tr>\n    <tr>\n      <th>5</th>\n      <td>Preventax</td>\n      <td>Holandsko</td>\n      <td>TEV-NL-4?</td>\n      <td>1016</td>\n      <td>76991.310</td>\n      <td>215135.04</td>\n    </tr>\n    <tr>\n      <th>6</th>\n      <td>STADAPYRIN</td>\n      <td>Nemecko</td>\n      <td>STADA Arzneimittel AG</td>\n      <td>2010</td>\n      <td>201492.075</td>\n      <td>554253.19</td>\n    </tr>\n    <tr>\n      <th>7</th>\n      <td>Vasopirin</td>\n      <td>Česko</td>\n      <td>PharmaSwiss Česká republika s.r.o.</td>\n      <td>5025</td>\n      <td>39774.200</td>\n      <td>79233.23</td>\n    </tr>\n  </tbody>\n</table>\n</div>"
     },
     "metadata": {}
    }
   ],
   "source": [
    "\n",
    "k_acetylsalicylova = top20tab[\"B01AC06\"].sort_values(by='Počet_balení', ascending=False)\n",
    "\n",
    "for i,popis in enumerate(k_acetylsalicylova['LIEK_popis']):\n",
    "    if 'ANOPYRIN' in popis:\n",
    "        k_acetylsalicylova.iloc[i,4] = 'ANOPYRIN'\n",
    "    elif 'ASPIRIN PROTECT' in popis:\n",
    "        k_acetylsalicylova.iloc[i,4] = 'ASPIRIN PROTECT'\n",
    "    elif 'CARDIORAL' in popis:\n",
    "        k_acetylsalicylova.iloc[i,4] = 'CARDIORAL'\n",
    "    elif 'Gerasa' in popis:\n",
    "        k_acetylsalicylova.iloc[i,4] = 'Gerasa'\n",
    "    elif 'Kyselina acetylsalicylová Xantis' in popis:\n",
    "        k_acetylsalicylova.iloc[i,4] = 'Kyselina acetylsalicylová Xantis'\n",
    "    elif 'Preventax' in popis:\n",
    "        k_acetylsalicylova.iloc[i,4] = 'Preventax'\n",
    "    elif 'STADAPYRIN' in popis:\n",
    "        k_acetylsalicylova.iloc[i,4] = 'STADAPYRIN'\n",
    "    elif 'Vasopirin' in popis:\n",
    "        k_acetylsalicylova.iloc[i,4] = 'Vasopirin'\n",
    "   \n",
    "\n",
    "k_acetylsalicylova = k_acetylsalicylova.groupby(['LIEK_popis', 'STAT_popis', 'VYROBCA_popis']).sum().reset_index()\n",
    "\n",
    "display(k_acetylsalicylova.sort_values(by='LIEK_popis'))"
   ]
  },
  {
   "cell_type": "code",
   "execution_count": 87,
   "metadata": {},
   "outputs": [
    {
     "output_type": "display_data",
     "data": {
      "application/vnd.plotly.v1+json": {
       "config": {
        "plotlyServerURL": "https://plot.ly"
       },
       "data": [
        {
         "alignmentgroup": "True",
         "hovertemplate": "STAT_popis=Slovensko<br>LIEK_popis=%{x}<br>Počet_balení=%{y}<extra></extra>",
         "legendgroup": "Slovensko",
         "marker": {
          "color": "#636efa"
         },
         "name": "Slovensko",
         "offsetgroup": "Slovensko",
         "orientation": "v",
         "showlegend": true,
         "textposition": "auto",
         "type": "bar",
         "x": [
          "ANOPYRIN",
          "ASPIRIN PROTECT"
         ],
         "xaxis": "x",
         "y": [
          1089219.322,
          329049.4
         ],
         "yaxis": "y"
        },
        {
         "alignmentgroup": "True",
         "hovertemplate": "STAT_popis=Holandsko<br>LIEK_popis=%{x}<br>Počet_balení=%{y}<extra></extra>",
         "legendgroup": "Holandsko",
         "marker": {
          "color": "#EF553B"
         },
         "name": "Holandsko",
         "offsetgroup": "Holandsko",
         "orientation": "v",
         "showlegend": true,
         "textposition": "auto",
         "type": "bar",
         "x": [
          "Preventax"
         ],
         "xaxis": "x",
         "y": [
          76991.31000000001
         ],
         "yaxis": "y"
        },
        {
         "alignmentgroup": "True",
         "hovertemplate": "STAT_popis=Nemecko<br>LIEK_popis=%{x}<br>Počet_balení=%{y}<extra></extra>",
         "legendgroup": "Nemecko",
         "marker": {
          "color": "#00cc96"
         },
         "name": "Nemecko",
         "offsetgroup": "Nemecko",
         "orientation": "v",
         "showlegend": true,
         "textposition": "auto",
         "type": "bar",
         "x": [
          "STADAPYRIN"
         ],
         "xaxis": "x",
         "y": [
          201492.075
         ],
         "yaxis": "y"
        }
       ],
       "layout": {
        "barmode": "relative",
        "legend": {
         "title": {
          "text": "STAT_popis"
         },
         "tracegroupgap": 0
        },
        "template": {
         "data": {
          "bar": [
           {
            "error_x": {
             "color": "#2a3f5f"
            },
            "error_y": {
             "color": "#2a3f5f"
            },
            "marker": {
             "line": {
              "color": "#E5ECF6",
              "width": 0.5
             }
            },
            "type": "bar"
           }
          ],
          "barpolar": [
           {
            "marker": {
             "line": {
              "color": "#E5ECF6",
              "width": 0.5
             }
            },
            "type": "barpolar"
           }
          ],
          "carpet": [
           {
            "aaxis": {
             "endlinecolor": "#2a3f5f",
             "gridcolor": "white",
             "linecolor": "white",
             "minorgridcolor": "white",
             "startlinecolor": "#2a3f5f"
            },
            "baxis": {
             "endlinecolor": "#2a3f5f",
             "gridcolor": "white",
             "linecolor": "white",
             "minorgridcolor": "white",
             "startlinecolor": "#2a3f5f"
            },
            "type": "carpet"
           }
          ],
          "choropleth": [
           {
            "colorbar": {
             "outlinewidth": 0,
             "ticks": ""
            },
            "type": "choropleth"
           }
          ],
          "contour": [
           {
            "colorbar": {
             "outlinewidth": 0,
             "ticks": ""
            },
            "colorscale": [
             [
              0,
              "#0d0887"
             ],
             [
              0.1111111111111111,
              "#46039f"
             ],
             [
              0.2222222222222222,
              "#7201a8"
             ],
             [
              0.3333333333333333,
              "#9c179e"
             ],
             [
              0.4444444444444444,
              "#bd3786"
             ],
             [
              0.5555555555555556,
              "#d8576b"
             ],
             [
              0.6666666666666666,
              "#ed7953"
             ],
             [
              0.7777777777777778,
              "#fb9f3a"
             ],
             [
              0.8888888888888888,
              "#fdca26"
             ],
             [
              1,
              "#f0f921"
             ]
            ],
            "type": "contour"
           }
          ],
          "contourcarpet": [
           {
            "colorbar": {
             "outlinewidth": 0,
             "ticks": ""
            },
            "type": "contourcarpet"
           }
          ],
          "heatmap": [
           {
            "colorbar": {
             "outlinewidth": 0,
             "ticks": ""
            },
            "colorscale": [
             [
              0,
              "#0d0887"
             ],
             [
              0.1111111111111111,
              "#46039f"
             ],
             [
              0.2222222222222222,
              "#7201a8"
             ],
             [
              0.3333333333333333,
              "#9c179e"
             ],
             [
              0.4444444444444444,
              "#bd3786"
             ],
             [
              0.5555555555555556,
              "#d8576b"
             ],
             [
              0.6666666666666666,
              "#ed7953"
             ],
             [
              0.7777777777777778,
              "#fb9f3a"
             ],
             [
              0.8888888888888888,
              "#fdca26"
             ],
             [
              1,
              "#f0f921"
             ]
            ],
            "type": "heatmap"
           }
          ],
          "heatmapgl": [
           {
            "colorbar": {
             "outlinewidth": 0,
             "ticks": ""
            },
            "colorscale": [
             [
              0,
              "#0d0887"
             ],
             [
              0.1111111111111111,
              "#46039f"
             ],
             [
              0.2222222222222222,
              "#7201a8"
             ],
             [
              0.3333333333333333,
              "#9c179e"
             ],
             [
              0.4444444444444444,
              "#bd3786"
             ],
             [
              0.5555555555555556,
              "#d8576b"
             ],
             [
              0.6666666666666666,
              "#ed7953"
             ],
             [
              0.7777777777777778,
              "#fb9f3a"
             ],
             [
              0.8888888888888888,
              "#fdca26"
             ],
             [
              1,
              "#f0f921"
             ]
            ],
            "type": "heatmapgl"
           }
          ],
          "histogram": [
           {
            "marker": {
             "colorbar": {
              "outlinewidth": 0,
              "ticks": ""
             }
            },
            "type": "histogram"
           }
          ],
          "histogram2d": [
           {
            "colorbar": {
             "outlinewidth": 0,
             "ticks": ""
            },
            "colorscale": [
             [
              0,
              "#0d0887"
             ],
             [
              0.1111111111111111,
              "#46039f"
             ],
             [
              0.2222222222222222,
              "#7201a8"
             ],
             [
              0.3333333333333333,
              "#9c179e"
             ],
             [
              0.4444444444444444,
              "#bd3786"
             ],
             [
              0.5555555555555556,
              "#d8576b"
             ],
             [
              0.6666666666666666,
              "#ed7953"
             ],
             [
              0.7777777777777778,
              "#fb9f3a"
             ],
             [
              0.8888888888888888,
              "#fdca26"
             ],
             [
              1,
              "#f0f921"
             ]
            ],
            "type": "histogram2d"
           }
          ],
          "histogram2dcontour": [
           {
            "colorbar": {
             "outlinewidth": 0,
             "ticks": ""
            },
            "colorscale": [
             [
              0,
              "#0d0887"
             ],
             [
              0.1111111111111111,
              "#46039f"
             ],
             [
              0.2222222222222222,
              "#7201a8"
             ],
             [
              0.3333333333333333,
              "#9c179e"
             ],
             [
              0.4444444444444444,
              "#bd3786"
             ],
             [
              0.5555555555555556,
              "#d8576b"
             ],
             [
              0.6666666666666666,
              "#ed7953"
             ],
             [
              0.7777777777777778,
              "#fb9f3a"
             ],
             [
              0.8888888888888888,
              "#fdca26"
             ],
             [
              1,
              "#f0f921"
             ]
            ],
            "type": "histogram2dcontour"
           }
          ],
          "mesh3d": [
           {
            "colorbar": {
             "outlinewidth": 0,
             "ticks": ""
            },
            "type": "mesh3d"
           }
          ],
          "parcoords": [
           {
            "line": {
             "colorbar": {
              "outlinewidth": 0,
              "ticks": ""
             }
            },
            "type": "parcoords"
           }
          ],
          "pie": [
           {
            "automargin": true,
            "type": "pie"
           }
          ],
          "scatter": [
           {
            "marker": {
             "colorbar": {
              "outlinewidth": 0,
              "ticks": ""
             }
            },
            "type": "scatter"
           }
          ],
          "scatter3d": [
           {
            "line": {
             "colorbar": {
              "outlinewidth": 0,
              "ticks": ""
             }
            },
            "marker": {
             "colorbar": {
              "outlinewidth": 0,
              "ticks": ""
             }
            },
            "type": "scatter3d"
           }
          ],
          "scattercarpet": [
           {
            "marker": {
             "colorbar": {
              "outlinewidth": 0,
              "ticks": ""
             }
            },
            "type": "scattercarpet"
           }
          ],
          "scattergeo": [
           {
            "marker": {
             "colorbar": {
              "outlinewidth": 0,
              "ticks": ""
             }
            },
            "type": "scattergeo"
           }
          ],
          "scattergl": [
           {
            "marker": {
             "colorbar": {
              "outlinewidth": 0,
              "ticks": ""
             }
            },
            "type": "scattergl"
           }
          ],
          "scattermapbox": [
           {
            "marker": {
             "colorbar": {
              "outlinewidth": 0,
              "ticks": ""
             }
            },
            "type": "scattermapbox"
           }
          ],
          "scatterpolar": [
           {
            "marker": {
             "colorbar": {
              "outlinewidth": 0,
              "ticks": ""
             }
            },
            "type": "scatterpolar"
           }
          ],
          "scatterpolargl": [
           {
            "marker": {
             "colorbar": {
              "outlinewidth": 0,
              "ticks": ""
             }
            },
            "type": "scatterpolargl"
           }
          ],
          "scatterternary": [
           {
            "marker": {
             "colorbar": {
              "outlinewidth": 0,
              "ticks": ""
             }
            },
            "type": "scatterternary"
           }
          ],
          "surface": [
           {
            "colorbar": {
             "outlinewidth": 0,
             "ticks": ""
            },
            "colorscale": [
             [
              0,
              "#0d0887"
             ],
             [
              0.1111111111111111,
              "#46039f"
             ],
             [
              0.2222222222222222,
              "#7201a8"
             ],
             [
              0.3333333333333333,
              "#9c179e"
             ],
             [
              0.4444444444444444,
              "#bd3786"
             ],
             [
              0.5555555555555556,
              "#d8576b"
             ],
             [
              0.6666666666666666,
              "#ed7953"
             ],
             [
              0.7777777777777778,
              "#fb9f3a"
             ],
             [
              0.8888888888888888,
              "#fdca26"
             ],
             [
              1,
              "#f0f921"
             ]
            ],
            "type": "surface"
           }
          ],
          "table": [
           {
            "cells": {
             "fill": {
              "color": "#EBF0F8"
             },
             "line": {
              "color": "white"
             }
            },
            "header": {
             "fill": {
              "color": "#C8D4E3"
             },
             "line": {
              "color": "white"
             }
            },
            "type": "table"
           }
          ]
         },
         "layout": {
          "annotationdefaults": {
           "arrowcolor": "#2a3f5f",
           "arrowhead": 0,
           "arrowwidth": 1
          },
          "autotypenumbers": "strict",
          "coloraxis": {
           "colorbar": {
            "outlinewidth": 0,
            "ticks": ""
           }
          },
          "colorscale": {
           "diverging": [
            [
             0,
             "#8e0152"
            ],
            [
             0.1,
             "#c51b7d"
            ],
            [
             0.2,
             "#de77ae"
            ],
            [
             0.3,
             "#f1b6da"
            ],
            [
             0.4,
             "#fde0ef"
            ],
            [
             0.5,
             "#f7f7f7"
            ],
            [
             0.6,
             "#e6f5d0"
            ],
            [
             0.7,
             "#b8e186"
            ],
            [
             0.8,
             "#7fbc41"
            ],
            [
             0.9,
             "#4d9221"
            ],
            [
             1,
             "#276419"
            ]
           ],
           "sequential": [
            [
             0,
             "#0d0887"
            ],
            [
             0.1111111111111111,
             "#46039f"
            ],
            [
             0.2222222222222222,
             "#7201a8"
            ],
            [
             0.3333333333333333,
             "#9c179e"
            ],
            [
             0.4444444444444444,
             "#bd3786"
            ],
            [
             0.5555555555555556,
             "#d8576b"
            ],
            [
             0.6666666666666666,
             "#ed7953"
            ],
            [
             0.7777777777777778,
             "#fb9f3a"
            ],
            [
             0.8888888888888888,
             "#fdca26"
            ],
            [
             1,
             "#f0f921"
            ]
           ],
           "sequentialminus": [
            [
             0,
             "#0d0887"
            ],
            [
             0.1111111111111111,
             "#46039f"
            ],
            [
             0.2222222222222222,
             "#7201a8"
            ],
            [
             0.3333333333333333,
             "#9c179e"
            ],
            [
             0.4444444444444444,
             "#bd3786"
            ],
            [
             0.5555555555555556,
             "#d8576b"
            ],
            [
             0.6666666666666666,
             "#ed7953"
            ],
            [
             0.7777777777777778,
             "#fb9f3a"
            ],
            [
             0.8888888888888888,
             "#fdca26"
            ],
            [
             1,
             "#f0f921"
            ]
           ]
          },
          "colorway": [
           "#636efa",
           "#EF553B",
           "#00cc96",
           "#ab63fa",
           "#FFA15A",
           "#19d3f3",
           "#FF6692",
           "#B6E880",
           "#FF97FF",
           "#FECB52"
          ],
          "font": {
           "color": "#2a3f5f"
          },
          "geo": {
           "bgcolor": "white",
           "lakecolor": "white",
           "landcolor": "#E5ECF6",
           "showlakes": true,
           "showland": true,
           "subunitcolor": "white"
          },
          "hoverlabel": {
           "align": "left"
          },
          "hovermode": "closest",
          "mapbox": {
           "style": "light"
          },
          "paper_bgcolor": "white",
          "plot_bgcolor": "#E5ECF6",
          "polar": {
           "angularaxis": {
            "gridcolor": "white",
            "linecolor": "white",
            "ticks": ""
           },
           "bgcolor": "#E5ECF6",
           "radialaxis": {
            "gridcolor": "white",
            "linecolor": "white",
            "ticks": ""
           }
          },
          "scene": {
           "xaxis": {
            "backgroundcolor": "#E5ECF6",
            "gridcolor": "white",
            "gridwidth": 2,
            "linecolor": "white",
            "showbackground": true,
            "ticks": "",
            "zerolinecolor": "white"
           },
           "yaxis": {
            "backgroundcolor": "#E5ECF6",
            "gridcolor": "white",
            "gridwidth": 2,
            "linecolor": "white",
            "showbackground": true,
            "ticks": "",
            "zerolinecolor": "white"
           },
           "zaxis": {
            "backgroundcolor": "#E5ECF6",
            "gridcolor": "white",
            "gridwidth": 2,
            "linecolor": "white",
            "showbackground": true,
            "ticks": "",
            "zerolinecolor": "white"
           }
          },
          "shapedefaults": {
           "line": {
            "color": "#2a3f5f"
           }
          },
          "ternary": {
           "aaxis": {
            "gridcolor": "white",
            "linecolor": "white",
            "ticks": ""
           },
           "baxis": {
            "gridcolor": "white",
            "linecolor": "white",
            "ticks": ""
           },
           "bgcolor": "#E5ECF6",
           "caxis": {
            "gridcolor": "white",
            "linecolor": "white",
            "ticks": ""
           }
          },
          "title": {
           "x": 0.05
          },
          "xaxis": {
           "automargin": true,
           "gridcolor": "white",
           "linecolor": "white",
           "ticks": "",
           "title": {
            "standoff": 15
           },
           "zerolinecolor": "white",
           "zerolinewidth": 2
          },
          "yaxis": {
           "automargin": true,
           "gridcolor": "white",
           "linecolor": "white",
           "ticks": "",
           "title": {
            "standoff": 15
           },
           "zerolinecolor": "white",
           "zerolinewidth": 2
          }
         }
        },
        "title": {
         "text": "Kyselina acetylsalicylova nad 50 000"
        },
        "xaxis": {
         "anchor": "y",
         "domain": [
          0,
          1
         ],
         "tickangle": 45,
         "title": {
          "text": "LIEK_popis"
         }
        },
        "yaxis": {
         "anchor": "x",
         "domain": [
          0,
          1
         ],
         "title": {
          "text": "Počet_balení"
         }
        }
       }
      }
     },
     "metadata": {}
    }
   ],
   "source": [
    "fig = px.bar(k_acetylsalicylova.query('Počet_balení > 50000'), x='LIEK_popis', y='Počet_balení', color='STAT_popis', title='Kyselina acetylsalicylova nad 50 000')\n",
    "fig.update_xaxes(tickangle=45)\n",
    "fig.show()"
   ]
  },
  {
   "cell_type": "code",
   "execution_count": null,
   "metadata": {},
   "outputs": [],
   "source": [
    "Najpredavanejsim liekom s kyselinou acetylsalicylovou je slovensky Anopyrin. Najviac sa predavaju slovenske lieky, ktorych je na trhu najviac."
   ]
  },
  {
   "source": [
    "# 12. Atorvastatin (top 55)"
   ],
   "cell_type": "markdown",
   "metadata": {}
  },
  {
   "cell_type": "code",
   "execution_count": 88,
   "metadata": {},
   "outputs": [
    {
     "output_type": "display_data",
     "data": {
      "text/plain": "                 LIEK_popis STAT_popis                         VYROBCA_popis  \\\n0                    ATORIS  Slovinsko                 KRKA d.d., Novo mesto   \n1      Atorvastatin Actavis     Island                 Actavis Group PTC ehf   \n2        Atorvastatin Mylan      ĺrsko                 Mylan Ireland Limited   \n3        Atorvastatin STADA    Nemecko                 STADA Arzneimittel AG   \n4       Atorvastatin Saneca     Cyprus                 XANTIS PHARMA LIMITED   \n5  Atorvastatin Teva Pharma  Slovensko  TEVA Pharmaceuticals Slovakia s.r.o.   \n6                    Gletor      Česko       Glenmark Pharmaceuticals s.r.o.   \n7                    SORTIS   Belgicko                 Pfizer Europe MA EEIG   \n8           Torvacard Novum      Česko                         Zentiva, k.s.   \n9                     Tulip  Slovinsko           Sandoz Pharmaceuticals d.d.   \n\n   index  Počet_balení  Úhrada_PAC  \n0  31395    561480.081  1159087.78  \n1  20047    282689.050   229382.68  \n2   8457     18970.680    25666.59  \n3  11574     25251.000    46411.62  \n4  11646      7698.654     1390.62  \n5  14197     24108.160     9229.01  \n6   5773      4298.520     7921.31  \n7   8631    128401.967   180299.01  \n8  22781    363483.663   639138.51  \n9  22706    152051.083   307103.12  ",
      "text/html": "<div>\n<style scoped>\n    .dataframe tbody tr th:only-of-type {\n        vertical-align: middle;\n    }\n\n    .dataframe tbody tr th {\n        vertical-align: top;\n    }\n\n    .dataframe thead th {\n        text-align: right;\n    }\n</style>\n<table border=\"1\" class=\"dataframe\">\n  <thead>\n    <tr style=\"text-align: right;\">\n      <th></th>\n      <th>LIEK_popis</th>\n      <th>STAT_popis</th>\n      <th>VYROBCA_popis</th>\n      <th>index</th>\n      <th>Počet_balení</th>\n      <th>Úhrada_PAC</th>\n    </tr>\n  </thead>\n  <tbody>\n    <tr>\n      <th>0</th>\n      <td>ATORIS</td>\n      <td>Slovinsko</td>\n      <td>KRKA d.d., Novo mesto</td>\n      <td>31395</td>\n      <td>561480.081</td>\n      <td>1159087.78</td>\n    </tr>\n    <tr>\n      <th>1</th>\n      <td>Atorvastatin Actavis</td>\n      <td>Island</td>\n      <td>Actavis Group PTC ehf</td>\n      <td>20047</td>\n      <td>282689.050</td>\n      <td>229382.68</td>\n    </tr>\n    <tr>\n      <th>2</th>\n      <td>Atorvastatin Mylan</td>\n      <td>ĺrsko</td>\n      <td>Mylan Ireland Limited</td>\n      <td>8457</td>\n      <td>18970.680</td>\n      <td>25666.59</td>\n    </tr>\n    <tr>\n      <th>3</th>\n      <td>Atorvastatin STADA</td>\n      <td>Nemecko</td>\n      <td>STADA Arzneimittel AG</td>\n      <td>11574</td>\n      <td>25251.000</td>\n      <td>46411.62</td>\n    </tr>\n    <tr>\n      <th>4</th>\n      <td>Atorvastatin Saneca</td>\n      <td>Cyprus</td>\n      <td>XANTIS PHARMA LIMITED</td>\n      <td>11646</td>\n      <td>7698.654</td>\n      <td>1390.62</td>\n    </tr>\n    <tr>\n      <th>5</th>\n      <td>Atorvastatin Teva Pharma</td>\n      <td>Slovensko</td>\n      <td>TEVA Pharmaceuticals Slovakia s.r.o.</td>\n      <td>14197</td>\n      <td>24108.160</td>\n      <td>9229.01</td>\n    </tr>\n    <tr>\n      <th>6</th>\n      <td>Gletor</td>\n      <td>Česko</td>\n      <td>Glenmark Pharmaceuticals s.r.o.</td>\n      <td>5773</td>\n      <td>4298.520</td>\n      <td>7921.31</td>\n    </tr>\n    <tr>\n      <th>7</th>\n      <td>SORTIS</td>\n      <td>Belgicko</td>\n      <td>Pfizer Europe MA EEIG</td>\n      <td>8631</td>\n      <td>128401.967</td>\n      <td>180299.01</td>\n    </tr>\n    <tr>\n      <th>8</th>\n      <td>Torvacard Novum</td>\n      <td>Česko</td>\n      <td>Zentiva, k.s.</td>\n      <td>22781</td>\n      <td>363483.663</td>\n      <td>639138.51</td>\n    </tr>\n    <tr>\n      <th>9</th>\n      <td>Tulip</td>\n      <td>Slovinsko</td>\n      <td>Sandoz Pharmaceuticals d.d.</td>\n      <td>22706</td>\n      <td>152051.083</td>\n      <td>307103.12</td>\n    </tr>\n  </tbody>\n</table>\n</div>"
     },
     "metadata": {}
    }
   ],
   "source": [
    "atorvastatin = top20tab[\"C10AA05\"].sort_values(by='Počet_balení', ascending=False).head(55)\n",
    "\n",
    "for i,popis in enumerate(atorvastatin['LIEK_popis']):\n",
    "    if 'ATORIS' in popis:\n",
    "        atorvastatin.iloc[i,4] = 'ATORIS'\n",
    "    if 'Atoris' in popis:\n",
    "        atorvastatin.iloc[i,4] = 'ATORIS'\n",
    "    if 'Atorvastatin Actavis' in popis:\n",
    "        atorvastatin.iloc[i,4] = 'Atorvastatin Actavis'\n",
    "    if 'SORTIS' in popis:\n",
    "        atorvastatin.iloc[i,4] = 'SORTIS'\n",
    "    if 'Torvacard Novum' in popis:\n",
    "        atorvastatin.iloc[i,4] = 'Torvacard Novum'\n",
    "    if 'Tulip' in popis:\n",
    "        atorvastatin.iloc[i,4] = 'Tulip'\n",
    "    if 'Atorvastatin Mylan' in popis:\n",
    "        atorvastatin.iloc[i,4] = 'Atorvastatin Mylan'\n",
    "    if 'Atorvastatin STADA' in popis:\n",
    "        atorvastatin.iloc[i,4] = 'Atorvastatin STADA'\n",
    "    if 'Atorvastatin Teva Pharma' in popis:\n",
    "        atorvastatin.iloc[i,4] = 'Atorvastatin Teva Pharma'\n",
    "    if 'Atorvastatin Saneca' in popis:\n",
    "        atorvastatin.iloc[i,4] = 'Atorvastatin Saneca'\n",
    "    if 'Gletor' in popis:\n",
    "        atorvastatin.iloc[i,4] = 'Gletor'\n",
    "\n",
    "atorvastatin = atorvastatin.groupby(['LIEK_popis', 'STAT_popis', 'VYROBCA_popis']).sum().reset_index()\n",
    "\n",
    "display(atorvastatin.sort_values(by='LIEK_popis'))"
   ]
  },
  {
   "cell_type": "code",
   "execution_count": 90,
   "metadata": {},
   "outputs": [
    {
     "output_type": "display_data",
     "data": {
      "application/vnd.plotly.v1+json": {
       "config": {
        "plotlyServerURL": "https://plot.ly"
       },
       "data": [
        {
         "alignmentgroup": "True",
         "hovertemplate": "STAT_popis=Slovinsko<br>LIEK_popis=%{x}<br>Počet_balení=%{y}<extra></extra>",
         "legendgroup": "Slovinsko",
         "marker": {
          "color": "#636efa"
         },
         "name": "Slovinsko",
         "offsetgroup": "Slovinsko",
         "orientation": "v",
         "showlegend": true,
         "textposition": "auto",
         "type": "bar",
         "x": [
          "ATORIS",
          "Tulip"
         ],
         "xaxis": "x",
         "y": [
          561480.0809999999,
          152051.08299999998
         ],
         "yaxis": "y"
        },
        {
         "alignmentgroup": "True",
         "hovertemplate": "STAT_popis=Island<br>LIEK_popis=%{x}<br>Počet_balení=%{y}<extra></extra>",
         "legendgroup": "Island",
         "marker": {
          "color": "#EF553B"
         },
         "name": "Island",
         "offsetgroup": "Island",
         "orientation": "v",
         "showlegend": true,
         "textposition": "auto",
         "type": "bar",
         "x": [
          "Atorvastatin Actavis"
         ],
         "xaxis": "x",
         "y": [
          282689.05000000005
         ],
         "yaxis": "y"
        },
        {
         "alignmentgroup": "True",
         "hovertemplate": "STAT_popis=Belgicko<br>LIEK_popis=%{x}<br>Počet_balení=%{y}<extra></extra>",
         "legendgroup": "Belgicko",
         "marker": {
          "color": "#00cc96"
         },
         "name": "Belgicko",
         "offsetgroup": "Belgicko",
         "orientation": "v",
         "showlegend": true,
         "textposition": "auto",
         "type": "bar",
         "x": [
          "SORTIS"
         ],
         "xaxis": "x",
         "y": [
          128401.96699999999
         ],
         "yaxis": "y"
        },
        {
         "alignmentgroup": "True",
         "hovertemplate": "STAT_popis=Česko<br>LIEK_popis=%{x}<br>Počet_balení=%{y}<extra></extra>",
         "legendgroup": "Česko",
         "marker": {
          "color": "#ab63fa"
         },
         "name": "Česko",
         "offsetgroup": "Česko",
         "orientation": "v",
         "showlegend": true,
         "textposition": "auto",
         "type": "bar",
         "x": [
          "Torvacard Novum"
         ],
         "xaxis": "x",
         "y": [
          363483.663
         ],
         "yaxis": "y"
        }
       ],
       "layout": {
        "barmode": "relative",
        "legend": {
         "title": {
          "text": "STAT_popis"
         },
         "tracegroupgap": 0
        },
        "template": {
         "data": {
          "bar": [
           {
            "error_x": {
             "color": "#2a3f5f"
            },
            "error_y": {
             "color": "#2a3f5f"
            },
            "marker": {
             "line": {
              "color": "#E5ECF6",
              "width": 0.5
             }
            },
            "type": "bar"
           }
          ],
          "barpolar": [
           {
            "marker": {
             "line": {
              "color": "#E5ECF6",
              "width": 0.5
             }
            },
            "type": "barpolar"
           }
          ],
          "carpet": [
           {
            "aaxis": {
             "endlinecolor": "#2a3f5f",
             "gridcolor": "white",
             "linecolor": "white",
             "minorgridcolor": "white",
             "startlinecolor": "#2a3f5f"
            },
            "baxis": {
             "endlinecolor": "#2a3f5f",
             "gridcolor": "white",
             "linecolor": "white",
             "minorgridcolor": "white",
             "startlinecolor": "#2a3f5f"
            },
            "type": "carpet"
           }
          ],
          "choropleth": [
           {
            "colorbar": {
             "outlinewidth": 0,
             "ticks": ""
            },
            "type": "choropleth"
           }
          ],
          "contour": [
           {
            "colorbar": {
             "outlinewidth": 0,
             "ticks": ""
            },
            "colorscale": [
             [
              0,
              "#0d0887"
             ],
             [
              0.1111111111111111,
              "#46039f"
             ],
             [
              0.2222222222222222,
              "#7201a8"
             ],
             [
              0.3333333333333333,
              "#9c179e"
             ],
             [
              0.4444444444444444,
              "#bd3786"
             ],
             [
              0.5555555555555556,
              "#d8576b"
             ],
             [
              0.6666666666666666,
              "#ed7953"
             ],
             [
              0.7777777777777778,
              "#fb9f3a"
             ],
             [
              0.8888888888888888,
              "#fdca26"
             ],
             [
              1,
              "#f0f921"
             ]
            ],
            "type": "contour"
           }
          ],
          "contourcarpet": [
           {
            "colorbar": {
             "outlinewidth": 0,
             "ticks": ""
            },
            "type": "contourcarpet"
           }
          ],
          "heatmap": [
           {
            "colorbar": {
             "outlinewidth": 0,
             "ticks": ""
            },
            "colorscale": [
             [
              0,
              "#0d0887"
             ],
             [
              0.1111111111111111,
              "#46039f"
             ],
             [
              0.2222222222222222,
              "#7201a8"
             ],
             [
              0.3333333333333333,
              "#9c179e"
             ],
             [
              0.4444444444444444,
              "#bd3786"
             ],
             [
              0.5555555555555556,
              "#d8576b"
             ],
             [
              0.6666666666666666,
              "#ed7953"
             ],
             [
              0.7777777777777778,
              "#fb9f3a"
             ],
             [
              0.8888888888888888,
              "#fdca26"
             ],
             [
              1,
              "#f0f921"
             ]
            ],
            "type": "heatmap"
           }
          ],
          "heatmapgl": [
           {
            "colorbar": {
             "outlinewidth": 0,
             "ticks": ""
            },
            "colorscale": [
             [
              0,
              "#0d0887"
             ],
             [
              0.1111111111111111,
              "#46039f"
             ],
             [
              0.2222222222222222,
              "#7201a8"
             ],
             [
              0.3333333333333333,
              "#9c179e"
             ],
             [
              0.4444444444444444,
              "#bd3786"
             ],
             [
              0.5555555555555556,
              "#d8576b"
             ],
             [
              0.6666666666666666,
              "#ed7953"
             ],
             [
              0.7777777777777778,
              "#fb9f3a"
             ],
             [
              0.8888888888888888,
              "#fdca26"
             ],
             [
              1,
              "#f0f921"
             ]
            ],
            "type": "heatmapgl"
           }
          ],
          "histogram": [
           {
            "marker": {
             "colorbar": {
              "outlinewidth": 0,
              "ticks": ""
             }
            },
            "type": "histogram"
           }
          ],
          "histogram2d": [
           {
            "colorbar": {
             "outlinewidth": 0,
             "ticks": ""
            },
            "colorscale": [
             [
              0,
              "#0d0887"
             ],
             [
              0.1111111111111111,
              "#46039f"
             ],
             [
              0.2222222222222222,
              "#7201a8"
             ],
             [
              0.3333333333333333,
              "#9c179e"
             ],
             [
              0.4444444444444444,
              "#bd3786"
             ],
             [
              0.5555555555555556,
              "#d8576b"
             ],
             [
              0.6666666666666666,
              "#ed7953"
             ],
             [
              0.7777777777777778,
              "#fb9f3a"
             ],
             [
              0.8888888888888888,
              "#fdca26"
             ],
             [
              1,
              "#f0f921"
             ]
            ],
            "type": "histogram2d"
           }
          ],
          "histogram2dcontour": [
           {
            "colorbar": {
             "outlinewidth": 0,
             "ticks": ""
            },
            "colorscale": [
             [
              0,
              "#0d0887"
             ],
             [
              0.1111111111111111,
              "#46039f"
             ],
             [
              0.2222222222222222,
              "#7201a8"
             ],
             [
              0.3333333333333333,
              "#9c179e"
             ],
             [
              0.4444444444444444,
              "#bd3786"
             ],
             [
              0.5555555555555556,
              "#d8576b"
             ],
             [
              0.6666666666666666,
              "#ed7953"
             ],
             [
              0.7777777777777778,
              "#fb9f3a"
             ],
             [
              0.8888888888888888,
              "#fdca26"
             ],
             [
              1,
              "#f0f921"
             ]
            ],
            "type": "histogram2dcontour"
           }
          ],
          "mesh3d": [
           {
            "colorbar": {
             "outlinewidth": 0,
             "ticks": ""
            },
            "type": "mesh3d"
           }
          ],
          "parcoords": [
           {
            "line": {
             "colorbar": {
              "outlinewidth": 0,
              "ticks": ""
             }
            },
            "type": "parcoords"
           }
          ],
          "pie": [
           {
            "automargin": true,
            "type": "pie"
           }
          ],
          "scatter": [
           {
            "marker": {
             "colorbar": {
              "outlinewidth": 0,
              "ticks": ""
             }
            },
            "type": "scatter"
           }
          ],
          "scatter3d": [
           {
            "line": {
             "colorbar": {
              "outlinewidth": 0,
              "ticks": ""
             }
            },
            "marker": {
             "colorbar": {
              "outlinewidth": 0,
              "ticks": ""
             }
            },
            "type": "scatter3d"
           }
          ],
          "scattercarpet": [
           {
            "marker": {
             "colorbar": {
              "outlinewidth": 0,
              "ticks": ""
             }
            },
            "type": "scattercarpet"
           }
          ],
          "scattergeo": [
           {
            "marker": {
             "colorbar": {
              "outlinewidth": 0,
              "ticks": ""
             }
            },
            "type": "scattergeo"
           }
          ],
          "scattergl": [
           {
            "marker": {
             "colorbar": {
              "outlinewidth": 0,
              "ticks": ""
             }
            },
            "type": "scattergl"
           }
          ],
          "scattermapbox": [
           {
            "marker": {
             "colorbar": {
              "outlinewidth": 0,
              "ticks": ""
             }
            },
            "type": "scattermapbox"
           }
          ],
          "scatterpolar": [
           {
            "marker": {
             "colorbar": {
              "outlinewidth": 0,
              "ticks": ""
             }
            },
            "type": "scatterpolar"
           }
          ],
          "scatterpolargl": [
           {
            "marker": {
             "colorbar": {
              "outlinewidth": 0,
              "ticks": ""
             }
            },
            "type": "scatterpolargl"
           }
          ],
          "scatterternary": [
           {
            "marker": {
             "colorbar": {
              "outlinewidth": 0,
              "ticks": ""
             }
            },
            "type": "scatterternary"
           }
          ],
          "surface": [
           {
            "colorbar": {
             "outlinewidth": 0,
             "ticks": ""
            },
            "colorscale": [
             [
              0,
              "#0d0887"
             ],
             [
              0.1111111111111111,
              "#46039f"
             ],
             [
              0.2222222222222222,
              "#7201a8"
             ],
             [
              0.3333333333333333,
              "#9c179e"
             ],
             [
              0.4444444444444444,
              "#bd3786"
             ],
             [
              0.5555555555555556,
              "#d8576b"
             ],
             [
              0.6666666666666666,
              "#ed7953"
             ],
             [
              0.7777777777777778,
              "#fb9f3a"
             ],
             [
              0.8888888888888888,
              "#fdca26"
             ],
             [
              1,
              "#f0f921"
             ]
            ],
            "type": "surface"
           }
          ],
          "table": [
           {
            "cells": {
             "fill": {
              "color": "#EBF0F8"
             },
             "line": {
              "color": "white"
             }
            },
            "header": {
             "fill": {
              "color": "#C8D4E3"
             },
             "line": {
              "color": "white"
             }
            },
            "type": "table"
           }
          ]
         },
         "layout": {
          "annotationdefaults": {
           "arrowcolor": "#2a3f5f",
           "arrowhead": 0,
           "arrowwidth": 1
          },
          "autotypenumbers": "strict",
          "coloraxis": {
           "colorbar": {
            "outlinewidth": 0,
            "ticks": ""
           }
          },
          "colorscale": {
           "diverging": [
            [
             0,
             "#8e0152"
            ],
            [
             0.1,
             "#c51b7d"
            ],
            [
             0.2,
             "#de77ae"
            ],
            [
             0.3,
             "#f1b6da"
            ],
            [
             0.4,
             "#fde0ef"
            ],
            [
             0.5,
             "#f7f7f7"
            ],
            [
             0.6,
             "#e6f5d0"
            ],
            [
             0.7,
             "#b8e186"
            ],
            [
             0.8,
             "#7fbc41"
            ],
            [
             0.9,
             "#4d9221"
            ],
            [
             1,
             "#276419"
            ]
           ],
           "sequential": [
            [
             0,
             "#0d0887"
            ],
            [
             0.1111111111111111,
             "#46039f"
            ],
            [
             0.2222222222222222,
             "#7201a8"
            ],
            [
             0.3333333333333333,
             "#9c179e"
            ],
            [
             0.4444444444444444,
             "#bd3786"
            ],
            [
             0.5555555555555556,
             "#d8576b"
            ],
            [
             0.6666666666666666,
             "#ed7953"
            ],
            [
             0.7777777777777778,
             "#fb9f3a"
            ],
            [
             0.8888888888888888,
             "#fdca26"
            ],
            [
             1,
             "#f0f921"
            ]
           ],
           "sequentialminus": [
            [
             0,
             "#0d0887"
            ],
            [
             0.1111111111111111,
             "#46039f"
            ],
            [
             0.2222222222222222,
             "#7201a8"
            ],
            [
             0.3333333333333333,
             "#9c179e"
            ],
            [
             0.4444444444444444,
             "#bd3786"
            ],
            [
             0.5555555555555556,
             "#d8576b"
            ],
            [
             0.6666666666666666,
             "#ed7953"
            ],
            [
             0.7777777777777778,
             "#fb9f3a"
            ],
            [
             0.8888888888888888,
             "#fdca26"
            ],
            [
             1,
             "#f0f921"
            ]
           ]
          },
          "colorway": [
           "#636efa",
           "#EF553B",
           "#00cc96",
           "#ab63fa",
           "#FFA15A",
           "#19d3f3",
           "#FF6692",
           "#B6E880",
           "#FF97FF",
           "#FECB52"
          ],
          "font": {
           "color": "#2a3f5f"
          },
          "geo": {
           "bgcolor": "white",
           "lakecolor": "white",
           "landcolor": "#E5ECF6",
           "showlakes": true,
           "showland": true,
           "subunitcolor": "white"
          },
          "hoverlabel": {
           "align": "left"
          },
          "hovermode": "closest",
          "mapbox": {
           "style": "light"
          },
          "paper_bgcolor": "white",
          "plot_bgcolor": "#E5ECF6",
          "polar": {
           "angularaxis": {
            "gridcolor": "white",
            "linecolor": "white",
            "ticks": ""
           },
           "bgcolor": "#E5ECF6",
           "radialaxis": {
            "gridcolor": "white",
            "linecolor": "white",
            "ticks": ""
           }
          },
          "scene": {
           "xaxis": {
            "backgroundcolor": "#E5ECF6",
            "gridcolor": "white",
            "gridwidth": 2,
            "linecolor": "white",
            "showbackground": true,
            "ticks": "",
            "zerolinecolor": "white"
           },
           "yaxis": {
            "backgroundcolor": "#E5ECF6",
            "gridcolor": "white",
            "gridwidth": 2,
            "linecolor": "white",
            "showbackground": true,
            "ticks": "",
            "zerolinecolor": "white"
           },
           "zaxis": {
            "backgroundcolor": "#E5ECF6",
            "gridcolor": "white",
            "gridwidth": 2,
            "linecolor": "white",
            "showbackground": true,
            "ticks": "",
            "zerolinecolor": "white"
           }
          },
          "shapedefaults": {
           "line": {
            "color": "#2a3f5f"
           }
          },
          "ternary": {
           "aaxis": {
            "gridcolor": "white",
            "linecolor": "white",
            "ticks": ""
           },
           "baxis": {
            "gridcolor": "white",
            "linecolor": "white",
            "ticks": ""
           },
           "bgcolor": "#E5ECF6",
           "caxis": {
            "gridcolor": "white",
            "linecolor": "white",
            "ticks": ""
           }
          },
          "title": {
           "x": 0.05
          },
          "xaxis": {
           "automargin": true,
           "gridcolor": "white",
           "linecolor": "white",
           "ticks": "",
           "title": {
            "standoff": 15
           },
           "zerolinecolor": "white",
           "zerolinewidth": 2
          },
          "yaxis": {
           "automargin": true,
           "gridcolor": "white",
           "linecolor": "white",
           "ticks": "",
           "title": {
            "standoff": 15
           },
           "zerolinecolor": "white",
           "zerolinewidth": 2
          }
         }
        },
        "title": {
         "text": "Atorovastatin nad 100 000"
        },
        "xaxis": {
         "anchor": "y",
         "domain": [
          0,
          1
         ],
         "tickangle": 45,
         "title": {
          "text": "LIEK_popis"
         }
        },
        "yaxis": {
         "anchor": "x",
         "domain": [
          0,
          1
         ],
         "title": {
          "text": "Počet_balení"
         }
        }
       }
      }
     },
     "metadata": {}
    }
   ],
   "source": [
    "fig = px.bar(atorvastatin.query('Počet_balení > 100000'), x='LIEK_popis', y='Počet_balení', color='STAT_popis', title='Atorovastatin nad 100 000')\n",
    "fig.update_xaxes(tickangle=45)\n",
    "fig.show()"
   ]
  },
  {
   "source": [
    "Najpredavanejsi je slovinsky Atoris, avsak tiez celkom predavanym je aj cesky Torvacard Novum"
   ],
   "cell_type": "markdown",
   "metadata": {}
  },
  {
   "source": [
    "# 13. Zolpidem"
   ],
   "cell_type": "markdown",
   "metadata": {}
  },
  {
   "cell_type": "code",
   "execution_count": 105,
   "metadata": {},
   "outputs": [
    {
     "output_type": "display_data",
     "data": {
      "text/plain": "             LIEK_popis STAT_popis                     VYROBCA_popis  index  \\\n0                ADORMA  Slovinsko  Alkaloid - INT d.o.o., Ljubljana   7246   \n1              HYPNOGEN    Nemecko                       Takeda GmbH  14504   \n2                SANVAL  Slovinsko       Sandoz Pharmaceuticals d.d.  14489   \n3               STILNOX  Slovensko    sanofi-aventis Slovakia s.r.o.  21756   \n4        ZOLPIDEM MERCK      ĺrsko             Mylan Ireland Limited   7256   \n5        Zolpidem Orion     Fínsko                 Orion Corporation  14497   \n6       Zolpidem Pfizer  Taliansko              PFIZER Italia S.r.l.   7240   \n7       Zolpidem Saneca     Cyprus             XANTIS PHARMA LIMITED  14505   \n8         Zolpidem Teva  Holandsko                        Synthon BV   7254   \n9   Zolpidem Vitabalans     Fínsko                     Vitabalans Oy  21726   \n10             Zolpinox      Česko        Neuraxpharm Bohemia s.r.o.  28950   \n\n    Počet_balení  Úhrada_PAC  \n0          1.000        2.00  \n1     249315.840   407727.12  \n2     242727.100   231796.13  \n3     866042.660  1450471.81  \n4      97213.240   154214.22  \n5          9.000       12.45  \n6          3.000        7.65  \n7      20968.000    18911.62  \n8          1.500        3.65  \n9       3381.300     6249.51  \n10     75791.287    85728.27  ",
      "text/html": "<div>\n<style scoped>\n    .dataframe tbody tr th:only-of-type {\n        vertical-align: middle;\n    }\n\n    .dataframe tbody tr th {\n        vertical-align: top;\n    }\n\n    .dataframe thead th {\n        text-align: right;\n    }\n</style>\n<table border=\"1\" class=\"dataframe\">\n  <thead>\n    <tr style=\"text-align: right;\">\n      <th></th>\n      <th>LIEK_popis</th>\n      <th>STAT_popis</th>\n      <th>VYROBCA_popis</th>\n      <th>index</th>\n      <th>Počet_balení</th>\n      <th>Úhrada_PAC</th>\n    </tr>\n  </thead>\n  <tbody>\n    <tr>\n      <th>0</th>\n      <td>ADORMA</td>\n      <td>Slovinsko</td>\n      <td>Alkaloid - INT d.o.o., Ljubljana</td>\n      <td>7246</td>\n      <td>1.000</td>\n      <td>2.00</td>\n    </tr>\n    <tr>\n      <th>1</th>\n      <td>HYPNOGEN</td>\n      <td>Nemecko</td>\n      <td>Takeda GmbH</td>\n      <td>14504</td>\n      <td>249315.840</td>\n      <td>407727.12</td>\n    </tr>\n    <tr>\n      <th>2</th>\n      <td>SANVAL</td>\n      <td>Slovinsko</td>\n      <td>Sandoz Pharmaceuticals d.d.</td>\n      <td>14489</td>\n      <td>242727.100</td>\n      <td>231796.13</td>\n    </tr>\n    <tr>\n      <th>3</th>\n      <td>STILNOX</td>\n      <td>Slovensko</td>\n      <td>sanofi-aventis Slovakia s.r.o.</td>\n      <td>21756</td>\n      <td>866042.660</td>\n      <td>1450471.81</td>\n    </tr>\n    <tr>\n      <th>4</th>\n      <td>ZOLPIDEM MERCK</td>\n      <td>ĺrsko</td>\n      <td>Mylan Ireland Limited</td>\n      <td>7256</td>\n      <td>97213.240</td>\n      <td>154214.22</td>\n    </tr>\n    <tr>\n      <th>5</th>\n      <td>Zolpidem Orion</td>\n      <td>Fínsko</td>\n      <td>Orion Corporation</td>\n      <td>14497</td>\n      <td>9.000</td>\n      <td>12.45</td>\n    </tr>\n    <tr>\n      <th>6</th>\n      <td>Zolpidem Pfizer</td>\n      <td>Taliansko</td>\n      <td>PFIZER Italia S.r.l.</td>\n      <td>7240</td>\n      <td>3.000</td>\n      <td>7.65</td>\n    </tr>\n    <tr>\n      <th>7</th>\n      <td>Zolpidem Saneca</td>\n      <td>Cyprus</td>\n      <td>XANTIS PHARMA LIMITED</td>\n      <td>14505</td>\n      <td>20968.000</td>\n      <td>18911.62</td>\n    </tr>\n    <tr>\n      <th>8</th>\n      <td>Zolpidem Teva</td>\n      <td>Holandsko</td>\n      <td>Synthon BV</td>\n      <td>7254</td>\n      <td>1.500</td>\n      <td>3.65</td>\n    </tr>\n    <tr>\n      <th>9</th>\n      <td>Zolpidem Vitabalans</td>\n      <td>Fínsko</td>\n      <td>Vitabalans Oy</td>\n      <td>21726</td>\n      <td>3381.300</td>\n      <td>6249.51</td>\n    </tr>\n    <tr>\n      <th>10</th>\n      <td>Zolpinox</td>\n      <td>Česko</td>\n      <td>Neuraxpharm Bohemia s.r.o.</td>\n      <td>28950</td>\n      <td>75791.287</td>\n      <td>85728.27</td>\n    </tr>\n  </tbody>\n</table>\n</div>"
     },
     "metadata": {}
    }
   ],
   "source": [
    "\n",
    "zolpidem = top20tab[\"N05CF02\"].sort_values(by='Počet_balení', ascending=False).head(55)\n",
    "\n",
    "for i,popis in enumerate(zolpidem['LIEK_popis']):\n",
    "    if 'ADORMA' in popis:\n",
    "        zolpidem.iloc[i,4] = 'ADORMA'\n",
    "    elif 'HYPNOGEN' in popis:\n",
    "        zolpidem.iloc[i,4] = 'HYPNOGEN'\n",
    "    elif 'SANVAL' in popis:\n",
    "        zolpidem.iloc[i,4] = 'SANVAL'\n",
    "    elif 'STILNOX' in popis:\n",
    "        zolpidem.iloc[i,4] = 'STILNOX'\n",
    "    elif 'ZOLPIDEM MERCK' in popis:\n",
    "        zolpidem.iloc[i,4] = 'ZOLPIDEM MERCK'\n",
    "    elif 'Zolpidem Orion' in popis:\n",
    "        zolpidem.iloc[i,4] = 'Zolpidem Orion'\n",
    "    elif 'Zolpidem Pfizer' in popis:\n",
    "        zolpidem.iloc[i,4] = 'Zolpidem Pfizer'\n",
    "    elif 'Zolpidem Saneca' in popis:\n",
    "        zolpidem.iloc[i,4] = 'Zolpidem Saneca'\n",
    "    elif 'Zolpidem Teva' in popis:\n",
    "        zolpidem.iloc[i,4] = 'Zolpidem Teva'\n",
    "    elif 'Zolpidem Vitabalans' in popis:\n",
    "        zolpidem.iloc[i,4] = 'Zolpidem Vitabalans'\n",
    "    elif 'Zolpinox' in popis:\n",
    "        zolpidem.iloc[i,4] = 'Zolpinox'\n",
    "\n",
    "zolpidem = zolpidem.groupby(['LIEK_popis', 'STAT_popis', 'VYROBCA_popis']).sum().reset_index()\n",
    "\n",
    "display(zolpidem.sort_values(by='LIEK_popis'))"
   ]
  },
  {
   "cell_type": "code",
   "execution_count": 107,
   "metadata": {},
   "outputs": [
    {
     "output_type": "display_data",
     "data": {
      "application/vnd.plotly.v1+json": {
       "config": {
        "plotlyServerURL": "https://plot.ly"
       },
       "data": [
        {
         "alignmentgroup": "True",
         "hovertemplate": "STAT_popis=Nemecko<br>LIEK_popis=%{x}<br>Počet_balení=%{y}<extra></extra>",
         "legendgroup": "Nemecko",
         "marker": {
          "color": "#636efa"
         },
         "name": "Nemecko",
         "offsetgroup": "Nemecko",
         "orientation": "v",
         "showlegend": true,
         "textposition": "auto",
         "type": "bar",
         "x": [
          "HYPNOGEN"
         ],
         "xaxis": "x",
         "y": [
          249315.84
         ],
         "yaxis": "y"
        },
        {
         "alignmentgroup": "True",
         "hovertemplate": "STAT_popis=Slovinsko<br>LIEK_popis=%{x}<br>Počet_balení=%{y}<extra></extra>",
         "legendgroup": "Slovinsko",
         "marker": {
          "color": "#EF553B"
         },
         "name": "Slovinsko",
         "offsetgroup": "Slovinsko",
         "orientation": "v",
         "showlegend": true,
         "textposition": "auto",
         "type": "bar",
         "x": [
          "SANVAL"
         ],
         "xaxis": "x",
         "y": [
          242727.09999999998
         ],
         "yaxis": "y"
        },
        {
         "alignmentgroup": "True",
         "hovertemplate": "STAT_popis=Slovensko<br>LIEK_popis=%{x}<br>Počet_balení=%{y}<extra></extra>",
         "legendgroup": "Slovensko",
         "marker": {
          "color": "#00cc96"
         },
         "name": "Slovensko",
         "offsetgroup": "Slovensko",
         "orientation": "v",
         "showlegend": true,
         "textposition": "auto",
         "type": "bar",
         "x": [
          "STILNOX"
         ],
         "xaxis": "x",
         "y": [
          866042.6599999999
         ],
         "yaxis": "y"
        },
        {
         "alignmentgroup": "True",
         "hovertemplate": "STAT_popis=ĺrsko<br>LIEK_popis=%{x}<br>Počet_balení=%{y}<extra></extra>",
         "legendgroup": "ĺrsko",
         "marker": {
          "color": "#ab63fa"
         },
         "name": "ĺrsko",
         "offsetgroup": "ĺrsko",
         "orientation": "v",
         "showlegend": true,
         "textposition": "auto",
         "type": "bar",
         "x": [
          "ZOLPIDEM MERCK"
         ],
         "xaxis": "x",
         "y": [
          97213.23999999999
         ],
         "yaxis": "y"
        },
        {
         "alignmentgroup": "True",
         "hovertemplate": "STAT_popis=Česko<br>LIEK_popis=%{x}<br>Počet_balení=%{y}<extra></extra>",
         "legendgroup": "Česko",
         "marker": {
          "color": "#FFA15A"
         },
         "name": "Česko",
         "offsetgroup": "Česko",
         "orientation": "v",
         "showlegend": true,
         "textposition": "auto",
         "type": "bar",
         "x": [
          "Zolpinox"
         ],
         "xaxis": "x",
         "y": [
          75791.28700000001
         ],
         "yaxis": "y"
        }
       ],
       "layout": {
        "barmode": "relative",
        "legend": {
         "title": {
          "text": "STAT_popis"
         },
         "tracegroupgap": 0
        },
        "template": {
         "data": {
          "bar": [
           {
            "error_x": {
             "color": "#2a3f5f"
            },
            "error_y": {
             "color": "#2a3f5f"
            },
            "marker": {
             "line": {
              "color": "#E5ECF6",
              "width": 0.5
             }
            },
            "type": "bar"
           }
          ],
          "barpolar": [
           {
            "marker": {
             "line": {
              "color": "#E5ECF6",
              "width": 0.5
             }
            },
            "type": "barpolar"
           }
          ],
          "carpet": [
           {
            "aaxis": {
             "endlinecolor": "#2a3f5f",
             "gridcolor": "white",
             "linecolor": "white",
             "minorgridcolor": "white",
             "startlinecolor": "#2a3f5f"
            },
            "baxis": {
             "endlinecolor": "#2a3f5f",
             "gridcolor": "white",
             "linecolor": "white",
             "minorgridcolor": "white",
             "startlinecolor": "#2a3f5f"
            },
            "type": "carpet"
           }
          ],
          "choropleth": [
           {
            "colorbar": {
             "outlinewidth": 0,
             "ticks": ""
            },
            "type": "choropleth"
           }
          ],
          "contour": [
           {
            "colorbar": {
             "outlinewidth": 0,
             "ticks": ""
            },
            "colorscale": [
             [
              0,
              "#0d0887"
             ],
             [
              0.1111111111111111,
              "#46039f"
             ],
             [
              0.2222222222222222,
              "#7201a8"
             ],
             [
              0.3333333333333333,
              "#9c179e"
             ],
             [
              0.4444444444444444,
              "#bd3786"
             ],
             [
              0.5555555555555556,
              "#d8576b"
             ],
             [
              0.6666666666666666,
              "#ed7953"
             ],
             [
              0.7777777777777778,
              "#fb9f3a"
             ],
             [
              0.8888888888888888,
              "#fdca26"
             ],
             [
              1,
              "#f0f921"
             ]
            ],
            "type": "contour"
           }
          ],
          "contourcarpet": [
           {
            "colorbar": {
             "outlinewidth": 0,
             "ticks": ""
            },
            "type": "contourcarpet"
           }
          ],
          "heatmap": [
           {
            "colorbar": {
             "outlinewidth": 0,
             "ticks": ""
            },
            "colorscale": [
             [
              0,
              "#0d0887"
             ],
             [
              0.1111111111111111,
              "#46039f"
             ],
             [
              0.2222222222222222,
              "#7201a8"
             ],
             [
              0.3333333333333333,
              "#9c179e"
             ],
             [
              0.4444444444444444,
              "#bd3786"
             ],
             [
              0.5555555555555556,
              "#d8576b"
             ],
             [
              0.6666666666666666,
              "#ed7953"
             ],
             [
              0.7777777777777778,
              "#fb9f3a"
             ],
             [
              0.8888888888888888,
              "#fdca26"
             ],
             [
              1,
              "#f0f921"
             ]
            ],
            "type": "heatmap"
           }
          ],
          "heatmapgl": [
           {
            "colorbar": {
             "outlinewidth": 0,
             "ticks": ""
            },
            "colorscale": [
             [
              0,
              "#0d0887"
             ],
             [
              0.1111111111111111,
              "#46039f"
             ],
             [
              0.2222222222222222,
              "#7201a8"
             ],
             [
              0.3333333333333333,
              "#9c179e"
             ],
             [
              0.4444444444444444,
              "#bd3786"
             ],
             [
              0.5555555555555556,
              "#d8576b"
             ],
             [
              0.6666666666666666,
              "#ed7953"
             ],
             [
              0.7777777777777778,
              "#fb9f3a"
             ],
             [
              0.8888888888888888,
              "#fdca26"
             ],
             [
              1,
              "#f0f921"
             ]
            ],
            "type": "heatmapgl"
           }
          ],
          "histogram": [
           {
            "marker": {
             "colorbar": {
              "outlinewidth": 0,
              "ticks": ""
             }
            },
            "type": "histogram"
           }
          ],
          "histogram2d": [
           {
            "colorbar": {
             "outlinewidth": 0,
             "ticks": ""
            },
            "colorscale": [
             [
              0,
              "#0d0887"
             ],
             [
              0.1111111111111111,
              "#46039f"
             ],
             [
              0.2222222222222222,
              "#7201a8"
             ],
             [
              0.3333333333333333,
              "#9c179e"
             ],
             [
              0.4444444444444444,
              "#bd3786"
             ],
             [
              0.5555555555555556,
              "#d8576b"
             ],
             [
              0.6666666666666666,
              "#ed7953"
             ],
             [
              0.7777777777777778,
              "#fb9f3a"
             ],
             [
              0.8888888888888888,
              "#fdca26"
             ],
             [
              1,
              "#f0f921"
             ]
            ],
            "type": "histogram2d"
           }
          ],
          "histogram2dcontour": [
           {
            "colorbar": {
             "outlinewidth": 0,
             "ticks": ""
            },
            "colorscale": [
             [
              0,
              "#0d0887"
             ],
             [
              0.1111111111111111,
              "#46039f"
             ],
             [
              0.2222222222222222,
              "#7201a8"
             ],
             [
              0.3333333333333333,
              "#9c179e"
             ],
             [
              0.4444444444444444,
              "#bd3786"
             ],
             [
              0.5555555555555556,
              "#d8576b"
             ],
             [
              0.6666666666666666,
              "#ed7953"
             ],
             [
              0.7777777777777778,
              "#fb9f3a"
             ],
             [
              0.8888888888888888,
              "#fdca26"
             ],
             [
              1,
              "#f0f921"
             ]
            ],
            "type": "histogram2dcontour"
           }
          ],
          "mesh3d": [
           {
            "colorbar": {
             "outlinewidth": 0,
             "ticks": ""
            },
            "type": "mesh3d"
           }
          ],
          "parcoords": [
           {
            "line": {
             "colorbar": {
              "outlinewidth": 0,
              "ticks": ""
             }
            },
            "type": "parcoords"
           }
          ],
          "pie": [
           {
            "automargin": true,
            "type": "pie"
           }
          ],
          "scatter": [
           {
            "marker": {
             "colorbar": {
              "outlinewidth": 0,
              "ticks": ""
             }
            },
            "type": "scatter"
           }
          ],
          "scatter3d": [
           {
            "line": {
             "colorbar": {
              "outlinewidth": 0,
              "ticks": ""
             }
            },
            "marker": {
             "colorbar": {
              "outlinewidth": 0,
              "ticks": ""
             }
            },
            "type": "scatter3d"
           }
          ],
          "scattercarpet": [
           {
            "marker": {
             "colorbar": {
              "outlinewidth": 0,
              "ticks": ""
             }
            },
            "type": "scattercarpet"
           }
          ],
          "scattergeo": [
           {
            "marker": {
             "colorbar": {
              "outlinewidth": 0,
              "ticks": ""
             }
            },
            "type": "scattergeo"
           }
          ],
          "scattergl": [
           {
            "marker": {
             "colorbar": {
              "outlinewidth": 0,
              "ticks": ""
             }
            },
            "type": "scattergl"
           }
          ],
          "scattermapbox": [
           {
            "marker": {
             "colorbar": {
              "outlinewidth": 0,
              "ticks": ""
             }
            },
            "type": "scattermapbox"
           }
          ],
          "scatterpolar": [
           {
            "marker": {
             "colorbar": {
              "outlinewidth": 0,
              "ticks": ""
             }
            },
            "type": "scatterpolar"
           }
          ],
          "scatterpolargl": [
           {
            "marker": {
             "colorbar": {
              "outlinewidth": 0,
              "ticks": ""
             }
            },
            "type": "scatterpolargl"
           }
          ],
          "scatterternary": [
           {
            "marker": {
             "colorbar": {
              "outlinewidth": 0,
              "ticks": ""
             }
            },
            "type": "scatterternary"
           }
          ],
          "surface": [
           {
            "colorbar": {
             "outlinewidth": 0,
             "ticks": ""
            },
            "colorscale": [
             [
              0,
              "#0d0887"
             ],
             [
              0.1111111111111111,
              "#46039f"
             ],
             [
              0.2222222222222222,
              "#7201a8"
             ],
             [
              0.3333333333333333,
              "#9c179e"
             ],
             [
              0.4444444444444444,
              "#bd3786"
             ],
             [
              0.5555555555555556,
              "#d8576b"
             ],
             [
              0.6666666666666666,
              "#ed7953"
             ],
             [
              0.7777777777777778,
              "#fb9f3a"
             ],
             [
              0.8888888888888888,
              "#fdca26"
             ],
             [
              1,
              "#f0f921"
             ]
            ],
            "type": "surface"
           }
          ],
          "table": [
           {
            "cells": {
             "fill": {
              "color": "#EBF0F8"
             },
             "line": {
              "color": "white"
             }
            },
            "header": {
             "fill": {
              "color": "#C8D4E3"
             },
             "line": {
              "color": "white"
             }
            },
            "type": "table"
           }
          ]
         },
         "layout": {
          "annotationdefaults": {
           "arrowcolor": "#2a3f5f",
           "arrowhead": 0,
           "arrowwidth": 1
          },
          "autotypenumbers": "strict",
          "coloraxis": {
           "colorbar": {
            "outlinewidth": 0,
            "ticks": ""
           }
          },
          "colorscale": {
           "diverging": [
            [
             0,
             "#8e0152"
            ],
            [
             0.1,
             "#c51b7d"
            ],
            [
             0.2,
             "#de77ae"
            ],
            [
             0.3,
             "#f1b6da"
            ],
            [
             0.4,
             "#fde0ef"
            ],
            [
             0.5,
             "#f7f7f7"
            ],
            [
             0.6,
             "#e6f5d0"
            ],
            [
             0.7,
             "#b8e186"
            ],
            [
             0.8,
             "#7fbc41"
            ],
            [
             0.9,
             "#4d9221"
            ],
            [
             1,
             "#276419"
            ]
           ],
           "sequential": [
            [
             0,
             "#0d0887"
            ],
            [
             0.1111111111111111,
             "#46039f"
            ],
            [
             0.2222222222222222,
             "#7201a8"
            ],
            [
             0.3333333333333333,
             "#9c179e"
            ],
            [
             0.4444444444444444,
             "#bd3786"
            ],
            [
             0.5555555555555556,
             "#d8576b"
            ],
            [
             0.6666666666666666,
             "#ed7953"
            ],
            [
             0.7777777777777778,
             "#fb9f3a"
            ],
            [
             0.8888888888888888,
             "#fdca26"
            ],
            [
             1,
             "#f0f921"
            ]
           ],
           "sequentialminus": [
            [
             0,
             "#0d0887"
            ],
            [
             0.1111111111111111,
             "#46039f"
            ],
            [
             0.2222222222222222,
             "#7201a8"
            ],
            [
             0.3333333333333333,
             "#9c179e"
            ],
            [
             0.4444444444444444,
             "#bd3786"
            ],
            [
             0.5555555555555556,
             "#d8576b"
            ],
            [
             0.6666666666666666,
             "#ed7953"
            ],
            [
             0.7777777777777778,
             "#fb9f3a"
            ],
            [
             0.8888888888888888,
             "#fdca26"
            ],
            [
             1,
             "#f0f921"
            ]
           ]
          },
          "colorway": [
           "#636efa",
           "#EF553B",
           "#00cc96",
           "#ab63fa",
           "#FFA15A",
           "#19d3f3",
           "#FF6692",
           "#B6E880",
           "#FF97FF",
           "#FECB52"
          ],
          "font": {
           "color": "#2a3f5f"
          },
          "geo": {
           "bgcolor": "white",
           "lakecolor": "white",
           "landcolor": "#E5ECF6",
           "showlakes": true,
           "showland": true,
           "subunitcolor": "white"
          },
          "hoverlabel": {
           "align": "left"
          },
          "hovermode": "closest",
          "mapbox": {
           "style": "light"
          },
          "paper_bgcolor": "white",
          "plot_bgcolor": "#E5ECF6",
          "polar": {
           "angularaxis": {
            "gridcolor": "white",
            "linecolor": "white",
            "ticks": ""
           },
           "bgcolor": "#E5ECF6",
           "radialaxis": {
            "gridcolor": "white",
            "linecolor": "white",
            "ticks": ""
           }
          },
          "scene": {
           "xaxis": {
            "backgroundcolor": "#E5ECF6",
            "gridcolor": "white",
            "gridwidth": 2,
            "linecolor": "white",
            "showbackground": true,
            "ticks": "",
            "zerolinecolor": "white"
           },
           "yaxis": {
            "backgroundcolor": "#E5ECF6",
            "gridcolor": "white",
            "gridwidth": 2,
            "linecolor": "white",
            "showbackground": true,
            "ticks": "",
            "zerolinecolor": "white"
           },
           "zaxis": {
            "backgroundcolor": "#E5ECF6",
            "gridcolor": "white",
            "gridwidth": 2,
            "linecolor": "white",
            "showbackground": true,
            "ticks": "",
            "zerolinecolor": "white"
           }
          },
          "shapedefaults": {
           "line": {
            "color": "#2a3f5f"
           }
          },
          "ternary": {
           "aaxis": {
            "gridcolor": "white",
            "linecolor": "white",
            "ticks": ""
           },
           "baxis": {
            "gridcolor": "white",
            "linecolor": "white",
            "ticks": ""
           },
           "bgcolor": "#E5ECF6",
           "caxis": {
            "gridcolor": "white",
            "linecolor": "white",
            "ticks": ""
           }
          },
          "title": {
           "x": 0.05
          },
          "xaxis": {
           "automargin": true,
           "gridcolor": "white",
           "linecolor": "white",
           "ticks": "",
           "title": {
            "standoff": 15
           },
           "zerolinecolor": "white",
           "zerolinewidth": 2
          },
          "yaxis": {
           "automargin": true,
           "gridcolor": "white",
           "linecolor": "white",
           "ticks": "",
           "title": {
            "standoff": 15
           },
           "zerolinecolor": "white",
           "zerolinewidth": 2
          }
         }
        },
        "title": {
         "text": "Zolpidem nad 50 000"
        },
        "xaxis": {
         "anchor": "y",
         "domain": [
          0,
          1
         ],
         "tickangle": 45,
         "title": {
          "text": "LIEK_popis"
         }
        },
        "yaxis": {
         "anchor": "x",
         "domain": [
          0,
          1
         ],
         "title": {
          "text": "Počet_balení"
         }
        }
       }
      }
     },
     "metadata": {}
    }
   ],
   "source": [
    "fig = px.bar(zolpidem.query('Počet_balení > 50000'), x='LIEK_popis', y='Počet_balení', color='STAT_popis', title='Zolpidem nad 50 000')\n",
    "fig.update_xaxes(tickangle=45)\n",
    "fig.show()"
   ]
  },
  {
   "source": [
    "# 14. Xylometazolín"
   ],
   "cell_type": "markdown",
   "metadata": {}
  },
  {
   "cell_type": "code",
   "execution_count": 113,
   "metadata": {},
   "outputs": [
    {
     "output_type": "display_data",
     "data": {
      "text/plain": "                      LIEK_popis          STAT_popis  \\\n0   DR.RENTSCHLER SCHNUPFENSPRAY             Nemecko   \n1                        Maresyl          Francúzsko   \n2                     NASENSPRAY             Nemecko   \n3                     NASENSPRAY             Nemecko   \n4                   NASENTROPFEN             Nemecko   \n5                         OLYNTH          Francúzsko   \n6                         OLYNTH  Spojené kráľovstvo   \n7                         OLYNTH               ĺrsko   \n8                      OLYNTH HA               ĺrsko   \n9                        OTRIVIN               Česko   \n10                        Orinox               Česko   \n11               Otrivin Menthol               Česko   \n12                       Rinoxyl              Fínsko   \n13                     mar rhino             Nemecko   \n\n                                        VYROBCA_popis  index  Počet_balení  \\\n0              Dr. Rentschler Arzneimittel GmbH & Co.   7797         127.0   \n1                              Mylan Laboratories SAS  15583       10395.0   \n2                          Aliud Pharma GmbH & Co. KG   7811           4.0   \n3                               STADA Arzneimittel AG   7813           1.0   \n4                          Aliud Pharma GmbH & Co. KG   7805           2.0   \n5                                          PFIZER PGM  15605          86.0   \n6   McNeil Products Limited C/O Johnson & Johnson ...   7801           1.0   \n7                 McNeil Healthcare (Ireland) Limited  15618      621781.0   \n8                 McNeil Healthcare (Ireland) Limited  15599      529046.0   \n9   GlaxoSmithKline Consumer Healthcare Czech Repu...  31178       95259.5   \n10                              Dr. Max Pharma s.r.o.   7804           1.0   \n11  GlaxoSmithKline Consumer Healthcare Czech Repu...   7798      133135.0   \n12                    Orion Corporation, Orion Pharma  15619           3.0   \n13                              STADA Arzneimittel AG  15615      106986.0   \n\n    Úhrada_PAC  \n0       909.99  \n1     35427.43  \n2        12.95  \n3         8.30  \n4         9.45  \n5       349.84  \n6         0.06  \n7   2336426.43  \n8   2541167.62  \n9    450124.85  \n10        3.00  \n11   681134.20  \n12       40.08  \n13   401803.74  ",
      "text/html": "<div>\n<style scoped>\n    .dataframe tbody tr th:only-of-type {\n        vertical-align: middle;\n    }\n\n    .dataframe tbody tr th {\n        vertical-align: top;\n    }\n\n    .dataframe thead th {\n        text-align: right;\n    }\n</style>\n<table border=\"1\" class=\"dataframe\">\n  <thead>\n    <tr style=\"text-align: right;\">\n      <th></th>\n      <th>LIEK_popis</th>\n      <th>STAT_popis</th>\n      <th>VYROBCA_popis</th>\n      <th>index</th>\n      <th>Počet_balení</th>\n      <th>Úhrada_PAC</th>\n    </tr>\n  </thead>\n  <tbody>\n    <tr>\n      <th>0</th>\n      <td>DR.RENTSCHLER SCHNUPFENSPRAY</td>\n      <td>Nemecko</td>\n      <td>Dr. Rentschler Arzneimittel GmbH &amp; Co.</td>\n      <td>7797</td>\n      <td>127.0</td>\n      <td>909.99</td>\n    </tr>\n    <tr>\n      <th>1</th>\n      <td>Maresyl</td>\n      <td>Francúzsko</td>\n      <td>Mylan Laboratories SAS</td>\n      <td>15583</td>\n      <td>10395.0</td>\n      <td>35427.43</td>\n    </tr>\n    <tr>\n      <th>2</th>\n      <td>NASENSPRAY</td>\n      <td>Nemecko</td>\n      <td>Aliud Pharma GmbH &amp; Co. KG</td>\n      <td>7811</td>\n      <td>4.0</td>\n      <td>12.95</td>\n    </tr>\n    <tr>\n      <th>3</th>\n      <td>NASENSPRAY</td>\n      <td>Nemecko</td>\n      <td>STADA Arzneimittel AG</td>\n      <td>7813</td>\n      <td>1.0</td>\n      <td>8.30</td>\n    </tr>\n    <tr>\n      <th>4</th>\n      <td>NASENTROPFEN</td>\n      <td>Nemecko</td>\n      <td>Aliud Pharma GmbH &amp; Co. KG</td>\n      <td>7805</td>\n      <td>2.0</td>\n      <td>9.45</td>\n    </tr>\n    <tr>\n      <th>5</th>\n      <td>OLYNTH</td>\n      <td>Francúzsko</td>\n      <td>PFIZER PGM</td>\n      <td>15605</td>\n      <td>86.0</td>\n      <td>349.84</td>\n    </tr>\n    <tr>\n      <th>6</th>\n      <td>OLYNTH</td>\n      <td>Spojené kráľovstvo</td>\n      <td>McNeil Products Limited C/O Johnson &amp; Johnson ...</td>\n      <td>7801</td>\n      <td>1.0</td>\n      <td>0.06</td>\n    </tr>\n    <tr>\n      <th>7</th>\n      <td>OLYNTH</td>\n      <td>ĺrsko</td>\n      <td>McNeil Healthcare (Ireland) Limited</td>\n      <td>15618</td>\n      <td>621781.0</td>\n      <td>2336426.43</td>\n    </tr>\n    <tr>\n      <th>8</th>\n      <td>OLYNTH HA</td>\n      <td>ĺrsko</td>\n      <td>McNeil Healthcare (Ireland) Limited</td>\n      <td>15599</td>\n      <td>529046.0</td>\n      <td>2541167.62</td>\n    </tr>\n    <tr>\n      <th>9</th>\n      <td>OTRIVIN</td>\n      <td>Česko</td>\n      <td>GlaxoSmithKline Consumer Healthcare Czech Repu...</td>\n      <td>31178</td>\n      <td>95259.5</td>\n      <td>450124.85</td>\n    </tr>\n    <tr>\n      <th>10</th>\n      <td>Orinox</td>\n      <td>Česko</td>\n      <td>Dr. Max Pharma s.r.o.</td>\n      <td>7804</td>\n      <td>1.0</td>\n      <td>3.00</td>\n    </tr>\n    <tr>\n      <th>11</th>\n      <td>Otrivin Menthol</td>\n      <td>Česko</td>\n      <td>GlaxoSmithKline Consumer Healthcare Czech Repu...</td>\n      <td>7798</td>\n      <td>133135.0</td>\n      <td>681134.20</td>\n    </tr>\n    <tr>\n      <th>12</th>\n      <td>Rinoxyl</td>\n      <td>Fínsko</td>\n      <td>Orion Corporation, Orion Pharma</td>\n      <td>15619</td>\n      <td>3.0</td>\n      <td>40.08</td>\n    </tr>\n    <tr>\n      <th>13</th>\n      <td>mar rhino</td>\n      <td>Nemecko</td>\n      <td>STADA Arzneimittel AG</td>\n      <td>15615</td>\n      <td>106986.0</td>\n      <td>401803.74</td>\n    </tr>\n  </tbody>\n</table>\n</div>"
     },
     "metadata": {}
    }
   ],
   "source": [
    "xylometazolin = top20tab[\"R01AA07\"].sort_values(by='Počet_balení', ascending=False)\n",
    "\n",
    "for i,popis in enumerate(xylometazolin['LIEK_popis']):\n",
    "    if 'DR.RENTSCHLER SCHNUPFENSPRAY' in popis:\n",
    "        xylometazolin.iloc[i,4] = 'DR.RENTSCHLER SCHNUPFENSPRAY'\n",
    "    elif 'Maresyl' in popis:\n",
    "        xylometazolin.iloc[i,4] = 'Maresyl'\n",
    "    elif 'NASENSPRAY' in popis:\n",
    "        xylometazolin.iloc[i,4] = 'NASENSPRAY'\n",
    "    elif 'NASENTROPFEN' in popis:\n",
    "        xylometazolin.iloc[i,4] = 'NASENTROPFEN'\n",
    "    elif 'OLYNTH HA' in popis:\n",
    "        xylometazolin.iloc[i,4] = 'OLYNTH HA'\n",
    "    elif 'OLYNTH' in popis:\n",
    "        xylometazolin.iloc[i,4] = 'OLYNTH'\n",
    "    elif 'OTRIVIN' in popis:\n",
    "        xylometazolin.iloc[i,4] = 'OTRIVIN'\n",
    "    elif 'Orinox' in popis:\n",
    "        xylometazolin.iloc[i,4] = 'Orinox'\n",
    "    elif 'Otrivin Menthol' in popis:\n",
    "        xylometazolin.iloc[i,4] = 'Otrivin Menthol'\n",
    "    elif 'Rinoxyl' in popis:\n",
    "        xylometazolin.iloc[i,4] = 'Rinoxyl'\n",
    "    elif 'mar rhino' in popis:\n",
    "        xylometazolin.iloc[i,4] = 'mar rhino'    \n",
    "\n",
    "xylometazolin = xylometazolin.groupby(['LIEK_popis', 'STAT_popis', 'VYROBCA_popis']).sum().reset_index()\n",
    "\n",
    "display(xylometazolin.sort_values(by='LIEK_popis'))"
   ]
  },
  {
   "cell_type": "code",
   "execution_count": 115,
   "metadata": {},
   "outputs": [
    {
     "output_type": "display_data",
     "data": {
      "application/vnd.plotly.v1+json": {
       "config": {
        "plotlyServerURL": "https://plot.ly"
       },
       "data": [
        {
         "alignmentgroup": "True",
         "hovertemplate": "STAT_popis=ĺrsko<br>LIEK_popis=%{x}<br>Počet_balení=%{y}<extra></extra>",
         "legendgroup": "ĺrsko",
         "marker": {
          "color": "#636efa"
         },
         "name": "ĺrsko",
         "offsetgroup": "ĺrsko",
         "orientation": "v",
         "showlegend": true,
         "textposition": "auto",
         "type": "bar",
         "x": [
          "OLYNTH",
          "OLYNTH HA"
         ],
         "xaxis": "x",
         "y": [
          621781,
          529046
         ],
         "yaxis": "y"
        },
        {
         "alignmentgroup": "True",
         "hovertemplate": "STAT_popis=Česko<br>LIEK_popis=%{x}<br>Počet_balení=%{y}<extra></extra>",
         "legendgroup": "Česko",
         "marker": {
          "color": "#EF553B"
         },
         "name": "Česko",
         "offsetgroup": "Česko",
         "orientation": "v",
         "showlegend": true,
         "textposition": "auto",
         "type": "bar",
         "x": [
          "OTRIVIN",
          "Otrivin Menthol"
         ],
         "xaxis": "x",
         "y": [
          95259.5,
          133135
         ],
         "yaxis": "y"
        },
        {
         "alignmentgroup": "True",
         "hovertemplate": "STAT_popis=Nemecko<br>LIEK_popis=%{x}<br>Počet_balení=%{y}<extra></extra>",
         "legendgroup": "Nemecko",
         "marker": {
          "color": "#00cc96"
         },
         "name": "Nemecko",
         "offsetgroup": "Nemecko",
         "orientation": "v",
         "showlegend": true,
         "textposition": "auto",
         "type": "bar",
         "x": [
          "mar rhino"
         ],
         "xaxis": "x",
         "y": [
          106986
         ],
         "yaxis": "y"
        }
       ],
       "layout": {
        "barmode": "relative",
        "legend": {
         "title": {
          "text": "STAT_popis"
         },
         "tracegroupgap": 0
        },
        "template": {
         "data": {
          "bar": [
           {
            "error_x": {
             "color": "#2a3f5f"
            },
            "error_y": {
             "color": "#2a3f5f"
            },
            "marker": {
             "line": {
              "color": "#E5ECF6",
              "width": 0.5
             }
            },
            "type": "bar"
           }
          ],
          "barpolar": [
           {
            "marker": {
             "line": {
              "color": "#E5ECF6",
              "width": 0.5
             }
            },
            "type": "barpolar"
           }
          ],
          "carpet": [
           {
            "aaxis": {
             "endlinecolor": "#2a3f5f",
             "gridcolor": "white",
             "linecolor": "white",
             "minorgridcolor": "white",
             "startlinecolor": "#2a3f5f"
            },
            "baxis": {
             "endlinecolor": "#2a3f5f",
             "gridcolor": "white",
             "linecolor": "white",
             "minorgridcolor": "white",
             "startlinecolor": "#2a3f5f"
            },
            "type": "carpet"
           }
          ],
          "choropleth": [
           {
            "colorbar": {
             "outlinewidth": 0,
             "ticks": ""
            },
            "type": "choropleth"
           }
          ],
          "contour": [
           {
            "colorbar": {
             "outlinewidth": 0,
             "ticks": ""
            },
            "colorscale": [
             [
              0,
              "#0d0887"
             ],
             [
              0.1111111111111111,
              "#46039f"
             ],
             [
              0.2222222222222222,
              "#7201a8"
             ],
             [
              0.3333333333333333,
              "#9c179e"
             ],
             [
              0.4444444444444444,
              "#bd3786"
             ],
             [
              0.5555555555555556,
              "#d8576b"
             ],
             [
              0.6666666666666666,
              "#ed7953"
             ],
             [
              0.7777777777777778,
              "#fb9f3a"
             ],
             [
              0.8888888888888888,
              "#fdca26"
             ],
             [
              1,
              "#f0f921"
             ]
            ],
            "type": "contour"
           }
          ],
          "contourcarpet": [
           {
            "colorbar": {
             "outlinewidth": 0,
             "ticks": ""
            },
            "type": "contourcarpet"
           }
          ],
          "heatmap": [
           {
            "colorbar": {
             "outlinewidth": 0,
             "ticks": ""
            },
            "colorscale": [
             [
              0,
              "#0d0887"
             ],
             [
              0.1111111111111111,
              "#46039f"
             ],
             [
              0.2222222222222222,
              "#7201a8"
             ],
             [
              0.3333333333333333,
              "#9c179e"
             ],
             [
              0.4444444444444444,
              "#bd3786"
             ],
             [
              0.5555555555555556,
              "#d8576b"
             ],
             [
              0.6666666666666666,
              "#ed7953"
             ],
             [
              0.7777777777777778,
              "#fb9f3a"
             ],
             [
              0.8888888888888888,
              "#fdca26"
             ],
             [
              1,
              "#f0f921"
             ]
            ],
            "type": "heatmap"
           }
          ],
          "heatmapgl": [
           {
            "colorbar": {
             "outlinewidth": 0,
             "ticks": ""
            },
            "colorscale": [
             [
              0,
              "#0d0887"
             ],
             [
              0.1111111111111111,
              "#46039f"
             ],
             [
              0.2222222222222222,
              "#7201a8"
             ],
             [
              0.3333333333333333,
              "#9c179e"
             ],
             [
              0.4444444444444444,
              "#bd3786"
             ],
             [
              0.5555555555555556,
              "#d8576b"
             ],
             [
              0.6666666666666666,
              "#ed7953"
             ],
             [
              0.7777777777777778,
              "#fb9f3a"
             ],
             [
              0.8888888888888888,
              "#fdca26"
             ],
             [
              1,
              "#f0f921"
             ]
            ],
            "type": "heatmapgl"
           }
          ],
          "histogram": [
           {
            "marker": {
             "colorbar": {
              "outlinewidth": 0,
              "ticks": ""
             }
            },
            "type": "histogram"
           }
          ],
          "histogram2d": [
           {
            "colorbar": {
             "outlinewidth": 0,
             "ticks": ""
            },
            "colorscale": [
             [
              0,
              "#0d0887"
             ],
             [
              0.1111111111111111,
              "#46039f"
             ],
             [
              0.2222222222222222,
              "#7201a8"
             ],
             [
              0.3333333333333333,
              "#9c179e"
             ],
             [
              0.4444444444444444,
              "#bd3786"
             ],
             [
              0.5555555555555556,
              "#d8576b"
             ],
             [
              0.6666666666666666,
              "#ed7953"
             ],
             [
              0.7777777777777778,
              "#fb9f3a"
             ],
             [
              0.8888888888888888,
              "#fdca26"
             ],
             [
              1,
              "#f0f921"
             ]
            ],
            "type": "histogram2d"
           }
          ],
          "histogram2dcontour": [
           {
            "colorbar": {
             "outlinewidth": 0,
             "ticks": ""
            },
            "colorscale": [
             [
              0,
              "#0d0887"
             ],
             [
              0.1111111111111111,
              "#46039f"
             ],
             [
              0.2222222222222222,
              "#7201a8"
             ],
             [
              0.3333333333333333,
              "#9c179e"
             ],
             [
              0.4444444444444444,
              "#bd3786"
             ],
             [
              0.5555555555555556,
              "#d8576b"
             ],
             [
              0.6666666666666666,
              "#ed7953"
             ],
             [
              0.7777777777777778,
              "#fb9f3a"
             ],
             [
              0.8888888888888888,
              "#fdca26"
             ],
             [
              1,
              "#f0f921"
             ]
            ],
            "type": "histogram2dcontour"
           }
          ],
          "mesh3d": [
           {
            "colorbar": {
             "outlinewidth": 0,
             "ticks": ""
            },
            "type": "mesh3d"
           }
          ],
          "parcoords": [
           {
            "line": {
             "colorbar": {
              "outlinewidth": 0,
              "ticks": ""
             }
            },
            "type": "parcoords"
           }
          ],
          "pie": [
           {
            "automargin": true,
            "type": "pie"
           }
          ],
          "scatter": [
           {
            "marker": {
             "colorbar": {
              "outlinewidth": 0,
              "ticks": ""
             }
            },
            "type": "scatter"
           }
          ],
          "scatter3d": [
           {
            "line": {
             "colorbar": {
              "outlinewidth": 0,
              "ticks": ""
             }
            },
            "marker": {
             "colorbar": {
              "outlinewidth": 0,
              "ticks": ""
             }
            },
            "type": "scatter3d"
           }
          ],
          "scattercarpet": [
           {
            "marker": {
             "colorbar": {
              "outlinewidth": 0,
              "ticks": ""
             }
            },
            "type": "scattercarpet"
           }
          ],
          "scattergeo": [
           {
            "marker": {
             "colorbar": {
              "outlinewidth": 0,
              "ticks": ""
             }
            },
            "type": "scattergeo"
           }
          ],
          "scattergl": [
           {
            "marker": {
             "colorbar": {
              "outlinewidth": 0,
              "ticks": ""
             }
            },
            "type": "scattergl"
           }
          ],
          "scattermapbox": [
           {
            "marker": {
             "colorbar": {
              "outlinewidth": 0,
              "ticks": ""
             }
            },
            "type": "scattermapbox"
           }
          ],
          "scatterpolar": [
           {
            "marker": {
             "colorbar": {
              "outlinewidth": 0,
              "ticks": ""
             }
            },
            "type": "scatterpolar"
           }
          ],
          "scatterpolargl": [
           {
            "marker": {
             "colorbar": {
              "outlinewidth": 0,
              "ticks": ""
             }
            },
            "type": "scatterpolargl"
           }
          ],
          "scatterternary": [
           {
            "marker": {
             "colorbar": {
              "outlinewidth": 0,
              "ticks": ""
             }
            },
            "type": "scatterternary"
           }
          ],
          "surface": [
           {
            "colorbar": {
             "outlinewidth": 0,
             "ticks": ""
            },
            "colorscale": [
             [
              0,
              "#0d0887"
             ],
             [
              0.1111111111111111,
              "#46039f"
             ],
             [
              0.2222222222222222,
              "#7201a8"
             ],
             [
              0.3333333333333333,
              "#9c179e"
             ],
             [
              0.4444444444444444,
              "#bd3786"
             ],
             [
              0.5555555555555556,
              "#d8576b"
             ],
             [
              0.6666666666666666,
              "#ed7953"
             ],
             [
              0.7777777777777778,
              "#fb9f3a"
             ],
             [
              0.8888888888888888,
              "#fdca26"
             ],
             [
              1,
              "#f0f921"
             ]
            ],
            "type": "surface"
           }
          ],
          "table": [
           {
            "cells": {
             "fill": {
              "color": "#EBF0F8"
             },
             "line": {
              "color": "white"
             }
            },
            "header": {
             "fill": {
              "color": "#C8D4E3"
             },
             "line": {
              "color": "white"
             }
            },
            "type": "table"
           }
          ]
         },
         "layout": {
          "annotationdefaults": {
           "arrowcolor": "#2a3f5f",
           "arrowhead": 0,
           "arrowwidth": 1
          },
          "autotypenumbers": "strict",
          "coloraxis": {
           "colorbar": {
            "outlinewidth": 0,
            "ticks": ""
           }
          },
          "colorscale": {
           "diverging": [
            [
             0,
             "#8e0152"
            ],
            [
             0.1,
             "#c51b7d"
            ],
            [
             0.2,
             "#de77ae"
            ],
            [
             0.3,
             "#f1b6da"
            ],
            [
             0.4,
             "#fde0ef"
            ],
            [
             0.5,
             "#f7f7f7"
            ],
            [
             0.6,
             "#e6f5d0"
            ],
            [
             0.7,
             "#b8e186"
            ],
            [
             0.8,
             "#7fbc41"
            ],
            [
             0.9,
             "#4d9221"
            ],
            [
             1,
             "#276419"
            ]
           ],
           "sequential": [
            [
             0,
             "#0d0887"
            ],
            [
             0.1111111111111111,
             "#46039f"
            ],
            [
             0.2222222222222222,
             "#7201a8"
            ],
            [
             0.3333333333333333,
             "#9c179e"
            ],
            [
             0.4444444444444444,
             "#bd3786"
            ],
            [
             0.5555555555555556,
             "#d8576b"
            ],
            [
             0.6666666666666666,
             "#ed7953"
            ],
            [
             0.7777777777777778,
             "#fb9f3a"
            ],
            [
             0.8888888888888888,
             "#fdca26"
            ],
            [
             1,
             "#f0f921"
            ]
           ],
           "sequentialminus": [
            [
             0,
             "#0d0887"
            ],
            [
             0.1111111111111111,
             "#46039f"
            ],
            [
             0.2222222222222222,
             "#7201a8"
            ],
            [
             0.3333333333333333,
             "#9c179e"
            ],
            [
             0.4444444444444444,
             "#bd3786"
            ],
            [
             0.5555555555555556,
             "#d8576b"
            ],
            [
             0.6666666666666666,
             "#ed7953"
            ],
            [
             0.7777777777777778,
             "#fb9f3a"
            ],
            [
             0.8888888888888888,
             "#fdca26"
            ],
            [
             1,
             "#f0f921"
            ]
           ]
          },
          "colorway": [
           "#636efa",
           "#EF553B",
           "#00cc96",
           "#ab63fa",
           "#FFA15A",
           "#19d3f3",
           "#FF6692",
           "#B6E880",
           "#FF97FF",
           "#FECB52"
          ],
          "font": {
           "color": "#2a3f5f"
          },
          "geo": {
           "bgcolor": "white",
           "lakecolor": "white",
           "landcolor": "#E5ECF6",
           "showlakes": true,
           "showland": true,
           "subunitcolor": "white"
          },
          "hoverlabel": {
           "align": "left"
          },
          "hovermode": "closest",
          "mapbox": {
           "style": "light"
          },
          "paper_bgcolor": "white",
          "plot_bgcolor": "#E5ECF6",
          "polar": {
           "angularaxis": {
            "gridcolor": "white",
            "linecolor": "white",
            "ticks": ""
           },
           "bgcolor": "#E5ECF6",
           "radialaxis": {
            "gridcolor": "white",
            "linecolor": "white",
            "ticks": ""
           }
          },
          "scene": {
           "xaxis": {
            "backgroundcolor": "#E5ECF6",
            "gridcolor": "white",
            "gridwidth": 2,
            "linecolor": "white",
            "showbackground": true,
            "ticks": "",
            "zerolinecolor": "white"
           },
           "yaxis": {
            "backgroundcolor": "#E5ECF6",
            "gridcolor": "white",
            "gridwidth": 2,
            "linecolor": "white",
            "showbackground": true,
            "ticks": "",
            "zerolinecolor": "white"
           },
           "zaxis": {
            "backgroundcolor": "#E5ECF6",
            "gridcolor": "white",
            "gridwidth": 2,
            "linecolor": "white",
            "showbackground": true,
            "ticks": "",
            "zerolinecolor": "white"
           }
          },
          "shapedefaults": {
           "line": {
            "color": "#2a3f5f"
           }
          },
          "ternary": {
           "aaxis": {
            "gridcolor": "white",
            "linecolor": "white",
            "ticks": ""
           },
           "baxis": {
            "gridcolor": "white",
            "linecolor": "white",
            "ticks": ""
           },
           "bgcolor": "#E5ECF6",
           "caxis": {
            "gridcolor": "white",
            "linecolor": "white",
            "ticks": ""
           }
          },
          "title": {
           "x": 0.05
          },
          "xaxis": {
           "automargin": true,
           "gridcolor": "white",
           "linecolor": "white",
           "ticks": "",
           "title": {
            "standoff": 15
           },
           "zerolinecolor": "white",
           "zerolinewidth": 2
          },
          "yaxis": {
           "automargin": true,
           "gridcolor": "white",
           "linecolor": "white",
           "ticks": "",
           "title": {
            "standoff": 15
           },
           "zerolinecolor": "white",
           "zerolinewidth": 2
          }
         }
        },
        "title": {
         "text": "Xylometazolin nad 50 000"
        },
        "xaxis": {
         "anchor": "y",
         "domain": [
          0,
          1
         ],
         "tickangle": 45,
         "title": {
          "text": "LIEK_popis"
         }
        },
        "yaxis": {
         "anchor": "x",
         "domain": [
          0,
          1
         ],
         "title": {
          "text": "Počet_balení"
         }
        }
       }
      }
     },
     "metadata": {}
    }
   ],
   "source": [
    "fig = px.bar(xylometazolin.query('Počet_balení > 50000'), x='LIEK_popis', y='Počet_balení', color='STAT_popis', title='Xylometazolin nad 50 000')\n",
    "fig.update_xaxes(tickangle=45)\n",
    "fig.show()"
   ]
  },
  {
   "source": [
    "# 15. Rôzne iné krčné antiseptiká"
   ],
   "cell_type": "markdown",
   "metadata": {}
  },
  {
   "cell_type": "code",
   "execution_count": 124,
   "metadata": {},
   "outputs": [
    {
     "output_type": "display_data",
     "data": {
      "text/plain": "            LIEK_popis          STAT_popis  \\\n0      Dorithricin pas             Nemecko   \n1     Faryngal aerodis           Slovinsko   \n2         Faryngal pas           Slovinsko   \n3   HEXORALETTEN N pas               ĺrsko   \n4            NEO-ANGIN             Nemecko   \n5        NEO-ANGIN pas             Nemecko   \n6         SEPTISAN tbl           Slovensko   \n7            SEPTOLETE           Slovinsko   \n8            SEPTOLETE               Česko   \n9            STOPANGIN               Česko   \n10           STREPSILS  Spojené kráľovstvo   \n11           STREPSILS               Česko   \n\n                                        VYROBCA_popis   index  Počet_balení  \\\n0                         Medice Pharma GmbH & Co. KG   15809    653457.650   \n1                         Sandoz Pharmaceuticals d.d.    7929      3846.000   \n2                         Sandoz Pharmaceuticals d.d.   15795     11373.370   \n3                 McNeil Healthcare (Ireland) Limited    7901      3768.500   \n4                                     Divapharma GmbH    7907     11357.380   \n5                                     Divapharma GmbH   31692    105924.680   \n6                      sanofi-aventis Slovakia s.r.o.    7936     90881.000   \n7                               KRKA d.d., Novo mesto   63315    109671.600   \n8   Reckitt Benckiser (Czech Republic), spol. s r.o.     7919     13398.600   \n9                        Teva Czech Industries s.r.o.   15802     63500.500   \n10                     Boots Healthcare International   31636       143.000   \n11  Reckitt Benckiser (Czech Republic), spol. s r.o.   118810    376971.679   \n\n    Úhrada_PAC  \n0   4647914.33  \n1     14446.95  \n2     33328.57  \n3      5789.35  \n4     68407.89  \n5    680358.98  \n6    301647.58  \n7    601482.25  \n8     88941.37  \n9    323868.66  \n10      880.26  \n11  2481959.72  ",
      "text/html": "<div>\n<style scoped>\n    .dataframe tbody tr th:only-of-type {\n        vertical-align: middle;\n    }\n\n    .dataframe tbody tr th {\n        vertical-align: top;\n    }\n\n    .dataframe thead th {\n        text-align: right;\n    }\n</style>\n<table border=\"1\" class=\"dataframe\">\n  <thead>\n    <tr style=\"text-align: right;\">\n      <th></th>\n      <th>LIEK_popis</th>\n      <th>STAT_popis</th>\n      <th>VYROBCA_popis</th>\n      <th>index</th>\n      <th>Počet_balení</th>\n      <th>Úhrada_PAC</th>\n    </tr>\n  </thead>\n  <tbody>\n    <tr>\n      <th>0</th>\n      <td>Dorithricin pas</td>\n      <td>Nemecko</td>\n      <td>Medice Pharma GmbH &amp; Co. KG</td>\n      <td>15809</td>\n      <td>653457.650</td>\n      <td>4647914.33</td>\n    </tr>\n    <tr>\n      <th>1</th>\n      <td>Faryngal aerodis</td>\n      <td>Slovinsko</td>\n      <td>Sandoz Pharmaceuticals d.d.</td>\n      <td>7929</td>\n      <td>3846.000</td>\n      <td>14446.95</td>\n    </tr>\n    <tr>\n      <th>2</th>\n      <td>Faryngal pas</td>\n      <td>Slovinsko</td>\n      <td>Sandoz Pharmaceuticals d.d.</td>\n      <td>15795</td>\n      <td>11373.370</td>\n      <td>33328.57</td>\n    </tr>\n    <tr>\n      <th>3</th>\n      <td>HEXORALETTEN N pas</td>\n      <td>ĺrsko</td>\n      <td>McNeil Healthcare (Ireland) Limited</td>\n      <td>7901</td>\n      <td>3768.500</td>\n      <td>5789.35</td>\n    </tr>\n    <tr>\n      <th>4</th>\n      <td>NEO-ANGIN</td>\n      <td>Nemecko</td>\n      <td>Divapharma GmbH</td>\n      <td>7907</td>\n      <td>11357.380</td>\n      <td>68407.89</td>\n    </tr>\n    <tr>\n      <th>5</th>\n      <td>NEO-ANGIN pas</td>\n      <td>Nemecko</td>\n      <td>Divapharma GmbH</td>\n      <td>31692</td>\n      <td>105924.680</td>\n      <td>680358.98</td>\n    </tr>\n    <tr>\n      <th>6</th>\n      <td>SEPTISAN tbl</td>\n      <td>Slovensko</td>\n      <td>sanofi-aventis Slovakia s.r.o.</td>\n      <td>7936</td>\n      <td>90881.000</td>\n      <td>301647.58</td>\n    </tr>\n    <tr>\n      <th>7</th>\n      <td>SEPTOLETE</td>\n      <td>Slovinsko</td>\n      <td>KRKA d.d., Novo mesto</td>\n      <td>63315</td>\n      <td>109671.600</td>\n      <td>601482.25</td>\n    </tr>\n    <tr>\n      <th>8</th>\n      <td>SEPTOLETE</td>\n      <td>Česko</td>\n      <td>Reckitt Benckiser (Czech Republic), spol. s r.o.</td>\n      <td>7919</td>\n      <td>13398.600</td>\n      <td>88941.37</td>\n    </tr>\n    <tr>\n      <th>9</th>\n      <td>STOPANGIN</td>\n      <td>Česko</td>\n      <td>Teva Czech Industries s.r.o.</td>\n      <td>15802</td>\n      <td>63500.500</td>\n      <td>323868.66</td>\n    </tr>\n    <tr>\n      <th>10</th>\n      <td>STREPSILS</td>\n      <td>Spojené kráľovstvo</td>\n      <td>Boots Healthcare International</td>\n      <td>31636</td>\n      <td>143.000</td>\n      <td>880.26</td>\n    </tr>\n    <tr>\n      <th>11</th>\n      <td>STREPSILS</td>\n      <td>Česko</td>\n      <td>Reckitt Benckiser (Czech Republic), spol. s r.o.</td>\n      <td>118810</td>\n      <td>376971.679</td>\n      <td>2481959.72</td>\n    </tr>\n  </tbody>\n</table>\n</div>"
     },
     "metadata": {}
    }
   ],
   "source": [
    "ine_krcne = top20tab[\"R02AA20\"].sort_values(by='Počet_balení', ascending=False)\n",
    "\n",
    "for i,popis in enumerate(ine_krcne['LIEK_popis']):\n",
    "    if 'Dorithricin pas' in popis:\n",
    "        ine_krcne.iloc[i,4] = 'Dorithricin pas'\n",
    "    elif 'Faryngal 5 mg/1 mg lisované' in popis:\n",
    "        ine_krcne.iloc[i,4] = 'Faryngal pas'\n",
    "    elif 'Faryngal' in popis:\n",
    "        ine_krcne.iloc[i,4] = 'Faryngal aerodis'\n",
    "    elif 'HEXORALETTEN' in popis:\n",
    "        ine_krcne.iloc[i,4] = 'HEXORALETTEN N pas'\n",
    "    elif 'NEO-ANGIN' in popis:\n",
    "        ine_krcne.iloc[i,4] = 'NEO-ANGIN pas'\n",
    "    elif 'SEPTISAN tbl' in popis:\n",
    "        ine_krcne.iloc[i,4] = 'SEPTISAN tbl'\n",
    "    elif 'SEPTOLETE' in popis:\n",
    "        ine_krcne.iloc[i,4] = 'SEPTOLETE'\n",
    "    elif 'STOPANGIN' in popis:\n",
    "        ine_krcne.iloc[i,4] = 'STOPANGIN'\n",
    "    elif 'STREPSILS' in popis:\n",
    "        ine_krcne.iloc[i,4] = 'STREPSILS'\n",
    "    elif 'Septolete' in popis:\n",
    "        ine_krcne.iloc[i,4] = 'SEPTOLETE'\n",
    "    elif 'Strepsils' in popis:\n",
    "        ine_krcne.iloc[i,4] = 'SEPTOLETE'\n",
    "    elif 'neo-angin' in popis:\n",
    "        ine_krcne.iloc[i,4] = 'NEO-ANGIN'\n",
    "      \n",
    "\n",
    "ine_krcne = ine_krcne.groupby(['LIEK_popis', 'STAT_popis', 'VYROBCA_popis']).sum().reset_index()\n",
    "\n",
    "display(ine_krcne.sort_values(by='LIEK_popis'))"
   ]
  },
  {
   "cell_type": "code",
   "execution_count": 126,
   "metadata": {},
   "outputs": [
    {
     "output_type": "display_data",
     "data": {
      "application/vnd.plotly.v1+json": {
       "config": {
        "plotlyServerURL": "https://plot.ly"
       },
       "data": [
        {
         "alignmentgroup": "True",
         "hovertemplate": "STAT_popis=Nemecko<br>LIEK_popis=%{x}<br>Počet_balení=%{y}<extra></extra>",
         "legendgroup": "Nemecko",
         "marker": {
          "color": "#636efa"
         },
         "name": "Nemecko",
         "offsetgroup": "Nemecko",
         "orientation": "v",
         "showlegend": true,
         "textposition": "auto",
         "type": "bar",
         "x": [
          "Dorithricin pas",
          "NEO-ANGIN pas"
         ],
         "xaxis": "x",
         "y": [
          653457.6499999999,
          105924.68000000001
         ],
         "yaxis": "y"
        },
        {
         "alignmentgroup": "True",
         "hovertemplate": "STAT_popis=Slovensko<br>LIEK_popis=%{x}<br>Počet_balení=%{y}<extra></extra>",
         "legendgroup": "Slovensko",
         "marker": {
          "color": "#EF553B"
         },
         "name": "Slovensko",
         "offsetgroup": "Slovensko",
         "orientation": "v",
         "showlegend": true,
         "textposition": "auto",
         "type": "bar",
         "x": [
          "SEPTISAN tbl"
         ],
         "xaxis": "x",
         "y": [
          90881
         ],
         "yaxis": "y"
        },
        {
         "alignmentgroup": "True",
         "hovertemplate": "STAT_popis=Slovinsko<br>LIEK_popis=%{x}<br>Počet_balení=%{y}<extra></extra>",
         "legendgroup": "Slovinsko",
         "marker": {
          "color": "#00cc96"
         },
         "name": "Slovinsko",
         "offsetgroup": "Slovinsko",
         "orientation": "v",
         "showlegend": true,
         "textposition": "auto",
         "type": "bar",
         "x": [
          "SEPTOLETE"
         ],
         "xaxis": "x",
         "y": [
          109671.59999999999
         ],
         "yaxis": "y"
        },
        {
         "alignmentgroup": "True",
         "hovertemplate": "STAT_popis=Česko<br>LIEK_popis=%{x}<br>Počet_balení=%{y}<extra></extra>",
         "legendgroup": "Česko",
         "marker": {
          "color": "#ab63fa"
         },
         "name": "Česko",
         "offsetgroup": "Česko",
         "orientation": "v",
         "showlegend": true,
         "textposition": "auto",
         "type": "bar",
         "x": [
          "STOPANGIN",
          "STREPSILS"
         ],
         "xaxis": "x",
         "y": [
          63500.5,
          376971.679
         ],
         "yaxis": "y"
        }
       ],
       "layout": {
        "barmode": "relative",
        "legend": {
         "title": {
          "text": "STAT_popis"
         },
         "tracegroupgap": 0
        },
        "template": {
         "data": {
          "bar": [
           {
            "error_x": {
             "color": "#2a3f5f"
            },
            "error_y": {
             "color": "#2a3f5f"
            },
            "marker": {
             "line": {
              "color": "#E5ECF6",
              "width": 0.5
             }
            },
            "type": "bar"
           }
          ],
          "barpolar": [
           {
            "marker": {
             "line": {
              "color": "#E5ECF6",
              "width": 0.5
             }
            },
            "type": "barpolar"
           }
          ],
          "carpet": [
           {
            "aaxis": {
             "endlinecolor": "#2a3f5f",
             "gridcolor": "white",
             "linecolor": "white",
             "minorgridcolor": "white",
             "startlinecolor": "#2a3f5f"
            },
            "baxis": {
             "endlinecolor": "#2a3f5f",
             "gridcolor": "white",
             "linecolor": "white",
             "minorgridcolor": "white",
             "startlinecolor": "#2a3f5f"
            },
            "type": "carpet"
           }
          ],
          "choropleth": [
           {
            "colorbar": {
             "outlinewidth": 0,
             "ticks": ""
            },
            "type": "choropleth"
           }
          ],
          "contour": [
           {
            "colorbar": {
             "outlinewidth": 0,
             "ticks": ""
            },
            "colorscale": [
             [
              0,
              "#0d0887"
             ],
             [
              0.1111111111111111,
              "#46039f"
             ],
             [
              0.2222222222222222,
              "#7201a8"
             ],
             [
              0.3333333333333333,
              "#9c179e"
             ],
             [
              0.4444444444444444,
              "#bd3786"
             ],
             [
              0.5555555555555556,
              "#d8576b"
             ],
             [
              0.6666666666666666,
              "#ed7953"
             ],
             [
              0.7777777777777778,
              "#fb9f3a"
             ],
             [
              0.8888888888888888,
              "#fdca26"
             ],
             [
              1,
              "#f0f921"
             ]
            ],
            "type": "contour"
           }
          ],
          "contourcarpet": [
           {
            "colorbar": {
             "outlinewidth": 0,
             "ticks": ""
            },
            "type": "contourcarpet"
           }
          ],
          "heatmap": [
           {
            "colorbar": {
             "outlinewidth": 0,
             "ticks": ""
            },
            "colorscale": [
             [
              0,
              "#0d0887"
             ],
             [
              0.1111111111111111,
              "#46039f"
             ],
             [
              0.2222222222222222,
              "#7201a8"
             ],
             [
              0.3333333333333333,
              "#9c179e"
             ],
             [
              0.4444444444444444,
              "#bd3786"
             ],
             [
              0.5555555555555556,
              "#d8576b"
             ],
             [
              0.6666666666666666,
              "#ed7953"
             ],
             [
              0.7777777777777778,
              "#fb9f3a"
             ],
             [
              0.8888888888888888,
              "#fdca26"
             ],
             [
              1,
              "#f0f921"
             ]
            ],
            "type": "heatmap"
           }
          ],
          "heatmapgl": [
           {
            "colorbar": {
             "outlinewidth": 0,
             "ticks": ""
            },
            "colorscale": [
             [
              0,
              "#0d0887"
             ],
             [
              0.1111111111111111,
              "#46039f"
             ],
             [
              0.2222222222222222,
              "#7201a8"
             ],
             [
              0.3333333333333333,
              "#9c179e"
             ],
             [
              0.4444444444444444,
              "#bd3786"
             ],
             [
              0.5555555555555556,
              "#d8576b"
             ],
             [
              0.6666666666666666,
              "#ed7953"
             ],
             [
              0.7777777777777778,
              "#fb9f3a"
             ],
             [
              0.8888888888888888,
              "#fdca26"
             ],
             [
              1,
              "#f0f921"
             ]
            ],
            "type": "heatmapgl"
           }
          ],
          "histogram": [
           {
            "marker": {
             "colorbar": {
              "outlinewidth": 0,
              "ticks": ""
             }
            },
            "type": "histogram"
           }
          ],
          "histogram2d": [
           {
            "colorbar": {
             "outlinewidth": 0,
             "ticks": ""
            },
            "colorscale": [
             [
              0,
              "#0d0887"
             ],
             [
              0.1111111111111111,
              "#46039f"
             ],
             [
              0.2222222222222222,
              "#7201a8"
             ],
             [
              0.3333333333333333,
              "#9c179e"
             ],
             [
              0.4444444444444444,
              "#bd3786"
             ],
             [
              0.5555555555555556,
              "#d8576b"
             ],
             [
              0.6666666666666666,
              "#ed7953"
             ],
             [
              0.7777777777777778,
              "#fb9f3a"
             ],
             [
              0.8888888888888888,
              "#fdca26"
             ],
             [
              1,
              "#f0f921"
             ]
            ],
            "type": "histogram2d"
           }
          ],
          "histogram2dcontour": [
           {
            "colorbar": {
             "outlinewidth": 0,
             "ticks": ""
            },
            "colorscale": [
             [
              0,
              "#0d0887"
             ],
             [
              0.1111111111111111,
              "#46039f"
             ],
             [
              0.2222222222222222,
              "#7201a8"
             ],
             [
              0.3333333333333333,
              "#9c179e"
             ],
             [
              0.4444444444444444,
              "#bd3786"
             ],
             [
              0.5555555555555556,
              "#d8576b"
             ],
             [
              0.6666666666666666,
              "#ed7953"
             ],
             [
              0.7777777777777778,
              "#fb9f3a"
             ],
             [
              0.8888888888888888,
              "#fdca26"
             ],
             [
              1,
              "#f0f921"
             ]
            ],
            "type": "histogram2dcontour"
           }
          ],
          "mesh3d": [
           {
            "colorbar": {
             "outlinewidth": 0,
             "ticks": ""
            },
            "type": "mesh3d"
           }
          ],
          "parcoords": [
           {
            "line": {
             "colorbar": {
              "outlinewidth": 0,
              "ticks": ""
             }
            },
            "type": "parcoords"
           }
          ],
          "pie": [
           {
            "automargin": true,
            "type": "pie"
           }
          ],
          "scatter": [
           {
            "marker": {
             "colorbar": {
              "outlinewidth": 0,
              "ticks": ""
             }
            },
            "type": "scatter"
           }
          ],
          "scatter3d": [
           {
            "line": {
             "colorbar": {
              "outlinewidth": 0,
              "ticks": ""
             }
            },
            "marker": {
             "colorbar": {
              "outlinewidth": 0,
              "ticks": ""
             }
            },
            "type": "scatter3d"
           }
          ],
          "scattercarpet": [
           {
            "marker": {
             "colorbar": {
              "outlinewidth": 0,
              "ticks": ""
             }
            },
            "type": "scattercarpet"
           }
          ],
          "scattergeo": [
           {
            "marker": {
             "colorbar": {
              "outlinewidth": 0,
              "ticks": ""
             }
            },
            "type": "scattergeo"
           }
          ],
          "scattergl": [
           {
            "marker": {
             "colorbar": {
              "outlinewidth": 0,
              "ticks": ""
             }
            },
            "type": "scattergl"
           }
          ],
          "scattermapbox": [
           {
            "marker": {
             "colorbar": {
              "outlinewidth": 0,
              "ticks": ""
             }
            },
            "type": "scattermapbox"
           }
          ],
          "scatterpolar": [
           {
            "marker": {
             "colorbar": {
              "outlinewidth": 0,
              "ticks": ""
             }
            },
            "type": "scatterpolar"
           }
          ],
          "scatterpolargl": [
           {
            "marker": {
             "colorbar": {
              "outlinewidth": 0,
              "ticks": ""
             }
            },
            "type": "scatterpolargl"
           }
          ],
          "scatterternary": [
           {
            "marker": {
             "colorbar": {
              "outlinewidth": 0,
              "ticks": ""
             }
            },
            "type": "scatterternary"
           }
          ],
          "surface": [
           {
            "colorbar": {
             "outlinewidth": 0,
             "ticks": ""
            },
            "colorscale": [
             [
              0,
              "#0d0887"
             ],
             [
              0.1111111111111111,
              "#46039f"
             ],
             [
              0.2222222222222222,
              "#7201a8"
             ],
             [
              0.3333333333333333,
              "#9c179e"
             ],
             [
              0.4444444444444444,
              "#bd3786"
             ],
             [
              0.5555555555555556,
              "#d8576b"
             ],
             [
              0.6666666666666666,
              "#ed7953"
             ],
             [
              0.7777777777777778,
              "#fb9f3a"
             ],
             [
              0.8888888888888888,
              "#fdca26"
             ],
             [
              1,
              "#f0f921"
             ]
            ],
            "type": "surface"
           }
          ],
          "table": [
           {
            "cells": {
             "fill": {
              "color": "#EBF0F8"
             },
             "line": {
              "color": "white"
             }
            },
            "header": {
             "fill": {
              "color": "#C8D4E3"
             },
             "line": {
              "color": "white"
             }
            },
            "type": "table"
           }
          ]
         },
         "layout": {
          "annotationdefaults": {
           "arrowcolor": "#2a3f5f",
           "arrowhead": 0,
           "arrowwidth": 1
          },
          "autotypenumbers": "strict",
          "coloraxis": {
           "colorbar": {
            "outlinewidth": 0,
            "ticks": ""
           }
          },
          "colorscale": {
           "diverging": [
            [
             0,
             "#8e0152"
            ],
            [
             0.1,
             "#c51b7d"
            ],
            [
             0.2,
             "#de77ae"
            ],
            [
             0.3,
             "#f1b6da"
            ],
            [
             0.4,
             "#fde0ef"
            ],
            [
             0.5,
             "#f7f7f7"
            ],
            [
             0.6,
             "#e6f5d0"
            ],
            [
             0.7,
             "#b8e186"
            ],
            [
             0.8,
             "#7fbc41"
            ],
            [
             0.9,
             "#4d9221"
            ],
            [
             1,
             "#276419"
            ]
           ],
           "sequential": [
            [
             0,
             "#0d0887"
            ],
            [
             0.1111111111111111,
             "#46039f"
            ],
            [
             0.2222222222222222,
             "#7201a8"
            ],
            [
             0.3333333333333333,
             "#9c179e"
            ],
            [
             0.4444444444444444,
             "#bd3786"
            ],
            [
             0.5555555555555556,
             "#d8576b"
            ],
            [
             0.6666666666666666,
             "#ed7953"
            ],
            [
             0.7777777777777778,
             "#fb9f3a"
            ],
            [
             0.8888888888888888,
             "#fdca26"
            ],
            [
             1,
             "#f0f921"
            ]
           ],
           "sequentialminus": [
            [
             0,
             "#0d0887"
            ],
            [
             0.1111111111111111,
             "#46039f"
            ],
            [
             0.2222222222222222,
             "#7201a8"
            ],
            [
             0.3333333333333333,
             "#9c179e"
            ],
            [
             0.4444444444444444,
             "#bd3786"
            ],
            [
             0.5555555555555556,
             "#d8576b"
            ],
            [
             0.6666666666666666,
             "#ed7953"
            ],
            [
             0.7777777777777778,
             "#fb9f3a"
            ],
            [
             0.8888888888888888,
             "#fdca26"
            ],
            [
             1,
             "#f0f921"
            ]
           ]
          },
          "colorway": [
           "#636efa",
           "#EF553B",
           "#00cc96",
           "#ab63fa",
           "#FFA15A",
           "#19d3f3",
           "#FF6692",
           "#B6E880",
           "#FF97FF",
           "#FECB52"
          ],
          "font": {
           "color": "#2a3f5f"
          },
          "geo": {
           "bgcolor": "white",
           "lakecolor": "white",
           "landcolor": "#E5ECF6",
           "showlakes": true,
           "showland": true,
           "subunitcolor": "white"
          },
          "hoverlabel": {
           "align": "left"
          },
          "hovermode": "closest",
          "mapbox": {
           "style": "light"
          },
          "paper_bgcolor": "white",
          "plot_bgcolor": "#E5ECF6",
          "polar": {
           "angularaxis": {
            "gridcolor": "white",
            "linecolor": "white",
            "ticks": ""
           },
           "bgcolor": "#E5ECF6",
           "radialaxis": {
            "gridcolor": "white",
            "linecolor": "white",
            "ticks": ""
           }
          },
          "scene": {
           "xaxis": {
            "backgroundcolor": "#E5ECF6",
            "gridcolor": "white",
            "gridwidth": 2,
            "linecolor": "white",
            "showbackground": true,
            "ticks": "",
            "zerolinecolor": "white"
           },
           "yaxis": {
            "backgroundcolor": "#E5ECF6",
            "gridcolor": "white",
            "gridwidth": 2,
            "linecolor": "white",
            "showbackground": true,
            "ticks": "",
            "zerolinecolor": "white"
           },
           "zaxis": {
            "backgroundcolor": "#E5ECF6",
            "gridcolor": "white",
            "gridwidth": 2,
            "linecolor": "white",
            "showbackground": true,
            "ticks": "",
            "zerolinecolor": "white"
           }
          },
          "shapedefaults": {
           "line": {
            "color": "#2a3f5f"
           }
          },
          "ternary": {
           "aaxis": {
            "gridcolor": "white",
            "linecolor": "white",
            "ticks": ""
           },
           "baxis": {
            "gridcolor": "white",
            "linecolor": "white",
            "ticks": ""
           },
           "bgcolor": "#E5ECF6",
           "caxis": {
            "gridcolor": "white",
            "linecolor": "white",
            "ticks": ""
           }
          },
          "title": {
           "x": 0.05
          },
          "xaxis": {
           "automargin": true,
           "gridcolor": "white",
           "linecolor": "white",
           "ticks": "",
           "title": {
            "standoff": 15
           },
           "zerolinecolor": "white",
           "zerolinewidth": 2
          },
          "yaxis": {
           "automargin": true,
           "gridcolor": "white",
           "linecolor": "white",
           "ticks": "",
           "title": {
            "standoff": 15
           },
           "zerolinecolor": "white",
           "zerolinewidth": 2
          }
         }
        },
        "title": {
         "text": "Rôzne iné krčné antiseptiká nad 50 000"
        },
        "xaxis": {
         "anchor": "y",
         "domain": [
          0,
          1
         ],
         "tickangle": 45,
         "title": {
          "text": "LIEK_popis"
         }
        },
        "yaxis": {
         "anchor": "x",
         "domain": [
          0,
          1
         ],
         "title": {
          "text": "Počet_balení"
         }
        }
       }
      }
     },
     "metadata": {}
    }
   ],
   "source": [
    "fig = px.bar(ine_krcne.query('Počet_balení > 50000'), x='LIEK_popis', y='Počet_balení', color='STAT_popis', title='Rôzne iné krčné antiseptiká nad 50 000')\n",
    "fig.update_xaxes(tickangle=45)\n",
    "fig.show()"
   ]
  },
  {
   "cell_type": "code",
   "execution_count": 135,
   "metadata": {},
   "outputs": [
    {
     "output_type": "display_data",
     "data": {
      "text/plain": "               LIEK_popis  index  Počet_balení  Úhrada_PAC\n0         CITRON A BYLINY  15845     44667.250   301320.29\n1            COOLING MINT   7935     44157.520   280492.45\n2        Jahoda bez cukru   7919     13398.600    88941.37\n3            MED A CITRÓN  31677    149374.240   945308.40\n4    Menthol a Eucalyptus  39560      2433.500    14849.97\n5                ORIGINAL  15845       110.500      691.05\n6                    PLUS  15821     76760.689   566793.42\n7  POMARANČ S VITAMÍNOM C   7934        26.500      163.60\n8               Vitamin C  15829     59584.480   373220.80",
      "text/html": "<div>\n<style scoped>\n    .dataframe tbody tr th:only-of-type {\n        vertical-align: middle;\n    }\n\n    .dataframe tbody tr th {\n        vertical-align: top;\n    }\n\n    .dataframe thead th {\n        text-align: right;\n    }\n</style>\n<table border=\"1\" class=\"dataframe\">\n  <thead>\n    <tr style=\"text-align: right;\">\n      <th></th>\n      <th>LIEK_popis</th>\n      <th>index</th>\n      <th>Počet_balení</th>\n      <th>Úhrada_PAC</th>\n    </tr>\n  </thead>\n  <tbody>\n    <tr>\n      <th>0</th>\n      <td>CITRON A BYLINY</td>\n      <td>15845</td>\n      <td>44667.250</td>\n      <td>301320.29</td>\n    </tr>\n    <tr>\n      <th>1</th>\n      <td>COOLING MINT</td>\n      <td>7935</td>\n      <td>44157.520</td>\n      <td>280492.45</td>\n    </tr>\n    <tr>\n      <th>2</th>\n      <td>Jahoda bez cukru</td>\n      <td>7919</td>\n      <td>13398.600</td>\n      <td>88941.37</td>\n    </tr>\n    <tr>\n      <th>3</th>\n      <td>MED A CITRÓN</td>\n      <td>31677</td>\n      <td>149374.240</td>\n      <td>945308.40</td>\n    </tr>\n    <tr>\n      <th>4</th>\n      <td>Menthol a Eucalyptus</td>\n      <td>39560</td>\n      <td>2433.500</td>\n      <td>14849.97</td>\n    </tr>\n    <tr>\n      <th>5</th>\n      <td>ORIGINAL</td>\n      <td>15845</td>\n      <td>110.500</td>\n      <td>691.05</td>\n    </tr>\n    <tr>\n      <th>6</th>\n      <td>PLUS</td>\n      <td>15821</td>\n      <td>76760.689</td>\n      <td>566793.42</td>\n    </tr>\n    <tr>\n      <th>7</th>\n      <td>POMARANČ S VITAMÍNOM C</td>\n      <td>7934</td>\n      <td>26.500</td>\n      <td>163.60</td>\n    </tr>\n    <tr>\n      <th>8</th>\n      <td>Vitamin C</td>\n      <td>15829</td>\n      <td>59584.480</td>\n      <td>373220.80</td>\n    </tr>\n  </tbody>\n</table>\n</div>"
     },
     "metadata": {}
    }
   ],
   "source": [
    "strepsils = top20tab[\"R02AA20\"].sort_values(by='Počet_balení', ascending=False)\n",
    "\n",
    "for i,popis in enumerate(strepsils['LIEK_popis']):\n",
    "    if 'STREPSILS' not in popis and 'Strepsils' not in popis:\n",
    "        strepsils.iloc[i,4] = 'ine'\n",
    "      \n",
    "strepsils = strepsils.sort_values(by='LIEK_popis').iloc[0:20,:]\n",
    "\n",
    "for i,popis in enumerate(strepsils['LIEK_popis']):\n",
    "    if 'CITRON A BYLINY' in popis:\n",
    "        strepsils.iloc[i,4] = 'CITRON A BYLINY'\n",
    "    elif 'COOLING MINT' in popis:\n",
    "        strepsils.iloc[i,4] = 'COOLING MINT'\n",
    "    elif 'MED A CITRÓN' in popis:\n",
    "        strepsils.iloc[i,4] = 'MED A CITRÓN'\n",
    "    elif 'Med a Citrón' in popis:\n",
    "        strepsils.iloc[i,4] = 'MED A CITRÓN'\n",
    "    elif 'Menthol a Eucalyptus' in popis:\n",
    "        strepsils.iloc[i,4] = 'Menthol a Eucalyptus'\n",
    "    elif 'ORIGINAL' in popis:\n",
    "        strepsils.iloc[i,4] = 'ORIGINAL'\n",
    "    elif 'PLUS' in popis:\n",
    "        strepsils.iloc[i,4] = 'PLUS'\n",
    "    elif 'POMARANČ S VITAMÍNOM C' in popis:\n",
    "        strepsils.iloc[i,4] = 'POMARANČ S VITAMÍNOM C'\n",
    "    elif 'Vitamin C' in popis:\n",
    "        strepsils.iloc[i,4] = 'Vitamin C'\n",
    "    elif 'Jahoda bez cukru' in popis:\n",
    "        strepsils.iloc[i,4] = 'Jahoda bez cukru'\n",
    "strepsils = strepsils.groupby(['LIEK_popis']).sum().reset_index()\n",
    "\n",
    "display(strepsils)"
   ]
  },
  {
   "cell_type": "code",
   "execution_count": 139,
   "metadata": {},
   "outputs": [
    {
     "output_type": "display_data",
     "data": {
      "application/vnd.plotly.v1+json": {
       "config": {
        "plotlyServerURL": "https://plot.ly"
       },
       "data": [
        {
         "alignmentgroup": "True",
         "hovertemplate": "LIEK_popis=%{x}<br>Počet_balení=%{y}<extra></extra>",
         "legendgroup": "",
         "marker": {
          "color": "#636efa"
         },
         "name": "",
         "offsetgroup": "",
         "orientation": "v",
         "showlegend": false,
         "textposition": "auto",
         "type": "bar",
         "x": [
          "CITRON A BYLINY",
          "COOLING MINT",
          "Jahoda bez cukru",
          "MED A CITRÓN",
          "Menthol a Eucalyptus",
          "ORIGINAL",
          "PLUS",
          "POMARANČ S VITAMÍNOM C",
          "Vitamin C"
         ],
         "xaxis": "x",
         "y": [
          44667.25,
          44157.52,
          13398.6,
          149374.24,
          2433.5,
          110.5,
          76760.68900000001,
          26.5,
          59584.479999999996
         ],
         "yaxis": "y"
        }
       ],
       "layout": {
        "barmode": "relative",
        "legend": {
         "tracegroupgap": 0
        },
        "template": {
         "data": {
          "bar": [
           {
            "error_x": {
             "color": "#2a3f5f"
            },
            "error_y": {
             "color": "#2a3f5f"
            },
            "marker": {
             "line": {
              "color": "#E5ECF6",
              "width": 0.5
             }
            },
            "type": "bar"
           }
          ],
          "barpolar": [
           {
            "marker": {
             "line": {
              "color": "#E5ECF6",
              "width": 0.5
             }
            },
            "type": "barpolar"
           }
          ],
          "carpet": [
           {
            "aaxis": {
             "endlinecolor": "#2a3f5f",
             "gridcolor": "white",
             "linecolor": "white",
             "minorgridcolor": "white",
             "startlinecolor": "#2a3f5f"
            },
            "baxis": {
             "endlinecolor": "#2a3f5f",
             "gridcolor": "white",
             "linecolor": "white",
             "minorgridcolor": "white",
             "startlinecolor": "#2a3f5f"
            },
            "type": "carpet"
           }
          ],
          "choropleth": [
           {
            "colorbar": {
             "outlinewidth": 0,
             "ticks": ""
            },
            "type": "choropleth"
           }
          ],
          "contour": [
           {
            "colorbar": {
             "outlinewidth": 0,
             "ticks": ""
            },
            "colorscale": [
             [
              0,
              "#0d0887"
             ],
             [
              0.1111111111111111,
              "#46039f"
             ],
             [
              0.2222222222222222,
              "#7201a8"
             ],
             [
              0.3333333333333333,
              "#9c179e"
             ],
             [
              0.4444444444444444,
              "#bd3786"
             ],
             [
              0.5555555555555556,
              "#d8576b"
             ],
             [
              0.6666666666666666,
              "#ed7953"
             ],
             [
              0.7777777777777778,
              "#fb9f3a"
             ],
             [
              0.8888888888888888,
              "#fdca26"
             ],
             [
              1,
              "#f0f921"
             ]
            ],
            "type": "contour"
           }
          ],
          "contourcarpet": [
           {
            "colorbar": {
             "outlinewidth": 0,
             "ticks": ""
            },
            "type": "contourcarpet"
           }
          ],
          "heatmap": [
           {
            "colorbar": {
             "outlinewidth": 0,
             "ticks": ""
            },
            "colorscale": [
             [
              0,
              "#0d0887"
             ],
             [
              0.1111111111111111,
              "#46039f"
             ],
             [
              0.2222222222222222,
              "#7201a8"
             ],
             [
              0.3333333333333333,
              "#9c179e"
             ],
             [
              0.4444444444444444,
              "#bd3786"
             ],
             [
              0.5555555555555556,
              "#d8576b"
             ],
             [
              0.6666666666666666,
              "#ed7953"
             ],
             [
              0.7777777777777778,
              "#fb9f3a"
             ],
             [
              0.8888888888888888,
              "#fdca26"
             ],
             [
              1,
              "#f0f921"
             ]
            ],
            "type": "heatmap"
           }
          ],
          "heatmapgl": [
           {
            "colorbar": {
             "outlinewidth": 0,
             "ticks": ""
            },
            "colorscale": [
             [
              0,
              "#0d0887"
             ],
             [
              0.1111111111111111,
              "#46039f"
             ],
             [
              0.2222222222222222,
              "#7201a8"
             ],
             [
              0.3333333333333333,
              "#9c179e"
             ],
             [
              0.4444444444444444,
              "#bd3786"
             ],
             [
              0.5555555555555556,
              "#d8576b"
             ],
             [
              0.6666666666666666,
              "#ed7953"
             ],
             [
              0.7777777777777778,
              "#fb9f3a"
             ],
             [
              0.8888888888888888,
              "#fdca26"
             ],
             [
              1,
              "#f0f921"
             ]
            ],
            "type": "heatmapgl"
           }
          ],
          "histogram": [
           {
            "marker": {
             "colorbar": {
              "outlinewidth": 0,
              "ticks": ""
             }
            },
            "type": "histogram"
           }
          ],
          "histogram2d": [
           {
            "colorbar": {
             "outlinewidth": 0,
             "ticks": ""
            },
            "colorscale": [
             [
              0,
              "#0d0887"
             ],
             [
              0.1111111111111111,
              "#46039f"
             ],
             [
              0.2222222222222222,
              "#7201a8"
             ],
             [
              0.3333333333333333,
              "#9c179e"
             ],
             [
              0.4444444444444444,
              "#bd3786"
             ],
             [
              0.5555555555555556,
              "#d8576b"
             ],
             [
              0.6666666666666666,
              "#ed7953"
             ],
             [
              0.7777777777777778,
              "#fb9f3a"
             ],
             [
              0.8888888888888888,
              "#fdca26"
             ],
             [
              1,
              "#f0f921"
             ]
            ],
            "type": "histogram2d"
           }
          ],
          "histogram2dcontour": [
           {
            "colorbar": {
             "outlinewidth": 0,
             "ticks": ""
            },
            "colorscale": [
             [
              0,
              "#0d0887"
             ],
             [
              0.1111111111111111,
              "#46039f"
             ],
             [
              0.2222222222222222,
              "#7201a8"
             ],
             [
              0.3333333333333333,
              "#9c179e"
             ],
             [
              0.4444444444444444,
              "#bd3786"
             ],
             [
              0.5555555555555556,
              "#d8576b"
             ],
             [
              0.6666666666666666,
              "#ed7953"
             ],
             [
              0.7777777777777778,
              "#fb9f3a"
             ],
             [
              0.8888888888888888,
              "#fdca26"
             ],
             [
              1,
              "#f0f921"
             ]
            ],
            "type": "histogram2dcontour"
           }
          ],
          "mesh3d": [
           {
            "colorbar": {
             "outlinewidth": 0,
             "ticks": ""
            },
            "type": "mesh3d"
           }
          ],
          "parcoords": [
           {
            "line": {
             "colorbar": {
              "outlinewidth": 0,
              "ticks": ""
             }
            },
            "type": "parcoords"
           }
          ],
          "pie": [
           {
            "automargin": true,
            "type": "pie"
           }
          ],
          "scatter": [
           {
            "marker": {
             "colorbar": {
              "outlinewidth": 0,
              "ticks": ""
             }
            },
            "type": "scatter"
           }
          ],
          "scatter3d": [
           {
            "line": {
             "colorbar": {
              "outlinewidth": 0,
              "ticks": ""
             }
            },
            "marker": {
             "colorbar": {
              "outlinewidth": 0,
              "ticks": ""
             }
            },
            "type": "scatter3d"
           }
          ],
          "scattercarpet": [
           {
            "marker": {
             "colorbar": {
              "outlinewidth": 0,
              "ticks": ""
             }
            },
            "type": "scattercarpet"
           }
          ],
          "scattergeo": [
           {
            "marker": {
             "colorbar": {
              "outlinewidth": 0,
              "ticks": ""
             }
            },
            "type": "scattergeo"
           }
          ],
          "scattergl": [
           {
            "marker": {
             "colorbar": {
              "outlinewidth": 0,
              "ticks": ""
             }
            },
            "type": "scattergl"
           }
          ],
          "scattermapbox": [
           {
            "marker": {
             "colorbar": {
              "outlinewidth": 0,
              "ticks": ""
             }
            },
            "type": "scattermapbox"
           }
          ],
          "scatterpolar": [
           {
            "marker": {
             "colorbar": {
              "outlinewidth": 0,
              "ticks": ""
             }
            },
            "type": "scatterpolar"
           }
          ],
          "scatterpolargl": [
           {
            "marker": {
             "colorbar": {
              "outlinewidth": 0,
              "ticks": ""
             }
            },
            "type": "scatterpolargl"
           }
          ],
          "scatterternary": [
           {
            "marker": {
             "colorbar": {
              "outlinewidth": 0,
              "ticks": ""
             }
            },
            "type": "scatterternary"
           }
          ],
          "surface": [
           {
            "colorbar": {
             "outlinewidth": 0,
             "ticks": ""
            },
            "colorscale": [
             [
              0,
              "#0d0887"
             ],
             [
              0.1111111111111111,
              "#46039f"
             ],
             [
              0.2222222222222222,
              "#7201a8"
             ],
             [
              0.3333333333333333,
              "#9c179e"
             ],
             [
              0.4444444444444444,
              "#bd3786"
             ],
             [
              0.5555555555555556,
              "#d8576b"
             ],
             [
              0.6666666666666666,
              "#ed7953"
             ],
             [
              0.7777777777777778,
              "#fb9f3a"
             ],
             [
              0.8888888888888888,
              "#fdca26"
             ],
             [
              1,
              "#f0f921"
             ]
            ],
            "type": "surface"
           }
          ],
          "table": [
           {
            "cells": {
             "fill": {
              "color": "#EBF0F8"
             },
             "line": {
              "color": "white"
             }
            },
            "header": {
             "fill": {
              "color": "#C8D4E3"
             },
             "line": {
              "color": "white"
             }
            },
            "type": "table"
           }
          ]
         },
         "layout": {
          "annotationdefaults": {
           "arrowcolor": "#2a3f5f",
           "arrowhead": 0,
           "arrowwidth": 1
          },
          "autotypenumbers": "strict",
          "coloraxis": {
           "colorbar": {
            "outlinewidth": 0,
            "ticks": ""
           }
          },
          "colorscale": {
           "diverging": [
            [
             0,
             "#8e0152"
            ],
            [
             0.1,
             "#c51b7d"
            ],
            [
             0.2,
             "#de77ae"
            ],
            [
             0.3,
             "#f1b6da"
            ],
            [
             0.4,
             "#fde0ef"
            ],
            [
             0.5,
             "#f7f7f7"
            ],
            [
             0.6,
             "#e6f5d0"
            ],
            [
             0.7,
             "#b8e186"
            ],
            [
             0.8,
             "#7fbc41"
            ],
            [
             0.9,
             "#4d9221"
            ],
            [
             1,
             "#276419"
            ]
           ],
           "sequential": [
            [
             0,
             "#0d0887"
            ],
            [
             0.1111111111111111,
             "#46039f"
            ],
            [
             0.2222222222222222,
             "#7201a8"
            ],
            [
             0.3333333333333333,
             "#9c179e"
            ],
            [
             0.4444444444444444,
             "#bd3786"
            ],
            [
             0.5555555555555556,
             "#d8576b"
            ],
            [
             0.6666666666666666,
             "#ed7953"
            ],
            [
             0.7777777777777778,
             "#fb9f3a"
            ],
            [
             0.8888888888888888,
             "#fdca26"
            ],
            [
             1,
             "#f0f921"
            ]
           ],
           "sequentialminus": [
            [
             0,
             "#0d0887"
            ],
            [
             0.1111111111111111,
             "#46039f"
            ],
            [
             0.2222222222222222,
             "#7201a8"
            ],
            [
             0.3333333333333333,
             "#9c179e"
            ],
            [
             0.4444444444444444,
             "#bd3786"
            ],
            [
             0.5555555555555556,
             "#d8576b"
            ],
            [
             0.6666666666666666,
             "#ed7953"
            ],
            [
             0.7777777777777778,
             "#fb9f3a"
            ],
            [
             0.8888888888888888,
             "#fdca26"
            ],
            [
             1,
             "#f0f921"
            ]
           ]
          },
          "colorway": [
           "#636efa",
           "#EF553B",
           "#00cc96",
           "#ab63fa",
           "#FFA15A",
           "#19d3f3",
           "#FF6692",
           "#B6E880",
           "#FF97FF",
           "#FECB52"
          ],
          "font": {
           "color": "#2a3f5f"
          },
          "geo": {
           "bgcolor": "white",
           "lakecolor": "white",
           "landcolor": "#E5ECF6",
           "showlakes": true,
           "showland": true,
           "subunitcolor": "white"
          },
          "hoverlabel": {
           "align": "left"
          },
          "hovermode": "closest",
          "mapbox": {
           "style": "light"
          },
          "paper_bgcolor": "white",
          "plot_bgcolor": "#E5ECF6",
          "polar": {
           "angularaxis": {
            "gridcolor": "white",
            "linecolor": "white",
            "ticks": ""
           },
           "bgcolor": "#E5ECF6",
           "radialaxis": {
            "gridcolor": "white",
            "linecolor": "white",
            "ticks": ""
           }
          },
          "scene": {
           "xaxis": {
            "backgroundcolor": "#E5ECF6",
            "gridcolor": "white",
            "gridwidth": 2,
            "linecolor": "white",
            "showbackground": true,
            "ticks": "",
            "zerolinecolor": "white"
           },
           "yaxis": {
            "backgroundcolor": "#E5ECF6",
            "gridcolor": "white",
            "gridwidth": 2,
            "linecolor": "white",
            "showbackground": true,
            "ticks": "",
            "zerolinecolor": "white"
           },
           "zaxis": {
            "backgroundcolor": "#E5ECF6",
            "gridcolor": "white",
            "gridwidth": 2,
            "linecolor": "white",
            "showbackground": true,
            "ticks": "",
            "zerolinecolor": "white"
           }
          },
          "shapedefaults": {
           "line": {
            "color": "#2a3f5f"
           }
          },
          "ternary": {
           "aaxis": {
            "gridcolor": "white",
            "linecolor": "white",
            "ticks": ""
           },
           "baxis": {
            "gridcolor": "white",
            "linecolor": "white",
            "ticks": ""
           },
           "bgcolor": "#E5ECF6",
           "caxis": {
            "gridcolor": "white",
            "linecolor": "white",
            "ticks": ""
           }
          },
          "title": {
           "x": 0.05
          },
          "xaxis": {
           "automargin": true,
           "gridcolor": "white",
           "linecolor": "white",
           "ticks": "",
           "title": {
            "standoff": 15
           },
           "zerolinecolor": "white",
           "zerolinewidth": 2
          },
          "yaxis": {
           "automargin": true,
           "gridcolor": "white",
           "linecolor": "white",
           "ticks": "",
           "title": {
            "standoff": 15
           },
           "zerolinecolor": "white",
           "zerolinewidth": 2
          }
         }
        },
        "title": {
         "text": "Ktora prichut Strepsils pastiliek je najpredavanejsia?"
        },
        "xaxis": {
         "anchor": "y",
         "domain": [
          0,
          1
         ],
         "tickangle": 45,
         "title": {
          "text": "LIEK_popis"
         }
        },
        "yaxis": {
         "anchor": "x",
         "domain": [
          0,
          1
         ],
         "title": {
          "text": "Počet_balení"
         }
        }
       }
      }
     },
     "metadata": {}
    }
   ],
   "source": [
    "fig = px.bar(strepsils, x='LIEK_popis', y='Počet_balení', title='Ktora prichut Strepsils pastiliek je najpredavanejsia?')\n",
    "fig.update_xaxes(tickangle=45)\n",
    "fig.show()"
   ]
  },
  {
   "cell_type": "code",
   "execution_count": 140,
   "metadata": {},
   "outputs": [
    {
     "output_type": "display_data",
     "data": {
      "application/vnd.plotly.v1+json": {
       "config": {
        "plotlyServerURL": "https://plot.ly"
       },
       "data": [
        {
         "domain": {
          "x": [
           0,
           1
          ],
          "y": [
           0,
           1
          ]
         },
         "hovertemplate": "LIEK_popis=%{label}<br>Počet_balení=%{value}<extra></extra>",
         "labels": [
          "CITRON A BYLINY",
          "COOLING MINT",
          "Jahoda bez cukru",
          "MED A CITRÓN",
          "Menthol a Eucalyptus",
          "ORIGINAL",
          "PLUS",
          "POMARANČ S VITAMÍNOM C",
          "Vitamin C"
         ],
         "legendgroup": "",
         "name": "",
         "showlegend": true,
         "type": "pie",
         "values": [
          44667.25,
          44157.52,
          13398.6,
          149374.24,
          2433.5,
          110.5,
          76760.68900000001,
          26.5,
          59584.479999999996
         ]
        }
       ],
       "layout": {
        "legend": {
         "tracegroupgap": 0
        },
        "template": {
         "data": {
          "bar": [
           {
            "error_x": {
             "color": "#2a3f5f"
            },
            "error_y": {
             "color": "#2a3f5f"
            },
            "marker": {
             "line": {
              "color": "#E5ECF6",
              "width": 0.5
             }
            },
            "type": "bar"
           }
          ],
          "barpolar": [
           {
            "marker": {
             "line": {
              "color": "#E5ECF6",
              "width": 0.5
             }
            },
            "type": "barpolar"
           }
          ],
          "carpet": [
           {
            "aaxis": {
             "endlinecolor": "#2a3f5f",
             "gridcolor": "white",
             "linecolor": "white",
             "minorgridcolor": "white",
             "startlinecolor": "#2a3f5f"
            },
            "baxis": {
             "endlinecolor": "#2a3f5f",
             "gridcolor": "white",
             "linecolor": "white",
             "minorgridcolor": "white",
             "startlinecolor": "#2a3f5f"
            },
            "type": "carpet"
           }
          ],
          "choropleth": [
           {
            "colorbar": {
             "outlinewidth": 0,
             "ticks": ""
            },
            "type": "choropleth"
           }
          ],
          "contour": [
           {
            "colorbar": {
             "outlinewidth": 0,
             "ticks": ""
            },
            "colorscale": [
             [
              0,
              "#0d0887"
             ],
             [
              0.1111111111111111,
              "#46039f"
             ],
             [
              0.2222222222222222,
              "#7201a8"
             ],
             [
              0.3333333333333333,
              "#9c179e"
             ],
             [
              0.4444444444444444,
              "#bd3786"
             ],
             [
              0.5555555555555556,
              "#d8576b"
             ],
             [
              0.6666666666666666,
              "#ed7953"
             ],
             [
              0.7777777777777778,
              "#fb9f3a"
             ],
             [
              0.8888888888888888,
              "#fdca26"
             ],
             [
              1,
              "#f0f921"
             ]
            ],
            "type": "contour"
           }
          ],
          "contourcarpet": [
           {
            "colorbar": {
             "outlinewidth": 0,
             "ticks": ""
            },
            "type": "contourcarpet"
           }
          ],
          "heatmap": [
           {
            "colorbar": {
             "outlinewidth": 0,
             "ticks": ""
            },
            "colorscale": [
             [
              0,
              "#0d0887"
             ],
             [
              0.1111111111111111,
              "#46039f"
             ],
             [
              0.2222222222222222,
              "#7201a8"
             ],
             [
              0.3333333333333333,
              "#9c179e"
             ],
             [
              0.4444444444444444,
              "#bd3786"
             ],
             [
              0.5555555555555556,
              "#d8576b"
             ],
             [
              0.6666666666666666,
              "#ed7953"
             ],
             [
              0.7777777777777778,
              "#fb9f3a"
             ],
             [
              0.8888888888888888,
              "#fdca26"
             ],
             [
              1,
              "#f0f921"
             ]
            ],
            "type": "heatmap"
           }
          ],
          "heatmapgl": [
           {
            "colorbar": {
             "outlinewidth": 0,
             "ticks": ""
            },
            "colorscale": [
             [
              0,
              "#0d0887"
             ],
             [
              0.1111111111111111,
              "#46039f"
             ],
             [
              0.2222222222222222,
              "#7201a8"
             ],
             [
              0.3333333333333333,
              "#9c179e"
             ],
             [
              0.4444444444444444,
              "#bd3786"
             ],
             [
              0.5555555555555556,
              "#d8576b"
             ],
             [
              0.6666666666666666,
              "#ed7953"
             ],
             [
              0.7777777777777778,
              "#fb9f3a"
             ],
             [
              0.8888888888888888,
              "#fdca26"
             ],
             [
              1,
              "#f0f921"
             ]
            ],
            "type": "heatmapgl"
           }
          ],
          "histogram": [
           {
            "marker": {
             "colorbar": {
              "outlinewidth": 0,
              "ticks": ""
             }
            },
            "type": "histogram"
           }
          ],
          "histogram2d": [
           {
            "colorbar": {
             "outlinewidth": 0,
             "ticks": ""
            },
            "colorscale": [
             [
              0,
              "#0d0887"
             ],
             [
              0.1111111111111111,
              "#46039f"
             ],
             [
              0.2222222222222222,
              "#7201a8"
             ],
             [
              0.3333333333333333,
              "#9c179e"
             ],
             [
              0.4444444444444444,
              "#bd3786"
             ],
             [
              0.5555555555555556,
              "#d8576b"
             ],
             [
              0.6666666666666666,
              "#ed7953"
             ],
             [
              0.7777777777777778,
              "#fb9f3a"
             ],
             [
              0.8888888888888888,
              "#fdca26"
             ],
             [
              1,
              "#f0f921"
             ]
            ],
            "type": "histogram2d"
           }
          ],
          "histogram2dcontour": [
           {
            "colorbar": {
             "outlinewidth": 0,
             "ticks": ""
            },
            "colorscale": [
             [
              0,
              "#0d0887"
             ],
             [
              0.1111111111111111,
              "#46039f"
             ],
             [
              0.2222222222222222,
              "#7201a8"
             ],
             [
              0.3333333333333333,
              "#9c179e"
             ],
             [
              0.4444444444444444,
              "#bd3786"
             ],
             [
              0.5555555555555556,
              "#d8576b"
             ],
             [
              0.6666666666666666,
              "#ed7953"
             ],
             [
              0.7777777777777778,
              "#fb9f3a"
             ],
             [
              0.8888888888888888,
              "#fdca26"
             ],
             [
              1,
              "#f0f921"
             ]
            ],
            "type": "histogram2dcontour"
           }
          ],
          "mesh3d": [
           {
            "colorbar": {
             "outlinewidth": 0,
             "ticks": ""
            },
            "type": "mesh3d"
           }
          ],
          "parcoords": [
           {
            "line": {
             "colorbar": {
              "outlinewidth": 0,
              "ticks": ""
             }
            },
            "type": "parcoords"
           }
          ],
          "pie": [
           {
            "automargin": true,
            "type": "pie"
           }
          ],
          "scatter": [
           {
            "marker": {
             "colorbar": {
              "outlinewidth": 0,
              "ticks": ""
             }
            },
            "type": "scatter"
           }
          ],
          "scatter3d": [
           {
            "line": {
             "colorbar": {
              "outlinewidth": 0,
              "ticks": ""
             }
            },
            "marker": {
             "colorbar": {
              "outlinewidth": 0,
              "ticks": ""
             }
            },
            "type": "scatter3d"
           }
          ],
          "scattercarpet": [
           {
            "marker": {
             "colorbar": {
              "outlinewidth": 0,
              "ticks": ""
             }
            },
            "type": "scattercarpet"
           }
          ],
          "scattergeo": [
           {
            "marker": {
             "colorbar": {
              "outlinewidth": 0,
              "ticks": ""
             }
            },
            "type": "scattergeo"
           }
          ],
          "scattergl": [
           {
            "marker": {
             "colorbar": {
              "outlinewidth": 0,
              "ticks": ""
             }
            },
            "type": "scattergl"
           }
          ],
          "scattermapbox": [
           {
            "marker": {
             "colorbar": {
              "outlinewidth": 0,
              "ticks": ""
             }
            },
            "type": "scattermapbox"
           }
          ],
          "scatterpolar": [
           {
            "marker": {
             "colorbar": {
              "outlinewidth": 0,
              "ticks": ""
             }
            },
            "type": "scatterpolar"
           }
          ],
          "scatterpolargl": [
           {
            "marker": {
             "colorbar": {
              "outlinewidth": 0,
              "ticks": ""
             }
            },
            "type": "scatterpolargl"
           }
          ],
          "scatterternary": [
           {
            "marker": {
             "colorbar": {
              "outlinewidth": 0,
              "ticks": ""
             }
            },
            "type": "scatterternary"
           }
          ],
          "surface": [
           {
            "colorbar": {
             "outlinewidth": 0,
             "ticks": ""
            },
            "colorscale": [
             [
              0,
              "#0d0887"
             ],
             [
              0.1111111111111111,
              "#46039f"
             ],
             [
              0.2222222222222222,
              "#7201a8"
             ],
             [
              0.3333333333333333,
              "#9c179e"
             ],
             [
              0.4444444444444444,
              "#bd3786"
             ],
             [
              0.5555555555555556,
              "#d8576b"
             ],
             [
              0.6666666666666666,
              "#ed7953"
             ],
             [
              0.7777777777777778,
              "#fb9f3a"
             ],
             [
              0.8888888888888888,
              "#fdca26"
             ],
             [
              1,
              "#f0f921"
             ]
            ],
            "type": "surface"
           }
          ],
          "table": [
           {
            "cells": {
             "fill": {
              "color": "#EBF0F8"
             },
             "line": {
              "color": "white"
             }
            },
            "header": {
             "fill": {
              "color": "#C8D4E3"
             },
             "line": {
              "color": "white"
             }
            },
            "type": "table"
           }
          ]
         },
         "layout": {
          "annotationdefaults": {
           "arrowcolor": "#2a3f5f",
           "arrowhead": 0,
           "arrowwidth": 1
          },
          "autotypenumbers": "strict",
          "coloraxis": {
           "colorbar": {
            "outlinewidth": 0,
            "ticks": ""
           }
          },
          "colorscale": {
           "diverging": [
            [
             0,
             "#8e0152"
            ],
            [
             0.1,
             "#c51b7d"
            ],
            [
             0.2,
             "#de77ae"
            ],
            [
             0.3,
             "#f1b6da"
            ],
            [
             0.4,
             "#fde0ef"
            ],
            [
             0.5,
             "#f7f7f7"
            ],
            [
             0.6,
             "#e6f5d0"
            ],
            [
             0.7,
             "#b8e186"
            ],
            [
             0.8,
             "#7fbc41"
            ],
            [
             0.9,
             "#4d9221"
            ],
            [
             1,
             "#276419"
            ]
           ],
           "sequential": [
            [
             0,
             "#0d0887"
            ],
            [
             0.1111111111111111,
             "#46039f"
            ],
            [
             0.2222222222222222,
             "#7201a8"
            ],
            [
             0.3333333333333333,
             "#9c179e"
            ],
            [
             0.4444444444444444,
             "#bd3786"
            ],
            [
             0.5555555555555556,
             "#d8576b"
            ],
            [
             0.6666666666666666,
             "#ed7953"
            ],
            [
             0.7777777777777778,
             "#fb9f3a"
            ],
            [
             0.8888888888888888,
             "#fdca26"
            ],
            [
             1,
             "#f0f921"
            ]
           ],
           "sequentialminus": [
            [
             0,
             "#0d0887"
            ],
            [
             0.1111111111111111,
             "#46039f"
            ],
            [
             0.2222222222222222,
             "#7201a8"
            ],
            [
             0.3333333333333333,
             "#9c179e"
            ],
            [
             0.4444444444444444,
             "#bd3786"
            ],
            [
             0.5555555555555556,
             "#d8576b"
            ],
            [
             0.6666666666666666,
             "#ed7953"
            ],
            [
             0.7777777777777778,
             "#fb9f3a"
            ],
            [
             0.8888888888888888,
             "#fdca26"
            ],
            [
             1,
             "#f0f921"
            ]
           ]
          },
          "colorway": [
           "#636efa",
           "#EF553B",
           "#00cc96",
           "#ab63fa",
           "#FFA15A",
           "#19d3f3",
           "#FF6692",
           "#B6E880",
           "#FF97FF",
           "#FECB52"
          ],
          "font": {
           "color": "#2a3f5f"
          },
          "geo": {
           "bgcolor": "white",
           "lakecolor": "white",
           "landcolor": "#E5ECF6",
           "showlakes": true,
           "showland": true,
           "subunitcolor": "white"
          },
          "hoverlabel": {
           "align": "left"
          },
          "hovermode": "closest",
          "mapbox": {
           "style": "light"
          },
          "paper_bgcolor": "white",
          "plot_bgcolor": "#E5ECF6",
          "polar": {
           "angularaxis": {
            "gridcolor": "white",
            "linecolor": "white",
            "ticks": ""
           },
           "bgcolor": "#E5ECF6",
           "radialaxis": {
            "gridcolor": "white",
            "linecolor": "white",
            "ticks": ""
           }
          },
          "scene": {
           "xaxis": {
            "backgroundcolor": "#E5ECF6",
            "gridcolor": "white",
            "gridwidth": 2,
            "linecolor": "white",
            "showbackground": true,
            "ticks": "",
            "zerolinecolor": "white"
           },
           "yaxis": {
            "backgroundcolor": "#E5ECF6",
            "gridcolor": "white",
            "gridwidth": 2,
            "linecolor": "white",
            "showbackground": true,
            "ticks": "",
            "zerolinecolor": "white"
           },
           "zaxis": {
            "backgroundcolor": "#E5ECF6",
            "gridcolor": "white",
            "gridwidth": 2,
            "linecolor": "white",
            "showbackground": true,
            "ticks": "",
            "zerolinecolor": "white"
           }
          },
          "shapedefaults": {
           "line": {
            "color": "#2a3f5f"
           }
          },
          "ternary": {
           "aaxis": {
            "gridcolor": "white",
            "linecolor": "white",
            "ticks": ""
           },
           "baxis": {
            "gridcolor": "white",
            "linecolor": "white",
            "ticks": ""
           },
           "bgcolor": "#E5ECF6",
           "caxis": {
            "gridcolor": "white",
            "linecolor": "white",
            "ticks": ""
           }
          },
          "title": {
           "x": 0.05
          },
          "xaxis": {
           "automargin": true,
           "gridcolor": "white",
           "linecolor": "white",
           "ticks": "",
           "title": {
            "standoff": 15
           },
           "zerolinecolor": "white",
           "zerolinewidth": 2
          },
          "yaxis": {
           "automargin": true,
           "gridcolor": "white",
           "linecolor": "white",
           "ticks": "",
           "title": {
            "standoff": 15
           },
           "zerolinecolor": "white",
           "zerolinewidth": 2
          }
         }
        },
        "title": {
         "text": "Ktora prichut Strepsils pastiliek je najpredavanejsia?"
        }
       }
      }
     },
     "metadata": {}
    }
   ],
   "source": [
    "fig = px.pie(strepsils, names='LIEK_popis', values='Počet_balení', title='Ktora prichut Strepsils pastiliek je najpredavanejsia?')\n",
    "fig.show()"
   ]
  }
 ]
}